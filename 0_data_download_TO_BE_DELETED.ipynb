{
 "cells": [
  {
   "cell_type": "code",
   "execution_count": null,
   "metadata": {},
   "outputs": [],
   "source": [
    "!python3 /home/jmrich/Desktop/RLSRWP_2025/scripts/run_varseek_count_for_benchmarking.py --index /home/jmrich/Desktop/RLSRWP_2025/data/vk_ref_out/vcrs_index.idx --t2g /home/jmrich/Desktop/RLSRWP_2025/data/vk_ref_out/vcrs_t2g_filtered.txt --technology bulk --threads 16 -k 51 --out tmp/vk_count_threads_1000_reads_out --kb_count_reference_genome_out_dir tmp/kb_count_reference_genome_out_dir_1000 --disable_clean --disable_summarize tmp/reads_1000_fastq.fastq"
   ]
  },
  {
   "cell_type": "code",
   "execution_count": 4,
   "metadata": {},
   "outputs": [
    {
     "name": "stderr",
     "output_type": "stream",
     "text": [
      "00:13:40 - WARNING - Automatic FASTQ argument order sorting for kb count could not recognize FASTQ file name format. Skipping argument order sorting.\n",
      "00:13:40 - INFO - Setting length_required to 51 if fastqpp is run\n",
      "00:13:40 - INFO - Skipping vk fastqpp because there was no use for it\n",
      "00:13:40 - INFO - Running kb count with command: kb count -t 16 -k 51 -i /home/jmrich/Desktop/RLSRWP_2025/data/vk_ref_out/vcrs_index.idx -g /home/jmrich/Desktop/RLSRWP_2025/data/vk_ref_out/vcrs_t2g_filtered.txt -x bulk --h5ad --parity single --strand unstranded -o tmp/vk_count_threads_1000_reads_out2/kb_count_out_vcrs --overwrite --num tmp/reads_1000_fastq.fastq\n",
      "[2025-03-14 00:13:47,418]    INFO [count] Using index /home/jmrich/Desktop/RLSRWP_2025/data/vk_ref_out/vcrs_index.idx to generate BUS file to tmp/vk_count_threads_1000_reads_out2/kb_count_out_vcrs from\n",
      "[2025-03-14 00:13:47,418]    INFO [count]         tmp/reads_1000_fastq.fastq\n",
      "[2025-03-14 00:14:10,113]    INFO [count] Sorting BUS file tmp/vk_count_threads_1000_reads_out2/kb_count_out_vcrs/output.bus to tmp/vk_count_threads_1000_reads_out2/kb_count_out_vcrs/tmp/output.s.bus\n",
      "[2025-03-14 00:14:12,019]    INFO [count] Inspecting BUS file tmp/vk_count_threads_1000_reads_out2/kb_count_out_vcrs/tmp/output.s.bus\n",
      "[2025-03-14 00:14:13,123]    INFO [count] Generating count matrix tmp/vk_count_threads_1000_reads_out2/kb_count_out_vcrs/counts_unfiltered/cells_x_genes from BUS file tmp/vk_count_threads_1000_reads_out2/kb_count_out_vcrs/tmp/output.s.bus\n",
      "[2025-03-14 00:14:40,402]    INFO [count] Writing gene names to file tmp/vk_count_threads_1000_reads_out2/kb_count_out_vcrs/counts_unfiltered/cells_x_genes.genes.names.txt\n",
      "[2025-03-14 00:14:49,804] WARNING [count] 5345528 gene IDs do not have corresponding valid gene names. These genes will use their gene IDs instead.\n",
      "[2025-03-14 00:14:51,419]    INFO [count] Reading matrix tmp/vk_count_threads_1000_reads_out2/kb_count_out_vcrs/counts_unfiltered/cells_x_genes.mtx\n",
      "[2025-03-14 00:15:33,832]    INFO [count] Writing matrix to h5ad tmp/vk_count_threads_1000_reads_out2/kb_count_out_vcrs/counts_unfiltered/adata.h5ad\n",
      "00:15:37 - INFO - Skipping kb count for reference genome because the reference genome adata object was not needed and/or the file 'kb_count_reference_genome_out_dir_1000_2/counts_unfiltered/adata.h5ad' already exists. Note that even setting overwrite=True will still not overwrite this particular directory\n",
      "00:15:37 - INFO - Skipping vk clean because disable_clean=True\n",
      "00:15:37 - INFO - Skipping vk summarize because disable_summarize=True\n",
      "00:15:37 - INFO - Total runtime for vk count: 1m, 57.37s\n"
     ]
    },
    {
     "data": {
      "text/plain": [
       "{'adata_path_unprocessed': '/home/jmrich/Desktop/RLSRWP_2025/tmp/vk_count_threads_1000_reads_out2/kb_count_out_vcrs/counts_unfiltered/adata.h5ad',\n",
       " 'adata_path_reference_genome_unprocessed': None,\n",
       " 'adata_path': None,\n",
       " 'adata_path_reference_genome': None,\n",
       " 'vcf': None,\n",
       " 'vk_summarize_output_dir': None}"
      ]
     },
     "execution_count": 4,
     "metadata": {},
     "output_type": "execute_result"
    }
   ],
   "source": [
    "import varseek as vk\n",
    "vk.count(\n",
    "    \"tmp/reads_1000_fastq.fastq\",\n",
    "    index=\"/home/jmrich/Desktop/RLSRWP_2025/data/vk_ref_out/vcrs_index.idx\",\n",
    "    t2g=\"/home/jmrich/Desktop/RLSRWP_2025/data/vk_ref_out/vcrs_t2g_filtered.txt\",\n",
    "    technology=\"bulk\",\n",
    "    threads=\"16\",\n",
    "    k=51,\n",
    "    out=\"tmp/vk_count_threads_1000_reads_out2\",\n",
    "    kb_count_reference_genome_out_dir=\"kb_count_reference_genome_out_dir_1000_2\",\n",
    "    disable_clean=True,\n",
    "    disable_summarize=True\n",
    ")"
   ]
  },
  {
   "cell_type": "code",
   "execution_count": 2,
   "metadata": {},
   "outputs": [
    {
     "name": "stdout",
     "output_type": "stream",
     "text": [
      "Traceback (most recent call last):\n",
      "  File \"/home/jmrich/Desktop/RLSRWP_2025/scripts/run_varseek_count_for_benchmarking.py\", line 4, in <module>\n",
      "    vk.count(*positional_args, **keyword_args)\n",
      "  File \"/home/jmrich/Desktop/varseek/varseek/varseek_count.py\", line 248, in count\n",
      "    vk.varseek_fastqpp.validate_input_fastqpp(params_dict)  # this passes all vk count parameters to the function - I could only pass in the vk fastqpp parameters here if desired (and likewise below), but there should be no naming conflicts anyways\n",
      "  File \"/home/jmrich/Desktop/varseek/varseek/varseek_fastqpp.py\", line 47, in validate_input_fastqpp\n",
      "    check_file_path_is_string_with_valid_extension(fastq, variable_name=fastq, file_type=\"fastq\")  # ensure that all fastq files have valid extension\n",
      "  File \"/home/jmrich/Desktop/varseek/varseek/utils/logger_utils.py\", line 124, in check_file_path_is_string_with_valid_extension\n",
      "    raise ValueError(f\"Invalid file extension for {variable_name}. Must be one of {valid_extensions_for_file_type}\")\n",
      "ValueError: Invalid file extension for -k. Must be one of {'.fq', '.fastq'}\n",
      "Command exited with non-zero status 1\n",
      "\tCommand being timed: \"python3 /home/jmrich/Desktop/RLSRWP_2025/scripts/run_varseek_count_for_benchmarking.py --index /home/jmrich/Desktop/RLSRWP_2025/data/vk_ref_out/vcrs_index.idx --t2g /home/jmrich/Desktop/RLSRWP_2025/data/vk_ref_out/vcrs_t2g_filtered.txt --technology bulk --threads 16 -k 51 --out tmp/vk_count_threads_1000_reads_out --kb_count_reference_genome_out_dir tmp/kb_count_reference_genome_out_dir_1000 --disable_clean --disable_summarize tmp/reads_1000_fastq.fastq\"\n",
      "\tUser time (seconds): 14.10\n",
      "\tSystem time (seconds): 4.11\n",
      "\tPercent of CPU this job got: 605%\n",
      "\tElapsed (wall clock) time (h:mm:ss or m:ss): 0:03.01\n",
      "\tAverage shared text size (kbytes): 0\n",
      "\tAverage unshared data size (kbytes): 0\n",
      "\tAverage stack size (kbytes): 0\n",
      "\tAverage total size (kbytes): 0\n",
      "\tMaximum resident set size (kbytes): 197412\n",
      "\tAverage resident set size (kbytes): 0\n",
      "\tMajor (requiring I/O) page faults: 0\n",
      "\tMinor (reclaiming a frame) page faults: 47910\n",
      "\tVoluntary context switches: 259\n",
      "\tInvoluntary context switches: 120\n",
      "\tSwaps: 0\n",
      "\tFile system inputs: 0\n",
      "\tFile system outputs: 0\n",
      "\tSocket messages sent: 0\n",
      "\tSocket messages received: 0\n",
      "\tSignals delivered: 0\n",
      "\tPage size (bytes): 4096\n",
      "\tExit status: 1\n"
     ]
    }
   ],
   "source": [
    "!/usr/bin/time -v python3 /home/jmrich/Desktop/RLSRWP_2025/scripts/run_varseek_count_for_benchmarking.py --index /home/jmrich/Desktop/RLSRWP_2025/data/vk_ref_out/vcrs_index.idx --t2g /home/jmrich/Desktop/RLSRWP_2025/data/vk_ref_out/vcrs_t2g_filtered.txt --technology bulk --threads 16 -k 51 --out tmp/vk_count_threads_1000_reads_out --kb_count_reference_genome_out_dir tmp/kb_count_reference_genome_out_dir_1000 --disable_clean --disable_summarize tmp/reads_1000_fastq.fastq"
   ]
  },
  {
   "cell_type": "code",
   "execution_count": null,
   "metadata": {},
   "outputs": [],
   "source": [
    "#* this will be a standard procedure in these notebooks\n",
    "# from varseek.utils import ...  # for functions used in both varseek and here\n",
    "# from RLSRWP_2025 import ...  # for functions only used here"
   ]
  },
  {
   "cell_type": "code",
   "execution_count": 3,
   "metadata": {},
   "outputs": [],
   "source": [
    "import os\n",
    "from varseek.utils import make_entex_df, download_entex_fastq_links\n",
    "data_directory = os.path.dirname(os.path.abspath(\"\"))  # if this notebook resides in varseek/notebooks/0_data_download.ipynb, then this retrieves varseek\n",
    "sequencing_data_download_base = os.path.join(data_directory, \"data\", \"sequencing\")\n",
    "os.makedirs(sequencing_data_download_base, exist_ok=True)"
   ]
  },
  {
   "cell_type": "markdown",
   "metadata": {},
   "source": [
    "# Bulk, CCLE - run script"
   ]
  },
  {
   "cell_type": "markdown",
   "metadata": {},
   "source": [
    "# Bulk, Healthy Entex - see varseek/scripts/download_entex_data.py for script version"
   ]
  },
  {
   "cell_type": "code",
   "execution_count": null,
   "metadata": {},
   "outputs": [],
   "source": [
    "entex_data_download_base = os.path.join(sequencing_data_download_base, \"bulk\", \"entex\")\n",
    "tissue = \"upper lobe of left lung\"  # print(sorted(set(entex_df['tissue']), key=str.lower))  # uncomment to see the list of tissue selections\n",
    "entex_df = make_entex_df()\n",
    "download_entex_fastq_links(entex_df, tissue=tissue, data_download_base=sequencing_data_download_base)"
   ]
  },
  {
   "cell_type": "markdown",
   "metadata": {},
   "source": [
    "scRNA-seq, illumina, cancer (melanoma)"
   ]
  },
  {
   "cell_type": "code",
   "execution_count": null,
   "metadata": {},
   "outputs": [],
   "source": [
    "melanoma_dir = os.path.join(sequencing_data_download_base, \"sc/melanoma_10x\")\n",
    "os.makedirs(melanoma_dir, exist_ok=True)\n",
    "\n",
    "!cd {melanoma_dir} && !curl -O https://s3-us-west-2.amazonaws.com/10x.files/samples/cell-exp/8.0.0/10k_Human_DTC_Melanoma_3p_nextgem_Multiplex/10k_Human_DTC_Melanoma_3p_nextgem_Multiplex_fastqs.tar && tar -xvf 10k_Human_DTC_Melanoma_3p_nextgem_Multiplex_fastqs.tar"
   ]
  },
  {
   "cell_type": "markdown",
   "metadata": {},
   "source": [
    "# scRNA-seq, illumina, cancer (NSCLC)"
   ]
  },
  {
   "cell_type": "code",
   "execution_count": null,
   "metadata": {},
   "outputs": [],
   "source": [
    "# https://www.10xgenomics.com/datasets/40-k-mixture-of-nsclc-dt-cs-from-7-donors-3-ht-v-3-1-3-1-high-6-1-0\n",
    "nsclc_dir = os.path.join(sequencing_data_download_base, \"sc/nsclc_10x_40k\")\n",
    "os.makedirs(nsclc_dir, exist_ok=True)\n",
    "!cd {nsclc_dir} && curl -O https://s3-us-west-2.amazonaws.com/10x.files/samples/cell-exp/6.1.0/40k_NSCLC_DTC_3p_HT_nextgem_Multiplex/40k_NSCLC_DTC_3p_HT_nextgem_Multiplex_fastqs.tar && tar -xvf 40k_NSCLC_DTC_3p_HT_nextgem_Multiplex_fastqs.tar"
   ]
  },
  {
   "cell_type": "markdown",
   "metadata": {},
   "source": [
    "# scRNA-seq, illumina, healthy"
   ]
  },
  {
   "cell_type": "code",
   "execution_count": null,
   "metadata": {},
   "outputs": [],
   "source": [
    "# https://www.10xgenomics.com/datasets/10k-human-pbmcs-3-v3-1-chromium-x-without-introns-3-1-high\n",
    "pbmc_dir = os.path.join(sequencing_data_download_base, \"sc/pbmc_10x\")\n",
    "os.makedirs(pbmc_dir, exist_ok=True)\n",
    "!cd {pbmc_dir} && curl -O https://s3-us-west-2.amazonaws.com/10x.files/samples/cell-exp/6.1.2/10k_PBMC_3p_nextgem_Chromium_X/10k_PBMC_3p_nextgem_Chromium_X_fastqs.tar && tar -xvf 10k_PBMC_3p_nextgem_Chromium_X_fastqs.tar"
   ]
  },
  {
   "cell_type": "markdown",
   "metadata": {},
   "source": [
    "# scRNA-seq, SMART-Seq, colorectal cancer CTCs"
   ]
  },
  {
   "cell_type": "code",
   "execution_count": null,
   "metadata": {},
   "outputs": [],
   "source": [
    "#* Download SRR_Acc_List.txt metadata file from Kozuka et al. (https://www.ncbi.nlm.nih.gov/pmc/articles/PMC8507666/) on SRA (https://www.ncbi.nlm.nih.gov/sra/?term=PRJNA759644) with sra-tools (https://github.com/ncbi/sra-tools)"
   ]
  },
  {
   "cell_type": "markdown",
   "metadata": {},
   "source": [
    "# Optional: kb ref on T2T reference genome"
   ]
  },
  {
   "cell_type": "code",
   "execution_count": null,
   "metadata": {},
   "outputs": [],
   "source": [
    "import subprocess\n",
    "from varseek.utils import download_t2t_reference_files\n",
    "reference_out_dir = os.path.join(data_directory, \"data\", \"reference\")\n",
    "threads = 4\n",
    "k_standard = 31\n",
    "\n",
    "t2t_folder = f\"{reference_out_dir}/T2T/GCF_009914755.1\"\n",
    "t2t_kb_folder = f\"{t2t_folder}/kb_index\"\n",
    "standard_index = f\"{t2t_kb_folder}/index.idx\"\n",
    "standard_t2g = f\"{t2t_kb_folder}/t2g.txt\"\n",
    "standard_f1 = f\"{t2t_kb_folder}/f1.fa\"\n",
    "\n",
    "if not os.path.exists(standard_index) or not os.path.exists(standard_t2g):\n",
    "    os.makedirs(t2t_kb_folder, exist_ok=True)\n",
    "    t2t_genome = f\"{t2t_folder}/GCF_009914755.1_T2T-CHM13v2.0_genomic.fna\"\n",
    "    t2t_gtf = f\"{t2t_folder}/genomic.gtf\"\n",
    "    \n",
    "    if not os.path.exists(t2t_genome) or not os.path.exists(t2t_gtf):\n",
    "        os.makedirs(t2t_folder, exist_ok=True)\n",
    "        t2t_genome, t2t_cdna, t2t_gtf = download_t2t_reference_files(t2t_folder)\n",
    "\n",
    "    kb_ref_standard_command = f\"kb ref -k {k_standard} -i {standard_index} -g {standard_t2g} -f1 {standard_f1} -t {threads} {t2t_genome} {t2t_gtf}\"\n",
    "    result = subprocess.run(kb_ref_standard_command, shell=True, check=True)"
   ]
  }
 ],
 "metadata": {
  "kernelspec": {
   "display_name": "varseek2",
   "language": "python",
   "name": "python3"
  },
  "language_info": {
   "codemirror_mode": {
    "name": "ipython",
    "version": 3
   },
   "file_extension": ".py",
   "mimetype": "text/x-python",
   "name": "python",
   "nbconvert_exporter": "python",
   "pygments_lexer": "ipython3",
   "version": "3.10.16"
  }
 },
 "nbformat": 4,
 "nbformat_minor": 2
}
