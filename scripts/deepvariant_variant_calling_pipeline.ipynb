{
 "cells": [
  {
   "cell_type": "code",
   "execution_count": 1,
   "metadata": {},
   "outputs": [],
   "source": [
    "import os\n",
    "deepvariant_output_path = \"/Users/joeyrich/Desktop/local/RLSRWP_2025/scripts/trash/deepvariant_output\"\n",
    "os.makedirs(deepvariant_output_path, exist_ok=True)\n",
    "os.chdir(deepvariant_output_path)\n",
    "\n",
    "reference_genome = \"/Users/joeyrich/Documents/Caltech/Pachter/reference/ensembl_grch37_release93/Homo_sapiens.GRCh37.dna.primary_assembly.fa\""
   ]
  },
  {
   "cell_type": "code",
   "execution_count": 12,
   "metadata": {},
   "outputs": [
    {
     "name": "stdout",
     "output_type": "stream",
     "text": [
      "Docker is installed.\n"
     ]
    }
   ],
   "source": [
    "import shutil\n",
    "\n",
    "if shutil.which(\"docker\"):\n",
    "    print(\"Docker is installed.\")\n",
    "else:\n",
    "    print(\"Docker is NOT installed.\")\n"
   ]
  },
  {
   "cell_type": "code",
   "execution_count": 2,
   "metadata": {},
   "outputs": [],
   "source": [
    "if not os.path.exists(reference_genome):\n",
    "    !gget ref -w dna -r 93 --out_dir {os.path.dirname(reference_genome)} -d human_grch37 && gunzip {reference_genome}\n",
    "reference_genome_index = f\"{reference_genome}.fai\"\n",
    "if not os.path.exists(reference_genome_index):\n",
    "    !samtools faidx {reference_genome}"
   ]
  },
  {
   "cell_type": "code",
   "execution_count": 3,
   "metadata": {},
   "outputs": [],
   "source": [
    "!mkdir -p data benchmark reference model output happy"
   ]
  },
  {
   "cell_type": "code",
   "execution_count": 10,
   "metadata": {},
   "outputs": [
    {
     "name": "stdout",
     "output_type": "stream",
     "text": [
      "  % Total    % Received % Xferd  Average Speed   Time    Time     Time  Current\n",
      "                                 Dload  Upload   Total   Spent    Left  Speed\n",
      "100   346  100   346    0     0   1610      0 --:--:-- --:--:-- --:--:--  1632\n",
      "100 17.7M  100 17.7M    0     0  2560k      0  0:00:07  0:00:07 --:--:-- 3142k\n",
      "  % Total    % Received % Xferd  Average Speed   Time    Time     Time  Current\n",
      "                                 Dload  Upload   Total   Spent    Left  Speed\n",
      "100   349  100   349    0     0   2536      0 --:--:-- --:--:-- --:--:--  2566\n",
      "100  132M  100  132M    0     0  11.5M      0  0:00:11  0:00:11 --:--:-- 13.9M8 11.6M\n",
      "  % Total    % Received % Xferd  Average Speed   Time    Time     Time  Current\n",
      "                                 Dload  Upload   Total   Spent    Left  Speed\n",
      "100   353  100   353    0     0   2607      0 --:--:-- --:--:-- --:--:--  2654\n",
      "100 1577k  100 1577k    0     0  1791k      0 --:--:-- --:--:-- --:--:-- 2900k\n"
     ]
    }
   ],
   "source": [
    "#!!! DELETE\n",
    "FTPDIR=\"ftp-trace.ncbi.nlm.nih.gov/giab/ftp/release/ChineseTrio/HG005_NA24631_son/NISTv4.2.1/GRCh38\"\n",
    "\n",
    "!curl -L {FTPDIR}/HG005_GRCh38_1_22_v4.2.1_benchmark.bed > benchmark/HG005_GRCh38_1_22_v4.2.1_benchmark.bed\n",
    "!curl -L {FTPDIR}/HG005_GRCh38_1_22_v4.2.1_benchmark.vcf.gz > benchmark/HG005_GRCh38_1_22_v4.2.1_benchmark.vcf.gz\n",
    "!curl -L {FTPDIR}/HG005_GRCh38_1_22_v4.2.1_benchmark.vcf.gz.tbi > benchmark/HG005_GRCh38_1_22_v4.2.1_benchmark.vcf.gz.tbi"
   ]
  },
  {
   "cell_type": "code",
   "execution_count": null,
   "metadata": {},
   "outputs": [],
   "source": [
    "#!!! DELETE\n",
    "curl -L https://ftp.ebi.ac.uk/pub/databases/gencode/Gencode_human/release_41/gencode.v41.basic.annotation.gff3.gz > data/gencode.v41.basic.annotation.gff3.gz\n",
    "\n",
    "# Extract chr20 CDS regions and convert to bed file.\n",
    "gzip -dc data/gencode.v41.basic.annotation.gff3.gz | \\\n",
    "awk -v OFS='\\t' '$1 == \"chr20\" && $3 == \"CDS\"  && $4 < $5 { print $1, $4, $5, \"CDS\" }' | \\\n",
    "awk '!dup[$0]++' > data/chr20_CDS.bed"
   ]
  },
  {
   "cell_type": "code",
   "execution_count": 11,
   "metadata": {},
   "outputs": [
    {
     "name": "stdout",
     "output_type": "stream",
     "text": [
      "  % Total    % Received % Xferd  Average Speed   Time    Time     Time  Current\n",
      "                                 Dload  Upload   Total   Spent    Left  Speed\n",
      "100 9042M  100 9042M    0     0  13.4M      0  0:11:14  0:11:14 --:--:-- 15.0M0     0  14.3M      0  0:10:30  0:00:54  0:09:36 14.9M  0:01:04  0:09:21 15.3M    0  0:10:40  0:01:26  0:09:14 14.1M    0  0:10:40  0:01:36  0:09:04 14.8M10:49  0:01:45  0:09:04 10.4M 0  13.7M      0  0:10:57  0:02:21  0:08:36 14.2M     0  13.7M      0  0:10:56  0:02:23  0:08:33 14.6M0     0  13.7M      0  0:10:55  0:02:25  0:08:30 14.9M0:10:54  0:02:28  0:08:26 14.8M.7M      0  0:10:56  0:02:30  0:08:26 13.3M4 12.6M.0M13.6M      0  0:11:03  0:02:43  0:08:20 10.2M7  0:08:31 10.8M  0  13.1M      0  0:11:27  0:03:08  0:08:19 11.7M0     0  13.0M      0  0:11:33  0:03:21  0:08:12 8065k  0:04:06  0:07:25 14.6M:22  0:04:46  0:06:36 14.2M 0     0  13.3M      0  0:11:16  0:05:14  0:06:02 15.0MM      0  0:11:15  0:05:16  0:05:59 15.0M     0  13.4M      0  0:11:11  0:05:55  0:05:16 14.8M    0  0:11:10  0:06:01  0:05:09 14.5M.4M      0  0:11:10  0:06:02  0:05:08 14.7M   0  13.4M      0  0:11:10  0:06:29  0:04:41 15.2M.4M      0  0:11:09  0:06:35  0:04:34 14.5M     0  13.3M      0  0:11:17  0:06:53  0:04:24 8968k0  13.3M      0  0:11:19  0:06:59  0:04:20 11.2M 0  13.2M      0  0:11:20  0:07:10  0:04:10  9.9M 0     0  13.1M      0  0:11:25  0:07:29  0:03:56 13.4M     0  13.1M      0  0:11:26  0:07:39  0:03:47 14.0M0  13.1M      0  0:11:26  0:07:41  0:03:45 14.6M8  0:03:37 13.1M  0     0  13.1M      0  0:11:25  0:07:53  0:03:32 13.7M   0  0:11:23  0:08:07  0:03:16 15.4M   0  13.2M      0  0:11:22  0:08:54  0:02:28 11.8M13 13.1M   0     0  13.2M      0  0:11:21  0:10:00  0:01:21 14.8M     0  0:11:17  0:10:31  0:00:46 14.3M  0  0:11:16  0:10:37  0:00:39 14.8M 0  0:11:16  0:10:43  0:00:33 14.0M 0  13.3M      0  0:11:15  0:10:53  0:00:22 14.6M0     0  13.3M      0  0:11:15  0:11:05  0:00:10 14.0M   0     0  13.4M      0  0:11:14  0:11:11  0:00:03 15.0M\n",
      "  % Total    % Received % Xferd  Average Speed   Time    Time     Time  Current\n",
      "                                 Dload  Upload   Total   Spent    Left  Speed\n",
      "100 5449k  100 5449k    0     0  7205k      0 --:--:-- --:--:-- --:--:-- 7227k\n"
     ]
    }
   ],
   "source": [
    "#!!! DELETE\n",
    "HTTPDIR=\"https://storage.googleapis.com/brain-genomics-public/research/sequencing/grch38/bam/rna/illumina/mrna\"\n",
    "\n",
    "!curl -L {HTTPDIR}/hg005_gm26107.mrna.grch38.bam > data/hg005_gm26107.mrna.grch38.bam\n",
    "!curl -L {HTTPDIR}/hg005_gm26107.mrna.grch38.bam.bai > data/hg005_gm26107.mrna.grch38.bam.bai"
   ]
  },
  {
   "cell_type": "code",
   "execution_count": null,
   "metadata": {},
   "outputs": [],
   "source": [
    "#!!! DELETE\n",
    "HTTPDIR=https://storage.googleapis.com/brain-genomics-public/research/sequencing/grch38/bam/rna/illumina/mrna\n",
    "\n",
    "curl -L ${HTTPDIR}/hg005_gm26107.mrna.grch38.bam > data/hg005_gm26107.mrna.grch38.bam\n",
    "curl -L ${HTTPDIR}/hg005_gm26107.mrna.grch38.bam.bai > data/hg005_gm26107.mrna.grch38.bam.bai"
   ]
  },
  {
   "cell_type": "code",
   "execution_count": null,
   "metadata": {},
   "outputs": [],
   "source": [
    "#!!! DELETE\n",
    "# Generate a coverage file, and filter for 3x.\n",
    "!sudo docker run \\\n",
    "  -v \"$(pwd):$(pwd)\" \\\n",
    "  -w $(pwd) \\\n",
    "  -it quay.io/biocontainers/mosdepth:0.3.1--h4dc83fb_1 \\\n",
    "  mosdepth \\\n",
    "    --threads $(nproc) \\\n",
    "    data/hg005_coverage \\\n",
    "    data/hg005_gm26107.mrna.grch38.bam"
   ]
  },
  {
   "cell_type": "code",
   "execution_count": null,
   "metadata": {},
   "outputs": [],
   "source": [
    "#!!! DELETE\n",
    "!sudo docker run \\\n",
    "  -v \"$(pwd):$(pwd)\" \\\n",
    "  -w $(pwd) \\\n",
    "  -it quay.io/biocontainers/bedtools:2.23.0--h5b5514e_6 \\\n",
    "  /bin/bash"
   ]
  },
  {
   "cell_type": "code",
   "execution_count": null,
   "metadata": {},
   "outputs": [],
   "source": [
    "#!!! DELETE\n",
    "# (Run within the bedtools container)\n",
    "bedtools intersect \\\n",
    "-a data/hg005_3x.bed \\\n",
    "-b data/chr20_CDS.bed > data/chr20_CDS_3x.bed\n",
    "\n",
    "# We will also intersect this file with confident GIAB regions\n",
    "bedtools intersect \\\n",
    "-a benchmark/HG005_GRCh38_1_22_v4.2.1_benchmark.bed \\\n",
    "-b data/chr20_CDS_3x.bed > benchmark/chr20_CDS_3x.benchmark_regions.bed"
   ]
  },
  {
   "cell_type": "code",
   "execution_count": null,
   "metadata": {},
   "outputs": [],
   "source": [
    "curl https://storage.googleapis.com/deepvariant/models/DeepVariant/1.4.0/DeepVariant-inception_v3-1.4.0+data-rnaseq_standard/model.ckpt.data-00000-of-00001 > model/model.ckpt.data-00000-of-00001\n",
    "curl https://storage.googleapis.com/deepvariant/models/DeepVariant/1.4.0/DeepVariant-inception_v3-1.4.0+data-rnaseq_standard/model.ckpt.example_info.json > model/model.ckpt.example_info.json\n",
    "curl https://storage.googleapis.com/deepvariant/models/DeepVariant/1.4.0/DeepVariant-inception_v3-1.4.0+data-rnaseq_standard/model.ckpt.index > model/model.ckpt.index\n",
    "curl https://storage.googleapis.com/deepvariant/models/DeepVariant/1.4.0/DeepVariant-inception_v3-1.4.0+data-rnaseq_standard/model.ckpt.meta > model/model.ckpt.meta"
   ]
  },
  {
   "cell_type": "code",
   "execution_count": null,
   "metadata": {},
   "outputs": [],
   "source": [
    "BIN_VERSION=\"1.4.0\"\n",
    "\n",
    "sudo docker run \\\n",
    "  -v \"$(pwd):$(pwd)\" \\\n",
    "  -w $(pwd) \\\n",
    "  google/deepvariant:\"${BIN_VERSION}\" \\\n",
    "  run_deepvariant \\\n",
    "    --model_type=WES \\\n",
    "    --customized_model=model/model.ckpt \\\n",
    "    --ref={reference_genome} \\\n",
    "    --reads=data/hg005_gm26107.mrna.grch38.bam \\\n",
    "    --output_vcf=output/HG005.output.vcf.gz \\\n",
    "    --num_shards=$(nproc) \\\n",
    "    --regions=data/chr20_CDS_3x.bed \\\n",
    "    --make_examples_extra_args=\"split_skip_reads=true,channel_list='BASE_CHANNELS'\" \\\n",
    "    --intermediate_results_dir output/intermediate_results_dir"
   ]
  }
 ],
 "metadata": {
  "kernelspec": {
   "display_name": "RLSRWP_2025",
   "language": "python",
   "name": "python3"
  },
  "language_info": {
   "codemirror_mode": {
    "name": "ipython",
    "version": 3
   },
   "file_extension": ".py",
   "mimetype": "text/x-python",
   "name": "python",
   "nbconvert_exporter": "python",
   "pygments_lexer": "ipython3",
   "version": "3.10.16"
  }
 },
 "nbformat": 4,
 "nbformat_minor": 2
}
