{
 "cells": [
  {
   "cell_type": "markdown",
   "metadata": {},
   "source": [
    "# Variant analysis, OncoKB-Annotator"
   ]
  },
  {
   "cell_type": "code",
   "execution_count": null,
   "metadata": {},
   "outputs": [],
   "source": [
    "# try:\n",
    "#     import varseek as vk\n",
    "# except ImportError:\n",
    "#     print(\"varseek not found, installing...\")\n",
    "#     !pip install -U -q varseek\n",
    "# try:\n",
    "#     import RLSRWP_2025\n",
    "# except ImportError:\n",
    "#     print(\"RLSRWP_2025 not found, installing...\")\n",
    "#     !pip install -q git+https://github.com/pachterlab/RLSRWP_2025.git\n",
    "\n",
    "# !git clone https://github.com/oncokb/oncokb-annotator.git && cd oncokb-annotator && pip install -r requirements/common.txt -r requirements/pip3.txt"
   ]
  },
  {
   "cell_type": "code",
   "execution_count": 1,
   "metadata": {},
   "outputs": [],
   "source": [
    "import os\n",
    "import anndata as ad\n",
    "import pandas as pd\n",
    "import gget\n",
    "import subprocess\n",
    "\n",
    "from varseek.utils import download_box_url  # for functions used in both varseek and here\n",
    "\n",
    "RLSRWP_2025_dir = os.path.dirname(os.path.abspath(\"\"))  # if this notebook resides in RLSRWP_2025/notebooks/0_data_download.ipynb, then this retrieves RLSRWP_2025"
   ]
  },
  {
   "cell_type": "code",
   "execution_count": 4,
   "metadata": {},
   "outputs": [],
   "source": [
    "oncokb_annotator_dir = os.path.join(os.path.dirname(RLSRWP_2025_dir), \"oncokb-annotator\")\n",
    "\n",
    "vk_count_out_dir = os.path.join(RLSRWP_2025_dir, \"data\", \"vk_count_out_fig1\")\n",
    "# maf_path = os.path.join(vk_count_out_dir, \"variants.maf\")  #!!! uncomment\n",
    "maf_path = \"/Users/joeyrich/Desktop/local/varseek/trash/variants.maf\"  #!!! erase\n",
    "output_maf_path = maf_path.replace(\".maf\", \".oncokb.maf\")\n",
    "\n",
    "out_dir = os.path.join(vk_count_out_dir, \"analysis\", \"oncokb_annotator\")\n",
    "\n",
    "oncokb_api_key = os.getenv(\"ONCOKB_API_KEY\")"
   ]
  },
  {
   "cell_type": "markdown",
   "metadata": {},
   "source": [
    "### Download the MAF file"
   ]
  },
  {
   "cell_type": "code",
   "execution_count": 5,
   "metadata": {},
   "outputs": [],
   "source": [
    "if not os.path.exists(maf_path):\n",
    "    maf_url = \"\"  #!!!\n",
    "    download_box_url(maf_url, output_file_name=maf_path)"
   ]
  },
  {
   "cell_type": "markdown",
   "metadata": {},
   "source": [
    "### Run the OncoKB Annotator"
   ]
  },
  {
   "cell_type": "code",
   "execution_count": 6,
   "metadata": {},
   "outputs": [],
   "source": [
    "if oncokb_api_key is None:\n",
    "    raise ValueError(\"Please set the ONCOKB_API_KEY environment variable, or define the oncokb_api_key variable.\")"
   ]
  },
  {
   "cell_type": "code",
   "execution_count": 8,
   "metadata": {},
   "outputs": [
    {
     "name": "stdout",
     "output_type": "stream",
     "text": [
      "INFO:MafAnnotator:annotating /Users/joeyrich/Desktop/local/varseek/trash/variants.maf ...\n",
      "INFO:AnnotatorCore:Your OncoKB API token is valid and will expire on 2025-05-30 21:51:25 UTC\n",
      "INFO:AnnotatorCore:Cancer type for the sample should be defined for a more accurate result. \tLine 1\n",
      "INFO:AnnotatorCore:Cancer type for the sample should be defined for a more accurate result. \tLine 2\n",
      "INFO:AnnotatorCore:Cancer type for the sample should be defined for a more accurate result. \tLine 3\n",
      "INFO:AnnotatorCore:Cancer type for the sample should be defined for a more accurate result. \tLine 4\n",
      "INFO:AnnotatorCore:Cancer type for the sample should be defined for a more accurate result. \tLine 5\n",
      "INFO:AnnotatorCore:Cancer type for the sample should be defined for a more accurate result. \tLine 6\n",
      "INFO:AnnotatorCore:Cancer type for the sample should be defined for a more accurate result. \tLine 7\n",
      "INFO:AnnotatorCore:Cancer type for the sample should be defined for a more accurate result. \tLine 8\n",
      "INFO:AnnotatorCore:Cancer type for the sample should be defined for a more accurate result. \tLine 9\n",
      "INFO:AnnotatorCore:Cancer type for the sample should be defined for a more accurate result. \tLine 10\n",
      "INFO:AnnotatorCore:Cancer type for the sample should be defined for a more accurate result. \tLine 11\n",
      "INFO:AnnotatorCore:Cancer type for the sample should be defined for a more accurate result. \tLine 12\n",
      "INFO:AnnotatorCore:Cancer type for the sample should be defined for a more accurate result. \tLine 13\n",
      "INFO:AnnotatorCore:Cancer type for the sample should be defined for a more accurate result. \tLine 14\n",
      "INFO:AnnotatorCore:Cancer type for the sample should be defined for a more accurate result. \tLine 15\n",
      "INFO:AnnotatorCore:Cancer type for the sample should be defined for a more accurate result. \tLine 16\n",
      "INFO:AnnotatorCore:Cancer type for the sample should be defined for a more accurate result. \tLine 17\n",
      "INFO:AnnotatorCore:Cancer type for the sample should be defined for a more accurate result. \tLine 18\n",
      "INFO:AnnotatorCore:Cancer type for the sample should be defined for a more accurate result. \tLine 19\n",
      "INFO:AnnotatorCore:Cancer type for the sample should be defined for a more accurate result. \tLine 20\n",
      "INFO:AnnotatorCore:Cancer type for the sample should be defined for a more accurate result. \tLine 21\n",
      "INFO:AnnotatorCore:Cancer type for the sample should be defined for a more accurate result. \tLine 22\n",
      "INFO:AnnotatorCore:Cancer type for the sample should be defined for a more accurate result. \tLine 23\n",
      "INFO:AnnotatorCore:Cancer type for the sample should be defined for a more accurate result. \tLine 24\n",
      "INFO:AnnotatorCore:Cancer type for the sample should be defined for a more accurate result. \tLine 25\n",
      "INFO:AnnotatorCore:Cancer type for the sample should be defined for a more accurate result. \tLine 26\n",
      "INFO:AnnotatorCore:Cancer type for the sample should be defined for a more accurate result. \tLine 27\n",
      "INFO:AnnotatorCore:Cancer type for the sample should be defined for a more accurate result. \tLine 28\n",
      "INFO:AnnotatorCore:Cancer type for the sample should be defined for a more accurate result. \tLine 29\n",
      "INFO:AnnotatorCore:Cancer type for the sample should be defined for a more accurate result. \tLine 30\n",
      "INFO:AnnotatorCore:Cancer type for the sample should be defined for a more accurate result. \tLine 31\n",
      "INFO:AnnotatorCore:Cancer type for the sample should be defined for a more accurate result. \tLine 32\n",
      "INFO:AnnotatorCore:Cancer type for the sample should be defined for a more accurate result. \tLine 33\n",
      "INFO:AnnotatorCore:Cancer type for the sample should be defined for a more accurate result. \tLine 34\n",
      "INFO:AnnotatorCore:Cancer type for the sample should be defined for a more accurate result. \tLine 35\n",
      "INFO:AnnotatorCore:Cancer type for the sample should be defined for a more accurate result. \tLine 36\n",
      "INFO:AnnotatorCore:Cancer type for the sample should be defined for a more accurate result. \tLine 37\n",
      "INFO:AnnotatorCore:Cancer type for the sample should be defined for a more accurate result. \tLine 38\n",
      "INFO:AnnotatorCore:Cancer type for the sample should be defined for a more accurate result. \tLine 39\n",
      "INFO:AnnotatorCore:Cancer type for the sample should be defined for a more accurate result. \tLine 40\n",
      "INFO:AnnotatorCore:Cancer type for the sample should be defined for a more accurate result. \tLine 41\n",
      "INFO:AnnotatorCore:Cancer type for the sample should be defined for a more accurate result. \tLine 42\n",
      "INFO:AnnotatorCore:Cancer type for the sample should be defined for a more accurate result. \tLine 43\n",
      "INFO:AnnotatorCore:Cancer type for the sample should be defined for a more accurate result. \tLine 44\n",
      "INFO:AnnotatorCore:Cancer type for the sample should be defined for a more accurate result. \tLine 45\n",
      "INFO:AnnotatorCore:Cancer type for the sample should be defined for a more accurate result. \tLine 46\n",
      "INFO:AnnotatorCore:Cancer type for the sample should be defined for a more accurate result. \tLine 47\n",
      "INFO:AnnotatorCore:Cancer type for the sample should be defined for a more accurate result. \tLine 48\n",
      "INFO:AnnotatorCore:Cancer type for the sample should be defined for a more accurate result. \tLine 49\n",
      "INFO:AnnotatorCore:Cancer type for the sample should be defined for a more accurate result. \tLine 50\n",
      "INFO:MafAnnotator:done!\n"
     ]
    }
   ],
   "source": [
    "!python {oncokb_annotator_dir}/MafAnnotator.py -i {maf_path} -o {output_maf_path} -b {oncokb_api_key} -r grch37"
   ]
  },
  {
   "cell_type": "markdown",
   "metadata": {},
   "source": [
    "### Run Funcotator"
   ]
  },
  {
   "cell_type": "code",
   "execution_count": null,
   "metadata": {},
   "outputs": [],
   "source": [
    "gatk = \"/home/jmrich/opt/gatk-4.6.0.0/gatk\"\n",
    "\n",
    "info_fields = [\"NS\", \"AO\"]\n",
    "# vcf_path = os.path.join(vk_count_out_dir, \"variants.vcf\")  #!!! uncomment\n",
    "vcf_path = \"/Users/joeyrich/Desktop/local/varseek/variants.vcf\"  #!!! erase\n",
    "vcf_path_output = vcf_path.replace(\".vcf\", \".funcotated.vcf\")\n",
    "table_path_output = vcf_path.replace(\".vcf\", \".funcotated.table\")\n",
    "funcotator_columns_file = table_path_output.replace(\".table\", \"_columns.txt\")\n",
    "\n",
    "reference_genome = os.path.join(RLSRWP_2025_dir, \"data\", \"reference\", \"ensembl_grch37_release93\", \"Homo_sapiens.GRCh37.dna.primary_assembly.fa\")\n",
    "data_source = \"somatic\"  # somatic or germline\n",
    "data_sources_path = os.path.join(RLSRWP_2025_dir, \"data\", \"reference\", f\"gatk_data_sources_{data_source}\", f\"funcotator_dataSources.v1.8.hg19.20230908{data_source[0]}\")"
   ]
  },
  {
   "cell_type": "code",
   "execution_count": null,
   "metadata": {},
   "outputs": [],
   "source": [
    "if not os.path.exists(vcf_path):\n",
    "    vcf_url = \"\"  #!!!\n",
    "    download_box_url(vcf_url, output_file_name=vcf_path)"
   ]
  },
  {
   "cell_type": "code",
   "execution_count": null,
   "metadata": {},
   "outputs": [],
   "source": [
    "if not os.path.exists(data_sources_path):\n",
    "    if os.path.dirname(data_sources_path):\n",
    "        os.makedirs(os.path.dirname(data_sources_path), exist_ok=True)\n",
    "    !$gatk FuncotatorDataSourceDownloader --{data_source} --hg19 --validate-integrity --extract-after-download -O {data_sources_path}.tar.gz"
   ]
  },
  {
   "cell_type": "code",
   "execution_count": null,
   "metadata": {},
   "outputs": [],
   "source": [
    "# Annotate using Funcotator\n",
    "#* output-file-format can be VCF or MAF\n",
    "!$gatk Funcotator \\\n",
    "    --variant {vcf_url} \\\n",
    "    --reference {reference_genome} \\\n",
    "    --ref-version hg19 \\\n",
    "    --data-sources-path {data_sources_path} \\\n",
    "    --output {vcf_path_output} \\\n",
    "    --output-file-format VCF \\\n",
    "    --disable-sequence-dictionary-validation"
   ]
  },
  {
   "cell_type": "markdown",
   "metadata": {},
   "source": [
    "### Convert to table"
   ]
  },
  {
   "cell_type": "code",
   "execution_count": null,
   "metadata": {},
   "outputs": [],
   "source": [
    "variants_to_table_command = f\"{gatk} VariantsToTable -V {vcf_path_output} -O {table_path_output} \"\n",
    "for field in info_fields:\n",
    "    variants_to_table_command += f\"-F {field} \"\n",
    "variants_to_table_command += \"-F FUNCOTATION\"\n",
    "\n",
    "!{variants_to_table_command}"
   ]
  },
  {
   "cell_type": "markdown",
   "metadata": {},
   "source": [
    "### Clean up column formatting"
   ]
  },
  {
   "cell_type": "code",
   "execution_count": null,
   "metadata": {},
   "outputs": [],
   "source": [
    "!cat {vcf_path_output} | grep \" Funcotation fields are: \" | sed 's/|/\\t/g' > {funcotator_columns_file}\n",
    "!cat {table_path_output} | cut -f {number_of_info_fields+1} | sed 's/|/\\t/g' >> {funcotator_columns_file}"
   ]
  }
 ],
 "metadata": {
  "kernelspec": {
   "display_name": "RLSRWP_2025",
   "language": "python",
   "name": "python3"
  },
  "language_info": {
   "codemirror_mode": {
    "name": "ipython",
    "version": 3
   },
   "file_extension": ".py",
   "mimetype": "text/x-python",
   "name": "python",
   "nbconvert_exporter": "python",
   "pygments_lexer": "ipython3",
   "version": "3.10.9"
  }
 },
 "nbformat": 4,
 "nbformat_minor": 2
}
