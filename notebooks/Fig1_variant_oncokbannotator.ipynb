{
 "cells": [
  {
   "cell_type": "markdown",
   "metadata": {},
   "source": [
    "# Variant analysis, OncoKB-Annotator"
   ]
  },
  {
   "cell_type": "code",
   "execution_count": null,
   "metadata": {},
   "outputs": [],
   "source": [
    "# try:\n",
    "#     import varseek as vk\n",
    "# except ImportError:\n",
    "#     print(\"varseek not found, installing...\")\n",
    "#     !pip install -U -q varseek\n",
    "# try:\n",
    "#     import RLSRWP_2025\n",
    "# except ImportError:\n",
    "#     print(\"RLSRWP_2025 not found, installing...\")\n",
    "#     !pip install -q git+https://github.com/pachterlab/RLSRWP_2025.git\n",
    "\n",
    "# !git clone https://github.com/oncokb/oncokb-annotator.git && cd oncokb-annotator && pip install -r requirements/common.txt -r requirements/pip3.txt"
   ]
  },
  {
   "cell_type": "code",
   "execution_count": 2,
   "metadata": {},
   "outputs": [],
   "source": [
    "import os\n",
    "import anndata as ad\n",
    "import pandas as pd\n",
    "import gget\n",
    "import subprocess\n",
    "\n",
    "from varseek.utils import download_box_url  # for functions used in both varseek and here\n",
    "\n",
    "RLSRWP_2025_dir = os.path.dirname(os.path.abspath(\"\"))  # if this notebook resides in RLSRWP_2025/notebooks/0_data_download.ipynb, then this retrieves RLSRWP_2025"
   ]
  },
  {
   "cell_type": "code",
   "execution_count": 4,
   "metadata": {},
   "outputs": [],
   "source": [
    "oncokb_annotator_dir = os.path.join(os.path.dirname(RLSRWP_2025_dir), \"oncokb-annotator\")\n",
    "\n",
    "vk_count_out_dir = os.path.join(RLSRWP_2025_dir, \"data\", \"vk_count_out_fig1\")\n",
    "# maf_path = os.path.join(vk_count_out_dir, \"variants.maf\")  #!!! uncomment\n",
    "maf_path = \"/Users/joeyrich/Desktop/local/varseek/variants.maf\"  #!!! erase\n",
    "output_maf_path = maf_path.replace(\".maf\", \".oncokb.maf\")\n",
    "\n",
    "out_dir = os.path.join(vk_count_out_dir, \"analysis\", \"oncokb_annotator\")\n",
    "\n",
    "oncokb_api_key = os.getenv(\"ONCOKB_API_KEY\")"
   ]
  },
  {
   "cell_type": "markdown",
   "metadata": {},
   "source": [
    "### Download the MAF file"
   ]
  },
  {
   "cell_type": "code",
   "execution_count": null,
   "metadata": {},
   "outputs": [],
   "source": [
    "if not os.path.exists(maf_path):\n",
    "    maf_url = \"\"  #!!!\n",
    "    download_box_url(maf_url, output_file_name=maf_path)"
   ]
  },
  {
   "cell_type": "markdown",
   "metadata": {},
   "source": [
    "### Run the OncoKB Annotator"
   ]
  },
  {
   "cell_type": "code",
   "execution_count": null,
   "metadata": {},
   "outputs": [],
   "source": [
    "if oncokb_api_key is None:\n",
    "    raise ValueError(\"Please set the ONCOKB_API_KEY environment variable, or define the oncokb_api_key variable.\")"
   ]
  },
  {
   "cell_type": "code",
   "execution_count": null,
   "metadata": {},
   "outputs": [],
   "source": [
    "!python {oncokb_annotator_dir}/MafAnnotator.py -i {maf_path} -o {output_maf_path} -b {oncokb_api_key} -r grch37"
   ]
  }
 ],
 "metadata": {
  "kernelspec": {
   "display_name": "RLSRWP_2025",
   "language": "python",
   "name": "python3"
  },
  "language_info": {
   "codemirror_mode": {
    "name": "ipython",
    "version": 3
   },
   "file_extension": ".py",
   "mimetype": "text/x-python",
   "name": "python",
   "nbconvert_exporter": "python",
   "pygments_lexer": "ipython3",
   "version": "3.10.9"
  }
 },
 "nbformat": 4,
 "nbformat_minor": 2
}
