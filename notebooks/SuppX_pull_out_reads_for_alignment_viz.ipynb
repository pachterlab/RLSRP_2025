{
 "cells": [
  {
   "cell_type": "markdown",
   "id": "b8a4b538-0583-45e9-91d1-eec859bae4c1",
   "metadata": {},
   "source": [
    "# Extract cancer variant reads for alignment visualization\n",
    "\n",
    "## In this notebook, we use a single RNA-seq fastq file from a melanoma cancer cell line from the the CCLE project. Learn more about the project here:\n",
    "- sequencing data (ENA): https://www.ebi.ac.uk/ena/browser/view/PRJNA523380\n",
    "- paper: https://www.nature.com/articles/s41586-019-1186-3\n",
    "\n",
    "### Requirements: kb, samtools, and bowtie2"
   ]
  },
  {
   "cell_type": "code",
   "execution_count": 1,
   "id": "9cae3de3",
   "metadata": {},
   "outputs": [],
   "source": [
    "try:\n",
    "    import varseek as vk\n",
    "except ImportError:\n",
    "    print(\"varseek not found, installing...\")\n",
    "    !pip install -U -q varseek\n",
    "try:\n",
    "    import RLSRWP_2025\n",
    "except ImportError:\n",
    "    print(\"RLSRWP_2025 not found, installing...\")\n",
    "    !pip install -q git+https://github.com/pachterlab/RLSRWP_2025.git"
   ]
  },
  {
   "cell_type": "code",
   "execution_count": 2,
   "id": "400e7db6",
   "metadata": {},
   "outputs": [],
   "source": [
    "import anndata\n",
    "import os\n",
    "import numpy as np\n",
    "import pandas as pd\n",
    "import gget\n",
    "import pyfastx\n",
    "import glob\n",
    "# pd.set_option('display.max_columns', None)\n",
    "import varseek as vk\n",
    "from varseek.utils import make_bus_df\n",
    "\n",
    "RLSRWP_2025_dir = os.path.dirname(os.path.abspath(\"\"))  # if this notebook resides in RLSRWP_2025/notebooks/0_data_download.ipynb, then this retrieves RLSRWP_2025\n",
    "threads = \"2\"\n",
    "use_head = False"
   ]
  },
  {
   "cell_type": "markdown",
   "id": "317e1ef9",
   "metadata": {},
   "source": [
    "### File path definitions and imports"
   ]
  },
  {
   "cell_type": "code",
   "execution_count": 3,
   "id": "b81b187a",
   "metadata": {},
   "outputs": [],
   "source": [
    "vk_count_out_dir = os.path.join(RLSRWP_2025_dir, \"data\", \"varseek_count_out_alignment_visualization_full\")\n",
    "kb_count_out_dir = os.path.join(vk_count_out_dir, \"kb_count_out_vcrs\")\n",
    "adata_path = os.path.join(kb_count_out_dir, \"counts_unfiltered\", \"adata.h5ad\")\n",
    "aligned_reads_parent_dir = os.path.join(vk_count_out_dir, \"pseudoaligned_reads_to_vcrs_reference\")\n",
    "bowtie_read_alignments = os.path.join(vk_count_out_dir, \"bowtie_read_alignments\")\n",
    "\n",
    "# vk ref out directory and files - downloaded if not already present\n",
    "vk_ref_out_dir = os.path.join(RLSRWP_2025_dir, \"data\", \"vk_ref_out\")\n",
    "vcrs_index = os.path.join(vk_ref_out_dir, \"vcrs_index.idx\")\n",
    "vcrs_t2g = os.path.join(vk_ref_out_dir, \"vcrs_t2g_filtered.txt\")\n",
    "vcrs_fasta = os.path.join(vk_ref_out_dir, \"vcrs_filtered.fa\")\n",
    "\n",
    "# fastq directories - fastqs_dir downloaded if not already present, and fastqs_processed_dir created with fastp if not already present\n",
    "fastqs_dir = os.path.join(RLSRWP_2025_dir, \"data\", \"ccle_data_base\", \"RNASeq_MELHO_SKIN\")\n",
    "fastq_file = os.path.join(fastqs_dir, \"SRR8615233_1.fastq.gz\")\n",
    "technology = \"bulk\"\n",
    "\n",
    "# cosmic directory\n",
    "cosmic_dir = os.path.join(RLSRWP_2025_dir, \"data\", \"reference\", \"cosmic\")\n",
    "cosmic_csv = os.path.join(cosmic_dir, \"CancerMutationCensus_AllData_Tsv_v101_GRCh37\", \"CancerMutationCensus_AllData_v101_GRCh37_mutation_workflow.csv\")\n",
    "\n",
    "# reference genome directory\n",
    "reference_genome_dir = os.path.join(RLSRWP_2025_dir, \"data\", \"reference\", \"ensembl_grch37_release93\")\n",
    "\n",
    "# kb count to reference genome directory and files - created if not already present - only used if qc_against_gene_matrix=True\n",
    "qc_against_gene_matrix = False\n",
    "kb_count_reference_genome_dir = os.path.join(RLSRWP_2025_dir, \"data\", \"kb_count_reference_genome\")\n",
    "reference_genome_index = os.path.join(reference_genome_dir, \"index.idx\")  # either already exists or will be created\n",
    "reference_genome_t2g = os.path.join(reference_genome_dir, \"t2g.txt\")  # either already exists or will be created\n",
    "reference_genome_fasta = os.path.join(reference_genome_dir, \"Homo_sapiens.GRCh37.dna.primary_assembly.fa\")  # if reference_genome_index/reference_genome_t2g do not exist, then I need to supply the reference genome fasta and gtf\n",
    "reference_genome_gtf = os.path.join(reference_genome_dir, \"Homo_sapiens.GRCh37.87.gtf\")  # if reference_genome_index/reference_genome_t2g do not exist, then I need to supply the reference genome fasta and gtf\n",
    "\n",
    "# for bowtie2 - also uses reference_genome_fasta above (I could use cdna instead of genome too if desired)\n",
    "bowtie_reference_dir = os.path.join(reference_genome_dir, \"bowtie_index_genome\")\n",
    "bowtie_reference_prefix = os.path.join(bowtie_reference_dir, \"index\")\n",
    "\n",
    "# general\n",
    "w = \"47\"  # used during creation of the index, so cannot be altered\n",
    "k = \"51\"  # used during creation of the index, so cannot be altered\n",
    "strand = \"unstranded\"\n",
    "parity = \"single\"  # although the original data is paired, we will only be using a single file, so we will run in single-end mode\n",
    "\n",
    "# software\n",
    "bustools = \"/Users/joeyrich/miniconda3/envs/RLSRWP_2025/lib/python3.10/site-packages/kb_python/bins/darwin/m1/bustools/bustools\"\n",
    "bowtie2 = \"bowtie2\"\n",
    "bowtie2_build = \"bowtie2-build\"\n",
    "samtools = \"samtools\""
   ]
  },
  {
   "cell_type": "markdown",
   "id": "8f50ee94",
   "metadata": {},
   "source": [
    "### Download VCRS reference files with varseek ref"
   ]
  },
  {
   "cell_type": "code",
   "execution_count": 4,
   "id": "5ebc5dd0",
   "metadata": {},
   "outputs": [],
   "source": [
    "if not os.path.exists(vcrs_index) or not os.path.exists(vcrs_t2g) or not os.path.exists(vcrs_fasta):\n",
    "    vk.ref(variants=\"cosmic_cmc\", sequences=\"cdna\", w=w, k=k, dlist_reference_source=\"t2t\", index_out=vcrs_index, t2g_out=vcrs_t2g, fasta_out=vcrs_fasta, download=True)"
   ]
  },
  {
   "cell_type": "markdown",
   "id": "3ffe24bf",
   "metadata": {},
   "source": [
    "### Download COSMIC if not already downloaded"
   ]
  },
  {
   "cell_type": "code",
   "execution_count": 5,
   "id": "184711a2",
   "metadata": {},
   "outputs": [
    {
     "name": "stderr",
     "output_type": "stream",
     "text": [
      "/var/folders/wr/wdr46lxn7fbc_kty6kwbfhxc0000gn/T/ipykernel_27457/1725634623.py:13: DtypeWarning: Columns (4,5) have mixed types. Specify dtype option on import or set low_memory=False.\n",
      "  cosmic_df = pd.read_csv(cosmic_csv)\n"
     ]
    },
    {
     "data": {
      "application/vnd.microsoft.datawrangler.viewer.v0+json": {
       "columns": [
        {
         "name": "index",
         "rawType": "int64",
         "type": "integer"
        },
        {
         "name": "seq_ID",
         "rawType": "object",
         "type": "string"
        },
        {
         "name": "mutation",
         "rawType": "object",
         "type": "string"
        },
        {
         "name": "mutation_aa",
         "rawType": "object",
         "type": "string"
        },
        {
         "name": "GENOMIC_MUTATION_ID",
         "rawType": "object",
         "type": "string"
        },
        {
         "name": "chromosome",
         "rawType": "object",
         "type": "string"
        },
        {
         "name": "strand",
         "rawType": "object",
         "type": "string"
        },
        {
         "name": "mutation_genome",
         "rawType": "object",
         "type": "string"
        },
        {
         "name": "gene_name",
         "rawType": "object",
         "type": "string"
        },
        {
         "name": "mutation_id",
         "rawType": "int64",
         "type": "integer"
        },
        {
         "name": "mutation_cdna",
         "rawType": "object",
         "type": "string"
        },
        {
         "name": "header",
         "rawType": "object",
         "type": "string"
        }
       ],
       "conversionMethod": "pd.DataFrame",
       "ref": "04cd4f8d-d7c4-4ea7-9fdb-d02e77ff5466",
       "rows": [
        [
         "0",
         "ENST00000396153",
         "c.1468C>T",
         "p.Q490*",
         "COSV105286190",
         "1",
         "-",
         "g.51001067G>A",
         "FAF1",
         "48293736",
         "c.1920C>T",
         "ENST00000396153:c.1920C>T"
        ],
        [
         "1",
         "ENST00000445907",
         "c.162C>A",
         "p.L54=",
         "COSV57765075",
         "7",
         "+",
         "g.136699774C>A",
         "CHRM2",
         "60222372",
         "c.690C>A",
         "ENST00000445907:c.690C>A"
        ],
        [
         "2",
         "ENST00000445907",
         "c.617A>T",
         "p.Y206F",
         "COSV108138517",
         "7",
         "+",
         "g.136700229A>T",
         "CHRM2",
         "60229878",
         "c.1145A>T",
         "ENST00000445907:c.1145A>T"
        ],
        [
         "3",
         "ENST00000445907",
         "c.93A>T",
         "p.G31=",
         "COSV100282253",
         "7",
         "+",
         "g.136699705A>T",
         "CHRM2",
         "60227007",
         "c.621A>T",
         "ENST00000445907:c.621A>T"
        ],
        [
         "4",
         "ENST00000445907",
         "c.956A>C",
         "p.N319T",
         "COSV108138508",
         "7",
         "+",
         "g.136700568A>C",
         "CHRM2",
         "60213402",
         "c.1484A>C",
         "ENST00000445907:c.1484A>C"
        ]
       ],
       "shape": {
        "columns": 11,
        "rows": 5
       }
      },
      "text/html": [
       "<div>\n",
       "<style scoped>\n",
       "    .dataframe tbody tr th:only-of-type {\n",
       "        vertical-align: middle;\n",
       "    }\n",
       "\n",
       "    .dataframe tbody tr th {\n",
       "        vertical-align: top;\n",
       "    }\n",
       "\n",
       "    .dataframe thead th {\n",
       "        text-align: right;\n",
       "    }\n",
       "</style>\n",
       "<table border=\"1\" class=\"dataframe\">\n",
       "  <thead>\n",
       "    <tr style=\"text-align: right;\">\n",
       "      <th></th>\n",
       "      <th>seq_ID</th>\n",
       "      <th>mutation</th>\n",
       "      <th>mutation_aa</th>\n",
       "      <th>GENOMIC_MUTATION_ID</th>\n",
       "      <th>chromosome</th>\n",
       "      <th>strand</th>\n",
       "      <th>mutation_genome</th>\n",
       "      <th>gene_name</th>\n",
       "      <th>mutation_id</th>\n",
       "      <th>mutation_cdna</th>\n",
       "      <th>header</th>\n",
       "    </tr>\n",
       "  </thead>\n",
       "  <tbody>\n",
       "    <tr>\n",
       "      <th>0</th>\n",
       "      <td>ENST00000396153</td>\n",
       "      <td>c.1468C&gt;T</td>\n",
       "      <td>p.Q490*</td>\n",
       "      <td>COSV105286190</td>\n",
       "      <td>1</td>\n",
       "      <td>-</td>\n",
       "      <td>g.51001067G&gt;A</td>\n",
       "      <td>FAF1</td>\n",
       "      <td>48293736</td>\n",
       "      <td>c.1920C&gt;T</td>\n",
       "      <td>ENST00000396153:c.1920C&gt;T</td>\n",
       "    </tr>\n",
       "    <tr>\n",
       "      <th>1</th>\n",
       "      <td>ENST00000445907</td>\n",
       "      <td>c.162C&gt;A</td>\n",
       "      <td>p.L54=</td>\n",
       "      <td>COSV57765075</td>\n",
       "      <td>7</td>\n",
       "      <td>+</td>\n",
       "      <td>g.136699774C&gt;A</td>\n",
       "      <td>CHRM2</td>\n",
       "      <td>60222372</td>\n",
       "      <td>c.690C&gt;A</td>\n",
       "      <td>ENST00000445907:c.690C&gt;A</td>\n",
       "    </tr>\n",
       "    <tr>\n",
       "      <th>2</th>\n",
       "      <td>ENST00000445907</td>\n",
       "      <td>c.617A&gt;T</td>\n",
       "      <td>p.Y206F</td>\n",
       "      <td>COSV108138517</td>\n",
       "      <td>7</td>\n",
       "      <td>+</td>\n",
       "      <td>g.136700229A&gt;T</td>\n",
       "      <td>CHRM2</td>\n",
       "      <td>60229878</td>\n",
       "      <td>c.1145A&gt;T</td>\n",
       "      <td>ENST00000445907:c.1145A&gt;T</td>\n",
       "    </tr>\n",
       "    <tr>\n",
       "      <th>3</th>\n",
       "      <td>ENST00000445907</td>\n",
       "      <td>c.93A&gt;T</td>\n",
       "      <td>p.G31=</td>\n",
       "      <td>COSV100282253</td>\n",
       "      <td>7</td>\n",
       "      <td>+</td>\n",
       "      <td>g.136699705A&gt;T</td>\n",
       "      <td>CHRM2</td>\n",
       "      <td>60227007</td>\n",
       "      <td>c.621A&gt;T</td>\n",
       "      <td>ENST00000445907:c.621A&gt;T</td>\n",
       "    </tr>\n",
       "    <tr>\n",
       "      <th>4</th>\n",
       "      <td>ENST00000445907</td>\n",
       "      <td>c.956A&gt;C</td>\n",
       "      <td>p.N319T</td>\n",
       "      <td>COSV108138508</td>\n",
       "      <td>7</td>\n",
       "      <td>+</td>\n",
       "      <td>g.136700568A&gt;C</td>\n",
       "      <td>CHRM2</td>\n",
       "      <td>60213402</td>\n",
       "      <td>c.1484A&gt;C</td>\n",
       "      <td>ENST00000445907:c.1484A&gt;C</td>\n",
       "    </tr>\n",
       "  </tbody>\n",
       "</table>\n",
       "</div>"
      ],
      "text/plain": [
       "            seq_ID   mutation mutation_aa GENOMIC_MUTATION_ID chromosome  \\\n",
       "0  ENST00000396153  c.1468C>T     p.Q490*       COSV105286190          1   \n",
       "1  ENST00000445907   c.162C>A      p.L54=        COSV57765075          7   \n",
       "2  ENST00000445907   c.617A>T     p.Y206F       COSV108138517          7   \n",
       "3  ENST00000445907    c.93A>T      p.G31=       COSV100282253          7   \n",
       "4  ENST00000445907   c.956A>C     p.N319T       COSV108138508          7   \n",
       "\n",
       "  strand mutation_genome gene_name  mutation_id mutation_cdna  \\\n",
       "0      -   g.51001067G>A      FAF1     48293736     c.1920C>T   \n",
       "1      +  g.136699774C>A     CHRM2     60222372      c.690C>A   \n",
       "2      +  g.136700229A>T     CHRM2     60229878     c.1145A>T   \n",
       "3      +  g.136699705A>T     CHRM2     60227007      c.621A>T   \n",
       "4      +  g.136700568A>C     CHRM2     60213402     c.1484A>C   \n",
       "\n",
       "                      header  \n",
       "0  ENST00000396153:c.1920C>T  \n",
       "1   ENST00000445907:c.690C>A  \n",
       "2  ENST00000445907:c.1145A>T  \n",
       "3   ENST00000445907:c.621A>T  \n",
       "4  ENST00000445907:c.1484A>C  "
      ]
     },
     "execution_count": 5,
     "metadata": {},
     "output_type": "execute_result"
    }
   ],
   "source": [
    "if cosmic_csv and not os.path.isfile(cosmic_csv):\n",
    "    gget.cosmic(\n",
    "        None,\n",
    "        grch_version=37,\n",
    "        cosmic_version=101,\n",
    "        out=cosmic_dir,\n",
    "        mutation_class=\"cancer\",\n",
    "        download_cosmic=True,\n",
    "        keep_genome_info=True,\n",
    "        remove_duplicates=True\n",
    "    )\n",
    "\n",
    "cosmic_df = pd.read_csv(cosmic_csv)\n",
    "\n",
    "if \"mutation_cdna\" not in cosmic_df.columns:\n",
    "    reference_cdna_path = os.path.join(reference_genome_dir, \"Homo_sapiens.GRCh37.cdna.all.fa\")\n",
    "    reference_cds_path = os.path.join(reference_genome_dir, \"Homo_sapiens.GRCh37.cds.all.fa\")\n",
    "    if not os.path.exists(reference_cdna_path):\n",
    "        reference_cdna_dir = os.path.dirname(reference_cdna_path) if os.path.dirname(reference_cdna_path) else \".\"\n",
    "        !gget ref -w cdna -r 93 --out_dir {reference_cdna_dir} -d human_grch37\n",
    "        !gunzip {reference_cdna_path}.gz\n",
    "    if not os.path.exists(reference_cds_path):\n",
    "        reference_cds_dir = os.path.dirname(reference_cds_path) if os.path.dirname(reference_cds_path) else \".\"\n",
    "        !gget ref -w cdna -r 93 --out_dir {reference_cds_dir} -d human_grch37\n",
    "        !gunzip {reference_cds_path}.gz\n",
    "    print(\"Converting CDS to cDNA in COSMIC\")\n",
    "    cosmic_df, _ = vk.utils.convert_mutation_cds_locations_to_cdna(input_csv_path=cosmic_df, output_csv_path=cosmic_csv, cds_fasta_path=reference_cds_path, cdna_fasta_path=reference_cdna_path, verbose=True)\n",
    "\n",
    "if \"header\" not in cosmic_df.columns:\n",
    "    cosmic_df[\"header\"] = cosmic_df[\"seq_ID\"] + \":\" + cosmic_df[\"mutation_cdna\"]\n",
    "    cosmic_df.to_csv(cosmic_csv, index=False)\n",
    "\n",
    "cosmic_df.head()"
   ]
  },
  {
   "cell_type": "markdown",
   "id": "492c02ce",
   "metadata": {},
   "source": [
    "### Make bowtie2 index files"
   ]
  },
  {
   "cell_type": "code",
   "execution_count": 6,
   "id": "17451c12",
   "metadata": {},
   "outputs": [],
   "source": [
    "if not os.path.exists(bowtie_reference_dir) or len(os.listdir(bowtie_reference_dir)) == 0:\n",
    "    os.makedirs(bowtie_reference_dir, exist_ok=True)\n",
    "    !{bowtie2_build} --threads {threads} {reference_genome_fasta} {bowtie_reference_prefix}"
   ]
  },
  {
   "cell_type": "markdown",
   "id": "0e3028e5",
   "metadata": {},
   "source": [
    "### Download fastq file"
   ]
  },
  {
   "cell_type": "code",
   "execution_count": 7,
   "id": "2e2bae66",
   "metadata": {},
   "outputs": [
    {
     "name": "stdout",
     "output_type": "stream",
     "text": [
      "--2025-03-21 09:14:25--  ftp://ftp.sra.ebi.ac.uk/vol1/fastq/SRR861/003/SRR8615233/SRR8615233_1.fastq.gz\n",
      "           => ‘/Users/joeyrich/Desktop/local/RLSRWP_2025/data/ccle_data_base/RNASeq_MELHO_SKIN/SRR8615233_1.fastq.gz’\n",
      "Resolving ftp.sra.ebi.ac.uk (ftp.sra.ebi.ac.uk)... 193.62.193.165\n",
      "Connecting to ftp.sra.ebi.ac.uk (ftp.sra.ebi.ac.uk)|193.62.193.165|:21... connected.\n",
      "Logging in as anonymous ... Logged in!\n",
      "==> SYST ... done.    ==> PWD ... done.\n",
      "==> TYPE I ... done.  ==> CWD (1) /vol1/fastq/SRR861/003/SRR8615233 ... done.\n",
      "==> SIZE SRR8615233_1.fastq.gz ... 3728501472\n",
      "==> PASV ... done.    ==> RETR SRR8615233_1.fastq.gz ... done.\n",
      "Length: 3728501472 (3.5G) (unauthoritative)\n",
      "\n",
      "SRR8615233_1.fastq.  42%[=======>            ]   1.48G  --.-KB/s    in 31m 33s \n",
      "\n",
      "2025-03-21 09:46:01 (820 KB/s) - Data connection: Operation timed out; Control connection closed.\n",
      "Retrying.\n",
      "\n",
      "--2025-03-21 10:01:02--  ftp://ftp.sra.ebi.ac.uk/vol1/fastq/SRR861/003/SRR8615233/SRR8615233_1.fastq.gz\n",
      "  (try: 2) => ‘/Users/joeyrich/Desktop/local/RLSRWP_2025/data/ccle_data_base/RNASeq_MELHO_SKIN/SRR8615233_1.fastq.gz’\n",
      "Connecting to ftp.sra.ebi.ac.uk (ftp.sra.ebi.ac.uk)|193.62.193.165|:21... connected.\n",
      "Logging in as anonymous ... Logged in!\n",
      "==> SYST ... done.    ==> PWD ... done.\n",
      "==> TYPE I ... done.  ==> CWD (1) /vol1/fastq/SRR861/003/SRR8615233 ... done.\n",
      "==> SIZE SRR8615233_1.fastq.gz ... 3728501472\n",
      "==> PASV ... done.    ==> REST 1589315168 ... done.    \n",
      "==> RETR SRR8615233_1.fastq.gz ... done.\n",
      "Length: 3728501472 (3.5G), 2139186304 (2.0G) remaining (unauthoritative)\n",
      "\n",
      "SRR8615233_1.fastq. 100%[++++++++===========>]   3.47G  24.1MB/s    in 92s     \n",
      "\n",
      "2025-03-21 10:02:36 (22.3 MB/s) - ‘/Users/joeyrich/Desktop/local/RLSRWP_2025/data/ccle_data_base/RNASeq_MELHO_SKIN/SRR8615233_1.fastq.gz’ saved [3728501472]\n",
      "\n"
     ]
    }
   ],
   "source": [
    "if not os.path.isfile(fastq_file):\n",
    "    fastq_file_link = \"ftp://ftp.sra.ebi.ac.uk/vol1/fastq/SRR861/003/SRR8615233/SRR8615233_1.fastq.gz\"  # [\"ftp.sra.ebi.ac.uk/vol1/fastq/SRR861/003/SRR8615233/SRR8615233_1.fastq.gz\", \"ftp.sra.ebi.ac.uk/vol1/fastq/SRR861/003/SRR8615233/SRR8615233_2.fastq.gz\"]\n",
    "    os.makedirs(fastqs_dir, exist_ok=True)\n",
    "    !wget -c --tries=5 --retry-connrefused -O {fastq_file} {fastq_file_link}"
   ]
  },
  {
   "cell_type": "code",
   "execution_count": 8,
   "id": "0dc6d8e2",
   "metadata": {},
   "outputs": [],
   "source": [
    "if use_head:\n",
    "    fastq_file_head = fastq_file.replace(\".fastq.gz\", \"_head.fastq\")\n",
    "    if not os.path.isfile(fastq_file_head):\n",
    "        !zcat {fastq_file} | head -1000000 > $fastq_file_head\n",
    "    fastq_file = fastq_file_head"
   ]
  },
  {
   "cell_type": "code",
   "execution_count": 9,
   "id": "907dad2a",
   "metadata": {},
   "outputs": [
    {
     "name": "stdout",
     "output_type": "stream",
     "text": [
      "\u0002MJ�mQ>�#K���X�U�n�������>�CQ�������<����e��\n",
      "&\u0018\u0013.�`.�]��\u0019\u0007�^��rq�3�s�\n",
      "a��柀ߏ�\u0003�����9����\u0017�\u001d6\u0007�\u000f_\tg����\u001f��\u000f#>^�cz]>�_�c�g��\n",
      "�/���C�\u0002�Jw�/\u000fe�W\u001a�G�\u0003�\u001f\u0017|�8�\u00029�\u0005���{Do\u0007=s�f�\u0006�oZI3]?·@�i��\u0014�gǫ<�PZ\u0019\u001b�\"ɬ��C��|Ŧ\u0000�.��@A�b�}�W�\u0002:�ï�\u0015�Je��fһ\u0010��\u001f�'�{�v��Hx�\u000b��N�Y>\u0014&�$\u001e%\tÄ\u000f\u001bP�\u0001�\u000b��\u001eF�ⵇ�A8e\f(\u000bŒ\u0012erV(\u0010��G|\u001e>*���ܔ�?x����8$\u0005i\u0012\u0004 a�l^��9|\u000b.QG�6CZ4����\u0013R\u001e���'\u0019�]�/\\�'��!$]��4���o$-�[2�\u0003�ȨD\u0017��$4�g��Ym*����\u001b�3��^)J�/��G:b���\u0001/\u001b/k�\u0017�DiX����~�/\u0005���\u0016_��&����0\u0006oP�f\u0004�\u0005z\u0012ހ \u0006\u001b�\u0006���U֝]<��j�l5\\\u0016��6�\u0011���r5�ү�;n�t���]�e�\u000700\u0017�EdMXc������[�?C���\u0019Z\">��+\u001c�\u0015xo���z\u0001]���{��ڻO'[һ��)�O\u0019z\u000bV�6'�\u000f�@�\f�!\u001eG�S��Y��Vѫ�7\u0004\u000f^���%g��a��)�\u001e\f�?��\u0005�-�Kz9�.�w��\u0018���ԺT���@i҆a�Z4 �\u001e��ӹ�t�m�uu��y�FW�J�(�f��m�z-j��n%_��I�\u000f����/��7}3ZR�'�=4D$\u001f�����d0�~\fa�}o�\u001f���oRp?�\u0006�\u0019໣\u0017d<@�xӬ\u0011N�\u0016\u001eFK!\u001b��=h�\u0016�6hbV�5�&��Pql=\u001fsV��3���}@��j�d��(�_b>�p��\u001784(�3<���v-\\UmDݬ���6�\u001dJ\u0018��3\u001aH\u0007�\u001c=JG\u0006�\u001c=���7g�\u0012؏&�\u0006:��\u001a�\u001e��Oa�s\"����\u0004�g\u0007����&Q���JM|\u0002����\u0012\u0002�ٳ�Oo{�؆,�a�\u0003���T�Y�����g�H�\u0011\u000e*�'�\u0015\"�No'zĈ_\u0004XW����#�y�͋'���\u0007\t�s�Mtb�>�\u0017�������J٣\u0007}tp֜����ZJ�?+)\u0014�w���K%;�)��l�e-�0��mY�w�����\u0016�}A8���]\\��0C4<\u0003\u0013�@�_\u0018#\"c�����S8?����tx���a�ٗ$!�D���z�\t_�m\\���R\u0012��C\n",
      "~\u0013\u0002|��\u0010Yh���C[�%l6���'ï�Q\u0016\u001f0��1\u0019Jh�\u0013�\u0004�8G�\u0011,�\u0012\u0016�S\u001a�\u0014��B?X���y�\u0000\t��A+\u000f`;�f@��\u0007���g�Nm��Pk���p�L�\u001a\u000e,�ǣ�?��:���\u0014�i\u001eq*9����7���4X�Sݠ�ӓ�5;�|�\u000e��OO���S\t@��NK���3��W\u0010HI)��)��\u0016�Z�rs(�\u0010�.b\u000b\u0014\f�\u000b�_@��\u0010\u0006}\"�\u0010�!\u001b\u00195#7GY4�\u001c�w�F�]�\\��js����D\u0018��R��pQ���)\"�a\\ڞa�|�kXfH�����!\u0019��\u001bn@>�\u0007u�Ag��\u00160J�l\u000f��`}��kiM?ZS6's�:�:\u0003*��[\u0005�\u0013~���'An��B<���5U��p�l�\n",
      "����m�Ȟ���-�Ph<Q*�r\u001a��`�H�\u000b3��\u001aB��m�%�o\n",
      "��F)̣\u0001�\t���\u0005?\u0018z�F�����;\u001e��郎Z��R\n",
      "�6m[�]�RK�P\u0014�Y��\u001ej��ثBb���10D�����v���4�,�F���{�z,J\u0019�1e���{\\�i�������\u0013�V�X��|�� \u0002˥ԣ��f�\u001c\u0014\u0017�)P�\f��av��ujǰ�4�h'���\u0007���W�Mu�S�f+�'\\G>������s���\u0016�\"3�oD\u0011�0\u000e\u0010\u000b��1�\"r�\u0014���|�\u0001?�Q�{\u0014��\u0000*�k\u0011��\u00160ykRX�(�����\u0014�i\u001e�J�m�teVb>���\u000f\f6�9�q\u001b4��\u000fY�u��8n�#e�>�*/o�L�0��?\u001d鐪�\\@��U'\u000ew�U_�'\u0006\u001aT�%_�^�u����\u0014��\fw���~>�k\u0000�lbq�\u0014�\u0018\u001f~�K�#\u001f�\u0007?3ם\u0000�\u0000�vC��\f�\u000e��0���\u0016`�h�N\u001f��Q�0\u0012$��%Bdуᩔݖ���F\u000b�s\u0012�E��V�RKYk8�*�4���c���\u0012^8z��.�c�����i~|?g��:\u001c�Nt\u0000�9��()�:P����\u0010���Zo��\t����\u001f�1�˵�ͦh\u0018y�]3鮱\u0000\u001ci|���u�I�QB�5t\u0011џc�\f�\u001a�O�7`����D�\u0015l\u000f�V�\u0004C�\u0018\u001cF�� �ҹ\u001eDR�xc��\u00189�*+ֵ�ݦܑ��\t��s��w-�t�� ;�\u0010g\u0011Qq\u00149���m��F\u000b��1~��ZK�ߔ{�4�l\\�����۶����T���\n",
      "\u0005�$,6U�����FY�<��.ڟc�\u001f\u0013��#�\u000e�5_�Ϲ���Ni��������U��w��|J�38�r3i���YOH��Q�\u0012\u0016p(;e��%�����Ə���׸��6\u0015��|(���P\"6\fqr\n",
      "[���5X�\u0013������w�ű�\u001c��\u0005:��c:tf%\\��������68 �|��6jz�k;\u001e6��\u001f�0ǡ|Z��Վ�\"�$��Ě�@k\u0017?��Y�y\u001f�ͱHY���{T&��\u001f\f����QB~E���ߋ2����pBA{J��(\u0019����\u001a�\u0000F��VJm\f�\u001fb/\n"
     ]
    }
   ],
   "source": [
    "!head {fastq_file}"
   ]
  },
  {
   "cell_type": "markdown",
   "id": "202970af",
   "metadata": {},
   "source": [
    "### Make pyfastx index files"
   ]
  },
  {
   "cell_type": "code",
   "execution_count": 10,
   "id": "a971147c",
   "metadata": {},
   "outputs": [],
   "source": [
    "fastq_indexed = pyfastx.Fastq(fastq_file, build_index=True)\n",
    "vcrs_fasta_indexed = pyfastx.Fasta(vcrs_fasta, build_index=True)"
   ]
  },
  {
   "cell_type": "markdown",
   "id": "e4fc8333",
   "metadata": {},
   "source": [
    "### Make kb reference files if qc_against_gene_matrix=True"
   ]
  },
  {
   "cell_type": "code",
   "execution_count": 11,
   "id": "5fc75df4",
   "metadata": {},
   "outputs": [],
   "source": [
    "kb_count_reference_genome_adata = os.path.join(kb_count_reference_genome_dir, \"counts_unfiltered\", \"adata.h5ad\")\n",
    "if qc_against_gene_matrix and not os.path.exists(kb_count_reference_genome_adata):  # check if kb count was run\n",
    "    os.makedirs(kb_count_reference_genome_dir, exist_ok=True)\n",
    "    if not os.path.exists(reference_genome_index) or not os.path.exists(reference_genome_t2g):  # check if kb ref was run\n",
    "        if not os.path.exists(reference_genome_fasta) or not os.path.exists(reference_genome_gtf):\n",
    "            reference_genome_out_dir = os.path.dirname(reference_genome_fasta) if reference_genome_fasta else \".\"\n",
    "            # using grch37, ensembl 93 to agree with COSMIC\n",
    "            !gget ref -w dna,gtf -r 93 --out_dir {reference_genome_out_dir} -d human_grch37 && gunzip {reference_genome_fasta}.gz && gunzip {reference_genome_gtf}.gz\n",
    "        reference_genome_f1 = os.path.join(kb_count_reference_genome_dir, \"f1.fa\")\n",
    "        !kb ref -t {threads} -i {reference_genome_index} -g {reference_genome_t2g} -f1 {reference_genome_f1} {reference_genome_fasta} {reference_genome_gtf}"
   ]
  },
  {
   "cell_type": "markdown",
   "id": "70df8866",
   "metadata": {},
   "source": [
    "### Perform variant screening with varseek count"
   ]
  },
  {
   "cell_type": "code",
   "execution_count": 12,
   "id": "ca71a00e",
   "metadata": {},
   "outputs": [
    {
     "name": "stderr",
     "output_type": "stream",
     "text": [
      "10:04:58 - INFO - Setting length_required to 51 if fastqpp is run\n",
      "10:04:58 - INFO - Skipping vk fastqpp because disable_fastqpp=True\n",
      "10:04:58 - INFO - Running kb count with command: kb count -t 2 -k 51 -i /Users/joeyrich/Desktop/local/RLSRWP_2025/data/vk_ref_out/vcrs_index.idx -g /Users/joeyrich/Desktop/local/RLSRWP_2025/data/vk_ref_out/vcrs_t2g_filtered.txt -x BULK --h5ad -o /Users/joeyrich/Desktop/local/RLSRWP_2025/data/varseek_count_out_alignment_visualization_full/kb_count_out_vcrs --overwrite --strand unstranded --parity single --num /Users/joeyrich/Desktop/local/RLSRWP_2025/data/ccle_data_base/RNASeq_MELHO_SKIN/SRR8615233_1.fastq.gz\n",
      "[2025-03-21 10:05:05,199]    INFO [count] Using index /Users/joeyrich/Desktop/local/RLSRWP_2025/data/vk_ref_out/vcrs_index.idx to generate BUS file to /Users/joeyrich/Desktop/local/RLSRWP_2025/data/varseek_count_out_alignment_visualization_full/kb_count_out_vcrs from\n",
      "[2025-03-21 10:05:05,200]    INFO [count]         /Users/joeyrich/Desktop/local/RLSRWP_2025/data/ccle_data_base/RNASeq_MELHO_SKIN/SRR8615233_1.fastq.gz\n",
      "[2025-03-21 10:15:23,355]    INFO [count] Sorting BUS file /Users/joeyrich/Desktop/local/RLSRWP_2025/data/varseek_count_out_alignment_visualization_full/kb_count_out_vcrs/output.bus to /Users/joeyrich/Desktop/local/RLSRWP_2025/data/varseek_count_out_alignment_visualization_full/kb_count_out_vcrs/tmp/output.s.bus\n",
      "[2025-03-21 10:15:25,097]    INFO [count] Inspecting BUS file /Users/joeyrich/Desktop/local/RLSRWP_2025/data/varseek_count_out_alignment_visualization_full/kb_count_out_vcrs/tmp/output.s.bus\n",
      "[2025-03-21 10:15:26,209]    INFO [count] Generating count matrix /Users/joeyrich/Desktop/local/RLSRWP_2025/data/varseek_count_out_alignment_visualization_full/kb_count_out_vcrs/counts_unfiltered/cells_x_genes from BUS file /Users/joeyrich/Desktop/local/RLSRWP_2025/data/varseek_count_out_alignment_visualization_full/kb_count_out_vcrs/tmp/output.s.bus\n",
      "[2025-03-21 10:15:50,712]    INFO [count] Writing gene names to file /Users/joeyrich/Desktop/local/RLSRWP_2025/data/varseek_count_out_alignment_visualization_full/kb_count_out_vcrs/counts_unfiltered/cells_x_genes.genes.names.txt\n",
      "[2025-03-21 10:15:54,605] WARNING [count] 5329695 gene IDs do not have corresponding valid gene names. These genes will use their gene IDs instead.\n",
      "[2025-03-21 10:15:55,371]    INFO [count] Reading matrix /Users/joeyrich/Desktop/local/RLSRWP_2025/data/varseek_count_out_alignment_visualization_full/kb_count_out_vcrs/counts_unfiltered/cells_x_genes.mtx\n",
      "[2025-03-21 10:16:25,321]    INFO [count] Writing matrix to h5ad /Users/joeyrich/Desktop/local/RLSRWP_2025/data/varseek_count_out_alignment_visualization_full/kb_count_out_vcrs/counts_unfiltered/adata.h5ad\n",
      "10:16:27 - INFO - Skipping kb count for reference genome because the reference genome adata object was not needed and/or the file '/Users/joeyrich/Desktop/local/RLSRWP_2025/data/varseek_count_out_alignment_visualization_full/kb_count_out_reference_genome/counts_unfiltered/adata.h5ad' already exists. Note that even setting overwrite=True will still not overwrite this particular directory\n",
      "10:16:27 - INFO - Skipping vk clean because disable_clean=True\n",
      "10:16:27 - INFO - Skipping vk summarize because disable_summarize=True\n",
      "10:16:27 - INFO - Total runtime for vk count: 11m, 33.73s\n"
     ]
    }
   ],
   "source": [
    "if not os.path.exists(adata_path):\n",
    "    vk_count_output_dict = vk.count(\n",
    "        fastq_file,\n",
    "        index=vcrs_index,\n",
    "        t2g=vcrs_t2g,\n",
    "        technology=technology,\n",
    "        out=vk_count_out_dir,\n",
    "        k=k,\n",
    "        strand=strand,\n",
    "        parity=parity,\n",
    "        threads=threads,\n",
    "        disable_fastqpp=True,\n",
    "        disable_clean=True,\n",
    "        disable_summarize=True\n",
    "        # quality_control_fastqs=True, cut_front=True, cut_tail=True  # equivalent to the fastp step above\n",
    "        # qc_against_gene_matrix=qc_against_gene_matrix, reference_genome_index=reference_genome_index, reference_genome_t2g=reference_genome_t2g,\n",
    "    )"
   ]
  },
  {
   "cell_type": "markdown",
   "id": "6038ec84",
   "metadata": {},
   "source": [
    "### Load in adata object"
   ]
  },
  {
   "cell_type": "code",
   "execution_count": 13,
   "id": "0dc1900e",
   "metadata": {},
   "outputs": [
    {
     "data": {
      "text/plain": [
       "AnnData object with n_obs × n_vars = 1 × 5329695"
      ]
     },
     "execution_count": 13,
     "metadata": {},
     "output_type": "execute_result"
    }
   ],
   "source": [
    "adata = anndata.read_h5ad(adata_path)\n",
    "adata"
   ]
  },
  {
   "cell_type": "markdown",
   "id": "9fef39c0",
   "metadata": {},
   "source": [
    "### View top 10 variants by total reads aligned"
   ]
  },
  {
   "cell_type": "code",
   "execution_count": 14,
   "id": "6bb6edfd",
   "metadata": {},
   "outputs": [
    {
     "data": {
      "text/plain": [
       "{'ENST00000361381:c.492A>G': 129694,\n",
       " 'ENST00000361381:c.952G>A': 38624,\n",
       " 'ENST00000361681:c.351C>T': 19182,\n",
       " 'ENST00000361681:c.441T>C': 14366,\n",
       " 'ENST00000398606:c.562A>G': 13934,\n",
       " 'ENST00000449260:c.1988C>T': 12589,\n",
       " 'ENST00000251453:c.80T>G': 11981,\n",
       " 'ENST00000398606:c.804T>C': 11300,\n",
       " 'ENST00000343262:c.156C>T': 6296,\n",
       " 'ENST00000314138:c.730C>T': 4712}"
      ]
     },
     "execution_count": 14,
     "metadata": {},
     "output_type": "execute_result"
    }
   ],
   "source": [
    "top10 = list(adata.var.index[np.argsort(np.array(adata.X.todense())[0])][::-1][:10])\n",
    "# Create a dictionary mapping gene names to counts\n",
    "top10_counts = np.array(adata.X.todense())[0][np.argsort(np.array(adata.X.todense())[0])][::-1][:10].astype(int)\n",
    "top10_dict = dict(zip(top10, top10_counts))\n",
    "top10_dict"
   ]
  },
  {
   "cell_type": "markdown",
   "id": "baee92d7",
   "metadata": {},
   "source": [
    "### Map the reads to the VCRS to which they aligned"
   ]
  },
  {
   "cell_type": "code",
   "execution_count": 27,
   "id": "84edcc75",
   "metadata": {},
   "outputs": [
    {
     "name": "stdout",
     "output_type": "stream",
     "text": [
      "loading in transcripts\n",
      "loading in barcodes\n"
     ]
    },
    {
     "name": "stderr",
     "output_type": "stream",
     "text": [
      "Processing FASTQ headers: 69015721it [00:55, 1238762.33it/s]\n"
     ]
    },
    {
     "name": "stdout",
     "output_type": "stream",
     "text": [
      "loading in ec matrix\n",
      "loading in bus df\n",
      "Merging fastq header df and ec_df into bus df\n",
      "Determining what counts in count matrix\n"
     ]
    },
    {
     "name": "stderr",
     "output_type": "stream",
     "text": [
      "100%|██████████| 893751/893751 [00:00<00:00, 2372827.07it/s]\n"
     ]
    },
    {
     "name": "stdout",
     "output_type": "stream",
     "text": [
      "Saving bus df as parquet to /Users/joeyrich/Desktop/local/RLSRWP_2025/data/varseek_count_out_alignment_visualization_full/kb_count_out_vcrs/bus_df.parquet\n"
     ]
    }
   ],
   "source": [
    "kb_count_out_dir = '/Users/joeyrich/Desktop/local/RLSRWP_2025/data/varseek_count_out_alignment_visualization_full/kb_count_out_vcrs'\n",
    "fastq_file = '/Users/joeyrich/Desktop/local/RLSRWP_2025/data/ccle_data_base/RNASeq_MELHO_SKIN/SRR8615233_1.fastq.gz'\n",
    "technology = 'bulk'\n",
    "parity = 'single'\n",
    "bustools = '/Users/joeyrich/miniconda3/envs/RLSRWP_2025/lib/python3.10/site-packages/kb_python/bins/darwin/m1/bustools/bustools'\n",
    "\n",
    "import importlib\n",
    "import varseek.utils.varseek_clean_utils\n",
    "importlib.reload(varseek.utils.varseek_clean_utils)\n",
    "from varseek.utils.varseek_clean_utils import make_bus_df\n",
    "\n",
    "bus_df = make_bus_df(kb_count_out_dir, fastq_file, technology=technology, parity=parity, bustools=bustools)"
   ]
  },
  {
   "cell_type": "code",
   "execution_count": 31,
   "id": "f7873165",
   "metadata": {},
   "outputs": [
    {
     "data": {
      "application/vnd.microsoft.datawrangler.viewer.v0+json": {
       "columns": [
        {
         "name": "index",
         "rawType": "int64",
         "type": "integer"
        },
        {
         "name": "barcode",
         "rawType": "object",
         "type": "string"
        },
        {
         "name": "UMI",
         "rawType": "object",
         "type": "string"
        },
        {
         "name": "EC",
         "rawType": "int64",
         "type": "integer"
        },
        {
         "name": "read_index",
         "rawType": "object",
         "type": "string"
        },
        {
         "name": "fastq_header",
         "rawType": "object",
         "type": "string"
        },
        {
         "name": "transcript_names",
         "rawType": "object",
         "type": "string"
        },
        {
         "name": "file_index",
         "rawType": "category",
         "type": "unknown"
        },
        {
         "name": "gene_names",
         "rawType": "object",
         "type": "string"
        },
        {
         "name": "counted_in_count_matrix",
         "rawType": "bool",
         "type": "boolean"
        }
       ],
       "conversionMethod": "pd.DataFrame",
       "ref": "c181d895-43ce-4937-898c-b041e3211a3e",
       "rows": [
        [
         "0",
         "AAAAAAAAAAAAAAAA",
         "T",
         "0",
         "588",
         "SRR8615233.589",
         "('ENST00000326592:c.1538A>C',)",
         "0",
         "('ENST00000326592:c.1538A>C',)",
         "True"
        ],
        [
         "1",
         "AAAAAAAAAAAAAAAA",
         "T",
         "1",
         "656",
         "SRR8615233.657",
         "('ENST00000326592:c.1474A>C',)",
         "0",
         "('ENST00000326592:c.1474A>C',)",
         "True"
        ],
        [
         "2",
         "AAAAAAAAAAAAAAAA",
         "T",
         "2",
         "886",
         "SRR8615233.887",
         "('ENST00000326592:c.1235C>T',)",
         "0",
         "('ENST00000326592:c.1235C>T',)",
         "True"
        ]
       ],
       "shape": {
        "columns": 9,
        "rows": 3
       }
      },
      "text/html": [
       "<div>\n",
       "<style scoped>\n",
       "    .dataframe tbody tr th:only-of-type {\n",
       "        vertical-align: middle;\n",
       "    }\n",
       "\n",
       "    .dataframe tbody tr th {\n",
       "        vertical-align: top;\n",
       "    }\n",
       "\n",
       "    .dataframe thead th {\n",
       "        text-align: right;\n",
       "    }\n",
       "</style>\n",
       "<table border=\"1\" class=\"dataframe\">\n",
       "  <thead>\n",
       "    <tr style=\"text-align: right;\">\n",
       "      <th></th>\n",
       "      <th>barcode</th>\n",
       "      <th>UMI</th>\n",
       "      <th>EC</th>\n",
       "      <th>read_index</th>\n",
       "      <th>fastq_header</th>\n",
       "      <th>transcript_names</th>\n",
       "      <th>file_index</th>\n",
       "      <th>gene_names</th>\n",
       "      <th>counted_in_count_matrix</th>\n",
       "    </tr>\n",
       "  </thead>\n",
       "  <tbody>\n",
       "    <tr>\n",
       "      <th>0</th>\n",
       "      <td>AAAAAAAAAAAAAAAA</td>\n",
       "      <td>T</td>\n",
       "      <td>0</td>\n",
       "      <td>588</td>\n",
       "      <td>SRR8615233.589</td>\n",
       "      <td>(ENST00000326592:c.1538A&gt;C,)</td>\n",
       "      <td>0</td>\n",
       "      <td>(ENST00000326592:c.1538A&gt;C,)</td>\n",
       "      <td>True</td>\n",
       "    </tr>\n",
       "    <tr>\n",
       "      <th>1</th>\n",
       "      <td>AAAAAAAAAAAAAAAA</td>\n",
       "      <td>T</td>\n",
       "      <td>1</td>\n",
       "      <td>656</td>\n",
       "      <td>SRR8615233.657</td>\n",
       "      <td>(ENST00000326592:c.1474A&gt;C,)</td>\n",
       "      <td>0</td>\n",
       "      <td>(ENST00000326592:c.1474A&gt;C,)</td>\n",
       "      <td>True</td>\n",
       "    </tr>\n",
       "    <tr>\n",
       "      <th>2</th>\n",
       "      <td>AAAAAAAAAAAAAAAA</td>\n",
       "      <td>T</td>\n",
       "      <td>2</td>\n",
       "      <td>886</td>\n",
       "      <td>SRR8615233.887</td>\n",
       "      <td>(ENST00000326592:c.1235C&gt;T,)</td>\n",
       "      <td>0</td>\n",
       "      <td>(ENST00000326592:c.1235C&gt;T,)</td>\n",
       "      <td>True</td>\n",
       "    </tr>\n",
       "  </tbody>\n",
       "</table>\n",
       "</div>"
      ],
      "text/plain": [
       "            barcode UMI  EC read_index    fastq_header  \\\n",
       "0  AAAAAAAAAAAAAAAA   T   0        588  SRR8615233.589   \n",
       "1  AAAAAAAAAAAAAAAA   T   1        656  SRR8615233.657   \n",
       "2  AAAAAAAAAAAAAAAA   T   2        886  SRR8615233.887   \n",
       "\n",
       "               transcript_names file_index                    gene_names  \\\n",
       "0  (ENST00000326592:c.1538A>C,)          0  (ENST00000326592:c.1538A>C,)   \n",
       "1  (ENST00000326592:c.1474A>C,)          0  (ENST00000326592:c.1474A>C,)   \n",
       "2  (ENST00000326592:c.1235C>T,)          0  (ENST00000326592:c.1235C>T,)   \n",
       "\n",
       "   counted_in_count_matrix  \n",
       "0                     True  \n",
       "1                     True  \n",
       "2                     True  "
      ]
     },
     "execution_count": 31,
     "metadata": {},
     "output_type": "execute_result"
    }
   ],
   "source": [
    "bus_df.head(3)"
   ]
  },
  {
   "cell_type": "code",
   "execution_count": null,
   "id": "46e9ec0f",
   "metadata": {},
   "outputs": [],
   "source": [
    "bus_df.to_csv(\"bus_df_test.csv\", index=False)\n",
    "bus_df_copy = bus_df.copy()\n",
    "bus_df_copy[\"transcript_names\"] = bus_df_copy[\"transcript_names\"].apply(list)\n",
    "bus_df_copy[\"gene_names\"] = bus_df_copy[\"gene_names\"].apply(list)\n",
    "bus_df_copy.to_parquet(\"bus_df_test.parquet\", index=False)"
   ]
  },
  {
   "cell_type": "code",
   "execution_count": null,
   "id": "9bbcb223",
   "metadata": {},
   "outputs": [
    {
     "name": "stdout",
     "output_type": "stream",
     "text": [
      "<class 'str'>\n"
     ]
    },
    {
     "data": {
      "application/vnd.microsoft.datawrangler.viewer.v0+json": {
       "columns": [
        {
         "name": "index",
         "rawType": "int64",
         "type": "integer"
        },
        {
         "name": "barcode",
         "rawType": "object",
         "type": "string"
        },
        {
         "name": "UMI",
         "rawType": "object",
         "type": "string"
        },
        {
         "name": "EC",
         "rawType": "int64",
         "type": "integer"
        },
        {
         "name": "read_index",
         "rawType": "int64",
         "type": "integer"
        },
        {
         "name": "fastq_header",
         "rawType": "object",
         "type": "string"
        },
        {
         "name": "transcript_names",
         "rawType": "object",
         "type": "string"
        },
        {
         "name": "file_index",
         "rawType": "int64",
         "type": "integer"
        },
        {
         "name": "gene_names",
         "rawType": "object",
         "type": "string"
        },
        {
         "name": "counted_in_count_matrix",
         "rawType": "bool",
         "type": "boolean"
        }
       ],
       "conversionMethod": "pd.DataFrame",
       "ref": "106ce60b-3351-496f-833f-57f56711c2d5",
       "rows": [
        [
         "0",
         "AAAAAAAAAAAAAAAA",
         "T",
         "0",
         "588",
         "SRR8615233.589",
         "('ENST00000326592:c.1538A>C',)",
         "0",
         "('ENST00000326592:c.1538A>C',)",
         "True"
        ],
        [
         "1",
         "AAAAAAAAAAAAAAAA",
         "T",
         "1",
         "656",
         "SRR8615233.657",
         "('ENST00000326592:c.1474A>C',)",
         "0",
         "('ENST00000326592:c.1474A>C',)",
         "True"
        ],
        [
         "2",
         "AAAAAAAAAAAAAAAA",
         "T",
         "2",
         "886",
         "SRR8615233.887",
         "('ENST00000326592:c.1235C>T',)",
         "0",
         "('ENST00000326592:c.1235C>T',)",
         "True"
        ],
        [
         "3",
         "AAAAAAAAAAAAAAAA",
         "T",
         "2",
         "997",
         "SRR8615233.998",
         "('ENST00000326592:c.1235C>T',)",
         "0",
         "('ENST00000326592:c.1235C>T',)",
         "True"
        ],
        [
         "4",
         "AAAAAAAAAAAAAAAA",
         "T",
         "3",
         "4353",
         "SRR8615233.4354",
         "('ENST00000361390:c.518G>A',)",
         "0",
         "('ENST00000361390:c.518G>A',)",
         "True"
        ]
       ],
       "shape": {
        "columns": 9,
        "rows": 5
       }
      },
      "text/html": [
       "<div>\n",
       "<style scoped>\n",
       "    .dataframe tbody tr th:only-of-type {\n",
       "        vertical-align: middle;\n",
       "    }\n",
       "\n",
       "    .dataframe tbody tr th {\n",
       "        vertical-align: top;\n",
       "    }\n",
       "\n",
       "    .dataframe thead th {\n",
       "        text-align: right;\n",
       "    }\n",
       "</style>\n",
       "<table border=\"1\" class=\"dataframe\">\n",
       "  <thead>\n",
       "    <tr style=\"text-align: right;\">\n",
       "      <th></th>\n",
       "      <th>barcode</th>\n",
       "      <th>UMI</th>\n",
       "      <th>EC</th>\n",
       "      <th>read_index</th>\n",
       "      <th>fastq_header</th>\n",
       "      <th>transcript_names</th>\n",
       "      <th>file_index</th>\n",
       "      <th>gene_names</th>\n",
       "      <th>counted_in_count_matrix</th>\n",
       "    </tr>\n",
       "  </thead>\n",
       "  <tbody>\n",
       "    <tr>\n",
       "      <th>0</th>\n",
       "      <td>AAAAAAAAAAAAAAAA</td>\n",
       "      <td>T</td>\n",
       "      <td>0</td>\n",
       "      <td>588</td>\n",
       "      <td>SRR8615233.589</td>\n",
       "      <td>('ENST00000326592:c.1538A&gt;C',)</td>\n",
       "      <td>0</td>\n",
       "      <td>('ENST00000326592:c.1538A&gt;C',)</td>\n",
       "      <td>True</td>\n",
       "    </tr>\n",
       "    <tr>\n",
       "      <th>1</th>\n",
       "      <td>AAAAAAAAAAAAAAAA</td>\n",
       "      <td>T</td>\n",
       "      <td>1</td>\n",
       "      <td>656</td>\n",
       "      <td>SRR8615233.657</td>\n",
       "      <td>('ENST00000326592:c.1474A&gt;C',)</td>\n",
       "      <td>0</td>\n",
       "      <td>('ENST00000326592:c.1474A&gt;C',)</td>\n",
       "      <td>True</td>\n",
       "    </tr>\n",
       "    <tr>\n",
       "      <th>2</th>\n",
       "      <td>AAAAAAAAAAAAAAAA</td>\n",
       "      <td>T</td>\n",
       "      <td>2</td>\n",
       "      <td>886</td>\n",
       "      <td>SRR8615233.887</td>\n",
       "      <td>('ENST00000326592:c.1235C&gt;T',)</td>\n",
       "      <td>0</td>\n",
       "      <td>('ENST00000326592:c.1235C&gt;T',)</td>\n",
       "      <td>True</td>\n",
       "    </tr>\n",
       "    <tr>\n",
       "      <th>3</th>\n",
       "      <td>AAAAAAAAAAAAAAAA</td>\n",
       "      <td>T</td>\n",
       "      <td>2</td>\n",
       "      <td>997</td>\n",
       "      <td>SRR8615233.998</td>\n",
       "      <td>('ENST00000326592:c.1235C&gt;T',)</td>\n",
       "      <td>0</td>\n",
       "      <td>('ENST00000326592:c.1235C&gt;T',)</td>\n",
       "      <td>True</td>\n",
       "    </tr>\n",
       "    <tr>\n",
       "      <th>4</th>\n",
       "      <td>AAAAAAAAAAAAAAAA</td>\n",
       "      <td>T</td>\n",
       "      <td>3</td>\n",
       "      <td>4353</td>\n",
       "      <td>SRR8615233.4354</td>\n",
       "      <td>('ENST00000361390:c.518G&gt;A',)</td>\n",
       "      <td>0</td>\n",
       "      <td>('ENST00000361390:c.518G&gt;A',)</td>\n",
       "      <td>True</td>\n",
       "    </tr>\n",
       "  </tbody>\n",
       "</table>\n",
       "</div>"
      ],
      "text/plain": [
       "            barcode UMI  EC  read_index     fastq_header  \\\n",
       "0  AAAAAAAAAAAAAAAA   T   0         588   SRR8615233.589   \n",
       "1  AAAAAAAAAAAAAAAA   T   1         656   SRR8615233.657   \n",
       "2  AAAAAAAAAAAAAAAA   T   2         886   SRR8615233.887   \n",
       "3  AAAAAAAAAAAAAAAA   T   2         997   SRR8615233.998   \n",
       "4  AAAAAAAAAAAAAAAA   T   3        4353  SRR8615233.4354   \n",
       "\n",
       "                 transcript_names  file_index                      gene_names  \\\n",
       "0  ('ENST00000326592:c.1538A>C',)           0  ('ENST00000326592:c.1538A>C',)   \n",
       "1  ('ENST00000326592:c.1474A>C',)           0  ('ENST00000326592:c.1474A>C',)   \n",
       "2  ('ENST00000326592:c.1235C>T',)           0  ('ENST00000326592:c.1235C>T',)   \n",
       "3  ('ENST00000326592:c.1235C>T',)           0  ('ENST00000326592:c.1235C>T',)   \n",
       "4   ('ENST00000361390:c.518G>A',)           0   ('ENST00000361390:c.518G>A',)   \n",
       "\n",
       "   counted_in_count_matrix  \n",
       "0                     True  \n",
       "1                     True  \n",
       "2                     True  \n",
       "3                     True  \n",
       "4                     True  "
      ]
     },
     "execution_count": 43,
     "metadata": {},
     "output_type": "execute_result"
    }
   ],
   "source": [
    "bus_df_copy_from_csv = pd.read_csv(\"bus_df_test.csv\")\n",
    "print(type(bus_df_copy_from_csv['transcript_names'][0]))\n",
    "bus_df_copy_from_csv.head()"
   ]
  },
  {
   "cell_type": "code",
   "execution_count": null,
   "id": "2e664f6b",
   "metadata": {},
   "outputs": [],
   "source": [
    "def parquet_column_list_to_tuple(df):\n",
    "    for col in df.columns:\n",
    "        first_value = df[col].dropna().iloc[0] if not df[col].dropna().empty else None\n",
    "        if isinstance(first_value, list):\n",
    "            df[col] = df[col].apply(tuple)\n",
    "def parquet_column_tuple_to_list(df):\n",
    "    for col in df.columns:\n",
    "        first_value = df[col].dropna().iloc[0] if not df[col].dropna().empty else None\n",
    "        if isinstance(first_value, tuple):\n",
    "            df[col] = df[col].apply(list)"
   ]
  },
  {
   "cell_type": "code",
   "execution_count": 79,
   "id": "f6c763c6",
   "metadata": {},
   "outputs": [
    {
     "data": {
      "application/vnd.microsoft.datawrangler.viewer.v0+json": {
       "columns": [
        {
         "name": "index",
         "rawType": "int64",
         "type": "integer"
        },
        {
         "name": "barcode",
         "rawType": "object",
         "type": "string"
        },
        {
         "name": "UMI",
         "rawType": "object",
         "type": "string"
        },
        {
         "name": "EC",
         "rawType": "int64",
         "type": "integer"
        },
        {
         "name": "read_index",
         "rawType": "int64",
         "type": "integer"
        },
        {
         "name": "fastq_header",
         "rawType": "object",
         "type": "string"
        },
        {
         "name": "transcript_names",
         "rawType": "object",
         "type": "string"
        },
        {
         "name": "file_index",
         "rawType": "category",
         "type": "unknown"
        },
        {
         "name": "gene_names",
         "rawType": "object",
         "type": "string"
        },
        {
         "name": "counted_in_count_matrix",
         "rawType": "bool",
         "type": "boolean"
        }
       ],
       "conversionMethod": "pd.DataFrame",
       "ref": "321c25b8-b525-4508-8681-d3198ab8fcfb",
       "rows": [
        [
         "0",
         "AAAAAAAAAAAAAAAA",
         "T",
         "0",
         "588",
         "SRR8615233.589",
         "['ENST00000326592:c.1538A>C']",
         "0",
         "['ENST00000326592:c.1538A>C']",
         "True"
        ],
        [
         "1",
         "AAAAAAAAAAAAAAAA",
         "T",
         "1",
         "656",
         "SRR8615233.657",
         "['ENST00000326592:c.1474A>C']",
         "0",
         "['ENST00000326592:c.1474A>C']",
         "True"
        ],
        [
         "2",
         "AAAAAAAAAAAAAAAA",
         "T",
         "2",
         "886",
         "SRR8615233.887",
         "['ENST00000326592:c.1235C>T']",
         "0",
         "['ENST00000326592:c.1235C>T']",
         "True"
        ],
        [
         "3",
         "AAAAAAAAAAAAAAAA",
         "T",
         "2",
         "997",
         "SRR8615233.998",
         "['ENST00000326592:c.1235C>T']",
         "0",
         "['ENST00000326592:c.1235C>T']",
         "True"
        ],
        [
         "4",
         "AAAAAAAAAAAAAAAA",
         "T",
         "3",
         "4353",
         "SRR8615233.4354",
         "['ENST00000361390:c.518G>A']",
         "0",
         "['ENST00000361390:c.518G>A']",
         "True"
        ],
        [
         "5",
         "AAAAAAAAAAAAAAAA",
         "T",
         "155680",
         "68998653",
         "SRR8615233.68998654",
         "['ENST00000379757:c.913C>T']",
         "0",
         "['ENST00000379757:c.913C>T']",
         "True"
        ],
        [
         "6",
         "AAAAAAAAAAAAAAAA",
         "T",
         "155681",
         "68998654",
         "SRR8615233.68998655",
         "['ENST00000431877:c.2438T>A']",
         "0",
         "['ENST00000431877:c.2438T>A']",
         "True"
        ],
        [
         "7",
         "AAAAAAAAAAAAAAAA",
         "T",
         "155682",
         "68998827",
         "SRR8615233.68998828",
         "['ENST00000262027:c.2692G>A']",
         "0",
         "['ENST00000262027:c.2692G>A']",
         "True"
        ],
        [
         "8",
         "AAAAAAAAAAAAAAAA",
         "T",
         "155683",
         "68999127",
         "SRR8615233.68999128",
         "['ENST00000429344:c.963C>T']",
         "0",
         "['ENST00000429344:c.963C>T']",
         "True"
        ],
        [
         "9",
         "AAAAAAAAAAAAAAAA",
         "T",
         "155684",
         "68999166",
         "SRR8615233.68999167",
         "['ENST00000485511:c.609G>T']",
         "0",
         "['ENST00000485511:c.609G>T']",
         "True"
        ]
       ],
       "shape": {
        "columns": 9,
        "rows": 10
       }
      },
      "text/html": [
       "<div>\n",
       "<style scoped>\n",
       "    .dataframe tbody tr th:only-of-type {\n",
       "        vertical-align: middle;\n",
       "    }\n",
       "\n",
       "    .dataframe tbody tr th {\n",
       "        vertical-align: top;\n",
       "    }\n",
       "\n",
       "    .dataframe thead th {\n",
       "        text-align: right;\n",
       "    }\n",
       "</style>\n",
       "<table border=\"1\" class=\"dataframe\">\n",
       "  <thead>\n",
       "    <tr style=\"text-align: right;\">\n",
       "      <th></th>\n",
       "      <th>barcode</th>\n",
       "      <th>UMI</th>\n",
       "      <th>EC</th>\n",
       "      <th>read_index</th>\n",
       "      <th>fastq_header</th>\n",
       "      <th>transcript_names</th>\n",
       "      <th>file_index</th>\n",
       "      <th>gene_names</th>\n",
       "      <th>counted_in_count_matrix</th>\n",
       "    </tr>\n",
       "  </thead>\n",
       "  <tbody>\n",
       "    <tr>\n",
       "      <th>0</th>\n",
       "      <td>AAAAAAAAAAAAAAAA</td>\n",
       "      <td>T</td>\n",
       "      <td>0</td>\n",
       "      <td>588</td>\n",
       "      <td>SRR8615233.589</td>\n",
       "      <td>[ENST00000326592:c.1538A&gt;C]</td>\n",
       "      <td>0</td>\n",
       "      <td>[ENST00000326592:c.1538A&gt;C]</td>\n",
       "      <td>True</td>\n",
       "    </tr>\n",
       "    <tr>\n",
       "      <th>1</th>\n",
       "      <td>AAAAAAAAAAAAAAAA</td>\n",
       "      <td>T</td>\n",
       "      <td>1</td>\n",
       "      <td>656</td>\n",
       "      <td>SRR8615233.657</td>\n",
       "      <td>[ENST00000326592:c.1474A&gt;C]</td>\n",
       "      <td>0</td>\n",
       "      <td>[ENST00000326592:c.1474A&gt;C]</td>\n",
       "      <td>True</td>\n",
       "    </tr>\n",
       "    <tr>\n",
       "      <th>2</th>\n",
       "      <td>AAAAAAAAAAAAAAAA</td>\n",
       "      <td>T</td>\n",
       "      <td>2</td>\n",
       "      <td>886</td>\n",
       "      <td>SRR8615233.887</td>\n",
       "      <td>[ENST00000326592:c.1235C&gt;T]</td>\n",
       "      <td>0</td>\n",
       "      <td>[ENST00000326592:c.1235C&gt;T]</td>\n",
       "      <td>True</td>\n",
       "    </tr>\n",
       "    <tr>\n",
       "      <th>3</th>\n",
       "      <td>AAAAAAAAAAAAAAAA</td>\n",
       "      <td>T</td>\n",
       "      <td>2</td>\n",
       "      <td>997</td>\n",
       "      <td>SRR8615233.998</td>\n",
       "      <td>[ENST00000326592:c.1235C&gt;T]</td>\n",
       "      <td>0</td>\n",
       "      <td>[ENST00000326592:c.1235C&gt;T]</td>\n",
       "      <td>True</td>\n",
       "    </tr>\n",
       "    <tr>\n",
       "      <th>4</th>\n",
       "      <td>AAAAAAAAAAAAAAAA</td>\n",
       "      <td>T</td>\n",
       "      <td>3</td>\n",
       "      <td>4353</td>\n",
       "      <td>SRR8615233.4354</td>\n",
       "      <td>[ENST00000361390:c.518G&gt;A]</td>\n",
       "      <td>0</td>\n",
       "      <td>[ENST00000361390:c.518G&gt;A]</td>\n",
       "      <td>True</td>\n",
       "    </tr>\n",
       "    <tr>\n",
       "      <th>5</th>\n",
       "      <td>AAAAAAAAAAAAAAAA</td>\n",
       "      <td>T</td>\n",
       "      <td>155680</td>\n",
       "      <td>68998653</td>\n",
       "      <td>SRR8615233.68998654</td>\n",
       "      <td>[ENST00000379757:c.913C&gt;T]</td>\n",
       "      <td>0</td>\n",
       "      <td>[ENST00000379757:c.913C&gt;T]</td>\n",
       "      <td>True</td>\n",
       "    </tr>\n",
       "    <tr>\n",
       "      <th>6</th>\n",
       "      <td>AAAAAAAAAAAAAAAA</td>\n",
       "      <td>T</td>\n",
       "      <td>155681</td>\n",
       "      <td>68998654</td>\n",
       "      <td>SRR8615233.68998655</td>\n",
       "      <td>[ENST00000431877:c.2438T&gt;A]</td>\n",
       "      <td>0</td>\n",
       "      <td>[ENST00000431877:c.2438T&gt;A]</td>\n",
       "      <td>True</td>\n",
       "    </tr>\n",
       "    <tr>\n",
       "      <th>7</th>\n",
       "      <td>AAAAAAAAAAAAAAAA</td>\n",
       "      <td>T</td>\n",
       "      <td>155682</td>\n",
       "      <td>68998827</td>\n",
       "      <td>SRR8615233.68998828</td>\n",
       "      <td>[ENST00000262027:c.2692G&gt;A]</td>\n",
       "      <td>0</td>\n",
       "      <td>[ENST00000262027:c.2692G&gt;A]</td>\n",
       "      <td>True</td>\n",
       "    </tr>\n",
       "    <tr>\n",
       "      <th>8</th>\n",
       "      <td>AAAAAAAAAAAAAAAA</td>\n",
       "      <td>T</td>\n",
       "      <td>155683</td>\n",
       "      <td>68999127</td>\n",
       "      <td>SRR8615233.68999128</td>\n",
       "      <td>[ENST00000429344:c.963C&gt;T]</td>\n",
       "      <td>0</td>\n",
       "      <td>[ENST00000429344:c.963C&gt;T]</td>\n",
       "      <td>True</td>\n",
       "    </tr>\n",
       "    <tr>\n",
       "      <th>9</th>\n",
       "      <td>AAAAAAAAAAAAAAAA</td>\n",
       "      <td>T</td>\n",
       "      <td>155684</td>\n",
       "      <td>68999166</td>\n",
       "      <td>SRR8615233.68999167</td>\n",
       "      <td>[ENST00000485511:c.609G&gt;T]</td>\n",
       "      <td>0</td>\n",
       "      <td>[ENST00000485511:c.609G&gt;T]</td>\n",
       "      <td>True</td>\n",
       "    </tr>\n",
       "  </tbody>\n",
       "</table>\n",
       "</div>"
      ],
      "text/plain": [
       "            barcode UMI      EC  read_index         fastq_header  \\\n",
       "0  AAAAAAAAAAAAAAAA   T       0         588       SRR8615233.589   \n",
       "1  AAAAAAAAAAAAAAAA   T       1         656       SRR8615233.657   \n",
       "2  AAAAAAAAAAAAAAAA   T       2         886       SRR8615233.887   \n",
       "3  AAAAAAAAAAAAAAAA   T       2         997       SRR8615233.998   \n",
       "4  AAAAAAAAAAAAAAAA   T       3        4353      SRR8615233.4354   \n",
       "5  AAAAAAAAAAAAAAAA   T  155680    68998653  SRR8615233.68998654   \n",
       "6  AAAAAAAAAAAAAAAA   T  155681    68998654  SRR8615233.68998655   \n",
       "7  AAAAAAAAAAAAAAAA   T  155682    68998827  SRR8615233.68998828   \n",
       "8  AAAAAAAAAAAAAAAA   T  155683    68999127  SRR8615233.68999128   \n",
       "9  AAAAAAAAAAAAAAAA   T  155684    68999166  SRR8615233.68999167   \n",
       "\n",
       "              transcript_names file_index                   gene_names  \\\n",
       "0  [ENST00000326592:c.1538A>C]          0  [ENST00000326592:c.1538A>C]   \n",
       "1  [ENST00000326592:c.1474A>C]          0  [ENST00000326592:c.1474A>C]   \n",
       "2  [ENST00000326592:c.1235C>T]          0  [ENST00000326592:c.1235C>T]   \n",
       "3  [ENST00000326592:c.1235C>T]          0  [ENST00000326592:c.1235C>T]   \n",
       "4   [ENST00000361390:c.518G>A]          0   [ENST00000361390:c.518G>A]   \n",
       "5   [ENST00000379757:c.913C>T]          0   [ENST00000379757:c.913C>T]   \n",
       "6  [ENST00000431877:c.2438T>A]          0  [ENST00000431877:c.2438T>A]   \n",
       "7  [ENST00000262027:c.2692G>A]          0  [ENST00000262027:c.2692G>A]   \n",
       "8   [ENST00000429344:c.963C>T]          0   [ENST00000429344:c.963C>T]   \n",
       "9   [ENST00000485511:c.609G>T]          0   [ENST00000485511:c.609G>T]   \n",
       "\n",
       "   counted_in_count_matrix  \n",
       "0                     True  \n",
       "1                     True  \n",
       "2                     True  \n",
       "3                     True  \n",
       "4                     True  \n",
       "5                     True  \n",
       "6                     True  \n",
       "7                     True  \n",
       "8                     True  \n",
       "9                     True  "
      ]
     },
     "execution_count": 79,
     "metadata": {},
     "output_type": "execute_result"
    }
   ],
   "source": [
    "bus_df_copy4.head().to_parquet(\"bus_df_test4_chunked.parquet\", index=False, append=False)\n",
    "bus_df_copy4.tail().to_parquet(\"bus_df_test4_chunked.parquet\", index=False, append=True)\n",
    "bus_df_copy4_chunked = pd.read_parquet(\"bus_df_test4_chunked.parquet\")\n",
    "bus_df_copy4_chunked"
   ]
  },
  {
   "cell_type": "code",
   "execution_count": 74,
   "id": "7d90f629",
   "metadata": {},
   "outputs": [],
   "source": [
    "save_type = \"parquet\"\n",
    "bus_df_copy4 = bus_df.copy()\n",
    "\n",
    "if save_type == \"parquet\":\n",
    "    parquet_column_tuple_to_list(bus_df_copy4)\n",
    "    bus_df_copy4.head()\n",
    "    bus_df_copy4.to_parquet(\"bus_df_test.parquet\", index=False)\n",
    "\n",
    "    bus_df_copy4_from_parquet = pd.read_parquet(\"bus_df_test.parquet\")\n",
    "    parquet_column_list_to_tuple(bus_df_copy4_from_parquet)\n",
    "    bus_df_copy4_from_parquet.head()"
   ]
  },
  {
   "cell_type": "code",
   "execution_count": 77,
   "id": "8e49ccaa",
   "metadata": {},
   "outputs": [
    {
     "data": {
      "application/vnd.microsoft.datawrangler.viewer.v0+json": {
       "columns": [
        {
         "name": "index",
         "rawType": "int64",
         "type": "integer"
        },
        {
         "name": "barcode",
         "rawType": "object",
         "type": "string"
        },
        {
         "name": "UMI",
         "rawType": "object",
         "type": "string"
        },
        {
         "name": "EC",
         "rawType": "int64",
         "type": "integer"
        },
        {
         "name": "read_index",
         "rawType": "object",
         "type": "string"
        },
        {
         "name": "fastq_header",
         "rawType": "object",
         "type": "string"
        },
        {
         "name": "transcript_names",
         "rawType": "object",
         "type": "string"
        },
        {
         "name": "file_index",
         "rawType": "category",
         "type": "unknown"
        },
        {
         "name": "gene_names",
         "rawType": "object",
         "type": "string"
        },
        {
         "name": "counted_in_count_matrix",
         "rawType": "bool",
         "type": "boolean"
        }
       ],
       "conversionMethod": "pd.DataFrame",
       "ref": "64f19cd2-6f6d-46bd-9ea4-890f5c4810af",
       "rows": [
        [
         "0",
         "AAAAAAAAAAAAAAAA",
         "T",
         "0",
         "588",
         "SRR8615233.589",
         "('ENST00000326592:c.1538A>C',)",
         "0",
         "('ENST00000326592:c.1538A>C',)",
         "True"
        ],
        [
         "1",
         "AAAAAAAAAAAAAAAA",
         "T",
         "1",
         "656",
         "SRR8615233.657",
         "('ENST00000326592:c.1474A>C',)",
         "0",
         "('ENST00000326592:c.1474A>C',)",
         "True"
        ],
        [
         "2",
         "AAAAAAAAAAAAAAAA",
         "T",
         "2",
         "886",
         "SRR8615233.887",
         "('ENST00000326592:c.1235C>T',)",
         "0",
         "('ENST00000326592:c.1235C>T',)",
         "True"
        ],
        [
         "3",
         "AAAAAAAAAAAAAAAA",
         "T",
         "2",
         "997",
         "SRR8615233.998",
         "('ENST00000326592:c.1235C>T',)",
         "0",
         "('ENST00000326592:c.1235C>T',)",
         "True"
        ],
        [
         "4",
         "AAAAAAAAAAAAAAAA",
         "T",
         "3",
         "4353",
         "SRR8615233.4354",
         "('ENST00000361390:c.518G>A',)",
         "0",
         "('ENST00000361390:c.518G>A',)",
         "True"
        ]
       ],
       "shape": {
        "columns": 9,
        "rows": 5
       }
      },
      "text/html": [
       "<div>\n",
       "<style scoped>\n",
       "    .dataframe tbody tr th:only-of-type {\n",
       "        vertical-align: middle;\n",
       "    }\n",
       "\n",
       "    .dataframe tbody tr th {\n",
       "        vertical-align: top;\n",
       "    }\n",
       "\n",
       "    .dataframe thead th {\n",
       "        text-align: right;\n",
       "    }\n",
       "</style>\n",
       "<table border=\"1\" class=\"dataframe\">\n",
       "  <thead>\n",
       "    <tr style=\"text-align: right;\">\n",
       "      <th></th>\n",
       "      <th>barcode</th>\n",
       "      <th>UMI</th>\n",
       "      <th>EC</th>\n",
       "      <th>read_index</th>\n",
       "      <th>fastq_header</th>\n",
       "      <th>transcript_names</th>\n",
       "      <th>file_index</th>\n",
       "      <th>gene_names</th>\n",
       "      <th>counted_in_count_matrix</th>\n",
       "    </tr>\n",
       "  </thead>\n",
       "  <tbody>\n",
       "    <tr>\n",
       "      <th>0</th>\n",
       "      <td>AAAAAAAAAAAAAAAA</td>\n",
       "      <td>T</td>\n",
       "      <td>0</td>\n",
       "      <td>588</td>\n",
       "      <td>SRR8615233.589</td>\n",
       "      <td>(ENST00000326592:c.1538A&gt;C,)</td>\n",
       "      <td>0</td>\n",
       "      <td>(ENST00000326592:c.1538A&gt;C,)</td>\n",
       "      <td>True</td>\n",
       "    </tr>\n",
       "    <tr>\n",
       "      <th>1</th>\n",
       "      <td>AAAAAAAAAAAAAAAA</td>\n",
       "      <td>T</td>\n",
       "      <td>1</td>\n",
       "      <td>656</td>\n",
       "      <td>SRR8615233.657</td>\n",
       "      <td>(ENST00000326592:c.1474A&gt;C,)</td>\n",
       "      <td>0</td>\n",
       "      <td>(ENST00000326592:c.1474A&gt;C,)</td>\n",
       "      <td>True</td>\n",
       "    </tr>\n",
       "    <tr>\n",
       "      <th>2</th>\n",
       "      <td>AAAAAAAAAAAAAAAA</td>\n",
       "      <td>T</td>\n",
       "      <td>2</td>\n",
       "      <td>886</td>\n",
       "      <td>SRR8615233.887</td>\n",
       "      <td>(ENST00000326592:c.1235C&gt;T,)</td>\n",
       "      <td>0</td>\n",
       "      <td>(ENST00000326592:c.1235C&gt;T,)</td>\n",
       "      <td>True</td>\n",
       "    </tr>\n",
       "    <tr>\n",
       "      <th>3</th>\n",
       "      <td>AAAAAAAAAAAAAAAA</td>\n",
       "      <td>T</td>\n",
       "      <td>2</td>\n",
       "      <td>997</td>\n",
       "      <td>SRR8615233.998</td>\n",
       "      <td>(ENST00000326592:c.1235C&gt;T,)</td>\n",
       "      <td>0</td>\n",
       "      <td>(ENST00000326592:c.1235C&gt;T,)</td>\n",
       "      <td>True</td>\n",
       "    </tr>\n",
       "    <tr>\n",
       "      <th>4</th>\n",
       "      <td>AAAAAAAAAAAAAAAA</td>\n",
       "      <td>T</td>\n",
       "      <td>3</td>\n",
       "      <td>4353</td>\n",
       "      <td>SRR8615233.4354</td>\n",
       "      <td>(ENST00000361390:c.518G&gt;A,)</td>\n",
       "      <td>0</td>\n",
       "      <td>(ENST00000361390:c.518G&gt;A,)</td>\n",
       "      <td>True</td>\n",
       "    </tr>\n",
       "  </tbody>\n",
       "</table>\n",
       "</div>"
      ],
      "text/plain": [
       "            barcode UMI  EC read_index     fastq_header  \\\n",
       "0  AAAAAAAAAAAAAAAA   T   0        588   SRR8615233.589   \n",
       "1  AAAAAAAAAAAAAAAA   T   1        656   SRR8615233.657   \n",
       "2  AAAAAAAAAAAAAAAA   T   2        886   SRR8615233.887   \n",
       "3  AAAAAAAAAAAAAAAA   T   2        997   SRR8615233.998   \n",
       "4  AAAAAAAAAAAAAAAA   T   3       4353  SRR8615233.4354   \n",
       "\n",
       "               transcript_names file_index                    gene_names  \\\n",
       "0  (ENST00000326592:c.1538A>C,)          0  (ENST00000326592:c.1538A>C,)   \n",
       "1  (ENST00000326592:c.1474A>C,)          0  (ENST00000326592:c.1474A>C,)   \n",
       "2  (ENST00000326592:c.1235C>T,)          0  (ENST00000326592:c.1235C>T,)   \n",
       "3  (ENST00000326592:c.1235C>T,)          0  (ENST00000326592:c.1235C>T,)   \n",
       "4   (ENST00000361390:c.518G>A,)          0   (ENST00000361390:c.518G>A,)   \n",
       "\n",
       "   counted_in_count_matrix  \n",
       "0                     True  \n",
       "1                     True  \n",
       "2                     True  \n",
       "3                     True  \n",
       "4                     True  "
      ]
     },
     "execution_count": 77,
     "metadata": {},
     "output_type": "execute_result"
    }
   ],
   "source": [
    "bus_df.head()"
   ]
  },
  {
   "cell_type": "code",
   "execution_count": 75,
   "id": "ca2c2495",
   "metadata": {},
   "outputs": [
    {
     "data": {
      "application/vnd.microsoft.datawrangler.viewer.v0+json": {
       "columns": [
        {
         "name": "index",
         "rawType": "int64",
         "type": "integer"
        },
        {
         "name": "barcode",
         "rawType": "object",
         "type": "string"
        },
        {
         "name": "UMI",
         "rawType": "object",
         "type": "string"
        },
        {
         "name": "EC",
         "rawType": "int64",
         "type": "integer"
        },
        {
         "name": "read_index",
         "rawType": "object",
         "type": "string"
        },
        {
         "name": "fastq_header",
         "rawType": "object",
         "type": "string"
        },
        {
         "name": "transcript_names",
         "rawType": "object",
         "type": "string"
        },
        {
         "name": "file_index",
         "rawType": "category",
         "type": "unknown"
        },
        {
         "name": "gene_names",
         "rawType": "object",
         "type": "string"
        },
        {
         "name": "counted_in_count_matrix",
         "rawType": "bool",
         "type": "boolean"
        }
       ],
       "conversionMethod": "pd.DataFrame",
       "ref": "8d51a694-2451-4e02-b8c4-c787640f0f66",
       "rows": [
        [
         "0",
         "AAAAAAAAAAAAAAAA",
         "T",
         "0",
         "588",
         "SRR8615233.589",
         "['ENST00000326592:c.1538A>C']",
         "0",
         "['ENST00000326592:c.1538A>C']",
         "True"
        ],
        [
         "1",
         "AAAAAAAAAAAAAAAA",
         "T",
         "1",
         "656",
         "SRR8615233.657",
         "['ENST00000326592:c.1474A>C']",
         "0",
         "['ENST00000326592:c.1474A>C']",
         "True"
        ],
        [
         "2",
         "AAAAAAAAAAAAAAAA",
         "T",
         "2",
         "886",
         "SRR8615233.887",
         "['ENST00000326592:c.1235C>T']",
         "0",
         "['ENST00000326592:c.1235C>T']",
         "True"
        ],
        [
         "3",
         "AAAAAAAAAAAAAAAA",
         "T",
         "2",
         "997",
         "SRR8615233.998",
         "['ENST00000326592:c.1235C>T']",
         "0",
         "['ENST00000326592:c.1235C>T']",
         "True"
        ],
        [
         "4",
         "AAAAAAAAAAAAAAAA",
         "T",
         "3",
         "4353",
         "SRR8615233.4354",
         "['ENST00000361390:c.518G>A']",
         "0",
         "['ENST00000361390:c.518G>A']",
         "True"
        ]
       ],
       "shape": {
        "columns": 9,
        "rows": 5
       }
      },
      "text/html": [
       "<div>\n",
       "<style scoped>\n",
       "    .dataframe tbody tr th:only-of-type {\n",
       "        vertical-align: middle;\n",
       "    }\n",
       "\n",
       "    .dataframe tbody tr th {\n",
       "        vertical-align: top;\n",
       "    }\n",
       "\n",
       "    .dataframe thead th {\n",
       "        text-align: right;\n",
       "    }\n",
       "</style>\n",
       "<table border=\"1\" class=\"dataframe\">\n",
       "  <thead>\n",
       "    <tr style=\"text-align: right;\">\n",
       "      <th></th>\n",
       "      <th>barcode</th>\n",
       "      <th>UMI</th>\n",
       "      <th>EC</th>\n",
       "      <th>read_index</th>\n",
       "      <th>fastq_header</th>\n",
       "      <th>transcript_names</th>\n",
       "      <th>file_index</th>\n",
       "      <th>gene_names</th>\n",
       "      <th>counted_in_count_matrix</th>\n",
       "    </tr>\n",
       "  </thead>\n",
       "  <tbody>\n",
       "    <tr>\n",
       "      <th>0</th>\n",
       "      <td>AAAAAAAAAAAAAAAA</td>\n",
       "      <td>T</td>\n",
       "      <td>0</td>\n",
       "      <td>588</td>\n",
       "      <td>SRR8615233.589</td>\n",
       "      <td>[ENST00000326592:c.1538A&gt;C]</td>\n",
       "      <td>0</td>\n",
       "      <td>[ENST00000326592:c.1538A&gt;C]</td>\n",
       "      <td>True</td>\n",
       "    </tr>\n",
       "    <tr>\n",
       "      <th>1</th>\n",
       "      <td>AAAAAAAAAAAAAAAA</td>\n",
       "      <td>T</td>\n",
       "      <td>1</td>\n",
       "      <td>656</td>\n",
       "      <td>SRR8615233.657</td>\n",
       "      <td>[ENST00000326592:c.1474A&gt;C]</td>\n",
       "      <td>0</td>\n",
       "      <td>[ENST00000326592:c.1474A&gt;C]</td>\n",
       "      <td>True</td>\n",
       "    </tr>\n",
       "    <tr>\n",
       "      <th>2</th>\n",
       "      <td>AAAAAAAAAAAAAAAA</td>\n",
       "      <td>T</td>\n",
       "      <td>2</td>\n",
       "      <td>886</td>\n",
       "      <td>SRR8615233.887</td>\n",
       "      <td>[ENST00000326592:c.1235C&gt;T]</td>\n",
       "      <td>0</td>\n",
       "      <td>[ENST00000326592:c.1235C&gt;T]</td>\n",
       "      <td>True</td>\n",
       "    </tr>\n",
       "    <tr>\n",
       "      <th>3</th>\n",
       "      <td>AAAAAAAAAAAAAAAA</td>\n",
       "      <td>T</td>\n",
       "      <td>2</td>\n",
       "      <td>997</td>\n",
       "      <td>SRR8615233.998</td>\n",
       "      <td>[ENST00000326592:c.1235C&gt;T]</td>\n",
       "      <td>0</td>\n",
       "      <td>[ENST00000326592:c.1235C&gt;T]</td>\n",
       "      <td>True</td>\n",
       "    </tr>\n",
       "    <tr>\n",
       "      <th>4</th>\n",
       "      <td>AAAAAAAAAAAAAAAA</td>\n",
       "      <td>T</td>\n",
       "      <td>3</td>\n",
       "      <td>4353</td>\n",
       "      <td>SRR8615233.4354</td>\n",
       "      <td>[ENST00000361390:c.518G&gt;A]</td>\n",
       "      <td>0</td>\n",
       "      <td>[ENST00000361390:c.518G&gt;A]</td>\n",
       "      <td>True</td>\n",
       "    </tr>\n",
       "  </tbody>\n",
       "</table>\n",
       "</div>"
      ],
      "text/plain": [
       "            barcode UMI  EC read_index     fastq_header  \\\n",
       "0  AAAAAAAAAAAAAAAA   T   0        588   SRR8615233.589   \n",
       "1  AAAAAAAAAAAAAAAA   T   1        656   SRR8615233.657   \n",
       "2  AAAAAAAAAAAAAAAA   T   2        886   SRR8615233.887   \n",
       "3  AAAAAAAAAAAAAAAA   T   2        997   SRR8615233.998   \n",
       "4  AAAAAAAAAAAAAAAA   T   3       4353  SRR8615233.4354   \n",
       "\n",
       "              transcript_names file_index                   gene_names  \\\n",
       "0  [ENST00000326592:c.1538A>C]          0  [ENST00000326592:c.1538A>C]   \n",
       "1  [ENST00000326592:c.1474A>C]          0  [ENST00000326592:c.1474A>C]   \n",
       "2  [ENST00000326592:c.1235C>T]          0  [ENST00000326592:c.1235C>T]   \n",
       "3  [ENST00000326592:c.1235C>T]          0  [ENST00000326592:c.1235C>T]   \n",
       "4   [ENST00000361390:c.518G>A]          0   [ENST00000361390:c.518G>A]   \n",
       "\n",
       "   counted_in_count_matrix  \n",
       "0                     True  \n",
       "1                     True  \n",
       "2                     True  \n",
       "3                     True  \n",
       "4                     True  "
      ]
     },
     "execution_count": 75,
     "metadata": {},
     "output_type": "execute_result"
    }
   ],
   "source": [
    "bus_df_copy4.head()"
   ]
  },
  {
   "cell_type": "code",
   "execution_count": 78,
   "id": "2d6abe54",
   "metadata": {},
   "outputs": [
    {
     "data": {
      "application/vnd.microsoft.datawrangler.viewer.v0+json": {
       "columns": [
        {
         "name": "index",
         "rawType": "int64",
         "type": "integer"
        },
        {
         "name": "barcode",
         "rawType": "object",
         "type": "string"
        },
        {
         "name": "UMI",
         "rawType": "object",
         "type": "string"
        },
        {
         "name": "EC",
         "rawType": "int64",
         "type": "integer"
        },
        {
         "name": "read_index",
         "rawType": "int64",
         "type": "integer"
        },
        {
         "name": "fastq_header",
         "rawType": "object",
         "type": "string"
        },
        {
         "name": "transcript_names",
         "rawType": "object",
         "type": "string"
        },
        {
         "name": "file_index",
         "rawType": "category",
         "type": "unknown"
        },
        {
         "name": "gene_names",
         "rawType": "object",
         "type": "string"
        },
        {
         "name": "counted_in_count_matrix",
         "rawType": "bool",
         "type": "boolean"
        }
       ],
       "conversionMethod": "pd.DataFrame",
       "ref": "10c3673e-556c-48b3-b1f6-48fb1b738b52",
       "rows": [
        [
         "0",
         "AAAAAAAAAAAAAAAA",
         "T",
         "0",
         "588",
         "SRR8615233.589",
         "('ENST00000326592:c.1538A>C',)",
         "0",
         "('ENST00000326592:c.1538A>C',)",
         "True"
        ],
        [
         "1",
         "AAAAAAAAAAAAAAAA",
         "T",
         "1",
         "656",
         "SRR8615233.657",
         "('ENST00000326592:c.1474A>C',)",
         "0",
         "('ENST00000326592:c.1474A>C',)",
         "True"
        ],
        [
         "2",
         "AAAAAAAAAAAAAAAA",
         "T",
         "2",
         "886",
         "SRR8615233.887",
         "('ENST00000326592:c.1235C>T',)",
         "0",
         "('ENST00000326592:c.1235C>T',)",
         "True"
        ],
        [
         "3",
         "AAAAAAAAAAAAAAAA",
         "T",
         "2",
         "997",
         "SRR8615233.998",
         "('ENST00000326592:c.1235C>T',)",
         "0",
         "('ENST00000326592:c.1235C>T',)",
         "True"
        ],
        [
         "4",
         "AAAAAAAAAAAAAAAA",
         "T",
         "3",
         "4353",
         "SRR8615233.4354",
         "('ENST00000361390:c.518G>A',)",
         "0",
         "('ENST00000361390:c.518G>A',)",
         "True"
        ]
       ],
       "shape": {
        "columns": 9,
        "rows": 5
       }
      },
      "text/html": [
       "<div>\n",
       "<style scoped>\n",
       "    .dataframe tbody tr th:only-of-type {\n",
       "        vertical-align: middle;\n",
       "    }\n",
       "\n",
       "    .dataframe tbody tr th {\n",
       "        vertical-align: top;\n",
       "    }\n",
       "\n",
       "    .dataframe thead th {\n",
       "        text-align: right;\n",
       "    }\n",
       "</style>\n",
       "<table border=\"1\" class=\"dataframe\">\n",
       "  <thead>\n",
       "    <tr style=\"text-align: right;\">\n",
       "      <th></th>\n",
       "      <th>barcode</th>\n",
       "      <th>UMI</th>\n",
       "      <th>EC</th>\n",
       "      <th>read_index</th>\n",
       "      <th>fastq_header</th>\n",
       "      <th>transcript_names</th>\n",
       "      <th>file_index</th>\n",
       "      <th>gene_names</th>\n",
       "      <th>counted_in_count_matrix</th>\n",
       "    </tr>\n",
       "  </thead>\n",
       "  <tbody>\n",
       "    <tr>\n",
       "      <th>0</th>\n",
       "      <td>AAAAAAAAAAAAAAAA</td>\n",
       "      <td>T</td>\n",
       "      <td>0</td>\n",
       "      <td>588</td>\n",
       "      <td>SRR8615233.589</td>\n",
       "      <td>(ENST00000326592:c.1538A&gt;C,)</td>\n",
       "      <td>0</td>\n",
       "      <td>(ENST00000326592:c.1538A&gt;C,)</td>\n",
       "      <td>True</td>\n",
       "    </tr>\n",
       "    <tr>\n",
       "      <th>1</th>\n",
       "      <td>AAAAAAAAAAAAAAAA</td>\n",
       "      <td>T</td>\n",
       "      <td>1</td>\n",
       "      <td>656</td>\n",
       "      <td>SRR8615233.657</td>\n",
       "      <td>(ENST00000326592:c.1474A&gt;C,)</td>\n",
       "      <td>0</td>\n",
       "      <td>(ENST00000326592:c.1474A&gt;C,)</td>\n",
       "      <td>True</td>\n",
       "    </tr>\n",
       "    <tr>\n",
       "      <th>2</th>\n",
       "      <td>AAAAAAAAAAAAAAAA</td>\n",
       "      <td>T</td>\n",
       "      <td>2</td>\n",
       "      <td>886</td>\n",
       "      <td>SRR8615233.887</td>\n",
       "      <td>(ENST00000326592:c.1235C&gt;T,)</td>\n",
       "      <td>0</td>\n",
       "      <td>(ENST00000326592:c.1235C&gt;T,)</td>\n",
       "      <td>True</td>\n",
       "    </tr>\n",
       "    <tr>\n",
       "      <th>3</th>\n",
       "      <td>AAAAAAAAAAAAAAAA</td>\n",
       "      <td>T</td>\n",
       "      <td>2</td>\n",
       "      <td>997</td>\n",
       "      <td>SRR8615233.998</td>\n",
       "      <td>(ENST00000326592:c.1235C&gt;T,)</td>\n",
       "      <td>0</td>\n",
       "      <td>(ENST00000326592:c.1235C&gt;T,)</td>\n",
       "      <td>True</td>\n",
       "    </tr>\n",
       "    <tr>\n",
       "      <th>4</th>\n",
       "      <td>AAAAAAAAAAAAAAAA</td>\n",
       "      <td>T</td>\n",
       "      <td>3</td>\n",
       "      <td>4353</td>\n",
       "      <td>SRR8615233.4354</td>\n",
       "      <td>(ENST00000361390:c.518G&gt;A,)</td>\n",
       "      <td>0</td>\n",
       "      <td>(ENST00000361390:c.518G&gt;A,)</td>\n",
       "      <td>True</td>\n",
       "    </tr>\n",
       "  </tbody>\n",
       "</table>\n",
       "</div>"
      ],
      "text/plain": [
       "            barcode UMI  EC  read_index     fastq_header  \\\n",
       "0  AAAAAAAAAAAAAAAA   T   0         588   SRR8615233.589   \n",
       "1  AAAAAAAAAAAAAAAA   T   1         656   SRR8615233.657   \n",
       "2  AAAAAAAAAAAAAAAA   T   2         886   SRR8615233.887   \n",
       "3  AAAAAAAAAAAAAAAA   T   2         997   SRR8615233.998   \n",
       "4  AAAAAAAAAAAAAAAA   T   3        4353  SRR8615233.4354   \n",
       "\n",
       "               transcript_names file_index                    gene_names  \\\n",
       "0  (ENST00000326592:c.1538A>C,)          0  (ENST00000326592:c.1538A>C,)   \n",
       "1  (ENST00000326592:c.1474A>C,)          0  (ENST00000326592:c.1474A>C,)   \n",
       "2  (ENST00000326592:c.1235C>T,)          0  (ENST00000326592:c.1235C>T,)   \n",
       "3  (ENST00000326592:c.1235C>T,)          0  (ENST00000326592:c.1235C>T,)   \n",
       "4   (ENST00000361390:c.518G>A,)          0   (ENST00000361390:c.518G>A,)   \n",
       "\n",
       "   counted_in_count_matrix  \n",
       "0                     True  \n",
       "1                     True  \n",
       "2                     True  \n",
       "3                     True  \n",
       "4                     True  "
      ]
     },
     "execution_count": 78,
     "metadata": {},
     "output_type": "execute_result"
    }
   ],
   "source": [
    "bus_df_copy4_from_parquet.head()"
   ]
  },
  {
   "cell_type": "code",
   "execution_count": null,
   "id": "64aaa384",
   "metadata": {},
   "outputs": [
    {
     "name": "stdout",
     "output_type": "stream",
     "text": [
      "<class 'list'>\n"
     ]
    },
    {
     "data": {
      "application/vnd.microsoft.datawrangler.viewer.v0+json": {
       "columns": [
        {
         "name": "index",
         "rawType": "int64",
         "type": "integer"
        },
        {
         "name": "barcode",
         "rawType": "object",
         "type": "string"
        },
        {
         "name": "UMI",
         "rawType": "object",
         "type": "string"
        },
        {
         "name": "EC",
         "rawType": "int64",
         "type": "integer"
        },
        {
         "name": "read_index",
         "rawType": "int64",
         "type": "integer"
        },
        {
         "name": "fastq_header",
         "rawType": "object",
         "type": "string"
        },
        {
         "name": "transcript_names",
         "rawType": "object",
         "type": "string"
        },
        {
         "name": "file_index",
         "rawType": "category",
         "type": "unknown"
        },
        {
         "name": "gene_names",
         "rawType": "object",
         "type": "string"
        },
        {
         "name": "counted_in_count_matrix",
         "rawType": "bool",
         "type": "boolean"
        }
       ],
       "conversionMethod": "pd.DataFrame",
       "ref": "d2125279-668a-4d84-8392-7428a41b0d74",
       "rows": [
        [
         "0",
         "AAAAAAAAAAAAAAAA",
         "T",
         "0",
         "588",
         "SRR8615233.589",
         "['ENST00000326592:c.1538A>C']",
         "0",
         "['ENST00000326592:c.1538A>C']",
         "True"
        ],
        [
         "1",
         "AAAAAAAAAAAAAAAA",
         "T",
         "1",
         "656",
         "SRR8615233.657",
         "['ENST00000326592:c.1474A>C']",
         "0",
         "['ENST00000326592:c.1474A>C']",
         "True"
        ],
        [
         "2",
         "AAAAAAAAAAAAAAAA",
         "T",
         "2",
         "886",
         "SRR8615233.887",
         "['ENST00000326592:c.1235C>T']",
         "0",
         "['ENST00000326592:c.1235C>T']",
         "True"
        ],
        [
         "3",
         "AAAAAAAAAAAAAAAA",
         "T",
         "2",
         "997",
         "SRR8615233.998",
         "['ENST00000326592:c.1235C>T']",
         "0",
         "['ENST00000326592:c.1235C>T']",
         "True"
        ],
        [
         "4",
         "AAAAAAAAAAAAAAAA",
         "T",
         "3",
         "4353",
         "SRR8615233.4354",
         "['ENST00000361390:c.518G>A']",
         "0",
         "['ENST00000361390:c.518G>A']",
         "True"
        ]
       ],
       "shape": {
        "columns": 9,
        "rows": 5
       }
      },
      "text/html": [
       "<div>\n",
       "<style scoped>\n",
       "    .dataframe tbody tr th:only-of-type {\n",
       "        vertical-align: middle;\n",
       "    }\n",
       "\n",
       "    .dataframe tbody tr th {\n",
       "        vertical-align: top;\n",
       "    }\n",
       "\n",
       "    .dataframe thead th {\n",
       "        text-align: right;\n",
       "    }\n",
       "</style>\n",
       "<table border=\"1\" class=\"dataframe\">\n",
       "  <thead>\n",
       "    <tr style=\"text-align: right;\">\n",
       "      <th></th>\n",
       "      <th>barcode</th>\n",
       "      <th>UMI</th>\n",
       "      <th>EC</th>\n",
       "      <th>read_index</th>\n",
       "      <th>fastq_header</th>\n",
       "      <th>transcript_names</th>\n",
       "      <th>file_index</th>\n",
       "      <th>gene_names</th>\n",
       "      <th>counted_in_count_matrix</th>\n",
       "    </tr>\n",
       "  </thead>\n",
       "  <tbody>\n",
       "    <tr>\n",
       "      <th>0</th>\n",
       "      <td>AAAAAAAAAAAAAAAA</td>\n",
       "      <td>T</td>\n",
       "      <td>0</td>\n",
       "      <td>588</td>\n",
       "      <td>SRR8615233.589</td>\n",
       "      <td>[ENST00000326592:c.1538A&gt;C]</td>\n",
       "      <td>0</td>\n",
       "      <td>[ENST00000326592:c.1538A&gt;C]</td>\n",
       "      <td>True</td>\n",
       "    </tr>\n",
       "    <tr>\n",
       "      <th>1</th>\n",
       "      <td>AAAAAAAAAAAAAAAA</td>\n",
       "      <td>T</td>\n",
       "      <td>1</td>\n",
       "      <td>656</td>\n",
       "      <td>SRR8615233.657</td>\n",
       "      <td>[ENST00000326592:c.1474A&gt;C]</td>\n",
       "      <td>0</td>\n",
       "      <td>[ENST00000326592:c.1474A&gt;C]</td>\n",
       "      <td>True</td>\n",
       "    </tr>\n",
       "    <tr>\n",
       "      <th>2</th>\n",
       "      <td>AAAAAAAAAAAAAAAA</td>\n",
       "      <td>T</td>\n",
       "      <td>2</td>\n",
       "      <td>886</td>\n",
       "      <td>SRR8615233.887</td>\n",
       "      <td>[ENST00000326592:c.1235C&gt;T]</td>\n",
       "      <td>0</td>\n",
       "      <td>[ENST00000326592:c.1235C&gt;T]</td>\n",
       "      <td>True</td>\n",
       "    </tr>\n",
       "    <tr>\n",
       "      <th>3</th>\n",
       "      <td>AAAAAAAAAAAAAAAA</td>\n",
       "      <td>T</td>\n",
       "      <td>2</td>\n",
       "      <td>997</td>\n",
       "      <td>SRR8615233.998</td>\n",
       "      <td>[ENST00000326592:c.1235C&gt;T]</td>\n",
       "      <td>0</td>\n",
       "      <td>[ENST00000326592:c.1235C&gt;T]</td>\n",
       "      <td>True</td>\n",
       "    </tr>\n",
       "    <tr>\n",
       "      <th>4</th>\n",
       "      <td>AAAAAAAAAAAAAAAA</td>\n",
       "      <td>T</td>\n",
       "      <td>3</td>\n",
       "      <td>4353</td>\n",
       "      <td>SRR8615233.4354</td>\n",
       "      <td>[ENST00000361390:c.518G&gt;A]</td>\n",
       "      <td>0</td>\n",
       "      <td>[ENST00000361390:c.518G&gt;A]</td>\n",
       "      <td>True</td>\n",
       "    </tr>\n",
       "  </tbody>\n",
       "</table>\n",
       "</div>"
      ],
      "text/plain": [
       "            barcode UMI  EC  read_index     fastq_header  \\\n",
       "0  AAAAAAAAAAAAAAAA   T   0         588   SRR8615233.589   \n",
       "1  AAAAAAAAAAAAAAAA   T   1         656   SRR8615233.657   \n",
       "2  AAAAAAAAAAAAAAAA   T   2         886   SRR8615233.887   \n",
       "3  AAAAAAAAAAAAAAAA   T   2         997   SRR8615233.998   \n",
       "4  AAAAAAAAAAAAAAAA   T   3        4353  SRR8615233.4354   \n",
       "\n",
       "              transcript_names file_index                   gene_names  \\\n",
       "0  [ENST00000326592:c.1538A>C]          0  [ENST00000326592:c.1538A>C]   \n",
       "1  [ENST00000326592:c.1474A>C]          0  [ENST00000326592:c.1474A>C]   \n",
       "2  [ENST00000326592:c.1235C>T]          0  [ENST00000326592:c.1235C>T]   \n",
       "3  [ENST00000326592:c.1235C>T]          0  [ENST00000326592:c.1235C>T]   \n",
       "4   [ENST00000361390:c.518G>A]          0   [ENST00000361390:c.518G>A]   \n",
       "\n",
       "   counted_in_count_matrix  \n",
       "0                     True  \n",
       "1                     True  \n",
       "2                     True  \n",
       "3                     True  \n",
       "4                     True  "
      ]
     },
     "execution_count": 44,
     "metadata": {},
     "output_type": "execute_result"
    }
   ],
   "source": [
    "bus_df_copy_from_parquet = pd.read_parquet(\"bus_df_test.parquet\")\n",
    "print(type(bus_df_copy_from_parquet['transcript_names'][0]))\n",
    "bus_df_copy_from_parquet.head()"
   ]
  },
  {
   "cell_type": "code",
   "execution_count": 58,
   "id": "150d6dee",
   "metadata": {},
   "outputs": [
    {
     "name": "stderr",
     "output_type": "stream",
     "text": [
      "282128.36s - pydevd: Sending message related to process being replaced timed-out after 5 seconds\n"
     ]
    },
    {
     "name": "stdout",
     "output_type": "stream",
     "text": [
      " 18M\t/Users/joeyrich/Desktop/local/RLSRWP_2025/notebooks/bus_df_json.parquet\n"
     ]
    }
   ],
   "source": [
    "import json\n",
    "bus_df_copy_with_json = bus_df.copy()\n",
    "bus_df_copy_with_json[\"transcript_names\"] = bus_df[\"transcript_names\"].apply(json.dumps)\n",
    "bus_df_copy_with_json[\"gene_names\"] = bus_df[\"gene_names\"].apply(json.dumps)\n",
    "bus_df_copy_with_json.to_parquet(\"bus_df_json.parquet\", index=False)\n",
    "!du -sh /Users/joeyrich/Desktop/local/RLSRWP_2025/notebooks/bus_df_json.parquet"
   ]
  },
  {
   "cell_type": "code",
   "execution_count": 64,
   "id": "af02ed0b",
   "metadata": {},
   "outputs": [
    {
     "data": {
      "text/plain": [
       "('ENST00000326592:c.1538A>C',)"
      ]
     },
     "execution_count": 64,
     "metadata": {},
     "output_type": "execute_result"
    }
   ],
   "source": [
    "bus_df[\"transcript_names\"][0]"
   ]
  },
  {
   "cell_type": "code",
   "execution_count": null,
   "id": "95f55e08",
   "metadata": {},
   "outputs": [
    {
     "data": {
      "text/plain": [
       "str"
      ]
     },
     "execution_count": 63,
     "metadata": {},
     "output_type": "execute_result"
    }
   ],
   "source": [
    "bus_df_copy_with_json[\"transcript_names\"]"
   ]
  },
  {
   "cell_type": "code",
   "execution_count": 25,
   "id": "2cf1c7a2",
   "metadata": {},
   "outputs": [
    {
     "name": "stdout",
     "output_type": "stream",
     "text": [
      "loading in transcripts\n",
      "loading in barcodes\n"
     ]
    },
    {
     "name": "stderr",
     "output_type": "stream",
     "text": [
      "Processing FASTQ headers: 69015721it [00:59, 1164336.11it/s]\n"
     ]
    },
    {
     "name": "stdout",
     "output_type": "stream",
     "text": [
      "loading in ec matrix\n",
      "loading in bus df\n",
      "Merging fastq header df and ec_df into bus df\n",
      "Determining what counts in count matrix\n"
     ]
    },
    {
     "name": "stderr",
     "output_type": "stream",
     "text": [
      "100%|██████████| 893751/893751 [00:00<00:00, 1797477.84it/s]\n"
     ]
    },
    {
     "name": "stdout",
     "output_type": "stream",
     "text": [
      "Saving bus df as parquet to /Users/joeyrich/Desktop/local/RLSRWP_2025/data/varseek_count_out_alignment_visualization_full/kb_count_out_vcrs/bus_df.parquet\n"
     ]
    },
    {
     "ename": "ValueError",
     "evalue": "Can't infer object conversion type: 0         (ENST00000326592:c.1538A>C,)\n1         (ENST00000326592:c.1474A>C,)\n2         (ENST00000326592:c.1235C>T,)\n3         (ENST00000326592:c.1235C>T,)\n4          (ENST00000361390:c.518G>A,)\n                      ...             \n893746     (ENST00000379757:c.913C>T,)\n893747    (ENST00000431877:c.2438T>A,)\n893748    (ENST00000262027:c.2692G>A,)\n893749     (ENST00000429344:c.963C>T,)\n893750     (ENST00000485511:c.609G>T,)\nName: transcript_names, Length: 893751, dtype: object",
     "output_type": "error",
     "traceback": [
      "\u001b[0;31m---------------------------------------------------------------------------\u001b[0m",
      "\u001b[0;31mValueError\u001b[0m                                Traceback (most recent call last)",
      "Cell \u001b[0;32mIn[25], line 1\u001b[0m\n\u001b[0;32m----> 1\u001b[0m bus_df \u001b[38;5;241m=\u001b[39m \u001b[43mmake_bus_df\u001b[49m\u001b[43m(\u001b[49m\u001b[43mkb_count_out_dir\u001b[49m\u001b[43m,\u001b[49m\u001b[43m \u001b[49m\u001b[43mfastq_file\u001b[49m\u001b[43m,\u001b[49m\u001b[43m \u001b[49m\u001b[43mtechnology\u001b[49m\u001b[38;5;241;43m=\u001b[39;49m\u001b[43mtechnology\u001b[49m\u001b[43m,\u001b[49m\u001b[43m \u001b[49m\u001b[43mparity\u001b[49m\u001b[38;5;241;43m=\u001b[39;49m\u001b[43mparity\u001b[49m\u001b[43m,\u001b[49m\u001b[43m \u001b[49m\u001b[43mbustools\u001b[49m\u001b[38;5;241;43m=\u001b[39;49m\u001b[43mbustools\u001b[49m\u001b[43m)\u001b[49m\n\u001b[1;32m      2\u001b[0m bus_df \u001b[38;5;241m=\u001b[39m bus_df\u001b[38;5;241m.\u001b[39mdrop(columns\u001b[38;5;241m=\u001b[39m[\u001b[38;5;124m\"\u001b[39m\u001b[38;5;124mtranscript_names\u001b[39m\u001b[38;5;124m\"\u001b[39m])\u001b[38;5;241m.\u001b[39mrename(columns\u001b[38;5;241m=\u001b[39m{\u001b[38;5;124m\"\u001b[39m\u001b[38;5;124mgene_names\u001b[39m\u001b[38;5;124m\"\u001b[39m: \u001b[38;5;124m\"\u001b[39m\u001b[38;5;124mvariant_names\u001b[39m\u001b[38;5;124m\"\u001b[39m})\n\u001b[1;32m      3\u001b[0m filtered_bus_df \u001b[38;5;241m=\u001b[39m bus_df[bus_df[\u001b[38;5;124m\"\u001b[39m\u001b[38;5;124mvariant_names\u001b[39m\u001b[38;5;124m\"\u001b[39m]\u001b[38;5;241m.\u001b[39mapply(\u001b[38;5;28;01mlambda\u001b[39;00m x: \u001b[38;5;28mlen\u001b[39m(x) \u001b[38;5;241m==\u001b[39m \u001b[38;5;241m1\u001b[39m)]  \u001b[38;5;66;03m# remove multi-mapping reads\u001b[39;00m\n",
      "File \u001b[0;32m~/Desktop/local/varseek/varseek/utils/varseek_clean_utils.py:433\u001b[0m, in \u001b[0;36mmake_bus_df\u001b[0;34m(kb_count_out, fastq_file_list, t2g_file, mm, union, technology, parity, bustools, check_only, chunksize, bad_to_good_barcode_dict)\u001b[0m\n\u001b[1;32m    430\u001b[0m             bus_df[\u001b[38;5;124m\"\u001b[39m\u001b[38;5;124mcounted_in_count_matrix\u001b[39m\u001b[38;5;124m\"\u001b[39m] \u001b[38;5;241m=\u001b[39m bus_df[\u001b[38;5;124m\"\u001b[39m\u001b[38;5;124mgene_names\u001b[39m\u001b[38;5;124m\"\u001b[39m]\u001b[38;5;241m.\u001b[39mprogress_apply(\u001b[38;5;28;01mlambda\u001b[39;00m x: \u001b[38;5;28mlen\u001b[39m(x) \u001b[38;5;241m==\u001b[39m \u001b[38;5;241m1\u001b[39m)\n\u001b[1;32m    432\u001b[0m         \u001b[38;5;28mprint\u001b[39m(\u001b[38;5;124mf\u001b[39m\u001b[38;5;124m\"\u001b[39m\u001b[38;5;124mSaving bus df as parquet to \u001b[39m\u001b[38;5;132;01m{\u001b[39;00mkb_count_out\u001b[38;5;132;01m}\u001b[39;00m\u001b[38;5;124m/bus_df.parquet\u001b[39m\u001b[38;5;124m\"\u001b[39m)\n\u001b[0;32m--> 433\u001b[0m         \u001b[43mbus_df\u001b[49m\u001b[38;5;241;43m.\u001b[39;49m\u001b[43mto_parquet\u001b[49m\u001b[43m(\u001b[49m\u001b[38;5;124;43mf\u001b[39;49m\u001b[38;5;124;43m\"\u001b[39;49m\u001b[38;5;132;43;01m{\u001b[39;49;00m\u001b[43mkb_count_out\u001b[49m\u001b[38;5;132;43;01m}\u001b[39;49;00m\u001b[38;5;124;43m/bus_df.parquet\u001b[39;49m\u001b[38;5;124;43m\"\u001b[39;49m\u001b[43m,\u001b[49m\u001b[43m \u001b[49m\u001b[43mindex\u001b[49m\u001b[38;5;241;43m=\u001b[39;49m\u001b[38;5;28;43;01mFalse\u001b[39;49;00m\u001b[43m,\u001b[49m\u001b[43m \u001b[49m\u001b[43mappend\u001b[49m\u001b[38;5;241;43m=\u001b[39;49m\u001b[43m(\u001b[49m\u001b[43mi\u001b[49m\u001b[43m \u001b[49m\u001b[38;5;241;43m>\u001b[39;49m\u001b[43m \u001b[49m\u001b[38;5;241;43m0\u001b[39;49m\u001b[43m)\u001b[49m\u001b[43m)\u001b[49m\n\u001b[1;32m    434\u001b[0m     \u001b[38;5;28;01mreturn\u001b[39;00m bus_df\n\u001b[1;32m    438\u001b[0m \u001b[38;5;28;01melse\u001b[39;00m:\n",
      "File \u001b[0;32m~/miniconda3/envs/RLSRWP_2025/lib/python3.10/site-packages/pandas/util/_decorators.py:211\u001b[0m, in \u001b[0;36mdeprecate_kwarg.<locals>._deprecate_kwarg.<locals>.wrapper\u001b[0;34m(*args, **kwargs)\u001b[0m\n\u001b[1;32m    209\u001b[0m     \u001b[38;5;28;01melse\u001b[39;00m:\n\u001b[1;32m    210\u001b[0m         kwargs[new_arg_name] \u001b[38;5;241m=\u001b[39m new_arg_value\n\u001b[0;32m--> 211\u001b[0m \u001b[38;5;28;01mreturn\u001b[39;00m \u001b[43mfunc\u001b[49m\u001b[43m(\u001b[49m\u001b[38;5;241;43m*\u001b[39;49m\u001b[43margs\u001b[49m\u001b[43m,\u001b[49m\u001b[43m \u001b[49m\u001b[38;5;241;43m*\u001b[39;49m\u001b[38;5;241;43m*\u001b[39;49m\u001b[43mkwargs\u001b[49m\u001b[43m)\u001b[49m\n",
      "File \u001b[0;32m~/miniconda3/envs/RLSRWP_2025/lib/python3.10/site-packages/pandas/core/frame.py:2976\u001b[0m, in \u001b[0;36mDataFrame.to_parquet\u001b[0;34m(self, path, engine, compression, index, partition_cols, storage_options, **kwargs)\u001b[0m\n\u001b[1;32m   2889\u001b[0m \u001b[38;5;250m\u001b[39m\u001b[38;5;124;03m\"\"\"\u001b[39;00m\n\u001b[1;32m   2890\u001b[0m \u001b[38;5;124;03mWrite a DataFrame to the binary parquet format.\u001b[39;00m\n\u001b[1;32m   2891\u001b[0m \n\u001b[0;32m   (...)\u001b[0m\n\u001b[1;32m   2972\u001b[0m \u001b[38;5;124;03m>>> content = f.read()\u001b[39;00m\n\u001b[1;32m   2973\u001b[0m \u001b[38;5;124;03m\"\"\"\u001b[39;00m\n\u001b[1;32m   2974\u001b[0m \u001b[38;5;28;01mfrom\u001b[39;00m\u001b[38;5;250m \u001b[39m\u001b[38;5;21;01mpandas\u001b[39;00m\u001b[38;5;21;01m.\u001b[39;00m\u001b[38;5;21;01mio\u001b[39;00m\u001b[38;5;21;01m.\u001b[39;00m\u001b[38;5;21;01mparquet\u001b[39;00m\u001b[38;5;250m \u001b[39m\u001b[38;5;28;01mimport\u001b[39;00m to_parquet\n\u001b[0;32m-> 2976\u001b[0m \u001b[38;5;28;01mreturn\u001b[39;00m \u001b[43mto_parquet\u001b[49m\u001b[43m(\u001b[49m\n\u001b[1;32m   2977\u001b[0m \u001b[43m    \u001b[49m\u001b[38;5;28;43mself\u001b[39;49m\u001b[43m,\u001b[49m\n\u001b[1;32m   2978\u001b[0m \u001b[43m    \u001b[49m\u001b[43mpath\u001b[49m\u001b[43m,\u001b[49m\n\u001b[1;32m   2979\u001b[0m \u001b[43m    \u001b[49m\u001b[43mengine\u001b[49m\u001b[43m,\u001b[49m\n\u001b[1;32m   2980\u001b[0m \u001b[43m    \u001b[49m\u001b[43mcompression\u001b[49m\u001b[38;5;241;43m=\u001b[39;49m\u001b[43mcompression\u001b[49m\u001b[43m,\u001b[49m\n\u001b[1;32m   2981\u001b[0m \u001b[43m    \u001b[49m\u001b[43mindex\u001b[49m\u001b[38;5;241;43m=\u001b[39;49m\u001b[43mindex\u001b[49m\u001b[43m,\u001b[49m\n\u001b[1;32m   2982\u001b[0m \u001b[43m    \u001b[49m\u001b[43mpartition_cols\u001b[49m\u001b[38;5;241;43m=\u001b[39;49m\u001b[43mpartition_cols\u001b[49m\u001b[43m,\u001b[49m\n\u001b[1;32m   2983\u001b[0m \u001b[43m    \u001b[49m\u001b[43mstorage_options\u001b[49m\u001b[38;5;241;43m=\u001b[39;49m\u001b[43mstorage_options\u001b[49m\u001b[43m,\u001b[49m\n\u001b[1;32m   2984\u001b[0m \u001b[43m    \u001b[49m\u001b[38;5;241;43m*\u001b[39;49m\u001b[38;5;241;43m*\u001b[39;49m\u001b[43mkwargs\u001b[49m\u001b[43m,\u001b[49m\n\u001b[1;32m   2985\u001b[0m \u001b[43m\u001b[49m\u001b[43m)\u001b[49m\n",
      "File \u001b[0;32m~/miniconda3/envs/RLSRWP_2025/lib/python3.10/site-packages/pandas/io/parquet.py:430\u001b[0m, in \u001b[0;36mto_parquet\u001b[0;34m(df, path, engine, compression, index, storage_options, partition_cols, **kwargs)\u001b[0m\n\u001b[1;32m    426\u001b[0m impl \u001b[38;5;241m=\u001b[39m get_engine(engine)\n\u001b[1;32m    428\u001b[0m path_or_buf: FilePath \u001b[38;5;241m|\u001b[39m WriteBuffer[\u001b[38;5;28mbytes\u001b[39m] \u001b[38;5;241m=\u001b[39m io\u001b[38;5;241m.\u001b[39mBytesIO() \u001b[38;5;28;01mif\u001b[39;00m path \u001b[38;5;129;01mis\u001b[39;00m \u001b[38;5;28;01mNone\u001b[39;00m \u001b[38;5;28;01melse\u001b[39;00m path\n\u001b[0;32m--> 430\u001b[0m \u001b[43mimpl\u001b[49m\u001b[38;5;241;43m.\u001b[39;49m\u001b[43mwrite\u001b[49m\u001b[43m(\u001b[49m\n\u001b[1;32m    431\u001b[0m \u001b[43m    \u001b[49m\u001b[43mdf\u001b[49m\u001b[43m,\u001b[49m\n\u001b[1;32m    432\u001b[0m \u001b[43m    \u001b[49m\u001b[43mpath_or_buf\u001b[49m\u001b[43m,\u001b[49m\n\u001b[1;32m    433\u001b[0m \u001b[43m    \u001b[49m\u001b[43mcompression\u001b[49m\u001b[38;5;241;43m=\u001b[39;49m\u001b[43mcompression\u001b[49m\u001b[43m,\u001b[49m\n\u001b[1;32m    434\u001b[0m \u001b[43m    \u001b[49m\u001b[43mindex\u001b[49m\u001b[38;5;241;43m=\u001b[39;49m\u001b[43mindex\u001b[49m\u001b[43m,\u001b[49m\n\u001b[1;32m    435\u001b[0m \u001b[43m    \u001b[49m\u001b[43mpartition_cols\u001b[49m\u001b[38;5;241;43m=\u001b[39;49m\u001b[43mpartition_cols\u001b[49m\u001b[43m,\u001b[49m\n\u001b[1;32m    436\u001b[0m \u001b[43m    \u001b[49m\u001b[43mstorage_options\u001b[49m\u001b[38;5;241;43m=\u001b[39;49m\u001b[43mstorage_options\u001b[49m\u001b[43m,\u001b[49m\n\u001b[1;32m    437\u001b[0m \u001b[43m    \u001b[49m\u001b[38;5;241;43m*\u001b[39;49m\u001b[38;5;241;43m*\u001b[39;49m\u001b[43mkwargs\u001b[49m\u001b[43m,\u001b[49m\n\u001b[1;32m    438\u001b[0m \u001b[43m\u001b[49m\u001b[43m)\u001b[49m\n\u001b[1;32m    440\u001b[0m \u001b[38;5;28;01mif\u001b[39;00m path \u001b[38;5;129;01mis\u001b[39;00m \u001b[38;5;28;01mNone\u001b[39;00m:\n\u001b[1;32m    441\u001b[0m     \u001b[38;5;28;01massert\u001b[39;00m \u001b[38;5;28misinstance\u001b[39m(path_or_buf, io\u001b[38;5;241m.\u001b[39mBytesIO)\n",
      "File \u001b[0;32m~/miniconda3/envs/RLSRWP_2025/lib/python3.10/site-packages/pandas/io/parquet.py:312\u001b[0m, in \u001b[0;36mFastParquetImpl.write\u001b[0;34m(self, df, path, compression, index, partition_cols, storage_options, **kwargs)\u001b[0m\n\u001b[1;32m    307\u001b[0m     \u001b[38;5;28;01mraise\u001b[39;00m \u001b[38;5;167;01mValueError\u001b[39;00m(\n\u001b[1;32m    308\u001b[0m         \u001b[38;5;124m\"\u001b[39m\u001b[38;5;124mstorage_options passed with file object or non-fsspec file path\u001b[39m\u001b[38;5;124m\"\u001b[39m\n\u001b[1;32m    309\u001b[0m     )\n\u001b[1;32m    311\u001b[0m \u001b[38;5;28;01mwith\u001b[39;00m catch_warnings(record\u001b[38;5;241m=\u001b[39m\u001b[38;5;28;01mTrue\u001b[39;00m):\n\u001b[0;32m--> 312\u001b[0m     \u001b[38;5;28;43mself\u001b[39;49m\u001b[38;5;241;43m.\u001b[39;49m\u001b[43mapi\u001b[49m\u001b[38;5;241;43m.\u001b[39;49m\u001b[43mwrite\u001b[49m\u001b[43m(\u001b[49m\n\u001b[1;32m    313\u001b[0m \u001b[43m        \u001b[49m\u001b[43mpath\u001b[49m\u001b[43m,\u001b[49m\n\u001b[1;32m    314\u001b[0m \u001b[43m        \u001b[49m\u001b[43mdf\u001b[49m\u001b[43m,\u001b[49m\n\u001b[1;32m    315\u001b[0m \u001b[43m        \u001b[49m\u001b[43mcompression\u001b[49m\u001b[38;5;241;43m=\u001b[39;49m\u001b[43mcompression\u001b[49m\u001b[43m,\u001b[49m\n\u001b[1;32m    316\u001b[0m \u001b[43m        \u001b[49m\u001b[43mwrite_index\u001b[49m\u001b[38;5;241;43m=\u001b[39;49m\u001b[43mindex\u001b[49m\u001b[43m,\u001b[49m\n\u001b[1;32m    317\u001b[0m \u001b[43m        \u001b[49m\u001b[43mpartition_on\u001b[49m\u001b[38;5;241;43m=\u001b[39;49m\u001b[43mpartition_cols\u001b[49m\u001b[43m,\u001b[49m\n\u001b[1;32m    318\u001b[0m \u001b[43m        \u001b[49m\u001b[38;5;241;43m*\u001b[39;49m\u001b[38;5;241;43m*\u001b[39;49m\u001b[43mkwargs\u001b[49m\u001b[43m,\u001b[49m\n\u001b[1;32m    319\u001b[0m \u001b[43m    \u001b[49m\u001b[43m)\u001b[49m\n",
      "File \u001b[0;32m~/miniconda3/envs/RLSRWP_2025/lib/python3.10/site-packages/fastparquet/writer.py:1326\u001b[0m, in \u001b[0;36mwrite\u001b[0;34m(filename, data, row_group_offsets, compression, file_scheme, open_with, mkdirs, has_nulls, write_index, partition_on, fixed_text, append, object_encoding, times, custom_metadata, stats)\u001b[0m\n\u001b[1;32m   1323\u001b[0m check_column_names(data\u001b[38;5;241m.\u001b[39mcolumns, partition_on, fixed_text,\n\u001b[1;32m   1324\u001b[0m                    object_encoding, has_nulls)\n\u001b[1;32m   1325\u001b[0m ignore \u001b[38;5;241m=\u001b[39m partition_on \u001b[38;5;28;01mif\u001b[39;00m file_scheme \u001b[38;5;241m!=\u001b[39m \u001b[38;5;124m'\u001b[39m\u001b[38;5;124msimple\u001b[39m\u001b[38;5;124m'\u001b[39m \u001b[38;5;28;01melse\u001b[39;00m []\n\u001b[0;32m-> 1326\u001b[0m fmd \u001b[38;5;241m=\u001b[39m \u001b[43mmake_metadata\u001b[49m\u001b[43m(\u001b[49m\u001b[43mdata\u001b[49m\u001b[43m,\u001b[49m\u001b[43m \u001b[49m\u001b[43mhas_nulls\u001b[49m\u001b[38;5;241;43m=\u001b[39;49m\u001b[43mhas_nulls\u001b[49m\u001b[43m,\u001b[49m\u001b[43m \u001b[49m\u001b[43mignore_columns\u001b[49m\u001b[38;5;241;43m=\u001b[39;49m\u001b[43mignore\u001b[49m\u001b[43m,\u001b[49m\n\u001b[1;32m   1327\u001b[0m \u001b[43m                    \u001b[49m\u001b[43mfixed_text\u001b[49m\u001b[38;5;241;43m=\u001b[39;49m\u001b[43mfixed_text\u001b[49m\u001b[43m,\u001b[49m\n\u001b[1;32m   1328\u001b[0m \u001b[43m                    \u001b[49m\u001b[43mobject_encoding\u001b[49m\u001b[38;5;241;43m=\u001b[39;49m\u001b[43mobject_encoding\u001b[49m\u001b[43m,\u001b[49m\n\u001b[1;32m   1329\u001b[0m \u001b[43m                    \u001b[49m\u001b[43mtimes\u001b[49m\u001b[38;5;241;43m=\u001b[39;49m\u001b[43mtimes\u001b[49m\u001b[43m,\u001b[49m\u001b[43m \u001b[49m\u001b[43mindex_cols\u001b[49m\u001b[38;5;241;43m=\u001b[39;49m\u001b[43mindex_cols\u001b[49m\u001b[43m,\u001b[49m\n\u001b[1;32m   1330\u001b[0m \u001b[43m                    \u001b[49m\u001b[43mpartition_cols\u001b[49m\u001b[38;5;241;43m=\u001b[39;49m\u001b[43mpartition_on\u001b[49m\u001b[43m,\u001b[49m\u001b[43m \u001b[49m\u001b[43mcols_dtype\u001b[49m\u001b[38;5;241;43m=\u001b[39;49m\u001b[43mcols_dtype\u001b[49m\u001b[43m)\u001b[49m\n\u001b[1;32m   1331\u001b[0m \u001b[38;5;28;01mif\u001b[39;00m custom_metadata:\n\u001b[1;32m   1332\u001b[0m     kvm \u001b[38;5;241m=\u001b[39m fmd\u001b[38;5;241m.\u001b[39mkey_value_metadata \u001b[38;5;129;01mor\u001b[39;00m []\n",
      "File \u001b[0;32m~/miniconda3/envs/RLSRWP_2025/lib/python3.10/site-packages/fastparquet/writer.py:922\u001b[0m, in \u001b[0;36mmake_metadata\u001b[0;34m(data, has_nulls, ignore_columns, fixed_text, object_encoding, times, index_cols, partition_cols, cols_dtype)\u001b[0m\n\u001b[1;32m    920\u001b[0m     se\u001b[38;5;241m.\u001b[39mname \u001b[38;5;241m=\u001b[39m column\n\u001b[1;32m    921\u001b[0m \u001b[38;5;28;01melse\u001b[39;00m:\n\u001b[0;32m--> 922\u001b[0m     se, \u001b[38;5;28mtype\u001b[39m \u001b[38;5;241m=\u001b[39m \u001b[43mfind_type\u001b[49m\u001b[43m(\u001b[49m\u001b[43mdata\u001b[49m\u001b[43m[\u001b[49m\u001b[43mcolumn\u001b[49m\u001b[43m]\u001b[49m\u001b[43m,\u001b[49m\u001b[43m \u001b[49m\u001b[43mfixed_text\u001b[49m\u001b[38;5;241;43m=\u001b[39;49m\u001b[43mfixed\u001b[49m\u001b[43m,\u001b[49m\n\u001b[1;32m    923\u001b[0m \u001b[43m                         \u001b[49m\u001b[43mobject_encoding\u001b[49m\u001b[38;5;241;43m=\u001b[39;49m\u001b[43moencoding\u001b[49m\u001b[43m,\u001b[49m\u001b[43m \u001b[49m\u001b[43mtimes\u001b[49m\u001b[38;5;241;43m=\u001b[39;49m\u001b[43mtimes\u001b[49m\u001b[43m,\u001b[49m\n\u001b[1;32m    924\u001b[0m \u001b[43m                         \u001b[49m\u001b[43mis_index\u001b[49m\u001b[38;5;241;43m=\u001b[39;49m\u001b[43mis_index\u001b[49m\u001b[43m)\u001b[49m\n\u001b[1;32m    925\u001b[0m col_has_nulls \u001b[38;5;241m=\u001b[39m has_nulls\n\u001b[1;32m    926\u001b[0m \u001b[38;5;28;01mif\u001b[39;00m has_nulls \u001b[38;5;129;01mis\u001b[39;00m \u001b[38;5;28;01mNone\u001b[39;00m:\n",
      "File \u001b[0;32m~/miniconda3/envs/RLSRWP_2025/lib/python3.10/site-packages/fastparquet/writer.py:122\u001b[0m, in \u001b[0;36mfind_type\u001b[0;34m(data, fixed_text, object_encoding, times, is_index)\u001b[0m\n\u001b[1;32m    120\u001b[0m \u001b[38;5;28;01melif\u001b[39;00m dtype \u001b[38;5;241m==\u001b[39m \u001b[38;5;124m\"\u001b[39m\u001b[38;5;124mO\u001b[39m\u001b[38;5;124m\"\u001b[39m:\n\u001b[1;32m    121\u001b[0m     \u001b[38;5;28;01mif\u001b[39;00m object_encoding \u001b[38;5;241m==\u001b[39m \u001b[38;5;124m'\u001b[39m\u001b[38;5;124minfer\u001b[39m\u001b[38;5;124m'\u001b[39m:\n\u001b[0;32m--> 122\u001b[0m         object_encoding \u001b[38;5;241m=\u001b[39m \u001b[43minfer_object_encoding\u001b[49m\u001b[43m(\u001b[49m\u001b[43mdata\u001b[49m\u001b[43m)\u001b[49m\n\u001b[1;32m    124\u001b[0m     \u001b[38;5;28;01mif\u001b[39;00m object_encoding \u001b[38;5;241m==\u001b[39m \u001b[38;5;124m'\u001b[39m\u001b[38;5;124mutf8\u001b[39m\u001b[38;5;124m'\u001b[39m:\n\u001b[1;32m    125\u001b[0m         \u001b[38;5;28mtype\u001b[39m, converted_type, width \u001b[38;5;241m=\u001b[39m (parquet_thrift\u001b[38;5;241m.\u001b[39mType\u001b[38;5;241m.\u001b[39mBYTE_ARRAY,\n\u001b[1;32m    126\u001b[0m                                        parquet_thrift\u001b[38;5;241m.\u001b[39mConvertedType\u001b[38;5;241m.\u001b[39mUTF8,\n\u001b[1;32m    127\u001b[0m                                        \u001b[38;5;28;01mNone\u001b[39;00m)\n",
      "File \u001b[0;32m~/miniconda3/envs/RLSRWP_2025/lib/python3.10/site-packages/fastparquet/writer.py:375\u001b[0m, in \u001b[0;36minfer_object_encoding\u001b[0;34m(data)\u001b[0m\n\u001b[1;32m    373\u001b[0m     s \u001b[38;5;241m+\u001b[39m\u001b[38;5;241m=\u001b[39m \u001b[38;5;241m1\u001b[39m\n\u001b[1;32m    374\u001b[0m \u001b[38;5;28;01melse\u001b[39;00m:\n\u001b[0;32m--> 375\u001b[0m     \u001b[38;5;28;01mraise\u001b[39;00m \u001b[38;5;167;01mValueError\u001b[39;00m(\u001b[38;5;124m\"\u001b[39m\u001b[38;5;124mCan\u001b[39m\u001b[38;5;124m'\u001b[39m\u001b[38;5;124mt infer object conversion type: \u001b[39m\u001b[38;5;132;01m%s\u001b[39;00m\u001b[38;5;124m\"\u001b[39m \u001b[38;5;241m%\u001b[39m data)\n\u001b[1;32m    376\u001b[0m \u001b[38;5;28;01mif\u001b[39;00m s \u001b[38;5;241m>\u001b[39m \u001b[38;5;241m10\u001b[39m:\n\u001b[1;32m    377\u001b[0m     \u001b[38;5;28;01mbreak\u001b[39;00m\n",
      "\u001b[0;31mValueError\u001b[0m: Can't infer object conversion type: 0         (ENST00000326592:c.1538A>C,)\n1         (ENST00000326592:c.1474A>C,)\n2         (ENST00000326592:c.1235C>T,)\n3         (ENST00000326592:c.1235C>T,)\n4          (ENST00000361390:c.518G>A,)\n                      ...             \n893746     (ENST00000379757:c.913C>T,)\n893747    (ENST00000431877:c.2438T>A,)\n893748    (ENST00000262027:c.2692G>A,)\n893749     (ENST00000429344:c.963C>T,)\n893750     (ENST00000485511:c.609G>T,)\nName: transcript_names, Length: 893751, dtype: object"
     ]
    }
   ],
   "source": [
    "bus_df = make_bus_df(kb_count_out_dir, fastq_file, technology=technology, parity=parity, bustools=bustools)\n",
    "bus_df = bus_df.drop(columns=[\"transcript_names\"]).rename(columns={\"gene_names\": \"variant_names\"})\n",
    "filtered_bus_df = bus_df[bus_df[\"variant_names\"].apply(lambda x: len(x) == 1)]  # remove multi-mapping reads\n",
    "filtered_bus_df[\"variant_names_str\"] = filtered_bus_df[\"variant_names\"].apply(lambda x: x[0])  # cast to string\n",
    "filtered_bus_df = filtered_bus_df[(filtered_bus_df[\"variant_names_str\"].isin(top10)) & (filtered_bus_df[\"counted_in_count_matrix\"])]\n",
    "print(f\"Number of reads in filtered bus file: {len(filtered_bus_df)}\")\n",
    "filtered_bus_df.head()"
   ]
  },
  {
   "cell_type": "code",
   "execution_count": null,
   "id": "32c55d55",
   "metadata": {},
   "outputs": [
    {
     "data": {
      "text/plain": [
       "{'ENST00000361624:c.795dup': 'vcrs_0',\n",
       " 'ENST00000361390:c.910T>C': 'vcrs_1',\n",
       " 'ENST00000361453:c.142dup': 'vcrs_2',\n",
       " 'ENST00000361899:c.41T>C': 'vcrs_3',\n",
       " 'ENST00000361899:c.268C>T': 'vcrs_4',\n",
       " 'ENST00000361899:c.328G>A': 'vcrs_5',\n",
       " 'ENST00000361899:c.326G>A': 'vcrs_6',\n",
       " 'ENST00000361624:c.922G>A': 'vcrs_7',\n",
       " 'ENST00000361624:c.226G>A': 'vcrs_8',\n",
       " 'ENST00000361899:c.296C>T': 'vcrs_9'}"
      ]
     },
     "execution_count": 63,
     "metadata": {},
     "output_type": "execute_result"
    }
   ],
   "source": [
    "# make IDs since the gene names in HGVSC format do not make for good folder names or bowtie2 header names\n",
    "vcrs_header_to_id = {vcrs: f\"vcrs_{i}\" for i, vcrs in enumerate(list(top10))}\n",
    "filtered_bus_df[\"vcrs_ids\"] = filtered_bus_df[\"variant_names_str\"].map(vcrs_header_to_id)\n",
    "\n",
    "vcrs_header_to_id_file = os.path.join(vk_count_out_dir, \"vcrs_header_to_id.txt\")\n",
    "with open(vcrs_header_to_id_file, \"w\") as f:\n",
    "    for key, value in vcrs_header_to_id.items():\n",
    "        f.write(f\"{key}\\t{value}\\n\")  # Tab-separated\n",
    "\n",
    "id_to_vcrs_header = {v: k for k, v in vcrs_header_to_id.items()}\n",
    "vcrs_header_to_id"
   ]
  },
  {
   "cell_type": "code",
   "execution_count": null,
   "id": "b504ecc8",
   "metadata": {},
   "outputs": [],
   "source": [
    "for vcrs_id in filtered_bus_df[\"vcrs_ids\"].unique():  # Get unique gene names\n",
    "    temp_df = filtered_bus_df[filtered_bus_df[\"vcrs_ids\"] == vcrs_id]  # Filter\n",
    "    fastq_headers = temp_df[\"fastq_header\"].tolist()  # Get values as a list\n",
    "\n",
    "    gene_dir = os.path.join(aligned_reads_parent_dir, vcrs_id)\n",
    "    os.makedirs(gene_dir, exist_ok=True)\n",
    "    \n",
    "    aligned_reads_file = os.path.join(gene_dir, \"1.fastq\")\n",
    "    with open(aligned_reads_file, \"w\") as f:\n",
    "        for header in fastq_headers:\n",
    "            sequence = fastq_indexed[header].seq\n",
    "            qualities = fastq_indexed[header].qual\n",
    "            f.write(f\"@{header}\\n{sequence}\\n+\\n{qualities}\\n\")"
   ]
  },
  {
   "cell_type": "markdown",
   "id": "47f1ecf2",
   "metadata": {},
   "source": [
    "### View COSMIC metadata"
   ]
  },
  {
   "cell_type": "code",
   "execution_count": null,
   "id": "107a9752",
   "metadata": {},
   "outputs": [
    {
     "name": "stderr",
     "output_type": "stream",
     "text": [
      "/var/folders/wr/wdr46lxn7fbc_kty6kwbfhxc0000gn/T/ipykernel_65294/200950275.py:2: SettingWithCopyWarning: \n",
      "A value is trying to be set on a copy of a slice from a DataFrame.\n",
      "Try using .loc[row_indexer,col_indexer] = value instead\n",
      "\n",
      "See the caveats in the documentation: https://pandas.pydata.org/pandas-docs/stable/user_guide/indexing.html#returning-a-view-versus-a-copy\n",
      "  cosmic_df_subset[\"id\"] = cosmic_df_subset[\"header\"].map(vcrs_header_to_id)\n",
      "/var/folders/wr/wdr46lxn7fbc_kty6kwbfhxc0000gn/T/ipykernel_65294/200950275.py:3: SettingWithCopyWarning: \n",
      "A value is trying to be set on a copy of a slice from a DataFrame.\n",
      "Try using .loc[row_indexer,col_indexer] = value instead\n",
      "\n",
      "See the caveats in the documentation: https://pandas.pydata.org/pandas-docs/stable/user_guide/indexing.html#returning-a-view-versus-a-copy\n",
      "  cosmic_df_subset[\"counts\"] = cosmic_df_subset[\"header\"].map(lambda x: top10_dict[x])\n"
     ]
    },
    {
     "data": {
      "application/vnd.microsoft.datawrangler.viewer.v0+json": {
       "columns": [
        {
         "name": "index",
         "rawType": "int64",
         "type": "integer"
        },
        {
         "name": "seq_ID",
         "rawType": "object",
         "type": "string"
        },
        {
         "name": "mutation",
         "rawType": "object",
         "type": "string"
        },
        {
         "name": "mutation_aa",
         "rawType": "object",
         "type": "string"
        },
        {
         "name": "GENOMIC_MUTATION_ID",
         "rawType": "object",
         "type": "string"
        },
        {
         "name": "chromosome",
         "rawType": "object",
         "type": "string"
        },
        {
         "name": "strand",
         "rawType": "object",
         "type": "string"
        },
        {
         "name": "mutation_genome",
         "rawType": "object",
         "type": "string"
        },
        {
         "name": "gene_name",
         "rawType": "object",
         "type": "string"
        },
        {
         "name": "mutation_id",
         "rawType": "int64",
         "type": "integer"
        },
        {
         "name": "mutation_cdna",
         "rawType": "object",
         "type": "string"
        },
        {
         "name": "header",
         "rawType": "object",
         "type": "string"
        },
        {
         "name": "id",
         "rawType": "object",
         "type": "string"
        },
        {
         "name": "counts",
         "rawType": "int64",
         "type": "integer"
        }
       ],
       "conversionMethod": "pd.DataFrame",
       "ref": "32af70aa-b678-41f1-927e-d43597c7c946",
       "rows": [
        [
         "5349419",
         "ENST00000361624",
         "c.795dup",
         "p.E266Rfs*?",
         "COSV104419744",
         "MT",
         null,
         "g.6698_6699dup",
         "MT-CO1",
         "36495429",
         "c.795dup",
         "ENST00000361624:c.795dup",
         "vcrs_0",
         "627"
        ],
        [
         "1078993",
         "ENST00000361390",
         "c.910T>C",
         "p.Y304H",
         "COSV62293824",
         "MT",
         "+",
         "g.4216T>C",
         "MT-ND1",
         "35322641",
         "c.910T>C",
         "ENST00000361390:c.910T>C",
         "vcrs_1",
         "536"
        ],
        [
         "5268715",
         "ENST00000361453",
         "c.142dup",
         "p.M48Nfs*?",
         "COSV107450120",
         "MT",
         null,
         "g.4611_4612dup",
         "MT-ND2",
         "35576559",
         "c.142dup",
         "ENST00000361453:c.142dup",
         "vcrs_2",
         "187"
        ],
        [
         "835480",
         "ENST00000361899",
         "c.41T>C",
         "p.I14T",
         "COSV106107919",
         "MT",
         "+",
         "g.8567T>C",
         "MT-ATP6",
         "38183749",
         "c.41T>C",
         "ENST00000361899:c.41T>C",
         "vcrs_3",
         "69"
        ],
        [
         "835485",
         "ENST00000361899",
         "c.268C>T",
         "p.H90Y",
         "COSV62293579",
         "MT",
         "+",
         "g.8794C>T",
         "MT-ATP6",
         "38184577",
         "c.268C>T",
         "ENST00000361899:c.268C>T",
         "vcrs_4",
         "15"
        ],
        [
         "835511",
         "ENST00000361899",
         "c.328G>A",
         "p.A110T",
         "COSV106107895",
         "MT",
         "+",
         "g.8854G>A",
         "MT-ATP6",
         "38184385",
         "c.328G>A",
         "ENST00000361899:c.328G>A",
         "vcrs_5",
         "12"
        ],
        [
         "835482",
         "ENST00000361899",
         "c.326G>A",
         "p.W109*",
         "COSV106107946",
         "MT",
         "+",
         "g.8852G>A",
         "MT-ATP6",
         "38184768",
         "c.326G>A",
         "ENST00000361899:c.326G>A",
         "vcrs_6",
         "11"
        ],
        [
         "3261302",
         "ENST00000361624",
         "c.922G>A",
         "p.A308T",
         "COSV106107908",
         "MT",
         "+",
         "g.6825G>A",
         "MT-CO1",
         "36495787",
         "c.922G>A",
         "ENST00000361624:c.922G>A",
         "vcrs_7",
         "10"
        ],
        [
         "3261422",
         "ENST00000361624",
         "c.226G>A",
         "p.G76*",
         "COSV106107894",
         "MT",
         "+",
         "g.6129G>A",
         "MT-CO1",
         "36495476",
         "c.226G>A",
         "ENST00000361624:c.226G>A",
         "vcrs_8",
         "10"
        ],
        [
         "835504",
         "ENST00000361899",
         "c.296C>T",
         "p.S99F",
         "COSV62294449",
         "MT",
         "+",
         "g.8822C>T",
         "MT-ATP6",
         "38184051",
         "c.296C>T",
         "ENST00000361899:c.296C>T",
         "vcrs_9",
         "9"
        ]
       ],
       "shape": {
        "columns": 13,
        "rows": 10
       }
      },
      "text/html": [
       "<div>\n",
       "<style scoped>\n",
       "    .dataframe tbody tr th:only-of-type {\n",
       "        vertical-align: middle;\n",
       "    }\n",
       "\n",
       "    .dataframe tbody tr th {\n",
       "        vertical-align: top;\n",
       "    }\n",
       "\n",
       "    .dataframe thead th {\n",
       "        text-align: right;\n",
       "    }\n",
       "</style>\n",
       "<table border=\"1\" class=\"dataframe\">\n",
       "  <thead>\n",
       "    <tr style=\"text-align: right;\">\n",
       "      <th></th>\n",
       "      <th>seq_ID</th>\n",
       "      <th>mutation</th>\n",
       "      <th>mutation_aa</th>\n",
       "      <th>GENOMIC_MUTATION_ID</th>\n",
       "      <th>chromosome</th>\n",
       "      <th>strand</th>\n",
       "      <th>mutation_genome</th>\n",
       "      <th>gene_name</th>\n",
       "      <th>mutation_id</th>\n",
       "      <th>mutation_cdna</th>\n",
       "      <th>header</th>\n",
       "      <th>id</th>\n",
       "      <th>counts</th>\n",
       "    </tr>\n",
       "  </thead>\n",
       "  <tbody>\n",
       "    <tr>\n",
       "      <th>5349419</th>\n",
       "      <td>ENST00000361624</td>\n",
       "      <td>c.795dup</td>\n",
       "      <td>p.E266Rfs*?</td>\n",
       "      <td>COSV104419744</td>\n",
       "      <td>MT</td>\n",
       "      <td>NaN</td>\n",
       "      <td>g.6698_6699dup</td>\n",
       "      <td>MT-CO1</td>\n",
       "      <td>36495429</td>\n",
       "      <td>c.795dup</td>\n",
       "      <td>ENST00000361624:c.795dup</td>\n",
       "      <td>vcrs_0</td>\n",
       "      <td>627</td>\n",
       "    </tr>\n",
       "    <tr>\n",
       "      <th>1078993</th>\n",
       "      <td>ENST00000361390</td>\n",
       "      <td>c.910T&gt;C</td>\n",
       "      <td>p.Y304H</td>\n",
       "      <td>COSV62293824</td>\n",
       "      <td>MT</td>\n",
       "      <td>+</td>\n",
       "      <td>g.4216T&gt;C</td>\n",
       "      <td>MT-ND1</td>\n",
       "      <td>35322641</td>\n",
       "      <td>c.910T&gt;C</td>\n",
       "      <td>ENST00000361390:c.910T&gt;C</td>\n",
       "      <td>vcrs_1</td>\n",
       "      <td>536</td>\n",
       "    </tr>\n",
       "    <tr>\n",
       "      <th>5268715</th>\n",
       "      <td>ENST00000361453</td>\n",
       "      <td>c.142dup</td>\n",
       "      <td>p.M48Nfs*?</td>\n",
       "      <td>COSV107450120</td>\n",
       "      <td>MT</td>\n",
       "      <td>NaN</td>\n",
       "      <td>g.4611_4612dup</td>\n",
       "      <td>MT-ND2</td>\n",
       "      <td>35576559</td>\n",
       "      <td>c.142dup</td>\n",
       "      <td>ENST00000361453:c.142dup</td>\n",
       "      <td>vcrs_2</td>\n",
       "      <td>187</td>\n",
       "    </tr>\n",
       "    <tr>\n",
       "      <th>835480</th>\n",
       "      <td>ENST00000361899</td>\n",
       "      <td>c.41T&gt;C</td>\n",
       "      <td>p.I14T</td>\n",
       "      <td>COSV106107919</td>\n",
       "      <td>MT</td>\n",
       "      <td>+</td>\n",
       "      <td>g.8567T&gt;C</td>\n",
       "      <td>MT-ATP6</td>\n",
       "      <td>38183749</td>\n",
       "      <td>c.41T&gt;C</td>\n",
       "      <td>ENST00000361899:c.41T&gt;C</td>\n",
       "      <td>vcrs_3</td>\n",
       "      <td>69</td>\n",
       "    </tr>\n",
       "    <tr>\n",
       "      <th>835485</th>\n",
       "      <td>ENST00000361899</td>\n",
       "      <td>c.268C&gt;T</td>\n",
       "      <td>p.H90Y</td>\n",
       "      <td>COSV62293579</td>\n",
       "      <td>MT</td>\n",
       "      <td>+</td>\n",
       "      <td>g.8794C&gt;T</td>\n",
       "      <td>MT-ATP6</td>\n",
       "      <td>38184577</td>\n",
       "      <td>c.268C&gt;T</td>\n",
       "      <td>ENST00000361899:c.268C&gt;T</td>\n",
       "      <td>vcrs_4</td>\n",
       "      <td>15</td>\n",
       "    </tr>\n",
       "    <tr>\n",
       "      <th>835511</th>\n",
       "      <td>ENST00000361899</td>\n",
       "      <td>c.328G&gt;A</td>\n",
       "      <td>p.A110T</td>\n",
       "      <td>COSV106107895</td>\n",
       "      <td>MT</td>\n",
       "      <td>+</td>\n",
       "      <td>g.8854G&gt;A</td>\n",
       "      <td>MT-ATP6</td>\n",
       "      <td>38184385</td>\n",
       "      <td>c.328G&gt;A</td>\n",
       "      <td>ENST00000361899:c.328G&gt;A</td>\n",
       "      <td>vcrs_5</td>\n",
       "      <td>12</td>\n",
       "    </tr>\n",
       "    <tr>\n",
       "      <th>835482</th>\n",
       "      <td>ENST00000361899</td>\n",
       "      <td>c.326G&gt;A</td>\n",
       "      <td>p.W109*</td>\n",
       "      <td>COSV106107946</td>\n",
       "      <td>MT</td>\n",
       "      <td>+</td>\n",
       "      <td>g.8852G&gt;A</td>\n",
       "      <td>MT-ATP6</td>\n",
       "      <td>38184768</td>\n",
       "      <td>c.326G&gt;A</td>\n",
       "      <td>ENST00000361899:c.326G&gt;A</td>\n",
       "      <td>vcrs_6</td>\n",
       "      <td>11</td>\n",
       "    </tr>\n",
       "    <tr>\n",
       "      <th>3261302</th>\n",
       "      <td>ENST00000361624</td>\n",
       "      <td>c.922G&gt;A</td>\n",
       "      <td>p.A308T</td>\n",
       "      <td>COSV106107908</td>\n",
       "      <td>MT</td>\n",
       "      <td>+</td>\n",
       "      <td>g.6825G&gt;A</td>\n",
       "      <td>MT-CO1</td>\n",
       "      <td>36495787</td>\n",
       "      <td>c.922G&gt;A</td>\n",
       "      <td>ENST00000361624:c.922G&gt;A</td>\n",
       "      <td>vcrs_7</td>\n",
       "      <td>10</td>\n",
       "    </tr>\n",
       "    <tr>\n",
       "      <th>3261422</th>\n",
       "      <td>ENST00000361624</td>\n",
       "      <td>c.226G&gt;A</td>\n",
       "      <td>p.G76*</td>\n",
       "      <td>COSV106107894</td>\n",
       "      <td>MT</td>\n",
       "      <td>+</td>\n",
       "      <td>g.6129G&gt;A</td>\n",
       "      <td>MT-CO1</td>\n",
       "      <td>36495476</td>\n",
       "      <td>c.226G&gt;A</td>\n",
       "      <td>ENST00000361624:c.226G&gt;A</td>\n",
       "      <td>vcrs_8</td>\n",
       "      <td>10</td>\n",
       "    </tr>\n",
       "    <tr>\n",
       "      <th>835504</th>\n",
       "      <td>ENST00000361899</td>\n",
       "      <td>c.296C&gt;T</td>\n",
       "      <td>p.S99F</td>\n",
       "      <td>COSV62294449</td>\n",
       "      <td>MT</td>\n",
       "      <td>+</td>\n",
       "      <td>g.8822C&gt;T</td>\n",
       "      <td>MT-ATP6</td>\n",
       "      <td>38184051</td>\n",
       "      <td>c.296C&gt;T</td>\n",
       "      <td>ENST00000361899:c.296C&gt;T</td>\n",
       "      <td>vcrs_9</td>\n",
       "      <td>9</td>\n",
       "    </tr>\n",
       "  </tbody>\n",
       "</table>\n",
       "</div>"
      ],
      "text/plain": [
       "                  seq_ID  mutation  mutation_aa GENOMIC_MUTATION_ID  \\\n",
       "5349419  ENST00000361624  c.795dup  p.E266Rfs*?       COSV104419744   \n",
       "1078993  ENST00000361390  c.910T>C      p.Y304H        COSV62293824   \n",
       "5268715  ENST00000361453  c.142dup   p.M48Nfs*?       COSV107450120   \n",
       "835480   ENST00000361899   c.41T>C       p.I14T       COSV106107919   \n",
       "835485   ENST00000361899  c.268C>T       p.H90Y        COSV62293579   \n",
       "835511   ENST00000361899  c.328G>A      p.A110T       COSV106107895   \n",
       "835482   ENST00000361899  c.326G>A      p.W109*       COSV106107946   \n",
       "3261302  ENST00000361624  c.922G>A      p.A308T       COSV106107908   \n",
       "3261422  ENST00000361624  c.226G>A       p.G76*       COSV106107894   \n",
       "835504   ENST00000361899  c.296C>T       p.S99F        COSV62294449   \n",
       "\n",
       "        chromosome strand mutation_genome gene_name  mutation_id  \\\n",
       "5349419         MT    NaN  g.6698_6699dup    MT-CO1     36495429   \n",
       "1078993         MT      +       g.4216T>C    MT-ND1     35322641   \n",
       "5268715         MT    NaN  g.4611_4612dup    MT-ND2     35576559   \n",
       "835480          MT      +       g.8567T>C   MT-ATP6     38183749   \n",
       "835485          MT      +       g.8794C>T   MT-ATP6     38184577   \n",
       "835511          MT      +       g.8854G>A   MT-ATP6     38184385   \n",
       "835482          MT      +       g.8852G>A   MT-ATP6     38184768   \n",
       "3261302         MT      +       g.6825G>A    MT-CO1     36495787   \n",
       "3261422         MT      +       g.6129G>A    MT-CO1     36495476   \n",
       "835504          MT      +       g.8822C>T   MT-ATP6     38184051   \n",
       "\n",
       "        mutation_cdna                    header      id  counts  \n",
       "5349419      c.795dup  ENST00000361624:c.795dup  vcrs_0     627  \n",
       "1078993      c.910T>C  ENST00000361390:c.910T>C  vcrs_1     536  \n",
       "5268715      c.142dup  ENST00000361453:c.142dup  vcrs_2     187  \n",
       "835480        c.41T>C   ENST00000361899:c.41T>C  vcrs_3      69  \n",
       "835485       c.268C>T  ENST00000361899:c.268C>T  vcrs_4      15  \n",
       "835511       c.328G>A  ENST00000361899:c.328G>A  vcrs_5      12  \n",
       "835482       c.326G>A  ENST00000361899:c.326G>A  vcrs_6      11  \n",
       "3261302      c.922G>A  ENST00000361624:c.922G>A  vcrs_7      10  \n",
       "3261422      c.226G>A  ENST00000361624:c.226G>A  vcrs_8      10  \n",
       "835504       c.296C>T  ENST00000361899:c.296C>T  vcrs_9       9  "
      ]
     },
     "execution_count": 71,
     "metadata": {},
     "output_type": "execute_result"
    }
   ],
   "source": [
    "cosmic_df_subset = cosmic_df[cosmic_df[\"header\"].isin(top10)]\n",
    "cosmic_df_subset[\"id\"] = cosmic_df_subset[\"header\"].map(vcrs_header_to_id)\n",
    "cosmic_df_subset[\"counts\"] = cosmic_df_subset[\"header\"].map(lambda x: top10_dict[x])\n",
    "cosmic_df_subset = cosmic_df_subset.sort_values(by=\"counts\", ascending=False)\n",
    "cosmic_df_subset"
   ]
  },
  {
   "cell_type": "markdown",
   "id": "487178cb-9825-4c23-9551-baf7a6934f9c",
   "metadata": {},
   "source": [
    "### Align (1) pulled out reads and (2) the VCRSs to the human genome to generate bam files:"
   ]
  },
  {
   "cell_type": "code",
   "execution_count": null,
   "id": "28187021-d85a-4bd0-9892-7fd5e20e46e5",
   "metadata": {},
   "outputs": [
    {
     "name": "stdout",
     "output_type": "stream",
     "text": [
      "vcrs_0 (ENST00000361624:c.795dup)\n",
      "\n",
      "627 reads; of these:\n",
      "  627 (100.00%) were unpaired; of these:\n",
      "    3 (0.48%) aligned 0 times\n",
      "    0 (0.00%) aligned exactly 1 time\n",
      "    624 (99.52%) aligned >1 times\n",
      "99.52% overall alignment rate\n",
      "[samopen] SAM header is present: 84 sequences.\n",
      "1 reads; of these:\n",
      "  1 (100.00%) were unpaired; of these:\n",
      "    0 (0.00%) aligned 0 times\n",
      "    0 (0.00%) aligned exactly 1 time\n",
      "    1 (100.00%) aligned >1 times\n",
      "100.00% overall alignment rate\n",
      "[samopen] SAM header is present: 84 sequences.\n",
      "vcrs_1 (ENST00000361390:c.910T>C)\n",
      "\n",
      "536 reads; of these:\n",
      "  536 (100.00%) were unpaired; of these:\n",
      "    4 (0.75%) aligned 0 times\n",
      "    0 (0.00%) aligned exactly 1 time\n",
      "    532 (99.25%) aligned >1 times\n",
      "99.25% overall alignment rate\n",
      "[samopen] SAM header is present: 84 sequences.\n",
      "1 reads; of these:\n",
      "  1 (100.00%) were unpaired; of these:\n",
      "    0 (0.00%) aligned 0 times\n",
      "    0 (0.00%) aligned exactly 1 time\n",
      "    1 (100.00%) aligned >1 times\n",
      "100.00% overall alignment rate\n",
      "[samopen] SAM header is present: 84 sequences.\n",
      "vcrs_2 (ENST00000361453:c.142dup)\n",
      "\n",
      "187 reads; of these:\n",
      "  187 (100.00%) were unpaired; of these:\n",
      "    1 (0.53%) aligned 0 times\n",
      "    0 (0.00%) aligned exactly 1 time\n",
      "    186 (99.47%) aligned >1 times\n",
      "99.47% overall alignment rate\n",
      "[samopen] SAM header is present: 84 sequences.\n",
      "1 reads; of these:\n",
      "  1 (100.00%) were unpaired; of these:\n",
      "    0 (0.00%) aligned 0 times\n",
      "    0 (0.00%) aligned exactly 1 time\n",
      "    1 (100.00%) aligned >1 times\n",
      "100.00% overall alignment rate\n",
      "[samopen] SAM header is present: 84 sequences.\n",
      "vcrs_3 (ENST00000361899:c.41T>C)\n",
      "\n",
      "69 reads; of these:\n",
      "  69 (100.00%) were unpaired; of these:\n",
      "    0 (0.00%) aligned 0 times\n",
      "    0 (0.00%) aligned exactly 1 time\n",
      "    69 (100.00%) aligned >1 times\n",
      "100.00% overall alignment rate\n",
      "[samopen] SAM header is present: 84 sequences.\n",
      "1 reads; of these:\n",
      "  1 (100.00%) were unpaired; of these:\n",
      "    0 (0.00%) aligned 0 times\n",
      "    0 (0.00%) aligned exactly 1 time\n",
      "    1 (100.00%) aligned >1 times\n",
      "100.00% overall alignment rate\n",
      "[samopen] SAM header is present: 84 sequences.\n",
      "vcrs_4 (ENST00000361899:c.268C>T)\n",
      "\n",
      "15 reads; of these:\n",
      "  15 (100.00%) were unpaired; of these:\n",
      "    0 (0.00%) aligned 0 times\n",
      "    0 (0.00%) aligned exactly 1 time\n",
      "    15 (100.00%) aligned >1 times\n",
      "100.00% overall alignment rate\n",
      "[samopen] SAM header is present: 84 sequences.\n",
      "1 reads; of these:\n",
      "  1 (100.00%) were unpaired; of these:\n",
      "    0 (0.00%) aligned 0 times\n",
      "    0 (0.00%) aligned exactly 1 time\n",
      "    1 (100.00%) aligned >1 times\n",
      "100.00% overall alignment rate\n",
      "[samopen] SAM header is present: 84 sequences.\n",
      "vcrs_5 (ENST00000361899:c.328G>A)\n",
      "\n",
      "12 reads; of these:\n",
      "  12 (100.00%) were unpaired; of these:\n",
      "    0 (0.00%) aligned 0 times\n",
      "    0 (0.00%) aligned exactly 1 time\n",
      "    12 (100.00%) aligned >1 times\n",
      "100.00% overall alignment rate\n",
      "[samopen] SAM header is present: 84 sequences.\n",
      "1 reads; of these:\n",
      "  1 (100.00%) were unpaired; of these:\n",
      "    0 (0.00%) aligned 0 times\n",
      "    0 (0.00%) aligned exactly 1 time\n",
      "    1 (100.00%) aligned >1 times\n",
      "100.00% overall alignment rate\n",
      "[samopen] SAM header is present: 84 sequences.\n",
      "vcrs_6 (ENST00000361899:c.326G>A)\n",
      "\n",
      "11 reads; of these:\n",
      "  11 (100.00%) were unpaired; of these:\n",
      "    0 (0.00%) aligned 0 times\n",
      "    0 (0.00%) aligned exactly 1 time\n",
      "    11 (100.00%) aligned >1 times\n",
      "100.00% overall alignment rate\n",
      "[samopen] SAM header is present: 84 sequences.\n",
      "1 reads; of these:\n",
      "  1 (100.00%) were unpaired; of these:\n",
      "    0 (0.00%) aligned 0 times\n",
      "    0 (0.00%) aligned exactly 1 time\n",
      "    1 (100.00%) aligned >1 times\n",
      "100.00% overall alignment rate\n",
      "[samopen] SAM header is present: 84 sequences.\n",
      "vcrs_7 (ENST00000361624:c.922G>A)\n",
      "\n",
      "10 reads; of these:\n",
      "  10 (100.00%) were unpaired; of these:\n",
      "    0 (0.00%) aligned 0 times\n",
      "    0 (0.00%) aligned exactly 1 time\n",
      "    10 (100.00%) aligned >1 times\n",
      "100.00% overall alignment rate\n",
      "[samopen] SAM header is present: 84 sequences.\n",
      "1 reads; of these:\n",
      "  1 (100.00%) were unpaired; of these:\n",
      "    0 (0.00%) aligned 0 times\n",
      "    0 (0.00%) aligned exactly 1 time\n",
      "    1 (100.00%) aligned >1 times\n",
      "100.00% overall alignment rate\n",
      "[samopen] SAM header is present: 84 sequences.\n",
      "vcrs_8 (ENST00000361624:c.226G>A)\n",
      "\n",
      "10 reads; of these:\n",
      "  10 (100.00%) were unpaired; of these:\n",
      "    0 (0.00%) aligned 0 times\n",
      "    0 (0.00%) aligned exactly 1 time\n",
      "    10 (100.00%) aligned >1 times\n",
      "100.00% overall alignment rate\n",
      "[samopen] SAM header is present: 84 sequences.\n",
      "1 reads; of these:\n",
      "  1 (100.00%) were unpaired; of these:\n",
      "    0 (0.00%) aligned 0 times\n",
      "    0 (0.00%) aligned exactly 1 time\n",
      "    1 (100.00%) aligned >1 times\n",
      "100.00% overall alignment rate\n",
      "[samopen] SAM header is present: 84 sequences.\n",
      "vcrs_9 (ENST00000361899:c.296C>T)\n",
      "\n",
      "9 reads; of these:\n",
      "  9 (100.00%) were unpaired; of these:\n",
      "    0 (0.00%) aligned 0 times\n",
      "    0 (0.00%) aligned exactly 1 time\n",
      "    9 (100.00%) aligned >1 times\n",
      "100.00% overall alignment rate\n",
      "[samopen] SAM header is present: 84 sequences.\n",
      "1 reads; of these:\n",
      "  1 (100.00%) were unpaired; of these:\n",
      "    0 (0.00%) aligned 0 times\n",
      "    0 (0.00%) aligned exactly 1 time\n",
      "    1 (100.00%) aligned >1 times\n",
      "100.00% overall alignment rate\n",
      "[samopen] SAM header is present: 84 sequences.\n"
     ]
    }
   ],
   "source": [
    "for folder in sorted(glob.glob(aligned_reads_parent_dir + \"/*/\")):\n",
    "    variant = folder.split(\"/\")[-2]\n",
    "    variant_header = id_to_vcrs_header[variant]\n",
    "    print(f\"{variant} ({variant_header})\\n\")\n",
    "\n",
    "    outfolder = f\"{bowtie_read_alignments}/{variant}\"\n",
    "    os.makedirs(outfolder, exist_ok=True)\n",
    "    \n",
    "    # Align reads to human ref using bowtie2\n",
    "    variant_sam = variant + \"_reads.sam\"\n",
    "    !$bowtie2 \\\n",
    "        --very-sensitive \\\n",
    "        -k 3 \\\n",
    "        -x $bowtie_reference_prefix \\\n",
    "        -p $threads \\\n",
    "        -q $aligned_reads_parent_dir/$variant/1.fastq \\\n",
    "        -S $outfolder/$variant_sam\n",
    "\n",
    "    # Convert sam to bam\n",
    "    variant_bam = variant + \"_reads.bam\"\n",
    "    !$samtools view \\\n",
    "        -bS -F4 $outfolder/$variant_sam \\\n",
    "        > $outfolder/$variant_bam\n",
    "    \n",
    "    # Sort bam file\n",
    "    variant_bam_sorted_prefix = \"final_\" + variant + \"_sorted_reads\"\n",
    "    variant_bam_sorted = variant_bam_sorted_prefix + \".bam\"\n",
    "    !$samtools sort \\\n",
    "        $outfolder/$variant_bam \\\n",
    "        $outfolder/$variant_bam_sorted_prefix\n",
    "    \n",
    "    # Create an index for the sorted bam file (creates a .bai file)\n",
    "    !$samtools index $outfolder/$variant_bam_sorted\n",
    "\n",
    "\n",
    "    # repeat but use vcrs as the input instead of reads\n",
    "    variant_reference_sequence = vcrs_fasta_indexed[variant_header].seq.strip()\n",
    "\n",
    "    # Align vcrs to human ref using bowtie2\n",
    "    variant_sam = variant + \"_vcrs.sam\"\n",
    "    !$bowtie2 \\\n",
    "        --very-sensitive \\\n",
    "        -k 3 \\\n",
    "        -x $bowtie_reference_prefix \\\n",
    "        -p $threads \\\n",
    "        -c $variant_reference_sequence \\\n",
    "        -S $outfolder/$variant_sam\n",
    "    # use k 3 to get multiple alignments, not just the best one\n",
    "\n",
    "    # Convert sam to bam\n",
    "    variant_bam = variant + \"_vcrs.bam\"\n",
    "    !$samtools view \\\n",
    "        -bS -F4 $outfolder/$variant_sam \\\n",
    "        > $outfolder/$variant_bam\n",
    "\n",
    "    # Sort bam file\n",
    "    variant_bam_sorted_prefix = \"final_\" + variant + \"_sorted_vcrs\"\n",
    "    variant_bam_sorted = variant_bam_sorted_prefix + \".bam\"\n",
    "    !$samtools sort \\\n",
    "        $outfolder/$variant_bam \\\n",
    "        $outfolder/$variant_bam_sorted_prefix\n",
    "\n",
    "    # Create an index for the sorted bam file (creates a .bai file)\n",
    "    !$samtools index $outfolder/$variant_bam_sorted"
   ]
  },
  {
   "cell_type": "markdown",
   "id": "1cb02e32",
   "metadata": {},
   "source": [
    "### Load the files in bowtie_read_alignments into NCBI Genome workbench (or another genome viewer) to visualize the alignments (the ones with \"final_\")"
   ]
  }
 ],
 "metadata": {
  "kernelspec": {
   "display_name": "RLSRWP_2025",
   "language": "python",
   "name": "python3"
  },
  "language_info": {
   "codemirror_mode": {
    "name": "ipython",
    "version": 3
   },
   "file_extension": ".py",
   "mimetype": "text/x-python",
   "name": "python",
   "nbconvert_exporter": "python",
   "pygments_lexer": "ipython3",
   "version": "3.10.9"
  }
 },
 "nbformat": 4,
 "nbformat_minor": 5
}
