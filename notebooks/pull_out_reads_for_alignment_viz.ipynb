{
 "cells": [
  {
   "cell_type": "markdown",
   "id": "b8a4b538-0583-45e9-91d1-eec859bae4c1",
   "metadata": {},
   "source": [
    "# Extract cancer variant reads for alignment visualization\n",
    "\n",
    "## In this notebook, we use a single RNA-seq fastq file from a melanoma cancer cell line from the the CCLE project. Learn more about the project here:\n",
    "- sequencing data (ENA): https://www.ebi.ac.uk/ena/browser/view/PRJNA523380\n",
    "- paper: https://www.nature.com/articles/s41586-019-1186-3\n",
    "\n",
    "### Requirements: kb, samtools, and bowtie2"
   ]
  },
  {
   "cell_type": "code",
   "execution_count": 6,
   "id": "9cae3de3",
   "metadata": {},
   "outputs": [],
   "source": [
    "try:\n",
    "    import varseek as vk\n",
    "except ImportError:\n",
    "    print(\"varseek not found, installing...\")\n",
    "    !pip install -U -q varseek\n",
    "try:\n",
    "    import RLSRWP_2025\n",
    "except ImportError:\n",
    "    print(\"RLSRWP_2025 not found, installing...\")\n",
    "    !pip install -q git+https://github.com/pachterlab/RLSRWP_2025.git"
   ]
  },
  {
   "cell_type": "code",
   "execution_count": 2,
   "id": "400e7db6",
   "metadata": {},
   "outputs": [],
   "source": [
    "import anndata\n",
    "import os\n",
    "import numpy as np\n",
    "import pandas as pd\n",
    "import gget\n",
    "import pyfastx\n",
    "import glob\n",
    "# pd.set_option('display.max_columns', None)\n",
    "import varseek as vk\n",
    "from varseek.utils import make_bus_df\n",
    "\n",
    "RLSRWP_2025_dir = os.path.dirname(os.path.abspath(\"\"))  # if this notebook resides in RLSRWP_2025/notebooks/0_data_download.ipynb, then this retrieves RLSRWP_2025\n",
    "threads = \"2\"\n",
    "use_head = True"
   ]
  },
  {
   "cell_type": "markdown",
   "id": "317e1ef9",
   "metadata": {},
   "source": [
    "### File path definitions and imports"
   ]
  },
  {
   "cell_type": "code",
   "execution_count": 3,
   "id": "b81b187a",
   "metadata": {},
   "outputs": [],
   "source": [
    "vk_count_out_dir = os.path.join(RLSRWP_2025_dir, \"data\", \"varseek_count_out_alignment_visualization\")\n",
    "kb_count_out_dir = os.path.join(vk_count_out_dir, \"kb_count_out_vcrs\")\n",
    "adata_path = os.path.join(kb_count_out_dir, \"counts_unfiltered\", \"adata.h5ad\")\n",
    "aligned_reads_parent_dir = os.path.join(vk_count_out_dir, \"pseudoaligned_reads_to_vcrs_reference\")\n",
    "bowtie_read_alignments = os.path.join(vk_count_out_dir, \"bowtie_read_alignments\")\n",
    "\n",
    "# vk ref out directory and files - downloaded if not already present\n",
    "vk_ref_out_dir = os.path.join(RLSRWP_2025_dir, \"data\", \"vk_ref_out\")\n",
    "vcrs_index = os.path.join(vk_ref_out_dir, \"vcrs_index.idx\")\n",
    "vcrs_t2g = os.path.join(vk_ref_out_dir, \"vcrs_t2g_filtered.txt\")\n",
    "vcrs_fasta = os.path.join(vk_ref_out_dir, \"vcrs_filtered.fa\")\n",
    "\n",
    "# fastq directories - fastqs_dir downloaded if not already present, and fastqs_processed_dir created with fastp if not already present\n",
    "fastqs_dir = os.path.join(RLSRWP_2025_dir, \"data\", \"ccle_data_base\", \"RNASeq_MELHO_SKIN\")\n",
    "fastq_file = os.path.join(fastqs_dir, \"SRR8615233_1.fastq.gz\")\n",
    "technology = \"bulk\"\n",
    "\n",
    "# cosmic directory\n",
    "cosmic_dir = os.path.join(RLSRWP_2025_dir, \"data\", \"reference\", \"cosmic\")\n",
    "cosmic_csv = os.path.join(cosmic_dir, \"CancerMutationCensus_AllData_Tsv_v101_GRCh37\", \"CancerMutationCensus_AllData_v101_GRCh37_mutation_workflow.csv\")\n",
    "\n",
    "# reference genome directory\n",
    "reference_genome_dir = os.path.join(RLSRWP_2025_dir, \"data\", \"reference\", \"ensembl_grch37_release93\")\n",
    "\n",
    "# kb count to reference genome directory and files - created if not already present - only used if qc_against_gene_matrix=True\n",
    "qc_against_gene_matrix = False\n",
    "kb_count_reference_genome_dir = os.path.join(RLSRWP_2025_dir, \"data\", \"kb_count_reference_genome\")\n",
    "reference_genome_index = os.path.join(reference_genome_dir, \"index.idx\")  # either already exists or will be created\n",
    "reference_genome_t2g = os.path.join(reference_genome_dir, \"t2g.txt\")  # either already exists or will be created\n",
    "reference_genome_fasta = os.path.join(reference_genome_dir, \"Homo_sapiens.GRCh37.dna.primary_assembly.fa\")  # if reference_genome_index/reference_genome_t2g do not exist, then I need to supply the reference genome fasta and gtf\n",
    "reference_genome_gtf = os.path.join(reference_genome_dir, \"Homo_sapiens.GRCh37.87.gtf\")  # if reference_genome_index/reference_genome_t2g do not exist, then I need to supply the reference genome fasta and gtf\n",
    "\n",
    "# for bowtie2 - also uses reference_genome_fasta above (I could use cdna instead of genome too if desired)\n",
    "bowtie_reference_dir = os.path.join(reference_genome_dir, \"bowtie_index_genome\")\n",
    "bowtie_reference_prefix = os.path.join(bowtie_reference_dir, \"index\")\n",
    "\n",
    "# general\n",
    "w = \"47\"  # used during creation of the index, so cannot be altered\n",
    "k = \"51\"  # used during creation of the index, so cannot be altered\n",
    "strand = \"unstranded\"\n",
    "parity = \"single\"  # although the original data is paired, we will only be using a single file, so we will run in single-end mode\n",
    "\n",
    "# software\n",
    "bustools = \"/Users/joeyrich/miniconda3/envs/RLSRWP_2025/lib/python3.10/site-packages/kb_python/bins/darwin/m1/bustools/bustools\"\n",
    "bowtie2 = \"bowtie2\"\n",
    "bowtie2_build = \"bowtie2-build\"\n",
    "samtools = \"samtools\""
   ]
  },
  {
   "cell_type": "markdown",
   "id": "8f50ee94",
   "metadata": {},
   "source": [
    "### Download VCRS reference files with varseek ref"
   ]
  },
  {
   "cell_type": "code",
   "execution_count": 6,
   "id": "5ebc5dd0",
   "metadata": {},
   "outputs": [],
   "source": [
    "if not os.path.exists(vcrs_index) or not os.path.exists(vcrs_t2g) or not os.path.exists(vcrs_fasta):\n",
    "    vk.ref(variants=\"cosmic_cmc\", sequences=\"cdna\", w=w, k=k, dlist_reference_source=\"t2t\", index_out=vcrs_index, t2g_out=vcrs_t2g, fasta_out=vcrs_fasta)"
   ]
  },
  {
   "cell_type": "markdown",
   "id": "3ffe24bf",
   "metadata": {},
   "source": [
    "### Download COSMIC if not already downloaded"
   ]
  },
  {
   "cell_type": "code",
   "execution_count": 5,
   "id": "184711a2",
   "metadata": {},
   "outputs": [
    {
     "name": "stderr",
     "output_type": "stream",
     "text": [
      "20:24:16 - INFO - NOTE: Licence fees apply for the commercial use of COSMIC.\n",
      "20:24:28 - INFO - Downloading data...\n",
      "20:33:31 - INFO - Extracted tar file to /Users/joeyrich/Desktop/local/RLSRWP_2025/data/reference/cosmic/CancerMutationCensus_AllData_Tsv_v101_GRCh37\n",
      "20:33:34 - INFO - Unzipped file to /Users/joeyrich/Desktop/local/RLSRWP_2025/data/reference/cosmic/CancerMutationCensus_AllData_Tsv_v101_GRCh37/CancerMutationCensus_AllData_v101_GRCh37.tsv\n",
      "20:33:34 - INFO - Creating modified mutations file for use with gget mutate...\n"
     ]
    },
    {
     "name": "stdout",
     "output_type": "stream",
     "text": [
      "Removing 86 duplicate entries from the COSMIC csv for gget mutate: 86\n"
     ]
    },
    {
     "name": "stderr",
     "output_type": "stream",
     "text": [
      "20:35:43 - INFO - Modified mutations file for use with gget mutate created at /Users/joeyrich/Desktop/local/RLSRWP_2025/data/reference/cosmic/CancerMutationCensus_AllData_Tsv_v101_GRCh37/CancerMutationCensus_AllData_v101_GRCh37_mutation_workflow.csv\n",
      "/var/folders/wr/wdr46lxn7fbc_kty6kwbfhxc0000gn/T/ipykernel_65294/1725634623.py:13: DtypeWarning: Columns (4,5) have mixed types. Specify dtype option on import or set low_memory=False.\n",
      "  cosmic_df = pd.read_csv(cosmic_csv)\n",
      "20:35:49 - INFO - Copying df internally to avoid in-place modifications\n"
     ]
    },
    {
     "name": "stdout",
     "output_type": "stream",
     "text": [
      "Converting CDS to cDNA in COSMIC\n"
     ]
    },
    {
     "name": "stderr",
     "output_type": "stream",
     "text": [
      "20:35:49 - INFO - Removing unknown mutations\n",
      "20:35:52 - INFO - Removing unsupported mutation types\n",
      "20:35:52 - INFO - Uncertain mutations: 0\n",
      "20:35:52 - INFO - Ambiguous position mutations: 0\n",
      "20:35:52 - INFO - Intronic mutations: 368\n",
      "20:35:52 - INFO - Posttranslational region mutations: 0\n",
      "20:35:54 - INFO - Sorting df\n",
      "20:35:58 - INFO - Determining mutation positions\n",
      "20:36:27 - INFO - Removing version numbers in in fasta headers for /Users/joeyrich/Desktop/local/RLSRWP_2025/data/reference/ensembl_grch37_release93/Homo_sapiens.GRCh37.cdna.all.fa\n",
      "20:36:28 - INFO - Building pyfastx index for /Users/joeyrich/Desktop/local/RLSRWP_2025/data/reference/ensembl_grch37_release93/Homo_sapiens.GRCh37.cdna.all.fa\n",
      "20:36:28 - INFO - Removing version numbers in in fasta headers for /Users/joeyrich/Desktop/local/RLSRWP_2025/data/reference/ensembl_grch37_release93/Homo_sapiens.GRCh37.cds.all.fa\n",
      "20:36:28 - INFO - Building pyfastx index for /Users/joeyrich/Desktop/local/RLSRWP_2025/data/reference/ensembl_grch37_release93/Homo_sapiens.GRCh37.cds.all.fa\n",
      "Processing rows: 100%|██████████| 5418874/5418874 [07:02<00:00, 12835.63it/s]\n",
      "20:43:31 - INFO - Number of bad mutations: 0\n",
      "20:43:31 - INFO - Merging dfs\n",
      "20:43:45 - INFO - Saving output to /Users/joeyrich/Desktop/local/RLSRWP_2025/data/reference/cosmic/CancerMutationCensus_AllData_Tsv_v101_GRCh37/CancerMutationCensus_AllData_v101_GRCh37_mutation_workflow.csv\n",
      "20:43:57 - INFO - Cleaning up temporary files...\n"
     ]
    },
    {
     "data": {
      "application/vnd.microsoft.datawrangler.viewer.v0+json": {
       "columns": [
        {
         "name": "index",
         "rawType": "int64",
         "type": "integer"
        },
        {
         "name": "seq_ID",
         "rawType": "object",
         "type": "string"
        },
        {
         "name": "mutation",
         "rawType": "object",
         "type": "string"
        },
        {
         "name": "mutation_aa",
         "rawType": "object",
         "type": "string"
        },
        {
         "name": "GENOMIC_MUTATION_ID",
         "rawType": "object",
         "type": "string"
        },
        {
         "name": "chromosome",
         "rawType": "object",
         "type": "string"
        },
        {
         "name": "strand",
         "rawType": "object",
         "type": "string"
        },
        {
         "name": "mutation_genome",
         "rawType": "object",
         "type": "string"
        },
        {
         "name": "gene_name",
         "rawType": "object",
         "type": "string"
        },
        {
         "name": "mutation_id",
         "rawType": "int64",
         "type": "integer"
        },
        {
         "name": "mutation_cdna",
         "rawType": "object",
         "type": "string"
        },
        {
         "name": "header",
         "rawType": "object",
         "type": "string"
        }
       ],
       "conversionMethod": "pd.DataFrame",
       "ref": "683f5a2b-e0b0-4d48-8793-c8bca8c7905f",
       "rows": [
        [
         "0",
         "ENST00000396153",
         "c.1468C>T",
         "p.Q490*",
         "COSV105286190",
         "1",
         "-",
         "g.51001067G>A",
         "FAF1",
         "48293736",
         "c.1920C>T",
         "ENST00000396153:c.1920C>T"
        ],
        [
         "1",
         "ENST00000445907",
         "c.162C>A",
         "p.L54=",
         "COSV57765075",
         "7",
         "+",
         "g.136699774C>A",
         "CHRM2",
         "60222372",
         "c.690C>A",
         "ENST00000445907:c.690C>A"
        ],
        [
         "2",
         "ENST00000445907",
         "c.617A>T",
         "p.Y206F",
         "COSV108138517",
         "7",
         "+",
         "g.136700229A>T",
         "CHRM2",
         "60229878",
         "c.1145A>T",
         "ENST00000445907:c.1145A>T"
        ],
        [
         "3",
         "ENST00000445907",
         "c.93A>T",
         "p.G31=",
         "COSV100282253",
         "7",
         "+",
         "g.136699705A>T",
         "CHRM2",
         "60227007",
         "c.621A>T",
         "ENST00000445907:c.621A>T"
        ],
        [
         "4",
         "ENST00000445907",
         "c.956A>C",
         "p.N319T",
         "COSV108138508",
         "7",
         "+",
         "g.136700568A>C",
         "CHRM2",
         "60213402",
         "c.1484A>C",
         "ENST00000445907:c.1484A>C"
        ]
       ],
       "shape": {
        "columns": 11,
        "rows": 5
       }
      },
      "text/html": [
       "<div>\n",
       "<style scoped>\n",
       "    .dataframe tbody tr th:only-of-type {\n",
       "        vertical-align: middle;\n",
       "    }\n",
       "\n",
       "    .dataframe tbody tr th {\n",
       "        vertical-align: top;\n",
       "    }\n",
       "\n",
       "    .dataframe thead th {\n",
       "        text-align: right;\n",
       "    }\n",
       "</style>\n",
       "<table border=\"1\" class=\"dataframe\">\n",
       "  <thead>\n",
       "    <tr style=\"text-align: right;\">\n",
       "      <th></th>\n",
       "      <th>seq_ID</th>\n",
       "      <th>mutation</th>\n",
       "      <th>mutation_aa</th>\n",
       "      <th>GENOMIC_MUTATION_ID</th>\n",
       "      <th>chromosome</th>\n",
       "      <th>strand</th>\n",
       "      <th>mutation_genome</th>\n",
       "      <th>gene_name</th>\n",
       "      <th>mutation_id</th>\n",
       "      <th>mutation_cdna</th>\n",
       "      <th>header</th>\n",
       "    </tr>\n",
       "  </thead>\n",
       "  <tbody>\n",
       "    <tr>\n",
       "      <th>0</th>\n",
       "      <td>ENST00000396153</td>\n",
       "      <td>c.1468C&gt;T</td>\n",
       "      <td>p.Q490*</td>\n",
       "      <td>COSV105286190</td>\n",
       "      <td>1</td>\n",
       "      <td>-</td>\n",
       "      <td>g.51001067G&gt;A</td>\n",
       "      <td>FAF1</td>\n",
       "      <td>48293736</td>\n",
       "      <td>c.1920C&gt;T</td>\n",
       "      <td>ENST00000396153:c.1920C&gt;T</td>\n",
       "    </tr>\n",
       "    <tr>\n",
       "      <th>1</th>\n",
       "      <td>ENST00000445907</td>\n",
       "      <td>c.162C&gt;A</td>\n",
       "      <td>p.L54=</td>\n",
       "      <td>COSV57765075</td>\n",
       "      <td>7</td>\n",
       "      <td>+</td>\n",
       "      <td>g.136699774C&gt;A</td>\n",
       "      <td>CHRM2</td>\n",
       "      <td>60222372</td>\n",
       "      <td>c.690C&gt;A</td>\n",
       "      <td>ENST00000445907:c.690C&gt;A</td>\n",
       "    </tr>\n",
       "    <tr>\n",
       "      <th>2</th>\n",
       "      <td>ENST00000445907</td>\n",
       "      <td>c.617A&gt;T</td>\n",
       "      <td>p.Y206F</td>\n",
       "      <td>COSV108138517</td>\n",
       "      <td>7</td>\n",
       "      <td>+</td>\n",
       "      <td>g.136700229A&gt;T</td>\n",
       "      <td>CHRM2</td>\n",
       "      <td>60229878</td>\n",
       "      <td>c.1145A&gt;T</td>\n",
       "      <td>ENST00000445907:c.1145A&gt;T</td>\n",
       "    </tr>\n",
       "    <tr>\n",
       "      <th>3</th>\n",
       "      <td>ENST00000445907</td>\n",
       "      <td>c.93A&gt;T</td>\n",
       "      <td>p.G31=</td>\n",
       "      <td>COSV100282253</td>\n",
       "      <td>7</td>\n",
       "      <td>+</td>\n",
       "      <td>g.136699705A&gt;T</td>\n",
       "      <td>CHRM2</td>\n",
       "      <td>60227007</td>\n",
       "      <td>c.621A&gt;T</td>\n",
       "      <td>ENST00000445907:c.621A&gt;T</td>\n",
       "    </tr>\n",
       "    <tr>\n",
       "      <th>4</th>\n",
       "      <td>ENST00000445907</td>\n",
       "      <td>c.956A&gt;C</td>\n",
       "      <td>p.N319T</td>\n",
       "      <td>COSV108138508</td>\n",
       "      <td>7</td>\n",
       "      <td>+</td>\n",
       "      <td>g.136700568A&gt;C</td>\n",
       "      <td>CHRM2</td>\n",
       "      <td>60213402</td>\n",
       "      <td>c.1484A&gt;C</td>\n",
       "      <td>ENST00000445907:c.1484A&gt;C</td>\n",
       "    </tr>\n",
       "  </tbody>\n",
       "</table>\n",
       "</div>"
      ],
      "text/plain": [
       "            seq_ID   mutation mutation_aa GENOMIC_MUTATION_ID chromosome  \\\n",
       "0  ENST00000396153  c.1468C>T     p.Q490*       COSV105286190          1   \n",
       "1  ENST00000445907   c.162C>A      p.L54=        COSV57765075          7   \n",
       "2  ENST00000445907   c.617A>T     p.Y206F       COSV108138517          7   \n",
       "3  ENST00000445907    c.93A>T      p.G31=       COSV100282253          7   \n",
       "4  ENST00000445907   c.956A>C     p.N319T       COSV108138508          7   \n",
       "\n",
       "  strand mutation_genome gene_name  mutation_id mutation_cdna  \\\n",
       "0      -   g.51001067G>A      FAF1     48293736     c.1920C>T   \n",
       "1      +  g.136699774C>A     CHRM2     60222372      c.690C>A   \n",
       "2      +  g.136700229A>T     CHRM2     60229878     c.1145A>T   \n",
       "3      +  g.136699705A>T     CHRM2     60227007      c.621A>T   \n",
       "4      +  g.136700568A>C     CHRM2     60213402     c.1484A>C   \n",
       "\n",
       "                      header  \n",
       "0  ENST00000396153:c.1920C>T  \n",
       "1   ENST00000445907:c.690C>A  \n",
       "2  ENST00000445907:c.1145A>T  \n",
       "3   ENST00000445907:c.621A>T  \n",
       "4  ENST00000445907:c.1484A>C  "
      ]
     },
     "execution_count": 5,
     "metadata": {},
     "output_type": "execute_result"
    }
   ],
   "source": [
    "if cosmic_csv and not os.path.isfile(cosmic_csv):\n",
    "    gget.cosmic(\n",
    "        None,\n",
    "        grch_version=37,\n",
    "        cosmic_version=101,\n",
    "        out=cosmic_dir,\n",
    "        mutation_class=\"cancer\",\n",
    "        download_cosmic=True,\n",
    "        keep_genome_info=True,\n",
    "        remove_duplicates=True\n",
    "    )\n",
    "\n",
    "cosmic_df = pd.read_csv(cosmic_csv)\n",
    "\n",
    "if \"mutation_cdna\" not in cosmic_df.columns:\n",
    "    reference_cdna_path = os.path.join(reference_genome_dir, \"Homo_sapiens.GRCh37.cdna.all.fa\")\n",
    "    reference_cds_path = os.path.join(reference_genome_dir, \"Homo_sapiens.GRCh37.cds.all.fa\")\n",
    "    if not os.path.exists(reference_cdna_path):\n",
    "        reference_cdna_dir = os.path.dirname(reference_cdna_path) if os.path.dirname(reference_cdna_path) else \".\"\n",
    "        !gget ref -w cdna -r 93 --out_dir {reference_cdna_dir} -d human_grch37\n",
    "        !gunzip {reference_cdna_path}.gz\n",
    "    if not os.path.exists(reference_cds_path):\n",
    "        reference_cds_dir = os.path.dirname(reference_cds_path) if os.path.dirname(reference_cds_path) else \".\"\n",
    "        !gget ref -w cdna -r 93 --out_dir {reference_cds_dir} -d human_grch37\n",
    "        !gunzip {reference_cds_path}.gz\n",
    "    print(\"Converting CDS to cDNA in COSMIC\")\n",
    "    cosmic_df, _ = vk.utils.convert_mutation_cds_locations_to_cdna(input_csv_path=cosmic_df, output_csv_path=cosmic_csv, cds_fasta_path=reference_cds_path, cdna_fasta_path=reference_cdna_path, verbose=True)\n",
    "\n",
    "if \"header\" not in cosmic_df.columns:\n",
    "    cosmic_df[\"header\"] = cosmic_df[\"seq_ID\"] + \":\" + cosmic_df[\"mutation_cdna\"]\n",
    "    cosmic_df.to_csv(cosmic_csv, index=False)\n",
    "\n",
    "cosmic_df.head()"
   ]
  },
  {
   "cell_type": "markdown",
   "id": "492c02ce",
   "metadata": {},
   "source": [
    "### Make bowtie2 index files"
   ]
  },
  {
   "cell_type": "code",
   "execution_count": 7,
   "id": "17451c12",
   "metadata": {},
   "outputs": [],
   "source": [
    "if not os.path.exists(bowtie_reference_dir) or len(os.listdir(bowtie_reference_dir)) == 0:\n",
    "    os.makedirs(bowtie_reference_dir, exist_ok=True)\n",
    "    !{bowtie2_build} --threads {threads} {reference_genome_fasta} {bowtie_reference_prefix}"
   ]
  },
  {
   "cell_type": "markdown",
   "id": "0e3028e5",
   "metadata": {},
   "source": [
    "### Download fastq file"
   ]
  },
  {
   "cell_type": "code",
   "execution_count": null,
   "id": "2e2bae66",
   "metadata": {},
   "outputs": [],
   "source": [
    "if not os.path.isfile(fastq_file):\n",
    "    fastq_file_link = \"ftp://ftp.sra.ebi.ac.uk/vol1/fastq/SRR861/003/SRR8615233/SRR8615233_1.fastq.gz\"  # [\"ftp.sra.ebi.ac.uk/vol1/fastq/SRR861/003/SRR8615233/SRR8615233_1.fastq.gz\", \"ftp.sra.ebi.ac.uk/vol1/fastq/SRR861/003/SRR8615233/SRR8615233_2.fastq.gz\"]\n",
    "    os.makedirs(fastqs_dir, exist_ok=True)\n",
    "    !wget -c --tries=5 --retry-connrefused -O {fastq_file} {fastq_file_link}"
   ]
  },
  {
   "cell_type": "code",
   "execution_count": 27,
   "id": "0dc6d8e2",
   "metadata": {},
   "outputs": [],
   "source": [
    "if use_head:\n",
    "    fastq_file_head = fastq_file.replace(\".fastq\", \"_head.fastq\")\n",
    "    if not os.path.isfile(fastq_file_head):\n",
    "        !zcat {fastq_file} | head -1000000 > $fastq_file_head\n",
    "    fastq_file = fastq_file_head"
   ]
  },
  {
   "cell_type": "code",
   "execution_count": 28,
   "id": "907dad2a",
   "metadata": {},
   "outputs": [
    {
     "name": "stdout",
     "output_type": "stream",
     "text": [
      "@SRR8615233.1 1/1\n",
      "GAGAAGTTGATGCTGTCACTCATCTTTCCTCCAATCTTTCCCCTATGCCTGGTTGTGGTATTAAGTTACATGCAGACAACAGGGGCCAGAAGATGAACAAT\n",
      "+\n",
      "CCCFFFDFHHHHHJJJJJJJJIJJJJJJJJJJJJJIJJJJJJJJJJJJJJJJHIJJIICFGHJIIJJJJIJJJJGGGHHHHFFFDDBBDDDDDCCDDDDC:\n",
      "@SRR8615233.2 2/1\n",
      "CAGAGCTGCAGGCACAGCCAAGAGGGCTGAAGAAATGGTAGAACGGAGCAGCTGGTGATGTGGAGACCGGCCCCAGGCTCCTGTCTCCCCCCAGGTGTGTG\n",
      "+\n",
      "CCCFFFFFHHHHHIJJJIJJJJJJJJJIJJJJJIJJJJHHIIIJIIJJJJJJJJIGHIJHGHHHHFFFDDDDDDD?@?ABDDDCCDDCCDDDBBB######\n",
      "@SRR8615233.3 3/1\n",
      "TCGGCTTTATAGGCCACCGCAAGCAGCAGGGCTCCAGATGACATCACAGGGAAGATCAAGAGGGTGTGGAGGGGCATCGAAGCCTCTCCAGGAGACAGGAG\n"
     ]
    }
   ],
   "source": [
    "!head {fastq_file}"
   ]
  },
  {
   "cell_type": "markdown",
   "id": "202970af",
   "metadata": {},
   "source": [
    "### Make pyfastx index files"
   ]
  },
  {
   "cell_type": "code",
   "execution_count": 29,
   "id": "a971147c",
   "metadata": {},
   "outputs": [],
   "source": [
    "fastq_indexed = pyfastx.Fastq(fastq_file, build_index=True)\n",
    "vcrs_fasta_indexed = pyfastx.Fasta(vcrs_fasta, build_index=True)"
   ]
  },
  {
   "cell_type": "markdown",
   "id": "e4fc8333",
   "metadata": {},
   "source": [
    "### Make kb reference files if qc_against_gene_matrix=True"
   ]
  },
  {
   "cell_type": "code",
   "execution_count": 31,
   "id": "5fc75df4",
   "metadata": {},
   "outputs": [],
   "source": [
    "kb_count_reference_genome_adata = os.path.join(kb_count_reference_genome_dir, \"counts_unfiltered\", \"adata.h5ad\")\n",
    "if qc_against_gene_matrix and not os.path.exists(kb_count_reference_genome_adata):  # check if kb count was run\n",
    "    os.makedirs(kb_count_reference_genome_dir, exist_ok=True)\n",
    "    if not os.path.exists(reference_genome_index) or not os.path.exists(reference_genome_t2g):  # check if kb ref was run\n",
    "        if not os.path.exists(reference_genome_fasta) or not os.path.exists(reference_genome_gtf):\n",
    "            reference_genome_out_dir = os.path.dirname(reference_genome_fasta) if reference_genome_fasta else \".\"\n",
    "            # using grch37, ensembl 93 to agree with COSMIC\n",
    "            !gget ref -w dna,gtf -r 93 --out_dir {reference_genome_out_dir} -d human_grch37 && gunzip {reference_genome_fasta}.gz && gunzip {reference_genome_gtf}.gz\n",
    "        reference_genome_f1 = os.path.join(kb_count_reference_genome_dir, \"f1.fa\")\n",
    "        !kb ref -t {threads} -i {reference_genome_index} -g {reference_genome_t2g} -f1 {reference_genome_f1} {reference_genome_fasta} {reference_genome_gtf}"
   ]
  },
  {
   "cell_type": "markdown",
   "id": "70df8866",
   "metadata": {},
   "source": [
    "### Perform variant screening with varseek count"
   ]
  },
  {
   "cell_type": "code",
   "execution_count": null,
   "id": "ca71a00e",
   "metadata": {},
   "outputs": [
    {
     "name": "stderr",
     "output_type": "stream",
     "text": [
      "16:24:37 - INFO - Setting length_required to 51 if fastqpp is run\n",
      "16:24:37 - INFO - Skipping vk fastqpp because disable_fastqpp=True\n",
      "16:24:37 - INFO - Running kb count with command: kb count -t 2 -k 51 -i /Users/joeyrich/Desktop/local/RLSRWP_2025/data/vk_ref_out/vcrs_index.idx -g /Users/joeyrich/Desktop/local/RLSRWP_2025/data/vk_ref_out/vcrs_t2g_filtered.txt -x BULK --h5ad -o /Users/joeyrich/Desktop/local/RLSRWP_2025/data/varseek_count_out_alignment_visualization/kb_count_out_vcrs --overwrite --strand unstranded --parity single --num /Users/joeyrich/Desktop/local/RLSRWP_2025/data/ccle_data_base/RNASeq_MELHO_SKIN/head.fastq.gz\n",
      "[2025-03-17 16:24:42,788]    INFO [count] Using index /Users/joeyrich/Desktop/local/RLSRWP_2025/data/vk_ref_out/vcrs_index.idx to generate BUS file to /Users/joeyrich/Desktop/local/RLSRWP_2025/data/varseek_count_out_alignment_visualization/kb_count_out_vcrs from\n",
      "[2025-03-17 16:24:42,789]    INFO [count]         /Users/joeyrich/Desktop/local/RLSRWP_2025/data/ccle_data_base/RNASeq_MELHO_SKIN/head.fastq.gz\n",
      "[2025-03-17 16:25:12,546]    INFO [count] Sorting BUS file /Users/joeyrich/Desktop/local/RLSRWP_2025/data/varseek_count_out_alignment_visualization/kb_count_out_vcrs/output.bus to /Users/joeyrich/Desktop/local/RLSRWP_2025/data/varseek_count_out_alignment_visualization/kb_count_out_vcrs/tmp/output.s.bus\n",
      "[2025-03-17 16:25:14,083]    INFO [count] Inspecting BUS file /Users/joeyrich/Desktop/local/RLSRWP_2025/data/varseek_count_out_alignment_visualization/kb_count_out_vcrs/tmp/output.s.bus\n",
      "[2025-03-17 16:25:15,196]    INFO [count] Generating count matrix /Users/joeyrich/Desktop/local/RLSRWP_2025/data/varseek_count_out_alignment_visualization/kb_count_out_vcrs/counts_unfiltered/cells_x_genes from BUS file /Users/joeyrich/Desktop/local/RLSRWP_2025/data/varseek_count_out_alignment_visualization/kb_count_out_vcrs/tmp/output.s.bus\n",
      "[2025-03-17 16:25:39,167]    INFO [count] Writing gene names to file /Users/joeyrich/Desktop/local/RLSRWP_2025/data/varseek_count_out_alignment_visualization/kb_count_out_vcrs/counts_unfiltered/cells_x_genes.genes.names.txt\n",
      "[2025-03-17 16:25:42,841] WARNING [count] 5329695 gene IDs do not have corresponding valid gene names. These genes will use their gene IDs instead.\n",
      "[2025-03-17 16:25:43,412]    INFO [count] Reading matrix /Users/joeyrich/Desktop/local/RLSRWP_2025/data/varseek_count_out_alignment_visualization/kb_count_out_vcrs/counts_unfiltered/cells_x_genes.mtx\n",
      "[2025-03-17 16:26:12,354]    INFO [count] Writing matrix to h5ad /Users/joeyrich/Desktop/local/RLSRWP_2025/data/varseek_count_out_alignment_visualization/kb_count_out_vcrs/counts_unfiltered/adata.h5ad\n",
      "16:26:14 - INFO - Skipping kb count for reference genome because the reference genome adata object was not needed and/or the file '/Users/joeyrich/Desktop/local/RLSRWP_2025/data/varseek_count_out_alignment_visualization/kb_count_out_reference_genome/counts_unfiltered/adata.h5ad' already exists. Note that even setting overwrite=True will still not overwrite this particular directory\n",
      "16:26:14 - INFO - Skipping vk clean because disable_clean=True\n",
      "16:26:14 - INFO - Skipping vk summarize because disable_summarize=True\n",
      "16:26:14 - INFO - Total runtime for vk count: 1m, 36.95s\n"
     ]
    }
   ],
   "source": [
    "if not os.path.exists(adata_path):\n",
    "    vk_count_output_dict = vk.count(\n",
    "        fastq_file,\n",
    "        index=vcrs_index,\n",
    "        t2g=vcrs_t2g,\n",
    "        technology=technology,\n",
    "        out=vk_count_out_dir,\n",
    "        k=k,\n",
    "        strand=strand,\n",
    "        parity=parity,\n",
    "        threads=threads,\n",
    "        disable_fastqpp=True,\n",
    "        disable_clean=True,\n",
    "        disable_summarize=True\n",
    "        # quality_control_fastqs=True, cut_front=True, cut_tail=True  # equivalent to the fastp step above\n",
    "        # qc_against_gene_matrix=qc_against_gene_matrix, reference_genome_index=reference_genome_index, reference_genome_t2g=reference_genome_t2g,\n",
    "    )"
   ]
  },
  {
   "cell_type": "markdown",
   "id": "6038ec84",
   "metadata": {},
   "source": [
    "### Load in adata object"
   ]
  },
  {
   "cell_type": "code",
   "execution_count": 31,
   "id": "0dc1900e",
   "metadata": {},
   "outputs": [
    {
     "data": {
      "text/plain": [
       "AnnData object with n_obs × n_vars = 1 × 5329695"
      ]
     },
     "execution_count": 31,
     "metadata": {},
     "output_type": "execute_result"
    }
   ],
   "source": [
    "adata = anndata.read_h5ad(adata_path)\n",
    "adata"
   ]
  },
  {
   "cell_type": "markdown",
   "id": "9fef39c0",
   "metadata": {},
   "source": [
    "### View top 10 variants by total reads aligned"
   ]
  },
  {
   "cell_type": "code",
   "execution_count": 61,
   "id": "6bb6edfd",
   "metadata": {},
   "outputs": [
    {
     "data": {
      "text/plain": [
       "{'ENST00000361624:c.795dup': 627,\n",
       " 'ENST00000361390:c.910T>C': 536,\n",
       " 'ENST00000361453:c.142dup': 187,\n",
       " 'ENST00000361899:c.41T>C': 69,\n",
       " 'ENST00000361899:c.268C>T': 15,\n",
       " 'ENST00000361899:c.328G>A': 12,\n",
       " 'ENST00000361899:c.326G>A': 11,\n",
       " 'ENST00000361624:c.922G>A': 10,\n",
       " 'ENST00000361624:c.226G>A': 10,\n",
       " 'ENST00000361899:c.296C>T': 9}"
      ]
     },
     "execution_count": 61,
     "metadata": {},
     "output_type": "execute_result"
    }
   ],
   "source": [
    "top10 = list(adata.var.index[np.argsort(np.array(adata.X.todense())[0])][::-1][:10])\n",
    "# Create a dictionary mapping gene names to counts\n",
    "top10_counts = np.array(adata.X.todense())[0][np.argsort(np.array(adata.X.todense())[0])][::-1][:10].astype(int)\n",
    "top10_dict = dict(zip(top10, top10_counts))\n",
    "top10_dict"
   ]
  },
  {
   "cell_type": "markdown",
   "id": "baee92d7",
   "metadata": {},
   "source": [
    "### Map the reads to the VCRS to which they aligned"
   ]
  },
  {
   "cell_type": "code",
   "execution_count": 62,
   "id": "2cf1c7a2",
   "metadata": {},
   "outputs": [
    {
     "name": "stdout",
     "output_type": "stream",
     "text": [
      "loading in transcripts\n",
      "loading in barcodes\n"
     ]
    },
    {
     "name": "stderr",
     "output_type": "stream",
     "text": [
      "Processing FASTQ headers: 250000it [00:00, 2374869.20it/s]"
     ]
    },
    {
     "name": "stdout",
     "output_type": "stream",
     "text": [
      "loading in ec matrix\n",
      "loading in bus df\n",
      "Merging fastq header df and ec_df into bus df\n"
     ]
    },
    {
     "name": "stderr",
     "output_type": "stream",
     "text": [
      "\n"
     ]
    },
    {
     "name": "stdout",
     "output_type": "stream",
     "text": [
      "Determining what counts in count matrix\n"
     ]
    },
    {
     "name": "stderr",
     "output_type": "stream",
     "text": [
      "100%|██████████| 1727/1727 [00:00<00:00, 1367225.94it/s]\n"
     ]
    },
    {
     "name": "stdout",
     "output_type": "stream",
     "text": [
      "Saving bus df as parquet\n",
      "Number of reads in filtered bus file: 1486\n"
     ]
    },
    {
     "data": {
      "application/vnd.microsoft.datawrangler.viewer.v0+json": {
       "columns": [
        {
         "name": "index",
         "rawType": "int64",
         "type": "integer"
        },
        {
         "name": "barcode",
         "rawType": "object",
         "type": "string"
        },
        {
         "name": "UMI",
         "rawType": "object",
         "type": "string"
        },
        {
         "name": "EC",
         "rawType": "int64",
         "type": "integer"
        },
        {
         "name": "read_index",
         "rawType": "object",
         "type": "string"
        },
        {
         "name": "fastq_header",
         "rawType": "object",
         "type": "string"
        },
        {
         "name": "transcript_names",
         "rawType": "object",
         "type": "string"
        },
        {
         "name": "file_index",
         "rawType": "category",
         "type": "unknown"
        },
        {
         "name": "gene_names",
         "rawType": "object",
         "type": "string"
        },
        {
         "name": "counted_in_count_matrix",
         "rawType": "bool",
         "type": "boolean"
        },
        {
         "name": "gene_names_str",
         "rawType": "object",
         "type": "string"
        }
       ],
       "conversionMethod": "pd.DataFrame",
       "ref": "f588c993-5bf2-4828-8ec5-f6e13343d700",
       "rows": [
        [
         "7",
         "AAAAAAAAAAAAAAAA",
         "T",
         "5",
         "93111",
         "SRR8615233.93112",
         "['ENST00000361624:c.226G>A']",
         "0",
         "['ENST00000361624:c.226G>A']",
         "True",
         "ENST00000361624:c.226G>A"
        ],
        [
         "8",
         "AAAAAAAAAAAAAAAA",
         "T",
         "5",
         "93194",
         "SRR8615233.93195",
         "['ENST00000361624:c.226G>A']",
         "0",
         "['ENST00000361624:c.226G>A']",
         "True",
         "ENST00000361624:c.226G>A"
        ],
        [
         "9",
         "AAAAAAAAAAAAAAAA",
         "T",
         "5",
         "94027",
         "SRR8615233.94028",
         "['ENST00000361624:c.226G>A']",
         "0",
         "['ENST00000361624:c.226G>A']",
         "True",
         "ENST00000361624:c.226G>A"
        ],
        [
         "10",
         "AAAAAAAAAAAAAAAA",
         "T",
         "6",
         "94594",
         "SRR8615233.94595",
         "['ENST00000361624:c.795dup']",
         "0",
         "['ENST00000361624:c.795dup']",
         "True",
         "ENST00000361624:c.795dup"
        ],
        [
         "11",
         "AAAAAAAAAAAAAAAA",
         "T",
         "6",
         "94595",
         "SRR8615233.94596",
         "['ENST00000361624:c.795dup']",
         "0",
         "['ENST00000361624:c.795dup']",
         "True",
         "ENST00000361624:c.795dup"
        ]
       ],
       "shape": {
        "columns": 10,
        "rows": 5
       }
      },
      "text/html": [
       "<div>\n",
       "<style scoped>\n",
       "    .dataframe tbody tr th:only-of-type {\n",
       "        vertical-align: middle;\n",
       "    }\n",
       "\n",
       "    .dataframe tbody tr th {\n",
       "        vertical-align: top;\n",
       "    }\n",
       "\n",
       "    .dataframe thead th {\n",
       "        text-align: right;\n",
       "    }\n",
       "</style>\n",
       "<table border=\"1\" class=\"dataframe\">\n",
       "  <thead>\n",
       "    <tr style=\"text-align: right;\">\n",
       "      <th></th>\n",
       "      <th>barcode</th>\n",
       "      <th>UMI</th>\n",
       "      <th>EC</th>\n",
       "      <th>read_index</th>\n",
       "      <th>fastq_header</th>\n",
       "      <th>transcript_names</th>\n",
       "      <th>file_index</th>\n",
       "      <th>gene_names</th>\n",
       "      <th>counted_in_count_matrix</th>\n",
       "      <th>gene_names_str</th>\n",
       "    </tr>\n",
       "  </thead>\n",
       "  <tbody>\n",
       "    <tr>\n",
       "      <th>7</th>\n",
       "      <td>AAAAAAAAAAAAAAAA</td>\n",
       "      <td>T</td>\n",
       "      <td>5</td>\n",
       "      <td>93111</td>\n",
       "      <td>SRR8615233.93112</td>\n",
       "      <td>[ENST00000361624:c.226G&gt;A]</td>\n",
       "      <td>0</td>\n",
       "      <td>[ENST00000361624:c.226G&gt;A]</td>\n",
       "      <td>True</td>\n",
       "      <td>ENST00000361624:c.226G&gt;A</td>\n",
       "    </tr>\n",
       "    <tr>\n",
       "      <th>8</th>\n",
       "      <td>AAAAAAAAAAAAAAAA</td>\n",
       "      <td>T</td>\n",
       "      <td>5</td>\n",
       "      <td>93194</td>\n",
       "      <td>SRR8615233.93195</td>\n",
       "      <td>[ENST00000361624:c.226G&gt;A]</td>\n",
       "      <td>0</td>\n",
       "      <td>[ENST00000361624:c.226G&gt;A]</td>\n",
       "      <td>True</td>\n",
       "      <td>ENST00000361624:c.226G&gt;A</td>\n",
       "    </tr>\n",
       "    <tr>\n",
       "      <th>9</th>\n",
       "      <td>AAAAAAAAAAAAAAAA</td>\n",
       "      <td>T</td>\n",
       "      <td>5</td>\n",
       "      <td>94027</td>\n",
       "      <td>SRR8615233.94028</td>\n",
       "      <td>[ENST00000361624:c.226G&gt;A]</td>\n",
       "      <td>0</td>\n",
       "      <td>[ENST00000361624:c.226G&gt;A]</td>\n",
       "      <td>True</td>\n",
       "      <td>ENST00000361624:c.226G&gt;A</td>\n",
       "    </tr>\n",
       "    <tr>\n",
       "      <th>10</th>\n",
       "      <td>AAAAAAAAAAAAAAAA</td>\n",
       "      <td>T</td>\n",
       "      <td>6</td>\n",
       "      <td>94594</td>\n",
       "      <td>SRR8615233.94595</td>\n",
       "      <td>[ENST00000361624:c.795dup]</td>\n",
       "      <td>0</td>\n",
       "      <td>[ENST00000361624:c.795dup]</td>\n",
       "      <td>True</td>\n",
       "      <td>ENST00000361624:c.795dup</td>\n",
       "    </tr>\n",
       "    <tr>\n",
       "      <th>11</th>\n",
       "      <td>AAAAAAAAAAAAAAAA</td>\n",
       "      <td>T</td>\n",
       "      <td>6</td>\n",
       "      <td>94595</td>\n",
       "      <td>SRR8615233.94596</td>\n",
       "      <td>[ENST00000361624:c.795dup]</td>\n",
       "      <td>0</td>\n",
       "      <td>[ENST00000361624:c.795dup]</td>\n",
       "      <td>True</td>\n",
       "      <td>ENST00000361624:c.795dup</td>\n",
       "    </tr>\n",
       "  </tbody>\n",
       "</table>\n",
       "</div>"
      ],
      "text/plain": [
       "             barcode UMI  EC read_index      fastq_header  \\\n",
       "7   AAAAAAAAAAAAAAAA   T   5      93111  SRR8615233.93112   \n",
       "8   AAAAAAAAAAAAAAAA   T   5      93194  SRR8615233.93195   \n",
       "9   AAAAAAAAAAAAAAAA   T   5      94027  SRR8615233.94028   \n",
       "10  AAAAAAAAAAAAAAAA   T   6      94594  SRR8615233.94595   \n",
       "11  AAAAAAAAAAAAAAAA   T   6      94595  SRR8615233.94596   \n",
       "\n",
       "              transcript_names file_index                  gene_names  \\\n",
       "7   [ENST00000361624:c.226G>A]          0  [ENST00000361624:c.226G>A]   \n",
       "8   [ENST00000361624:c.226G>A]          0  [ENST00000361624:c.226G>A]   \n",
       "9   [ENST00000361624:c.226G>A]          0  [ENST00000361624:c.226G>A]   \n",
       "10  [ENST00000361624:c.795dup]          0  [ENST00000361624:c.795dup]   \n",
       "11  [ENST00000361624:c.795dup]          0  [ENST00000361624:c.795dup]   \n",
       "\n",
       "    counted_in_count_matrix            gene_names_str  \n",
       "7                      True  ENST00000361624:c.226G>A  \n",
       "8                      True  ENST00000361624:c.226G>A  \n",
       "9                      True  ENST00000361624:c.226G>A  \n",
       "10                     True  ENST00000361624:c.795dup  \n",
       "11                     True  ENST00000361624:c.795dup  "
      ]
     },
     "execution_count": 62,
     "metadata": {},
     "output_type": "execute_result"
    }
   ],
   "source": [
    "bus_df = make_bus_df(kb_count_out_dir, fastq_file, technology=technology, parity=parity, bustools=bustools)\n",
    "filtered_bus_df = bus_df[bus_df[\"gene_names\"].apply(lambda x: len(x) == 1)]  # remove multi-mapping reads\n",
    "filtered_bus_df[\"gene_names_str\"] = filtered_bus_df[\"gene_names\"].apply(lambda x: x[0])  # cast to string\n",
    "filtered_bus_df = filtered_bus_df[(filtered_bus_df[\"gene_names_str\"].isin(top10)) & (filtered_bus_df[\"counted_in_count_matrix\"])]\n",
    "print(f\"Number of reads in filtered bus file: {len(filtered_bus_df)}\")\n",
    "filtered_bus_df.head()"
   ]
  },
  {
   "cell_type": "code",
   "execution_count": 63,
   "id": "32c55d55",
   "metadata": {},
   "outputs": [
    {
     "data": {
      "text/plain": [
       "{'ENST00000361624:c.795dup': 'vcrs_0',\n",
       " 'ENST00000361390:c.910T>C': 'vcrs_1',\n",
       " 'ENST00000361453:c.142dup': 'vcrs_2',\n",
       " 'ENST00000361899:c.41T>C': 'vcrs_3',\n",
       " 'ENST00000361899:c.268C>T': 'vcrs_4',\n",
       " 'ENST00000361899:c.328G>A': 'vcrs_5',\n",
       " 'ENST00000361899:c.326G>A': 'vcrs_6',\n",
       " 'ENST00000361624:c.922G>A': 'vcrs_7',\n",
       " 'ENST00000361624:c.226G>A': 'vcrs_8',\n",
       " 'ENST00000361899:c.296C>T': 'vcrs_9'}"
      ]
     },
     "execution_count": 63,
     "metadata": {},
     "output_type": "execute_result"
    }
   ],
   "source": [
    "# make IDs since the gene names in HGVSC format do not make for good folder names or bowtie2 header names\n",
    "vcrs_header_to_id = {vcrs: f\"vcrs_{i}\" for i, vcrs in enumerate(list(top10))}\n",
    "filtered_bus_df[\"vcrs_ids\"] = filtered_bus_df[\"gene_names_str\"].map(vcrs_header_to_id)\n",
    "\n",
    "vcrs_header_to_id_file = os.path.join(vk_count_out_dir, \"vcrs_header_to_id.txt\")\n",
    "with open(vcrs_header_to_id_file, \"w\") as f:\n",
    "    for key, value in vcrs_header_to_id.items():\n",
    "        f.write(f\"{key}\\t{value}\\n\")  # Tab-separated\n",
    "\n",
    "id_to_vcrs_header = {v: k for k, v in vcrs_header_to_id.items()}\n",
    "vcrs_header_to_id"
   ]
  },
  {
   "cell_type": "code",
   "execution_count": 66,
   "id": "b504ecc8",
   "metadata": {},
   "outputs": [],
   "source": [
    "for vcrs_id in filtered_bus_df[\"vcrs_ids\"].unique():  # Get unique gene names\n",
    "    temp_df = filtered_bus_df[filtered_bus_df[\"vcrs_ids\"] == vcrs_id]  # Filter\n",
    "    fastq_headers = temp_df[\"fastq_header\"].tolist()  # Get values as a list\n",
    "\n",
    "    gene_dir = os.path.join(aligned_reads_parent_dir, vcrs_id)\n",
    "    os.makedirs(gene_dir, exist_ok=True)\n",
    "    \n",
    "    aligned_reads_file = os.path.join(gene_dir, \"1.fastq\")\n",
    "    with open(aligned_reads_file, \"w\") as f:\n",
    "        for header in fastq_headers:\n",
    "            sequence = fastq_indexed[header].seq\n",
    "            qualities = fastq_indexed[header].qual\n",
    "            f.write(f\"@{header}\\n{sequence}\\n+\\n{qualities}\\n\")"
   ]
  },
  {
   "cell_type": "markdown",
   "id": "47f1ecf2",
   "metadata": {},
   "source": [
    "### View COSMIC metadata"
   ]
  },
  {
   "cell_type": "code",
   "execution_count": 71,
   "id": "107a9752",
   "metadata": {},
   "outputs": [
    {
     "name": "stderr",
     "output_type": "stream",
     "text": [
      "/var/folders/wr/wdr46lxn7fbc_kty6kwbfhxc0000gn/T/ipykernel_65294/200950275.py:2: SettingWithCopyWarning: \n",
      "A value is trying to be set on a copy of a slice from a DataFrame.\n",
      "Try using .loc[row_indexer,col_indexer] = value instead\n",
      "\n",
      "See the caveats in the documentation: https://pandas.pydata.org/pandas-docs/stable/user_guide/indexing.html#returning-a-view-versus-a-copy\n",
      "  cosmic_df_subset[\"id\"] = cosmic_df_subset[\"header\"].map(vcrs_header_to_id)\n",
      "/var/folders/wr/wdr46lxn7fbc_kty6kwbfhxc0000gn/T/ipykernel_65294/200950275.py:3: SettingWithCopyWarning: \n",
      "A value is trying to be set on a copy of a slice from a DataFrame.\n",
      "Try using .loc[row_indexer,col_indexer] = value instead\n",
      "\n",
      "See the caveats in the documentation: https://pandas.pydata.org/pandas-docs/stable/user_guide/indexing.html#returning-a-view-versus-a-copy\n",
      "  cosmic_df_subset[\"counts\"] = cosmic_df_subset[\"header\"].map(lambda x: top10_dict[x])\n"
     ]
    },
    {
     "data": {
      "application/vnd.microsoft.datawrangler.viewer.v0+json": {
       "columns": [
        {
         "name": "index",
         "rawType": "int64",
         "type": "integer"
        },
        {
         "name": "seq_ID",
         "rawType": "object",
         "type": "string"
        },
        {
         "name": "mutation",
         "rawType": "object",
         "type": "string"
        },
        {
         "name": "mutation_aa",
         "rawType": "object",
         "type": "string"
        },
        {
         "name": "GENOMIC_MUTATION_ID",
         "rawType": "object",
         "type": "string"
        },
        {
         "name": "chromosome",
         "rawType": "object",
         "type": "string"
        },
        {
         "name": "strand",
         "rawType": "object",
         "type": "string"
        },
        {
         "name": "mutation_genome",
         "rawType": "object",
         "type": "string"
        },
        {
         "name": "gene_name",
         "rawType": "object",
         "type": "string"
        },
        {
         "name": "mutation_id",
         "rawType": "int64",
         "type": "integer"
        },
        {
         "name": "mutation_cdna",
         "rawType": "object",
         "type": "string"
        },
        {
         "name": "header",
         "rawType": "object",
         "type": "string"
        },
        {
         "name": "id",
         "rawType": "object",
         "type": "string"
        },
        {
         "name": "counts",
         "rawType": "int64",
         "type": "integer"
        }
       ],
       "conversionMethod": "pd.DataFrame",
       "ref": "32af70aa-b678-41f1-927e-d43597c7c946",
       "rows": [
        [
         "5349419",
         "ENST00000361624",
         "c.795dup",
         "p.E266Rfs*?",
         "COSV104419744",
         "MT",
         null,
         "g.6698_6699dup",
         "MT-CO1",
         "36495429",
         "c.795dup",
         "ENST00000361624:c.795dup",
         "vcrs_0",
         "627"
        ],
        [
         "1078993",
         "ENST00000361390",
         "c.910T>C",
         "p.Y304H",
         "COSV62293824",
         "MT",
         "+",
         "g.4216T>C",
         "MT-ND1",
         "35322641",
         "c.910T>C",
         "ENST00000361390:c.910T>C",
         "vcrs_1",
         "536"
        ],
        [
         "5268715",
         "ENST00000361453",
         "c.142dup",
         "p.M48Nfs*?",
         "COSV107450120",
         "MT",
         null,
         "g.4611_4612dup",
         "MT-ND2",
         "35576559",
         "c.142dup",
         "ENST00000361453:c.142dup",
         "vcrs_2",
         "187"
        ],
        [
         "835480",
         "ENST00000361899",
         "c.41T>C",
         "p.I14T",
         "COSV106107919",
         "MT",
         "+",
         "g.8567T>C",
         "MT-ATP6",
         "38183749",
         "c.41T>C",
         "ENST00000361899:c.41T>C",
         "vcrs_3",
         "69"
        ],
        [
         "835485",
         "ENST00000361899",
         "c.268C>T",
         "p.H90Y",
         "COSV62293579",
         "MT",
         "+",
         "g.8794C>T",
         "MT-ATP6",
         "38184577",
         "c.268C>T",
         "ENST00000361899:c.268C>T",
         "vcrs_4",
         "15"
        ],
        [
         "835511",
         "ENST00000361899",
         "c.328G>A",
         "p.A110T",
         "COSV106107895",
         "MT",
         "+",
         "g.8854G>A",
         "MT-ATP6",
         "38184385",
         "c.328G>A",
         "ENST00000361899:c.328G>A",
         "vcrs_5",
         "12"
        ],
        [
         "835482",
         "ENST00000361899",
         "c.326G>A",
         "p.W109*",
         "COSV106107946",
         "MT",
         "+",
         "g.8852G>A",
         "MT-ATP6",
         "38184768",
         "c.326G>A",
         "ENST00000361899:c.326G>A",
         "vcrs_6",
         "11"
        ],
        [
         "3261302",
         "ENST00000361624",
         "c.922G>A",
         "p.A308T",
         "COSV106107908",
         "MT",
         "+",
         "g.6825G>A",
         "MT-CO1",
         "36495787",
         "c.922G>A",
         "ENST00000361624:c.922G>A",
         "vcrs_7",
         "10"
        ],
        [
         "3261422",
         "ENST00000361624",
         "c.226G>A",
         "p.G76*",
         "COSV106107894",
         "MT",
         "+",
         "g.6129G>A",
         "MT-CO1",
         "36495476",
         "c.226G>A",
         "ENST00000361624:c.226G>A",
         "vcrs_8",
         "10"
        ],
        [
         "835504",
         "ENST00000361899",
         "c.296C>T",
         "p.S99F",
         "COSV62294449",
         "MT",
         "+",
         "g.8822C>T",
         "MT-ATP6",
         "38184051",
         "c.296C>T",
         "ENST00000361899:c.296C>T",
         "vcrs_9",
         "9"
        ]
       ],
       "shape": {
        "columns": 13,
        "rows": 10
       }
      },
      "text/html": [
       "<div>\n",
       "<style scoped>\n",
       "    .dataframe tbody tr th:only-of-type {\n",
       "        vertical-align: middle;\n",
       "    }\n",
       "\n",
       "    .dataframe tbody tr th {\n",
       "        vertical-align: top;\n",
       "    }\n",
       "\n",
       "    .dataframe thead th {\n",
       "        text-align: right;\n",
       "    }\n",
       "</style>\n",
       "<table border=\"1\" class=\"dataframe\">\n",
       "  <thead>\n",
       "    <tr style=\"text-align: right;\">\n",
       "      <th></th>\n",
       "      <th>seq_ID</th>\n",
       "      <th>mutation</th>\n",
       "      <th>mutation_aa</th>\n",
       "      <th>GENOMIC_MUTATION_ID</th>\n",
       "      <th>chromosome</th>\n",
       "      <th>strand</th>\n",
       "      <th>mutation_genome</th>\n",
       "      <th>gene_name</th>\n",
       "      <th>mutation_id</th>\n",
       "      <th>mutation_cdna</th>\n",
       "      <th>header</th>\n",
       "      <th>id</th>\n",
       "      <th>counts</th>\n",
       "    </tr>\n",
       "  </thead>\n",
       "  <tbody>\n",
       "    <tr>\n",
       "      <th>5349419</th>\n",
       "      <td>ENST00000361624</td>\n",
       "      <td>c.795dup</td>\n",
       "      <td>p.E266Rfs*?</td>\n",
       "      <td>COSV104419744</td>\n",
       "      <td>MT</td>\n",
       "      <td>NaN</td>\n",
       "      <td>g.6698_6699dup</td>\n",
       "      <td>MT-CO1</td>\n",
       "      <td>36495429</td>\n",
       "      <td>c.795dup</td>\n",
       "      <td>ENST00000361624:c.795dup</td>\n",
       "      <td>vcrs_0</td>\n",
       "      <td>627</td>\n",
       "    </tr>\n",
       "    <tr>\n",
       "      <th>1078993</th>\n",
       "      <td>ENST00000361390</td>\n",
       "      <td>c.910T&gt;C</td>\n",
       "      <td>p.Y304H</td>\n",
       "      <td>COSV62293824</td>\n",
       "      <td>MT</td>\n",
       "      <td>+</td>\n",
       "      <td>g.4216T&gt;C</td>\n",
       "      <td>MT-ND1</td>\n",
       "      <td>35322641</td>\n",
       "      <td>c.910T&gt;C</td>\n",
       "      <td>ENST00000361390:c.910T&gt;C</td>\n",
       "      <td>vcrs_1</td>\n",
       "      <td>536</td>\n",
       "    </tr>\n",
       "    <tr>\n",
       "      <th>5268715</th>\n",
       "      <td>ENST00000361453</td>\n",
       "      <td>c.142dup</td>\n",
       "      <td>p.M48Nfs*?</td>\n",
       "      <td>COSV107450120</td>\n",
       "      <td>MT</td>\n",
       "      <td>NaN</td>\n",
       "      <td>g.4611_4612dup</td>\n",
       "      <td>MT-ND2</td>\n",
       "      <td>35576559</td>\n",
       "      <td>c.142dup</td>\n",
       "      <td>ENST00000361453:c.142dup</td>\n",
       "      <td>vcrs_2</td>\n",
       "      <td>187</td>\n",
       "    </tr>\n",
       "    <tr>\n",
       "      <th>835480</th>\n",
       "      <td>ENST00000361899</td>\n",
       "      <td>c.41T&gt;C</td>\n",
       "      <td>p.I14T</td>\n",
       "      <td>COSV106107919</td>\n",
       "      <td>MT</td>\n",
       "      <td>+</td>\n",
       "      <td>g.8567T&gt;C</td>\n",
       "      <td>MT-ATP6</td>\n",
       "      <td>38183749</td>\n",
       "      <td>c.41T&gt;C</td>\n",
       "      <td>ENST00000361899:c.41T&gt;C</td>\n",
       "      <td>vcrs_3</td>\n",
       "      <td>69</td>\n",
       "    </tr>\n",
       "    <tr>\n",
       "      <th>835485</th>\n",
       "      <td>ENST00000361899</td>\n",
       "      <td>c.268C&gt;T</td>\n",
       "      <td>p.H90Y</td>\n",
       "      <td>COSV62293579</td>\n",
       "      <td>MT</td>\n",
       "      <td>+</td>\n",
       "      <td>g.8794C&gt;T</td>\n",
       "      <td>MT-ATP6</td>\n",
       "      <td>38184577</td>\n",
       "      <td>c.268C&gt;T</td>\n",
       "      <td>ENST00000361899:c.268C&gt;T</td>\n",
       "      <td>vcrs_4</td>\n",
       "      <td>15</td>\n",
       "    </tr>\n",
       "    <tr>\n",
       "      <th>835511</th>\n",
       "      <td>ENST00000361899</td>\n",
       "      <td>c.328G&gt;A</td>\n",
       "      <td>p.A110T</td>\n",
       "      <td>COSV106107895</td>\n",
       "      <td>MT</td>\n",
       "      <td>+</td>\n",
       "      <td>g.8854G&gt;A</td>\n",
       "      <td>MT-ATP6</td>\n",
       "      <td>38184385</td>\n",
       "      <td>c.328G&gt;A</td>\n",
       "      <td>ENST00000361899:c.328G&gt;A</td>\n",
       "      <td>vcrs_5</td>\n",
       "      <td>12</td>\n",
       "    </tr>\n",
       "    <tr>\n",
       "      <th>835482</th>\n",
       "      <td>ENST00000361899</td>\n",
       "      <td>c.326G&gt;A</td>\n",
       "      <td>p.W109*</td>\n",
       "      <td>COSV106107946</td>\n",
       "      <td>MT</td>\n",
       "      <td>+</td>\n",
       "      <td>g.8852G&gt;A</td>\n",
       "      <td>MT-ATP6</td>\n",
       "      <td>38184768</td>\n",
       "      <td>c.326G&gt;A</td>\n",
       "      <td>ENST00000361899:c.326G&gt;A</td>\n",
       "      <td>vcrs_6</td>\n",
       "      <td>11</td>\n",
       "    </tr>\n",
       "    <tr>\n",
       "      <th>3261302</th>\n",
       "      <td>ENST00000361624</td>\n",
       "      <td>c.922G&gt;A</td>\n",
       "      <td>p.A308T</td>\n",
       "      <td>COSV106107908</td>\n",
       "      <td>MT</td>\n",
       "      <td>+</td>\n",
       "      <td>g.6825G&gt;A</td>\n",
       "      <td>MT-CO1</td>\n",
       "      <td>36495787</td>\n",
       "      <td>c.922G&gt;A</td>\n",
       "      <td>ENST00000361624:c.922G&gt;A</td>\n",
       "      <td>vcrs_7</td>\n",
       "      <td>10</td>\n",
       "    </tr>\n",
       "    <tr>\n",
       "      <th>3261422</th>\n",
       "      <td>ENST00000361624</td>\n",
       "      <td>c.226G&gt;A</td>\n",
       "      <td>p.G76*</td>\n",
       "      <td>COSV106107894</td>\n",
       "      <td>MT</td>\n",
       "      <td>+</td>\n",
       "      <td>g.6129G&gt;A</td>\n",
       "      <td>MT-CO1</td>\n",
       "      <td>36495476</td>\n",
       "      <td>c.226G&gt;A</td>\n",
       "      <td>ENST00000361624:c.226G&gt;A</td>\n",
       "      <td>vcrs_8</td>\n",
       "      <td>10</td>\n",
       "    </tr>\n",
       "    <tr>\n",
       "      <th>835504</th>\n",
       "      <td>ENST00000361899</td>\n",
       "      <td>c.296C&gt;T</td>\n",
       "      <td>p.S99F</td>\n",
       "      <td>COSV62294449</td>\n",
       "      <td>MT</td>\n",
       "      <td>+</td>\n",
       "      <td>g.8822C&gt;T</td>\n",
       "      <td>MT-ATP6</td>\n",
       "      <td>38184051</td>\n",
       "      <td>c.296C&gt;T</td>\n",
       "      <td>ENST00000361899:c.296C&gt;T</td>\n",
       "      <td>vcrs_9</td>\n",
       "      <td>9</td>\n",
       "    </tr>\n",
       "  </tbody>\n",
       "</table>\n",
       "</div>"
      ],
      "text/plain": [
       "                  seq_ID  mutation  mutation_aa GENOMIC_MUTATION_ID  \\\n",
       "5349419  ENST00000361624  c.795dup  p.E266Rfs*?       COSV104419744   \n",
       "1078993  ENST00000361390  c.910T>C      p.Y304H        COSV62293824   \n",
       "5268715  ENST00000361453  c.142dup   p.M48Nfs*?       COSV107450120   \n",
       "835480   ENST00000361899   c.41T>C       p.I14T       COSV106107919   \n",
       "835485   ENST00000361899  c.268C>T       p.H90Y        COSV62293579   \n",
       "835511   ENST00000361899  c.328G>A      p.A110T       COSV106107895   \n",
       "835482   ENST00000361899  c.326G>A      p.W109*       COSV106107946   \n",
       "3261302  ENST00000361624  c.922G>A      p.A308T       COSV106107908   \n",
       "3261422  ENST00000361624  c.226G>A       p.G76*       COSV106107894   \n",
       "835504   ENST00000361899  c.296C>T       p.S99F        COSV62294449   \n",
       "\n",
       "        chromosome strand mutation_genome gene_name  mutation_id  \\\n",
       "5349419         MT    NaN  g.6698_6699dup    MT-CO1     36495429   \n",
       "1078993         MT      +       g.4216T>C    MT-ND1     35322641   \n",
       "5268715         MT    NaN  g.4611_4612dup    MT-ND2     35576559   \n",
       "835480          MT      +       g.8567T>C   MT-ATP6     38183749   \n",
       "835485          MT      +       g.8794C>T   MT-ATP6     38184577   \n",
       "835511          MT      +       g.8854G>A   MT-ATP6     38184385   \n",
       "835482          MT      +       g.8852G>A   MT-ATP6     38184768   \n",
       "3261302         MT      +       g.6825G>A    MT-CO1     36495787   \n",
       "3261422         MT      +       g.6129G>A    MT-CO1     36495476   \n",
       "835504          MT      +       g.8822C>T   MT-ATP6     38184051   \n",
       "\n",
       "        mutation_cdna                    header      id  counts  \n",
       "5349419      c.795dup  ENST00000361624:c.795dup  vcrs_0     627  \n",
       "1078993      c.910T>C  ENST00000361390:c.910T>C  vcrs_1     536  \n",
       "5268715      c.142dup  ENST00000361453:c.142dup  vcrs_2     187  \n",
       "835480        c.41T>C   ENST00000361899:c.41T>C  vcrs_3      69  \n",
       "835485       c.268C>T  ENST00000361899:c.268C>T  vcrs_4      15  \n",
       "835511       c.328G>A  ENST00000361899:c.328G>A  vcrs_5      12  \n",
       "835482       c.326G>A  ENST00000361899:c.326G>A  vcrs_6      11  \n",
       "3261302      c.922G>A  ENST00000361624:c.922G>A  vcrs_7      10  \n",
       "3261422      c.226G>A  ENST00000361624:c.226G>A  vcrs_8      10  \n",
       "835504       c.296C>T  ENST00000361899:c.296C>T  vcrs_9       9  "
      ]
     },
     "execution_count": 71,
     "metadata": {},
     "output_type": "execute_result"
    }
   ],
   "source": [
    "cosmic_df_subset = cosmic_df[cosmic_df[\"header\"].isin(top10)]\n",
    "cosmic_df_subset[\"id\"] = cosmic_df_subset[\"header\"].map(vcrs_header_to_id)\n",
    "cosmic_df_subset[\"counts\"] = cosmic_df_subset[\"header\"].map(lambda x: top10_dict[x])\n",
    "cosmic_df_subset = cosmic_df_subset.sort_values(by=\"counts\", ascending=False)\n",
    "cosmic_df_subset"
   ]
  },
  {
   "cell_type": "markdown",
   "id": "487178cb-9825-4c23-9551-baf7a6934f9c",
   "metadata": {},
   "source": [
    "### Align (1) pulled out reads and (2) the VCRSs to the human genome to generate bam files:"
   ]
  },
  {
   "cell_type": "code",
   "execution_count": 78,
   "id": "28187021-d85a-4bd0-9892-7fd5e20e46e5",
   "metadata": {},
   "outputs": [
    {
     "name": "stdout",
     "output_type": "stream",
     "text": [
      "vcrs_0 (ENST00000361624:c.795dup)\n",
      "\n",
      "627 reads; of these:\n",
      "  627 (100.00%) were unpaired; of these:\n",
      "    3 (0.48%) aligned 0 times\n",
      "    0 (0.00%) aligned exactly 1 time\n",
      "    624 (99.52%) aligned >1 times\n",
      "99.52% overall alignment rate\n",
      "[samopen] SAM header is present: 84 sequences.\n",
      "1 reads; of these:\n",
      "  1 (100.00%) were unpaired; of these:\n",
      "    0 (0.00%) aligned 0 times\n",
      "    0 (0.00%) aligned exactly 1 time\n",
      "    1 (100.00%) aligned >1 times\n",
      "100.00% overall alignment rate\n",
      "[samopen] SAM header is present: 84 sequences.\n",
      "vcrs_1 (ENST00000361390:c.910T>C)\n",
      "\n",
      "536 reads; of these:\n",
      "  536 (100.00%) were unpaired; of these:\n",
      "    4 (0.75%) aligned 0 times\n",
      "    0 (0.00%) aligned exactly 1 time\n",
      "    532 (99.25%) aligned >1 times\n",
      "99.25% overall alignment rate\n",
      "[samopen] SAM header is present: 84 sequences.\n",
      "1 reads; of these:\n",
      "  1 (100.00%) were unpaired; of these:\n",
      "    0 (0.00%) aligned 0 times\n",
      "    0 (0.00%) aligned exactly 1 time\n",
      "    1 (100.00%) aligned >1 times\n",
      "100.00% overall alignment rate\n",
      "[samopen] SAM header is present: 84 sequences.\n",
      "vcrs_2 (ENST00000361453:c.142dup)\n",
      "\n",
      "187 reads; of these:\n",
      "  187 (100.00%) were unpaired; of these:\n",
      "    1 (0.53%) aligned 0 times\n",
      "    0 (0.00%) aligned exactly 1 time\n",
      "    186 (99.47%) aligned >1 times\n",
      "99.47% overall alignment rate\n",
      "[samopen] SAM header is present: 84 sequences.\n",
      "1 reads; of these:\n",
      "  1 (100.00%) were unpaired; of these:\n",
      "    0 (0.00%) aligned 0 times\n",
      "    0 (0.00%) aligned exactly 1 time\n",
      "    1 (100.00%) aligned >1 times\n",
      "100.00% overall alignment rate\n",
      "[samopen] SAM header is present: 84 sequences.\n",
      "vcrs_3 (ENST00000361899:c.41T>C)\n",
      "\n",
      "69 reads; of these:\n",
      "  69 (100.00%) were unpaired; of these:\n",
      "    0 (0.00%) aligned 0 times\n",
      "    0 (0.00%) aligned exactly 1 time\n",
      "    69 (100.00%) aligned >1 times\n",
      "100.00% overall alignment rate\n",
      "[samopen] SAM header is present: 84 sequences.\n",
      "1 reads; of these:\n",
      "  1 (100.00%) were unpaired; of these:\n",
      "    0 (0.00%) aligned 0 times\n",
      "    0 (0.00%) aligned exactly 1 time\n",
      "    1 (100.00%) aligned >1 times\n",
      "100.00% overall alignment rate\n",
      "[samopen] SAM header is present: 84 sequences.\n",
      "vcrs_4 (ENST00000361899:c.268C>T)\n",
      "\n",
      "15 reads; of these:\n",
      "  15 (100.00%) were unpaired; of these:\n",
      "    0 (0.00%) aligned 0 times\n",
      "    0 (0.00%) aligned exactly 1 time\n",
      "    15 (100.00%) aligned >1 times\n",
      "100.00% overall alignment rate\n",
      "[samopen] SAM header is present: 84 sequences.\n",
      "1 reads; of these:\n",
      "  1 (100.00%) were unpaired; of these:\n",
      "    0 (0.00%) aligned 0 times\n",
      "    0 (0.00%) aligned exactly 1 time\n",
      "    1 (100.00%) aligned >1 times\n",
      "100.00% overall alignment rate\n",
      "[samopen] SAM header is present: 84 sequences.\n",
      "vcrs_5 (ENST00000361899:c.328G>A)\n",
      "\n",
      "12 reads; of these:\n",
      "  12 (100.00%) were unpaired; of these:\n",
      "    0 (0.00%) aligned 0 times\n",
      "    0 (0.00%) aligned exactly 1 time\n",
      "    12 (100.00%) aligned >1 times\n",
      "100.00% overall alignment rate\n",
      "[samopen] SAM header is present: 84 sequences.\n",
      "1 reads; of these:\n",
      "  1 (100.00%) were unpaired; of these:\n",
      "    0 (0.00%) aligned 0 times\n",
      "    0 (0.00%) aligned exactly 1 time\n",
      "    1 (100.00%) aligned >1 times\n",
      "100.00% overall alignment rate\n",
      "[samopen] SAM header is present: 84 sequences.\n",
      "vcrs_6 (ENST00000361899:c.326G>A)\n",
      "\n",
      "11 reads; of these:\n",
      "  11 (100.00%) were unpaired; of these:\n",
      "    0 (0.00%) aligned 0 times\n",
      "    0 (0.00%) aligned exactly 1 time\n",
      "    11 (100.00%) aligned >1 times\n",
      "100.00% overall alignment rate\n",
      "[samopen] SAM header is present: 84 sequences.\n",
      "1 reads; of these:\n",
      "  1 (100.00%) were unpaired; of these:\n",
      "    0 (0.00%) aligned 0 times\n",
      "    0 (0.00%) aligned exactly 1 time\n",
      "    1 (100.00%) aligned >1 times\n",
      "100.00% overall alignment rate\n",
      "[samopen] SAM header is present: 84 sequences.\n",
      "vcrs_7 (ENST00000361624:c.922G>A)\n",
      "\n",
      "10 reads; of these:\n",
      "  10 (100.00%) were unpaired; of these:\n",
      "    0 (0.00%) aligned 0 times\n",
      "    0 (0.00%) aligned exactly 1 time\n",
      "    10 (100.00%) aligned >1 times\n",
      "100.00% overall alignment rate\n",
      "[samopen] SAM header is present: 84 sequences.\n",
      "1 reads; of these:\n",
      "  1 (100.00%) were unpaired; of these:\n",
      "    0 (0.00%) aligned 0 times\n",
      "    0 (0.00%) aligned exactly 1 time\n",
      "    1 (100.00%) aligned >1 times\n",
      "100.00% overall alignment rate\n",
      "[samopen] SAM header is present: 84 sequences.\n",
      "vcrs_8 (ENST00000361624:c.226G>A)\n",
      "\n",
      "10 reads; of these:\n",
      "  10 (100.00%) were unpaired; of these:\n",
      "    0 (0.00%) aligned 0 times\n",
      "    0 (0.00%) aligned exactly 1 time\n",
      "    10 (100.00%) aligned >1 times\n",
      "100.00% overall alignment rate\n",
      "[samopen] SAM header is present: 84 sequences.\n",
      "1 reads; of these:\n",
      "  1 (100.00%) were unpaired; of these:\n",
      "    0 (0.00%) aligned 0 times\n",
      "    0 (0.00%) aligned exactly 1 time\n",
      "    1 (100.00%) aligned >1 times\n",
      "100.00% overall alignment rate\n",
      "[samopen] SAM header is present: 84 sequences.\n",
      "vcrs_9 (ENST00000361899:c.296C>T)\n",
      "\n",
      "9 reads; of these:\n",
      "  9 (100.00%) were unpaired; of these:\n",
      "    0 (0.00%) aligned 0 times\n",
      "    0 (0.00%) aligned exactly 1 time\n",
      "    9 (100.00%) aligned >1 times\n",
      "100.00% overall alignment rate\n",
      "[samopen] SAM header is present: 84 sequences.\n",
      "1 reads; of these:\n",
      "  1 (100.00%) were unpaired; of these:\n",
      "    0 (0.00%) aligned 0 times\n",
      "    0 (0.00%) aligned exactly 1 time\n",
      "    1 (100.00%) aligned >1 times\n",
      "100.00% overall alignment rate\n",
      "[samopen] SAM header is present: 84 sequences.\n"
     ]
    }
   ],
   "source": [
    "for folder in sorted(glob.glob(aligned_reads_parent_dir + \"/*/\")):\n",
    "    variant = folder.split(\"/\")[-2]\n",
    "    variant_header = id_to_vcrs_header[variant]\n",
    "    print(f\"{variant} ({variant_header})\\n\")\n",
    "\n",
    "    outfolder = f\"{bowtie_read_alignments}/{variant}\"\n",
    "    os.makedirs(outfolder, exist_ok=True)\n",
    "    \n",
    "    # Align reads to human ref using bowtie2\n",
    "    variant_sam = variant + \"_reads.sam\"\n",
    "    !$bowtie2 \\\n",
    "        --very-sensitive \\\n",
    "        -k 3 \\\n",
    "        -x $bowtie_reference_prefix \\\n",
    "        -p $threads \\\n",
    "        -q $aligned_reads_parent_dir/$variant/1.fastq \\\n",
    "        -S $outfolder/$variant_sam\n",
    "\n",
    "    # Convert sam to bam\n",
    "    variant_bam = variant + \"_reads.bam\"\n",
    "    !$samtools view \\\n",
    "        -bS -F4 $outfolder/$variant_sam \\\n",
    "        > $outfolder/$variant_bam\n",
    "    \n",
    "    # Sort bam file\n",
    "    variant_bam_sorted_prefix = \"final_\" + variant + \"_sorted_reads\"\n",
    "    variant_bam_sorted = variant_bam_sorted_prefix + \".bam\"\n",
    "    !$samtools sort \\\n",
    "        $outfolder/$variant_bam \\\n",
    "        $outfolder/$variant_bam_sorted_prefix\n",
    "    \n",
    "    # Create an index for the sorted bam file (creates a .bai file)\n",
    "    !$samtools index $outfolder/$variant_bam_sorted\n",
    "\n",
    "\n",
    "    # repeat but use vcrs as the input instead of reads\n",
    "    variant_reference_sequence = vcrs_fasta_indexed[variant_header].seq.strip()\n",
    "\n",
    "    # Align vcrs to human ref using bowtie2\n",
    "    variant_sam = variant + \"_vcrs.sam\"\n",
    "    !$bowtie2 \\\n",
    "        --very-sensitive \\\n",
    "        -k 3 \\\n",
    "        -x $bowtie_reference_prefix \\\n",
    "        -p $threads \\\n",
    "        -c $variant_reference_sequence \\\n",
    "        -S $outfolder/$variant_sam\n",
    "    # use k 3 to get multiple alignments, not just the best one\n",
    "\n",
    "    # Convert sam to bam\n",
    "    variant_bam = variant + \"_vcrs.bam\"\n",
    "    !$samtools view \\\n",
    "        -bS -F4 $outfolder/$variant_sam \\\n",
    "        > $outfolder/$variant_bam\n",
    "\n",
    "    # Sort bam file\n",
    "    variant_bam_sorted_prefix = \"final_\" + variant + \"_sorted_vcrs\"\n",
    "    variant_bam_sorted = variant_bam_sorted_prefix + \".bam\"\n",
    "    !$samtools sort \\\n",
    "        $outfolder/$variant_bam \\\n",
    "        $outfolder/$variant_bam_sorted_prefix\n",
    "\n",
    "    # Create an index for the sorted bam file (creates a .bai file)\n",
    "    !$samtools index $outfolder/$variant_bam_sorted"
   ]
  },
  {
   "cell_type": "markdown",
   "id": "1cb02e32",
   "metadata": {},
   "source": [
    "### Load the files in bowtie_read_alignments into NCBI Genome workbench (or another genome viewer) to visualize the alignments (the ones with \"final_\")"
   ]
  }
 ],
 "metadata": {
  "kernelspec": {
   "display_name": "RLSRWP_2025",
   "language": "python",
   "name": "python3"
  },
  "language_info": {
   "codemirror_mode": {
    "name": "ipython",
    "version": 3
   },
   "file_extension": ".py",
   "mimetype": "text/x-python",
   "name": "python",
   "nbconvert_exporter": "python",
   "pygments_lexer": "ipython3",
   "version": "3.10.16"
  }
 },
 "nbformat": 4,
 "nbformat_minor": 5
}
