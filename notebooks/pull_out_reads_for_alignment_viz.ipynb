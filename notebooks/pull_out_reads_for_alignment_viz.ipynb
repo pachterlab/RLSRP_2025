{
 "cells": [
  {
   "cell_type": "markdown",
   "id": "b8a4b538-0583-45e9-91d1-eec859bae4c1",
   "metadata": {},
   "source": [
    "# Extract cancer variant reads for alignment visualization\n",
    "\n",
    "## In this notebook, we use a single RNA-seq fastq file from a melanoma cancer cell line from the the CCLE project. Learn more about the project here:\n",
    "- sequencing data (ENA): https://www.ebi.ac.uk/ena/browser/view/PRJNA523380\n",
    "- paper: https://www.nature.com/articles/s41586-019-1186-3\n",
    "\n",
    "### Requirements: kb, samtools, and bowtie2"
   ]
  },
  {
   "cell_type": "code",
   "execution_count": 1,
   "id": "9cae3de3",
   "metadata": {},
   "outputs": [],
   "source": [
    "try:\n",
    "    import varseek as vk\n",
    "except ImportError:\n",
    "    print(\"varseek not found, installing...\")\n",
    "    !pip install -U -q varseek\n",
    "try:\n",
    "    import RLSRWP_2025\n",
    "except ImportError:\n",
    "    print(\"RLSRWP_2025 not found, installing...\")\n",
    "    !pip install -q git+https://github.com/pachterlab/RLSRWP_2025.git"
   ]
  },
  {
   "cell_type": "code",
   "execution_count": null,
   "id": "400e7db6",
   "metadata": {},
   "outputs": [],
   "source": [
    "import anndata\n",
    "import os\n",
    "import numpy as np\n",
    "import pandas as pd\n",
    "import pyfastx\n",
    "import glob\n",
    "# pd.set_option('display.max_columns', None)\n",
    "import varseek as vk\n",
    "from varseek.utils import make_bus_df\n",
    "\n",
    "RLSRWP_2025_dir = os.path.dirname(os.path.abspath(\"\"))  # if this notebook resides in RLSRWP_2025/notebooks/0_data_download.ipynb, then this retrieves RLSRWP_2025\n",
    "threads = \"2\"\n",
    "use_head = True"
   ]
  },
  {
   "cell_type": "markdown",
   "id": "317e1ef9",
   "metadata": {},
   "source": [
    "### File path definitions and imports"
   ]
  },
  {
   "cell_type": "code",
   "execution_count": 2,
   "id": "b81b187a",
   "metadata": {},
   "outputs": [],
   "source": [
    "vk_count_out_dir = os.path.join(RLSRWP_2025_dir, \"data\", \"varseek_count_out_alignment_visualization\")\n",
    "kb_count_out_dir = os.path.join(vk_count_out_dir, \"kb_count_out_vcrs\")\n",
    "adata_path = os.path.join(kb_count_out_dir, \"counts_unfiltered\", \"adata.h5ad\")\n",
    "aligned_reads_parent_dir = os.path.join(vk_count_out_dir, \"pseudoaligned_reads_to_vcrs_reference\")\n",
    "bowtie_read_alignments = os.path.join(vk_count_out_dir, \"bowtie_read_alignments\")\n",
    "\n",
    "# vk ref out directory and files - downloaded if not already present\n",
    "vk_ref_out_dir = os.path.join(RLSRWP_2025_dir, \"data\", \"vk_ref_out\")\n",
    "vcrs_index = os.path.join(vk_ref_out_dir, \"vcrs_index.idx\")\n",
    "vcrs_t2g = os.path.join(vk_ref_out_dir, \"vcrs_t2g_filtered.txt\")\n",
    "vcrs_fasta = os.path.join(vk_ref_out_dir, \"vcrs_filtered.fa\")\n",
    "\n",
    "# fastq directories - fastqs_dir downloaded if not already present, and fastqs_processed_dir created with fastp if not already present\n",
    "fastqs_dir = os.path.join(RLSRWP_2025_dir, \"data\", \"ccle_data_base\", \"RNASeq_MELHO_SKIN\")\n",
    "fastq_file = os.path.join(fastqs_dir, \"SRR8615233_1.fastq.gz\")\n",
    "technology = \"bulk\"\n",
    "\n",
    "reference_genome_dir = os.path.join(RLSRWP_2025_dir, \"data\", \"reference\", \"ensembl_grch37_release93\")\n",
    "\n",
    "# kb count to reference genome directory and files - created if not already present - only used if qc_against_gene_matrix=True\n",
    "qc_against_gene_matrix = False\n",
    "kb_count_reference_genome_dir = os.path.join(RLSRWP_2025_dir, \"data\", \"kb_count_reference_genome\")\n",
    "reference_genome_index = os.path.join(reference_genome_dir, \"index.idx\")  # either already exists or will be created\n",
    "reference_genome_t2g = os.path.join(reference_genome_dir, \"t2g.txt\")  # either already exists or will be created\n",
    "reference_genome_fasta = os.path.join(reference_genome_dir, \"Homo_sapiens.GRCh37.dna.primary_assembly.fa\")  # if reference_genome_index/reference_genome_t2g do not exist, then I need to supply the reference genome fasta and gtf\n",
    "reference_genome_gtf = os.path.join(reference_genome_dir, \"Homo_sapiens.GRCh37.87.gtf\")  # if reference_genome_index/reference_genome_t2g do not exist, then I need to supply the reference genome fasta and gtf\n",
    "\n",
    "# for bowtie2\n",
    "reference_cdna_fasta = os.path.join(reference_genome_dir, \"Homo_sapiens.GRCh37.cdna.all.fa\")\n",
    "bowtie_reference_dir = os.path.join(reference_genome_dir, \"bowtie_index_transcriptome\")\n",
    "bowtie_reference_prefix = os.path.join(bowtie_reference_dir, \"index\")\n",
    "\n",
    "# general\n",
    "w = \"47\"  # used during creation of the index, so cannot be altered\n",
    "k = \"51\"  # used during creation of the index, so cannot be altered\n",
    "strand = \"unstranded\"\n",
    "parity = \"single\"  # although the original data is paired, we will only be using a single file, so we will run in single-end mode\n",
    "\n",
    "# software\n",
    "bustools = \"/Users/joeyrich/miniconda3/envs/RLSRWP_2025/lib/python3.10/site-packages/kb_python/bins/darwin/m1/bustools/bustools\"\n",
    "bowtie2 = \"bowtie2\"\n",
    "bowtie2_build = \"bowtie2-build\"\n",
    "samtools = \"samtools\""
   ]
  },
  {
   "cell_type": "markdown",
   "id": "8f50ee94",
   "metadata": {},
   "source": [
    "### Download VCRS reference files with varseek ref"
   ]
  },
  {
   "cell_type": "code",
   "execution_count": 6,
   "id": "5ebc5dd0",
   "metadata": {},
   "outputs": [],
   "source": [
    "if not os.path.exists(vcrs_index) or not os.path.exists(vcrs_t2g) or not os.path.exists(vcrs_fasta):\n",
    "    vk.ref(variants=\"cosmic_cmc\", sequences=\"cdna\", w=w, k=k, dlist_reference_source=\"t2t\", index_out=vcrs_index, t2g_out=vcrs_t2g, fasta_out=vcrs_fasta)"
   ]
  },
  {
   "cell_type": "markdown",
   "id": "492c02ce",
   "metadata": {},
   "source": [
    "### Make bowtie2 index files"
   ]
  },
  {
   "cell_type": "code",
   "execution_count": null,
   "id": "17451c12",
   "metadata": {},
   "outputs": [],
   "source": [
    "if not os.path.exists(bowtie_reference_dir) or len(os.listdir(bowtie_reference_dir)) == 0:\n",
    "    os.makedirs(bowtie_reference_dir, exist_ok=True)\n",
    "    !{bowtie2_build} --threads {threads} {reference_cdna_fasta} {bowtie_reference_prefix}"
   ]
  },
  {
   "cell_type": "markdown",
   "id": "0e3028e5",
   "metadata": {},
   "source": [
    "### Download fastq file"
   ]
  },
  {
   "cell_type": "code",
   "execution_count": null,
   "id": "2e2bae66",
   "metadata": {},
   "outputs": [],
   "source": [
    "if not os.path.isfile(fastq_file):\n",
    "    fastq_file_link = \"ftp://ftp.sra.ebi.ac.uk/vol1/fastq/SRR861/003/SRR8615233/SRR8615233_1.fastq.gz\"  # [\"ftp.sra.ebi.ac.uk/vol1/fastq/SRR861/003/SRR8615233/SRR8615233_1.fastq.gz\", \"ftp.sra.ebi.ac.uk/vol1/fastq/SRR861/003/SRR8615233/SRR8615233_2.fastq.gz\"]\n",
    "    os.makedirs(fastqs_dir, exist_ok=True)\n",
    "    !wget -c --tries=5 --retry-connrefused -O {fastq_file} {fastq_file_link}"
   ]
  },
  {
   "cell_type": "code",
   "execution_count": null,
   "id": "0dc6d8e2",
   "metadata": {},
   "outputs": [],
   "source": [
    "if use_head:\n",
    "    fastq_file_head = fastq_file.replace(\".fastq\", \"_head.fastq\")\n",
    "    !zcat {fastq_file} | head -1000000 > $fastq_file_head\n",
    "    fastq_file = fastq_file_head"
   ]
  },
  {
   "cell_type": "code",
   "execution_count": 23,
   "id": "907dad2a",
   "metadata": {},
   "outputs": [
    {
     "name": "stdout",
     "output_type": "stream",
     "text": [
      "@SRR8615233.1 1/1\n",
      "GAGAAGTTGATGCTGTCACTCATCTTTCCTCCAATCTTTCCCCTATGCCTGGTTGTGGTATTAAGTTACATGCAGACAACAGGGGCCAGAAGATGAACAAT\n",
      "+\n",
      "CCCFFFDFHHHHHJJJJJJJJIJJJJJJJJJJJJJIJJJJJJJJJJJJJJJJHIJJIICFGHJIIJJJJIJJJJGGGHHHHFFFDDBBDDDDDCCDDDDC:\n",
      "@SRR8615233.2 2/1\n",
      "CAGAGCTGCAGGCACAGCCAAGAGGGCTGAAGAAATGGTAGAACGGAGCAGCTGGTGATGTGGAGACCGGCCCCAGGCTCCTGTCTCCCCCCAGGTGTGTG\n",
      "+\n",
      "CCCFFFFFHHHHHIJJJIJJJJJJJJJIJJJJJIJJJJHHIIIJIIJJJJJJJJIGHIJHGHHHHFFFDDDDDDD?@?ABDDDCCDDCCDDDBBB######\n",
      "@SRR8615233.3 3/1\n",
      "TCGGCTTTATAGGCCACCGCAAGCAGCAGGGCTCCAGATGACATCACAGGGAAGATCAAGAGGGTGTGGAGGGGCATCGAAGCCTCTCCAGGAGACAGGAG\n"
     ]
    }
   ],
   "source": [
    "!head {fastq_file}"
   ]
  },
  {
   "cell_type": "markdown",
   "id": "202970af",
   "metadata": {},
   "source": [
    "### Make pyfastx index files"
   ]
  },
  {
   "cell_type": "code",
   "execution_count": 7,
   "id": "a971147c",
   "metadata": {},
   "outputs": [],
   "source": [
    "fastq_indexed = pyfastx.Fastq(fastq_file, build_index=True)\n",
    "vcrs_fasta_indexed = pyfastx.Fasta(vcrs_fasta, build_index=True)"
   ]
  },
  {
   "cell_type": "markdown",
   "id": "e4fc8333",
   "metadata": {},
   "source": [
    "### Make kb reference files if qc_against_gene_matrix=True"
   ]
  },
  {
   "cell_type": "code",
   "execution_count": 31,
   "id": "5fc75df4",
   "metadata": {},
   "outputs": [],
   "source": [
    "kb_count_reference_genome_adata = os.path.join(kb_count_reference_genome_dir, \"counts_unfiltered\", \"adata.h5ad\")\n",
    "if qc_against_gene_matrix and not os.path.exists(kb_count_reference_genome_adata):  # check if kb count was run\n",
    "    os.makedirs(kb_count_reference_genome_dir, exist_ok=True)\n",
    "    if not os.path.exists(reference_genome_index) or not os.path.exists(reference_genome_t2g):  # check if kb ref was run\n",
    "        if not os.path.exists(reference_genome_fasta) or not os.path.exists(reference_genome_gtf):\n",
    "            reference_genome_out_dir = os.path.dirname(reference_genome_fasta) if reference_genome_fasta else \".\"\n",
    "            # using grch37, ensembl 93 to agree with COSMIC\n",
    "            !gget ref -w dna,gtf -r 93 --out_dir {reference_genome_out_dir} -d human_grch37 && gunzip {reference_genome_fasta}.gz && gunzip {reference_genome_gtf}.gz\n",
    "        reference_genome_f1 = os.path.join(kb_count_reference_genome_dir, \"f1.fa\")\n",
    "        !kb ref -t {threads} -i {reference_genome_index} -g {reference_genome_t2g} -f1 {reference_genome_f1} {reference_genome_fasta} {reference_genome_gtf}"
   ]
  },
  {
   "cell_type": "markdown",
   "id": "70df8866",
   "metadata": {},
   "source": [
    "### Perform variant screening with varseek count"
   ]
  },
  {
   "cell_type": "code",
   "execution_count": 5,
   "id": "ca71a00e",
   "metadata": {},
   "outputs": [
    {
     "name": "stderr",
     "output_type": "stream",
     "text": [
      "16:24:37 - INFO - Setting length_required to 51 if fastqpp is run\n",
      "16:24:37 - INFO - Skipping vk fastqpp because disable_fastqpp=True\n",
      "16:24:37 - INFO - Running kb count with command: kb count -t 2 -k 51 -i /Users/joeyrich/Desktop/local/RLSRWP_2025/data/vk_ref_out/vcrs_index.idx -g /Users/joeyrich/Desktop/local/RLSRWP_2025/data/vk_ref_out/vcrs_t2g_filtered.txt -x BULK --h5ad -o /Users/joeyrich/Desktop/local/RLSRWP_2025/data/varseek_count_out_alignment_visualization/kb_count_out_vcrs --overwrite --strand unstranded --parity single --num /Users/joeyrich/Desktop/local/RLSRWP_2025/data/ccle_data_base/RNASeq_MELHO_SKIN/head.fastq.gz\n",
      "[2025-03-17 16:24:42,788]    INFO [count] Using index /Users/joeyrich/Desktop/local/RLSRWP_2025/data/vk_ref_out/vcrs_index.idx to generate BUS file to /Users/joeyrich/Desktop/local/RLSRWP_2025/data/varseek_count_out_alignment_visualization/kb_count_out_vcrs from\n",
      "[2025-03-17 16:24:42,789]    INFO [count]         /Users/joeyrich/Desktop/local/RLSRWP_2025/data/ccle_data_base/RNASeq_MELHO_SKIN/head.fastq.gz\n",
      "[2025-03-17 16:25:12,546]    INFO [count] Sorting BUS file /Users/joeyrich/Desktop/local/RLSRWP_2025/data/varseek_count_out_alignment_visualization/kb_count_out_vcrs/output.bus to /Users/joeyrich/Desktop/local/RLSRWP_2025/data/varseek_count_out_alignment_visualization/kb_count_out_vcrs/tmp/output.s.bus\n",
      "[2025-03-17 16:25:14,083]    INFO [count] Inspecting BUS file /Users/joeyrich/Desktop/local/RLSRWP_2025/data/varseek_count_out_alignment_visualization/kb_count_out_vcrs/tmp/output.s.bus\n",
      "[2025-03-17 16:25:15,196]    INFO [count] Generating count matrix /Users/joeyrich/Desktop/local/RLSRWP_2025/data/varseek_count_out_alignment_visualization/kb_count_out_vcrs/counts_unfiltered/cells_x_genes from BUS file /Users/joeyrich/Desktop/local/RLSRWP_2025/data/varseek_count_out_alignment_visualization/kb_count_out_vcrs/tmp/output.s.bus\n",
      "[2025-03-17 16:25:39,167]    INFO [count] Writing gene names to file /Users/joeyrich/Desktop/local/RLSRWP_2025/data/varseek_count_out_alignment_visualization/kb_count_out_vcrs/counts_unfiltered/cells_x_genes.genes.names.txt\n",
      "[2025-03-17 16:25:42,841] WARNING [count] 5329695 gene IDs do not have corresponding valid gene names. These genes will use their gene IDs instead.\n",
      "[2025-03-17 16:25:43,412]    INFO [count] Reading matrix /Users/joeyrich/Desktop/local/RLSRWP_2025/data/varseek_count_out_alignment_visualization/kb_count_out_vcrs/counts_unfiltered/cells_x_genes.mtx\n",
      "[2025-03-17 16:26:12,354]    INFO [count] Writing matrix to h5ad /Users/joeyrich/Desktop/local/RLSRWP_2025/data/varseek_count_out_alignment_visualization/kb_count_out_vcrs/counts_unfiltered/adata.h5ad\n",
      "16:26:14 - INFO - Skipping kb count for reference genome because the reference genome adata object was not needed and/or the file '/Users/joeyrich/Desktop/local/RLSRWP_2025/data/varseek_count_out_alignment_visualization/kb_count_out_reference_genome/counts_unfiltered/adata.h5ad' already exists. Note that even setting overwrite=True will still not overwrite this particular directory\n",
      "16:26:14 - INFO - Skipping vk clean because disable_clean=True\n",
      "16:26:14 - INFO - Skipping vk summarize because disable_summarize=True\n",
      "16:26:14 - INFO - Total runtime for vk count: 1m, 36.95s\n"
     ]
    }
   ],
   "source": [
    "if not os.path.exists(adata_path):\n",
    "    vk_count_output_dict = vk.count(\n",
    "        fastqs_dir,\n",
    "        index=vcrs_index,\n",
    "        t2g=vcrs_t2g,\n",
    "        technology=technology,\n",
    "        out=vk_count_out_dir,\n",
    "        k=k,\n",
    "        strand=strand,\n",
    "        parity=parity,\n",
    "        threads=threads,\n",
    "        disable_fastqpp=True,\n",
    "        disable_clean=True,\n",
    "        disable_summarize=True\n",
    "        # quality_control_fastqs=True, cut_front=True, cut_tail=True  # equivalent to the fastp step above\n",
    "        # qc_against_gene_matrix=qc_against_gene_matrix, reference_genome_index=reference_genome_index, reference_genome_t2g=reference_genome_t2g,\n",
    "    )"
   ]
  },
  {
   "cell_type": "markdown",
   "id": "6038ec84",
   "metadata": {},
   "source": [
    "### Load in adata object"
   ]
  },
  {
   "cell_type": "code",
   "execution_count": 14,
   "id": "0dc1900e",
   "metadata": {},
   "outputs": [
    {
     "data": {
      "text/plain": [
       "AnnData object with n_obs × n_vars = 1 × 5329695"
      ]
     },
     "execution_count": 14,
     "metadata": {},
     "output_type": "execute_result"
    }
   ],
   "source": [
    "adata = anndata.read_h5ad(adata_path)\n",
    "adata"
   ]
  },
  {
   "cell_type": "markdown",
   "id": "9fef39c0",
   "metadata": {},
   "source": [
    "### View top 10 variants by total reads aligned"
   ]
  },
  {
   "cell_type": "code",
   "execution_count": 15,
   "id": "6bb6edfd",
   "metadata": {},
   "outputs": [
    {
     "data": {
      "text/plain": [
       "{'ENST00000361390:c.910T>C',\n",
       " 'ENST00000361453:c.142dup',\n",
       " 'ENST00000361624:c.226G>A',\n",
       " 'ENST00000361624:c.795dup',\n",
       " 'ENST00000361624:c.922G>A',\n",
       " 'ENST00000361899:c.268C>T',\n",
       " 'ENST00000361899:c.296C>T',\n",
       " 'ENST00000361899:c.326G>A',\n",
       " 'ENST00000361899:c.328G>A',\n",
       " 'ENST00000361899:c.41T>C'}"
      ]
     },
     "execution_count": 15,
     "metadata": {},
     "output_type": "execute_result"
    }
   ],
   "source": [
    "top10 = set(adata.var.index[np.argsort(np.array(adata.X.todense())[0])][::-1][:10])\n",
    "top10"
   ]
  },
  {
   "cell_type": "markdown",
   "id": "baee92d7",
   "metadata": {},
   "source": [
    "### Map the reads to the VCRS to which they aligned"
   ]
  },
  {
   "cell_type": "code",
   "execution_count": 16,
   "id": "2cf1c7a2",
   "metadata": {},
   "outputs": [
    {
     "name": "stdout",
     "output_type": "stream",
     "text": [
      "loading in transcripts\n",
      "loading in barcodes\n"
     ]
    },
    {
     "name": "stderr",
     "output_type": "stream",
     "text": [
      "Processing FASTQ headers: 250000it [00:00, 2373691.85it/s]"
     ]
    },
    {
     "name": "stdout",
     "output_type": "stream",
     "text": [
      "loading in ec matrix\n",
      "loading in bus df\n",
      "Merging fastq header df and ec_df into bus df\n"
     ]
    },
    {
     "name": "stderr",
     "output_type": "stream",
     "text": [
      "\n"
     ]
    },
    {
     "name": "stdout",
     "output_type": "stream",
     "text": [
      "Determining what counts in count matrix\n"
     ]
    },
    {
     "name": "stderr",
     "output_type": "stream",
     "text": [
      "100%|██████████| 1727/1727 [00:00<00:00, 262381.39it/s]\n"
     ]
    },
    {
     "name": "stdout",
     "output_type": "stream",
     "text": [
      "Saving bus df as parquet\n",
      "Number of reads in filtered bus file: 1486\n"
     ]
    },
    {
     "data": {
      "application/vnd.microsoft.datawrangler.viewer.v0+json": {
       "columns": [
        {
         "name": "index",
         "rawType": "int64",
         "type": "integer"
        },
        {
         "name": "barcode",
         "rawType": "object",
         "type": "string"
        },
        {
         "name": "UMI",
         "rawType": "object",
         "type": "string"
        },
        {
         "name": "EC",
         "rawType": "int64",
         "type": "integer"
        },
        {
         "name": "read_index",
         "rawType": "object",
         "type": "string"
        },
        {
         "name": "fastq_header",
         "rawType": "object",
         "type": "string"
        },
        {
         "name": "transcript_names",
         "rawType": "object",
         "type": "string"
        },
        {
         "name": "file_index",
         "rawType": "category",
         "type": "unknown"
        },
        {
         "name": "gene_names",
         "rawType": "object",
         "type": "string"
        },
        {
         "name": "counted_in_count_matrix",
         "rawType": "bool",
         "type": "boolean"
        },
        {
         "name": "gene_names_str",
         "rawType": "object",
         "type": "string"
        }
       ],
       "conversionMethod": "pd.DataFrame",
       "ref": "54eb0325-74a7-43d4-9df7-ca0245a03458",
       "rows": [
        [
         "7",
         "AAAAAAAAAAAAAAAA",
         "T",
         "5",
         "93111",
         "SRR8615233.93112",
         "['ENST00000361624:c.226G>A']",
         "0",
         "['ENST00000361624:c.226G>A']",
         "True",
         "ENST00000361624:c.226G>A"
        ],
        [
         "8",
         "AAAAAAAAAAAAAAAA",
         "T",
         "5",
         "93194",
         "SRR8615233.93195",
         "['ENST00000361624:c.226G>A']",
         "0",
         "['ENST00000361624:c.226G>A']",
         "True",
         "ENST00000361624:c.226G>A"
        ],
        [
         "9",
         "AAAAAAAAAAAAAAAA",
         "T",
         "5",
         "94027",
         "SRR8615233.94028",
         "['ENST00000361624:c.226G>A']",
         "0",
         "['ENST00000361624:c.226G>A']",
         "True",
         "ENST00000361624:c.226G>A"
        ],
        [
         "10",
         "AAAAAAAAAAAAAAAA",
         "T",
         "6",
         "94594",
         "SRR8615233.94595",
         "['ENST00000361624:c.795dup']",
         "0",
         "['ENST00000361624:c.795dup']",
         "True",
         "ENST00000361624:c.795dup"
        ],
        [
         "11",
         "AAAAAAAAAAAAAAAA",
         "T",
         "6",
         "94595",
         "SRR8615233.94596",
         "['ENST00000361624:c.795dup']",
         "0",
         "['ENST00000361624:c.795dup']",
         "True",
         "ENST00000361624:c.795dup"
        ]
       ],
       "shape": {
        "columns": 10,
        "rows": 5
       }
      },
      "text/html": [
       "<div>\n",
       "<style scoped>\n",
       "    .dataframe tbody tr th:only-of-type {\n",
       "        vertical-align: middle;\n",
       "    }\n",
       "\n",
       "    .dataframe tbody tr th {\n",
       "        vertical-align: top;\n",
       "    }\n",
       "\n",
       "    .dataframe thead th {\n",
       "        text-align: right;\n",
       "    }\n",
       "</style>\n",
       "<table border=\"1\" class=\"dataframe\">\n",
       "  <thead>\n",
       "    <tr style=\"text-align: right;\">\n",
       "      <th></th>\n",
       "      <th>barcode</th>\n",
       "      <th>UMI</th>\n",
       "      <th>EC</th>\n",
       "      <th>read_index</th>\n",
       "      <th>fastq_header</th>\n",
       "      <th>transcript_names</th>\n",
       "      <th>file_index</th>\n",
       "      <th>gene_names</th>\n",
       "      <th>counted_in_count_matrix</th>\n",
       "      <th>gene_names_str</th>\n",
       "    </tr>\n",
       "  </thead>\n",
       "  <tbody>\n",
       "    <tr>\n",
       "      <th>7</th>\n",
       "      <td>AAAAAAAAAAAAAAAA</td>\n",
       "      <td>T</td>\n",
       "      <td>5</td>\n",
       "      <td>93111</td>\n",
       "      <td>SRR8615233.93112</td>\n",
       "      <td>[ENST00000361624:c.226G&gt;A]</td>\n",
       "      <td>0</td>\n",
       "      <td>[ENST00000361624:c.226G&gt;A]</td>\n",
       "      <td>True</td>\n",
       "      <td>ENST00000361624:c.226G&gt;A</td>\n",
       "    </tr>\n",
       "    <tr>\n",
       "      <th>8</th>\n",
       "      <td>AAAAAAAAAAAAAAAA</td>\n",
       "      <td>T</td>\n",
       "      <td>5</td>\n",
       "      <td>93194</td>\n",
       "      <td>SRR8615233.93195</td>\n",
       "      <td>[ENST00000361624:c.226G&gt;A]</td>\n",
       "      <td>0</td>\n",
       "      <td>[ENST00000361624:c.226G&gt;A]</td>\n",
       "      <td>True</td>\n",
       "      <td>ENST00000361624:c.226G&gt;A</td>\n",
       "    </tr>\n",
       "    <tr>\n",
       "      <th>9</th>\n",
       "      <td>AAAAAAAAAAAAAAAA</td>\n",
       "      <td>T</td>\n",
       "      <td>5</td>\n",
       "      <td>94027</td>\n",
       "      <td>SRR8615233.94028</td>\n",
       "      <td>[ENST00000361624:c.226G&gt;A]</td>\n",
       "      <td>0</td>\n",
       "      <td>[ENST00000361624:c.226G&gt;A]</td>\n",
       "      <td>True</td>\n",
       "      <td>ENST00000361624:c.226G&gt;A</td>\n",
       "    </tr>\n",
       "    <tr>\n",
       "      <th>10</th>\n",
       "      <td>AAAAAAAAAAAAAAAA</td>\n",
       "      <td>T</td>\n",
       "      <td>6</td>\n",
       "      <td>94594</td>\n",
       "      <td>SRR8615233.94595</td>\n",
       "      <td>[ENST00000361624:c.795dup]</td>\n",
       "      <td>0</td>\n",
       "      <td>[ENST00000361624:c.795dup]</td>\n",
       "      <td>True</td>\n",
       "      <td>ENST00000361624:c.795dup</td>\n",
       "    </tr>\n",
       "    <tr>\n",
       "      <th>11</th>\n",
       "      <td>AAAAAAAAAAAAAAAA</td>\n",
       "      <td>T</td>\n",
       "      <td>6</td>\n",
       "      <td>94595</td>\n",
       "      <td>SRR8615233.94596</td>\n",
       "      <td>[ENST00000361624:c.795dup]</td>\n",
       "      <td>0</td>\n",
       "      <td>[ENST00000361624:c.795dup]</td>\n",
       "      <td>True</td>\n",
       "      <td>ENST00000361624:c.795dup</td>\n",
       "    </tr>\n",
       "  </tbody>\n",
       "</table>\n",
       "</div>"
      ],
      "text/plain": [
       "             barcode UMI  EC read_index      fastq_header  \\\n",
       "7   AAAAAAAAAAAAAAAA   T   5      93111  SRR8615233.93112   \n",
       "8   AAAAAAAAAAAAAAAA   T   5      93194  SRR8615233.93195   \n",
       "9   AAAAAAAAAAAAAAAA   T   5      94027  SRR8615233.94028   \n",
       "10  AAAAAAAAAAAAAAAA   T   6      94594  SRR8615233.94595   \n",
       "11  AAAAAAAAAAAAAAAA   T   6      94595  SRR8615233.94596   \n",
       "\n",
       "              transcript_names file_index                  gene_names  \\\n",
       "7   [ENST00000361624:c.226G>A]          0  [ENST00000361624:c.226G>A]   \n",
       "8   [ENST00000361624:c.226G>A]          0  [ENST00000361624:c.226G>A]   \n",
       "9   [ENST00000361624:c.226G>A]          0  [ENST00000361624:c.226G>A]   \n",
       "10  [ENST00000361624:c.795dup]          0  [ENST00000361624:c.795dup]   \n",
       "11  [ENST00000361624:c.795dup]          0  [ENST00000361624:c.795dup]   \n",
       "\n",
       "    counted_in_count_matrix            gene_names_str  \n",
       "7                      True  ENST00000361624:c.226G>A  \n",
       "8                      True  ENST00000361624:c.226G>A  \n",
       "9                      True  ENST00000361624:c.226G>A  \n",
       "10                     True  ENST00000361624:c.795dup  \n",
       "11                     True  ENST00000361624:c.795dup  "
      ]
     },
     "execution_count": 16,
     "metadata": {},
     "output_type": "execute_result"
    }
   ],
   "source": [
    "bus_df = make_bus_df(kb_count_out_dir, fastq_file, technology=technology, parity=parity, bustools=bustools)\n",
    "filtered_bus_df = bus_df[bus_df[\"gene_names\"].apply(lambda x: len(x) == 1)]  # remove multi-mapping reads\n",
    "filtered_bus_df[\"gene_names_str\"] = filtered_bus_df[\"gene_names\"].apply(lambda x: x[0])  # cast to string\n",
    "filtered_bus_df = filtered_bus_df[(filtered_bus_df[\"gene_names_str\"].isin(top10)) & (filtered_bus_df[\"counted_in_count_matrix\"])]\n",
    "print(f\"Number of reads in filtered bus file: {len(filtered_bus_df)}\")\n",
    "filtered_bus_df.head()"
   ]
  },
  {
   "cell_type": "code",
   "execution_count": 17,
   "id": "32c55d55",
   "metadata": {},
   "outputs": [
    {
     "data": {
      "text/plain": [
       "{'ENST00000361899:c.268C>T': 'vcrs_0',\n",
       " 'ENST00000361453:c.142dup': 'vcrs_1',\n",
       " 'ENST00000361899:c.41T>C': 'vcrs_2',\n",
       " 'ENST00000361624:c.795dup': 'vcrs_3',\n",
       " 'ENST00000361624:c.922G>A': 'vcrs_4',\n",
       " 'ENST00000361899:c.326G>A': 'vcrs_5',\n",
       " 'ENST00000361390:c.910T>C': 'vcrs_6',\n",
       " 'ENST00000361899:c.296C>T': 'vcrs_7',\n",
       " 'ENST00000361624:c.226G>A': 'vcrs_8',\n",
       " 'ENST00000361899:c.328G>A': 'vcrs_9'}"
      ]
     },
     "execution_count": 17,
     "metadata": {},
     "output_type": "execute_result"
    }
   ],
   "source": [
    "# make IDs since the gene names in HGVSC format do not make for good folder names or bowtie2 header names\n",
    "vcrs_header_to_id = {vcrs: f\"vcrs_{i}\" for i, vcrs in enumerate(list(top10))}\n",
    "filtered_bus_df[\"vcrs_ids\"] = filtered_bus_df[\"gene_names_str\"].map(vcrs_header_to_id)\n",
    "\n",
    "vcrs_header_to_id_file = os.path.join(vk_count_out_dir, \"vcrs_header_to_id.txt\")\n",
    "with open(vcrs_header_to_id_file, \"w\") as f:\n",
    "    for key, value in vcrs_header_to_id.items():\n",
    "        f.write(f\"{key}\\t{value}\\n\")  # Tab-separated\n",
    "\n",
    "id_to_vcrs_header = {v: k for k, v in vcrs_header_to_id.items()}\n",
    "vcrs_header_to_id"
   ]
  },
  {
   "cell_type": "code",
   "execution_count": 48,
   "id": "b504ecc8",
   "metadata": {},
   "outputs": [],
   "source": [
    "for vcrs_id in filtered_bus_df[\"vcrs_ids\"].unique():  # Get unique gene names\n",
    "    temp_df = filtered_bus_df[filtered_bus_df[\"vcrs_ids\"] == vcrs_id]  # Filter\n",
    "    fastq_headers = temp_df[\"fastq_header\"].tolist()  # Get values as a list\n",
    "\n",
    "    gene_dir = os.path.join(aligned_reads_parent_dir, vcrs_id)\n",
    "    os.makedirs(gene_dir, exist_ok=True)\n",
    "    \n",
    "    aligned_reads_file = os.path.join(gene_dir, \"1.fastq\")\n",
    "    with open(aligned_reads_file, \"w\") as f:\n",
    "        for header in fastq_headers:\n",
    "            sequence = fastq_indexed[header].seq\n",
    "            qualities = fastq_indexed[header].qual\n",
    "            f.write(f\"@{header}\\n{sequence}\\n+\\n{qualities}\\n\")"
   ]
  },
  {
   "cell_type": "markdown",
   "id": "487178cb-9825-4c23-9551-baf7a6934f9c",
   "metadata": {},
   "source": [
    "### Align pulled out reads to the human transcriptome and the VCRSs to generate bam files:"
   ]
  },
  {
   "cell_type": "code",
   "execution_count": 57,
   "id": "28187021-d85a-4bd0-9892-7fd5e20e46e5",
   "metadata": {},
   "outputs": [
    {
     "name": "stdout",
     "output_type": "stream",
     "text": [
      "vcrs_4 (ENST00000361624:c.922G>A)\n",
      "\n",
      "69 reads; of these:\n",
      "  69 (100.00%) were unpaired; of these:\n",
      "    0 (0.00%) aligned 0 times\n",
      "    69 (100.00%) aligned exactly 1 time\n",
      "    0 (0.00%) aligned >1 times\n",
      "100.00% overall alignment rate\n",
      "[samopen] SAM header is present: 180253 sequences.\n",
      "1 reads; of these:\n",
      "  1 (100.00%) were unpaired; of these:\n",
      "    0 (0.00%) aligned 0 times\n",
      "    1 (100.00%) aligned exactly 1 time\n",
      "    0 (0.00%) aligned >1 times\n",
      "100.00% overall alignment rate\n",
      "[samopen] SAM header is present: 180253 sequences.\n",
      "vcrs_3 (ENST00000361624:c.795dup)\n",
      "\n",
      "10 reads; of these:\n",
      "  10 (100.00%) were unpaired; of these:\n",
      "    0 (0.00%) aligned 0 times\n",
      "    10 (100.00%) aligned exactly 1 time\n",
      "    0 (0.00%) aligned >1 times\n",
      "100.00% overall alignment rate\n",
      "[samopen] SAM header is present: 180253 sequences.\n",
      "1 reads; of these:\n",
      "  1 (100.00%) were unpaired; of these:\n",
      "    0 (0.00%) aligned 0 times\n",
      "    1 (100.00%) aligned exactly 1 time\n",
      "    0 (0.00%) aligned >1 times\n",
      "100.00% overall alignment rate\n",
      "[samopen] SAM header is present: 180253 sequences.\n",
      "vcrs_2 (ENST00000361899:c.41T>C)\n",
      "\n",
      "11 reads; of these:\n",
      "  11 (100.00%) were unpaired; of these:\n",
      "    0 (0.00%) aligned 0 times\n",
      "    11 (100.00%) aligned exactly 1 time\n",
      "    0 (0.00%) aligned >1 times\n",
      "100.00% overall alignment rate\n",
      "[samopen] SAM header is present: 180253 sequences.\n",
      "1 reads; of these:\n",
      "  1 (100.00%) were unpaired; of these:\n",
      "    0 (0.00%) aligned 0 times\n",
      "    1 (100.00%) aligned exactly 1 time\n",
      "    0 (0.00%) aligned >1 times\n",
      "100.00% overall alignment rate\n",
      "[samopen] SAM header is present: 180253 sequences.\n",
      "vcrs_5 (ENST00000361899:c.326G>A)\n",
      "\n",
      "12 reads; of these:\n",
      "  12 (100.00%) were unpaired; of these:\n",
      "    0 (0.00%) aligned 0 times\n",
      "    12 (100.00%) aligned exactly 1 time\n",
      "    0 (0.00%) aligned >1 times\n",
      "100.00% overall alignment rate\n",
      "[samopen] SAM header is present: 180253 sequences.\n",
      "1 reads; of these:\n",
      "  1 (100.00%) were unpaired; of these:\n",
      "    0 (0.00%) aligned 0 times\n",
      "    1 (100.00%) aligned exactly 1 time\n",
      "    0 (0.00%) aligned >1 times\n",
      "100.00% overall alignment rate\n",
      "[samopen] SAM header is present: 180253 sequences.\n",
      "vcrs_9 (ENST00000361899:c.328G>A)\n",
      "\n",
      "10 reads; of these:\n",
      "  10 (100.00%) were unpaired; of these:\n",
      "    0 (0.00%) aligned 0 times\n",
      "    10 (100.00%) aligned exactly 1 time\n",
      "    0 (0.00%) aligned >1 times\n",
      "100.00% overall alignment rate\n",
      "[samopen] SAM header is present: 180253 sequences.\n",
      "1 reads; of these:\n",
      "  1 (100.00%) were unpaired; of these:\n",
      "    0 (0.00%) aligned 0 times\n",
      "    1 (100.00%) aligned exactly 1 time\n",
      "    0 (0.00%) aligned >1 times\n",
      "100.00% overall alignment rate\n",
      "[samopen] SAM header is present: 180253 sequences.\n",
      "vcrs_0 (ENST00000361899:c.268C>T)\n",
      "\n",
      "9 reads; of these:\n",
      "  9 (100.00%) were unpaired; of these:\n",
      "    0 (0.00%) aligned 0 times\n",
      "    9 (100.00%) aligned exactly 1 time\n",
      "    0 (0.00%) aligned >1 times\n",
      "100.00% overall alignment rate\n",
      "[samopen] SAM header is present: 180253 sequences.\n",
      "1 reads; of these:\n",
      "  1 (100.00%) were unpaired; of these:\n",
      "    0 (0.00%) aligned 0 times\n",
      "    1 (100.00%) aligned exactly 1 time\n",
      "    0 (0.00%) aligned >1 times\n",
      "100.00% overall alignment rate\n",
      "[samopen] SAM header is present: 180253 sequences.\n",
      "vcrs_7 (ENST00000361899:c.296C>T)\n",
      "\n",
      "627 reads; of these:\n",
      "  627 (100.00%) were unpaired; of these:\n",
      "    3 (0.48%) aligned 0 times\n",
      "    624 (99.52%) aligned exactly 1 time\n",
      "    0 (0.00%) aligned >1 times\n",
      "99.52% overall alignment rate\n",
      "[samopen] SAM header is present: 180253 sequences.\n",
      "1 reads; of these:\n",
      "  1 (100.00%) were unpaired; of these:\n",
      "    0 (0.00%) aligned 0 times\n",
      "    1 (100.00%) aligned exactly 1 time\n",
      "    0 (0.00%) aligned >1 times\n",
      "100.00% overall alignment rate\n",
      "[samopen] SAM header is present: 180253 sequences.\n",
      "vcrs_6 (ENST00000361390:c.910T>C)\n",
      "\n",
      "536 reads; of these:\n",
      "  536 (100.00%) were unpaired; of these:\n",
      "    115 (21.46%) aligned 0 times\n",
      "    421 (78.54%) aligned exactly 1 time\n",
      "    0 (0.00%) aligned >1 times\n",
      "78.54% overall alignment rate\n",
      "[samopen] SAM header is present: 180253 sequences.\n",
      "1 reads; of these:\n",
      "  1 (100.00%) were unpaired; of these:\n",
      "    0 (0.00%) aligned 0 times\n",
      "    1 (100.00%) aligned exactly 1 time\n",
      "    0 (0.00%) aligned >1 times\n",
      "100.00% overall alignment rate\n",
      "[samopen] SAM header is present: 180253 sequences.\n",
      "vcrs_1 (ENST00000361453:c.142dup)\n",
      "\n",
      "15 reads; of these:\n",
      "  15 (100.00%) were unpaired; of these:\n",
      "    0 (0.00%) aligned 0 times\n",
      "    15 (100.00%) aligned exactly 1 time\n",
      "    0 (0.00%) aligned >1 times\n",
      "100.00% overall alignment rate\n",
      "[samopen] SAM header is present: 180253 sequences.\n",
      "1 reads; of these:\n",
      "  1 (100.00%) were unpaired; of these:\n",
      "    0 (0.00%) aligned 0 times\n",
      "    1 (100.00%) aligned exactly 1 time\n",
      "    0 (0.00%) aligned >1 times\n",
      "100.00% overall alignment rate\n",
      "[samopen] SAM header is present: 180253 sequences.\n",
      "vcrs_8 (ENST00000361624:c.226G>A)\n",
      "\n",
      "187 reads; of these:\n",
      "  187 (100.00%) were unpaired; of these:\n",
      "    1 (0.53%) aligned 0 times\n",
      "    186 (99.47%) aligned exactly 1 time\n",
      "    0 (0.00%) aligned >1 times\n",
      "99.47% overall alignment rate\n",
      "[samopen] SAM header is present: 180253 sequences.\n",
      "1 reads; of these:\n",
      "  1 (100.00%) were unpaired; of these:\n",
      "    0 (0.00%) aligned 0 times\n",
      "    1 (100.00%) aligned exactly 1 time\n",
      "    0 (0.00%) aligned >1 times\n",
      "100.00% overall alignment rate\n",
      "[samopen] SAM header is present: 180253 sequences.\n"
     ]
    }
   ],
   "source": [
    "for folder in glob.glob(aligned_reads_parent_dir + \"/*/\"):\n",
    "    variant = folder.split(\"/\")[-2]\n",
    "    variant_header = id_to_vcrs_header[variant]\n",
    "    print(f\"{variant} ({variant_header})\\n\")\n",
    "\n",
    "    outfolder = f\"{bowtie_read_alignments}/{variant}\"\n",
    "    os.makedirs(outfolder, exist_ok=True)\n",
    "    \n",
    "    # Align reads to human ref using bowtie2\n",
    "    variant_sam = variant + \"_reads.sam\"\n",
    "    !$bowtie2 \\\n",
    "        --very-sensitive \\\n",
    "        -k 1 \\\n",
    "        -x $bowtie_reference_prefix \\\n",
    "        -p $threads \\\n",
    "        -q $aligned_reads_parent_dir/$variant/1.fastq \\\n",
    "        -S $outfolder/$variant_sam\n",
    "\n",
    "    # Convert sam to bam\n",
    "    variant_bam = variant + \"_reads.bam\"\n",
    "    !$samtools view \\\n",
    "        -bS -F4 $outfolder/$variant_sam \\\n",
    "        > $outfolder/$variant_bam\n",
    "    \n",
    "    # Sort bam file\n",
    "    variant_bam_sorted_prefix = \"final_\" + variant + \"_sorted_reads\"\n",
    "    variant_bam_sorted = variant_bam_sorted_prefix + \".bam\"\n",
    "    !$samtools sort \\\n",
    "        $outfolder/$variant_bam \\\n",
    "        $outfolder/$variant_bam_sorted_prefix\n",
    "    \n",
    "    # Create an index for the sorted bam file (creates a .bai file)\n",
    "    !$samtools index $outfolder/$variant_bam_sorted\n",
    "\n",
    "\n",
    "    # repeat but use vcrs as the input instead of reads\n",
    "    variant_reference_sequence = vcrs_fasta_indexed[variant_header].seq.strip()\n",
    "\n",
    "    # Align vcrs to human ref using bowtie2\n",
    "    variant_sam = variant + \"_vcrs.sam\"\n",
    "    !$bowtie2 \\\n",
    "        --very-sensitive \\\n",
    "        -k 1 \\\n",
    "        -x $bowtie_reference_prefix \\\n",
    "        -p $threads \\\n",
    "        -c $variant_reference_sequence \\\n",
    "        -S $outfolder/$variant_sam\n",
    "\n",
    "    # Convert sam to bam\n",
    "    variant_bam = variant + \"_vcrs.bam\"\n",
    "    !$samtools view \\\n",
    "        -bS -F4 $outfolder/$variant_sam \\\n",
    "        > $outfolder/$variant_bam\n",
    "\n",
    "    # Sort bam file\n",
    "    variant_bam_sorted_prefix = \"final_\" + variant + \"_sorted_vcrs\"\n",
    "    variant_bam_sorted = variant_bam_sorted_prefix + \".bam\"\n",
    "    !$samtools sort \\\n",
    "        $outfolder/$variant_bam \\\n",
    "        $outfolder/$variant_bam_sorted_prefix\n",
    "\n",
    "    # Create an index for the sorted bam file (creates a .bai file)\n",
    "    !$samtools index $outfolder/$variant_bam_sorted"
   ]
  },
  {
   "cell_type": "markdown",
   "id": "1cb02e32",
   "metadata": {},
   "source": [
    "### Load the files in bowtie_read_alignments into NCBI Genome workbench (or another genome viewer) to visualize the alignments (the ones with \"final_\")"
   ]
  }
 ],
 "metadata": {
  "kernelspec": {
   "display_name": "RLSRWP_2025",
   "language": "python",
   "name": "python3"
  },
  "language_info": {
   "codemirror_mode": {
    "name": "ipython",
    "version": 3
   },
   "file_extension": ".py",
   "mimetype": "text/x-python",
   "name": "python",
   "nbconvert_exporter": "python",
   "pygments_lexer": "ipython3",
   "version": "3.10.16"
  }
 },
 "nbformat": 4,
 "nbformat_minor": 5
}
