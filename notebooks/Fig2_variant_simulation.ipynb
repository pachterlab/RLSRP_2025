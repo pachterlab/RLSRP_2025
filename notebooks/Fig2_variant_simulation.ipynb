{
 "cells": [
  {
   "cell_type": "markdown",
   "metadata": {},
   "source": [
    "# [vk sim](https://github.com/pachterlab/varseek) demonstration with multiple conditions, and performance of varseek on this dataset - used for Fig2 of our manuscript"
   ]
  },
  {
   "cell_type": "code",
   "execution_count": 1,
   "metadata": {},
   "outputs": [],
   "source": [
    "try:\n",
    "    import varseek as vk\n",
    "except ImportError:\n",
    "    print(\"varseek not found, installing...\")\n",
    "    !pip install -U -q varseek"
   ]
  },
  {
   "cell_type": "code",
   "execution_count": 2,
   "metadata": {},
   "outputs": [],
   "source": [
    "import random\n",
    "import varseek as vk\n",
    "import os\n",
    "import sys\n",
    "import anndata as ad\n",
    "import subprocess\n",
    "import numpy as np\n",
    "from datetime import datetime\n",
    "import shutil\n",
    "import pickle\n",
    "from pathlib import Path\n",
    "import pandas as pd\n",
    "import json\n",
    "# from tqdm import tqdm\n",
    "# tqdm.pandas()\n",
    "\n",
    "from varseek.utils import build_random_genome_read_df, calculate_metrics, create_stratified_metric_bar_plot, create_venn_diagram, plot_histogram, draw_confusion_matrix, make_bus_df_original, download_ensembl_reference_files, safe_literal_eval, add_vcrs_variant_type\n",
    "varseek_directory = os.path.dirname(os.path.abspath(\"\"))"
   ]
  },
  {
   "cell_type": "markdown",
   "metadata": {},
   "source": [
    "## Define parameters and paths"
   ]
  },
  {
   "cell_type": "code",
   "execution_count": null,
   "metadata": {},
   "outputs": [],
   "source": [
    "number_of_variants_to_sample_per_condition = 350\n",
    "\n",
    "read_length = 150\n",
    "strand = \"random\"  # None for strand-agnostic (randomly-selected), \"f\" for forward, \"r\" for reverse, \"both\" for both - make sure this matches the reference genome (vk build command) - strand = True -> \"f\" or \"r\" here; strand = False -> None or \"both\" here - note that the strand is randomly selected per *transcript*, such that all drawn reads will come from the same strand no matter what\n",
    "add_noise_sequencing_error=True\n",
    "add_noise_base_quality=False\n",
    "error_rate=0.001  # only if add_noise_sequencing_error=True\n",
    "error_distribution=(0.85, 0.1, 0.05)  # sub, del, ins  # only if add_noise_sequencing_error=True\n",
    "max_errors=float(\"inf\")  # only if add_noise_sequencing_error=True\n",
    "seq_id_column=\"seq_ID\"\n",
    "var_column=\"mutation_cdna\"\n",
    "threads = 4\n",
    "check_reason_for_read_fn = False\n",
    "check_reason_for_ref_fn = False\n",
    "seed=42\n",
    "random_file_suffix = \"most_recent\"  # None for no random file, or suffix (in datetime format) for random file, or \"most_recent\" for most recent random file\n",
    "\n",
    "number_of_random_reads_cdna = 10000\n",
    "number_of_random_reads_genome = 0\n",
    "\n",
    "k = 51\n",
    "w = 47\n",
    "\n",
    "# Paths\n",
    "vk_ref_out_dir = os.path.join(varseek_directory, \"data\", \"vk_ref_out\")\n",
    "reference_out_dir = os.path.join(varseek_directory, \"data\", \"reference\")\n",
    "sequences = os.path.join(reference_out_dir, \"ensembl_grch37_release93\", \"Homo_sapiens.GRCh37.cdna.all.fa\")\n",
    "reference_genome_fasta = os.path.join(reference_out_dir, \"ensembl_grch37_release93\", \"Homo_sapiens.GRCh37.dna.primary_assembly.fa\")\n",
    "out_dir_notebook = os.path.join(varseek_directory, \"data\", \"simulated_data_output\")  #!!! change for each run\n",
    "\n",
    "bustools = \"/home/jmrich/miniconda3/envs/varseek2/lib/python3.10/site-packages/kb_python/bins/linux/bustools/bustools\""
   ]
  },
  {
   "cell_type": "code",
   "execution_count": 4,
   "metadata": {},
   "outputs": [],
   "source": [
    "if not os.path.exists(sequences) or not os.path.exists(reference_genome_fasta):\n",
    "    grch37_reference_dir = os.path.join(reference_out_dir, \"ensembl_grch37_release93\")\n",
    "    reference_genome_fasta, sequences, _ = download_ensembl_reference_files(grch37_reference_dir, grch=37, ensembl_release=93)"
   ]
  },
  {
   "cell_type": "code",
   "execution_count": null,
   "metadata": {},
   "outputs": [],
   "source": [
    "if not os.path.exists(vk_ref_out_dir):\n",
    "    varseek_directory = os.path.dirname(os.path.abspath(\"\"))\n",
    "    run_vk_ref_script_path = os.path.join(varseek_directory, \"scripts\", \"run_vk_ref_cosmic.py\")\n",
    "    subprocess.run([\"python3\", run_vk_ref_script_path], check=True)\n",
    "    w, k = 47, 51"
   ]
  },
  {
   "cell_type": "code",
   "execution_count": 6,
   "metadata": {},
   "outputs": [],
   "source": [
    "mutation_metadata_df = os.path.join(vk_ref_out_dir, \"variants_updated_exploded_filtered.csv\")\n",
    "mutation_index = os.path.join(vk_ref_out_dir, \"vcrs_index.idx\")\n",
    "mutation_t2g = os.path.join(vk_ref_out_dir, \"vcrs_t2g_filtered.txt\")\n",
    "\n",
    "out_dir_vk_build = f\"{out_dir_notebook}/vk_build\"\n",
    "\n",
    "synthetic_reads_fastQ = f\"{out_dir_notebook}/synthetic_reads.fq\"\n",
    "specific_fastq_selection = f\"{out_dir_notebook}/specific_fastq_collection\"\n",
    "os.makedirs(specific_fastq_selection, exist_ok=True)\n",
    "random_reads_fastq_cdna = f\"{specific_fastq_selection}/random_reads_cdna.fq\"\n",
    "random_reads_fastq_genome = f\"{specific_fastq_selection}/random_reads_genome.fq\"\n",
    "read_df_out = f\"{out_dir_notebook}/synthetic_reads.csv\"\n",
    "mutation_metadata_df_out = f\"{out_dir_notebook}/mutation_metadata_df_updated_vk_info_exploded_with_synthetic_read_info.csv\"\n",
    "# config_file_out = f\"{out_dir_notebook}/vk_sim_config.json\"\n",
    "\n",
    "vk_count_out_dir = f\"{out_dir_notebook}/vk_count_out_dir\"\n",
    "kb_count_out = f\"{vk_count_out_dir}/kb_count_out_vcrs\"\n",
    "\n",
    "read_df = None\n",
    "mutation_metadata_df_path = mutation_metadata_df\n",
    "\n",
    "read_df_out_updated = read_df_out.replace(\".csv\", \"_updated.csv\")\n",
    "unique_mcrs_df_out = f\"{out_dir_notebook}/unique_mcrs_df.csv\"\n",
    "\n",
    "plot_output_folder = f\"{out_dir_notebook}/plots\"\n",
    "os.makedirs(plot_output_folder, exist_ok=True)\n",
    "\n",
    "read_df_did_not_exist = False\n",
    "\n",
    "current_time = datetime.now().strftime(\"%Y%m%d_%H%M%S\")\n",
    "if random_file_suffix == \"most_recent\":\n",
    "    # List and sort pickle files by filename (descending)\n",
    "    sorted_pickle_files = sorted(\n",
    "        Path(out_dir_notebook).glob(\"*.pkl\"),\n",
    "        key=lambda p: p.name,\n",
    "        reverse=True\n",
    "    )\n",
    "    if sorted_pickle_files:\n",
    "        random_file_suffix = str(sorted_pickle_files[0]).split(\"__\")[-1].split(\".\")[0]\n",
    "    else:\n",
    "        random_file_suffix = None\n",
    "if random_file_suffix is None:\n",
    "    random_file_suffix = current_time\n",
    "\n",
    "random_state_path = os.path.join(out_dir_notebook, f\"random_state__{random_file_suffix}.pkl\")\n",
    "numpy_random_state_path = os.path.join(out_dir_notebook, f\"numpy_random_state__{random_file_suffix}.pkl\")\n",
    "\n",
    "def load_in_random_states(random_state_path=None, numpy_random_state_path=None, verbose=False):\n",
    "    if random_state_path and os.path.exists(random_state_path):\n",
    "        if verbose:\n",
    "            print(f\"Loading random state from {random_state_path}\")\n",
    "        with open(random_state_path, \"rb\") as f:\n",
    "            random_state = pickle.load(f)\n",
    "            random.setstate(random_state)\n",
    "    if numpy_random_state_path and os.path.exists(numpy_random_state_path):\n",
    "        if verbose:\n",
    "            print(f\"Loading numpy random state from {numpy_random_state_path}\")\n",
    "        with open(numpy_random_state_path, \"rb\") as f:\n",
    "            numpy_random_state = pickle.load(f)\n",
    "            np.random.set_state(numpy_random_state)\n",
    "\n",
    "def save_random_states(random_state_path=None, numpy_random_state_path=None, verbose=False):\n",
    "    if random_state_path:\n",
    "        if verbose:\n",
    "            print(f\"Saving random state to {random_state_path}\")\n",
    "        with open(random_state_path, \"wb\") as f:\n",
    "            random_state = random.getstate()\n",
    "            pickle.dump(random_state, f)\n",
    "    if numpy_random_state_path:\n",
    "        if verbose:\n",
    "            print(f\"Saving numpy random state to {numpy_random_state_path}\")\n",
    "        with open(numpy_random_state_path, \"wb\") as f:\n",
    "            numpy_random_state = np.random.get_state()\n",
    "            pickle.dump(numpy_random_state, f)\n",
    "\n",
    "if seed:\n",
    "    random.seed(seed)\n",
    "    np.random.seed(seed)"
   ]
  },
  {
   "cell_type": "markdown",
   "metadata": {},
   "source": [
    "# Synthetic read FASTQ generation"
   ]
  },
  {
   "cell_type": "code",
   "execution_count": 8,
   "metadata": {},
   "outputs": [
    {
     "name": "stdout",
     "output_type": "stream",
     "text": [
      "Number of conditions: len(conditions) * len(m_list) * len(w_list) = 1092\n"
     ]
    },
    {
     "name": "stderr",
     "output_type": "stream",
     "text": [
      "/tmp/ipykernel_3685788/3058260878.py:80: DtypeWarning: Columns (11,12,13,29,30) have mixed types. Specify dtype option on import or set low_memory=False.\n",
      "  mutation_metadata_df = pd.read_csv(mutation_metadata_df_out)\n"
     ]
    }
   ],
   "source": [
    "# # uncomment for debugging\n",
    "# number_of_variants_to_sample_per_condition = 5\n",
    "# m_list = [4, 6]\n",
    "# w_list = [1, 3]\n",
    "# conditions = ['variant_type:equal=substitution']\n",
    "\n",
    "m_list = [1, 2, 3, 4, 5, 6, 7, 8, 16, 32, 64, 128, 256]\n",
    "w_list = [0, 1, 2, 3, 4, 5, 6, 7, 8, 16, 32, 64, 128, 256]\n",
    "conditions = ['variant_type:equal=substitution', 'variant_type:not_equal=substitution', 'kmer_overlap_with_other_VCRSs:is_false', 'kmer_overlap_with_other_VCRSs:is_true', 'is_near_splice_junction_10:is_false', 'is_near_splice_junction_10:is_true']\n",
    "\n",
    "number_of_conditions = len(conditions) * len(m_list) * len(w_list)\n",
    "print(f\"Number of conditions: len(conditions) * len(m_list) * len(w_list) = {number_of_conditions}\")\n",
    "\n",
    "random.shuffle(m_list)\n",
    "random.shuffle(w_list)\n",
    "\n",
    "i = 0\n",
    "first_iteration = True\n",
    "if not os.path.exists(mutation_metadata_df_out) or not os.path.exists(read_df_out):\n",
    "    read_df_did_not_exist = True\n",
    "    for mutant_sequencing_depth in m_list:\n",
    "        for wt_sequencing_depth in w_list:\n",
    "            for condition in conditions:\n",
    "                read_fq_path_specific = f\"{specific_fastq_selection}/synthetic_reads_m{mutant_sequencing_depth}_w{wt_sequencing_depth}_{condition.replace('=', '_')}.fq\"\n",
    "                condition_added_list = [condition, 'included_in_synthetic_reads:is_not_true']\n",
    "                \n",
    "                print(f\"i = {i+1} / {number_of_conditions} - mutant_sequencing_depth = {mutant_sequencing_depth}, wt_sequencing_depth = {wt_sequencing_depth}, condition = {condition}\")\n",
    "\n",
    "                load_in_random_states(random_state_path, numpy_random_state_path)\n",
    "\n",
    "                if not os.path.exists(read_fq_path_specific):\n",
    "                    simulated_df_dict = vk.sim(\n",
    "                        variants=mutation_metadata_df,\n",
    "                        reads_fastq_parent=synthetic_reads_fastQ,\n",
    "                        reads_csv_parent=read_df,\n",
    "                        number_of_variants_to_sample=number_of_variants_to_sample_per_condition,\n",
    "                        strand=strand,\n",
    "                        number_of_reads_per_variant_alt=mutant_sequencing_depth,\n",
    "                        number_of_reads_per_variant_ref=wt_sequencing_depth,\n",
    "                        k=k,\n",
    "                        w=w,\n",
    "                        read_length=read_length,\n",
    "                        seed=None,  # no need to pass in since it's set globally\n",
    "                        add_noise_sequencing_error=add_noise_sequencing_error,\n",
    "                        error_rate=error_rate,\n",
    "                        error_distribution=error_distribution,\n",
    "                        max_errors=max_errors,\n",
    "                        with_replacement=False,  # set to True if wanting to have some reads that might be identical\n",
    "                        sequences=sequences,\n",
    "                        seq_id_column=seq_id_column,\n",
    "                        var_column=var_column,\n",
    "                        var_id_column=\"header\",\n",
    "                        variant_type_column=\"vcrs_variant_type\",\n",
    "                        reference_out_dir=reference_out_dir,\n",
    "                        filters=condition_added_list,\n",
    "                        out=out_dir_notebook,\n",
    "                        reads_fastq_out=read_fq_path_specific,\n",
    "                        reads_csv_out=None,  # left as None so that I don't have to save upon each iteration - instead, I just save at the end\n",
    "                        variants_updated_csv_out=None,  # left as None so that I don't have to save upon each iteration - instead, I just save at the end\n",
    "                        make_internal_copies=False,  # since I am ok modifying the original mutation_metadata_df and read_df, I don't need to make internal copies of these\n",
    "                        filter_null_rows_from_important_cols=first_iteration  # removes this filtering step from each iteration\n",
    "                    )\n",
    "                    mutation_metadata_df, read_df = simulated_df_dict['variants'], simulated_df_dict['read_df']\n",
    "                    if first_iteration:\n",
    "                        mutation_metadata_df = mutation_metadata_df.dropna(subset=['mutant_sequence_read_parent', 'wt_sequence_read_parent'])\n",
    "                    random_state_path = os.path.join(out_dir_notebook, f\"random_state__{current_time}.pkl\")\n",
    "                    numpy_random_state_path = os.path.join(out_dir_notebook, f\"numpy_random_state__{current_time}.pkl\")\n",
    "                    save_random_states(random_state_path, numpy_random_state_path)\n",
    "                else:\n",
    "                    print(f\"File {read_fq_path_specific} already exists, skipping simulation for this condition.\")\n",
    "\n",
    "                first_iteration = False\n",
    "                print(f\"Completeted i = {i+1}/{number_of_conditions}\")\n",
    "                i += 1\n",
    "\n",
    "    read_df.to_csv(read_df_out, index=False)\n",
    "    mutation_metadata_df.to_csv(mutation_metadata_df_out, index=False)\n",
    "else:\n",
    "    read_df = pd.read_csv(read_df_out)\n",
    "    mutation_metadata_df = pd.read_csv(mutation_metadata_df_out)"
   ]
  },
  {
   "cell_type": "markdown",
   "metadata": {},
   "source": [
    "# Add portions of the reference genome and transcriptome (regions unrelated to any of the variants above)"
   ]
  },
  {
   "cell_type": "code",
   "execution_count": 10,
   "metadata": {},
   "outputs": [],
   "source": [
    "if read_df_did_not_exist:\n",
    "    if number_of_random_reads_cdna > 0:\n",
    "        read_df = build_random_genome_read_df(reference_fasta_file_path = sequences, mutation_metadata_df = mutation_metadata_df, read_df = read_df, read_df_out=read_df_out, fastq_output_path = random_reads_fastq_cdna, fastq_parent_path = synthetic_reads_fastQ, n = number_of_random_reads_cdna, read_length = read_length, input_type = \"transcriptome\", strand = strand, add_noise_sequencing_error=add_noise_sequencing_error, add_noise_base_quality=add_noise_base_quality, seed=None)  # no need to pass in since it's set globally\n",
    "    if number_of_random_reads_genome > 0:\n",
    "        read_df = build_random_genome_read_df(reference_fasta_file_path = reference_genome_fasta, mutation_metadata_df = mutation_metadata_df, read_df = read_df, read_df_out=read_df_out, fastq_output_path = random_reads_fastq_genome, fastq_parent_path = synthetic_reads_fastQ, n = number_of_random_reads_genome, read_length = read_length, input_type = \"genome\", strand = strand, add_noise_sequencing_error=add_noise_sequencing_error, add_noise_base_quality=add_noise_base_quality, seed=None)"
   ]
  },
  {
   "cell_type": "markdown",
   "metadata": {},
   "source": [
    "## Run varseek count on the synthetic data\n",
    "- Although we will not count multimapped reads in our alignment, we will run kb count with `--mm` in order to understand which reads multimapped for our own knowledge"
   ]
  },
  {
   "cell_type": "code",
   "execution_count": 12,
   "metadata": {},
   "outputs": [],
   "source": [
    "if not os.path.exists(vk_count_out_dir) or len(os.listdir(vk_count_out_dir)) == 0:\n",
    "    vk.count(\n",
    "        synthetic_reads_fastQ,\n",
    "        index=mutation_index,\n",
    "        t2g=mutation_t2g,\n",
    "        technology=\"bulk\",\n",
    "        out=vk_count_out_dir,\n",
    "        k=k,\n",
    "        threads=threads,\n",
    "        mm=True,\n",
    "        union=False,\n",
    "        num=True,\n",
    "        parity=\"single\",\n",
    "        disable_fastqpp=True,\n",
    "        disable_clean=True,\n",
    "        disable_summarize=True\n",
    "    )"
   ]
  },
  {
   "cell_type": "markdown",
   "metadata": {},
   "source": [
    "## View run_info.json to get an idea of our alignment"
   ]
  },
  {
   "cell_type": "code",
   "execution_count": 13,
   "metadata": {},
   "outputs": [
    {
     "name": "stdout",
     "output_type": "stream",
     "text": [
      "\t\"n_targets\": 5345528,\n",
      "\t\"n_processed\": 30174400,\n",
      "\t\"n_pseudoaligned\": 15554795,\n",
      "\t\"n_unique\": 15537954,\n",
      "\t\"p_pseudoaligned\": 51.5,\n",
      "\t\"p_unique\": 51.5,\n"
     ]
    }
   ],
   "source": [
    "!cat {kb_count_out}/run_info.json | grep -E '\"n_targets\"|\"n_processed\"|\"n_pseudoaligned\"|\"n_unique\"|\"p_pseudoaligned\"|\"p_unique\"'\n",
    "\n",
    "with open(f\"{kb_count_out}/run_info.json\", 'r', encoding=\"utf-8\") as f:\n",
    "    data = json.load(f)\n",
    "\n",
    "total_reads = data.get(\"n_processed\", None)\n",
    "n_pseudoaligned = data.get(\"n_pseudoaligned\", None)\n",
    "n_unique = data.get(\"n_unique\", None)\n",
    "n_multimapped = n_pseudoaligned - n_unique"
   ]
  },
  {
   "cell_type": "markdown",
   "metadata": {},
   "source": [
    "## Convert our BUS file into a dataframe that is easier to work with"
   ]
  },
  {
   "cell_type": "code",
   "execution_count": 14,
   "metadata": {},
   "outputs": [
    {
     "name": "stderr",
     "output_type": "stream",
     "text": [
      "/tmp/ipykernel_3685788/1979469476.py:5: DtypeWarning: Columns (6) have mixed types. Specify dtype option on import or set low_memory=False.\n",
      "  bus_df = pd.read_csv(bus_df_path)\n"
     ]
    }
   ],
   "source": [
    "bus_df_path = f\"{kb_count_out}/bus_df.csv\"\n",
    "if not os.path.exists(bus_df_path):\n",
    "    bus_df = make_bus_df_original(kallisto_out = kb_count_out, fastq_file_list = synthetic_reads_fastQ, t2g_file = mutation_t2g, mm = False, union = False, technology = \"bulk\", bustools = bustools)\n",
    "else:\n",
    "    bus_df = pd.read_csv(bus_df_path)\n",
    "bus_df.rename(columns={\"fastq_header\": \"read_id\"}, inplace=True)"
   ]
  },
  {
   "cell_type": "markdown",
   "metadata": {},
   "source": [
    "# Benchmarking varseek - perspective of reads"
   ]
  },
  {
   "cell_type": "markdown",
   "metadata": {},
   "source": [
    "### Check if the read aligned anywhere"
   ]
  },
  {
   "cell_type": "code",
   "execution_count": 15,
   "metadata": {},
   "outputs": [],
   "source": [
    "if not \"vcrs_variant_type\" in read_df.columns or read_df['vcrs_variant_type'].isna().values.all():\n",
    "    read_df = add_vcrs_variant_type(read_df, var_column=\"vcrs_header\")"
   ]
  },
  {
   "cell_type": "code",
   "execution_count": null,
   "metadata": {},
   "outputs": [
    {
     "name": "stdout",
     "output_type": "stream",
     "text": [
      "TP: 15542770, FP: 12020, FN: 98030, TN: 14521580\n",
      "Accuracy: 0.9963528686568747, Sensitivity: 0.9937324177791418, Specificity: 0.9991729509550283\n"
     ]
    },
    {
     "data": {
      "image/png": "[encoded data removed]",
      "text/plain": [
       "<Figure size 600x300 with 1 Axes>"
      ]
     },
     "metadata": {},
     "output_type": "display_data"
    },
    {
     "data": {
      "image/png": "[encoded data removed]",
      "text/plain": [
       "<Figure size 640x480 with 1 Axes>"
      ]
     },
     "metadata": {},
     "output_type": "display_data"
    }
   ],
   "source": [
    "aligned_ids = set(bus_df['read_id'])\n",
    "read_df['aligned_somewhere'] = read_df['read_id'].isin(aligned_ids)\n",
    "\n",
    "read_df['TP_crude'] = (read_df['mutant_read'] & read_df['aligned_somewhere'])\n",
    "read_df['FP_crude'] = (~read_df['mutant_read'] & read_df['aligned_somewhere'])\n",
    "read_df['FN_crude'] = (read_df['mutant_read'] & ~read_df['aligned_somewhere'])\n",
    "read_df['TN_crude'] = (~read_df['mutant_read'] & ~read_df['aligned_somewhere'])\n",
    "\n",
    "read_df['read_id_unique'] = read_df['read_id'] + \"_\" + read_df.index.astype(str)  # because, if I sample with replacement, some read_id's (and their matching read_header's) will be repeated\n",
    "\n",
    "metric_dictionary_reads_crude = calculate_metrics(read_df, header_name = \"read_id_unique\", check_assertions = False, crude = True, out = f\"{plot_output_folder}/reads_metrics_crude.txt\", include_FPs_and_FNs_lists_in_output=True)\n",
    "draw_confusion_matrix(metric_dictionary_reads_crude)\n",
    "\n",
    "true_set_crude = set(read_df.loc[read_df['mutant_read'], 'read_id_unique'])\n",
    "positive_set_crude = set(read_df.loc[read_df['aligned_somewhere'], 'read_id_unique'])\n",
    "# don't show mm here, because mm is counted as a TP for crude\n",
    "create_venn_diagram(true_set_crude, positive_set_crude, TN = metric_dictionary_reads_crude['TN'], mm = None, out_path = f\"{plot_output_folder}/venn_diagram_read_crude.png\")"
   ]
  },
  {
   "cell_type": "markdown",
   "metadata": {},
   "source": [
    "### Check if the read aligned to its correct VCRS\n",
    "In much of the varseek documentation, we refer to variant-containing reference sequences (VCRSs). Because COSMIC is a mutation database, we use the acronym MCRS, for mutation-containing reference sequences. We use the terms MCRS and VCRS interchangeably in the context of databases where the variants are, in fact, mutations, such as with COSMIC."
   ]
  },
  {
   "cell_type": "code",
   "execution_count": null,
   "metadata": {},
   "outputs": [],
   "source": [
    "# so that the drop_duplicates() doesn't throw an error\n",
    "bus_df['transcript_ids_list'] = bus_df['transcript_ids_list'].astype(str)\n",
    "bus_df['transcript_names_final'] = bus_df['transcript_names_final'].astype(str)\n",
    "\n",
    "# Merge read_df with bus_df on 'read_id' and 'fastq_header' to bring in 'transcript_ids_list'\n",
    "read_df = read_df.merge(bus_df[['read_id', 'transcript_ids_list', 'transcript_names_final']].drop_duplicates(), \n",
    "                          on='read_id', \n",
    "                          how='left').rename(columns={'transcript_names_final': 'mcrs_header_to_which_the_read_aligned'})\n",
    "\n",
    "read_df[\"transcript_ids_list\"] = read_df[\"transcript_ids_list\"].apply(safe_literal_eval)\n",
    "\n",
    "# Create 'multimapped' column as True if length of 'transcript_ids_list' > 1, else False\n",
    "read_df['multimapped'] = read_df['transcript_ids_list'].apply(lambda x: len(x) > 1 if isinstance(x, list) else False)\n",
    "\n",
    "read_df.drop(columns=['transcript_ids_list'], inplace=True)\n",
    "\n",
    "read_df[\"mcrs_header_to_which_the_read_aligned\"] = read_df[\"mcrs_header_to_which_the_read_aligned\"].apply(safe_literal_eval)\n",
    "\n",
    "# Convert lists to comma-separated strings, keeping NaN values as NaN\n",
    "read_df['mcrs_header_to_which_the_read_aligned'] = read_df['mcrs_header_to_which_the_read_aligned'].apply(\n",
    "    lambda x: ','.join(x) if isinstance(x, list) else x\n",
    ")"
   ]
  },
  {
   "cell_type": "code",
   "execution_count": null,
   "metadata": {},
   "outputs": [],
   "source": [
    "read_df['aligned_to_correct_mcrs'] = (read_df['vcrs_header'] == read_df['mcrs_header_to_which_the_read_aligned'])\n",
    "\n",
    "# Check if 'vcrs_id' is a substring of any item in 'mcrs_header_to_which_the_read_aligned'\n",
    "read_df['aligned_to_correct_mcrs_including_multimapped'] = read_df.apply(\n",
    "    lambda row: row['vcrs_header'] in row['mcrs_header_to_which_the_read_aligned'] \n",
    "                if isinstance(row['mcrs_header_to_which_the_read_aligned'], str) else False,\n",
    "    axis=1\n",
    ")\n",
    "\n",
    "read_df['TP'] = (read_df['mutant_read'] & read_df['aligned_to_correct_mcrs'])\n",
    "read_df['FP'] = (~read_df['mutant_read'] & read_df['aligned_somewhere'])  # same as \"FP_crude\" (because I don't care if a WT read mapped to its respective MCRS or another MCRS - either way, if it aligns anywhere, it is a FP)\n",
    "read_df['FN'] = (read_df['mutant_read'] & ~read_df['aligned_to_correct_mcrs'])\n",
    "read_df['TN'] = (~read_df['mutant_read'] & ~read_df['aligned_somewhere'])  # same as \"TN_crude\" (because I don't care if a WT read mapped to its respective MCRS or another MCRS - either way, if it aligns anywhere, it is a FP)\n",
    "\n",
    "metric_dictionary_reads = calculate_metrics(read_df, header_name = \"read_id_unique\", check_assertions = False, out = f\"{plot_output_folder}/read_metrics.txt\", include_FPs_and_FNs_lists_in_output=True)\n",
    "draw_confusion_matrix(metric_dictionary_reads)\n",
    "\n",
    "true_set = set(read_df.loc[read_df['mutant_read'], 'read_id_unique'])\n",
    "positive_set = set(read_df.loc[read_df['aligned_to_correct_mcrs'], 'read_id_unique'])\n",
    "create_venn_diagram(true_set, positive_set, TN = metric_dictionary_reads['TN'], mm = n_multimapped, out_path = f\"{plot_output_folder}/venn_diagram_read.png\")  # the FPs/TNs of this Venn will be off (it uses aligned_to_correct_mcrs instead of aligned_somewhere)\n",
    "\n",
    "# stratify by variant type\n",
    "create_stratified_metric_bar_plot(read_df, 'vcrs_variant_type', 'accuracy', overall_metric = metric_dictionary_reads_crude['accuracy'], log_x_axis = False, display_numbers = True, crude = False, out_path = f\"{plot_output_folder}/accuracy_vs_vcrs_variant_type_read_perspective.png\")"
   ]
  },
  {
   "cell_type": "markdown",
   "metadata": {},
   "source": [
    "### Check reasons for read false negatives - can take a long time for a large number of FNs "
   ]
  },
  {
   "cell_type": "code",
   "execution_count": null,
   "metadata": {},
   "outputs": [
    {
     "name": "stdout",
     "output_type": "stream",
     "text": [
      "Number of FN reads with no reasons: 0\n"
     ]
    }
   ],
   "source": [
    "read_df['reason_for_fn'] = np.nan\n",
    "\n",
    "if check_reason_for_read_fn:\n",
    "    # Loop through each row in read_df where 'FN' is True\n",
    "    for index, row in read_df.loc[read_df['FN']].iterrows():\n",
    "        reason_for_fn_sublist = []\n",
    "\n",
    "        # Get the vcrs_id from the current row in read_df\n",
    "        vcrs_id = row['vcrs_id']\n",
    "        \n",
    "        # Find the corresponding vcrs_sequence_length in mutation_metadata_df\n",
    "        matching_length = mutation_metadata_df.loc[\n",
    "            mutation_metadata_df['vcrs_id'] == vcrs_id, 'vcrs_sequence_length'\n",
    "        ]\n",
    "        \n",
    "        # Check if there's a match and if the length is less than 2*k-1\n",
    "        if not matching_length.empty and matching_length.iloc[0] < (2*k-1):\n",
    "            reason_for_fn_sublist.append(\"short_mcrs_id\")\n",
    "\n",
    "        if row['multimapped']:\n",
    "            reason_for_fn_sublist.append(\"multimapped\")\n",
    "        \n",
    "        dlist_status = mutation_metadata_df.loc[\n",
    "            mutation_metadata_df['vcrs_id'] == vcrs_id, 'alignment_to_reference'\n",
    "        ]\n",
    "\n",
    "        if not dlist_status.empty and dlist_status.iloc[0] != \"none\":\n",
    "            reason_for_fn_sublist.append(\"dlisted\")\n",
    "\n",
    "        if reason_for_fn_sublist:\n",
    "            read_df.at[index, 'reason_for_fn'] = reason_for_fn_sublist  # might be cast as a string if length == 1 (especially for first row), but this doesn't really matter for me\n",
    "\n",
    "    num_nan_reasons = read_df.loc[read_df['FN'], 'reason_for_fn'].isna().sum()\n",
    "\n",
    "    print(f\"Number of FN reads with no reasons: {num_nan_reasons}\")\n",
    "\n",
    "    # mcrs_set = set(unique_mcrs_df.loc[unique_mcrs_df['FN'] == True, 'vcrs_header'])\n",
    "    # filtered_read_df = read_df[(read_df['FN']) & (~read_df['reference_header'].isin(mcrs_set))]"
   ]
  },
  {
   "cell_type": "markdown",
   "metadata": {},
   "source": [
    "# Benchmarking varseek - perspective of reference"
   ]
  },
  {
   "cell_type": "code",
   "execution_count": null,
   "metadata": {},
   "outputs": [],
   "source": [
    "columns_to_list = [\"order\", \"alignment_to_reference_count_total\", \"is_near_splice_junction_10\", \"triplet_complexity\", \"longest_homopolymer_length\", \"vcrs_variant_type\"]\n",
    "columns_to_or = [\"included_in_synthetic_reads_mutant\",\"included_in_synthetic_reads_wt\",\"included_in_synthetic_reads\", \"any_noisy_reads\", \"any_noisy_reads_mutant\", \"any_noisy_reads_wt\"]\n",
    "columns_to_sum = [\"list_of_read_starting_indices_mutant\",\"list_of_read_starting_indices_wt\",\"number_of_reads_wt\",\"number_of_reads_mutant\",\"noisy_read_indices_mutant\",\"noisy_read_indices_wt\"]\n",
    "\n",
    "mutation_metadata_df_columns = mutation_metadata_df.columns\n",
    "columns_to_list = [col for col in columns_to_list if col in mutation_metadata_df_columns]\n",
    "columns_to_or = [col for col in columns_to_or if col in mutation_metadata_df_columns]\n",
    "columns_to_sum = [col for col in columns_to_sum if col in mutation_metadata_df_columns]\n",
    "columns_to_keep = [\"vcrs_header\"] + columns_to_list + columns_to_or + columns_to_sum\n",
    "\n",
    "columns_to_drop = []\n",
    "for col in mutation_metadata_df_columns:\n",
    "    if col not in columns_to_keep:\n",
    "        columns_to_drop.append(col)\n",
    "mutation_metadata_df.drop(columns=columns_to_drop, inplace=True)\n",
    "mutation_metadata_df_columns = mutation_metadata_df.columns\n",
    "\n",
    "for column in list(columns_to_list):\n",
    "    mutation_metadata_df[column] = mutation_metadata_df[column].apply(\n",
    "        lambda x: tuple(x) if isinstance(x, list) else x\n",
    "    )\n",
    "\n",
    "unique_mcrs_df = (\n",
    "    mutation_metadata_df.sort_values('order').groupby('vcrs_header', as_index=False)\n",
    "    .agg(\n",
    "        {**{col: list for col in list(columns_to_list)},  # list these values\n",
    "        **{col: sum for col in list(columns_to_sum)},  # Take the first value for these columns\n",
    "        **{col: np.any for col in list(columns_to_or)},  # OR these values\n",
    "        **{col: 'first' for col in mutation_metadata_df.columns if col not in columns_to_list + columns_to_or + columns_to_sum + ['vcrs_header']}}  # Take the first value for other columns\n",
    "    ).reset_index(drop=True)\n",
    ")\n",
    "\n",
    "unique_mcrs_df = unique_mcrs_df[mutation_metadata_df_columns]"
   ]
  },
  {
   "cell_type": "markdown",
   "metadata": {},
   "source": [
    "### Calculate tumor purity"
   ]
  },
  {
   "cell_type": "code",
   "execution_count": null,
   "metadata": {},
   "outputs": [],
   "source": [
    "unique_mcrs_df['tumor_purity'] = unique_mcrs_df['number_of_reads_mutant'] / (unique_mcrs_df['number_of_reads_wt'] + unique_mcrs_df['number_of_reads_mutant'])\n",
    "\n",
    "unique_mcrs_df['tumor_purity'] = np.where(\n",
    "    np.isnan(unique_mcrs_df['tumor_purity']), \n",
    "    np.nan,  # Keep NaN as NaN\n",
    "    unique_mcrs_df['tumor_purity']  # Keep the result for valid divisions\n",
    ")\n",
    "\n",
    "try:\n",
    "    unique_mcrs_df['min_distance_to_splice_junction'] = unique_mcrs_df['distance_to_nearest_splice_junction'].apply(\n",
    "        lambda x: min(x) if isinstance(x, list) and len(x) > 0 else np.nan\n",
    "    )\n",
    "except Exception as e:\n",
    "    pass"
   ]
  },
  {
   "cell_type": "markdown",
   "metadata": {},
   "source": [
    "### Use the bus df to determine the counts for each reference item"
   ]
  },
  {
   "cell_type": "code",
   "execution_count": null,
   "metadata": {},
   "outputs": [
    {
     "name": "stderr",
     "output_type": "stream",
     "text": [
      "/tmp/ipykernel_2525229/1777489771.py:4: SettingWithCopyWarning: \n",
      "A value is trying to be set on a copy of a slice from a DataFrame.\n",
      "Try using .loc[row_indexer,col_indexer] = value instead\n",
      "\n",
      "See the caveats in the documentation: https://pandas.pydata.org/pandas-docs/stable/user_guide/indexing.html#returning-a-view-versus-a-copy\n",
      "  bus_df_subset[\"transcript_names_final\"] = bus_df_subset[\"transcript_names_final\"].apply(safe_literal_eval)\n",
      "/tmp/ipykernel_2525229/1777489771.py:6: SettingWithCopyWarning: \n",
      "A value is trying to be set on a copy of a slice from a DataFrame.\n",
      "Try using .loc[row_indexer,col_indexer] = value instead\n",
      "\n",
      "See the caveats in the documentation: https://pandas.pydata.org/pandas-docs/stable/user_guide/indexing.html#returning-a-view-versus-a-copy\n",
      "  bus_df_subset['transcript_names_final'] = bus_df_subset['transcript_names_final'].apply(\n",
      "/tmp/ipykernel_2525229/1777489771.py:10: SettingWithCopyWarning: \n",
      "A value is trying to be set on a copy of a slice from a DataFrame.\n",
      "Try using .loc[row_indexer,col_indexer] = value instead\n",
      "\n",
      "See the caveats in the documentation: https://pandas.pydata.org/pandas-docs/stable/user_guide/indexing.html#returning-a-view-versus-a-copy\n",
      "  bus_df_subset['count_recorded_in_count_matrix'] = np.where(\n",
      "/tmp/ipykernel_2525229/1777489771.py:16: SettingWithCopyWarning: \n",
      "A value is trying to be set on a copy of a slice from a DataFrame\n",
      "\n",
      "See the caveats in the documentation: https://pandas.pydata.org/pandas-docs/stable/user_guide/indexing.html#returning-a-view-versus-a-copy\n",
      "  bus_df_subset.drop(columns=['counted_in_count_matrix', 'count'], inplace=True)\n"
     ]
    }
   ],
   "source": [
    "bus_df_subset = bus_df[[\"transcript_names_final\", \"counted_in_count_matrix\", \"count\"]]\n",
    "\n",
    "if isinstance(bus_df_subset['transcript_names_final'][0], str):\n",
    "    bus_df_subset[\"transcript_names_final\"] = bus_df_subset[\"transcript_names_final\"].apply(safe_literal_eval)\n",
    "\n",
    "bus_df_subset['transcript_names_final'] = bus_df_subset['transcript_names_final'].apply(\n",
    "    lambda x: x[0] if isinstance(x, list) and x else x\n",
    ")\n",
    "\n",
    "bus_df_subset['count_recorded_in_count_matrix'] = np.where(\n",
    "    bus_df_subset['counted_in_count_matrix'],  # Condition\n",
    "    bus_df_subset['count'],                   # Value if True\n",
    "    0                                  # Value if False\n",
    ")\n",
    "\n",
    "bus_df_subset.drop(columns=['counted_in_count_matrix', 'count'], inplace=True)\n",
    "\n",
    "# Group by the string representation\n",
    "bus_df_subset_grouped = bus_df_subset.groupby('transcript_names_final', as_index=False).agg({\n",
    "    'count_recorded_in_count_matrix': 'sum',\n",
    "})\n",
    "\n",
    "# # Set values in 'count' to 0 where 'counted_in_count_matrix' is False\n",
    "# bus_df_subset_grouped.loc[bus_df_subset_grouped['counted_in_count_matrix'] == False, 'count'] = 0\n",
    "\n",
    "bus_df_subset_grouped.rename(columns={\"transcript_names_final\": \"vcrs_header\", \"count_recorded_in_count_matrix\": \"number_of_reads_aligned_to_this_item\"}, inplace=True)\n",
    "\n",
    "unique_mcrs_df = unique_mcrs_df.merge(bus_df_subset_grouped, on='vcrs_header', how='left')\n",
    "unique_mcrs_df['received_an_aligned_read'] = ~pd.isna(unique_mcrs_df['number_of_reads_aligned_to_this_item'])"
   ]
  },
  {
   "cell_type": "markdown",
   "metadata": {},
   "source": [
    "Alternative way of getting the \"number_of_reads_aligned_to_this_item\" from adata, without making bus_df"
   ]
  },
  {
   "cell_type": "code",
   "execution_count": null,
   "metadata": {},
   "outputs": [],
   "source": [
    "# adata_path = f\"{kb_count_out}/counts_unfiltered/adata.h5ad\"\n",
    "# adata = ad.read_h5ad(adata_path)\n",
    "\n",
    "# # Find the indices of non-zero values in adata.X\n",
    "# non_zero_indices = np.nonzero(adata.X)\n",
    "\n",
    "# # Get the non-zero values\n",
    "# non_zero_values = np.squeeze(np.asarray(adata.X[non_zero_indices])).astype(int)\n",
    "\n",
    "# # Get the corresponding gene names\n",
    "# mcrs_ids = adata.var.index[non_zero_indices[1]].to_numpy().flatten()\n",
    "\n",
    "# mcrs_ids = mcrs_ids.astype(str)\n",
    "\n",
    "# # Create a DataFrame\n",
    "# adata_df = pd.DataFrame({\n",
    "#     'vcrs_header': mcrs_ids,\n",
    "#     'number_of_reads_aligned_to_this_item': non_zero_values\n",
    "# })\n",
    "\n",
    "# unique_mcrs_df = unique_mcrs_df.merge(adata_df, on='vcrs_header', how='left')\n",
    "# unique_mcrs_df['received_an_aligned_read'] = ~pd.isna(unique_mcrs_df['number_of_reads_aligned_to_this_item'])"
   ]
  },
  {
   "cell_type": "markdown",
   "metadata": {},
   "source": [
    "### Check if the MCRS received an alignment, regardless of whether or not it came from a read truly containing the mutation\n",
    "These are the counts that we observe in the count matrix in a real experiment, and thus what we will use as our results in further benchmarking"
   ]
  },
  {
   "cell_type": "code",
   "execution_count": null,
   "metadata": {},
   "outputs": [],
   "source": [
    "unique_mcrs_df['TP_crude'] = (unique_mcrs_df['included_in_synthetic_reads_mutant'] & unique_mcrs_df['received_an_aligned_read'])\n",
    "unique_mcrs_df['FP_crude'] = (~unique_mcrs_df['included_in_synthetic_reads_mutant'] & unique_mcrs_df['received_an_aligned_read'])\n",
    "unique_mcrs_df['FN_crude'] = (unique_mcrs_df['included_in_synthetic_reads_mutant'] & ~unique_mcrs_df['received_an_aligned_read'])\n",
    "unique_mcrs_df['TN_crude'] = (~unique_mcrs_df['included_in_synthetic_reads_mutant'] & ~unique_mcrs_df['received_an_aligned_read'])\n",
    "\n",
    "metric_dictionary_reference = calculate_metrics(unique_mcrs_df, header_name = \"vcrs_header\", check_assertions = False, crude = True, out = f\"{plot_output_folder}/reference_metrics_crude.txt\", include_FPs_and_FNs_lists_in_output=True)\n",
    "draw_confusion_matrix(metric_dictionary_reference)\n",
    "\n",
    "true_set = set(unique_mcrs_df.loc[unique_mcrs_df['included_in_synthetic_reads_mutant'], 'vcrs_header'])\n",
    "positive_set = set(unique_mcrs_df.loc[unique_mcrs_df['received_an_aligned_read'], 'vcrs_header'])\n",
    "create_venn_diagram(true_set, positive_set, TN = metric_dictionary_reference['TN'], out_path = f\"{plot_output_folder}/venn_diagram_reference_crude.png\")"
   ]
  },
  {
   "cell_type": "markdown",
   "metadata": {},
   "source": [
    "### Check if the MCRS received an alignment from a read that truly contained the mutation"
   ]
  },
  {
   "cell_type": "code",
   "execution_count": null,
   "metadata": {},
   "outputs": [],
   "source": [
    "aligned_read_df_mutant = read_df.loc[(read_df['aligned_somewhere'] == True) & (read_df['mutant_read'] == True)]\n",
    "mcrs_counts_mutant = aligned_read_df_mutant.groupby('vcrs_header').size().reset_index(name='number_of_MUTANT_reads_belonging_to_the_mcrs_item_that_aligned_somewhere')\n",
    "\n",
    "unique_mcrs_df = unique_mcrs_df.merge(mcrs_counts_mutant, on='vcrs_header', how='left')\n",
    "unique_mcrs_df['number_of_MUTANT_reads_belonging_to_the_mcrs_item_that_aligned_somewhere'] = unique_mcrs_df['number_of_MUTANT_reads_belonging_to_the_mcrs_item_that_aligned_somewhere'].fillna(0).astype(int)\n",
    "unique_mcrs_df['number_of_MUTANT_reads_belonging_to_the_mcrs_item_that_didnt_align_anywhere'] = unique_mcrs_df['number_of_reads_mutant'] - unique_mcrs_df['number_of_MUTANT_reads_belonging_to_the_mcrs_item_that_aligned_somewhere']\n",
    "\n",
    "unique_mcrs_df['mutation_expression_prediction_error'] = unique_mcrs_df['number_of_reads_aligned_to_this_item'] - unique_mcrs_df['number_of_reads_mutant']  # positive means overpredicted, negative means underpredicted\n",
    "\n",
    "\n",
    "\n",
    "\n",
    "aligned_read_df_wt = read_df.loc[(read_df['aligned_somewhere'] == True) & (read_df['wt_read'] == True)]\n",
    "mcrs_counts_wt = aligned_read_df_wt.groupby('vcrs_header').size().reset_index(name='number_of_WT_reads_belonging_to_the_mcrs_item_that_aligned_somewhere')\n",
    "\n",
    "unique_mcrs_df = unique_mcrs_df.merge(mcrs_counts_wt, on='vcrs_header', how='left')\n",
    "unique_mcrs_df['number_of_WT_reads_belonging_to_the_mcrs_item_that_aligned_somewhere'] = unique_mcrs_df['number_of_WT_reads_belonging_to_the_mcrs_item_that_aligned_somewhere'].fillna(0).astype(int)\n",
    "unique_mcrs_df['number_of_WT_reads_belonging_to_the_mcrs_item_that_didnt_align_anywhere'] = unique_mcrs_df['number_of_reads_wt'] - unique_mcrs_df['number_of_WT_reads_belonging_to_the_mcrs_item_that_aligned_somewhere']"
   ]
  },
  {
   "cell_type": "code",
   "execution_count": null,
   "metadata": {},
   "outputs": [],
   "source": [
    "# Step 1: Group by 'vcrs_header' and count 'aligned_to_correct_mcrs' (sum will count True as 1, False as 0)\n",
    "aligned_counts = read_df.groupby('vcrs_header')['aligned_to_correct_mcrs'].sum().reset_index()\n",
    "\n",
    "# Rename the column to something meaningful, like 'correct_alignment_count'\n",
    "aligned_counts.rename(columns={'aligned_to_correct_mcrs': 'number_of_reads_belonging_to_this_mcrs_item_that_mapped_here_correctly'}, inplace=True)\n",
    "\n",
    "# Step 2: Merge the counts with unique_mcrs_df on the 'vcrs_header' column\n",
    "unique_mcrs_df = pd.merge(unique_mcrs_df, aligned_counts, on='vcrs_header', how='left')\n",
    "\n",
    "# Fill NaN values with 0 in case some vcrs_header values in unique_mcrs_df do not appear in read_df\n",
    "unique_mcrs_df['number_of_reads_belonging_to_this_mcrs_item_that_mapped_here_correctly'].fillna(0, inplace=True)\n",
    "\n",
    "unique_mcrs_df['received_an_aligned_read_from_one_of_its_corresponding_reads'] = unique_mcrs_df['number_of_reads_belonging_to_this_mcrs_item_that_mapped_here_correctly'] > 0"
   ]
  },
  {
   "cell_type": "code",
   "execution_count": null,
   "metadata": {},
   "outputs": [],
   "source": [
    "# Step 1: Group by 'vcrs_header_to_which_the_read_aligned' and collect 'read_header' into lists\n",
    "reads_mapped = read_df.groupby('mcrs_header_to_which_the_read_aligned')['read_header'].apply(list).reset_index()\n",
    "\n",
    "# Rename the column to 'reads_mapped_to_this_reference_item' for clarity\n",
    "reads_mapped.rename(columns={'read_header': 'reads_mapped_to_this_reference_item'}, inplace=True)\n",
    "\n",
    "# Step 2: Merge the list of read headers with unique_mcrs_df on the 'vcrs_header' column\n",
    "unique_mcrs_df = pd.merge(unique_mcrs_df, reads_mapped, left_on='vcrs_header', right_on='mcrs_header_to_which_the_read_aligned', how='left')\n",
    "unique_mcrs_df.drop(columns='mcrs_header_to_which_the_read_aligned', inplace=True)\n",
    "\n",
    "# Fill NaN values with empty lists in case there are no matching read headers for some vcrs_header values\n",
    "unique_mcrs_df['reads_mapped_to_this_reference_item'] = unique_mcrs_df['reads_mapped_to_this_reference_item'].apply(lambda x: x if isinstance(x, list) else [])\n",
    "\n",
    "unique_mcrs_df['contained_any_MUTANT_reads_belonging_to_the_mcrs_item_that_aligned_somewhere'] = unique_mcrs_df['number_of_MUTANT_reads_belonging_to_the_mcrs_item_that_aligned_somewhere'].astype(bool)\n",
    "unique_mcrs_df['contained_any_WT_reads_belonging_to_the_mcrs_item_that_aligned_somewhere'] = unique_mcrs_df['number_of_WT_reads_belonging_to_the_mcrs_item_that_aligned_somewhere'].astype(bool)"
   ]
  },
  {
   "cell_type": "code",
   "execution_count": null,
   "metadata": {},
   "outputs": [
    {
     "name": "stdout",
     "output_type": "stream",
     "text": [
      "TP: 20, FP: 0, FN: 0, TN: 5329471\n",
      "Accuracy: 1.0, Sensitivity: 1.0, Specificity: 1.0\n",
      "Mean Expression Error: -0.05, Median Expression Error: 0.0, Mean Magnitude Expression Error: 0.05, Median Magnitude Expression Error: 0.0\n"
     ]
    },
    {
     "data": {
      "image/png": "[encoded data removed]",
      "text/plain": [
       "<Figure size 600x300 with 1 Axes>"
      ]
     },
     "metadata": {},
     "output_type": "display_data"
    },
    {
     "data": {
      "image/png": "[encoded data removed]",
      "text/plain": [
       "<Figure size 640x480 with 1 Axes>"
      ]
     },
     "metadata": {},
     "output_type": "display_data"
    }
   ],
   "source": [
    "unique_mcrs_df['TP'] = (unique_mcrs_df['included_in_synthetic_reads_mutant'] & unique_mcrs_df['received_an_aligned_read_from_one_of_its_corresponding_reads'])\n",
    "unique_mcrs_df['FP'] = (~unique_mcrs_df['included_in_synthetic_reads_mutant'] & unique_mcrs_df['received_an_aligned_read_from_one_of_its_corresponding_reads'])\n",
    "unique_mcrs_df['FN'] = (unique_mcrs_df['included_in_synthetic_reads_mutant'] & ~unique_mcrs_df['received_an_aligned_read_from_one_of_its_corresponding_reads'])\n",
    "unique_mcrs_df['TN'] = (~unique_mcrs_df['included_in_synthetic_reads_mutant'] & ~unique_mcrs_df['received_an_aligned_read_from_one_of_its_corresponding_reads'])\n",
    "\n",
    "metric_dictionary_reference = calculate_metrics(unique_mcrs_df, header_name = \"vcrs_header\", check_assertions = False, out = f\"{plot_output_folder}/reference_metrics.txt\", include_FPs_and_FNs_lists_in_output=True)\n",
    "draw_confusion_matrix(metric_dictionary_reference)\n",
    "\n",
    "true_set = set(unique_mcrs_df.loc[unique_mcrs_df['included_in_synthetic_reads_mutant'], 'vcrs_header'])\n",
    "positive_set = set(unique_mcrs_df.loc[unique_mcrs_df['received_an_aligned_read_from_one_of_its_corresponding_reads'], 'vcrs_header'])\n",
    "create_venn_diagram(true_set, positive_set, TN = metric_dictionary_reference['TN'], out_path = f\"{plot_output_folder}/venn_diagram_reference.png\")\n",
    "\n",
    "unique_mcrs_df['number_of_reads_belonging_to_this_mcrs_item_that_did_not_align_correctly'] = unique_mcrs_df['number_of_reads_mutant'] - unique_mcrs_df['number_of_reads_belonging_to_this_mcrs_item_that_mapped_here_correctly']\n",
    "unique_mcrs_df['number_of_reads_aligned_to_this_mcrs_item_that_aligned_incorrectly'] = unique_mcrs_df['number_of_reads_aligned_to_this_item'] - unique_mcrs_df['number_of_reads_belonging_to_this_mcrs_item_that_mapped_here_correctly']"
   ]
  },
  {
   "cell_type": "markdown",
   "metadata": {},
   "source": [
    "### Check reasons for reference false negatives - can take a long time for a large number of FNs "
   ]
  },
  {
   "cell_type": "code",
   "execution_count": null,
   "metadata": {},
   "outputs": [],
   "source": [
    "if check_reason_for_ref_fn:\n",
    "    unexplainable_references = 0\n",
    "    for header in metric_dictionary_reference['FNs']:\n",
    "        print(f\"Header {header}\")\n",
    "        did_not_align_anywhere = (read_df[read_df['vcrs_header'] == header])['FN_crude'].all()\n",
    "        print(f\"All did not align anywhere for {header}: {did_not_align_anywhere}\")\n",
    "        did_not_align_to_correct_position = (read_df[read_df['vcrs_header'] == header])['FN'].all()\n",
    "        print(f\"All did not align to correct mcrs for {header}: {did_not_align_to_correct_position}\")\n",
    "        multimapped = (read_df[read_df['vcrs_header'] == header])['multimapped'].all()\n",
    "        print(f\"All multimapped for {header}: {multimapped}\")\n",
    "        if not did_not_align_anywhere and not did_not_align_to_correct_position and not multimapped:\n",
    "            unexplainable_references += 1\n",
    "\n",
    "    if unexplainable_references > 0:\n",
    "        print(f\"Unexplainable references: {unexplainable_references}\")\n",
    "    else:\n",
    "        print(\"All explainable!\")"
   ]
  },
  {
   "cell_type": "markdown",
   "metadata": {},
   "source": [
    "### Rename the columns as desired and save"
   ]
  },
  {
   "cell_type": "code",
   "execution_count": null,
   "metadata": {},
   "outputs": [],
   "source": [
    "unique_mcrs_df.rename(columns={'received_an_aligned_read': 'mutation_detected_varseek', 'number_of_reads_aligned_to_this_item': 'DP_varseek', 'mutation_expression_prediction_error': 'mutation_expression_prediction_error_varseek', 'TP_crude': 'TP_varseek', 'FP_crude': 'FP_varseek', 'TN_crude': 'TN_varseek', 'FN_crude': 'FN_varseek', 'TP': 'TP_varseek_read_specific', 'FP': 'FP_varseek_read_specific', 'TN': 'TN_varseek_read_specific', 'FN': 'FN_varseek_read_specific'}, inplace=True)"
   ]
  },
  {
   "cell_type": "code",
   "execution_count": null,
   "metadata": {},
   "outputs": [],
   "source": [
    "unique_mcrs_df.to_csv(unique_mcrs_df_out, index=False)\n",
    "read_df.to_csv(read_df_out_updated, index=False)"
   ]
  }
 ],
 "metadata": {
  "kernelspec": {
   "display_name": "RLSRWP_2025",
   "language": "python",
   "name": "python3"
  },
  "language_info": {
   "codemirror_mode": {
    "name": "ipython",
    "version": 3
   },
   "file_extension": ".py",
   "mimetype": "text/x-python",
   "name": "python",
   "nbconvert_exporter": "python",
   "pygments_lexer": "ipython3",
   "version": "3.10.9"
  }
 },
 "nbformat": 4,
 "nbformat_minor": 2
}
