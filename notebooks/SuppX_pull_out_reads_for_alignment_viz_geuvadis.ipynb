{
 "cells": [
  {
   "cell_type": "markdown",
   "id": "b8a4b538-0583-45e9-91d1-eec859bae4c1",
   "metadata": {},
   "source": [
    "# Extract cancer variant reads for alignment visualization\n",
    "\n",
    "## In this notebook, we use a single RNA-seq fastq file from a melanoma cancer cell line from the the CCLE project. Learn more about the project here:\n",
    "- sequencing data (ENA): https://www.ebi.ac.uk/ena/browser/view/PRJNA523380\n",
    "- paper: https://www.nature.com/articles/s41586-019-1186-3\n",
    "\n",
    "### Requirements: kb, samtools, and bowtie2"
   ]
  },
  {
   "cell_type": "code",
   "execution_count": 10,
   "id": "9cae3de3",
   "metadata": {
    "execution": {
     "iopub.execute_input": "2025-05-06T01:53:58.807372Z",
     "iopub.status.busy": "2025-05-06T01:53:58.806898Z",
     "iopub.status.idle": "2025-05-06T01:54:01.750149Z",
     "shell.execute_reply": "2025-05-06T01:54:01.749221Z"
    }
   },
   "outputs": [],
   "source": [
    "try:\n",
    "    import varseek as vk\n",
    "except ImportError:\n",
    "    print(\"varseek not found, installing...\")\n",
    "    !pip install -U -q varseek\n",
    "try:\n",
    "    import RLSRWP_2025\n",
    "except ImportError:\n",
    "    print(\"RLSRWP_2025 not found, installing...\")\n",
    "    !pip install -q git+https://github.com/pachterlab/RLSRWP_2025.git"
   ]
  },
  {
   "cell_type": "code",
   "execution_count": 11,
   "id": "400e7db6",
   "metadata": {
    "execution": {
     "iopub.execute_input": "2025-05-06T01:54:01.754960Z",
     "iopub.status.busy": "2025-05-06T01:54:01.754559Z",
     "iopub.status.idle": "2025-05-06T01:54:01.760265Z",
     "shell.execute_reply": "2025-05-06T01:54:01.759606Z"
    }
   },
   "outputs": [],
   "source": [
    "import anndata\n",
    "import os\n",
    "import subprocess\n",
    "from datetime import datetime\n",
    "import numpy as np\n",
    "import pandas as pd\n",
    "import re\n",
    "import gget\n",
    "from requests.adapters import HTTPAdapter\n",
    "from urllib3.util.retry import Retry\n",
    "import time\n",
    "import pyfastx\n",
    "import glob\n",
    "import requests\n",
    "from collections import Counter\n",
    "import matplotlib.pyplot as plt\n",
    "import seaborn as sns\n",
    "from tqdm import tqdm\n",
    "# pd.set_option('display.max_columns', None)\n",
    "import varseek as vk\n",
    "from varseek.utils import make_bus_df, add_variant_type\n",
    "\n",
    "RLSRWP_2025_dir = os.path.dirname(os.path.abspath(\"\"))  # if this notebook resides in RLSRWP_2025/notebooks/0_data_download.ipynb, then this retrieves RLSRWP_2025\n",
    "threads = \"32\""
   ]
  },
  {
   "cell_type": "markdown",
   "id": "317e1ef9",
   "metadata": {},
   "source": [
    "### File path definitions and imports"
   ]
  },
  {
   "cell_type": "markdown",
   "id": "faacef73",
   "metadata": {},
   "source": [
    "ENST00000390312:c.218G>A       1848.0\n",
    "ENST00000336023:c.614A>G       1493.0\n",
    "ENST00000579721:c.870G>C       1464.0\n",
    "ENST00000496168:c.382G>A       1382.0\n",
    "ENST00000579721:c.41C>T        1346.0"
   ]
  },
  {
   "cell_type": "code",
   "execution_count": 12,
   "id": "b81b187a",
   "metadata": {
    "execution": {
     "iopub.execute_input": "2025-05-06T01:54:01.764671Z",
     "iopub.status.busy": "2025-05-06T01:54:01.764432Z",
     "iopub.status.idle": "2025-05-06T01:54:01.775361Z",
     "shell.execute_reply": "2025-05-06T01:54:01.774559Z"
    }
   },
   "outputs": [],
   "source": [
    "experiment_alias = \"E_GEUV_1_HG00377_1_M_120209_6\"\n",
    "notebook_out_dir = os.path.join(RLSRWP_2025_dir, \"data\", \"geuvadis_data_base\", experiment_alias, \"vk_count_out_w37_k41\")\n",
    "aligned_reads_parent_dir = os.path.join(notebook_out_dir, \"pseudoaligned_reads_to_vcrs_reference\")\n",
    "bowtie_read_alignments = os.path.join(notebook_out_dir, \"bowtie_read_alignments_modified_bam\")\n",
    "detailed_txt_out = os.path.join(notebook_out_dir, \"detailed_out_modified_bam.txt\")\n",
    "overall_txt_out = os.path.join(notebook_out_dir, \"overall_out_modified_bam.txt\")\n",
    "\n",
    "# fp df\n",
    "fp_df_path = os.path.join(RLSRWP_2025_dir, \"data\", f\"geuvadis_analysis_{experiment_alias}\", \"fp_df.parquet\")\n",
    "number_of_variants = None  # sorted by counts descending; None for all\n",
    "hgvs_df_path = os.path.join(RLSRWP_2025_dir, \"data\", \"reference\", \"geuvadis\", \"variants_transcriptome.parquet\")\n",
    "\n",
    "# vk ref out directory and files - downloaded if not already present\n",
    "vk_ref_out_dir = os.path.join(RLSRWP_2025_dir, \"data\", \"vk_ref_out_geuvadis\", \"w37_k41\")\n",
    "vcrs_index = os.path.join(vk_ref_out_dir, \"vcrs_index.idx\")\n",
    "vcrs_t2g = os.path.join(vk_ref_out_dir, \"vcrs_t2g_filtered.txt\")\n",
    "vcrs_fasta = os.path.join(vk_ref_out_dir, \"vcrs_filtered.fa\")\n",
    "\n",
    "# fastq directories - fastqs_dir downloaded if not already present, and fastqs_processed_dir created with fastp if not already present\n",
    "fastqs_dir = os.path.join(RLSRWP_2025_dir, \"data\", \"geuvadis_data_base\", experiment_alias)\n",
    "fastq_files = [os.path.join(fastqs_dir, \"ERR204838_1.fastq.gz\"), os.path.join(fastqs_dir, \"ERR204838_2.fastq.gz\")]\n",
    "fastq_file = os.path.join(fastqs_dir, \"fastqs_combined\", \"fastqs_combined.fastq.gz\")  # os.path.join(fastqs_dir, \"ERR204838_1.fastq.gz\")\n",
    "technology = \"bulk\"\n",
    "\n",
    "# reference genome directory\n",
    "reference_genome_dir = os.path.join(RLSRWP_2025_dir, \"data\", \"reference\", \"ensembl_grch37_release113\")\n",
    "reference_genome_fasta = os.path.join(reference_genome_dir, \"Homo_sapiens.GRCh37.dna.primary_assembly.fa\")  # if reference_genome_index/reference_genome_t2g do not exist, then I need to supply the reference genome fasta and gtf\n",
    "reference_genome_gtf = os.path.join(reference_genome_dir, \"Homo_sapiens.GRCh37.87.gtf\")  # if reference_genome_index/reference_genome_t2g do not exist, then I need to supply the reference genome fasta and gtf\n",
    "\n",
    "# for bowtie2 - also uses reference_genome_fasta above (I could use cdna instead of genome too if desired)\n",
    "bowtie_reference_dir = os.path.join(reference_genome_dir, \"bowtie_index_genome\")\n",
    "bowtie_reference_prefix = os.path.join(bowtie_reference_dir, \"index\")\n",
    "\n",
    "# more settings for vk count if needed\n",
    "reference_out_dir = os.path.join(RLSRWP_2025_dir, \"data\", \"reference\")\n",
    "reference_genome_index = os.path.join(reference_out_dir, \"ensembl_grch37_release113\", \"index.idx\")  # can either already exist or will be created; only used if qc_against_gene_matrix=True\n",
    "reference_genome_t2g = os.path.join(reference_out_dir, \"ensembl_grch37_release113\", \"t2g.txt\")  # can either already exist or will be created; only used if qc_against_gene_matrix=True\n",
    "geuvadis_reference_files_dir = os.path.join(reference_out_dir, \"geuvadis\")\n",
    "seq_id_column = \"transcript_ID\"\n",
    "var_column = \"variant_cdna\"\n",
    "gene_id_column = \"gene_name\"\n",
    "variants_usecols = [seq_id_column, var_column, gene_id_column]\n",
    "\n",
    "# general\n",
    "w = \"37\"  # used during creation of the index, so cannot be altered\n",
    "k = \"41\"  # used during creation of the index, so cannot be altered\n",
    "strand = \"unstranded\"\n",
    "parity = \"single\"\n",
    "mm = True\n",
    "union = True\n",
    "quality_control_fastqs = True\n",
    "qc_against_gene_matrix = False\n",
    "mistake_ratio = 0.5\n",
    "use_combined = True\n",
    "modify_bam = True  # convert 256 flag to 0\n",
    "min_counts = 2\n",
    "\n",
    "# software\n",
    "bustools = \"/home/jmrich/miniconda3/envs/varseek2/lib/python3.10/site-packages/kb_python/bins/linux/bustools/bustools\"\n",
    "bowtie2 = \"bowtie2\"\n",
    "bowtie2_build = \"bowtie2-build\"\n",
    "samtools = \"samtools\"\n",
    "email = os.environ.get(\"EMAIL\")"
   ]
  },
  {
   "cell_type": "markdown",
   "id": "492c02ce",
   "metadata": {},
   "source": [
    "### Make bowtie2 index files"
   ]
  },
  {
   "cell_type": "code",
   "execution_count": 4,
   "id": "17451c12",
   "metadata": {
    "execution": {
     "iopub.execute_input": "2025-05-06T01:54:01.779279Z",
     "iopub.status.busy": "2025-05-06T01:54:01.779042Z",
     "iopub.status.idle": "2025-05-06T01:54:01.783571Z",
     "shell.execute_reply": "2025-05-06T01:54:01.782954Z"
    }
   },
   "outputs": [],
   "source": [
    "if not os.path.exists(bowtie_reference_dir) or len(os.listdir(bowtie_reference_dir)) == 0:\n",
    "    os.makedirs(bowtie_reference_dir, exist_ok=True)\n",
    "    !{bowtie2_build} --threads {threads} {reference_genome_fasta} {bowtie_reference_prefix}"
   ]
  },
  {
   "cell_type": "markdown",
   "id": "50d1ddbe",
   "metadata": {},
   "source": [
    "### Load in FP df"
   ]
  },
  {
   "cell_type": "code",
   "execution_count": 5,
   "id": "e89d037d",
   "metadata": {
    "execution": {
     "iopub.execute_input": "2025-05-06T01:54:01.787593Z",
     "iopub.status.busy": "2025-05-06T01:54:01.787254Z",
     "iopub.status.idle": "2025-05-06T01:54:01.943795Z",
     "shell.execute_reply": "2025-05-06T01:54:01.943154Z"
    }
   },
   "outputs": [
    {
     "name": "stdout",
     "output_type": "stream",
     "text": [
      "{'ENST00000390634:c.295T>C', 'ENST00000483158:c.199G>C', 'ENST00000390243:c.506G>C', 'ENST00000279259:c.107C>T', 'ENST00000390305:c.182C>T', 'ENST00000604930:c.355C>A', 'ENST00000390297:c.268A>G', 'ENST00000390316:c.324G>A', 'ENST00000390299:c.153G>A', 'ENST00000418724:c.2002T>G', 'ENST00000331789:c.1233C>T', 'ENST00000608019:c.319G>C', 'ENST00000483158:c.195A>G', 'ENST00000311111:c.317C>T', 'ENST00000225655:c.737G>T', 'ENST00000603423:c.266G>T', 'ENST00000334828:c.895G>A', 'ENST00000479981:c.138A>G', 'ENST00000331789:c.1209G>C', 'ENST00000376630:c.761G>A', 'ENST00000390312:c.359T>C', 'ENST00000493819:c.235G>A', 'ENST00000390243:c.354C>T', 'ENST00000604045:c.227C>A', 'ENST00000390290:c.183G>A', 'ENST00000524315:c.446A>G', 'ENST00000390243:c.359T>G', 'ENST00000579721:c.605C>T', 'ENST00000604787:c.241G>T', 'ENST00000390309:c.183G>A', 'ENST00000338970:c.137A>G', 'ENST00000603600:c.183A>C', 'ENST00000374213:c.208C>T', 'ENST00000374550:c.336C>G', 'ENST00000579721:c.414G>C', 'ENST00000495489:c.196G>A', 'ENST00000390294:c.230G>A', 'ENST00000604973:c.172A>C', 'ENST00000303210:c.1388C>T', 'ENST00000227157:c.514G>T', 'ENST00000603210:c.277G>A', 'ENST00000309311:c.1226C>T', 'ENST00000496168:c.339G>C', 'ENST00000390309:c.95G>A', 'ENST00000390243:c.330G>A', 'ENST00000304921:c.404A>G', 'ENST00000354546:c.1236G>A', 'ENST00000331825:c.358T>C', 'ENST00000563769:c.953G>A', 'ENST00000390316:c.255G>A', 'ENST00000390319:c.118G>A', 'ENST00000253024:c.2471A>C', 'ENST00000603344:c.296T>G', 'ENST00000348462:c.343C>T', 'ENST00000360830:c.187T>C', 'ENST00000453673:c.105G>A', 'ENST00000390309:c.359A>G', 'ENST00000353801:c.1652G>A', 'ENST00000390290:c.195A>G', 'ENST00000390297:c.199G>A', 'ENST00000605716:c.288C>A', 'ENST00000338110:c.1336A>G', 'ENST00000390308:c.566C>T', 'ENST00000343677:c.237C>T', 'ENST00000605716:c.200A>G', 'ENST00000229239:c.1383C>T', 'ENST00000234313:c.523G>C', 'ENST00000390243:c.300A>G', 'ENST00000390299:c.269G>A', 'ENST00000483379:c.462C>T', 'ENST00000339656:c.1676G>T', 'ENST00000353801:c.1733C>T', 'ENST00000353801:c.2141C>G', 'ENST00000326294:c.831G>A', 'ENST00000579721:c.142G>A', 'ENST00000374550:c.269G>A', 'ENST00000374550:c.198C>T', 'ENST00000222247:c.357C>T', 'ENST00000343986:c.198T>C', 'ENST00000390299:c.204T>C', 'ENST00000369744:c.265C>T', 'ENST00000309828:c.727T>G', 'ENST00000562905:c.291G>A', 'ENST00000390301:c.299T>C', 'ENST00000390312:c.310A>G', 'ENST00000390319:c.217G>A', 'ENST00000483158:c.202A>C', 'ENST00000391857:c.217C>T', 'ENST00000603423:c.170T>G', 'ENST00000579721:c.453C>A', 'ENST00000603111:c.33G>T', 'ENST00000304984:c.3366G>A', 'ENST00000260379:c.266C>T', 'ENST00000311528:c.330G>A', 'ENST00000392132:c.2306T>C', 'ENST00000604930:c.149G>C', 'ENST00000274065:c.542T>C', 'ENST00000368003:c.410G>A', 'ENST00000354689:c.83C>T', 'ENST00000355731:c.36G>A', 'ENST00000344063:c.729G>A', 'ENST00000293831:c.1054C>T', 'ENST00000479981:c.183C>T', 'ENST00000229239:c.1464G>A', 'ENST00000390309:c.365C>T', 'ENST00000376802:c.576T>G', 'ENST00000229379:c.263C>A', 'ENST00000496168:c.477G>A', 'ENST00000339647:c.1158C>T', 'ENST00000332598:c.405T>C', 'ENST00000390299:c.305G>C', 'ENST00000390282:c.129G>A', 'ENST00000604973:c.200C>T', 'ENST00000366528:c.475G>A', 'ENST00000390309:c.158A>G', 'ENST00000390299:c.265A>T', 'ENST00000390270:c.213C>G', 'ENST00000390270:c.102A>G', 'ENST00000605681:c.371T>G', 'ENST00000331825:c.517G>C', 'ENST00000300289:c.556A>G', 'ENST00000603600:c.205C>A', 'ENST00000264258:c.649C>T', 'ENST00000603210:c.199G>T', 'ENST00000344063:c.812G>A', 'ENST00000390299:c.317G>T', 'ENST00000607609:c.636A>G', 'ENST00000260379:c.299G>C', 'ENST00000605716:c.210G>T', 'ENST00000335895:c.468T>C', 'ENST00000603632:c.1015A>C', 'ENST00000603423:c.137G>A', 'ENST00000307365:c.801C>T', 'ENST00000390319:c.304C>T', 'ENST00000353801:c.968A>G', 'ENST00000390298:c.256C>T', 'ENST00000390237:c.132A>G', 'ENST00000498435:c.331G>A', 'ENST00000604930:c.145G>T', 'ENST00000390299:c.228G>A', 'ENST00000483158:c.200C>T', 'ENST00000390634:c.191C>T', 'ENST00000390309:c.227G>A', 'ENST00000391857:c.367C>T', 'ENST00000390309:c.166A>G', 'ENST00000390309:c.205G>A', 'ENST00000468879:c.292A>T', 'ENST00000390312:c.218G>A', 'ENST00000483379:c.398G>T', 'ENST00000390243:c.388G>A', 'ENST00000344063:c.865G>C', 'ENST00000483379:c.318G>A', 'ENST00000390315:c.184A>G', 'ENST00000288439:c.2648A>T', 'ENST00000339647:c.2562C>T', 'ENST00000262584:c.525A>G', 'ENST00000496168:c.382G>A', 'ENST00000390319:c.119C>G', 'ENST00000307569:c.785T>C', 'ENST00000603210:c.368C>T', 'ENST00000390237:c.67C>T', 'ENST00000353801:c.2216G>A', 'ENST00000390299:c.143G>A', 'ENST00000603210:c.188T>G', 'ENST00000339647:c.1713C>T', 'ENST00000390319:c.277G>T', 'ENST00000390311:c.219T>G', 'ENST00000603111:c.46T>C', 'ENST00000390319:c.361C>T', 'ENST00000339647:c.1329A>G', 'ENST00000292644:c.1054T>C', 'ENST00000256593:c.292C>G', 'ENST00000344063:c.920C>A', 'ENST00000603210:c.209C>A', 'ENST00000296503:c.1211A>G', 'ENST00000603600:c.220C>A', 'ENST00000390331:c.99T>A', 'ENST00000339647:c.1638T>C', 'ENST00000391857:c.136G>A', 'ENST00000390290:c.360C>T', 'ENST00000229239:c.818C>A', 'ENST00000604787:c.373A>G', 'ENST00000261889:c.1459C>T', 'ENST00000390299:c.229C>T', 'ENST00000227157:c.654T>C', 'ENST00000321153:c.478C>G', 'ENST00000604930:c.397A>G', 'ENST00000390237:c.19C>G', 'ENST00000347559:c.952C>T', 'ENST00000390319:c.185A>G', 'ENST00000225655:c.745A>G', 'ENST00000342879:c.912G>A', 'ENST00000338110:c.1748C>A', 'ENST00000390237:c.249G>C', 'ENST00000390277:c.138G>A', 'ENST00000604930:c.373G>A', 'ENST00000496168:c.405G>A', 'ENST00000398603:c.377T>C', 'ENST00000393183:c.492C>T', 'ENST00000604045:c.277C>T', 'ENST00000306072:c.668G>A', 'ENST00000353801:c.2140C>T', 'ENST00000353801:c.2063T>C', 'ENST00000343139:c.271C>G', 'ENST00000229239:c.1102A>G', 'ENST00000412585:c.267G>A', 'ENST00000327892:c.957G>A', 'ENST00000196551:c.348C>A', 'ENST00000244519:c.1286C>T', 'ENST00000353801:c.709G>A', 'ENST00000301072:c.605T>C', 'ENST00000394665:c.297G>T', 'ENST00000272317:c.493T>C', 'ENST00000321358:c.768A>C', 'ENST00000311521:c.366G>A', 'ENST00000394275:c.3177C>T', 'ENST00000390309:c.195G>A', 'ENST00000604930:c.349C>T', 'ENST00000468494:c.262A>G', 'ENST00000390309:c.153G>C', 'ENST00000390319:c.261G>A', 'ENST00000266594:c.138A>C', 'ENST00000390295:c.262C>G', 'ENST00000188376:c.790T>C', 'ENST00000230050:c.472T>C', 'ENST00000604930:c.231A>G', 'ENST00000496168:c.391C>T', 'ENST00000390297:c.276C>T', 'ENST00000302182:c.575C>T', 'ENST00000479981:c.242C>T', 'ENST00000238508:c.285_286insA', 'ENST00000338110:c.1114C>T', 'ENST00000604405:c.283C>A', 'ENST00000573353:c.643C>T', 'ENST00000603619:c.354G>A', 'ENST00000321358:c.481T>C', 'ENST00000496168:c.300G>C', 'ENST00000338110:c.1396T>A', 'ENST00000390319:c.154A>C', 'ENST00000343139:c.351G>A', 'ENST00000336452:c.525T>C', 'ENST00000390282:c.273C>T', 'ENST00000390243:c.376A>C', 'ENST00000390305:c.298A>T', 'ENST00000468879:c.288C>T', 'ENST00000496168:c.328G>A', 'ENST00000374550:c.71A>G', 'ENST00000339436:c.326A>G', 'ENST00000579721:c.180C>T', 'ENST00000390312:c.365C>T', 'ENST00000309311:c.1868C>T', 'ENST00000299300:c.655G>A', 'ENST00000390321:c.143C>T', 'ENST00000390243:c.533A>T', 'ENST00000321153:c.553C>T', 'ENST00000261366:c.1933C>T', 'ENST00000356487:c.730A>G', 'ENST00000229239:c.1185A>T', 'ENST00000322535:c.2452A>G', 'ENST00000272317:c.538A>C', 'ENST00000390277:c.280C>T', 'ENST00000496168:c.306C>G', 'ENST00000390321:c.62C>T', 'ENST00000361390:c.390C>T', 'ENST00000390319:c.222A>G', 'ENST00000390309:c.355C>T', 'ENST00000390295:c.253C>T', 'ENST00000605716:c.222G>T', 'ENST00000603600:c.285G>A', 'ENST00000285848:c.1043C>G', 'ENST00000374518:c.2777A>T', 'ENST00000390312:c.275G>T', 'ENST00000253452:c.124T>C', 'ENST00000295920:c.622G>C', 'ENST00000264221:c.639T>G', 'ENST00000604045:c.177C>T', 'ENST00000390315:c.271G>A', 'ENST00000381140:c.1049C>A', 'ENST00000390277:c.325T>C', 'ENST00000390319:c.99G>C', 'ENST00000603210:c.288A>C', 'ENST00000427632:c.277T>C', 'ENST00000418115:c.934T>C', 'ENST00000390312:c.295G>T', 'ENST00000468879:c.284G>A', 'ENST00000253788:c.350C>A', 'ENST00000605760:c.29T>C', 'ENST00000331825:c.255C>T', 'ENST00000222247:c.477C>T', 'ENST00000216455:c.288A>G', 'ENST00000603111:c.38C>A', 'ENST00000390634:c.373G>A', 'ENST00000359376:c.3628A>G', 'ENST00000390319:c.347A>C', 'ENST00000604930:c.138A>C', 'ENST00000579721:c.666G>A', 'ENST00000344063:c.899C>T', 'ENST00000603423:c.344C>T', 'ENST00000299767:c.622T>C', 'ENST00000390282:c.177G>A', 'ENST00000579721:c.672C>T', 'ENST00000390319:c.385C>T', 'ENST00000295685:c.644A>G', 'ENST00000343139:c.431A>C', 'ENST00000307961:c.1155A>G', 'ENST00000258080:c.1497A>G', 'ENST00000391857:c.211C>G', 'ENST00000390290:c.299G>A', 'ENST00000390319:c.197A>G', 'ENST00000360830:c.196A>G', 'ENST00000322088:c.317C>T', 'ENST00000293373:c.2921A>C', 'ENST00000603210:c.343T>C', 'ENST00000390331:c.77G>A', 'ENST00000390319:c.204C>T', 'ENST00000579721:c.423C>T', 'ENST00000390319:c.224C>G', 'ENST00000390297:c.412T>G', 'ENST00000604412:c.415T>A', 'ENST00000229239:c.726G>A'}\n"
     ]
    },
    {
     "data": {
      "text/html": [
       "<div>\n",
       "<style scoped>\n",
       "    .dataframe tbody tr th:only-of-type {\n",
       "        vertical-align: middle;\n",
       "    }\n",
       "\n",
       "    .dataframe tbody tr th {\n",
       "        vertical-align: top;\n",
       "    }\n",
       "\n",
       "    .dataframe thead th {\n",
       "        text-align: right;\n",
       "    }\n",
       "</style>\n",
       "<table border=\"1\" class=\"dataframe\">\n",
       "  <thead>\n",
       "    <tr style=\"text-align: right;\">\n",
       "      <th></th>\n",
       "      <th>variant_count</th>\n",
       "      <th>variant_header_cds</th>\n",
       "      <th>variant_header</th>\n",
       "      <th>transcript_ID</th>\n",
       "      <th>gene</th>\n",
       "      <th>vcrs_count</th>\n",
       "      <th>gene_count</th>\n",
       "      <th>genotype</th>\n",
       "    </tr>\n",
       "    <tr>\n",
       "      <th>index</th>\n",
       "      <th></th>\n",
       "      <th></th>\n",
       "      <th></th>\n",
       "      <th></th>\n",
       "      <th></th>\n",
       "      <th></th>\n",
       "      <th></th>\n",
       "      <th></th>\n",
       "    </tr>\n",
       "  </thead>\n",
       "  <tbody>\n",
       "    <tr>\n",
       "      <th>175115</th>\n",
       "      <td>1821.0</td>\n",
       "      <td>ENST00000390312.2:c.177G&gt;A</td>\n",
       "      <td>ENST00000390312:c.218G&gt;A</td>\n",
       "      <td>ENST00000390312</td>\n",
       "      <td>ENSG00000211666</td>\n",
       "      <td>1821.0</td>\n",
       "      <td>5781.0</td>\n",
       "      <td>0.0</td>\n",
       "    </tr>\n",
       "    <tr>\n",
       "      <th>23451</th>\n",
       "      <td>1365.0</td>\n",
       "      <td>ENST00000496168.1:c.201G&gt;A</td>\n",
       "      <td>ENST00000496168:c.382G&gt;A</td>\n",
       "      <td>ENST00000496168</td>\n",
       "      <td>ENSG00000243466</td>\n",
       "      <td>1365.0</td>\n",
       "      <td>3425.0</td>\n",
       "      <td>0.0</td>\n",
       "    </tr>\n",
       "    <tr>\n",
       "      <th>58590</th>\n",
       "      <td>722.0</td>\n",
       "      <td>ENST00000579721.1:c.142G&gt;A</td>\n",
       "      <td>ENST00000579721:c.142G&gt;A</td>\n",
       "      <td>ENST00000579721</td>\n",
       "      <td>None</td>\n",
       "      <td>722.0</td>\n",
       "      <td>NaN</td>\n",
       "      <td>0.0</td>\n",
       "    </tr>\n",
       "    <tr>\n",
       "      <th>128160</th>\n",
       "      <td>267.0</td>\n",
       "      <td>ENST00000603423.1:c.87G&gt;A</td>\n",
       "      <td>ENST00000603423:c.137G&gt;A</td>\n",
       "      <td>ENST00000603423</td>\n",
       "      <td>None</td>\n",
       "      <td>267.0</td>\n",
       "      <td>NaN</td>\n",
       "      <td>0.0</td>\n",
       "    </tr>\n",
       "    <tr>\n",
       "      <th>23537</th>\n",
       "      <td>234.0</td>\n",
       "      <td>ENST00000468879.1:c.111A&gt;T</td>\n",
       "      <td>ENST00000468879:c.292A&gt;T</td>\n",
       "      <td>ENST00000468879</td>\n",
       "      <td>ENSG00000242580</td>\n",
       "      <td>234.0</td>\n",
       "      <td>7.0</td>\n",
       "      <td>0.0</td>\n",
       "    </tr>\n",
       "  </tbody>\n",
       "</table>\n",
       "</div>"
      ],
      "text/plain": [
       "        variant_count          variant_header_cds            variant_header  \\\n",
       "index                                                                         \n",
       "175115         1821.0  ENST00000390312.2:c.177G>A  ENST00000390312:c.218G>A   \n",
       "23451          1365.0  ENST00000496168.1:c.201G>A  ENST00000496168:c.382G>A   \n",
       "58590           722.0  ENST00000579721.1:c.142G>A  ENST00000579721:c.142G>A   \n",
       "128160          267.0   ENST00000603423.1:c.87G>A  ENST00000603423:c.137G>A   \n",
       "23537           234.0  ENST00000468879.1:c.111A>T  ENST00000468879:c.292A>T   \n",
       "\n",
       "          transcript_ID             gene  vcrs_count  gene_count  genotype  \n",
       "index                                                                       \n",
       "175115  ENST00000390312  ENSG00000211666      1821.0      5781.0       0.0  \n",
       "23451   ENST00000496168  ENSG00000243466      1365.0      3425.0       0.0  \n",
       "58590   ENST00000579721             None       722.0         NaN       0.0  \n",
       "128160  ENST00000603423             None       267.0         NaN       0.0  \n",
       "23537   ENST00000468879  ENSG00000242580       234.0         7.0       0.0  "
      ]
     },
     "execution_count": 5,
     "metadata": {},
     "output_type": "execute_result"
    }
   ],
   "source": [
    "fp_df = pd.read_parquet(fp_df_path)\n",
    "fp_df = fp_df.sort_values(\"vcrs_count\", ascending=False)\n",
    "if number_of_variants is not None:\n",
    "    fp_df = fp_df.head(number_of_variants)\n",
    "\n",
    "# fp_df = fp_df.set_index('variant_header')\n",
    "fps = set(fp_df['variant_header'].tolist())\n",
    "print(fps)\n",
    "fp_df.head()"
   ]
  },
  {
   "cell_type": "markdown",
   "id": "202970af",
   "metadata": {},
   "source": [
    "### Make pyfastx index files"
   ]
  },
  {
   "cell_type": "code",
   "execution_count": 6,
   "id": "4cfe6870",
   "metadata": {
    "execution": {
     "iopub.execute_input": "2025-05-06T01:54:01.949266Z",
     "iopub.status.busy": "2025-05-06T01:54:01.948753Z",
     "iopub.status.idle": "2025-05-06T01:54:01.954205Z",
     "shell.execute_reply": "2025-05-06T01:54:01.953579Z"
    }
   },
   "outputs": [],
   "source": [
    "if use_combined:\n",
    "    if not os.path.isfile(fastq_file):\n",
    "        import gzip\n",
    "        os.makedirs(os.path.dirname(fastq_file), exist_ok=True)\n",
    "        def process_and_write(input_path, output_file, file_tag):\n",
    "            with gzip.open(input_path, \"rt\") as f_in:\n",
    "                for i, line in enumerate(f_in):\n",
    "                    if i % 4 == 0 and line.startswith('@'):\n",
    "                        line = f\"@{file_tag}{line[1:]}\"  # replace @ with @fileX\n",
    "                    output_file.write(line)\n",
    "\n",
    "        with gzip.open(fastq_file, \"wt\") as f_out:\n",
    "            process_and_write(fastq_files[0], f_out, \"file1\")\n",
    "            process_and_write(fastq_files[1], f_out, \"file2\")\n",
    "else:\n",
    "    fastq_file = fastq_files[0]"
   ]
  },
  {
   "cell_type": "code",
   "execution_count": 7,
   "id": "a971147c",
   "metadata": {
    "execution": {
     "iopub.execute_input": "2025-05-06T01:54:01.958386Z",
     "iopub.status.busy": "2025-05-06T01:54:01.958108Z",
     "iopub.status.idle": "2025-05-06T01:54:02.170350Z",
     "shell.execute_reply": "2025-05-06T01:54:02.169370Z"
    }
   },
   "outputs": [],
   "source": [
    "fastq_indexed = pyfastx.Fastq(fastq_file, build_index=True)"
   ]
  },
  {
   "cell_type": "markdown",
   "id": "70df8866",
   "metadata": {},
   "source": [
    "### Perform variant screening with varseek count"
   ]
  },
  {
   "cell_type": "code",
   "execution_count": 8,
   "id": "ca71a00e",
   "metadata": {
    "execution": {
     "iopub.execute_input": "2025-05-06T01:54:02.175080Z",
     "iopub.status.busy": "2025-05-06T01:54:02.174694Z",
     "iopub.status.idle": "2025-05-06T01:54:02.180067Z",
     "shell.execute_reply": "2025-05-06T01:54:02.179447Z"
    }
   },
   "outputs": [],
   "source": [
    "kb_count_out_dir = os.path.join(notebook_out_dir, \"kb_count_out_vcrs\")\n",
    "adata_path = os.path.join(kb_count_out_dir, \"counts_unfiltered\", \"adata.h5ad\")\n",
    "\n",
    "if not os.path.exists(adata_path):\n",
    "    vk_count_output_dict = vk.count(\n",
    "        fastqs=fastq_file,\n",
    "        index=vcrs_index,\n",
    "        t2g=vcrs_t2g,\n",
    "        technology=technology,\n",
    "        out=notebook_out_dir,\n",
    "        k=k,\n",
    "        strand=strand,\n",
    "        parity=parity,\n",
    "        threads=threads,\n",
    "        mm=mm,\n",
    "        union=union,\n",
    "        disable_fastqpp=False,\n",
    "        disable_summarize=True,\n",
    "        quality_control_fastqs=True, cut_front=True, cut_tail=True,\n",
    "        qc_against_gene_matrix=qc_against_gene_matrix, reference_genome_index=reference_genome_index, reference_genome_t2g=reference_genome_t2g, mistake_ratio=mistake_ratio,\n",
    "        variants = os.path.join(geuvadis_reference_files_dir, \"variants_transcriptome.parquet\"),\n",
    "        seq_id_column=seq_id_column,\n",
    "        var_column=var_column,\n",
    "        gene_id_column=gene_id_column,\n",
    "        variants_usecols=variants_usecols,\n",
    "    )"
   ]
  },
  {
   "cell_type": "code",
   "execution_count": 9,
   "id": "f65dc807",
   "metadata": {
    "execution": {
     "iopub.execute_input": "2025-05-06T01:54:02.183669Z",
     "iopub.status.busy": "2025-05-06T01:54:02.183452Z",
     "iopub.status.idle": "2025-05-06T01:54:02.485738Z",
     "shell.execute_reply": "2025-05-06T01:54:02.484876Z"
    }
   },
   "outputs": [],
   "source": [
    "# url = \"https://grch37.rest.ensembl.org/vep/human/id\"\n",
    "# headers = {\"Content-Type\": \"application/json\"}\n",
    "\n",
    "hgvs_df = pd.read_parquet(hgvs_df_path, columns=[\"dbsnp_id\", \"transcript_ID\", \"variant_cdna\", \"strand\"])\n",
    "hgvs_df[\"header_cdna\"] = hgvs_df[\"transcript_ID\"] + \":\" + hgvs_df[\"variant_cdna\"]\n",
    "\n",
    "hgvs_df = hgvs_df.merge(fp_df, how=\"left\", left_on=\"header_cdna\", right_on=\"variant_header\", suffixes=(\"\", \"_fp\"))\n",
    "hgvs_df = hgvs_df.loc[~hgvs_df['vcrs_count'].isna()].sort_values('vcrs_count', ascending=False)  # .sort_values('vcrs_id', ascending=True)\n",
    "hgvs_df = hgvs_df.reset_index(drop=True)\n",
    "hgvs_df['vcrs_id'] = 'vcrs_' + hgvs_df.index.astype(str)\n",
    "\n",
    "hgvsc_to_vcrs_id_dict = dict(zip(hgvs_df['header_cdna'], hgvs_df['vcrs_id']))\n",
    "id_to_vcrs_header = {v: k for k, v in hgvsc_to_vcrs_id_dict.items()}"
   ]
  },
  {
   "cell_type": "code",
   "execution_count": 10,
   "id": "4b4cf90a",
   "metadata": {
    "execution": {
     "iopub.execute_input": "2025-05-06T01:54:02.490309Z",
     "iopub.status.busy": "2025-05-06T01:54:02.489954Z",
     "iopub.status.idle": "2025-05-06T01:54:02.500768Z",
     "shell.execute_reply": "2025-05-06T01:54:02.500199Z"
    }
   },
   "outputs": [
    {
     "data": {
      "text/html": [
       "<div>\n",
       "<style scoped>\n",
       "    .dataframe tbody tr th:only-of-type {\n",
       "        vertical-align: middle;\n",
       "    }\n",
       "\n",
       "    .dataframe tbody tr th {\n",
       "        vertical-align: top;\n",
       "    }\n",
       "\n",
       "    .dataframe thead th {\n",
       "        text-align: right;\n",
       "    }\n",
       "</style>\n",
       "<table border=\"1\" class=\"dataframe\">\n",
       "  <thead>\n",
       "    <tr style=\"text-align: right;\">\n",
       "      <th></th>\n",
       "      <th>variant_count</th>\n",
       "      <th>variant_header_cds</th>\n",
       "      <th>variant_header</th>\n",
       "      <th>transcript_ID</th>\n",
       "      <th>gene</th>\n",
       "      <th>vcrs_count</th>\n",
       "      <th>gene_count</th>\n",
       "      <th>genotype</th>\n",
       "    </tr>\n",
       "    <tr>\n",
       "      <th>index</th>\n",
       "      <th></th>\n",
       "      <th></th>\n",
       "      <th></th>\n",
       "      <th></th>\n",
       "      <th></th>\n",
       "      <th></th>\n",
       "      <th></th>\n",
       "      <th></th>\n",
       "    </tr>\n",
       "  </thead>\n",
       "  <tbody>\n",
       "    <tr>\n",
       "      <th>175115</th>\n",
       "      <td>1821.0</td>\n",
       "      <td>ENST00000390312.2:c.177G&gt;A</td>\n",
       "      <td>ENST00000390312:c.218G&gt;A</td>\n",
       "      <td>ENST00000390312</td>\n",
       "      <td>ENSG00000211666</td>\n",
       "      <td>1821.0</td>\n",
       "      <td>5781.0</td>\n",
       "      <td>0.0</td>\n",
       "    </tr>\n",
       "    <tr>\n",
       "      <th>23451</th>\n",
       "      <td>1365.0</td>\n",
       "      <td>ENST00000496168.1:c.201G&gt;A</td>\n",
       "      <td>ENST00000496168:c.382G&gt;A</td>\n",
       "      <td>ENST00000496168</td>\n",
       "      <td>ENSG00000243466</td>\n",
       "      <td>1365.0</td>\n",
       "      <td>3425.0</td>\n",
       "      <td>0.0</td>\n",
       "    </tr>\n",
       "    <tr>\n",
       "      <th>58590</th>\n",
       "      <td>722.0</td>\n",
       "      <td>ENST00000579721.1:c.142G&gt;A</td>\n",
       "      <td>ENST00000579721:c.142G&gt;A</td>\n",
       "      <td>ENST00000579721</td>\n",
       "      <td>None</td>\n",
       "      <td>722.0</td>\n",
       "      <td>NaN</td>\n",
       "      <td>0.0</td>\n",
       "    </tr>\n",
       "    <tr>\n",
       "      <th>128160</th>\n",
       "      <td>267.0</td>\n",
       "      <td>ENST00000603423.1:c.87G&gt;A</td>\n",
       "      <td>ENST00000603423:c.137G&gt;A</td>\n",
       "      <td>ENST00000603423</td>\n",
       "      <td>None</td>\n",
       "      <td>267.0</td>\n",
       "      <td>NaN</td>\n",
       "      <td>0.0</td>\n",
       "    </tr>\n",
       "    <tr>\n",
       "      <th>23537</th>\n",
       "      <td>234.0</td>\n",
       "      <td>ENST00000468879.1:c.111A&gt;T</td>\n",
       "      <td>ENST00000468879:c.292A&gt;T</td>\n",
       "      <td>ENST00000468879</td>\n",
       "      <td>ENSG00000242580</td>\n",
       "      <td>234.0</td>\n",
       "      <td>7.0</td>\n",
       "      <td>0.0</td>\n",
       "    </tr>\n",
       "  </tbody>\n",
       "</table>\n",
       "</div>"
      ],
      "text/plain": [
       "        variant_count          variant_header_cds            variant_header  \\\n",
       "index                                                                         \n",
       "175115         1821.0  ENST00000390312.2:c.177G>A  ENST00000390312:c.218G>A   \n",
       "23451          1365.0  ENST00000496168.1:c.201G>A  ENST00000496168:c.382G>A   \n",
       "58590           722.0  ENST00000579721.1:c.142G>A  ENST00000579721:c.142G>A   \n",
       "128160          267.0   ENST00000603423.1:c.87G>A  ENST00000603423:c.137G>A   \n",
       "23537           234.0  ENST00000468879.1:c.111A>T  ENST00000468879:c.292A>T   \n",
       "\n",
       "          transcript_ID             gene  vcrs_count  gene_count  genotype  \n",
       "index                                                                       \n",
       "175115  ENST00000390312  ENSG00000211666      1821.0      5781.0       0.0  \n",
       "23451   ENST00000496168  ENSG00000243466      1365.0      3425.0       0.0  \n",
       "58590   ENST00000579721             None       722.0         NaN       0.0  \n",
       "128160  ENST00000603423             None       267.0         NaN       0.0  \n",
       "23537   ENST00000468879  ENSG00000242580       234.0         7.0       0.0  "
      ]
     },
     "execution_count": 10,
     "metadata": {},
     "output_type": "execute_result"
    }
   ],
   "source": [
    "fp_df.head()"
   ]
  },
  {
   "cell_type": "markdown",
   "id": "661f100b",
   "metadata": {},
   "source": [
    "From dbSNP (roughly):\n",
    "ENST00000336023:c.614A>G: rs1057725 NC_000012.11:g.49522578T>C chrom12\n",
    "ENST00000390312:c.218G>A: rs3737543 NC_000022.11:g.23101523G>A chrom22\n",
    "ENST00000496168:c.382G>A: rs11546099 NC_000002.11:g.89246969C>T chrom2\n",
    "ENST00000579721:c.41C>T: rs115527405\n",
    "ENST00000579721:c.870G>C: rs114818671 NC_000006.12:g.29912149G>C chrom6"
   ]
  },
  {
   "cell_type": "markdown",
   "id": "487178cb-9825-4c23-9551-baf7a6934f9c",
   "metadata": {},
   "source": [
    "### Align (1) pulled out reads and (2) the VCRSs to the human genome to generate bam files:"
   ]
  },
  {
   "cell_type": "code",
   "execution_count": 11,
   "id": "cbb4d7f9",
   "metadata": {
    "execution": {
     "iopub.execute_input": "2025-05-06T01:54:02.505720Z",
     "iopub.status.busy": "2025-05-06T01:54:02.505400Z",
     "iopub.status.idle": "2025-05-06T01:54:02.509562Z",
     "shell.execute_reply": "2025-05-06T01:54:02.508945Z"
    }
   },
   "outputs": [],
   "source": [
    "import pysam\n",
    "\n",
    "def make_all_alignments_primary(infile_path, outfile_path):\n",
    "    infile = pysam.AlignmentFile(infile_path, \"rb\")\n",
    "    outfile = pysam.AlignmentFile(outfile_path, \"wb\", template=infile)\n",
    "\n",
    "    for read in infile:\n",
    "        read.flag = read.flag & ~256  # remove secondary flag\n",
    "        outfile.write(read)\n",
    "\n",
    "    infile.close()\n",
    "    outfile.close()"
   ]
  },
  {
   "cell_type": "code",
   "execution_count": null,
   "id": "28187021-d85a-4bd0-9892-7fd5e20e46e5",
   "metadata": {
    "execution": {
     "iopub.execute_input": "2025-05-06T01:54:02.514220Z",
     "iopub.status.busy": "2025-05-06T01:54:02.513814Z",
     "iopub.status.idle": "2025-05-06T02:25:57.007141Z",
     "shell.execute_reply": "2025-05-06T02:25:57.005195Z"
    }
   },
   "outputs": [],
   "source": [
    "revcomp_dict = {\"A\": \"T\", \"T\": \"A\", \"C\": \"G\", \"G\": \"C\", \"N\": \"N\"}\n",
    "valid_chromosomes = set([str(i) for i in range(1, 23)] + [\"X\", \"Y\", \"MT\"])\n",
    "\n",
    "retry_strategy = Retry(\n",
    "    total=5,\n",
    "    backoff_factor=1,  # Wait 1s, then 2s, then 4s, etc.\n",
    "    status_forcelist=[429, 500, 502, 503, 504],  # Retry on these status codes\n",
    "    allowed_methods=[\"GET\"]\n",
    ")\n",
    "adapter = HTTPAdapter(max_retries=retry_strategy)\n",
    "session = requests.Session()\n",
    "session.mount(\"https://\", adapter)\n",
    "session.mount(\"http://\", adapter)\n",
    "headers = {\"User-Agent\": email if email else \"Mozilla/5.0 (compatible; PythonScript/1.0)\"}\n",
    "\n",
    "true_variants = []  # varseek FP where varseek was correct\n",
    "false_variants = []  # varseek FP where varseek was incorrect\n",
    "undetermined_variants = []  # insufficient reads mapped to this point\n",
    "number_of_failed_queries = 0\n",
    "number_of_other_errors = 0\n",
    "\n",
    "open(detailed_txt_out, 'w').close()  # starts the file from scratch\n",
    "\n",
    "# Align reads to human ref using bowtie2\n",
    "variant_sam = os.path.join(notebook_out_dir, \"total_reads.sam\")\n",
    "if not os.path.isfile(variant_sam):\n",
    "    print(f\"{datetime.now().strftime('%H:%M:%S')}: Aligning to genome\")\n",
    "    subprocess.run(f\"{bowtie2} --very-sensitive -k 5 -x {bowtie_reference_prefix} --quiet -p {threads} -q {fastq_file} -S {variant_sam}\", shell=True, check=True)\n",
    "\n",
    "# Convert sam to bam\n",
    "variant_bam = os.path.join(notebook_out_dir, \"total_reads.bam\")\n",
    "if not os.path.isfile(variant_bam):\n",
    "    print(f\"{datetime.now().strftime('%H:%M:%S')}: SAM --> BAM\")\n",
    "    subprocess.run(f\"{samtools} view -bS -F4 {variant_sam} > {variant_bam}\", shell=True, check=True)\n",
    "\n",
    "# Sort bam file\n",
    "variant_bam_sorted_prefix = \"final_total_sorted_reads\"\n",
    "variant_bam_sorted = os.path.join(notebook_out_dir, variant_bam_sorted_prefix + \".bam\")\n",
    "if not os.path.isfile(variant_bam_sorted):\n",
    "    print(f\"{datetime.now().strftime('%H:%M:%S')}: BAM sort\")\n",
    "    subprocess.run(f\"{samtools} sort -o {variant_bam_sorted} {variant_bam}\", shell=True, check=True)\n",
    "\n",
    "# make all alignments primary\n",
    "if modify_bam:\n",
    "    variant_bam_sorted_modified = os.path.join(notebook_out_dir, variant_bam_sorted_prefix + \"_modified.bam\")\n",
    "    if not os.path.isfile(variant_bam_sorted_modified):\n",
    "        print(f\"{datetime.now().strftime('%H:%M:%S')}: Remove 256's\")\n",
    "        make_all_alignments_primary(variant_bam_sorted, variant_bam_sorted_modified)\n",
    "else:\n",
    "    variant_bam_sorted_modified = variant_bam_sorted\n",
    "    \n",
    "# Create an index for the sorted bam file (creates a .bai file)\n",
    "bam_index_file = os.path.join(notebook_out_dir, variant_bam_sorted_modified + \".bai\")\n",
    "if not os.path.isfile(bam_index_file):\n",
    "    print(f\"{datetime.now().strftime('%H:%M:%S')}: BAM index\")\n",
    "    subprocess.run(f\"{samtools} index {variant_bam_sorted_modified} -o {bam_index_file}\", shell=True, check=True)\n",
    "\n",
    "print(f\"{datetime.now().strftime('%H:%M:%S')}: Entering the loop\")\n",
    "for _, row in tqdm(hgvs_df.iterrows(), total=len(hgvs_df)):\n",
    "    variant = row['vcrs_id']\n",
    "    if variant not in id_to_vcrs_header:\n",
    "        continue\n",
    "    variant_header = id_to_vcrs_header[variant]\n",
    "    # print(f\"{variant} ({variant_header})\\n\")\n",
    "\n",
    "    #* new stuff\n",
    "    try:\n",
    "        hgvs_df_row = hgvs_df.loc[hgvs_df['vcrs_id'] == variant]\n",
    "        dbsnp_id = hgvs_df_row['dbsnp_id'].values[0]\n",
    "        hgvsc = hgvs_df_row['header_cdna'].values[0]\n",
    "        strand = hgvs_df_row['strand'].values[0]\n",
    "        variant_counts = hgvs_df_row['vcrs_count'].values[0]\n",
    "        if hgvsc[-2] != \">\":\n",
    "            continue  # only do this next part for substitutions to keep things simple for now\n",
    "        \n",
    "        ref_allele = hgvsc[-3].upper()\n",
    "        alt_allele = hgvsc[-1].upper()\n",
    "        \n",
    "        if strand is None:\n",
    "            transcript_id = hgvs_df_row['transcript_ID'].values[0]\n",
    "            ensembl_url = f\"https://grch37.rest.ensembl.org/lookup/id/{transcript_id}?content-type=application/json\"\n",
    "            response = requests.get(ensembl_url)\n",
    "            response.raise_for_status()\n",
    "            strand_numeric = response.json()[\"strand\"]\n",
    "            strand = \"+\" if strand_numeric == 1 else \"-\"\n",
    "        \n",
    "        if strand == \"-\":\n",
    "            ref_allele = revcomp_dict[ref_allele]\n",
    "            alt_allele = revcomp_dict[alt_allele]\n",
    "        \n",
    "        ncbi_url = f'https://grch37.rest.ensembl.org/variation/human/{dbsnp_id}?content-type=application/json'\n",
    "        # response = requests.get(ncbi_url)\n",
    "        response = session.get(ncbi_url, headers=headers, timeout=10)\n",
    "        response.raise_for_status()  # Raises an error if the request failed\n",
    "        ncbi_output = response.json()  # This is the full output as a string\n",
    "\n",
    "        for mapping in ncbi_output['mappings']:\n",
    "            chromosome = mapping['seq_region_name']\n",
    "            position = mapping['start']\n",
    "            if chromosome not in valid_chromosomes:\n",
    "                continue\n",
    "            else:\n",
    "                break\n",
    "        if chromosome not in valid_chromosomes:\n",
    "            continue\n",
    "\n",
    "        hgvsg = f\"{chromosome}:g.{position}{ref_allele}>{alt_allele}\"\n",
    "\n",
    "        # Define your command as a list\n",
    "        command = [\n",
    "            \"samtools\", \"mpileup\",\n",
    "            \"-r\", f\"{chromosome}:{position}-{position}\",\n",
    "            variant_bam_sorted_modified\n",
    "        ]\n",
    "\n",
    "        # Run and capture the output\n",
    "        result = subprocess.run(command, capture_output=True, text=True, check=True)\n",
    "\n",
    "        # Access output\n",
    "        output = result.stdout\n",
    "        if output == '':\n",
    "            observed_alleles = ''\n",
    "        else:\n",
    "            observed_alleles = output.split(\"\\t\")[4]\n",
    "    \n",
    "        total_allele_count = len(observed_alleles)\n",
    "        base_counts = Counter(observed_alleles.upper())\n",
    "\n",
    "\n",
    "        fraction_ref = base_counts[ref_allele]/total_allele_count if total_allele_count != 0 else 0\n",
    "        fraction_alt = base_counts[alt_allele]/total_allele_count if total_allele_count != 0 else 0\n",
    "        true_variant = base_counts[alt_allele] >= min_counts  # ((fraction_alt > fraction_ref) and (fraction_alt > 0.3))\n",
    "        false_variant = base_counts[ref_allele] >= min_counts and not true_variant\n",
    "            \n",
    "        if true_variant:  # >= min_counts alt alleles\n",
    "            variant_status = \"True\"\n",
    "            true_variants.append(variant_header)\n",
    "        elif false_variant:  # >= min_counts ref alleles and <min_counts alt alleles\n",
    "            variant_status = \"False\"\n",
    "            false_variants.append(variant_header)\n",
    "        else:  # <min_counts alt alleles and <min_counts ref alleles (ie insufficient read mapping)\n",
    "            variant_status = \"Undetermined\"\n",
    "            undetermined_variants.append(variant_header)\n",
    "\n",
    "        write_mode = \"a\" if os.path.isfile(detailed_txt_out) else \"w\"\n",
    "        with open(detailed_txt_out, write_mode) as f:\n",
    "            f.write(f\"{variant} | {dbsnp_id} | {hgvsc} | ({strand}) strand | {hgvsg} | {variant_counts} reported counts\\n\")\n",
    "            f.write(f\"True variant: {variant_status}\\n\")\n",
    "            f.write(f\"Observed alleles: {observed_alleles}\\n\")\n",
    "            f.write(f\"Sequencing depth: {total_allele_count}\\n\")\n",
    "            f.write(f\"Fraction of ref: {base_counts[ref_allele]}/{total_allele_count} = {fraction_ref:.2f}\\n\")\n",
    "            f.write(f\"Fraction of alt: {base_counts[alt_allele]}/{total_allele_count} = {fraction_alt:.2f}\\n\")\n",
    "            f.write(f\"Fraction of other (should be 0): {total_allele_count - base_counts[ref_allele] - base_counts[alt_allele]}/{total_allele_count} = {(total_allele_count - base_counts[ref_allele] - base_counts[alt_allele]) / total_allele_count if total_allele_count != 0 else 0:.2f}\\n\")\n",
    "            f.write(\"--------------------------------\\n\")\n",
    "    except requests.exceptions.HTTPError as e:\n",
    "        number_of_failed_queries += 1\n",
    "    except requests.exceptions.RequestException as e:\n",
    "        number_of_failed_queries += 1\n",
    "    except Exception as e:\n",
    "        number_of_other_errors += 1\n",
    "        # raise e  # can comment out if desired\n",
    "    time.sleep(0.34)\n",
    "\n",
    "    # break  # for debugging\n",
    "    \n",
    "with open(overall_txt_out, \"w\") as f:\n",
    "    f.write(f\"Number of true variants: {len(true_variants)}\\n\")\n",
    "    f.write(f\"Number of false variants: {len(false_variants)}\\n\")\n",
    "    f.write(f\"Number of undetermined variants: {len(undetermined_variants)}\\n\")\n",
    "    f.write(f\"True variants list: {true_variants}\\n\")\n",
    "    f.write(f\"False variants list: {false_variants}\\n\")\n",
    "    f.write(f\"Undetermined variants list: {undetermined_variants}\\n\")\n",
    "    f.write(f\"Number of failed queries: {number_of_failed_queries}\\n\")\n",
    "    f.write(f\"Number of other errors: {number_of_other_errors}\\n\")"
   ]
  },
  {
   "cell_type": "code",
   "execution_count": 13,
   "id": "2022e4d5",
   "metadata": {
    "execution": {
     "iopub.execute_input": "2025-05-06T02:25:57.015546Z",
     "iopub.status.busy": "2025-05-06T02:25:57.014964Z",
     "iopub.status.idle": "2025-05-06T02:25:57.787676Z",
     "shell.execute_reply": "2025-05-06T02:25:57.785772Z"
    }
   },
   "outputs": [
    {
     "name": "stdout",
     "output_type": "stream",
     "text": [
      "Number of true variants: 221\r\n",
      "Number of false variants: 97\r\n",
      "Number of undetermined variants: 1\r\n",
      "True variants list: ['ENST00000390312:c.218G>A', 'ENST00000496168:c.382G>A', 'ENST00000579721:c.142G>A', 'ENST00000603423:c.137G>A', 'ENST00000390309:c.359A>G', 'ENST00000603600:c.285G>A', 'ENST00000604412:c.415T>A', 'ENST00000483158:c.199G>C', 'ENST00000453673:c.105G>A', 'ENST00000390634:c.191C>T', 'ENST00000390309:c.195G>A', 'ENST00000603344:c.296T>G', 'ENST00000604930:c.373G>A', 'ENST00000390290:c.183G>A', 'ENST00000390319:c.261G>A', 'ENST00000390290:c.299G>A', 'ENST00000390319:c.197A>G', 'ENST00000390305:c.182C>T', 'ENST00000390299:c.228G>A', 'ENST00000496168:c.391C>T', 'ENST00000390299:c.269G>A', 'ENST00000390243:c.300A>G', 'ENST00000605716:c.222G>T', 'ENST00000468494:c.262A>G', 'ENST00000483158:c.195A>G', 'ENST00000354689:c.83C>T', 'ENST00000603600:c.205C>A', 'ENST00000483379:c.462C>T', 'ENST00000496168:c.405G>A', 'ENST00000604045:c.277C>T', 'ENST00000390319:c.99G>C', 'ENST00000390237:c.249G>C', 'ENST00000495489:c.196G>A', 'ENST00000390237:c.132A>G', 'ENST00000390237:c.67C>T', 'ENST00000390294:c.230G>A', 'ENST00000390299:c.265A>T', 'ENST00000498435:c.331G>A', 'ENST00000390282:c.273C>T', 'ENST00000604405:c.283C>A', 'ENST00000390299:c.153G>A', 'ENST00000390319:c.222A>G', 'ENST00000390243:c.330G>A', 'ENST00000483158:c.200C>T', 'ENST00000493819:c.235G>A', 'ENST00000390305:c.298A>T', 'ENST00000390319:c.118G>A', 'ENST00000603210:c.277G>A', 'ENST00000244519:c.1286C>T', 'ENST00000390634:c.373G>A', 'ENST00000604787:c.241G>T', 'ENST00000390282:c.177G>A', 'ENST00000390312:c.365C>T', 'ENST00000496168:c.339G>C', 'ENST00000390309:c.205G>A', 'ENST00000496168:c.300G>C', 'ENST00000390270:c.213C>G', 'ENST00000390297:c.199G>A', 'ENST00000390299:c.229C>T', 'ENST00000390319:c.185A>G', 'ENST00000390309:c.183G>A', 'ENST00000604787:c.373A>G', 'ENST00000479981:c.138A>G', 'ENST00000390319:c.304C>T', 'ENST00000390237:c.19C>G', 'ENST00000390315:c.271G>A', 'ENST00000339647:c.1638T>C', 'ENST00000229239:c.1102A>G', 'ENST00000331789:c.1209G>C', 'ENST00000390299:c.305G>C', 'ENST00000390634:c.295T>C', 'ENST00000390319:c.347A>C', 'ENST00000390243:c.354C>T', 'ENST00000390243:c.388G>A', 'ENST00000390321:c.143C>T', 'ENST00000361390:c.390C>T', 'ENST00000390290:c.360C>T', 'ENST00000376802:c.576T>G', 'ENST00000579721:c.672C>T', 'ENST00000390299:c.204T>C', 'ENST00000390309:c.227G>A', 'ENST00000390309:c.95G>A', 'ENST00000256593:c.292C>G', 'ENST00000390290:c.195A>G', 'ENST00000605716:c.288C>A', 'ENST00000225655:c.745A>G', 'ENST00000336452:c.525T>C', 'ENST00000339647:c.1158C>T', 'ENST00000344063:c.865G>C', 'ENST00000311528:c.330G>A', 'ENST00000260379:c.266C>T', 'ENST00000604973:c.200C>T', 'ENST00000603210:c.288A>C', 'ENST00000390308:c.566C>T', 'ENST00000390312:c.275G>T', 'ENST00000321358:c.768A>C', 'ENST00000579721:c.453C>A', 'ENST00000353801:c.1733C>T', 'ENST00000605681:c.371T>G', 'ENST00000338110:c.1396T>A', 'ENST00000390309:c.355C>T', 'ENST00000390277:c.325T>C', 'ENST00000339647:c.1329A>G', 'ENST00000390312:c.310A>G', 'ENST00000390316:c.324G>A', 'ENST00000483158:c.202A>C', 'ENST00000479981:c.242C>T', 'ENST00000390319:c.119C>G', 'ENST00000390319:c.154A>C', 'ENST00000272317:c.493T>C', 'ENST00000603210:c.343T>C', 'ENST00000604930:c.355C>A', 'ENST00000603423:c.170T>G', 'ENST00000604930:c.149G>C', 'ENST00000390331:c.77G>A', 'ENST00000524315:c.446A>G', 'ENST00000603600:c.183A>C', 'ENST00000563769:c.953G>A', 'ENST00000360830:c.196A>G', 'ENST00000222247:c.357C>T', 'ENST00000288439:c.2648A>T', 'ENST00000344063:c.899C>T', 'ENST00000390295:c.262C>G', 'ENST00000390282:c.129G>A', 'ENST00000302182:c.575C>T', 'ENST00000229239:c.726G>A', 'ENST00000339436:c.326A>G', 'ENST00000222247:c.477C>T', 'ENST00000603210:c.368C>T', 'ENST00000390319:c.361C>T', 'ENST00000390298:c.256C>T', 'ENST00000390319:c.224C>G', 'ENST00000196551:c.348C>A', 'ENST00000603423:c.266G>T', 'ENST00000603423:c.344C>T', 'ENST00000390321:c.62C>T', 'ENST00000604045:c.227C>A', 'ENST00000390297:c.268A>G', 'ENST00000603210:c.199G>T', 'ENST00000390319:c.217G>A', 'ENST00000390319:c.204C>T', 'ENST00000331825:c.255C>T', 'ENST00000393183:c.492C>T', 'ENST00000390312:c.295G>T', 'ENST00000390297:c.276C>T', 'ENST00000427632:c.277T>C', 'ENST00000390297:c.412T>G', 'ENST00000225655:c.737G>T', 'ENST00000390309:c.158A>G', 'ENST00000390309:c.166A>G', 'ENST00000374550:c.71A>G', 'ENST00000390277:c.280C>T', 'ENST00000229239:c.1464G>A', 'ENST00000301072:c.605T>C', 'ENST00000479981:c.183C>T', 'ENST00000390243:c.533A>T', 'ENST00000327892:c.957G>A', 'ENST00000339647:c.2562C>T', 'ENST00000227157:c.654T>C', 'ENST00000604930:c.397A>G', 'ENST00000374550:c.269G>A', 'ENST00000331789:c.1233C>T', 'ENST00000353801:c.709G>A', 'ENST00000390299:c.317G>T', 'ENST00000390301:c.299T>C', 'ENST00000296503:c.1211A>G', 'ENST00000274065:c.542T>C', 'ENST00000394665:c.297G>T', 'ENST00000579721:c.180C>T', 'ENST00000390295:c.253C>T', 'ENST00000579721:c.414G>C', 'ENST00000579721:c.423C>T', 'ENST00000579721:c.666G>A', 'ENST00000376630:c.761G>A', 'ENST00000353801:c.2063T>C', 'ENST00000412585:c.267G>A', 'ENST00000343139:c.351G>A', 'ENST00000353801:c.1652G>A', 'ENST00000353801:c.968A>G', 'ENST00000390299:c.143G>A', 'ENST00000603600:c.220C>A', 'ENST00000347559:c.952C>T', 'ENST00000390319:c.277G>T', 'ENST00000366528:c.475G>A', 'ENST00000258080:c.1497A>G', 'ENST00000390243:c.376A>C', 'ENST00000496168:c.477G>A', 'ENST00000418115:c.934T>C', 'ENST00000496168:c.328G>A', 'ENST00000390316:c.255G>A', 'ENST00000390315:c.184A>G', 'ENST00000483379:c.318G>A', 'ENST00000390312:c.359T>C', 'ENST00000264258:c.649C>T', 'ENST00000338970:c.137A>G', 'ENST00000390311:c.219T>G', 'ENST00000307569:c.785T>C', 'ENST00000353801:c.2216G>A', 'ENST00000266594:c.138A>C', 'ENST00000306072:c.668G>A', 'ENST00000394275:c.3177C>T', 'ENST00000562905:c.291G>A', 'ENST00000359376:c.3628A>G', 'ENST00000304984:c.3366G>A', 'ENST00000300289:c.556A>G', 'ENST00000605716:c.200A>G', 'ENST00000605716:c.210G>T', 'ENST00000603210:c.209C>A', 'ENST00000604973:c.172A>C', 'ENST00000604930:c.349C>T', 'ENST00000604930:c.231A>G', 'ENST00000604045:c.177C>T', 'ENST00000339656:c.1676G>T', 'ENST00000344063:c.812G>A', 'ENST00000573353:c.643C>T', 'ENST00000331825:c.358T>C', 'ENST00000608019:c.319G>C', 'ENST00000360830:c.187T>C', 'ENST00000309311:c.1868C>T', 'ENST00000253788:c.350C>A', 'ENST00000390331:c.99T>A']\r\n",
      "False variants list: ['ENST00000468879:c.292A>T', 'ENST00000605760:c.29T>C', 'ENST00000496168:c.306C>G', 'ENST00000468879:c.284G>A', 'ENST00000603632:c.1015A>C', 'ENST00000229239:c.1185A>T', 'ENST00000307961:c.1155A>G', 'ENST00000603210:c.188T>G', 'ENST00000579721:c.605C>T', 'ENST00000390319:c.385C>T', 'ENST00000260379:c.299G>C', 'ENST00000390277:c.138G>A', 'ENST00000321358:c.481T>C', 'ENST00000321153:c.553C>T', 'ENST00000356487:c.730A>G', 'ENST00000391857:c.217C>T', 'ENST00000344063:c.729G>A', 'ENST00000331825:c.517G>C', 'ENST00000355731:c.36G>A', 'ENST00000390309:c.365C>T', 'ENST00000338110:c.1336A>G', 'ENST00000230050:c.472T>C', 'ENST00000603111:c.46T>C', 'ENST00000295685:c.644A>G', 'ENST00000339647:c.1713C>T', 'ENST00000343139:c.431A>C', 'ENST00000374550:c.336C>G', 'ENST00000604930:c.138A>C', 'ENST00000603111:c.33G>T', 'ENST00000332598:c.405T>C', 'ENST00000261366:c.1933C>T', 'ENST00000354546:c.1236G>A', 'ENST00000335895:c.468T>C', 'ENST00000390309:c.153G>C', 'ENST00000343677:c.237C>T', 'ENST00000353801:c.2140C>T', 'ENST00000264221:c.639T>G', 'ENST00000343139:c.271C>G', 'ENST00000418724:c.2002T>G', 'ENST00000295920:c.622G>C', 'ENST00000390243:c.506G>C', 'ENST00000374213:c.208C>T', 'ENST00000369744:c.265C>T', 'ENST00000607609:c.636A>G', 'ENST00000368003:c.410G>A', 'ENST00000304921:c.404A>G', 'ENST00000272317:c.538A>C', 'ENST00000234313:c.523G>C', 'ENST00000390243:c.359T>G', 'ENST00000390270:c.102A>G', 'ENST00000483379:c.398G>T', 'ENST00000468879:c.288C>T', 'ENST00000353801:c.2141C>G', 'ENST00000311521:c.366G>A', 'ENST00000392132:c.2306T>C', 'ENST00000188376:c.790T>C', 'ENST00000299300:c.655G>A', 'ENST00000293373:c.2921A>C', 'ENST00000338110:c.1114C>T', 'ENST00000338110:c.1748C>A', 'ENST00000343986:c.198T>C', 'ENST00000253452:c.124T>C', 'ENST00000229239:c.1383C>T', 'ENST00000229239:c.818C>A', 'ENST00000261889:c.1459C>T', 'ENST00000299767:c.622T>C', 'ENST00000229379:c.263C>A', 'ENST00000381140:c.1049C>A', 'ENST00000285848:c.1043C>G', 'ENST00000216455:c.288A>G', 'ENST00000603111:c.38C>A', 'ENST00000374550:c.198C>T', 'ENST00000604930:c.145G>T', 'ENST00000398603:c.377T>C', 'ENST00000326294:c.831G>A', 'ENST00000293831:c.1054C>T', 'ENST00000374518:c.2777A>T', 'ENST00000253024:c.2471A>C', 'ENST00000344063:c.920C>A', 'ENST00000303210:c.1388C>T', 'ENST00000292644:c.1054T>C', 'ENST00000262584:c.525A>G', 'ENST00000322088:c.317C>T', 'ENST00000391857:c.367C>T', 'ENST00000348462:c.343C>T', 'ENST00000391857:c.211C>G', 'ENST00000391857:c.136G>A', 'ENST00000322535:c.2452A>G', 'ENST00000307365:c.801C>T', 'ENST00000342879:c.912G>A', 'ENST00000334828:c.895G>A', 'ENST00000321153:c.478C>G', 'ENST00000309311:c.1226C>T', 'ENST00000309828:c.727T>G', 'ENST00000311111:c.317C>T', 'ENST00000227157:c.514G>T', 'ENST00000279259:c.107C>T']\r\n",
      "Undetermined variants list: ['ENST00000603619:c.354G>A']\r\n",
      "Number of failed queries: 0\r\n",
      "Number of other errors: 0\r\n"
     ]
    }
   ],
   "source": [
    "!cat {overall_txt_out}"
   ]
  },
  {
   "cell_type": "code",
   "execution_count": 14,
   "id": "65914102",
   "metadata": {
    "execution": {
     "iopub.execute_input": "2025-05-06T02:25:57.793511Z",
     "iopub.status.busy": "2025-05-06T02:25:57.792925Z",
     "iopub.status.idle": "2025-05-06T02:25:57.800209Z",
     "shell.execute_reply": "2025-05-06T02:25:57.798724Z"
    }
   },
   "outputs": [],
   "source": [
    "# !cat {detailed_txt_out}"
   ]
  },
  {
   "cell_type": "code",
   "execution_count": 15,
   "id": "c2082507",
   "metadata": {
    "execution": {
     "iopub.execute_input": "2025-05-06T02:25:57.805332Z",
     "iopub.status.busy": "2025-05-06T02:25:57.804777Z",
     "iopub.status.idle": "2025-05-06T02:25:57.813266Z",
     "shell.execute_reply": "2025-05-06T02:25:57.811908Z"
    }
   },
   "outputs": [
    {
     "name": "stdout",
     "output_type": "stream",
     "text": [
      "Overall file:  /home/jmrich/Desktop/RLSRWP_2025/data/geuvadis_data_base/E_GEUV_1_HG00377_1_M_120209_6/vk_count_out_w37_k41/overall_out_modified_bam.txt\n",
      "Detailed file:  /home/jmrich/Desktop/RLSRWP_2025/data/geuvadis_data_base/E_GEUV_1_HG00377_1_M_120209_6/vk_count_out_w37_k41/detailed_out_modified_bam.txt\n"
     ]
    }
   ],
   "source": [
    "print(\"Overall file: \", overall_txt_out)\n",
    "print(\"Detailed file: \", detailed_txt_out)"
   ]
  },
  {
   "cell_type": "code",
   "execution_count": 32,
   "id": "32c6e63f",
   "metadata": {},
   "outputs": [
    {
     "data": {
      "image/png": "[encoded data removed]",
      "text/plain": [
       "<Figure size 640x480 with 1 Axes>"
      ]
     },
     "metadata": {},
     "output_type": "display_data"
    }
   ],
   "source": [
    "def plot_overall_bar_plot(overall_results, out_file=None):\n",
    "    # Unpack keys and values\n",
    "    labels = list(overall_results.keys())\n",
    "    values = list(overall_results.values())\n",
    "\n",
    "    # Create bar plot\n",
    "    plt.bar(labels, values)\n",
    "    plt.ylabel('Number of Variants')\n",
    "    plt.tight_layout()\n",
    "    if out_file:\n",
    "        plt.savefig(out_file, dpi=300)\n",
    "    plt.show()\n",
    "    plt.close()\n",
    "\n",
    "overall_results = {\n",
    "    \"Variant detected in reads (TP)\": 221,\n",
    "    \"Variant not detected in reads (FP)\": 97,\n",
    "    \"Insufficient read alignment (FP?)\": 1,\n",
    "}\n",
    "\n",
    "plot_overall_bar_plot(overall_results)"
   ]
  },
  {
   "cell_type": "code",
   "execution_count": null,
   "id": "3e31af28",
   "metadata": {
    "execution": {
     "iopub.execute_input": "2025-05-06T02:25:57.818594Z",
     "iopub.status.busy": "2025-05-06T02:25:57.818060Z",
     "iopub.status.idle": "2025-05-06T02:25:58.648046Z",
     "shell.execute_reply": "2025-05-06T02:25:58.646673Z"
    }
   },
   "outputs": [
    {
     "data": {
      "image/png": "[encoded data removed]",
      "text/plain": [
       "<Figure size 640x480 with 1 Axes>"
      ]
     },
     "metadata": {},
     "output_type": "display_data"
    }
   ],
   "source": [
    "def plot_overall_bar_plot(overall_results, out_file=None):\n",
    "    # Unpack keys and values\n",
    "    labels = list(overall_results.keys())\n",
    "    values = list(overall_results.values())\n",
    "\n",
    "    # Create bar plot\n",
    "    plt.bar(labels, values)\n",
    "    plt.ylabel('Number of Variants')\n",
    "    plt.tight_layout()\n",
    "    if out_file:\n",
    "        plt.savefig(out_file, dpi=300)\n",
    "    plt.show()\n",
    "    plt.close()\n",
    "\n",
    "overall_results = {\n",
    "    \"Variant detected in reads (TP)\": len(true_variants),\n",
    "    \"Variant not detected in reads (FP)\": len(false_variants),\n",
    "    \"Insufficient read alignment to variant position (FP?)\": len(undetermined_variants),\n",
    "}\n",
    "\n",
    "plot_overall_bar_plot(overall_results, out_file=overall_txt_out.replace(\".txt\", \".pdf\"))"
   ]
  },
  {
   "cell_type": "code",
   "execution_count": 17,
   "id": "9d07a595",
   "metadata": {
    "execution": {
     "iopub.execute_input": "2025-05-06T02:25:58.652816Z",
     "iopub.status.busy": "2025-05-06T02:25:58.652444Z",
     "iopub.status.idle": "2025-05-06T02:25:58.661508Z",
     "shell.execute_reply": "2025-05-06T02:25:58.660418Z"
    }
   },
   "outputs": [],
   "source": [
    "hgvs_df['true_variant'] = hgvs_df['header_cdna'].isin(set(true_variants))\n",
    "hgvs_df.loc[hgvs_df['vcrs_id'].isna(), 'true_variant'] = pd.NA  # set the rows I didn't evaluate to NA"
   ]
  },
  {
   "cell_type": "code",
   "execution_count": 18,
   "id": "719b7318",
   "metadata": {
    "execution": {
     "iopub.execute_input": "2025-05-06T02:25:58.666506Z",
     "iopub.status.busy": "2025-05-06T02:25:58.665982Z",
     "iopub.status.idle": "2025-05-06T02:26:07.037857Z",
     "shell.execute_reply": "2025-05-06T02:26:07.037070Z"
    }
   },
   "outputs": [
    {
     "data": {
      "image/png": "[encoded data removed]",
      "text/plain": [
       "<Figure size 2800x600 with 1 Axes>"
      ]
     },
     "metadata": {},
     "output_type": "display_data"
    },
    {
     "data": {
      "text/plain": [
       "<function matplotlib.pyplot.close(fig: \"None | int | str | Figure | Literal['all']\" = None) -> 'None'>"
      ]
     },
     "execution_count": 18,
     "metadata": {},
     "output_type": "execute_result"
    }
   ],
   "source": [
    "plt.figure(figsize=(28, 6))\n",
    "\n",
    "# Sort by vcrs_count\n",
    "# hgvs_df = hgvs_df.sort_values('vcrs_count', ascending=False)\n",
    "\n",
    "sns.stripplot(\n",
    "    data=hgvs_df,\n",
    "    x='header_cdna',\n",
    "    y='vcrs_count',\n",
    "    hue='true_variant',\n",
    "    dodge=False,\n",
    "    palette={True: \"blue\", False: \"orange\"},\n",
    "    size=4,\n",
    "    jitter=0.4  # spread points slightly to reduce overlap\n",
    ")\n",
    "\n",
    "plt.xticks([], [])  # Hide x-axis ticks entirely\n",
    "plt.xlabel('Variants (ordered)')\n",
    "plt.ylabel('VCRS Counts')\n",
    "plt.title('Variant Counts (True=Blue, False=Orange)')\n",
    "plt.legend(title='True Variant', loc='upper right')\n",
    "plt.tight_layout()\n",
    "\n",
    "plt.savefig(os.path.join(notebook_out_dir, \"alleged_FPs_vcrs_count_sorted.pdf\"), dpi=300)\n",
    "plt.show()\n",
    "plt.close"
   ]
  },
  {
   "cell_type": "markdown",
   "id": "22526420",
   "metadata": {},
   "source": [
    "Get the set of especially tricky gene names and save them to a file:"
   ]
  },
  {
   "cell_type": "code",
   "execution_count": 29,
   "id": "f06163d0",
   "metadata": {},
   "outputs": [
    {
     "name": "stderr",
     "output_type": "stream",
     "text": [
      "/home/jmrich/Desktop/varseek/varseek/utils/varseek_clean_utils.py:2276: DtypeWarning: Columns (4) have mixed types. Specify dtype option on import or set low_memory=False.\n",
      "  t2g_df = pd.read_csv(t2g_file, sep=\"\\t\", header=None)\n"
     ]
    },
    {
     "name": "stdout",
     "output_type": "stream",
     "text": [
      "Extra tricky FP genes: {'ENSG00000111640', 'ENST00000605760', 'ENST00000603632', 'ENSG00000242580', 'ENSG00000243466'}\n"
     ]
    }
   ],
   "source": [
    "extra_tricky_fp_threshold = 6\n",
    "\n",
    "enst_list = []\n",
    "with open(detailed_txt_out, \"r\") as f:\n",
    "    lines = f.readlines()\n",
    "\n",
    "for i in range(len(lines) - 1):  # stop at len-1 to access next line safely\n",
    "    line = lines[i].strip()\n",
    "    next_line = lines[i + 1].strip()\n",
    "\n",
    "    if not line.startswith(\"vcrs\"):\n",
    "        continue\n",
    "\n",
    "    try:\n",
    "        # Extract the reported count value (assumes '... | ... | ... | ... | ... | xxx reported counts')\n",
    "        count_str = line.split(\"|\")[-1].strip()\n",
    "        count_value = float(count_str.split()[0])\n",
    "    except Exception:\n",
    "        continue  # skip lines that don't match format\n",
    "\n",
    "    if count_value < extra_tricky_fp_threshold:\n",
    "        break\n",
    "\n",
    "    if next_line == \"True variant: False\":\n",
    "        enst_field = line.split(\"|\")[2].strip()\n",
    "        enst_id = enst_field.split(\":\")[0]\n",
    "        enst_list.append(enst_id)\n",
    "\n",
    "t2g_dict = vk.utils.make_t2g_dict(reference_genome_t2g)\n",
    "t2g_dict = {key.split(\".\")[0]: val.split(\".\")[0] for key, val in t2g_dict.items()}  # strip off the version number\n",
    "extra_tricky_fp_genes = [t2g_dict.get(enst, enst) for enst in enst_list]\n",
    "extra_tricky_fp_genes = set(extra_tricky_fp_genes)  # remove duplicates\n",
    "extra_tricky_fp_genes_txt_out = os.path.join(notebook_out_dir, \"extra_tricky_fp_genes.txt\")\n",
    "with open(extra_tricky_fp_genes_txt_out, \"w\") as f:\n",
    "    for gene in extra_tricky_fp_genes:\n",
    "        f.write(f\"{gene}\\n\")\n",
    "\n",
    "print(f\"Extra tricky FP genes: {extra_tricky_fp_genes}\")"
   ]
  },
  {
   "cell_type": "markdown",
   "id": "1cb02e32",
   "metadata": {},
   "source": [
    "### Load the files in bowtie_read_alignments into NCBI Genome workbench (or another genome viewer) to visualize the alignments (the ones with \"final_\")"
   ]
  },
  {
   "cell_type": "code",
   "execution_count": 19,
   "id": "a5478692",
   "metadata": {
    "execution": {
     "iopub.execute_input": "2025-05-06T02:26:07.044188Z",
     "iopub.status.busy": "2025-05-06T02:26:07.043920Z",
     "iopub.status.idle": "2025-05-06T02:26:07.047506Z",
     "shell.execute_reply": "2025-05-06T02:26:07.046908Z"
    }
   },
   "outputs": [],
   "source": [
    "# # vcrs0: ENST00000496168:c.382G>A: rs11546099 NC_000002.11:g.89246969C>T chrom2\n",
    "# !samtools mpileup -r 2:89246969-89246969 /data/geuvadis_data_base/E_GEUV_1_HG00377_1_M_120209_6/vk_count_out_w37_k41/bowtie_read_alignments/vcrs_0/final_vcrs_0_sorted_reads.bam"
   ]
  },
  {
   "cell_type": "code",
   "execution_count": 20,
   "id": "c3874c8f",
   "metadata": {
    "execution": {
     "iopub.execute_input": "2025-05-06T02:26:07.051453Z",
     "iopub.status.busy": "2025-05-06T02:26:07.051239Z",
     "iopub.status.idle": "2025-05-06T02:26:07.055153Z",
     "shell.execute_reply": "2025-05-06T02:26:07.054250Z"
    }
   },
   "outputs": [],
   "source": [
    "# # vcrs1: ENST00000336023:c.614A>G: rs1057725 NC_000012.11:g.49522578T>C chrom12\n",
    "# !samtools mpileup -r 12:49522578-49522578 /data/geuvadis_data_base/E_GEUV_1_HG00377_1_M_120209_6/vk_count_out_w37_k41/bowtie_read_alignments/vcrs_1/final_vcrs_1_sorted_reads.bam"
   ]
  },
  {
   "cell_type": "code",
   "execution_count": 21,
   "id": "28878db4",
   "metadata": {
    "execution": {
     "iopub.execute_input": "2025-05-06T02:26:07.059471Z",
     "iopub.status.busy": "2025-05-06T02:26:07.059078Z",
     "iopub.status.idle": "2025-05-06T02:26:07.062488Z",
     "shell.execute_reply": "2025-05-06T02:26:07.061884Z"
    }
   },
   "outputs": [],
   "source": [
    "# # vcrs3: ENST00000390312:c.218G>A: rs3737543 NC_000022.11:g.22759034G>A chrom22\n",
    "# !samtools mpileup -r 22:23101523-23101523 /data/geuvadis_data_base/E_GEUV_1_HG00377_1_M_120209_6/vk_count_out_w37_k41/bowtie_read_alignments/vcrs_3/final_vcrs_3_sorted_reads.bam"
   ]
  },
  {
   "cell_type": "code",
   "execution_count": 22,
   "id": "55e621f8",
   "metadata": {
    "execution": {
     "iopub.execute_input": "2025-05-06T02:26:07.066467Z",
     "iopub.status.busy": "2025-05-06T02:26:07.066162Z",
     "iopub.status.idle": "2025-05-06T02:26:07.069378Z",
     "shell.execute_reply": "2025-05-06T02:26:07.068752Z"
    }
   },
   "outputs": [],
   "source": [
    "# # vcrs4: ENST00000579721:c.870G>C: rs114818671 NC_000006.12:g.29912149G>C chrom6\n",
    "# !samtools mpileup -r 6:29912149-29912149 /data/geuvadis_data_base/E_GEUV_1_HG00377_1_M_120209_6/vk_count_out_w37_k41/bowtie_read_alignments/vcrs_4/final_vcrs_4_sorted_reads.bam"
   ]
  },
  {
   "cell_type": "markdown",
   "id": "1d194c06",
   "metadata": {},
   "source": [
    "## Now look at FNs - roughly the same"
   ]
  },
  {
   "cell_type": "code",
   "execution_count": null,
   "id": "05d53e42",
   "metadata": {
    "execution": {
     "iopub.execute_input": "2025-05-06T02:26:07.073379Z",
     "iopub.status.busy": "2025-05-06T02:26:07.073062Z",
     "iopub.status.idle": "2025-05-06T02:26:07.077003Z",
     "shell.execute_reply": "2025-05-06T02:26:07.076278Z"
    }
   },
   "outputs": [],
   "source": [
    "fn_txt_path = os.path.join(RLSRWP_2025_dir, \"data\", f\"geuvadis_analysis_{experiment_alias}\", \"fns.txt\")\n",
    "number_of_variants = None\n",
    "\n",
    "detailed_txt_out_fn = os.path.join(notebook_out_dir, \"detailed_out_fn_modified_bam.txt\")\n",
    "overall_txt_out_fn = os.path.join(notebook_out_dir, \"overall_out_fn_modified_bam.txt\")"
   ]
  },
  {
   "cell_type": "code",
   "execution_count": 24,
   "id": "c9675d93",
   "metadata": {
    "execution": {
     "iopub.execute_input": "2025-05-06T02:26:07.080979Z",
     "iopub.status.busy": "2025-05-06T02:26:07.080639Z",
     "iopub.status.idle": "2025-05-06T02:26:07.096512Z",
     "shell.execute_reply": "2025-05-06T02:26:07.095783Z"
    }
   },
   "outputs": [],
   "source": [
    "with open(fn_txt_path) as f:\n",
    "    fn_set = set(line.strip() for line in f)"
   ]
  },
  {
   "cell_type": "code",
   "execution_count": 25,
   "id": "6e52e86e",
   "metadata": {
    "execution": {
     "iopub.execute_input": "2025-05-06T02:26:07.100498Z",
     "iopub.status.busy": "2025-05-06T02:26:07.100178Z",
     "iopub.status.idle": "2025-05-06T02:26:07.268087Z",
     "shell.execute_reply": "2025-05-06T02:26:07.267066Z"
    }
   },
   "outputs": [],
   "source": [
    "hgvs_df = pd.read_parquet(hgvs_df_path, columns=[\"dbsnp_id\", \"transcript_ID\", \"variant_cdna\", \"strand\"])\n",
    "hgvs_df[\"header_cdna\"] = hgvs_df[\"transcript_ID\"] + \":\" + hgvs_df[\"variant_cdna\"]\n",
    "\n",
    "hgvs_df[\"is_false_negative\"] = hgvs_df[\"header_cdna\"].isin(fn_set)\n",
    "hgvs_df = hgvs_df.loc[hgvs_df['is_false_negative']]\n",
    "hgvs_df = hgvs_df.reset_index(drop=True)\n",
    "hgvs_df['vcrs_id'] = 'vcrs_' + hgvs_df.index.astype(str)\n",
    "\n",
    "hgvsc_to_vcrs_id_dict = dict(zip(hgvs_df['header_cdna'], hgvs_df['vcrs_id']))\n",
    "id_to_vcrs_header = {v: k for k, v in hgvsc_to_vcrs_id_dict.items()}"
   ]
  },
  {
   "cell_type": "code",
   "execution_count": 26,
   "id": "70b16297",
   "metadata": {
    "execution": {
     "iopub.execute_input": "2025-05-06T02:26:07.272133Z",
     "iopub.status.busy": "2025-05-06T02:26:07.271878Z",
     "iopub.status.idle": "2025-05-06T02:26:07.281537Z",
     "shell.execute_reply": "2025-05-06T02:26:07.280967Z"
    }
   },
   "outputs": [
    {
     "data": {
      "text/html": [
       "<div>\n",
       "<style scoped>\n",
       "    .dataframe tbody tr th:only-of-type {\n",
       "        vertical-align: middle;\n",
       "    }\n",
       "\n",
       "    .dataframe tbody tr th {\n",
       "        vertical-align: top;\n",
       "    }\n",
       "\n",
       "    .dataframe thead th {\n",
       "        text-align: right;\n",
       "    }\n",
       "</style>\n",
       "<table border=\"1\" class=\"dataframe\">\n",
       "  <thead>\n",
       "    <tr style=\"text-align: right;\">\n",
       "      <th></th>\n",
       "      <th>dbsnp_id</th>\n",
       "      <th>transcript_ID</th>\n",
       "      <th>variant_cdna</th>\n",
       "      <th>strand</th>\n",
       "      <th>header_cdna</th>\n",
       "      <th>is_false_negative</th>\n",
       "      <th>vcrs_id</th>\n",
       "    </tr>\n",
       "  </thead>\n",
       "  <tbody>\n",
       "    <tr>\n",
       "      <th>0</th>\n",
       "      <td>rs28507236</td>\n",
       "      <td>ENST00000379407</td>\n",
       "      <td>c.528A&gt;C</td>\n",
       "      <td>+</td>\n",
       "      <td>ENST00000379407:c.528A&gt;C</td>\n",
       "      <td>True</td>\n",
       "      <td>vcrs_0</td>\n",
       "    </tr>\n",
       "    <tr>\n",
       "      <th>1</th>\n",
       "      <td>rs3829740</td>\n",
       "      <td>ENST00000379407</td>\n",
       "      <td>c.1385G&gt;C</td>\n",
       "      <td>+</td>\n",
       "      <td>ENST00000379407:c.1385G&gt;C</td>\n",
       "      <td>True</td>\n",
       "      <td>vcrs_1</td>\n",
       "    </tr>\n",
       "    <tr>\n",
       "      <th>2</th>\n",
       "      <td>rs3829739</td>\n",
       "      <td>ENST00000379407</td>\n",
       "      <td>c.1389A&gt;G</td>\n",
       "      <td>+</td>\n",
       "      <td>ENST00000379407:c.1389A&gt;G</td>\n",
       "      <td>True</td>\n",
       "      <td>vcrs_2</td>\n",
       "    </tr>\n",
       "    <tr>\n",
       "      <th>3</th>\n",
       "      <td>rs12184</td>\n",
       "      <td>ENST00000378567</td>\n",
       "      <td>c.425T&gt;C</td>\n",
       "      <td>+</td>\n",
       "      <td>ENST00000378567:c.425T&gt;C</td>\n",
       "      <td>True</td>\n",
       "      <td>vcrs_3</td>\n",
       "    </tr>\n",
       "    <tr>\n",
       "      <th>4</th>\n",
       "      <td>rs41315312</td>\n",
       "      <td>ENST00000294600</td>\n",
       "      <td>c.211C&gt;T</td>\n",
       "      <td>+</td>\n",
       "      <td>ENST00000294600:c.211C&gt;T</td>\n",
       "      <td>True</td>\n",
       "      <td>vcrs_4</td>\n",
       "    </tr>\n",
       "  </tbody>\n",
       "</table>\n",
       "</div>"
      ],
      "text/plain": [
       "     dbsnp_id    transcript_ID variant_cdna strand                header_cdna  \\\n",
       "0  rs28507236  ENST00000379407     c.528A>C      +   ENST00000379407:c.528A>C   \n",
       "1   rs3829740  ENST00000379407    c.1385G>C      +  ENST00000379407:c.1385G>C   \n",
       "2   rs3829739  ENST00000379407    c.1389A>G      +  ENST00000379407:c.1389A>G   \n",
       "3     rs12184  ENST00000378567     c.425T>C      +   ENST00000378567:c.425T>C   \n",
       "4  rs41315312  ENST00000294600     c.211C>T      +   ENST00000294600:c.211C>T   \n",
       "\n",
       "   is_false_negative vcrs_id  \n",
       "0               True  vcrs_0  \n",
       "1               True  vcrs_1  \n",
       "2               True  vcrs_2  \n",
       "3               True  vcrs_3  \n",
       "4               True  vcrs_4  "
      ]
     },
     "execution_count": 26,
     "metadata": {},
     "output_type": "execute_result"
    }
   ],
   "source": [
    "hgvs_df.head()"
   ]
  },
  {
   "cell_type": "code",
   "execution_count": null,
   "id": "5f242007",
   "metadata": {
    "execution": {
     "iopub.execute_input": "2025-05-06T02:26:07.286502Z",
     "iopub.status.busy": "2025-05-06T02:26:07.286291Z",
     "iopub.status.idle": "2025-05-06T03:00:58.841484Z",
     "shell.execute_reply": "2025-05-06T03:00:58.839532Z"
    }
   },
   "outputs": [],
   "source": [
    "revcomp_dict = {\"A\": \"T\", \"T\": \"A\", \"C\": \"G\", \"G\": \"C\", \"N\": \"N\"}\n",
    "valid_chromosomes = set([str(i) for i in range(1, 23)] + [\"X\", \"Y\", \"MT\"])\n",
    "\n",
    "retry_strategy = Retry(\n",
    "    total=5,\n",
    "    backoff_factor=1,  # Wait 1s, then 2s, then 4s, etc.\n",
    "    status_forcelist=[429, 500, 502, 503, 504],  # Retry on these status codes\n",
    "    allowed_methods=[\"GET\"]\n",
    ")\n",
    "adapter = HTTPAdapter(max_retries=retry_strategy)\n",
    "session = requests.Session()\n",
    "session.mount(\"https://\", adapter)\n",
    "session.mount(\"http://\", adapter)\n",
    "headers = {\"User-Agent\": email if email else \"Mozilla/5.0 (compatible; PythonScript/1.0)\"}\n",
    "\n",
    "true_variants = []  # varseek FN where varseek was incorrect\n",
    "false_variants = []  # varseek FN where varseek was correct\n",
    "undetermined_variants = []  # insufficient reads mapped to this point\n",
    "number_of_failed_queries = 0\n",
    "number_of_other_errors = 0\n",
    "\n",
    "open(detailed_txt_out_fn, 'w').close()  # starts the file from scratch\n",
    "\n",
    "# Align reads to human ref using bowtie2\n",
    "variant_sam = os.path.join(notebook_out_dir, \"total_reads.sam\")\n",
    "if not os.path.isfile(variant_sam):\n",
    "    print(f\"{datetime.now().strftime('%H:%M:%S')}: Aligning to genome\")\n",
    "    subprocess.run(f\"{bowtie2} --very-sensitive -k 5 -x {bowtie_reference_prefix} --quiet -p {threads} -q {fastq_file} -S {variant_sam}\", shell=True, check=True)\n",
    "\n",
    "# Convert sam to bam\n",
    "variant_bam = os.path.join(notebook_out_dir, \"total_reads.bam\")\n",
    "if not os.path.isfile(variant_bam):\n",
    "    print(f\"{datetime.now().strftime('%H:%M:%S')}: SAM --> BAM\")\n",
    "    subprocess.run(f\"{samtools} view -bS -F4 {variant_sam} > {variant_bam}\", shell=True, check=True)\n",
    "\n",
    "# Sort bam file\n",
    "variant_bam_sorted_prefix = \"final_total_sorted_reads\"\n",
    "variant_bam_sorted = os.path.join(notebook_out_dir, variant_bam_sorted_prefix + \".bam\")\n",
    "if not os.path.isfile(variant_bam_sorted):\n",
    "    print(f\"{datetime.now().strftime('%H:%M:%S')}: BAM sort\")\n",
    "    subprocess.run(f\"{samtools} sort -o {variant_bam_sorted} {variant_bam}\", shell=True, check=True)\n",
    "\n",
    "# make all alignments primary\n",
    "if modify_bam:\n",
    "    variant_bam_sorted_modified = os.path.join(notebook_out_dir, variant_bam_sorted_prefix + \"_modified.bam\")\n",
    "    if not os.path.isfile(variant_bam_sorted_modified):\n",
    "        print(f\"{datetime.now().strftime('%H:%M:%S')}: Remove 256's\")\n",
    "        make_all_alignments_primary(variant_bam_sorted, variant_bam_sorted_modified)\n",
    "else:\n",
    "    variant_bam_sorted_modified = variant_bam_sorted\n",
    "    \n",
    "# Create an index for the sorted bam file (creates a .bai file)\n",
    "bam_index_file = os.path.join(notebook_out_dir, variant_bam_sorted_modified + \".bai\")\n",
    "if not os.path.isfile(bam_index_file):\n",
    "    print(f\"{datetime.now().strftime('%H:%M:%S')}: BAM index\")\n",
    "    subprocess.run(f\"{samtools} index {variant_bam_sorted_modified} -o {bam_index_file}\", shell=True, check=True)\n",
    "\n",
    "print(f\"{datetime.now().strftime('%H:%M:%S')}: Entering the loop\")\n",
    "for _, row in tqdm(hgvs_df.iterrows(), total=len(hgvs_df)):\n",
    "    variant = row['vcrs_id']\n",
    "    if variant not in id_to_vcrs_header:\n",
    "        continue\n",
    "    variant_header = id_to_vcrs_header[variant]\n",
    "    # print(f\"{variant} ({variant_header})\\n\")\n",
    "\n",
    "    #* new stuff\n",
    "    try:\n",
    "        dbsnp_id = row['dbsnp_id']\n",
    "        hgvsc = row['header_cdna']\n",
    "        strand = row['strand']\n",
    "        if hgvsc[-2] != \">\":\n",
    "            continue  # only do this next part for substitutions to keep things simple for now\n",
    "        \n",
    "        ref_allele = hgvsc[-3].upper()\n",
    "        alt_allele = hgvsc[-1].upper()\n",
    "        \n",
    "        if strand is None:\n",
    "            transcript_id = row['transcript_ID']\n",
    "            ensembl_url = f\"https://grch37.rest.ensembl.org/lookup/id/{transcript_id}?content-type=application/json\"\n",
    "            response = requests.get(ensembl_url)\n",
    "            response.raise_for_status()\n",
    "            strand_numeric = response.json()[\"strand\"]\n",
    "            strand = \"+\" if strand_numeric == 1 else \"-\"\n",
    "        \n",
    "        if strand == \"-\":\n",
    "            ref_allele = revcomp_dict[ref_allele]\n",
    "            alt_allele = revcomp_dict[alt_allele]\n",
    "        \n",
    "        ncbi_url = f'https://grch37.rest.ensembl.org/variation/human/{dbsnp_id}?content-type=application/json'\n",
    "        # response = requests.get(ncbi_url)\n",
    "        response = session.get(ncbi_url, headers=headers, timeout=10)\n",
    "        response.raise_for_status()  # Raises an error if the request failed\n",
    "        ncbi_output = response.json()  # This is the full output as a string\n",
    "\n",
    "        for mapping in ncbi_output['mappings']:\n",
    "            chromosome = mapping['seq_region_name']\n",
    "            position = mapping['start']\n",
    "            if chromosome not in valid_chromosomes:\n",
    "                continue\n",
    "            else:\n",
    "                break\n",
    "        if chromosome not in valid_chromosomes:\n",
    "            continue\n",
    "\n",
    "        hgvsg = f\"{chromosome}:g.{position}{ref_allele}>{alt_allele}\"\n",
    "\n",
    "        # Define your command as a list\n",
    "        command = [\n",
    "            \"samtools\", \"mpileup\",\n",
    "            \"-r\", f\"{chromosome}:{position}-{position}\",\n",
    "            variant_bam_sorted_modified\n",
    "        ]\n",
    "\n",
    "        # Run and capture the output\n",
    "        result = subprocess.run(command, capture_output=True, text=True, check=True)\n",
    "\n",
    "        # Access output\n",
    "        output = result.stdout\n",
    "        if output == '':\n",
    "            observed_alleles = ''\n",
    "        else:\n",
    "            observed_alleles = output.split(\"\\t\")[4]\n",
    "    \n",
    "        total_allele_count = len(observed_alleles)\n",
    "        base_counts = Counter(observed_alleles.upper())\n",
    "\n",
    "\n",
    "        fraction_ref = base_counts[ref_allele]/total_allele_count if total_allele_count != 0 else 0\n",
    "        fraction_alt = base_counts[alt_allele]/total_allele_count if total_allele_count != 0 else 0\n",
    "        true_variant = base_counts[alt_allele] >= min_counts  # ((fraction_alt > fraction_ref) and (fraction_alt > 0.3))\n",
    "        false_variant = base_counts[ref_allele] >= min_counts and not true_variant\n",
    "            \n",
    "        if true_variant:  # >= min_counts alt alleles\n",
    "            variant_status = \"True\"\n",
    "            true_variants.append(variant_header)\n",
    "        elif false_variant:  # >= min_counts ref alleles and <min_counts alt alleles\n",
    "            variant_status = \"False\"\n",
    "            false_variants.append(variant_header)\n",
    "        else:  # <min_counts alt alleles and <min_counts ref alleles (ie insufficient read mapping)\n",
    "            variant_status = \"Undetermined\"\n",
    "            undetermined_variants.append(variant_header)\n",
    "\n",
    "        write_mode = \"a\" if os.path.isfile(detailed_txt_out_fn) else \"w\"\n",
    "        with open(detailed_txt_out_fn, write_mode) as f:\n",
    "            f.write(f\"{variant} | {dbsnp_id} | {hgvsc} | ({strand}) strand | {hgvsg} \\n\")\n",
    "            f.write(f\"True variant: {variant_status}\\n\")\n",
    "            f.write(f\"Observed alleles: {observed_alleles}\\n\")\n",
    "            f.write(f\"Sequencing depth: {total_allele_count}\\n\")\n",
    "            f.write(f\"Fraction of ref: {base_counts[ref_allele]}/{total_allele_count} = {fraction_ref:.2f}\\n\")\n",
    "            f.write(f\"Fraction of alt: {base_counts[alt_allele]}/{total_allele_count} = {fraction_alt:.2f}\\n\")\n",
    "            f.write(f\"Fraction of other (should be 0): {total_allele_count - base_counts[ref_allele] - base_counts[alt_allele]}/{total_allele_count} = {(total_allele_count - base_counts[ref_allele] - base_counts[alt_allele]) / total_allele_count if total_allele_count != 0 else 0:.2f}\\n\")\n",
    "            f.write(\"--------------------------------\\n\")\n",
    "    except requests.exceptions.HTTPError as e:\n",
    "        number_of_failed_queries += 1\n",
    "    except requests.exceptions.RequestException as e:\n",
    "        number_of_failed_queries += 1\n",
    "    except Exception as e:\n",
    "        number_of_other_errors += 1\n",
    "        # raise e  # can comment out if desired\n",
    "    time.sleep(0.34)\n",
    "\n",
    "    # break  # for debugging\n",
    "    \n",
    "with open(overall_txt_out_fn, \"w\") as f:\n",
    "    f.write(f\"Number of true variants: {len(true_variants)}\\n\")\n",
    "    f.write(f\"Number of false variants: {len(false_variants)}\\n\")\n",
    "    f.write(f\"Number of undetermined variants: {len(undetermined_variants)}\\n\")\n",
    "    f.write(f\"True variants list: {true_variants}\\n\")\n",
    "    f.write(f\"False variants list: {false_variants}\\n\")\n",
    "    f.write(f\"Undetermined variants list: {undetermined_variants}\\n\")\n",
    "    f.write(f\"Number of failed queries: {number_of_failed_queries}\\n\")\n",
    "    f.write(f\"Number of other errors: {number_of_other_errors}\\n\")"
   ]
  },
  {
   "cell_type": "code",
   "execution_count": 28,
   "id": "fe353bd7",
   "metadata": {
    "execution": {
     "iopub.execute_input": "2025-05-06T03:00:58.848507Z",
     "iopub.status.busy": "2025-05-06T03:00:58.847914Z",
     "iopub.status.idle": "2025-05-06T03:00:59.639250Z",
     "shell.execute_reply": "2025-05-06T03:00:59.637417Z"
    }
   },
   "outputs": [
    {
     "name": "stdout",
     "output_type": "stream",
     "text": [
      "Number of true variants: 156\r\n",
      "Number of false variants: 235\r\n",
      "Number of undetermined variants: 2746\r\n",
      "True variants list: ['ENST00000361923:c.3205A>G', 'ENST00000374472:c.351A>G', 'ENST00000374472:c.350A>G', 'ENST00000289893:c.6506G>A', 'ENST00000340450:c.795T>G', 'ENST00000340450:c.801T>G', 'ENST00000371088:c.1031T>C', 'ENST00000370139:c.96G>A', 'ENST00000370139:c.97C>T', 'ENST00000256652:c.1822C>A', 'ENST00000581821:c.709G>C', 'ENST00000355199:c.1215G>C', 'ENST00000367079:c.619C>T', 'ENST00000367057:c.2176T>C', 'ENST00000367057:c.2201G>A', 'ENST00000238181:c.457C>T', 'ENST00000486442:c.1197T>C', 'ENST00000425361:c.39G>A', 'ENST00000349938:c.732A>G', 'ENST00000349938:c.733T>A', 'ENST00000342518:c.1024C>T', 'ENST00000295777:c.482A>G', 'ENST00000608343:c.2645G>C', 'ENST00000389851:c.639T>C', 'ENST00000261439:c.721T>C', 'ENST00000307808:c.2676C>A', 'ENST00000296564:c.3382A>G', 'ENST00000322602:c.659T>C', 'ENST00000419065:c.381G>C', 'ENST00000419065:c.405C>T', 'ENST00000419065:c.406T>C', 'ENST00000334984:c.1328T>C', 'ENST00000304218:c.285G>A', 'ENST00000581376:c.1075T>C', 'ENST00000581376:c.1178T>A', 'ENST00000452596:c.1051C>A', 'ENST00000452596:c.1053A>G', 'ENST00000452596:c.1223G>T', 'ENST00000579721:c.97T>A', 'ENST00000579721:c.117C>T', 'ENST00000579721:c.126G>A', 'ENST00000579721:c.238G>A', 'ENST00000579721:c.282C>G', 'ENST00000579721:c.290C>T', 'ENST00000438861:c.672G>A', 'ENST00000438861:c.722A>G', 'ENST00000579721:c.502A>C', 'ENST00000579721:c.524A>G', 'ENST00000579721:c.527C>A', 'ENST00000579721:c.555G>T', 'ENST00000579721:c.606G>A', 'ENST00000579721:c.964A>T', 'ENST00000579721:c.967A>G', 'ENST00000428040:c.526T>G', 'ENST00000428040:c.527C>A', 'ENST00000412585:c.348G>C', 'ENST00000412585:c.346G>T', 'ENST00000412585:c.331G>A', 'ENST00000425848:c.369C>G', 'ENST00000548145:c.154A>G', 'ENST00000343139:c.559T>G', 'ENST00000548145:c.677C>T', 'ENST00000548145:c.683C>T', 'ENST00000548145:c.692G>T', 'ENST00000548145:c.708A>G', 'ENST00000548145:c.791C>T', 'ENST00000550817:c.7A>C', 'ENST00000550817:c.8G>T', 'ENST00000550817:c.17A>C', 'ENST00000550817:c.19A>G', 'ENST00000550817:c.20T>C', 'ENST00000416804:c.154C>A', 'ENST00000544932:c.240T>G', 'ENST00000344962:c.629A>T', 'ENST00000265748:c.1040A>G', 'ENST00000408951:c.220C>T', 'ENST00000325083:c.915A>G', 'ENST00000325083:c.916C>T', 'ENST00000265806:c.1177A>G', 'ENST00000242310:c.5196A>G', 'ENST00000259339:c.612C>T', 'ENST00000369583:c.942G>A', 'ENST00000369583:c.943C>T', 'ENST00000308110:c.886T>C', 'ENST00000308110:c.888G>C', 'ENST00000294309:c.1259T>C', 'ENST00000280379:c.1972G>A', 'ENST00000420167:c.74C>A', 'ENST00000420167:c.73G>A', 'ENST00000397313:c.1375G>C', 'ENST00000397313:c.1374T>C', 'ENST00000379483:c.1365T>C', 'ENST00000379483:c.1362T>C', 'ENST00000349995:c.2587G>A', 'ENST00000344113:c.12214G>A', 'ENST00000604405:c.293A>T', 'ENST00000604405:c.218T>A', 'ENST00000604008:c.366A>T', 'ENST00000604008:c.359G>C', 'ENST00000604008:c.329G>C', 'ENST00000605118:c.412C>G', 'ENST00000605118:c.230T>A', 'ENST00000604973:c.305G>C', 'ENST00000605303:c.209T>A', 'ENST00000605000:c.357C>G', 'ENST00000605000:c.348A>T', 'ENST00000605000:c.227G>T', 'ENST00000605000:c.224G>C', 'ENST00000605000:c.214A>T', 'ENST00000604045:c.322A>T', 'ENST00000604045:c.201G>C', 'ENST00000605215:c.381C>G', 'ENST00000603423:c.422G>C', 'ENST00000603423:c.248C>G', 'ENST00000603423:c.213A>T', 'ENST00000604412:c.181A>C', 'ENST00000603210:c.289C>G', 'ENST00000605681:c.296T>A', 'ENST00000605681:c.214G>C', 'ENST00000605716:c.348G>C', 'ENST00000605716:c.329A>T', 'ENST00000605716:c.315G>C', 'ENST00000343789:c.386C>T', 'ENST00000361243:c.2770G>A', 'ENST00000338042:c.1207T>C', 'ENST00000284395:c.6204G>A', 'ENST00000284395:c.6205C>A', 'ENST00000293879:c.4663T>C', 'ENST00000262319:c.298G>C', 'ENST00000262319:c.299A>G', 'ENST00000262510:c.2943T>C', 'ENST00000262510:c.2944A>G', 'ENST00000328020:c.63G>A', 'ENST00000335360:c.503A>G', 'ENST00000328118:c.1562G>C', 'ENST00000328118:c.1563C>G', 'ENST00000255557:c.1556T>C', 'ENST00000301624:c.3116A>C', 'ENST00000456466:c.3957G>C', 'ENST00000304060:c.535A>G', 'ENST00000607888:c.421T>C', 'ENST00000355326:c.348T>C', 'ENST00000570593:c.655C>T', 'ENST00000376267:c.744G>T', 'ENST00000321545:c.2062A>G', 'ENST00000332854:c.550T>A', 'ENST00000356025:c.152G>A', 'ENST00000356025:c.155G>A', 'ENST00000356025:c.178C>T', 'ENST00000356025:c.184G>A', 'ENST00000356025:c.193C>T', 'ENST00000318100:c.4989A>G', 'ENST00000323630:c.1196C>T', 'ENST00000308521:c.536C>T', 'ENST00000348946:c.488A>G', 'ENST00000348946:c.490G>C']\r\n",
      "False variants list: ['ENST00000377403:c.2420A>G', 'ENST00000375153:c.687G>A', 'ENST00000316485:c.3618C>T', 'ENST00000441735:c.606G>A', 'ENST00000256593:c.440T>C', 'ENST00000369365:c.2700C>G', 'ENST00000583401:c.330G>C', 'ENST00000583061:c.201C>G', 'ENST00000581822:c.924C>G', 'ENST00000239462:c.2935C>T', 'ENST00000367240:c.677C>G', 'ENST00000366711:c.136G>C', 'ENST00000366696:c.135C>T', 'ENST00000288548:c.1616C>T', 'ENST00000378661:c.880G>A', 'ENST00000406134:c.2806A>G', 'ENST00000233838:c.1299C>T', 'ENST00000343761:c.432T>C', 'ENST00000343761:c.469T>C', 'ENST00000253693:c.635G>A', 'ENST00000571492:c.1600C>G', 'ENST00000571492:c.1147C>G', 'ENST00000571492:c.625G>C', 'ENST00000571492:c.558G>C', 'ENST00000571109:c.558G>C', 'ENST00000571109:c.481C>G', 'ENST00000571109:c.442C>G', 'ENST00000570345:c.767A>T', 'ENST00000571614:c.1552A>T', 'ENST00000571614:c.567C>G', 'ENST00000571614:c.521A>T', 'ENST00000608285:c.270A>T', 'ENST00000295956:c.2658C>T', 'ENST00000295956:c.3634G>A', 'ENST00000251772:c.2061A>G', 'ENST00000251772:c.3108C>T', 'ENST00000296266:c.2288A>C', 'ENST00000315691:c.1324C>T', 'ENST00000242810:c.422A>T', 'ENST00000242810:c.1097C>T', 'ENST00000608764:c.299A>T', 'ENST00000608343:c.2380A>T', 'ENST00000608343:c.2128A>T', 'ENST00000608343:c.1927T>A', 'ENST00000608343:c.366G>C', 'ENST00000264501:c.3085T>A', 'ENST00000264501:c.10243C>T', 'ENST00000264584:c.1457C>T', 'ENST00000274335:c.1218C>T', 'ENST00000575603:c.744G>C', 'ENST00000379982:c.1285C>T', 'ENST00000379982:c.1292A>G', 'ENST00000281092:c.468A>G', 'ENST00000281092:c.2136T>C', 'ENST00000609079:c.1070A>T', 'ENST00000609079:c.902C>G', 'ENST00000609079:c.869T>A', 'ENST00000334984:c.1601G>A', 'ENST00000342415:c.617C>T', 'ENST00000510784:c.127T>C', 'ENST00000581376:c.858A>T', 'ENST00000581376:c.1041G>A', 'ENST00000581376:c.1192G>A', 'ENST00000582523:c.250A>T', 'ENST00000452596:c.1220A>G', 'ENST00000376656:c.1341T>C', 'ENST00000422726:c.1078C>G', 'ENST00000550481:c.9T>A', 'ENST00000415669:c.177C>T', 'ENST00000374940:c.842G>A', 'ENST00000293748:c.2046G>A', 'ENST00000360726:c.1056G>A', 'ENST00000361499:c.3185C>T', 'ENST00000287097:c.2595G>A', 'ENST00000369066:c.1365A>C', 'ENST00000606766:c.2450C>G', 'ENST00000606766:c.2411C>G', 'ENST00000606766:c.2194G>C', 'ENST00000420283:c.146C>A', 'ENST00000353796:c.372T>C', 'ENST00000255746:c.982G>A', 'ENST00000355095:c.948C>A', 'ENST00000573321:c.1021G>C', 'ENST00000574873:c.130G>C', 'ENST00000286479:c.697G>A', 'ENST00000265807:c.456A>G', 'ENST00000562335:c.438C>G', 'ENST00000562358:c.594C>G', 'ENST00000242310:c.4299G>A', 'ENST00000355295:c.744T>C', 'ENST00000259400:c.204T>C', 'ENST00000350499:c.641C>T', 'ENST00000563527:c.840C>G', 'ENST00000376356:c.1916C>T', 'ENST00000573291:c.1238T>A', 'ENST00000342551:c.1356C>G', 'ENST00000185907:c.416G>A', 'ENST00000595757:c.434T>C', 'ENST00000352303:c.244T>C', 'ENST00000571727:c.673T>A', 'ENST00000572354:c.514C>G', 'ENST00000338965:c.1194A>G', 'ENST00000418331:c.1051T>C', 'ENST00000418331:c.1605G>A', 'ENST00000318312:c.429G>A', 'ENST00000308831:c.349C>T', 'ENST00000294309:c.1844G>T', 'ENST00000570915:c.2055G>A', 'ENST00000576054:c.638A>G', 'ENST00000573902:c.175C>G', 'ENST00000595598:c.693G>A', 'ENST00000601049:c.857G>C', 'ENST00000345088:c.268G>C', 'ENST00000308721:c.1123C>T', 'ENST00000182377:c.346G>A', 'ENST00000261900:c.1564C>G', 'ENST00000550300:c.411C>T', 'ENST00000280379:c.2033G>A', 'ENST00000280774:c.1441T>C', 'ENST00000321867:c.2492C>T', 'ENST00000228289:c.730C>T', 'ENST00000545908:c.293T>C', 'ENST00000303562:c.737G>C', 'ENST00000340722:c.328G>A', 'ENST00000605226:c.39G>C', 'ENST00000605760:c.27C>G', 'ENST00000605760:c.4T>A', 'ENST00000604405:c.189A>T', 'ENST00000604405:c.183C>G', 'ENST00000604008:c.384C>G', 'ENST00000604008:c.371C>G', 'ENST00000604008:c.286A>C', 'ENST00000604008:c.251T>C', 'ENST00000604008:c.131T>A', 'ENST00000605118:c.265G>C', 'ENST00000604787:c.215A>T', 'ENST00000604973:c.212C>A', 'ENST00000605303:c.208A>T', 'ENST00000604930:c.198C>G', 'ENST00000604985:c.200G>C', 'ENST00000604985:c.166C>G', 'ENST00000605000:c.417C>G', 'ENST00000605000:c.399G>C', 'ENST00000605000:c.254C>G', 'ENST00000605000:c.240C>A', 'ENST00000605000:c.216C>G', 'ENST00000603600:c.317T>A', 'ENST00000604045:c.151T>A', 'ENST00000604045:c.136A>T', 'ENST00000605215:c.168G>C', 'ENST00000603423:c.156G>C', 'ENST00000603210:c.356C>G', 'ENST00000605681:c.237T>A', 'ENST00000605716:c.351C>G', 'ENST00000605716:c.318G>C', 'ENST00000605716:c.213A>T', 'ENST00000603911:c.234G>C', 'ENST00000603911:c.193A>T', 'ENST00000603412:c.454A>T', 'ENST00000603412:c.451G>C', 'ENST00000603412:c.446T>A', 'ENST00000603412:c.405C>G', 'ENST00000603412:c.355C>G', 'ENST00000362065:c.989G>A', 'ENST00000261842:c.593T>C', 'ENST00000261893:c.421A>T', 'ENST00000361243:c.3265C>G', 'ENST00000357742:c.197G>A', 'ENST00000026218:c.128A>G', 'ENST00000219069:c.1805G>C', 'ENST00000287667:c.3629A>G', 'ENST00000268699:c.719A>G', 'ENST00000379774:c.1101A>G', 'ENST00000437605:c.867C>T', 'ENST00000317635:c.740A>C', 'ENST00000316920:c.380C>T', 'ENST00000316920:c.403G>T', 'ENST00000316920:c.408C>T', 'ENST00000316920:c.995C>T', 'ENST00000578713:c.46C>T', 'ENST00000356175:c.551C>T', 'ENST00000561703:c.1269T>A', 'ENST00000561703:c.1252G>C', 'ENST00000561703:c.816C>G', 'ENST00000258955:c.667A>G', 'ENST00000574715:c.2027A>T', 'ENST00000574715:c.729T>A', 'ENST00000573633:c.2360C>G', 'ENST00000225777:c.141G>T', 'ENST00000300682:c.47G>T', 'ENST00000506447:c.301G>C', 'ENST00000269142:c.2614A>G', 'ENST00000585477:c.733G>T', 'ENST00000269518:c.260G>A', 'ENST00000269499:c.1189G>A', 'ENST00000263094:c.2976A>G', 'ENST00000415183:c.2137T>C', 'ENST00000253451:c.481G>A', 'ENST00000456783:c.857G>T', 'ENST00000404801:c.1386C>G', 'ENST00000007510:c.1263G>A', 'ENST00000609082:c.458A>C', 'ENST00000609082:c.688G>A', 'ENST00000608549:c.433C>G', 'ENST00000270014:c.347A>G', 'ENST00000270014:c.1637G>A', 'ENST00000376716:c.2497G>A', 'ENST00000575918:c.801G>C', 'ENST00000570701:c.1878C>G', 'ENST00000570701:c.1762C>G', 'ENST00000571162:c.339C>G', 'ENST00000571132:c.997C>G', 'ENST00000571132:c.955C>G', 'ENST00000571132:c.930T>A', 'ENST00000571132:c.822G>C', 'ENST00000571132:c.763C>G', 'ENST00000571132:c.721C>G', 'ENST00000570715:c.1125G>C', 'ENST00000570715:c.1124C>G', 'ENST00000255613:c.497G>A', 'ENST00000221735:c.384G>C', 'ENST00000608843:c.1039T>C', 'ENST00000254166:c.2123T>C', 'ENST00000571089:c.2620C>G', 'ENST00000608896:c.353C>G', 'ENST00000608896:c.219C>G', 'ENST00000318711:c.3435A>G', 'ENST00000331444:c.260C>G', 'ENST00000390287:c.259C>A', 'ENST00000398215:c.364G>T', 'ENST00000398215:c.654G>A', 'ENST00000415447:c.144C>G', 'ENST00000406386:c.1561G>A', 'ENST00000574164:c.371C>G', 'ENST00000574164:c.221G>C']\r\n",
      "Undetermined variants list: ['ENST00000379407:c.528A>C', 'ENST00000379407:c.1385G>C', 'ENST00000379407:c.1389A>G', 'ENST00000378567:c.425T>C', 'ENST00000294600:c.211C>T', 'ENST00000294600:c.240A>G', 'ENST00000294600:c.244C>G', 'ENST00000378190:c.817T>C', 'ENST00000303635:c.1134G>A', 'ENST00000361923:c.1510T>C', 'ENST00000361923:c.2655T>C', 'ENST00000289877:c.1335G>A', 'ENST00000328089:c.737C>T', 'ENST00000263934:c.438C>G', 'ENST00000294484:c.682G>A', 'ENST00000294484:c.2086G>A', 'ENST00000294485:c.244C>T', 'ENST00000433342:c.1357C>T', 'ENST00000433342:c.1712G>A', 'ENST00000433342:c.1804C>T', 'ENST00000312793:c.133G>C', 'ENST00000312793:c.476C>T', 'ENST00000312793:c.621G>T', 'ENST00000332296:c.755C>T', 'ENST00000332296:c.871T>C', 'ENST00000235347:c.1286C>T', 'ENST00000355096:c.1247C>A', 'ENST00000376085:c.1217C>T', 'ENST00000358897:c.438G>A', 'ENST00000314668:c.1489A>G', 'ENST00000314668:c.1678A>G', 'ENST00000329454:c.86C>T', 'ENST00000329454:c.308C>T', 'ENST00000311890:c.1178T>C', 'ENST00000331433:c.963A>T', 'ENST00000331433:c.1090T>A', 'ENST00000331433:c.1358G>A', 'ENST00000375679:c.752C>G', 'ENST00000375679:c.753A>C', 'ENST00000375667:c.1408A>G', 'ENST00000375667:c.1417C>T', 'ENST00000375471:c.143C>T', 'ENST00000375448:c.189G>A', 'ENST00000375448:c.271T>C', 'ENST00000375448:c.361G>C', 'ENST00000375448:c.850C>T', 'ENST00000375406:c.223G>T', 'ENST00000375406:c.279C>A', 'ENST00000375406:c.885C>T', 'ENST00000375071:c.617C>T', 'ENST00000318220:c.1121C>T', 'ENST00000318220:c.1221A>G', 'ENST00000318220:c.1514C>G', 'ENST00000337107:c.208C>T', 'ENST00000337107:c.385T>C', 'ENST00000166244:c.294C>T', 'ENST00000374642:c.480A>G', 'ENST00000354177:c.860G>A', 'ENST00000374280:c.2013G>A', 'ENST00000338855:c.216A>G', 'ENST00000338855:c.297A>G', 'ENST00000338855:c.394C>T', 'ENST00000338855:c.697G>A', 'ENST00000338855:c.944A>G', 'ENST00000349618:c.1557C>G', 'ENST00000289166:c.1414C>T', 'ENST00000289166:c.1413A>G', 'ENST00000601321:c.135G>C', 'ENST00000294521:c.146T>G', 'ENST00000294521:c.169G>T', 'ENST00000373480:c.797A>G', 'ENST00000361328:c.255C>G', 'ENST00000359858:c.367G>A', 'ENST00000373139:c.505T>G', 'ENST00000289248:c.1826C>A', 'ENST00000317713:c.145G>A', 'ENST00000289893:c.246A>G', 'ENST00000289893:c.5006A>C', 'ENST00000372638:c.612C>T', 'ENST00000372638:c.273G>T', 'ENST00000372565:c.1216T>C', 'ENST00000562955:c.1336C>T', 'ENST00000359947:c.811C>T', 'ENST00000359947:c.2146C>A', 'ENST00000334194:c.1176C>T', 'ENST00000294337:c.419G>A', 'ENST00000294337:c.584G>T', 'ENST00000312553:c.523G>A', 'ENST00000312553:c.1408G>A', 'ENST00000312553:c.1566T>C', 'ENST00000398219:c.729C>T', 'ENST00000339553:c.823A>G', 'ENST00000409996:c.2062C>T', 'ENST00000448308:c.434G>A', 'ENST00000302118:c.448C>T', 'ENST00000371244:c.417G>A', 'ENST00000371244:c.534C>T', 'ENST00000361249:c.1550G>T', 'ENST00000361249:c.1551C>T', 'ENST00000361249:c.1599T>C', 'ENST00000361249:c.1777G>C', 'ENST00000371225:c.856A>C', 'ENST00000303721:c.303T>G', 'ENST00000303721:c.690G>A', 'ENST00000303721:c.1031C>T', 'ENST00000316485:c.483T>C', 'ENST00000371158:c.5361C>T', 'ENST00000290039:c.487G>A', 'ENST00000290039:c.2954G>A', 'ENST00000263441:c.1618C>T', 'ENST00000344610:c.598A>G', 'ENST00000344610:c.940A>G', 'ENST00000344610:c.1301T>C', 'ENST00000347310:c.180G>T', 'ENST00000347310:c.1100T>C', 'ENST00000263187:c.393G>A', 'ENST00000330010:c.838G>A', 'ENST00000370665:c.42G>C', 'ENST00000370662:c.819T>C', 'ENST00000370425:c.792C>T', 'ENST00000362005:c.1132A>C', 'ENST00000370378:c.1565G>A', 'ENST00000271227:c.558T>C', 'ENST00000306121:c.359G>A', 'ENST00000306121:c.376T>A', 'ENST00000370184:c.1490G>A', 'ENST00000263174:c.1113C>A', 'ENST00000271311:c.929G>A', 'ENST00000271311:c.1467G>A', 'ENST00000369939:c.309G>A', 'ENST00000369939:c.324T>C', 'ENST00000369939:c.798C>T', 'ENST00000271332:c.6241C>A', 'ENST00000271331:c.216G>A', 'ENST00000369771:c.787G>T', 'ENST00000369702:c.903T>C', 'ENST00000369518:c.2925A>C', 'ENST00000369500:c.934A>G', 'ENST00000393203:c.975A>G', 'ENST00000393203:c.976T>A', 'ENST00000256652:c.190T>C', 'ENST00000256652:c.1633C>G', 'ENST00000256652:c.1711A>G', 'ENST00000325945:c.89T>C', 'ENST00000235547:c.1157C>T', 'ENST00000584027:c.352A>G', 'ENST00000585156:c.6692C>G', 'ENST00000585156:c.6471G>C', 'ENST00000577480:c.1810T>G', 'ENST00000578156:c.857C>T', 'ENST00000582010:c.712G>T', 'ENST00000368947:c.973A>G', 'ENST00000447555:c.114C>T', 'ENST00000368801:c.8413A>C', 'ENST00000368801:c.8407T>C', 'ENST00000368801:c.8401C>T', 'ENST00000368801:c.8385T>C', 'ENST00000368801:c.8358G>A', 'ENST00000368801:c.8317C>T', 'ENST00000368801:c.1632A>C', 'ENST00000368801:c.637T>C', 'ENST00000368801:c.634C>T', 'ENST00000368790:c.277C>T', 'ENST00000324978:c.84G>A', 'ENST00000324978:c.407C>T', 'ENST00000295542:c.246C>T', 'ENST00000295542:c.1630A>C', 'ENST00000368406:c.512A>T', 'ENST00000334634:c.861G>A', 'ENST00000255013:c.388G>A', 'ENST00000255013:c.1382C>T', 'ENST00000368236:c.508G>T', 'ENST00000368223:c.3532G>C', 'ENST00000292357:c.2770G>A', 'ENST00000292357:c.2823A>G', 'ENST00000337428:c.1639G>A', 'ENST00000289429:c.1229C>T', 'ENST00000368155:c.317A>G', 'ENST00000334438:c.716T>C', 'ENST00000334438:c.411A>G', 'ENST00000314902:c.156C>T', 'ENST00000368152:c.571G>A', 'ENST00000368152:c.647A>G', 'ENST00000368152:c.715C>T', 'ENST00000302617:c.754G>A', 'ENST00000302617:c.543C>T', 'ENST00000334632:c.935C>T', 'ENST00000334632:c.255T>C', 'ENST00000334632:c.171T>C', 'ENST00000368150:c.426C>T', 'ENST00000368150:c.270G>A', 'ENST00000368150:c.198G>A', 'ENST00000368150:c.179T>C', 'ENST00000361284:c.881A>C', 'ENST00000368145:c.743C>T', 'ENST00000368145:c.682C>T', 'ENST00000368144:c.571C>T', 'ENST00000335094:c.898G>A', 'ENST00000335094:c.802A>G', 'ENST00000335094:c.753T>C', 'ENST00000335094:c.601T>C', 'ENST00000334857:c.546G>A', 'ENST00000368088:c.1178C>T', 'ENST00000361216:c.2348C>T', 'ENST00000368081:c.540A>G', 'ENST00000368081:c.719G>A', 'ENST00000368081:c.1360G>A', 'ENST00000368061:c.1611A>G', 'ENST00000367758:c.185A>G', 'ENST00000367758:c.1012C>T', 'ENST00000367758:c.1071C>T', 'ENST00000367758:c.1470T>C', 'ENST00000209929:c.742C>T', 'ENST00000209929:c.743A>G', 'ENST00000355305:c.2014C>T', 'ENST00000367723:c.613T>C', 'ENST00000367701:c.735C>T', 'ENST00000239462:c.348A>G', 'ENST00000239462:c.1355C>T', 'ENST00000239462:c.2532T>C', 'ENST00000239462:c.2902C>T', 'ENST00000367607:c.1465A>C', 'ENST00000367587:c.1529C>T', 'ENST00000367587:c.1625G>T', 'ENST00000367587:c.2551A>G', 'ENST00000357570:c.6028G>A', 'ENST00000367565:c.674C>T', 'ENST00000264144:c.409G>A', 'ENST00000367482:c.552G>A', 'ENST00000391995:c.516G>A', 'ENST00000367416:c.763A>G', 'ENST00000251424:c.986G>A', 'ENST00000335211:c.435G>A', 'ENST00000335211:c.487T>C', 'ENST00000335211:c.535G>A', 'ENST00000335211:c.10784C>T', 'ENST00000263946:c.287C>T', 'ENST00000263946:c.1169C>T', 'ENST00000263946:c.2114C>T', 'ENST00000330493:c.1244T>C', 'ENST00000272198:c.1112C>T', 'ENST00000309502:c.717T>G', 'ENST00000341360:c.508A>G', 'ENST00000341360:c.715T>C', 'ENST00000367187:c.2609C>T', 'ENST00000367175:c.4094C>T', 'ENST00000338515:c.1882C>A', 'ENST00000338515:c.2107C>T', 'ENST00000331830:c.717G>A', 'ENST00000331830:c.1381C>T', 'ENST00000331830:c.2259A>G', 'ENST00000580607:c.230C>G', 'ENST00000294997:c.215G>A', 'ENST00000294997:c.247A>G', 'ENST00000009105:c.899A>G', 'ENST00000294829:c.2161C>T', 'ENST00000391894:c.645C>T', 'ENST00000366848:c.160A>T', 'ENST00000366849:c.1331T>C', 'ENST00000328556:c.263A>G', 'ENST00000430092:c.4389T>G', 'ENST00000327794:c.603A>G', 'ENST00000327794:c.2124G>A', 'ENST00000430092:c.12032C>T', 'ENST00000428003:c.235G>C', 'ENST00000272167:c.417T>C', 'ENST00000366757:c.634A>G', 'ENST00000284548:c.11381G>C', 'ENST00000284548:c.12095G>A', 'ENST00000284548:c.12743G>A', 'ENST00000284548:c.12795G>T', 'ENST00000284548:c.13619G>A', 'ENST00000284548:c.13675G>A', 'ENST00000284548:c.14070G>A', 'ENST00000284548:c.16798G>A', 'ENST00000366707:c.22062T>G', 'ENST00000366707:c.22540G>A', 'ENST00000366696:c.189C>A', 'ENST00000271971:c.1077A>C', 'ENST00000271971:c.1400C>T', 'ENST00000271971:c.1677C>T', 'ENST00000360064:c.7800C>T', 'ENST00000319653:c.2747C>G', 'ENST00000318749:c.923A>G', 'ENST00000318749:c.902C>T', 'ENST00000318749:c.756G>A', 'ENST00000318749:c.692G>A', 'ENST00000318749:c.57C>T', 'ENST00000320002:c.897A>G', 'ENST00000359688:c.692C>T', 'ENST00000359688:c.458A>T', 'ENST00000359688:c.358C>T', 'ENST00000359688:c.159A>T', 'ENST00000366485:c.397A>G', 'ENST00000355784:c.378G>A', 'ENST00000366481:c.516C>T', 'ENST00000319968:c.437G>C', 'ENST00000319968:c.692C>G', 'ENST00000319968:c.805G>A', 'ENST00000359682:c.56A>C', 'ENST00000456743:c.371G>A', 'ENST00000317996:c.310A>T', 'ENST00000317965:c.600G>A', 'ENST00000317965:c.199C>T', 'ENST00000317861:c.18C>T', 'ENST00000317861:c.561C>T', 'ENST00000317861:c.673G>A', 'ENST00000317861:c.691G>T', 'ENST00000366474:c.74A>G', 'ENST00000330803:c.739C>G', 'ENST00000330803:c.325T>C', 'ENST00000330803:c.293A>G', 'ENST00000317450:c.968G>A', 'ENST00000317450:c.950C>T', 'ENST00000344889:c.906G>A', 'ENST00000344889:c.644C>T', 'ENST00000344889:c.214C>T', 'ENST00000342623:c.159A>G', 'ENST00000308624:c.1117G>A', 'ENST00000329066:c.1276G>C', 'ENST00000324883:c.1283G>A', 'ENST00000272238:c.730G>A', 'ENST00000234142:c.2631C>T', 'ENST00000449576:c.92G>C', 'ENST00000288710:c.1143A>G', 'ENST00000329615:c.367G>A', 'ENST00000329615:c.418G>A', 'ENST00000380320:c.3206G>A', 'ENST00000447166:c.675T>A', 'ENST00000408964:c.2015C>G', 'ENST00000408964:c.2030C>A', 'ENST00000408964:c.3417A>G', 'ENST00000327757:c.678G>C', 'ENST00000327757:c.2679C>G', 'ENST00000327757:c.3997C>T', 'ENST00000593798:c.103G>A', 'ENST00000282406:c.1387A>G', 'ENST00000272286:c.1985T>C', 'ENST00000434431:c.460G>A', 'ENST00000263735:c.702T>C', 'ENST00000309827:c.2936A>G', 'ENST00000422521:c.471G>A', 'ENST00000317802:c.857C>T', 'ENST00000317802:c.446G>A', 'ENST00000356458:c.5515C>T', 'ENST00000606814:c.362C>G', 'ENST00000605949:c.988G>T', 'ENST00000605949:c.987C>G', 'ENST00000605949:c.984A>T', 'ENST00000605949:c.944G>C', 'ENST00000398468:c.423G>C', 'ENST00000398468:c.865T>C', 'ENST00000409262:c.2131T>C', 'ENST00000237449:c.4619C>T', 'ENST00000237449:c.5089G>C', 'ENST00000237449:c.6308G>A', 'ENST00000237449:c.7361A>G', 'ENST00000237449:c.8700G>A', 'ENST00000335459:c.634G>A', 'ENST00000419482:c.790G>A', 'ENST00000419482:c.793C>G', 'ENST00000419482:c.844T>C', 'ENST00000317620:c.1656A>G', 'ENST00000420699:c.2105T>C', 'ENST00000420699:c.2200A>G', 'ENST00000376865:c.23C>T', 'ENST00000335681:c.1465A>G', 'ENST00000335681:c.2205G>A', 'ENST00000295408:c.1654G>A', 'ENST00000295408:c.1809A>G', 'ENST00000295408:c.2138A>G', 'ENST00000327581:c.188G>A', 'ENST00000263326:c.134G>T', 'ENST00000263326:c.166A>G', 'ENST00000354888:c.671T>G', 'ENST00000295220:c.239A>T', 'ENST00000594141:c.140G>C', 'ENST00000413369:c.2472G>T', 'ENST00000314490:c.1974C>T', 'ENST00000431078:c.1719C>T', 'ENST00000431078:c.2105A>C', 'ENST00000454927:c.193A>G', 'ENST00000436605:c.63G>A', 'ENST00000436605:c.67C>T', 'ENST00000453608:c.26A>T', 'ENST00000389524:c.2879G>A', 'ENST00000389524:c.3507C>G', 'ENST00000389524:c.3935C>T', 'ENST00000409359:c.2005C>T', 'ENST00000409359:c.2974A>G', 'ENST00000272643:c.627C>G', 'ENST00000241416:c.990G>A', 'ENST00000288670:c.1105C>T', 'ENST00000295101:c.1515T>C', 'ENST00000005756:c.380C>G', 'ENST00000309950:c.252G>A', 'ENST00000263635:c.3846A>G', 'ENST00000444448:c.1189C>T', 'ENST00000573192:c.747G>C', 'ENST00000344257:c.311T>C', 'ENST00000234198:c.887A>G', 'ENST00000264106:c.1458G>A', 'ENST00000264106:c.2402C>T', 'ENST00000394967:c.633C>G', 'ENST00000306324:c.779T>C', 'ENST00000331462:c.1109G>A', 'ENST00000342175:c.40681G>A', 'ENST00000295108:c.1319C>A', 'ENST00000452137:c.359A>C', 'ENST00000343098:c.1401A>G', 'ENST00000343098:c.1541T>C', 'ENST00000343098:c.7763G>T', 'ENST00000343098:c.10077A>G', 'ENST00000304698:c.263G>A', 'ENST00000304164:c.1389A>C', 'ENST00000428675:c.2397G>A', 'ENST00000349953:c.575G>A', 'ENST00000349953:c.1326C>T', 'ENST00000272849:c.1071T>C', 'ENST00000374423:c.3761A>G', 'ENST00000374423:c.5450T>C', 'ENST00000272845:c.8890G>A', 'ENST00000233072:c.1226A>G', 'ENST00000233072:c.1228C>T', 'ENST00000233072:c.2461C>A', 'ENST00000331683:c.1178A>C', 'ENST00000233202:c.538C>T', 'ENST00000295731:c.600G>A', 'ENST00000373960:c.914C>T', 'ENST00000373960:c.1100G>C', 'ENST00000373960:c.1190G>A', 'ENST00000347842:c.124C>T', 'ENST00000265317:c.1271C>T', 'ENST00000273063:c.2299A>G', 'ENST00000396578:c.289G>C', 'ENST00000396578:c.647A>G', 'ENST00000396578:c.1138G>T', 'ENST00000424440:c.478G>C', 'ENST00000373640:c.224C>A', 'ENST00000295453:c.270T>C', 'ENST00000258385:c.44A>G', 'ENST00000258385:c.446C>T', 'ENST00000409110:c.719C>T', 'ENST00000485022:c.326G>A', 'ENST00000389758:c.977T>C', 'ENST00000389758:c.1116T>C', 'ENST00000389758:c.1152A>G', 'ENST00000389758:c.3364C>A', 'ENST00000389758:c.4376C>A', 'ENST00000304032:c.1537C>T', 'ENST00000445534:c.178G>A', 'ENST00000373327:c.1107G>T', 'ENST00000408934:c.1138T>G', 'ENST00000319423:c.701G>A', 'ENST00000337801:c.367C>T', 'ENST00000310397:c.2544C>T', 'ENST00000274979:c.191C>T', 'ENST00000274979:c.302G>A', 'ENST00000274979:c.2365G>C', 'ENST00000264042:c.2857C>T', 'ENST00000192314:c.141A>T', 'ENST00000343216:c.348C>T', 'ENST00000343216:c.604C>T', 'ENST00000343216:c.681T>C', 'ENST00000343216:c.784A>T', 'ENST00000256509:c.2923C>T', 'ENST00000397479:c.104C>A', 'ENST00000350110:c.710T>C', 'ENST00000358480:c.1823A>T', 'ENST00000358480:c.1898T>C', 'ENST00000302640:c.5474T>C', 'ENST00000343849:c.176C>T', 'ENST00000295981:c.1478C>T', 'ENST00000287766:c.1072G>T', 'ENST00000295989:c.1397C>T', 'ENST00000253697:c.645G>A', 'ENST00000285046:c.2931G>A', 'ENST00000285046:c.2932A>T', 'ENST00000285046:c.3053G>T', 'ENST00000263754:c.1034C>T', 'ENST00000383763:c.2403G>A', 'ENST00000273183:c.381T>C', 'ENST00000416516:c.2390G>T', 'ENST00000264741:c.781G>A', 'ENST00000264741:c.865C>T', 'ENST00000273173:c.425A>G', 'ENST00000301819:c.449G>A', 'ENST00000301819:c.1046G>A', 'ENST00000301819:c.1054G>A', 'ENST00000340369:c.5039G>A', 'ENST00000302541:c.2055T>C', 'ENST00000429348:c.387T>G', 'ENST00000273146:c.382G>A', 'ENST00000273146:c.1055C>T', 'ENST00000296125:c.368G>C', 'ENST00000357392:c.649T>A', 'ENST00000231751:c.436A>G', 'ENST00000231751:c.381G>A', 'ENST00000296438:c.1004T>A', 'ENST00000440528:c.622G>A', 'ENST00000440528:c.688T>C', 'ENST00000296452:c.2335G>A', 'ENST00000296452:c.3621C>T', 'ENST00000296452:c.11850G>A', 'ENST00000002829:c.526C>T', 'ENST00000571614:c.352T>A', 'ENST00000398780:c.58G>A', 'ENST00000333127:c.40G>A', 'ENST00000321725:c.1972T>C', 'ENST00000288167:c.378C>T', 'ENST00000288197:c.1308G>A', 'ENST00000318316:c.737G>A', 'ENST00000295896:c.869G>C', 'ENST00000336596:c.2966G>A', 'ENST00000419587:c.1282C>T', 'ENST00000419587:c.3614C>T', 'ENST00000182096:c.1615G>A', 'ENST00000182096:c.2818C>T', 'ENST00000429239:c.20T>C', 'ENST00000429239:c.231A>G', 'ENST00000429239:c.536T>C', 'ENST00000429239:c.537G>T', 'ENST00000354924:c.616A>G', 'ENST00000383695:c.131G>A', 'ENST00000273352:c.719A>G', 'ENST00000393963:c.443G>T', 'ENST00000393923:c.3564C>T', 'ENST00000498710:c.563G>C', 'ENST00000273395:c.1062C>T', 'ENST00000273395:c.1344C>T', 'ENST00000273395:c.2325A>G', 'ENST00000358160:c.2043C>T', 'ENST00000308095:c.1239T>G', 'ENST00000295622:c.336A>G', 'ENST00000295622:c.1380C>T', 'ENST00000497447:c.620A>G', 'ENST00000475963:c.644A>G', 'ENST00000273390:c.95C>T', 'ENST00000338040:c.674T>C', 'ENST00000264474:c.154C>T', 'ENST00000240874:c.283G>A', 'ENST00000352312:c.498G>A', 'ENST00000251772:c.1614C>T', 'ENST00000251772:c.3792C>A', 'ENST00000480450:c.666G>A', 'ENST00000324382:c.824T>C', 'ENST00000302649:c.549C>G', 'ENST00000265379:c.3191C>T', 'ENST00000265379:c.4332A>C', 'ENST00000265379:c.4835G>A', 'ENST00000265379:c.4924G>C', 'ENST00000358511:c.4317C>T', 'ENST00000358511:c.5247G>A', 'ENST00000264998:c.499G>A', 'ENST00000264998:c.704G>A', 'ENST00000264977:c.1313C>T', 'ENST00000343735:c.168G>A', 'ENST00000389567:c.1954G>A', 'ENST00000383163:c.354G>C', 'ENST00000458420:c.1153A>G', 'ENST00000458420:c.1286G>A', 'ENST00000337777:c.1341G>A', 'ENST00000273482:c.1309G>A', 'ENST00000349243:c.961C>T', 'ENST00000305354:c.1153T>C', 'ENST00000361136:c.2271G>A', 'ENST00000295911:c.692T>G', 'ENST00000273432:c.3242G>A', 'ENST00000356448:c.462C>T', 'ENST00000356448:c.463T>C', 'ENST00000356539:c.309A>G', 'ENST00000473137:c.260C>T', 'ENST00000473137:c.262C>T', 'ENST00000295777:c.452C>G', 'ENST00000340806:c.688T>C', 'ENST00000264676:c.1359G>A', 'ENST00000361589:c.2162G>A', 'ENST00000434257:c.380G>A', 'ENST00000434257:c.562A>G', 'ENST00000318351:c.523C>A', 'ENST00000318351:c.1248G>C', 'ENST00000357474:c.974C>T', 'ENST00000287546:c.418A>G', 'ENST00000430355:c.112G>A', 'ENST00000273784:c.822T>C', 'ENST00000312295:c.715C>G', 'ENST00000358241:c.759G>T', 'ENST00000358241:c.674A>G', 'ENST00000342358:c.2333G>A', 'ENST00000323830:c.1696G>A', 'ENST00000323830:c.1616A>G', 'ENST00000323830:c.1615C>T', 'ENST00000323830:c.1003G>A', 'ENST00000296327:c.884T>C', 'ENST00000255622:c.658C>T', 'ENST00000247933:c.440C>T', 'ENST00000260795:c.1759G>A', 'ENST00000345167:c.348G>T', 'ENST00000345167:c.454T>C', 'ENST00000345167:c.579C>T', 'ENST00000510580:c.909G>A', 'ENST00000306648:c.694G>C', 'ENST00000382774:c.767G>T', 'ENST00000382774:c.1783G>A', 'ENST00000358461:c.2211G>A', 'ENST00000382487:c.450C>T', 'ENST00000382487:c.564T>G', 'ENST00000382487:c.1020A>C', 'ENST00000315782:c.657C>T', 'ENST00000432515:c.153T>C', 'ENST00000456464:c.910A>C', 'ENST00000456464:c.914T>C', 'ENST00000456464:c.928A>C', 'ENST00000442003:c.358G>A', 'ENST00000389652:c.3184G>A', 'ENST00000389652:c.4008C>G', 'ENST00000259988:c.643A>G', 'ENST00000511148:c.439C>G', 'ENST00000273739:c.2449C>T', 'ENST00000357504:c.1550C>T', 'ENST00000357504:c.1723T>C', 'ENST00000309447:c.1025A>C', 'ENST00000508802:c.2438C>T', 'ENST00000261435:c.718G>T', 'ENST00000261435:c.2093T>C', 'ENST00000261435:c.2247G>A', 'ENST00000310169:c.178C>T', 'ENST00000310169:c.268T>C', 'ENST00000310169:c.304C>T', 'ENST00000313860:c.2330T>C', 'ENST00000360029:c.1553A>G', 'ENST00000264229:c.2718C>T', 'ENST00000264229:c.3370G>A', 'ENST00000512175:c.847C>T', 'ENST00000305231:c.847A>T', 'ENST00000305231:c.848T>C', 'ENST00000335568:c.588G>C', 'ENST00000335568:c.1403G>C', 'ENST00000335568:c.1408G>C', 'ENST00000246891:c.399C>T', 'ENST00000322937:c.760A>G', 'ENST00000339906:c.523G>A', 'ENST00000334306:c.1641A>G', 'ENST00000334306:c.801A>G', 'ENST00000334306:c.455A>G', 'ENST00000264895:c.535A>G', 'ENST00000264895:c.1836T>A', 'ENST00000264895:c.2500A>G', 'ENST00000264895:c.7364C>T', 'ENST00000264895:c.7451G>A', 'ENST00000264895:c.7694A>G', 'ENST00000264895:c.8879C>T', 'ENST00000264895:c.10248A>C', 'ENST00000264895:c.11136G>A', 'ENST00000273908:c.824G>C', 'ENST00000395183:c.295A>G', 'ENST00000295898:c.533G>C', 'ENST00000361056:c.1028G>A', 'ENST00000333209:c.2421T>C', 'ENST00000282020:c.461C>T', 'ENST00000326581:c.553G>A', 'ENST00000326581:c.615T>C', 'ENST00000326581:c.617C>G', 'ENST00000326581:c.633G>A', 'ENST00000265517:c.586T>C', 'ENST00000327908:c.1671G>A', 'ENST00000327908:c.1723C>T', 'ENST00000327908:c.1853C>T', 'ENST00000265171:c.2422C>T', 'ENST00000265171:c.2569G>A', 'ENST00000265171:c.3204A>T', 'ENST00000307142:c.328G>T', 'ENST00000307142:c.657G>C', 'ENST00000424958:c.1499A>G', 'ENST00000394329:c.418C>T', 'ENST00000394329:c.1371A>T', 'ENST00000394329:c.2433C>T', 'ENST00000335110:c.559T>A', 'ENST00000455694:c.160G>A', 'ENST00000260008:c.1990C>T', 'ENST00000260008:c.3402G>A', 'ENST00000329476:c.1074C>T', 'ENST00000329476:c.1425C>T', 'ENST00000329476:c.1467C>T', 'ENST00000306100:c.2568G>T', 'ENST00000338566:c.1460G>A', 'ENST00000261509:c.882T>C', 'ENST00000261509:c.883G>A', 'ENST00000403733:c.2909G>C', 'ENST00000508020:c.282G>A', 'ENST00000227065:c.1301C>T', 'ENST00000596414:c.317C>T', 'ENST00000378802:c.1127G>A', 'ENST00000264690:c.615G>A', 'ENST00000403665:c.781C>T', 'ENST00000441802:c.595G>C', 'ENST00000326754:c.1116C>T', 'ENST00000332517:c.534G>A', 'ENST00000296821:c.218C>T', 'ENST00000296821:c.219T>C', 'ENST00000397835:c.676C>T', 'ENST00000302006:c.1126G>A', 'ENST00000296564:c.714A>G', 'ENST00000382492:c.935C>T', 'ENST00000265071:c.1147C>T', 'ENST00000265071:c.1790C>T', 'ENST00000265071:c.1825A>G', 'ENST00000265109:c.752G>A', 'ENST00000356031:c.2296T>C', 'ENST00000265113:c.1268G>A', 'ENST00000274276:c.1981G>A', 'ENST00000313164:c.1525G>C', 'ENST00000230882:c.748A>G', 'ENST00000326277:c.1648G>C', 'ENST00000274306:c.497C>G', 'ENST00000353507:c.856A>G', 'ENST00000353507:c.990C>T', 'ENST00000297015:c.1514T>G', 'ENST00000399503:c.3084A>G', 'ENST00000313303:c.198G>A', 'ENST00000389074:c.647G>C', 'ENST00000520762:c.289A>T', 'ENST00000573110:c.3993T>A', 'ENST00000318442:c.2211G>A', 'ENST00000287773:c.263T>C', 'ENST00000599298:c.5G>A', 'ENST00000287898:c.849T>C', 'ENST00000287898:c.1027C>A', 'ENST00000287898:c.1121T>C', 'ENST00000287898:c.2459C>T', 'ENST00000287898:c.2514C>A', 'ENST00000317593:c.300A>C', 'ENST00000446378:c.4169A>G', 'ENST00000446378:c.5037T>C', 'ENST00000350881:c.610C>T', 'ENST00000296739:c.1147A>C', 'ENST00000338008:c.2580C>T', 'ENST00000380167:c.1335T>C', 'ENST00000265077:c.913T>C', 'ENST00000265077:c.958C>T', 'ENST00000265077:c.1210A>G', 'ENST00000265077:c.5112A>G', 'ENST00000265077:c.6042G>A', 'ENST00000265077:c.6373T>C', 'ENST00000265077:c.7288A>G', 'ENST00000265077:c.7467T>A', 'ENST00000265077:c.9374G>T', 'ENST00000265077:c.9640G>A', 'ENST00000405460:c.3375G>T', 'ENST00000405460:c.5947G>A', 'ENST00000405460:c.7847A>G', 'ENST00000405460:c.9376G>A', 'ENST00000405460:c.10507G>A', 'ENST00000405460:c.11778C>T', 'ENST00000405460:c.13695A>G', 'ENST00000405460:c.17722G>A', 'ENST00000283357:c.412G>A', 'ENST00000379982:c.1794C>T', 'ENST00000357880:c.651T>C', 'ENST00000357872:c.1870T>C', 'ENST00000296871:c.384T>C', 'ENST00000296875:c.798G>A', 'ENST00000282611:c.731A>G', 'ENST00000503143:c.625C>A', 'ENST00000503143:c.589A>T', 'ENST00000503143:c.529A>G', 'ENST00000503143:c.463A>C', 'ENST00000274513:c.289C>T', 'ENST00000361560:c.841G>A', 'ENST00000608256:c.1588C>T', 'ENST00000608256:c.2276G>T', 'ENST00000607911:c.2580C>G', 'ENST00000564042:c.2427G>A', 'ENST00000564042:c.2428C>A', 'ENST00000608550:c.597G>A', 'ENST00000608550:c.763C>T', 'ENST00000608550:c.764C>T', 'ENST00000609535:c.691G>A', 'ENST00000609535:c.1014G>C', 'ENST00000609535:c.1754C>T', 'ENST00000609535:c.2327G>A', 'ENST00000608149:c.316T>C', 'ENST00000608149:c.1422G>A', 'ENST00000608149:c.1677C>A', 'ENST00000608149:c.1947G>C', 'ENST00000608149:c.2239G>T', 'ENST00000608149:c.2364T>C', 'ENST00000608800:c.409T>C', 'ENST00000608800:c.1158A>G', 'ENST00000608800:c.1950G>A', 'ENST00000608800:c.2309C>G', 'ENST00000608800:c.2479G>A', 'ENST00000609684:c.2200G>T', 'ENST00000609684:c.2683G>A', 'ENST00000361016:c.2732A>C', 'ENST00000361016:c.2733G>T', 'ENST00000599465:c.727C>T', 'ENST00000599465:c.1498G>C', 'ENST00000599465:c.1501C>G', 'ENST00000608766:c.11A>G', 'ENST00000608766:c.1873C>A', 'ENST00000609173:c.2248C>T', 'ENST00000609806:c.1383C>T', 'ENST00000609806:c.1420A>C', 'ENST00000609806:c.1425C>A', 'ENST00000609806:c.1709C>T', 'ENST00000609079:c.593A>T', 'ENST00000518325:c.1199A>G', 'ENST00000287008:c.2398T>C', 'ENST00000287008:c.1688G>A', 'ENST00000289448:c.153C>T', 'ENST00000359120:c.1021C>T', 'ENST00000256084:c.842A>G', 'ENST00000256084:c.1046C>T', 'ENST00000256084:c.1145G>A', 'ENST00000256084:c.1230T>C', 'ENST00000305988:c.285G>A', 'ENST00000305988:c.318G>C', 'ENST00000296721:c.821G>A', 'ENST00000243389:c.418C>G', 'ENST00000409999:c.334G>A', 'ENST00000409999:c.360A>G', 'ENST00000521850:c.1766G>C', 'ENST00000524175:c.461G>C', 'ENST00000261944:c.2336T>C', 'ENST00000292408:c.652C>T', 'ENST00000292408:c.947C>T', 'ENST00000324417:c.489C>T', 'ENST00000324417:c.865T>C', 'ENST00000322434:c.469T>C', 'ENST00000315475:c.1942T>C', 'ENST00000315475:c.1963G>A', 'ENST00000307832:c.959G>A', 'ENST00000307832:c.639G>C', 'ENST00000342868:c.1395C>T', 'ENST00000328275:c.662A>G', 'ENST00000296839:c.796C>T', 'ENST00000334984:c.897G>A', 'ENST00000379426:c.24C>T', 'ENST00000229922:c.1669A>G', 'ENST00000565469:c.716T>C', 'ENST00000377905:c.1233G>A', 'ENST00000338379:c.197C>T', 'ENST00000338379:c.83G>C', 'ENST00000244513:c.225T>C', 'ENST00000244513:c.703G>A', 'ENST00000244513:c.744C>A', 'ENST00000244513:c.1575C>G', 'ENST00000438996:c.149A>G', 'ENST00000377171:c.631G>A', 'ENST00000377171:c.879T>C', 'ENST00000377171:c.914C>T', 'ENST00000377167:c.322T>C', 'ENST00000377167:c.754A>G', 'ENST00000377160:c.84T>C', 'ENST00000396806:c.244C>T', 'ENST00000383555:c.423C>G', 'ENST00000581376:c.539T>C', 'ENST00000581376:c.772C>G', 'ENST00000581376:c.801G>T', 'ENST00000581376:c.1168C>A', 'ENST00000581376:c.1259T>C', 'ENST00000581376:c.1267C>G', 'ENST00000581376:c.1296C>A', 'ENST00000462446:c.2187A>G', 'ENST00000462446:c.3488T>C', 'ENST00000561890:c.402T>A', 'ENST00000299367:c.1299G>A', 'ENST00000425368:c.1185C>T', 'ENST00000594256:c.41C>T', 'ENST00000594256:c.33G>C', 'ENST00000383321:c.724G>C', 'ENST00000418967:c.964G>C', 'ENST00000374993:c.180C>T', 'ENST00000288065:c.360T>C', 'ENST00000339717:c.1716C>T', 'ENST00000312917:c.1445T>C', 'ENST00000373674:c.476A>C', 'ENST00000327475:c.2332A>G', 'ENST00000327475:c.3035G>A', 'ENST00000327475:c.3258C>G', 'ENST00000327475:c.4219G>A', 'ENST00000327475:c.5733C>T', 'ENST00000327475:c.7533G>A', 'ENST00000327475:c.7644C>T', 'ENST00000327475:c.8118C>T', 'ENST00000274867:c.2136C>A', 'ENST00000373083:c.996A>G', 'ENST00000230418:c.1998G>A', 'ENST00000372574:c.1269C>T', 'ENST00000398776:c.1599A>G', 'ENST00000288390:c.369G>A', 'ENST00000371347:c.477T>C', 'ENST00000316081:c.1192A>G', 'ENST00000296862:c.349T>C', 'ENST00000296862:c.970T>A', 'ENST00000370888:c.854A>G', 'ENST00000259782:c.692C>T', 'ENST00000370862:c.1258A>G', 'ENST00000281156:c.1281A>G', 'ENST00000322773:c.2388C>T', 'ENST00000264839:c.666A>G', 'ENST00000287097:c.3834C>T', 'ENST00000257770:c.1175A>G', 'ENST00000369499:c.1509G>A', 'ENST00000339746:c.1828C>T', 'ENST00000369066:c.1958T>C', 'ENST00000606766:c.1955C>G', 'ENST00000606766:c.1815C>G', 'ENST00000606766:c.1451C>G', 'ENST00000606766:c.1275C>G', 'ENST00000606766:c.889C>G', 'ENST00000606766:c.629G>C', 'ENST00000417143:c.421G>A', 'ENST00000417143:c.761G>A', 'ENST00000417143:c.773C>T', 'ENST00000417143:c.1045G>A', 'ENST00000417143:c.1085G>A', 'ENST00000417143:c.1151A>G', 'ENST00000417143:c.1596C>T', 'ENST00000417143:c.1754C>T', 'ENST00000417143:c.1878A>G', 'ENST00000368923:c.722G>A', 'ENST00000368605:c.333G>A', 'ENST00000368596:c.515G>A', 'ENST00000368596:c.581T>C', 'ENST00000229554:c.1804G>A', 'ENST00000368440:c.1422C>T', 'ENST00000519565:c.4T>C', 'ENST00000421865:c.1905G>A', 'ENST00000421865:c.2848A>G', 'ENST00000421865:c.6286G>A', 'ENST00000434551:c.9C>T', 'ENST00000434551:c.832G>A', 'ENST00000275200:c.983A>C', 'ENST00000275198:c.78C>T', 'ENST00000275198:c.793G>A', 'ENST00000258034:c.266C>T', 'ENST00000367734:c.412C>T', 'ENST00000251691:c.6114G>A', 'ENST00000230173:c.843A>G', 'ENST00000230173:c.1164A>C', 'ENST00000367526:c.249T>C', 'ENST00000397944:c.952A>G', 'ENST00000253332:c.504A>G', 'ENST00000253332:c.3733G>A', 'ENST00000253332:c.4989A>C', 'ENST00000318981:c.2242G>A', 'ENST00000367094:c.1396C>T', 'ENST00000367094:c.1399T>C', 'ENST00000367094:c.1954A>G', 'ENST00000297267:c.306T>C', 'ENST00000297267:c.1587G>C', 'ENST00000297267:c.2291C>G', 'ENST00000297267:c.2686G>A', 'ENST00000297267:c.3143G>T', 'ENST00000297267:c.3207C>G', 'ENST00000297267:c.3740C>G', 'ENST00000297267:c.3758A>G', 'ENST00000252660:c.647C>T', 'ENST00000230256:c.627G>A', 'ENST00000476779:c.467G>A', 'ENST00000403952:c.699C>G', 'ENST00000308919:c.179C>T', 'ENST00000325979:c.496T>C', 'ENST00000389531:c.4179C>T', 'ENST00000399484:c.701A>G', 'ENST00000297029:c.575C>T', 'ENST00000506618:c.918G>T', 'ENST00000404938:c.1279G>T', 'ENST00000404938:c.1657C>T', 'ENST00000404938:c.1761A>G', 'ENST00000258738:c.469T>C', 'ENST00000258738:c.810A>G', 'ENST00000328843:c.85C>T', 'ENST00000328843:c.736C>T', 'ENST00000328843:c.1096A>G', 'ENST00000328843:c.2485A>G', 'ENST00000328843:c.4495T>C', 'ENST00000328843:c.5542G>A', 'ENST00000328843:c.7387G>A', 'ENST00000328843:c.9613G>A', 'ENST00000354639:c.608G>C', 'ENST00000242152:c.133T>C', 'ENST00000409974:c.1001T>C', 'ENST00000423511:c.934A>G', 'ENST00000439384:c.289A>G', 'ENST00000222792:c.1141A>G', 'ENST00000324453:c.348C>G', 'ENST00000265299:c.1042C>T', 'ENST00000319386:c.1088C>A', 'ENST00000319386:c.1344G>T', 'ENST00000321453:c.2439G>A', 'ENST00000297161:c.954G>A', 'ENST00000297161:c.1835G>T', 'ENST00000359791:c.524C>G', 'ENST00000426402:c.492G>A', 'ENST00000432096:c.505G>C', 'ENST00000408988:c.350A>G', 'ENST00000417403:c.719T>A', 'ENST00000435803:c.1541C>T', 'ENST00000435803:c.1688G>A', 'ENST00000435803:c.2324T>G', 'ENST00000435803:c.3435G>A', 'ENST00000435803:c.4710C>T', 'ENST00000435803:c.5040G>A', 'ENST00000435803:c.6557C>A', 'ENST00000435803:c.8044C>T', 'ENST00000435803:c.9159C>T', 'ENST00000435803:c.11576A>T', 'ENST00000435803:c.12135T>C', 'ENST00000596947:c.187G>C', 'ENST00000408890:c.77C>A', 'ENST00000408890:c.206C>G', 'ENST00000408890:c.223G>A', 'ENST00000408890:c.446C>T', 'ENST00000408890:c.598G>C', 'ENST00000275493:c.2886T>C', 'ENST00000570211:c.942T>C', 'ENST00000575648:c.465G>C', 'ENST00000575262:c.147C>T', 'ENST00000573227:c.419C>G', 'ENST00000573227:c.322C>G', 'ENST00000571189:c.989A>C', 'ENST00000285871:c.754A>G', 'ENST00000431501:c.138C>T', 'ENST00000356239:c.3737A>G', 'ENST00000356239:c.6011C>T', 'ENST00000297268:c.1917A>C', 'ENST00000601424:c.349C>T', 'ENST00000316368:c.254T>C', 'ENST00000348028:c.3200T>G', 'ENST00000348028:c.4288G>A', 'ENST00000348028:c.5139C>T', 'ENST00000348028:c.5185G>T', 'ENST00000348028:c.5258T>C', 'ENST00000348028:c.6071C>G', 'ENST00000348028:c.6268G>C', 'ENST00000348028:c.6496T>C', 'ENST00000379442:c.380G>C', 'ENST00000379442:c.1061C>G', 'ENST00000379442:c.1225T>G', 'ENST00000379442:c.1790C>T', 'ENST00000379442:c.2246T>C', 'ENST00000379442:c.14096C>T', 'ENST00000379442:c.14223C>T', 'ENST00000379442:c.14614G>A', 'ENST00000306151:c.3737C>T', 'ENST00000535008:c.574C>T', 'ENST00000317716:c.2414T>C', 'ENST00000265717:c.355G>T', 'ENST00000318493:c.4099C>T', 'ENST00000318493:c.4258G>A', 'ENST00000318493:c.4333G>A', 'ENST00000222462:c.534G>A', 'ENST00000393386:c.891G>A', 'ENST00000340112:c.241G>A', 'ENST00000223028:c.989G>A', 'ENST00000315184:c.494C>A', 'ENST00000315184:c.777G>A', 'ENST00000297819:c.313C>T', 'ENST00000579032:c.744T>C', 'ENST00000579032:c.1056T>C', 'ENST00000579597:c.624C>T', 'ENST00000579597:c.750C>T', 'ENST00000583337:c.961C>G', 'ENST00000583337:c.895A>T', 'ENST00000361388:c.1367G>A', 'ENST00000275874:c.793T>C', 'ENST00000247879:c.869C>T', 'ENST00000247881:c.67T>C', 'ENST00000247881:c.333G>C', 'ENST00000247881:c.559G>A', 'ENST00000563244:c.3410T>C', 'ENST00000563244:c.4064T>C', 'ENST00000564429:c.1014T>C', 'ENST00000564429:c.1040C>G', 'ENST00000564429:c.1470G>A', 'ENST00000562511:c.234A>T', 'ENST00000563141:c.237C>G', 'ENST00000563141:c.88C>G', 'ENST00000564119:c.251A>T', 'ENST00000569960:c.327C>G', 'ENST00000569960:c.260G>C', 'ENST00000569960:c.181G>C', 'ENST00000567655:c.271C>G', 'ENST00000567655:c.240A>T', 'ENST00000567655:c.200A>T', 'ENST00000567655:c.118A>T', 'ENST00000567655:c.58C>G', 'ENST00000567630:c.363G>C', 'ENST00000567630:c.308A>T', 'ENST00000567630:c.245T>A', 'ENST00000565091:c.230C>G', 'ENST00000566736:c.224G>A', 'ENST00000562278:c.62A>G', 'ENST00000561535:c.623G>C', 'ENST00000561535:c.744T>C', 'ENST00000567307:c.359G>C', 'ENST00000564856:c.189G>C', 'ENST00000409222:c.1015G>A', 'ENST00000439431:c.871C>T', 'ENST00000439431:c.870G>A', 'ENST00000408955:c.360C>T', 'ENST00000408979:c.909T>G', 'ENST00000408979:c.912T>C', 'ENST00000408951:c.441C>T', 'ENST00000408951:c.470C>T', 'ENST00000223210:c.411C>T', 'ENST00000255945:c.559G>T', 'ENST00000004103:c.472G>A', 'ENST00000004103:c.619C>T', 'ENST00000360937:c.1873C>G', 'ENST00000360937:c.1874G>C', 'ENST00000297494:c.2355C>G', 'ENST00000392800:c.802A>G', 'ENST00000332007:c.856C>T', 'ENST00000262112:c.2130T>C', 'ENST00000262112:c.2724C>T', 'ENST00000262112:c.3726G>A', 'ENST00000566299:c.1228G>A', 'ENST00000566299:c.3644T>C', 'ENST00000297435:c.380T>C', 'ENST00000330590:c.244C>T', 'ENST00000314265:c.42A>G', 'ENST00000382435:c.1092T>C', 'ENST00000525043:c.268A>G', 'ENST00000525043:c.609T>A', 'ENST00000316609:c.1744G>A', 'ENST00000251630:c.1104G>A', 'ENST00000286479:c.910G>A', 'ENST00000265807:c.618A>G', 'ENST00000318561:c.587C>A', 'ENST00000240123:c.2100A>G', 'ENST00000289989:c.735C>T', 'ENST00000276440:c.935G>A', 'ENST00000276440:c.2913A>T', 'ENST00000276440:c.3112A>G', 'ENST00000276440:c.3662C>T', 'ENST00000287842:c.573G>A', 'ENST00000287842:c.1317T>C', 'ENST00000315215:c.3372C>T', 'ENST00000302495:c.1066T>C', 'ENST00000523400:c.139G>A', 'ENST00000331251:c.1881A>T', 'ENST00000220676:c.2763G>A', 'ENST00000220676:c.5156G>A', 'ENST00000220676:c.5219T>C', 'ENST00000220676:c.5323A>G', 'ENST00000518373:c.277C>T', 'ENST00000262207:c.1525G>A', 'ENST00000396423:c.210G>A', 'ENST00000354370:c.840G>A', 'ENST00000391679:c.416T>C', 'ENST00000302190:c.1074C>T', 'ENST00000322128:c.191G>A', 'ENST00000445593:c.710A>G', 'ENST00000445593:c.749G>C', 'ENST00000254898:c.1047G>T', 'ENST00000254898:c.1299A>G', 'ENST00000254898:c.1392C>T', 'ENST00000522135:c.394A>C', 'ENST00000522939:c.253C>T', 'ENST00000358755:c.323A>G', 'ENST00000358755:c.414A>G', 'ENST00000358755:c.1079A>G', 'ENST00000358755:c.2387G>A', 'ENST00000330295:c.790T>C', 'ENST00000378402:c.263G>A', 'ENST00000378402:c.1331G>A', 'ENST00000378402:c.1508C>T', 'ENST00000378402:c.2872A>G', 'ENST00000378402:c.3678A>G', 'ENST00000378402:c.4644C>A', 'ENST00000378402:c.5017A>G', 'ENST00000378402:c.5997G>T', 'ENST00000378402:c.6725G>C', 'ENST00000378402:c.8036A>G', 'ENST00000378402:c.9188A>T', 'ENST00000378402:c.9254C>G', 'ENST00000297848:c.882T>C', 'ENST00000247781:c.901T>C', 'ENST00000276699:c.885G>A', 'ENST00000399018:c.629T>C', 'ENST00000220616:c.2240T>G', 'ENST00000220616:c.2374T>C', 'ENST00000220616:c.3122A>G', 'ENST00000220616:c.3975A>G', 'ENST00000220616:c.4546T>C', 'ENST00000220616:c.5552G>A', 'ENST00000220616:c.5947G>A', 'ENST00000323289:c.1584T>C', 'ENST00000570580:c.155A>G', 'ENST00000330824:c.87C>T', 'ENST00000562477:c.621C>G', 'ENST00000359971:c.648G>A', 'ENST00000382500:c.484G>C', 'ENST00000382293:c.1693G>C', 'ENST00000382293:c.1712T>G', 'ENST00000382289:c.95T>C', 'ENST00000302441:c.1572G>C', 'ENST00000382082:c.1033C>G', 'ENST00000239316:c.294T>A', 'ENST00000223862:c.466G>A', 'ENST00000314556:c.544T>C', 'ENST00000297641:c.421C>T', 'ENST00000276935:c.1353A>G', 'ENST00000380548:c.3308A>C', 'ENST00000380548:c.3534G>A', 'ENST00000380232:c.228C>T', 'ENST00000357374:c.227A>T', 'ENST00000357374:c.224C>G', 'ENST00000357374:c.138G>C', 'ENST00000357374:c.106T>A', 'ENST00000380216:c.403G>C', 'ENST00000380216:c.401T>C', 'ENST00000380216:c.289G>C', 'ENST00000380216:c.145A>G', 'ENST00000276927:c.555C>G', 'ENST00000380036:c.1479A>C', 'ENST00000342743:c.627G>A', 'ENST00000290943:c.2388C>T', 'ENST00000290943:c.2985T>G', 'ENST00000399742:c.638C>T', 'ENST00000354323:c.283C>T', 'ENST00000335119:c.902G>A', 'ENST00000377792:c.454A>G', 'ENST00000359927:c.441G>A', 'ENST00000377765:c.773C>T', 'ENST00000377765:c.864C>T', 'ENST00000377276:c.833C>G', 'ENST00000377197:c.474C>T', 'ENST00000424854:c.1927G>C', 'ENST00000424854:c.2255A>C', 'ENST00000424854:c.2287G>A', 'ENST00000424854:c.2924G>A', 'ENST00000424854:c.3058A>G', 'ENST00000424854:c.3128C>T', 'ENST00000424854:c.3197G>A', 'ENST00000424854:c.3340G>C', 'ENST00000424854:c.3390A>G', 'ENST00000325643:c.1069A>C', 'ENST00000325643:c.2112C>A', 'ENST00000325643:c.3122T>A', 'ENST00000325643:c.3483T>C', 'ENST00000325643:c.4115G>A', 'ENST00000297954:c.2482G>A', 'ENST00000288985:c.324C>T', 'ENST00000375123:c.1048T>C', 'ENST00000375001:c.911G>A', 'ENST00000375001:c.1033A>G', 'ENST00000375001:c.1759G>A', 'ENST00000335040:c.56C>A', 'ENST00000374779:c.867T>C', 'ENST00000374779:c.477A>G', 'ENST00000374779:c.350C>G', 'ENST00000374779:c.340A>G', 'ENST00000374779:c.329C>T', 'ENST00000374779:c.147C>T', 'ENST00000259362:c.591C>A', 'ENST00000318763:c.104T>C', 'ENST00000318763:c.616A>C', 'ENST00000318763:c.873C>T', 'ENST00000189978:c.609A>G', 'ENST00000189978:c.671C>T', 'ENST00000189978:c.1373G>A', 'ENST00000358883:c.1290C>T', 'ENST00000374232:c.536G>C', 'ENST00000374124:c.988T>C', 'ENST00000356083:c.656G>A', 'ENST00000356083:c.750A>G', 'ENST00000356083:c.2222A>T', 'ENST00000356083:c.2293C>T', 'ENST00000328252:c.1350C>T', 'ENST00000565320:c.228A>T', 'ENST00000304880:c.540T>C', 'ENST00000304880:c.490T>C', 'ENST00000304880:c.52C>T', 'ENST00000373688:c.152C>T', 'ENST00000304865:c.655T>G', 'ENST00000304865:c.599A>C', 'ENST00000259466:c.418T>A', 'ENST00000304720:c.662G>A', 'ENST00000373615:c.1522G>C', 'ENST00000288815:c.457A>G', 'ENST00000361171:c.216G>A', 'ENST00000355497:c.448A>G', 'ENST00000355497:c.733G>C', 'ENST00000443493:c.275G>A', 'ENST00000599518:c.471T>G', 'ENST00000594717:c.265G>A', 'ENST00000361069:c.1764A>G', 'ENST00000361069:c.2441C>G', 'ENST00000361069:c.3241G>A', 'ENST00000361069:c.3247C>G', 'ENST00000361069:c.3377A>G', 'ENST00000360670:c.1514C>T', 'ENST00000360670:c.1652C>T', 'ENST00000570203:c.1670A>G', 'ENST00000562694:c.540T>C', 'ENST00000562694:c.1743G>A', 'ENST00000354484:c.1331C>T', 'ENST00000354484:c.1397A>T', 'ENST00000354484:c.1416A>C', 'ENST00000354484:c.1457C>T', 'ENST00000263611:c.229C>T', 'ENST00000371817:c.2002G>A', 'ENST00000340780:c.409C>T', 'ENST00000340780:c.412T>C', 'ENST00000576146:c.845C>T', 'ENST00000576146:c.887G>A', 'ENST00000561941:c.1172C>T', 'ENST00000308874:c.774G>A', 'ENST00000371629:c.147C>T', 'ENST00000371629:c.215C>T', 'ENST00000371629:c.235A>G', 'ENST00000371629:c.332G>C', 'ENST00000371629:c.783T>G', 'ENST00000312665:c.1437T>C', 'ENST00000361134:c.943T>C', 'ENST00000388931:c.678C>T', 'ENST00000277551:c.1828G>A', 'ENST00000277549:c.4453G>A', 'ENST00000381466:c.387A>C', 'ENST00000298375:c.972C>T', 'ENST00000583876:c.882A>G', 'ENST00000583238:c.441C>G', 'ENST00000380332:c.353A>G', 'ENST00000380332:c.351G>A', 'ENST00000380332:c.304A>G', 'ENST00000358415:c.640C>T', 'ENST00000358415:c.2186C>G', 'ENST00000298428:c.524C>T', 'ENST00000377266:c.104G>A', 'ENST00000377266:c.304G>C', 'ENST00000377266:c.587G>A', 'ENST00000377265:c.178C>T', 'ENST00000377118:c.379G>C', 'ENST00000377118:c.265A>G', 'ENST00000376504:c.991T>C', 'ENST00000323327:c.209G>T', 'ENST00000376495:c.273C>T', 'ENST00000376356:c.787A>G', 'ENST00000265944:c.1270C>T', 'ENST00000265944:c.1271G>A', 'ENST00000265944:c.3763G>A', 'ENST00000570930:c.2006C>G', 'ENST00000570930:c.1680T>A', 'ENST00000570930:c.1651T>A', 'ENST00000570930:c.1536A>T', 'ENST00000423465:c.83C>T', 'ENST00000302316:c.1586T>C', 'ENST00000302316:c.2002T>C', 'ENST00000321660:c.674G>A', 'ENST00000361713:c.2682G>C', 'ENST00000361713:c.2833G>A', 'ENST00000361713:c.2851G>A', 'ENST00000361713:c.2871T>C', 'ENST00000361713:c.2884C>T', 'ENST00000306006:c.1278T>G', 'ENST00000573291:c.1073C>G', 'ENST00000573291:c.528C>G', 'ENST00000573291:c.452G>C', 'ENST00000573291:c.384G>C', 'ENST00000579523:c.287G>A', 'ENST00000581492:c.1031G>C', 'ENST00000581492:c.668G>C', 'ENST00000581492:c.512A>T', 'ENST00000580279:c.1698C>G', 'ENST00000580279:c.1668C>G', 'ENST00000374111:c.228C>T', 'ENST00000374112:c.365C>T', 'ENST00000578454:c.274T>G', 'ENST00000373970:c.457A>G', 'ENST00000354393:c.1036T>C', 'ENST00000354393:c.1273C>G', 'ENST00000354393:c.1461G>A', 'ENST00000354393:c.1509G>A', 'ENST00000354393:c.2792C>A', 'ENST00000373644:c.786T>A', 'ENST00000373644:c.2960G>A', 'ENST00000373644:c.4241A>T', 'ENST00000298596:c.1827C>T', 'ENST00000373290:c.375C>T', 'ENST00000242462:c.626T>C', 'ENST00000373279:c.267C>T', 'ENST00000354547:c.750G>A', 'ENST00000277942:c.1143C>T', 'ENST00000277942:c.433A>C', 'ENST00000373209:c.941C>T', 'ENST00000373207:c.2809C>A', 'ENST00000373207:c.2856C>T', 'ENST00000373207:c.3057C>T', 'ENST00000373207:c.3630A>G', 'ENST00000299297:c.10G>T', 'ENST00000224721:c.1507G>A', 'ENST00000224721:c.4071A>G', 'ENST00000224721:c.4743G>A', 'ENST00000372325:c.752C>A', 'ENST00000372325:c.505C>T', 'ENST00000372308:c.244C>T', 'ENST00000356374:c.3669C>T', 'ENST00000356374:c.3681T>C', 'ENST00000313455:c.384G>A', 'ENST00000313455:c.580C>A', 'ENST00000313455:c.644A>G', 'ENST00000332904:c.584A>G', 'ENST00000332904:c.1769A>G', 'ENST00000372113:c.1534A>C', 'ENST00000224756:c.436A>G', 'ENST00000348795:c.315C>G', 'ENST00000238983:c.1012A>G', 'ENST00000404459:c.731C>A', 'ENST00000404743:c.1325C>T', 'ENST00000371852:c.526G>A', 'ENST00000260766:c.5358G>C', 'ENST00000260682:c.442C>T', 'ENST00000298808:c.291A>C', 'ENST00000370200:c.1090G>C', 'ENST00000351270:c.279C>T', 'ENST00000361048:c.363A>G', 'ENST00000354462:c.275A>G', 'ENST00000369295:c.231A>G', 'ENST00000392982:c.642A>G', 'ENST00000609571:c.1190A>G', 'ENST00000369230:c.1287G>A', 'ENST00000369230:c.1290A>G', 'ENST00000579578:c.474A>G', 'ENST00000553456:c.1290C>A', 'ENST00000239032:c.1053C>T', 'ENST00000239032:c.424G>A', 'ENST00000398248:c.397C>T', 'ENST00000260733:c.905T>C', 'ENST00000260733:c.944C>T', 'ENST00000260733:c.1097T>A', 'ENST00000260723:c.1547T>C', 'ENST00000330163:c.230C>A', 'ENST00000330163:c.267C>T', 'ENST00000330163:c.433C>T', 'ENST00000330163:c.5227A>G', 'ENST00000329446:c.837G>A', 'ENST00000298622:c.246G>A', 'ENST00000338492:c.1022C>T', 'ENST00000607359:c.84G>A', 'ENST00000607359:c.114A>G', 'ENST00000607359:c.163G>A', 'ENST00000607359:c.178C>G', 'ENST00000607359:c.652G>C', 'ENST00000304613:c.45G>A', 'ENST00000304613:c.654C>T', 'ENST00000304613:c.1762G>A', 'ENST00000304613:c.2439T>C', 'ENST00000312165:c.1082A>T', 'ENST00000312165:c.1083T>C', 'ENST00000329962:c.294G>C', 'ENST00000331563:c.1492A>G', 'ENST00000450448:c.735G>A', 'ENST00000359061:c.173T>C', 'ENST00000359061:c.276G>A', 'ENST00000359061:c.346G>A', 'ENST00000359061:c.1111G>A', 'ENST00000359061:c.1370T>C', 'ENST00000359061:c.1408G>C', 'ENST00000359061:c.1437C>T', 'ENST00000359061:c.1685G>C', 'ENST00000359061:c.2193T>C', 'ENST00000359061:c.2494G>A', 'ENST00000359061:c.2616T>C', 'ENST00000359061:c.3447C>T', 'ENST00000359061:c.3600A>G', 'ENST00000359061:c.3620C>T', 'ENST00000441003:c.3666T>C', 'ENST00000359061:c.4210A>C', 'ENST00000333592:c.392C>T', 'ENST00000356191:c.655C>G', 'ENST00000447027:c.1123C>T', 'ENST00000341958:c.911T>C', 'ENST00000341958:c.915C>G', 'ENST00000341958:c.926C>T', 'ENST00000278317:c.633G>A', 'ENST00000312221:c.1456C>T', 'ENST00000450052:c.38A>G', 'ENST00000356069:c.733T>G', 'ENST00000356069:c.601A>T', 'ENST00000356069:c.386T>C', 'ENST00000356069:c.262T>C', 'ENST00000322110:c.316A>G', 'ENST00000322110:c.614C>T', 'ENST00000322101:c.866C>T', 'ENST00000322101:c.376C>T', 'ENST00000322101:c.254C>G', 'ENST00000322101:c.231C>G', 'ENST00000322101:c.217A>C', 'ENST00000322059:c.903A>G', 'ENST00000359350:c.267C>T', 'ENST00000321961:c.746C>G', 'ENST00000321961:c.652T>C', 'ENST00000321961:c.439G>A', 'ENST00000380373:c.706T>C', 'ENST00000380371:c.653C>T', 'ENST00000321522:c.14A>G', 'ENST00000380224:c.707C>T', 'ENST00000328611:c.789C>A', 'ENST00000328611:c.792T>G', 'ENST00000328611:c.973G>A', 'ENST00000328611:c.974T>C', 'ENST00000300778:c.547T>C', 'ENST00000380211:c.754G>T', 'ENST00000341449:c.533G>C', 'ENST00000341449:c.869G>A', 'ENST00000311659:c.1785T>C', 'ENST00000380184:c.1521G>A', 'ENST00000380184:c.1084T>C', 'ENST00000380184:c.891A>C', 'ENST00000380184:c.775T>C', 'ENST00000332249:c.820G>A', 'ENST00000332249:c.444C>T', 'ENST00000332249:c.166T>C', 'ENST00000316506:c.473C>A', 'ENST00000379936:c.1087G>A', 'ENST00000254579:c.2429A>C', 'ENST00000254579:c.2645A>G', 'ENST00000254579:c.2654A>G', 'ENST00000254579:c.2869G>A', 'ENST00000254579:c.5986C>T', 'ENST00000254579:c.6608T>C', 'ENST00000299441:c.4108G>A', 'ENST00000338569:c.358G>T', 'ENST00000307401:c.249T>C', 'ENST00000307401:c.580G>T', 'ENST00000307401:c.916C>G', 'ENST00000332601:c.351T>C', 'ENST00000307322:c.462G>A', 'ENST00000317834:c.522G>C', 'ENST00000278319:c.1368A>T', 'ENST00000299481:c.621A>G', 'ENST00000328375:c.48G>A', 'ENST00000325884:c.399C>T', 'ENST00000256194:c.702T>G', 'ENST00000334310:c.638C>T', 'ENST00000576479:c.1080A>G', 'ENST00000570468:c.1567C>G', 'ENST00000379554:c.153G>A', 'ENST00000379554:c.730T>C', 'ENST00000342528:c.3664T>C', 'ENST00000314254:c.444C>G', 'ENST00000314254:c.561T>A', 'ENST00000340135:c.313C>A', 'ENST00000356524:c.336C>T', 'ENST00000356524:c.351T>C', 'ENST00000349880:c.2850T>C', 'ENST00000311043:c.2651G>A', 'ENST00000298925:c.531C>T', 'ENST00000324559:c.584T>C', 'ENST00000324559:c.1283A>T', 'ENST00000263182:c.776C>T', 'ENST00000257836:c.345C>T', 'ENST00000241051:c.666G>A', 'ENST00000278360:c.1622G>A', 'ENST00000299440:c.1086G>A', 'ENST00000263765:c.522G>A', 'ENST00000378779:c.236G>C', 'ENST00000359803:c.264G>A', 'ENST00000309562:c.206G>A', 'ENST00000309562:c.839C>A', 'ENST00000320048:c.844C>T', 'ENST00000319988:c.870C>T', 'ENST00000319856:c.669T>C', 'ENST00000446524:c.237G>A', 'ENST00000446524:c.386A>C', 'ENST00000446524:c.509G>A', 'ENST00000332682:c.589T>C', 'ENST00000561558:c.961T>A', 'ENST00000561558:c.839G>C', 'ENST00000561558:c.687T>A', 'ENST00000328188:c.719C>T', 'ENST00000328188:c.755G>A', 'ENST00000314721:c.230C>T', 'ENST00000314721:c.612C>A', 'ENST00000314721:c.958A>T', 'ENST00000314706:c.76C>T', 'ENST00000314644:c.429A>G', 'ENST00000314644:c.757G>A', 'ENST00000314634:c.49C>T', 'ENST00000314634:c.73G>T', 'ENST00000314634:c.99C>T', 'ENST00000314634:c.195C>T', 'ENST00000314634:c.776T>C', 'ENST00000302231:c.68T>A', 'ENST00000314259:c.427T>C', 'ENST00000333976:c.829A>G', 'ENST00000378396:c.591C>T', 'ENST00000449290:c.352G>A', 'ENST00000344514:c.723C>T', 'ENST00000570683:c.744G>C', 'ENST00000570683:c.343C>G', 'ENST00000570683:c.42C>G', 'ENST00000570683:c.33G>C', 'ENST00000573647:c.1001C>G', 'ENST00000573647:c.679T>A', 'ENST00000573647:c.299C>G', 'ENST00000573647:c.287C>G', 'ENST00000574192:c.689C>G', 'ENST00000574192:c.553C>G', 'ENST00000574192:c.502T>A', 'ENST00000574192:c.416C>G', 'ENST00000574192:c.370C>A', 'ENST00000574192:c.308A>T', 'ENST00000574192:c.159G>C', 'ENST00000574192:c.93A>T', 'ENST00000574800:c.155A>G', 'ENST00000574800:c.173C>A', 'ENST00000574644:c.391A>G', 'ENST00000570574:c.57T>C', 'ENST00000570574:c.59G>A', 'ENST00000570574:c.335C>G', 'ENST00000302270:c.867C>T', 'ENST00000302270:c.878A>G', 'ENST00000440231:c.582A>G', 'ENST00000440231:c.612G>T', 'ENST00000312253:c.821C>T', 'ENST00000312253:c.550T>C', 'ENST00000312253:c.382A>G', 'ENST00000312253:c.364T>C', 'ENST00000312253:c.20T>C', 'ENST00000528616:c.536G>A', 'ENST00000526812:c.271G>T', 'ENST00000526538:c.845G>C', 'ENST00000302981:c.313G>A', 'ENST00000302969:c.79C>T', 'ENST00000573911:c.82G>T', 'ENST00000573911:c.181T>G', 'ENST00000573911:c.184A>G', 'ENST00000573911:c.666C>A', 'ENST00000312153:c.697T>C', 'ENST00000312153:c.698A>G', 'ENST00000573911:c.775G>T', 'ENST00000575017:c.764C>G', 'ENST00000575017:c.594A>C', 'ENST00000571556:c.925G>C', 'ENST00000571556:c.575A>T', 'ENST00000571556:c.560C>G', 'ENST00000571556:c.558G>C', 'ENST00000571556:c.378T>A', 'ENST00000571556:c.351C>A', 'ENST00000571556:c.153C>G', 'ENST00000571556:c.45T>A', 'ENST00000571556:c.6G>C', 'ENST00000326855:c.675G>A', 'ENST00000497933:c.1065C>T', 'ENST00000257254:c.366C>A', 'ENST00000278407:c.1665G>A', 'ENST00000309433:c.419G>A', 'ENST00000302572:c.444G>A', 'ENST00000302572:c.443T>C', 'ENST00000257264:c.951C>T', 'ENST00000278853:c.858C>T', 'ENST00000278853:c.1078C>A', 'ENST00000257215:c.179G>A', 'ENST00000265460:c.3068T>C', 'ENST00000394836:c.635G>A', 'ENST00000378043:c.752T>C', 'ENST00000312134:c.279C>T', 'ENST00000311034:c.287G>T', 'ENST00000502692:c.1934A>G', 'ENST00000502692:c.2149A>C', 'ENST00000333861:c.2429G>A', 'ENST00000333139:c.305C>A', 'ENST00000007633:c.818C>T', 'ENST00000602104:c.136A>G', 'ENST00000316296:c.163G>A', 'ENST00000316296:c.1554A>G', 'ENST00000311131:c.1403G>C', 'ENST00000263674:c.6080G>A', 'ENST00000304771:c.2500T>C', 'ENST00000322563:c.533C>T', 'ENST00000571155:c.319T>C', 'ENST00000571155:c.560G>A', 'ENST00000409619:c.6518G>A', 'ENST00000278487:c.1538T>C', 'ENST00000329758:c.1367T>C', 'ENST00000321955:c.158G>A', 'ENST00000298047:c.2916C>T', 'ENST00000298047:c.6895A>G', 'ENST00000298047:c.8850G>A', 'ENST00000298047:c.10569G>T', 'ENST00000299001:c.1191A>T', 'ENST00000299001:c.1192G>A', 'ENST00000299001:c.1319G>C', 'ENST00000279463:c.1290C>T', 'ENST00000302259:c.926A>C', 'ENST00000528953:c.84A>C', 'ENST00000571962:c.164C>G', 'ENST00000570588:c.260A>C', 'ENST00000299961:c.841G>A', 'ENST00000593514:c.1606G>A', 'ENST00000600882:c.2725A>G', 'ENST00000319763:c.804T>A', 'ENST00000319763:c.1138C>T', 'ENST00000314475:c.336G>A', 'ENST00000356641:c.94A>G', 'ENST00000264037:c.2256C>T', 'ENST00000264037:c.4098G>A', 'ENST00000284273:c.1383A>G', 'ENST00000322282:c.1754T>C', 'ENST00000327930:c.596C>A', 'ENST00000309154:c.683C>T', 'ENST00000309154:c.319G>A', 'ENST00000321355:c.389G>A', 'ENST00000321355:c.394C>T', 'ENST00000531945:c.368A>G', 'ENST00000531945:c.277G>A', 'ENST00000307002:c.783T>G', 'ENST00000320891:c.26C>T', 'ENST00000320891:c.27A>G', 'ENST00000320891:c.400A>G', 'ENST00000320891:c.703A>G', 'ENST00000320891:c.883A>C', 'ENST00000320891:c.894G>A', 'ENST00000375024:c.400A>G', 'ENST00000375024:c.834G>A', 'ENST00000356130:c.87A>G', 'ENST00000328064:c.433T>C', 'ENST00000284287:c.470C>G', 'ENST00000284287:c.725C>T', 'ENST00000442070:c.496A>G', 'ENST00000397801:c.1459G>A', 'ENST00000397801:c.3183G>A', 'ENST00000305738:c.148G>A', 'ENST00000263576:c.1349T>C', 'ENST00000530777:c.301C>T', 'ENST00000530777:c.292A>G', 'ENST00000278742:c.672G>A', 'ENST00000278742:c.1633C>T', 'ENST00000299164:c.1698T>C', 'ENST00000317019:c.32C>T', 'ENST00000315939:c.3172G>A', 'ENST00000397132:c.971A>G', 'ENST00000011898:c.335T>C', 'ENST00000537719:c.50G>T', 'ENST00000252318:c.494T>G', 'ENST00000252318:c.733T>G', 'ENST00000252318:c.1137A>G', 'ENST00000252318:c.1880G>T', 'ENST00000597750:c.1186G>A', 'ENST00000597750:c.1588G>T', 'ENST00000299665:c.287A>G', 'ENST00000299698:c.1455A>G', 'ENST00000299698:c.3544C>T', 'ENST00000266551:c.450T>C', 'ENST00000535540:c.626C>T', 'ENST00000240618:c.765G>A', 'ENST00000574656:c.944C>G', 'ENST00000574656:c.844A>T', 'ENST00000574656:c.697C>G', 'ENST00000574656:c.644T>A', 'ENST00000574656:c.517G>C', 'ENST00000574656:c.496C>G', 'ENST00000572823:c.1078C>G', 'ENST00000572823:c.554C>G', 'ENST00000572823:c.488A>T', 'ENST00000573524:c.550T>A', 'ENST00000573524:c.543T>A', 'ENST00000573524:c.481A>T', 'ENST00000573524:c.195C>G', 'ENST00000574870:c.1048A>T', 'ENST00000574870:c.1040A>T', 'ENST00000574870:c.655C>G', 'ENST00000575008:c.657C>G', 'ENST00000575008:c.456C>G', 'ENST00000575008:c.315A>T', 'ENST00000575008:c.255T>A', 'ENST00000575008:c.245C>G', 'ENST00000574263:c.862C>G', 'ENST00000574263:c.834C>G', 'ENST00000573885:c.749A>T', 'ENST00000573885:c.682A>T', 'ENST00000571879:c.282G>C', 'ENST00000571879:c.190T>A', 'ENST00000571879:c.188C>G', 'ENST00000571879:c.87G>C', 'ENST00000571012:c.594T>A', 'ENST00000334266:c.931G>C', 'ENST00000334266:c.930T>C', 'ENST00000308721:c.903T>C', 'ENST00000534843:c.192T>G', 'ENST00000197268:c.225C>T', 'ENST00000539026:c.423C>T', 'ENST00000266395:c.301A>G', 'ENST00000266497:c.1208T>C', 'ENST00000266497:c.1529C>T', 'ENST00000261196:c.893G>C', 'ENST00000256958:c.484A>G', 'ENST00000256958:c.617T>C', 'ENST00000256958:c.693C>T', 'ENST00000534526:c.307C>G', 'ENST00000324616:c.1557A>T', 'ENST00000298910:c.515T>C', 'ENST00000425730:c.322C>T', 'ENST00000454784:c.1573G>A', 'ENST00000454784:c.2398C>T', 'ENST00000454784:c.2433T>C', 'ENST00000454784:c.2449C>G', 'ENST00000454784:c.2658C>T', 'ENST00000454784:c.2695C>A', 'ENST00000454784:c.2815C>G', 'ENST00000454784:c.3213G>A', 'ENST00000454784:c.3752T>C', 'ENST00000454784:c.5556T>A', 'ENST00000454784:c.6222C>G', 'ENST00000454784:c.6468C>T', 'ENST00000454784:c.6978G>A', 'ENST00000454784:c.7450G>T', 'ENST00000454784:c.8629A>T', 'ENST00000454784:c.9439A>G', 'ENST00000454784:c.10791G>A', 'ENST00000454784:c.10943G>A', 'ENST00000454784:c.10967G>T', 'ENST00000454784:c.11028C>T', 'ENST00000424466:c.46C>T', 'ENST00000424466:c.580G>A', 'ENST00000424466:c.768C>G', 'ENST00000345127:c.2162T>C', 'ENST00000345127:c.2159T>C', 'ENST00000316554:c.960A>C', 'ENST00000595310:c.328C>T', 'ENST00000335017:c.562C>G', 'ENST00000395141:c.72C>T', 'ENST00000417750:c.304G>A', 'ENST00000541364:c.104A>G', 'ENST00000257860:c.2328G>A', 'ENST00000257860:c.2606A>G', 'ENST00000257981:c.1199A>G', 'ENST00000257981:c.3008T>C', 'ENST00000398458:c.411G>A', 'ENST00000301190:c.317C>T', 'ENST00000301190:c.646A>T', 'ENST00000301190:c.980A>G', 'ENST00000301190:c.1165C>A', 'ENST00000257951:c.1333T>C', 'ENST00000430889:c.446A>G', 'ENST00000243052:c.1705G>T', 'ENST00000305377:c.948C>A', 'ENST00000379668:c.427G>A', 'ENST00000379668:c.531C>G', 'ENST00000379668:c.774G>A', 'ENST00000328314:c.84C>T', 'ENST00000379662:c.148G>A', 'ENST00000379662:c.343T>A', 'ENST00000379662:c.941G>T', 'ENST00000309675:c.968A>G', 'ENST00000311966:c.2021T>C', 'ENST00000262031:c.174T>C', 'ENST00000300098:c.1264T>C', 'ENST00000598001:c.57T>C', 'ENST00000266643:c.779C>A', 'ENST00000547771:c.671T>G', 'ENST00000458043:c.3492C>T', 'ENST00000266688:c.5063T>C', 'ENST00000393212:c.309G>A', 'ENST00000393217:c.2795G>A', 'ENST00000393217:c.4503A>C', 'ENST00000378485:c.768G>A', 'ENST00000344636:c.541A>T', 'ENST00000344636:c.819T>C', 'ENST00000552033:c.407T>A', 'ENST00000524981:c.3611C>T', 'ENST00000524981:c.4082T>C', 'ENST00000524981:c.5011C>T', 'ENST00000538618:c.223A>C', 'ENST00000266744:c.1186C>G', 'ENST00000551650:c.80C>G', 'ENST00000280758:c.1353C>T', 'ENST00000338432:c.935C>T', 'ENST00000338432:c.2070G>A', 'ENST00000389385:c.1772C>T', 'ENST00000389385:c.1961T>C', 'ENST00000359236:c.425C>T', 'ENST00000257555:c.1090G>C', 'ENST00000257555:c.1771G>A', 'ENST00000605998:c.104G>C', 'ENST00000339777:c.1016A>C', 'ENST00000409039:c.1295T>C', 'ENST00000409039:c.2728G>A', 'ENST00000409039:c.12979C>T', 'ENST00000299308:c.158C>A', 'ENST00000299308:c.458T>C', 'ENST00000435159:c.814G>A', 'ENST00000281703:c.154G>A', 'ENST00000389441:c.2813G>A', 'ENST00000229030:c.706G>C', 'ENST00000229030:c.2131C>T', 'ENST00000261654:c.2264A>G', 'ENST00000598023:c.947G>T', 'ENST00000598023:c.951G>T', 'ENST00000598023:c.1379G>A', 'ENST00000360564:c.938G>A', 'ENST00000360564:c.1687G>A', 'ENST00000397313:c.745G>A', 'ENST00000241125:c.1194G>A', 'ENST00000255305:c.518A>G', 'ENST00000218867:c.352T>C', 'ENST00000218867:c.436T>G', 'ENST00000382108:c.1375T>C', 'ENST00000255324:c.634T>C', 'ENST00000255324:c.1109C>T', 'ENST00000255324:c.2052A>G', 'ENST00000255324:c.4190G>A', 'ENST00000380473:c.144T>C', 'ENST00000343307:c.821C>T', 'ENST00000298386:c.1064A>G', 'ENST00000298386:c.1881A>G', 'ENST00000380250:c.4453T>C', 'ENST00000380250:c.5002G>A', 'ENST00000380250:c.6398G>A', 'ENST00000380099:c.1062T>G', 'ENST00000380099:c.1163G>A', 'ENST00000310336:c.6191G>A', 'ENST00000310336:c.7707A>G', 'ENST00000310336:c.8492C>T', 'ENST00000280481:c.2157C>T', 'ENST00000280481:c.4293T>A', 'ENST00000280481:c.5734C>T', 'ENST00000310521:c.1065A>G', 'ENST00000378805:c.576C>T', 'ENST00000378805:c.1784A>C', 'ENST00000218721:c.177C>A', 'ENST00000338862:c.2832T>C', 'ENST00000298440:c.844G>A', 'ENST00000322527:c.4336C>T', 'ENST00000595812:c.441C>T', 'ENST00000251041:c.891G>A', 'ENST00000360467:c.1794G>A', 'ENST00000360467:c.1856G>A', 'ENST00000360467:c.4821A>G', 'ENST00000283547:c.195C>T', 'ENST00000375597:c.1024C>T', 'ENST00000375597:c.1171G>A', 'ENST00000375597:c.1323A>G', 'ENST00000315957:c.428C>T', 'ENST00000315957:c.776G>A', 'ENST00000285600:c.143T>C', 'ENST00000285600:c.970G>A', 'ENST00000305045:c.882G>A', 'ENST00000315693:c.800G>A', 'ENST00000315683:c.4G>A', 'ENST00000315683:c.118A>G', 'ENST00000315683:c.159A>G', 'ENST00000315683:c.302T>A', 'ENST00000315683:c.325G>A', 'ENST00000315683:c.816C>T', 'ENST00000315683:c.840C>G', 'ENST00000315543:c.477G>C', 'ENST00000315543:c.867C>T', 'ENST00000357366:c.44C>T', 'ENST00000357366:c.133A>G', 'ENST00000553765:c.679T>C', 'ENST00000553765:c.738T>G', 'ENST00000315409:c.955C>G', 'ENST00000320704:c.710G>A', 'ENST00000326842:c.385C>T', 'ENST00000326783:c.107G>A', 'ENST00000308227:c.99C>T', 'ENST00000298693:c.2895G>C', 'ENST00000206660:c.574A>G', 'ENST00000206660:c.1639G>T', 'ENST00000206660:c.1797G>A', 'ENST00000206660:c.3097G>C', 'ENST00000303532:c.751G>A', 'ENST00000303532:c.351C>A', 'ENST00000542354:c.266C>G', 'ENST00000390423:c.264C>T', 'ENST00000390434:c.375A>G', 'ENST00000390434:c.459C>T', 'ENST00000390435:c.282T>C', 'ENST00000390440:c.237A>C', 'ENST00000390457:c.385A>G', 'ENST00000390464:c.12A>T', 'ENST00000390464:c.152A>G', 'ENST00000390464:c.177G>A', 'ENST00000390500:c.8G>A', 'ENST00000390513:c.26G>C', 'ENST00000311852:c.1038C>G', 'ENST00000267396:c.410G>C', 'ENST00000399910:c.520C>T', 'ENST00000334420:c.3221C>A', 'ENST00000216775:c.1041C>T', 'ENST00000250373:c.1962T>C', 'ENST00000382554:c.2709C>T', 'ENST00000555109:c.143A>G', 'ENST00000361487:c.943G>C', 'ENST00000533625:c.883A>T', 'ENST00000553443:c.1718A>G', 'ENST00000267368:c.575C>T', 'ENST00000280082:c.205A>G', 'ENST00000340446:c.1561T>A', 'ENST00000340446:c.973G>A', 'ENST00000340446:c.972C>T', 'ENST00000267430:c.3843A>G', 'ENST00000306051:c.1146G>A', 'ENST00000321662:c.742G>A', 'ENST00000216513:c.1874A>C', 'ENST00000332981:c.775A>G', 'ENST00000430451:c.226T>C', 'ENST00000322893:c.2502G>A', 'ENST00000316754:c.675C>T', 'ENST00000344113:c.5621A>G', 'ENST00000344113:c.6118T>C', 'ENST00000344113:c.7288G>A', 'ENST00000344113:c.12213T>C', 'ENST00000554584:c.17742C>A', 'ENST00000298705:c.344C>T', 'ENST00000329153:c.1420A>G', 'ENST00000329153:c.2336A>G', 'ENST00000329153:c.3066G>A', 'ENST00000361956:c.389G>A', 'ENST00000267499:c.342C>T', 'ENST00000267499:c.350C>G', 'ENST00000267499:c.351A>T', 'ENST00000216658:c.1902A>G', 'ENST00000216658:c.2236G>A', 'ENST00000326303:c.814C>A', 'ENST00000261980:c.561C>T', 'ENST00000261532:c.1228C>T', 'ENST00000450042:c.343C>A', 'ENST00000216453:c.202T>C', 'ENST00000216471:c.339T>C', 'ENST00000216471:c.496C>T', 'ENST00000216471:c.790G>A', 'ENST00000216471:c.1646A>G', 'ENST00000554738:c.1081T>C', 'ENST00000554738:c.1311G>A', 'ENST00000256339:c.667G>A', 'ENST00000256339:c.4914T>C', 'ENST00000256339:c.5998G>A', 'ENST00000267594:c.389G>A', 'ENST00000298841:c.924C>T', 'ENST00000393078:c.104G>A', 'ENST00000393078:c.898C>T', 'ENST00000393078:c.1120A>G', 'ENST00000216629:c.729A>G', 'ENST00000345514:c.2322C>T', 'ENST00000345514:c.867G>C', 'ENST00000262233:c.415T>C', 'ENST00000262233:c.1805T>C', 'ENST00000359232:c.556G>A', 'ENST00000380069:c.2128T>C', 'ENST00000380069:c.2129C>G', 'ENST00000315264:c.4257T>C', 'ENST00000315264:c.4935T>C', 'ENST00000315264:c.4983C>T', 'ENST00000414716:c.495C>T', 'ENST00000604748:c.8A>T', 'ENST00000604748:c.6G>C', 'ENST00000603773:c.41C>G', 'ENST00000606026:c.1465G>C', 'ENST00000606026:c.762G>C', 'ENST00000605303:c.184T>A', 'ENST00000332663:c.949G>A', 'ENST00000328795:c.808G>A', 'ENST00000331837:c.944C>T', 'ENST00000329468:c.1109T>C', 'ENST00000329468:c.2850C>T', 'ENST00000389232:c.1550G>A', 'ENST00000389232:c.2473G>C', 'ENST00000438749:c.253G>C', 'ENST00000537011:c.444A>G', 'ENST00000333756:c.1269G>A', 'ENST00000333756:c.2926A>G', 'ENST00000290374:c.1365G>A', 'ENST00000290374:c.1065C>T', 'ENST00000318792:c.17C>G', 'ENST00000260356:c.1455G>A', 'ENST00000260356:c.1575C>T', 'ENST00000260356:c.1732A>G', 'ENST00000263798:c.971T>C', 'ENST00000300231:c.2778C>T', 'ENST00000300231:c.3696G>A', 'ENST00000300231:c.4183G>A', 'ENST00000300231:c.4185T>C', 'ENST00000290894:c.632G>C', 'ENST00000316364:c.715C>A', 'ENST00000316364:c.1660C>T', 'ENST00000267842:c.508C>T', 'ENST00000281282:c.1609A>G', 'ENST00000299022:c.700G>T', 'ENST00000306829:c.1492C>T', 'ENST00000267996:c.558T>C', 'ENST00000341418:c.2350C>A', 'ENST00000260382:c.1391T>C', 'ENST00000261908:c.2868C>T', 'ENST00000379822:c.1192A>C', 'ENST00000312493:c.3491G>A', 'ENST00000343789:c.691G>T', 'ENST00000305428:c.1713A>G', 'ENST00000303329:c.447C>T', 'ENST00000339465:c.91A>G', 'ENST00000334574:c.2339C>T', 'ENST00000286744:c.1970G>A', 'ENST00000258888:c.1408C>G', 'ENST00000258888:c.1903G>A', 'ENST00000258888:c.5032T>C', 'ENST00000286749:c.655G>A', 'ENST00000286749:c.799C>A', 'ENST00000361243:c.1698T>C', 'ENST00000361243:c.3201C>T', 'ENST00000389298:c.1455T>C', 'ENST00000352105:c.1681C>A', 'ENST00000352105:c.2347C>T', 'ENST00000352105:c.2649C>T', 'ENST00000352105:c.2847G>T', 'ENST00000352105:c.2873T>A', 'ENST00000352105:c.4581A>C', 'ENST00000352105:c.5351A>G', 'ENST00000352105:c.5857T>G', 'ENST00000352105:c.6293A>G', 'ENST00000352105:c.6481T>C', 'ENST00000352105:c.6838T>G', 'ENST00000339615:c.1034C>G', 'ENST00000339615:c.1075C>T', 'ENST00000330276:c.1681G>A', 'ENST00000318445:c.943G>A', 'ENST00000268164:c.858C>G', 'ENST00000599897:c.507G>C', 'ENST00000378919:c.631C>T', 'ENST00000594047:c.577A>C', 'ENST00000594047:c.935T>C', 'ENST00000594047:c.1108G>A', 'ENST00000332238:c.838G>A', 'ENST00000219406:c.411G>C', 'ENST00000409413:c.1509A>G', 'ENST00000293879:c.494G>C', 'ENST00000293879:c.2199G>A', 'ENST00000293879:c.2697C>A', 'ENST00000567076:c.476C>G', 'ENST00000570289:c.190C>T', 'ENST00000293897:c.244G>A', 'ENST00000348261:c.2167C>T', 'ENST00000348261:c.4205T>C', 'ENST00000348261:c.4523A>G', 'ENST00000348261:c.4526A>G', 'ENST00000348261:c.4586T>C', 'ENST00000338844:c.429C>G', 'ENST00000211076:c.385G>A', 'ENST00000211076:c.395G>A', 'ENST00000211076:c.523C>T', 'ENST00000211076:c.526G>A', 'ENST00000211076:c.532C>T', 'ENST00000402301:c.545C>G', 'ENST00000324385:c.3281C>T', 'ENST00000307394:c.216C>G', 'ENST00000293937:c.574G>A', 'ENST00000293937:c.573C>T', 'ENST00000399753:c.507A>G', 'ENST00000567649:c.13A>C', 'ENST00000304646:c.224T>C', 'ENST00000590191:c.586G>A', 'ENST00000299320:c.874G>A', 'ENST00000299320:c.1382C>T', 'ENST00000299320:c.1771G>A', 'ENST00000299320:c.1872C>T', 'ENST00000268251:c.355A>G', 'ENST00000304381:c.891G>A', 'ENST00000438132:c.315G>A', 'ENST00000308214:c.1227T>C', 'ENST00000302451:c.1835G>A', 'ENST00000302451:c.1829G>A', 'ENST00000331849:c.1644G>A', 'ENST00000311620:c.116G>C', 'ENST00000300061:c.530T>C', 'ENST00000300061:c.617T>C', 'ENST00000300061:c.692C>T', 'ENST00000466124:c.242A>G', 'ENST00000219660:c.759G>A', 'ENST00000219660:c.903G>C', 'ENST00000300850:c.4719G>A', 'ENST00000268296:c.263T>C', 'ENST00000389202:c.787A>G', 'ENST00000287490:c.322C>T', 'ENST00000219070:c.1187G>C', 'ENST00000219070:c.1889G>A', 'ENST00000576685:c.273T>C', 'ENST00000219162:c.169A>G', 'ENST00000219162:c.171T>C', 'ENST00000379694:c.567A>C', 'ENST00000333493:c.1766C>T', 'ENST00000336825:c.1157C>T', 'ENST00000336825:c.2155T>C', 'ENST00000303334:c.407C>T', 'ENST00000303334:c.1673G>A', 'ENST00000326686:c.772A>C', 'ENST00000219334:c.2454G>A', 'ENST00000219322:c.243T>G', 'ENST00000219322:c.339A>G', 'ENST00000288040:c.639C>T', 'ENST00000288098:c.750G>C', 'ENST00000228226:c.191C>T', 'ENST00000307431:c.2739A>G', 'ENST00000378644:c.444T>C', 'ENST00000569649:c.1122C>T', 'ENST00000258168:c.1262A>T', 'ENST00000258168:c.1597C>T', 'ENST00000343939:c.400C>T', 'ENST00000561552:c.333C>G', 'ENST00000561552:c.336G>A', 'ENST00000334315:c.1359A>G', 'ENST00000378553:c.2022T>C', 'ENST00000378553:c.2100T>C', 'ENST00000378553:c.2148G>C', 'ENST00000262429:c.143G>C', 'ENST00000262429:c.1485A>T', 'ENST00000284262:c.2114T>C', 'ENST00000437464:c.1489G>A', 'ENST00000437464:c.2130T>C', 'ENST00000437464:c.7072G>C', 'ENST00000437464:c.8009T>A', 'ENST00000437464:c.10888G>C', 'ENST00000319555:c.386A>G', 'ENST00000244241:c.493C>T', 'ENST00000261615:c.1173G>C', 'ENST00000378247:c.712C>T', 'ENST00000555147:c.1558G>T', 'ENST00000555147:c.1654G>A', 'ENST00000567960:c.715G>A', 'ENST00000576252:c.197G>A', 'ENST00000576252:c.261A>G', 'ENST00000333813:c.382C>T', 'ENST00000324015:c.82C>T', 'ENST00000331238:c.1128G>A', 'ENST00000322941:c.450G>A', 'ENST00000575751:c.748C>T', 'ENST00000304094:c.483G>T', 'ENST00000389313:c.493G>A', 'ENST00000338859:c.185G>A', 'ENST00000331264:c.392G>A', 'ENST00000263088:c.2592G>A', 'ENST00000323997:c.386T>C', 'ENST00000321535:c.821C>T', 'ENST00000321535:c.1219A>G', 'ENST00000317370:c.658T>C', 'ENST00000311668:c.181C>T', 'ENST00000323675:c.819G>A', 'ENST00000323675:c.883C>G', 'ENST00000412468:c.1091T>C', 'ENST00000412468:c.1092G>A', 'ENST00000250111:c.1067C>T', 'ENST00000082259:c.308T>C', 'ENST00000389173:c.4166C>G', 'ENST00000389173:c.5600C>T', 'ENST00000380173:c.461C>G', 'ENST00000328248:c.908C>T', 'ENST00000285199:c.1227C>T', 'ENST00000343478:c.220G>A', 'ENST00000262442:c.497C>T', 'ENST00000262442:c.9812C>G', 'ENST00000262444:c.943A>G', 'ENST00000262444:c.1558C>T', 'ENST00000205890:c.5292C>T', 'ENST00000205890:c.8383A>T', 'ENST00000205890:c.8660C>T', 'ENST00000323019:c.1003T>C', 'ENST00000301938:c.238T>A', 'ENST00000301938:c.876G>A', 'ENST00000301938:c.994G>T', 'ENST00000317977:c.1270C>A', 'ENST00000225740:c.369G>A', 'ENST00000316920:c.286G>C', 'ENST00000563509:c.628C>A', 'ENST00000563509:c.697C>T', 'ENST00000563509:c.988C>T', 'ENST00000563509:c.1115A>G', 'ENST00000563509:c.1123C>T', 'ENST00000591663:c.697T>C', 'ENST00000591663:c.698C>G', 'ENST00000225387:c.457C>T', 'ENST00000320856:c.901T>G', 'ENST00000225831:c.170T>C', 'ENST00000394620:c.671A>C', 'ENST00000321639:c.1484G>A', 'ENST00000321639:c.1933C>T', 'ENST00000321639:c.1979C>T', 'ENST00000158009:c.221T>C', 'ENST00000158009:c.679C>A', 'ENST00000415846:c.1189A>G', 'ENST00000415846:c.1102C>T', 'ENST00000572470:c.1480C>G', 'ENST00000572132:c.74C>G', 'ENST00000575409:c.199C>G', 'ENST00000575409:c.178T>A', 'ENST00000575409:c.63A>C', 'ENST00000572212:c.510C>G', 'ENST00000572212:c.305C>G', 'ENST00000576814:c.326G>T', 'ENST00000576814:c.137C>A', 'ENST00000575715:c.350A>T', 'ENST00000573871:c.237C>G', 'ENST00000573871:c.215C>G', 'ENST00000573871:c.99C>G', 'ENST00000574631:c.19G>C', 'ENST00000571271:c.639C>G', 'ENST00000574737:c.848A>T', 'ENST00000574737:c.628T>A', 'ENST00000574737:c.622C>G', 'ENST00000572734:c.1460C>G', 'ENST00000572734:c.1185G>C', 'ENST00000572734:c.1019C>G', 'ENST00000572734:c.803C>G', 'ENST00000572734:c.770G>C', 'ENST00000572734:c.255G>C', 'ENST00000572734:c.117A>T', 'ENST00000573281:c.1174C>G', 'ENST00000568842:c.694A>G', 'ENST00000569845:c.1201C>G', 'ENST00000569845:c.1109C>G', 'ENST00000253799:c.40A>G', 'ENST00000588043:c.219C>T', 'ENST00000359945:c.1179A>C', 'ENST00000293493:c.1032T>C', 'ENST00000293493:c.1137C>T', 'ENST00000329196:c.687T>C', 'ENST00000329196:c.925G>A', 'ENST00000329196:c.1011G>A', 'ENST00000329196:c.1399G>C', 'ENST00000329196:c.1428A>G', 'ENST00000329196:c.1448C>T', 'ENST00000329196:c.1818T>C', 'ENST00000329196:c.1875G>A', 'ENST00000329196:c.1976G>A', 'ENST00000262410:c.1801G>A', 'ENST00000262410:c.1954A>G', 'ENST00000262410:c.2038T>C', 'ENST00000547091:c.26G>A', 'ENST00000547091:c.62A>G', 'ENST00000361722:c.2371G>A', 'ENST00000239174:c.543G>A', 'ENST00000239174:c.402A>T', 'ENST00000300441:c.599T>C', 'ENST00000515707:c.224G>A', 'ENST00000515707:c.230C>G', 'ENST00000412360:c.287C>G', 'ENST00000412360:c.332A>C', 'ENST00000545221:c.85C>A', 'ENST00000225371:c.230A>G', 'ENST00000225371:c.476G>C', 'ENST00000262290:c.742G>C', 'ENST00000262290:c.1577G>A', 'ENST00000240335:c.321T>G', 'ENST00000303375:c.891C>T', 'ENST00000290866:c.1084G>A', 'ENST00000169565:c.57T>C', 'ENST00000269346:c.615G>A', 'ENST00000389916:c.1536T>C', 'ENST00000328023:c.928C>A', 'ENST00000328801:c.1176G>A', 'ENST00000538213:c.223G>A', 'ENST00000167462:c.264G>A', 'ENST00000582561:c.256C>T', 'ENST00000582561:c.413G>T', 'ENST00000582012:c.168G>A', 'ENST00000301618:c.782G>A', 'ENST00000301618:c.1624G>C', 'ENST00000301624:c.3028C>G', 'ENST00000339142:c.633T>C', 'ENST00000339142:c.690G>C', 'ENST00000578419:c.20C>A', 'ENST00000311595:c.77G>A', 'ENST00000579016:c.1787G>A', 'ENST00000573833:c.251C>T', 'ENST00000374877:c.1917T>G', 'ENST00000319921:c.950T>C', 'ENST00000306773:c.1391A>G', 'ENST00000307745:c.316A>G', 'ENST00000584436:c.1702G>A', 'ENST00000584436:c.4668G>A', 'ENST00000584436:c.5420C>T', 'ENST00000328585:c.270C>T', 'ENST00000328585:c.442G>A', 'ENST00000328585:c.522T>C', 'ENST00000328585:c.552T>C', 'ENST00000327228:c.257T>C', 'ENST00000450565:c.575A>G', 'ENST00000254528:c.573C>T', 'ENST00000254528:c.1881C>T', 'ENST00000254528:c.2866C>T', 'ENST00000284898:c.2054G>A', 'ENST00000332175:c.2354C>T', 'ENST00000306329:c.1805T>C', 'ENST00000306285:c.2474G>A', 'ENST00000581641:c.651A>G', 'ENST00000400514:c.179A>G', 'ENST00000325971:c.4436G>A', 'ENST00000324750:c.546C>T', 'ENST00000324750:c.849C>G', 'ENST00000324750:c.966C>T', 'ENST00000313654:c.3142T>C', 'ENST00000313654:c.3863C>A', 'ENST00000313654:c.4501G>C', 'ENST00000313654:c.4771C>T', 'ENST00000308128:c.165C>T', 'ENST00000308128:c.393G>A', 'ENST00000308128:c.630C>T', 'ENST00000257189:c.428C>T', 'ENST00000257189:c.2201G>A', 'ENST00000261590:c.1086A>G', 'ENST00000237014:c.253G>A', 'ENST00000350494:c.512C>T', 'ENST00000261326:c.2128C>A', 'ENST00000590592:c.1297G>A', 'ENST00000590592:c.1364C>T', 'ENST00000280020:c.922T>C', 'ENST00000280020:c.1069T>A', 'ENST00000321925:c.1042G>A', 'ENST00000256413:c.443G>A', 'ENST00000304775:c.155G>A', 'ENST00000412726:c.2969T>C', 'ENST00000324000:c.2306A>C', 'ENST00000256857:c.108C>A', 'ENST00000262717:c.767C>T', 'ENST00000382771:c.625G>C', 'ENST00000382771:c.818T>C', 'ENST00000319445:c.401G>A', 'ENST00000584919:c.315C>A', 'ENST00000343998:c.1223A>G', 'ENST00000358821:c.244G>A', 'ENST00000527041:c.328A>G', 'ENST00000299727:c.141T>C', 'ENST00000572106:c.2362C>T', 'ENST00000575536:c.124A>G', 'ENST00000316249:c.1138C>T', 'ENST00000215582:c.478C>T', 'ENST00000215582:c.569A>G', 'ENST00000234389:c.479C>T', 'ENST00000234389:c.1229C>T', 'ENST00000234389:c.1243A>G', 'ENST00000234389:c.1259T>C', 'ENST00000234389:c.1342G>A', 'ENST00000234389:c.1749C>T', 'ENST00000234389:c.2050G>C', 'ENST00000263094:c.2616G>A', 'ENST00000221496:c.274G>A', 'ENST00000221496:c.325G>A', 'ENST00000404279:c.1405G>A', 'ENST00000332578:c.89G>C', 'ENST00000317243:c.234G>A', 'ENST00000317243:c.829G>A', 'ENST00000292672:c.196G>C', 'ENST00000262970:c.601G>A', 'ENST00000543264:c.1589C>T', 'ENST00000543264:c.2272A>G', 'ENST00000301272:c.894G>A', 'ENST00000301272:c.650G>C', 'ENST00000221856:c.375T>C', 'ENST00000419421:c.729A>G', 'ENST00000390672:c.241G>A', 'ENST00000286955:c.1423C>T', 'ENST00000252675:c.1576C>T', 'ENST00000252675:c.1460A>G', 'ENST00000252675:c.1123C>T', 'ENST00000245907:c.1785G>A', 'ENST00000250572:c.212G>A', 'ENST00000250572:c.463C>G', 'ENST00000250572:c.563G>A', 'ENST00000250572:c.804A>G', 'ENST00000250572:c.936C>T', 'ENST00000329753:c.658G>A', 'ENST00000248228:c.923G>A', 'ENST00000306708:c.643A>G', 'ENST00000306708:c.1421G>A', 'ENST00000573102:c.1323A>T', 'ENST00000573102:c.933G>C', 'ENST00000573102:c.877G>C', 'ENST00000573102:c.273C>A', 'ENST00000573102:c.231C>A', 'ENST00000574760:c.243C>T', 'ENST00000293614:c.755A>G', 'ENST00000293614:c.423G>C', 'ENST00000293614:c.248T>C', 'ENST00000305444:c.741T>C', 'ENST00000305444:c.85A>G', 'ENST00000344248:c.386T>C', 'ENST00000344248:c.1103A>C', 'ENST00000308682:c.427C>T', 'ENST00000308682:c.291C>T', 'ENST00000456448:c.304A>G', 'ENST00000456448:c.738C>T', 'ENST00000456448:c.840C>T', 'ENST00000221980:c.964G>A', 'ENST00000221980:c.1105G>A', 'ENST00000333430:c.692T>G', 'ENST00000292530:c.565T>A', 'ENST00000596056:c.94C>G', 'ENST00000596056:c.242T>C', 'ENST00000248058:c.792C>A', 'ENST00000248058:c.673A>T', 'ENST00000248058:c.452T>C', 'ENST00000248058:c.130C>A', 'ENST00000327462:c.234T>C', 'ENST00000327462:c.220G>A', 'ENST00000209540:c.234A>T', 'ENST00000209540:c.651G>T', 'ENST00000209540:c.816C>T', 'ENST00000209540:c.961T>C', 'ENST00000209540:c.1061A>T', 'ENST00000342784:c.797G>A', 'ENST00000292609:c.1924C>T', 'ENST00000292609:c.426G>A', 'ENST00000292609:c.266A>G', 'ENST00000221307:c.1121G>A', 'ENST00000305899:c.532C>T', 'ENST00000305892:c.40C>A', 'ENST00000308940:c.367G>A', 'ENST00000308940:c.769C>A', 'ENST00000379808:c.47G>T', 'ENST00000379808:c.235A>G', 'ENST00000339803:c.1719G>A', 'ENST00000339803:c.3420G>A', 'ENST00000222248:c.1973C>T', 'ENST00000222254:c.1503G>A', 'ENST00000300976:c.180C>T', 'ENST00000360913:c.1292T>C', 'ENST00000608908:c.152C>G', 'ENST00000601023:c.684A>G', 'ENST00000355537:c.2616T>C', 'ENST00000270288:c.84G>C', 'ENST00000404801:c.1737C>T', 'ENST00000404801:c.917G>A', 'ENST00000599564:c.270G>A', 'ENST00000327809:c.969G>A', 'ENST00000222286:c.725C>T', 'ENST00000379026:c.791G>A', 'ENST00000222275:c.97T>G', 'ENST00000007510:c.294C>T', 'ENST00000262625:c.1067G>T', 'ENST00000455427:c.2025G>C', 'ENST00000445217:c.239T>G', 'ENST00000331256:c.487C>T', 'ENST00000314349:c.350C>T', 'ENST00000205143:c.660T>C', 'ENST00000205143:c.1036C>T', 'ENST00000338932:c.1014A>G', 'ENST00000338932:c.1815C>T', 'ENST00000331105:c.724G>A', 'ENST00000607888:c.293T>C', 'ENST00000607888:c.417A>G', 'ENST00000609812:c.1767C>G', 'ENST00000320078:c.387G>A', 'ENST00000320078:c.386T>C', 'ENST00000253435:c.477A>G', 'ENST00000358777:c.696C>T', 'ENST00000270233:c.1637A>G', 'ENST00000353609:c.709C>G', 'ENST00000457052:c.1754C>T', 'ENST00000322217:c.981G>A', 'ENST00000307522:c.1921C>T', 'ENST00000263277:c.854A>G', 'ENST00000263277:c.1388A>G', 'ENST00000263277:c.1763G>A', 'ENST00000201586:c.1012C>T', 'ENST00000332955:c.1547G>T', 'ENST00000332955:c.1546C>T', 'ENST00000221403:c.237G>A', 'ENST00000221498:c.490G>A', 'ENST00000270645:c.1195C>T', 'ENST00000270645:c.1329T>C', 'ENST00000270645:c.1401C>T', 'ENST00000323446:c.890G>A', 'ENST00000323446:c.1571C>T', 'ENST00000323446:c.1739C>T', 'ENST00000262269:c.664G>A', 'ENST00000262269:c.2257A>G', 'ENST00000262269:c.3025G>A', 'ENST00000357701:c.1921G>A', 'ENST00000270593:c.973G>A', 'ENST00000270593:c.974C>A', 'ENST00000326003:c.89T>C', 'ENST00000326003:c.95A>G', 'ENST00000326003:c.278C>T', 'ENST00000326003:c.435C>A', 'ENST00000325321:c.597C>T', 'ENST00000250360:c.365A>G', 'ENST00000250360:c.1011C>A', 'ENST00000304748:c.1100C>T', 'ENST00000304748:c.683T>G', 'ENST00000304748:c.408G>C', 'ENST00000304748:c.139T>C', 'ENST00000376716:c.1396C>T', 'ENST00000376716:c.703C>T', 'ENST00000360465:c.1520G>A', 'ENST00000601417:c.2057G>A', 'ENST00000601417:c.2177A>G', 'ENST00000243643:c.657A>G', 'ENST00000263431:c.354C>T', 'ENST00000263431:c.849T>C', 'ENST00000608448:c.497C>G', 'ENST00000608401:c.445G>C', 'ENST00000571132:c.22G>C', 'ENST00000572443:c.703A>G', 'ENST00000341750:c.874C>G', 'ENST00000301295:c.1829C>T', 'ENST00000301295:c.3374C>T', 'ENST00000291971:c.145C>T', 'ENST00000291971:c.417G>C', 'ENST00000376267:c.591A>C', 'ENST00000591844:c.1037C>T', 'ENST00000591844:c.1062T>C', 'ENST00000330619:c.753G>C', 'ENST00000537055:c.1221G>A', 'ENST00000254181:c.1557A>G', 'ENST00000254181:c.2210G>A', 'ENST00000550135:c.755T>C', 'ENST00000254166:c.1009G>A', 'ENST00000382388:c.166G>A', 'ENST00000382388:c.286C>A', 'ENST00000246105:c.477C>G', 'ENST00000381867:c.1494G>A', 'ENST00000356025:c.410C>T', 'ENST00000361033:c.68G>A', 'ENST00000326539:c.1085T>C', 'ENST00000254976:c.541C>T', 'ENST00000378194:c.512T>G', 'ENST00000378194:c.529A>G', 'ENST00000217246:c.568C>T', 'ENST00000377428:c.345C>T', 'ENST00000377428:c.385C>T', 'ENST00000255006:c.2114C>T', 'ENST00000376835:c.546G>C', 'ENST00000376105:c.447A>G', 'ENST00000375670:c.622A>G', 'ENST00000400522:c.446C>T', 'ENST00000439060:c.209C>T', 'ENST00000439060:c.312C>T', 'ENST00000170150:c.932G>A', 'ENST00000170150:c.1506C>T', 'ENST00000375483:c.1072T>C', 'ENST00000375483:c.1168G>A', 'ENST00000375483:c.1579T>C', 'ENST00000375483:c.1598C>T', 'ENST00000217320:c.332G>A', 'ENST00000262865:c.735G>A', 'ENST00000217407:c.187C>T', 'ENST00000217407:c.452T>C', 'ENST00000243903:c.55C>T', 'ENST00000544979:c.3212C>T', 'ENST00000373257:c.2128A>C', 'ENST00000217043:c.400T>C', 'ENST00000306117:c.1862A>G', 'ENST00000243924:c.90G>A', 'ENST00000372643:c.420G>A', 'ENST00000279058:c.234G>A', 'ENST00000243964:c.455G>T', 'ENST00000317304:c.748C>T', 'ENST00000303004:c.636C>T', 'ENST00000360314:c.2160G>A', 'ENST00000371325:c.489G>A', 'ENST00000319441:c.626A>G', 'ENST00000319441:c.963A>G', 'ENST00000371030:c.1653T>A', 'ENST00000371030:c.2325T>C', 'ENST00000371030:c.2669C>T', 'ENST00000360469:c.510C>T', 'ENST00000360469:c.1962A>G', 'ENST00000318100:c.4881C>T', 'ENST00000369768:c.1207C>T', 'ENST00000416044:c.142T>C', 'ENST00000382835:c.322C>T', 'ENST00000399889:c.431T>A', 'ENST00000300255:c.932G>A', 'ENST00000571432:c.1368G>C', 'ENST00000571432:c.941G>C', 'ENST00000571432:c.691T>A', 'ENST00000399191:c.704G>A', 'ENST00000290354:c.887G>A', 'ENST00000399151:c.2719T>C', 'ENST00000342108:c.1065G>A', 'ENST00000342108:c.621C>T', 'ENST00000290399:c.1792G>A', 'ENST00000597817:c.5G>A', 'ENST00000380588:c.241A>G', 'ENST00000380588:c.249G>C', 'ENST00000380588:c.1153C>A', 'ENST00000380588:c.1157G>A', 'ENST00000357985:c.542T>C', 'ENST00000400421:c.404C>G', 'ENST00000291535:c.1124C>T', 'ENST00000291535:c.1247A>C', 'ENST00000291582:c.1705T>C', 'ENST00000610010:c.57T>A', 'ENST00000608567:c.319G>C', 'ENST00000608567:c.59C>G', 'ENST00000609431:c.57C>G', 'ENST00000610243:c.119A>G', 'ENST00000610243:c.121T>A', 'ENST00000610243:c.439G>C', 'ENST00000608333:c.375T>A', 'ENST00000608923:c.468T>A', 'ENST00000599569:c.31C>G', 'ENST00000361866:c.2538G>T', 'ENST00000300527:c.767C>T', 'ENST00000262608:c.755G>A', 'ENST00000334029:c.1412C>T', 'ENST00000329705:c.793C>T', 'ENST00000436518:c.68T>C', 'ENST00000266214:c.2437G>C', 'ENST00000266214:c.2436C>G', 'ENST00000333607:c.1133C>T', 'ENST00000333607:c.1513C>G', 'ENST00000342608:c.694G>A', 'ENST00000302273:c.383C>T', 'ENST00000302273:c.414G>A', 'ENST00000302097:c.1432C>T', 'ENST00000302097:c.663A>C', 'ENST00000302097:c.660A>G', 'ENST00000390307:c.392G>A', 'ENST00000305199:c.214G>A', 'ENST00000335473:c.381G>A', 'ENST00000335473:c.2905G>A', 'ENST00000248933:c.1385G>T', 'ENST00000248933:c.1514A>C', 'ENST00000341313:c.201G>A', 'ENST00000310624:c.1233C>T', 'ENST00000338306:c.2871C>T', 'ENST00000312932:c.292G>A', 'ENST00000312932:c.1117G>A', 'ENST00000255858:c.715G>A', 'ENST00000255858:c.682G>A', 'ENST00000332585:c.1088T>C', 'ENST00000308700:c.1034A>G', 'ENST00000308700:c.1051T>C', 'ENST00000308700:c.1121C>T', 'ENST00000249044:c.815C>T', 'ENST00000249044:c.1217C>G', 'ENST00000406386:c.2844C>A', 'ENST00000406386:c.3814T>C', 'ENST00000323205:c.293T>C', 'ENST00000303592:c.1261A>G', 'ENST00000336649:c.2877T>C', 'ENST00000249016:c.942C>T', 'ENST00000328823:c.393A>G', 'ENST00000328823:c.886G>C', 'ENST00000414469:c.455G>A', 'ENST00000216180:c.468T>G', 'ENST00000406912:c.239T>A', 'ENST00000253255:c.6261T>C', 'ENST00000262794:c.2798C>T', 'ENST00000216075:c.344C>T', 'ENST00000008876:c.1582A>G']\r\n",
      "Number of failed queries: 0\r\n",
      "Number of other errors: 0\r\n"
     ]
    }
   ],
   "source": [
    "!cat {overall_txt_out_fn}"
   ]
  },
  {
   "cell_type": "code",
   "execution_count": 29,
   "id": "f3518b97",
   "metadata": {
    "execution": {
     "iopub.execute_input": "2025-05-06T03:00:59.645055Z",
     "iopub.status.busy": "2025-05-06T03:00:59.644443Z",
     "iopub.status.idle": "2025-05-06T03:00:59.651470Z",
     "shell.execute_reply": "2025-05-06T03:00:59.650043Z"
    }
   },
   "outputs": [],
   "source": [
    "# !cat {detailed_txt_out_fn}"
   ]
  },
  {
   "cell_type": "code",
   "execution_count": 30,
   "id": "2366bbae",
   "metadata": {
    "execution": {
     "iopub.execute_input": "2025-05-06T03:00:59.656686Z",
     "iopub.status.busy": "2025-05-06T03:00:59.656130Z",
     "iopub.status.idle": "2025-05-06T03:00:59.663808Z",
     "shell.execute_reply": "2025-05-06T03:00:59.662404Z"
    }
   },
   "outputs": [
    {
     "name": "stdout",
     "output_type": "stream",
     "text": [
      "Overall file:  /home/jmrich/Desktop/RLSRWP_2025/data/geuvadis_data_base/E_GEUV_1_HG00377_1_M_120209_6/vk_count_out_w37_k41/overall_out_fn_modified_bam.txt\n",
      "Detailed file:  /home/jmrich/Desktop/RLSRWP_2025/data/geuvadis_data_base/E_GEUV_1_HG00377_1_M_120209_6/vk_count_out_w37_k41/detailed_out_fn_modified_bam.txt\n"
     ]
    }
   ],
   "source": [
    "print(\"Overall file: \", overall_txt_out_fn)\n",
    "print(\"Detailed file: \", detailed_txt_out_fn)"
   ]
  },
  {
   "cell_type": "code",
   "execution_count": 31,
   "id": "089b03dd",
   "metadata": {
    "execution": {
     "iopub.execute_input": "2025-05-06T03:00:59.669075Z",
     "iopub.status.busy": "2025-05-06T03:00:59.668513Z",
     "iopub.status.idle": "2025-05-06T03:01:00.659716Z",
     "shell.execute_reply": "2025-05-06T03:01:00.658652Z"
    }
   },
   "outputs": [
    {
     "data": {
      "image/png": "[encoded data removed]",
      "text/plain": [
       "<Figure size 640x480 with 1 Axes>"
      ]
     },
     "metadata": {},
     "output_type": "display_data"
    }
   ],
   "source": [
    "overall_results = {\n",
    "    \"Variant detected in reads (FN)\": len(true_variants),\n",
    "    \"Variant not detected in reads (TN)\": len(false_variants),\n",
    "    \"Insufficient read alignment to variant position (TN)\": len(undetermined_variants),\n",
    "}\n",
    "\n",
    "plot_overall_bar_plot(overall_results, out_file=overall_txt_out.replace(\".txt\", \".pdf\"))"
   ]
  },
  {
   "cell_type": "markdown",
   "id": "d8fb8724",
   "metadata": {},
   "source": [
    "## Analyze a FN"
   ]
  },
  {
   "cell_type": "code",
   "execution_count": 32,
   "id": "90af8cea",
   "metadata": {
    "execution": {
     "iopub.execute_input": "2025-05-06T03:01:00.664624Z",
     "iopub.status.busy": "2025-05-06T03:01:00.664174Z",
     "iopub.status.idle": "2025-05-06T03:01:02.144425Z",
     "shell.execute_reply": "2025-05-06T03:01:02.143153Z"
    }
   },
   "outputs": [
    {
     "name": "stderr",
     "output_type": "stream",
     "text": [
      "\r\n",
      "  0%|                                                                                                                                                                                             | 0/25096 [00:00<?, ?it/s]"
     ]
    },
    {
     "name": "stderr",
     "output_type": "stream",
     "text": [
      "\r\n",
      " 29%|███████████████████████████████████████████████████▍                                                                                                                           | 7385/25096 [00:00<00:00, 72953.78it/s]"
     ]
    },
    {
     "name": "stderr",
     "output_type": "stream",
     "text": [
      "\r\n",
      " 58%|█████████████████████████████████████████████████████████████████████████████████████████████████████▊                                                                        | 14681/25096 [00:00<00:00, 24130.04it/s]"
     ]
    },
    {
     "name": "stderr",
     "output_type": "stream",
     "text": [
      "\r\n",
      " 74%|█████████████████████████████████████████████████████████████████████████████████████████████████████████████████████████████████▎                                            | 18648/25096 [00:00<00:00, 16982.28it/s]"
     ]
    },
    {
     "name": "stderr",
     "output_type": "stream",
     "text": [
      "\r\n",
      " 85%|███████████████████████████████████████████████████████████████████████████████████████████████████████████████████████████████████████████████████▌                          | 21274/25096 [00:01<00:00, 16225.99it/s]"
     ]
    },
    {
     "name": "stderr",
     "output_type": "stream",
     "text": [
      "\r\n",
      " 95%|████████████████████████████████████████████████████████████████████████████████████████████████████████████████████████████████████████████████████████████████████▉         | 23785/25096 [00:01<00:00, 17569.96it/s]"
     ]
    },
    {
     "name": "stderr",
     "output_type": "stream",
     "text": [
      "\r\n",
      "100%|██████████████████████████████████████████████████████████████████████████████████████████████████████████████████████████████████████████████████████████████████████████████| 25096/25096 [00:01<00:00, 18441.51it/s]"
     ]
    },
    {
     "name": "stdout",
     "output_type": "stream",
     "text": [
      "Variants in vcrs_reference: 156\n",
      "Variants not in vcrs_reference: 0\n"
     ]
    },
    {
     "name": "stderr",
     "output_type": "stream",
     "text": [
      "\n"
     ]
    }
   ],
   "source": [
    "# detailed_txt_out_fn = \"/data/geuvadis_data_base/E_GEUV_1_HG00377_1_M_120209_6/vk_count_out_w37_k41_combined_final/detailed_out_fn_NOT_modified_bam.txt\"\n",
    "# vcrs_fasta = \"/data/vk_ref_out_geuvadis/w37_k41/vcrs_filtered.fa\"\n",
    "\n",
    "variants_in_vcrs_reference = []\n",
    "variants_not_in_vcrs_reference = []\n",
    "\n",
    "with open(vcrs_fasta) as f:\n",
    "    vcrs_reference_contents = f.read()\n",
    "\n",
    "# loop through detailed_txt_out_fn and check if the variant was in the vcrs_fasta\n",
    "with open(detailed_txt_out_fn) as f:\n",
    "    lines = f.readlines()\n",
    "\n",
    "for i in tqdm(range(len(lines))):\n",
    "    if i + 1 < len(lines) and \"True variant: True\" not in lines[i + 1]:\n",
    "        continue  # I only want to analyze True variants that varseek missed\n",
    "    line = lines[i]\n",
    "    if not line.startswith(\"vcrs\"):\n",
    "        continue\n",
    "    parts = line.strip().split(\"|\")\n",
    "    if len(parts) < 3:\n",
    "        continue\n",
    "    mutation_str = parts[2].strip()  # e.g., ENST00000338591:c.716G>C\n",
    "    if mutation_str in vcrs_reference_contents:\n",
    "        variants_in_vcrs_reference.append(mutation_str)\n",
    "    else:\n",
    "        variants_not_in_vcrs_reference.append(mutation_str)\n",
    "\n",
    "print(f\"Variants in vcrs_reference: {len(variants_in_vcrs_reference)}\")\n",
    "print(f\"Variants not in vcrs_reference: {len(variants_not_in_vcrs_reference)}\")"
   ]
  },
  {
   "cell_type": "code",
   "execution_count": 33,
   "id": "06a174e4",
   "metadata": {
    "execution": {
     "iopub.execute_input": "2025-05-06T03:01:02.149014Z",
     "iopub.status.busy": "2025-05-06T03:01:02.148644Z",
     "iopub.status.idle": "2025-05-06T03:01:02.156992Z",
     "shell.execute_reply": "2025-05-06T03:01:02.155874Z"
    }
   },
   "outputs": [
    {
     "data": {
      "text/plain": [
       "['ENST00000361923:c.3205A>G',\n",
       " 'ENST00000374472:c.351A>G',\n",
       " 'ENST00000374472:c.350A>G',\n",
       " 'ENST00000289893:c.6506G>A',\n",
       " 'ENST00000340450:c.795T>G',\n",
       " 'ENST00000340450:c.801T>G',\n",
       " 'ENST00000371088:c.1031T>C',\n",
       " 'ENST00000370139:c.96G>A',\n",
       " 'ENST00000370139:c.97C>T',\n",
       " 'ENST00000256652:c.1822C>A',\n",
       " 'ENST00000581821:c.709G>C',\n",
       " 'ENST00000355199:c.1215G>C',\n",
       " 'ENST00000367079:c.619C>T',\n",
       " 'ENST00000367057:c.2176T>C',\n",
       " 'ENST00000367057:c.2201G>A',\n",
       " 'ENST00000238181:c.457C>T',\n",
       " 'ENST00000486442:c.1197T>C',\n",
       " 'ENST00000425361:c.39G>A',\n",
       " 'ENST00000349938:c.732A>G',\n",
       " 'ENST00000349938:c.733T>A']"
      ]
     },
     "execution_count": 33,
     "metadata": {},
     "output_type": "execute_result"
    }
   ],
   "source": [
    "variants_in_vcrs_reference[:20]"
   ]
  },
  {
   "cell_type": "code",
   "execution_count": 34,
   "id": "b3b800df",
   "metadata": {
    "execution": {
     "iopub.execute_input": "2025-05-06T03:01:02.161258Z",
     "iopub.status.busy": "2025-05-06T03:01:02.160958Z",
     "iopub.status.idle": "2025-05-06T03:01:03.036187Z",
     "shell.execute_reply": "2025-05-06T03:01:03.034200Z"
    }
   },
   "outputs": [
    {
     "name": "stdout",
     "output_type": "stream",
     "text": [
      "ENST00000361923:c.3205A>G\n"
     ]
    }
   ],
   "source": [
    "# look into detailed_txt_out_fn and pick a True variant that had reads align to ALT and is in the vcrs reference\n",
    "# eg vcrs_104 | rs2502992 | ENST00000374472:c.351A>G | (-) strand | 1:g.24201919T>C \n",
    "# variant_bam_sorted_modified = \"/data/geuvadis_data_base/E_GEUV_1_HG00377_1_M_120209_6/vk_count_out_w37_k41_combined_final/final_total_sorted_reads_modified.bam\"  #* uncomment if running only this bottom portion\n",
    "# hgvsc = \"ENST00000374472:c.351A>G\"\n",
    "# chrom = \"1\"\n",
    "# pos = \"24201919\"\n",
    "variant_bam_sorted = os.path.join(notebook_out_dir, \"final_total_sorted_reads.bam\") if not modify_bam else os.path.join(notebook_out_dir, \"final_total_sorted_reads_modified.bam\")\n",
    "hgvsc = variants_in_vcrs_reference[0]\n",
    "print(hgvsc)\n",
    "\n",
    "result = None\n",
    "with open(detailed_txt_out_fn) as f:\n",
    "    for line in f:\n",
    "        if hgvsc in line:\n",
    "            result = line.strip().split(\" | \")\n",
    "            break  # stop at the first match\n",
    "\n",
    "hgvsg = result[4]\n",
    "chrom = hgvsg.split(\":\")[0]\n",
    "match = re.search(r'g\\.(\\d+)', hgvsg)\n",
    "pos = match.group(1) if match else None\n",
    "\n",
    "# output_sam = f\"/data/geuvadis_data_base/E_GEUV_1_HG00377_1_M_120209_6/vk_count_out_w37_k41_combined_final/reads_at_{chrom}_{pos}.sam\"\n",
    "output_sam = os.path.join(notebook_out_dir, f\"reads_at_{chrom}_{pos}.sam\")\n",
    "!samtools view {variant_bam_sorted} {chrom}:{pos}-{pos} > {output_sam}"
   ]
  },
  {
   "cell_type": "code",
   "execution_count": 35,
   "id": "02b214e9",
   "metadata": {
    "execution": {
     "iopub.execute_input": "2025-05-06T03:01:03.042311Z",
     "iopub.status.busy": "2025-05-06T03:01:03.041676Z",
     "iopub.status.idle": "2025-05-06T03:01:03.087361Z",
     "shell.execute_reply": "2025-05-06T03:01:03.085812Z"
    }
   },
   "outputs": [
    {
     "name": "stdout",
     "output_type": "stream",
     "text": [
      "AGAATCCATCCCATCCTACTGCCAGCGCTCTGTCCACGGGATCGCCTCCCATGAAGAATCCATCCCATCCTACTG\n",
      "CAGTAGGATGGGATGGATTCTTCATGGGAGGCGATCCCGTGGACAGAGCGCTGGCAGTAGGATGGGATGGATTCT\n",
      "CAGTAGGATGGGATGGATTCTTCATGGGAGGCGATCCC\n",
      "CGTGGACAGAGCGCTGGCAGTAGGATGGGATGGATTCT\n"
     ]
    }
   ],
   "source": [
    "# revcomp_dict = {\"A\": \"T\", \"T\": \"A\", \"C\": \"G\", \"G\": \"C\", \"N\": \"N\"}\n",
    "output = !grep -A 1 \"{hgvsc}\" {vcrs_fasta}\n",
    "seq = output[1].strip()\n",
    "seq_rc = \"\".join([revcomp_dict.get(base, base) for base in seq[::-1]])\n",
    "\n",
    "print(seq)\n",
    "print(seq_rc)\n",
    "print(seq_rc[:38])\n",
    "print(seq_rc[37:])"
   ]
  },
  {
   "cell_type": "markdown",
   "id": "4b660846",
   "metadata": {},
   "source": [
    "(double click on this cell for it to make sense)\n",
    "Applies to ENST00000374472:c.351A>G aka 1:g.24201919T>C \n",
    "\n",
    "In this case, the issue was due to multiple variants - all reads had the variant toward the left end of the read, and there is another variant to the right that blocks a perfect k-mer match (also, keep in mind that read length is 75 for this dataset and w=37/k=41, so the reads are relatively small)\n",
    "\n",
    "Eg typical read:\n",
    "TTCCGGCGGAGCCGGTGGGAGGACAGGATCAGATAGAGCACAGCCACGTTCTCCAGGGCACTTAGCAGGCCCAGA  # read\n",
    "TTCCGGCGGAGCTGGTGGGAGGACAGGATCAGATAGAGCACAGCCACGT  # vcrs fragment aligned to read\n",
    "           *\n",
    "            ^\n",
    "\n",
    "* mutation site for VCRS\n",
    "^ unrelated mutation that blocks k-mer match"
   ]
  },
  {
   "cell_type": "markdown",
   "id": "616ff352",
   "metadata": {},
   "source": [
    "## Now let's look into a FP"
   ]
  },
  {
   "cell_type": "code",
   "execution_count": null,
   "id": "b179ce0c",
   "metadata": {
    "execution": {
     "iopub.execute_input": "2025-05-06T03:01:03.092905Z",
     "iopub.status.busy": "2025-05-06T03:01:03.092352Z",
     "iopub.status.idle": "2025-05-06T03:01:03.163915Z",
     "shell.execute_reply": "2025-05-06T03:01:03.162328Z"
    }
   },
   "outputs": [
    {
     "name": "stdout",
     "output_type": "stream",
     "text": [
      "ENST00000468879:c.292A>T\n"
     ]
    },
    {
     "name": "stdout",
     "output_type": "stream",
     "text": [
      "GGATGACCCAGTCTCCATTCTCCCTGTCTGCATCTGTTGGAGACAGAGTCACCATCACTTGCTGGGCCAGTCAGG\n",
      "CCTGACTGGCCCAGCAAGTGATGGTGACTCTGTCTCCAACAGATGCAGACAGGGAGAATGGAGACTGGGTCATCC\n"
     ]
    }
   ],
   "source": [
    "# eg vcrs_100 | rs1131095 | ENST00000296456:c.1252T>C | (+) strand | 3:g.49714225T>C | 68.0 reported counts\n",
    "# hgvsc = \"ENST00000296456:c.1252T>C\"\n",
    "results = []\n",
    "\n",
    "with open(detailed_txt_out) as f:\n",
    "    lines = f.readlines()\n",
    "\n",
    "for i in range(len(lines) - 1):\n",
    "    line1 = lines[i].strip()\n",
    "    line2 = lines[i + 1].strip()\n",
    "\n",
    "    # Check that line1 has a reported count > min_counts\n",
    "    try:\n",
    "        count_str = line1.split(\" | \")[-1].split()[0]  # e.g., '68.0' from '68.0 reported counts'\n",
    "        reported_count = float(count_str)\n",
    "    except (IndexError, ValueError):\n",
    "        continue  # skip malformed lines\n",
    "\n",
    "    # Check that the next line doesn't say \"True variant: True\"\n",
    "    if reported_count > min_counts and line2 != \"True variant: True\":\n",
    "        results.append(line1)\n",
    "\n",
    "result_single = results[0]  # look at the first one\n",
    "result_single = result_single.split(\" | \")\n",
    "\n",
    "hgvsc = result_single[2]\n",
    "print(hgvsc)\n",
    "output = !grep -A 1 \"{hgvsc}\" {vcrs_fasta}\n",
    "seq = output[1].strip()\n",
    "seq_rc = \"\".join([revcomp_dict.get(base, base) for base in seq[::-1]])\n",
    "\n",
    "print(seq)\n",
    "print(seq_rc)"
   ]
  },
  {
   "cell_type": "markdown",
   "id": "3eda648a",
   "metadata": {},
   "source": [
    "### Manually check if any read has a k-mer that matches the VCRS"
   ]
  },
  {
   "cell_type": "code",
   "execution_count": null,
   "id": "966462e5",
   "metadata": {
    "execution": {
     "iopub.execute_input": "2025-05-06T03:01:03.169212Z",
     "iopub.status.busy": "2025-05-06T03:01:03.168640Z",
     "iopub.status.idle": "2025-05-06T03:07:20.162718Z",
     "shell.execute_reply": "2025-05-06T03:07:20.161479Z"
    }
   },
   "outputs": [],
   "source": [
    "# import pyfastx\n",
    "# fastq_file = \"/data/geuvadis_data_base/E_GEUV_1_HG00377_1_M_120209_6/fastqs_combined/fastqs_combined.fastq.gz\"  #* uncomment if running only this bottom portion\n",
    "# fastq_indexed = pyfastx.Fastq(fastq_file, build_index=True)  #* uncomment if running only this bottom portion\n",
    "\n",
    "k = 41  # from vk ref settings\n",
    "kmer_set = set()\n",
    "\n",
    "# Add k-mers from seq and seq_rc\n",
    "for s in [seq, seq_rc]:\n",
    "    for i in range(len(s) - k + 1):\n",
    "        kmer_set.add(s[i:i+k])\n",
    "\n",
    "# Store reads that contain any of those k-mers\n",
    "matching_reads = {}\n",
    "\n",
    "fq_read_only = pyfastx.Fastx(fastq_file)\n",
    "\n",
    "for name, read_seq, _ in tqdm((fq_read_only), total=len(fastq_indexed)):\n",
    "    found = any(read_seq[i:i+k] in kmer_set for i in range(len(read_seq) - k + 1))\n",
    "    if found:\n",
    "        matching_reads[name] = read_seq"
   ]
  },
  {
   "cell_type": "code",
   "execution_count": 38,
   "id": "f4474d79",
   "metadata": {
    "execution": {
     "iopub.execute_input": "2025-05-06T03:07:20.167606Z",
     "iopub.status.busy": "2025-05-06T03:07:20.167267Z",
     "iopub.status.idle": "2025-05-06T03:07:20.183047Z",
     "shell.execute_reply": "2025-05-06T03:07:20.182226Z"
    }
   },
   "outputs": [
    {
     "data": {
      "text/plain": [
       "{'file1ERR204838.63733': 'AGATGACCCAGTCTCCATCCTCCCTGTCTGCATCTGTTGGAGACAGAGTCACCATCACTTGCCGGGCAAGTCAGC',\n",
       " 'file1ERR204838.342652': 'AATTTAAATAGTTGTTAATGTCCTGACTCGCCTGGCAAGTGATGGTGACTCTGTCTCCAACAGATGCAGACAGGG',\n",
       " 'file1ERR204838.513059': 'CGGCAAGTGATGGTGACTCTGTCTCCAACAGATGCAGACAGGGAGGATGGAGACTGGGTCATCTGGATGTCACAT',\n",
       " 'file1ERR204838.619058': 'AGATGACCCAGTCTCCATCCTCCCTGTCTGCATCTGTTGGAGACAGAGTCACCATCACTTGCCAGGCGAGTCAGG',\n",
       " 'file1ERR204838.747622': 'GTCTCCATCCTCCCTGTCTGCATCTGTTGGAGACAGAGTCACCATCACTTGCCGGGCAAGTCAGCCCATTTACAG',\n",
       " 'file1ERR204838.790523': 'CTCCATCCTCCCTGTCTGCATCTGTTGGAGACAGAGTCACCATCACTTGCCGGGCAAGTCAGCCCATTTACAGTT',\n",
       " 'file1ERR204838.806752': 'GGCTGACTTGCCCGGCAAGTGATGGTGACTCTGTCTCCAACAGATGCAGACAGGGAGGATGGAGACTGGGTCATC',\n",
       " 'file1ERR204838.1071879': 'TCTCCATCCTCCCTGTCTGCATCTGTTGGAGACAGAGTCACCATCACTTGCCGGGCAAGTCAGCCCATTTACAGT',\n",
       " 'file1ERR204838.1111740': 'CGGCAAGTGATGGTGACTCTGTCTCCAACAGATGCAGACAGGGAGGATGGAGACTGGGTCATCTGGATGTCACAT',\n",
       " 'file1ERR204838.1170278': 'GTGACATCCAGATGACCCAGTCTCCATCCTCCCTGTCTGCATCTGTTGGAGACAGAGTCACCATCACTTGCCGGG',\n",
       " 'file1ERR204838.1220687': 'TTAATGTCCTGACTCGCCTGGCAAGTGATGGTGACTCTGTCTCCAACAGATGCAGACAGGGAGGATGGAGACTGG',\n",
       " 'file1ERR204838.1295227': 'CTGACTCGCCTGGCAAGTGATGGTGACTCTGTCTCCAACAGATGCAGACAGGGAGGATGGAGACTGGGTCATCTG',\n",
       " 'file1ERR204838.1527141': 'AGTCTCCATCCTCCCTGTCTGCATCTGTTGGAGACAGAGTCACCATCACTTGCCGGGCAAGTCAGCCCATTTACA',\n",
       " 'file1ERR204838.1763626': 'CCTCCCTGTCTGCATCTGTTGGAGACAGAGTCACCATCACTTGCCGGGCAAGTCAGCCCATTTACAGTTATTTAA',\n",
       " 'file1ERR204838.1917902': 'CGGCAAGTGATGGTGACTCTGTCTCCAACAGATGCAGACAGGGAGGATGGAGACTGGGTCATCTGGATGTCACAT',\n",
       " 'file1ERR204838.1962892': 'CAGATGTGACATCCAGATGACCCAGTCTCCATCCTCCCTGTCTGCATCTGTTGGAGACAGAGTCACCATCACTTG',\n",
       " 'file1ERR204838.2174254': 'GTGACATCCAGATGACCCAGTCTCCATCCTCCCTGTCTGCATCTGTTGGAGACAGAGTCACCATCACTTGCCAGG',\n",
       " 'file1ERR204838.2247268': 'GCTAATGCTCTGACTTGCCCGGCAAGTGATGGTGACTCTGTCTCCAACAGATGCAGACAGGGAGGATGGAGACTG',\n",
       " 'file1ERR204838.2320105': 'AAGTGATGGTGACTCTGTCTCCAACAGATGCAGACAGGGAGGATGGAGACTGGGTCATCTGGATGTCACATCTGG',\n",
       " 'file1ERR204838.2427079': 'CGGCAAGTGATGGTGACTCTGTCTCCAACAGATGCAGACAGGGAGGATGGAGACTGGGTCATCTGGATGTCACAT',\n",
       " 'file1ERR204838.2437680': 'CCAGATGTGACATCCAGATGACCCAGTCTCCATCCTCCCTGTCTGCATCTGTTGGAGACAGAGTCACCATCACTT',\n",
       " 'file1ERR204838.2627317': 'CCTGACTCGCCTGGCAAGTGATGGTGACTCTGTCTCCAACAGATGCAGACAGGGAGGATGGAGACTGGGTCATCT',\n",
       " 'file1ERR204838.2627791': 'GCTGACTTGCCCGGCAAGTGATGGTGACTCTGTCTCCAACAGATGCAGACAGGGAGGATGGAGACTGGGTCATCT',\n",
       " 'file1ERR204838.2782911': 'GTGACATCCAGATGACCCAGTCTCCATCCTCCCTGTCTGCATCTGTTGGAGACAGAGTCACCATCACTTGCCAGG',\n",
       " 'file1ERR204838.2873864': 'AGATGACCCAGTCTCCATCCTCCCTGTCTGCATCTGTTGGAGACAGAGTCACCATCACTTGCCGGGCAAGTCAGC',\n",
       " 'file1ERR204838.3148323': 'GCTGACTTGCCCGGCAAGTGATGGTGACTCTGTCTCCAACAGATGCAGACAGGGAGGATGGAGACTGGGTCATCT',\n",
       " 'file1ERR204838.3850294': 'GTGACATCCAGATGACCCAGTCTCCATCCTCCCTGTCTGCATCTGTTGGAGACAGAGTCACCATCACTTGCCGGG',\n",
       " 'file1ERR204838.4131960': 'CTGACTTGCCCGGCAAGTGATGGTGACTCTGTCTCCAACAGATGCAGACAGGGAGGATGGAGACTGGGTCATCTG',\n",
       " 'file1ERR204838.4401233': 'GGCTGACTTGCCCGGCAAGTGATGGTGACTCTGTCTCCAACAGATGCAGACAGGGAGGATGGAGACTGGGTCATC',\n",
       " 'file1ERR204838.4409046': 'CATCCAGATGACCCAGTCTCCATCCTCCCTGTCTGCATCTGTTGGAGACAGAGTCACCATCACTTGCCGGGCAAG',\n",
       " 'file1ERR204838.4480261': 'CAGATGTGACATCCAGATGACCCAGTCTCCATCCTCCCTGTCTGCATCTGTTGGAGACAGAGTCACCATCACTTG',\n",
       " 'file1ERR204838.4517857': 'CCCGGCAAGTGATGGTGACTCTGTCTCCAACAGATGCAGACAGGGAGGATGGAGACTGGGTCATCTGGATGTCAC',\n",
       " 'file1ERR204838.4521547': 'GGCTGACTTGCCCGGCAAGTGATGGTGACTCTGTCTCCAACAGATGCAGACAGGGAGGATGGAGACTGGGTCATC',\n",
       " 'file1ERR204838.4571202': 'CTGACTTGCCCGGCAAGTGATGGTGACTCTGTCTCCAACAGATGCAGACAGGGAGGATGGAGACTGGGTCATCTG',\n",
       " 'file1ERR204838.4595688': 'ACCCAGTCTCCATCCTCCCTGTCTGCATCTGTTGGAGACAGAGTCACCATCACTTGCCGGGCAAGTCAGCCCATT',\n",
       " 'file1ERR204838.4758332': 'TGACATCCAGATGACCCAGTCTCCATCCTCCCTGTCTGCATCTGTTGGAGACAGAGTCACCATCACTTGCCGGGC',\n",
       " 'file1ERR204838.4813815': 'CATCCTCCCTGTCTGCATCTGTTGGAGACAGAGTCACCATCACTTGCCGGGCAAGTCAGCCCATTTACAGTTATT',\n",
       " 'file1ERR204838.4917069': 'CCAGTCTCCATCCTCCCTGTCTGCATCTGTTGGAGACAGAGTCACCATCACTTGCCGGGCAAGTCAGCCCATTTA',\n",
       " 'file1ERR204838.5187690': 'CCAGTCTCCATCCTCCCTGTCTGCATCTGTTGGAGACAGAGTCACCATCACTTGCCGGGCAAGTCAGCCCATTTA',\n",
       " 'file1ERR204838.5349348': 'TCTCCATCCTCCCTGTCTGCATCTGTTGGAGACAGAGTCACCATCACTTGCCAGGCGAGTCAGGACATTAACAAC',\n",
       " 'file1ERR204838.5545741': 'GTGACATCCAGATGACCCAGTCTCCATCCTCCCTGTCTGCATCTGTTGGAGACAGAGTCACCATCACTTGCCGGG',\n",
       " 'file1ERR204838.5567076': 'CAGATGTGACATCCAGATGACCCAGTCTCCATCCTCCCTGTCTGCATCTGTTGGAGACAGAGTCACCATCACTTG',\n",
       " 'file1ERR204838.5693722': 'CTCCATCCTCCCTGTCTGCATCTGTTGGAGACAGAGTCACCATCACTTGCCGGGCAAGTCAGCCCATTTACAGTT',\n",
       " 'file1ERR204838.5756320': 'TGACTCGCCTGGCAAGTGATGGTGACTCTGTCTCCAACAGATGCAGACAGGGAGGATGGAGACTGGGTCATCTGG',\n",
       " 'file1ERR204838.5954220': 'CCTCCCTGTCTGCATCTGTTGGAGACAGAGTCACCATCACTTGCCGGGCAAGTCAGCCCATTTACAGTTATTTAA',\n",
       " 'file1ERR204838.5981019': 'GTGACATCCAGATGACCCAGTCTCCATCCTCCCTGTCTGCATCTGTTGGAGACAGAGTCACCATCACTTGCCGGG',\n",
       " 'file1ERR204838.6353782': 'CAGATGACCCAGTCTCCATCCTCCCTGTCTGCATCTGTTGGAGACAGAGTCACCATCACTTGCCGGGCAAGTCAG',\n",
       " 'file1ERR204838.6394597': 'ATGACCCAGTCTCCATCCTCCCTGTCTGCATCTGTTGGAGACAGAGTCACCATCACTTGCCGGGCAAGTCAGCCC',\n",
       " 'file1ERR204838.6629212': 'CTCCCTGTCTGCATCTGTTGGAGACAGAGTCACCATCACTTGCCGGGCAAGTCAGCCCATTTACAGTTATTTAAA',\n",
       " 'file1ERR204838.7035883': 'TGTTAATGTCCTGACTCGCCTGGCAAGTGATGGTGACTCTGTCTCCAACAGATGCAGACAGGGAGGATGGAGACT',\n",
       " 'file1ERR204838.7036987': 'CTCCATCCTCCCTGTCTGCATCTGTTGGAGACAGAGTCACCATCACTTGCCGGGCAAGTCAGCCCATTTACAGTT',\n",
       " 'file1ERR204838.7038251': 'AGATGACCCAGTCTCCATCCTCCCTGTCTGCATCTGTTGGAGACAGAGTCACCATCACTTGCCGGGCAAGTCAGC',\n",
       " 'file1ERR204838.7043293': 'TCTCCATCCTCCCTGTCTGCATCTGTTGGAGACAGAGTCACCATCACTTGCCGGGCAAGTCAGCCCATTTACAGT',\n",
       " 'file1ERR204838.7288982': 'GTGACATCCAGATGACCCAGTCTCCATCCTCCCTGTCTGCATCTGTTGGAGACAGAGTCACCATCACTTGCCGGG',\n",
       " 'file1ERR204838.7296246': 'CTCTGACTTGCCCGGCAAGTGATGGTGACTCTGTCTCCAACAGATGCAGACAGGGAGGATGGAGACTGGGTCATC',\n",
       " 'file1ERR204838.7357201': 'TCCATCCTCCCTGTCTGCATCTGTTGGAGACAGAGTCACCATCACTTGCCGGGCAAGTCAGCCCATTTACAGTTA',\n",
       " 'file1ERR204838.7574553': 'GTGACATCCAGATGACCCAGTCTCCATCCTCCCTGTCTGCATCTGTTGGAGACAGAGTCACCATCACTTGCCGGG',\n",
       " 'file1ERR204838.7920088': 'CTGACTTGCCCGGCAAGTGATGGTGACTCTGTCTCCAACAGATGCAGACAGGGAGGATGGAGACTGGGTCATCTG',\n",
       " 'file1ERR204838.7962988': 'AATGGGCTGACTTGCCCGGCAAGTGATGGTGACTCTGTCTCCAACAGATGCAGACAGGGAGGATGGAGACTGGGT',\n",
       " 'file1ERR204838.8047599': 'CCAGATGACCCAGTCTCCATCCTCCCTGTCTGCATCTGTTGGAGACAGAGTCACCATCACTTGCCGGGCAAGTCA',\n",
       " 'file1ERR204838.8088230': 'GATGTGACATCCAGATGACCCAGTCTCCATCCTCCCTGTCTGCATCTGTTGGAGACAGAGTCACCATCACTTGCC',\n",
       " 'file1ERR204838.8163793': 'CTGACTTGCCCGGCAAGTGATGGTGACTCTGTCTCCAACAGATGCAGACAGGGAGGATGGAGACTGGGTCATCTG',\n",
       " 'file1ERR204838.8328924': 'GTGACATCCAGATGACCCAGTCTCCATCCTCCCTGTCTGCATCTGTTGGAGACAGAGTCACCATCACTTGCCGGG',\n",
       " 'file1ERR204838.8356998': 'TCCAGATGACCCAGTCTCCATCCTCCCTGTCTGCATCTGTTGGAGACAGAGTCACCATCACTTGCCAGGCGAGTC',\n",
       " 'file1ERR204838.8446241': 'CATCCTCCCTGTCTGCATCTGTTGGAGACAGAGTCACCATCACTTGCCGGGCAAGTCAGCCCATTTACAGTTATT',\n",
       " 'file1ERR204838.8458901': 'CTGACTTGCCCGGCAAGTGATGGTGACTCTGTCTCCAACAGATGCAGACAGGGAGGATGGAGACTGGGTCATCTG',\n",
       " 'file1ERR204838.8545730': 'CGGCAAGTGATGGTGACTCTGTCTCCAACAGATGCAGACAGGGAGGATGGAGACTGGGTCATCTGGATGTCACAT',\n",
       " 'file1ERR204838.8936907': 'AGATGACCCAGTCTCCATCCTCCCTGTCTGCATCTGTTGGAGACAGAGTCACCATCACTTGCCGGGCAAGTCAGC',\n",
       " 'file1ERR204838.8940106': 'CGGCAAGTGATGGTGACTCTGTCTCCAACAGATGCAGACAGGGAGGATGGAGACTGGGTCATCTGGATGTCACAT',\n",
       " 'file1ERR204838.8955014': 'CCCAGTCTCCTTCCACCCTGTCTGCATCTGTTGGAGACAGAGTCACCATCACTTGCCGGGCCAGTCAGAGTATTA',\n",
       " 'file1ERR204838.9091255': 'CGGCAAGTGATGGTGACTCTGTCTCCAACAGATGCAGACAGGGAGGATGGAGACTGGGTCATCTGGATGTCACAT',\n",
       " 'file1ERR204838.9469221': 'GCTGACTTGCCCGGCAAGTGATGGTGACTCTGTCTCCAACAGATGCAGACAGGGAGGATGGAGACTGGGTCATCT',\n",
       " 'file1ERR204838.9544445': 'GTGACATCCAGATGACCCAGTCTCCATCCTCCCTGTCTGCATCTGTTGGAGACAGAGTCACCATCACTTGCCGGG',\n",
       " 'file1ERR204838.9566379': 'CCATCCTCCCTGTCTGCATCTGTTGGAGACAGAGTCACCATCACTTGCCGGGCAAGTCAGCCCATTTACAGTTAT',\n",
       " 'file1ERR204838.9933102': 'CATCAAGTGATGGTGACTCTGTCTCCAACAGATGCAGACAGGGAGGATGGAGACTGGGTCATCTGGATGTCACAT',\n",
       " 'file1ERR204838.9947666': 'ATGTGACATCCAGATGACCCAGTCTCCATCCTCCCTGTCTGCATCTGTTGGAGACAGAGTCACCATCACTTGCCG',\n",
       " 'file1ERR204838.9963074': 'TCCCTGTCTGCATCTGTTGGAGACAGAGTCACCATCACTTGCCGGGCAAGTCAGCCCATTTACAGTTATTTAAAT',\n",
       " 'file1ERR204838.10127818': 'AGATGACCCAGTCTCCATCCTCCCTGTCTGCATCTGTTGGAGACAGAGTCACCATCACTTGCCGGGCAAGTCAGC',\n",
       " 'file1ERR204838.10165203': 'TCCATCCTCCCTGTCTGCATCTGTTGGAGACAGAGTCACCATCACTTGCCGGGCAAGTCAGCCCATTTACAGTTA',\n",
       " 'file1ERR204838.10751284': 'GTGACATCCAGATGACCCAGTCTCCATCCTCCCTGTCTGCATCTGTTGGAGACAGAGTCACCATCACTTGCCAGG',\n",
       " 'file1ERR204838.10886985': 'CCCGGCAAGTGATGGTGACTCTGTCTCCAACAGATGCAGACAGGGAGGATGGAGACTGGGTCATCTGGATGTCAC',\n",
       " 'file1ERR204838.11360563': 'TCTCCATCCTCCCTGTCTGCATCTGTTGGAGACAGAGTCACCATCACTTGCCAGGCGAGTCAGGACATTAACAAC',\n",
       " 'file1ERR204838.11438520': 'CGGCAAGTGATGGTGACTCTGTCTCCAACAGATGCAGACAGGGAGGATGGAGACTGGGTCATCTGGATGTCACAT',\n",
       " 'file1ERR204838.11489801': 'CGGCAAGTGATGGTGACTCTGTCTCCAACAGATGCAGACAGGGAGGATGGAGACTGGGTCATCTGGATGTCACAT',\n",
       " 'file1ERR204838.11657558': 'CCTGACTCGCCTGGCAAGTGATGGTGACTCTGTCTCCAACAGATGCAGACAGGGAGGATGGAGACTGGGTCATCT',\n",
       " 'file1ERR204838.11673592': 'GTCTCCATCCTCCCTGTCTGCATCTGTTGGAGACAGAGTCACCATCACTTGCCGGGCAAGTCAGCCCATTTACAG',\n",
       " 'file1ERR204838.11749365': 'CCTCCCTGTCTGCATCTGTTGGAGACAGAGTCACCATCACTTGCCGGGCAAGTCAGCCCATTTACAGTTATTTAA',\n",
       " 'file1ERR204838.11814842': 'GCTGACTTGCCCGGAAAGTGATGGTGACTCTGTCTCCAACAGATGCAGACAGGGAGGATGGAGACTGGGTCATCT',\n",
       " 'file1ERR204838.11901329': 'TTAAATAACTGTAAATGGGCTGACTTGCCCGGCAAGTGATGGTGACTCTGTCTCCAACAGATGCAGACAGGGAGG',\n",
       " 'file1ERR204838.12035677': 'CTCCATCCTCCCTGTCTGCATCTGTTGGAGACAGAGTCACCATCACTTGCCAGGCGAGTCAGGACATTAACAACT',\n",
       " 'file1ERR204838.12058144': 'CCAGATGTGACATCCAGATGACCCAGTCTCCATCCTCCCTGTCTGCATCTGTTGGAGACAGAGTCACCATCACTT',\n",
       " 'file1ERR204838.12117476': 'TTGCCCGGCAAGTGATGGTGACTCTGTCTCCAACAGATGCAGACAGGGAGGATGGAGACTGGGTCATCTGGATGT',\n",
       " 'file1ERR204838.12540207': 'ATGCGACATCCAGATGACCCAGTCTCCATCCTCCCTGTCTGCATCTGTTGGAGACAGAGTCACCATCACTTGCCG',\n",
       " 'file1ERR204838.12569476': 'CCAGATGTGACATCCAGATGACCCAGTCTCCATCCTCCCTGTCTGCATCTGTTGGAGACAGAGTCACCATCACTT',\n",
       " 'file1ERR204838.12926007': 'TCCAGATGACCCAGTCTCCATCCTCCCTGTCTGCATCTGTTGGAGACAGAGTCACCATCACTTGCCGGGCAAGTC',\n",
       " 'file1ERR204838.13101173': 'CCTGACTCGCCTGGCAAGTGATGGTGACTCTGTCTCCAACAGATGCAGACAGGGAGGATGGAGACTGGGTCATCT',\n",
       " 'file1ERR204838.13112787': 'CTCGCCTGGCAAGTGATGGTGACTCTGTCTCCAACAGATGCAGACAGGGAGGATGGAGACTGGGTCATCTGGATG',\n",
       " 'file1ERR204838.13286948': 'TGTGACATCCAGATGACCCAGTCTCCATCCTCCCTGTCTGCATCTGTTGGAGACAGAGTCACCATCACTTGCCGG',\n",
       " 'file1ERR204838.13661275': 'CCATCCTCCCTGTCTGCATCTGTTGGAGACAGAGTCACCATCACTTGCCGGGCAAGTCAGCCCATTTACAGTTAT',\n",
       " 'file1ERR204838.13891428': 'TGGCAAGTGATGGTGACTCTGTCTCCAACAGATGCAGACAGGGAGGATGGAGACTGGGTCATCTGGATGTCACAT',\n",
       " 'file1ERR204838.13941735': 'GACCCAGTCTCCATCCTCCCTGTCTGCATCTGTTGGAGACAGAGTCACCATCACTTGCCGGGCAAGTCAGCCCAT',\n",
       " 'file1ERR204838.14310309': 'CTGACTTGCCCGGCAAGTGATGGTGACTCTGTCTCCAACAGATGCAGACAGGGAGGATGGAGACTGGGTCATCTG',\n",
       " 'file1ERR204838.14420571': 'AGATGACCCAGTCTCCATCCTCCCTGTCTGCATCTGTTGGAGACAGAGTCACCATCACTTGCCAGGCGAGTCAGG',\n",
       " 'file1ERR204838.14470380': 'CCTGACTCGCCTGGCAAGTGATGGTGACTCTGTCTCCAACAGATGCAGACAGGGAGGATGGAGACTGGGTCATCT',\n",
       " 'file1ERR204838.14515343': 'CATCCTCCCTGTCTGCATCTGTTGGAGACAGAGTCACCATCACTTGCCGGGCAAGTCAGCCCATTTACAGTTATT',\n",
       " 'file1ERR204838.14681766': 'CAATCCTCCCTGTCTGCATCTGTTGGAGACAGAGTCACCATCACTTGCCGGGCAAGTCAGCCCATTTACAGTTAT',\n",
       " 'file1ERR204838.14925492': 'CGGACTTGCCCGGCAAGTGATGGTGACTCTGTCTCCAACAGATGCAGACAGGGAGGATGGAGACTGGGTCATCTG',\n",
       " 'file2ERR204838.19254': 'GTGACATCCAGATGACCCAGTCTCCATCCTCCCTGTCTGCATCTGTTGGAGACAGAGTCACCATCACTTGCCGGG',\n",
       " 'file2ERR204838.77689': 'CCCAGTCTCCATCCTCCCTGTCTGCATCTGTTGGAGACAGAGTCACCATCACTTGCCGGGCAAGTCAGCCCATTT',\n",
       " 'file2ERR204838.166579': 'CCAGTCTCCATCCTCCCTGTCTGCATCTGTTGGAGACAGAGTCACCATCACTTGCCGGGCAAGTCAGCCCATTTA',\n",
       " 'file2ERR204838.259987': 'TCCATCCTCCCTGTCTGCATCTGTTGGAGACAGAGTCACCATCACTTGCCGGGCAAGTCAGCCCATTTACAGTTA',\n",
       " 'file2ERR204838.384217': 'TAATGCTCTGACTTGCCCGGCAAGTGATGGTGACTCTGTCTCCAACAGATGCAGACAGGGAGGATGGAGACTGGG',\n",
       " 'file2ERR204838.635151': 'CGCCCGGCAAGTGATGGTGACTCTGTCTCCAACAGATGCAGACAGGGAGGATGGAGACTGGGTCATCTGGATGTC',\n",
       " 'file2ERR204838.873697': 'CATCCAGATGACCCAGTCTCCATCCTCCCTGTCTGCATCTGTTGGAGACAGAGTCACCATCACTTGCCGGGCAAG',\n",
       " 'file2ERR204838.1015205': 'CCCGGCAAGTGATGGTGACTCTGTCTCCAACAGATGCAGACAGGGAGGATGGAGACTGGGTCATCTGGATGTCAC',\n",
       " 'file2ERR204838.1128966': 'ATCCAGATGACCCAGTCTCCATCCTCCCTGTCTGCATCTGTTGGAGACAGAGTCACCATCACTTGCCGGGCAAGT',\n",
       " 'file2ERR204838.1239193': 'ATCCAGATGACCCAGTCTCCATCCTCCCTGTCTGCATCTGTTGGAGACAGAGTCACCATCACTTGCCGGGCAAGT',\n",
       " 'file2ERR204838.1247509': 'CCTGACTCGCCTGGCAAGTGATGGTGACTCTGTCTCCAACAGATGCAGACAGGGAGGATGGAGACTGGGTCATCT',\n",
       " 'file2ERR204838.1253493': 'CCGGCAAGTGATGGTGACTCTGTCTCCAACAGATGCAGACAGGGAGGATGGAGACTGGGTCATCTGGATGTCACA',\n",
       " 'file2ERR204838.1324360': 'CCGGCAAGTGATGGTGACTCTGTCTCCAACAGATGCAGACAGGGAGGATGGAGACTGGGTCATCTGGATGTCACA',\n",
       " 'file2ERR204838.1345667': 'CCGGCAAGTGATGGTGACTCTGTCTCCAACAGATGCAGACAGGGAGGATGGAGACTGGGTCATCTGGATGTCACA',\n",
       " 'file2ERR204838.1348350': 'CTCCCTGTCTGCATCTGTTGGAGACAGAGTCACCATCACTTGCCGGGCAAGTCAGCCCATTTACAGTTATTTAAA',\n",
       " 'file2ERR204838.1627228': 'AGATGACCCAGTCTCCATCCTCCCTGTCTGCATCTGTTGGAGACAGAGTCACCATCACTTGCCGGGCAAGTCAGC',\n",
       " 'file2ERR204838.1813079': 'ATCCAGATGACCCAGTCTCCATCCTCCCTGTCTGCATCTGTTGGAGACAGAGTCACCATCACTTGCCGGGCAAGT',\n",
       " 'file2ERR204838.1831393': 'GATGACCCAGTCTCCATCCTCCCTGTCTGCATCTGTTGGAGACAGAGTCACCATCACTTGCCGGGCAAGTCAGCC',\n",
       " 'file2ERR204838.1952726': 'TGGAGACAGAGTCACCATCACTTGCCCGGCAAGTGATGGTGACTCTGTCTCCAACAGATGCAGACAGGGAGGATG',\n",
       " 'file2ERR204838.1972883': 'CCATCCTCCCTGTCTGCATCTGTTGGAGACAGAGTCACCATCACTTGCCGGGCAAGTCAGCCCATTTACAGTTAT',\n",
       " 'file2ERR204838.2202339': 'CTAATGCTCTGACTTGCCCGGCAAGTGATGGTGACTCTGTCTCCAACAGATGCAGACAGGGAGGATGGAGACTGG',\n",
       " 'file2ERR204838.2204893': 'CAGATGTGACATCCAGATGACCCAGTCTCCATCCTCCCTGTCTGCATCTGTTGGAGACAGAGTCACCATCACTTG',\n",
       " 'file2ERR204838.2207224': 'AGATGACCCAGTCTCCATCCTCCCTGTCTGCATCTGTTGGAGACAGAGTCACCATCACTTGCCGGGCAAGTCAGC',\n",
       " 'file2ERR204838.2214083': 'TTTAAATAACTGTAAATGGGCTGACTTGCCCGGCAAGTGATGGTGACTCTGTCTCCAACAGATGCAGACAGGGAG',\n",
       " 'file2ERR204838.2223847': 'GGCAAGTGATGGTGACTCTGTCTCCAACAGATGCAGACAGGGAGGATGGAGACTGGGTCATCTGGATGTCACATC',\n",
       " 'file2ERR204838.2297777': 'CTGACTTGCCCGGCAAGTGATGGTGACTCTGTCTCCAACAGATGCAGACAGGGAGGATGGAGACTGGGTCATCTG',\n",
       " 'file2ERR204838.2394483': 'CCTCCCTGTCTGCATCTGTTGGAGACAGAGTCACCATCACTTGCCGGGCAAGTCAGCCCATTTACAGTTATTTAA',\n",
       " 'file2ERR204838.2524869': 'GTGACATCCAGATGACCCAGTCTCCATCCTCCCTGTCTGCATCTGTTGGAGACAGAGTCACCATCACTTGCCAGG',\n",
       " 'file2ERR204838.2604245': 'CCAGTCTCCATCCTCCCTGTCTGCATCTGTTGGAGACAGAGTCACCATCACTTGCCGGGCAAGTCAGCCCATTTA',\n",
       " 'file2ERR204838.2642598': 'CTCCATCCTCCCTGTCTGCATCTGTTGGAGACAGAGTCACCATCACTTGCCGGGCAAGTCAGCCCATTTACAGTT',\n",
       " 'file2ERR204838.2681951': 'CTGACTTGCCCGGCAAGTGATGGTGACTCTGTCTCCAACAGATGCAGACAGGGAGGATGGAGACTGGGTCATGTG',\n",
       " 'file2ERR204838.2706501': 'CACTCGCCTGGCAAGTGATGGTGACTCTGTCTCCAACAGATGCAGACAGGGAGGATGGAGACTGGGTCATCTGGA',\n",
       " 'file2ERR204838.2786633': 'TGTGACATCCAGATGACCCAGTCTCCATCCTCCCTGTCTGCATCTGTTGGAGACAGAGTCACCATCACTTGCCGG',\n",
       " 'file2ERR204838.2995549': 'CTGACTTGCCCGGCAAGTGATGGTGACTCTGTCTCCAACAGATGCAGACAGGGAGGATGGAGACTGGGTCATCTG',\n",
       " 'file2ERR204838.3101338': 'TCCATCCTCCCTGTCTGCATCTGTTGGAGACAGAGTCACCATCACTTGCCGGGCAAGTCAGCCCATTTACAGTTA',\n",
       " 'file2ERR204838.3193051': 'AGATGACCCAGTCTCCATCCTCCCTGTCTGCATCTGTTGGAGACAGAGTCACCATCACTTGCCGGGCAAGTCAGC',\n",
       " 'file2ERR204838.3224178': 'GTGACATCCAGATGACCCAGTCTCCATCCTCCCTGTCTGCATCTGTTGGAGACAGAGTCACCATCACTTGCCGGG',\n",
       " 'file2ERR204838.3407710': 'TCCAGATGACCCAGTCTCCATCCTCCCTGTCTGCATCTGTTGGAGACAGAGTCACCATCACTTGCCGGGCAAGTC',\n",
       " 'file2ERR204838.3408799': 'CTCTGACTTGCCCGGCAAGTGATGGTGACTCTGTCTCCAACAGATGCAGACAGGGAGGACGGAGACTGGGTCATC',\n",
       " 'file2ERR204838.3417698': 'AGTCTCCATCCTCCCTGTCTGCATCTGTTGGAGACAGAGTCACCATCACTTGCCGGGCAAGTCAGCCCATTTACA',\n",
       " 'file2ERR204838.4150604': 'TGCCCGGCAAGTGATGGTGACTCTGTCTCCAACAGATGCAGACAGGGAGGATGGAGACTGGGCCATTTGGATGTC',\n",
       " 'file2ERR204838.4152529': 'AGATGACCCAGTCTCCATCCTCCCTGTCTGCATCTGTTGGAGACAGAGTCACCATCACTTGCCGGGCAAGTCAGC',\n",
       " 'file2ERR204838.4176105': 'CCCTGTCTGCATCTGTTGGAGACAGAGTCACCATCACTTGCCGGGCAAGTCAGCCCATTTACAGTTATTTAAATT',\n",
       " 'file2ERR204838.4335593': 'GCTGACTTGCCCGGCAAGTGATGGTGACTCTGTCTCCAACAGATGCAGACAGGGAGGATGGAGACTGGGTCATCT',\n",
       " 'file2ERR204838.4401357': 'CCAGTCTCCATCCTCCCTGTCTGCATCTGTTGGAGACAGAGTCACCATCACTTGCCGGGCAAGTCAGCCCATTTA',\n",
       " 'file2ERR204838.4451907': 'CCTGACTCGCCTGGCAAGTGATGGTGACTCTGTCTCCAACAGATGCAGACAGGGAGGATGGAGACTGGGTCATCT',\n",
       " 'file2ERR204838.4483241': 'CCTCCCTGTCTGCATCTGTTGGAGACAGAGTCACCATCACTTGCCGGGCAAGTCAGCCCATTTACAGTTATTTAA',\n",
       " 'file2ERR204838.4593324': 'GCCCGGCAAGTGATGGTGACTCTGTCTCCAACAGATGCAGACAGGGAGGATGGAGACTGGGTCATCTGGATGTCA',\n",
       " 'file2ERR204838.4610408': 'GCAAGTGATGGTGACTCTGTCTCCAACAGATGCAGACAGGGAGGATGGAGACTGGGTCATCTGGATGTCACATCT',\n",
       " 'file2ERR204838.4623551': 'CTGACTTGCCCGGCAAGTGATGGTGACTCTGTCTCCAACAGATGCAGACAGGGAGGATGGAGACTGGGTCATCTG',\n",
       " 'file2ERR204838.4861469': 'CAGATGTGACATCCAGATGACCCAGTCTCCATCCTCCCTGTCTGCATCTGTTGGAGACAGAGTCACCATCACTTG',\n",
       " 'file2ERR204838.4888276': 'CAGATGTGACATCCAGATGACCCAGTCTCCATCCTCCCTGTCTGCATCTGTTGGAGACAGAGTCACCATCACTTG',\n",
       " 'file2ERR204838.5161573': 'GTGACATCCAGATGACCCAGTCTCCATCCTCCCTGTCTGCATCTGTTGGAGACAGAGTCACCATCACTTGCCAGG',\n",
       " 'file2ERR204838.5320930': 'TAAATAACTGTAAATGGGCTGACTTGCCCGGCAAGTGATGGTGACTCTGTCTCCAACAGATGCAGACAGGGAGGA',\n",
       " 'file2ERR204838.5372634': 'AGATGACCCAGTCTCCATCCTCCCTGTCTGCATCTGTTGGAGACAGAGTCACCATCACTTGCCGGGCAAGTCAGC',\n",
       " 'file2ERR204838.5572224': 'TCCAGATGACCCAGTCTCCATCCTCCCTGTCTGCATCTGTTGGAGACAGAGTCACCATCACTTGCCGGGCAAGTC',\n",
       " 'file2ERR204838.5577585': 'CCGGCAAGTGATGGTGACTCTGTCTCCAACAGATGCAGACAGGGAGGATGGAGACTGGGTAATCTGGATGTCACA',\n",
       " 'file2ERR204838.5681976': 'CCAGATGGGACATCCAGGTGACCCAGTCTCCATCCTCCCTGTCTGCATCTGTTGGAGACAGAGTCACCATCACTT',\n",
       " 'file2ERR204838.5706956': 'TCCCTGTCTGCATCTGTTGGAGACAGAGTCACCATCACTTGCCGGGCAAGTCAGGGCATTAGAAATGATTTAGGC',\n",
       " 'file2ERR204838.5718530': 'AGATGACCCAGTCTCCATCCTCCCTGTCTGCATCTGTTGGAGACAGAGTCACCATCACTTGCCGGGCAAGTCAGC',\n",
       " 'file2ERR204838.5819663': 'TCTCCATCCTCCCTGTCTGCATCTGTTGGAGACAGAGTCACCATCACTTGCCGGGCAAGTCAGCCCATTTACAGT',\n",
       " 'file2ERR204838.5918518': 'CTCCATCCTCCCTGTCTGCATCTGTTGGAGACAGAGTCACCATCACTTGCCAGGCGAGTCAGGACATTAACAACT',\n",
       " 'file2ERR204838.6015757': 'GTGACATCCAGATGACCCAGTCTCCATCCTCCCTGTCTGCATCTGTTGGAGACAGAGTCACCATCACTTGCCGGG',\n",
       " 'file2ERR204838.6030423': 'GTGACATCCAGATGACCCAGTCTCCATCCTCCCTGTCTGCATCTGTTGGAGACAGAGTCACCATCACTTGCCGGG',\n",
       " 'file2ERR204838.6153747': 'CCAGTCTCCATCCTCCCTGTCTGCATCTGTTGGAGACAGAGTCACCATCACTTGCCAGGCGAGTCAGGACATTAA',\n",
       " 'file2ERR204838.6449656': 'GTCTCCATCCTCCCTGTCTGCATCTGTTGGAGACAGAGTCACCATCACTTGCCGGGCAAGTCAGCCCATTTACAG',\n",
       " 'file2ERR204838.6494282': 'GTGACATCCAGATGACCCAGTCTCCATCCTCCCTGTCTGCATCTGTTGGAGACAGAGTCACCATCACTTGCCGGG',\n",
       " 'file2ERR204838.6576801': 'CTCCATCCTCCCTGTCTGCATCTGTTGGAGACAGAGTCACCATCACTTGCCGGGCAAGTCAGCCCATTTACAGTT',\n",
       " 'file2ERR204838.6642032': 'GGCAAGTGATGGTGACTCTGTCTCCAACAGATGCAGACAGGGAGGATGGAGACTGGGTCATCTGGATGTCACATC',\n",
       " 'file2ERR204838.6752128': 'GGGCTGACTTGCCCGGCAAGTGATGGTGACTCTGTCTCCAACAGATGCAGACAGGGAGGATGGAGACTGGGTCAT',\n",
       " 'file2ERR204838.6810539': 'ATTTAAATAACTGTAAATGGGCTGACTTGCCCGGCAAGTGATGGTGACTCTGTCTCCAACAGATGCAGACAGGGA',\n",
       " 'file2ERR204838.6921118': 'CTGACTTGCCCGGCAAGTGATGGTGACTCTGTCTCCAACAGATGCAGACAGGGAGGATGGAGACTGGGTCATCTG',\n",
       " 'file2ERR204838.6978087': 'TGACCCAGTCTCCATCCTCCCTGTCTGCATCTGTTGGAGACAGAGTCACCATCACTTGCCGGGCAAGTCAGCCCA',\n",
       " 'file2ERR204838.7307764': 'GACCCAGTCTCCATCCTCCCTGTCTGCATCTGTTGGAGACAGAGTCACCATCACTTGCCGGGCAAGTCAGCCCAT',\n",
       " 'file2ERR204838.7453436': 'CCCGGCAAGTGATGGTGACTCTGTCTCCAACAGATGCAGACAGGGAGGATGGAGACTGGGTCATCTGGATGTCAC',\n",
       " 'file2ERR204838.7481773': 'CCAGATGTGACATCCAGATGACCCAGTCTCCATCCTCCCTGTCTGCATCTGTTGGAGACAGAGTCACCATCACTT',\n",
       " 'file2ERR204838.7534248': 'GATGTGACATCCAGATGACCCAGTCTCCATCCTCCCTGTCTGCATCTGTTGGAGACAGAGTCACCATCACTTGCC',\n",
       " 'file2ERR204838.7655834': 'CCGGCAAGTGATGGTGACTCTGTCTCCAACAGATGCAGACAGGGAGGATGGAGACTGGGTCATCTGGATGTCACA',\n",
       " 'file2ERR204838.7716960': 'CTCCCTGTCTGCATCTGTTGGAGACAGAGTCACCATCACTTGCCAGGCGAGTCAGGACATTAACAACTATTTAAA',\n",
       " 'file2ERR204838.7930418': 'CAGTCTCCATCCTCCCTGTCTGCATCTGTTGGAGACAGAGTCACCATCACTTGCCGGGCAAGTCAGCCCATTTAC',\n",
       " 'file2ERR204838.8007523': 'CCATCCTCCCTGTCTGCATCTGTTGGAGACAGAGTCACCATCACTTGCCGGGCAAGTCAGCCCATTTACAGTTAT',\n",
       " 'file2ERR204838.8147285': 'CAGTCTCCATCCTCCCTGTCTGCATCTGTTGGAGACAGAGTCACCATCACTTGCCGGGCAAGTCAGCCCATTTAC',\n",
       " 'file2ERR204838.8329213': 'CTCCATCCTCCCTGTCTGCATCTGTTGGAGACAGAGTCACCATCACTTGCCGGGCAAGTCAGCCCATTTACAGTT',\n",
       " 'file2ERR204838.8503485': 'CGGCAAGTGATGGTGACTCTGTCTCCAACAGATGCAGACAGGGAGGATGGAGACTGGGTCATCTGGATGTCACAT',\n",
       " 'file2ERR204838.8801232': 'GTGACATCCAGATGACCCAGTCTCCATCCTCCCTGTCTGCATCTGTTGGAGACAGAGTCACCATCACTTGCCGGG',\n",
       " 'file2ERR204838.8836388': 'CGGCAAGTGATGGTGACTCTGTCTCCAACAGATGCAGACAGGGAGGATGGAGACTGGGTCATCTGGATGTCACAT',\n",
       " 'file2ERR204838.8876005': 'CTCCCTGTCTGCATCTGTTGGAGACAGAGTCACCATCACTTGCCGGGCAAGTCAGCCCATTTACAGTTATTTAAA',\n",
       " 'file2ERR204838.9452587': 'CCAGATGACCCAGTCTCCATCCTCCCTGTCTGCATCTGTTGGAGACAGAGTCACCATCACTTGCCGGGCAAGTCA',\n",
       " 'file2ERR204838.9612087': 'TCCATCCTCCCTGTCTGCATCTGTTGGAGACAGAGTCACCATCACTTGCCGGGCAAGTCAGCCCATTTACAGTTA',\n",
       " 'file2ERR204838.9812369': 'CGGCAAGTGATGGTGACTCTGTCTCCAACAGATGCAGACAGGGAGGCCGGAGACTGGGTCATCTCTATGTCACAT',\n",
       " 'file2ERR204838.9928517': 'CAGATGTGACATCCAGATGACCCAGTCTCCATCCTCCCTGTCTGCATCTGTTGGAGACAGAGTCACCATCACTTG',\n",
       " 'file2ERR204838.10320285': 'GCTGACTTGCCCGGCAAGTGATGGTGACTCTGTCTCCAACAGATGCAGACAGGGAGGATGGAGACTGGGTCATCT',\n",
       " 'file2ERR204838.10499117': 'AGATGACCCAGTCTCCATCCTCCCTGTCTGCATCTGTTGGAGACAGAGTCACCATCACTTGCCGGGCAAGTCAGC',\n",
       " 'file2ERR204838.10613860': 'GCCCGGCAAGTGATGGTGACTCTGTCTCCAACAGATGCAGACAGGGAGGATGGAGACTGGGTCATCTGGATGTCA',\n",
       " 'file2ERR204838.10872917': 'GTGACATCCAGATGACCCAGTCTCCATCCTCCCTGTCTGCATCTGTTGGAGACAGAGTCACCATCACTTGCCAGG',\n",
       " 'file2ERR204838.10873388': 'CTCCATCCTCCCTGTCTGCATCTGTTGGAGACAGAGTCACCATCACTTGCCGGGCAAGTCAGCCCATTTACAGTT',\n",
       " 'file2ERR204838.11520616': 'ATCCAGATGACCCAGTCTCCATCCTCCCTGTCTGCATCTGTTGGAGACAGAGTCACCATCACTTGCCGGGCAAGT',\n",
       " 'file2ERR204838.11690535': 'TGTGACATCCAGATGACCCAGTCTCCATCCTCCCTGTCTGCATCTGTTGGAGACAGAGTCACCATCACTTGCCAG',\n",
       " 'file2ERR204838.11736022': 'TCCAGATGACCCAGTCTCCATCCTCCCTGTCTGCATCTGTTGGAGACAGAGTCACCATCACTTGCCAGGCGAGTC',\n",
       " 'file2ERR204838.11776478': 'TGTGACATCCAGATGACCCAGTCTCCATCCTCCCTGTCTGCATCTGTTGGAGACAGAGTCACCATCACTTGCCGG',\n",
       " 'file2ERR204838.11853930': 'AGATGACCCAGTCTCCATCCTCCCTGTCTGCATCTGTTGGAGACAGAGTCACCATCACTTGCCGGGCAAGTCAGC',\n",
       " 'file2ERR204838.11923372': 'AGATGACCCAGTCTCCATCCTCCCTGTCTGCATCTGTTGGAGACAGAGTCACCATCACTTGCCGGGCAAGTCAGC',\n",
       " 'file2ERR204838.12005850': 'TCTCCATCCTCCCTGTCTGCATCTGTTGGAGACAGAGTCACCATCACTTGCCAGGCGAGTCAGGACATTAACAAC',\n",
       " 'file2ERR204838.12096787': 'ATCCAGATGACCTAGTCTCCATCCTCCCTGTCTGCATCTGTTGGAGACAGAGTCACCATCACTTGCCGGGCAAGT',\n",
       " 'file2ERR204838.12467289': 'CGGCAAGTGATGGTGACTCTGTCTCCAACAGATGCAGACAGGGTGGAAGGAGACTGGGTCATCTGGATGTCACAT',\n",
       " 'file2ERR204838.12640580': 'TCCATCCTCCCTGTCTGCATCTGTTGGAGACAGAGTCACCATCACTTGCCGGGCAAGTCAGCCCATTTACAGTTA',\n",
       " 'file2ERR204838.12765425': 'CTCCATCCTCCCTGTCTGCATCTGTTGGAGACAGAGTCACCATCACTTGCCGGGCAAGTCAGCCCATTTACAGTT',\n",
       " 'file2ERR204838.12803473': 'AGATGACCCAGTCTCCATCCTCCCTGTCTGCATCTGTTGGAGACAGAGTCACCATCACTTGCCAGGCGAGTCAGG',\n",
       " 'file2ERR204838.12964728': 'ATGACCCAGTCTCCATCCTCCCTGTCTGCATCTGTTGGAGACAGAGTCACCATCACTTGCCGGGCAAGTCAGCCC',\n",
       " 'file2ERR204838.13027889': 'TCTCCATCCTCCCTGTCTGCATCTGTTGGAGACAGAGTCACCATCACTTGCCGGGCAAGTCAGCCCATTTACAGT',\n",
       " 'file2ERR204838.13046674': 'ATGTGACATCCAGATGACCCAGTCTCCATCCTCCCTGTCTGCATCTGTTGGAGACAGAGTCACCATCACTTGCCG',\n",
       " 'file2ERR204838.13054553': 'ATCCAGATGACCCAGTCTCCATCCTCCCTGTCTGCATCTGTTGGAGACAGAGTCACCATCACTTGCCGGGCAAGT',\n",
       " 'file2ERR204838.13119622': 'GTGACATCCAGATGACCCAGTCTCCATCCTCCCTGTCTGCATCTGTTGGAGACAGAGTCACCATCACTTGCCGGG',\n",
       " 'file2ERR204838.13162893': 'CCAGATGTGACATCCAGATGACCCAGTCTCCATCCTCCCTGTCTGCATCTGTTGGAGACAGAGTCACCATCACTT',\n",
       " 'file2ERR204838.13645602': 'CCTGACTCGCCTGGCAAGTGATGGTGACTCTGTCTCCAACAGATGCAGACAGGGAGGATGGAGACTGGGTCATCT',\n",
       " 'file2ERR204838.13653448': 'TCCATCCTCCCTGTCTGCATCTGTTGGAGACAGAGTCACCATCACTTGCCAGGCGAGTCAGGACATTAACAACTA',\n",
       " 'file2ERR204838.13702305': 'GATGTGACATCCAGATGACCCAGTCTCCATCCTCCCTGTCTGCATCTGTTGGAGACAGAGTCACCATCACTTGCC',\n",
       " 'file2ERR204838.13864597': 'CCAGTCTCCATCCTCCCTGTCTGCATCTGTTGGAGACAGAGTCACCATCACTTGCCAGGCGAGTCAGGACATTAA',\n",
       " 'file2ERR204838.13979869': 'CGGCAAGTGATGGTGACTCTGTCTCCAACAGATGCAGACAGGGAGGATGGAGACTGGGTCATCTGGATGTCACAT',\n",
       " 'file2ERR204838.14226608': 'CAGATGTGACATCCAGATGACCCAGTCTCCATCCTCCCTGTCTGCATCTGTTGGAGACAGAGTCACCATCACTTG',\n",
       " 'file2ERR204838.14255995': 'TCCATCCTCCCTGTCTGCATCTGTTGGAGACAGAGTCACCATCACTTGCCGGGCAAGTCAGCCCATTTACAGTTA',\n",
       " 'file2ERR204838.14270066': 'TCCTCCCTGTCTGCATCTGTTGGAGACAGAGTCACCATCACTTGCCAGGCGAGTCAGGACATTAACAACTATTTA',\n",
       " 'file2ERR204838.14474504': 'TCTCCATCCTCCCTGTCTGCATCTGTTGGAGACAGAGTCACCATCACTTGCCGGGCAAGTCAGCCCATTTACAGT',\n",
       " 'file2ERR204838.14657918': 'CAGATGTGACATCCAGATGACCCAGTCTCCATCCTCCCTGTCTGCATCTGTTGGAGACAGAGTCACCATCACTTG',\n",
       " 'file2ERR204838.14756799': 'TCTCCATCCTCCCTGTCTGCATCTGTTGGAGACAGAGTCACCATCACTTGCCAGGCGAGTCAGGACATTAACAAC',\n",
       " 'file2ERR204838.14946757': 'CTCCATCCTCCCTGTCTGCATCTGTTGGAGACAGAGTCACCATCACTTGCCGGGCAAGTCAGCCCATTTACAGTT',\n",
       " 'file2ERR204838.14968015': 'CTCCCTGTCTGCATCTGTTGGAGACAGAGTCACCATCACTTGCCGGGCAAGTCAGCCCATTTACAGTTATTTAAA',\n",
       " 'file2ERR204838.14974032': 'CCAGTCTCCATCCTCCCTGTCTGCATCTGTTGGAGACAGAGTCACCATCACTTGCCGGGCAAGTCAGCCCATTTA',\n",
       " 'file2ERR204838.15118229': 'GCTAATGCTCTGACTTGCCCGGCAAGTGATGGTGACTCTGTCTCCAACAGATGCAGACAGGGAGGATGGAGACTG'}"
      ]
     },
     "execution_count": 38,
     "metadata": {},
     "output_type": "execute_result"
    }
   ],
   "source": [
    "matching_reads"
   ]
  },
  {
   "cell_type": "code",
   "execution_count": null,
   "id": "cc317bf2",
   "metadata": {
    "execution": {
     "iopub.execute_input": "2025-05-06T03:07:20.187251Z",
     "iopub.status.busy": "2025-05-06T03:07:20.186938Z",
     "iopub.status.idle": "2025-05-06T04:18:17.150085Z",
     "shell.execute_reply": "2025-05-06T04:18:17.148700Z"
    }
   },
   "outputs": [],
   "source": [
    "# variant_sam = \"/data/geuvadis_data_base/E_GEUV_1_HG00377_1_M_120209_6/vk_count_out_w37_k41_combined_final/total_reads.sam\"\n",
    "variant_sam = os.path.join(notebook_out_dir, \"total_reads.sam\")\n",
    "\n",
    "mapped_reads = []\n",
    "unmapped_reads = []\n",
    "for read in tqdm(matching_reads, total=len(matching_reads)):\n",
    "    # output = !grep -P '^file1ERR204838\\.34043\\t' {variant_sam}\n",
    "    read_with_backslash = read.replace(\".\", \"\\.\")\n",
    "    output = !grep -P '^{read_with_backslash}\\t' {variant_sam}\n",
    "    individual_output_list_of_lists = []\n",
    "    mapped = False\n",
    "    for individual_output in output:\n",
    "        individual_output_list = individual_output.split(\"\\t\")\n",
    "        ref_seq_name = individual_output_list[2]\n",
    "        if ref_seq_name != \"*\":\n",
    "            mapped = True\n",
    "            individual_output_list_of_lists.append(individual_output_list)\n",
    "            # break\n",
    "    if mapped:\n",
    "        mapped_reads.append({read: individual_output_list_of_lists})\n",
    "    else:\n",
    "        unmapped_reads.append(read)\n",
    "    # break\n",
    "\n",
    "print(f\"Number of mapped reads: {len(mapped_reads)}\")\n",
    "print(f\"Number of unmapped reads: {len(unmapped_reads)}\")"
   ]
  },
  {
   "cell_type": "markdown",
   "id": "fc7d6194",
   "metadata": {},
   "source": [
    "If desired, I could do additional analysis to go through mapped_reads and determine if the read mapped to the correct place; but this is probably unnecessary."
   ]
  },
  {
   "cell_type": "code",
   "execution_count": null,
   "id": "fab1bb7b",
   "metadata": {},
   "outputs": [],
   "source": []
  }
 ],
 "metadata": {
  "kernelspec": {
   "display_name": "varseek2",
   "language": "python",
   "name": "python3"
  },
  "language_info": {
   "codemirror_mode": {
    "name": "ipython",
    "version": 3
   },
   "file_extension": ".py",
   "mimetype": "text/x-python",
   "name": "python",
   "nbconvert_exporter": "python",
   "pygments_lexer": "ipython3",
   "version": "3.10.16"
  }
 },
 "nbformat": 4,
 "nbformat_minor": 5
}
