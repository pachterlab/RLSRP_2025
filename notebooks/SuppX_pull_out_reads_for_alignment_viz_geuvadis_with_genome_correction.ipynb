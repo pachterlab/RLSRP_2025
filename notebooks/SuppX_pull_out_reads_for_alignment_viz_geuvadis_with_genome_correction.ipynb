{
 "cells": [
  {
   "cell_type": "markdown",
   "id": "b8a4b538-0583-45e9-91d1-eec859bae4c1",
   "metadata": {},
   "source": [
    "# Extract cancer variant reads for alignment visualization\n",
    "\n",
    "## In this notebook, we use a single RNA-seq fastq file from a melanoma cancer cell line from the the CCLE project. Learn more about the project here:\n",
    "- sequencing data (ENA): https://www.ebi.ac.uk/ena/browser/view/PRJNA523380\n",
    "- paper: https://www.nature.com/articles/s41586-019-1186-3\n",
    "\n",
    "### Requirements: kb, samtools, and bowtie2"
   ]
  },
  {
   "cell_type": "code",
   "execution_count": 1,
   "id": "9cae3de3",
   "metadata": {},
   "outputs": [],
   "source": [
    "try:\n",
    "    import varseek as vk\n",
    "except ImportError:\n",
    "    print(\"varseek not found, installing...\")\n",
    "    !pip install -U -q varseek\n",
    "try:\n",
    "    import RLSRWP_2025\n",
    "except ImportError:\n",
    "    print(\"RLSRWP_2025 not found, installing...\")\n",
    "    !pip install -q git+https://github.com/pachterlab/RLSRWP_2025.git"
   ]
  },
  {
   "cell_type": "code",
   "execution_count": 2,
   "id": "400e7db6",
   "metadata": {},
   "outputs": [],
   "source": [
    "import anndata\n",
    "import os\n",
    "import subprocess\n",
    "from datetime import datetime\n",
    "import numpy as np\n",
    "import pandas as pd\n",
    "import re\n",
    "import gget\n",
    "from requests.adapters import HTTPAdapter\n",
    "from urllib3.util.retry import Retry\n",
    "import time\n",
    "import pyfastx\n",
    "import glob\n",
    "import requests\n",
    "from collections import Counter\n",
    "import matplotlib.pyplot as plt\n",
    "import seaborn as sns\n",
    "from tqdm import tqdm\n",
    "# pd.set_option('display.max_columns', None)\n",
    "import varseek as vk\n",
    "from varseek.utils import make_bus_df, add_variant_type\n",
    "\n",
    "RLSRWP_2025_dir = os.path.dirname(os.path.abspath(\"\"))  # if this notebook resides in RLSRWP_2025/notebooks/0_data_download.ipynb, then this retrieves RLSRWP_2025\n",
    "threads = \"32\""
   ]
  },
  {
   "cell_type": "markdown",
   "id": "317e1ef9",
   "metadata": {},
   "source": [
    "### File path definitions and imports"
   ]
  },
  {
   "cell_type": "markdown",
   "id": "faacef73",
   "metadata": {},
   "source": [
    "ENST00000390312:c.218G>A       1848.0\n",
    "ENST00000336023:c.614A>G       1493.0\n",
    "ENST00000579721:c.870G>C       1464.0\n",
    "ENST00000496168:c.382G>A       1382.0\n",
    "ENST00000579721:c.41C>T        1346.0"
   ]
  },
  {
   "cell_type": "code",
   "execution_count": null,
   "id": "b81b187a",
   "metadata": {},
   "outputs": [],
   "source": [
    "notebook_out_dir = os.path.join(RLSRWP_2025_dir, \"data\", \"geuvadis_data_base\", \"E_GEUV_1_HG00377_1_M_120209_6\", \"vk_count_out_w37_k41_with_genome_correction\")\n",
    "aligned_reads_parent_dir = os.path.join(notebook_out_dir, \"pseudoaligned_reads_to_vcrs_reference\")\n",
    "bowtie_read_alignments = os.path.join(notebook_out_dir, \"bowtie_read_alignments_modified_bam\")\n",
    "detailed_txt_out = os.path.join(notebook_out_dir, \"detailed_out_modified_bam.txt\")\n",
    "overall_txt_out = os.path.join(notebook_out_dir, \"overall_out_modified_bam.txt\")\n",
    "\n",
    "# fp df\n",
    "fp_df_path = os.path.join(RLSRWP_2025_dir, \"data\", \"geuvadis_analysis_with_genome_correction\", \"fp_df.parquet\")\n",
    "number_of_variants = None  # sorted by counts descending; None for all\n",
    "hgvs_df_path = os.path.join(RLSRWP_2025_dir, \"data\", \"reference\", \"geuvadis\", \"variants_transcriptome.parquet\")\n",
    "\n",
    "# vk ref out directory and files - downloaded if not already present\n",
    "vk_ref_out_dir = os.path.join(RLSRWP_2025_dir, \"data\", \"vk_ref_out_geuvadis\", \"w37_k41\")\n",
    "vcrs_index = os.path.join(vk_ref_out_dir, \"vcrs_index.idx\")\n",
    "vcrs_t2g = os.path.join(vk_ref_out_dir, \"vcrs_t2g_filtered.txt\")\n",
    "vcrs_fasta = os.path.join(vk_ref_out_dir, \"vcrs_filtered.fa\")\n",
    "\n",
    "# fastq directories - fastqs_dir downloaded if not already present, and fastqs_processed_dir created with fastp if not already present\n",
    "fastqs_dir = os.path.join(RLSRWP_2025_dir, \"data\", \"geuvadis_data_base\", \"E_GEUV_1_HG00377_1_M_120209_6\")\n",
    "fastq_files = [os.path.join(fastqs_dir, \"ERR204838_1.fastq.gz\"), os.path.join(fastqs_dir, \"ERR204838_2.fastq.gz\")]\n",
    "fastq_file = os.path.join(fastqs_dir, \"fastqs_combined\", \"fastqs_combined.fastq.gz\")  # os.path.join(fastqs_dir, \"ERR204838_1.fastq.gz\")\n",
    "technology = \"bulk\"\n",
    "\n",
    "# reference genome directory\n",
    "reference_genome_dir = os.path.join(RLSRWP_2025_dir, \"data\", \"reference\", \"ensembl_grch37_release113\")\n",
    "reference_genome_fasta = os.path.join(reference_genome_dir, \"Homo_sapiens.GRCh37.dna.primary_assembly.fa\")  # if reference_genome_index/reference_genome_t2g do not exist, then I need to supply the reference genome fasta and gtf\n",
    "reference_genome_gtf = os.path.join(reference_genome_dir, \"Homo_sapiens.GRCh37.87.gtf\")  # if reference_genome_index/reference_genome_t2g do not exist, then I need to supply the reference genome fasta and gtf\n",
    "\n",
    "# for bowtie2 - also uses reference_genome_fasta above (I could use cdna instead of genome too if desired)\n",
    "bowtie_reference_dir = os.path.join(reference_genome_dir, \"bowtie_index_genome\")\n",
    "bowtie_reference_prefix = os.path.join(bowtie_reference_dir, \"index\")\n",
    "\n",
    "# more settings for vk count if needed\n",
    "reference_out_dir = os.path.join(RLSRWP_2025_dir, \"data\", \"reference\")\n",
    "reference_genome_index = os.path.join(reference_out_dir, \"ensembl_grch37_release113\", \"index.idx\")  # can either already exist or will be created; only used if qc_against_gene_matrix=True\n",
    "reference_genome_t2g = os.path.join(reference_out_dir, \"ensembl_grch37_release113\", \"t2g.txt\")  # can either already exist or will be created; only used if qc_against_gene_matrix=True\n",
    "geuvadis_reference_files_dir = os.path.join(reference_out_dir, \"geuvadis\")\n",
    "seq_id_column = \"transcript_ID\"\n",
    "var_column = \"variant_cdna\"\n",
    "gene_id_column = \"gene_name\"\n",
    "variants_usecols = [seq_id_column, var_column, gene_id_column]\n",
    "\n",
    "# general\n",
    "w = \"37\"  # used during creation of the index, so cannot be altered\n",
    "k = \"41\"  # used during creation of the index, so cannot be altered\n",
    "strand = \"unstranded\"\n",
    "parity = \"single\"\n",
    "mm = True\n",
    "union = True\n",
    "quality_control_fastqs = True\n",
    "qc_against_gene_matrix = True\n",
    "mistake_ratio = 0.5\n",
    "use_combined = True\n",
    "modify_bam = True  # convert 256 flag to 0\n",
    "\n",
    "# software\n",
    "bustools = \"/home/jmrich/miniconda3/envs/varseek2/lib/python3.10/site-packages/kb_python/bins/linux/bustools/bustools\"\n",
    "bowtie2 = \"bowtie2\"\n",
    "bowtie2_build = \"bowtie2-build\"\n",
    "samtools = \"samtools\"\n",
    "email = \"jmrich@caltech.edu\"  # os.environ.get(\"EMAIL\")  #!!! once I reload vscode this will work"
   ]
  },
  {
   "cell_type": "markdown",
   "id": "492c02ce",
   "metadata": {},
   "source": [
    "### Make bowtie2 index files"
   ]
  },
  {
   "cell_type": "code",
   "execution_count": 4,
   "id": "17451c12",
   "metadata": {},
   "outputs": [],
   "source": [
    "if not os.path.exists(bowtie_reference_dir) or len(os.listdir(bowtie_reference_dir)) == 0:\n",
    "    os.makedirs(bowtie_reference_dir, exist_ok=True)\n",
    "    !{bowtie2_build} --threads {threads} {reference_genome_fasta} {bowtie_reference_prefix}"
   ]
  },
  {
   "cell_type": "markdown",
   "id": "50d1ddbe",
   "metadata": {},
   "source": [
    "### Load in FP df"
   ]
  },
  {
   "cell_type": "code",
   "execution_count": 5,
   "id": "e89d037d",
   "metadata": {},
   "outputs": [
    {
     "name": "stdout",
     "output_type": "stream",
     "text": [
      "{'ENST00000293831:c.1054C>T', 'ENST00000390319:c.154A>C', 'ENST00000390319:c.204C>T', 'ENST00000398071:c.2338G>A', 'ENST00000270225:c.296C>T', 'ENST00000390312:c.310A>G', 'ENST00000331825:c.255C>T', 'ENST00000603344:c.296T>G', 'ENST00000390277:c.280C>T', 'ENST00000301072:c.605T>C', 'ENST00000339436:c.326A>G', 'ENST00000338110:c.1336A>G', 'ENST00000604930:c.149G>C', 'ENST00000390297:c.199G>A', 'ENST00000338110:c.1748C>A', 'ENST00000390319:c.361C>T', 'ENST00000303887:c.2785G>C', 'ENST00000390243:c.388G>A', 'ENST00000604973:c.200C>T', 'ENST00000307569:c.785T>C', 'ENST00000579721:c.453C>A', 'ENST00000188376:c.790T>C', 'ENST00000496168:c.477G>A', 'ENST00000260379:c.266C>T', 'ENST00000261889:c.1459C>T', 'ENST00000390237:c.19C>G', 'ENST00000483379:c.318G>A', 'ENST00000306072:c.668G>A', 'ENST00000418115:c.934T>C', 'ENST00000347559:c.952C>T', 'ENST00000325222:c.1997G>A', 'ENST00000390299:c.269G>A', 'ENST00000573353:c.643C>T', 'ENST00000390309:c.205G>A', 'ENST00000483158:c.199G>C', 'ENST00000374213:c.208C>T', 'ENST00000374518:c.2777A>T', 'ENST00000390309:c.166A>G', 'ENST00000412585:c.267G>A', 'ENST00000390309:c.153G>C', 'ENST00000390311:c.219T>G', 'ENST00000353801:c.1652G>A', 'ENST00000361390:c.390C>T', 'ENST00000225655:c.745A>G', 'ENST00000324262:c.576C>T', 'ENST00000479981:c.138A>G', 'ENST00000253024:c.2471A>C', 'ENST00000202773:c.688T>A', 'ENST00000395248:c.1142A>T', 'ENST00000344063:c.920C>A', 'ENST00000479981:c.183C>T', 'ENST00000579721:c.414G>C', 'ENST00000390309:c.359A>G', 'ENST00000390297:c.276C>T', 'ENST00000285848:c.1043C>G', 'ENST00000335895:c.468T>C', 'ENST00000391857:c.438C>T', 'ENST00000604412:c.415T>A', 'ENST00000483158:c.202A>C', 'ENST00000603600:c.285G>A', 'ENST00000390309:c.183G>A', 'ENST00000390298:c.256C>T', 'ENST00000398603:c.377T>C', 'ENST00000603111:c.46T>C', 'ENST00000390321:c.62C>T', 'ENST00000603210:c.199G>T', 'ENST00000261366:c.1933C>T', 'ENST00000262584:c.788G>A', 'ENST00000390297:c.412T>G', 'ENST00000299300:c.655G>A', 'ENST00000196551:c.315C>A', 'ENST00000603632:c.978A>C', 'ENST00000262746:c.564G>A', 'ENST00000390270:c.213C>G', 'ENST00000605716:c.210G>T', 'ENST00000368003:c.410G>A', 'ENST00000376630:c.761G>A', 'ENST00000196551:c.348C>A', 'ENST00000322776:c.930T>C', 'ENST00000260379:c.299G>C', 'ENST00000390295:c.253C>T', 'ENST00000496168:c.382G>A', 'ENST00000303210:c.1388C>T', 'ENST00000390312:c.295G>T', 'ENST00000353801:c.2216G>A', 'ENST00000390309:c.231T>G', 'ENST00000391857:c.136G>A', 'ENST00000272317:c.538A>C', 'ENST00000605716:c.200A>G', 'ENST00000390243:c.533A>T', 'ENST00000374550:c.336C>G', 'ENST00000604930:c.145G>T', 'ENST00000390277:c.138G>A', 'ENST00000343139:c.431A>C', 'ENST00000603423:c.344C>T', 'ENST00000603210:c.343T>C', 'ENST00000607609:c.636A>G', 'ENST00000379389:c.370G>T', 'ENST00000331789:c.1209G>C', 'ENST00000603423:c.208G>T', 'ENST00000374982:c.649C>T', 'ENST00000331789:c.1233C>T', 'ENST00000468494:c.262A>G', 'ENST00000222247:c.477C>T', 'ENST00000301740:c.1732T>C', 'ENST00000304984:c.3366G>A', 'ENST00000307365:c.801C>T', 'ENST00000390319:c.261G>A', 'ENST00000336452:c.525T>C', 'ENST00000390290:c.299G>A', 'ENST00000295685:c.644A>G', 'ENST00000390312:c.275G>T', 'ENST00000331200:c.607C>T', 'ENST00000390277:c.325T>C', 'ENST00000278572:c.567C>T', 'ENST00000390319:c.197A>G', 'ENST00000603210:c.368C>T', 'ENST00000343986:c.198T>C', 'ENST00000390299:c.228G>A', 'ENST00000390312:c.292C>G', 'ENST00000603600:c.220C>A', 'ENST00000253452:c.124T>C', 'ENST00000390319:c.99G>C', 'ENST00000229239:c.818C>A', 'ENST00000524315:c.446A>G', 'ENST00000222247:c.357C>T', 'ENST00000227157:c.683G>C', 'ENST00000390634:c.295T>C', 'ENST00000468879:c.284G>A', 'ENST00000353801:c.1733C>T', 'ENST00000327892:c.957G>A', 'ENST00000370007:c.1392T>C', 'ENST00000390290:c.360C>T', 'ENST00000266594:c.138A>C', 'ENST00000262584:c.839G>A', 'ENST00000604930:c.397A>G', 'ENST00000348462:c.325C>T', 'ENST00000355731:c.36G>A', 'ENST00000390243:c.300A>G', 'ENST00000390319:c.185A>G', 'ENST00000390243:c.330G>A', 'ENST00000603111:c.33G>T', 'ENST00000604930:c.355C>A', 'ENST00000579721:c.423C>T', 'ENST00000496168:c.405G>A', 'ENST00000391857:c.406G>A', 'ENST00000293831:c.490C>A', 'ENST00000330752:c.564T>G', 'ENST00000302182:c.575C>T', 'ENST00000562905:c.291G>A', 'ENST00000603210:c.188T>G', 'ENST00000608106:c.494A>C', 'ENST00000390319:c.385C>T', 'ENST00000390319:c.119C>G', 'ENST00000390237:c.67C>T', 'ENST00000495489:c.196G>A', 'ENST00000483379:c.462C>T', 'ENST00000343677:c.237C>T', 'ENST00000390299:c.305G>C', 'ENST00000604930:c.231A>G', 'ENST00000366528:c.475G>A', 'ENST00000374550:c.71A>G', 'ENST00000332598:c.405T>C', 'ENST00000262584:c.762A>T', 'ENST00000603632:c.1015A>C', 'ENST00000243112:c.356T>C', 'ENST00000343139:c.339T>A', 'ENST00000427632:c.277T>C', 'ENST00000280326:c.860A>G', 'ENST00000390312:c.365C>T', 'ENST00000605760:c.29T>C', 'ENST00000390315:c.271G>A', 'ENST00000357485:c.1784C>T', 'ENST00000418724:c.2002T>G', 'ENST00000390299:c.317G>T', 'ENST00000390290:c.183G>A', 'ENST00000604045:c.277C>T', 'ENST00000390315:c.184A>G', 'ENST00000230050:c.281C>T', 'ENST00000230050:c.472T>C', 'ENST00000390309:c.365C>T', 'ENST00000453673:c.11G>A', 'ENST00000391857:c.217C>T', 'ENST00000558565:c.73G>A', 'ENST00000353801:c.2140C>T', 'ENST00000344063:c.812G>A', 'ENST00000331825:c.358T>C', 'ENST00000344063:c.859A>G', 'ENST00000299767:c.622T>C', 'ENST00000605681:c.371T>G', 'ENST00000563769:c.953G>A', 'ENST00000579721:c.180C>T', 'ENST00000321153:c.553C>T', 'ENST00000225655:c.737G>T', 'ENST00000369744:c.265C>T', 'ENST00000342879:c.912G>A', 'ENST00000394665:c.297G>T', 'ENST00000603423:c.158A>C', 'ENST00000603423:c.266G>T', 'ENST00000311111:c.170C>T', 'ENST00000579721:c.142G>A', 'ENST00000390312:c.218G>A', 'ENST00000309828:c.727T>G', 'ENST00000344063:c.865G>C', 'ENST00000340250:c.1329C>T', 'ENST00000374550:c.198C>T', 'ENST00000309311:c.1868C>T', 'ENST00000390319:c.222A>G', 'ENST00000603423:c.137G>A', 'ENST00000390282:c.177G>A', 'ENST00000391857:c.211C>G', 'ENST00000253024:c.2722G>C', 'ENST00000354546:c.1236G>A', 'ENST00000390282:c.129G>A', 'ENST00000264258:c.649C>T', 'ENST00000390319:c.347A>C', 'ENST00000605716:c.288C>A', 'ENST00000343139:c.271C>G', 'ENST00000594527:c.277T>C', 'ENST00000288439:c.2648A>T', 'ENST00000390305:c.182C>T', 'ENST00000393183:c.492C>T', 'ENST00000483158:c.195A>G', 'ENST00000321358:c.481T>C', 'ENST00000390319:c.118G>A', 'ENST00000604930:c.138A>C', 'ENST00000493819:c.235G>A', 'ENST00000496168:c.300G>C', 'ENST00000496168:c.391C>T', 'ENST00000309311:c.1226C>T', 'ENST00000603210:c.288A>C', 'ENST00000339647:c.2562C>T', 'ENST00000322535:c.2452A>G', 'ENST00000390299:c.280T>G', 'ENST00000390316:c.255G>A', 'ENST00000229379:c.263C>A', 'ENST00000353801:c.2141C>G', 'ENST00000338110:c.1396T>A', 'ENST00000390290:c.195A>G', 'ENST00000352066:c.795A>C', 'ENST00000604787:c.241G>T', 'ENST00000264221:c.639T>G', 'ENST00000356487:c.730A>G', 'ENST00000392132:c.2306T>C', 'ENST00000216254:c.214A>C', 'ENST00000238508:c.285_286insA', 'ENST00000604973:c.172A>C', 'ENST00000229239:c.726G>A', 'ENST00000453673:c.105G>A', 'ENST00000216455:c.288A>G', 'ENST00000274065:c.542T>C', 'ENST00000605716:c.222G>T', 'ENST00000603423:c.170T>G', 'ENST00000296503:c.1211A>G', 'ENST00000390319:c.277G>T', 'ENST00000604045:c.227C>A', 'ENST00000390299:c.143G>A', 'ENST00000331825:c.517G>C', 'ENST00000603600:c.205C>A', 'ENST00000253788:c.350C>A', 'ENST00000390305:c.298A>T', 'ENST00000390237:c.249G>C', 'ENST00000353801:c.709G>A', 'ENST00000570496:c.346G>C', 'ENST00000223324:c.288G>A', 'ENST00000579721:c.672C>T', 'ENST00000225430:c.252C>A', 'ENST00000353801:c.968A>G', 'ENST00000604405:c.283C>A', 'ENST00000390309:c.158A>G', 'ENST00000321358:c.768A>C', 'ENST00000604930:c.349C>T', 'ENST00000390270:c.102A>G', 'ENST00000311521:c.366G>A', 'ENST00000334828:c.895G>A', 'ENST00000339647:c.1713C>T', 'ENST00000603111:c.38C>A', 'ENST00000483379:c.398G>T', 'ENST00000390331:c.99T>A', 'ENST00000604045:c.177C>T', 'ENST00000390634:c.191C>T', 'ENST00000222247:c.318G>A', 'ENST00000452596:c.642A>C', 'ENST00000390299:c.185G>C', 'ENST00000233143:c.184G>A', 'ENST00000496168:c.328G>A', 'ENST00000608019:c.319G>C', 'ENST00000300289:c.556A>G', 'ENST00000374550:c.269G>A', 'ENST00000603600:c.183A>C', 'ENST00000343139:c.351G>A', 'ENST00000307658:c.1972A>G', 'ENST00000604930:c.373G>A', 'ENST00000390297:c.268A>G', 'ENST00000593437:c.451G>C', 'ENST00000390309:c.227G>A', 'ENST00000234313:c.523G>C', 'ENST00000338110:c.1114C>T', 'ENST00000390243:c.506G>C', 'ENST00000348462:c.343C>T', 'ENST00000196551:c.349G>A', 'ENST00000344063:c.729G>A', 'ENST00000390299:c.229C>T', 'ENST00000339656:c.1676G>T', 'ENST00000311528:c.330G>A', 'ENST00000292644:c.1054T>C', 'ENST00000244519:c.1286C>T', 'ENST00000272317:c.493T>C', 'ENST00000256593:c.292C>G', 'ENST00000390312:c.359T>C', 'ENST00000353801:c.2063T>C', 'ENST00000390299:c.204T>C', 'ENST00000307961:c.1155A>G', 'ENST00000304921:c.404A>G', 'ENST00000229239:c.1185A>T', 'ENST00000390316:c.324G>A', 'ENST00000604787:c.373A>G', 'ENST00000319006:c.1115A>G', 'ENST00000391857:c.367C>T', 'ENST00000390312:c.175G>C', 'ENST00000390301:c.299T>C', 'ENST00000263645:c.709C>T', 'ENST00000227157:c.654T>C', 'ENST00000390634:c.373G>A', 'ENST00000339647:c.1329A>G', 'ENST00000260379:c.186C>T', 'ENST00000483158:c.200C>T', 'ENST00000394275:c.3177C>T', 'ENST00000390319:c.217G>A', 'ENST00000339647:c.1638T>C', 'ENST00000339647:c.1158C>T', 'ENST00000326294:c.831G>A', 'ENST00000330029:c.169A>G', 'ENST00000390309:c.95G>A', 'ENST00000390319:c.224C>G', 'ENST00000293373:c.2921A>C', 'ENST00000381140:c.1049C>A', 'ENST00000390299:c.265A>T', 'ENST00000390321:c.143C>T', 'ENST00000390243:c.359T>G', 'ENST00000322088:c.317C>T', 'ENST00000390294:c.230G>A', 'ENST00000311111:c.317C>T', 'ENST00000229239:c.1383C>T', 'ENST00000390237:c.132A>G', 'ENST00000279259:c.107C>T', 'ENST00000479981:c.242C>T', 'ENST00000603210:c.131G>A', 'ENST00000295920:c.622G>C', 'ENST00000321153:c.416C>T', 'ENST00000229239:c.1464G>A', 'ENST00000390243:c.354C>T', 'ENST00000390319:c.304C>T', 'ENST00000338970:c.137A>G', 'ENST00000390282:c.273C>T', 'ENST00000390331:c.77G>A', 'ENST00000468879:c.292A>T', 'ENST00000359376:c.3628A>G', 'ENST00000579721:c.666G>A', 'ENST00000498435:c.331G>A', 'ENST00000390295:c.262C>G', 'ENST00000521764:c.51C>G', 'ENST00000376802:c.576T>G', 'ENST00000229239:c.1102A>G', 'ENST00000302182:c.449C>T', 'ENST00000390309:c.355C>T', 'ENST00000468879:c.288C>T', 'ENST00000360830:c.187T>C', 'ENST00000496168:c.339G>C', 'ENST00000227157:c.514G>T', 'ENST00000298649:c.1098T>C', 'ENST00000321153:c.478C>G', 'ENST00000344063:c.899C>T', 'ENST00000390309:c.195G>A', 'ENST00000393183:c.408T>C', 'ENST00000579721:c.605C>T', 'ENST00000603210:c.277G>A', 'ENST00000496168:c.306C>G', 'ENST00000603619:c.354G>A', 'ENST00000412585:c.288A>G', 'ENST00000390243:c.376A>C', 'ENST00000390299:c.153G>A', 'ENST00000360830:c.196A>G', 'ENST00000390308:c.566C>T', 'ENST00000354689:c.83C>T', 'ENST00000603210:c.209C>A', 'ENST00000258080:c.1497A>G', 'ENST00000262584:c.525A>G'}\n"
     ]
    },
    {
     "data": {
      "application/vnd.microsoft.datawrangler.viewer.v0+json": {
       "columns": [
        {
         "name": "index",
         "rawType": "object",
         "type": "string"
        },
        {
         "name": "variant_count",
         "rawType": "float64",
         "type": "float"
        },
        {
         "name": "variant_header_cds",
         "rawType": "object",
         "type": "string"
        },
        {
         "name": "variant_header",
         "rawType": "object",
         "type": "string"
        },
        {
         "name": "transcript_ID",
         "rawType": "object",
         "type": "string"
        },
        {
         "name": "gene",
         "rawType": "object",
         "type": "string"
        },
        {
         "name": "vcrs_count",
         "rawType": "float64",
         "type": "float"
        },
        {
         "name": "gene_count",
         "rawType": "float64",
         "type": "float"
        },
        {
         "name": "genotype",
         "rawType": "float64",
         "type": "float"
        }
       ],
       "conversionMethod": "pd.DataFrame",
       "ref": "29684f33-c7f4-41c6-a72f-55f2eec3521e",
       "rows": [
        [
         "175115",
         "1848.0",
         "ENST00000390312.2:c.177G>A",
         "ENST00000390312:c.218G>A",
         "ENST00000390312",
         "ENSG00000211666",
         "1848.0",
         "5781.0",
         "0.0"
        ],
        [
         "23451",
         "1382.0",
         "ENST00000496168.1:c.201G>A",
         "ENST00000496168:c.382G>A",
         "ENST00000496168",
         "ENSG00000243466",
         "1382.0",
         "3425.0",
         "0.0"
        ],
        [
         "58590",
         "758.0",
         "ENST00000579721.1:c.142G>A",
         "ENST00000579721:c.142G>A",
         "ENST00000579721",
         null,
         "758.0",
         null,
         "0.0"
        ],
        [
         "128160",
         "271.0",
         "ENST00000603423.1:c.87G>A",
         "ENST00000603423:c.137G>A",
         "ENST00000603423",
         null,
         "271.0",
         null,
         "0.0"
        ],
        [
         "23537",
         "236.0",
         "ENST00000468879.1:c.111A>T",
         "ENST00000468879:c.292A>T",
         "ENST00000468879",
         "ENSG00000242580",
         "236.0",
         "7.0",
         "0.0"
        ]
       ],
       "shape": {
        "columns": 8,
        "rows": 5
       }
      },
      "text/html": [
       "<div>\n",
       "<style scoped>\n",
       "    .dataframe tbody tr th:only-of-type {\n",
       "        vertical-align: middle;\n",
       "    }\n",
       "\n",
       "    .dataframe tbody tr th {\n",
       "        vertical-align: top;\n",
       "    }\n",
       "\n",
       "    .dataframe thead th {\n",
       "        text-align: right;\n",
       "    }\n",
       "</style>\n",
       "<table border=\"1\" class=\"dataframe\">\n",
       "  <thead>\n",
       "    <tr style=\"text-align: right;\">\n",
       "      <th></th>\n",
       "      <th>variant_count</th>\n",
       "      <th>variant_header_cds</th>\n",
       "      <th>variant_header</th>\n",
       "      <th>transcript_ID</th>\n",
       "      <th>gene</th>\n",
       "      <th>vcrs_count</th>\n",
       "      <th>gene_count</th>\n",
       "      <th>genotype</th>\n",
       "    </tr>\n",
       "    <tr>\n",
       "      <th>index</th>\n",
       "      <th></th>\n",
       "      <th></th>\n",
       "      <th></th>\n",
       "      <th></th>\n",
       "      <th></th>\n",
       "      <th></th>\n",
       "      <th></th>\n",
       "      <th></th>\n",
       "    </tr>\n",
       "  </thead>\n",
       "  <tbody>\n",
       "    <tr>\n",
       "      <th>175115</th>\n",
       "      <td>1848.0</td>\n",
       "      <td>ENST00000390312.2:c.177G&gt;A</td>\n",
       "      <td>ENST00000390312:c.218G&gt;A</td>\n",
       "      <td>ENST00000390312</td>\n",
       "      <td>ENSG00000211666</td>\n",
       "      <td>1848.0</td>\n",
       "      <td>5781.0</td>\n",
       "      <td>0.0</td>\n",
       "    </tr>\n",
       "    <tr>\n",
       "      <th>23451</th>\n",
       "      <td>1382.0</td>\n",
       "      <td>ENST00000496168.1:c.201G&gt;A</td>\n",
       "      <td>ENST00000496168:c.382G&gt;A</td>\n",
       "      <td>ENST00000496168</td>\n",
       "      <td>ENSG00000243466</td>\n",
       "      <td>1382.0</td>\n",
       "      <td>3425.0</td>\n",
       "      <td>0.0</td>\n",
       "    </tr>\n",
       "    <tr>\n",
       "      <th>58590</th>\n",
       "      <td>758.0</td>\n",
       "      <td>ENST00000579721.1:c.142G&gt;A</td>\n",
       "      <td>ENST00000579721:c.142G&gt;A</td>\n",
       "      <td>ENST00000579721</td>\n",
       "      <td>None</td>\n",
       "      <td>758.0</td>\n",
       "      <td>NaN</td>\n",
       "      <td>0.0</td>\n",
       "    </tr>\n",
       "    <tr>\n",
       "      <th>128160</th>\n",
       "      <td>271.0</td>\n",
       "      <td>ENST00000603423.1:c.87G&gt;A</td>\n",
       "      <td>ENST00000603423:c.137G&gt;A</td>\n",
       "      <td>ENST00000603423</td>\n",
       "      <td>None</td>\n",
       "      <td>271.0</td>\n",
       "      <td>NaN</td>\n",
       "      <td>0.0</td>\n",
       "    </tr>\n",
       "    <tr>\n",
       "      <th>23537</th>\n",
       "      <td>236.0</td>\n",
       "      <td>ENST00000468879.1:c.111A&gt;T</td>\n",
       "      <td>ENST00000468879:c.292A&gt;T</td>\n",
       "      <td>ENST00000468879</td>\n",
       "      <td>ENSG00000242580</td>\n",
       "      <td>236.0</td>\n",
       "      <td>7.0</td>\n",
       "      <td>0.0</td>\n",
       "    </tr>\n",
       "  </tbody>\n",
       "</table>\n",
       "</div>"
      ],
      "text/plain": [
       "        variant_count          variant_header_cds            variant_header  \\\n",
       "index                                                                         \n",
       "175115         1848.0  ENST00000390312.2:c.177G>A  ENST00000390312:c.218G>A   \n",
       "23451          1382.0  ENST00000496168.1:c.201G>A  ENST00000496168:c.382G>A   \n",
       "58590           758.0  ENST00000579721.1:c.142G>A  ENST00000579721:c.142G>A   \n",
       "128160          271.0   ENST00000603423.1:c.87G>A  ENST00000603423:c.137G>A   \n",
       "23537           236.0  ENST00000468879.1:c.111A>T  ENST00000468879:c.292A>T   \n",
       "\n",
       "          transcript_ID             gene  vcrs_count  gene_count  genotype  \n",
       "index                                                                       \n",
       "175115  ENST00000390312  ENSG00000211666      1848.0      5781.0       0.0  \n",
       "23451   ENST00000496168  ENSG00000243466      1382.0      3425.0       0.0  \n",
       "58590   ENST00000579721             None       758.0         NaN       0.0  \n",
       "128160  ENST00000603423             None       271.0         NaN       0.0  \n",
       "23537   ENST00000468879  ENSG00000242580       236.0         7.0       0.0  "
      ]
     },
     "execution_count": 5,
     "metadata": {},
     "output_type": "execute_result"
    }
   ],
   "source": [
    "fp_df = pd.read_parquet(fp_df_path)\n",
    "fp_df = fp_df.sort_values(\"vcrs_count\", ascending=False)\n",
    "if number_of_variants is not None:\n",
    "    fp_df = fp_df.head(number_of_variants)\n",
    "\n",
    "# fp_df = fp_df.set_index('variant_header')\n",
    "fps = set(fp_df['variant_header'].tolist())\n",
    "print(fps)\n",
    "fp_df.head()"
   ]
  },
  {
   "cell_type": "markdown",
   "id": "202970af",
   "metadata": {},
   "source": [
    "### Make pyfastx index files"
   ]
  },
  {
   "cell_type": "code",
   "execution_count": 6,
   "id": "4cfe6870",
   "metadata": {},
   "outputs": [],
   "source": [
    "if use_combined:\n",
    "    if not os.path.isfile(fastq_file):\n",
    "        import gzip\n",
    "        os.makedirs(os.path.dirname(fastq_file), exist_ok=True)\n",
    "        def process_and_write(input_path, output_file, file_tag):\n",
    "            with gzip.open(input_path, \"rt\") as f_in:\n",
    "                for i, line in enumerate(f_in):\n",
    "                    if i % 4 == 0 and line.startswith('@'):\n",
    "                        line = f\"@{file_tag}{line[1:]}\"  # replace @ with @fileX\n",
    "                    output_file.write(line)\n",
    "\n",
    "        with gzip.open(fastq_file, \"wt\") as f_out:\n",
    "            process_and_write(fastq_files[0], f_out, \"file1\")\n",
    "            process_and_write(fastq_files[1], f_out, \"file2\")\n",
    "else:\n",
    "    fastq_file = fastq_files[0]"
   ]
  },
  {
   "cell_type": "code",
   "execution_count": 7,
   "id": "a971147c",
   "metadata": {},
   "outputs": [],
   "source": [
    "fastq_indexed = pyfastx.Fastq(fastq_file, build_index=True)"
   ]
  },
  {
   "cell_type": "markdown",
   "id": "70df8866",
   "metadata": {},
   "source": [
    "### Perform variant screening with varseek count"
   ]
  },
  {
   "cell_type": "code",
   "execution_count": null,
   "id": "ca71a00e",
   "metadata": {},
   "outputs": [],
   "source": [
    "kb_count_out_dir = os.path.join(notebook_out_dir, \"kb_count_out_vcrs\")\n",
    "adata_path = os.path.join(kb_count_out_dir, \"counts_unfiltered\", \"adata.h5ad\")\n",
    "\n",
    "if not os.path.exists(adata_path):\n",
    "    vk_count_output_dict = vk.count(\n",
    "        fastqs=fastq_file,\n",
    "        index=vcrs_index,\n",
    "        t2g=vcrs_t2g,\n",
    "        technology=technology,\n",
    "        out=notebook_out_dir,\n",
    "        k=k,\n",
    "        strand=strand,\n",
    "        parity=parity,\n",
    "        threads=threads,\n",
    "        mm=mm,\n",
    "        union=union,\n",
    "        disable_fastqpp=False,\n",
    "        disable_summarize=True,\n",
    "        quality_control_fastqs=True, cut_front=True, cut_tail=True,\n",
    "        qc_against_gene_matrix=qc_against_gene_matrix, reference_genome_index=reference_genome_index, reference_genome_t2g=reference_genome_t2g, mistake_ratio=mistake_ratio,\n",
    "        variants = os.path.join(geuvadis_reference_files_dir, \"variants_transcriptome.parquet\"),\n",
    "        seq_id_column=seq_id_column,\n",
    "        var_column=var_column,\n",
    "        gene_id_column=gene_id_column,\n",
    "        variants_usecols=variants_usecols,\n",
    "    )"
   ]
  },
  {
   "cell_type": "code",
   "execution_count": null,
   "id": "f65dc807",
   "metadata": {},
   "outputs": [],
   "source": [
    "# url = \"https://grch37.rest.ensembl.org/vep/human/id\"\n",
    "# headers = {\"Content-Type\": \"application/json\"}\n",
    "\n",
    "hgvs_df = pd.read_parquet(hgvs_df_path, columns=[\"dbsnp_id\", \"transcript_ID\", \"variant_cdna\", \"strand\"])\n",
    "hgvs_df[\"header_cdna\"] = hgvs_df[\"transcript_ID\"] + \":\" + hgvs_df[\"variant_cdna\"]\n",
    "\n",
    "hgvs_df = hgvs_df.merge(fp_df, how=\"left\", left_on=\"header_cdna\", right_on=\"variant_header\", suffixes=(\"\", \"_fp\"))\n",
    "hgvs_df = hgvs_df.loc[~hgvs_df['vcrs_count'].isna()].sort_values('vcrs_count', ascending=False)  # .sort_values('vcrs_id', ascending=True)\n",
    "hgvs_df = hgvs_df.reset_index(drop=True)\n",
    "hgvs_df['vcrs_id'] = 'vcrs_' + hgvs_df.index.astype(str)\n",
    "\n",
    "hgvsc_to_vcrs_id_dict = dict(zip(hgvs_df['header_cdna'], hgvs_df['vcrs_id']))\n",
    "id_to_vcrs_header = {v: k for k, v in hgvsc_to_vcrs_id_dict.items()}"
   ]
  },
  {
   "cell_type": "code",
   "execution_count": 11,
   "id": "4b4cf90a",
   "metadata": {},
   "outputs": [
    {
     "data": {
      "application/vnd.microsoft.datawrangler.viewer.v0+json": {
       "columns": [
        {
         "name": "index",
         "rawType": "object",
         "type": "string"
        },
        {
         "name": "variant_count",
         "rawType": "float64",
         "type": "float"
        },
        {
         "name": "variant_header_cds",
         "rawType": "object",
         "type": "string"
        },
        {
         "name": "variant_header",
         "rawType": "object",
         "type": "string"
        },
        {
         "name": "transcript_ID",
         "rawType": "object",
         "type": "string"
        },
        {
         "name": "gene",
         "rawType": "object",
         "type": "string"
        },
        {
         "name": "vcrs_count",
         "rawType": "float64",
         "type": "float"
        },
        {
         "name": "gene_count",
         "rawType": "float64",
         "type": "float"
        },
        {
         "name": "genotype",
         "rawType": "float64",
         "type": "float"
        }
       ],
       "conversionMethod": "pd.DataFrame",
       "ref": "342b0541-e090-4cd5-95fc-6b222d9c15c9",
       "rows": [
        [
         "175115",
         "1848.0",
         "ENST00000390312.2:c.177G>A",
         "ENST00000390312:c.218G>A",
         "ENST00000390312",
         "ENSG00000211666",
         "1848.0",
         "5781.0",
         "0.0"
        ],
        [
         "23451",
         "1382.0",
         "ENST00000496168.1:c.201G>A",
         "ENST00000496168:c.382G>A",
         "ENST00000496168",
         "ENSG00000243466",
         "1382.0",
         "3425.0",
         "0.0"
        ],
        [
         "58590",
         "758.0",
         "ENST00000579721.1:c.142G>A",
         "ENST00000579721:c.142G>A",
         "ENST00000579721",
         null,
         "758.0",
         null,
         "0.0"
        ],
        [
         "128160",
         "271.0",
         "ENST00000603423.1:c.87G>A",
         "ENST00000603423:c.137G>A",
         "ENST00000603423",
         null,
         "271.0",
         null,
         "0.0"
        ],
        [
         "23537",
         "236.0",
         "ENST00000468879.1:c.111A>T",
         "ENST00000468879:c.292A>T",
         "ENST00000468879",
         "ENSG00000242580",
         "236.0",
         "7.0",
         "0.0"
        ]
       ],
       "shape": {
        "columns": 8,
        "rows": 5
       }
      },
      "text/html": [
       "<div>\n",
       "<style scoped>\n",
       "    .dataframe tbody tr th:only-of-type {\n",
       "        vertical-align: middle;\n",
       "    }\n",
       "\n",
       "    .dataframe tbody tr th {\n",
       "        vertical-align: top;\n",
       "    }\n",
       "\n",
       "    .dataframe thead th {\n",
       "        text-align: right;\n",
       "    }\n",
       "</style>\n",
       "<table border=\"1\" class=\"dataframe\">\n",
       "  <thead>\n",
       "    <tr style=\"text-align: right;\">\n",
       "      <th></th>\n",
       "      <th>variant_count</th>\n",
       "      <th>variant_header_cds</th>\n",
       "      <th>variant_header</th>\n",
       "      <th>transcript_ID</th>\n",
       "      <th>gene</th>\n",
       "      <th>vcrs_count</th>\n",
       "      <th>gene_count</th>\n",
       "      <th>genotype</th>\n",
       "    </tr>\n",
       "    <tr>\n",
       "      <th>index</th>\n",
       "      <th></th>\n",
       "      <th></th>\n",
       "      <th></th>\n",
       "      <th></th>\n",
       "      <th></th>\n",
       "      <th></th>\n",
       "      <th></th>\n",
       "      <th></th>\n",
       "    </tr>\n",
       "  </thead>\n",
       "  <tbody>\n",
       "    <tr>\n",
       "      <th>175115</th>\n",
       "      <td>1848.0</td>\n",
       "      <td>ENST00000390312.2:c.177G&gt;A</td>\n",
       "      <td>ENST00000390312:c.218G&gt;A</td>\n",
       "      <td>ENST00000390312</td>\n",
       "      <td>ENSG00000211666</td>\n",
       "      <td>1848.0</td>\n",
       "      <td>5781.0</td>\n",
       "      <td>0.0</td>\n",
       "    </tr>\n",
       "    <tr>\n",
       "      <th>23451</th>\n",
       "      <td>1382.0</td>\n",
       "      <td>ENST00000496168.1:c.201G&gt;A</td>\n",
       "      <td>ENST00000496168:c.382G&gt;A</td>\n",
       "      <td>ENST00000496168</td>\n",
       "      <td>ENSG00000243466</td>\n",
       "      <td>1382.0</td>\n",
       "      <td>3425.0</td>\n",
       "      <td>0.0</td>\n",
       "    </tr>\n",
       "    <tr>\n",
       "      <th>58590</th>\n",
       "      <td>758.0</td>\n",
       "      <td>ENST00000579721.1:c.142G&gt;A</td>\n",
       "      <td>ENST00000579721:c.142G&gt;A</td>\n",
       "      <td>ENST00000579721</td>\n",
       "      <td>None</td>\n",
       "      <td>758.0</td>\n",
       "      <td>NaN</td>\n",
       "      <td>0.0</td>\n",
       "    </tr>\n",
       "    <tr>\n",
       "      <th>128160</th>\n",
       "      <td>271.0</td>\n",
       "      <td>ENST00000603423.1:c.87G&gt;A</td>\n",
       "      <td>ENST00000603423:c.137G&gt;A</td>\n",
       "      <td>ENST00000603423</td>\n",
       "      <td>None</td>\n",
       "      <td>271.0</td>\n",
       "      <td>NaN</td>\n",
       "      <td>0.0</td>\n",
       "    </tr>\n",
       "    <tr>\n",
       "      <th>23537</th>\n",
       "      <td>236.0</td>\n",
       "      <td>ENST00000468879.1:c.111A&gt;T</td>\n",
       "      <td>ENST00000468879:c.292A&gt;T</td>\n",
       "      <td>ENST00000468879</td>\n",
       "      <td>ENSG00000242580</td>\n",
       "      <td>236.0</td>\n",
       "      <td>7.0</td>\n",
       "      <td>0.0</td>\n",
       "    </tr>\n",
       "  </tbody>\n",
       "</table>\n",
       "</div>"
      ],
      "text/plain": [
       "        variant_count          variant_header_cds            variant_header  \\\n",
       "index                                                                         \n",
       "175115         1848.0  ENST00000390312.2:c.177G>A  ENST00000390312:c.218G>A   \n",
       "23451          1382.0  ENST00000496168.1:c.201G>A  ENST00000496168:c.382G>A   \n",
       "58590           758.0  ENST00000579721.1:c.142G>A  ENST00000579721:c.142G>A   \n",
       "128160          271.0   ENST00000603423.1:c.87G>A  ENST00000603423:c.137G>A   \n",
       "23537           236.0  ENST00000468879.1:c.111A>T  ENST00000468879:c.292A>T   \n",
       "\n",
       "          transcript_ID             gene  vcrs_count  gene_count  genotype  \n",
       "index                                                                       \n",
       "175115  ENST00000390312  ENSG00000211666      1848.0      5781.0       0.0  \n",
       "23451   ENST00000496168  ENSG00000243466      1382.0      3425.0       0.0  \n",
       "58590   ENST00000579721             None       758.0         NaN       0.0  \n",
       "128160  ENST00000603423             None       271.0         NaN       0.0  \n",
       "23537   ENST00000468879  ENSG00000242580       236.0         7.0       0.0  "
      ]
     },
     "execution_count": 11,
     "metadata": {},
     "output_type": "execute_result"
    }
   ],
   "source": [
    "fp_df.head()"
   ]
  },
  {
   "cell_type": "markdown",
   "id": "661f100b",
   "metadata": {},
   "source": [
    "From dbSNP (roughly):\n",
    "ENST00000336023:c.614A>G: rs1057725 NC_000012.11:g.49522578T>C chrom12\n",
    "ENST00000390312:c.218G>A: rs3737543 NC_000022.11:g.23101523G>A chrom22\n",
    "ENST00000496168:c.382G>A: rs11546099 NC_000002.11:g.89246969C>T chrom2\n",
    "ENST00000579721:c.41C>T: rs115527405\n",
    "ENST00000579721:c.870G>C: rs114818671 NC_000006.12:g.29912149G>C chrom6"
   ]
  },
  {
   "cell_type": "markdown",
   "id": "487178cb-9825-4c23-9551-baf7a6934f9c",
   "metadata": {},
   "source": [
    "### Align (1) pulled out reads and (2) the VCRSs to the human genome to generate bam files:"
   ]
  },
  {
   "cell_type": "code",
   "execution_count": 13,
   "id": "cbb4d7f9",
   "metadata": {},
   "outputs": [],
   "source": [
    "import pysam\n",
    "\n",
    "def make_all_alignments_primary(infile_path, outfile_path):\n",
    "    infile = pysam.AlignmentFile(infile_path, \"rb\")\n",
    "    outfile = pysam.AlignmentFile(outfile_path, \"wb\", template=infile)\n",
    "\n",
    "    for read in infile:\n",
    "        read.flag = read.flag & ~256  # remove secondary flag\n",
    "        outfile.write(read)\n",
    "\n",
    "    infile.close()\n",
    "    outfile.close()"
   ]
  },
  {
   "cell_type": "code",
   "execution_count": null,
   "id": "28187021-d85a-4bd0-9892-7fd5e20e46e5",
   "metadata": {},
   "outputs": [
    {
     "name": "stderr",
     "output_type": "stream",
     "text": [
      "100%|██████████| 387/387 [19:46<00:00,  3.07s/it]\n"
     ]
    }
   ],
   "source": [
    "revcomp_dict = {\"A\": \"T\", \"T\": \"A\", \"C\": \"G\", \"G\": \"C\", \"N\": \"N\"}\n",
    "valid_chromosomes = set([str(i) for i in range(1, 23)] + [\"X\", \"Y\", \"MT\"])\n",
    "\n",
    "retry_strategy = Retry(\n",
    "    total=5,\n",
    "    backoff_factor=1,  # Wait 1s, then 2s, then 4s, etc.\n",
    "    status_forcelist=[429, 500, 502, 503, 504],  # Retry on these status codes\n",
    "    allowed_methods=[\"GET\"]\n",
    ")\n",
    "adapter = HTTPAdapter(max_retries=retry_strategy)\n",
    "session = requests.Session()\n",
    "session.mount(\"https://\", adapter)\n",
    "session.mount(\"http://\", adapter)\n",
    "headers = {\"User-Agent\": email if email else \"Mozilla/5.0 (compatible; PythonScript/1.0)\"}\n",
    "\n",
    "true_variants = []  # varseek FP where varseek was correct\n",
    "false_variants = []  # varseek FP where varseek was incorrect\n",
    "undetermined_variants = []  # insufficient reads mapped to this point\n",
    "number_of_failed_queries = 0\n",
    "number_of_other_errors = 0\n",
    "\n",
    "open(detailed_txt_out, 'w').close()  # starts the file from scratch\n",
    "\n",
    "# Align reads to human ref using bowtie2\n",
    "variant_sam = os.path.join(notebook_out_dir, \"total_reads.sam\")\n",
    "if not os.path.isfile(variant_sam):\n",
    "    print(f\"{datetime.now().strftime('%H:%M:%S')}: Aligning to genome\")\n",
    "    subprocess.run(f\"{bowtie2} --very-sensitive -k 5 -x {bowtie_reference_prefix} --quiet -p {threads} -q {fastq_file} -S {variant_sam}\", shell=True, check=True)\n",
    "\n",
    "# Convert sam to bam\n",
    "variant_bam = os.path.join(notebook_out_dir, \"total_reads.bam\")\n",
    "if not os.path.isfile(variant_bam):\n",
    "    print(f\"{datetime.now().strftime('%H:%M:%S')}: SAM --> BAM\")\n",
    "    subprocess.run(f\"{samtools} view -bS -F4 {variant_sam} > {variant_bam}\", shell=True, check=True)\n",
    "\n",
    "# Sort bam file\n",
    "variant_bam_sorted_prefix = \"final_total_sorted_reads\"\n",
    "variant_bam_sorted = os.path.join(notebook_out_dir, variant_bam_sorted_prefix + \".bam\")\n",
    "if not os.path.isfile(variant_bam_sorted):\n",
    "    print(f\"{datetime.now().strftime('%H:%M:%S')}: BAM sort\")\n",
    "    subprocess.run(f\"{samtools} sort -o {variant_bam_sorted} {variant_bam}\", shell=True, check=True)\n",
    "\n",
    "# make all alignments primary\n",
    "if modify_bam:\n",
    "    variant_bam_sorted_modified = os.path.join(notebook_out_dir, variant_bam_sorted_prefix + \"_modified.bam\")\n",
    "    if not os.path.isfile(variant_bam_sorted_modified):\n",
    "        print(f\"{datetime.now().strftime('%H:%M:%S')}: Remove 256's\")\n",
    "        make_all_alignments_primary(variant_bam_sorted, variant_bam_sorted_modified)\n",
    "else:\n",
    "    variant_bam_sorted_modified = variant_bam_sorted\n",
    "    \n",
    "# Create an index for the sorted bam file (creates a .bai file)\n",
    "bam_index_file = os.path.join(notebook_out_dir, variant_bam_sorted_modified + \".bai\")\n",
    "if not os.path.isfile(bam_index_file):\n",
    "    print(f\"{datetime.now().strftime('%H:%M:%S')}: BAM index\")\n",
    "    subprocess.run(f\"{samtools} index {variant_bam_sorted_modified} -o {bam_index_file}\", shell=True, check=True)\n",
    "\n",
    "print(f\"{datetime.now().strftime('%H:%M:%S')}: Entering the loop\")\n",
    "for _, row in tqdm(hgvs_df.iterrows(), total=len(hgvs_df)):\n",
    "    variant = row['vcrs_id']\n",
    "    if variant not in id_to_vcrs_header:\n",
    "        continue\n",
    "    variant_header = id_to_vcrs_header[variant]\n",
    "    # print(f\"{variant} ({variant_header})\\n\")\n",
    "\n",
    "    #* new stuff\n",
    "    try:\n",
    "        hgvs_df_row = hgvs_df.loc[hgvs_df['vcrs_id'] == variant]\n",
    "        dbsnp_id = hgvs_df_row['dbsnp_id'].values[0]\n",
    "        hgvsc = hgvs_df_row['header_cdna'].values[0]\n",
    "        strand = hgvs_df_row['strand'].values[0]\n",
    "        variant_counts = hgvs_df_row['vcrs_count'].values[0]\n",
    "        if hgvsc[-2] != \">\":\n",
    "            continue  # only do this next part for substitutions to keep things simple for now\n",
    "        \n",
    "        ref_allele = hgvsc[-3].upper()\n",
    "        alt_allele = hgvsc[-1].upper()\n",
    "        \n",
    "        if strand is None:\n",
    "            transcript_id = hgvs_df_row['transcript_ID'].values[0]\n",
    "            ensembl_url = f\"https://grch37.rest.ensembl.org/lookup/id/{transcript_id}?content-type=application/json\"\n",
    "            response = requests.get(ensembl_url)\n",
    "            response.raise_for_status()\n",
    "            strand_numeric = response.json()[\"strand\"]\n",
    "            strand = \"+\" if strand_numeric == 1 else \"-\"\n",
    "        \n",
    "        if strand == \"-\":\n",
    "            ref_allele = revcomp_dict[ref_allele]\n",
    "            alt_allele = revcomp_dict[alt_allele]\n",
    "        \n",
    "        ncbi_url = f'https://grch37.rest.ensembl.org/variation/human/{dbsnp_id}?content-type=application/json'\n",
    "        # response = requests.get(ncbi_url)\n",
    "        response = session.get(ncbi_url, headers=headers, timeout=10)\n",
    "        response.raise_for_status()  # Raises an error if the request failed\n",
    "        ncbi_output = response.json()  # This is the full output as a string\n",
    "\n",
    "        for mapping in ncbi_output['mappings']:\n",
    "            chromosome = mapping['seq_region_name']\n",
    "            position = mapping['start']\n",
    "            if chromosome not in valid_chromosomes:\n",
    "                continue\n",
    "            else:\n",
    "                break\n",
    "        if chromosome not in valid_chromosomes:\n",
    "            continue\n",
    "\n",
    "        hgvsg = f\"{chromosome}:g.{position}{ref_allele}>{alt_allele}\"\n",
    "\n",
    "        # Define your command as a list\n",
    "        command = [\n",
    "            \"samtools\", \"mpileup\",\n",
    "            \"-r\", f\"{chromosome}:{position}-{position}\",\n",
    "            variant_bam_sorted_modified\n",
    "        ]\n",
    "\n",
    "        # Run and capture the output\n",
    "        result = subprocess.run(command, capture_output=True, text=True, check=True)\n",
    "\n",
    "        # Access output\n",
    "        output = result.stdout\n",
    "        if output == '':\n",
    "            observed_alleles = ''\n",
    "        else:\n",
    "            observed_alleles = output.split(\"\\t\")[4]\n",
    "    \n",
    "        total_allele_count = len(observed_alleles)\n",
    "        base_counts = Counter(observed_alleles.upper())\n",
    "\n",
    "\n",
    "        fraction_ref = base_counts[ref_allele]/total_allele_count if total_allele_count != 0 else 0\n",
    "        fraction_alt = base_counts[alt_allele]/total_allele_count if total_allele_count != 0 else 0\n",
    "        true_variant = base_counts[alt_allele] >= 2  # ((fraction_alt > fraction_ref) and (fraction_alt > 0.3))\n",
    "        false_variant = base_counts[ref_allele] >= 2 and not true_variant\n",
    "            \n",
    "        if true_variant:  # >= 2 alt alleles\n",
    "            variant_status = \"True\"\n",
    "            true_variants.append(variant_header)\n",
    "        elif false_variant:  # >= 2 ref alleles and <2 alt alleles\n",
    "            variant_status = \"False\"\n",
    "            false_variants.append(variant_header)\n",
    "        else:  # <2 alt alleles and <2 ref alleles (ie insufficient read mapping)\n",
    "            variant_status = \"Undetermined\"\n",
    "            undetermined_variants.append(variant_header)\n",
    "\n",
    "        write_mode = \"a\" if os.path.isfile(detailed_txt_out) else \"w\"\n",
    "        with open(detailed_txt_out, write_mode) as f:\n",
    "            f.write(f\"{variant} | {dbsnp_id} | {hgvsc} | ({strand}) strand | {hgvsg} | {variant_counts} reported counts\\n\")\n",
    "            f.write(f\"True variant: {variant_status}\\n\")\n",
    "            f.write(f\"Observed alleles: {observed_alleles}\\n\")\n",
    "            f.write(f\"Sequencing depth: {total_allele_count}\\n\")\n",
    "            f.write(f\"Fraction of ref: {base_counts[ref_allele]}/{total_allele_count} = {fraction_ref:.2f}\\n\")\n",
    "            f.write(f\"Fraction of alt: {base_counts[alt_allele]}/{total_allele_count} = {fraction_alt:.2f}\\n\")\n",
    "            f.write(f\"Fraction of other (should be 0): {total_allele_count - base_counts[ref_allele] - base_counts[alt_allele]}/{total_allele_count} = {(total_allele_count - base_counts[ref_allele] - base_counts[alt_allele]) / total_allele_count if total_allele_count != 0 else 0:.2f}\\n\")\n",
    "            f.write(\"--------------------------------\\n\")\n",
    "    except requests.exceptions.HTTPError as e:\n",
    "        number_of_failed_queries += 1\n",
    "    except requests.exceptions.RequestException as e:\n",
    "        number_of_failed_queries += 1\n",
    "    except Exception as e:\n",
    "        number_of_other_errors += 1\n",
    "        # raise e  # can comment out if desired\n",
    "    time.sleep(0.34)\n",
    "\n",
    "    # break  # for debugging\n",
    "    \n",
    "with open(overall_txt_out, \"w\") as f:\n",
    "    f.write(f\"Number of true variants: {len(true_variants)}\\n\")\n",
    "    f.write(f\"Number of false variants: {len(false_variants)}\\n\")\n",
    "    f.write(f\"Number of undetermined variants: {len(undetermined_variants)}\\n\")\n",
    "    f.write(f\"True variants list: {true_variants}\\n\")\n",
    "    f.write(f\"False variants list: {false_variants}\\n\")\n",
    "    f.write(f\"Undetermined variants list: {undetermined_variants}\\n\")\n",
    "    f.write(f\"Number of failed queries: {number_of_failed_queries}\\n\")\n",
    "    f.write(f\"Number of other errors: {number_of_other_errors}\\n\")"
   ]
  },
  {
   "cell_type": "code",
   "execution_count": 14,
   "id": "2022e4d5",
   "metadata": {},
   "outputs": [
    {
     "name": "stdout",
     "output_type": "stream",
     "text": [
      "Number of true variants: 137\n",
      "Number of false variants: 0\n",
      "Number of undetermined variants: 249\n",
      "True variants list: ['ENST00000390312:c.218G>A', 'ENST00000496168:c.382G>A', 'ENST00000579721:c.142G>A', 'ENST00000603423:c.137G>A', 'ENST00000390309:c.359A>G', 'ENST00000603600:c.285G>A', 'ENST00000483158:c.199G>C', 'ENST00000390634:c.191C>T', 'ENST00000390309:c.195G>A', 'ENST00000603344:c.296T>G', 'ENST00000604930:c.373G>A', 'ENST00000390290:c.183G>A', 'ENST00000390319:c.261G>A', 'ENST00000390290:c.299G>A', 'ENST00000390319:c.197A>G', 'ENST00000496168:c.391C>T', 'ENST00000390305:c.182C>T', 'ENST00000390299:c.228G>A', 'ENST00000390299:c.269G>A', 'ENST00000390243:c.300A>G', 'ENST00000468494:c.262A>G', 'ENST00000483379:c.462C>T', 'ENST00000496168:c.405G>A', 'ENST00000603600:c.205C>A', 'ENST00000604045:c.277C>T', 'ENST00000390237:c.249G>C', 'ENST00000390237:c.132A>G', 'ENST00000390319:c.99G>C', 'ENST00000390237:c.67C>T', 'ENST00000390282:c.273C>T', 'ENST00000390299:c.265A>T', 'ENST00000604405:c.283C>A', 'ENST00000390294:c.230G>A', 'ENST00000390299:c.153G>A', 'ENST00000390243:c.330G>A', 'ENST00000390319:c.222A>G', 'ENST00000483158:c.200C>T', 'ENST00000390634:c.373G>A', 'ENST00000493819:c.235G>A', 'ENST00000390319:c.118G>A', 'ENST00000390312:c.365C>T', 'ENST00000390282:c.177G>A', 'ENST00000603210:c.277G>A', 'ENST00000390309:c.205G>A', 'ENST00000496168:c.300G>C', 'ENST00000496168:c.339G>C', 'ENST00000390309:c.183G>A', 'ENST00000390297:c.199G>A', 'ENST00000390319:c.304C>T', 'ENST00000390319:c.185A>G', 'ENST00000390299:c.229C>T', 'ENST00000339647:c.1638T>C', 'ENST00000390237:c.19C>G', 'ENST00000604787:c.373A>G', 'ENST00000390315:c.271G>A', 'ENST00000390319:c.347A>C', 'ENST00000361390:c.390C>T', 'ENST00000390634:c.295T>C', 'ENST00000390243:c.354C>T', 'ENST00000390299:c.204T>C', 'ENST00000390321:c.143C>T', 'ENST00000390309:c.227G>A', 'ENST00000390290:c.360C>T', 'ENST00000390243:c.388G>A', 'ENST00000344063:c.865G>C', 'ENST00000579721:c.453C>A', 'ENST00000390319:c.119C>G', 'ENST00000390309:c.95G>A', 'ENST00000483158:c.202A>C', 'ENST00000225655:c.737G>T', 'ENST00000336452:c.525T>C', 'ENST00000604973:c.200C>T', 'ENST00000605716:c.288C>A', 'ENST00000390290:c.195A>G', 'ENST00000390308:c.566C>T', 'ENST00000603210:c.199G>T', 'ENST00000302182:c.575C>T', 'ENST00000603210:c.343T>C', 'ENST00000604045:c.227C>A', 'ENST00000374550:c.71A>G', 'ENST00000604930:c.355C>A', 'ENST00000327892:c.957G>A', 'ENST00000390295:c.262C>G', 'ENST00000390282:c.129G>A', 'ENST00000390316:c.324G>A', 'ENST00000353801:c.1733C>T', 'ENST00000390309:c.355C>T', 'ENST00000390312:c.295G>T', 'ENST00000524315:c.446A>G', 'ENST00000390309:c.158A>G', 'ENST00000390309:c.166A>G', 'ENST00000288439:c.2648A>T', 'ENST00000393183:c.492C>T', 'ENST00000390319:c.204C>T', 'ENST00000390319:c.224C>G', 'ENST00000390319:c.361C>T', 'ENST00000603423:c.266G>T', 'ENST00000608019:c.319G>C', 'ENST00000331825:c.255C>T', 'ENST00000196551:c.348C>A', 'ENST00000427632:c.277T>C', 'ENST00000390297:c.268A>G', 'ENST00000390297:c.276C>T', 'ENST00000603210:c.368C>T', 'ENST00000604930:c.397A>G', 'ENST00000229239:c.1464G>A', 'ENST00000479981:c.183C>T', 'ENST00000338970:c.137A>G', 'ENST00000331789:c.1233C>T', 'ENST00000418115:c.934T>C', 'ENST00000374550:c.269G>A', 'ENST00000390295:c.253C>T', 'ENST00000343139:c.351G>A', 'ENST00000390299:c.185G>C', 'ENST00000353801:c.2063T>C', 'ENST00000353801:c.1652G>A', 'ENST00000353801:c.709G>A', 'ENST00000258080:c.1497A>G', 'ENST00000496168:c.328G>A', 'ENST00000390315:c.184A>G', 'ENST00000366528:c.475G>A', 'ENST00000390243:c.376A>C', 'ENST00000347559:c.952C>T', 'ENST00000296503:c.1211A>G', 'ENST00000278572:c.567C>T', 'ENST00000605716:c.210G>T', 'ENST00000605716:c.200A>G', 'ENST00000306072:c.668G>A', 'ENST00000394275:c.3177C>T', 'ENST00000604045:c.177C>T', 'ENST00000604930:c.231A>G', 'ENST00000603600:c.220C>A', 'ENST00000603210:c.209C>A', 'ENST00000359376:c.3628A>G', 'ENST00000604973:c.172A>C', 'ENST00000309311:c.1868C>T', 'ENST00000360830:c.187T>C']\n",
      "False variants list: []\n",
      "Undetermined variants list: ['ENST00000468879:c.292A>T', 'ENST00000604412:c.415T>A', 'ENST00000453673:c.105G>A', 'ENST00000605716:c.222G>T', 'ENST00000483158:c.195A>G', 'ENST00000354689:c.83C>T', 'ENST00000495489:c.196G>A', 'ENST00000498435:c.331G>A', 'ENST00000390305:c.298A>T', 'ENST00000604787:c.241G>T', 'ENST00000244519:c.1286C>T', 'ENST00000605760:c.29T>C', 'ENST00000479981:c.138A>G', 'ENST00000390270:c.213C>G', 'ENST00000496168:c.306C>G', 'ENST00000603632:c.1015A>C', 'ENST00000376802:c.576T>G', 'ENST00000331789:c.1209G>C', 'ENST00000390299:c.305G>C', 'ENST00000229239:c.1102A>G', 'ENST00000468879:c.284G>A', 'ENST00000229239:c.1185A>T', 'ENST00000603210:c.288A>C', 'ENST00000603210:c.188T>G', 'ENST00000225655:c.745A>G', 'ENST00000260379:c.299G>C', 'ENST00000260379:c.266C>T', 'ENST00000579721:c.672C>T', 'ENST00000256593:c.292C>G', 'ENST00000390312:c.275G>T', 'ENST00000321358:c.768A>C', 'ENST00000604930:c.149G>C', 'ENST00000307961:c.1155A>G', 'ENST00000603111:c.33G>T', 'ENST00000579721:c.605C>T', 'ENST00000390319:c.385C>T', 'ENST00000356487:c.730A>G', 'ENST00000311528:c.330G>A', 'ENST00000344063:c.899C>T', 'ENST00000390277:c.325T>C', 'ENST00000339647:c.1158C>T', 'ENST00000603600:c.183A>C', 'ENST00000339647:c.2562C>T', 'ENST00000360830:c.196A>G', 'ENST00000603423:c.170T>G', 'ENST00000393183:c.408T>C', 'ENST00000321153:c.553C>T', 'ENST00000338110:c.1396T>A', 'ENST00000338110:c.1336A>G', 'ENST00000339647:c.1329A>G', 'ENST00000605681:c.371T>G', 'ENST00000229239:c.726G>A', 'ENST00000355731:c.36G>A', 'ENST00000390319:c.154A>C', 'ENST00000344063:c.729G>A', 'ENST00000479981:c.242C>T', 'ENST00000339436:c.326A>G', 'ENST00000344063:c.812G>A', 'ENST00000272317:c.493T>C', 'ENST00000390312:c.310A>G', 'ENST00000391857:c.217C>T', 'ENST00000390277:c.138G>A', 'ENST00000321358:c.481T>C', 'ENST00000390331:c.77G>A', 'ENST00000593437:c.451G>C', 'ENST00000390277:c.280C>T', 'ENST00000222247:c.477C>T', 'ENST00000222247:c.357C>T', 'ENST00000563769:c.953G>A', 'ENST00000390312:c.359T>C', 'ENST00000604930:c.138A>C', 'ENST00000390321:c.62C>T', 'ENST00000390331:c.99T>A', 'ENST00000390309:c.365C>T', 'ENST00000390297:c.412T>G', 'ENST00000603423:c.344C>T', 'ENST00000331825:c.358T>C', 'ENST00000331825:c.517G>C', 'ENST00000391857:c.136G>A', 'ENST00000391857:c.211C>G', 'ENST00000573353:c.643C>T', 'ENST00000344063:c.859A>G', 'ENST00000344063:c.920C>A', 'ENST00000253024:c.2471A>C', 'ENST00000390298:c.256C>T', 'ENST00000390309:c.231T>G', 'ENST00000379389:c.370G>T', 'ENST00000216254:c.214A>C', 'ENST00000330752:c.564T>G', 'ENST00000390243:c.506G>C', 'ENST00000390243:c.533A>T', 'ENST00000326294:c.831G>A', 'ENST00000468879:c.288C>T', 'ENST00000227157:c.654T>C', 'ENST00000295685:c.644A>G', 'ENST00000579721:c.180C>T', 'ENST00000579721:c.423C>T', 'ENST00000343139:c.339T>A', 'ENST00000343139:c.431A>C', 'ENST00000230050:c.472T>C', 'ENST00000301072:c.605T>C', 'ENST00000603111:c.46T>C', 'ENST00000374550:c.336C>G', 'ENST00000339647:c.1713C>T', 'ENST00000332598:c.405T>C', 'ENST00000376630:c.761G>A', 'ENST00000343139:c.271C>G', 'ENST00000374982:c.649C>T', 'ENST00000261366:c.1933C>T', 'ENST00000412585:c.267G>A', 'ENST00000412585:c.288A>G', 'ENST00000579721:c.666G>A', 'ENST00000343677:c.237C>T', 'ENST00000354546:c.1236G>A', 'ENST00000374213:c.208C>T', 'ENST00000390299:c.143G>A', 'ENST00000452596:c.642A>C', 'ENST00000579721:c.414G>C', 'ENST00000234313:c.523G>C', 'ENST00000390299:c.280T>G', 'ENST00000339656:c.1676G>T', 'ENST00000330029:c.169A>G', 'ENST00000374550:c.198C>T', 'ENST00000230050:c.281C>T', 'ENST00000353801:c.2216G>A', 'ENST00000353801:c.2141C>G', 'ENST00000353801:c.2140C>T', 'ENST00000307658:c.1972A>G', 'ENST00000196551:c.315C>A', 'ENST00000418724:c.2002T>G', 'ENST00000196551:c.349G>A', 'ENST00000253024:c.2722G>C', 'ENST00000343986:c.198T>C', 'ENST00000353801:c.968A>G', 'ENST00000335895:c.468T>C', 'ENST00000280326:c.860A>G', 'ENST00000390299:c.317G>T', 'ENST00000483379:c.398G>T', 'ENST00000390312:c.292C>G', 'ENST00000483379:c.318G>A', 'ENST00000390270:c.102A>G', 'ENST00000390319:c.277G>T', 'ENST00000496168:c.477G>A', 'ENST00000390316:c.255G>A', 'ENST00000368003:c.410G>A', 'ENST00000304921:c.404A>G', 'ENST00000390243:c.359T>G', 'ENST00000272317:c.538A>C', 'ENST00000233143:c.184G>A', 'ENST00000390312:c.175G>C', 'ENST00000390311:c.219T>G', 'ENST00000295920:c.622G>C', 'ENST00000390301:c.299T>C', 'ENST00000274065:c.542T>C', 'ENST00000394665:c.297G>T', 'ENST00000264221:c.639T>G', 'ENST00000390309:c.153G>C', 'ENST00000398071:c.2338G>A', 'ENST00000570496:c.346G>C', 'ENST00000357485:c.1784C>T', 'ENST00000262746:c.564G>A', 'ENST00000369744:c.265C>T', 'ENST00000392132:c.2306T>C', 'ENST00000311521:c.366G>A', 'ENST00000607609:c.636A>G', 'ENST00000453673:c.11G>A', 'ENST00000264258:c.649C>T', 'ENST00000340250:c.1329C>T', 'ENST00000391857:c.406G>A', 'ENST00000322088:c.317C>T', 'ENST00000261889:c.1459C>T', 'ENST00000322776:c.930T>C', 'ENST00000398603:c.377T>C', 'ENST00000322535:c.2452A>G', 'ENST00000558565:c.73G>A', 'ENST00000300289:c.556A>G', 'ENST00000331200:c.607C>T', 'ENST00000279259:c.107C>T', 'ENST00000229239:c.1383C>T', 'ENST00000260379:c.186C>T', 'ENST00000227157:c.683G>C', 'ENST00000301740:c.1732T>C', 'ENST00000395248:c.1142A>T', 'ENST00000338110:c.1114C>T', 'ENST00000227157:c.514G>T', 'ENST00000309828:c.727T>G', 'ENST00000229239:c.818C>A', 'ENST00000603210:c.131G>A', 'ENST00000352066:c.795A>C', 'ENST00000603111:c.38C>A', 'ENST00000604930:c.145G>T', 'ENST00000603632:c.978A>C', 'ENST00000603619:c.354G>A', 'ENST00000216455:c.288A>G', 'ENST00000285848:c.1043C>G', 'ENST00000381140:c.1049C>A', 'ENST00000229379:c.263C>A', 'ENST00000266594:c.138A>C', 'ENST00000202773:c.688T>A', 'ENST00000603423:c.208G>T', 'ENST00000299767:c.622T>C', 'ENST00000603423:c.158A>C', 'ENST00000188376:c.790T>C', 'ENST00000299300:c.655G>A', 'ENST00000293373:c.2921A>C', 'ENST00000243112:c.356T>C', 'ENST00000338110:c.1748C>A', 'ENST00000263645:c.709C>T', 'ENST00000562905:c.291G>A', 'ENST00000270225:c.296C>T', 'ENST00000309311:c.1226C>T', 'ENST00000222247:c.318G>A', 'ENST00000348462:c.343C>T', 'ENST00000262584:c.525A>G', 'ENST00000594527:c.277T>C', 'ENST00000262584:c.762A>T', 'ENST00000342879:c.912G>A', 'ENST00000608106:c.494A>C', 'ENST00000262584:c.788G>A', 'ENST00000262584:c.839G>A', 'ENST00000325222:c.1997G>A', 'ENST00000292644:c.1054T>C', 'ENST00000303210:c.1388C>T', 'ENST00000303887:c.2785G>C', 'ENST00000307569:c.785T>C', 'ENST00000223324:c.288G>A', 'ENST00000391857:c.367C>T', 'ENST00000391857:c.438C>T', 'ENST00000324262:c.576C>T', 'ENST00000348462:c.325C>T', 'ENST00000253452:c.124T>C', 'ENST00000321153:c.478C>G', 'ENST00000304984:c.3366G>A', 'ENST00000321153:c.416C>T', 'ENST00000319006:c.1115A>G', 'ENST00000370007:c.1392T>C', 'ENST00000293831:c.490C>A', 'ENST00000293831:c.1054C>T', 'ENST00000302182:c.449C>T', 'ENST00000334828:c.895G>A', 'ENST00000307365:c.801C>T', 'ENST00000225430:c.252C>A', 'ENST00000253788:c.350C>A', 'ENST00000298649:c.1098T>C', 'ENST00000374518:c.2777A>T', 'ENST00000521764:c.51C>G', 'ENST00000311111:c.170C>T', 'ENST00000311111:c.317C>T', 'ENST00000604930:c.349C>T']\n",
      "Number of failed queries: 0\n",
      "Number of other errors: 0\n"
     ]
    }
   ],
   "source": [
    "!cat {overall_txt_out}"
   ]
  },
  {
   "cell_type": "code",
   "execution_count": 66,
   "id": "65914102",
   "metadata": {},
   "outputs": [],
   "source": [
    "# !cat {detailed_txt_out}"
   ]
  },
  {
   "cell_type": "code",
   "execution_count": 15,
   "id": "c2082507",
   "metadata": {},
   "outputs": [
    {
     "name": "stdout",
     "output_type": "stream",
     "text": [
      "Overall file:  /home/jmrich/Desktop/RLSRWP_2025/data/geuvadis_data_base/E_GEUV_1_HG00377_1_M_120209_6/vk_count_out_w37_k41_combined_final/overall_out_NOT_modified_bam.txt\n",
      "Detailed file:  /home/jmrich/Desktop/RLSRWP_2025/data/geuvadis_data_base/E_GEUV_1_HG00377_1_M_120209_6/vk_count_out_w37_k41_combined_final/detailed_out_NOT_modified_bam.txt\n"
     ]
    }
   ],
   "source": [
    "print(\"Overall file: \", overall_txt_out)\n",
    "print(\"Detailed file: \", detailed_txt_out)"
   ]
  },
  {
   "cell_type": "code",
   "execution_count": null,
   "id": "3e31af28",
   "metadata": {},
   "outputs": [
    {
     "data": {
      "image/png": "[encoded data removed]",
      "text/plain": [
       "<Figure size 640x480 with 1 Axes>"
      ]
     },
     "metadata": {},
     "output_type": "display_data"
    }
   ],
   "source": [
    "def plot_overall_bar_plot(overall_results, out_file=None):\n",
    "    # Unpack keys and values\n",
    "    labels = list(overall_results.keys())\n",
    "    values = list(overall_results.values())\n",
    "\n",
    "    # Create bar plot\n",
    "    plt.bar(labels, values)\n",
    "    plt.ylabel('Number of Variants')\n",
    "    plt.tight_layout()\n",
    "    if out_file:\n",
    "        plt.savefig(out_file, dpi=300)\n",
    "    plt.show()\n",
    "    plt.close()\n",
    "\n",
    "overall_results = {\n",
    "    \"Variant detected in reads (TP)\": len(true_variants),\n",
    "    \"Variant not detected in reads (FP)\": len(false_variants),\n",
    "    \"Insufficient read alignment to variant position (FP?)\": len(undetermined_variants),\n",
    "}\n",
    "\n",
    "plot_overall_bar_plot(overall_results, out_file=overall_txt_out.replace(\".txt\", \".pdf\"))"
   ]
  },
  {
   "cell_type": "code",
   "execution_count": null,
   "id": "9d07a595",
   "metadata": {},
   "outputs": [],
   "source": [
    "hgvs_df['true_variant'] = hgvs_df['header_cdna'].isin(set(true_variants))\n",
    "hgvs_df.loc[hgvs_df['vcrs_id'].isna(), 'true_variant'] = pd.NA  # set the rows I didn't evaluate to NA"
   ]
  },
  {
   "cell_type": "code",
   "execution_count": null,
   "id": "719b7318",
   "metadata": {},
   "outputs": [
    {
     "data": {
      "image/png": "[encoded data removed]",
      "text/plain": [
       "<Figure size 2800x600 with 1 Axes>"
      ]
     },
     "metadata": {},
     "output_type": "display_data"
    }
   ],
   "source": [
    "plt.figure(figsize=(28, 6))\n",
    "\n",
    "# Sort by vcrs_count\n",
    "# hgvs_df = hgvs_df.sort_values('vcrs_count', ascending=False)\n",
    "\n",
    "sns.stripplot(\n",
    "    data=hgvs_df,\n",
    "    x='header_cdna',\n",
    "    y='vcrs_count',\n",
    "    hue='true_variant',\n",
    "    dodge=False,\n",
    "    palette={True: \"blue\", False: \"orange\"},\n",
    "    size=4,\n",
    "    jitter=0.4  # spread points slightly to reduce overlap\n",
    ")\n",
    "\n",
    "plt.xticks([], [])  # Hide x-axis ticks entirely\n",
    "plt.xlabel('Variants (ordered)')\n",
    "plt.ylabel('VCRS Counts')\n",
    "plt.title('Variant Counts (True=Blue, False=Orange)')\n",
    "plt.legend(title='True Variant', loc='upper right')\n",
    "plt.tight_layout()\n",
    "\n",
    "plt.savefig(os.path.join(notebook_out_dir, \"alleged_FPs_vcrs_count_sorted.pdf\"), dpi=300)\n",
    "plt.show()\n",
    "plt.close"
   ]
  },
  {
   "cell_type": "markdown",
   "id": "1cb02e32",
   "metadata": {},
   "source": [
    "### Load the files in bowtie_read_alignments into NCBI Genome workbench (or another genome viewer) to visualize the alignments (the ones with \"final_\")"
   ]
  },
  {
   "cell_type": "code",
   "execution_count": 70,
   "id": "a5478692",
   "metadata": {},
   "outputs": [],
   "source": [
    "# # vcrs0: ENST00000496168:c.382G>A: rs11546099 NC_000002.11:g.89246969C>T chrom2\n",
    "# !samtools mpileup -r 2:89246969-89246969 /data/geuvadis_data_base/E_GEUV_1_HG00377_1_M_120209_6/vk_count_out_w37_k41/bowtie_read_alignments/vcrs_0/final_vcrs_0_sorted_reads.bam"
   ]
  },
  {
   "cell_type": "code",
   "execution_count": 71,
   "id": "c3874c8f",
   "metadata": {},
   "outputs": [],
   "source": [
    "# # vcrs1: ENST00000336023:c.614A>G: rs1057725 NC_000012.11:g.49522578T>C chrom12\n",
    "# !samtools mpileup -r 12:49522578-49522578 /data/geuvadis_data_base/E_GEUV_1_HG00377_1_M_120209_6/vk_count_out_w37_k41/bowtie_read_alignments/vcrs_1/final_vcrs_1_sorted_reads.bam"
   ]
  },
  {
   "cell_type": "code",
   "execution_count": 72,
   "id": "28878db4",
   "metadata": {},
   "outputs": [],
   "source": [
    "# # vcrs3: ENST00000390312:c.218G>A: rs3737543 NC_000022.11:g.22759034G>A chrom22\n",
    "# !samtools mpileup -r 22:23101523-23101523 /data/geuvadis_data_base/E_GEUV_1_HG00377_1_M_120209_6/vk_count_out_w37_k41/bowtie_read_alignments/vcrs_3/final_vcrs_3_sorted_reads.bam"
   ]
  },
  {
   "cell_type": "code",
   "execution_count": 73,
   "id": "55e621f8",
   "metadata": {},
   "outputs": [],
   "source": [
    "# # vcrs4: ENST00000579721:c.870G>C: rs114818671 NC_000006.12:g.29912149G>C chrom6\n",
    "# !samtools mpileup -r 6:29912149-29912149 /data/geuvadis_data_base/E_GEUV_1_HG00377_1_M_120209_6/vk_count_out_w37_k41/bowtie_read_alignments/vcrs_4/final_vcrs_4_sorted_reads.bam"
   ]
  },
  {
   "cell_type": "markdown",
   "id": "1d194c06",
   "metadata": {},
   "source": [
    "## Now look at FNs - roughly the same"
   ]
  },
  {
   "cell_type": "code",
   "execution_count": null,
   "id": "05d53e42",
   "metadata": {},
   "outputs": [],
   "source": [
    "fn_txt_path = os.path.join(RLSRWP_2025_dir, \"data\", \"geuvadis_analysis_with_genome_correction\", \"fns.txt\")\n",
    "number_of_variants = None\n",
    "\n",
    "detailed_txt_out_fn = os.path.join(notebook_out_dir, \"detailed_out_fn_modified_bam.txt\")\n",
    "overall_txt_out_fn = os.path.join(notebook_out_dir, \"overall_out_fn_modified_bam.txt\")"
   ]
  },
  {
   "cell_type": "code",
   "execution_count": 18,
   "id": "c9675d93",
   "metadata": {},
   "outputs": [],
   "source": [
    "with open(fn_txt_path) as f:\n",
    "    fn_set = set(line.strip() for line in f)"
   ]
  },
  {
   "cell_type": "code",
   "execution_count": 19,
   "id": "6e52e86e",
   "metadata": {},
   "outputs": [],
   "source": [
    "hgvs_df = pd.read_parquet(hgvs_df_path, columns=[\"dbsnp_id\", \"transcript_ID\", \"variant_cdna\", \"strand\"])\n",
    "hgvs_df[\"header_cdna\"] = hgvs_df[\"transcript_ID\"] + \":\" + hgvs_df[\"variant_cdna\"]\n",
    "\n",
    "hgvs_df[\"is_false_negative\"] = hgvs_df[\"header_cdna\"].isin(fn_set)\n",
    "hgvs_df = hgvs_df.loc[hgvs_df['is_false_negative']]\n",
    "hgvs_df = hgvs_df.reset_index(drop=True)\n",
    "hgvs_df['vcrs_id'] = 'vcrs_' + hgvs_df.index.astype(str)\n",
    "\n",
    "hgvsc_to_vcrs_id_dict = dict(zip(hgvs_df['header_cdna'], hgvs_df['vcrs_id']))\n",
    "id_to_vcrs_header = {v: k for k, v in hgvsc_to_vcrs_id_dict.items()}"
   ]
  },
  {
   "cell_type": "code",
   "execution_count": 20,
   "id": "70b16297",
   "metadata": {},
   "outputs": [
    {
     "data": {
      "application/vnd.microsoft.datawrangler.viewer.v0+json": {
       "columns": [
        {
         "name": "index",
         "rawType": "int64",
         "type": "integer"
        },
        {
         "name": "dbsnp_id",
         "rawType": "object",
         "type": "string"
        },
        {
         "name": "transcript_ID",
         "rawType": "object",
         "type": "string"
        },
        {
         "name": "variant_cdna",
         "rawType": "object",
         "type": "string"
        },
        {
         "name": "strand",
         "rawType": "object",
         "type": "string"
        },
        {
         "name": "header_cdna",
         "rawType": "object",
         "type": "string"
        },
        {
         "name": "is_false_negative",
         "rawType": "bool",
         "type": "boolean"
        },
        {
         "name": "vcrs_id",
         "rawType": "object",
         "type": "string"
        }
       ],
       "conversionMethod": "pd.DataFrame",
       "ref": "b4600dc2-9c99-4eca-985d-087c752743da",
       "rows": [
        [
         "0",
         "rs4970441",
         "ENST00000338591",
         "c.716G>C",
         "+",
         "ENST00000338591:c.716G>C",
         "True",
         "vcrs_0"
        ],
        [
         "1",
         "rs28507236",
         "ENST00000379407",
         "c.528A>C",
         "+",
         "ENST00000379407:c.528A>C",
         "True",
         "vcrs_1"
        ],
        [
         "2",
         "rs3829740",
         "ENST00000379407",
         "c.1385G>C",
         "+",
         "ENST00000379407:c.1385G>C",
         "True",
         "vcrs_2"
        ],
        [
         "3",
         "rs3829739",
         "ENST00000379407",
         "c.1389A>G",
         "+",
         "ENST00000379407:c.1389A>G",
         "True",
         "vcrs_3"
        ],
        [
         "4",
         "rs8997",
         "ENST00000379389",
         "c.445A>G",
         "+",
         "ENST00000379389:c.445A>G",
         "True",
         "vcrs_4"
        ]
       ],
       "shape": {
        "columns": 7,
        "rows": 5
       }
      },
      "text/html": [
       "<div>\n",
       "<style scoped>\n",
       "    .dataframe tbody tr th:only-of-type {\n",
       "        vertical-align: middle;\n",
       "    }\n",
       "\n",
       "    .dataframe tbody tr th {\n",
       "        vertical-align: top;\n",
       "    }\n",
       "\n",
       "    .dataframe thead th {\n",
       "        text-align: right;\n",
       "    }\n",
       "</style>\n",
       "<table border=\"1\" class=\"dataframe\">\n",
       "  <thead>\n",
       "    <tr style=\"text-align: right;\">\n",
       "      <th></th>\n",
       "      <th>dbsnp_id</th>\n",
       "      <th>transcript_ID</th>\n",
       "      <th>variant_cdna</th>\n",
       "      <th>strand</th>\n",
       "      <th>header_cdna</th>\n",
       "      <th>is_false_negative</th>\n",
       "      <th>vcrs_id</th>\n",
       "    </tr>\n",
       "  </thead>\n",
       "  <tbody>\n",
       "    <tr>\n",
       "      <th>0</th>\n",
       "      <td>rs4970441</td>\n",
       "      <td>ENST00000338591</td>\n",
       "      <td>c.716G&gt;C</td>\n",
       "      <td>+</td>\n",
       "      <td>ENST00000338591:c.716G&gt;C</td>\n",
       "      <td>True</td>\n",
       "      <td>vcrs_0</td>\n",
       "    </tr>\n",
       "    <tr>\n",
       "      <th>1</th>\n",
       "      <td>rs28507236</td>\n",
       "      <td>ENST00000379407</td>\n",
       "      <td>c.528A&gt;C</td>\n",
       "      <td>+</td>\n",
       "      <td>ENST00000379407:c.528A&gt;C</td>\n",
       "      <td>True</td>\n",
       "      <td>vcrs_1</td>\n",
       "    </tr>\n",
       "    <tr>\n",
       "      <th>2</th>\n",
       "      <td>rs3829740</td>\n",
       "      <td>ENST00000379407</td>\n",
       "      <td>c.1385G&gt;C</td>\n",
       "      <td>+</td>\n",
       "      <td>ENST00000379407:c.1385G&gt;C</td>\n",
       "      <td>True</td>\n",
       "      <td>vcrs_2</td>\n",
       "    </tr>\n",
       "    <tr>\n",
       "      <th>3</th>\n",
       "      <td>rs3829739</td>\n",
       "      <td>ENST00000379407</td>\n",
       "      <td>c.1389A&gt;G</td>\n",
       "      <td>+</td>\n",
       "      <td>ENST00000379407:c.1389A&gt;G</td>\n",
       "      <td>True</td>\n",
       "      <td>vcrs_3</td>\n",
       "    </tr>\n",
       "    <tr>\n",
       "      <th>4</th>\n",
       "      <td>rs8997</td>\n",
       "      <td>ENST00000379389</td>\n",
       "      <td>c.445A&gt;G</td>\n",
       "      <td>+</td>\n",
       "      <td>ENST00000379389:c.445A&gt;G</td>\n",
       "      <td>True</td>\n",
       "      <td>vcrs_4</td>\n",
       "    </tr>\n",
       "  </tbody>\n",
       "</table>\n",
       "</div>"
      ],
      "text/plain": [
       "     dbsnp_id    transcript_ID variant_cdna strand                header_cdna  \\\n",
       "0   rs4970441  ENST00000338591     c.716G>C      +   ENST00000338591:c.716G>C   \n",
       "1  rs28507236  ENST00000379407     c.528A>C      +   ENST00000379407:c.528A>C   \n",
       "2   rs3829740  ENST00000379407    c.1385G>C      +  ENST00000379407:c.1385G>C   \n",
       "3   rs3829739  ENST00000379407    c.1389A>G      +  ENST00000379407:c.1389A>G   \n",
       "4      rs8997  ENST00000379389     c.445A>G      +   ENST00000379389:c.445A>G   \n",
       "\n",
       "   is_false_negative vcrs_id  \n",
       "0               True  vcrs_0  \n",
       "1               True  vcrs_1  \n",
       "2               True  vcrs_2  \n",
       "3               True  vcrs_3  \n",
       "4               True  vcrs_4  "
      ]
     },
     "execution_count": 20,
     "metadata": {},
     "output_type": "execute_result"
    }
   ],
   "source": [
    "hgvs_df.head()"
   ]
  },
  {
   "cell_type": "code",
   "execution_count": null,
   "id": "5f242007",
   "metadata": {},
   "outputs": [],
   "source": [
    "revcomp_dict = {\"A\": \"T\", \"T\": \"A\", \"C\": \"G\", \"G\": \"C\", \"N\": \"N\"}\n",
    "valid_chromosomes = set([str(i) for i in range(1, 23)] + [\"X\", \"Y\", \"MT\"])\n",
    "\n",
    "retry_strategy = Retry(\n",
    "    total=5,\n",
    "    backoff_factor=1,  # Wait 1s, then 2s, then 4s, etc.\n",
    "    status_forcelist=[429, 500, 502, 503, 504],  # Retry on these status codes\n",
    "    allowed_methods=[\"GET\"]\n",
    ")\n",
    "adapter = HTTPAdapter(max_retries=retry_strategy)\n",
    "session = requests.Session()\n",
    "session.mount(\"https://\", adapter)\n",
    "session.mount(\"http://\", adapter)\n",
    "headers = {\"User-Agent\": email if email else \"Mozilla/5.0 (compatible; PythonScript/1.0)\"}\n",
    "\n",
    "true_variants = []  # varseek FN where varseek was incorrect\n",
    "false_variants = []  # varseek FN where varseek was correct\n",
    "undetermined_variants = []  # insufficient reads mapped to this point\n",
    "number_of_failed_queries = 0\n",
    "number_of_other_errors = 0\n",
    "\n",
    "open(detailed_txt_out_fn, 'w').close()  # starts the file from scratch\n",
    "\n",
    "# Align reads to human ref using bowtie2\n",
    "variant_sam = os.path.join(notebook_out_dir, \"total_reads.sam\")\n",
    "if not os.path.isfile(variant_sam):\n",
    "    print(f\"{datetime.now().strftime('%H:%M:%S')}: Aligning to genome\")\n",
    "    subprocess.run(f\"{bowtie2} --very-sensitive -k 5 -x {bowtie_reference_prefix} --quiet -p {threads} -q {fastq_file} -S {variant_sam}\", shell=True, check=True)\n",
    "\n",
    "# Convert sam to bam\n",
    "variant_bam = os.path.join(notebook_out_dir, \"total_reads.bam\")\n",
    "if not os.path.isfile(variant_bam):\n",
    "    print(f\"{datetime.now().strftime('%H:%M:%S')}: SAM --> BAM\")\n",
    "    subprocess.run(f\"{samtools} view -bS -F4 {variant_sam} > {variant_bam}\", shell=True, check=True)\n",
    "\n",
    "# Sort bam file\n",
    "variant_bam_sorted_prefix = \"final_total_sorted_reads\"\n",
    "variant_bam_sorted = os.path.join(notebook_out_dir, variant_bam_sorted_prefix + \".bam\")\n",
    "if not os.path.isfile(variant_bam_sorted):\n",
    "    print(f\"{datetime.now().strftime('%H:%M:%S')}: BAM sort\")\n",
    "    subprocess.run(f\"{samtools} sort -o {variant_bam_sorted} {variant_bam}\", shell=True, check=True)\n",
    "\n",
    "# make all alignments primary\n",
    "if modify_bam:\n",
    "    variant_bam_sorted_modified = os.path.join(notebook_out_dir, variant_bam_sorted_prefix + \"_modified.bam\")\n",
    "    if not os.path.isfile(variant_bam_sorted_modified):\n",
    "        print(f\"{datetime.now().strftime('%H:%M:%S')}: Remove 256's\")\n",
    "        make_all_alignments_primary(variant_bam_sorted, variant_bam_sorted_modified)\n",
    "else:\n",
    "    variant_bam_sorted_modified = variant_bam_sorted\n",
    "    \n",
    "# Create an index for the sorted bam file (creates a .bai file)\n",
    "bam_index_file = os.path.join(notebook_out_dir, variant_bam_sorted_modified + \".bai\")\n",
    "if not os.path.isfile(bam_index_file):\n",
    "    print(f\"{datetime.now().strftime('%H:%M:%S')}: BAM index\")\n",
    "    subprocess.run(f\"{samtools} index {variant_bam_sorted_modified} -o {bam_index_file}\", shell=True, check=True)\n",
    "\n",
    "print(f\"{datetime.now().strftime('%H:%M:%S')}: Entering the loop\")\n",
    "for _, row in tqdm(hgvs_df.iterrows(), total=len(hgvs_df)):\n",
    "    variant = row['vcrs_id']\n",
    "    if variant not in id_to_vcrs_header:\n",
    "        continue\n",
    "    variant_header = id_to_vcrs_header[variant]\n",
    "    # print(f\"{variant} ({variant_header})\\n\")\n",
    "\n",
    "    #* new stuff\n",
    "    try:\n",
    "        dbsnp_id = row['dbsnp_id']\n",
    "        hgvsc = row['header_cdna']\n",
    "        strand = row['strand']\n",
    "        if hgvsc[-2] != \">\":\n",
    "            continue  # only do this next part for substitutions to keep things simple for now\n",
    "        \n",
    "        ref_allele = hgvsc[-3].upper()\n",
    "        alt_allele = hgvsc[-1].upper()\n",
    "        \n",
    "        if strand is None:\n",
    "            transcript_id = row['transcript_ID']\n",
    "            ensembl_url = f\"https://grch37.rest.ensembl.org/lookup/id/{transcript_id}?content-type=application/json\"\n",
    "            response = requests.get(ensembl_url)\n",
    "            response.raise_for_status()\n",
    "            strand_numeric = response.json()[\"strand\"]\n",
    "            strand = \"+\" if strand_numeric == 1 else \"-\"\n",
    "        \n",
    "        if strand == \"-\":\n",
    "            ref_allele = revcomp_dict[ref_allele]\n",
    "            alt_allele = revcomp_dict[alt_allele]\n",
    "        \n",
    "        ncbi_url = f'https://grch37.rest.ensembl.org/variation/human/{dbsnp_id}?content-type=application/json'\n",
    "        # response = requests.get(ncbi_url)\n",
    "        response = session.get(ncbi_url, headers=headers, timeout=10)\n",
    "        response.raise_for_status()  # Raises an error if the request failed\n",
    "        ncbi_output = response.json()  # This is the full output as a string\n",
    "\n",
    "        for mapping in ncbi_output['mappings']:\n",
    "            chromosome = mapping['seq_region_name']\n",
    "            position = mapping['start']\n",
    "            if chromosome not in valid_chromosomes:\n",
    "                continue\n",
    "            else:\n",
    "                break\n",
    "        if chromosome not in valid_chromosomes:\n",
    "            continue\n",
    "\n",
    "        hgvsg = f\"{chromosome}:g.{position}{ref_allele}>{alt_allele}\"\n",
    "\n",
    "        # Define your command as a list\n",
    "        command = [\n",
    "            \"samtools\", \"mpileup\",\n",
    "            \"-r\", f\"{chromosome}:{position}-{position}\",\n",
    "            variant_bam_sorted_modified\n",
    "        ]\n",
    "\n",
    "        # Run and capture the output\n",
    "        result = subprocess.run(command, capture_output=True, text=True, check=True)\n",
    "\n",
    "        # Access output\n",
    "        output = result.stdout\n",
    "        if output == '':\n",
    "            observed_alleles = ''\n",
    "        else:\n",
    "            observed_alleles = output.split(\"\\t\")[4]\n",
    "    \n",
    "        total_allele_count = len(observed_alleles)\n",
    "        base_counts = Counter(observed_alleles.upper())\n",
    "\n",
    "\n",
    "        fraction_ref = base_counts[ref_allele]/total_allele_count if total_allele_count != 0 else 0\n",
    "        fraction_alt = base_counts[alt_allele]/total_allele_count if total_allele_count != 0 else 0\n",
    "        true_variant = base_counts[alt_allele] >= 2  # ((fraction_alt > fraction_ref) and (fraction_alt > 0.3))\n",
    "        false_variant = base_counts[ref_allele] >= 2 and not true_variant\n",
    "            \n",
    "        if true_variant:  # >= 2 alt alleles\n",
    "            variant_status = \"True\"\n",
    "            true_variants.append(variant_header)\n",
    "        elif false_variant:  # >= 2 ref alleles and <2 alt alleles\n",
    "            variant_status = \"False\"\n",
    "            false_variants.append(variant_header)\n",
    "        else:  # <2 alt alleles and <2 ref alleles (ie insufficient read mapping)\n",
    "            variant_status = \"Undetermined\"\n",
    "            undetermined_variants.append(variant_header)\n",
    "\n",
    "        write_mode = \"a\" if os.path.isfile(detailed_txt_out_fn) else \"w\"\n",
    "        with open(detailed_txt_out_fn, write_mode) as f:\n",
    "            f.write(f\"{variant} | {dbsnp_id} | {hgvsc} | ({strand}) strand | {hgvsg} \\n\")\n",
    "            f.write(f\"True variant: {variant_status}\\n\")\n",
    "            f.write(f\"Observed alleles: {observed_alleles}\\n\")\n",
    "            f.write(f\"Sequencing depth: {total_allele_count}\\n\")\n",
    "            f.write(f\"Fraction of ref: {base_counts[ref_allele]}/{total_allele_count} = {fraction_ref:.2f}\\n\")\n",
    "            f.write(f\"Fraction of alt: {base_counts[alt_allele]}/{total_allele_count} = {fraction_alt:.2f}\\n\")\n",
    "            f.write(f\"Fraction of other (should be 0): {total_allele_count - base_counts[ref_allele] - base_counts[alt_allele]}/{total_allele_count} = {(total_allele_count - base_counts[ref_allele] - base_counts[alt_allele]) / total_allele_count if total_allele_count != 0 else 0:.2f}\\n\")\n",
    "            f.write(\"--------------------------------\\n\")\n",
    "    except requests.exceptions.HTTPError as e:\n",
    "        number_of_failed_queries += 1\n",
    "    except requests.exceptions.RequestException as e:\n",
    "        number_of_failed_queries += 1\n",
    "    except Exception as e:\n",
    "        number_of_other_errors += 1\n",
    "        # raise e  # can comment out if desired\n",
    "    time.sleep(0.34)\n",
    "\n",
    "    # break  # for debugging\n",
    "    \n",
    "with open(overall_txt_out_fn, \"w\") as f:\n",
    "    f.write(f\"Number of true variants: {len(true_variants)}\\n\")\n",
    "    f.write(f\"Number of false variants: {len(false_variants)}\\n\")\n",
    "    f.write(f\"Number of undetermined variants: {len(undetermined_variants)}\\n\")\n",
    "    f.write(f\"True variants list: {true_variants}\\n\")\n",
    "    f.write(f\"False variants list: {false_variants}\\n\")\n",
    "    f.write(f\"Undetermined variants list: {undetermined_variants}\\n\")\n",
    "    f.write(f\"Number of failed queries: {number_of_failed_queries}\\n\")\n",
    "    f.write(f\"Number of other errors: {number_of_other_errors}\\n\")"
   ]
  },
  {
   "cell_type": "code",
   "execution_count": 21,
   "id": "fe353bd7",
   "metadata": {},
   "outputs": [
    {
     "name": "stdout",
     "output_type": "stream",
     "text": [
      "Number of true variants: 1838\n",
      "Number of false variants: 393\n",
      "Number of undetermined variants: 6390\n",
      "True variants list: ['ENST00000338591:c.716G>C', 'ENST00000379389:c.445A>G', 'ENST00000379370:c.3116A>G', 'ENST00000379370:c.3608T>C', 'ENST00000379370:c.4211T>C', 'ENST00000379370:c.6107C>T', 'ENST00000378466:c.1653C>T', 'ENST00000346387:c.629C>T', 'ENST00000320498:c.520C>T', 'ENST00000320498:c.565T>C', 'ENST00000235332:c.668A>G', 'ENST00000263932:c.1111C>T', 'ENST00000375199:c.1037G>A', 'ENST00000375199:c.1031G>C', 'ENST00000330263:c.900G>A', 'ENST00000374651:c.2748G>A', 'ENST00000374561:c.681A>G', 'ENST00000374472:c.1176C>G', 'ENST00000374472:c.1161G>A', 'ENST00000374472:c.1008T>C', 'ENST00000374472:c.913T>C', 'ENST00000374472:c.822G>A', 'ENST00000374472:c.627C>T', 'ENST00000374472:c.351A>G', 'ENST00000374472:c.350A>G', 'ENST00000374213:c.180A>G', 'ENST00000374213:c.184A>G', 'ENST00000374166:c.194T>G', 'ENST00000374162:c.438T>C', 'ENST00000318074:c.1085G>A', 'ENST00000318074:c.1498A>G', 'ENST00000318074:c.1655G>A', 'ENST00000318074:c.1769A>G', 'ENST00000328928:c.1111A>G', 'ENST00000328928:c.1168T>C', 'ENST00000328928:c.1172A>G', 'ENST00000562991:c.1207G>A', 'ENST00000373510:c.1482G>C', 'ENST00000373485:c.526T>C', 'ENST00000316156:c.1698T>C', 'ENST00000317713:c.823G>A', 'ENST00000289893:c.6017C>T', 'ENST00000289893:c.6206C>A', 'ENST00000289893:c.6506G>A', 'ENST00000289893:c.15646G>C', 'ENST00000340450:c.741T>G', 'ENST00000340450:c.762T>G', 'ENST00000340450:c.790T>G', 'ENST00000340450:c.795T>G', 'ENST00000340450:c.801T>G', 'ENST00000340450:c.822T>G', 'ENST00000372708:c.627C>G', 'ENST00000372343:c.1073C>T', 'ENST00000350030:c.1527A>G', 'ENST00000350030:c.1557C>T', 'ENST00000361314:c.275T>C', 'ENST00000371538:c.696A>G', 'ENST00000371528:c.376G>T', 'ENST00000336230:c.820G>C', 'ENST00000371281:c.226T>A', 'ENST00000316485:c.2724T>G', 'ENST00000316485:c.4764G>A', 'ENST00000371088:c.1031T>C', 'ENST00000329654:c.1492G>A', 'ENST00000370867:c.450A>G', 'ENST00000370654:c.40A>G', 'ENST00000370500:c.843C>T', 'ENST00000340281:c.1658G>A', 'ENST00000234626:c.1109A>G', 'ENST00000370298:c.708G>C', 'ENST00000338949:c.1499A>C', 'ENST00000359208:c.272A>G', 'ENST00000370139:c.96G>A', 'ENST00000370139:c.97C>T', 'ENST00000370008:c.1166G>C', 'ENST00000256578:c.1794T>C', 'ENST00000326729:c.802T>C', 'ENST00000329608:c.1857T>C', 'ENST00000369784:c.1317A>G', 'ENST00000369744:c.1056A>G', 'ENST00000361127:c.2322A>C', 'ENST00000256652:c.1822C>A', 'ENST00000369466:c.543A>G', 'ENST00000369466:c.905C>T', 'ENST00000369448:c.448C>T', 'ENST00000369407:c.2731G>A', 'ENST00000581821:c.709G>C', 'ENST00000579109:c.102C>G', 'ENST00000579109:c.651C>T', 'ENST00000349792:c.1376C>T', 'ENST00000368881:c.1034T>C', 'ENST00000368489:c.2277C>T', 'ENST00000271836:c.653A>C', 'ENST00000316721:c.195A>T', 'ENST00000368324:c.397G>C', 'ENST00000368324:c.799T>C', 'ENST00000362007:c.634C>T', 'ENST00000368233:c.82G>C', 'ENST00000368234:c.704A>C', 'ENST00000368234:c.791G>A', 'ENST00000368235:c.886C>T', 'ENST00000368216:c.1828G>C', 'ENST00000357325:c.963G>A', 'ENST00000295809:c.791G>C', 'ENST00000295809:c.1480C>A', 'ENST00000295809:c.1492T>A', 'ENST00000355199:c.1215G>C', 'ENST00000368011:c.653A>C', 'ENST00000236938:c.1339G>A', 'ENST00000367942:c.266A>G', 'ENST00000456684:c.156C>A', 'ENST00000367762:c.114A>C', 'ENST00000338920:c.5550G>A', 'ENST00000338920:c.5890G>A', 'ENST00000258324:c.1130C>T', 'ENST00000258324:c.601T>C', 'ENST00000239462:c.3764T>C', 'ENST00000352445:c.80T>C', 'ENST00000367607:c.3251G>C', 'ENST00000367600:c.446A>G', 'ENST00000367587:c.2454A>G', 'ENST00000367577:c.676G>A', 'ENST00000367577:c.981C>G', 'ENST00000367577:c.1006A>G', 'ENST00000357570:c.5238C>T', 'ENST00000367549:c.2969T>C', 'ENST00000258341:c.431C>T', 'ENST00000258341:c.803T>C', 'ENST00000258341:c.1629A>G', 'ENST00000258341:c.2033A>C', 'ENST00000258341:c.2768T>C', 'ENST00000258341:c.2920T>C', 'ENST00000258341:c.4385T>C', 'ENST00000347615:c.335G>A', 'ENST00000367466:c.2104G>A', 'ENST00000573477:c.632G>A', 'ENST00000367342:c.2006C>A', 'ENST00000295640:c.1306T>C', 'ENST00000332127:c.914T>C', 'ENST00000367167:c.427G>A', 'ENST00000295713:c.1981G>A', 'ENST00000578328:c.527T>C', 'ENST00000367079:c.619C>T', 'ENST00000367057:c.2176T>C', 'ENST00000367057:c.2201G>A', 'ENST00000367057:c.3374C>A', 'ENST00000367049:c.180A>G', 'ENST00000366957:c.516G>A', 'ENST00000366927:c.361A>G', 'ENST00000344441:c.1453A>G', 'ENST00000344441:c.2250T>G', 'ENST00000344441:c.2373C>T', 'ENST00000344441:c.2651A>G', 'ENST00000340535:c.1865T>C', 'ENST00000295006:c.615G>A', 'ENST00000295006:c.891G>A', 'ENST00000340188:c.496T>C', 'ENST00000340188:c.556C>T', 'ENST00000340188:c.688C>T', 'ENST00000284617:c.896G>A', 'ENST00000258243:c.2469T>G', 'ENST00000258243:c.4426A>G', 'ENST00000238181:c.348T>A', 'ENST00000238181:c.364T>C', 'ENST00000238181:c.398C>T', 'ENST00000238181:c.457C>T', 'ENST00000238181:c.622G>A', 'ENST00000238181:c.667G>C', 'ENST00000348581:c.2323A>G', 'ENST00000348581:c.2584C>T', 'ENST00000366518:c.3980A>G', 'ENST00000388985:c.933A>G', 'ENST00000366511:c.461T>C', 'ENST00000418447:c.131G>C', 'ENST00000324266:c.627C>T', 'ENST00000263663:c.1022C>T', 'ENST00000263663:c.1032G>A', 'ENST00000492648:c.619C>T', 'ENST00000234142:c.492A>C', 'ENST00000233084:c.1200C>T', 'ENST00000486442:c.1197T>C', 'ENST00000407625:c.584C>T', 'ENST00000288599:c.720G>C', 'ENST00000288599:c.4059T>G', 'ENST00000380171:c.356A>G', 'ENST00000264705:c.285C>T', 'ENST00000326019:c.697C>A', 'ENST00000296122:c.399A>G', 'ENST00000407426:c.554C>G', 'ENST00000421745:c.4128G>C', 'ENST00000317907:c.345A>G', 'ENST00000317907:c.1851C>T', 'ENST00000234170:c.2939C>T', 'ENST00000260630:c.1696G>C', 'ENST00000318522:c.1109A>G', 'ENST00000318522:c.1406A>G', 'ENST00000260649:c.1930G>A', 'ENST00000333896:c.6646G>A', 'ENST00000339012:c.1001A>G', 'ENST00000340157:c.682A>G', 'ENST00000303795:c.841T>A', 'ENST00000037869:c.340C>T', 'ENST00000244230:c.1039G>T', 'ENST00000264447:c.3332T>C', 'ENST00000264447:c.3446C>T', 'ENST00000264448:c.12197G>A', 'ENST00000290390:c.1908C>G', 'ENST00000233615:c.826T>C', 'ENST00000377526:c.439C>G', 'ENST00000237449:c.6380A>G', 'ENST00000254644:c.191C>T', 'ENST00000074304:c.651G>A', 'ENST00000074304:c.2203A>G', 'ENST00000074304:c.3084C>T', 'ENST00000338148:c.586G>A', 'ENST00000289371:c.1767A>C', 'ENST00000264254:c.651C>T', 'ENST00000409173:c.723T>C', 'ENST00000258455:c.425C>T', 'ENST00000258455:c.665C>T', 'ENST00000258455:c.926T>C', 'ENST00000258455:c.1124A>G', 'ENST00000309863:c.4114C>G', 'ENST00000309863:c.4854A>G', 'ENST00000295124:c.975T>A', 'ENST00000263331:c.1279T>A', 'ENST00000263331:c.1464C>T', 'ENST00000272542:c.842G>A', 'ENST00000245796:c.843T>C', 'ENST00000245796:c.1001G>C', 'ENST00000245796:c.1461A>G', 'ENST00000263239:c.409C>G', 'ENST00000272521:c.223A>G', 'ENST00000272521:c.396A>G', 'ENST00000263713:c.1598G>A', 'ENST00000426077:c.557C>G', 'ENST00000259253:c.719T>C', 'ENST00000259253:c.1004G>A', 'ENST00000425361:c.39G>A', 'ENST00000259239:c.787G>A', 'ENST00000243346:c.518C>T', 'ENST00000243326:c.2989G>A', 'ENST00000243326:c.4567G>A', 'ENST00000243326:c.6544A>T', 'ENST00000243326:c.7735C>G', 'ENST00000389757:c.191C>T', 'ENST00000259050:c.1589T>C', 'ENST00000234160:c.2000C>T', 'ENST00000272732:c.1111T>C', 'ENST00000342175:c.40852G>C', 'ENST00000264065:c.641G>A', 'ENST00000264065:c.1024C>T', 'ENST00000313581:c.3592T>C', 'ENST00000409150:c.931C>T', 'ENST00000304164:c.1563G>A', 'ENST00000304164:c.3184T>C', 'ENST00000359878:c.1680G>C', 'ENST00000357799:c.124G>A', 'ENST00000272879:c.361A>G', 'ENST00000194530:c.611A>G', 'ENST00000194530:c.974G>T', 'ENST00000272849:c.368G>A', 'ENST00000392132:c.1712A>G', 'ENST00000357276:c.2400T>C', 'ENST00000273062:c.738C>T', 'ENST00000360507:c.1013T>C', 'ENST00000360507:c.923T>C', 'ENST00000420189:c.339C>A', 'ENST00000323348:c.1281A>C', 'ENST00000396738:c.1301T>G', 'ENST00000243776:c.2301T>C', 'ENST00000243776:c.1361A>G', 'ENST00000295641:c.1730G>A', 'ENST00000310078:c.1676A>G', 'ENST00000343805:c.1466G>A', 'ENST00000326407:c.203G>A', 'ENST00000326407:c.298C>T', 'ENST00000326407:c.304G>A', 'ENST00000349938:c.732A>G', 'ENST00000349938:c.733T>A', 'ENST00000408957:c.1456G>A', 'ENST00000359570:c.783G>A', 'ENST00000352879:c.299G>A', 'ENST00000352879:c.435A>G', 'ENST00000319838:c.1822A>C', 'ENST00000396411:c.1146T>A', 'ENST00000342518:c.1024C>T', 'ENST00000251607:c.170C>T', 'ENST00000302640:c.6416T>C', 'ENST00000302003:c.1337C>G', 'ENST00000307768:c.265T>C', 'ENST00000326434:c.121A>G', 'ENST00000306077:c.790T>C', 'ENST00000417015:c.150A>G', 'ENST00000396755:c.2748A>G', 'ENST00000273047:c.578G>T', 'ENST00000356847:c.5743T>A', 'ENST00000352511:c.1930C>T', 'ENST00000301819:c.4127G>A', 'ENST00000273158:c.542G>A', 'ENST00000296088:c.784G>A', 'ENST00000326047:c.3765C>A', 'ENST00000265537:c.2245G>A', 'ENST00000265537:c.2431T>C', 'ENST00000265537:c.2620A>G', 'ENST00000389061:c.1505A>T', 'ENST00000292309:c.1710C>G', 'ENST00000292309:c.4538C>T', 'ENST00000292309:c.4622G>A', 'ENST00000292309:c.5681C>G', 'ENST00000265562:c.1064T>C', 'ENST00000296443:c.1418C>T', 'ENST00000308775:c.459C>G', 'ENST00000398755:c.651A>G', 'ENST00000310271:c.664C>T', 'ENST00000420323:c.11756A>G', 'ENST00000345716:c.341T>C', 'ENST00000345716:c.1029G>A', 'ENST00000345716:c.3301C>T', 'ENST00000315251:c.671T>G', 'ENST00000288167:c.135C>G', 'ENST00000326595:c.381C>T', 'ENST00000326595:c.1023A>G', 'ENST00000311180:c.170C>T', 'ENST00000263780:c.550T>C', 'ENST00000309495:c.1088T>C', 'ENST00000318887:c.406T>C', 'ENST00000333396:c.1739G>A', 'ENST00000240851:c.1186T>C', 'ENST00000361582:c.2294G>A', 'ENST00000361582:c.3137T>C', 'ENST00000315711:c.89C>G', 'ENST00000264852:c.820C>A', 'ENST00000273371:c.645C>T', 'ENST00000330540:c.669G>A', 'ENST00000460683:c.3846T>C', 'ENST00000265056:c.622G>A', 'ENST00000265056:c.748C>T', 'ENST00000296255:c.472G>A', 'ENST00000260818:c.4635G>T', 'ENST00000338446:c.746G>A', 'ENST00000295910:c.320C>T', 'ENST00000264266:c.132C>T', 'ENST00000264266:c.720A>G', 'ENST00000295777:c.482A>G', 'ENST00000295797:c.833C>T', 'ENST00000259119:c.784C>T', 'ENST00000336824:c.635C>G', 'ENST00000263969:c.1659C>G', 'ENST00000324557:c.346C>T', 'ENST00000319274:c.878A>G', 'ENST00000319274:c.1691A>G', 'ENST00000317897:c.934A>C', 'ENST00000317897:c.423G>T', 'ENST00000392455:c.826C>T', 'ENST00000392455:c.1065T>C', 'ENST00000392455:c.1339C>A', 'ENST00000329759:c.2083A>G', 'ENST00000241502:c.482G>A', 'ENST00000264771:c.635T>C', 'ENST00000389851:c.639T>C', 'ENST00000324803:c.3090G>A', 'ENST00000324803:c.3244A>G', 'ENST00000324803:c.3762A>G', 'ENST00000313288:c.1276A>G', 'ENST00000313288:c.1647G>A', 'ENST00000313288:c.1795C>T', 'ENST00000382878:c.182C>T', 'ENST00000356331:c.384G>T', 'ENST00000356331:c.561T>C', 'ENST00000356331:c.1011T>G', 'ENST00000355072:c.7321A>C', 'ENST00000340083:c.1250C>T', 'ENST00000226760:c.854C>G', 'ENST00000226760:c.1167G>A', 'ENST00000285599:c.994G>A', 'ENST00000285599:c.2835G>A', 'ENST00000245105:c.1377T>C', 'ENST00000245105:c.1540T>C', 'ENST00000245105:c.1864A>G', 'ENST00000245105:c.3619C>T', 'ENST00000245105:c.3862A>G', 'ENST00000422728:c.2471C>A', 'ENST00000226299:c.922T>C', 'ENST00000503945:c.540A>G', 'ENST00000251496:c.953T>C', 'ENST00000264864:c.510C>T', 'ENST00000302874:c.1211T>A', 'ENST00000315368:c.2263T>C', 'ENST00000342295:c.470T>C', 'ENST00000237364:c.1326G>A', 'ENST00000261439:c.721T>C', 'ENST00000261439:c.1038T>G', 'ENST00000261425:c.2186T>C', 'ENST00000264451:c.189C>G', 'ENST00000264451:c.328A>G', 'ENST00000264451:c.469A>G', 'ENST00000264451:c.546C>A', 'ENST00000319234:c.257G>T', 'ENST00000381334:c.251A>G', 'ENST00000264904:c.1768G>A', 'ENST00000307808:c.2676C>A', 'ENST00000264350:c.2511T>C', 'ENST00000354268:c.813G>A', 'ENST00000354268:c.975T>C', 'ENST00000354268:c.1552A>G', 'ENST00000354268:c.1912C>T', 'ENST00000317968:c.1169G>A', 'ENST00000317968:c.1611G>A', 'ENST00000226574:c.1610T>C', 'ENST00000305572:c.902A>G', 'ENST00000226796:c.333T>C', 'ENST00000309733:c.279G>A', 'ENST00000361717:c.780T>C', 'ENST00000310836:c.1200A>G', 'ENST00000296464:c.1043T>C', 'ENST00000270861:c.968T>A', 'ENST00000270861:c.2764G>T', 'ENST00000307017:c.3095G>A', 'ENST00000283131:c.2886T>C', 'ENST00000264596:c.163C>A', 'ENST00000264596:c.975A>G', 'ENST00000302327:c.241C>T', 'ENST00000314970:c.936A>G', 'ENST00000264932:c.424A>G', 'ENST00000264932:c.1006T>C', 'ENST00000264932:c.1867A>G', 'ENST00000264932:c.2047G>A', 'ENST00000264933:c.538T>C', 'ENST00000264935:c.1615A>G', 'ENST00000296564:c.2923G>A', 'ENST00000296564:c.3382A>G', 'ENST00000264670:c.2505C>T', 'ENST00000274192:c.324C>G', 'ENST00000274192:c.582G>A', 'ENST00000230859:c.921T>C', 'ENST00000511700:c.76G>A', 'ENST00000511700:c.89T>C', 'ENST00000280326:c.618A>G', 'ENST00000280326:c.846T>C', 'ENST00000296657:c.267C>T', 'ENST00000344204:c.5124A>C', 'ENST00000296684:c.40G>C', 'ENST00000230640:c.1505G>A', 'ENST00000399503:c.2716G>A', 'ENST00000399503:c.3190A>C', 'ENST00000264779:c.205G>A', 'ENST00000261308:c.1797A>G', 'ENST00000380985:c.2155A>G', 'ENST00000256447:c.825A>G', 'ENST00000573110:c.4055C>G', 'ENST00000573110:c.4668A>G', 'ENST00000573110:c.7337G>T', 'ENST00000337273:c.1923C>T', 'ENST00000274364:c.1878T>G', 'ENST00000274364:c.1891A>G', 'ENST00000274364:c.2841T>C', 'ENST00000396137:c.1552A>T', 'ENST00000396137:c.2058T>C', 'ENST00000265081:c.242T>C', 'ENST00000265081:c.249G>C', 'ENST00000265081:c.252G>C', 'ENST00000254037:c.3198C>G', 'ENST00000379904:c.1314T>A', 'ENST00000379904:c.2620C>T', 'ENST00000274392:c.2388A>C', 'ENST00000570566:c.3633A>C', 'ENST00000570566:c.4204C>T', 'ENST00000261483:c.3869A>T', 'ENST00000513585:c.122T>C', 'ENST00000389063:c.244T>C', 'ENST00000389063:c.540A>G', 'ENST00000274458:c.398G>T', 'ENST00000256216:c.1808A>G', 'ENST00000173527:c.314T>C', 'ENST00000282605:c.278G>A', 'ENST00000314358:c.464C>T', 'ENST00000314358:c.914G>A', 'ENST00000314358:c.966G>A', 'ENST00000314358:c.3689T>C', 'ENST00000434752:c.2403T>C', 'ENST00000358337:c.688T>C', 'ENST00000297164:c.1597C>A', 'ENST00000297164:c.1786G>C', 'ENST00000274498:c.1623T>G', 'ENST00000296702:c.3158A>G', 'ENST00000296736:c.1755A>G', 'ENST00000502717:c.1927C>T', 'ENST00000261797:c.1183T>G', 'ENST00000357164:c.530A>G', 'ENST00000322602:c.659T>C', 'ENST00000285873:c.1129A>G', 'ENST00000393980:c.529C>T', 'ENST00000353866:c.465G>A', 'ENST00000353866:c.1385T>C', 'ENST00000265293:c.3515T>C', 'ENST00000265295:c.1095C>T', 'ENST00000303991:c.2134G>A', 'ENST00000303991:c.1076A>G', 'ENST00000355472:c.1560G>C', 'ENST00000355472:c.1734A>G', 'ENST00000029410:c.330T>C', 'ENST00000029410:c.888T>C', 'ENST00000274605:c.758T>C', 'ENST00000360718:c.1144C>T', 'ENST00000360718:c.1204G>A', 'ENST00000261951:c.1378C>T', 'ENST00000307826:c.1636T>C', 'ENST00000380771:c.497T>C', 'ENST00000380771:c.818T>C', 'ENST00000419065:c.366T>C', 'ENST00000419065:c.381G>C', 'ENST00000419065:c.405C>T', 'ENST00000419065:c.406T>C', 'ENST00000337659:c.347A>G', 'ENST00000334984:c.1328T>C', 'ENST00000349384:c.4714T>C', 'ENST00000349384:c.4810C>A', 'ENST00000379834:c.699C>T', 'ENST00000379388:c.2949A>G', 'ENST00000379375:c.585A>G', 'ENST00000297792:c.1656T>C', 'ENST00000343677:c.151T>C', 'ENST00000343677:c.96C>T', 'ENST00000289352:c.203T>C', 'ENST00000289352:c.80A>G', 'ENST00000356386:c.419C>T', 'ENST00000352867:c.1160G>A', 'ENST00000289361:c.412G>A', 'ENST00000244519:c.294C>A', 'ENST00000593546:c.154A>G', 'ENST00000414436:c.703C>G', 'ENST00000342322:c.1198T>C', 'ENST00000582523:c.102A>G', 'ENST00000582523:c.123A>G', 'ENST00000452596:c.383G>A', 'ENST00000452596:c.422A>G', 'ENST00000452596:c.427G>A', 'ENST00000452596:c.543T>C', 'ENST00000452596:c.587T>C', 'ENST00000452596:c.679G>T', 'ENST00000452596:c.685T>C', 'ENST00000452596:c.1010A>C', 'ENST00000452596:c.1051C>A', 'ENST00000452596:c.1053A>G', 'ENST00000438861:c.337G>C', 'ENST00000579721:c.97T>A', 'ENST00000579721:c.117C>T', 'ENST00000579721:c.126G>A', 'ENST00000579721:c.144C>A', 'ENST00000579721:c.238G>A', 'ENST00000579721:c.282C>G', 'ENST00000579721:c.290C>T', 'ENST00000438861:c.672G>A', 'ENST00000438861:c.722A>G', 'ENST00000579721:c.502A>C', 'ENST00000579721:c.524A>G', 'ENST00000579721:c.527C>A', 'ENST00000579721:c.555G>T', 'ENST00000438861:c.1208C>T', 'ENST00000438861:c.1261T>C', 'ENST00000579721:c.964A>T', 'ENST00000579721:c.967A>G', 'ENST00000438861:c.1296T>C', 'ENST00000579721:c.992T>G', 'ENST00000428040:c.526T>G', 'ENST00000428040:c.527C>A', 'ENST00000415649:c.359C>T', 'ENST00000415649:c.447A>G', 'ENST00000422140:c.542C>T', 'ENST00000439190:c.415C>G', 'ENST00000428577:c.1977C>T', 'ENST00000321897:c.3290C>T', 'ENST00000321897:c.3525G>A', 'ENST00000383369:c.3665T>C', 'ENST00000376266:c.600C>T', 'ENST00000412585:c.346G>T', 'ENST00000412585:c.331G>A', 'ENST00000425848:c.369C>G', 'ENST00000425848:c.359T>A', 'ENST00000412585:c.242G>C', 'ENST00000412585:c.78C>G', 'ENST00000412585:c.77C>A', 'ENST00000435618:c.131G>C', 'ENST00000412585:c.70C>G', 'ENST00000412585:c.54G>C', 'ENST00000417943:c.826G>A', 'ENST00000252229:c.317A>G', 'ENST00000418386:c.210T>C', 'ENST00000376007:c.5851C>G', 'ENST00000375654:c.1994G>A', 'ENST00000442960:c.511C>A', 'ENST00000411505:c.676G>T', 'ENST00000343139:c.192C>T', 'ENST00000548145:c.154A>G', 'ENST00000548145:c.175C>T', 'ENST00000343139:c.559T>G', 'ENST00000548145:c.677C>T', 'ENST00000548145:c.683C>T', 'ENST00000548145:c.692G>T', 'ENST00000548145:c.708A>G', 'ENST00000552745:c.713C>T', 'ENST00000552745:c.738G>A', 'ENST00000552745:c.812C>A', 'ENST00000548145:c.791C>T', 'ENST00000550817:c.7A>C', 'ENST00000550817:c.8G>T', 'ENST00000550817:c.17A>C', 'ENST00000550817:c.19A>G', 'ENST00000550817:c.20T>C', 'ENST00000374897:c.1290G>T', 'ENST00000414731:c.1794A>G', 'ENST00000416804:c.154C>A', 'ENST00000374656:c.1237C>T', 'ENST00000395004:c.581A>G', 'ENST00000395004:c.1134T>C', 'ENST00000373491:c.719A>G', 'ENST00000373491:c.917C>T', 'ENST00000307972:c.93C>A', 'ENST00000372987:c.1145T>G', 'ENST00000372899:c.1569A>G', 'ENST00000244625:c.758T>C', 'ENST00000372836:c.1063G>T', 'ENST00000353801:c.863A>G', 'ENST00000359314:c.1660C>T', 'ENST00000335783:c.891A>G', 'ENST00000370733:c.448G>A', 'ENST00000361499:c.3481A>G', 'ENST00000370315:c.1598G>A', 'ENST00000287097:c.2502A>G', 'ENST00000327284:c.1204A>G', 'ENST00000254759:c.1010T>C', 'ENST00000369066:c.4074A>C', 'ENST00000369066:c.4321A>G', 'ENST00000368847:c.854T>C', 'ENST00000420283:c.179G>T', 'ENST00000012134:c.7430A>G', 'ENST00000356956:c.2287A>G', 'ENST00000356956:c.5003A>G', 'ENST00000348824:c.588G>A', 'ENST00000344191:c.3280T>C', 'ENST00000344191:c.3835C>T', 'ENST00000476287:c.1281G>A', 'ENST00000389574:c.1305A>G', 'ENST00000265857:c.274G>A', 'ENST00000265857:c.604G>A', 'ENST00000360876:c.491C>T', 'ENST00000325979:c.403T>C', 'ENST00000325979:c.1877A>G', 'ENST00000328914:c.606G>T', 'ENST00000288828:c.505C>G', 'ENST00000313324:c.1060G>A', 'ENST00000335965:c.365G>A', 'ENST00000344417:c.1341G>A', 'ENST00000340080:c.2977G>T', 'ENST00000340080:c.3013A>G', 'ENST00000344962:c.629A>T', 'ENST00000389266:c.365C>G', 'ENST00000318709:c.1781A>G', 'ENST00000265748:c.1040A>G', 'ENST00000199448:c.796C>T', 'ENST00000319357:c.1263A>G', 'ENST00000432854:c.850T>C', 'ENST00000457408:c.443G>T', 'ENST00000395699:c.334T>G', 'ENST00000275603:c.1152T>C', 'ENST00000342190:c.210C>A', 'ENST00000309683:c.1721T>C', 'ENST00000307355:c.537G>A', 'ENST00000307355:c.552T>A', 'ENST00000573728:c.3342T>C', 'ENST00000573159:c.594T>C', 'ENST00000573159:c.2930G>C', 'ENST00000573423:c.240A>G', 'ENST00000573555:c.492A>G', 'ENST00000307569:c.1014C>T', 'ENST00000307569:c.1458C>T', 'ENST00000307569:c.1630A>G', 'ENST00000257632:c.665A>T', 'ENST00000257632:c.668C>T', 'ENST00000222511:c.330T>G', 'ENST00000222511:c.395A>G', 'ENST00000356239:c.9168C>T', 'ENST00000305866:c.2295C>T', 'ENST00000005260:c.1545G>A', 'ENST00000361125:c.818C>G', 'ENST00000198536:c.444A>G', 'ENST00000300176:c.1168T>C', 'ENST00000200457:c.1048G>A', 'ENST00000200457:c.1278A>G', 'ENST00000347433:c.953T>C', 'ENST00000356387:c.703T>C', 'ENST00000409231:c.236A>T', 'ENST00000409231:c.359G>C', 'ENST00000292644:c.1004A>C', 'ENST00000359195:c.1282A>G', 'ENST00000359195:c.1291T>C', 'ENST00000257724:c.845C>A', 'ENST00000262432:c.1069T>C', 'ENST00000223190:c.219T>G', 'ENST00000253861:c.1859G>A', 'ENST00000263552:c.1021A>C', 'ENST00000322764:c.1013A>T', 'ENST00000475153:c.468G>A', 'ENST00000255992:c.2379T>G', 'ENST00000313543:c.343A>G', 'ENST00000313543:c.404C>T', 'ENST00000392826:c.351C>A', 'ENST00000310317:c.718T>A', 'ENST00000310317:c.1159T>C', 'ENST00000355851:c.917C>T', 'ENST00000392761:c.287A>T', 'ENST00000392761:c.1035A>G', 'ENST00000275820:c.2351G>A', 'ENST00000275820:c.2425G>C', 'ENST00000275820:c.2449G>A', 'ENST00000407559:c.833C>G', 'ENST00000407559:c.2231A>G', 'ENST00000276326:c.232G>A', 'ENST00000344683:c.304G>T', 'ENST00000344683:c.1016G>C', 'ENST00000344683:c.1251A>G', 'ENST00000250263:c.307T>C', 'ENST00000310430:c.452T>C', 'ENST00000220584:c.853T>C', 'ENST00000345125:c.299C>G', 'ENST00000325083:c.915A>G', 'ENST00000325083:c.916C>T', 'ENST00000240095:c.235T>C', 'ENST00000240095:c.332A>G', 'ENST00000240123:c.2050T>C', 'ENST00000308511:c.1713C>G', 'ENST00000251822:c.1401T>C', 'ENST00000276431:c.857T>C', 'ENST00000330560:c.951T>C', 'ENST00000311151:c.838T>C', 'ENST00000338238:c.835T>C', 'ENST00000338238:c.853G>A', 'ENST00000338238:c.970A>G', 'ENST00000338238:c.3310T>C', 'ENST00000338238:c.3562A>G', 'ENST00000338238:c.3586A>G', 'ENST00000250635:c.1312A>G', 'ENST00000317827:c.1549A>G', 'ENST00000276520:c.710T>C', 'ENST00000297798:c.1187T>C', 'ENST00000260129:c.524T>C', 'ENST00000284818:c.257A>G', 'ENST00000357039:c.946T>C', 'ENST00000256117:c.169C>G', 'ENST00000297579:c.418A>C', 'ENST00000287380:c.1464A>G', 'ENST00000328599:c.203T>C', 'ENST00000518198:c.241T>C', 'ENST00000395172:c.468T>C', 'ENST00000330701:c.438T>C', 'ENST00000340042:c.151A>G', 'ENST00000521682:c.374G>C', 'ENST00000340042:c.623G>A', 'ENST00000262580:c.641G>A', 'ENST00000423316:c.909C>G', 'ENST00000423316:c.672C>T', 'ENST00000321385:c.1704G>T', 'ENST00000563379:c.562C>A', 'ENST00000563379:c.800A>G', 'ENST00000566404:c.430A>G', 'ENST00000318911:c.172T>G', 'ENST00000318911:c.299A>G', 'ENST00000322428:c.464T>C', 'ENST00000322428:c.1110G>A', 'ENST00000323662:c.4563A>T', 'ENST00000326134:c.170C>T', 'ENST00000306145:c.694C>T', 'ENST00000301332:c.599C>T', 'ENST00000301331:c.280A>G', 'ENST00000292524:c.219T>C', 'ENST00000432829:c.401C>A', 'ENST00000382329:c.2895C>G', 'ENST00000382329:c.3279T>C', 'ENST00000382329:c.4221G>A', 'ENST00000381652:c.2984G>A', 'ENST00000397745:c.689T>C', 'ENST00000381306:c.3121C>T', 'ENST00000262360:c.1857C>T', 'ENST00000338382:c.2153C>G', 'ENST00000330899:c.273T>C', 'ENST00000378409:c.577A>G', 'ENST00000318158:c.664A>G', 'ENST00000307750:c.930T>C', 'ENST00000377698:c.348T>C', 'ENST00000377698:c.473G>T', 'ENST00000377698:c.910G>A', 'ENST00000377270:c.578A>G', 'ENST00000265384:c.1525C>A', 'ENST00000347159:c.365T>G', 'ENST00000337352:c.725C>A', 'ENST00000337352:c.1805A>G', 'ENST00000277165:c.956C>T', 'ENST00000286398:c.3510G>A', 'ENST00000374767:c.404G>A', 'ENST00000358015:c.1097C>T', 'ENST00000238379:c.1335G>A', 'ENST00000320246:c.842C>T', 'ENST00000265956:c.1678T>C', 'ENST00000342483:c.557A>G', 'ENST00000342483:c.1189C>T', 'ENST00000300417:c.621C>T', 'ENST00000300417:c.1324A>G', 'ENST00000373064:c.665T>C', 'ENST00000300452:c.472G>C', 'ENST00000351030:c.923A>G', 'ENST00000358161:c.3599C>T', 'ENST00000358161:c.5198A>G', 'ENST00000277458:c.373G>C', 'ENST00000259339:c.612C>T', 'ENST00000315480:c.329T>C', 'ENST00000315480:c.632T>C', 'ENST00000315480:c.1526T>C', 'ENST00000352480:c.948T>C', 'ENST00000359428:c.1864C>T', 'ENST00000341012:c.910T>C', 'ENST00000341012:c.1081T>C', 'ENST00000372153:c.2328A>G', 'ENST00000372146:c.2124G>A', 'ENST00000351304:c.1537C>T', 'ENST00000358625:c.195C>T', 'ENST00000371717:c.99C>T', 'ENST00000338005:c.1297A>C', 'ENST00000311502:c.761A>G', 'ENST00000311502:c.1217C>T', 'ENST00000371589:c.249A>G', 'ENST00000343053:c.1888G>A', 'ENST00000381075:c.551A>C', 'ENST00000381072:c.923C>T', 'ENST00000355029:c.742T>C', 'ENST00000328090:c.2120T>G', 'ENST00000344293:c.2292G>C', 'ENST00000344293:c.2293T>C', 'ENST00000379215:c.416G>A', 'ENST00000379215:c.439G>A', 'ENST00000379215:c.631T>C', 'ENST00000379215:c.662G>A', 'ENST00000263035:c.120T>C', 'ENST00000263035:c.876T>G', 'ENST00000263035:c.1883C>G', 'ENST00000263035:c.1973A>C', 'ENST00000263035:c.2000T>C', 'ENST00000263035:c.2141C>T', 'ENST00000263036:c.1637A>G', 'ENST00000378694:c.1693A>T', 'ENST00000263038:c.212C>T', 'ENST00000307729:c.373G>A', 'ENST00000376452:c.455C>G', 'ENST00000342386:c.1839C>T', 'ENST00000342386:c.2559T>C', 'ENST00000263056:c.930T>C', 'ENST00000374518:c.2508C>T', 'ENST00000265453:c.1840G>A', 'ENST00000265453:c.3476C>T', 'ENST00000265453:c.3613C>T', 'ENST00000374127:c.1347G>A', 'ENST00000242480:c.953G>A', 'ENST00000212015:c.1047T>C', 'ENST00000265872:c.599G>A', 'ENST00000373585:c.1724C>T', 'ENST00000373585:c.1991A>G', 'ENST00000298649:c.1541G>A', 'ENST00000373218:c.245C>T', 'ENST00000263563:c.2554A>G', 'ENST00000299297:c.513C>T', 'ENST00000211998:c.2482G>A', 'ENST00000298784:c.1762A>T', 'ENST00000298784:c.2208T>C', 'ENST00000352159:c.832T>C', 'ENST00000371795:c.1257C>T', 'ENST00000260753:c.3481T>C', 'ENST00000371485:c.599A>G', 'ENST00000315563:c.76T>C', 'ENST00000337540:c.519G>T', 'ENST00000298999:c.2228A>G', 'ENST00000369983:c.4457T>C', 'ENST00000189444:c.1432A>G', 'ENST00000189444:c.1984A>G', 'ENST00000369797:c.3740C>T', 'ENST00000369797:c.5706A>C', 'ENST00000335753:c.2200G>A', 'ENST00000369583:c.942G>A', 'ENST00000369583:c.943C>T', 'ENST00000280154:c.380A>G', 'ENST00000451472:c.496G>A', 'ENST00000298510:c.415C>T', 'ENST00000369075:c.697C>T', 'ENST00000263461:c.3204G>A', 'ENST00000368839:c.301A>G', 'ENST00000338492:c.1655A>G', 'ENST00000344079:c.850A>G', 'ENST00000352303:c.62A>G', 'ENST00000409479:c.867A>G', 'ENST00000399817:c.128T>C', 'ENST00000399817:c.152T>C', 'ENST00000399815:c.19G>C', 'ENST00000328221:c.376C>G', 'ENST00000270115:c.2019C>G', 'ENST00000346501:c.287T>C', 'ENST00000329957:c.319T>C', 'ENST00000312221:c.320G>A', 'ENST00000312221:c.538A>G', 'ENST00000303927:c.825T>A', 'ENST00000254579:c.1283T>A', 'ENST00000254579:c.3524A>G', 'ENST00000299492:c.1786C>T', 'ENST00000299492:c.2360A>G', 'ENST00000299492:c.2764G>A', 'ENST00000299498:c.911A>G', 'ENST00000309828:c.594C>T', 'ENST00000379719:c.181T>C', 'ENST00000299606:c.1658G>C', 'ENST00000318950:c.791A>C', 'ENST00000318950:c.1147C>T', 'ENST00000528848:c.1318T>C', 'ENST00000528848:c.980T>G', 'ENST00000528848:c.945G>A', 'ENST00000528848:c.889A>T', 'ENST00000323688:c.1151G>A', 'ENST00000227157:c.558C>T', 'ENST00000227157:c.594A>G', 'ENST00000419348:c.762T>G', 'ENST00000331079:c.1740G>A', 'ENST00000278187:c.284A>G', 'ENST00000257836:c.787G>A', 'ENST00000399302:c.1488G>A', 'ENST00000399302:c.3388A>G', 'ENST00000399302:c.3764A>G', 'ENST00000257829:c.1587T>C', 'ENST00000257829:c.1892C>T', 'ENST00000317811:c.1578G>A', 'ENST00000302708:c.768T>C', 'ENST00000256996:c.573T>C', 'ENST00000311027:c.4276T>C', 'ENST00000287169:c.2356T>C', 'ENST00000358694:c.2023C>T', 'ENST00000316059:c.790A>G', 'ENST00000361050:c.1485G>A', 'ENST00000227525:c.943T>C', 'ENST00000005286:c.657C>A', 'ENST00000394900:c.700G>C', 'ENST00000394900:c.782G>A', 'ENST00000394900:c.1540C>T', 'ENST00000278849:c.285A>G', 'ENST00000278849:c.537C>T', 'ENST00000278849:c.1365T>C', 'ENST00000278849:c.1694T>C', 'ENST00000377953:c.357G>A', 'ENST00000255688:c.459T>C', 'ENST00000377793:c.113G>A', 'ENST00000279206:c.935A>G', 'ENST00000279206:c.944T>C', 'ENST00000309366:c.502T>C', 'ENST00000279230:c.463A>G', 'ENST00000279230:c.949G>A', 'ENST00000279230:c.1621C>T', 'ENST00000313074:c.1151C>T', 'ENST00000265462:c.226A>G', 'ENST00000356786:c.1959T>C', 'ENST00000356786:c.2081C>T', 'ENST00000356786:c.2425G>A', 'ENST00000356786:c.2701A>C', 'ENST00000320631:c.1809T>C', 'ENST00000352068:c.231T>C', 'ENST00000398846:c.669C>T', 'ENST00000398846:c.715T>G', 'ENST00000398846:c.758T>G', 'ENST00000398846:c.792A>G', 'ENST00000530673:c.239T>C', 'ENST00000279263:c.318G>C', 'ENST00000310597:c.1119C>T', 'ENST00000294187:c.786A>G', 'ENST00000309775:c.120T>C', 'ENST00000309295:c.662G>C', 'ENST00000309295:c.1185G>A', 'ENST00000355703:c.653G>C', 'ENST00000355703:c.1312A>G', 'ENST00000355703:c.1912C>G', 'ENST00000355703:c.3512C>T', 'ENST00000394224:c.2501T>G', 'ENST00000308110:c.886T>C', 'ENST00000308110:c.888G>C', 'ENST00000308110:c.1285C>T', 'ENST00000308110:c.1414G>A', 'ENST00000308110:c.1597G>T', 'ENST00000438576:c.673A>G', 'ENST00000312397:c.608G>A', 'ENST00000524784:c.174A>C', 'ENST00000360510:c.2003A>G', 'ENST00000308831:c.485T>C', 'ENST00000398645:c.1917T>C', 'ENST00000308595:c.386C>A', 'ENST00000279146:c.800C>A', 'ENST00000265686:c.1353G>C', 'ENST00000294304:c.1753T>C', 'ENST00000255078:c.168T>C', 'ENST00000255078:c.713T>C', 'ENST00000255078:c.2747C>A', 'ENST00000294309:c.449T>C', 'ENST00000294309:c.1259T>C', 'ENST00000294309:c.1792T>C', 'ENST00000319023:c.408G>C', 'ENST00000319023:c.800A>C', 'ENST00000319023:c.893T>C', 'ENST00000319023:c.932T>C', 'ENST00000310109:c.598A>T', 'ENST00000358171:c.502A>G', 'ENST00000358171:c.631C>G', 'ENST00000358171:c.961C>T', 'ENST00000358171:c.1279G>A', 'ENST00000278544:c.181G>A', 'ENST00000325212:c.5958T>C', 'ENST00000325212:c.7472A>T', 'ENST00000251871:c.482C>G', 'ENST00000251871:c.494G>C', 'ENST00000393094:c.841A>G', 'ENST00000265838:c.104G>C', 'ENST00000278616:c.6333A>G', 'ENST00000003302:c.3213A>T', 'ENST00000278935:c.1629T>C', 'ENST00000227752:c.579A>G', 'ENST00000227752:c.1171A>G', 'ENST00000300793:c.2705A>G', 'ENST00000260197:c.936T>C', 'ENST00000260197:c.1782T>C', 'ENST00000260197:c.3349C>G', 'ENST00000260197:c.6028G>A', 'ENST00000227349:c.1245T>C', 'ENST00000344762:c.1845G>A', 'ENST00000344762:c.2696T>C', 'ENST00000298280:c.416G>A', 'ENST00000298280:c.537A>G', 'ENST00000308074:c.1277T>C', 'ENST00000263579:c.644G>A', 'ENST00000315939:c.901T>C', 'ENST00000315939:c.1930A>G', 'ENST00000315939:c.2971G>A', 'ENST00000315939:c.3809A>C', 'ENST00000315939:c.7471C>T', 'ENST00000342628:c.1866A>G', 'ENST00000261254:c.839C>G', 'ENST00000266557:c.927A>G', 'ENST00000203629:c.1697T>C', 'ENST00000594779:c.2667C>A', 'ENST00000357529:c.2054T>C', 'ENST00000261168:c.1742A>G', 'ENST00000354454:c.1250C>G', 'ENST00000389032:c.1162G>A', 'ENST00000306172:c.850G>A', 'ENST00000312561:c.765C>T', 'ENST00000312561:c.1163T>C', 'ENST00000312561:c.1966T>C', 'ENST00000308742:c.567C>G', 'ENST00000295766:c.768A>G', 'ENST00000301180:c.1951T>A', 'ENST00000262055:c.289G>A', 'ENST00000549555:c.531C>T', 'ENST00000331817:c.1274G>C', 'ENST00000257934:c.1933C>A', 'ENST00000257934:c.4395A>T', 'ENST00000257934:c.4642G>A', 'ENST00000257934:c.4912C>T', 'ENST00000257934:c.6201G>A', 'ENST00000267103:c.1098C>T', 'ENST00000267103:c.1110A>G', 'ENST00000209873:c.1021C>T', 'ENST00000293373:c.946C>G', 'ENST00000243052:c.1912T>C', 'ENST00000398213:c.537T>C', 'ENST00000266971:c.1509G>C', 'ENST00000338146:c.224T>C', 'ENST00000356769:c.2480T>A', 'ENST00000354947:c.979T>G', 'ENST00000266643:c.566C>T', 'ENST00000280377:c.1513A>G', 'ENST00000280379:c.1972G>A', 'ENST00000266679:c.385G>A', 'ENST00000519948:c.609G>C', 'ENST00000248306:c.567C>T', 'ENST00000356891:c.915G>C', 'ENST00000309041:c.2372A>G', 'ENST00000529983:c.1066T>C', 'ENST00000258526:c.1008C>T', 'ENST00000360820:c.2604C>T', 'ENST00000261637:c.786C>T', 'ENST00000261637:c.5819T>A', 'ENST00000332180:c.2788G>A', 'ENST00000228347:c.2277T>C', 'ENST00000228284:c.343G>A', 'ENST00000311893:c.41T>G', 'ENST00000311893:c.42T>G', 'ENST00000311893:c.57C>T', 'ENST00000280774:c.1640G>A', 'ENST00000420167:c.74C>A', 'ENST00000420167:c.73G>A', 'ENST00000202917:c.747G>A', 'ENST00000202917:c.1317G>A', 'ENST00000202917:c.1345G>C', 'ENST00000228928:c.232G>A', 'ENST00000228928:c.296C>T', 'ENST00000228928:c.1493T>C', 'ENST00000257583:c.630G>A', 'ENST00000432953:c.768G>C', 'ENST00000341039:c.309T>C', 'ENST00000324774:c.1082A>T', 'ENST00000267197:c.444C>T', 'ENST00000267197:c.1737C>G', 'ENST00000261817:c.136T>C', 'ENST00000319080:c.1319A>G', 'ENST00000333479:c.6444C>T', 'ENST00000253083:c.335C>T', 'ENST00000253083:c.3074C>G', 'ENST00000262225:c.136T>C', 'ENST00000330342:c.674T>C', 'ENST00000330342:c.719T>C', 'ENST00000339647:c.2394A>G', 'ENST00000339647:c.1518T>C', 'ENST00000339647:c.1132T>C', 'ENST00000261674:c.1403T>C', 'ENST00000321867:c.2598T>C', 'ENST00000321867:c.2797A>G', 'ENST00000317479:c.141C>T', 'ENST00000397313:c.1375G>C', 'ENST00000397313:c.1374T>C', 'ENST00000319980:c.1691G>A', 'ENST00000380152:c.1347A>C', 'ENST00000380152:c.4796A>G', 'ENST00000380152:c.6746G>C', 'ENST00000315596:c.558A>G', 'ENST00000379485:c.1388T>C', 'ENST00000379367:c.1095T>C', 'ENST00000349995:c.1603G>A', 'ENST00000349995:c.2352A>G', 'ENST00000349995:c.2587G>A', 'ENST00000311191:c.929T>C', 'ENST00000258672:c.754A>G', 'ENST00000258672:c.1821G>A', 'ENST00000258672:c.1856A>G', 'ENST00000357596:c.330A>G', 'ENST00000521776:c.987G>T', 'ENST00000341547:c.2112T>C', 'ENST00000376958:c.490C>T', 'ENST00000339105:c.721A>G', 'ENST00000355739:c.4580G>C', 'ENST00000355739:c.4661G>C', 'ENST00000332556:c.750C>A', 'ENST00000390505:c.11C>T', 'ENST00000285848:c.311C>T', 'ENST00000285850:c.498G>A', 'ENST00000355151:c.86T>C', 'ENST00000250405:c.627A>G', 'ENST00000397154:c.283G>A', 'ENST00000397154:c.292C>A', 'ENST00000216780:c.630A>C', 'ENST00000396936:c.776G>A', 'ENST00000267425:c.987T>C', 'ENST00000251343:c.921A>C', 'ENST00000251343:c.948G>T', 'ENST00000399390:c.524A>G', 'ENST00000399390:c.411G>C', 'ENST00000216361:c.1451C>G', 'ENST00000280083:c.1392G>C', 'ENST00000298292:c.2384A>G', 'ENST00000245448:c.745C>T', 'ENST00000261244:c.1394G>A', 'ENST00000261244:c.2575T>C', 'ENST00000261244:c.3213C>G', 'ENST00000391611:c.737A>G', 'ENST00000317623:c.861G>A', 'ENST00000317623:c.933C>T', 'ENST00000317623:c.1051G>A', 'ENST00000344113:c.7395G>A', 'ENST00000344113:c.12214G>A', 'ENST00000216605:c.479A>G', 'ENST00000320636:c.1896C>T', 'ENST00000342677:c.619A>G', 'ENST00000256367:c.650C>G', 'ENST00000358550:c.1829A>C', 'ENST00000358550:c.2873T>C', 'ENST00000267569:c.263A>G', 'ENST00000238647:c.2144C>T', 'ENST00000216465:c.530T>C', 'ENST00000216479:c.293C>T', 'ENST00000216479:c.454A>G', 'ENST00000238688:c.52A>C', 'ENST00000261531:c.1539G>T', 'ENST00000216487:c.803A>G', 'ENST00000216639:c.194A>G', 'ENST00000389749:c.188G>A', 'ENST00000216602:c.415C>G', 'ENST00000330634:c.248C>T', 'ENST00000342537:c.685G>A', 'ENST00000603532:c.411C>T', 'ENST00000603632:c.965C>G', 'ENST00000604405:c.293A>T', 'ENST00000604008:c.366A>T', 'ENST00000604008:c.359G>C', 'ENST00000604008:c.329G>C', 'ENST00000604008:c.105C>G', 'ENST00000604973:c.305G>C', 'ENST00000604930:c.234C>G', 'ENST00000605000:c.357C>G', 'ENST00000605000:c.348A>T', 'ENST00000605000:c.227G>T', 'ENST00000605000:c.224G>C', 'ENST00000605000:c.214A>T', 'ENST00000604045:c.322A>T', 'ENST00000604045:c.201G>C', 'ENST00000603423:c.422G>C', 'ENST00000603423:c.248C>G', 'ENST00000603210:c.289C>G', 'ENST00000603210:c.141G>C', 'ENST00000605681:c.296T>A', 'ENST00000605681:c.214G>C', 'ENST00000605716:c.348G>C', 'ENST00000605716:c.329A>T', 'ENST00000605716:c.315G>C', 'ENST00000605716:c.169G>C', 'ENST00000390634:c.421T>C', 'ENST00000557788:c.329G>C', 'ENST00000267884:c.442C>G', 'ENST00000299173:c.922T>G', 'ENST00000344051:c.1509C>T', 'ENST00000219905:c.2327A>T', 'ENST00000219905:c.4069C>T', 'ENST00000219905:c.6088G>A', 'ENST00000221214:c.3636G>C', 'ENST00000318010:c.271C>G', 'ENST00000318010:c.371A>G', 'ENST00000318010:c.501T>C', 'ENST00000305560:c.854G>A', 'ENST00000310958:c.1239T>C', 'ENST00000299638:c.397C>T', 'ENST00000261893:c.85A>C', 'ENST00000326648:c.956C>T', 'ENST00000327367:c.619A>G', 'ENST00000306917:c.2094T>C', 'ENST00000260363:c.1560A>G', 'ENST00000260363:c.2094C>T', 'ENST00000268057:c.947T>C', 'ENST00000323744:c.980A>G', 'ENST00000360639:c.479A>G', 'ENST00000360639:c.1533C>A', 'ENST00000360639:c.1550T>C', 'ENST00000360639:c.1792G>A', 'ENST00000258886:c.624G>C', 'ENST00000258886:c.1888T>C', 'ENST00000044462:c.870T>C', 'ENST00000299705:c.395G>A', 'ENST00000299705:c.704A>G', 'ENST00000299927:c.2260A>G', 'ENST00000299927:c.2799G>A', 'ENST00000361243:c.2770G>A', 'ENST00000332810:c.325A>G', 'ENST00000332810:c.569A>G', 'ENST00000332810:c.793G>C', 'ENST00000306072:c.772A>G', 'ENST00000268138:c.4672C>T', 'ENST00000329600:c.67A>G', 'ENST00000268184:c.219G>A', 'ENST00000355112:c.3220G>A', 'ENST00000355112:c.3649C>A', 'ENST00000355112:c.4063C>T', 'ENST00000328850:c.646T>C', 'ENST00000338042:c.1207T>C', 'ENST00000338042:c.1213G>A', 'ENST00000332728:c.608T>C', 'ENST00000284395:c.3838A>G', 'ENST00000284395:c.6204G>A', 'ENST00000284395:c.6205C>A', 'ENST00000254190:c.2798C>A', 'ENST00000293860:c.112T>G', 'ENST00000219479:c.545C>T', 'ENST00000219611:c.2883C>A', 'ENST00000026218:c.727C>T', 'ENST00000293879:c.1921T>C', 'ENST00000293879:c.4475G>A', 'ENST00000293879:c.4663T>C', 'ENST00000315082:c.237C>G', 'ENST00000315082:c.822C>T', 'ENST00000315082:c.1387C>T', 'ENST00000219535:c.145C>T', 'ENST00000341413:c.446T>C', 'ENST00000341413:c.494C>G', 'ENST00000262315:c.402A>G', 'ENST00000262319:c.298G>C', 'ENST00000262319:c.299A>G', 'ENST00000250894:c.2414A>G', 'ENST00000332704:c.376A>C', 'ENST00000332704:c.602G>C', 'ENST00000332704:c.1888A>C', 'ENST00000301727:c.548G>A', 'ENST00000301740:c.5257A>C', 'ENST00000301740:c.8181T>C', 'ENST00000253928:c.1554C>G', 'ENST00000571580:c.406G>C', 'ENST00000219091:c.251A>G', 'ENST00000268655:c.774T>G', 'ENST00000262375:c.284T>C', 'ENST00000381920:c.1129T>C', 'ENST00000381920:c.1282T>C', 'ENST00000381920:c.1354G>A', 'ENST00000324288:c.653A>G', 'ENST00000324288:c.1632G>C', 'ENST00000324288:c.2554G>T', 'ENST00000324288:c.2832A>G', 'ENST00000053243:c.460A>G', 'ENST00000345148:c.1000T>C', 'ENST00000345148:c.1237T>C', 'ENST00000389467:c.11058A>G', 'ENST00000321998:c.117G>A', 'ENST00000233047:c.930A>C', 'ENST00000263026:c.1556A>G', 'ENST00000315183:c.2515C>T', 'ENST00000315183:c.5412C>T', 'ENST00000328423:c.520A>G', 'ENST00000328423:c.1265C>G', 'ENST00000328423:c.1669A>G', 'ENST00000328423:c.1690C>T', 'ENST00000328423:c.2068A>G', 'ENST00000328423:c.2337T>C', 'ENST00000325215:c.1406A>G', 'ENST00000322610:c.1889A>G', 'ENST00000324662:c.564C>G', 'ENST00000395384:c.744A>G', 'ENST00000160827:c.1270C>T', 'ENST00000279394:c.1762C>T', 'ENST00000308893:c.3650A>G', 'ENST00000380412:c.965T>C', 'ENST00000380412:c.719G>C', 'ENST00000262518:c.2449G>T', 'ENST00000324685:c.2279A>G', 'ENST00000324685:c.2928A>G', 'ENST00000318663:c.887A>G', 'ENST00000300850:c.3051G>C', 'ENST00000300850:c.3853T>C', 'ENST00000219797:c.1074A>G', 'ENST00000219797:c.1128A>G', 'ENST00000254108:c.252C>A', 'ENST00000285767:c.580T>C', 'ENST00000254235:c.880A>G', 'ENST00000262133:c.766A>G', 'ENST00000306061:c.521C>T', 'ENST00000308159:c.505C>T', 'ENST00000308159:c.766C>G', 'ENST00000262510:c.1583C>T', 'ENST00000262510:c.1710T>C', 'ENST00000262510:c.1723T>C', 'ENST00000262510:c.2796C>T', 'ENST00000262510:c.2943T>C', 'ENST00000262510:c.2944A>G', 'ENST00000262510:c.3174T>C', 'ENST00000262510:c.3972T>C', 'ENST00000262510:c.4589T>C', 'ENST00000262510:c.4622A>G', 'ENST00000262510:c.5085C>T', 'ENST00000219235:c.50A>C', 'ENST00000219315:c.315T>C', 'ENST00000328020:c.63G>A', 'ENST00000360086:c.521G>A', 'ENST00000339507:c.2627C>T', 'ENST00000261769:c.2267T>C', 'ENST00000254950:c.1017A>G', 'ENST00000356003:c.1733T>C', 'ENST00000356003:c.2117A>G', 'ENST00000338099:c.622G>A', 'ENST00000338099:c.515C>T', 'ENST00000268482:c.1817T>C', 'ENST00000248248:c.1223A>G', 'ENST00000248248:c.1460T>C', 'ENST00000378644:c.101A>G', 'ENST00000299575:c.1836T>C', 'ENST00000359376:c.388T>C', 'ENST00000253452:c.254T>C', 'ENST00000286122:c.434C>T', 'ENST00000301011:c.674A>G', 'ENST00000312060:c.805A>G', 'ENST00000312060:c.1380T>C', 'ENST00000301015:c.1427G>C', 'ENST00000301015:c.996T>C', 'ENST00000301015:c.495T>C', 'ENST00000301019:c.1319T>C', 'ENST00000301019:c.1534T>C', 'ENST00000335360:c.503A>G', 'ENST00000389386:c.344G>A', 'ENST00000319004:c.2904G>A', 'ENST00000319004:c.1467C>G', 'ENST00000309182:c.1671A>G', 'ENST00000309182:c.1811A>G', 'ENST00000309182:c.2039A>G', 'ENST00000263083:c.1056T>C', 'ENST00000268989:c.890G>A', 'ENST00000268989:c.903T>C', 'ENST00000268989:c.1298G>A', 'ENST00000269260:c.1073C>T', 'ENST00000270586:c.114G>A', 'ENST00000263088:c.1310G>A', 'ENST00000262477:c.1733C>T', 'ENST00000158762:c.422A>G', 'ENST00000322644:c.991T>C', 'ENST00000322644:c.1359T>C', 'ENST00000322644:c.1860T>C', 'ENST00000322644:c.2220T>C', 'ENST00000338784:c.730A>G', 'ENST00000293831:c.163G>C', 'ENST00000380255:c.2011C>T', 'ENST00000380262:c.2658C>A', 'ENST00000380255:c.2474C>G', 'ENST00000389017:c.871A>C', 'ENST00000316199:c.974T>C', 'ENST00000316199:c.966C>T', 'ENST00000314666:c.188C>T', 'ENST00000314666:c.1233C>T', 'ENST00000314666:c.1995T>C', 'ENST00000261643:c.776A>G', 'ENST00000338560:c.789A>G', 'ENST00000338560:c.826A>C', 'ENST00000338560:c.2493C>G', 'ENST00000341712:c.980C>A', 'ENST00000313485:c.431C>G', 'ENST00000316843:c.538A>G', 'ENST00000395671:c.468G>A', 'ENST00000307767:c.463G>A', 'ENST00000307767:c.725T>C', 'ENST00000314728:c.1686T>C', 'ENST00000316920:c.482T>C', 'ENST00000262394:c.363T>C', 'ENST00000321990:c.782A>G', 'ENST00000247270:c.406C>T', 'ENST00000361952:c.334T>G', 'ENST00000308377:c.514G>T', 'ENST00000225396:c.386C>T', 'ENST00000325718:c.189T>C', 'ENST00000225426:c.191A>T', 'ENST00000318008:c.688C>T', 'ENST00000361677:c.490T>C', 'ENST00000415816:c.599A>G', 'ENST00000245382:c.497A>C', 'ENST00000253410:c.508G>A', 'ENST00000328118:c.1562G>C', 'ENST00000328118:c.1563C>G', 'ENST00000007414:c.2691T>C', 'ENST00000376741:c.1275T>C', 'ENST00000225941:c.1124T>C', 'ENST00000259021:c.1048A>G', 'ENST00000017003:c.226G>A', 'ENST00000017003:c.391C>T', 'ENST00000017003:c.2451C>G', 'ENST00000338165:c.289A>C', 'ENST00000258955:c.462T>C', 'ENST00000268957:c.1386A>G', 'ENST00000299341:c.481G>A', 'ENST00000268896:c.608C>T', 'ENST00000284061:c.759A>C', 'ENST00000323456:c.633C>G', 'ENST00000259008:c.2905A>G', 'ENST00000311506:c.471A>G', 'ENST00000326270:c.2206A>G', 'ENST00000303375:c.3639A>G', 'ENST00000310144:c.963C>T', 'ENST00000571293:c.1146A>G', 'ENST00000573646:c.198A>G', 'ENST00000573646:c.1178T>A', 'ENST00000403627:c.436T>C', 'ENST00000255557:c.1553C>A', 'ENST00000255557:c.1556T>C', 'ENST00000360141:c.612A>G', 'ENST00000301585:c.418C>T', 'ENST00000329783:c.408T>C', 'ENST00000245544:c.806C>T', 'ENST00000245544:c.1811C>T', 'ENST00000245539:c.232C>T', 'ENST00000314256:c.2230C>T', 'ENST00000314256:c.3814G>C', 'ENST00000333213:c.1077G>C', 'ENST00000333213:c.1158G>C', 'ENST00000293218:c.1248A>G', 'ENST00000293218:c.1902A>G', 'ENST00000293218:c.2427C>T', 'ENST00000327490:c.395T>C', 'ENST00000358156:c.552T>C', 'ENST00000301624:c.3116A>C', 'ENST00000340363:c.356T>C', 'ENST00000302262:c.543T>C', 'ENST00000302262:c.815A>G', 'ENST00000302262:c.1422G>A', 'ENST00000302262:c.2352A>G', 'ENST00000302262:c.2772G>A', 'ENST00000319921:c.519G>A', 'ENST00000319921:c.594A>G', 'ENST00000456466:c.3276A>G', 'ENST00000456466:c.3540C>A', 'ENST00000456466:c.3957G>C', 'ENST00000456466:c.4135A>G', 'ENST00000456466:c.4163C>G', 'ENST00000508628:c.4942G>A', 'ENST00000336301:c.1220G>A', 'ENST00000336301:c.1464G>C', 'ENST00000336301:c.4689G>A', 'ENST00000336301:c.7890C>T', 'ENST00000306801:c.1631C>T', 'ENST00000306801:c.1880A>G', 'ENST00000306801:c.3479C>T', 'ENST00000329214:c.766T>C', 'ENST00000329214:c.784C>G', 'ENST00000329138:c.1224A>G', 'ENST00000329138:c.1869T>C', 'ENST00000329138:c.1920T>C', 'ENST00000329138:c.2332G>T', 'ENST00000329138:c.2373C>T', 'ENST00000333676:c.458T>C', 'ENST00000331531:c.384T>C', 'ENST00000392339:c.1054T>C', 'ENST00000575578:c.289A>G', 'ENST00000269373:c.85C>G', 'ENST00000355528:c.3420A>G', 'ENST00000261598:c.363G>C', 'ENST00000217652:c.790G>A', 'ENST00000262126:c.2693G>A', 'ENST00000262126:c.2957A>G', 'ENST00000325971:c.3549C>T', 'ENST00000262173:c.1241C>T', 'ENST00000256413:c.1177T>C', 'ENST00000238508:c.795C>T', 'ENST00000295211:c.302G>A', 'ENST00000299687:c.4507T>C', 'ENST00000299687:c.6444G>A', 'ENST00000253506:c.1155T>G', 'ENST00000451882:c.340G>T', 'ENST00000306735:c.964A>C', 'ENST00000333511:c.116A>G', 'ENST00000251289:c.537G>A', 'ENST00000263094:c.2055A>G', 'ENST00000263094:c.3258C>T', 'ENST00000263094:c.3759A>G', 'ENST00000263094:c.4277G>A', 'ENST00000263094:c.4470A>G', 'ENST00000263094:c.4811G>C', 'ENST00000263094:c.6216G>A', 'ENST00000263094:c.6364G>T', 'ENST00000263094:c.6390C>T', 'ENST00000313093:c.643T>C', 'ENST00000313093:c.647G>A', 'ENST00000313093:c.1008A>T', 'ENST00000313093:c.1546A>G', 'ENST00000313093:c.1992G>C', 'ENST00000313093:c.2490A>G', 'ENST00000354171:c.143G>A', 'ENST00000320936:c.572T>C', 'ENST00000409293:c.898G>C', 'ENST00000078429:c.1013C>T', 'ENST00000262958:c.698A>G', 'ENST00000221899:c.2279C>T', 'ENST00000262971:c.853C>T', 'ENST00000305232:c.148G>A', 'ENST00000262966:c.1276A>G', 'ENST00000301280:c.2869C>T', 'ENST00000159111:c.566T>C', 'ENST00000159111:c.1298A>G', 'ENST00000159111:c.2346A>G', 'ENST00000419421:c.458C>T', 'ENST00000245912:c.580A>G', 'ENST00000252840:c.1668A>G', 'ENST00000319670:c.1834A>G', 'ENST00000221283:c.1607A>G', 'ENST00000221573:c.403C>G', 'ENST00000325495:c.1823T>C', 'ENST00000325495:c.2126C>T', 'ENST00000361151:c.2407T>C', 'ENST00000335757:c.580C>T', 'ENST00000458408:c.935G>C', 'ENST00000357901:c.466G>A', 'ENST00000339302:c.656C>G', 'ENST00000586760:c.477G>T', 'ENST00000242783:c.936A>G', 'ENST00000248071:c.418T>C', 'ENST00000248054:c.1470A>G', 'ENST00000397274:c.3266T>C', 'ENST00000397274:c.3857T>C', 'ENST00000394458:c.531G>C', 'ENST00000324894:c.266A>C', 'ENST00000300971:c.1016C>A', 'ENST00000300971:c.1380A>G', 'ENST00000252771:c.2085A>G', 'ENST00000445755:c.98T>G', 'ENST00000262811:c.1983T>C', 'ENST00000222254:c.1537T>C', 'ENST00000222254:c.2511T>C', 'ENST00000407280:c.402G>A', 'ENST00000407280:c.778A>G', 'ENST00000599612:c.314A>G', 'ENST00000599612:c.592C>T', 'ENST00000252809:c.57G>C', 'ENST00000222307:c.617C>G', 'ENST00000594527:c.270G>T', 'ENST00000262815:c.528G>T', 'ENST00000407877:c.1012C>A', 'ENST00000596143:c.1317A>G', 'ENST00000323670:c.464C>T', 'ENST00000262643:c.1494C>T', 'ENST00000342179:c.863G>A', 'ENST00000588258:c.527G>A', 'ENST00000342879:c.1305G>A', 'ENST00000347609:c.381T>C', 'ENST00000262630:c.732A>C', 'ENST00000222270:c.6711C>A', 'ENST00000222270:c.7091A>G', 'ENST00000301159:c.411T>C', 'ENST00000378887:c.356G>C', 'ENST00000292928:c.616A>G', 'ENST00000252699:c.622C>T', 'ENST00000328867:c.2196T>C', 'ENST00000359191:c.409C>T', 'ENST00000326282:c.187T>C', 'ENST00000360675:c.552T>C', 'ENST00000360675:c.734C>G', 'ENST00000291842:c.112T>C', 'ENST00000291842:c.1678A>G', 'ENST00000204005:c.2248A>G', 'ENST00000321702:c.1054C>A', 'ENST00000562255:c.310C>T', 'ENST00000324394:c.1003G>A', 'ENST00000251269:c.863T>A', 'ENST00000270014:c.1235A>G', 'ENST00000270014:c.1346A>G', 'ENST00000434772:c.825G>A', 'ENST00000221327:c.1605A>G', 'ENST00000221327:c.1097G>C', 'ENST00000337392:c.414T>C', 'ENST00000337392:c.1077A>G', 'ENST00000586915:c.626T>C', 'ENST00000221455:c.618A>G', 'ENST00000263275:c.286T>C', 'ENST00000317578:c.2285C>T', 'ENST00000317578:c.2048C>G', 'ENST00000263284:c.711T>C', 'ENST00000263284:c.1223A>G', 'ENST00000318584:c.432C>T', 'ENST00000221922:c.867G>C', 'ENST00000221922:c.1090A>C', 'ENST00000328771:c.2549C>T', 'ENST00000328771:c.2897G>A', 'ENST00000328771:c.3175T>G', 'ENST00000396720:c.713T>C', 'ENST00000396720:c.881A>G', 'ENST00000359009:c.343T>A', 'ENST00000253237:c.257G>T', 'ENST00000200453:c.1098A>G', 'ENST00000200453:c.1215G>C', 'ENST00000200453:c.2058A>G', 'ENST00000221413:c.615C>T', 'ENST00000323906:c.255T>C', 'ENST00000293350:c.842C>G', 'ENST00000293350:c.955A>T', 'ENST00000293350:c.1501G>A', 'ENST00000204637:c.700C>T', 'ENST00000221466:c.1068C>T', 'ENST00000418929:c.285T>C', 'ENST00000418929:c.1842C>T', 'ENST00000418929:c.2715A>G', 'ENST00000309877:c.1611G>C', 'ENST00000221543:c.550A>G', 'ENST00000352066:c.1928T>C', 'ENST00000352066:c.1453G>C', 'ENST00000352066:c.1253C>T', 'ENST00000423777:c.624T>C', 'ENST00000423777:c.739C>T', 'ENST00000334976:c.541C>T', 'ENST00000309244:c.553C>T', 'ENST00000321287:c.1309G>A', 'ENST00000458035:c.2538A>T', 'ENST00000571608:c.1157A>G', 'ENST00000571608:c.1337G>C', 'ENST00000570593:c.655C>T', 'ENST00000201647:c.2062A>G', 'ENST00000263433:c.388C>T', 'ENST00000327042:c.1119A>G', 'ENST00000221665:c.1261A>G', 'ENST00000301073:c.837G>A', 'ENST00000308964:c.729C>T', 'ENST00000321545:c.665A>G', 'ENST00000321545:c.1082T>A', 'ENST00000321545:c.2062A>G', 'ENST00000282286:c.1272A>G', 'ENST00000332854:c.550T>A', 'ENST00000254166:c.1250G>A', 'ENST00000254166:c.1156C>T', 'ENST00000196482:c.619A>G', 'ENST00000335841:c.691A>C', 'ENST00000246015:c.283T>G', 'ENST00000356025:c.247G>C', 'ENST00000329276:c.621T>C', 'ENST00000329276:c.1551T>C', 'ENST00000262919:c.2960C>T', 'ENST00000316562:c.383G>C', 'ENST00000379440:c.672A>G', 'ENST00000481323:c.230C>T', 'ENST00000377709:c.734T>C', 'ENST00000377681:c.1405T>G', 'ENST00000377681:c.1643C>T', 'ENST00000354989:c.625G>A', 'ENST00000354989:c.725A>G', 'ENST00000216962:c.1232A>G', 'ENST00000216962:c.1805T>C', 'ENST00000216962:c.2480G>A', 'ENST00000375730:c.124T>C', 'ENST00000358208:c.1320G>C', 'ENST00000217429:c.162G>C', 'ENST00000217429:c.738C>T', 'ENST00000252011:c.249A>G', 'ENST00000244007:c.2635T>C', 'ENST00000244020:c.949T>C', 'ENST00000372874:c.171G>A', 'ENST00000279035:c.1112G>A', 'ENST00000372622:c.107T>C', 'ENST00000255152:c.985T>C', 'ENST00000322927:c.982G>C', 'ENST00000371917:c.3663T>C', 'ENST00000262982:c.759G>C', 'ENST00000371764:c.626G>T', 'ENST00000371744:c.2932G>C', 'ENST00000361573:c.1017T>G', 'ENST00000289431:c.1365C>T', 'ENST00000371325:c.316C>A', 'ENST00000265626:c.494A>G', 'ENST00000344018:c.711C>T', 'ENST00000266070:c.5028A>G', 'ENST00000370349:c.288A>G', 'ENST00000370349:c.869A>G', 'ENST00000318100:c.3101G>A', 'ENST00000266077:c.424G>A', 'ENST00000342101:c.192T>G', 'ENST00000290239:c.3654C>T', 'ENST00000290239:c.4201G>A', 'ENST00000356577:c.7468T>C', 'ENST00000290299:c.538T>C', 'ENST00000399151:c.3437T>G', 'ENST00000288383:c.957C>T', 'ENST00000288383:c.1423G>A', 'ENST00000354250:c.537T>G', 'ENST00000291547:c.553T>C', 'ENST00000340648:c.1380A>G', 'ENST00000291576:c.200G>A', 'ENST00000291576:c.1111T>C', 'ENST00000291576:c.1699A>G', 'ENST00000291576:c.2078T>C', 'ENST00000291577:c.110T>C', 'ENST00000359568:c.2218G>A', 'ENST00000359568:c.2663T>C', 'ENST00000359568:c.3035C>G', 'ENST00000359568:c.3220T>C', 'ENST00000291705:c.244C>G', 'ENST00000207636:c.573C>G', 'ENST00000320602:c.1686C>T', 'ENST00000320602:c.1687G>A', 'ENST00000390284:c.286C>T', 'ENST00000390284:c.314T>C', 'ENST00000390285:c.213C>G', 'ENST00000390285:c.273T>G', 'ENST00000390285:c.523A>G', 'ENST00000390287:c.153T>A', 'ENST00000427632:c.352A>G', 'ENST00000390294:c.266T>G', 'ENST00000390295:c.271A>C', 'ENST00000390295:c.324T>C', 'ENST00000360412:c.1543A>C', 'ENST00000360412:c.1382G>A', 'ENST00000390305:c.74T>C', 'ENST00000390305:c.343T>C', 'ENST00000390306:c.189T>C', 'ENST00000390308:c.264G>T', 'ENST00000390308:c.447G>A', 'ENST00000390310:c.345T>C', 'ENST00000390312:c.254G>T', 'ENST00000390330:c.41C>T', 'ENST00000341976:c.470T>G', 'ENST00000263119:c.1840T>C', 'ENST00000263119:c.3855G>A', 'ENST00000314328:c.1187A>G', 'ENST00000314328:c.3136G>A', 'ENST00000215917:c.309G>A', 'ENST00000338754:c.541G>C', 'ENST00000310624:c.2265T>C', 'ENST00000310624:c.2447A>C', 'ENST00000310624:c.2817A>G', 'ENST00000323630:c.1196C>T', 'ENST00000331728:c.1323C>G', 'ENST00000400288:c.1069T>C', 'ENST00000400288:c.3365T>C', 'ENST00000397147:c.999T>C', 'ENST00000262825:c.2179A>G', 'ENST00000402077:c.427C>T', 'ENST00000248924:c.171C>T', 'ENST00000215957:c.1681G>T', 'ENST00000216064:c.2041A>G', 'ENST00000333467:c.229A>G', 'ENST00000333467:c.402T>C', 'ENST00000333467:c.482C>A', 'ENST00000333467:c.990C>T', 'ENST00000348946:c.256G>C', 'ENST00000348946:c.440G>C', 'ENST00000348946:c.488A>G', 'ENST00000348946:c.490G>C', 'ENST00000337304:c.947A>C', 'ENST00000327492:c.941G>A', 'ENST00000216254:c.692C>T', 'ENST00000402966:c.458T>C', 'ENST00000249005:c.1176G>A', 'ENST00000249005:c.1092C>G', 'ENST00000249005:c.298A>G', 'ENST00000329563:c.665A>G', 'ENST00000350028:c.568A>G', 'ENST00000350028:c.937C>T', 'ENST00000350028:c.1174T>C', 'ENST00000350028:c.1190A>G', 'ENST00000338758:c.236T>C', 'ENST00000347635:c.1534T>C', 'ENST00000381031:c.803T>C', 'ENST00000454366:c.1785T>C', 'ENST00000361034:c.561T>C', 'ENST00000337137:c.566C>G', 'ENST00000216268:c.1002T>C', 'ENST00000216268:c.1050A>G', 'ENST00000216268:c.1605A>G', 'ENST00000216268:c.1735A>G', 'ENST00000216268:c.1809C>T', 'ENST00000216268:c.3303T>C', 'ENST00000328268:c.957T>G', 'ENST00000380903:c.558C>A', 'ENST00000216061:c.2473G>C', 'ENST00000299821:c.923C>T', 'ENST00000252785:c.809A>C', 'ENST00000252785:c.235G>C']\n",
      "False variants list: ['ENST00000379370:c.4889C>T', 'ENST00000361923:c.3205A>G', 'ENST00000377403:c.2420A>G', 'ENST00000340381:c.1745C>T', 'ENST00000375153:c.687G>A', 'ENST00000361314:c.50G>T', 'ENST00000316485:c.3618C>T', 'ENST00000316485:c.3646G>A', 'ENST00000370894:c.266G>A', 'ENST00000316005:c.780T>C', 'ENST00000423855:c.442C>T', 'ENST00000441735:c.606G>A', 'ENST00000256594:c.899G>A', 'ENST00000583061:c.201C>G', 'ENST00000581822:c.924C>G', 'ENST00000271583:c.643T>C', 'ENST00000367240:c.677C>G', 'ENST00000366711:c.136G>C', 'ENST00000263663:c.1226T>C', 'ENST00000263663:c.1239A>G', 'ENST00000288548:c.1616C>T', 'ENST00000599234:c.121T>C', 'ENST00000378661:c.1301C>G', 'ENST00000378661:c.1066A>C', 'ENST00000378661:c.880G>A', 'ENST00000406134:c.2806A>G', 'ENST00000233623:c.90C>T', 'ENST00000233838:c.1299C>T', 'ENST00000483379:c.199T>C', 'ENST00000343761:c.432T>C', 'ENST00000408939:c.518G>A', 'ENST00000234453:c.801A>G', 'ENST00000397033:c.2275A>G', 'ENST00000408957:c.1579C>T', 'ENST00000287647:c.1307A>G', 'ENST00000306077:c.758A>T', 'ENST00000253693:c.635G>A', 'ENST00000571492:c.1600C>G', 'ENST00000571492:c.1147C>G', 'ENST00000571492:c.625G>C', 'ENST00000571492:c.558G>C', 'ENST00000571109:c.558G>C', 'ENST00000571109:c.481C>G', 'ENST00000571109:c.442C>G', 'ENST00000570345:c.767A>T', 'ENST00000571614:c.1552A>T', 'ENST00000571614:c.567C>G', 'ENST00000571614:c.521A>T', 'ENST00000608285:c.270A>T', 'ENST00000295956:c.2522G>A', 'ENST00000295956:c.2658C>T', 'ENST00000295956:c.3634G>A', 'ENST00000464300:c.199G>A', 'ENST00000251772:c.2061A>G', 'ENST00000251772:c.3108C>T', 'ENST00000296266:c.2288A>C', 'ENST00000315691:c.1324C>T', 'ENST00000242810:c.422A>T', 'ENST00000242810:c.1097C>T', 'ENST00000287546:c.2931T>C', 'ENST00000608764:c.299A>T', 'ENST00000608343:c.2716A>T', 'ENST00000608343:c.2645G>C', 'ENST00000608343:c.2380A>T', 'ENST00000608343:c.2128A>T', 'ENST00000608343:c.1927T>A', 'ENST00000608343:c.366G>C', 'ENST00000326756:c.1486T>C', 'ENST00000264501:c.3085T>A', 'ENST00000264501:c.10243C>T', 'ENST00000264584:c.1457C>T', 'ENST00000594226:c.275C>A', 'ENST00000296564:c.1344C>T', 'ENST00000296564:c.1394G>C', 'ENST00000274192:c.714G>A', 'ENST00000325366:c.830A>C', 'ENST00000274335:c.1218C>T', 'ENST00000570502:c.106C>T', 'ENST00000575603:c.744G>C', 'ENST00000396137:c.647C>T', 'ENST00000379982:c.1285C>T', 'ENST00000379982:c.1292A>G', 'ENST00000379904:c.1185G>T', 'ENST00000379904:c.1698G>A', 'ENST00000281092:c.468A>G', 'ENST00000281092:c.2136T>C', 'ENST00000316788:c.1030C>T', 'ENST00000378731:c.322G>C', 'ENST00000261797:c.1252A>G', 'ENST00000292599:c.290G>T', 'ENST00000334984:c.1601G>A', 'ENST00000342415:c.617C>T', 'ENST00000349606:c.986A>G', 'ENST00000510784:c.127T>C', 'ENST00000540144:c.291T>C', 'ENST00000304218:c.285G>A', 'ENST00000356530:c.145G>A', 'ENST00000359985:c.336A>G', 'ENST00000289361:c.572G>A', 'ENST00000581376:c.415G>C', 'ENST00000582523:c.250A>T', 'ENST00000376656:c.1341T>C', 'ENST00000422726:c.1078C>G', 'ENST00000412585:c.348G>C', 'ENST00000550481:c.9T>A', 'ENST00000415669:c.177C>T', 'ENST00000374940:c.842G>A', 'ENST00000293748:c.2046G>A', 'ENST00000372569:c.568T>C', 'ENST00000360726:c.1056G>A', 'ENST00000361499:c.3185C>T', 'ENST00000287097:c.2595G>A', 'ENST00000369066:c.1365A>C', 'ENST00000606766:c.2450C>G', 'ENST00000606766:c.2411C>G', 'ENST00000606766:c.2194G>C', 'ENST00000420283:c.146C>A', 'ENST00000275248:c.341A>G', 'ENST00000353796:c.372T>C', 'ENST00000313324:c.949G>C', 'ENST00000313324:c.848G>A', 'ENST00000223145:c.653C>A', 'ENST00000396667:c.876C>G', 'ENST00000355095:c.948C>A', 'ENST00000359626:c.434G>A', 'ENST00000573728:c.2911G>A', 'ENST00000573321:c.1021G>C', 'ENST00000574873:c.428C>G', 'ENST00000574873:c.130G>C', 'ENST00000307569:c.1914T>C', 'ENST00000331242:c.599A>G', 'ENST00000356239:c.1622G>T', 'ENST00000223210:c.3269C>T', 'ENST00000265807:c.456A>G', 'ENST00000265807:c.1058A>G', 'ENST00000311922:c.786C>T', 'ENST00000562335:c.438C>G', 'ENST00000563699:c.95C>A', 'ENST00000562358:c.594C>G', 'ENST00000242310:c.4299G>A', 'ENST00000600472:c.170C>T', 'ENST00000277082:c.203G>C', 'ENST00000355295:c.744T>C', 'ENST00000259400:c.204T>C', 'ENST00000373360:c.684C>T', 'ENST00000373360:c.780C>T', 'ENST00000350499:c.641C>T', 'ENST00000563527:c.840C>G', 'ENST00000379215:c.269C>T', 'ENST00000376356:c.1916C>T', 'ENST00000361807:c.948G>A', 'ENST00000573291:c.1238T>A', 'ENST00000342551:c.1356C>G', 'ENST00000605966:c.191G>A', 'ENST00000595757:c.434T>C', 'ENST00000372273:c.245G>T', 'ENST00000372037:c.541C>A', 'ENST00000381697:c.701C>T', 'ENST00000352303:c.240C>T', 'ENST00000352303:c.244T>C', 'ENST00000352303:c.270T>C', 'ENST00000312221:c.339G>A', 'ENST00000254579:c.761G>A', 'ENST00000254579:c.1134G>T', 'ENST00000254579:c.1653C>T', 'ENST00000528848:c.1270G>A', 'ENST00000528848:c.1097A>C', 'ENST00000528848:c.636T>C', 'ENST00000528848:c.622A>C', 'ENST00000571727:c.673T>A', 'ENST00000572354:c.514C>G', 'ENST00000338965:c.1194A>G', 'ENST00000418331:c.1051T>C', 'ENST00000418331:c.1605G>A', 'ENST00000279230:c.1339G>A', 'ENST00000312579:c.840C>G', 'ENST00000318312:c.429G>A', 'ENST00000308831:c.349C>T', 'ENST00000294309:c.1844G>T', 'ENST00000570915:c.2055G>A', 'ENST00000573902:c.175C>G', 'ENST00000595598:c.693G>A', 'ENST00000601049:c.857G>C', 'ENST00000075120:c.1015A>G', 'ENST00000308721:c.1123C>T', 'ENST00000182377:c.346G>A', 'ENST00000301072:c.521T>C', 'ENST00000301072:c.548A>G', 'ENST00000257934:c.165C>A', 'ENST00000550300:c.411C>T', 'ENST00000280379:c.2033G>A', 'ENST00000280774:c.1441T>C', 'ENST00000267197:c.4848G>A', 'ENST00000321867:c.2492C>T', 'ENST00000228289:c.730C>T', 'ENST00000283558:c.1037A>G', 'ENST00000344113:c.15768C>A', 'ENST00000545908:c.293T>C', 'ENST00000303562:c.737G>C', 'ENST00000340722:c.328G>A', 'ENST00000305631:c.745G>A', 'ENST00000603632:c.1044C>G', 'ENST00000605226:c.39G>C', 'ENST00000605760:c.45A>T', 'ENST00000605760:c.27C>G', 'ENST00000605760:c.4T>A', 'ENST00000603359:c.15C>G', 'ENST00000603359:c.8G>C', 'ENST00000604234:c.3A>T', 'ENST00000603725:c.3A>T', 'ENST00000605709:c.5T>A', 'ENST00000604405:c.218T>A', 'ENST00000604405:c.189A>T', 'ENST00000604405:c.183C>G', 'ENST00000604405:c.130G>C', 'ENST00000604405:c.114C>G', 'ENST00000604008:c.384C>G', 'ENST00000604008:c.371C>G', 'ENST00000604008:c.343G>C', 'ENST00000604008:c.286A>C', 'ENST00000604008:c.251T>C', 'ENST00000604008:c.131T>A', 'ENST00000604008:c.111T>C', 'ENST00000604008:c.92C>G', 'ENST00000605118:c.412C>G', 'ENST00000605118:c.265G>C', 'ENST00000605118:c.230T>A', 'ENST00000604787:c.215A>T', 'ENST00000604973:c.212C>A', 'ENST00000605303:c.209T>A', 'ENST00000605303:c.208A>T', 'ENST00000604930:c.198C>G', 'ENST00000604985:c.200G>C', 'ENST00000604985:c.166C>G', 'ENST00000605000:c.417C>G', 'ENST00000605000:c.399G>C', 'ENST00000605000:c.254C>G', 'ENST00000605000:c.240C>A', 'ENST00000605000:c.216C>G', 'ENST00000605000:c.127T>A', 'ENST00000603600:c.317T>A', 'ENST00000604045:c.151T>A', 'ENST00000604045:c.136A>T', 'ENST00000605215:c.381C>G', 'ENST00000603423:c.213A>T', 'ENST00000603423:c.156G>C', 'ENST00000603423:c.132C>G', 'ENST00000603210:c.356C>G', 'ENST00000605681:c.237T>A', 'ENST00000605681:c.170A>T', 'ENST00000605681:c.160A>T', 'ENST00000605716:c.351C>G', 'ENST00000605716:c.318G>C', 'ENST00000605716:c.213A>T', 'ENST00000605716:c.170G>C', 'ENST00000605716:c.124G>C', 'ENST00000603911:c.234G>C', 'ENST00000603412:c.454A>T', 'ENST00000603412:c.451G>C', 'ENST00000603412:c.446T>A', 'ENST00000603412:c.405C>G', 'ENST00000603412:c.355C>G', 'ENST00000362065:c.989G>A', 'ENST00000267731:c.2971C>G', 'ENST00000263791:c.1710A>G', 'ENST00000416165:c.963C>A', 'ENST00000261842:c.593T>C', 'ENST00000261893:c.421A>T', 'ENST00000178640:c.1284C>T', 'ENST00000341418:c.1668C>T', 'ENST00000361243:c.3265C>G', 'ENST00000268138:c.964C>T', 'ENST00000268138:c.1309C>T', 'ENST00000357742:c.197G>A', 'ENST00000026218:c.128A>G', 'ENST00000301724:c.488C>G', 'ENST00000219069:c.1805G>C', 'ENST00000287667:c.3629A>G', 'ENST00000529716:c.813G>A', 'ENST00000262518:c.3337A>C', 'ENST00000300850:c.2738G>A', 'ENST00000562438:c.479C>G', 'ENST00000356003:c.1265G>A', 'ENST00000389386:c.437T>C', 'ENST00000268699:c.719A>G', 'ENST00000263088:c.1861C>T', 'ENST00000293825:c.539C>A', 'ENST00000329805:c.1552C>T', 'ENST00000379774:c.1101A>G', 'ENST00000317635:c.740A>C', 'ENST00000316920:c.324T>C', 'ENST00000316920:c.365G>A', 'ENST00000316920:c.380C>T', 'ENST00000316920:c.403G>T', 'ENST00000316920:c.408C>T', 'ENST00000316920:c.426C>T', 'ENST00000316920:c.527C>T', 'ENST00000316920:c.797C>T', 'ENST00000316920:c.869C>T', 'ENST00000316920:c.926C>T', 'ENST00000316920:c.980C>A', 'ENST00000316920:c.995C>T', 'ENST00000316920:c.1000G>A', 'ENST00000319524:c.95C>T', 'ENST00000268763:c.733G>T', 'ENST00000573233:c.535C>G', 'ENST00000356175:c.551C>T', 'ENST00000356175:c.1085G>A', 'ENST00000561703:c.1269T>A', 'ENST00000561703:c.1252G>C', 'ENST00000561703:c.816C>G', 'ENST00000336308:c.568G>A', 'ENST00000258955:c.440G>A', 'ENST00000258955:c.667A>G', 'ENST00000574715:c.2027A>T', 'ENST00000574715:c.729T>A', 'ENST00000573633:c.2360C>G', 'ENST00000293217:c.1226C>G', 'ENST00000225777:c.141G>T', 'ENST00000300682:c.47G>T', 'ENST00000302262:c.2557G>A', 'ENST00000456466:c.3726G>A', 'ENST00000306801:c.596C>G', 'ENST00000318388:c.200T>C', 'ENST00000506447:c.301G>C', 'ENST00000269142:c.2614A>G', 'ENST00000269142:c.2798T>C', 'ENST00000585477:c.733G>T', 'ENST00000336078:c.4094C>T', 'ENST00000269518:c.260G>A', 'ENST00000269499:c.1189G>A', 'ENST00000263094:c.794A>G', 'ENST00000263094:c.2976A>G', 'ENST00000415183:c.2137T>C', 'ENST00000253451:c.481G>A', 'ENST00000253451:c.511T>C', 'ENST00000335757:c.837A>G', 'ENST00000321949:c.957G>A', 'ENST00000262815:c.339G>A', 'ENST00000404801:c.1386C>G', 'ENST00000007510:c.1263G>A', 'ENST00000246533:c.763T>G', 'ENST00000333987:c.1562C>T', 'ENST00000333987:c.1816T>C', 'ENST00000263372:c.261C>G', 'ENST00000321702:c.1075T>C', 'ENST00000609082:c.458A>C', 'ENST00000609082:c.688G>A', 'ENST00000608549:c.433C>G', 'ENST00000270014:c.1637G>A', 'ENST00000434772:c.667C>A', 'ENST00000552360:c.271G>T', 'ENST00000376716:c.2497G>A', 'ENST00000344085:c.61G>A', 'ENST00000243639:c.338C>T', 'ENST00000575918:c.801G>C', 'ENST00000570701:c.1878C>G', 'ENST00000570701:c.1762C>G', 'ENST00000575495:c.1615G>C', 'ENST00000571132:c.1120G>C', 'ENST00000571132:c.997C>G', 'ENST00000571132:c.955C>G', 'ENST00000571132:c.930T>A', 'ENST00000571132:c.822G>C', 'ENST00000571132:c.763C>G', 'ENST00000571132:c.721C>G', 'ENST00000576157:c.282C>G', 'ENST00000570715:c.1171A>T', 'ENST00000570715:c.1125G>C', 'ENST00000570715:c.1124C>G', 'ENST00000255613:c.497G>A', 'ENST00000339656:c.1129T>G', 'ENST00000550135:c.379A>C', 'ENST00000550135:c.450A>G', 'ENST00000608843:c.1039T>C', 'ENST00000254166:c.2123T>C', 'ENST00000318100:c.3371T>C', 'ENST00000318100:c.3953A>C', 'ENST00000571089:c.2620C>G', 'ENST00000608896:c.353C>G', 'ENST00000608896:c.219C>G', 'ENST00000318711:c.3435A>G', 'ENST00000215739:c.569G>A', 'ENST00000390287:c.259C>A', 'ENST00000390287:c.345T>G', 'ENST00000390312:c.59G>A', 'ENST00000390312:c.60C>T', 'ENST00000415447:c.144C>G', 'ENST00000215912:c.936C>G', 'ENST00000308521:c.536C>T', 'ENST00000574164:c.371C>G', 'ENST00000574164:c.221G>C', 'ENST00000395676:c.1732A>G']\n",
      "Undetermined variants list: ['ENST00000379407:c.528A>C', 'ENST00000379407:c.1385G>C', 'ENST00000379407:c.1389A>G', 'ENST00000453464:c.1045T>C', 'ENST00000453464:c.816C>T', 'ENST00000339381:c.2301T>C', 'ENST00000378821:c.126G>A', 'ENST00000378821:c.134C>T', 'ENST00000357210:c.350T>C', 'ENST00000378585:c.899C>T', 'ENST00000378567:c.425T>C', 'ENST00000609981:c.302G>T', 'ENST00000278878:c.1996C>T', 'ENST00000270722:c.1646T>C', 'ENST00000378378:c.1206A>G', 'ENST00000378371:c.671C>T', 'ENST00000378371:c.1054T>C', 'ENST00000378371:c.1240G>A', 'ENST00000294600:c.211C>T', 'ENST00000294600:c.240A>G', 'ENST00000294600:c.244C>G', 'ENST00000294600:c.884T>C', 'ENST00000294600:c.1142C>T', 'ENST00000378190:c.817T>C', 'ENST00000377898:c.351C>A', 'ENST00000377898:c.362C>A', 'ENST00000303635:c.1134G>A', 'ENST00000303635:c.1188C>T', 'ENST00000303635:c.1557G>A', 'ENST00000361923:c.1510T>C', 'ENST00000361923:c.2410G>A', 'ENST00000361923:c.2655T>C', 'ENST00000289877:c.942A>G', 'ENST00000289877:c.1335G>A', 'ENST00000377436:c.268A>G', 'ENST00000328089:c.737C>T', 'ENST00000263934:c.438C>G', 'ENST00000294484:c.682G>A', 'ENST00000294484:c.2086G>A', 'ENST00000294485:c.244C>T', 'ENST00000433342:c.1357C>T', 'ENST00000433342:c.1509A>G', 'ENST00000433342:c.1631G>A', 'ENST00000433342:c.1712G>A', 'ENST00000433342:c.1804C>T', 'ENST00000312793:c.133G>C', 'ENST00000312793:c.422T>C', 'ENST00000312793:c.476C>T', 'ENST00000312793:c.621G>T', 'ENST00000312793:c.909G>A', 'ENST00000312793:c.941T>C', 'ENST00000312793:c.2429A>G', 'ENST00000312413:c.706A>G', 'ENST00000332530:c.227A>T', 'ENST00000332530:c.600G>T', 'ENST00000288048:c.787T>C', 'ENST00000357726:c.497T>C', 'ENST00000357726:c.1200C>T', 'ENST00000357726:c.1371T>A', 'ENST00000332296:c.130A>C', 'ENST00000332296:c.755C>T', 'ENST00000332296:c.857C>G', 'ENST00000332296:c.871T>C', 'ENST00000332296:c.1218C>G', 'ENST00000332296:c.1228G>C', 'ENST00000240189:c.1417T>G', 'ENST00000235347:c.1286C>T', 'ENST00000330881:c.1424G>A', 'ENST00000355096:c.1247C>A', 'ENST00000376085:c.1329A>G', 'ENST00000376085:c.1217C>T', 'ENST00000294489:c.1009C>G', 'ENST00000235372:c.1369G>A', 'ENST00000358897:c.438G>A', 'ENST00000358897:c.1620C>T', 'ENST00000358897:c.2089G>A', 'ENST00000314668:c.1489A>G', 'ENST00000314668:c.1678A>G', 'ENST00000445566:c.389T>C', 'ENST00000359621:c.322A>C', 'ENST00000375910:c.555A>G', 'ENST00000332305:c.312C>T', 'ENST00000329454:c.86C>T', 'ENST00000329454:c.308C>T', 'ENST00000329454:c.416T>C', 'ENST00000311890:c.1178T>C', 'ENST00000331433:c.42G>A', 'ENST00000331433:c.963A>T', 'ENST00000331433:c.1090T>A', 'ENST00000331433:c.1358G>A', 'ENST00000375679:c.435A>G', 'ENST00000375679:c.603G>C', 'ENST00000375679:c.752C>G', 'ENST00000375679:c.753A>C', 'ENST00000375667:c.536C>T', 'ENST00000375667:c.552T>C', 'ENST00000375667:c.1361T>C', 'ENST00000375667:c.1408A>G', 'ENST00000375667:c.1417C>T', 'ENST00000375534:c.519G>A', 'ENST00000375471:c.143C>T', 'ENST00000375471:c.983G>T', 'ENST00000375448:c.189G>A', 'ENST00000375448:c.271T>C', 'ENST00000375448:c.361G>C', 'ENST00000375448:c.375T>C', 'ENST00000375448:c.850C>T', 'ENST00000361221:c.364G>A', 'ENST00000167825:c.2080T>C', 'ENST00000167825:c.2439C>T', 'ENST00000167825:c.2583T>C', 'ENST00000167825:c.2764A>G', 'ENST00000375406:c.223G>T', 'ENST00000375406:c.279C>A', 'ENST00000375406:c.885C>T', 'ENST00000400664:c.474C>G', 'ENST00000400664:c.530C>A', 'ENST00000400664:c.869C>A', 'ENST00000400664:c.1042T>A', 'ENST00000400664:c.1103A>C', 'ENST00000375121:c.799C>A', 'ENST00000375108:c.277C>T', 'ENST00000375071:c.617C>T', 'ENST00000318220:c.1121C>T', 'ENST00000318220:c.1221A>G', 'ENST00000318220:c.1409C>T', 'ENST00000318220:c.1514C>G', 'ENST00000374832:c.584T>C', 'ENST00000374832:c.1041T>C', 'ENST00000344642:c.588A>C', 'ENST00000337107:c.172C>T', 'ENST00000337107:c.190C>G', 'ENST00000337107:c.208C>T', 'ENST00000337107:c.254C>T', 'ENST00000337107:c.385T>C', 'ENST00000337107:c.457G>C', 'ENST00000337107:c.562G>C', 'ENST00000337107:c.661T>C', 'ENST00000337107:c.799T>C', 'ENST00000166244:c.294C>T', 'ENST00000374642:c.480A>G', 'ENST00000374637:c.373C>T', 'ENST00000374627:c.1554T>C', 'ENST00000354177:c.378G>A', 'ENST00000354177:c.860G>A', 'ENST00000354177:c.1126T>C', 'ENST00000354177:c.1459C>A', 'ENST00000374280:c.2002C>A', 'ENST00000374280:c.2013G>A', 'ENST00000338855:c.216A>G', 'ENST00000338855:c.297A>G', 'ENST00000338855:c.394C>T', 'ENST00000338855:c.697G>A', 'ENST00000338855:c.944A>G', 'ENST00000338855:c.1373G>A', 'ENST00000349618:c.1557C>G', 'ENST00000522111:c.159T>C', 'ENST00000522111:c.617C>G', 'ENST00000289166:c.1414C>T', 'ENST00000289166:c.1413A>G', 'ENST00000234961:c.322G>T', 'ENST00000601321:c.135G>C', 'ENST00000373484:c.587A>G', 'ENST00000294521:c.146T>G', 'ENST00000294521:c.169G>T', 'ENST00000373480:c.797A>G', 'ENST00000361328:c.255C>G', 'ENST00000519684:c.1848T>C', 'ENST00000519684:c.2018A>C', 'ENST00000359858:c.367G>A', 'ENST00000207457:c.1306A>G', 'ENST00000373139:c.505T>G', 'ENST00000296218:c.270C>T', 'ENST00000289248:c.1826C>A', 'ENST00000317713:c.145G>A', 'ENST00000289893:c.246A>G', 'ENST00000289893:c.5006A>C', 'ENST00000331593:c.596A>G', 'ENST00000331593:c.1018C>T', 'ENST00000372816:c.1533C>G', 'ENST00000372638:c.612C>T', 'ENST00000372638:c.392A>G', 'ENST00000372638:c.389G>C', 'ENST00000372638:c.314T>A', 'ENST00000372638:c.273G>T', 'ENST00000372565:c.1216T>C', 'ENST00000539749:c.747C>T', 'ENST00000335282:c.291G>A', 'ENST00000372476:c.2413T>C', 'ENST00000562955:c.1336C>T', 'ENST00000359947:c.811C>T', 'ENST00000359947:c.2146C>A', 'ENST00000359947:c.3751G>A', 'ENST00000359947:c.3931C>T', 'ENST00000359947:c.3979C>T', 'ENST00000359947:c.4636T>C', 'ENST00000359947:c.4648G>A', 'ENST00000359947:c.4852C>T', 'ENST00000359947:c.5923C>T', 'ENST00000372354:c.354A>G', 'ENST00000339355:c.520A>G', 'ENST00000243167:c.469C>A', 'ENST00000243167:c.981T>C', 'ENST00000360032:c.458C>T', 'ENST00000360032:c.578C>T', 'ENST00000334194:c.1173C>T', 'ENST00000334194:c.1176C>T', 'ENST00000294337:c.419G>A', 'ENST00000294337:c.485A>T', 'ENST00000294337:c.584G>T', 'ENST00000294337:c.722T>C', 'ENST00000294337:c.1201A>C', 'ENST00000294337:c.1314T>C', 'ENST00000334793:c.3221G>C', 'ENST00000312553:c.102G>A', 'ENST00000312553:c.523G>A', 'ENST00000312553:c.1408G>A', 'ENST00000312553:c.1566T>C', 'ENST00000398219:c.639T>C', 'ENST00000398219:c.729C>T', 'ENST00000339553:c.823A>G', 'ENST00000339553:c.968G>C', 'ENST00000339553:c.1225A>G', 'ENST00000339553:c.2131A>G', 'ENST00000409996:c.2062C>T', 'ENST00000409996:c.2226T>A', 'ENST00000448308:c.434G>A', 'ENST00000358193:c.430G>T', 'ENST00000358193:c.667T>C', 'ENST00000302118:c.448C>T', 'ENST00000302118:c.1316A>G', 'ENST00000302118:c.1670A>G', 'ENST00000302118:c.1710G>A', 'ENST00000302118:c.2299G>A', 'ENST00000371244:c.417G>A', 'ENST00000371244:c.534C>T', 'ENST00000361249:c.373C>A', 'ENST00000361249:c.1550G>T', 'ENST00000361249:c.1551C>T', 'ENST00000361249:c.1599T>C', 'ENST00000361249:c.1777G>C', 'ENST00000371225:c.1166C>T', 'ENST00000371225:c.856A>C', 'ENST00000303721:c.303T>G', 'ENST00000303721:c.690G>A', 'ENST00000303721:c.1031C>T', 'ENST00000316485:c.384C>T', 'ENST00000316485:c.483T>C', 'ENST00000307297:c.512G>C', 'ENST00000371158:c.5361C>T', 'ENST00000498273:c.541G>A', 'ENST00000498273:c.1032T>C', 'ENST00000498273:c.1220G>A', 'ENST00000498273:c.1282A>C', 'ENST00000371079:c.555C>T', 'ENST00000290039:c.487G>A', 'ENST00000290039:c.1194T>C', 'ENST00000290039:c.2954G>A', 'ENST00000263441:c.1618C>T', 'ENST00000344610:c.598A>G', 'ENST00000344610:c.940A>G', 'ENST00000344610:c.1301T>C', 'ENST00000347310:c.180G>T', 'ENST00000347310:c.1100T>C', 'ENST00000262345:c.1354T>C', 'ENST00000262345:c.2569G>A', 'ENST00000263187:c.393G>A', 'ENST00000263187:c.1679A>T', 'ENST00000344720:c.1557G>A', 'ENST00000330010:c.838G>A', 'ENST00000271029:c.2073C>T', 'ENST00000370665:c.42G>C', 'ENST00000370665:c.185G>A', 'ENST00000370662:c.819T>C', 'ENST00000234701:c.544C>T', 'ENST00000234701:c.1421A>G', 'ENST00000234701:c.1922T>C', 'ENST00000234701:c.2787T>C', 'ENST00000370456:c.1084G>T', 'ENST00000370456:c.1123C>T', 'ENST00000370456:c.1156A>G', 'ENST00000370456:c.1652A>T', 'ENST00000370425:c.792C>T', 'ENST00000370425:c.732A>G', 'ENST00000362005:c.602C>A', 'ENST00000362005:c.1132A>C', 'ENST00000370378:c.1565G>A', 'ENST00000370378:c.2767A>G', 'ENST00000370378:c.3076C>A', 'ENST00000557479:c.288T>C', 'ENST00000271227:c.558T>C', 'ENST00000271227:c.1414G>A', 'ENST00000306121:c.114T>C', 'ENST00000306121:c.359G>A', 'ENST00000306121:c.376T>A', 'ENST00000370184:c.1490G>A', 'ENST00000263174:c.1113C>A', 'ENST00000315033:c.1007G>A', 'ENST00000294728:c.2180C>T', 'ENST00000294728:c.2309G>A', 'ENST00000414303:c.424C>T', 'ENST00000271311:c.674G>T', 'ENST00000271311:c.929G>A', 'ENST00000271311:c.1061T>C', 'ENST00000271311:c.1467G>A', 'ENST00000271311:c.1788A>G', 'ENST00000369939:c.309G>A', 'ENST00000369939:c.324T>C', 'ENST00000369939:c.439A>G', 'ENST00000369939:c.798C>T', 'ENST00000369939:c.3209T>C', 'ENST00000271332:c.1612T>C', 'ENST00000271332:c.2386T>C', 'ENST00000271332:c.2968T>C', 'ENST00000271332:c.5197C>T', 'ENST00000271332:c.5374G>A', 'ENST00000271332:c.6241C>A', 'ENST00000271332:c.8689A>C', 'ENST00000271332:c.8702C>T', 'ENST00000256593:c.257G>A', 'ENST00000256593:c.440T>C', 'ENST00000331565:c.653T>C', 'ENST00000331565:c.654G>A', 'ENST00000271331:c.216G>A', 'ENST00000369771:c.1129A>G', 'ENST00000369771:c.787G>T', 'ENST00000369771:c.736A>G', 'ENST00000343320:c.1109A>G', 'ENST00000343320:c.1155T>C', 'ENST00000343320:c.1389T>G', 'ENST00000369702:c.903T>C', 'ENST00000307546:c.2559A>G', 'ENST00000369518:c.2925A>C', 'ENST00000256592:c.108A>G', 'ENST00000310260:c.561G>A', 'ENST00000369502:c.302C>T', 'ENST00000369502:c.629G>C', 'ENST00000369500:c.934A>G', 'ENST00000393203:c.975A>G', 'ENST00000393203:c.976T>A', 'ENST00000256652:c.190T>C', 'ENST00000256652:c.1301A>G', 'ENST00000256652:c.1633C>G', 'ENST00000256652:c.1711A>G', 'ENST00000325945:c.89T>C', 'ENST00000235547:c.1157C>T', 'ENST00000235547:c.1245C>A', 'ENST00000369365:c.2700C>G', 'ENST00000584027:c.352A>G', 'ENST00000584027:c.473C>T', 'ENST00000584027:c.621A>G', 'ENST00000585156:c.6692C>G', 'ENST00000585156:c.6471G>C', 'ENST00000583866:c.1403A>G', 'ENST00000577480:c.1810T>G', 'ENST00000309471:c.1175A>C', 'ENST00000309471:c.2355T>G', 'ENST00000578156:c.857C>T', 'ENST00000583401:c.330G>C', 'ENST00000583061:c.381C>G', 'ENST00000583061:c.333G>C', 'ENST00000582010:c.712G>T', 'ENST00000271643:c.2678T>C', 'ENST00000271643:c.2720G>A', 'ENST00000368947:c.973A>G', 'ENST00000447555:c.114C>T', 'ENST00000271636:c.1587G>A', 'ENST00000271636:c.2045C>G', 'ENST00000454109:c.826C>T', 'ENST00000368801:c.8419G>C', 'ENST00000368801:c.8413A>C', 'ENST00000368801:c.8407T>C', 'ENST00000368801:c.8401C>T', 'ENST00000368801:c.8385T>C', 'ENST00000368801:c.8358G>A', 'ENST00000368801:c.8348G>A', 'ENST00000368801:c.8320C>G', 'ENST00000368801:c.8317C>T', 'ENST00000368801:c.8299C>T', 'ENST00000368801:c.8139T>C', 'ENST00000368801:c.7959A>G', 'ENST00000368801:c.6371C>T', 'ENST00000368801:c.2472G>C', 'ENST00000368801:c.2302C>T', 'ENST00000368801:c.2067G>A', 'ENST00000368801:c.1888G>A', 'ENST00000368801:c.1632A>C', 'ENST00000368801:c.1550G>A', 'ENST00000368801:c.1494A>G', 'ENST00000368801:c.1356G>A', 'ENST00000368801:c.1203A>G', 'ENST00000368801:c.1129T>C', 'ENST00000368801:c.1060C>A', 'ENST00000368801:c.895C>A', 'ENST00000368801:c.890C>A', 'ENST00000368801:c.637T>C', 'ENST00000368801:c.634C>T', 'ENST00000368801:c.330G>A', 'ENST00000334269:c.295G>A', 'ENST00000368790:c.193C>T', 'ENST00000368790:c.277C>T', 'ENST00000368764:c.773C>G', 'ENST00000368742:c.142A>G', 'ENST00000368742:c.333A>C', 'ENST00000324978:c.84G>A', 'ENST00000324978:c.407C>T', 'ENST00000344086:c.500G>A', 'ENST00000368480:c.627G>A', 'ENST00000368480:c.721T>C', 'ENST00000295542:c.246C>T', 'ENST00000295542:c.1630A>C', 'ENST00000368406:c.512A>T', 'ENST00000334634:c.861G>A', 'ENST00000368318:c.1007T>C', 'ENST00000255013:c.388G>A', 'ENST00000255013:c.1382C>T', 'ENST00000368236:c.508G>T', 'ENST00000368223:c.4360C>T', 'ENST00000368223:c.3957C>T', 'ENST00000368223:c.3532G>C', 'ENST00000368223:c.3435C>T', 'ENST00000292357:c.816T>C', 'ENST00000292357:c.2770G>A', 'ENST00000292357:c.2823A>G', 'ENST00000337428:c.1639G>A', 'ENST00000289429:c.1229C>T', 'ENST00000368155:c.317A>G', 'ENST00000334438:c.716T>C', 'ENST00000334438:c.411A>G', 'ENST00000314902:c.405A>C', 'ENST00000314902:c.156C>T', 'ENST00000368152:c.571G>A', 'ENST00000368152:c.647A>G', 'ENST00000368152:c.715C>T', 'ENST00000302617:c.754G>A', 'ENST00000302617:c.543C>T', 'ENST00000334632:c.935C>T', 'ENST00000334632:c.255T>C', 'ENST00000334632:c.171T>C', 'ENST00000368150:c.426C>T', 'ENST00000368150:c.270G>A', 'ENST00000368150:c.198G>A', 'ENST00000368150:c.179T>C', 'ENST00000361284:c.881A>C', 'ENST00000368145:c.743C>T', 'ENST00000368145:c.682C>T', 'ENST00000368144:c.571C>T', 'ENST00000335094:c.898G>A', 'ENST00000335094:c.802A>G', 'ENST00000335094:c.753T>C', 'ENST00000335094:c.601T>C', 'ENST00000335094:c.278C>T', 'ENST00000368121:c.154G>A', 'ENST00000368121:c.327G>A', 'ENST00000504970:c.702A>C', 'ENST00000423932:c.223G>T', 'ENST00000423932:c.346A>G', 'ENST00000334857:c.546G>A', 'ENST00000255040:c.529A>G', 'ENST00000368088:c.1178C>T', 'ENST00000368088:c.1339C>T', 'ENST00000361216:c.2348C>T', 'ENST00000368081:c.540A>G', 'ENST00000368081:c.719G>A', 'ENST00000368081:c.1360G>A', 'ENST00000368081:c.1509C>T', 'ENST00000368081:c.1551G>A', 'ENST00000368081:c.2118C>T', 'ENST00000368061:c.1611A>G', 'ENST00000271450:c.538A>G', 'ENST00000336830:c.350G>T', 'ENST00000361897:c.966C>T', 'ENST00000271385:c.915G>C', 'ENST00000367758:c.185A>G', 'ENST00000367758:c.1012C>T', 'ENST00000367758:c.1071C>T', 'ENST00000367758:c.1470T>C', 'ENST00000209929:c.742C>T', 'ENST00000209929:c.743A>G', 'ENST00000355305:c.2014C>T', 'ENST00000355305:c.2398A>G', 'ENST00000367725:c.509G>A', 'ENST00000367723:c.613T>C', 'ENST00000367701:c.735C>T', 'ENST00000239462:c.348A>G', 'ENST00000239462:c.1355C>T', 'ENST00000239462:c.2532T>C', 'ENST00000239462:c.2902C>T', 'ENST00000239462:c.2935C>T', 'ENST00000367618:c.1951A>C', 'ENST00000367615:c.1023C>T', 'ENST00000294848:c.2414G>A', 'ENST00000367607:c.1465A>C', 'ENST00000367588:c.246T>C', 'ENST00000367587:c.1529C>T', 'ENST00000367587:c.1625G>T', 'ENST00000367587:c.1871C>T', 'ENST00000367587:c.2551A>G', 'ENST00000457152:c.80T>G', 'ENST00000357570:c.4173T>C', 'ENST00000357570:c.6028G>A', 'ENST00000339948:c.541C>G', 'ENST00000339948:c.332G>A', 'ENST00000367565:c.674C>T', 'ENST00000264144:c.409G>A', 'ENST00000367482:c.552G>A', 'ENST00000367482:c.1083A>G', 'ENST00000367482:c.1880G>C', 'ENST00000391995:c.516G>A', 'ENST00000367416:c.509G>T', 'ENST00000367416:c.763A>G', 'ENST00000251424:c.986G>A', 'ENST00000367399:c.1074A>G', 'ENST00000367393:c.243G>T', 'ENST00000335211:c.435G>A', 'ENST00000335211:c.487T>C', 'ENST00000335211:c.535G>A', 'ENST00000295591:c.10006T>C', 'ENST00000295591:c.10189G>A', 'ENST00000335211:c.10784C>T', 'ENST00000263946:c.287C>T', 'ENST00000263946:c.1031A>G', 'ENST00000263946:c.1169C>T', 'ENST00000263946:c.2114C>T', 'ENST00000367282:c.375G>A', 'ENST00000367282:c.430A>G', 'ENST00000367282:c.595T>C', 'ENST00000330493:c.1244T>C', 'ENST00000367240:c.565G>C', 'ENST00000272198:c.1112C>T', 'ENST00000309502:c.717T>G', 'ENST00000341360:c.508A>G', 'ENST00000341360:c.715T>C', 'ENST00000414478:c.754C>T', 'ENST00000367187:c.2609C>T', 'ENST00000367175:c.4094C>T', 'ENST00000338515:c.1882C>A', 'ENST00000338515:c.2107C>T', 'ENST00000331830:c.717G>A', 'ENST00000331830:c.1381C>T', 'ENST00000331830:c.2259A>G', 'ENST00000367167:c.707C>T', 'ENST00000329800:c.414A>G', 'ENST00000329800:c.669C>T', 'ENST00000329800:c.1155C>T', 'ENST00000580607:c.230C>G', 'ENST00000579436:c.121A>C', 'ENST00000451804:c.540A>G', 'ENST00000451804:c.621G>A', 'ENST00000294997:c.75C>T', 'ENST00000294997:c.178A>G', 'ENST00000294997:c.215G>A', 'ENST00000294997:c.247A>G', 'ENST00000294997:c.1036A>G', 'ENST00000009105:c.899A>G', 'ENST00000261458:c.729G>C', 'ENST00000294829:c.1189A>G', 'ENST00000294829:c.2082A>G', 'ENST00000294829:c.2161C>T', 'ENST00000391894:c.645C>T', 'ENST00000259154:c.319T>G', 'ENST00000366933:c.637G>A', 'ENST00000366910:c.679A>G', 'ENST00000366903:c.1847T>C', 'ENST00000541237:c.408T>C', 'ENST00000360827:c.157T>G', 'ENST00000360827:c.291G>C', 'ENST00000366875:c.1089G>A', 'ENST00000366848:c.160A>T', 'ENST00000366849:c.1331T>C', 'ENST00000430092:c.1775C>T', 'ENST00000430092:c.2697C>G', 'ENST00000328556:c.263A>G', 'ENST00000328556:c.266G>A', 'ENST00000328556:c.529A>T', 'ENST00000328556:c.564G>T', 'ENST00000430092:c.4389T>G', 'ENST00000327794:c.603A>G', 'ENST00000327794:c.2124G>A', 'ENST00000327794:c.3355C>A', 'ENST00000327794:c.3596A>G', 'ENST00000327794:c.3843A>G', 'ENST00000327794:c.4056T>C', 'ENST00000327794:c.4185G>A', 'ENST00000430092:c.12032C>T', 'ENST00000428003:c.235G>C', 'ENST00000284563:c.842G>A', 'ENST00000272167:c.417T>C', 'ENST00000272134:c.1045A>C', 'ENST00000366758:c.32C>T', 'ENST00000366757:c.634A>G', 'ENST00000366714:c.769C>T', 'ENST00000295012:c.288C>A', 'ENST00000284548:c.356T>C', 'ENST00000284548:c.1505A>G', 'ENST00000284548:c.1579A>G', 'ENST00000284548:c.2795T>C', 'ENST00000284548:c.2796G>A', 'ENST00000284548:c.2876G>A', 'ENST00000284548:c.3215A>G', 'ENST00000284548:c.3659A>G', 'ENST00000284548:c.3998T>C', 'ENST00000284548:c.4070T>C', 'ENST00000284548:c.4597T>A', 'ENST00000284548:c.4669C>T', 'ENST00000284548:c.6392T>G', 'ENST00000284548:c.6420T>C', 'ENST00000284548:c.8232G>A', 'ENST00000284548:c.8987G>C', 'ENST00000284548:c.9972G>A', 'ENST00000284548:c.10736A>G', 'ENST00000284548:c.11363C>T', 'ENST00000284548:c.11381G>C', 'ENST00000284548:c.12095G>A', 'ENST00000284548:c.12189G>A', 'ENST00000284548:c.12743G>A', 'ENST00000284548:c.12795G>T', 'ENST00000284548:c.13216A>G', 'ENST00000284548:c.13422T>C', 'ENST00000284548:c.13541C>A', 'ENST00000284548:c.13619G>A', 'ENST00000284548:c.13620C>T', 'ENST00000284548:c.13675G>A', 'ENST00000284548:c.13999C>G', 'ENST00000284548:c.14030T>C', 'ENST00000284548:c.14070G>A', 'ENST00000284548:c.14959A>G', 'ENST00000284548:c.16798G>A', 'ENST00000284548:c.17096C>T', 'ENST00000284548:c.17270T>C', 'ENST00000284548:c.17745C>G', 'ENST00000366707:c.20400C>T', 'ENST00000366707:c.22002C>T', 'ENST00000366707:c.22062T>G', 'ENST00000366707:c.22540G>A', 'ENST00000366707:c.23104C>T', 'ENST00000366707:c.23249A>G', 'ENST00000366696:c.189C>A', 'ENST00000366696:c.135C>T', 'ENST00000271971:c.1077A>C', 'ENST00000271971:c.1400C>T', 'ENST00000271971:c.1677C>T', 'ENST00000366652:c.225C>A', 'ENST00000418460:c.511C>T', 'ENST00000366578:c.517T>C', 'ENST00000366578:c.544C>T', 'ENST00000360064:c.2967A>G', 'ENST00000360064:c.6900T>C', 'ENST00000360064:c.7800C>T', 'ENST00000360064:c.9312T>G', 'ENST00000360064:c.10497C>T', 'ENST00000360064:c.10770C>T', 'ENST00000319653:c.2747C>G', 'ENST00000319653:c.3224C>T', 'ENST00000319653:c.3672A>G', 'ENST00000408893:c.821T>C', 'ENST00000336119:c.1478G>A', 'ENST00000336119:c.1532A>G', 'ENST00000318749:c.923A>G', 'ENST00000318749:c.902C>T', 'ENST00000318749:c.756G>A', 'ENST00000318749:c.692G>A', 'ENST00000318749:c.616G>A', 'ENST00000318749:c.57C>T', 'ENST00000320002:c.897A>G', 'ENST00000359688:c.692C>T', 'ENST00000359688:c.458A>T', 'ENST00000359688:c.358C>T', 'ENST00000359688:c.159A>T', 'ENST00000366485:c.397A>G', 'ENST00000408896:c.883A>C', 'ENST00000408896:c.631G>A', 'ENST00000357627:c.713T>C', 'ENST00000357627:c.36T>C', 'ENST00000355784:c.641C>T', 'ENST00000355784:c.568G>C', 'ENST00000355784:c.480G>A', 'ENST00000355784:c.407C>G', 'ENST00000355784:c.378G>A', 'ENST00000355784:c.371A>G', 'ENST00000366481:c.56G>C', 'ENST00000366481:c.516C>T', 'ENST00000366481:c.777G>A', 'ENST00000360358:c.535C>T', 'ENST00000360358:c.568G>A', 'ENST00000360358:c.588A>C', 'ENST00000360358:c.815T>A', 'ENST00000360358:c.824T>C', 'ENST00000319968:c.145T>C', 'ENST00000319968:c.192T>C', 'ENST00000319968:c.290C>T', 'ENST00000319968:c.435G>A', 'ENST00000319968:c.437G>C', 'ENST00000319968:c.438T>C', 'ENST00000319968:c.692C>G', 'ENST00000319968:c.805G>A', 'ENST00000359682:c.56A>C', 'ENST00000359682:c.256C>T', 'ENST00000359682:c.658C>G', 'ENST00000359682:c.703T>C', 'ENST00000456743:c.371G>A', 'ENST00000306687:c.528C>T', 'ENST00000318021:c.528C>T', 'ENST00000318021:c.523T>C', 'ENST00000318021:c.334A>C', 'ENST00000317996:c.902G>T', 'ENST00000317996:c.310A>T', 'ENST00000317996:c.192T>C', 'ENST00000317965:c.600G>A', 'ENST00000317965:c.562G>T', 'ENST00000317965:c.262T>C', 'ENST00000317965:c.199C>T', 'ENST00000317965:c.132T>C', 'ENST00000317861:c.18C>T', 'ENST00000317861:c.561C>T', 'ENST00000317861:c.673G>A', 'ENST00000317861:c.691G>T', 'ENST00000355728:c.67T>G', 'ENST00000366474:c.74A>G', 'ENST00000460972:c.332G>A', 'ENST00000460972:c.676C>G', 'ENST00000343414:c.338T>C', 'ENST00000328782:c.822G>C', 'ENST00000328782:c.347C>T', 'ENST00000330803:c.988A>G', 'ENST00000330803:c.739C>G', 'ENST00000330803:c.417T>C', 'ENST00000330803:c.325T>C', 'ENST00000330803:c.293A>G', 'ENST00000317450:c.968G>A', 'ENST00000317450:c.950C>T', 'ENST00000317450:c.303A>G', 'ENST00000317450:c.91G>A', 'ENST00000344889:c.906G>A', 'ENST00000344889:c.644C>T', 'ENST00000344889:c.639C>G', 'ENST00000344889:c.463G>A', 'ENST00000344889:c.285T>A', 'ENST00000344889:c.214C>T', 'ENST00000344889:c.134A>T', 'ENST00000344889:c.106T>G', 'ENST00000344889:c.60C>T', 'ENST00000342623:c.533G>A', 'ENST00000342623:c.219C>T', 'ENST00000342623:c.172G>A', 'ENST00000342623:c.159A>G', 'ENST00000342623:c.131T>C', 'ENST00000308624:c.318C>T', 'ENST00000450962:c.473G>A', 'ENST00000308624:c.1117G>A', 'ENST00000329066:c.95C>G', 'ENST00000329066:c.852G>T', 'ENST00000329066:c.1200G>T', 'ENST00000329066:c.1276G>C', 'ENST00000329066:c.2081C>T', 'ENST00000329066:c.2228C>T', 'ENST00000329066:c.2256A>C', 'ENST00000329066:c.2623T>C', 'ENST00000252804:c.3972A>G', 'ENST00000320892:c.452A>G', 'ENST00000320892:c.625T>C', 'ENST00000320892:c.1030A>G', 'ENST00000281419:c.1444C>T', 'ENST00000281419:c.2584G>C', 'ENST00000324883:c.1283G>A', 'ENST00000305883:c.1347A>T', 'ENST00000272238:c.730G>A', 'ENST00000295082:c.958A>G', 'ENST00000295082:c.1678C>T', 'ENST00000234142:c.2401T>C', 'ENST00000234142:c.2631C>T', 'ENST00000449576:c.92G>C', 'ENST00000436967:c.121T>C', 'ENST00000317402:c.1054G>A', 'ENST00000304101:c.578G>A', 'ENST00000272224:c.1323G>A', 'ENST00000407625:c.821T>C', 'ENST00000295150:c.505A>G', 'ENST00000401533:c.244G>A', 'ENST00000401533:c.1477T>C', 'ENST00000288710:c.569T>G', 'ENST00000288710:c.1143A>G', 'ENST00000288710:c.1269T>C', 'ENST00000288710:c.1898A>G', 'ENST00000329615:c.229A>T', 'ENST00000329615:c.367G>A', 'ENST00000329615:c.418G>A', 'ENST00000288699:c.1832C>A', 'ENST00000233121:c.405C>T', 'ENST00000380320:c.945A>G', 'ENST00000380320:c.3206G>A', 'ENST00000316470:c.525T>G', 'ENST00000264717:c.1400T>C', 'ENST00000447166:c.675T>A', 'ENST00000408964:c.2015C>G', 'ENST00000408964:c.2030C>A', 'ENST00000408964:c.3417A>G', 'ENST00000408964:c.5044T>C', 'ENST00000327757:c.678G>C', 'ENST00000327757:c.2679C>G', 'ENST00000327757:c.3997C>T', 'ENST00000379558:c.1131G>A', 'ENST00000379558:c.1145A>G', 'ENST00000295055:c.1015G>A', 'ENST00000354476:c.2603G>A', 'ENST00000272273:c.670G>A', 'ENST00000272273:c.1035T>C', 'ENST00000593798:c.103G>A', 'ENST00000398800:c.2158A>G', 'ENST00000468711:c.227T>C', 'ENST00000282406:c.1387A>G', 'ENST00000272286:c.251A>G', 'ENST00000272286:c.1985T>C', 'ENST00000260649:c.190A>C', 'ENST00000260653:c.1284A>G', 'ENST00000434431:c.425G>A', 'ENST00000434431:c.460G>A', 'ENST00000263735:c.702T>C', 'ENST00000309827:c.73A>C', 'ENST00000309827:c.253T>C', 'ENST00000309827:c.429G>C', 'ENST00000309827:c.871C>T', 'ENST00000309827:c.1159T>A', 'ENST00000309827:c.1175C>T', 'ENST00000309827:c.1870G>T', 'ENST00000309827:c.2936A>G', 'ENST00000309827:c.3469T>A', 'ENST00000304421:c.2025G>A', 'ENST00000304421:c.905G>A', 'ENST00000422521:c.295G>A', 'ENST00000422521:c.471G>A', 'ENST00000317802:c.857C>T', 'ENST00000317802:c.446G>A', 'ENST00000317802:c.421G>A', 'ENST00000356458:c.775A>G', 'ENST00000356458:c.5369A>C', 'ENST00000356458:c.5515C>T', 'ENST00000407595:c.560C>T', 'ENST00000264444:c.515T>G', 'ENST00000320256:c.722A>G', 'ENST00000606814:c.362C>G', 'ENST00000605949:c.988G>T', 'ENST00000605949:c.987C>G', 'ENST00000605949:c.984A>T', 'ENST00000605949:c.944G>C', 'ENST00000606226:c.75T>C', 'ENST00000258104:c.2104T>C', 'ENST00000258104:c.2860A>T', 'ENST00000258104:c.4285C>A', 'ENST00000464675:c.115C>T', 'ENST00000398468:c.423G>C', 'ENST00000398468:c.865T>C', 'ENST00000264448:c.2123T>G', 'ENST00000264448:c.2298C>T', 'ENST00000345517:c.463A>G', 'ENST00000409262:c.2131T>C', 'ENST00000377566:c.686A>G', 'ENST00000377566:c.652C>T', 'ENST00000272324:c.481T>C', 'ENST00000237449:c.429G>A', 'ENST00000237449:c.794G>A', 'ENST00000237449:c.881C>T', 'ENST00000237449:c.1826C>A', 'ENST00000237449:c.4619C>T', 'ENST00000237449:c.5089G>C', 'ENST00000237449:c.6308G>A', 'ENST00000237449:c.7361A>G', 'ENST00000237449:c.8700G>A', 'ENST00000335459:c.634G>A', 'ENST00000306279:c.745T>C', 'ENST00000306279:c.825T>G', 'ENST00000419482:c.422C>A', 'ENST00000419482:c.790G>A', 'ENST00000419482:c.793C>G', 'ENST00000419482:c.844T>C', 'ENST00000295834:c.379A>G', 'ENST00000324166:c.1813G>A', 'ENST00000317620:c.1656A>G', 'ENST00000409345:c.1269A>C', 'ENST00000420699:c.2105T>C', 'ENST00000420699:c.2200A>G', 'ENST00000420699:c.3621C>A', 'ENST00000420699:c.3720G>C', 'ENST00000473149:c.260C>G', 'ENST00000465555:c.78G>A', 'ENST00000376865:c.23C>T', 'ENST00000376865:c.346C>T', 'ENST00000335681:c.1465A>G', 'ENST00000335681:c.2205G>A', 'ENST00000302217:c.887A>G', 'ENST00000329106:c.117A>C', 'ENST00000332345:c.833A>G', 'ENST00000356454:c.282A>G', 'ENST00000295408:c.1654G>A', 'ENST00000295408:c.1809A>G', 'ENST00000295408:c.2138A>G', 'ENST00000327581:c.188G>A', 'ENST00000327581:c.899A>C', 'ENST00000263326:c.134G>T', 'ENST00000263326:c.166A>G', 'ENST00000259211:c.446A>G', 'ENST00000337569:c.206T>C', 'ENST00000337569:c.227C>A', 'ENST00000306507:c.199C>T', 'ENST00000306507:c.318A>C', 'ENST00000354888:c.671T>G', 'ENST00000295220:c.239A>T', 'ENST00000594141:c.140G>C', 'ENST00000413369:c.1380T>C', 'ENST00000413369:c.1996G>A', 'ENST00000413369:c.2472G>T', 'ENST00000314490:c.1974C>T', 'ENST00000431078:c.901T>C', 'ENST00000431078:c.1719C>T', 'ENST00000431078:c.2105A>C', 'ENST00000454927:c.193A>G', 'ENST00000436605:c.63G>A', 'ENST00000436605:c.67C>T', 'ENST00000436605:c.337G>A', 'ENST00000453608:c.26A>T', 'ENST00000234071:c.510G>T', 'ENST00000389524:c.114G>A', 'ENST00000389524:c.2879G>A', 'ENST00000389524:c.3507C>G', 'ENST00000389524:c.3935C>T', 'ENST00000281882:c.513A>C', 'ENST00000281882:c.520T>C', 'ENST00000309926:c.1031A>C', 'ENST00000321420:c.1277T>C', 'ENST00000409359:c.1639A>G', 'ENST00000409359:c.2005C>T', 'ENST00000409359:c.2391G>A', 'ENST00000409359:c.2974A>G', 'ENST00000326016:c.576G>A', 'ENST00000326016:c.772G>A', 'ENST00000356920:c.391G>C', 'ENST00000416266:c.663T>C', 'ENST00000272643:c.627C>G', 'ENST00000272643:c.1509T>A', 'ENST00000272643:c.4511A>G', 'ENST00000241416:c.990G>A', 'ENST00000288670:c.709G>A', 'ENST00000288670:c.1105C>T', 'ENST00000295101:c.1515T>C', 'ENST00000259056:c.2774C>T', 'ENST00000005756:c.380C>G', 'ENST00000309950:c.235T>C', 'ENST00000309950:c.252G>A', 'ENST00000343761:c.469T>C', 'ENST00000263635:c.3846A>G', 'ENST00000263635:c.4284A>C', 'ENST00000314499:c.1789C>T', 'ENST00000444448:c.1189C>T', 'ENST00000573192:c.747G>C', 'ENST00000272797:c.1523A>G', 'ENST00000272793:c.257C>T', 'ENST00000409786:c.590G>C', 'ENST00000375281:c.385G>A', 'ENST00000409885:c.299C>T', 'ENST00000344257:c.311T>C', 'ENST00000234198:c.887A>G', 'ENST00000264106:c.1458G>A', 'ENST00000264106:c.2402C>T', 'ENST00000394967:c.633C>G', 'ENST00000392539:c.204G>A', 'ENST00000306324:c.779T>C', 'ENST00000249440:c.455G>T', 'ENST00000331462:c.1109G>A', 'ENST00000408939:c.601G>A', 'ENST00000355689:c.1601G>A', 'ENST00000421187:c.226A>G', 'ENST00000342175:c.40681G>A', 'ENST00000295108:c.1319C>A', 'ENST00000452137:c.359A>C', 'ENST00000343098:c.1401A>G', 'ENST00000343098:c.1541T>C', 'ENST00000343098:c.7763G>T', 'ENST00000343098:c.10077A>G', 'ENST00000343098:c.20456C>T', 'ENST00000261023:c.2621G>A', 'ENST00000304698:c.263G>A', 'ENST00000304636:c.4229T>G', 'ENST00000313581:c.3295G>T', 'ENST00000304164:c.231A>T', 'ENST00000304164:c.267C>T', 'ENST00000304164:c.1389A>C', 'ENST00000428675:c.446G>C', 'ENST00000428675:c.2397G>A', 'ENST00000286190:c.174G>C', 'ENST00000295844:c.498T>C', 'ENST00000295844:c.1414G>A', 'ENST00000392238:c.39G>A', 'ENST00000356079:c.413C>T', 'ENST00000349953:c.339C>T', 'ENST00000349953:c.575G>A', 'ENST00000349953:c.1326C>T', 'ENST00000272849:c.1071T>C', 'ENST00000272849:c.1404T>C', 'ENST00000374423:c.3761A>G', 'ENST00000374423:c.5450T>C', 'ENST00000272845:c.8890G>A', 'ENST00000233072:c.1226A>G', 'ENST00000233072:c.1228C>T', 'ENST00000233072:c.2461C>A', 'ENST00000233072:c.2875C>G', 'ENST00000331683:c.1178A>C', 'ENST00000289388:c.83G>A', 'ENST00000233202:c.538C>T', 'ENST00000417849:c.1130T>C', 'ENST00000295731:c.1128T>C', 'ENST00000295731:c.753T>C', 'ENST00000295731:c.600G>A', 'ENST00000373960:c.161A>G', 'ENST00000373960:c.179T>C', 'ENST00000373960:c.914C>T', 'ENST00000373960:c.1100G>C', 'ENST00000373960:c.1190G>A', 'ENST00000412982:c.1018C>G', 'ENST00000347842:c.124C>T', 'ENST00000347842:c.509C>G', 'ENST00000344458:c.780T>C', 'ENST00000265317:c.1271C>T', 'ENST00000265317:c.1100T>C', 'ENST00000295641:c.45G>T', 'ENST00000413891:c.490T>C', 'ENST00000273063:c.684A>C', 'ENST00000273063:c.2296A>G', 'ENST00000273063:c.2299A>G', 'ENST00000446656:c.487T>C', 'ENST00000272907:c.506T>C', 'ENST00000272907:c.2015C>T', 'ENST00000272907:c.2169A>C', 'ENST00000396578:c.289G>C', 'ENST00000396578:c.647A>G', 'ENST00000396578:c.1138G>T', 'ENST00000396578:c.1357C>T', 'ENST00000264387:c.510G>A', 'ENST00000264387:c.397G>C', 'ENST00000424440:c.478G>C', 'ENST00000373640:c.112T>C', 'ENST00000373640:c.224C>A', 'ENST00000373640:c.267C>G', 'ENST00000313965:c.869T>C', 'ENST00000295453:c.270T>C', 'ENST00000295453:c.999T>G', 'ENST00000449534:c.224G>A', 'ENST00000449534:c.1390T>G', 'ENST00000258385:c.44A>G', 'ENST00000258385:c.446C>T', 'ENST00000389492:c.1266C>T', 'ENST00000408957:c.2407T>C', 'ENST00000408957:c.886G>A', 'ENST00000444113:c.3G>A', 'ENST00000449331:c.90A>G', 'ENST00000264051:c.1332T>C', 'ENST00000264051:c.611T>C', 'ENST00000233840:c.502C>A', 'ENST00000409110:c.719C>T', 'ENST00000373450:c.828A>G', 'ENST00000485022:c.192T>C', 'ENST00000485022:c.326G>A', 'ENST00000389758:c.198C>A', 'ENST00000389758:c.977T>C', 'ENST00000389758:c.1116T>C', 'ENST00000389758:c.1152A>G', 'ENST00000389758:c.1303T>C', 'ENST00000389758:c.1459G>C', 'ENST00000389758:c.1498G>A', 'ENST00000389758:c.3098T>C', 'ENST00000389758:c.3364C>A', 'ENST00000389758:c.3394C>T', 'ENST00000389758:c.3486T>C', 'ENST00000389758:c.4376C>A', 'ENST00000168148:c.358T>A', 'ENST00000304032:c.1537C>T', 'ENST00000445534:c.178G>A', 'ENST00000452801:c.63C>T', 'ENST00000452801:c.227A>G', 'ENST00000343063:c.539G>A', 'ENST00000343063:c.695T>C', 'ENST00000343063:c.1043C>G', 'ENST00000305959:c.992T>C', 'ENST00000305959:c.1622T>C', 'ENST00000373327:c.291C>A', 'ENST00000373327:c.1107G>T', 'ENST00000358775:c.419A>G', 'ENST00000402971:c.595T>C', 'ENST00000402971:c.424C>T', 'ENST00000408934:c.1138T>G', 'ENST00000408934:c.1025A>T', 'ENST00000408934:c.143T>C', 'ENST00000408934:c.129C>T', 'ENST00000319423:c.701G>A', 'ENST00000319423:c.391C>T', 'ENST00000319423:c.143C>T', 'ENST00000438013:c.759G>A', 'ENST00000337801:c.367C>T', 'ENST00000388934:c.195C>T', 'ENST00000427156:c.367T>C', 'ENST00000430980:c.983A>G', 'ENST00000430980:c.2732A>G', 'ENST00000442811:c.401G>C', 'ENST00000310397:c.1104T>C', 'ENST00000310397:c.2544C>T', 'ENST00000274979:c.191C>T', 'ENST00000274979:c.302G>A', 'ENST00000274979:c.988C>T', 'ENST00000274979:c.2365G>C', 'ENST00000264042:c.2857C>T', 'ENST00000192314:c.141A>T', 'ENST00000343216:c.330G>A', 'ENST00000343216:c.348C>T', 'ENST00000343216:c.589G>T', 'ENST00000343216:c.604C>T', 'ENST00000343216:c.681T>C', 'ENST00000343216:c.784A>T', 'ENST00000256509:c.1549A>G', 'ENST00000256509:c.2923C>T', 'ENST00000256509:c.3790A>G', 'ENST00000256509:c.3855T>C', 'ENST00000397479:c.104C>A', 'ENST00000350110:c.710T>C', 'ENST00000358480:c.1823A>T', 'ENST00000358480:c.1898T>C', 'ENST00000302640:c.5474T>C', 'ENST00000443259:c.204A>G', 'ENST00000343849:c.176C>T', 'ENST00000316793:c.796C>T', 'ENST00000295980:c.1077A>G', 'ENST00000295981:c.763C>T', 'ENST00000295981:c.1351A>G', 'ENST00000295981:c.1478C>T', 'ENST00000287766:c.1072G>T', 'ENST00000456430:c.271T>C', 'ENST00000295989:c.1193A>G', 'ENST00000295989:c.1397C>T', 'ENST00000295989:c.1567T>C', 'ENST00000295989:c.2543A>C', 'ENST00000295760:c.2574A>G', 'ENST00000295760:c.2629A>G', 'ENST00000295760:c.2754T>C', 'ENST00000253697:c.645G>A', 'ENST00000285046:c.2931G>A', 'ENST00000285046:c.2932A>T', 'ENST00000285046:c.3053G>T', 'ENST00000328405:c.296G>C', 'ENST00000263754:c.1034C>T', 'ENST00000312521:c.1475T>A', 'ENST00000383768:c.793T>A', 'ENST00000383763:c.1167G>T', 'ENST00000383763:c.2403G>A', 'ENST00000187397:c.660C>T', 'ENST00000187397:c.2019A>G', 'ENST00000337271:c.1752A>G', 'ENST00000273183:c.381T>C', 'ENST00000416516:c.2390G>T', 'ENST00000264741:c.781G>A', 'ENST00000264741:c.865C>T', 'ENST00000264741:c.1776G>A', 'ENST00000273173:c.425A>G', 'ENST00000273173:c.901T>C', 'ENST00000273173:c.941G>A', 'ENST00000273173:c.965A>G', 'ENST00000273173:c.1262G>A', 'ENST00000207870:c.465G>T', 'ENST00000207870:c.660G>A', 'ENST00000352511:c.805A>G', 'ENST00000327956:c.225A>G', 'ENST00000301819:c.449G>A', 'ENST00000301819:c.1046G>A', 'ENST00000301819:c.1054G>A', 'ENST00000301819:c.3581G>A', 'ENST00000301819:c.4050T>C', 'ENST00000340369:c.5039G>A', 'ENST00000302541:c.1936C>T', 'ENST00000302541:c.2055T>C', 'ENST00000429348:c.387T>G', 'ENST00000232974:c.1064A>G', 'ENST00000287777:c.1134A>G', 'ENST00000287777:c.1949T>C', 'ENST00000273146:c.382G>A', 'ENST00000273146:c.1051A>G', 'ENST00000273146:c.1055C>T', 'ENST00000273146:c.1492A>G', 'ENST00000344697:c.1711G>A', 'ENST00000309765:c.295T>C', 'ENST00000309765:c.431C>A', 'ENST00000309765:c.754G>A', 'ENST00000296125:c.368G>C', 'ENST00000296129:c.2261A>G', 'ENST00000357392:c.649T>A', 'ENST00000231751:c.436A>G', 'ENST00000231751:c.381G>A', 'ENST00000296145:c.798T>C', 'ENST00000296438:c.682C>T', 'ENST00000296438:c.1004T>A', 'ENST00000440528:c.622G>A', 'ENST00000440528:c.688T>C', 'ENST00000296452:c.2335G>A', 'ENST00000296452:c.3324G>A', 'ENST00000296452:c.3621C>T', 'ENST00000296452:c.3752G>A', 'ENST00000296452:c.11701G>A', 'ENST00000296452:c.11850G>A', 'ENST00000002829:c.526C>T', 'ENST00000571614:c.352T>A', 'ENST00000398780:c.58G>A', 'ENST00000333127:c.40G>A', 'ENST00000322241:c.790A>C', 'ENST00000322241:c.986A>G', 'ENST00000420323:c.11663G>A', 'ENST00000327906:c.891C>T', 'ENST00000321725:c.1972T>C', 'ENST00000321725:c.2810A>G', 'ENST00000321725:c.5573G>C', 'ENST00000288167:c.378C>T', 'ENST00000288197:c.1308G>A', 'ENST00000295956:c.1092T>C', 'ENST00000318316:c.737G>A', 'ENST00000295874:c.2738C>T', 'ENST00000295896:c.869G>C', 'ENST00000336596:c.2966G>A', 'ENST00000419587:c.1282C>T', 'ENST00000419587:c.3614C>T', 'ENST00000182096:c.1615G>A', 'ENST00000182096:c.2818C>T', 'ENST00000182096:c.2840A>C', 'ENST00000429239:c.20T>C', 'ENST00000429239:c.231A>G', 'ENST00000429239:c.536T>C', 'ENST00000429239:c.537G>T', 'ENST00000429239:c.860C>A', 'ENST00000358642:c.928T>C', 'ENST00000354924:c.616A>G', 'ENST00000383695:c.131G>A', 'ENST00000273352:c.719A>G', 'ENST00000357759:c.503T>C', 'ENST00000393963:c.443G>T', 'ENST00000393923:c.3564C>T', 'ENST00000452346:c.306A>G', 'ENST00000498710:c.563G>C', 'ENST00000273395:c.1062C>T', 'ENST00000273395:c.1344C>T', 'ENST00000273395:c.2079A>G', 'ENST00000273395:c.2325A>G', 'ENST00000358160:c.2043C>T', 'ENST00000308095:c.1262A>C', 'ENST00000308095:c.1239T>G', 'ENST00000308095:c.1161C>T', 'ENST00000308095:c.1106G>A', 'ENST00000295622:c.336A>G', 'ENST00000295622:c.613C>T', 'ENST00000295622:c.1380C>T', 'ENST00000264234:c.487A>G', 'ENST00000497447:c.620A>G', 'ENST00000475963:c.644A>G', 'ENST00000273390:c.95C>T', 'ENST00000273390:c.335T>C', 'ENST00000273390:c.696G>C', 'ENST00000337940:c.1044T>C', 'ENST00000338040:c.674T>C', 'ENST00000264474:c.154C>T', 'ENST00000240874:c.283G>A', 'ENST00000240874:c.1057T>C', 'ENST00000240874:c.1366C>T', 'ENST00000340333:c.567A>G', 'ENST00000352312:c.498G>A', 'ENST00000251772:c.1614C>T', 'ENST00000251772:c.3792C>A', 'ENST00000405109:c.531C>A', 'ENST00000480450:c.16A>G', 'ENST00000480450:c.666G>A', 'ENST00000480450:c.745G>A', 'ENST00000436022:c.1583G>A', 'ENST00000307395:c.354G>A', 'ENST00000324382:c.824T>C', 'ENST00000302649:c.549C>G', 'ENST00000302649:c.1151T>C', 'ENST00000302649:c.1238A>G', 'ENST00000265379:c.3191C>T', 'ENST00000265379:c.4332A>C', 'ENST00000265379:c.4835G>A', 'ENST00000265379:c.4889C>T', 'ENST00000265379:c.4924G>C', 'ENST00000265379:c.5259T>C', 'ENST00000265379:c.7057A>G', 'ENST00000265379:c.7108G>A', 'ENST00000265379:c.7463T>C', 'ENST00000265379:c.8173G>A', 'ENST00000358511:c.1139G>A', 'ENST00000358511:c.3824T>C', 'ENST00000358511:c.4317C>T', 'ENST00000358511:c.5247G>A', 'ENST00000302334:c.692G>A', 'ENST00000264998:c.499G>A', 'ENST00000264998:c.614C>T', 'ENST00000264998:c.704G>A', 'ENST00000264998:c.1217A>G', 'ENST00000264977:c.1128G>T', 'ENST00000264977:c.1313C>T', 'ENST00000343735:c.168G>A', 'ENST00000389567:c.1954G>A', 'ENST00000383163:c.354G>C', 'ENST00000458420:c.1153A>G', 'ENST00000458420:c.1286G>A', 'ENST00000286349:c.922A>G', 'ENST00000286349:c.1614G>A', 'ENST00000286349:c.1927C>A', 'ENST00000310546:c.973C>A', 'ENST00000337777:c.1341G>A', 'ENST00000273482:c.1309G>A', 'ENST00000349243:c.961C>T', 'ENST00000296046:c.564C>T', 'ENST00000305354:c.1153T>C', 'ENST00000361136:c.2271G>A', 'ENST00000295911:c.692T>G', 'ENST00000273432:c.3242G>A', 'ENST00000570799:c.665G>T', 'ENST00000356448:c.369G>C', 'ENST00000356448:c.462C>T', 'ENST00000356448:c.463T>C', 'ENST00000356539:c.309A>G', 'ENST00000473137:c.260C>T', 'ENST00000473137:c.262C>T', 'ENST00000295777:c.452C>G', 'ENST00000340806:c.688T>C', 'ENST00000264676:c.1359G>A', 'ENST00000336824:c.1473T>C', 'ENST00000241256:c.520G>A', 'ENST00000241256:c.214C>T', 'ENST00000361589:c.2162G>A', 'ENST00000434257:c.380G>A', 'ENST00000434257:c.562A>G', 'ENST00000454872:c.709T>C', 'ENST00000265586:c.1794T>C', 'ENST00000334128:c.380G>A', 'ENST00000334128:c.1004G>A', 'ENST00000318351:c.523C>A', 'ENST00000318351:c.1248G>C', 'ENST00000335304:c.450G>A', 'ENST00000335304:c.983T>C', 'ENST00000426955:c.368G>A', 'ENST00000426955:c.580C>T', 'ENST00000426955:c.698C>T', 'ENST00000273794:c.643G>A', 'ENST00000273794:c.1138C>T', 'ENST00000357474:c.974C>T', 'ENST00000419960:c.262A>G', 'ENST00000287546:c.418A>G', 'ENST00000287546:c.3594A>C', 'ENST00000287546:c.3664C>T', 'ENST00000430355:c.112G>A', 'ENST00000273784:c.822T>C', 'ENST00000232003:c.1166T>C', 'ENST00000232003:c.1422C>T', 'ENST00000232003:c.1558A>T', 'ENST00000312295:c.715C>G', 'ENST00000358241:c.759G>T', 'ENST00000358241:c.727G>A', 'ENST00000358241:c.674A>G', 'ENST00000312675:c.1188C>T', 'ENST00000518817:c.242A>G', 'ENST00000342358:c.2333G>A', 'ENST00000323830:c.1696G>A', 'ENST00000323830:c.1616A>G', 'ENST00000323830:c.1615C>T', 'ENST00000323830:c.1003G>A', 'ENST00000323830:c.957G>A', 'ENST00000323830:c.369C>T', 'ENST00000323830:c.222A>G', 'ENST00000323007:c.169A>G', 'ENST00000329759:c.1917G>A', 'ENST00000320736:c.1090G>C', 'ENST00000320736:c.1203T>G', 'ENST00000296327:c.884T>C', 'ENST00000255622:c.658C>T', 'ENST00000247933:c.440C>T', 'ENST00000264748:c.95G>A', 'ENST00000290902:c.1057G>C', 'ENST00000290902:c.452T>C', 'ENST00000389851:c.1619G>A', 'ENST00000389851:c.1944G>A', 'ENST00000324803:c.3074T>C', 'ENST00000324803:c.3584T>C', 'ENST00000422806:c.659A>C', 'ENST00000260795:c.1759G>A', 'ENST00000345167:c.348G>T', 'ENST00000345167:c.454T>C', 'ENST00000345167:c.579C>T', 'ENST00000510580:c.909G>A', 'ENST00000306648:c.694G>C', 'ENST00000382774:c.767G>T', 'ENST00000382774:c.808C>G', 'ENST00000382774:c.1783G>A', 'ENST00000340083:c.285T>C', 'ENST00000340083:c.952A>G', 'ENST00000340083:c.1178A>C', 'ENST00000340083:c.1199G>A', 'ENST00000330055:c.247C>G', 'ENST00000330055:c.1205G>A', 'ENST00000264956:c.953C>T', 'ENST00000264956:c.956T>C', 'ENST00000264956:c.1252A>G', 'ENST00000264956:c.1530C>A', 'ENST00000264956:c.1911G>A', 'ENST00000596858:c.398T>C', 'ENST00000596858:c.290T>C', 'ENST00000596858:c.288T>C', 'ENST00000296370:c.1050T>C', 'ENST00000296370:c.1089A>C', 'ENST00000329016:c.1514T>C', 'ENST00000329016:c.1761T>C', 'ENST00000329016:c.1841G>A', 'ENST00000358461:c.2211G>A', 'ENST00000382487:c.450C>T', 'ENST00000382487:c.564T>G', 'ENST00000382487:c.1020A>C', 'ENST00000315782:c.657C>T', 'ENST00000315782:c.1419T>C', 'ENST00000315782:c.1502T>C', 'ENST00000315782:c.1854A>G', 'ENST00000432515:c.75A>G', 'ENST00000432515:c.141T>C', 'ENST00000432515:c.153T>C', 'ENST00000432515:c.158T>C', 'ENST00000432515:c.273A>C', 'ENST00000432515:c.524A>G', 'ENST00000432515:c.570T>C', 'ENST00000432515:c.828T>C', 'ENST00000456464:c.910A>C', 'ENST00000456464:c.914T>C', 'ENST00000456464:c.928A>C', 'ENST00000264784:c.621T>C', 'ENST00000326756:c.2007G>A', 'ENST00000442003:c.358G>A', 'ENST00000442003:c.1111G>A', 'ENST00000442003:c.1307G>A', 'ENST00000389652:c.3184G>A', 'ENST00000389652:c.4008C>G', 'ENST00000265016:c.569G>A', 'ENST00000259988:c.643A>G', 'ENST00000511148:c.312A>G', 'ENST00000511148:c.439C>G', 'ENST00000273739:c.2449C>T', 'ENST00000382120:c.377G>A', 'ENST00000315368:c.1536G>A', 'ENST00000357504:c.432T>A', 'ENST00000357504:c.1550C>T', 'ENST00000357504:c.1723T>C', 'ENST00000309447:c.1025A>C', 'ENST00000508802:c.2438C>T', 'ENST00000261435:c.718G>T', 'ENST00000261435:c.2093T>C', 'ENST00000261435:c.2247G>A', 'ENST00000310169:c.178C>T', 'ENST00000310169:c.268T>C', 'ENST00000310169:c.304C>T', 'ENST00000316607:c.1373C>T', 'ENST00000316607:c.1389T>G', 'ENST00000313860:c.2330T>C', 'ENST00000333141:c.406C>T', 'ENST00000399770:c.25G>A', 'ENST00000360029:c.1553A>G', 'ENST00000327939:c.166G>C', 'ENST00000327939:c.969G>A', 'ENST00000326902:c.633G>A', 'ENST00000257290:c.2032A>G', 'ENST00000257287:c.2429A>C', 'ENST00000264229:c.1286G>C', 'ENST00000264229:c.2352C>T', 'ENST00000264229:c.2355G>C', 'ENST00000264229:c.2718C>T', 'ENST00000264229:c.3370G>A', 'ENST00000264229:c.3481C>T', 'ENST00000512175:c.847C>T', 'ENST00000504896:c.707C>T', 'ENST00000502815:c.451T>C', 'ENST00000502815:c.1081G>C', 'ENST00000502815:c.1183A>G', 'ENST00000332644:c.1204A>T', 'ENST00000332644:c.1136A>C', 'ENST00000305231:c.847A>T', 'ENST00000305231:c.848T>C', 'ENST00000335568:c.14G>A', 'ENST00000335568:c.588G>C', 'ENST00000335568:c.1403G>C', 'ENST00000335568:c.1407T>C', 'ENST00000335568:c.1408G>C', 'ENST00000246891:c.399C>T', 'ENST00000304954:c.611T>C', 'ENST00000273936:c.706C>T', 'ENST00000226460:c.220T>C', 'ENST00000226460:c.491C>T', 'ENST00000339336:c.721C>T', 'ENST00000322937:c.760A>G', 'ENST00000226359:c.1657A>G', 'ENST00000395761:c.124A>G', 'ENST00000244869:c.517A>G', 'ENST00000339906:c.523G>A', 'ENST00000334306:c.1641A>G', 'ENST00000334306:c.801A>G', 'ENST00000334306:c.455A>G', 'ENST00000264895:c.535A>G', 'ENST00000264895:c.1836T>A', 'ENST00000264895:c.2387T>C', 'ENST00000264895:c.2500A>G', 'ENST00000264895:c.6908C>T', 'ENST00000264895:c.7364C>T', 'ENST00000264895:c.7451G>A', 'ENST00000264895:c.7572A>G', 'ENST00000264895:c.7694A>G', 'ENST00000264895:c.8879C>T', 'ENST00000264895:c.10248A>C', 'ENST00000264895:c.11136G>A', 'ENST00000508675:c.365T>C', 'ENST00000282701:c.933C>T', 'ENST00000273908:c.824G>C', 'ENST00000321945:c.1151G>A', 'ENST00000395183:c.295A>G', 'ENST00000316707:c.3195A>G', 'ENST00000295898:c.533G>C', 'ENST00000226284:c.490T>C', 'ENST00000226284:c.651G>A', 'ENST00000226284:c.705A>G', 'ENST00000226284:c.877A>T', 'ENST00000361056:c.1028G>A', 'ENST00000333209:c.2421T>C', 'ENST00000282020:c.461C>T', 'ENST00000326581:c.553G>A', 'ENST00000326581:c.615T>C', 'ENST00000326581:c.617C>G', 'ENST00000326581:c.633G>A', 'ENST00000265517:c.586T>C', 'ENST00000265154:c.320T>C', 'ENST00000305572:c.679G>C', 'ENST00000379920:c.582G>A', 'ENST00000327908:c.1221A>T', 'ENST00000327908:c.1671G>A', 'ENST00000327908:c.1723C>T', 'ENST00000327908:c.1853C>T', 'ENST00000265171:c.2422C>T', 'ENST00000265171:c.2569G>A', 'ENST00000265171:c.3204A>T', 'ENST00000307142:c.328G>T', 'ENST00000307142:c.657G>C', 'ENST00000307142:c.718A>C', 'ENST00000307142:c.1913A>G', 'ENST00000424958:c.1499A>G', 'ENST00000424958:c.1752G>C', 'ENST00000394329:c.418C>T', 'ENST00000394329:c.1371A>T', 'ENST00000394329:c.2433C>T', 'ENST00000394329:c.2957T>C', 'ENST00000394329:c.4318C>T', 'ENST00000335110:c.559T>A', 'ENST00000335110:c.654T>C', 'ENST00000296461:c.541A>G', 'ENST00000296461:c.883G>A', 'ENST00000281154:c.831A>G', 'ENST00000324300:c.1484T>C', 'ENST00000324300:c.1520G>A', 'ENST00000455694:c.160G>A', 'ENST00000260008:c.1990C>T', 'ENST00000260008:c.3402G>A', 'ENST00000260010:c.2005T>C', 'ENST00000260010:c.2758T>C', 'ENST00000329476:c.1074C>T', 'ENST00000329476:c.1425C>T', 'ENST00000329476:c.1467C>T', 'ENST00000296518:c.1283A>G', 'ENST00000264426:c.966T>C', 'ENST00000306100:c.2568G>T', 'ENST00000338566:c.1460G>A', 'ENST00000359299:c.397A>C', 'ENST00000359299:c.630A>G', 'ENST00000261509:c.229C>T', 'ENST00000261509:c.397G>A', 'ENST00000261509:c.882T>C', 'ENST00000261509:c.883G>A', 'ENST00000261509:c.889C>T', 'ENST00000261509:c.1000C>T', 'ENST00000280190:c.2596G>A', 'ENST00000280190:c.2894G>C', 'ENST00000406950:c.2850T>C', 'ENST00000406950:c.3579T>C', 'ENST00000403733:c.2909G>C', 'ENST00000541814:c.621G>C', 'ENST00000514470:c.34C>T', 'ENST00000508020:c.282G>A', 'ENST00000378850:c.800G>A', 'ENST00000284770:c.980C>T', 'ENST00000227065:c.700A>G', 'ENST00000227065:c.1015A>G', 'ENST00000227065:c.1220A>G', 'ENST00000227065:c.1301C>T', 'ENST00000596414:c.537G>A', 'ENST00000596414:c.486T>G', 'ENST00000596414:c.317C>T', 'ENST00000596414:c.233T>A', 'ENST00000596414:c.170A>G', 'ENST00000378802:c.1079C>A', 'ENST00000378802:c.1114T>G', 'ENST00000378802:c.1127G>A', 'ENST00000264690:c.615G>A', 'ENST00000403665:c.781C>T', 'ENST00000264692:c.978A>G', 'ENST00000441802:c.1654G>A', 'ENST00000441802:c.1422T>G', 'ENST00000441802:c.595G>C', 'ENST00000326754:c.1116C>T', 'ENST00000326754:c.1068C>G', 'ENST00000332517:c.534G>A', 'ENST00000283426:c.3277G>A', 'ENST00000283426:c.3416T>G', 'ENST00000283426:c.3486C>G', 'ENST00000283426:c.3518A>G', 'ENST00000594226:c.348T>C', 'ENST00000594226:c.418A>G', 'ENST00000594226:c.696C>T', 'ENST00000382730:c.312A>G', 'ENST00000304460:c.1046A>G', 'ENST00000296821:c.144G>A', 'ENST00000296821:c.157T>A', 'ENST00000296821:c.218C>T', 'ENST00000296821:c.219T>C', 'ENST00000296821:c.234A>G', 'ENST00000397835:c.676C>T', 'ENST00000302006:c.1126G>A', 'ENST00000302006:c.1324T>C', 'ENST00000274181:c.190T>C', 'ENST00000274181:c.406C>G', 'ENST00000274181:c.448T>C', 'ENST00000274181:c.1488C>T', 'ENST00000296564:c.714A>G', 'ENST00000537411:c.539A>G', 'ENST00000274192:c.543A>G', 'ENST00000382492:c.935C>T', 'ENST00000265071:c.1147C>T', 'ENST00000265071:c.1790C>T', 'ENST00000265071:c.1825A>G', 'ENST00000282493:c.2431A>G', 'ENST00000326958:c.908T>C', 'ENST00000265109:c.752G>A', 'ENST00000502674:c.65A>G', 'ENST00000282469:c.365A>C', 'ENST00000282469:c.733T>C', 'ENST00000282469:c.1015C>T', 'ENST00000356031:c.2296T>C', 'ENST00000506759:c.188C>T', 'ENST00000303115:c.326T>C', 'ENST00000303115:c.1195A>G', 'ENST00000265113:c.1268G>A', 'ENST00000322350:c.1031T>C', 'ENST00000274276:c.1981G>A', 'ENST00000313164:c.1525G>C', 'ENST00000230882:c.748A>G', 'ENST00000282588:c.734T>C', 'ENST00000302005:c.457G>A', 'ENST00000302005:c.544T>C', 'ENST00000326277:c.238A>C', 'ENST00000326277:c.460T>C', 'ENST00000326277:c.802T>C', 'ENST00000326277:c.1474C>A', 'ENST00000326277:c.1648G>C', 'ENST00000326277:c.1903A>C', 'ENST00000274306:c.397T>C', 'ENST00000274306:c.455C>T', 'ENST00000274306:c.497C>G', 'ENST00000353507:c.856A>G', 'ENST00000353507:c.990C>T', 'ENST00000354961:c.104C>T', 'ENST00000297015:c.1514T>G', 'ENST00000399503:c.351G>C', 'ENST00000399503:c.1284G>A', 'ENST00000399503:c.2416G>A', 'ENST00000399503:c.3084A>G', 'ENST00000274289:c.640T>C', 'ENST00000313303:c.198G>A', 'ENST00000389074:c.647G>C', 'ENST00000381070:c.983C>G', 'ENST00000284037:c.954C>T', 'ENST00000520762:c.289A>T', 'ENST00000508320:c.459T>C', 'ENST00000325631:c.172C>T', 'ENST00000573110:c.377T>G', 'ENST00000573110:c.3993T>A', 'ENST00000573110:c.4302G>A', 'ENST00000573110:c.6300A>C', 'ENST00000318442:c.2211G>A', 'ENST00000287773:c.263T>C', 'ENST00000287773:c.406A>G', 'ENST00000599298:c.5G>A', 'ENST00000287898:c.849T>C', 'ENST00000287898:c.1027C>A', 'ENST00000287898:c.1121T>C', 'ENST00000287898:c.2459C>T', 'ENST00000287898:c.2514C>A', 'ENST00000322285:c.560G>A', 'ENST00000296677:c.295G>A', 'ENST00000296677:c.827T>C', 'ENST00000317593:c.300A>C', 'ENST00000264917:c.1809A>G', 'ENST00000274353:c.823G>A', 'ENST00000446378:c.3915C>T', 'ENST00000446378:c.4169A>G', 'ENST00000446378:c.5037T>C', 'ENST00000446378:c.5488A>G', 'ENST00000446378:c.11811G>A', 'ENST00000350881:c.610C>T', 'ENST00000350881:c.727A>T', 'ENST00000296739:c.294G>C', 'ENST00000296739:c.1147A>C', 'ENST00000338008:c.755T>C', 'ENST00000338008:c.1973T>C', 'ENST00000338008:c.2085G>A', 'ENST00000338008:c.2580C>T', 'ENST00000338008:c.3343A>G', 'ENST00000380167:c.1335T>C', 'ENST00000265077:c.913T>C', 'ENST00000265077:c.958C>T', 'ENST00000265077:c.1210A>G', 'ENST00000265077:c.4888G>A', 'ENST00000265077:c.5112A>G', 'ENST00000265077:c.6042G>A', 'ENST00000265077:c.6373T>C', 'ENST00000265077:c.7288A>G', 'ENST00000265077:c.7467T>A', 'ENST00000265077:c.9374G>T', 'ENST00000265077:c.9640G>A', 'ENST00000265077:c.10447C>T', 'ENST00000405460:c.3375G>T', 'ENST00000405460:c.5947G>A', 'ENST00000405460:c.7847A>G', 'ENST00000405460:c.9376G>A', 'ENST00000405460:c.10507G>A', 'ENST00000405460:c.11778C>T', 'ENST00000405460:c.13695A>G', 'ENST00000405460:c.16127A>G', 'ENST00000405460:c.16375G>A', 'ENST00000405460:c.17722G>A', 'ENST00000283357:c.412G>A', 'ENST00000283357:c.869C>T', 'ENST00000379982:c.1794C>T', 'ENST00000357880:c.651T>C', 'ENST00000261483:c.2297T>A', 'ENST00000257430:c.1514T>C', 'ENST00000257430:c.1691G>A', 'ENST00000264773:c.529G>C', 'ENST00000264773:c.1861A>G', 'ENST00000282369:c.2154G>A', 'ENST00000357872:c.188C>T', 'ENST00000357872:c.285T>C', 'ENST00000357872:c.328A>G', 'ENST00000357872:c.1870T>C', 'ENST00000357872:c.2164G>T', 'ENST00000357872:c.2191G>C', 'ENST00000256216:c.450G>A', 'ENST00000306315:c.1750G>A', 'ENST00000513040:c.317G>A', 'ENST00000274473:c.1381C>T', 'ENST00000274487:c.1244A>G', 'ENST00000296871:c.384T>C', 'ENST00000245407:c.506T>C', 'ENST00000245407:c.1028A>G', 'ENST00000378693:c.652G>C', 'ENST00000378693:c.992C>G', 'ENST00000378693:c.1100C>A', 'ENST00000378693:c.1916T>G', 'ENST00000319854:c.2204G>A', 'ENST00000319854:c.709C>T', 'ENST00000296875:c.798G>A', 'ENST00000296875:c.699C>T', 'ENST00000282611:c.731A>G', 'ENST00000503143:c.625C>A', 'ENST00000503143:c.589A>T', 'ENST00000503143:c.529A>G', 'ENST00000503143:c.463A>C', 'ENST00000274513:c.238T>C', 'ENST00000274513:c.289C>T', 'ENST00000297158:c.626C>T', 'ENST00000297158:c.792T>C', 'ENST00000274507:c.373A>G', 'ENST00000305126:c.705G>C', 'ENST00000361560:c.841G>A', 'ENST00000593907:c.262G>A', 'ENST00000230993:c.1808T>C', 'ENST00000608256:c.1588C>T', 'ENST00000608256:c.2195A>G', 'ENST00000608256:c.2276G>T', 'ENST00000607911:c.2580C>G', 'ENST00000564042:c.2427G>A', 'ENST00000564042:c.2428C>A', 'ENST00000608033:c.2250G>A', 'ENST00000608550:c.597G>A', 'ENST00000608550:c.763C>T', 'ENST00000608550:c.764C>T', 'ENST00000608550:c.1657A>G', 'ENST00000608889:c.1996T>C', 'ENST00000608889:c.2375C>T', 'ENST00000609535:c.691G>A', 'ENST00000609535:c.1014G>C', 'ENST00000609535:c.1754C>T', 'ENST00000609535:c.1908C>G', 'ENST00000609535:c.2327G>A', 'ENST00000610204:c.1428C>T', 'ENST00000608149:c.316T>C', 'ENST00000608149:c.1339G>C', 'ENST00000608149:c.1422G>A', 'ENST00000608149:c.1614G>A', 'ENST00000608149:c.1675G>A', 'ENST00000608149:c.1677C>A', 'ENST00000608149:c.1764C>G', 'ENST00000608149:c.1947G>C', 'ENST00000608149:c.2016A>G', 'ENST00000608149:c.2239G>T', 'ENST00000608149:c.2364T>C', 'ENST00000608800:c.409T>C', 'ENST00000608800:c.938T>C', 'ENST00000608800:c.956T>C', 'ENST00000608800:c.1158A>G', 'ENST00000608800:c.1688G>A', 'ENST00000608800:c.1733T>C', 'ENST00000608800:c.1950G>A', 'ENST00000608800:c.1980C>T', 'ENST00000608800:c.2162G>C', 'ENST00000608800:c.2309C>G', 'ENST00000608800:c.2479G>A', 'ENST00000609684:c.2200G>T', 'ENST00000609684:c.2606C>T', 'ENST00000609684:c.2683G>A', 'ENST00000361016:c.2729G>A', 'ENST00000361016:c.2732A>C', 'ENST00000361016:c.2733G>T', 'ENST00000361016:c.2775T>G', 'ENST00000609684:c.2880T>C', 'ENST00000609684:c.2958T>C', 'ENST00000609684:c.3075G>C', 'ENST00000609684:c.3115C>T', 'ENST00000609684:c.3241T>C', 'ENST00000609684:c.3290C>T', 'ENST00000599465:c.727C>T', 'ENST00000599465:c.1498G>C', 'ENST00000599465:c.1501C>G', 'ENST00000599465:c.1567C>G', 'ENST00000599465:c.1813A>C', 'ENST00000599465:c.2104C>G', 'ENST00000599465:c.2162T>G', 'ENST00000608766:c.11A>G', 'ENST00000608766:c.1425T>C', 'ENST00000608766:c.1584C>G', 'ENST00000608766:c.1873C>A', 'ENST00000608766:c.2163G>T', 'ENST00000608723:c.2476A>G', 'ENST00000609173:c.1598C>G', 'ENST00000609173:c.2248C>T', 'ENST00000609173:c.2294T>C', 'ENST00000608947:c.1423C>A', 'ENST00000608947:c.1732T>G', 'ENST00000609806:c.1383C>T', 'ENST00000609806:c.1420A>C', 'ENST00000609806:c.1425C>A', 'ENST00000609806:c.1481G>A', 'ENST00000609806:c.1578T>G', 'ENST00000609806:c.1709C>T', 'ENST00000609079:c.1070A>T', 'ENST00000609079:c.902C>G', 'ENST00000609079:c.869T>A', 'ENST00000609079:c.593A>T', 'ENST00000378105:c.454G>A', 'ENST00000378105:c.1959G>T', 'ENST00000378105:c.2048A>T', 'ENST00000518325:c.563A>G', 'ENST00000518325:c.1199A>G', 'ENST00000287008:c.2398T>C', 'ENST00000287008:c.1688G>A', 'ENST00000287008:c.222A>C', 'ENST00000287008:c.191C>T', 'ENST00000289448:c.153C>T', 'ENST00000359120:c.1021C>T', 'ENST00000311104:c.858C>G', 'ENST00000397936:c.342G>C', 'ENST00000256084:c.842A>G', 'ENST00000256084:c.1046C>T', 'ENST00000256084:c.1145G>A', 'ENST00000256084:c.1230T>C', 'ENST00000256084:c.1300A>G', 'ENST00000325630:c.362C>A', 'ENST00000305988:c.285G>A', 'ENST00000305988:c.318G>C', 'ENST00000296721:c.821G>A', 'ENST00000231656:c.471C>G', 'ENST00000328668:c.1216T>C', 'ENST00000297130:c.680T>C', 'ENST00000520059:c.226T>C', 'ENST00000243389:c.418C>G', 'ENST00000337851:c.603T>C', 'ENST00000409999:c.334G>A', 'ENST00000409999:c.360A>G', 'ENST00000286307:c.284G>A', 'ENST00000338333:c.635C>G', 'ENST00000306268:c.1105T>C', 'ENST00000521850:c.1766G>C', 'ENST00000524175:c.461G>C', 'ENST00000239243:c.513T>C', 'ENST00000253490:c.84C>T', 'ENST00000310389:c.135G>C', 'ENST00000261944:c.594A>C', 'ENST00000261944:c.1310T>C', 'ENST00000261944:c.1725C>T', 'ENST00000261944:c.2336T>C', 'ENST00000261944:c.2646G>A', 'ENST00000292408:c.407T>G', 'ENST00000292408:c.652C>T', 'ENST00000292408:c.947C>T', 'ENST00000292408:c.1407G>A', 'ENST00000324417:c.489C>T', 'ENST00000324417:c.865T>C', 'ENST00000322434:c.469T>C', 'ENST00000315475:c.1942T>C', 'ENST00000315475:c.1963G>A', 'ENST00000425471:c.423T>C', 'ENST00000307832:c.959G>A', 'ENST00000307832:c.639G>C', 'ENST00000342868:c.1395C>T', 'ENST00000327705:c.1224G>T', 'ENST00000328275:c.662A>G', 'ENST00000296839:c.404G>A', 'ENST00000296839:c.443A>C', 'ENST00000296839:c.447A>C', 'ENST00000296839:c.796C>T', 'ENST00000296839:c.1278A>G', 'ENST00000296839:c.1306C>G', 'ENST00000259806:c.1398T>C', 'ENST00000405617:c.351A>G', 'ENST00000405617:c.492G>C', 'ENST00000405617:c.839C>A', 'ENST00000334984:c.897G>A', 'ENST00000379802:c.1082T>G', 'ENST00000379802:c.2432A>G', 'ENST00000379802:c.2972G>A', 'ENST00000379802:c.3203C>T', 'ENST00000283147:c.1263G>C', 'ENST00000283141:c.341C>T', 'ENST00000379426:c.24C>T', 'ENST00000229922:c.1669A>G', 'ENST00000340650:c.346C>T', 'ENST00000340650:c.326T>C', 'ENST00000565469:c.716T>C', 'ENST00000329474:c.509C>G', 'ENST00000329474:c.515A>C', 'ENST00000377905:c.347T>C', 'ENST00000377905:c.1233G>A', 'ENST00000377364:c.48C>T', 'ENST00000259791:c.291C>T', 'ENST00000338379:c.575C>A', 'ENST00000338379:c.197C>T', 'ENST00000338379:c.83G>C', 'ENST00000244513:c.225T>C', 'ENST00000244513:c.703G>A', 'ENST00000244513:c.744C>A', 'ENST00000244513:c.1575C>G', 'ENST00000377451:c.2707G>A', 'ENST00000377451:c.2356G>A', 'ENST00000343684:c.1245A>G', 'ENST00000438996:c.149A>G', 'ENST00000377171:c.631G>A', 'ENST00000377171:c.879T>C', 'ENST00000377171:c.914C>T', 'ENST00000377167:c.322T>C', 'ENST00000377167:c.539T>C', 'ENST00000377167:c.744C>G', 'ENST00000377167:c.754A>G', 'ENST00000377160:c.84T>C', 'ENST00000396806:c.244C>T', 'ENST00000383555:c.200G>T', 'ENST00000383555:c.228T>C', 'ENST00000383555:c.400C>G', 'ENST00000383555:c.420T>G', 'ENST00000383555:c.423C>G', 'ENST00000383555:c.536G>A', 'ENST00000383555:c.826T>C', 'ENST00000514827:c.716G>C', 'ENST00000444197:c.888T>C', 'ENST00000455234:c.1446G>A', 'ENST00000415546:c.15G>A', 'ENST00000415546:c.520G>A', 'ENST00000581376:c.539T>C', 'ENST00000581376:c.772C>G', 'ENST00000581376:c.801G>T', 'ENST00000581376:c.858A>T', 'ENST00000581376:c.1041G>A', 'ENST00000581376:c.1075T>C', 'ENST00000581376:c.1168C>A', 'ENST00000581376:c.1178T>A', 'ENST00000581376:c.1192G>A', 'ENST00000581376:c.1259T>C', 'ENST00000581376:c.1267C>G', 'ENST00000581376:c.1296C>A', 'ENST00000452596:c.1185G>A', 'ENST00000452596:c.1220A>G', 'ENST00000452596:c.1223G>T', 'ENST00000259875:c.2151C>T', 'ENST00000548165:c.96C>T', 'ENST00000462446:c.2187A>G', 'ENST00000462446:c.3488T>C', 'ENST00000376296:c.1018G>C', 'ENST00000376296:c.1027G>A', 'ENST00000376296:c.1066C>T', 'ENST00000376296:c.1118C>A', 'ENST00000376296:c.1416C>A', 'ENST00000376296:c.1432G>A', 'ENST00000376296:c.1490G>A', 'ENST00000376296:c.1491C>T', 'ENST00000376296:c.1498T>A', 'ENST00000376296:c.1500C>T', 'ENST00000376296:c.1900C>A', 'ENST00000561890:c.402T>A', 'ENST00000561890:c.524C>T', 'ENST00000561890:c.558A>G', 'ENST00000561890:c.592G>T', 'ENST00000561890:c.801A>T', 'ENST00000561890:c.983A>G', 'ENST00000561890:c.4717G>C', 'ENST00000561890:c.4927T>C', 'ENST00000452899:c.251C>G', 'ENST00000383331:c.30T>C', 'ENST00000430299:c.94G>C', 'ENST00000376191:c.422G>A', 'ENST00000299367:c.1299G>A', 'ENST00000425368:c.1185C>T', 'ENST00000594256:c.41C>T', 'ENST00000383321:c.226G>A', 'ENST00000383321:c.436T>A', 'ENST00000383321:c.470C>G', 'ENST00000594256:c.33G>C', 'ENST00000383321:c.724G>C', 'ENST00000383321:c.762G>T', 'ENST00000452386:c.126T>C', 'ENST00000452386:c.146A>C', 'ENST00000418967:c.466G>A', 'ENST00000418967:c.964G>C', 'ENST00000374993:c.280T>A', 'ENST00000374993:c.180C>T', 'ENST00000293748:c.3539T>C', 'ENST00000374316:c.5407C>T', 'ENST00000288065:c.360T>C', 'ENST00000339717:c.1716C>T', 'ENST00000312917:c.1149C>A', 'ENST00000312917:c.1445T>C', 'ENST00000448526:c.109A>G', 'ENST00000373674:c.476A>C', 'ENST00000327475:c.2332A>G', 'ENST00000327475:c.3035G>A', 'ENST00000327475:c.3258C>G', 'ENST00000327475:c.4219G>A', 'ENST00000327475:c.5733C>T', 'ENST00000327475:c.7533G>A', 'ENST00000327475:c.7644C>T', 'ENST00000327475:c.8118C>T', 'ENST00000373256:c.442A>G', 'ENST00000274867:c.2082G>A', 'ENST00000274867:c.2136C>A', 'ENST00000341495:c.321T>C', 'ENST00000341495:c.443C>T', 'ENST00000341495:c.607C>T', 'ENST00000373083:c.637T>C', 'ENST00000373083:c.996A>G', 'ENST00000359201:c.1569C>T', 'ENST00000372899:c.810A>T', 'ENST00000230381:c.1253A>G', 'ENST00000230381:c.1169G>A', 'ENST00000230381:c.1150C>G', 'ENST00000304672:c.397G>A', 'ENST00000230418:c.1998G>A', 'ENST00000252050:c.1233C>G', 'ENST00000372574:c.1215T>C', 'ENST00000372574:c.1269C>T', 'ENST00000398776:c.1599A>G', 'ENST00000371503:c.1179A>C', 'ENST00000288390:c.369G>A', 'ENST00000288390:c.572T>A', 'ENST00000371347:c.477T>C', 'ENST00000316081:c.1192A>G', 'ENST00000230588:c.732G>A', 'ENST00000230588:c.1414G>T', 'ENST00000230588:c.1674G>A', 'ENST00000230588:c.2186C>T', 'ENST00000296862:c.349T>C', 'ENST00000296862:c.970T>A', 'ENST00000283303:c.1881A>C', 'ENST00000371197:c.160T>C', 'ENST00000371197:c.185A>T', 'ENST00000371197:c.466C>A', 'ENST00000371194:c.527C>G', 'ENST00000334575:c.531A>G', 'ENST00000370888:c.854A>G', 'ENST00000274897:c.130G>A', 'ENST00000259782:c.568T>C', 'ENST00000259782:c.692C>T', 'ENST00000306858:c.194A>G', 'ENST00000370862:c.1258A>G', 'ENST00000340465:c.1245T>C', 'ENST00000370733:c.228A>G', 'ENST00000544932:c.240T>G', 'ENST00000281156:c.1281A>G', 'ENST00000370598:c.2329A>G', 'ENST00000238918:c.1752G>A', 'ENST00000322773:c.2388C>T', 'ENST00000264839:c.666A>G', 'ENST00000264839:c.1083A>G', 'ENST00000342056:c.521C>G', 'ENST00000287097:c.757C>T', 'ENST00000287097:c.2220A>C', 'ENST00000287097:c.2645G>A', 'ENST00000287097:c.3834C>T', 'ENST00000607739:c.1369G>A', 'ENST00000369750:c.1853G>A', 'ENST00000369700:c.848G>A', 'ENST00000257770:c.1175A>G', 'ENST00000369499:c.1509G>A', 'ENST00000369451:c.1397G>A', 'ENST00000339746:c.692A>G', 'ENST00000339746:c.1351A>G', 'ENST00000339746:c.1828C>T', 'ENST00000302103:c.1035A>G', 'ENST00000328345:c.797T>G', 'ENST00000369066:c.1958T>C', 'ENST00000606766:c.1955C>G', 'ENST00000606766:c.1815C>G', 'ENST00000606766:c.1451C>G', 'ENST00000606766:c.1275C>G', 'ENST00000606766:c.889C>G', 'ENST00000606766:c.629G>C', 'ENST00000417143:c.421G>A', 'ENST00000417143:c.761G>A', 'ENST00000417143:c.773C>T', 'ENST00000417143:c.1045G>A', 'ENST00000417143:c.1085G>A', 'ENST00000417143:c.1151A>G', 'ENST00000417143:c.1596C>T', 'ENST00000417143:c.1754C>T', 'ENST00000417143:c.1878A>G', 'ENST00000368923:c.722G>A', 'ENST00000368605:c.333G>A', 'ENST00000368605:c.393A>G', 'ENST00000368596:c.515G>A', 'ENST00000368596:c.581T>C', 'ENST00000229554:c.1804G>A', 'ENST00000229554:c.1903T>C', 'ENST00000368440:c.1422C>T', 'ENST00000519565:c.4T>C', 'ENST00000421865:c.430C>A', 'ENST00000421865:c.1905G>A', 'ENST00000421865:c.2848A>G', 'ENST00000421865:c.5515A>G', 'ENST00000421865:c.5551G>A', 'ENST00000421865:c.6286G>A', 'ENST00000421865:c.7809C>T', 'ENST00000421865:c.7879G>C', 'ENST00000361794:c.718C>A', 'ENST00000361794:c.995T>C', 'ENST00000434551:c.9C>T', 'ENST00000434551:c.181T>A', 'ENST00000434551:c.832G>A', 'ENST00000275200:c.983A>C', 'ENST00000275198:c.78C>T', 'ENST00000275198:c.793G>A', 'ENST00000275198:c.872G>A', 'ENST00000258034:c.266C>T', 'ENST00000367734:c.412C>T', 'ENST00000251691:c.2231T>G', 'ENST00000251691:c.6114G>A', 'ENST00000491526:c.23C>A', 'ENST00000367658:c.513T>C', 'ENST00000450456:c.252C>T', 'ENST00000230173:c.843A>G', 'ENST00000230173:c.1164A>C', 'ENST00000230173:c.1952G>A', 'ENST00000230173:c.3856A>G', 'ENST00000367526:c.249T>C', 'ENST00000367526:c.310G>A', 'ENST00000397944:c.952A>G', 'ENST00000397944:c.1005T>C', 'ENST00000326916:c.617A>G', 'ENST00000239367:c.441G>A', 'ENST00000367351:c.442A>C', 'ENST00000253332:c.504A>G', 'ENST00000253332:c.538A>G', 'ENST00000253332:c.835A>C', 'ENST00000253332:c.1353G>A', 'ENST00000253332:c.1560T>C', 'ENST00000253332:c.2948A>G', 'ENST00000253332:c.3733G>A', 'ENST00000253332:c.4252G>A', 'ENST00000253332:c.4933G>A', 'ENST00000253332:c.4989A>C', 'ENST00000239374:c.420A>G', 'ENST00000318981:c.2242G>A', 'ENST00000275246:c.551T>C', 'ENST00000275246:c.587C>T', 'ENST00000275248:c.962A>G', 'ENST00000367094:c.1396C>T', 'ENST00000367094:c.1399T>C', 'ENST00000367094:c.1954A>G', 'ENST00000297267:c.306T>C', 'ENST00000297267:c.1587G>C', 'ENST00000297267:c.2291C>G', 'ENST00000297267:c.2686G>A', 'ENST00000297267:c.3143G>T', 'ENST00000297267:c.3207C>G', 'ENST00000297267:c.3650A>C', 'ENST00000297267:c.3740C>G', 'ENST00000297267:c.3758A>G', 'ENST00000297267:c.3982T>C', 'ENST00000297267:c.4039A>G', 'ENST00000297267:c.4058A>G', 'ENST00000252660:c.647C>T', 'ENST00000324965:c.156T>C', 'ENST00000324965:c.480G>C', 'ENST00000324965:c.1222A>G', 'ENST00000275300:c.1385G>A', 'ENST00000308192:c.2349T>G', 'ENST00000322583:c.1066C>G', 'ENST00000322583:c.661C>A', 'ENST00000322583:c.648G>C', 'ENST00000322583:c.448G>A', 'ENST00000283507:c.493G>A', 'ENST00000283507:c.526G>C', 'ENST00000230256:c.627G>A', 'ENST00000476779:c.467G>A', 'ENST00000403952:c.699C>G', 'ENST00000308919:c.179C>T', 'ENST00000297508:c.2164G>A', 'ENST00000325979:c.496T>C', 'ENST00000325979:c.1728C>T', 'ENST00000325979:c.1816G>T', 'ENST00000389531:c.4179C>T', 'ENST00000389531:c.4605G>C', 'ENST00000389531:c.4824T>C', 'ENST00000389531:c.4887T>C', 'ENST00000389531:c.4922A>G', 'ENST00000297195:c.1103T>C', 'ENST00000601673:c.903C>T', 'ENST00000457543:c.580G>A', 'ENST00000457543:c.647A>G', 'ENST00000457543:c.726G>A', 'ENST00000399484:c.233A>G', 'ENST00000399484:c.701A>G', 'ENST00000297186:c.1476T>C', 'ENST00000297029:c.575C>T', 'ENST00000506618:c.918G>T', 'ENST00000404938:c.1279G>T', 'ENST00000404938:c.1436C>A', 'ENST00000404938:c.1657C>T', 'ENST00000404938:c.1761A>G', 'ENST00000258738:c.469T>C', 'ENST00000258738:c.641G>A', 'ENST00000258738:c.810A>G', 'ENST00000258738:c.2040G>A', 'ENST00000328843:c.85C>T', 'ENST00000328843:c.131G>T', 'ENST00000328843:c.132A>T', 'ENST00000328843:c.736C>T', 'ENST00000328843:c.1096A>G', 'ENST00000328843:c.1987C>T', 'ENST00000328843:c.2485A>G', 'ENST00000328843:c.3143A>G', 'ENST00000328843:c.3661G>A', 'ENST00000328843:c.4495T>C', 'ENST00000328843:c.5542G>A', 'ENST00000328843:c.7342C>T', 'ENST00000328843:c.7387G>A', 'ENST00000328843:c.7678G>A', 'ENST00000328843:c.7828C>T', 'ENST00000328843:c.7953A>G', 'ENST00000328843:c.9613G>A', 'ENST00000328843:c.11174G>T', 'ENST00000328843:c.11350T>C', 'ENST00000404369:c.1346C>A', 'ENST00000354639:c.608G>C', 'ENST00000242152:c.133T>C', 'ENST00000242109:c.488A>G', 'ENST00000409974:c.809A>G', 'ENST00000409974:c.1001T>C', 'ENST00000423511:c.934A>G', 'ENST00000439384:c.289A>G', 'ENST00000222792:c.1141A>G', 'ENST00000319694:c.742C>G', 'ENST00000324453:c.348C>G', 'ENST00000265299:c.1042C>T', 'ENST00000319386:c.1088C>A', 'ENST00000319386:c.1344G>T', 'ENST00000407970:c.893T>C', 'ENST00000407970:c.1168A>G', 'ENST00000321453:c.2439G>A', 'ENST00000297161:c.954G>A', 'ENST00000297161:c.1835G>T', 'ENST00000359791:c.524C>G', 'ENST00000242108:c.1746G>A', 'ENST00000426402:c.513T>C', 'ENST00000426402:c.492G>A', 'ENST00000432096:c.505G>C', 'ENST00000265523:c.83G>A', 'ENST00000223357:c.1122C>A', 'ENST00000223357:c.1301A>G', 'ENST00000275525:c.1055A>G', 'ENST00000408988:c.350A>G', 'ENST00000348904:c.583C>T', 'ENST00000348904:c.667T>C', 'ENST00000348904:c.785T>C', 'ENST00000348904:c.814C>A', 'ENST00000348904:c.1007T>C', 'ENST00000417403:c.719T>A', 'ENST00000435803:c.1541C>T', 'ENST00000435803:c.1688G>A', 'ENST00000435803:c.2324T>G', 'ENST00000435803:c.3435G>A', 'ENST00000435803:c.4710C>T', 'ENST00000435803:c.5040G>A', 'ENST00000435803:c.6557C>A', 'ENST00000435803:c.8044C>T', 'ENST00000435803:c.9159C>T', 'ENST00000435803:c.11576A>T', 'ENST00000435803:c.12135T>C', 'ENST00000411975:c.655A>G', 'ENST00000596947:c.187G>C', 'ENST00000596947:c.266C>G', 'ENST00000596947:c.436T>C', 'ENST00000596947:c.466A>C', 'ENST00000340652:c.915C>G', 'ENST00000297001:c.852A>G', 'ENST00000408890:c.77C>A', 'ENST00000408890:c.206C>G', 'ENST00000408890:c.223G>A', 'ENST00000408890:c.446C>T', 'ENST00000408890:c.598G>C', 'ENST00000275493:c.2886T>C', 'ENST00000456204:c.402C>T', 'ENST00000570211:c.942T>C', 'ENST00000570211:c.1337A>C', 'ENST00000550760:c.374G>A', 'ENST00000550760:c.601G>A', 'ENST00000255746:c.982G>A', 'ENST00000572891:c.283T>A', 'ENST00000575648:c.465G>C', 'ENST00000570719:c.64T>A', 'ENST00000575262:c.147C>T', 'ENST00000575262:c.268T>C', 'ENST00000575262:c.651C>T', 'ENST00000570795:c.1297G>A', 'ENST00000572452:c.86A>G', 'ENST00000405086:c.1993G>A', 'ENST00000405086:c.1730C>A', 'ENST00000573227:c.419C>G', 'ENST00000573227:c.322C>G', 'ENST00000571189:c.989A>C', 'ENST00000336517:c.1136T>C', 'ENST00000257632:c.978A>C', 'ENST00000257632:c.1006A>G', 'ENST00000257632:c.1083T>C', 'ENST00000285871:c.754A>G', 'ENST00000431501:c.138C>T', 'ENST00000265727:c.321C>G', 'ENST00000287908:c.443T>G', 'ENST00000316089:c.1719G>A', 'ENST00000356239:c.3737A>G', 'ENST00000356239:c.6011C>T', 'ENST00000297268:c.1917A>C', 'ENST00000297268:c.2116C>G', 'ENST00000601424:c.349C>T', 'ENST00000316368:c.254T>C', 'ENST00000198536:c.246T>C', 'ENST00000348028:c.3200T>G', 'ENST00000348028:c.4288G>A', 'ENST00000348028:c.5139C>T', 'ENST00000348028:c.5185G>T', 'ENST00000348028:c.5258T>C', 'ENST00000348028:c.6071C>G', 'ENST00000348028:c.6268G>C', 'ENST00000348028:c.6382A>G', 'ENST00000348028:c.6496T>C', 'ENST00000348028:c.7452T>C', 'ENST00000348028:c.8173G>C', 'ENST00000388761:c.684A>C', 'ENST00000319509:c.1560A>C', 'ENST00000379442:c.380G>C', 'ENST00000379442:c.1061C>G', 'ENST00000379442:c.1225T>G', 'ENST00000379442:c.1790C>T', 'ENST00000379442:c.2246T>C', 'ENST00000379442:c.3923G>C', 'ENST00000379442:c.13035T>C', 'ENST00000379442:c.14096C>T', 'ENST00000379442:c.14223C>T', 'ENST00000379442:c.14614G>A', 'ENST00000306151:c.3453T>C', 'ENST00000306151:c.3737C>T', 'ENST00000313669:c.255C>T', 'ENST00000313669:c.261C>T', 'ENST00000313669:c.1221C>T', 'ENST00000536178:c.91G>C', 'ENST00000535008:c.574C>T', 'ENST00000317716:c.428G>T', 'ENST00000317716:c.2414T>C', 'ENST00000265717:c.355G>T', 'ENST00000318493:c.4099C>T', 'ENST00000318493:c.4258G>A', 'ENST00000318493:c.4333G>A', 'ENST00000310396:c.1340G>T', 'ENST00000310396:c.1478G>C', 'ENST00000310396:c.2119C>G', 'ENST00000222462:c.534G>A', 'ENST00000222462:c.1078C>T', 'ENST00000393386:c.891G>A', 'ENST00000340112:c.241G>A', 'ENST00000249284:c.731G>A', 'ENST00000275699:c.212C>T', 'ENST00000223028:c.989G>A', 'ENST00000378740:c.1046A>G', 'ENST00000341640:c.1168A>C', 'ENST00000262432:c.833G>A', 'ENST00000315184:c.494C>A', 'ENST00000315184:c.777G>A', 'ENST00000325888:c.4665T>C', 'ENST00000249373:c.1444G>C', 'ENST00000325006:c.267C>T', 'ENST00000297819:c.313C>T', 'ENST00000222481:c.688T>C', 'ENST00000579032:c.495C>T', 'ENST00000579032:c.744T>C', 'ENST00000579032:c.1056T>C', 'ENST00000579032:c.1641T>C', 'ENST00000579597:c.315G>C', 'ENST00000579597:c.624C>T', 'ENST00000579597:c.750C>T', 'ENST00000583337:c.961C>G', 'ENST00000583337:c.895A>T', 'ENST00000583337:c.545G>C', 'ENST00000322985:c.584G>A', 'ENST00000285928:c.1305C>T', 'ENST00000359579:c.395T>C', 'ENST00000359579:c.896A>G', 'ENST00000359579:c.1257A>G', 'ENST00000361388:c.1367G>A', 'ENST00000275763:c.368T>A', 'ENST00000275763:c.598G>C', 'ENST00000275763:c.1443C>G', 'ENST00000275764:c.201G>A', 'ENST00000397602:c.257G>C', 'ENST00000275874:c.793T>C', 'ENST00000565468:c.436C>G', 'ENST00000247879:c.869C>T', 'ENST00000247881:c.67T>C', 'ENST00000247881:c.333G>C', 'ENST00000247881:c.559G>A', 'ENST00000247883:c.222G>T', 'ENST00000563244:c.2667A>G', 'ENST00000563244:c.3020C>A', 'ENST00000563244:c.3410T>C', 'ENST00000563244:c.3917T>C', 'ENST00000563244:c.3983T>C', 'ENST00000563244:c.4064T>C', 'ENST00000563244:c.5015G>A', 'ENST00000564429:c.1014T>C', 'ENST00000564429:c.1040C>G', 'ENST00000564429:c.1470G>A', 'ENST00000570144:c.2092A>G', 'ENST00000570144:c.4511A>G', 'ENST00000570144:c.5090T>A', 'ENST00000563469:c.196A>G', 'ENST00000562440:c.268G>C', 'ENST00000562511:c.234A>T', 'ENST00000563141:c.237C>G', 'ENST00000563141:c.88C>G', 'ENST00000564119:c.251A>T', 'ENST00000569960:c.327C>G', 'ENST00000569960:c.260G>C', 'ENST00000569960:c.181G>C', 'ENST00000567655:c.328G>C', 'ENST00000567655:c.271C>G', 'ENST00000567655:c.240A>T', 'ENST00000567655:c.200A>T', 'ENST00000567655:c.118A>T', 'ENST00000567655:c.58C>G', 'ENST00000567630:c.363G>C', 'ENST00000567630:c.308A>T', 'ENST00000567630:c.245T>A', 'ENST00000569470:c.248G>C', 'ENST00000565091:c.230C>G', 'ENST00000565091:c.80T>A', 'ENST00000390393:c.245C>T', 'ENST00000390394:c.148A>T', 'ENST00000566736:c.224G>A', 'ENST00000562278:c.62A>G', 'ENST00000561535:c.514A>G', 'ENST00000561535:c.623G>C', 'ENST00000561535:c.744T>C', 'ENST00000567307:c.359G>C', 'ENST00000564856:c.189G>C', 'ENST00000343257:c.439G>T', 'ENST00000409222:c.1015G>A', 'ENST00000332690:c.930T>C', 'ENST00000439431:c.871C>T', 'ENST00000439431:c.870G>A', 'ENST00000439431:c.791G>T', 'ENST00000408955:c.360C>T', 'ENST00000408955:c.726G>A', 'ENST00000408906:c.904T>C', 'ENST00000408898:c.134G>C', 'ENST00000408898:c.262G>A', 'ENST00000408898:c.283T>C', 'ENST00000408898:c.663G>C', 'ENST00000408979:c.909T>G', 'ENST00000408979:c.912T>C', 'ENST00000408899:c.453G>T', 'ENST00000408899:c.547C>G', 'ENST00000408951:c.220C>T', 'ENST00000408951:c.441C>T', 'ENST00000408951:c.470C>T', 'ENST00000361727:c.2175G>A', 'ENST00000488917:c.137A>G', 'ENST00000223210:c.411C>T', 'ENST00000223210:c.1370C>T', 'ENST00000223210:c.2405G>C', 'ENST00000223210:c.3461C>T', 'ENST00000255945:c.559G>T', 'ENST00000004103:c.472G>A', 'ENST00000004103:c.619C>T', 'ENST00000004103:c.665A>G', 'ENST00000004103:c.923A>G', 'ENST00000360937:c.1820T>C', 'ENST00000360937:c.1873C>G', 'ENST00000360937:c.1874G>C', 'ENST00000297494:c.1131T>C', 'ENST00000297494:c.1251T>G', 'ENST00000297494:c.2355C>G', 'ENST00000356058:c.234C>T', 'ENST00000297512:c.906C>A', 'ENST00000392800:c.624T>C', 'ENST00000392800:c.802A>G', 'ENST00000332007:c.856C>T', 'ENST00000332007:c.922A>G', 'ENST00000297375:c.610C>T', 'ENST00000297375:c.1201T>C', 'ENST00000377722:c.1001T>C', 'ENST00000444154:c.236C>T', 'ENST00000262112:c.2130T>C', 'ENST00000262112:c.2724C>T', 'ENST00000262112:c.3726G>A', 'ENST00000566299:c.1228G>A', 'ENST00000566299:c.2133T>C', 'ENST00000566299:c.2727A>C', 'ENST00000566299:c.3015C>T', 'ENST00000566299:c.3644T>C', 'ENST00000297435:c.380T>C', 'ENST00000330590:c.244C>T', 'ENST00000355602:c.113G>T', 'ENST00000314265:c.42A>G', 'ENST00000310430:c.1412A>G', 'ENST00000328655:c.171C>G', 'ENST00000304519:c.72C>T', 'ENST00000304501:c.988T>C', 'ENST00000382435:c.356G>A', 'ENST00000382435:c.920G>C', 'ENST00000382435:c.1092T>C', 'ENST00000382435:c.1139T>C', 'ENST00000525043:c.103G>C', 'ENST00000525043:c.268A>G', 'ENST00000525043:c.366T>A', 'ENST00000525043:c.439C>T', 'ENST00000525043:c.609T>A', 'ENST00000333796:c.1313C>T', 'ENST00000333796:c.501C>T', 'ENST00000333796:c.437G>C', 'ENST00000316609:c.1744G>A', 'ENST00000297324:c.232C>T', 'ENST00000297324:c.1002T>A', 'ENST00000251630:c.1104G>A', 'ENST00000251630:c.1233T>C', 'ENST00000286479:c.697G>A', 'ENST00000286479:c.910G>A', 'ENST00000265807:c.618A>G', 'ENST00000265807:c.888G>T', 'ENST00000318561:c.587C>A', 'ENST00000240123:c.2100A>G', 'ENST00000289989:c.735C>T', 'ENST00000221166:c.2097C>A', 'ENST00000276440:c.935G>A', 'ENST00000276440:c.1853C>T', 'ENST00000276440:c.2693A>G', 'ENST00000276440:c.2913A>T', 'ENST00000276440:c.3112A>G', 'ENST00000276440:c.3662C>T', 'ENST00000276440:c.3898A>G', 'ENST00000276393:c.1475T>C', 'ENST00000380572:c.1342A>G', 'ENST00000240132:c.1300C>T', 'ENST00000287842:c.573G>A', 'ENST00000287842:c.1317T>C', 'ENST00000315215:c.3051C>G', 'ENST00000315215:c.3372C>T', 'ENST00000302495:c.1066T>C', 'ENST00000523400:c.139G>A', 'ENST00000379907:c.1527C>G', 'ENST00000265707:c.918T>C', 'ENST00000389060:c.703C>T', 'ENST00000315792:c.91G>A', 'ENST00000458501:c.24G>A', 'ENST00000331251:c.1881A>T', 'ENST00000220676:c.2763G>A', 'ENST00000220676:c.5156G>A', 'ENST00000220676:c.5219T>C', 'ENST00000220676:c.5323A>G', 'ENST00000518373:c.277C>T', 'ENST00000288368:c.1472C>A', 'ENST00000288368:c.1477G>A', 'ENST00000262207:c.1525G>A', 'ENST00000396423:c.210G>A', 'ENST00000354370:c.840G>A', 'ENST00000327835:c.997G>A', 'ENST00000518568:c.1628T>C', 'ENST00000285381:c.174G>A', 'ENST00000297524:c.1459T>C', 'ENST00000521593:c.348T>G', 'ENST00000391680:c.406G>A', 'ENST00000323130:c.1798A>G', 'ENST00000027335:c.2066G>A', 'ENST00000391679:c.322T>C', 'ENST00000391679:c.416T>C', 'ENST00000302190:c.1074C>T', 'ENST00000322128:c.191G>A', 'ENST00000445593:c.710A>G', 'ENST00000445593:c.749G>C', 'ENST00000254898:c.951T>C', 'ENST00000254898:c.1047G>T', 'ENST00000254898:c.1297A>G', 'ENST00000254898:c.1299A>G', 'ENST00000254898:c.1392C>T', 'ENST00000254898:c.1986T>C', 'ENST00000522135:c.394A>C', 'ENST00000251809:c.1424C>G', 'ENST00000285402:c.789C>G', 'ENST00000285402:c.798C>G', 'ENST00000285402:c.803G>A', 'ENST00000522939:c.253C>T', 'ENST00000358755:c.323A>G', 'ENST00000358755:c.414A>G', 'ENST00000358755:c.1079A>G', 'ENST00000358755:c.2387G>A', 'ENST00000330295:c.790T>C', 'ENST00000378402:c.263G>A', 'ENST00000378402:c.1331G>A', 'ENST00000378402:c.1508C>T', 'ENST00000378402:c.2872A>G', 'ENST00000378402:c.3678A>G', 'ENST00000378402:c.4644C>A', 'ENST00000378402:c.5017A>G', 'ENST00000378402:c.5997G>T', 'ENST00000378402:c.6725G>C', 'ENST00000378402:c.8036A>G', 'ENST00000378402:c.9188A>T', 'ENST00000378402:c.9254C>G', 'ENST00000517814:c.471T>C', 'ENST00000378279:c.321G>T', 'ENST00000378279:c.331G>C', 'ENST00000286234:c.741A>G', 'ENST00000297848:c.882T>C', 'ENST00000247781:c.901T>C', 'ENST00000247781:c.1667A>C', 'ENST00000440844:c.425T>C', 'ENST00000276699:c.885G>A', 'ENST00000399018:c.629T>C', 'ENST00000399018:c.2252G>C', 'ENST00000399018:c.2786G>A', 'ENST00000399018:c.2894T>C', 'ENST00000399018:c.3344T>G', 'ENST00000399018:c.4631G>A', 'ENST00000399018:c.4637C>T', 'ENST00000220616:c.2240T>G', 'ENST00000220616:c.2374T>C', 'ENST00000220616:c.3122A>G', 'ENST00000220616:c.3975A>G', 'ENST00000220616:c.4546T>C', 'ENST00000220616:c.5552G>A', 'ENST00000220616:c.5947G>A', 'ENST00000220616:c.7448C>T', 'ENST00000220616:c.7541T>C', 'ENST00000220616:c.7629G>A', 'ENST00000220856:c.668T>C', 'ENST00000303015:c.700T>C', 'ENST00000518520:c.359A>C', 'ENST00000377741:c.780A>G', 'ENST00000377741:c.715C>T', 'ENST00000377741:c.556C>T', 'ENST00000323289:c.1584T>C', 'ENST00000323289:c.3300G>C', 'ENST00000608421:c.330G>A', 'ENST00000570580:c.155A>G', 'ENST00000345173:c.567C>A', 'ENST00000330824:c.87C>T', 'ENST00000340042:c.544C>T', 'ENST00000333480:c.582T>C', 'ENST00000565147:c.617C>T', 'ENST00000534811:c.233T>C', 'ENST00000323662:c.470C>G', 'ENST00000323662:c.703T>C', 'ENST00000323662:c.1405G>T', 'ENST00000323662:c.1635A>G', 'ENST00000323662:c.3260A>G', 'ENST00000323662:c.4299A>C', 'ENST00000323662:c.4701G>C', 'ENST00000562477:c.621C>G', 'ENST00000359971:c.648G>A', 'ENST00000359971:c.1153T>C', 'ENST00000382500:c.705A>G', 'ENST00000382500:c.484G>C', 'ENST00000382387:c.1188C>G', 'ENST00000382293:c.1693G>C', 'ENST00000382293:c.1712T>G', 'ENST00000382289:c.95T>C', 'ENST00000382286:c.420C>T', 'ENST00000382286:c.591A>G', 'ENST00000190165:c.349T>C', 'ENST00000302441:c.1572G>C', 'ENST00000382082:c.421C>G', 'ENST00000382082:c.1033C>G', 'ENST00000239316:c.294T>A', 'ENST00000223862:c.466G>A', 'ENST00000314556:c.544T>C', 'ENST00000319264:c.870A>G', 'ENST00000297641:c.421C>T', 'ENST00000262360:c.2114C>T', 'ENST00000262360:c.2574T>C', 'ENST00000262360:c.2721G>A', 'ENST00000276935:c.153T>A', 'ENST00000276935:c.1353A>G', 'ENST00000380548:c.2806C>A', 'ENST00000380548:c.2952A>C', 'ENST00000380548:c.3308A>C', 'ENST00000380548:c.3480T>C', 'ENST00000380548:c.3534G>A', 'ENST00000380538:c.32A>G', 'ENST00000380232:c.228C>T', 'ENST00000421715:c.288G>A', 'ENST00000357374:c.227A>T', 'ENST00000357374:c.224C>G', 'ENST00000357374:c.143G>C', 'ENST00000357374:c.138G>C', 'ENST00000357374:c.112A>G', 'ENST00000357374:c.106T>A', 'ENST00000380216:c.447T>C', 'ENST00000380216:c.403G>C', 'ENST00000380216:c.401T>C', 'ENST00000380216:c.289G>C', 'ENST00000380216:c.200T>A', 'ENST00000380216:c.145A>G', 'ENST00000413767:c.206C>T', 'ENST00000259555:c.510C>T', 'ENST00000276927:c.555C>G', 'ENST00000380172:c.372G>A', 'ENST00000358022:c.904A>G', 'ENST00000380036:c.1479A>C', 'ENST00000276943:c.420A>G', 'ENST00000242310:c.5196A>G', 'ENST00000342743:c.627G>A', 'ENST00000290943:c.293G>A', 'ENST00000290943:c.2388C>T', 'ENST00000290943:c.2985T>G', 'ENST00000379435:c.270A>G', 'ENST00000379435:c.372A>T', 'ENST00000379435:c.409G>A', 'ENST00000361226:c.355A>G', 'ENST00000399742:c.638C>T', 'ENST00000354323:c.283C>T', 'ENST00000354323:c.331G>A', 'ENST00000354323:c.377G>A', 'ENST00000354323:c.413C>A', 'ENST00000335119:c.902G>A', 'ENST00000377792:c.454A>G', 'ENST00000359927:c.441G>A', 'ENST00000377765:c.773C>T', 'ENST00000377765:c.864C>T', 'ENST00000276974:c.1334T>A', 'ENST00000377564:c.2110T>G', 'ENST00000377564:c.2348T>G', 'ENST00000377542:c.155T>G', 'ENST00000579791:c.655T>C', 'ENST00000377276:c.833C>G', 'ENST00000377197:c.474C>T', 'ENST00000377182:c.1498G>A', 'ENST00000297784:c.585C>T', 'ENST00000297784:c.781G>A', 'ENST00000424854:c.1927G>C', 'ENST00000424854:c.2255A>C', 'ENST00000424854:c.2287G>A', 'ENST00000424854:c.2924G>A', 'ENST00000424854:c.3058A>G', 'ENST00000424854:c.3128C>T', 'ENST00000424854:c.3197G>A', 'ENST00000424854:c.3340G>C', 'ENST00000424854:c.3390A>G', 'ENST00000265284:c.91A>G', 'ENST00000325643:c.1069A>C', 'ENST00000325643:c.2112C>A', 'ENST00000325643:c.3122T>A', 'ENST00000325643:c.3483T>C', 'ENST00000325643:c.3671A>G', 'ENST00000325643:c.4115G>A', 'ENST00000297954:c.267C>T', 'ENST00000297954:c.1011T>C', 'ENST00000297954:c.1926C>T', 'ENST00000297954:c.2482G>A', 'ENST00000297954:c.3153G>C', 'ENST00000297954:c.3624G>A', 'ENST00000297954:c.4596A>G', 'ENST00000288985:c.324C>T', 'ENST00000375123:c.1048T>C', 'ENST00000375123:c.1486C>T', 'ENST00000375011:c.136G>A', 'ENST00000375001:c.911G>A', 'ENST00000375001:c.1033A>G', 'ENST00000375001:c.1759G>A', 'ENST00000330847:c.795A>G', 'ENST00000334726:c.142T>C', 'ENST00000334726:c.320C>G', 'ENST00000334726:c.390A>G', 'ENST00000334726:c.489G>A', 'ENST00000334726:c.850C>T', 'ENST00000335040:c.56C>A', 'ENST00000374779:c.867T>C', 'ENST00000374779:c.477A>G', 'ENST00000374779:c.350C>G', 'ENST00000374779:c.340A>G', 'ENST00000374779:c.329C>T', 'ENST00000374779:c.299T>A', 'ENST00000374779:c.147C>T', 'ENST00000542196:c.820C>T', 'ENST00000259362:c.591C>A', 'ENST00000259362:c.90A>C', 'ENST00000318763:c.104T>C', 'ENST00000318763:c.616A>C', 'ENST00000318763:c.873C>T', 'ENST00000189978:c.609A>G', 'ENST00000189978:c.671C>T', 'ENST00000189978:c.1373G>A', 'ENST00000358883:c.1290C>T', 'ENST00000313525:c.153G>A', 'ENST00000457681:c.223A>G', 'ENST00000374232:c.449T>C', 'ENST00000374232:c.536G>C', 'ENST00000374232:c.1049T>C', 'ENST00000317613:c.1619C>T', 'ENST00000288466:c.444C>T', 'ENST00000288466:c.699C>T', 'ENST00000288466:c.708G>A', 'ENST00000374124:c.988T>C', 'ENST00000356083:c.656G>A', 'ENST00000356083:c.750A>G', 'ENST00000356083:c.1655G>A', 'ENST00000356083:c.2001T>C', 'ENST00000356083:c.2222A>T', 'ENST00000356083:c.2293C>T', 'ENST00000356083:c.4177T>C', 'ENST00000328252:c.1350C>T', 'ENST00000445861:c.2095A>G', 'ENST00000565320:c.228A>T', 'ENST00000223423:c.27T>C', 'ENST00000335302:c.494G>A', 'ENST00000304880:c.540T>C', 'ENST00000304880:c.490T>C', 'ENST00000304880:c.52C>T', 'ENST00000373688:c.152C>T', 'ENST00000373688:c.167T>C', 'ENST00000373688:c.388G>C', 'ENST00000373688:c.643T>C', 'ENST00000373688:c.652T>C', 'ENST00000373688:c.789T>G', 'ENST00000373688:c.960C>T', 'ENST00000304865:c.714G>C', 'ENST00000304865:c.655T>G', 'ENST00000304865:c.599A>C', 'ENST00000304865:c.514G>C', 'ENST00000304865:c.161A>C', 'ENST00000304865:c.100C>T', 'ENST00000259466:c.418T>A', 'ENST00000259466:c.700G>A', 'ENST00000304720:c.67C>A', 'ENST00000304720:c.449G>A', 'ENST00000304720:c.644T>C', 'ENST00000304720:c.662G>A', 'ENST00000304720:c.669G>C', 'ENST00000304720:c.700G>A', 'ENST00000359999:c.360C>A', 'ENST00000359999:c.525T>C', 'ENST00000359999:c.567G>C', 'ENST00000359999:c.1084C>T', 'ENST00000359999:c.2217T>C', 'ENST00000359999:c.2614G>A', 'ENST00000359999:c.2996A>G', 'ENST00000373615:c.1522G>C', 'ENST00000334810:c.368A>G', 'ENST00000334810:c.796C>G', 'ENST00000334810:c.802C>T', 'ENST00000334810:c.1743T>C', 'ENST00000288815:c.457A>G', 'ENST00000373574:c.571A>G', 'ENST00000373574:c.634C>G', 'ENST00000361171:c.216G>A', 'ENST00000355497:c.448A>G', 'ENST00000355497:c.733G>C', 'ENST00000373457:c.2208T>C', 'ENST00000342483:c.498C>T', 'ENST00000373289:c.1658A>G', 'ENST00000373289:c.1843A>G', 'ENST00000373289:c.2531A>G', 'ENST00000443493:c.275G>A', 'ENST00000341179:c.1100C>T', 'ENST00000372642:c.246C>T', 'ENST00000315480:c.566C>T', 'ENST00000372406:c.1851A>G', 'ENST00000599518:c.471T>G', 'ENST00000594717:c.265G>A', 'ENST00000361069:c.352T>G', 'ENST00000361069:c.988A>G', 'ENST00000361069:c.1096C>T', 'ENST00000361069:c.1764A>G', 'ENST00000361069:c.2441C>G', 'ENST00000361069:c.3241G>A', 'ENST00000361069:c.3247C>G', 'ENST00000361069:c.3377A>G', 'ENST00000355452:c.421G>A', 'ENST00000360670:c.1514C>T', 'ENST00000360670:c.1652C>T', 'ENST00000372179:c.1812A>G', 'ENST00000343036:c.591T>C', 'ENST00000570203:c.1670A>G', 'ENST00000562694:c.540T>C', 'ENST00000562694:c.1743G>A', 'ENST00000563353:c.102T>C', 'ENST00000354484:c.1331C>T', 'ENST00000354484:c.1397A>T', 'ENST00000354484:c.1416A>C', 'ENST00000354484:c.1457C>T', 'ENST00000263611:c.229C>T', 'ENST00000393056:c.1422A>G', 'ENST00000371817:c.1152C>T', 'ENST00000371817:c.2002G>A', 'ENST00000291744:c.232T>C', 'ENST00000339720:c.153A>G', 'ENST00000252854:c.370T>C', 'ENST00000340780:c.409C>T', 'ENST00000340780:c.412T>C', 'ENST00000340780:c.496G>C', 'ENST00000340780:c.504C>T', 'ENST00000340780:c.566G>C', 'ENST00000340780:c.583T>C', 'ENST00000340780:c.610T>C', 'ENST00000576146:c.845C>T', 'ENST00000576146:c.887G>A', 'ENST00000576146:c.985T>C', 'ENST00000561941:c.1172C>T', 'ENST00000444897:c.705C>T', 'ENST00000308874:c.774G>A', 'ENST00000371691:c.1310A>G', 'ENST00000371691:c.1534G>A', 'ENST00000371691:c.1570T>C', 'ENST00000338005:c.1059T>C', 'ENST00000436881:c.777T>C', 'ENST00000317446:c.923C>T', 'ENST00000317446:c.2772T>G', 'ENST00000224181:c.192T>G', 'ENST00000224181:c.413A>G', 'ENST00000371632:c.257C>T', 'ENST00000371629:c.147C>T', 'ENST00000371629:c.215C>T', 'ENST00000371629:c.235A>G', 'ENST00000371629:c.332G>C', 'ENST00000371629:c.783T>G', 'ENST00000224167:c.93A>G', 'ENST00000265662:c.2185T>C', 'ENST00000312665:c.1437T>C', 'ENST00000315048:c.1886A>G', 'ENST00000315048:c.1952G>A', 'ENST00000359069:c.373C>T', 'ENST00000361134:c.943T>C', 'ENST00000361134:c.1724A>T', 'ENST00000388931:c.557C>G', 'ENST00000388931:c.678C>T', 'ENST00000341349:c.198C>G', 'ENST00000277551:c.1828G>A', 'ENST00000277549:c.2729G>T', 'ENST00000277549:c.4453G>A', 'ENST00000277549:c.5734C>T', 'ENST00000381489:c.221G>A', 'ENST00000381466:c.387A>C', 'ENST00000298375:c.972C>T', 'ENST00000380859:c.462A>G', 'ENST00000585191:c.328G>T', 'ENST00000583876:c.882A>G', 'ENST00000583876:c.964G>A', 'ENST00000583238:c.441C>G', 'ENST00000579273:c.499A>G', 'ENST00000380332:c.353A>G', 'ENST00000380332:c.351G>A', 'ENST00000380332:c.304A>G', 'ENST00000315238:c.443G>A', 'ENST00000358415:c.640C>T', 'ENST00000358415:c.954A>G', 'ENST00000358415:c.2186C>G', 'ENST00000298428:c.524C>T', 'ENST00000378825:c.901T>C', 'ENST00000567893:c.319T>C', 'ENST00000567893:c.326A>G', 'ENST00000377369:c.1011C>A', 'ENST00000377369:c.1183G>A', 'ENST00000377266:c.104G>A', 'ENST00000377266:c.304G>C', 'ENST00000377266:c.587G>A', 'ENST00000377266:c.1724A>C', 'ENST00000377266:c.1756A>G', 'ENST00000377266:c.1998G>T', 'ENST00000377266:c.2177T>C', 'ENST00000377266:c.2789C>T', 'ENST00000377266:c.2911G>A', 'ENST00000377265:c.34G>A', 'ENST00000377265:c.50A>G', 'ENST00000377265:c.178C>T', 'ENST00000377265:c.873G>A', 'ENST00000377265:c.1120C>A', 'ENST00000377118:c.379G>C', 'ENST00000377118:c.265A>G', 'ENST00000422359:c.742T>C', 'ENST00000422359:c.483G>A', 'ENST00000422359:c.202T>A', 'ENST00000376504:c.991T>C', 'ENST00000323327:c.209G>T', 'ENST00000376495:c.273C>T', 'ENST00000376356:c.787A>G', 'ENST00000376351:c.1633C>G', 'ENST00000265944:c.1122G>A', 'ENST00000265944:c.1208A>G', 'ENST00000265944:c.1270C>T', 'ENST00000265944:c.1271G>A', 'ENST00000265944:c.3033G>A', 'ENST00000265944:c.3763G>A', 'ENST00000265944:c.4016A>T', 'ENST00000265944:c.4103C>A', 'ENST00000570930:c.2006C>G', 'ENST00000570930:c.1680T>A', 'ENST00000570930:c.1651T>A', 'ENST00000570930:c.1536A>T', 'ENST00000423465:c.83C>T', 'ENST00000375500:c.95A>G', 'ENST00000375500:c.380A>C', 'ENST00000302316:c.588A>G', 'ENST00000302316:c.1265G>C', 'ENST00000302316:c.1586T>C', 'ENST00000302316:c.1636G>C', 'ENST00000302316:c.2002T>C', 'ENST00000302316:c.2292G>A', 'ENST00000321660:c.674G>A', 'ENST00000361713:c.2403G>A', 'ENST00000361713:c.2682G>C', 'ENST00000361713:c.2833G>A', 'ENST00000361713:c.2851G>A', 'ENST00000361713:c.2871T>C', 'ENST00000361713:c.2884C>T', 'ENST00000544824:c.905C>T', 'ENST00000423687:c.392A>G', 'ENST00000340058:c.1476A>G', 'ENST00000306006:c.1278T>G', 'ENST00000298298:c.217T>A', 'ENST00000573291:c.1073C>G', 'ENST00000573291:c.528C>G', 'ENST00000573291:c.452G>C', 'ENST00000573291:c.384G>C', 'ENST00000543972:c.1486A>G', 'ENST00000572702:c.287G>A', 'ENST00000572702:c.388C>G', 'ENST00000572702:c.392G>A', 'ENST00000572702:c.412G>A', 'ENST00000572702:c.583A>G', 'ENST00000572702:c.858A>G', 'ENST00000572702:c.877G>T', 'ENST00000572702:c.1125G>A', 'ENST00000572702:c.1140T>C', 'ENST00000572702:c.1315G>T', 'ENST00000572702:c.1397T>C', 'ENST00000572702:c.1464G>A', 'ENST00000572702:c.1472T>C', 'ENST00000572702:c.1539C>T', 'ENST00000572702:c.1581A>G', 'ENST00000572702:c.1632C>T', 'ENST00000424375:c.618T>C', 'ENST00000424375:c.742C>G', 'ENST00000579523:c.287G>A', 'ENST00000581492:c.1031G>C', 'ENST00000581492:c.668G>C', 'ENST00000581492:c.512A>T', 'ENST00000580279:c.1698C>G', 'ENST00000580279:c.1668C>G', 'ENST00000374127:c.1679C>T', 'ENST00000337653:c.1534G>A', 'ENST00000374111:c.228C>T', 'ENST00000374112:c.307A>G', 'ENST00000374112:c.365C>T', 'ENST00000578454:c.274T>G', 'ENST00000185907:c.416G>A', 'ENST00000373970:c.457A>G', 'ENST00000512524:c.948C>T', 'ENST00000395251:c.518A>G', 'ENST00000354393:c.1036T>C', 'ENST00000354393:c.1273C>G', 'ENST00000354393:c.1461G>A', 'ENST00000354393:c.1509G>A', 'ENST00000354393:c.1798C>G', 'ENST00000354393:c.2275T>C', 'ENST00000354393:c.2792C>A', 'ENST00000373644:c.786T>A', 'ENST00000373644:c.2960G>A', 'ENST00000373644:c.3578A>G', 'ENST00000373644:c.4241A>T', 'ENST00000298596:c.540T>C', 'ENST00000298596:c.1827C>T', 'ENST00000354624:c.2294T>C', 'ENST00000373290:c.375C>T', 'ENST00000242462:c.626T>C', 'ENST00000373279:c.267C>T', 'ENST00000354547:c.750G>A', 'ENST00000354547:c.1191A>G', 'ENST00000354547:c.1440C>G', 'ENST00000277942:c.1227C>T', 'ENST00000277942:c.1143C>T', 'ENST00000277942:c.433A>C', 'ENST00000373209:c.1019C>T', 'ENST00000373209:c.941C>T', 'ENST00000373207:c.1769T>C', 'ENST00000373207:c.1869C>G', 'ENST00000373207:c.2809C>A', 'ENST00000373207:c.2856C>T', 'ENST00000373207:c.3057C>T', 'ENST00000373207:c.3322C>T', 'ENST00000373207:c.3393A>G', 'ENST00000373207:c.3630A>G', 'ENST00000299297:c.10G>T', 'ENST00000335350:c.824G>A', 'ENST00000224721:c.371T>C', 'ENST00000224721:c.1507G>A', 'ENST00000224721:c.2336T>C', 'ENST00000224721:c.2408T>C', 'ENST00000224721:c.4071A>G', 'ENST00000224721:c.4743G>A', 'ENST00000224721:c.5043G>A', 'ENST00000224721:c.6016C>G', 'ENST00000373115:c.1507G>A', 'ENST00000372325:c.752C>A', 'ENST00000372325:c.691T>C', 'ENST00000372325:c.505C>T', 'ENST00000372308:c.183T>C', 'ENST00000372308:c.244C>T', 'ENST00000372308:c.275C>G', 'ENST00000429984:c.1793A>G', 'ENST00000356374:c.3669C>T', 'ENST00000356374:c.3681T>C', 'ENST00000313455:c.384G>A', 'ENST00000313455:c.580C>A', 'ENST00000313455:c.644A>G', 'ENST00000332904:c.584A>G', 'ENST00000332904:c.1769A>G', 'ENST00000372113:c.1534A>C', 'ENST00000358110:c.39T>C', 'ENST00000358110:c.471C>T', 'ENST00000224756:c.436A>G', 'ENST00000241891:c.197G>A', 'ENST00000241891:c.1348C>T', 'ENST00000241891:c.1383C>A', 'ENST00000348795:c.315C>G', 'ENST00000348795:c.449A>T', 'ENST00000343959:c.106A>G', 'ENST00000371939:c.942A>G', 'ENST00000238983:c.1012A>G', 'ENST00000404459:c.731C>A', 'ENST00000404743:c.1325C>T', 'ENST00000371852:c.526G>A', 'ENST00000371852:c.76G>C', 'ENST00000307534:c.768G>C', 'ENST00000307534:c.384A>G', 'ENST00000298068:c.149C>G', 'ENST00000371547:c.276G>A', 'ENST00000260762:c.1201C>T', 'ENST00000285949:c.639C>T', 'ENST00000371447:c.946T>A', 'ENST00000371447:c.1236G>A', 'ENST00000371447:c.1518C>G', 'ENST00000260766:c.5358G>C', 'ENST00000225235:c.779C>G', 'ENST00000260682:c.442C>T', 'ENST00000472454:c.1546T>C', 'ENST00000371174:c.324C>T', 'ENST00000371174:c.436A>G', 'ENST00000298808:c.291A>C', 'ENST00000356713:c.1573T>G', 'ENST00000344586:c.346C>A', 'ENST00000370434:c.198A>T', 'ENST00000474125:c.572A>G', 'ENST00000370200:c.552T>G', 'ENST00000370200:c.1090G>C', 'ENST00000369701:c.1595C>T', 'ENST00000369519:c.2361G>C', 'ENST00000351270:c.279C>T', 'ENST00000361048:c.363A>G', 'ENST00000354462:c.275A>G', 'ENST00000369295:c.231A>G', 'ENST00000369295:c.1251G>C', 'ENST00000392982:c.642A>G', 'ENST00000609571:c.1190A>G', 'ENST00000609571:c.3352G>A', 'ENST00000369230:c.1287G>A', 'ENST00000369230:c.1290A>G', 'ENST00000369221:c.514T>C', 'ENST00000579578:c.474A>G', 'ENST00000579578:c.1071A>G', 'ENST00000579578:c.1081A>G', 'ENST00000579578:c.1158A>G', 'ENST00000573888:c.328C>G', 'ENST00000553456:c.1290C>A', 'ENST00000239032:c.1053C>T', 'ENST00000239032:c.986A>G', 'ENST00000239032:c.424G>A', 'ENST00000398248:c.397C>T', 'ENST00000334433:c.3353T>C', 'ENST00000260733:c.905T>C', 'ENST00000260733:c.944C>T', 'ENST00000260733:c.1097T>A', 'ENST00000260723:c.1541T>C', 'ENST00000260723:c.1547T>C', 'ENST00000260723:c.1567A>C', 'ENST00000368988:c.822T>C', 'ENST00000528446:c.280G>T', 'ENST00000368984:c.230C>T', 'ENST00000368984:c.236G>T', 'ENST00000330163:c.230C>A', 'ENST00000330163:c.267C>T', 'ENST00000330163:c.331C>T', 'ENST00000330163:c.433C>T', 'ENST00000330163:c.1024T>C', 'ENST00000330163:c.5227A>G', 'ENST00000329446:c.837G>A', 'ENST00000284674:c.542A>G', 'ENST00000284674:c.695G>C', 'ENST00000280333:c.2878A>G', 'ENST00000479896:c.1299A>G', 'ENST00000479896:c.1464C>G', 'ENST00000298622:c.246G>A', 'ENST00000338492:c.1022C>T', 'ENST00000338492:c.1106G>A', 'ENST00000305233:c.324C>T', 'ENST00000305233:c.351C>G', 'ENST00000368592:c.730T>C', 'ENST00000607359:c.84G>A', 'ENST00000607359:c.114A>G', 'ENST00000607359:c.163G>A', 'ENST00000607359:c.178C>G', 'ENST00000607359:c.652G>C', 'ENST00000304613:c.45G>A', 'ENST00000304613:c.633C>T', 'ENST00000304613:c.654C>T', 'ENST00000304613:c.771G>C', 'ENST00000304613:c.1317T>C', 'ENST00000304613:c.1328A>G', 'ENST00000304613:c.1762G>A', 'ENST00000304613:c.2171T>C', 'ENST00000304613:c.2439T>C', 'ENST00000304477:c.25C>A', 'ENST00000325980:c.636T>C', 'ENST00000325980:c.655A>G', 'ENST00000368554:c.801A>G', 'ENST00000414069:c.238T>C', 'ENST00000414069:c.132C>T', 'ENST00000252945:c.996T>C', 'ENST00000252945:c.1296T>C', 'ENST00000425520:c.687C>A', 'ENST00000312165:c.487A>C', 'ENST00000312165:c.730C>G', 'ENST00000312165:c.939C>T', 'ENST00000312165:c.1082A>T', 'ENST00000312165:c.1083T>C', 'ENST00000329962:c.200C>T', 'ENST00000329962:c.294G>C', 'ENST00000331563:c.1492A>G', 'ENST00000525642:c.282G>A', 'ENST00000270115:c.884C>T', 'ENST00000270115:c.1399G>A', 'ENST00000270115:c.2067G>C', 'ENST00000329451:c.193G>A', 'ENST00000450448:c.735G>A', 'ENST00000450448:c.962A>G', 'ENST00000450448:c.1248G>T', 'ENST00000359061:c.173T>C', 'ENST00000359061:c.276G>A', 'ENST00000359061:c.346G>A', 'ENST00000359061:c.1111G>A', 'ENST00000359061:c.1338G>A', 'ENST00000359061:c.1370T>C', 'ENST00000359061:c.1408G>C', 'ENST00000359061:c.1437C>T', 'ENST00000359061:c.1685G>C', 'ENST00000359061:c.2193T>C', 'ENST00000359061:c.2494G>A', 'ENST00000359061:c.2616T>C', 'ENST00000359061:c.3447C>T', 'ENST00000359061:c.3600A>G', 'ENST00000359061:c.3620C>T', 'ENST00000441003:c.3666T>C', 'ENST00000359061:c.4210A>C', 'ENST00000333592:c.392C>T', 'ENST00000333592:c.393C>G', 'ENST00000333592:c.452G>A', 'ENST00000333592:c.705A>C', 'ENST00000356191:c.655C>G', 'ENST00000356191:c.1044T>C', 'ENST00000356191:c.1481T>C', 'ENST00000447027:c.1123C>T', 'ENST00000447027:c.1663G>C', 'ENST00000447027:c.4864T>C', 'ENST00000447027:c.5733C>T', 'ENST00000447027:c.6249C>T', 'ENST00000447027:c.6648T>C', 'ENST00000447027:c.6699G>C', 'ENST00000447027:c.6780T>C', 'ENST00000447027:c.7944C>G', 'ENST00000447027:c.9282T>C', 'ENST00000447027:c.10470G>C', 'ENST00000447027:c.10594G>T', 'ENST00000447027:c.10912C>T', 'ENST00000447027:c.11629T>C', 'ENST00000447027:c.11664C>T', 'ENST00000447027:c.11792G>A', 'ENST00000447027:c.12604G>C', 'ENST00000447027:c.13386C>T', 'ENST00000447027:c.14183A>C', 'ENST00000412090:c.323C>T', 'ENST00000399685:c.729C>T', 'ENST00000399685:c.702C>T', 'ENST00000399682:c.485T>G', 'ENST00000399682:c.294T>C', 'ENST00000399682:c.141C>T', 'ENST00000399676:c.88G>T', 'ENST00000399676:c.129T>C', 'ENST00000399676:c.137T>C', 'ENST00000399676:c.196C>G', 'ENST00000399676:c.320C>T', 'ENST00000399676:c.611C>T', 'ENST00000341958:c.618T>C', 'ENST00000341958:c.911T>C', 'ENST00000341958:c.915C>G', 'ENST00000341958:c.926C>T', 'ENST00000252898:c.60T>C', 'ENST00000391480:c.1378A>G', 'ENST00000391480:c.970A>G', 'ENST00000278317:c.633G>A', 'ENST00000352909:c.811G>A', 'ENST00000182290:c.446C>T', 'ENST00000312221:c.1456C>T', 'ENST00000389832:c.785G>A', 'ENST00000389832:c.353G>A', 'ENST00000250693:c.871T>C', 'ENST00000307632:c.177A>G', 'ENST00000307632:c.479C>T', 'ENST00000360213:c.291C>T', 'ENST00000360213:c.915C>G', 'ENST00000312614:c.242A>C', 'ENST00000450052:c.38A>G', 'ENST00000450052:c.312C>G', 'ENST00000357605:c.341A>G', 'ENST00000396952:c.1469G>A', 'ENST00000356069:c.733T>G', 'ENST00000356069:c.601A>T', 'ENST00000356069:c.386T>C', 'ENST00000356069:c.262T>C', 'ENST00000322110:c.316A>G', 'ENST00000322110:c.614C>T', 'ENST00000322101:c.866C>T', 'ENST00000322101:c.609T>G', 'ENST00000322101:c.376C>T', 'ENST00000322101:c.254C>G', 'ENST00000322101:c.231C>G', 'ENST00000322101:c.217A>C', 'ENST00000322059:c.903A>G', 'ENST00000359350:c.267C>T', 'ENST00000321961:c.746C>G', 'ENST00000321961:c.652T>C', 'ENST00000321961:c.442A>C', 'ENST00000321961:c.439G>A', 'ENST00000380373:c.889C>T', 'ENST00000380373:c.706T>C', 'ENST00000380373:c.159G>T', 'ENST00000380371:c.931T>C', 'ENST00000380371:c.858G>A', 'ENST00000380371:c.653C>T', 'ENST00000380371:c.390T>C', 'ENST00000380371:c.176G>A', 'ENST00000380371:c.133G>T', 'ENST00000321543:c.204A>G', 'ENST00000321522:c.912G>A', 'ENST00000321522:c.14A>G', 'ENST00000328942:c.814T>C', 'ENST00000321255:c.286G>T', 'ENST00000321255:c.106C>T', 'ENST00000380224:c.707C>T', 'ENST00000380224:c.490T>C', 'ENST00000380224:c.156G>A', 'ENST00000328611:c.328T>G', 'ENST00000328611:c.425C>T', 'ENST00000328611:c.633T>C', 'ENST00000328611:c.789C>A', 'ENST00000328611:c.792T>G', 'ENST00000328611:c.973G>A', 'ENST00000328611:c.974T>C', 'ENST00000332043:c.224G>A', 'ENST00000332043:c.604A>G', 'ENST00000300778:c.102G>C', 'ENST00000300778:c.360C>T', 'ENST00000300778:c.399T>C', 'ENST00000300778:c.527C>T', 'ENST00000300778:c.547T>C', 'ENST00000300778:c.553G>A', 'ENST00000300778:c.623G>A', 'ENST00000300778:c.721G>A', 'ENST00000300778:c.796C>T', 'ENST00000300778:c.1013T>C', 'ENST00000380211:c.754G>T', 'ENST00000380211:c.660C>T', 'ENST00000380211:c.490G>C', 'ENST00000341449:c.201G>T', 'ENST00000341449:c.533G>C', 'ENST00000341449:c.869G>A', 'ENST00000322641:c.370A>G', 'ENST00000322641:c.427C>T', 'ENST00000322641:c.583T>C', 'ENST00000322641:c.712T>C', 'ENST00000311659:c.1785T>C', 'ENST00000311659:c.1072C>T', 'ENST00000380184:c.1521G>A', 'ENST00000380184:c.1399T>G', 'ENST00000380184:c.1088C>T', 'ENST00000380184:c.1084T>C', 'ENST00000380184:c.891A>C', 'ENST00000380184:c.775T>C', 'ENST00000322653:c.750T>C', 'ENST00000322653:c.729G>T', 'ENST00000322653:c.668G>A', 'ENST00000322653:c.415A>G', 'ENST00000322653:c.291G>A', 'ENST00000278302:c.647A>G', 'ENST00000317121:c.382T>C', 'ENST00000317121:c.438A>C', 'ENST00000317254:c.365C>T', 'ENST00000317254:c.548T>G', 'ENST00000317254:c.701A>T', 'ENST00000317078:c.739T>A', 'ENST00000317078:c.499C>T', 'ENST00000317037:c.313C>T', 'ENST00000317037:c.767T>G', 'ENST00000317037:c.813A>G', 'ENST00000537935:c.986A>T', 'ENST00000316987:c.548G>A', 'ENST00000316987:c.573G>T', 'ENST00000316987:c.643T>C', 'ENST00000316987:c.692A>C', 'ENST00000316987:c.703T>G', 'ENST00000316987:c.791T>C', 'ENST00000329564:c.159T>C', 'ENST00000332249:c.944T>C', 'ENST00000332249:c.820G>A', 'ENST00000332249:c.603A>C', 'ENST00000332249:c.536T>C', 'ENST00000332249:c.473T>C', 'ENST00000332249:c.444C>T', 'ENST00000332249:c.166T>C', 'ENST00000316529:c.924C>T', 'ENST00000316506:c.473C>A', 'ENST00000316506:c.455A>T', 'ENST00000311352:c.794A>G', 'ENST00000311352:c.839T>A', 'ENST00000316375:c.774C>T', 'ENST00000379936:c.1087G>A', 'ENST00000254579:c.1816C>T', 'ENST00000254579:c.2429A>C', 'ENST00000254579:c.2645A>G', 'ENST00000254579:c.2654A>G', 'ENST00000254579:c.2869G>A', 'ENST00000254579:c.4149A>G', 'ENST00000254579:c.5986C>T', 'ENST00000254579:c.6608T>C', 'ENST00000254579:c.10501G>A', 'ENST00000299441:c.4108G>A', 'ENST00000338569:c.358G>T', 'ENST00000338569:c.181A>G', 'ENST00000307401:c.249T>C', 'ENST00000307401:c.580G>T', 'ENST00000307401:c.916C>G', 'ENST00000332601:c.351T>C', 'ENST00000307322:c.462G>A', 'ENST00000299459:c.704T>C', 'ENST00000299459:c.587T>C', 'ENST00000317834:c.272C>A', 'ENST00000317834:c.522G>C', 'ENST00000278319:c.1368A>T', 'ENST00000299481:c.489A>C', 'ENST00000299481:c.621A>G', 'ENST00000299481:c.844C>T', 'ENST00000299481:c.2599G>A', 'ENST00000299481:c.2768G>A', 'ENST00000306904:c.199G>A', 'ENST00000306904:c.587A>G', 'ENST00000318881:c.588T>C', 'ENST00000396716:c.957C>G', 'ENST00000329293:c.732A>T', 'ENST00000328375:c.312A>G', 'ENST00000328375:c.54T>C', 'ENST00000328375:c.48G>A', 'ENST00000309838:c.860T>C', 'ENST00000309838:c.186T>C', 'ENST00000299506:c.509T>C', 'ENST00000325884:c.399C>T', 'ENST00000325884:c.258A>C', 'ENST00000325884:c.224G>T', 'ENST00000450114:c.505C>G', 'ENST00000534562:c.42T>C', 'ENST00000528848:c.1397A>G', 'ENST00000256194:c.702T>G', 'ENST00000256186:c.499G>A', 'ENST00000256186:c.720G>C', 'ENST00000256186:c.1029C>T', 'ENST00000256186:c.1161C>T', 'ENST00000256186:c.1204G>A', 'ENST00000256186:c.1228A>G', 'ENST00000334310:c.638C>T', 'ENST00000576479:c.257C>A', 'ENST00000576479:c.1080A>G', 'ENST00000282096:c.1742A>G', 'ENST00000570468:c.1567C>G', 'ENST00000379554:c.153G>A', 'ENST00000379554:c.730T>C', 'ENST00000355661:c.128T>C', 'ENST00000338965:c.1034C>A', 'ENST00000339994:c.635A>G', 'ENST00000342528:c.1425G>C', 'ENST00000342528:c.2242C>T', 'ENST00000342528:c.2797C>T', 'ENST00000342528:c.3142C>T', 'ENST00000342528:c.3664T>C', 'ENST00000250003:c.1093G>A', 'ENST00000396275:c.781A>G', 'ENST00000396275:c.866A>G', 'ENST00000314254:c.444C>G', 'ENST00000314254:c.495T>G', 'ENST00000314254:c.561T>A', 'ENST00000314254:c.581A>G', 'ENST00000314254:c.668T>C', 'ENST00000314254:c.1065C>T', 'ENST00000527671:c.563A>G', 'ENST00000527671:c.559C>T', 'ENST00000527671:c.463G>A', 'ENST00000340135:c.313C>A', 'ENST00000356524:c.336C>T', 'ENST00000356524:c.351T>C', 'ENST00000356524:c.357C>G', 'ENST00000302797:c.363A>G', 'ENST00000446113:c.417A>G', 'ENST00000349880:c.656G>A', 'ENST00000349880:c.1059G>A', 'ENST00000349880:c.2040A>G', 'ENST00000349880:c.2850T>C', 'ENST00000349880:c.2907T>C', 'ENST00000349880:c.2928C>T', 'ENST00000311043:c.435C>G', 'ENST00000311043:c.1025C>T', 'ENST00000311043:c.2207A>T', 'ENST00000311043:c.2279C>T', 'ENST00000311043:c.2483C>T', 'ENST00000311043:c.2523C>A', 'ENST00000311043:c.2651G>A', 'ENST00000311043:c.2714A>C', 'ENST00000311043:c.3140T>C', 'ENST00000298923:c.564C>G', 'ENST00000525748:c.1503A>G', 'ENST00000525748:c.1644G>C', 'ENST00000525748:c.1660G>A', 'ENST00000298925:c.482G>A', 'ENST00000298925:c.531C>T', 'ENST00000324559:c.584T>C', 'ENST00000324559:c.1283A>T', 'ENST00000263182:c.509C>T', 'ENST00000263182:c.776C>T', 'ENST00000254122:c.297C>T', 'ENST00000342355:c.838G>A', 'ENST00000395934:c.1168C>T', 'ENST00000257836:c.345C>T', 'ENST00000241051:c.666G>A', 'ENST00000265654:c.3118G>A', 'ENST00000321505:c.4479G>A', 'ENST00000321505:c.4594A>C', 'ENST00000321505:c.4800A>G', 'ENST00000321505:c.5223C>T', 'ENST00000278360:c.1622G>A', 'ENST00000311599:c.496G>A', 'ENST00000299440:c.858A>G', 'ENST00000299440:c.1086G>A', 'ENST00000339446:c.76A>G', 'ENST00000339446:c.139T>C', 'ENST00000528572:c.788G>C', 'ENST00000378832:c.1641T>C', 'ENST00000340160:c.636G>A', 'ENST00000263765:c.522G>A', 'ENST00000378779:c.236G>C', 'ENST00000359803:c.264G>A', 'ENST00000354884:c.144A>G', 'ENST00000356737:c.556G>A', 'ENST00000309562:c.78T>G', 'ENST00000309562:c.206G>A', 'ENST00000309562:c.839C>A', 'ENST00000320048:c.430A>G', 'ENST00000320048:c.444C>T', 'ENST00000320048:c.819T>A', 'ENST00000320048:c.844C>T', 'ENST00000319988:c.870C>T', 'ENST00000319856:c.210G>A', 'ENST00000319856:c.258G>C', 'ENST00000319856:c.320C>T', 'ENST00000319856:c.351A>C', 'ENST00000319856:c.372C>T', 'ENST00000319856:c.528T>G', 'ENST00000319856:c.543G>A', 'ENST00000319856:c.552C>T', 'ENST00000319856:c.596C>T', 'ENST00000319856:c.629C>T', 'ENST00000319856:c.669T>C', 'ENST00000446524:c.237G>A', 'ENST00000446524:c.386A>C', 'ENST00000446524:c.509G>A', 'ENST00000332682:c.589T>C', 'ENST00000332682:c.1220C>A', 'ENST00000563758:c.429G>A', 'ENST00000561558:c.961T>A', 'ENST00000561558:c.839G>C', 'ENST00000561558:c.687T>A', 'ENST00000418689:c.894T>A', 'ENST00000418689:c.552C>A', 'ENST00000328188:c.719C>T', 'ENST00000328188:c.755G>A', 'ENST00000328188:c.863A>G', 'ENST00000314721:c.230C>T', 'ENST00000314721:c.612C>A', 'ENST00000314721:c.958A>T', 'ENST00000314706:c.76C>T', 'ENST00000314644:c.429A>G', 'ENST00000314644:c.757G>A', 'ENST00000314634:c.49C>T', 'ENST00000314634:c.73G>T', 'ENST00000314634:c.99C>T', 'ENST00000314634:c.195C>T', 'ENST00000314634:c.226A>G', 'ENST00000314634:c.776T>C', 'ENST00000302231:c.68T>A', 'ENST00000314259:c.427T>C', 'ENST00000361760:c.185G>A', 'ENST00000335605:c.745T>G', 'ENST00000333976:c.32T>A', 'ENST00000333976:c.426A>G', 'ENST00000333976:c.829A>G', 'ENST00000378396:c.75G>T', 'ENST00000378396:c.591C>T', 'ENST00000449290:c.151A>G', 'ENST00000449290:c.159C>A', 'ENST00000449290:c.352G>A', 'ENST00000344514:c.723C>T', 'ENST00000344514:c.565C>T', 'ENST00000278409:c.881G>A', 'ENST00000278409:c.364A>C', 'ENST00000313555:c.258G>A', 'ENST00000313503:c.358C>T', 'ENST00000313503:c.506A>G', 'ENST00000313503:c.850G>A', 'ENST00000313472:c.409C>T', 'ENST00000570683:c.744G>C', 'ENST00000570683:c.343C>G', 'ENST00000570683:c.42C>G', 'ENST00000570683:c.33G>C', 'ENST00000573647:c.1001C>G', 'ENST00000573647:c.788C>G', 'ENST00000573647:c.679T>A', 'ENST00000573647:c.335G>C', 'ENST00000573647:c.299C>G', 'ENST00000573647:c.287C>G', 'ENST00000576733:c.576A>G', 'ENST00000576733:c.674G>C', 'ENST00000574192:c.689C>G', 'ENST00000574192:c.553C>G', 'ENST00000574192:c.502T>A', 'ENST00000574192:c.416C>G', 'ENST00000574192:c.370C>A', 'ENST00000574192:c.308A>T', 'ENST00000574192:c.159G>C', 'ENST00000574192:c.93A>T', 'ENST00000573400:c.365T>G', 'ENST00000574800:c.96T>C', 'ENST00000574800:c.155A>G', 'ENST00000574800:c.173C>A', 'ENST00000574644:c.391A>G', 'ENST00000570574:c.57T>C', 'ENST00000570574:c.59G>A', 'ENST00000570574:c.335C>G', 'ENST00000302270:c.867C>T', 'ENST00000302270:c.878A>G', 'ENST00000440231:c.582A>G', 'ENST00000440231:c.612G>T', 'ENST00000312253:c.821C>T', 'ENST00000312253:c.550T>C', 'ENST00000312253:c.382A>G', 'ENST00000312253:c.364T>C', 'ENST00000312253:c.20T>C', 'ENST00000528616:c.536G>A', 'ENST00000526812:c.271G>T', 'ENST00000526538:c.845G>C', 'ENST00000302981:c.313G>A', 'ENST00000302969:c.79C>T', 'ENST00000573911:c.63A>G', 'ENST00000573911:c.82G>T', 'ENST00000573911:c.157C>T', 'ENST00000573911:c.181T>G', 'ENST00000573911:c.184A>G', 'ENST00000312153:c.292T>G', 'ENST00000573911:c.396T>C', 'ENST00000573911:c.505C>T', 'ENST00000573911:c.540G>A', 'ENST00000573911:c.553G>A', 'ENST00000573911:c.630G>A', 'ENST00000573911:c.666C>A', 'ENST00000573911:c.691C>A', 'ENST00000312153:c.697T>C', 'ENST00000312153:c.698A>G', 'ENST00000573911:c.774C>T', 'ENST00000573911:c.775G>T', 'ENST00000573911:c.783C>T', 'ENST00000575017:c.764C>G', 'ENST00000575017:c.594A>C', 'ENST00000571556:c.925G>C', 'ENST00000571556:c.575A>T', 'ENST00000571556:c.560C>G', 'ENST00000571556:c.558G>C', 'ENST00000571556:c.378T>A', 'ENST00000571556:c.351C>A', 'ENST00000571556:c.153C>G', 'ENST00000571556:c.45T>A', 'ENST00000571556:c.6G>C', 'ENST00000326855:c.318G>A', 'ENST00000326855:c.675G>A', 'ENST00000497933:c.1065C>T', 'ENST00000257254:c.366C>A', 'ENST00000278407:c.1665G>A', 'ENST00000309433:c.419G>A', 'ENST00000316770:c.307C>T', 'ENST00000316770:c.79G>C', 'ENST00000309403:c.887A>G', 'ENST00000309403:c.858G>C', 'ENST00000309403:c.740G>C', 'ENST00000309403:c.592A>G', 'ENST00000309403:c.541G>A', 'ENST00000309403:c.509A>G', 'ENST00000309403:c.414G>T', 'ENST00000309403:c.145T>C', 'ENST00000302581:c.675T>C', 'ENST00000302581:c.651T>C', 'ENST00000302572:c.444G>A', 'ENST00000302572:c.443T>C', 'ENST00000313940:c.914G>C', 'ENST00000302030:c.572G>A', 'ENST00000302030:c.649T>C', 'ENST00000300127:c.310A>G', 'ENST00000307552:c.387A>G', 'ENST00000257264:c.951C>T', 'ENST00000337908:c.661C>T', 'ENST00000300182:c.81A>G', 'ENST00000300182:c.93A>G', 'ENST00000300182:c.204G>T', 'ENST00000016913:c.213C>T', 'ENST00000016913:c.268C>T', 'ENST00000378185:c.342A>G', 'ENST00000278853:c.57T>C', 'ENST00000278853:c.473C>T', 'ENST00000278853:c.858C>T', 'ENST00000278853:c.867A>G', 'ENST00000278853:c.1078C>A', 'ENST00000005286:c.1092G>A', 'ENST00000005286:c.1743G>A', 'ENST00000338608:c.227C>A', 'ENST00000257215:c.179G>A', 'ENST00000257215:c.1640G>A', 'ENST00000265460:c.3068T>C', 'ENST00000394836:c.635G>A', 'ENST00000378043:c.752T>C', 'ENST00000417740:c.2057A>G', 'ENST00000309422:c.704C>T', 'ENST00000336464:c.552C>T', 'ENST00000336464:c.720T>C', 'ENST00000336464:c.1440A>G', 'ENST00000307998:c.1006A>G', 'ENST00000307886:c.461A>G', 'ENST00000307886:c.571T>C', 'ENST00000608857:c.61T>C', 'ENST00000312134:c.279C>T', 'ENST00000311330:c.1387A>G', 'ENST00000311330:c.734C>T', 'ENST00000311034:c.287G>T', 'ENST00000502692:c.1813G>A', 'ENST00000502692:c.1934A>G', 'ENST00000502692:c.1974T>C', 'ENST00000502692:c.2127T>C', 'ENST00000502692:c.2149A>C', 'ENST00000333861:c.2429G>A', 'ENST00000333139:c.305C>A', 'ENST00000007633:c.818C>T', 'ENST00000309106:c.453A>G', 'ENST00000602104:c.136A>G', 'ENST00000316296:c.163G>A', 'ENST00000316296:c.1554A>G', 'ENST00000316296:c.1635A>G', 'ENST00000398534:c.316T>C', 'ENST00000311131:c.604C>T', 'ENST00000311131:c.1283C>T', 'ENST00000311131:c.1403G>C', 'ENST00000311131:c.1467C>T', 'ENST00000310109:c.52T>C', 'ENST00000562197:c.607G>A', 'ENST00000304771:c.2500T>C', 'ENST00000198801:c.95A>G', 'ENST00000322563:c.533C>T', 'ENST00000278544:c.210G>A', 'ENST00000526597:c.518G>A', 'ENST00000571155:c.319T>C', 'ENST00000571155:c.560G>A', 'ENST00000409619:c.4955C>T', 'ENST00000409619:c.5196A>T', 'ENST00000409619:c.5915A>G', 'ENST00000409619:c.6060C>A', 'ENST00000409619:c.6518G>A', 'ENST00000529308:c.714C>T', 'ENST00000354755:c.692T>C', 'ENST00000278487:c.1538T>C', 'ENST00000305432:c.3429A>C', 'ENST00000329758:c.1367T>C', 'ENST00000321955:c.158G>A', 'ENST00000298047:c.2916C>T', 'ENST00000298047:c.5194A>G', 'ENST00000298047:c.6515T>C', 'ENST00000298047:c.6895A>G', 'ENST00000298047:c.8280A>G', 'ENST00000298047:c.8850G>A', 'ENST00000298047:c.10569G>T', 'ENST00000298047:c.11451A>G', 'ENST00000528076:c.320G>C', 'ENST00000298050:c.1610C>A', 'ENST00000325212:c.594C>A', 'ENST00000325212:c.785G>A', 'ENST00000325212:c.1658C>A', 'ENST00000315765:c.759A>G', 'ENST00000299001:c.949T>C', 'ENST00000299001:c.1191A>T', 'ENST00000299001:c.1192G>A', 'ENST00000299001:c.1319G>C', 'ENST00000576054:c.638A>G', 'ENST00000279463:c.1290C>T', 'ENST00000298815:c.306G>A', 'ENST00000532529:c.575T>C', 'ENST00000263468:c.982G>T', 'ENST00000263468:c.2148C>T', 'ENST00000375735:c.4382A>G', 'ENST00000375735:c.5862C>A', 'ENST00000375735:c.6855A>G', 'ENST00000375735:c.7095C>T', 'ENST00000375735:c.8756G>A', 'ENST00000375735:c.12240T>C', 'ENST00000302251:c.1514T>C', 'ENST00000302259:c.926A>C', 'ENST00000447610:c.161T>G', 'ENST00000398067:c.231G>A', 'ENST00000265843:c.6010A>G', 'ENST00000528953:c.84A>C', 'ENST00000528953:c.293C>T', 'ENST00000356018:c.599C>A', 'ENST00000375614:c.741A>G', 'ENST00000571962:c.164C>G', 'ENST00000357685:c.827T>C', 'ENST00000338832:c.695T>C', 'ENST00000576604:c.1861T>G', 'ENST00000570588:c.260A>C', 'ENST00000303941:c.349T>C', 'ENST00000303941:c.547A>C', 'ENST00000260191:c.643A>C', 'ENST00000299961:c.841G>A', 'ENST00000375475:c.406T>C', 'ENST00000227667:c.164T>C', 'ENST00000437212:c.837T>G', 'ENST00000437212:c.1429T>C', 'ENST00000361763:c.345C>T', 'ENST00000593514:c.1606G>A', 'ENST00000600882:c.2725A>G', 'ENST00000455332:c.223A>C', 'ENST00000319763:c.804T>A', 'ENST00000319763:c.1138C>T', 'ENST00000260264:c.63G>A', 'ENST00000314475:c.336G>A', 'ENST00000356641:c.94A>G', 'ENST00000264037:c.1111A>G', 'ENST00000264037:c.1485A>G', 'ENST00000264037:c.2256C>T', 'ENST00000264037:c.2805T>C', 'ENST00000264037:c.4098G>A', 'ENST00000284273:c.1383A>G', 'ENST00000227348:c.1009A>G', 'ENST00000322282:c.1754T>C', 'ENST00000327930:c.596C>A', 'ENST00000309154:c.683C>T', 'ENST00000309154:c.319G>A', 'ENST00000321355:c.389G>A', 'ENST00000321355:c.394C>T', 'ENST00000321355:c.878T>C', 'ENST00000531945:c.368A>G', 'ENST00000531945:c.277G>A', 'ENST00000307002:c.783T>G', 'ENST00000320891:c.26C>T', 'ENST00000320891:c.27A>G', 'ENST00000320891:c.400A>G', 'ENST00000320891:c.584T>A', 'ENST00000320891:c.703A>G', 'ENST00000320891:c.883A>C', 'ENST00000320891:c.894G>A', 'ENST00000320891:c.903T>G', 'ENST00000375024:c.268G>A', 'ENST00000375024:c.400A>G', 'ENST00000375024:c.417A>G', 'ENST00000375024:c.834G>A', 'ENST00000375024:c.837A>G', 'ENST00000330487:c.91A>G', 'ENST00000330487:c.81C>A', 'ENST00000330487:c.23C>G', 'ENST00000318666:c.455T>C', 'ENST00000318666:c.644G>A', 'ENST00000318666:c.810T>G', 'ENST00000318666:c.865G>A', 'ENST00000524943:c.21G>A', 'ENST00000524943:c.287G>A', 'ENST00000524943:c.716G>A', 'ENST00000524943:c.759C>T', 'ENST00000524943:c.794A>C', 'ENST00000357821:c.899G>A', 'ENST00000357821:c.652T>C', 'ENST00000357821:c.452T>G', 'ENST00000375013:c.78A>G', 'ENST00000354597:c.353T>C', 'ENST00000354597:c.88A>G', 'ENST00000354597:c.76A>G', 'ENST00000356130:c.87A>G', 'ENST00000328064:c.433T>C', 'ENST00000284287:c.470C>G', 'ENST00000284287:c.725C>T', 'ENST00000442070:c.496A>G', 'ENST00000397801:c.1459G>A', 'ENST00000397801:c.2795C>T', 'ENST00000397801:c.3183G>A', 'ENST00000344762:c.2329A>G', 'ENST00000344762:c.2470C>A', 'ENST00000305738:c.148G>A', 'ENST00000263576:c.1349T>C', 'ENST00000530777:c.301C>T', 'ENST00000530777:c.292A>G', 'ENST00000531946:c.685C>T', 'ENST00000278742:c.672G>A', 'ENST00000278742:c.1633C>T', 'ENST00000299164:c.1698T>C', 'ENST00000317019:c.32C>T', 'ENST00000374784:c.591A>C', 'ENST00000389887:c.2984G>C', 'ENST00000431683:c.1420G>A', 'ENST00000568103:c.965C>T', 'ENST00000567353:c.1176C>G', 'ENST00000567353:c.2260T>C', 'ENST00000266383:c.188G>A', 'ENST00000266383:c.1372T>C', 'ENST00000315939:c.3172G>A', 'ENST00000397132:c.971A>G', 'ENST00000011898:c.335T>C', 'ENST00000537719:c.50G>T', 'ENST00000010132:c.304A>T', 'ENST00000010132:c.427C>T', 'ENST00000252318:c.494T>G', 'ENST00000252318:c.733T>G', 'ENST00000252318:c.1137A>G', 'ENST00000252318:c.1880G>T', 'ENST00000280684:c.926A>G', 'ENST00000252321:c.1378T>C', 'ENST00000011684:c.251G>A', 'ENST00000011684:c.1195C>T', 'ENST00000228918:c.842C>A', 'ENST00000597750:c.932A>G', 'ENST00000597750:c.1186G>A', 'ENST00000597750:c.1588G>T', 'ENST00000329913:c.685G>A', 'ENST00000345088:c.268G>C', 'ENST00000229332:c.354A>T', 'ENST00000307435:c.1428C>T', 'ENST00000307435:c.1386C>T', 'ENST00000307435:c.1150C>A', 'ENST00000307435:c.1146T>C', 'ENST00000307435:c.1086C>A', 'ENST00000299665:c.287A>G', 'ENST00000299698:c.1455A>G', 'ENST00000299698:c.2547G>A', 'ENST00000299698:c.2730C>A', 'ENST00000299698:c.3544C>T', 'ENST00000299698:c.3866A>G', 'ENST00000299698:c.3949A>G', 'ENST00000299698:c.4200A>G', 'ENST00000433083:c.238T>A', 'ENST00000433083:c.928A>G', 'ENST00000433083:c.2087A>G', 'ENST00000266551:c.450T>C', 'ENST00000535540:c.309G>A', 'ENST00000535540:c.498C>A', 'ENST00000535540:c.626C>T', 'ENST00000304361:c.912A>C', 'ENST00000338896:c.305A>G', 'ENST00000338896:c.474G>C', 'ENST00000355819:c.760A>G', 'ENST00000240618:c.765G>A', 'ENST00000322446:c.1238T>C', 'ENST00000574656:c.944C>G', 'ENST00000574656:c.844A>T', 'ENST00000574656:c.697C>G', 'ENST00000574656:c.644T>A', 'ENST00000574656:c.517G>C', 'ENST00000574656:c.496C>G', 'ENST00000572823:c.1078C>G', 'ENST00000572823:c.554C>G', 'ENST00000572823:c.488A>T', 'ENST00000573524:c.997T>A', 'ENST00000573524:c.550T>A', 'ENST00000573524:c.543T>A', 'ENST00000573524:c.481A>T', 'ENST00000573524:c.195C>G', 'ENST00000574870:c.1048A>T', 'ENST00000574870:c.1040A>T', 'ENST00000574870:c.655C>G', 'ENST00000575008:c.657C>G', 'ENST00000575008:c.456C>G', 'ENST00000575008:c.315A>T', 'ENST00000575008:c.255T>A', 'ENST00000575008:c.245C>G', 'ENST00000575008:c.170A>T', 'ENST00000574263:c.862C>G', 'ENST00000574263:c.834C>G', 'ENST00000573885:c.749A>T', 'ENST00000573885:c.682A>T', 'ENST00000571879:c.747G>C', 'ENST00000571879:c.282G>C', 'ENST00000571879:c.190T>A', 'ENST00000571879:c.188C>G', 'ENST00000571879:c.87G>C', 'ENST00000571012:c.594T>A', 'ENST00000334266:c.931G>C', 'ENST00000334266:c.930T>C', 'ENST00000334266:c.875G>A', 'ENST00000334266:c.794A>G', 'ENST00000334266:c.763G>T', 'ENST00000334266:c.587T>C', 'ENST00000334266:c.561A>G', 'ENST00000334266:c.524A>T', 'ENST00000266434:c.681C>T', 'ENST00000308721:c.903T>C', 'ENST00000332427:c.920G>A', 'ENST00000534843:c.192T>G', 'ENST00000197268:c.225C>T', 'ENST00000197268:c.681A>G', 'ENST00000197268:c.1449T>C', 'ENST00000539026:c.423C>T', 'ENST00000266395:c.301A>G', 'ENST00000281171:c.2418C>A', 'ENST00000266497:c.475C>T', 'ENST00000266497:c.1208T>C', 'ENST00000266497:c.1529C>T', 'ENST00000261196:c.460T>G', 'ENST00000261196:c.825G>A', 'ENST00000261196:c.893G>C', 'ENST00000261196:c.1683A>G', 'ENST00000261196:c.1959G>A', 'ENST00000421593:c.500T>C', 'ENST00000421593:c.1012G>A', 'ENST00000256958:c.484A>G', 'ENST00000256958:c.617T>C', 'ENST00000256958:c.693C>T', 'ENST00000242728:c.1241C>T', 'ENST00000298876:c.497G>A', 'ENST00000261177:c.527T>C', 'ENST00000261177:c.628T>C', 'ENST00000534526:c.307C>G', 'ENST00000395740:c.849C>T', 'ENST00000324616:c.1557A>T', 'ENST00000298910:c.515T>C', 'ENST00000425730:c.322C>T', 'ENST00000454784:c.1131G>A', 'ENST00000454784:c.1573G>A', 'ENST00000454784:c.2398C>T', 'ENST00000454784:c.2433T>C', 'ENST00000454784:c.2449C>G', 'ENST00000454784:c.2658C>T', 'ENST00000454784:c.2695C>A', 'ENST00000454784:c.2815C>G', 'ENST00000454784:c.3213G>A', 'ENST00000454784:c.3459T>C', 'ENST00000454784:c.3752T>C', 'ENST00000454784:c.4266A>C', 'ENST00000454784:c.5117G>T', 'ENST00000454784:c.5556T>A', 'ENST00000454784:c.6222C>G', 'ENST00000454784:c.6468C>T', 'ENST00000454784:c.6978G>A', 'ENST00000454784:c.7030A>G', 'ENST00000454784:c.7450G>T', 'ENST00000454784:c.8346G>A', 'ENST00000454784:c.8629A>T', 'ENST00000454784:c.8659G>A', 'ENST00000454784:c.9095A>G', 'ENST00000454784:c.9194A>G', 'ENST00000454784:c.9207G>A', 'ENST00000454784:c.9439A>G', 'ENST00000454784:c.9720C>T', 'ENST00000454784:c.9762C>G', 'ENST00000454784:c.10760G>A', 'ENST00000454784:c.10791G>A', 'ENST00000454784:c.10943G>A', 'ENST00000454784:c.10967G>T', 'ENST00000454784:c.11028C>T', 'ENST00000454784:c.11147C>G', 'ENST00000424466:c.46C>T', 'ENST00000424466:c.580G>A', 'ENST00000424466:c.768C>G', 'ENST00000347616:c.1495C>T', 'ENST00000402685:c.341G>C', 'ENST00000402685:c.354G>C', 'ENST00000345127:c.2162T>C', 'ENST00000345127:c.2159T>C', 'ENST00000316554:c.960A>C', 'ENST00000595310:c.328C>T', 'ENST00000335017:c.562C>G', 'ENST00000301050:c.1594G>A', 'ENST00000395141:c.72C>T', 'ENST00000417750:c.304G>A', 'ENST00000546918:c.418C>T', 'ENST00000541364:c.104A>G', 'ENST00000257860:c.2328G>A', 'ENST00000257860:c.2582C>G', 'ENST00000257860:c.2606A>G', 'ENST00000257981:c.1199A>G', 'ENST00000257981:c.3008T>C', 'ENST00000199280:c.586T>C', 'ENST00000228468:c.544C>G', 'ENST00000598429:c.125T>A', 'ENST00000398458:c.216G>A', 'ENST00000398458:c.411G>A', 'ENST00000398455:c.224C>T', 'ENST00000599633:c.44A>T', 'ENST00000354534:c.754C>T', 'ENST00000599343:c.458T>C', 'ENST00000301190:c.317C>T', 'ENST00000301190:c.646A>T', 'ENST00000301190:c.980A>G', 'ENST00000301190:c.1165C>A', 'ENST00000545748:c.1074A>C', 'ENST00000313234:c.1352C>A', 'ENST00000331817:c.318A>G', 'ENST00000331817:c.740A>G', 'ENST00000331817:c.981G>A', 'ENST00000257951:c.1333T>C', 'ENST00000243082:c.150T>G', 'ENST00000430889:c.446A>G', 'ENST00000243052:c.1705G>T', 'ENST00000308796:c.205A>G', 'ENST00000305377:c.221C>T', 'ENST00000305377:c.396A>C', 'ENST00000305377:c.708G>A', 'ENST00000305377:c.850T>C', 'ENST00000305377:c.948C>A', 'ENST00000343870:c.94A>G', 'ENST00000343870:c.274C>T', 'ENST00000343870:c.314A>G', 'ENST00000343870:c.347G>A', 'ENST00000358433:c.750C>T', 'ENST00000379668:c.427G>A', 'ENST00000379668:c.531C>G', 'ENST00000379668:c.774G>A', 'ENST00000379665:c.763A>G', 'ENST00000328314:c.84C>T', 'ENST00000379662:c.148G>A', 'ENST00000379662:c.343T>A', 'ENST00000379662:c.941G>T', 'ENST00000394256:c.137A>G', 'ENST00000309675:c.968A>G', 'ENST00000311966:c.2021T>C', 'ENST00000262031:c.174T>C', 'ENST00000300098:c.1264T>C', 'ENST00000243077:c.4012C>T', 'ENST00000598001:c.57T>C', 'ENST00000320442:c.1947T>G', 'ENST00000266643:c.779C>A', 'ENST00000261233:c.860A>G', 'ENST00000547771:c.671T>G', 'ENST00000547771:c.752A>G', 'ENST00000299350:c.328A>G', 'ENST00000266674:c.1193G>A', 'ENST00000333850:c.1077A>G', 'ENST00000322886:c.1205A>G', 'ENST00000228327:c.306A>G', 'ENST00000458043:c.3492C>T', 'ENST00000458043:c.3708G>A', 'ENST00000298820:c.395T>C', 'ENST00000298820:c.846A>G', 'ENST00000298820:c.1617G>A', 'ENST00000298820:c.1652G>A', 'ENST00000298820:c.1933A>G', 'ENST00000547376:c.846A>G', 'ENST00000266688:c.520G>A', 'ENST00000266688:c.1922T>A', 'ENST00000266688:c.2359C>A', 'ENST00000266688:c.2493C>G', 'ENST00000266688:c.5063T>C', 'ENST00000393212:c.309G>A', 'ENST00000393217:c.955T>A', 'ENST00000393217:c.2795G>A', 'ENST00000393217:c.4503A>C', 'ENST00000266712:c.619T>C', 'ENST00000378485:c.768G>A', 'ENST00000344636:c.541A>T', 'ENST00000344636:c.819T>C', 'ENST00000344636:c.892G>A', 'ENST00000552033:c.407T>A', 'ENST00000266736:c.113A>G', 'ENST00000298953:c.1675A>G', 'ENST00000298953:c.1689A>T', 'ENST00000524981:c.3611C>T', 'ENST00000524981:c.4082T>C', 'ENST00000524981:c.5011C>T', 'ENST00000524981:c.6526T>C', 'ENST00000524981:c.6744G>A', 'ENST00000524981:c.7117G>A', 'ENST00000538618:c.223A>C', 'ENST00000392977:c.249C>G', 'ENST00000360610:c.2625T>C', 'ENST00000266744:c.1186C>G', 'ENST00000388887:c.4248C>T', 'ENST00000551650:c.80C>G', 'ENST00000429002:c.172G>A', 'ENST00000429002:c.214T>C', 'ENST00000280758:c.1322G>C', 'ENST00000280758:c.1353C>T', 'ENST00000280758:c.1507G>A', 'ENST00000261400:c.893C>T', 'ENST00000261400:c.1541C>T', 'ENST00000338432:c.644C>T', 'ENST00000338432:c.935C>T', 'ENST00000338432:c.1910T>C', 'ENST00000338432:c.2070G>A', 'ENST00000338432:c.2303C>T', 'ENST00000338432:c.4625T>C', 'ENST00000338432:c.6540G>A', 'ENST00000310903:c.1462T>C', 'ENST00000310903:c.3108T>C', 'ENST00000535089:c.368C>G', 'ENST00000389385:c.1772C>T', 'ENST00000389385:c.1961T>C', 'ENST00000257575:c.1103T>C', 'ENST00000309909:c.254C>G', 'ENST00000309909:c.657G>A', 'ENST00000359236:c.425C>T', 'ENST00000426426:c.597T>C', 'ENST00000257555:c.1090G>C', 'ENST00000257555:c.1771G>A', 'ENST00000541395:c.1675T>C', 'ENST00000257555:c.1946A>G', 'ENST00000605998:c.104G>C', 'ENST00000319080:c.270G>A', 'ENST00000319080:c.2418T>C', 'ENST00000339777:c.772G>A', 'ENST00000339777:c.1016A>C', 'ENST00000324189:c.1296C>A', 'ENST00000330342:c.1763T>C', 'ENST00000409039:c.524T>C', 'ENST00000409039:c.733T>C', 'ENST00000409039:c.1295T>C', 'ENST00000409039:c.1463A>G', 'ENST00000409039:c.2728G>A', 'ENST00000409039:c.4916T>G', 'ENST00000409039:c.12979C>T', 'ENST00000299308:c.158C>A', 'ENST00000299308:c.458T>C', 'ENST00000299308:c.1307T>C', 'ENST00000435159:c.482A>G', 'ENST00000435159:c.814G>A', 'ENST00000315208:c.358G>A', 'ENST00000281703:c.154G>A', 'ENST00000389441:c.2813G>A', 'ENST00000389441:c.2018G>A', 'ENST00000229030:c.706G>C', 'ENST00000229030:c.2131C>T', 'ENST00000344271:c.314G>C', 'ENST00000261654:c.1003T>C', 'ENST00000261654:c.2264A>G', 'ENST00000261654:c.2440G>A', 'ENST00000598023:c.947G>T', 'ENST00000598023:c.951G>T', 'ENST00000598023:c.993T>C', 'ENST00000598023:c.1379G>A', 'ENST00000360564:c.938G>A', 'ENST00000360564:c.1687G>A', 'ENST00000541954:c.356C>T', 'ENST00000434748:c.1207A>G', 'ENST00000397313:c.745G>A', 'ENST00000241125:c.1194G>A', 'ENST00000241125:c.1072C>A', 'ENST00000255305:c.518A>G', 'ENST00000382353:c.977A>G', 'ENST00000218867:c.352T>C', 'ENST00000218867:c.436T>G', 'ENST00000248484:c.1137A>G', 'ENST00000248484:c.1722T>C', 'ENST00000382108:c.1375T>C', 'ENST00000332018:c.716A>G', 'ENST00000255324:c.634T>C', 'ENST00000255324:c.1109C>T', 'ENST00000255324:c.2052A>G', 'ENST00000255324:c.3112A>G', 'ENST00000255324:c.4190G>A', 'ENST00000599825:c.115A>G', 'ENST00000255283:c.2212G>C', 'ENST00000381436:c.965T>G', 'ENST00000302945:c.282A>G', 'ENST00000381020:c.3010C>T', 'ENST00000431530:c.2913A>C', 'ENST00000380473:c.144T>C', 'ENST00000343307:c.497T>C', 'ENST00000343307:c.821C>T', 'ENST00000298386:c.1028A>G', 'ENST00000298386:c.1064A>G', 'ENST00000298386:c.1881A>G', 'ENST00000380250:c.781A>G', 'ENST00000380250:c.4453T>C', 'ENST00000380250:c.5002G>A', 'ENST00000380250:c.6398G>A', 'ENST00000380152:c.7630T>C', 'ENST00000380099:c.1062T>G', 'ENST00000380099:c.1117G>C', 'ENST00000380099:c.1163G>A', 'ENST00000380099:c.2255T>C', 'ENST00000380099:c.2627T>C', 'ENST00000310336:c.6191G>A', 'ENST00000310336:c.7707A>G', 'ENST00000310336:c.8492C>T', 'ENST00000280481:c.792G>A', 'ENST00000280481:c.2157C>T', 'ENST00000280481:c.2449T>C', 'ENST00000280481:c.4293T>A', 'ENST00000280481:c.5734C>T', 'ENST00000280481:c.7193C>T', 'ENST00000280481:c.7614A>G', 'ENST00000379483:c.1365T>C', 'ENST00000379483:c.1362T>C', 'ENST00000261491:c.420C>T', 'ENST00000261491:c.1959C>G', 'ENST00000325686:c.1081A>G', 'ENST00000310521:c.937C>A', 'ENST00000310521:c.1065A>G', 'ENST00000378805:c.576C>T', 'ENST00000378805:c.754A>G', 'ENST00000378805:c.1784A>C', 'ENST00000218721:c.177C>A', 'ENST00000429346:c.252A>G', 'ENST00000338862:c.2832T>C', 'ENST00000219022:c.432C>T', 'ENST00000298440:c.844G>A', 'ENST00000376180:c.360G>C', 'ENST00000322527:c.5743A>G', 'ENST00000322527:c.4336C>T', 'ENST00000322527:c.4145T>C', 'ENST00000322527:c.3861T>G', 'ENST00000322527:c.3362A>G', 'ENST00000322527:c.3044G>C', 'ENST00000322527:c.2877T>C', 'ENST00000322527:c.940T>C', 'ENST00000322527:c.790G>A', 'ENST00000322527:c.2T>A', 'ENST00000595812:c.441C>T', 'ENST00000251041:c.891G>A', 'ENST00000251041:c.2532C>G', 'ENST00000360467:c.603G>A', 'ENST00000360467:c.1314C>T', 'ENST00000360467:c.1401G>A', 'ENST00000360467:c.1485C>T', 'ENST00000360467:c.1794G>A', 'ENST00000360467:c.1856G>A', 'ENST00000360467:c.4821A>G', 'ENST00000283547:c.195C>T', 'ENST00000375597:c.1024C>T', 'ENST00000375597:c.1171G>A', 'ENST00000375597:c.1323A>G', 'ENST00000342783:c.520A>G', 'ENST00000335678:c.820A>G', 'ENST00000375353:c.804C>T', 'ENST00000375353:c.903C>A', 'ENST00000409832:c.1188T>C', 'ENST00000315957:c.428C>T', 'ENST00000315957:c.776G>A', 'ENST00000285600:c.143T>C', 'ENST00000285600:c.325G>A', 'ENST00000285600:c.848C>A', 'ENST00000285600:c.969C>T', 'ENST00000285600:c.970G>A', 'ENST00000305051:c.888C>T', 'ENST00000541415:c.78G>A', 'ENST00000305045:c.882G>A', 'ENST00000315693:c.800G>A', 'ENST00000315683:c.4G>A', 'ENST00000315683:c.118A>G', 'ENST00000315683:c.156G>T', 'ENST00000315683:c.159A>G', 'ENST00000315683:c.302T>A', 'ENST00000315683:c.325G>A', 'ENST00000315683:c.816C>T', 'ENST00000315683:c.840C>G', 'ENST00000315543:c.477G>C', 'ENST00000315543:c.867C>T', 'ENST00000357366:c.44C>T', 'ENST00000357366:c.133A>G', 'ENST00000357366:c.146G>A', 'ENST00000357366:c.393G>C', 'ENST00000315519:c.398T>C', 'ENST00000315519:c.501C>T', 'ENST00000315519:c.663G>T', 'ENST00000315519:c.784T>C', 'ENST00000315519:c.805G>C', 'ENST00000315519:c.853T>C', 'ENST00000553765:c.29C>T', 'ENST00000553765:c.508G>T', 'ENST00000553765:c.679T>C', 'ENST00000553765:c.738T>G', 'ENST00000315409:c.955C>G', 'ENST00000344581:c.1769G>A', 'ENST00000338904:c.682T>C', 'ENST00000338904:c.515T>C', 'ENST00000320704:c.710G>A', 'ENST00000320704:c.681A>T', 'ENST00000320704:c.573T>A', 'ENST00000320704:c.466G>A', 'ENST00000320704:c.180T>C', 'ENST00000320704:c.125C>T', 'ENST00000326842:c.385C>T', 'ENST00000326783:c.107G>A', 'ENST00000304639:c.429C>G', 'ENST00000298681:c.285T>G', 'ENST00000298690:c.564G>C', 'ENST00000298690:c.603C>T', 'ENST00000308227:c.99C>T', 'ENST00000298693:c.893G>A', 'ENST00000298693:c.906A>G', 'ENST00000298693:c.2895G>C', 'ENST00000298693:c.3595T>C', 'ENST00000418511:c.733A>C', 'ENST00000304418:c.933A>G', 'ENST00000304418:c.575C>T', 'ENST00000304418:c.387C>T', 'ENST00000206660:c.287C>A', 'ENST00000206660:c.574A>G', 'ENST00000206660:c.1639G>T', 'ENST00000206660:c.1797G>A', 'ENST00000206660:c.3097G>C', 'ENST00000303532:c.751G>A', 'ENST00000303532:c.426C>T', 'ENST00000303532:c.351C>A', 'ENST00000303532:c.217A>G', 'ENST00000542354:c.266C>G', 'ENST00000542433:c.723A>G', 'ENST00000542433:c.658G>C', 'ENST00000542433:c.505A>G', 'ENST00000542433:c.352G>T', 'ENST00000390423:c.264C>T', 'ENST00000408935:c.120A>G', 'ENST00000408935:c.352G>A', 'ENST00000408935:c.701A>G', 'ENST00000390428:c.211C>T', 'ENST00000390434:c.267T>C', 'ENST00000390434:c.375A>G', 'ENST00000390434:c.459C>T', 'ENST00000390435:c.282T>C', 'ENST00000390436:c.207G>A', 'ENST00000390440:c.224A>C', 'ENST00000390440:c.237A>C', 'ENST00000390440:c.301G>C', 'ENST00000390440:c.405T>C', 'ENST00000390441:c.117A>G', 'ENST00000390448:c.195T>C', 'ENST00000390456:c.208G>A', 'ENST00000390457:c.385A>G', 'ENST00000390462:c.168A>C', 'ENST00000390463:c.133C>T', 'ENST00000390463:c.291C>T', 'ENST00000390463:c.335A>G', 'ENST00000390464:c.12A>T', 'ENST00000390464:c.152A>G', 'ENST00000390464:c.177G>A', 'ENST00000390500:c.8G>A', 'ENST00000390513:c.26G>C', 'ENST00000390521:c.38A>G', 'ENST00000390524:c.37T>C', 'ENST00000540461:c.748C>T', 'ENST00000311852:c.283C>T', 'ENST00000311852:c.1038C>G', 'ENST00000267396:c.410G>C', 'ENST00000359890:c.604G>A', 'ENST00000399910:c.520C>T', 'ENST00000342740:c.1189T>C', 'ENST00000342740:c.2269A>G', 'ENST00000334420:c.3221C>A', 'ENST00000334420:c.3542C>T', 'ENST00000216775:c.1032T>C', 'ENST00000216775:c.1041C>T', 'ENST00000559250:c.78A>G', 'ENST00000250373:c.620G>C', 'ENST00000250373:c.1962T>C', 'ENST00000382554:c.2709C>T', 'ENST00000555109:c.143A>G', 'ENST00000553330:c.87C>A', 'ENST00000553330:c.293C>T', 'ENST00000307169:c.828A>G', 'ENST00000361487:c.943G>C', 'ENST00000533625:c.882G>C', 'ENST00000533625:c.883A>T', 'ENST00000533625:c.884G>C', 'ENST00000553443:c.1718A>G', 'ENST00000267368:c.575C>T', 'ENST00000267377:c.1496C>T', 'ENST00000280082:c.205A>G', 'ENST00000280082:c.622A>G', 'ENST00000340446:c.2294G>T', 'ENST00000340446:c.1561T>A', 'ENST00000340446:c.973G>A', 'ENST00000340446:c.972C>T', 'ENST00000267430:c.3843A>G', 'ENST00000539688:c.524G>C', 'ENST00000359332:c.693A>G', 'ENST00000354525:c.592G>A', 'ENST00000306051:c.1146G>A', 'ENST00000321662:c.79A>G', 'ENST00000321662:c.742G>A', 'ENST00000445360:c.4332C>T', 'ENST00000327720:c.869C>A', 'ENST00000216513:c.1874A>C', 'ENST00000267488:c.324T>A', 'ENST00000267488:c.800T>C', 'ENST00000332981:c.775A>G', 'ENST00000332981:c.2059C>T', 'ENST00000430451:c.226T>C', 'ENST00000322893:c.2846A>G', 'ENST00000322893:c.2502G>A', 'ENST00000316754:c.675C>T', 'ENST00000344113:c.5621A>G', 'ENST00000344113:c.6118T>C', 'ENST00000344113:c.6693C>T', 'ENST00000344113:c.7288G>A', 'ENST00000344113:c.8616A>G', 'ENST00000344113:c.12213T>C', 'ENST00000554584:c.17742C>A', 'ENST00000298705:c.344C>T', 'ENST00000394691:c.579T>C', 'ENST00000247226:c.869G>A', 'ENST00000247226:c.1931T>C', 'ENST00000329153:c.1420A>G', 'ENST00000329153:c.2336A>G', 'ENST00000329153:c.3066G>A', 'ENST00000329153:c.4077T>C', 'ENST00000417684:c.1532A>C', 'ENST00000543986:c.422T>A', 'ENST00000599174:c.1554T>C', 'ENST00000599174:c.753G>A', 'ENST00000599174:c.459G>C', 'ENST00000599174:c.117T>C', 'ENST00000361956:c.389G>A', 'ENST00000267499:c.246A>G', 'ENST00000267499:c.285C>G', 'ENST00000267499:c.291A>C', 'ENST00000267499:c.342C>T', 'ENST00000267499:c.350C>G', 'ENST00000267499:c.351A>T', 'ENST00000267499:c.636A>C', 'ENST00000267499:c.1041A>G', 'ENST00000267499:c.1602T>C', 'ENST00000238570:c.581G>A', 'ENST00000216658:c.436G>A', 'ENST00000216658:c.1902A>G', 'ENST00000216658:c.2097T>G', 'ENST00000216658:c.2236G>A', 'ENST00000326303:c.814C>A', 'ENST00000261980:c.561C>T', 'ENST00000261532:c.957T>C', 'ENST00000261532:c.1228C>T', 'ENST00000167106:c.1017C>T', 'ENST00000450042:c.343C>A', 'ENST00000216453:c.202T>C', 'ENST00000238647:c.1247G>A', 'ENST00000238647:c.1226G>A', 'ENST00000238647:c.1160A>G', 'ENST00000298351:c.531A>G', 'ENST00000298351:c.777A>G', 'ENST00000261534:c.1586G>A', 'ENST00000216471:c.339T>C', 'ENST00000216471:c.496C>T', 'ENST00000216471:c.790G>A', 'ENST00000216471:c.1117T>A', 'ENST00000216471:c.1394A>G', 'ENST00000216471:c.1646A>G', 'ENST00000554738:c.1081T>C', 'ENST00000554738:c.1311G>A', 'ENST00000045347:c.4G>A', 'ENST00000298877:c.147G>A', 'ENST00000298877:c.468T>C', 'ENST00000298877:c.1176G>A', 'ENST00000256339:c.667G>A', 'ENST00000256339:c.4914T>C', 'ENST00000256339:c.5998G>A', 'ENST00000267594:c.389G>A', 'ENST00000355814:c.1477A>C', 'ENST00000298845:c.936C>T', 'ENST00000298841:c.924C>T', 'ENST00000329597:c.1317A>C', 'ENST00000393078:c.104G>A', 'ENST00000393078:c.898C>T', 'ENST00000393078:c.1120A>G', 'ENST00000421193:c.319T>C', 'ENST00000421193:c.526T>C', 'ENST00000216629:c.729A>G', 'ENST00000267584:c.1211C>G', 'ENST00000345514:c.2322C>T', 'ENST00000345514:c.867G>C', 'ENST00000330710:c.119G>A', 'ENST00000262233:c.415T>C', 'ENST00000262233:c.1805T>C', 'ENST00000305631:c.1041A>G', 'ENST00000359232:c.556G>A', 'ENST00000359520:c.1184G>A', 'ENST00000380069:c.2100A>G', 'ENST00000380069:c.2128T>C', 'ENST00000380069:c.2129C>G', 'ENST00000339063:c.390A>G', 'ENST00000339063:c.1485T>C', 'ENST00000315264:c.2628C>T', 'ENST00000315264:c.3177A>G', 'ENST00000315264:c.3258A>G', 'ENST00000315264:c.4245A>G', 'ENST00000315264:c.4257T>C', 'ENST00000315264:c.4557C>A', 'ENST00000315264:c.4695A>G', 'ENST00000315264:c.4935T>C', 'ENST00000315264:c.4983C>T', 'ENST00000332972:c.160A>C', 'ENST00000342537:c.330A>G', 'ENST00000342537:c.855G>A', 'ENST00000342537:c.979G>A', 'ENST00000414716:c.495C>T', 'ENST00000414716:c.822A>C', 'ENST00000414716:c.1467A>G', 'ENST00000414716:c.1911C>T', 'ENST00000414716:c.1980C>T', 'ENST00000414716:c.3945A>G', 'ENST00000604748:c.8A>T', 'ENST00000604748:c.6G>C', 'ENST00000603773:c.41C>G', 'ENST00000604319:c.5C>G', 'ENST00000604309:c.16G>T', 'ENST00000604309:c.15C>G', 'ENST00000603739:c.15A>C', 'ENST00000603739:c.14A>C', 'ENST00000603739:c.11A>T', 'ENST00000605709:c.29G>T', 'ENST00000606026:c.1465G>C', 'ENST00000606026:c.762G>C', 'ENST00000605303:c.184T>A', 'ENST00000605215:c.168G>C', 'ENST00000604412:c.181A>C', 'ENST00000603911:c.193A>T', 'ENST00000603911:c.158C>G', 'ENST00000558565:c.317A>G', 'ENST00000332663:c.428G>A', 'ENST00000332663:c.771T>C', 'ENST00000332663:c.949G>A', 'ENST00000328795:c.358A>G', 'ENST00000328795:c.808G>A', 'ENST00000450802:c.1160A>G', 'ENST00000562295:c.1031G>A', 'ENST00000331837:c.944C>T', 'ENST00000329468:c.1109T>C', 'ENST00000329468:c.1690C>G', 'ENST00000329468:c.2850C>T', 'ENST00000306901:c.787G>A', 'ENST00000512626:c.1805G>A', 'ENST00000593303:c.2419T>C', 'ENST00000334528:c.1388T>C', 'ENST00000389232:c.1339C>T', 'ENST00000389232:c.1550G>A', 'ENST00000389232:c.2473G>C', 'ENST00000389232:c.4991C>T', 'ENST00000389232:c.6879G>A', 'ENST00000389232:c.10882C>T', 'ENST00000389232:c.10951A>G', 'ENST00000438749:c.253G>C', 'ENST00000537011:c.444A>G', 'ENST00000333756:c.220C>T', 'ENST00000333756:c.380T>C', 'ENST00000333756:c.1269G>A', 'ENST00000333756:c.2926A>G', 'ENST00000290374:c.1365G>A', 'ENST00000290374:c.1065C>T', 'ENST00000290374:c.810A>T', 'ENST00000299084:c.1151G>A', 'ENST00000318792:c.17C>G', 'ENST00000260356:c.1455G>A', 'ENST00000260356:c.1575C>T', 'ENST00000260356:c.1732A>G', 'ENST00000260404:c.1436C>T', 'ENST00000448599:c.173T>C', 'ENST00000448599:c.206C>T', 'ENST00000267889:c.226C>G', 'ENST00000267889:c.254G>C', 'ENST00000346991:c.518G>C', 'ENST00000263798:c.971T>C', 'ENST00000219905:c.4748C>G', 'ENST00000221214:c.1636T>C', 'ENST00000452633:c.1210C>T', 'ENST00000300231:c.2778C>T', 'ENST00000300231:c.3696G>A', 'ENST00000300231:c.4183G>A', 'ENST00000300231:c.4185T>C', 'ENST00000300231:c.4858G>A', 'ENST00000323030:c.583C>G', 'ENST00000321429:c.3635A>G', 'ENST00000321429:c.3939C>T', 'ENST00000290894:c.632G>C', 'ENST00000347644:c.290C>A', 'ENST00000316364:c.715C>A', 'ENST00000316364:c.1660C>T', 'ENST00000267842:c.374A>C', 'ENST00000267842:c.508C>T', 'ENST00000260323:c.1825G>A', 'ENST00000281282:c.1216A>C', 'ENST00000281282:c.1609A>G', 'ENST00000267853:c.1351T>C', 'ENST00000299022:c.700G>T', 'ENST00000299022:c.879A>G', 'ENST00000299022:c.1303C>A', 'ENST00000299022:c.1333A>G', 'ENST00000267859:c.219T>C', 'ENST00000267859:c.144C>T', 'ENST00000306829:c.1492C>T', 'ENST00000306829:c.2793C>T', 'ENST00000306829:c.4524C>T', 'ENST00000267996:c.525C>A', 'ENST00000267996:c.558T>C', 'ENST00000432196:c.798A>G', 'ENST00000432196:c.1200T>C', 'ENST00000558797:c.195T>C', 'ENST00000335894:c.2022T>C', 'ENST00000335894:c.2860G>C', 'ENST00000341418:c.2350C>A', 'ENST00000315757:c.738C>T', 'ENST00000260364:c.1066C>T', 'ENST00000260364:c.1234C>T', 'ENST00000260364:c.1385C>T', 'ENST00000260382:c.1391T>C', 'ENST00000261862:c.1408G>A', 'ENST00000268057:c.1102T>C', 'ENST00000261908:c.1911A>G', 'ENST00000261908:c.2868C>T', 'ENST00000261908:c.3135C>T', 'ENST00000379822:c.1192A>C', 'ENST00000379822:c.702T>C', 'ENST00000249842:c.1014G>A', 'ENST00000268082:c.238G>A', 'ENST00000343932:c.1611C>T', 'ENST00000290759:c.403T>C', 'ENST00000312493:c.3491G>A', 'ENST00000343789:c.691G>T', 'ENST00000299529:c.165C>G', 'ENST00000406419:c.234T>G', 'ENST00000412074:c.706T>C', 'ENST00000421388:c.1204T>C', 'ENST00000305428:c.1713A>G', 'ENST00000305428:c.1893T>C', 'ENST00000303329:c.447C>T', 'ENST00000220244:c.2259G>A', 'ENST00000302987:c.1407G>A', 'ENST00000359440:c.3431G>A', 'ENST00000339465:c.91A>G', 'ENST00000565432:c.264G>C', 'ENST00000334574:c.2339C>T', 'ENST00000286744:c.661A>G', 'ENST00000286744:c.1092C>G', 'ENST00000286744:c.1970G>A', 'ENST00000286744:c.1985T>C', 'ENST00000286744:c.2205G>T', 'ENST00000286744:c.2829C>T', 'ENST00000286744:c.3029C>A', 'ENST00000286744:c.3134T>C', 'ENST00000327179:c.763G>C', 'ENST00000258888:c.191T>C', 'ENST00000258888:c.1408C>G', 'ENST00000258888:c.1903G>A', 'ENST00000258888:c.2102G>A', 'ENST00000258888:c.4063C>T', 'ENST00000258888:c.4223T>C', 'ENST00000258888:c.5032T>C', 'ENST00000286749:c.655G>A', 'ENST00000286749:c.799C>A', 'ENST00000286749:c.1239G>A', 'ENST00000286749:c.1458A>G', 'ENST00000361243:c.1698T>C', 'ENST00000361243:c.3201C>T', 'ENST00000361243:c.4086C>T', 'ENST00000389298:c.1059A>G', 'ENST00000389298:c.1455T>C', 'ENST00000352105:c.1681C>A', 'ENST00000352105:c.1867T>C', 'ENST00000352105:c.2347C>T', 'ENST00000352105:c.2572G>A', 'ENST00000352105:c.2649C>T', 'ENST00000352105:c.2847G>T', 'ENST00000352105:c.2873T>A', 'ENST00000352105:c.4581A>C', 'ENST00000352105:c.5351A>G', 'ENST00000352105:c.5857T>G', 'ENST00000352105:c.6293A>G', 'ENST00000352105:c.6481T>C', 'ENST00000352105:c.6838T>G', 'ENST00000268138:c.1833C>T', 'ENST00000268130:c.632A>T', 'ENST00000300060:c.571G>A', 'ENST00000339615:c.666G>A', 'ENST00000339615:c.1034C>G', 'ENST00000339615:c.1075C>T', 'ENST00000330276:c.1681G>A', 'ENST00000318445:c.943G>A', 'ENST00000318445:c.1096G>C', 'ENST00000268164:c.858C>G', 'ENST00000333334:c.544G>A', 'ENST00000599897:c.507G>C', 'ENST00000378919:c.711G>C', 'ENST00000378919:c.631C>T', 'ENST00000594047:c.528G>A', 'ENST00000594047:c.577A>C', 'ENST00000594047:c.935T>C', 'ENST00000594047:c.1108G>A', 'ENST00000594047:c.2073T>C', 'ENST00000332238:c.838G>A', 'ENST00000219406:c.411G>C', 'ENST00000219406:c.498C>T', 'ENST00000219406:c.1365G>A', 'ENST00000219406:c.1522C>T', 'ENST00000409413:c.714T>G', 'ENST00000409413:c.1509A>G', 'ENST00000319070:c.353C>T', 'ENST00000293879:c.494G>C', 'ENST00000293879:c.2199G>A', 'ENST00000293879:c.2697C>A', 'ENST00000567076:c.476C>G', 'ENST00000570289:c.190C>T', 'ENST00000293894:c.904T>C', 'ENST00000293894:c.1024T>C', 'ENST00000293897:c.244G>A', 'ENST00000348261:c.1355T>C', 'ENST00000348261:c.2057A>G', 'ENST00000348261:c.2167C>T', 'ENST00000348261:c.2239T>C', 'ENST00000348261:c.4205T>C', 'ENST00000348261:c.4523A>G', 'ENST00000348261:c.4526A>G', 'ENST00000348261:c.4586T>C', 'ENST00000234798:c.869C>A', 'ENST00000234798:c.721C>T', 'ENST00000338844:c.129C>T', 'ENST00000338844:c.429C>G', 'ENST00000211076:c.222T>C', 'ENST00000211076:c.385G>A', 'ENST00000211076:c.395G>A', 'ENST00000211076:c.523C>T', 'ENST00000211076:c.526G>A', 'ENST00000211076:c.532C>T', 'ENST00000402301:c.528G>C', 'ENST00000402301:c.545C>G', 'ENST00000402301:c.561A>G', 'ENST00000324385:c.540C>T', 'ENST00000324385:c.1903A>C', 'ENST00000324385:c.3281C>T', 'ENST00000389221:c.753T>C', 'ENST00000389176:c.2128T>C', 'ENST00000293925:c.203C>T', 'ENST00000307394:c.216C>G', 'ENST00000215539:c.321T>C', 'ENST00000293937:c.946C>G', 'ENST00000293937:c.574G>A', 'ENST00000293937:c.573C>T', 'ENST00000293937:c.488C>T', 'ENST00000399753:c.507A>G', 'ENST00000567649:c.13A>C', 'ENST00000567649:c.29A>G', 'ENST00000567649:c.71C>T', 'ENST00000253928:c.1209C>T', 'ENST00000336577:c.555C>T', 'ENST00000304646:c.224T>C', 'ENST00000304646:c.726T>C', 'ENST00000304936:c.106A>G', 'ENST00000304936:c.499C>G', 'ENST00000590191:c.586G>A', 'ENST00000299320:c.874G>A', 'ENST00000299320:c.1382C>T', 'ENST00000299320:c.1539A>G', 'ENST00000299320:c.1771G>A', 'ENST00000299320:c.1872C>T', 'ENST00000572956:c.411A>G', 'ENST00000381920:c.1434A>G', 'ENST00000268251:c.355A>G', 'ENST00000327157:c.299G>A', 'ENST00000304381:c.891G>A', 'ENST00000465414:c.259T>C', 'ENST00000438132:c.315G>A', 'ENST00000308214:c.1227T>C', 'ENST00000302451:c.1835G>A', 'ENST00000302451:c.1829G>A', 'ENST00000331849:c.1644G>A', 'ENST00000219054:c.373G>A', 'ENST00000311620:c.116G>C', 'ENST00000389397:c.3181T>C', 'ENST00000261374:c.842A>G', 'ENST00000300061:c.530T>C', 'ENST00000300061:c.617T>C', 'ENST00000300061:c.692C>T', 'ENST00000466124:c.242A>G', 'ENST00000347898:c.1291T>C', 'ENST00000219660:c.759G>A', 'ENST00000219660:c.903G>C', 'ENST00000331351:c.799A>G', 'ENST00000356897:c.379T>C', 'ENST00000357084:c.945T>C', 'ENST00000400752:c.168G>A', 'ENST00000400752:c.399T>G', 'ENST00000400752:c.559G>C', 'ENST00000308713:c.749G>C', 'ENST00000300850:c.4719G>A', 'ENST00000322122:c.722C>T', 'ENST00000268296:c.263T>C', 'ENST00000389202:c.787A>G', 'ENST00000389202:c.1438T>C', 'ENST00000287490:c.322C>T', 'ENST00000354689:c.152G>T', 'ENST00000319817:c.507A>T', 'ENST00000300589:c.907C>T', 'ENST00000251020:c.3857G>A', 'ENST00000219070:c.1187G>C', 'ENST00000219070:c.1658T>C', 'ENST00000219070:c.1889G>A', 'ENST00000262134:c.673G>A', 'ENST00000576685:c.273T>C', 'ENST00000219162:c.169A>G', 'ENST00000219162:c.171T>C', 'ENST00000379818:c.558C>A', 'ENST00000290705:c.153C>A', 'ENST00000262502:c.813C>G', 'ENST00000262502:c.1417C>T', 'ENST00000379694:c.567A>C', 'ENST00000333493:c.176G>T', 'ENST00000333493:c.206G>T', 'ENST00000333493:c.1766C>T', 'ENST00000336825:c.1157C>T', 'ENST00000336825:c.2155T>C', 'ENST00000290871:c.816G>A', 'ENST00000341529:c.532C>T', 'ENST00000341529:c.1698T>C', 'ENST00000303334:c.407C>T', 'ENST00000303334:c.1673G>A', 'ENST00000326686:c.772A>C', 'ENST00000219334:c.2454G>A', 'ENST00000264012:c.1264G>A', 'ENST00000264012:c.1357C>A', 'ENST00000264012:c.2233G>C', 'ENST00000264012:c.2500G>A', 'ENST00000264012:c.2783C>A', 'ENST00000219322:c.243T>G', 'ENST00000219322:c.339A>G', 'ENST00000288040:c.540T>C', 'ENST00000288040:c.639C>T', 'ENST00000288098:c.750G>C', 'ENST00000357763:c.440C>G', 'ENST00000228226:c.191C>T', 'ENST00000307431:c.2739A>G', 'ENST00000378644:c.444T>C', 'ENST00000378644:c.588G>A', 'ENST00000378644:c.683C>A', 'ENST00000569649:c.1122C>T', 'ENST00000299572:c.988A>T', 'ENST00000299578:c.1099T>C', 'ENST00000299578:c.827G>A', 'ENST00000258168:c.566T>C', 'ENST00000258168:c.1262A>T', 'ENST00000258168:c.1597C>T', 'ENST00000343939:c.400C>T', 'ENST00000561552:c.333C>G', 'ENST00000561552:c.336G>A', 'ENST00000334315:c.1359A>G', 'ENST00000378553:c.1629C>T', 'ENST00000378553:c.1918C>G', 'ENST00000378553:c.2022T>C', 'ENST00000378553:c.2100T>C', 'ENST00000378553:c.2148G>C', 'ENST00000268624:c.224G>A', 'ENST00000262429:c.143G>C', 'ENST00000262429:c.582A>C', 'ENST00000262429:c.1485A>T', 'ENST00000262429:c.1796C>A', 'ENST00000262424:c.537A>G', 'ENST00000574293:c.747A>G', 'ENST00000284262:c.905T>C', 'ENST00000284262:c.926G>A', 'ENST00000284262:c.2114T>C', 'ENST00000437464:c.1069T>C', 'ENST00000437464:c.1098A>C', 'ENST00000437464:c.1489G>A', 'ENST00000437464:c.1529G>C', 'ENST00000437464:c.1776A>G', 'ENST00000437464:c.2130T>C', 'ENST00000437464:c.3153T>C', 'ENST00000437464:c.3438G>A', 'ENST00000437464:c.3484A>G', 'ENST00000437464:c.4259C>T', 'ENST00000437464:c.4335T>G', 'ENST00000437464:c.5577C>G', 'ENST00000437464:c.7072G>C', 'ENST00000437464:c.8009T>A', 'ENST00000437464:c.8520C>T', 'ENST00000437464:c.8543A>G', 'ENST00000437464:c.10888G>C', 'ENST00000437464:c.10906A>G', 'ENST00000437464:c.11673A>G', 'ENST00000437464:c.11772C>T', 'ENST00000319555:c.386A>G', 'ENST00000244241:c.493C>T', 'ENST00000378347:c.764C>T', 'ENST00000378347:c.1497G>C', 'ENST00000261615:c.1173G>C', 'ENST00000289805:c.537C>T', 'ENST00000378247:c.712C>T', 'ENST00000555147:c.1558G>T', 'ENST00000555147:c.1654G>A', 'ENST00000268699:c.898G>A', 'ENST00000567960:c.128C>A', 'ENST00000567960:c.183T>C', 'ENST00000567960:c.489T>C', 'ENST00000567960:c.638A>G', 'ENST00000567960:c.662T>C', 'ENST00000567960:c.715G>A', 'ENST00000567104:c.182G>A', 'ENST00000576252:c.197G>A', 'ENST00000576252:c.261A>G', 'ENST00000333813:c.382C>T', 'ENST00000333813:c.398T>C', 'ENST00000333813:c.508A>G', 'ENST00000324015:c.82C>T', 'ENST00000254722:c.378C>T', 'ENST00000331238:c.1128G>A', 'ENST00000322941:c.450G>A', 'ENST00000254695:c.684T>C', 'ENST00000575751:c.748C>T', 'ENST00000381951:c.264G>C', 'ENST00000304094:c.94T>C', 'ENST00000304094:c.483G>T', 'ENST00000304094:c.697G>A', 'ENST00000304094:c.759A>G', 'ENST00000304094:c.853C>T', 'ENST00000408891:c.714T>C', 'ENST00000408891:c.607C>G', 'ENST00000291231:c.143C>T', 'ENST00000291231:c.225G>A', 'ENST00000291231:c.394C>T', 'ENST00000248384:c.876T>C', 'ENST00000248384:c.79T>C', 'ENST00000301365:c.205A>G', 'ENST00000333476:c.639G>A', 'ENST00000333476:c.687C>T', 'ENST00000333476:c.895G>T', 'ENST00000571386:c.660A>G', 'ENST00000389313:c.493G>A', 'ENST00000338859:c.185G>A', 'ENST00000338859:c.679G>A', 'ENST00000270560:c.220G>A', 'ENST00000270560:c.616A>C', 'ENST00000331264:c.392G>A', 'ENST00000331264:c.508T>C', 'ENST00000331264:c.680C>A', 'ENST00000331264:c.846G>C', 'ENST00000263088:c.2592G>A', 'ENST00000329125:c.1386A>G', 'ENST00000323997:c.386T>C', 'ENST00000250066:c.3122T>C', 'ENST00000250066:c.4434G>A', 'ENST00000399604:c.1800G>A', 'ENST00000321535:c.821C>T', 'ENST00000321535:c.1219A>G', 'ENST00000251535:c.176C>G', 'ENST00000251535:c.818G>A', 'ENST00000251535:c.835A>G', 'ENST00000251535:c.1145T>G', 'ENST00000293805:c.1130T>C', 'ENST00000317370:c.658T>C', 'ENST00000311668:c.181C>T', 'ENST00000311668:c.241T>A', 'ENST00000302926:c.1039C>T', 'ENST00000323675:c.819G>A', 'ENST00000323675:c.883C>G', 'ENST00000306071:c.162A>G', 'ENST00000412468:c.266G>A', 'ENST00000412468:c.867C>T', 'ENST00000412468:c.902G>A', 'ENST00000412468:c.1091T>C', 'ENST00000412468:c.1092G>A', 'ENST00000250111:c.803A>G', 'ENST00000250111:c.1067C>T', 'ENST00000082259:c.308T>C', 'ENST00000389173:c.4166C>G', 'ENST00000389173:c.5279C>G', 'ENST00000389173:c.5600C>T', 'ENST00000254854:c.304G>T', 'ENST00000380173:c.461C>G', 'ENST00000328248:c.908C>T', 'ENST00000344001:c.425G>A', 'ENST00000344001:c.368C>T', 'ENST00000329805:c.869C>A', 'ENST00000285199:c.1227C>T', 'ENST00000581040:c.593T>A', 'ENST00000252172:c.3301A>G', 'ENST00000343478:c.220G>A', 'ENST00000262442:c.497C>T', 'ENST00000262442:c.1402A>G', 'ENST00000262442:c.1520A>G', 'ENST00000262442:c.3437T>C', 'ENST00000262442:c.6398C>T', 'ENST00000262442:c.9812C>G', 'ENST00000262444:c.943A>G', 'ENST00000262444:c.1558C>T', 'ENST00000338696:c.1461A>C', 'ENST00000437605:c.867C>T', 'ENST00000389022:c.801C>T', 'ENST00000205890:c.2900C>T', 'ENST00000205890:c.5292C>T', 'ENST00000205890:c.6267T>C', 'ENST00000205890:c.7523T>C', 'ENST00000205890:c.8195G>A', 'ENST00000205890:c.8383A>T', 'ENST00000205890:c.8660C>T', 'ENST00000323019:c.1003T>C', 'ENST00000399134:c.369G>A', 'ENST00000328114:c.963T>C', 'ENST00000345096:c.867A>C', 'ENST00000301938:c.238T>A', 'ENST00000301938:c.876G>A', 'ENST00000301938:c.994G>T', 'ENST00000317977:c.1270C>A', 'ENST00000225740:c.369G>A', 'ENST00000316920:c.240C>A', 'ENST00000316920:c.286G>C', 'ENST00000316920:c.1079G>C', 'ENST00000563509:c.379G>A', 'ENST00000563509:c.414C>T', 'ENST00000563509:c.486G>A', 'ENST00000563509:c.489G>A', 'ENST00000563509:c.498G>A', 'ENST00000563509:c.583G>A', 'ENST00000563509:c.613G>C', 'ENST00000563509:c.628C>A', 'ENST00000563509:c.634G>A', 'ENST00000563509:c.668A>G', 'ENST00000563509:c.697C>T', 'ENST00000563509:c.826G>A', 'ENST00000563509:c.837C>T', 'ENST00000563509:c.967C>T', 'ENST00000563509:c.988C>T', 'ENST00000563509:c.1018T>C', 'ENST00000563509:c.1108G>A', 'ENST00000563509:c.1115A>G', 'ENST00000563509:c.1123C>T', 'ENST00000563509:c.1501C>T', 'ENST00000563509:c.1624C>T', 'ENST00000578713:c.46C>T', 'ENST00000319524:c.12A>G', 'ENST00000591663:c.697T>C', 'ENST00000591663:c.698C>G', 'ENST00000225387:c.457C>T', 'ENST00000320856:c.901T>G', 'ENST00000320856:c.1025T>A', 'ENST00000225831:c.170T>C', 'ENST00000394620:c.671A>C', 'ENST00000357754:c.553G>A', 'ENST00000321639:c.1484G>A', 'ENST00000321639:c.1933C>T', 'ENST00000321639:c.1979C>T', 'ENST00000158009:c.221T>C', 'ENST00000158009:c.679C>A', 'ENST00000415846:c.1189A>G', 'ENST00000415846:c.1102C>T', 'ENST00000354059:c.624T>C', 'ENST00000293280:c.438G>A', 'ENST00000250151:c.433T>C', 'ENST00000562697:c.626G>C', 'ENST00000562697:c.2549C>T', 'ENST00000562697:c.3098A>G', 'ENST00000309889:c.1626A>C', 'ENST00000269571:c.2122A>G', 'ENST00000445327:c.193T>C', 'ENST00000301659:c.171G>A', 'ENST00000301659:c.1059C>A', 'ENST00000572470:c.1480C>G', 'ENST00000572132:c.219C>A', 'ENST00000572132:c.74C>G', 'ENST00000575409:c.199C>G', 'ENST00000575409:c.178T>A', 'ENST00000575409:c.120C>A', 'ENST00000575409:c.63A>C', 'ENST00000572212:c.510C>G', 'ENST00000572212:c.305C>G', 'ENST00000572212:c.142C>G', 'ENST00000576814:c.326G>T', 'ENST00000576814:c.137C>A', 'ENST00000575715:c.368G>C', 'ENST00000575715:c.350A>T', 'ENST00000575715:c.135G>C', 'ENST00000575715:c.114C>G', 'ENST00000573871:c.237C>G', 'ENST00000573871:c.215C>G', 'ENST00000573871:c.180G>C', 'ENST00000573871:c.99C>G', 'ENST00000570303:c.111G>C', 'ENST00000570303:c.94G>C', 'ENST00000572903:c.81G>C', 'ENST00000572903:c.64G>C', 'ENST00000391417:c.53A>T', 'ENST00000391417:c.332G>A', 'ENST00000333822:c.508C>G', 'ENST00000574631:c.411T>G', 'ENST00000574631:c.407A>T', 'ENST00000574631:c.398C>G', 'ENST00000574631:c.90T>A', 'ENST00000574631:c.19G>C', 'ENST00000576939:c.516C>G', 'ENST00000576939:c.246C>G', 'ENST00000576939:c.118T>A', 'ENST00000576939:c.74A>T', 'ENST00000576939:c.48T>A', 'ENST00000573418:c.607T>A', 'ENST00000573418:c.544G>C', 'ENST00000573418:c.526C>G', 'ENST00000573418:c.378C>A', 'ENST00000573418:c.122G>C', 'ENST00000571271:c.639C>G', 'ENST00000571271:c.504C>G', 'ENST00000571271:c.367A>T', 'ENST00000571271:c.247A>T', 'ENST00000571271:c.146C>G', 'ENST00000345847:c.274C>T', 'ENST00000343246:c.409G>A', 'ENST00000343246:c.270T>A', 'ENST00000343246:c.99C>T', 'ENST00000377726:c.328A>G', 'ENST00000398472:c.888G>A', 'ENST00000398472:c.783A>G', 'ENST00000398472:c.769A>G', 'ENST00000398472:c.752C>T', 'ENST00000398472:c.743C>T', 'ENST00000398472:c.685A>G', 'ENST00000398470:c.1A>G', 'ENST00000377721:c.43C>A', 'ENST00000572513:c.113T>C', 'ENST00000571104:c.423A>G', 'ENST00000571104:c.478C>A', 'ENST00000571104:c.504C>A', 'ENST00000570861:c.64G>A', 'ENST00000573531:c.61T>G', 'ENST00000574737:c.848A>T', 'ENST00000574737:c.628T>A', 'ENST00000574737:c.622C>G', 'ENST00000572734:c.1460C>G', 'ENST00000572734:c.1185G>C', 'ENST00000572734:c.1069C>G', 'ENST00000572734:c.1019C>G', 'ENST00000572734:c.803C>G', 'ENST00000572734:c.770G>C', 'ENST00000572734:c.572C>G', 'ENST00000572734:c.412G>C', 'ENST00000572734:c.255G>C', 'ENST00000572734:c.117A>T', 'ENST00000572734:c.74G>C', 'ENST00000574858:c.170G>C', 'ENST00000573281:c.1183C>G', 'ENST00000573281:c.1174C>G', 'ENST00000568842:c.694A>G', 'ENST00000569845:c.1201C>G', 'ENST00000569845:c.1109C>G', 'ENST00000253799:c.40A>G', 'ENST00000588043:c.219C>T', 'ENST00000293414:c.273A>T', 'ENST00000293443:c.2219G>A', 'ENST00000262407:c.3095C>T', 'ENST00000359945:c.1179A>C', 'ENST00000200557:c.1420T>C', 'ENST00000253410:c.290C>T', 'ENST00000331733:c.2293A>G', 'ENST00000293493:c.1032T>C', 'ENST00000293493:c.1137C>T', 'ENST00000329196:c.687T>C', 'ENST00000329196:c.925G>A', 'ENST00000329196:c.1011G>A', 'ENST00000329196:c.1399G>C', 'ENST00000329196:c.1428A>G', 'ENST00000329196:c.1448C>T', 'ENST00000329196:c.1679T>C', 'ENST00000329196:c.1818T>C', 'ENST00000329196:c.1875G>A', 'ENST00000329196:c.1945C>G', 'ENST00000329196:c.1964T>C', 'ENST00000329196:c.1976G>A', 'ENST00000262410:c.1801G>A', 'ENST00000262410:c.1954A>G', 'ENST00000262410:c.2038T>C', 'ENST00000547091:c.14G>T', 'ENST00000547091:c.26G>A', 'ENST00000547091:c.62A>G', 'ENST00000290015:c.370T>C', 'ENST00000331493:c.1345G>A', 'ENST00000361722:c.2202C>T', 'ENST00000361722:c.2371G>A', 'ENST00000239174:c.887A>G', 'ENST00000239174:c.543G>A', 'ENST00000239174:c.402A>T', 'ENST00000239174:c.330C>T', 'ENST00000300404:c.1160T>C', 'ENST00000172229:c.920C>T', 'ENST00000007722:c.2046C>T', 'ENST00000300433:c.379G>C', 'ENST00000300441:c.599T>C', 'ENST00000268933:c.1287C>T', 'ENST00000352832:c.1963C>A', 'ENST00000515707:c.224G>A', 'ENST00000515707:c.230C>G', 'ENST00000311378:c.1212C>T', 'ENST00000412360:c.287C>G', 'ENST00000412360:c.332A>C', 'ENST00000268919:c.491C>T', 'ENST00000268919:c.846A>G', 'ENST00000268919:c.1405C>T', 'ENST00000268919:c.1465C>G', 'ENST00000268919:c.2014C>T', 'ENST00000572536:c.373T>C', 'ENST00000268912:c.541C>A', 'ENST00000545221:c.85C>A', 'ENST00000225371:c.230A>G', 'ENST00000225371:c.476G>C', 'ENST00000225371:c.770A>G', 'ENST00000262290:c.742G>C', 'ENST00000262290:c.1577G>A', 'ENST00000390652:c.291A>G', 'ENST00000390652:c.361T>C', 'ENST00000240328:c.2108C>T', 'ENST00000335108:c.782T>C', 'ENST00000240335:c.321T>G', 'ENST00000311506:c.500T>C', 'ENST00000303375:c.891C>T', 'ENST00000303375:c.2988G>C', 'ENST00000303375:c.3869G>A', 'ENST00000389520:c.645G>A', 'ENST00000290866:c.1084G>A', 'ENST00000413366:c.857G>A', 'ENST00000413366:c.1728G>A', 'ENST00000169565:c.57T>C', 'ENST00000169565:c.867A>G', 'ENST00000375684:c.193G>C', 'ENST00000226021:c.657G>A', 'ENST00000269346:c.615G>A', 'ENST00000269346:c.867T>G', 'ENST00000307504:c.1041A>G', 'ENST00000311014:c.1739G>A', 'ENST00000389916:c.1536T>C', 'ENST00000389916:c.2199C>T', 'ENST00000389916:c.2226C>T', 'ENST00000375366:c.615C>A', 'ENST00000335666:c.442C>A', 'ENST00000335666:c.1248T>C', 'ENST00000328023:c.448A>C', 'ENST00000328023:c.928C>A', 'ENST00000293190:c.246T>C', 'ENST00000331427:c.1485G>T', 'ENST00000328801:c.191G>A', 'ENST00000328801:c.437G>A', 'ENST00000328801:c.595T>C', 'ENST00000328801:c.1176G>A', 'ENST00000337231:c.1414C>T', 'ENST00000337231:c.1702A>G', 'ENST00000538213:c.223G>A', 'ENST00000333213:c.48G>T', 'ENST00000333213:c.1346C>T', 'ENST00000167462:c.264G>A', 'ENST00000582561:c.256C>T', 'ENST00000582561:c.403A>G', 'ENST00000582561:c.413G>T', 'ENST00000582561:c.422A>G', 'ENST00000584762:c.299A>G', 'ENST00000582012:c.143G>A', 'ENST00000582012:c.168G>A', 'ENST00000578462:c.436G>A', 'ENST00000254816:c.645A>C', 'ENST00000254816:c.586C>T', 'ENST00000254816:c.519C>G', 'ENST00000334586:c.537G>A', 'ENST00000323374:c.556G>A', 'ENST00000301618:c.782G>A', 'ENST00000301618:c.1624G>C', 'ENST00000301618:c.1759C>T', 'ENST00000301618:c.2437C>T', 'ENST00000301624:c.3028C>G', 'ENST00000421688:c.568C>T', 'ENST00000339142:c.633T>C', 'ENST00000339142:c.690G>C', 'ENST00000339142:c.792C>T', 'ENST00000578419:c.20C>A', 'ENST00000311595:c.77G>A', 'ENST00000579016:c.1787G>A', 'ENST00000573833:c.251C>T', 'ENST00000269318:c.218G>C', 'ENST00000374877:c.1917T>G', 'ENST00000302262:c.887G>A', 'ENST00000319921:c.950T>C', 'ENST00000306773:c.1412A>C', 'ENST00000306773:c.1391A>G', 'ENST00000307745:c.316A>G', 'ENST00000584436:c.1181G>A', 'ENST00000584436:c.1301A>G', 'ENST00000584436:c.1426A>G', 'ENST00000584436:c.1702G>A', 'ENST00000584436:c.3869A>G', 'ENST00000584436:c.4668G>A', 'ENST00000584436:c.5399A>G', 'ENST00000584436:c.5420C>T', 'ENST00000328585:c.270C>T', 'ENST00000328585:c.442G>A', 'ENST00000328585:c.491T>C', 'ENST00000328585:c.506A>G', 'ENST00000328585:c.522T>C', 'ENST00000328585:c.552T>C', 'ENST00000328585:c.585C>T', 'ENST00000328585:c.1059G>T', 'ENST00000328585:c.1143G>A', 'ENST00000300784:c.249A>C', 'ENST00000327228:c.257T>C', 'ENST00000450565:c.575A>G', 'ENST00000254528:c.573C>T', 'ENST00000254528:c.1881C>T', 'ENST00000254528:c.2866C>T', 'ENST00000284898:c.2054G>A', 'ENST00000262227:c.4678A>G', 'ENST00000262227:c.4795A>G', 'ENST00000332175:c.2354C>T', 'ENST00000306329:c.1805T>C', 'ENST00000306329:c.2340A>G', 'ENST00000306329:c.2582A>G', 'ENST00000306285:c.2474G>A', 'ENST00000581641:c.651A>G', 'ENST00000582937:c.269C>A', 'ENST00000314074:c.520G>T', 'ENST00000314074:c.751T>C', 'ENST00000314074:c.1174G>A', 'ENST00000314074:c.1429C>G', 'ENST00000314074:c.1795G>A', 'ENST00000400514:c.179A>G', 'ENST00000325971:c.4436G>A', 'ENST00000324750:c.546C>T', 'ENST00000324750:c.849C>G', 'ENST00000324750:c.966C>T', 'ENST00000269218:c.3383A>G', 'ENST00000391403:c.2126A>G', 'ENST00000391403:c.1868C>T', 'ENST00000313654:c.3142T>C', 'ENST00000313654:c.3863C>A', 'ENST00000313654:c.4501G>C', 'ENST00000313654:c.4771C>T', 'ENST00000269217:c.3878A>G', 'ENST00000257192:c.243A>G', 'ENST00000257192:c.944C>T', 'ENST00000308128:c.165C>T', 'ENST00000308128:c.393G>A', 'ENST00000308128:c.630C>T', 'ENST00000308128:c.2065A>C', 'ENST00000257189:c.428C>T', 'ENST00000257189:c.2201G>A', 'ENST00000257189:c.2817A>G', 'ENST00000261590:c.1070C>T', 'ENST00000261590:c.1086A>G', 'ENST00000237014:c.253G>A', 'ENST00000269205:c.934C>A', 'ENST00000426194:c.426C>G', 'ENST00000350494:c.512C>T', 'ENST00000261326:c.496C>A', 'ENST00000261326:c.530C>T', 'ENST00000261326:c.571A>G', 'ENST00000261326:c.695A>G', 'ENST00000261326:c.1093G>A', 'ENST00000261326:c.1185A>G', 'ENST00000261326:c.2128C>A', 'ENST00000590592:c.1297G>A', 'ENST00000590592:c.1364C>T', 'ENST00000590592:c.1411G>A', 'ENST00000257209:c.1726C>G', 'ENST00000280020:c.922T>C', 'ENST00000280020:c.1069T>A', 'ENST00000321925:c.820A>G', 'ENST00000321925:c.1042G>A', 'ENST00000321925:c.1070G>A', 'ENST00000256413:c.443G>A', 'ENST00000261292:c.610C>T', 'ENST00000442544:c.683T>C', 'ENST00000304775:c.155G>A', 'ENST00000412726:c.2969T>C', 'ENST00000321600:c.611A>C', 'ENST00000398339:c.85G>C', 'ENST00000254442:c.3292G>A', 'ENST00000324000:c.2306A>C', 'ENST00000256857:c.108C>A', 'ENST00000262717:c.767C>T', 'ENST00000262717:c.1178C>G', 'ENST00000382771:c.625G>C', 'ENST00000382771:c.818T>C', 'ENST00000319445:c.143A>C', 'ENST00000319445:c.401G>A', 'ENST00000319445:c.509A>T', 'ENST00000319445:c.943A>G', 'ENST00000382713:c.544T>C', 'ENST00000584919:c.315C>A', 'ENST00000579455:c.2356T>C', 'ENST00000343998:c.1223A>G', 'ENST00000358821:c.244G>A', 'ENST00000358821:c.565A>G', 'ENST00000358821:c.951C>T', 'ENST00000299687:c.33T>C', 'ENST00000578092:c.388A>G', 'ENST00000527041:c.328A>G', 'ENST00000299727:c.141T>C', 'ENST00000572106:c.258C>A', 'ENST00000572106:c.1058C>T', 'ENST00000572106:c.1583G>A', 'ENST00000572106:c.1763G>C', 'ENST00000572106:c.2362C>T', 'ENST00000572106:c.2461T>C', 'ENST00000572106:c.2866G>T', 'ENST00000575536:c.124A>G', 'ENST00000075430:c.283T>G', 'ENST00000316249:c.1138C>T', 'ENST00000332235:c.636T>C', 'ENST00000264553:c.699A>G', 'ENST00000251287:c.280G>A', 'ENST00000251287:c.1220T>C', 'ENST00000215582:c.478C>T', 'ENST00000215582:c.569A>G', 'ENST00000234347:c.401G>A', 'ENST00000234371:c.1244T>A', 'ENST00000234389:c.479C>T', 'ENST00000234389:c.974G>A', 'ENST00000234389:c.1229C>T', 'ENST00000234389:c.1243A>G', 'ENST00000234389:c.1259T>C', 'ENST00000234389:c.1342G>A', 'ENST00000234389:c.1363T>C', 'ENST00000234389:c.1749C>T', 'ENST00000234389:c.2050G>C', 'ENST00000234389:c.2552G>A', 'ENST00000263094:c.2082A>G', 'ENST00000263094:c.2616G>A', 'ENST00000221496:c.168G>T', 'ENST00000221496:c.274G>A', 'ENST00000221496:c.325G>A', 'ENST00000404279:c.1405G>A', 'ENST00000332578:c.89G>C', 'ENST00000317243:c.234G>A', 'ENST00000317243:c.829G>A', 'ENST00000292672:c.196G>C', 'ENST00000221899:c.1549C>T', 'ENST00000262968:c.1839T>G', 'ENST00000262968:c.2792T>C', 'ENST00000262968:c.2799A>C', 'ENST00000262970:c.601G>A', 'ENST00000262970:c.1316G>A', 'ENST00000543264:c.1589C>T', 'ENST00000543264:c.2272A>G', 'ENST00000301272:c.894G>A', 'ENST00000301272:c.650G>C', 'ENST00000221856:c.375T>C', 'ENST00000419421:c.729A>G', 'ENST00000419421:c.651G>A', 'ENST00000390672:c.241G>A', 'ENST00000286955:c.1423C>T', 'ENST00000303225:c.949T>C', 'ENST00000303225:c.837C>T', 'ENST00000252675:c.1646T>C', 'ENST00000252675:c.1576C>T', 'ENST00000252675:c.1564A>G', 'ENST00000252675:c.1484C>T', 'ENST00000252675:c.1460A>G', 'ENST00000252675:c.1123C>T', 'ENST00000245907:c.1785G>A', 'ENST00000250572:c.212G>A', 'ENST00000250572:c.463C>G', 'ENST00000250572:c.563G>A', 'ENST00000250572:c.804A>G', 'ENST00000250572:c.936C>T', 'ENST00000329753:c.658G>A', 'ENST00000361664:c.908A>G', 'ENST00000361664:c.1275T>C', 'ENST00000361664:c.1287A>G', 'ENST00000361664:c.1327T>A', 'ENST00000248228:c.923G>A', 'ENST00000306708:c.608A>C', 'ENST00000306708:c.643A>G', 'ENST00000306708:c.670T>C', 'ENST00000306708:c.1421G>A', 'ENST00000573102:c.1323A>T', 'ENST00000573102:c.933G>C', 'ENST00000573102:c.877G>C', 'ENST00000573102:c.697C>G', 'ENST00000573102:c.273C>A', 'ENST00000573102:c.231C>A', 'ENST00000573102:c.154C>G', 'ENST00000574760:c.243C>T', 'ENST00000429566:c.453A>G', 'ENST00000293614:c.755A>G', 'ENST00000293614:c.423G>C', 'ENST00000293614:c.248T>C', 'ENST00000305444:c.741T>C', 'ENST00000305444:c.192T>C', 'ENST00000305444:c.85A>G', 'ENST00000344248:c.386T>C', 'ENST00000344248:c.1103A>C', 'ENST00000308682:c.427C>T', 'ENST00000308682:c.291C>T', 'ENST00000456448:c.304A>G', 'ENST00000456448:c.738C>T', 'ENST00000456448:c.838C>T', 'ENST00000456448:c.840C>T', 'ENST00000221980:c.964G>A', 'ENST00000221980:c.1105G>A', 'ENST00000221980:c.2715G>C', 'ENST00000333430:c.692T>G', 'ENST00000304060:c.291T>A', 'ENST00000304060:c.535A>G', 'ENST00000588234:c.426A>G', 'ENST00000292530:c.565T>A', 'ENST00000596056:c.94C>G', 'ENST00000596056:c.242T>C', 'ENST00000248058:c.792C>A', 'ENST00000248058:c.673A>T', 'ENST00000248058:c.452T>C', 'ENST00000248058:c.130C>A', 'ENST00000327462:c.302G>T', 'ENST00000327462:c.234T>C', 'ENST00000327462:c.223T>C', 'ENST00000327462:c.220G>A', 'ENST00000292574:c.815G>A', 'ENST00000292574:c.1413G>C', 'ENST00000292574:c.1438C>A', 'ENST00000292574:c.1577C>A', 'ENST00000209540:c.234A>T', 'ENST00000209540:c.473A>G', 'ENST00000209540:c.502C>G', 'ENST00000209540:c.651G>T', 'ENST00000209540:c.717T>C', 'ENST00000209540:c.816C>T', 'ENST00000209540:c.841A>C', 'ENST00000209540:c.961T>C', 'ENST00000209540:c.974T>C', 'ENST00000209540:c.1061A>T', 'ENST00000342784:c.797G>A', 'ENST00000292609:c.1924C>T', 'ENST00000292609:c.426G>A', 'ENST00000292609:c.266A>G', 'ENST00000221307:c.1121G>A', 'ENST00000324632:c.99C>T', 'ENST00000324632:c.278A>G', 'ENST00000324632:c.614T>C', 'ENST00000324632:c.1616A>G', 'ENST00000305899:c.134G>A', 'ENST00000305899:c.335C>T', 'ENST00000305899:c.341C>T', 'ENST00000305899:c.532C>T', 'ENST00000305899:c.626G>A', 'ENST00000305892:c.21A>C', 'ENST00000305892:c.40C>A', 'ENST00000305892:c.878G>A', 'ENST00000308940:c.242T>C', 'ENST00000308940:c.367G>A', 'ENST00000308940:c.446T>C', 'ENST00000308940:c.671T>C', 'ENST00000308940:c.769C>A', 'ENST00000308940:c.879C>T', 'ENST00000334920:c.290C>A', 'ENST00000334920:c.283C>T', 'ENST00000334920:c.135G>C', 'ENST00000248041:c.1492C>G', 'ENST00000322107:c.204C>T', 'ENST00000322107:c.300C>A', 'ENST00000322107:c.431A>G', 'ENST00000322107:c.841A>G', 'ENST00000248071:c.725G>A', 'ENST00000379808:c.47G>T', 'ENST00000379808:c.235A>G', 'ENST00000339803:c.247G>A', 'ENST00000339803:c.1719G>A', 'ENST00000339803:c.2372A>T', 'ENST00000339803:c.3420G>A', 'ENST00000341130:c.956T>C', 'ENST00000300971:c.824T>C', 'ENST00000318683:c.1130G>A', 'ENST00000222248:c.1973C>T', 'ENST00000222254:c.1300A>C', 'ENST00000222254:c.1503G>A', 'ENST00000339007:c.1534C>T', 'ENST00000262817:c.567T>C', 'ENST00000300976:c.180C>T', 'ENST00000360913:c.1292T>C', 'ENST00000608908:c.152C>G', 'ENST00000601023:c.684A>G', 'ENST00000594245:c.310T>C', 'ENST00000456783:c.396G>A', 'ENST00000456783:c.845G>C', 'ENST00000456783:c.857G>T', 'ENST00000335523:c.680G>C', 'ENST00000355537:c.2616T>C', 'ENST00000334176:c.1143G>T', 'ENST00000253193:c.1234T>C', 'ENST00000253193:c.2325T>C', 'ENST00000270288:c.84G>C', 'ENST00000270288:c.685A>C', 'ENST00000270288:c.1206T>C', 'ENST00000270288:c.1269G>A', 'ENST00000404801:c.1737C>T', 'ENST00000404801:c.917G>A', 'ENST00000599564:c.270G>A', 'ENST00000313865:c.480T>C', 'ENST00000246553:c.642G>A', 'ENST00000327809:c.969G>A', 'ENST00000327809:c.1120A>G', 'ENST00000222286:c.725C>T', 'ENST00000379026:c.791G>A', 'ENST00000222275:c.97T>G', 'ENST00000222270:c.153T>G', 'ENST00000007510:c.294C>T', 'ENST00000262625:c.1067G>T', 'ENST00000262625:c.1785A>G', 'ENST00000262637:c.172G>A', 'ENST00000392171:c.418T>A', 'ENST00000392170:c.526C>A', 'ENST00000333987:c.1913T>C', 'ENST00000433993:c.660A>G', 'ENST00000433993:c.1220G>A', 'ENST00000433993:c.1311G>A', 'ENST00000433993:c.1454A>T', 'ENST00000433993:c.1461C>A', 'ENST00000433993:c.1563G>A', 'ENST00000444991:c.2087G>A', 'ENST00000444991:c.2189A>G', 'ENST00000455427:c.2016C>G', 'ENST00000455427:c.2025G>C', 'ENST00000455427:c.2043T>C', 'ENST00000292841:c.2217C>T', 'ENST00000292841:c.2212G>A', 'ENST00000292841:c.1083A>G', 'ENST00000445217:c.239T>G', 'ENST00000355481:c.725A>G', 'ENST00000355481:c.1208T>C', 'ENST00000355481:c.1799G>A', 'ENST00000355481:c.2417C>T', 'ENST00000355481:c.3074G>A', 'ENST00000314980:c.43A>G', 'ENST00000331256:c.487C>T', 'ENST00000331256:c.868G>A', 'ENST00000314349:c.350C>T', 'ENST00000205143:c.522T>G', 'ENST00000205143:c.553C>G', 'ENST00000205143:c.660T>C', 'ENST00000205143:c.1036C>T', 'ENST00000205143:c.1569C>T', 'ENST00000392051:c.358T>A', 'ENST00000324001:c.3665G>A', 'ENST00000338932:c.1014A>G', 'ENST00000338932:c.1815C>T', 'ENST00000204005:c.469G>A', 'ENST00000204005:c.2347A>G', 'ENST00000331105:c.168G>A', 'ENST00000331105:c.184T>C', 'ENST00000331105:c.724G>A', 'ENST00000310054:c.438G>C', 'ENST00000301178:c.986A>G', 'ENST00000321702:c.1018G>A', 'ENST00000607888:c.293T>C', 'ENST00000607888:c.321A>G', 'ENST00000607888:c.331T>C', 'ENST00000607888:c.417A>G', 'ENST00000607888:c.421T>C', 'ENST00000609812:c.1767C>G', 'ENST00000607981:c.1091C>T', 'ENST00000320078:c.387G>A', 'ENST00000320078:c.386T>C', 'ENST00000253435:c.477A>G', 'ENST00000292140:c.1852A>G', 'ENST00000251269:c.1094T>C', 'ENST00000251269:c.1222A>G', 'ENST00000251269:c.1337G>C', 'ENST00000251269:c.1883T>A', 'ENST00000251269:c.1997G>A', 'ENST00000270014:c.347A>G', 'ENST00000434772:c.477G>A', 'ENST00000428245:c.100G>A', 'ENST00000358777:c.696C>T', 'ENST00000405314:c.1312C>T', 'ENST00000270233:c.1637A>G', 'ENST00000419266:c.147T>C', 'ENST00000353609:c.709C>G', 'ENST00000457052:c.1754C>T', 'ENST00000322217:c.981G>A', 'ENST00000263284:c.15C>G', 'ENST00000244303:c.466A>G', 'ENST00000244303:c.805T>C', 'ENST00000307522:c.1921C>T', 'ENST00000439365:c.543G>A', 'ENST00000552360:c.80A>C', 'ENST00000355085:c.26G>A', 'ENST00000355085:c.472T>C', 'ENST00000355085:c.859G>T', 'ENST00000263277:c.854A>G', 'ENST00000263277:c.1388A>G', 'ENST00000263277:c.1763G>A', 'ENST00000339841:c.773G>A', 'ENST00000263269:c.2785T>C', 'ENST00000263269:c.3230T>C', 'ENST00000263269:c.3310A>G', 'ENST00000201586:c.815C>T', 'ENST00000201586:c.1012C>T', 'ENST00000201586:c.1126C>T', 'ENST00000332955:c.1547G>T', 'ENST00000332955:c.1546C>T', 'ENST00000222157:c.186A>G', 'ENST00000222157:c.671T>C', 'ENST00000221403:c.237G>A', 'ENST00000408991:c.434A>G', 'ENST00000334186:c.2036G>T', 'ENST00000221498:c.490G>A', 'ENST00000221498:c.731T>G', 'ENST00000221498:c.964G>A', 'ENST00000221498:c.1045G>A', 'ENST00000447857:c.217C>T', 'ENST00000447857:c.591G>A', 'ENST00000447857:c.752T>C', 'ENST00000576655:c.984C>A', 'ENST00000576655:c.1353T>C', 'ENST00000270645:c.1195C>T', 'ENST00000270645:c.1329T>C', 'ENST00000270645:c.1401C>T', 'ENST00000246794:c.262C>T', 'ENST00000246794:c.515G>T', 'ENST00000418929:c.843G>A', 'ENST00000323446:c.890G>A', 'ENST00000323446:c.1571C>T', 'ENST00000323446:c.1739C>T', 'ENST00000262269:c.664G>A', 'ENST00000262269:c.2212C>G', 'ENST00000262269:c.2257A>G', 'ENST00000262269:c.3025G>A', 'ENST00000262269:c.5437G>A', 'ENST00000357701:c.1921G>A', 'ENST00000357701:c.3258T>C', 'ENST00000425202:c.229T>G', 'ENST00000250340:c.1079G>A', 'ENST00000270593:c.973G>A', 'ENST00000270593:c.974C>A', 'ENST00000326003:c.89T>C', 'ENST00000326003:c.95A>G', 'ENST00000326003:c.278C>T', 'ENST00000326003:c.435C>A', 'ENST00000325321:c.597C>T', 'ENST00000250360:c.365A>G', 'ENST00000250360:c.1011C>A', 'ENST00000262262:c.62C>T', 'ENST00000262262:c.931G>A', 'ENST00000396477:c.500T>A', 'ENST00000304748:c.1144A>C', 'ENST00000304748:c.1100C>T', 'ENST00000304748:c.683T>G', 'ENST00000304748:c.408G>C', 'ENST00000304748:c.139T>C', 'ENST00000376716:c.1396C>T', 'ENST00000376716:c.703C>T', 'ENST00000321287:c.797G>T', 'ENST00000321287:c.1053G>C', 'ENST00000321287:c.1087T>C', 'ENST00000360465:c.1520G>A', 'ENST00000301085:c.464T>C', 'ENST00000421239:c.956G>A', 'ENST00000301093:c.244T>C', 'ENST00000601417:c.1599G>A', 'ENST00000601417:c.2057G>A', 'ENST00000601417:c.2177A>G', 'ENST00000243643:c.1091A>G', 'ENST00000243643:c.657A>G', 'ENST00000243643:c.645A>C', 'ENST00000426466:c.1834C>T', 'ENST00000426466:c.1302T>C', 'ENST00000458035:c.586G>C', 'ENST00000355326:c.348T>C', 'ENST00000263431:c.354C>T', 'ENST00000263431:c.849T>C', 'ENST00000608448:c.497C>G', 'ENST00000609236:c.723C>G', 'ENST00000608401:c.680C>G', 'ENST00000608401:c.530G>C', 'ENST00000608401:c.445G>C', 'ENST00000608401:c.357G>C', 'ENST00000608124:c.80T>G', 'ENST00000571162:c.339C>G', 'ENST00000571132:c.458G>T', 'ENST00000571132:c.113C>G', 'ENST00000571132:c.22G>C', 'ENST00000575495:c.121T>A', 'ENST00000574587:c.268G>A', 'ENST00000570614:c.328T>C', 'ENST00000571905:c.430T>C', 'ENST00000571154:c.71G>A', 'ENST00000571154:c.313C>A', 'ENST00000572443:c.703A>G', 'ENST00000598855:c.754A>G', 'ENST00000327042:c.691C>T', 'ENST00000309383:c.2224G>A', 'ENST00000389623:c.2384G>A', 'ENST00000344158:c.892G>C', 'ENST00000434937:c.1000G>A', 'ENST00000341750:c.341C>G', 'ENST00000341750:c.874C>G', 'ENST00000301295:c.852G>A', 'ENST00000301295:c.878C>T', 'ENST00000301295:c.1256T>C', 'ENST00000301295:c.1829C>T', 'ENST00000301295:c.3374C>T', 'ENST00000291971:c.145C>T', 'ENST00000291971:c.417G>C', 'ENST00000291971:c.2022C>T', 'ENST00000291971:c.2393A>G', 'ENST00000291971:c.2416T>C', 'ENST00000291971:c.2881A>G', 'ENST00000291971:c.2966C>T', 'ENST00000291971:c.3218G>C', 'ENST00000376267:c.591A>C', 'ENST00000376267:c.744G>T', 'ENST00000376267:c.775C>A', 'ENST00000591844:c.1037C>T', 'ENST00000591844:c.1062T>C', 'ENST00000591844:c.1063T>C', 'ENST00000330619:c.753G>C', 'ENST00000537055:c.1221G>A', 'ENST00000254181:c.1557A>G', 'ENST00000254181:c.2210G>A', 'ENST00000254181:c.3193C>A', 'ENST00000321545:c.508C>G', 'ENST00000221735:c.384G>C', 'ENST00000240719:c.272T>A', 'ENST00000550135:c.755T>C', 'ENST00000601382:c.694C>G', 'ENST00000254166:c.1009G>A', 'ENST00000336614:c.440A>T', 'ENST00000382410:c.375T>C', 'ENST00000382388:c.166G>A', 'ENST00000382388:c.286C>A', 'ENST00000246105:c.232G>A', 'ENST00000246105:c.477C>G', 'ENST00000381882:c.361T>C', 'ENST00000381882:c.547A>C', 'ENST00000381867:c.1494G>A', 'ENST00000356025:c.152G>A', 'ENST00000356025:c.155G>A', 'ENST00000356025:c.178C>T', 'ENST00000356025:c.184G>A', 'ENST00000356025:c.193C>T', 'ENST00000356025:c.200T>C', 'ENST00000356025:c.410C>T', 'ENST00000356025:c.458C>T', 'ENST00000381458:c.101C>A', 'ENST00000381458:c.809G>A', 'ENST00000202625:c.233A>G', 'ENST00000358864:c.383G>A', 'ENST00000358864:c.2421T>C', 'ENST00000342725:c.1482C>A', 'ENST00000361033:c.68G>A', 'ENST00000254963:c.2026C>T', 'ENST00000278795:c.1242A>G', 'ENST00000278795:c.1578A>G', 'ENST00000305817:c.592C>T', 'ENST00000326539:c.1085T>C', 'ENST00000378961:c.931A>G', 'ENST00000378827:c.1480A>G', 'ENST00000378827:c.1789A>T', 'ENST00000278655:c.139G>A', 'ENST00000378380:c.473A>G', 'ENST00000254976:c.541C>T', 'ENST00000378194:c.383A>C', 'ENST00000378194:c.512T>G', 'ENST00000378194:c.529A>G', 'ENST00000217246:c.568C>T', 'ENST00000246090:c.269A>G', 'ENST00000377428:c.345C>T', 'ENST00000377428:c.385C>T', 'ENST00000598007:c.99T>G', 'ENST00000255006:c.2114C>T', 'ENST00000246012:c.444A>G', 'ENST00000376835:c.546G>C', 'ENST00000376105:c.447A>G', 'ENST00000339738:c.999G>C', 'ENST00000310998:c.1018C>T', 'ENST00000375670:c.622A>G', 'ENST00000201963:c.1812T>C', 'ENST00000201963:c.1914T>C', 'ENST00000400522:c.446C>T', 'ENST00000439060:c.209C>T', 'ENST00000439060:c.312C>T', 'ENST00000420875:c.435C>G', 'ENST00000375519:c.379T>C', 'ENST00000170150:c.245T>A', 'ENST00000170150:c.932G>A', 'ENST00000170150:c.1506C>T', 'ENST00000375483:c.802A>G', 'ENST00000375483:c.959A>C', 'ENST00000375483:c.1072T>C', 'ENST00000375483:c.1168G>A', 'ENST00000375483:c.1579T>C', 'ENST00000375483:c.1598C>T', 'ENST00000375452:c.483G>A', 'ENST00000262873:c.2376T>C', 'ENST00000262873:c.2669G>A', 'ENST00000374369:c.1141T>G', 'ENST00000425096:c.76C>T', 'ENST00000217320:c.332G>A', 'ENST00000262865:c.735G>A', 'ENST00000217407:c.187C>T', 'ENST00000217407:c.452T>C', 'ENST00000217407:c.773G>A', 'ENST00000243903:c.55C>T', 'ENST00000544979:c.3212C>T', 'ENST00000373257:c.2128A>C', 'ENST00000217043:c.238C>T', 'ENST00000217043:c.400T>C', 'ENST00000190983:c.404C>A', 'ENST00000372861:c.415A>G', 'ENST00000372861:c.909A>C', 'ENST00000372861:c.1099T>C', 'ENST00000306117:c.1862A>G', 'ENST00000243924:c.90G>A', 'ENST00000357275:c.360A>G', 'ENST00000372643:c.420G>A', 'ENST00000279058:c.234G>A', 'ENST00000342644:c.528G>A', 'ENST00000255152:c.1430G>A', 'ENST00000372330:c.1740G>C', 'ENST00000372330:c.1840A>C', 'ENST00000243964:c.455G>T', 'ENST00000317304:c.748C>T', 'ENST00000303004:c.636C>T', 'ENST00000360314:c.2160G>A', 'ENST00000371325:c.489G>A', 'ENST00000319441:c.233A>G', 'ENST00000319441:c.617G>A', 'ENST00000319441:c.626A>G', 'ENST00000319441:c.653A>G', 'ENST00000319441:c.714G>C', 'ENST00000319441:c.963A>G', 'ENST00000319441:c.1304T>C', 'ENST00000217133:c.803T>G', 'ENST00000217133:c.1189G>A', 'ENST00000371030:c.969G>C', 'ENST00000371030:c.1653T>A', 'ENST00000371030:c.2325T>C', 'ENST00000371030:c.2669C>T', 'ENST00000371030:c.3066G>C', 'ENST00000371030:c.4537T>C', 'ENST00000360469:c.510C>T', 'ENST00000360469:c.1426C>T', 'ENST00000360469:c.1962A>G', 'ENST00000252999:c.7177C>G', 'ENST00000343916:c.912G>A', 'ENST00000343916:c.1307C>A', 'ENST00000217169:c.742C>T', 'ENST00000326996:c.1378A>G', 'ENST00000326996:c.3115G>C', 'ENST00000344462:c.2292A>C', 'ENST00000318100:c.4881C>T', 'ENST00000369996:c.433T>C', 'ENST00000369996:c.586C>T', 'ENST00000369996:c.673C>G', 'ENST00000369768:c.1207C>T', 'ENST00000400577:c.355T>G', 'ENST00000285670:c.300C>T', 'ENST00000284894:c.623T>C', 'ENST00000340345:c.65T>G', 'ENST00000416044:c.142T>C', 'ENST00000382835:c.322C>T', 'ENST00000399889:c.431T>A', 'ENST00000334068:c.197G>A', 'ENST00000334067:c.176C>A', 'ENST00000334058:c.166A>G', 'ENST00000334046:c.184A>T', 'ENST00000334680:c.103T>A', 'ENST00000332378:c.362T>A', 'ENST00000270112:c.1773T>C', 'ENST00000534991:c.122C>T', 'ENST00000300255:c.932G>A', 'ENST00000571432:c.1368G>C', 'ENST00000571432:c.941G>C', 'ENST00000571432:c.691T>A', 'ENST00000381284:c.250T>C', 'ENST00000349499:c.291A>G', 'ENST00000349499:c.516G>C', 'ENST00000399191:c.704G>A', 'ENST00000290354:c.887G>A', 'ENST00000399151:c.2719T>C', 'ENST00000399151:c.3531C>A', 'ENST00000342108:c.1065G>A', 'ENST00000342108:c.621C>T', 'ENST00000290399:c.1792G>A', 'ENST00000290399:c.2060C>A', 'ENST00000597817:c.5G>A', 'ENST00000333634:c.226G>A', 'ENST00000380588:c.241A>G', 'ENST00000380588:c.249G>C', 'ENST00000380588:c.1153C>A', 'ENST00000380588:c.1157G>A', 'ENST00000357985:c.542T>C', 'ENST00000400424:c.534T>C', 'ENST00000400421:c.404C>G', 'ENST00000400427:c.2401A>C', 'ENST00000400424:c.2096T>C', 'ENST00000400424:c.3717T>C', 'ENST00000291535:c.1124C>T', 'ENST00000291535:c.1247A>C', 'ENST00000291535:c.1664A>G', 'ENST00000291539:c.1551T>C', 'ENST00000291539:c.1557A>C', 'ENST00000291582:c.715C>T', 'ENST00000291582:c.1192C>T', 'ENST00000291582:c.1705T>C', 'ENST00000300482:c.1842T>G', 'ENST00000300481:c.2216C>T', 'ENST00000300481:c.3519A>G', 'ENST00000608118:c.823G>C', 'ENST00000608118:c.800G>C', 'ENST00000608118:c.647C>G', 'ENST00000608118:c.597C>G', 'ENST00000608118:c.463T>A', 'ENST00000608118:c.454A>T', 'ENST00000608118:c.212C>G', 'ENST00000608118:c.161C>G', 'ENST00000609328:c.768C>G', 'ENST00000609328:c.740G>C', 'ENST00000609328:c.578G>C', 'ENST00000609328:c.396G>C', 'ENST00000609328:c.371G>C', 'ENST00000610010:c.671C>G', 'ENST00000610010:c.228C>G', 'ENST00000610010:c.141C>A', 'ENST00000610010:c.105C>G', 'ENST00000610010:c.57T>A', 'ENST00000608731:c.214C>T', 'ENST00000608567:c.759T>A', 'ENST00000608567:c.647G>C', 'ENST00000608567:c.564C>G', 'ENST00000608567:c.319G>C', 'ENST00000608567:c.296G>C', 'ENST00000608567:c.141C>G', 'ENST00000608567:c.59C>G', 'ENST00000608567:c.37G>C', 'ENST00000608567:c.33G>C', 'ENST00000609431:c.732G>C', 'ENST00000609431:c.700G>C', 'ENST00000609431:c.667C>G', 'ENST00000609431:c.227C>G', 'ENST00000609431:c.205C>G', 'ENST00000609431:c.57C>G', 'ENST00000609664:c.1089C>G', 'ENST00000609026:c.99A>G', 'ENST00000607897:c.379C>T', 'ENST00000607897:c.594A>G', 'ENST00000607897:c.671T>C', 'ENST00000607897:c.818C>T', 'ENST00000607897:c.886G>T', 'ENST00000610243:c.119A>G', 'ENST00000610243:c.121T>A', 'ENST00000610243:c.145A>C', 'ENST00000610243:c.146G>C', 'ENST00000610243:c.150T>A', 'ENST00000610243:c.276A>C', 'ENST00000610243:c.439G>C', 'ENST00000610243:c.448A>C', 'ENST00000610243:c.534G>A', 'ENST00000610243:c.590T>G', 'ENST00000610243:c.686C>T', 'ENST00000609913:c.434C>T', 'ENST00000609913:c.850C>T', 'ENST00000608333:c.375T>A', 'ENST00000609848:c.98A>G', 'ENST00000608923:c.468T>A', 'ENST00000608923:c.380C>G', 'ENST00000608923:c.357G>C', 'ENST00000608923:c.206C>G', 'ENST00000608923:c.127C>G', 'ENST00000608923:c.109C>G', 'ENST00000608923:c.108G>C', 'ENST00000608923:c.87G>C', 'ENST00000609582:c.316C>G', 'ENST00000609582:c.287G>C', 'ENST00000609582:c.163G>C', 'ENST00000609582:c.86G>C', 'ENST00000599569:c.31C>G', 'ENST00000361866:c.2538G>T', 'ENST00000300527:c.767C>T', 'ENST00000300527:c.1300G>A', 'ENST00000300527:c.2143G>A', 'ENST00000359963:c.1218T>C', 'ENST00000359963:c.635T>C', 'ENST00000428078:c.364G>A', 'ENST00000428078:c.473A>G', 'ENST00000262608:c.755G>A', 'ENST00000342005:c.898A>G', 'ENST00000342005:c.1042T>G', 'ENST00000342005:c.1080A>G', 'ENST00000331444:c.167G>C', 'ENST00000331444:c.260C>G', 'ENST00000334029:c.1530C>T', 'ENST00000334029:c.1412C>T', 'ENST00000403084:c.982C>T', 'ENST00000329705:c.793C>T', 'ENST00000436518:c.68T>C', 'ENST00000426804:c.4404C>A', 'ENST00000266214:c.2437G>C', 'ENST00000266214:c.2436C>G', 'ENST00000266214:c.2292G>C', 'ENST00000266214:c.2286C>G', 'ENST00000333607:c.1133C>T', 'ENST00000333607:c.1277A>T', 'ENST00000333607:c.1513C>G', 'ENST00000336296:c.549C>A', 'ENST00000336296:c.740G>A', 'ENST00000342608:c.694G>A', 'ENST00000434111:c.3131C>G', 'ENST00000434111:c.3300A>G', 'ENST00000434111:c.3646T>C', 'ENST00000434111:c.4404C>A', 'ENST00000434111:c.4727G>C', 'ENST00000407464:c.1088T>C', 'ENST00000407464:c.1490T>C', 'ENST00000331505:c.3774C>A', 'ENST00000302273:c.383C>T', 'ENST00000302273:c.414G>A', 'ENST00000360412:c.2294A>G', 'ENST00000302097:c.1715C>A', 'ENST00000302097:c.1711C>G', 'ENST00000302097:c.1435C>T', 'ENST00000302097:c.1432C>T', 'ENST00000302097:c.1085A>G', 'ENST00000302097:c.999G>C', 'ENST00000302097:c.990A>G', 'ENST00000302097:c.670T>C', 'ENST00000302097:c.663A>C', 'ENST00000302097:c.660A>G', 'ENST00000302097:c.559C>G', 'ENST00000302097:c.466G>T', 'ENST00000448514:c.96G>A', 'ENST00000448514:c.209A>G', 'ENST00000390307:c.392G>A', 'ENST00000390327:c.57G>C', 'ENST00000341976:c.1682T>C', 'ENST00000305199:c.214G>A', 'ENST00000215743:c.165C>T', 'ENST00000316185:c.741G>A', 'ENST00000316185:c.745C>A', 'ENST00000398215:c.364G>T', 'ENST00000398215:c.654G>A', 'ENST00000335473:c.381G>A', 'ENST00000335473:c.1891G>C', 'ENST00000335473:c.2231T>C', 'ENST00000335473:c.2689C>G', 'ENST00000335473:c.2752T>C', 'ENST00000335473:c.2905G>A', 'ENST00000335473:c.3607C>A', 'ENST00000248933:c.1385G>T', 'ENST00000248933:c.1514A>C', 'ENST00000354760:c.206T>C', 'ENST00000544604:c.412C>T', 'ENST00000327813:c.25A>C', 'ENST00000334018:c.1261G>A', 'ENST00000341313:c.162C>T', 'ENST00000341313:c.201G>A', 'ENST00000310624:c.1233C>T', 'ENST00000338306:c.2419T>G', 'ENST00000338306:c.2871C>T', 'ENST00000312932:c.292G>A', 'ENST00000312932:c.1117G>A', 'ENST00000255858:c.715G>A', 'ENST00000255858:c.682G>A', 'ENST00000300385:c.1128A>G', 'ENST00000332585:c.1088T>C', 'ENST00000308700:c.1034A>G', 'ENST00000308700:c.1051T>C', 'ENST00000308700:c.1121C>T', 'ENST00000249044:c.815C>T', 'ENST00000249044:c.1217C>G', 'ENST00000332987:c.1388C>T', 'ENST00000332987:c.1367C>A', 'ENST00000332987:c.1311T>C', 'ENST00000332987:c.1104T>C', 'ENST00000332987:c.1079G>A', 'ENST00000332987:c.639G>A', 'ENST00000402077:c.77G>A', 'ENST00000406386:c.905G>A', 'ENST00000406386:c.1561G>A', 'ENST00000406386:c.2844C>A', 'ENST00000406386:c.3814T>C', 'ENST00000406386:c.4140C>T', 'ENST00000406386:c.4154A>G', 'ENST00000406386:c.4371G>T', 'ENST00000406386:c.4384T>C', 'ENST00000323205:c.293T>C', 'ENST00000249041:c.619T>C', 'ENST00000320521:c.1323T>C', 'ENST00000303592:c.1261A>G', 'ENST00000216014:c.768T>G', 'ENST00000348946:c.545A>G', 'ENST00000348946:c.661G>C', 'ENST00000336649:c.99C>T', 'ENST00000336649:c.2175T>C', 'ENST00000336649:c.2877T>C', 'ENST00000336649:c.3136A>G', 'ENST00000336649:c.5362G>A', 'ENST00000249016:c.790A>G', 'ENST00000249016:c.942C>T', 'ENST00000328823:c.393A>G', 'ENST00000328823:c.886G>C', 'ENST00000414469:c.455G>A', 'ENST00000216180:c.468T>G', 'ENST00000406477:c.239T>C', 'ENST00000406912:c.239T>A', 'ENST00000336963:c.228A>G', 'ENST00000411478:c.13A>T', 'ENST00000262722:c.525A>G', 'ENST00000262722:c.1066C>T', 'ENST00000253255:c.6261T>C', 'ENST00000262794:c.800A>G', 'ENST00000262794:c.1376C>T', 'ENST00000262794:c.2798C>T', 'ENST00000159647:c.1515T>C', 'ENST00000159647:c.1665A>G', 'ENST00000380903:c.66T>C', 'ENST00000380903:c.121T>C', 'ENST00000380903:c.229C>G', 'ENST00000380903:c.371T>C', 'ENST00000216075:c.344C>T', 'ENST00000008876:c.1582A>G', 'ENST00000262795:c.734T>C']\n",
      "Number of failed queries: 0\n",
      "Number of other errors: 0\n"
     ]
    }
   ],
   "source": [
    "!cat {overall_txt_out_fn}"
   ]
  },
  {
   "cell_type": "code",
   "execution_count": null,
   "id": "f3518b97",
   "metadata": {},
   "outputs": [],
   "source": [
    "# !cat {detailed_txt_out_fn}"
   ]
  },
  {
   "cell_type": "code",
   "execution_count": 22,
   "id": "2366bbae",
   "metadata": {},
   "outputs": [
    {
     "name": "stdout",
     "output_type": "stream",
     "text": [
      "Overall file:  /home/jmrich/Desktop/RLSRWP_2025/data/geuvadis_data_base/E_GEUV_1_HG00377_1_M_120209_6/vk_count_out_w37_k41_combined_final/overall_out_fn_NOT_modified_bam.txt\n",
      "Detailed file:  /home/jmrich/Desktop/RLSRWP_2025/data/geuvadis_data_base/E_GEUV_1_HG00377_1_M_120209_6/vk_count_out_w37_k41_combined_final/detailed_out_fn_NOT_modified_bam.txt\n"
     ]
    }
   ],
   "source": [
    "print(\"Overall file: \", overall_txt_out_fn)\n",
    "print(\"Detailed file: \", detailed_txt_out_fn)"
   ]
  },
  {
   "cell_type": "code",
   "execution_count": null,
   "id": "089b03dd",
   "metadata": {},
   "outputs": [],
   "source": [
    "overall_results = {\n",
    "    \"Variant detected in reads (FN)\": len(true_variants),\n",
    "    \"Variant not detected in reads (TN)\": len(false_variants),\n",
    "    \"Insufficient read alignment to variant position (TN)\": len(undetermined_variants),\n",
    "}\n",
    "\n",
    "plot_overall_bar_plot(overall_results, out_file=overall_txt_out.replace(\".txt\", \".pdf\"))"
   ]
  },
  {
   "cell_type": "markdown",
   "id": "d8fb8724",
   "metadata": {},
   "source": [
    "## Analyze a FN"
   ]
  },
  {
   "cell_type": "code",
   "execution_count": 23,
   "id": "90af8cea",
   "metadata": {},
   "outputs": [
    {
     "name": "stderr",
     "output_type": "stream",
     "text": [
      "100%|██████████| 68968/68968 [00:20<00:00, 3303.50it/s]"
     ]
    },
    {
     "name": "stdout",
     "output_type": "stream",
     "text": [
      "Variants in vcrs_reference: 123\n",
      "Variants not in vcrs_reference: 1715\n"
     ]
    },
    {
     "name": "stderr",
     "output_type": "stream",
     "text": [
      "\n"
     ]
    }
   ],
   "source": [
    "# detailed_txt_out_fn = \"/data/geuvadis_data_base/E_GEUV_1_HG00377_1_M_120209_6/vk_count_out_w37_k41_combined_final/detailed_out_fn_NOT_modified_bam.txt\"\n",
    "# vcrs_fasta = \"/data/vk_ref_out_geuvadis/w37_k41/vcrs_filtered.fa\"\n",
    "\n",
    "variants_in_vcrs_reference = []\n",
    "variants_not_in_vcrs_reference = []\n",
    "\n",
    "with open(vcrs_fasta) as f:\n",
    "    vcrs_reference_contents = f.read()\n",
    "\n",
    "# loop through detailed_txt_out_fn and check if the variant was in the vcrs_fasta\n",
    "with open(detailed_txt_out_fn) as f:\n",
    "    lines = f.readlines()\n",
    "\n",
    "for i in tqdm(range(len(lines))):\n",
    "    if i + 1 < len(lines) and \"True variant: True\" not in lines[i + 1]:\n",
    "        continue  # I only want to analyze True variants that varseek missed\n",
    "    line = lines[i]\n",
    "    if not line.startswith(\"vcrs\"):\n",
    "        continue\n",
    "    parts = line.strip().split(\"|\")\n",
    "    if len(parts) < 3:\n",
    "        continue\n",
    "    mutation_str = parts[2].strip()  # e.g., ENST00000338591:c.716G>C\n",
    "    if mutation_str in vcrs_reference_contents:\n",
    "        variants_in_vcrs_reference.append(mutation_str)\n",
    "    else:\n",
    "        variants_not_in_vcrs_reference.append(mutation_str)\n",
    "\n",
    "print(f\"Variants in vcrs_reference: {len(variants_in_vcrs_reference)}\")\n",
    "print(f\"Variants not in vcrs_reference: {len(variants_not_in_vcrs_reference)}\")"
   ]
  },
  {
   "cell_type": "code",
   "execution_count": 24,
   "id": "06a174e4",
   "metadata": {},
   "outputs": [
    {
     "data": {
      "text/plain": [
       "['ENST00000374472:c.351A>G',\n",
       " 'ENST00000374472:c.350A>G',\n",
       " 'ENST00000289893:c.6506G>A',\n",
       " 'ENST00000340450:c.795T>G',\n",
       " 'ENST00000340450:c.801T>G',\n",
       " 'ENST00000371088:c.1031T>C',\n",
       " 'ENST00000370139:c.96G>A',\n",
       " 'ENST00000370139:c.97C>T',\n",
       " 'ENST00000256652:c.1822C>A',\n",
       " 'ENST00000581821:c.709G>C',\n",
       " 'ENST00000355199:c.1215G>C',\n",
       " 'ENST00000367079:c.619C>T',\n",
       " 'ENST00000367057:c.2176T>C',\n",
       " 'ENST00000367057:c.2201G>A',\n",
       " 'ENST00000238181:c.457C>T',\n",
       " 'ENST00000486442:c.1197T>C',\n",
       " 'ENST00000425361:c.39G>A',\n",
       " 'ENST00000349938:c.732A>G',\n",
       " 'ENST00000349938:c.733T>A',\n",
       " 'ENST00000342518:c.1024C>T']"
      ]
     },
     "execution_count": 24,
     "metadata": {},
     "output_type": "execute_result"
    }
   ],
   "source": [
    "variants_in_vcrs_reference[:20]"
   ]
  },
  {
   "cell_type": "code",
   "execution_count": null,
   "id": "b3b800df",
   "metadata": {},
   "outputs": [
    {
     "name": "stdout",
     "output_type": "stream",
     "text": [
      "ENST00000374472:c.351A>G\n"
     ]
    }
   ],
   "source": [
    "# look into detailed_txt_out_fn and pick a True variant that had reads align to ALT and is in the vcrs reference\n",
    "# eg vcrs_104 | rs2502992 | ENST00000374472:c.351A>G | (-) strand | 1:g.24201919T>C \n",
    "# variant_bam_sorted_modified = \"/data/geuvadis_data_base/E_GEUV_1_HG00377_1_M_120209_6/vk_count_out_w37_k41_combined_final/final_total_sorted_reads_modified.bam\"  #* uncomment if running only this bottom portion\n",
    "# hgvsc = \"ENST00000374472:c.351A>G\"\n",
    "# chrom = \"1\"\n",
    "# pos = \"24201919\"\n",
    "variant_bam_sorted = os.path.join(notebook_out_dir, \"final_total_sorted_reads.bam\") if not modify_bam else os.path.join(notebook_out_dir, \"final_total_sorted_reads_modified.bam\")\n",
    "hgvsc = variants_in_vcrs_reference[0]\n",
    "print(hgvsc)\n",
    "\n",
    "result = None\n",
    "with open(detailed_txt_out_fn) as f:\n",
    "    for line in f:\n",
    "        if hgvsc in line:\n",
    "            result = line.strip().split(\" | \")\n",
    "            break  # stop at the first match\n",
    "\n",
    "hgvsg = result[4]\n",
    "chrom = hgvsg.split(\":\")[0]\n",
    "match = re.search(r'g\\.(\\d+)', hgvsg)\n",
    "pos = match.group(1) if match else None\n",
    "\n",
    "# output_sam = f\"/data/geuvadis_data_base/E_GEUV_1_HG00377_1_M_120209_6/vk_count_out_w37_k41_combined_final/reads_at_{chrom}_{pos}.sam\"\n",
    "output_sam = os.path.join(notebook_out_dir, f\"reads_at_{chrom}_{pos}.sam\")\n",
    "!samtools view {variant_bam_sorted} {chrom}:{pos}-{pos} > {output_sam}"
   ]
  },
  {
   "cell_type": "code",
   "execution_count": null,
   "id": "02b214e9",
   "metadata": {},
   "outputs": [
    {
     "name": "stdout",
     "output_type": "stream",
     "text": [
      "ACGTGGCTGTGCTCTATCTGATCCTGTCCTCCCACCAGCTCCGCCGGAAGCCCTCATACCTGTTCATTGGCAGCT\n",
      "AGCTGCCAATGAACAGGTATGAGGGCTTCCGGCGGAGCTGGTGGGAGGACAGGATCAGATAGAGCACAGCCACGT\n",
      "AGCTGCCAATGAACAGGTATGAGGGCTTCCGGCGGAGC\n",
      "CTGGTGGGAGGACAGGATCAGATAGAGCACAGCCACGT\n"
     ]
    }
   ],
   "source": [
    "# revcomp_dict = {\"A\": \"T\", \"T\": \"A\", \"C\": \"G\", \"G\": \"C\", \"N\": \"N\"}\n",
    "output = !grep -A 1 \"{hgvsc}\" {vcrs_fasta}\n",
    "seq = output[1].strip()\n",
    "seq_rc = \"\".join([revcomp_dict.get(base, base) for base in seq[::-1]])\n",
    "\n",
    "print(seq)\n",
    "print(seq_rc)\n",
    "print(seq_rc[:38])\n",
    "print(seq_rc[37:])"
   ]
  },
  {
   "cell_type": "markdown",
   "id": "4b660846",
   "metadata": {},
   "source": [
    "(double click on this cell for it to make sense)\n",
    "Applies to ENST00000374472:c.351A>G aka 1:g.24201919T>C \n",
    "\n",
    "In this case, the issue was due to multiple variants - all reads had the variant toward the left end of the read, and there is another variant to the right that blocks a perfect k-mer match (also, keep in mind that read length is 75 for this dataset and w=37/k=41, so the reads are relatively small)\n",
    "\n",
    "Eg typical read:\n",
    "TTCCGGCGGAGCCGGTGGGAGGACAGGATCAGATAGAGCACAGCCACGTTCTCCAGGGCACTTAGCAGGCCCAGA  # read\n",
    "TTCCGGCGGAGCTGGTGGGAGGACAGGATCAGATAGAGCACAGCCACGT  # vcrs fragment aligned to read\n",
    "           *\n",
    "            ^\n",
    "\n",
    "* mutation side for VCRS\n",
    "^ unrelated mutation that blocks k-mer match"
   ]
  },
  {
   "cell_type": "markdown",
   "id": "616ff352",
   "metadata": {},
   "source": [
    "## Now let's look into a FP"
   ]
  },
  {
   "cell_type": "code",
   "execution_count": 37,
   "id": "b179ce0c",
   "metadata": {},
   "outputs": [
    {
     "name": "stdout",
     "output_type": "stream",
     "text": [
      "ENST00000468879:c.292A>T\n"
     ]
    },
    {
     "name": "stdout",
     "output_type": "stream",
     "text": [
      "GGATGACCCAGTCTCCATTCTCCCTGTCTGCATCTGTTGGAGACAGAGTCACCATCACTTGCTGGGCCAGTCAGG\n",
      "CCTGACTGGCCCAGCAAGTGATGGTGACTCTGTCTCCAACAGATGCAGACAGGGAGAATGGAGACTGGGTCATCC\n"
     ]
    }
   ],
   "source": [
    "# eg vcrs_100 | rs1131095 | ENST00000296456:c.1252T>C | (+) strand | 3:g.49714225T>C | 68.0 reported counts\n",
    "# hgvsc = \"ENST00000296456:c.1252T>C\"\n",
    "results = []\n",
    "\n",
    "with open(detailed_txt_out) as f:\n",
    "    lines = f.readlines()\n",
    "\n",
    "for i in range(len(lines) - 1):\n",
    "    line1 = lines[i].strip()\n",
    "    line2 = lines[i + 1].strip()\n",
    "\n",
    "    # Check that line1 has a reported count > 2\n",
    "    try:\n",
    "        count_str = line1.split(\" | \")[-1].split()[0]  # e.g., '68.0' from '68.0 reported counts'\n",
    "        reported_count = float(count_str)\n",
    "    except (IndexError, ValueError):\n",
    "        continue  # skip malformed lines\n",
    "\n",
    "    # Check that the next line doesn't say \"True variant: True\"\n",
    "    if reported_count > 2 and line2 != \"True variant: True\":\n",
    "        results.append(line1)\n",
    "\n",
    "result_single = results[0]  # look at the first one\n",
    "result_single = result_single.split(\" | \")\n",
    "\n",
    "hgvsc = result_single[2]\n",
    "print(hgvsc)\n",
    "output = !grep -A 1 \"{hgvsc}\" {vcrs_fasta}\n",
    "seq = output[1].strip()\n",
    "seq_rc = \"\".join([revcomp_dict.get(base, base) for base in seq[::-1]])\n",
    "\n",
    "print(seq)\n",
    "print(seq_rc)"
   ]
  },
  {
   "cell_type": "markdown",
   "id": "3eda648a",
   "metadata": {},
   "source": [
    "### Manually check if any read has a k-mer that matches the VCRS"
   ]
  },
  {
   "cell_type": "code",
   "execution_count": 38,
   "id": "966462e5",
   "metadata": {},
   "outputs": [
    {
     "name": "stderr",
     "output_type": "stream",
     "text": [
      "  0%|          | 0/30247010 [00:00<?, ?it/s]"
     ]
    },
    {
     "name": "stderr",
     "output_type": "stream",
     "text": [
      "100%|██████████| 30247010/30247010 [06:22<00:00, 79109.05it/s]\n"
     ]
    }
   ],
   "source": [
    "# import pyfastx\n",
    "# fastq_file = \"/data/geuvadis_data_base/E_GEUV_1_HG00377_1_M_120209_6/fastqs_combined/fastqs_combined.fastq.gz\"  #* uncomment if running only this bottom portion\n",
    "# fastq_indexed = pyfastx.Fastq(fastq_file, build_index=True)  #* uncomment if running only this bottom portion\n",
    "\n",
    "k = 41  # from vk ref settings\n",
    "kmer_set = set()\n",
    "\n",
    "# Add k-mers from seq and seq_rc\n",
    "for s in [seq, seq_rc]:\n",
    "    for i in range(len(s) - k + 1):\n",
    "        kmer_set.add(s[i:i+k])\n",
    "\n",
    "# Store reads that contain any of those k-mers\n",
    "matching_reads = {}\n",
    "\n",
    "fq_read_only = pyfastx.Fastx(fastq_file)\n",
    "\n",
    "for name, read_seq, _ in tqdm((fq_read_only), total=len(fastq_indexed)):\n",
    "    found = any(read_seq[i:i+k] in kmer_set for i in range(len(read_seq) - k + 1))\n",
    "    if found:\n",
    "        matching_reads[name] = read_seq"
   ]
  },
  {
   "cell_type": "code",
   "execution_count": null,
   "id": "f4474d79",
   "metadata": {},
   "outputs": [
    {
     "data": {
      "text/plain": [
       "{'file1ERR204838.34043': 'TGAGCCCTTCCGGTTGGGCATCCGCTTTTGCACCAATCGCAGGTCAGCCCTGTATTACGTGGACCTCATCGGGGG',\n",
       " 'file1ERR204838.456710': 'GATGAGGTCCACGTAATACAGGGCTGACCTGCGATTGGTGCAAAAGCGGATGCCCAACCGGAAGGGCTCATGCCA',\n",
       " 'file1ERR204838.807859': 'CCGATGAGGTCCACGTAATACAGGGCTGACCTGCGATTGGTGCAAAAGCGGATGCCCAACCGGAAGGGCTCATGC',\n",
       " 'file1ERR204838.1165745': 'TTGGGCATCCGCTTTTGCACCAATCGCAGGTCAGCCCTGTATTACGTGGACCTCATCGGGGGGAAGTGTGAGCTC',\n",
       " 'file1ERR204838.1188941': 'CCGATGAGGTCCACGTAATACAGGGCTGACCTGCGATTGGTGCAAAAGCGGATGCCCAACCGGAAGGGCTCATGC',\n",
       " 'file1ERR204838.1588404': 'GTGGCATGAGCCCTTCCGGTTGGGCATCCGCTTTTGCACCAATCGCAGGTCAGCCCTGTATTACGTGGACCTCAT',\n",
       " 'file1ERR204838.1627292': 'ATCCGCTTTTGCACCAATCGCAGGTCAGCCCTGTATTACGTGGACCTCATCGGGGGGAAGTGTGAGCTCCTCTCG',\n",
       " 'file1ERR204838.2165726': 'GGGGAGAAGAGACAGCCAGGGAGTCATCCGAGAGGAGCTCACACTTCCCCCCGATGAGGTCCACGTAATACAGGG',\n",
       " 'file1ERR204838.2636927': 'TGGGGAGAAGAGACAGCCAGGGAGTCATCCGAGAGGAGCTCACACTTCCCCCCGATGAGGTCCACGTAATACAGG',\n",
       " 'file1ERR204838.3557423': 'CCCCGATGAGGTCCACGTAATACAGGGCTGACCTGCGATTGGTGCAAAAGCGGATGCCCAACCGGAAGGGCTCAT',\n",
       " 'file1ERR204838.3613806': 'CTTCCGGTTGGGCATCCGCTTTTGCACCAATCGCAGGTCAGCCCTGTATTACGTGGACCTCATCGGGGGGAAGTG',\n",
       " 'file1ERR204838.3669595': 'CCTTCCGGTTGGGCATCCGCTTTTGCACCAATCGCAGGTCAGCCCTGTATTACGTGGACCTCATCGGGGGGAAGT',\n",
       " 'file1ERR204838.3669966': 'CCGATGAGGTCCACGTAATACAGGGCTGACCTGCGATTGGTGCAAAAGCGGATGCCCAACCGGAAGGGCTCATGC',\n",
       " 'file1ERR204838.4840774': 'GTTGGCTGGTGGCATGAGCCCTTCCGGTTGGGCATCCGCTTTTGCACCAATCGCAGGTCAGCCCTGTATTACGTG',\n",
       " 'file1ERR204838.5397761': 'GGTCCACGTAATACAGGGCTGACCTGCGATTGGTGCAAAAGCGGATGCCCAACCGGAAGGGCTCATGCCACCAGC',\n",
       " 'file1ERR204838.5584927': 'TCCACGTAATACAGGGCTGACCTGCGATTGGTGCAAAAGCGGATGCCCAACCGGAAGGGCTCATGCCACCAGCCC',\n",
       " 'file1ERR204838.6905186': 'CGCTTTTGCACCAATCGCAGGTCAGCCCTGTATTACGTGGACCTCATCGGGGGGAAGTGTGAGCTCCTCTCGGAT',\n",
       " 'file1ERR204838.7179089': 'CCACGTAATACAGGGCTGACCTGCGATTGGTGCAAAAGCGGATGCCCAACCGGAAGGGCTCATGCCACCAGCCCA',\n",
       " 'file1ERR204838.7442027': 'CCGCTTTTGCACCAATCGCAGGTCAGCCCTGTATTACGTGGACCTCATCGGGGGGAAGTGTGAGCTCCTCTCGGA',\n",
       " 'file1ERR204838.7609660': 'CCACGTAATACAGGGCTGACCTGCGATTGGTGCAAAAGCGGATGCCCAACCGGAAGGGCTCATGCCACCAGCCCA',\n",
       " 'file1ERR204838.8506989': 'GCCCTTCCGGTTGGGCATCCGCTTTTGCACCAATCGCAGGTCAGCCCTGTATTACGTGGACCTCATCGGGGGGAA',\n",
       " 'file1ERR204838.8833251': 'GGAGAAGAGACAGCCAGGGAGTCATCCGAGAGGAGCTCACACTTCCCCCCGATGAGGTCCACGTAATACAGGGCT',\n",
       " 'file1ERR204838.9223529': 'CCACGTAATACAGGGCTGACCTGCGATTGGTGCAAAAGCGGATGCCCAACCGGAAGGGCTCATGCCACCAGCCCA',\n",
       " 'file1ERR204838.9475311': 'CGCAGGTCAGCCCTCTATTACGTGGACCTCATCGGGGGGAAGTGTGAGCTCCTCTCGGATGACTCCCTGGCTGGC',\n",
       " 'file1ERR204838.9728988': 'TGAGCCCTTCCGGTTGGGCATCCGCTTTTGCACCAATCGCAGGTCAGCCCTGTATTACGTGGACCTCATCGGGGG',\n",
       " 'file1ERR204838.10865648': 'CGCTTTTGCACCAATCGCAGGTCAGCCCTGTATTACGTGGACCTCATCGGGGGGAAGTGTGAGCTCCTCTCGGAT',\n",
       " 'file1ERR204838.11503850': 'CAGGGAGTCATCCGAGAGGAGCTCACACTTCCCCCCGATGAGGTCCACGTAATACAGGGCTGACCTGCGATTGTG',\n",
       " 'file1ERR204838.12695431': 'AGAAGAGACAGCCAGGGAGTCATCCGAGAGGAGCTCACACTTCCCCCCGATGAGGTCCACGTAATACAGGGCTGA',\n",
       " 'file1ERR204838.13417860': 'CCGCTTTTGCACCAATCGCAGGTCAGCCCTGTATTACGTGGACCTCATCGGGGGGAAGTGTGAGCTCCTCTCGGA',\n",
       " 'file1ERR204838.13981807': 'CGCTTTTGCACCAATCGCAGGTCAGCCCTGTATTACGTGGACCTCATCGGGGGGAAGTGTGAGCTCCTCTCGGAT',\n",
       " 'file1ERR204838.14502606': 'TTCCGGTTGGGCATCCGCTTTTGCACCAATCGCAGGTCAGCCCTGTATTACGTGGACCTCATCGGGGGGAAGTGT',\n",
       " 'file1ERR204838.14877590': 'GGTGGCATGAGCCCTTCCGGTTGGGCATCCGCTTTTGCACCAATCGCAGGTCAGCCCTGTATTACGTGGACCTCA',\n",
       " 'file2ERR204838.959747': 'AAGAGACAGCCAGGGAGTCATCCGAGAGGAGCTCACACTTCCCCCCGATGAGGTCCACGTAATACAGGGCTGACC',\n",
       " 'file2ERR204838.1012170': 'GCATGAGCCCTTCCGGTTGGGCATCCGCTTTTGCACCAATCGCAGGTCAGCCCTGTATTACGTGGACCTCATCGG',\n",
       " 'file2ERR204838.1637416': 'CTGTATTACGTGGACCTCATCGGGGGGAAGTGTGAGCTCCTCTCGGATGACTCCCTGGCTGTCTCTTCTCCCCGG',\n",
       " 'file2ERR204838.2227612': 'CAGGGAGTCATCCGAGAGGAGCTCACACTTCCCCCCGATGAGGTCCACGTAATACAGGGCTGACCTGCGATTGGT',\n",
       " 'file2ERR204838.2636927': 'ATCCGCTTTTGCACCAATCGCAGGTCAGCCCTGTATTACGTGGACCTCATCGGGGGGAAGTGTGAGCTCCTCTCG',\n",
       " 'file2ERR204838.2690767': 'ATCCGCTTTTGCACCAATCGCAGGTCAGCCCTGTATTACGTGGACCTCATCGGGGGGAAGTGTGAGCTCCTCTCG',\n",
       " 'file2ERR204838.2717083': 'CCACGTAATACAGGGCTGACCTGCGATTGGTGCAAAAGCGGATGCCCAACCGGAAGGGCTCATGCCACCAGCCCA',\n",
       " 'file2ERR204838.3037267': 'CCGCTTTTGCACCAATCGCAGGTCAGCCCTGTATTACGTGGACCTCATCGGGGGGAAGTGTGAGCTCCTCTCGGA',\n",
       " 'file2ERR204838.3075545': 'CCCCCGATGAGGTCCACGTAATACAGGGCTGACCTGCGATTGGTGCAAAAGCGGATGCCCAACCGGAAGGGCTCA',\n",
       " 'file2ERR204838.3146971': 'TGAGCCCTTCCGGTTGGGCATCCGCTTTTGCACCAATCGCAGGTCAGCCCTGTATTACGTGGACCTCATCGGGGG',\n",
       " 'file2ERR204838.3371983': 'CACCAATCGCAGGTCAGCCCTGTATTACGTGGACCTCATCGGGGGGAAGTGTGAGCTCCTCTCGGATGACTCCCT',\n",
       " 'file2ERR204838.3549178': 'ATGAGCCCTTCCGGTTGGGCATCCGCTTTTGCACCAATCGCAGGTCAGCCCTGTATTACGTGGACCTCATCGGGG',\n",
       " 'file2ERR204838.4265351': 'GTGGGCTGGTGGCATGAGCCCTTCCGGTTGGGCATCCGCTTTTGCACCAATCGCAGGTCAGCCCTGTATTACGTG',\n",
       " 'file2ERR204838.4297166': 'ATCCGCTTTTGCACCAATCGCAGGTCAGCCCTGTATTACGTGGACCTCATCGGGGGGAAGTGTGAGCTCCTCTCG',\n",
       " 'file2ERR204838.4310403': 'GGCTGGTGGCATGAGCCCTTCCGGTTGGGCATCCGCTTTTGCACCAATCGCAGGTCAGCCCTGTATTACGTGTAC',\n",
       " 'file2ERR204838.4675057': 'CCCCGATGAGGTCCACGTAATACAGGGCTGACCTGCGATTGGTGCAAAAGCGGATGCCCAACCGGAAGGGCTCAT',\n",
       " 'file2ERR204838.4850594': 'GTCATCCGAGAGGAGCTCACACTTCCCCCCGATGAGGTCCACGTAATACAGGGCTGACCTGCGATTGGTGCAAAA',\n",
       " 'file2ERR204838.5273207': 'CCACGTAATACAGGGCTGACCTGCGATTGGTGCAAAAGCGGATGCCCAACCGGAAGGGCTCATGCCACCAGCCCA',\n",
       " 'file2ERR204838.5441367': 'CCAGGGAGTCATCCGAGAGGAGCTCACACTTCCCCCCGATGAGGTCCACGTAATACAGGGCTGACCTGCGATTGG',\n",
       " 'file2ERR204838.5635203': 'TTCCGGTTGGGCATCCGCTTTTGCACCAATCGCAGGTCAGCCCTGTATTACGTGGACCTCATCGGGGGGAAGTGT',\n",
       " 'file2ERR204838.5729352': 'GCTGGTGGCATGAGCCCTTCCGGTTGGGCATCCGCTTTTGCACCAATCGCAGGTCAGCCCTGTATTACGTGGACC',\n",
       " 'file2ERR204838.6121847': 'AGCCGGGGAGAAGAGACAGCCAGGGAGTCATCCGAGAGGAGCTCACACTTCCCCCCGATGAGGTCCACGTAATAC',\n",
       " 'file2ERR204838.7137631': 'CGCTTTTGCACCAATCGCAGGTCAGCCCTGTATTACGTGGACCTCATCGGGGGGAAGTGTGAGCTCCTCTCGGAT',\n",
       " 'file2ERR204838.7166208': 'ATCGCAGGTCAGCCCTGTATTACGTGGACCTCATCGGGGGGAAGTGTGAGCTCCTCTCGGATGACTCCCTGGCTG',\n",
       " 'file2ERR204838.7825908': 'CCGCTTTTGCACCAATCGCAGGTCAGCCCTGTATTACGTGGACCTCATCGGGGGGAAGTGTGAGCTCCTCTCGGA',\n",
       " 'file2ERR204838.8362971': 'GATGAGGTCCACGTAATACAGGGCTGACCTGCGATTGGTGCAAAAGCGGATGCCCAACCGGAAGGGCTCATGCCA',\n",
       " 'file2ERR204838.9082113': 'GGGCTGGTGGCATGAGCCCTTCCGGTTGGGCATCCGCTTTTGCACCAATCGCAGGTCAGCCCTGTATTACGTGGA',\n",
       " 'file2ERR204838.9728988': 'CCGGGGAGAAGAGACAGCCAGGGAGTCATCCGAGAGGAGCTCACACTTCCCCCCGATGAGGTCCACGTAATACAG',\n",
       " 'file2ERR204838.10328013': 'GAGTCATCCGAGAGGAGCTCACACTTCCCCCCGATGAGGTCCACGTAATACAGGGCTGACCTGCGATTGGTGCAA',\n",
       " 'file2ERR204838.10463983': 'CGCTTTTGCACCAATCGCAGGTCAGCCCTGTATTACGTGGACCTCATCGGGGGGAAGTGTGAGCTCCTCTCGGAT',\n",
       " 'file2ERR204838.10597020': 'CTCACACTTCCCCCCGATGAGGTCCACGTAATACAGGGCTGACCTGCGATTGGTGCAAAAGCGGATGCCCAACCG',\n",
       " 'file2ERR204838.10619067': 'CATCCGAGAGGAGCTCACACTTCCCCCCGATGAGGTCCACGTAATACAGGGCTGACCTGCGATTGGTGCAAAAGC',\n",
       " 'file2ERR204838.13133795': 'GTCAGCCCTGTATTACGTGGACCTCATCGGGGGGAAGTGTGAGCTGCTCTCGGATGACTCCCTGGCTGTCTCTTC',\n",
       " 'file2ERR204838.13884412': 'GCCACGTAATACAGGGCTGACCTGCGATTGGTGCAAAAGCGGATGCCCAACCGGAAGGGCTCATGCCACCAGCCC',\n",
       " 'file2ERR204838.14293112': 'CCAGGGAGTCATCCGAGAGGAGCTCACACTTCCCCCCGATGAGGTCCACGTAATACAGGGCTGACCTGCGATTGG',\n",
       " 'file2ERR204838.14636621': 'ATTACGTGGACCTCATCGGGGGGAAGTGTGAGCTCCTCTCGGATGACTCCCTGGCTGTCTCTTCTCCCCGGCTGA'}"
      ]
     },
     "execution_count": 46,
     "metadata": {},
     "output_type": "execute_result"
    }
   ],
   "source": [
    "matching_reads"
   ]
  },
  {
   "cell_type": "code",
   "execution_count": null,
   "id": "cc317bf2",
   "metadata": {},
   "outputs": [
    {
     "name": "stderr",
     "output_type": "stream",
     "text": [
      "100%|██████████| 68/68 [19:41<00:00, 17.38s/it]"
     ]
    },
    {
     "name": "stdout",
     "output_type": "stream",
     "text": [
      "Number of mapped reads: 5\n",
      "Number of unmapped reads: 63\n"
     ]
    },
    {
     "name": "stderr",
     "output_type": "stream",
     "text": [
      "\n"
     ]
    }
   ],
   "source": [
    "# variant_sam = \"/data/geuvadis_data_base/E_GEUV_1_HG00377_1_M_120209_6/vk_count_out_w37_k41_combined_final/total_reads.sam\"\n",
    "variant_sam = os.path.join(notebook_out_dir, \"total_reads.sam\")\n",
    "\n",
    "mapped_reads = []\n",
    "unmapped_reads = []\n",
    "for read in tqdm(matching_reads, total=len(matching_reads)):\n",
    "    # output = !grep -P '^file1ERR204838\\.34043\\t' {variant_sam}\n",
    "    read_with_backslash = read.replace(\".\", \"\\.\")\n",
    "    output = !grep -P '^{read_with_backslash}\\t' {variant_sam}\n",
    "    individual_output_list_of_lists = []\n",
    "    mapped = False\n",
    "    for individual_output in output:\n",
    "        individual_output_list = individual_output.split(\"\\t\")\n",
    "        ref_seq_name = individual_output_list[2]\n",
    "        if ref_seq_name != \"*\":\n",
    "            mapped = True\n",
    "            individual_output_list_of_lists.append(individual_output_list)\n",
    "            # break\n",
    "    if mapped:\n",
    "        mapped_reads.append({read: individual_output_list_of_lists})\n",
    "    else:\n",
    "        unmapped_reads.append(read)\n",
    "    # break\n",
    "\n",
    "print(f\"Number of mapped reads: {len(mapped_reads)}\")\n",
    "print(f\"Number of unmapped reads: {len(unmapped_reads)}\")"
   ]
  },
  {
   "cell_type": "markdown",
   "id": "fc7d6194",
   "metadata": {},
   "source": [
    "If desired, I could do additional analysis to go through mapped_reads and determine if the read mapped to the correct place; but this is probably unnecessary."
   ]
  }
 ],
 "metadata": {
  "kernelspec": {
   "display_name": "varseek2",
   "language": "python",
   "name": "python3"
  },
  "language_info": {
   "codemirror_mode": {
    "name": "ipython",
    "version": 3
   },
   "file_extension": ".py",
   "mimetype": "text/x-python",
   "name": "python",
   "nbconvert_exporter": "python",
   "pygments_lexer": "ipython3",
   "version": "3.10.16"
  }
 },
 "nbformat": 4,
 "nbformat_minor": 5
}
