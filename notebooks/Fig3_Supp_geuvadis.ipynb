{
 "cells": [
  {
   "cell_type": "markdown",
   "metadata": {},
   "source": [
    "## Prep to run this notebook:\n",
    "- scripts/run_vk_ref_geuvadis.py\n",
    "- scripts/run_vk_count_geuvadis.py\n",
    "- scripts/run_vk_count_geuvadis_wxs.py"
   ]
  },
  {
   "cell_type": "code",
   "execution_count": 1,
   "metadata": {},
   "outputs": [],
   "source": [
    "# try:\n",
    "#     import varseek as vk\n",
    "# except ImportError:\n",
    "#     print(\"varseek not found, installing...\")\n",
    "#     !pip install -U -q varseek\n",
    "# try:\n",
    "#     import RLSRWP_2025\n",
    "# except ImportError:\n",
    "#     print(\"RLSRWP_2025 not found, installing...\")\n",
    "#     !pip install -q git+https://github.com/pachterlab/RLSRWP_2025.git"
   ]
  },
  {
   "cell_type": "code",
   "execution_count": 2,
   "metadata": {},
   "outputs": [],
   "source": [
    "from matplotlib_venn import venn2\n",
    "import matplotlib.pyplot as plt\n",
    "import os\n",
    "import pandas as pd\n",
    "import numpy as np\n",
    "import seaborn as sns\n",
    "import re\n",
    "import anndata as ad\n",
    "\n",
    "import varseek as vk\n",
    "from RLSRWP_2025.constants import box_links_dict\n",
    "\n",
    "RLSRWP_2025_dir = os.path.dirname(os.path.abspath(\"\"))  # if this notebook resides in RLSRWP_2025/notebooks/0_data_download.ipynb, then this retrieves RLSRWP_2025\n",
    "data_dir = os.path.join(RLSRWP_2025_dir, \"data\")"
   ]
  },
  {
   "cell_type": "code",
   "execution_count": null,
   "metadata": {},
   "outputs": [],
   "source": [
    "sequencing_data_out_base = os.path.join(data_dir, \"geuvadis_data_base\")\n",
    "geuvadis_reference_files_dir = os.path.join(data_dir, \"reference\", \"geuvadis\")\n",
    "variants_transcriptome_df_path = os.path.join(geuvadis_reference_files_dir, \"variants_transcriptome.parquet\")\n",
    "reference_genome_t2g = os.path.join(data_dir, \"reference\", \"ensembl_grch37_release113\", \"t2g.txt\")\n",
    "\n",
    "geuvadis_genotype_true_adata = os.path.join(geuvadis_reference_files_dir, \"genotypes_adata_true.h5ad\")\n",
    "adata_combined_path_reference_genome = os.path.join(sequencing_data_out_base, \"adata_reference_genome_combined.h5ad\")\n",
    "\n",
    "w_and_k_list_of_dicts = [\n",
    "    {\"w\": 27, \"k\": 31},\n",
    "    {\"w\": 37, \"k\": 41},\n",
    "    {\"w\": 47, \"k\": 51},\n",
    "]\n",
    "\n",
    "experiment_accession = \"E_GEUV_1_HG00377_1_M_120209_6\"  # experiment_accession to focus on\n",
    "min_counts = 2\n",
    "gene_set_to_exclude = {'ENSG00000111640', 'ENSG00000242580', 'ENSG00000243466', 'ENST00000603632', 'ENST00000605760'}  # None, or a set of gene names to exclude from the analysis (in ENSGs)\n",
    "\n",
    "out_dir = os.path.join(data_dir, f\"geuvadis_analysis_{experiment_accession}\")"
   ]
  },
  {
   "cell_type": "code",
   "execution_count": 4,
   "metadata": {},
   "outputs": [],
   "source": [
    "if not os.path.isfile(adata_combined_path_reference_genome):\n",
    "    vk.utils.download_box_url(box_links_dict[\"geuvadis_adata_reference_genome\"], output_file_name=adata_combined_path_reference_genome)\n",
    "if not os.path.isfile(geuvadis_genotype_true_adata):\n",
    "    vk.utils.download_box_url(box_links_dict[\"geuvadis_adata_genotype\"], output_file_name=geuvadis_genotype_true_adata)\n",
    "\n",
    "adata_reference = ad.read_h5ad(adata_combined_path_reference_genome)\n",
    "adata_genotype = ad.read_h5ad(geuvadis_genotype_true_adata)\n",
    "\n",
    "os.makedirs(out_dir, exist_ok=True)"
   ]
  },
  {
   "cell_type": "code",
   "execution_count": null,
   "metadata": {},
   "outputs": [],
   "source": [
    "if not os.path.isfile(variants_transcriptome_df_path):\n",
    "    vk.utils.download_box_url(box_links_dict[\"geuvadis_variants\"], output_file_name=variants_transcriptome_df_path)\n",
    "\n",
    "variants_transcriptome_df = pd.read_parquet(variants_transcriptome_df_path)\n",
    "variants_transcriptome_df['variant_header_cdna'] = variants_transcriptome_df['transcript_ID'] + \":\" + variants_transcriptome_df['variant_cdna']\n",
    "adata_genotype.var = adata_genotype.var.merge(variants_transcriptome_df[[\"variant_header\", \"variant_header_cdna\"]], how=\"left\", on=\"variant_header\")\n",
    "adata_genotype.var.rename(columns={\"variant_header\": \"variant_header_cds\", \"variant_header_cdna\": \"variant_header\"}, inplace=True)\n",
    "adata_genotype.var.index = adata_genotype.var.index.astype(str)  # otherwise I get AssertionError: Don’t call _normalize_index with non-categorical/string names\n",
    "adata_genotype.obs.index = adata_genotype.obs.index.astype(str)\n",
    "adata_genotype.obs['sample_title'] = adata_genotype.obs.index.astype(str).str.slice(2)\n",
    "\n",
    "adata_reference.var['gene'] = adata_reference.var.index.str.split(\".\").str[0]\n",
    "t2g_dict = vk.utils.make_t2g_dict(reference_genome_t2g)\n",
    "t2g_dict = {key.split(\".\")[0]: val.split(\".\")[0] for key, val in t2g_dict.items()}  # strip off the version number"
   ]
  },
  {
   "cell_type": "code",
   "execution_count": 8,
   "metadata": {},
   "outputs": [
    {
     "data": {
      "application/vnd.microsoft.datawrangler.viewer.v0+json": {
       "columns": [
        {
         "name": "index",
         "rawType": "object",
         "type": "string"
        },
        {
         "name": "has_id",
         "rawType": "bool",
         "type": "boolean"
        },
        {
         "name": "ID",
         "rawType": "object",
         "type": "string"
        },
        {
         "name": "variant_header_cds",
         "rawType": "object",
         "type": "string"
        },
        {
         "name": "variant_header",
         "rawType": "object",
         "type": "string"
        }
       ],
       "conversionMethod": "pd.DataFrame",
       "ref": "18c8c8d6-daf0-46fd-af9a-5226c7f7f798",
       "rows": [
        [
         "0",
         "True",
         "rs200036735",
         "ENST00000327044.6:c.106C>T",
         "ENST00000327044:c.156C>T"
        ],
        [
         "1",
         "True",
         "rs201791495",
         "ENST00000327044.6:c.57C>T",
         "ENST00000327044:c.107C>T"
        ],
        [
         "2",
         "True",
         "rs192245893",
         "ENST00000338591.3:c.90A>C",
         "ENST00000338591:c.197A>C"
        ],
        [
         "3",
         "True",
         "rs200516692",
         "ENST00000338591.3:c.163G>A",
         "ENST00000338591:c.270G>A"
        ],
        [
         "4",
         "True",
         "rs199679371",
         "ENST00000338591.3:c.189G>A",
         "ENST00000338591:c.296G>A"
        ]
       ],
       "shape": {
        "columns": 4,
        "rows": 5
       }
      },
      "text/html": [
       "<div>\n",
       "<style scoped>\n",
       "    .dataframe tbody tr th:only-of-type {\n",
       "        vertical-align: middle;\n",
       "    }\n",
       "\n",
       "    .dataframe tbody tr th {\n",
       "        vertical-align: top;\n",
       "    }\n",
       "\n",
       "    .dataframe thead th {\n",
       "        text-align: right;\n",
       "    }\n",
       "</style>\n",
       "<table border=\"1\" class=\"dataframe\">\n",
       "  <thead>\n",
       "    <tr style=\"text-align: right;\">\n",
       "      <th></th>\n",
       "      <th>has_id</th>\n",
       "      <th>ID</th>\n",
       "      <th>variant_header_cds</th>\n",
       "      <th>variant_header</th>\n",
       "    </tr>\n",
       "  </thead>\n",
       "  <tbody>\n",
       "    <tr>\n",
       "      <th>0</th>\n",
       "      <td>True</td>\n",
       "      <td>rs200036735</td>\n",
       "      <td>ENST00000327044.6:c.106C&gt;T</td>\n",
       "      <td>ENST00000327044:c.156C&gt;T</td>\n",
       "    </tr>\n",
       "    <tr>\n",
       "      <th>1</th>\n",
       "      <td>True</td>\n",
       "      <td>rs201791495</td>\n",
       "      <td>ENST00000327044.6:c.57C&gt;T</td>\n",
       "      <td>ENST00000327044:c.107C&gt;T</td>\n",
       "    </tr>\n",
       "    <tr>\n",
       "      <th>2</th>\n",
       "      <td>True</td>\n",
       "      <td>rs192245893</td>\n",
       "      <td>ENST00000338591.3:c.90A&gt;C</td>\n",
       "      <td>ENST00000338591:c.197A&gt;C</td>\n",
       "    </tr>\n",
       "    <tr>\n",
       "      <th>3</th>\n",
       "      <td>True</td>\n",
       "      <td>rs200516692</td>\n",
       "      <td>ENST00000338591.3:c.163G&gt;A</td>\n",
       "      <td>ENST00000338591:c.270G&gt;A</td>\n",
       "    </tr>\n",
       "    <tr>\n",
       "      <th>4</th>\n",
       "      <td>True</td>\n",
       "      <td>rs199679371</td>\n",
       "      <td>ENST00000338591.3:c.189G&gt;A</td>\n",
       "      <td>ENST00000338591:c.296G&gt;A</td>\n",
       "    </tr>\n",
       "  </tbody>\n",
       "</table>\n",
       "</div>"
      ],
      "text/plain": [
       "   has_id           ID          variant_header_cds            variant_header\n",
       "0    True  rs200036735  ENST00000327044.6:c.106C>T  ENST00000327044:c.156C>T\n",
       "1    True  rs201791495   ENST00000327044.6:c.57C>T  ENST00000327044:c.107C>T\n",
       "2    True  rs192245893   ENST00000338591.3:c.90A>C  ENST00000338591:c.197A>C\n",
       "3    True  rs200516692  ENST00000338591.3:c.163G>A  ENST00000338591:c.270G>A\n",
       "4    True  rs199679371  ENST00000338591.3:c.189G>A  ENST00000338591:c.296G>A"
      ]
     },
     "execution_count": 8,
     "metadata": {},
     "output_type": "execute_result"
    }
   ],
   "source": [
    "adata_genotype.var.head()"
   ]
  },
  {
   "cell_type": "code",
   "execution_count": 9,
   "metadata": {},
   "outputs": [],
   "source": [
    "# vcf = pd.read_parquet(\"/home/jmrich/Desktop/RLSRWP_2025/data/reference/geuvadis/1kg_phase1_all_preliminary_vcf_exons.parquet\")\n",
    "# vcf.head()"
   ]
  },
  {
   "cell_type": "markdown",
   "metadata": {},
   "source": [
    "## Plot Venn diagrams for my k-series to determine the best variant matrix to use"
   ]
  },
  {
   "cell_type": "code",
   "execution_count": 10,
   "metadata": {},
   "outputs": [],
   "source": [
    "# import pysam\n",
    "# import pandas as pd\n",
    "\n",
    "# vcf_path_preliminary = \"/home/jmrich/Desktop/RLSRWP_2025/data/reference/geuvadis/1kg_phase1_all_preliminary_exons.vcf.gz\"\n",
    "# vcf_path_true = \"/home/jmrich/Desktop/RLSRWP_2025/data/reference/geuvadis/1kg_phase1_all_true.vcf.gz\"\n",
    "# sample = \"0_HG00377\"\n",
    "\n",
    "# vcf_preliminary = pysam.VariantFile(vcf_path_preliminary)\n",
    "# vcf_true = pysam.VariantFile(vcf_path_true)\n",
    "\n",
    "# # Check sample names\n",
    "# if sample not in vcf_preliminary.header.samples:\n",
    "#     raise ValueError(\"Sample sample not found in VCF\")\n",
    "\n",
    "# variants_possessed_by_this_sample = set()\n",
    "# for rec_preliminary, rec_true in zip(vcf_preliminary, vcf_true):\n",
    "#     if rec_preliminary.ref == rec_true.ref:\n",
    "#         sample_homozygous_ref = rec_preliminary.samples[sample].get(\"GT\") == (0, 0)\n",
    "#     else:\n",
    "#         sample_homozygous_ref = rec_preliminary.samples[sample].get(\"GT\") == (1, 1)\n",
    "#     if not sample_homozygous_ref:\n",
    "#         variants_possessed_by_this_sample.add(rec_preliminary.id)\n"
   ]
  },
  {
   "cell_type": "code",
   "execution_count": 25,
   "metadata": {},
   "outputs": [
    {
     "data": {
      "application/vnd.microsoft.datawrangler.viewer.v0+json": {
       "columns": [
        {
         "name": "index",
         "rawType": "object",
         "type": "string"
        },
        {
         "name": "has_id",
         "rawType": "bool",
         "type": "boolean"
        },
        {
         "name": "ID",
         "rawType": "object",
         "type": "string"
        },
        {
         "name": "variant_header_cds",
         "rawType": "object",
         "type": "string"
        },
        {
         "name": "variant_header",
         "rawType": "object",
         "type": "string"
        }
       ],
       "conversionMethod": "pd.DataFrame",
       "ref": "ac22b6a8-5961-4fc2-a9c6-ef446e555a5a",
       "rows": [
        [
         "58",
         "True",
         "rs28507236",
         "ENST00000379407.3:c.498A>C",
         "ENST00000379407:c.528A>C"
        ],
        [
         "75",
         "True",
         "rs3829740",
         "ENST00000379407.3:c.1355G>C",
         "ENST00000379407:c.1385G>C"
        ],
        [
         "76",
         "True",
         "rs3829739",
         "ENST00000379407.3:c.1359A>G",
         "ENST00000379407:c.1389A>G"
        ],
        [
         "546",
         "True",
         "rs7418389",
         "ENST00000355826.5:c.214T>C",
         "ENST00000355826:c.253T>C"
        ],
        [
         "618",
         "True",
         "rs12184",
         "ENST00000378567.3:c.264T>C",
         "ENST00000378567:c.425T>C"
        ]
       ],
       "shape": {
        "columns": 4,
        "rows": 5
       }
      },
      "text/html": [
       "<div>\n",
       "<style scoped>\n",
       "    .dataframe tbody tr th:only-of-type {\n",
       "        vertical-align: middle;\n",
       "    }\n",
       "\n",
       "    .dataframe tbody tr th {\n",
       "        vertical-align: top;\n",
       "    }\n",
       "\n",
       "    .dataframe thead th {\n",
       "        text-align: right;\n",
       "    }\n",
       "</style>\n",
       "<table border=\"1\" class=\"dataframe\">\n",
       "  <thead>\n",
       "    <tr style=\"text-align: right;\">\n",
       "      <th></th>\n",
       "      <th>has_id</th>\n",
       "      <th>ID</th>\n",
       "      <th>variant_header_cds</th>\n",
       "      <th>variant_header</th>\n",
       "    </tr>\n",
       "  </thead>\n",
       "  <tbody>\n",
       "    <tr>\n",
       "      <th>58</th>\n",
       "      <td>True</td>\n",
       "      <td>rs28507236</td>\n",
       "      <td>ENST00000379407.3:c.498A&gt;C</td>\n",
       "      <td>ENST00000379407:c.528A&gt;C</td>\n",
       "    </tr>\n",
       "    <tr>\n",
       "      <th>75</th>\n",
       "      <td>True</td>\n",
       "      <td>rs3829740</td>\n",
       "      <td>ENST00000379407.3:c.1355G&gt;C</td>\n",
       "      <td>ENST00000379407:c.1385G&gt;C</td>\n",
       "    </tr>\n",
       "    <tr>\n",
       "      <th>76</th>\n",
       "      <td>True</td>\n",
       "      <td>rs3829739</td>\n",
       "      <td>ENST00000379407.3:c.1359A&gt;G</td>\n",
       "      <td>ENST00000379407:c.1389A&gt;G</td>\n",
       "    </tr>\n",
       "    <tr>\n",
       "      <th>546</th>\n",
       "      <td>True</td>\n",
       "      <td>rs7418389</td>\n",
       "      <td>ENST00000355826.5:c.214T&gt;C</td>\n",
       "      <td>ENST00000355826:c.253T&gt;C</td>\n",
       "    </tr>\n",
       "    <tr>\n",
       "      <th>618</th>\n",
       "      <td>True</td>\n",
       "      <td>rs12184</td>\n",
       "      <td>ENST00000378567.3:c.264T&gt;C</td>\n",
       "      <td>ENST00000378567:c.425T&gt;C</td>\n",
       "    </tr>\n",
       "  </tbody>\n",
       "</table>\n",
       "</div>"
      ],
      "text/plain": [
       "     has_id          ID           variant_header_cds  \\\n",
       "58     True  rs28507236   ENST00000379407.3:c.498A>C   \n",
       "75     True   rs3829740  ENST00000379407.3:c.1355G>C   \n",
       "76     True   rs3829739  ENST00000379407.3:c.1359A>G   \n",
       "546    True   rs7418389   ENST00000355826.5:c.214T>C   \n",
       "618    True     rs12184   ENST00000378567.3:c.264T>C   \n",
       "\n",
       "                variant_header  \n",
       "58    ENST00000379407:c.528A>C  \n",
       "75   ENST00000379407:c.1385G>C  \n",
       "76   ENST00000379407:c.1389A>G  \n",
       "546   ENST00000355826:c.253T>C  \n",
       "618   ENST00000378567:c.425T>C  "
      ]
     },
     "execution_count": 25,
     "metadata": {},
     "output_type": "execute_result"
    }
   ],
   "source": [
    "adata_genotype.var.head()"
   ]
  },
  {
   "cell_type": "code",
   "execution_count": null,
   "metadata": {},
   "outputs": [
    {
     "name": "stdout",
     "output_type": "stream",
     "text": [
      "k=31\n",
      "Sample HG00377\n",
      "Number of variants_predicted: 1850\n",
      "Number of variants_true: 4753\n",
      "Number of variants_all: 179854\n",
      "Number of TP: 1438\n",
      "Number of FP: 412\n",
      "Number of FN: 3315\n",
      "Number of TN: 174689\n",
      "Accuracy: 0.979\n",
      "Sensitivity: 0.303\n",
      "Specificity: 0.998\n"
     ]
    },
    {
     "data": {
      "image/png": "[encoded data removed]",
      "text/plain": [
       "<Figure size 400x400 with 1 Axes>"
      ]
     },
     "metadata": {},
     "output_type": "display_data"
    },
    {
     "name": "stdout",
     "output_type": "stream",
     "text": [
      "------------------------\n",
      "k=41\n",
      "Sample HG00377\n",
      "Number of variants_predicted: 1701\n",
      "Number of variants_true: 4656\n",
      "Number of variants_all: 178549\n",
      "Number of TP: 1381\n",
      "Number of FP: 320\n",
      "Number of FN: 3275\n",
      "Number of TN: 173573\n",
      "Accuracy: 0.980\n",
      "Sensitivity: 0.297\n",
      "Specificity: 0.998\n"
     ]
    },
    {
     "data": {
      "image/png": "[encoded data removed]",
      "text/plain": [
       "<Figure size 400x400 with 1 Axes>"
      ]
     },
     "metadata": {},
     "output_type": "display_data"
    },
    {
     "name": "stdout",
     "output_type": "stream",
     "text": [
      "------------------------\n",
      "k=51\n",
      "Sample HG00377\n",
      "Number of variants_predicted: 28\n",
      "Number of variants_true: 128\n",
      "Number of variants_all: 1656\n",
      "Number of TP: 11\n",
      "Number of FP: 17\n",
      "Number of FN: 117\n",
      "Number of TN: 1511\n",
      "Accuracy: 0.919\n",
      "Sensitivity: 0.086\n",
      "Specificity: 0.989\n"
     ]
    },
    {
     "data": {
      "image/png": "[encoded data removed]",
      "text/plain": [
       "<Figure size 400x400 with 1 Axes>"
      ]
     },
     "metadata": {},
     "output_type": "display_data"
    },
    {
     "name": "stdout",
     "output_type": "stream",
     "text": [
      "------------------------\n"
     ]
    }
   ],
   "source": [
    "# TODO: I currently ran vk ref with merge_identical=False, but in the future, I would like to do this with True, resolve merged headers with reference genome alignment, and then filter out whichever merged headers remain\n",
    "def plot_variant_overlap(adata_vcrs_path, adata_genotype_path, experiment_accession=None, min_counts=None, out_path=None, gene_set_to_exclude=None, t2g_dict=None):\n",
    "    if isinstance(adata_vcrs_path, str):\n",
    "        adata_vcrs = ad.read_h5ad(adata_vcrs_path)\n",
    "    elif isinstance(adata_vcrs_path, ad.AnnData):\n",
    "        adata_vcrs = adata_vcrs_path.copy()\n",
    "    else:\n",
    "        raise ValueError(\"adata_vcrs_path must be a string or an AnnData object.\")\n",
    "    if \"vcrs_header\" in adata_vcrs.var.columns:\n",
    "        adata_vcrs.var[\"variant_header\"] = adata_vcrs.var[\"vcrs_header\"].copy()\n",
    "    if \"variant_header\" not in adata_vcrs.var.columns:\n",
    "        adata_vcrs.var[\"variant_header\"] = adata_vcrs.var.index.copy()\n",
    "\n",
    "    if isinstance(adata_genotype_path, str):\n",
    "        adata_genotype = ad.read_h5ad(adata_genotype_path)\n",
    "    elif isinstance(adata_genotype_path, ad.AnnData):\n",
    "        adata_genotype = adata_genotype_path.copy()\n",
    "    else:\n",
    "        raise ValueError(\"adata_genotype_path must be a string or an AnnData object.\")\n",
    "    \n",
    "    # keep only the columns in adata_genotype that are also in adata_vcrs\n",
    "    shared_headers = adata_genotype.var[\"variant_header\"].isin(adata_vcrs.var[\"variant_header\"].unique())\n",
    "    adata_genotype = adata_genotype[:, shared_headers].copy()\n",
    "    \n",
    "    # Select only the sample_index'th sample\n",
    "    sample_index = int(adata_vcrs.obs.index[adata_vcrs.obs[\"experiment_alias_underscores_only\"] == experiment_accession].values[0])\n",
    "    sample_title = adata_vcrs.obs.iloc[sample_index]['sample_title']\n",
    "    print(f\"Sample {sample_title}\")\n",
    "    adata_genotype.obs.index = adata_genotype.obs.index.astype(str)\n",
    "    adata_genotype.obs['sample_title'] = adata_genotype.obs.index.copy().str.slice(2)\n",
    "    if sample_title not in set(adata_genotype.obs['sample_title']):\n",
    "        raise ValueError(f\"Sample title {sample_title} not found in adata_genotype.\")\n",
    "    \n",
    "    adata_vcrs = adata_vcrs[sample_index, :]\n",
    "    adata_genotype = adata_genotype[adata_genotype.obs['sample_title'] == sample_title].copy()\n",
    "\n",
    "    if min_counts is not None:\n",
    "        adata_vcrs.X = adata_vcrs.X.multiply(adata_vcrs.X >= min_counts)\n",
    "    \n",
    "    if gene_set_to_exclude is not None:\n",
    "        gene_set_to_exclude = set(gene_set_to_exclude)\n",
    "        adata_vcrs.var = adata_vcrs.var.merge(variants_transcriptome_df[['variant_header_cdna', 'transcript_ID']], how=\"left\", left_index=True, right_on=\"variant_header_cdna\").reset_index(drop=True)\n",
    "        adata_vcrs.var[\"gene\"] = adata_vcrs.var[\"transcript_ID\"].map(t2g_dict)\n",
    "\n",
    "        adata_genotype.var = adata_genotype.var.merge(variants_transcriptome_df[['variant_header_cdna', 'transcript_ID']], how=\"left\", left_on=\"variant_header\", right_on=\"variant_header_cdna\").reset_index(drop=True)\n",
    "        adata_genotype.var[\"gene\"] = adata_genotype.var[\"transcript_ID\"].map(t2g_dict)\n",
    "\n",
    "        # do it for both transcript IDs and gene names\n",
    "        adata_vcrs = adata_vcrs[:, ~adata_vcrs.var['transcript_ID'].isin(gene_set_to_exclude).values]\n",
    "        adata_vcrs = adata_vcrs[:, ~adata_vcrs.var['gene'].isin(gene_set_to_exclude).values]\n",
    "        adata_genotype = adata_genotype[:, ~adata_genotype.var['transcript_ID'].isin(gene_set_to_exclude).values]\n",
    "        adata_genotype = adata_genotype[:, ~adata_genotype.var['gene'].isin(gene_set_to_exclude).values]\n",
    "    \n",
    "    variants_all = set(adata_vcrs.var[\"variant_header\"])\n",
    "\n",
    "    # Filter adata_vcrs: keep only columns where the value in the first row is not 0\n",
    "    nonzero_vcrs_cols = adata_vcrs.X[0] > 0\n",
    "    adata_vcrs = adata_vcrs[:, nonzero_vcrs_cols]\n",
    "    variants_predicted = set(adata_vcrs.var[\"variant_header\"])\n",
    "\n",
    "    # Filter adata_genotype: keep only columns where the value in the first row is not 0\n",
    "    nonzero_genotype_cols = adata_genotype.X[0] > 0\n",
    "    adata_genotype = adata_genotype[:, nonzero_genotype_cols]\n",
    "    variants_true = set(adata_genotype.var[\"variant_header\"])\n",
    "\n",
    "    # ensure no version numbers on Ensembl transcript IDs\n",
    "    variants_predicted = {re.sub(r'(ENST\\d+)\\.\\d+', r'\\1', v) for v in variants_predicted}\n",
    "    variants_true = {re.sub(r'(ENST\\d+)\\.\\d+', r'\\1', v) for v in variants_true}\n",
    "\n",
    "    # print(f\"First 100 variants_true: {sorted(list(variants_true))[:100]}\")\n",
    "    # print(f\"First 100 variants_predicted: {sorted(list(variants_predicted))[:100]}\")\n",
    "\n",
    "    TP = len(variants_predicted & variants_true)\n",
    "    FP = len(variants_predicted - variants_true)\n",
    "    FN = len(variants_true - variants_predicted)\n",
    "    TN = len(variants_all - variants_true - variants_predicted)\n",
    "\n",
    "    global dict_of_fp_and_fn\n",
    "    dict_of_fp_and_fn[f\"w{w}_k{k}\"] = {}\n",
    "    dict_of_fp_and_fn[f\"w{w}_k{k}\"][\"FP\"] = variants_predicted - variants_true\n",
    "    dict_of_fp_and_fn[f\"w{w}_k{k}\"][\"FN\"] = variants_true - variants_predicted\n",
    "    # print(f\"First 100 FP: {sorted(list(variants_predicted - variants_true))[:100]}\")\n",
    "    # print(f\"First 100 FN: {sorted(list(variants_true - variants_predicted))[:100]}\")\n",
    "\n",
    "    accuracy = (TP + TN) / (TP + TN + FP + FN)\n",
    "    sensitivity = TP / (TP + FN) if (TP + FN) else 0\n",
    "    specificity = TN / (TN + FP) if (TN + FP) else 0\n",
    "\n",
    "    print(f\"Number of variants_predicted: {len(variants_predicted)}\")\n",
    "    print(f\"Number of variants_true: {len(variants_true)}\")\n",
    "    print(f\"Number of variants_all: {len(variants_all)}\")\n",
    "    print(f\"Number of TP: {TP}\")\n",
    "    print(f\"Number of FP: {FP}\")\n",
    "    print(f\"Number of FN: {FN}\")\n",
    "    print(f\"Number of TN: {TN}\")\n",
    "    print(f\"Accuracy: {accuracy:.3f}\")\n",
    "    print(f\"Sensitivity: {sensitivity:.3f}\")\n",
    "    print(f\"Specificity: {specificity:.3f}\")\n",
    "\n",
    "    plt.figure(figsize=(4, 4))\n",
    "    venn2([variants_predicted, variants_true], set_labels=('Predicted', 'True'))  # \"Varseek RNA\", \"Geuvadis DNA\"\n",
    "    plt.title(\"Variant Overlap\")\n",
    "    if out_path:\n",
    "        plt.savefig(out_path, dpi=300)\n",
    "    plt.show()\n",
    "\n",
    "dict_of_fp_and_fn = {}\n",
    "for w_and_k_dict in w_and_k_list_of_dicts:\n",
    "    w, k = w_and_k_dict[\"w\"], w_and_k_dict[\"k\"]\n",
    "    adata_combined_path_vcrs = os.path.join(sequencing_data_out_base, f\"adata_vcrs_combined_w{w}_k{k}.h5ad\")\n",
    "    if not os.path.isfile(adata_combined_path_vcrs):\n",
    "        vk.utils.download_box_url(box_links_dict[f\"geuvadis_adata_vcrs_w{w}_k{k}\"], output_file_name=adata_combined_path_vcrs)\n",
    "    \n",
    "    print(f\"k={k}\")\n",
    "    venn_out_path = os.path.join(out_dir, f\"variant_overlap_sample_{experiment_accession}_w{w}_k{k}.pdf\")\n",
    "    plot_variant_overlap(adata_combined_path_vcrs, adata_genotype, out_path=venn_out_path, experiment_accession=experiment_accession, min_counts=min_counts, gene_set_to_exclude=gene_set_to_exclude, t2g_dict=t2g_dict)\n",
    "    print(\"------------------------\")\n",
    "\n",
    "    # break  #!!! erase"
   ]
  },
  {
   "cell_type": "markdown",
   "metadata": {},
   "source": [
    "## Based on this, I will choose k=41"
   ]
  },
  {
   "cell_type": "code",
   "execution_count": null,
   "metadata": {},
   "outputs": [
    {
     "name": "stderr",
     "output_type": "stream",
     "text": [
      "/home/jmrich/Desktop/varseek/varseek/utils/varseek_clean_utils.py:2276: DtypeWarning: Columns (4) have mixed types. Specify dtype option on import or set low_memory=False.\n",
      "  t2g_df = pd.read_csv(t2g_file, sep=\"\\t\", header=None)\n"
     ]
    }
   ],
   "source": [
    "w, k = 37, 41\n",
    "adata_combined_path_vcrs_final = os.path.join(sequencing_data_out_base, f\"adata_vcrs_combined_w{w}_k{k}.h5ad\")\n",
    "if not os.path.isfile(adata_combined_path_vcrs_final):\n",
    "    vk.utils.download_box_url(box_links_dict[f\"geuvadis_adata_vcrs_w{w}_k{k}\"], output_file_name=adata_combined_path_vcrs_final)\n",
    "\n",
    "adata_vcrs = ad.read_h5ad(adata_combined_path_vcrs_final)\n",
    "if min_counts is not None:\n",
    "    adata_vcrs.X = adata_vcrs.X.multiply(adata_vcrs.X >= min_counts)\n",
    "\n",
    "if \"vcrs_count\" not in adata_vcrs.var.columns:\n",
    "    adata_vcrs.var[\"vcrs_count\"] = adata_vcrs.X.sum(axis=0).A1 if hasattr(adata_vcrs.X, \"A1\") else np.asarray(adata_vcrs.X.sum(axis=0)).flatten()\n",
    "\n",
    "adata_vcrs.var = adata_vcrs.var.merge(variants_transcriptome_df[['variant_header', 'variant_header_cdna', 'transcript_ID']], how=\"left\", left_index=True, right_on=\"variant_header_cdna\").reset_index(drop=True)\n",
    "adata_vcrs.var.rename(columns={\"variant_header\": \"variant_header_cds\", \"variant_header_cdna\": \"variant_header\", \"vcrs_count\": \"variant_count\"}, inplace=True)\n",
    "\n",
    "# keep only the columns in adata_genotype that are also in adata_vcrs\n",
    "shared_headers = adata_genotype.var[\"variant_header\"].isin(adata_vcrs.var[\"variant_header\"].unique())\n",
    "adata_genotype = adata_genotype[:, shared_headers].copy()\n",
    "\n",
    "adata_vcrs.var[\"gene\"] = adata_vcrs.var[\"transcript_ID\"].map(t2g_dict)"
   ]
  },
  {
   "cell_type": "code",
   "execution_count": 13,
   "metadata": {},
   "outputs": [],
   "source": [
    "# only if naming discrepency\n",
    "if \".\" in adata_reference.obs['experiment_alias_underscores_only'].iloc[0] or \":\" in adata_reference.obs['experiment_alias_underscores_only'].iloc[0]:\n",
    "    adata_reference.obs['experiment_alias_underscores_only'] = (\n",
    "        adata_reference.obs['experiment_alias_underscores_only']\n",
    "        .str.replace(r'[.:]', '_', regex=True)\n",
    "    )"
   ]
  },
  {
   "cell_type": "code",
   "execution_count": 14,
   "metadata": {},
   "outputs": [
    {
     "data": {
      "application/vnd.microsoft.datawrangler.viewer.v0+json": {
       "columns": [
        {
         "name": "index",
         "rawType": "object",
         "type": "string"
        },
        {
         "name": "variant_count",
         "rawType": "float64",
         "type": "float"
        },
        {
         "name": "variant_header_cds",
         "rawType": "object",
         "type": "string"
        },
        {
         "name": "variant_header",
         "rawType": "object",
         "type": "string"
        },
        {
         "name": "transcript_ID",
         "rawType": "object",
         "type": "string"
        },
        {
         "name": "gene",
         "rawType": "object",
         "type": "string"
        },
        {
         "name": "vcrs_count",
         "rawType": "float64",
         "type": "float"
        },
        {
         "name": "gene_count",
         "rawType": "float64",
         "type": "float"
        },
        {
         "name": "genotype",
         "rawType": "float64",
         "type": "float"
        }
       ],
       "conversionMethod": "pd.DataFrame",
       "ref": "03696343-5eef-4f73-9e0c-97ab3ebe9aab",
       "rows": [
        [
         "175115",
         "1821.0",
         "ENST00000390312.2:c.177G>A",
         "ENST00000390312:c.218G>A",
         "ENST00000390312",
         "ENSG00000211666",
         "1821.0",
         "5781.0",
         "0.0"
        ],
        [
         "23451",
         "1365.0",
         "ENST00000496168.1:c.201G>A",
         "ENST00000496168:c.382G>A",
         "ENST00000496168",
         "ENSG00000243466",
         "1365.0",
         "3425.0",
         "0.0"
        ],
        [
         "58590",
         "722.0",
         "ENST00000579721.1:c.142G>A",
         "ENST00000579721:c.142G>A",
         "ENST00000579721",
         null,
         "722.0",
         null,
         "0.0"
        ],
        [
         "128160",
         "267.0",
         "ENST00000603423.1:c.87G>A",
         "ENST00000603423:c.137G>A",
         "ENST00000603423",
         null,
         "267.0",
         null,
         "0.0"
        ],
        [
         "23537",
         "234.0",
         "ENST00000468879.1:c.111A>T",
         "ENST00000468879:c.292A>T",
         "ENST00000468879",
         "ENSG00000242580",
         "234.0",
         "7.0",
         "0.0"
        ]
       ],
       "shape": {
        "columns": 8,
        "rows": 5
       }
      },
      "text/html": [
       "<div>\n",
       "<style scoped>\n",
       "    .dataframe tbody tr th:only-of-type {\n",
       "        vertical-align: middle;\n",
       "    }\n",
       "\n",
       "    .dataframe tbody tr th {\n",
       "        vertical-align: top;\n",
       "    }\n",
       "\n",
       "    .dataframe thead th {\n",
       "        text-align: right;\n",
       "    }\n",
       "</style>\n",
       "<table border=\"1\" class=\"dataframe\">\n",
       "  <thead>\n",
       "    <tr style=\"text-align: right;\">\n",
       "      <th></th>\n",
       "      <th>variant_count</th>\n",
       "      <th>variant_header_cds</th>\n",
       "      <th>variant_header</th>\n",
       "      <th>transcript_ID</th>\n",
       "      <th>gene</th>\n",
       "      <th>vcrs_count</th>\n",
       "      <th>gene_count</th>\n",
       "      <th>genotype</th>\n",
       "    </tr>\n",
       "  </thead>\n",
       "  <tbody>\n",
       "    <tr>\n",
       "      <th>175115</th>\n",
       "      <td>1821.0</td>\n",
       "      <td>ENST00000390312.2:c.177G&gt;A</td>\n",
       "      <td>ENST00000390312:c.218G&gt;A</td>\n",
       "      <td>ENST00000390312</td>\n",
       "      <td>ENSG00000211666</td>\n",
       "      <td>1821.0</td>\n",
       "      <td>5781.0</td>\n",
       "      <td>0.0</td>\n",
       "    </tr>\n",
       "    <tr>\n",
       "      <th>23451</th>\n",
       "      <td>1365.0</td>\n",
       "      <td>ENST00000496168.1:c.201G&gt;A</td>\n",
       "      <td>ENST00000496168:c.382G&gt;A</td>\n",
       "      <td>ENST00000496168</td>\n",
       "      <td>ENSG00000243466</td>\n",
       "      <td>1365.0</td>\n",
       "      <td>3425.0</td>\n",
       "      <td>0.0</td>\n",
       "    </tr>\n",
       "    <tr>\n",
       "      <th>58590</th>\n",
       "      <td>722.0</td>\n",
       "      <td>ENST00000579721.1:c.142G&gt;A</td>\n",
       "      <td>ENST00000579721:c.142G&gt;A</td>\n",
       "      <td>ENST00000579721</td>\n",
       "      <td>NaN</td>\n",
       "      <td>722.0</td>\n",
       "      <td>NaN</td>\n",
       "      <td>0.0</td>\n",
       "    </tr>\n",
       "    <tr>\n",
       "      <th>128160</th>\n",
       "      <td>267.0</td>\n",
       "      <td>ENST00000603423.1:c.87G&gt;A</td>\n",
       "      <td>ENST00000603423:c.137G&gt;A</td>\n",
       "      <td>ENST00000603423</td>\n",
       "      <td>NaN</td>\n",
       "      <td>267.0</td>\n",
       "      <td>NaN</td>\n",
       "      <td>0.0</td>\n",
       "    </tr>\n",
       "    <tr>\n",
       "      <th>23537</th>\n",
       "      <td>234.0</td>\n",
       "      <td>ENST00000468879.1:c.111A&gt;T</td>\n",
       "      <td>ENST00000468879:c.292A&gt;T</td>\n",
       "      <td>ENST00000468879</td>\n",
       "      <td>ENSG00000242580</td>\n",
       "      <td>234.0</td>\n",
       "      <td>7.0</td>\n",
       "      <td>0.0</td>\n",
       "    </tr>\n",
       "  </tbody>\n",
       "</table>\n",
       "</div>"
      ],
      "text/plain": [
       "        variant_count          variant_header_cds            variant_header  \\\n",
       "175115         1821.0  ENST00000390312.2:c.177G>A  ENST00000390312:c.218G>A   \n",
       "23451          1365.0  ENST00000496168.1:c.201G>A  ENST00000496168:c.382G>A   \n",
       "58590           722.0  ENST00000579721.1:c.142G>A  ENST00000579721:c.142G>A   \n",
       "128160          267.0   ENST00000603423.1:c.87G>A  ENST00000603423:c.137G>A   \n",
       "23537           234.0  ENST00000468879.1:c.111A>T  ENST00000468879:c.292A>T   \n",
       "\n",
       "          transcript_ID             gene  vcrs_count  gene_count  genotype  \n",
       "175115  ENST00000390312  ENSG00000211666      1821.0      5781.0       0.0  \n",
       "23451   ENST00000496168  ENSG00000243466      1365.0      3425.0       0.0  \n",
       "58590   ENST00000579721              NaN       722.0         NaN       0.0  \n",
       "128160  ENST00000603423              NaN       267.0         NaN       0.0  \n",
       "23537   ENST00000468879  ENSG00000242580       234.0         7.0       0.0  "
      ]
     },
     "execution_count": 14,
     "metadata": {},
     "output_type": "execute_result"
    }
   ],
   "source": [
    "# print(adata_vcrs.var.sort_values('vcrs_count', ascending=False))\n",
    "sample_index = int(adata_vcrs.obs.index[adata_vcrs.obs[\"experiment_alias_underscores_only\"] == experiment_accession].values[0])\n",
    "sample_title, experiment_alias_underscores_only = adata_vcrs.obs.iloc[sample_index]['sample_title'], adata_vcrs.obs.iloc[sample_index]['experiment_alias_underscores_only']\n",
    "adata_vcrs_single_sample = adata_vcrs[adata_vcrs.obs['experiment_alias_underscores_only'].isin({experiment_alias_underscores_only})].copy()\n",
    "adata_vcrs_single_sample.var[\"vcrs_count\"] = adata_vcrs_single_sample.X.sum(axis=0).A1 if hasattr(adata_vcrs_single_sample.X, \"A1\") else np.asarray(adata_vcrs_single_sample.X.sum(axis=0)).flatten()\n",
    "\n",
    "adata_reference_single_sample = adata_reference[adata_reference.obs['experiment_alias_underscores_only'].isin({experiment_alias_underscores_only})].copy()\n",
    "adata_reference_single_sample.var['gene_count'] = adata_reference_single_sample.X.toarray().flatten()\n",
    "\n",
    "adata_genotype_single_sample = adata_genotype[adata_genotype.obs['sample_title'].isin({sample_title})].copy()\n",
    "adata_genotype_single_sample.var['genotype'] = adata_genotype_single_sample.X.toarray().flatten()\n",
    "\n",
    "adata_vcrs_single_sample.var = adata_vcrs_single_sample.var.merge(adata_reference_single_sample.var[[\"gene\", \"gene_count\"]], how=\"left\", on=\"gene\")\n",
    "adata_vcrs_single_sample.var = adata_vcrs_single_sample.var.merge(adata_genotype_single_sample.var[[\"variant_header\", \"genotype\"]], how=\"left\", on=\"variant_header\")\n",
    "adata_vcrs_single_sample.var.index = adata_vcrs_single_sample.var.index.astype(str)\n",
    "\n",
    "# Save to file\n",
    "fns_txt_path = os.path.join(out_dir, \"fns.txt\")\n",
    "if not os.path.isfile(fns_txt_path):\n",
    "    with open(fns_txt_path, \"w\") as f:\n",
    "        for item in dict_of_fp_and_fn[f\"w{w}_k{k}\"][\"FN\"]:\n",
    "            f.write(f\"{item}\\n\")\n",
    "\n",
    "fp_df = (\n",
    "    adata_vcrs_single_sample.var.loc[\n",
    "    adata_vcrs_single_sample.var['variant_header'].isin(dict_of_fp_and_fn[f\"w{w}_k{k}\"][\"FP\"])]\n",
    "    .sort_values('vcrs_count', ascending=False)\n",
    ")\n",
    "\n",
    "fp_df_output_path = os.path.join(out_dir, \"fp_df.parquet\")\n",
    "if not os.path.isfile(fp_df_output_path):\n",
    "    fp_df.to_parquet(fp_df_output_path)\n",
    "fp_df.head()"
   ]
  },
  {
   "cell_type": "code",
   "execution_count": 15,
   "metadata": {},
   "outputs": [
    {
     "data": {
      "application/vnd.microsoft.datawrangler.viewer.v0+json": {
       "columns": [
        {
         "name": "index",
         "rawType": "object",
         "type": "string"
        },
        {
         "name": "has_id",
         "rawType": "bool",
         "type": "boolean"
        },
        {
         "name": "ID",
         "rawType": "object",
         "type": "string"
        },
        {
         "name": "variant_header_cds",
         "rawType": "object",
         "type": "string"
        },
        {
         "name": "variant_header",
         "rawType": "object",
         "type": "string"
        },
        {
         "name": "genotype",
         "rawType": "int64",
         "type": "integer"
        }
       ],
       "conversionMethod": "pd.DataFrame",
       "ref": "16acd785-eb2a-4bb1-b29b-881608836111",
       "rows": [
        [
         "0",
         "True",
         "rs200036735",
         "ENST00000327044.6:c.106C>T",
         "ENST00000327044:c.156C>T",
         "0"
        ],
        [
         "1",
         "True",
         "rs201791495",
         "ENST00000327044.6:c.57C>T",
         "ENST00000327044:c.107C>T",
         "0"
        ],
        [
         "4",
         "True",
         "rs199679371",
         "ENST00000338591.3:c.189G>A",
         "ENST00000338591:c.296G>A",
         "0"
        ],
        [
         "5",
         "True",
         "rs146518595",
         "ENST00000338591.3:c.191G>A",
         "ENST00000338591:c.298G>A",
         "0"
        ],
        [
         "6",
         "True",
         "rs138690517",
         "ENST00000338591.3:c.368A>G",
         "ENST00000338591:c.475A>G",
         "0"
        ]
       ],
       "shape": {
        "columns": 5,
        "rows": 5
       }
      },
      "text/html": [
       "<div>\n",
       "<style scoped>\n",
       "    .dataframe tbody tr th:only-of-type {\n",
       "        vertical-align: middle;\n",
       "    }\n",
       "\n",
       "    .dataframe tbody tr th {\n",
       "        vertical-align: top;\n",
       "    }\n",
       "\n",
       "    .dataframe thead th {\n",
       "        text-align: right;\n",
       "    }\n",
       "</style>\n",
       "<table border=\"1\" class=\"dataframe\">\n",
       "  <thead>\n",
       "    <tr style=\"text-align: right;\">\n",
       "      <th></th>\n",
       "      <th>has_id</th>\n",
       "      <th>ID</th>\n",
       "      <th>variant_header_cds</th>\n",
       "      <th>variant_header</th>\n",
       "      <th>genotype</th>\n",
       "    </tr>\n",
       "  </thead>\n",
       "  <tbody>\n",
       "    <tr>\n",
       "      <th>0</th>\n",
       "      <td>True</td>\n",
       "      <td>rs200036735</td>\n",
       "      <td>ENST00000327044.6:c.106C&gt;T</td>\n",
       "      <td>ENST00000327044:c.156C&gt;T</td>\n",
       "      <td>0</td>\n",
       "    </tr>\n",
       "    <tr>\n",
       "      <th>1</th>\n",
       "      <td>True</td>\n",
       "      <td>rs201791495</td>\n",
       "      <td>ENST00000327044.6:c.57C&gt;T</td>\n",
       "      <td>ENST00000327044:c.107C&gt;T</td>\n",
       "      <td>0</td>\n",
       "    </tr>\n",
       "    <tr>\n",
       "      <th>4</th>\n",
       "      <td>True</td>\n",
       "      <td>rs199679371</td>\n",
       "      <td>ENST00000338591.3:c.189G&gt;A</td>\n",
       "      <td>ENST00000338591:c.296G&gt;A</td>\n",
       "      <td>0</td>\n",
       "    </tr>\n",
       "    <tr>\n",
       "      <th>5</th>\n",
       "      <td>True</td>\n",
       "      <td>rs146518595</td>\n",
       "      <td>ENST00000338591.3:c.191G&gt;A</td>\n",
       "      <td>ENST00000338591:c.298G&gt;A</td>\n",
       "      <td>0</td>\n",
       "    </tr>\n",
       "    <tr>\n",
       "      <th>6</th>\n",
       "      <td>True</td>\n",
       "      <td>rs138690517</td>\n",
       "      <td>ENST00000338591.3:c.368A&gt;G</td>\n",
       "      <td>ENST00000338591:c.475A&gt;G</td>\n",
       "      <td>0</td>\n",
       "    </tr>\n",
       "  </tbody>\n",
       "</table>\n",
       "</div>"
      ],
      "text/plain": [
       "   has_id           ID          variant_header_cds            variant_header  \\\n",
       "0    True  rs200036735  ENST00000327044.6:c.106C>T  ENST00000327044:c.156C>T   \n",
       "1    True  rs201791495   ENST00000327044.6:c.57C>T  ENST00000327044:c.107C>T   \n",
       "4    True  rs199679371  ENST00000338591.3:c.189G>A  ENST00000338591:c.296G>A   \n",
       "5    True  rs146518595  ENST00000338591.3:c.191G>A  ENST00000338591:c.298G>A   \n",
       "6    True  rs138690517  ENST00000338591.3:c.368A>G  ENST00000338591:c.475A>G   \n",
       "\n",
       "   genotype  \n",
       "0         0  \n",
       "1         0  \n",
       "4         0  \n",
       "5         0  \n",
       "6         0  "
      ]
     },
     "execution_count": 15,
     "metadata": {},
     "output_type": "execute_result"
    }
   ],
   "source": [
    "adata_genotype_single_sample.var.head()"
   ]
  },
  {
   "cell_type": "code",
   "execution_count": 16,
   "metadata": {},
   "outputs": [
    {
     "name": "stdout",
     "output_type": "stream",
     "text": [
      "Number of variants in sample HG00377 with genotype homozygous_ref: 173882\n",
      "Number of variants in sample HG00377 with genotype heterozygous: 3260\n",
      "Number of variants in sample HG00377 with genotype homozygous_alt: 1396\n"
     ]
    }
   ],
   "source": [
    "genotype_value_to_string_mapping = {0: \"homozygous_ref\", 1: \"heterozygous\", 2: \"homozygous_alt\"}\n",
    "for genotype_value, genotype_string in genotype_value_to_string_mapping.items():\n",
    "    number_of_variants_with_this_genotype = len(adata_genotype_single_sample.var.loc[adata_genotype_single_sample.var['genotype'] == genotype_value])\n",
    "    print(f\"Number of variants in sample {sample_title} with genotype {genotype_string}: {number_of_variants_with_this_genotype}\")"
   ]
  },
  {
   "cell_type": "code",
   "execution_count": 17,
   "metadata": {},
   "outputs": [
    {
     "data": {
      "text/plain": [
       "AnnData object with n_obs × n_vars = 1 × 1306\n",
       "    obs: 'experiment_alias_underscores_only', 'experiment_accession', 'library_strategy', 'sample_title', 'Sex', 'Biosample ID', 'Population name', 'Superpopulation name'\n",
       "    var: 'variant_count', 'variant_header_cds', 'variant_header', 'transcript_ID', 'gene', 'vcrs_count', 'gene_count', 'genotype'"
      ]
     },
     "execution_count": 17,
     "metadata": {},
     "output_type": "execute_result"
    }
   ],
   "source": [
    "adata_vcrs_single_sample = adata_vcrs_single_sample[:, (adata_vcrs_single_sample.var['genotype'] > 0) & (adata_vcrs_single_sample.var['vcrs_count'] > 0) & (~adata_vcrs_single_sample.var['gene'].isna())].copy()\n",
    "adata_vcrs_single_sample"
   ]
  },
  {
   "cell_type": "code",
   "execution_count": 23,
   "metadata": {},
   "outputs": [
    {
     "data": {
      "application/vnd.microsoft.datawrangler.viewer.v0+json": {
       "columns": [
        {
         "name": "index",
         "rawType": "object",
         "type": "string"
        },
        {
         "name": "variant_count",
         "rawType": "float64",
         "type": "float"
        },
        {
         "name": "variant_header_cds",
         "rawType": "object",
         "type": "string"
        },
        {
         "name": "variant_header",
         "rawType": "object",
         "type": "string"
        },
        {
         "name": "transcript_ID",
         "rawType": "object",
         "type": "string"
        },
        {
         "name": "gene",
         "rawType": "object",
         "type": "string"
        },
        {
         "name": "vcrs_count",
         "rawType": "float64",
         "type": "float"
        },
        {
         "name": "gene_count",
         "rawType": "float64",
         "type": "float"
        },
        {
         "name": "genotype",
         "rawType": "float64",
         "type": "float"
        }
       ],
       "conversionMethod": "pd.DataFrame",
       "ref": "2ab38e6d-341b-41b3-9ad3-81275b13248e",
       "rows": [
        [
         "441",
         "4.0",
         "ENST00000355826.5:c.214T>C",
         "ENST00000355826:c.253T>C",
         "ENST00000355826",
         "ENSG00000197530",
         "4.0",
         "169.0",
         "2.0"
        ],
        [
         "590",
         "40.0",
         "ENST00000355716.4:c.50A>G",
         "ENST00000355716:c.349A>G",
         "ENST00000355716",
         "ENSG00000157873",
         "40.0",
         "782.0",
         "1.0"
        ],
        [
         "794",
         "4.0",
         "ENST00000378209.3:c.954A>G",
         "ENST00000378209:c.1277A>G",
         "ENST00000378209",
         "ENSG00000169598",
         "4.0",
         "94.0",
         "1.0"
        ],
        [
         "832",
         "3.0",
         "ENST00000378156.4:c.3570A>G",
         "ENST00000378156:c.3836A>G",
         "ENST00000378156",
         "ENSG00000131697",
         "3.0",
         "84.0",
         "1.0"
        ],
        [
         "1233",
         "3.0",
         "ENST00000377403.2:c.2019T>C",
         "ENST00000377403:c.2321T>C",
         "ENST00000377403",
         "ENSG00000049239",
         "3.0",
         "727.0",
         "1.0"
        ]
       ],
       "shape": {
        "columns": 8,
        "rows": 5
       }
      },
      "text/html": [
       "<div>\n",
       "<style scoped>\n",
       "    .dataframe tbody tr th:only-of-type {\n",
       "        vertical-align: middle;\n",
       "    }\n",
       "\n",
       "    .dataframe tbody tr th {\n",
       "        vertical-align: top;\n",
       "    }\n",
       "\n",
       "    .dataframe thead th {\n",
       "        text-align: right;\n",
       "    }\n",
       "</style>\n",
       "<table border=\"1\" class=\"dataframe\">\n",
       "  <thead>\n",
       "    <tr style=\"text-align: right;\">\n",
       "      <th></th>\n",
       "      <th>variant_count</th>\n",
       "      <th>variant_header_cds</th>\n",
       "      <th>variant_header</th>\n",
       "      <th>transcript_ID</th>\n",
       "      <th>gene</th>\n",
       "      <th>vcrs_count</th>\n",
       "      <th>gene_count</th>\n",
       "      <th>genotype</th>\n",
       "    </tr>\n",
       "  </thead>\n",
       "  <tbody>\n",
       "    <tr>\n",
       "      <th>441</th>\n",
       "      <td>4.0</td>\n",
       "      <td>ENST00000355826.5:c.214T&gt;C</td>\n",
       "      <td>ENST00000355826:c.253T&gt;C</td>\n",
       "      <td>ENST00000355826</td>\n",
       "      <td>ENSG00000197530</td>\n",
       "      <td>4.0</td>\n",
       "      <td>169.0</td>\n",
       "      <td>2.0</td>\n",
       "    </tr>\n",
       "    <tr>\n",
       "      <th>590</th>\n",
       "      <td>40.0</td>\n",
       "      <td>ENST00000355716.4:c.50A&gt;G</td>\n",
       "      <td>ENST00000355716:c.349A&gt;G</td>\n",
       "      <td>ENST00000355716</td>\n",
       "      <td>ENSG00000157873</td>\n",
       "      <td>40.0</td>\n",
       "      <td>782.0</td>\n",
       "      <td>1.0</td>\n",
       "    </tr>\n",
       "    <tr>\n",
       "      <th>794</th>\n",
       "      <td>4.0</td>\n",
       "      <td>ENST00000378209.3:c.954A&gt;G</td>\n",
       "      <td>ENST00000378209:c.1277A&gt;G</td>\n",
       "      <td>ENST00000378209</td>\n",
       "      <td>ENSG00000169598</td>\n",
       "      <td>4.0</td>\n",
       "      <td>94.0</td>\n",
       "      <td>1.0</td>\n",
       "    </tr>\n",
       "    <tr>\n",
       "      <th>832</th>\n",
       "      <td>3.0</td>\n",
       "      <td>ENST00000378156.4:c.3570A&gt;G</td>\n",
       "      <td>ENST00000378156:c.3836A&gt;G</td>\n",
       "      <td>ENST00000378156</td>\n",
       "      <td>ENSG00000131697</td>\n",
       "      <td>3.0</td>\n",
       "      <td>84.0</td>\n",
       "      <td>1.0</td>\n",
       "    </tr>\n",
       "    <tr>\n",
       "      <th>1233</th>\n",
       "      <td>3.0</td>\n",
       "      <td>ENST00000377403.2:c.2019T&gt;C</td>\n",
       "      <td>ENST00000377403:c.2321T&gt;C</td>\n",
       "      <td>ENST00000377403</td>\n",
       "      <td>ENSG00000049239</td>\n",
       "      <td>3.0</td>\n",
       "      <td>727.0</td>\n",
       "      <td>1.0</td>\n",
       "    </tr>\n",
       "  </tbody>\n",
       "</table>\n",
       "</div>"
      ],
      "text/plain": [
       "      variant_count           variant_header_cds             variant_header  \\\n",
       "441             4.0   ENST00000355826.5:c.214T>C   ENST00000355826:c.253T>C   \n",
       "590            40.0    ENST00000355716.4:c.50A>G   ENST00000355716:c.349A>G   \n",
       "794             4.0   ENST00000378209.3:c.954A>G  ENST00000378209:c.1277A>G   \n",
       "832             3.0  ENST00000378156.4:c.3570A>G  ENST00000378156:c.3836A>G   \n",
       "1233            3.0  ENST00000377403.2:c.2019T>C  ENST00000377403:c.2321T>C   \n",
       "\n",
       "        transcript_ID             gene  vcrs_count  gene_count  genotype  \n",
       "441   ENST00000355826  ENSG00000197530         4.0       169.0       2.0  \n",
       "590   ENST00000355716  ENSG00000157873        40.0       782.0       1.0  \n",
       "794   ENST00000378209  ENSG00000169598         4.0        94.0       1.0  \n",
       "832   ENST00000378156  ENSG00000131697         3.0        84.0       1.0  \n",
       "1233  ENST00000377403  ENSG00000049239         3.0       727.0       1.0  "
      ]
     },
     "execution_count": 23,
     "metadata": {},
     "output_type": "execute_result"
    }
   ],
   "source": [
    "adata_vcrs_single_sample.var.head()"
   ]
  },
  {
   "cell_type": "markdown",
   "metadata": {},
   "source": [
    "## Scatterplot time"
   ]
  },
  {
   "cell_type": "code",
   "execution_count": 19,
   "metadata": {},
   "outputs": [
    {
     "data": {
      "image/png": "[encoded data removed]",
      "text/plain": [
       "<Figure size 600x600 with 1 Axes>"
      ]
     },
     "metadata": {},
     "output_type": "display_data"
    }
   ],
   "source": [
    "from scipy.stats import linregress\n",
    "\n",
    "scatterplot_df = adata_vcrs_single_sample.var[[\"variant_count\", \"gene_count\", \"genotype\"]].copy()\n",
    "scatterplot_df[\"genotype\"] = scatterplot_df[\"genotype\"].astype(\"category\")\n",
    "scatterplot_df[\"genotype\"] = scatterplot_df[\"genotype\"].cat.rename_categories({0: \"homozygous_ref\", 1: \"heterozygous\", 2: \"homozygous_alt\"})\n",
    "\n",
    "scatterplot_df = scatterplot_df[(scatterplot_df[\"variant_count\"] > 0) & (scatterplot_df[\"gene_count\"] > 0)].copy()\n",
    "\n",
    "\n",
    "# Use a consistent palette\n",
    "palette = sns.color_palette(\"Set2\")\n",
    "genotypes = scatterplot_df[\"genotype\"].unique()\n",
    "genotype_colors = dict(zip(genotypes, palette))\n",
    "\n",
    "plt.figure(figsize=(6, 6))\n",
    "sns.scatterplot(\n",
    "    data=scatterplot_df,\n",
    "    y=\"variant_count\",\n",
    "    x=\"gene_count\",\n",
    "    hue=\"genotype\",\n",
    "    palette=genotype_colors,\n",
    "    alpha=0.8,\n",
    "    s=80  # adjust marker size\n",
    ")\n",
    "\n",
    "# Loop over each genotype\n",
    "for genotype, group_df in scatterplot_df.groupby(\"genotype\"):\n",
    "    x_log = np.log10(group_df[\"gene_count\"])\n",
    "    y_log = np.log10(group_df[\"variant_count\"])\n",
    "\n",
    "    slope, intercept, r_value, p_value, std_err = linregress(x_log, y_log)\n",
    "\n",
    "    x_vals = np.linspace(x_log.min(), x_log.max(), 100)\n",
    "    y_vals = slope * x_vals + intercept\n",
    "\n",
    "    label = f\"{genotype} fit: $R^2={r_value**2:.2f}$\"\n",
    "    plt.plot(10**x_vals, 10**y_vals, linestyle=\"--\", color=genotype_colors[genotype], label=label)\n",
    "\n",
    "# Plot y = x line\n",
    "lims = [\n",
    "    0,\n",
    "    np.max([scatterplot_df[\"gene_count\"].max(), scatterplot_df[\"variant_count\"].max()])\n",
    "]\n",
    "plt.plot(lims, lims, 'k--', label=\"y = x\", zorder=0)\n",
    "\n",
    "plt.title(\"Variant vs Gene Counts by Genotype\")\n",
    "plt.xscale(\"log\")\n",
    "plt.yscale(\"log\")\n",
    "plt.xlim(1, 10_000)\n",
    "plt.ylim(1, 10_000)\n",
    "plt.ylabel(\"Variant Counts\")\n",
    "plt.xlabel(\"Gene Counts\")\n",
    "plt.tight_layout()\n",
    "out_file = os.path.join(out_dir, f\"variant_vs_gene_counts_scatterplot_sample_{sample_index}_w{w}_k{k}.pdf\")\n",
    "plt.savefig(out_file, dpi=300)\n",
    "plt.show()"
   ]
  },
  {
   "cell_type": "markdown",
   "metadata": {},
   "source": [
    "## Let's see the overlap between Geuvadis RNA (varseek), Geuvadis WXS (varseek), and the Gevuadis DNA (downloaded)"
   ]
  },
  {
   "cell_type": "code",
   "execution_count": 20,
   "metadata": {},
   "outputs": [],
   "source": [
    "adata_combined_path_vcrs_wxs_final = os.path.join(sequencing_data_out_base, f\"adata_vcrs_combined_w{w}_k{k}_wxs.h5ad\")\n",
    "if not os.path.isfile(adata_combined_path_vcrs_wxs_final):\n",
    "    vk.utils.download_box_url(box_links_dict[f\"geuvadis_adata_vcrs_w{w}_k{k}_wxs\"], output_file_name=adata_combined_path_vcrs_wxs_final)\n",
    "adata_vcrs_wxs = ad.read_h5ad(adata_combined_path_vcrs_wxs_final)\n",
    "\n",
    "if \"vcrs_header\" in adata_vcrs_wxs.var.columns:\n",
    "    adata_vcrs_wxs.var[\"variant_header\"] = adata_vcrs_wxs.var[\"vcrs_header\"].copy()\n",
    "if \"variant_header\" not in adata_vcrs_wxs.var.columns:\n",
    "    adata_vcrs_wxs.var[\"variant_header\"] = adata_vcrs_wxs.var.index.copy()"
   ]
  },
  {
   "cell_type": "code",
   "execution_count": 21,
   "metadata": {},
   "outputs": [
    {
     "name": "stdout",
     "output_type": "stream",
     "text": [
      "Sample HG00377\n"
     ]
    }
   ],
   "source": [
    "sample_title = adata_vcrs.obs.iloc[sample_index]['sample_title']\n",
    "print(f\"Sample {sample_title}\")\n",
    "adata_genotype.obs.index = adata_genotype.obs.index.astype(str)\n",
    "adata_genotype.obs['sample_title'] = adata_genotype.obs.index.copy().str.slice(2)\n",
    "if sample_title not in set(adata_genotype.obs['sample_title']):\n",
    "    raise ValueError(f\"Sample title {sample_title} not found in adata_genotype.\")\n",
    "\n",
    "adata_vcrs = adata_vcrs[sample_index, :]\n",
    "adata_genotype = adata_genotype[adata_genotype.obs['sample_title'] == sample_title].copy()\n",
    "adata_vcrs_wxs = adata_vcrs_wxs[adata_vcrs_wxs.obs['sample_title'] == sample_title].copy()\n",
    "\n",
    "if min_counts is not None:\n",
    "    adata_vcrs.X = adata_vcrs.X.multiply(adata_vcrs.X >= min_counts)\n",
    "    adata_vcrs_wxs.X = adata_vcrs_wxs.X.multiply(adata_vcrs_wxs.X >= min_counts)\n",
    "\n",
    "# Filter adata_vcrs: keep only columns where the value in the first row is not 0\n",
    "nonzero_vcrs_cols = adata_vcrs.X[0] > 0\n",
    "adata_vcrs = adata_vcrs[:, nonzero_vcrs_cols]\n",
    "variants_predicted = set(adata_vcrs.var[\"variant_header\"])\n",
    "\n",
    "# Filter adata_genotype: keep only columns where the value in the first row is not 0\n",
    "nonzero_genotype_cols = adata_genotype.X[0] > 0\n",
    "adata_genotype = adata_genotype[:, nonzero_genotype_cols]\n",
    "variants_true = set(adata_genotype.var[\"variant_header\"])\n",
    "\n",
    "# Filter adata_vcrs_wxs: keep only columns where the value in the first row is not 0\n",
    "nonzero_vcrs_wxs_cols = adata_vcrs_wxs.X[0] > 0\n",
    "adata_vcrs_wxs = adata_vcrs_wxs[:, nonzero_vcrs_wxs_cols]\n",
    "variants_predicted_wxs = set(adata_vcrs_wxs.var[\"variant_header\"])\n",
    "\n",
    "data_type_to_detected_variants = {}\n",
    "data_type_to_detected_variants[\"varseek_rna\"] = variants_predicted\n",
    "data_type_to_detected_variants[\"varseek_wxs\"] = variants_predicted_wxs\n",
    "data_type_to_detected_variants[\"geuvadis_dna\"] = variants_true"
   ]
  },
  {
   "cell_type": "code",
   "execution_count": 22,
   "metadata": {},
   "outputs": [
    {
     "data": {
      "image/png": "[encoded data removed]",
      "text/plain": [
       "<Figure size 400x400 with 4 Axes>"
      ]
     },
     "metadata": {},
     "output_type": "display_data"
    }
   ],
   "source": [
    "from upsetplot import UpSet, from_contents\n",
    "variants_detected_data_for_upset = from_contents(data_type_to_detected_variants)\n",
    "ax_dict = UpSet(variants_detected_data_for_upset, subset_size='count', show_counts=True).plot()"
   ]
  },
  {
   "cell_type": "code",
   "execution_count": null,
   "metadata": {},
   "outputs": [],
   "source": [
    "# haplotypecaller_script = os.path.join(RLSRWP_2025_dir, \"scripts\", \"run_gatk_haplotypecaller_for_benchmarking.py\")\n",
    "# fastq1 = \"\"\n",
    "# fastq2 = \"\"\n",
    "\n",
    "# reference_genome_fasta = \"data/reference/ensembl_grch37_release93/Homo_sapiens.GRCh37.dna.primary_assembly.fa\"\n",
    "# reference_genome_gtf = \"data/reference/ensembl_grch37_release93/Homo_sapiens.GRCh37.87.gtf\"\n",
    "# genomes1000_vcf = \"data/reference/ensembl_grch37_release93/1000GENOMES-phase_3.vcf\"\n",
    "# star_genome_dir = \"data/reference/ensembl_grch37_release93/star_reference\"\n",
    "# cosmic_tsv = \"data/reference/cosmic/CancerMutationCensus_AllData_Tsv_v101_GRCh37/CancerMutationCensus_AllData_v101_GRCh37.tsv\"\n",
    "\n",
    "# read_length = 75\n",
    "# threads = 16\n",
    "\n",
    "# java = \"/home/jmrich/opt/jdk-17.0.12+7/bin/java\"\n",
    "# picard_jar = \"/home/jmrich/opt/picard.jar\"\n",
    "\n",
    "# !python {haplotypecaller_script} \\\n",
    "# --synthetic_read_fastq {fastq1} \\\n",
    "# --synthetic_read_fastq2 {fastq2} \\\n",
    "# --out tmp \\\n",
    "# --reference_genome_fasta {reference_genome_fasta} \\\n",
    "# --reference_genome_gtf {reference_genome_gtf} \\\n",
    "# --genomes1000_vcf {genomes1000_vcf} \\\n",
    "# --star_genome_dir {star_genome_dir} \\\n",
    "# --java {java} \\\n",
    "# --picard_jar {picard_jar} \\\n",
    "# --threads {threads} \\\n",
    "# --read_length {read_length} \\\n",
    "# --dont_disable_tool_default_read_filters \\\n",
    "# --skip_accuracy_analysis"
   ]
  }
 ],
 "metadata": {
  "kernelspec": {
   "display_name": "varseek2",
   "language": "python",
   "name": "python3"
  },
  "language_info": {
   "codemirror_mode": {
    "name": "ipython",
    "version": 3
   },
   "file_extension": ".py",
   "mimetype": "text/x-python",
   "name": "python",
   "nbconvert_exporter": "python",
   "pygments_lexer": "ipython3",
   "version": "3.10.16"
  }
 },
 "nbformat": 4,
 "nbformat_minor": 2
}
