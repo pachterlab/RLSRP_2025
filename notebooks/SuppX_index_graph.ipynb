{
 "cells": [
  {
   "cell_type": "code",
   "execution_count": null,
   "metadata": {},
   "outputs": [],
   "source": [
    "try:\n",
    "    import varseek as vk\n",
    "except ImportError:\n",
    "    print(\"varseek not found, installing...\")\n",
    "    !pip install -U -q varseek\n",
    "# try:\n",
    "#     import RLSRP_2025\n",
    "# except ImportError:\n",
    "#     print(\"RLSRP_2025 not found, installing...\")\n",
    "#     !pip install -q git+https://github.com/pachterlab/RLSRP_2025.git"
   ]
  },
  {
   "cell_type": "code",
   "execution_count": null,
   "metadata": {},
   "outputs": [
    {
     "name": "stderr",
     "output_type": "stream",
     "text": [
      "12:08:16 - INFO - Old pandas version detected. Patching DataFrame.map to DataFrame.applymap\n"
     ]
    }
   ],
   "source": [
    "import os\n",
    "from varseek.utils import download_box_url\n",
    "\n",
    "RLSRP_2025_dir = os.path.dirname(os.path.abspath(\"\"))  # if this notebook resides in RLSRP_2025/notebooks/0_data_download.ipynb, then this retrieves RLSRP_2025"
   ]
  },
  {
   "cell_type": "code",
   "execution_count": null,
   "metadata": {},
   "outputs": [],
   "source": [
    "number_of_VCRSs_list = [5_000, 25_000, 50_000]  # integers or \"all\" - note that having too many unique sequences (like \"all\" for cosmic_cmc, which is ~5.3M) will produce an essentially empty picture\n",
    "subsampling_method = \"first\"  # \"random\" or \"first\"\n",
    "random_seed = 42  # only if random subsampling fasta file\n",
    "threads = 8  # only if subsampling fasta file\n",
    "\n",
    "# parameters\n",
    "vk_ref_out_dir = os.path.join(RLSRP_2025_dir, \"data\", \"vk_ref_out\")  # either already created from vk ref, or will be created with downloaded files\n",
    "w = 47  # only if downloading index/fasta files - see vk ref --list_downloadable_references for details on available options for download\n",
    "k = 51  # only if downloading index/fasta files, or subsampling fasta file - see vk ref --list_downloadable_references for details on available options for download\n",
    "dlist_reference_source = \"t2t\"  # only if downloading index/fasta files - see vk ref --list_downloadable_references for details on available options for download\n",
    "\n",
    "# software - kallisto will be downloaded from Box if not present; Bandage must be downloaded manually (recommendations given below)\n",
    "kallisto = \"kallisto_base_feb25/kallisto/build/src/kallisto\"\n",
    "Bandage = \"Bandage/Bandage_Ubuntu-x86-64_v0.9.0.AppImage\"\n",
    "\n",
    "# output paths to be downloaded (if not already present) or created\n",
    "vcrs_fasta = os.path.join(vk_ref_out_dir, \"vcrs_fasta.fa\")\n",
    "vcrs_index = os.path.join(vk_ref_out_dir, \"vcrs_index.idx\")\n",
    "kallisto_inspect_txt_out_path = os.path.join(vk_ref_out_dir, \"kallisto_inspect.txt\")\n",
    "gfa_out_path = os.path.join(vk_ref_out_dir, \"vcrs_index.gfa\")\n",
    "jpg_out_path = os.path.join(vk_ref_out_dir, \"vcrs_index.jpg\")"
   ]
  },
  {
   "cell_type": "code",
   "execution_count": null,
   "metadata": {},
   "outputs": [],
   "source": [
    "# download the index file if it does not exist - or run scripts/run_vk_ref_fig1_3_4.py\n",
    "if not os.path.exists(vcrs_index):  # download the index file via varseek ref\n",
    "    import varseek as vk\n",
    "    vk.ref(\n",
    "        variants=\"cosmic_cmc\",\n",
    "        sequences=\"cdna\",\n",
    "        w=w,\n",
    "        k=k,\n",
    "        dlist_reference_source=dlist_reference_source,\n",
    "        download=True,\n",
    "        index_out=vcrs_index,\n",
    "        fasta_out=vcrs_fasta,\n",
    "        t2g_out=os.path.join(vk_ref_out_dir, \"vcrs_t2g.txt\")   \n",
    "    )"
   ]
  },
  {
   "cell_type": "markdown",
   "metadata": {},
   "source": [
    "# Install kallisto - download the pre-compiled binary with the cell below, which was generated with the following procedure\n",
    "- git clone https://github.com/pachterlab/kallisto.git\n",
    "- cd kallisto\n",
    "- *uncomment the line here* - https://github.com/pachterlab/kallisto/blob/ba7da287c8f20400eb15e2ab8c51d0a4309fa4fc/src/Inspect.h#L145\n",
    "- *replace the graph.write_sequence(std::to_string(labelA), seq.size(), seq, unitig.getData()->serialize(unitig)); line in kallisto/ext/bifrost/src/IO.tcc with the following*: `graph.write_sequence(std::to_string(labelA), seq.size(), seq, /*unitig.getData()->serialize(unitig)*/\"\");`\n",
    "- cd ext/htslib\n",
    "- autoreconf -i\n",
    "- libtoolize --force\n",
    "- aclocal\n",
    "- autoheader\n",
    "- automake --force-missing --add-missing\n",
    "- cd ../..\n",
    "- mkdir build && cd build\n",
    "- cmake .. -DMAX_KMER_SIZE=64\n",
    "- make"
   ]
  },
  {
   "cell_type": "code",
   "execution_count": 6,
   "metadata": {},
   "outputs": [],
   "source": [
    "if not os.path.exists(kallisto):\n",
    "    # download kallisto binary\n",
    "    if os.path.dirname(kallisto):\n",
    "        output_folder = os.path.dirname(kallisto)\n",
    "    else:\n",
    "        output_folder = \".\"\n",
    "    CUSTOM_KALLISTO_COMPILED_BINARY_URL = \"https://caltech.box.com/shared/static/4ildxlz5o2flrutwama0rpiqk8119fgb\"\n",
    "    download_box_url(CUSTOM_KALLISTO_COMPILED_BINARY_URL, output_folder=output_folder, output_file_name=\"kallisto\")"
   ]
  },
  {
   "cell_type": "markdown",
   "metadata": {},
   "source": [
    "# Install Bandage - see https://rrwick.github.io/Bandage/\n",
    "\n",
    "System-dependent instructions, but here is what I used for Linux\n",
    "- wget https://github.com/rrwick/Bandage/releases/download/v0.9.0/Bandage_Ubuntu-x86-64_v0.9.0_AppImage.zip\n",
    "- unzip Bandage_Ubuntu-x86-64_v0.9.0_AppImage.zip -d Bandage\n",
    "- cd Bandage\n",
    "- chmod +x Bandage_Ubuntu-x86-64_v0.9.0.AppImage"
   ]
  },
  {
   "cell_type": "code",
   "execution_count": 6,
   "metadata": {},
   "outputs": [],
   "source": [
    "if not os.path.exists(Bandage):\n",
    "    print(\"Please download Bandage to proceed\")"
   ]
  },
  {
   "cell_type": "markdown",
   "metadata": {},
   "source": [
    "# Install seqtk\n",
    "conda install -c bioconda -y seqtk"
   ]
  },
  {
   "cell_type": "markdown",
   "metadata": {},
   "source": [
    "# Run kallisto inspect and make the plot"
   ]
  },
  {
   "cell_type": "code",
   "execution_count": null,
   "metadata": {},
   "outputs": [],
   "source": [
    "if isinstance(number_of_VCRSs_list, (int, str)):\n",
    "    number_of_VCRSs_list = [number_of_VCRSs_list]\n",
    "\n",
    "for number_of_VCRSs in number_of_VCRSs_list:\n",
    "    vcrs_fasta_subsampled = os.path.join(vk_ref_out_dir, f\"vcrs_fasta_{number_of_VCRSs}_{subsampling_method}_VCRSs.fa\")\n",
    "    vcrs_index = os.path.join(vk_ref_out_dir, f\"vcrs_index_{number_of_VCRSs}_{subsampling_method}_VCRSs.idx\")\n",
    "    kallisto_inspect_txt_out_path = os.path.join(vk_ref_out_dir, f\"kallisto_inspect_{number_of_VCRSs}_{subsampling_method}_VCRSs.txt\")\n",
    "    gfa_out_path = os.path.join(vk_ref_out_dir, f\"vcrs_index_{number_of_VCRSs}_{subsampling_method}_VCRSs.gfa\")\n",
    "    jpg_out_path = os.path.join(vk_ref_out_dir, f\"vcrs_index_{number_of_VCRSs}_{subsampling_method}_VCRSs.jpg\")\n",
    "    if number_of_VCRSs != \"all\":\n",
    "        # old method (took head instead of random): , \n",
    "        if subsampling_method == \"random\":\n",
    "            !seqtk sample -s {random_seed} {vcrs_fasta} {number_of_VCRSs} > {vcrs_fasta_subsampled}\n",
    "        elif subsampling_method == \"first\":\n",
    "            number_of_lines = number_of_VCRSs * 2  # assumes each fasta sequence takes exactly 1 line\n",
    "            !head -n {number_of_lines} {vcrs_fasta} > {vcrs_fasta_subsampled}\n",
    "        !kb ref --workflow custom -t {threads} -k {k} -i {vcrs_index} {vcrs_fasta_subsampled}\n",
    "    kallist_inspect_output = !{kallisto} inspect {vcrs_index} --gfa={gfa_out_path}\n",
    "    !{Bandage} image {gfa_out_path} {jpg_out_path}\n",
    "\n",
    "    with open(kallisto_inspect_txt_out_path, \"w\") as f:  # can't redirect to output because some of the output is printed to stdout\n",
    "        f.write(\"\\n\".join(kallist_inspect_output) + \"\\n\")"
   ]
  }
 ],
 "metadata": {
  "kernelspec": {
   "display_name": "RLSRP_2025",
   "language": "python",
   "name": "python3"
  },
  "language_info": {
   "codemirror_mode": {
    "name": "ipython",
    "version": 3
   },
   "file_extension": ".py",
   "mimetype": "text/x-python",
   "name": "python",
   "nbconvert_exporter": "python",
   "pygments_lexer": "ipython3",
   "version": "3.10.9"
  }
 },
 "nbformat": 4,
 "nbformat_minor": 2
}
