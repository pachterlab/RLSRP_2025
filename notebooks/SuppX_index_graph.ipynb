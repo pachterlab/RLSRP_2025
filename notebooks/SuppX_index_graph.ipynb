{
 "cells": [
  {
   "cell_type": "code",
   "execution_count": null,
   "metadata": {},
   "outputs": [],
   "source": [
    "import os\n",
    "from varseek.utils import download_box_url"
   ]
  },
  {
   "cell_type": "code",
   "execution_count": null,
   "metadata": {},
   "outputs": [],
   "source": [
    "vcrs_index = \"index.idx\"\n",
    "gfa_out_path = \"index.gfa\"\n",
    "jpg_out_path = \"index.jpg\"\n",
    "kallisto = \"/home/jrich/Desktop/kallisto_base_feb25/kallisto/build/src/kallisto\"\n",
    "Bandage = \"/home/jrich/opt/Bandage/Bandage_Ubuntu-x86-64_v0.9.0.AppImage\""
   ]
  },
  {
   "cell_type": "code",
   "execution_count": 1,
   "metadata": {},
   "outputs": [],
   "source": [
    "# run the kb ref t2t script if index does not exist"
   ]
  },
  {
   "cell_type": "markdown",
   "metadata": {},
   "source": [
    "# install kallisto\n",
    "- git clone https://github.com/pachterlab/kallisto.git\n",
    "- cd kallisto\n",
    "- uncomment the line here - https://github.com/pachterlab/kallisto/blob/ba7da287c8f20400eb15e2ab8c51d0a4309fa4fc/src/Inspect.h#L145\n",
    "- *replace the graph.write_sequence(std::to_string(labelA), seq.size(), seq, unitig.getData()->serialize(unitig)); line in kallisto/ext/bifrost/src/IO.tcc with the following*: `graph.write_sequence(std::to_string(labelA), seq.size(), seq, /*unitig.getData()->serialize(unitig)*/\"\");`\n",
    "- cd ext/htslib\n",
    "- autoreconf -i\n",
    "- libtoolize --force\n",
    "- aclocal\n",
    "- autoheader\n",
    "- automake --force-missing --add-missing\n",
    "- cd ../..\n",
    "- mkdir build && cd build\n",
    "- cmake .. -DMAX_KMER_SIZE=64\n",
    "- make"
   ]
  },
  {
   "cell_type": "code",
   "execution_count": null,
   "metadata": {},
   "outputs": [],
   "source": [
    "if not os.path.exists(kallisto):\n",
    "    # download kallisto binary\n",
    "    if os.path.dirname(kallisto):\n",
    "        output_folder = os.path.dirname(kallisto)\n",
    "    else:\n",
    "        output_folder = \".\"\n",
    "    CUSTOM_KALLISTO_COMPILED_BINARY_URL = \"https://caltech.box.com/shared/static/4ildxlz5o2flrutwama0rpiqk8119fgb\"\n",
    "    download_box_url(CUSTOM_KALLISTO_COMPILED_BINARY_URL, output_folder=output_folder, output_file_name=\"kallisto\")"
   ]
  },
  {
   "cell_type": "markdown",
   "metadata": {},
   "source": [
    "# Install Bandage\n",
    "- wget https://github.com/rrwick/Bandage/releases/download/v0.9.0/Bandage_Ubuntu-x86-64_v0.9.0_AppImage.zip\n",
    "- unzip Bandage_Ubuntu-x86-64_v0.9.0_AppImage.zip -d Bandage\n",
    "- cd Bandage\n",
    "- chmod +x Bandage_Ubuntu-x86-64_v0.9.0.AppImage"
   ]
  },
  {
   "cell_type": "code",
   "execution_count": null,
   "metadata": {},
   "outputs": [],
   "source": [
    "!{kallisto} inspect {vcrs_index} --gfa={gfa_out_path}\n",
    "!{Bandage} image {gfa_out_path} {jpg_out_path}"
   ]
  }
 ],
 "metadata": {
  "kernelspec": {
   "display_name": "RLSRWP_2025",
   "language": "python",
   "name": "python3"
  },
  "language_info": {
   "codemirror_mode": {
    "name": "ipython",
    "version": 3
   },
   "file_extension": ".py",
   "mimetype": "text/x-python",
   "name": "python",
   "nbconvert_exporter": "python",
   "pygments_lexer": "ipython3",
   "version": "3.10.16"
  }
 },
 "nbformat": 4,
 "nbformat_minor": 2
}
