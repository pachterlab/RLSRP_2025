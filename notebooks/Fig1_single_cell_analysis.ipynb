{
 "cells": [
  {
   "cell_type": "markdown",
   "metadata": {},
   "source": [
    "# Single cell analysis"
   ]
  },
  {
   "cell_type": "code",
   "execution_count": 1,
   "metadata": {},
   "outputs": [],
   "source": [
    "# try:\n",
    "#     import varseek as vk\n",
    "# except ImportError:\n",
    "#     print(\"varseek not found, installing...\")\n",
    "#     !pip install -U -q varseek\n",
    "# try:\n",
    "#     import RLSRWP_2025\n",
    "# except ImportError:\n",
    "#     print(\"RLSRWP_2025 not found, installing...\")\n",
    "#     !pip install -q git+https://github.com/pachterlab/RLSRWP_2025.git\n",
    "# try:\n",
    "#     import gget\n",
    "# except ImportError:\n",
    "#     print(\"gget not found, installing...\")\n",
    "#     !pip install -U -q gget"
   ]
  },
  {
   "cell_type": "code",
   "execution_count": null,
   "metadata": {},
   "outputs": [],
   "source": [
    "import os\n",
    "import anndata as ad\n",
    "import pandas as pd\n",
    "import gget\n",
    "import subprocess\n",
    "import ast\n",
    "import numpy as np\n",
    "import varseek as vk\n",
    "from RLSRWP_2025.constants import box_links_dict\n",
    "\n",
    "RLSRWP_2025_dir = os.path.dirname(os.path.abspath(\"\"))  # if this notebook resides in RLSRWP_2025/notebooks/0_data_download.ipynb, then this retrieves RLSRWP_2025"
   ]
  },
  {
   "cell_type": "code",
   "execution_count": 30,
   "metadata": {},
   "outputs": [],
   "source": [
    "n = 3\n",
    "sorting_column = \"vcrs_count\"  # \"vcrs_count\" (sort by variant), \"gene_count\" (sort by gene), etc\n",
    "\n",
    "vk_count_out_dir = os.path.join(RLSRWP_2025_dir, \"data\", \"vk_count_out_fig1\")\n",
    "adata_path = os.path.join(vk_count_out_dir, \"adata_cleaned.h5ad\")\n",
    "adata_reference_genome_path = os.path.join(vk_count_out_dir, \"adata_reference_genome_cleaned.h5ad\")\n",
    "\n",
    "out_dir = os.path.join(vk_count_out_dir, \"analysis\", \"single_cell_analysis\")\n",
    "\n",
    "cbioportal_mutated_genes_path = os.path.join(out_dir, \"Mutated_Genes.txt\")\n",
    "gbm_metadata_path = os.path.join(out_dir, \"GBM_metadata.csv\")\n",
    "\n",
    "reference_dir = os.path.join(RLSRWP_2025_dir, \"data\", \"reference\")\n",
    "cosmic_csv = os.path.join(reference_dir, \"cosmic\", \"CancerMutationCensus_AllData_Tsv_v101_GRCh37\", \"CancerMutationCensus_AllData_v101_GRCh37_mutation_workflow.csv\")\n",
    "sequences_cds = os.path.join(reference_dir, \"ensembl_grch37_release93\", \"Homo_sapiens.GRCh37.cds.all.fa\")\n",
    "sequences_cdna = os.path.join(reference_dir, \"ensembl_grch37_release93\", \"Homo_sapiens.GRCh37.cdna.all.fa\")"
   ]
  },
  {
   "cell_type": "markdown",
   "metadata": {},
   "source": [
    "Download data"
   ]
  },
  {
   "cell_type": "code",
   "execution_count": null,
   "metadata": {},
   "outputs": [],
   "source": [
    "if not os.path.isfile(adata_path):\n",
    "    vk.utils.download_box_url(box_links_dict[\"glioblastoma_smartseq_adata_vcrs\"], output_file_name=adata_path)\n",
    "if not os.path.isfile(adata_reference_genome_path):\n",
    "    vk.utils.download_box_url(box_links_dict[\"glioblastoma_smartseq_adata_reference_genome\"], output_file_name=adata_reference_genome_path)\n",
    "if not os.path.isfile(cosmic_csv):\n",
    "    vk.utils.download_box_url(box_links_dict[\"cosmic_csv\"], output_file_name=cosmic_csv)\n",
    "if not os.path.isfile(gbm_metadata_path):\n",
    "    vk.utils.download_box_url(box_links_dict[\"gbm_metadata\"], output_file_name=gbm_metadata_path)\n",
    "if not os.path.isfile(cbioportal_mutated_genes_path):\n",
    "    vk.utils.download_box_url(box_links_dict[\"cbioportal_mutated_genes\"], output_file_name=cbioportal_mutated_genes_path)\n",
    "\n",
    "os.makedirs(out_dir, exist_ok=True)"
   ]
  },
  {
   "cell_type": "code",
   "execution_count": 38,
   "metadata": {},
   "outputs": [],
   "source": [
    "adata = ad.read_h5ad(adata_path)\n",
    "adata_reference_genome = ad.read_h5ad(adata_reference_genome_path)\n",
    "\n",
    "cosmic_df = pd.read_csv(cosmic_csv)\n",
    "metadata_df = pd.read_csv(gbm_metadata_path, sep=\" \")\n",
    "cbioportal_mutated_genes_df = pd.read_csv(cbioportal_mutated_genes_path, sep=\"\\t\")"
   ]
  },
  {
   "cell_type": "code",
   "execution_count": 39,
   "metadata": {},
   "outputs": [
    {
     "data": {
      "application/vnd.microsoft.datawrangler.viewer.v0+json": {
       "columns": [
        {
         "name": "variant",
         "rawType": "object",
         "type": "string"
        },
        {
         "name": "vcrs_id",
         "rawType": "object",
         "type": "string"
        },
        {
         "name": "vcrs_header",
         "rawType": "object",
         "type": "string"
        },
        {
         "name": "seq_ID",
         "rawType": "category",
         "type": "unknown"
        },
        {
         "name": "mutation_cdna",
         "rawType": "category",
         "type": "unknown"
        },
        {
         "name": "nucleotide_positions",
         "rawType": "category",
         "type": "unknown"
        },
        {
         "name": "actual_variant",
         "rawType": "category",
         "type": "unknown"
        },
        {
         "name": "start_variant_position",
         "rawType": "category",
         "type": "unknown"
        },
        {
         "name": "end_variant_position",
         "rawType": "category",
         "type": "unknown"
        },
        {
         "name": "variant_source",
         "rawType": "category",
         "type": "unknown"
        },
        {
         "name": "gene_name",
         "rawType": "category",
         "type": "unknown"
        },
        {
         "name": "vcrs_header_with_gene_name",
         "rawType": "object",
         "type": "string"
        },
        {
         "name": "vcrs_count",
         "rawType": "float32",
         "type": "float"
        },
        {
         "name": "vcrs_detected",
         "rawType": "bool",
         "type": "boolean"
        },
        {
         "name": "gene_count",
         "rawType": "category",
         "type": "unknown"
        },
        {
         "name": "number_obs",
         "rawType": "Int32",
         "type": "integer"
        }
       ],
       "conversionMethod": "pd.DataFrame",
       "ref": "1840cc2f-f3ee-4ac0-9c96-ea13b77a6a29",
       "rows": [
        [
         "ENST00000391429:c.194C>T",
         "ENST00000391429:c.194C>T",
         "ENST00000391429:c.194C>T",
         "ENST00000391429",
         "c.194C>T",
         "194",
         "C>T",
         "194.0",
         "194.0",
         "transcriptome",
         "ENSG00000205899",
         "ENSG00000205899(ENST00000391429):c.194C>T",
         "0.0",
         "False",
         "0",
         "0"
        ],
        [
         "ENST00000391429:c.128C>A",
         "ENST00000391429:c.128C>A",
         "ENST00000391429:c.128C>A",
         "ENST00000391429",
         "c.128C>A",
         "128",
         "C>A",
         "128.0",
         "128.0",
         "transcriptome",
         "ENSG00000205899",
         "ENSG00000205899(ENST00000391429):c.128C>A",
         "0.0",
         "False",
         "0",
         "0"
        ]
       ],
       "shape": {
        "columns": 15,
        "rows": 2
       }
      },
      "text/html": [
       "<div>\n",
       "<style scoped>\n",
       "    .dataframe tbody tr th:only-of-type {\n",
       "        vertical-align: middle;\n",
       "    }\n",
       "\n",
       "    .dataframe tbody tr th {\n",
       "        vertical-align: top;\n",
       "    }\n",
       "\n",
       "    .dataframe thead th {\n",
       "        text-align: right;\n",
       "    }\n",
       "</style>\n",
       "<table border=\"1\" class=\"dataframe\">\n",
       "  <thead>\n",
       "    <tr style=\"text-align: right;\">\n",
       "      <th></th>\n",
       "      <th>vcrs_id</th>\n",
       "      <th>vcrs_header</th>\n",
       "      <th>seq_ID</th>\n",
       "      <th>mutation_cdna</th>\n",
       "      <th>nucleotide_positions</th>\n",
       "      <th>actual_variant</th>\n",
       "      <th>start_variant_position</th>\n",
       "      <th>end_variant_position</th>\n",
       "      <th>variant_source</th>\n",
       "      <th>gene_name</th>\n",
       "      <th>vcrs_header_with_gene_name</th>\n",
       "      <th>vcrs_count</th>\n",
       "      <th>vcrs_detected</th>\n",
       "      <th>gene_count</th>\n",
       "      <th>number_obs</th>\n",
       "    </tr>\n",
       "    <tr>\n",
       "      <th>variant</th>\n",
       "      <th></th>\n",
       "      <th></th>\n",
       "      <th></th>\n",
       "      <th></th>\n",
       "      <th></th>\n",
       "      <th></th>\n",
       "      <th></th>\n",
       "      <th></th>\n",
       "      <th></th>\n",
       "      <th></th>\n",
       "      <th></th>\n",
       "      <th></th>\n",
       "      <th></th>\n",
       "      <th></th>\n",
       "      <th></th>\n",
       "    </tr>\n",
       "  </thead>\n",
       "  <tbody>\n",
       "    <tr>\n",
       "      <th>ENST00000391429:c.194C&gt;T</th>\n",
       "      <td>ENST00000391429:c.194C&gt;T</td>\n",
       "      <td>ENST00000391429:c.194C&gt;T</td>\n",
       "      <td>ENST00000391429</td>\n",
       "      <td>c.194C&gt;T</td>\n",
       "      <td>194</td>\n",
       "      <td>C&gt;T</td>\n",
       "      <td>194.0</td>\n",
       "      <td>194.0</td>\n",
       "      <td>transcriptome</td>\n",
       "      <td>ENSG00000205899</td>\n",
       "      <td>ENSG00000205899(ENST00000391429):c.194C&gt;T</td>\n",
       "      <td>0.0</td>\n",
       "      <td>False</td>\n",
       "      <td>0</td>\n",
       "      <td>0</td>\n",
       "    </tr>\n",
       "    <tr>\n",
       "      <th>ENST00000391429:c.128C&gt;A</th>\n",
       "      <td>ENST00000391429:c.128C&gt;A</td>\n",
       "      <td>ENST00000391429:c.128C&gt;A</td>\n",
       "      <td>ENST00000391429</td>\n",
       "      <td>c.128C&gt;A</td>\n",
       "      <td>128</td>\n",
       "      <td>C&gt;A</td>\n",
       "      <td>128.0</td>\n",
       "      <td>128.0</td>\n",
       "      <td>transcriptome</td>\n",
       "      <td>ENSG00000205899</td>\n",
       "      <td>ENSG00000205899(ENST00000391429):c.128C&gt;A</td>\n",
       "      <td>0.0</td>\n",
       "      <td>False</td>\n",
       "      <td>0</td>\n",
       "      <td>0</td>\n",
       "    </tr>\n",
       "  </tbody>\n",
       "</table>\n",
       "</div>"
      ],
      "text/plain": [
       "                                           vcrs_id               vcrs_header  \\\n",
       "variant                                                                        \n",
       "ENST00000391429:c.194C>T  ENST00000391429:c.194C>T  ENST00000391429:c.194C>T   \n",
       "ENST00000391429:c.128C>A  ENST00000391429:c.128C>A  ENST00000391429:c.128C>A   \n",
       "\n",
       "                                   seq_ID mutation_cdna nucleotide_positions  \\\n",
       "variant                                                                        \n",
       "ENST00000391429:c.194C>T  ENST00000391429      c.194C>T                  194   \n",
       "ENST00000391429:c.128C>A  ENST00000391429      c.128C>A                  128   \n",
       "\n",
       "                         actual_variant start_variant_position  \\\n",
       "variant                                                          \n",
       "ENST00000391429:c.194C>T            C>T                  194.0   \n",
       "ENST00000391429:c.128C>A            C>A                  128.0   \n",
       "\n",
       "                         end_variant_position variant_source        gene_name  \\\n",
       "variant                                                                         \n",
       "ENST00000391429:c.194C>T                194.0  transcriptome  ENSG00000205899   \n",
       "ENST00000391429:c.128C>A                128.0  transcriptome  ENSG00000205899   \n",
       "\n",
       "                                         vcrs_header_with_gene_name  \\\n",
       "variant                                                               \n",
       "ENST00000391429:c.194C>T  ENSG00000205899(ENST00000391429):c.194C>T   \n",
       "ENST00000391429:c.128C>A  ENSG00000205899(ENST00000391429):c.128C>A   \n",
       "\n",
       "                          vcrs_count  vcrs_detected gene_count  number_obs  \n",
       "variant                                                                     \n",
       "ENST00000391429:c.194C>T         0.0          False          0           0  \n",
       "ENST00000391429:c.128C>A         0.0          False          0           0  "
      ]
     },
     "execution_count": 39,
     "metadata": {},
     "output_type": "execute_result"
    }
   ],
   "source": [
    "adata.var.head(2)"
   ]
  },
  {
   "cell_type": "code",
   "execution_count": 40,
   "metadata": {},
   "outputs": [],
   "source": [
    "adata = adata[:, np.array((adata.X != 0).sum(axis=0)).flatten() > 0]  # Identify columns (variants) with non-zero counts across samples\n",
    "adata = adata[:, ~adata.var_names.str.contains(\";\")]  # Identify columns (variants) with semicolon in name\n",
    "adata.var = adata.var.drop(columns=[\"vcrs_id\", \"vcrs_detected\", \"variant_source\"])  # drop vcrs_id (because it is a duplicate of vcrs_header)\n",
    "adata.var = adata.var.rename(columns={\"vcrs_header\": \"variant_name\", \"gene_name\": \"gene_id\", \"vcrs_header_with_gene_name\": \"variant_name_with_gene_id\", \"vcrs_count\": \"variant_count\"})\n",
    "adata.var = adata.var.merge(cosmic_df[[\"seq_ID\", \"gene_name\"]].drop_duplicates(\"seq_ID\"), on=\"seq_ID\", how=\"left\").rename(columns={\"gene_name\": \"gene_symbol\"})\n",
    "\n",
    "adata.var[\"VAF\"] = adata.var[\"number_obs\"] / adata.shape[0]  # fraction of cells with variant\n",
    "\n",
    "adata.var['variant_name_with_gene_name'] = (\n",
    "    adata.var[\"gene_symbol\"] + \"(\" +\n",
    "    adata.var[\"variant_name\"].str.split(\":\").str[0] + \"):\" +\n",
    "    adata.var[\"variant_name\"].str.split(\":\").str[1]\n",
    ")\n",
    "\n",
    "\n",
    "# reorder columns in adata.var\n",
    "priority_cols = [\n",
    "    \"variant_name\",\n",
    "    \"gene_symbol\",\n",
    "    \"variant_count\",\n",
    "    \"gene_count\",\n",
    "    \"number_obs\",\n",
    "    \"VAF\"\n",
    "]\n",
    "\n",
    "# Get the remaining columns not in the priority list\n",
    "remaining_cols = [col for col in adata.var.columns if col not in priority_cols]\n",
    "\n",
    "# Reorder adata.var\n",
    "adata.var = adata.var[priority_cols + remaining_cols]"
   ]
  },
  {
   "cell_type": "code",
   "execution_count": 41,
   "metadata": {},
   "outputs": [
    {
     "data": {
      "application/vnd.microsoft.datawrangler.viewer.v0+json": {
       "columns": [
        {
         "name": "index",
         "rawType": "int64",
         "type": "integer"
        },
        {
         "name": "variant_name",
         "rawType": "object",
         "type": "string"
        },
        {
         "name": "gene_symbol",
         "rawType": "object",
         "type": "string"
        },
        {
         "name": "variant_count",
         "rawType": "float32",
         "type": "float"
        },
        {
         "name": "gene_count",
         "rawType": "category",
         "type": "unknown"
        },
        {
         "name": "number_obs",
         "rawType": "Int32",
         "type": "integer"
        },
        {
         "name": "VAF",
         "rawType": "Float64",
         "type": "float"
        },
        {
         "name": "seq_ID",
         "rawType": "object",
         "type": "string"
        },
        {
         "name": "mutation_cdna",
         "rawType": "category",
         "type": "unknown"
        },
        {
         "name": "nucleotide_positions",
         "rawType": "category",
         "type": "unknown"
        },
        {
         "name": "actual_variant",
         "rawType": "category",
         "type": "unknown"
        },
        {
         "name": "start_variant_position",
         "rawType": "category",
         "type": "unknown"
        },
        {
         "name": "end_variant_position",
         "rawType": "category",
         "type": "unknown"
        },
        {
         "name": "gene_id",
         "rawType": "category",
         "type": "unknown"
        },
        {
         "name": "variant_name_with_gene_id",
         "rawType": "object",
         "type": "string"
        },
        {
         "name": "variant_name_with_gene_name",
         "rawType": "object",
         "type": "string"
        }
       ],
       "conversionMethod": "pd.DataFrame",
       "ref": "ce9c5456-2f89-48a1-96a8-be6057633f54",
       "rows": [
        [
         "0",
         "ENST00000396153:c.1592C>T",
         "FAF1",
         "3.0",
         "49",
         "1",
         "0.00027862914460852607",
         "ENST00000396153",
         "c.1592C>T",
         "1592",
         "C>T",
         "1592.0",
         "1592.0",
         "ENSG00000185104",
         "ENSG00000185104(ENST00000396153):c.1592C>T",
         "FAF1(ENST00000396153):c.1592C>T"
        ],
        [
         "1",
         "ENST00000396153:c.2261A>G",
         "FAF1",
         "5.0",
         "49",
         "2",
         "0.0005572582892170521",
         "ENST00000396153",
         "c.2261A>G",
         "2261",
         "A>G",
         "2261.0",
         "2261.0",
         "ENSG00000185104",
         "ENSG00000185104(ENST00000396153):c.2261A>G",
         "FAF1(ENST00000396153):c.2261A>G"
        ],
        [
         "2",
         "ENST00000396153:c.1823G>A",
         "FAF1",
         "5.0",
         "49",
         "1",
         "0.00027862914460852607",
         "ENST00000396153",
         "c.1823G>A",
         "1823",
         "G>A",
         "1823.0",
         "1823.0",
         "ENSG00000185104",
         "ENSG00000185104(ENST00000396153):c.1823G>A",
         "FAF1(ENST00000396153):c.1823G>A"
        ],
        [
         "3",
         "ENST00000396153:c.1391G>T",
         "FAF1",
         "2.0",
         "49",
         "1",
         "0.00027862914460852607",
         "ENST00000396153",
         "c.1391G>T",
         "1391",
         "G>T",
         "1391.0",
         "1391.0",
         "ENSG00000185104",
         "ENSG00000185104(ENST00000396153):c.1391G>T",
         "FAF1(ENST00000396153):c.1391G>T"
        ],
        [
         "4",
         "ENST00000396153:c.1325C>T",
         "FAF1",
         "3.0",
         "49",
         "1",
         "0.00027862914460852607",
         "ENST00000396153",
         "c.1325C>T",
         "1325",
         "C>T",
         "1325.0",
         "1325.0",
         "ENSG00000185104",
         "ENSG00000185104(ENST00000396153):c.1325C>T",
         "FAF1(ENST00000396153):c.1325C>T"
        ]
       ],
       "shape": {
        "columns": 15,
        "rows": 5
       }
      },
      "text/html": [
       "<div>\n",
       "<style scoped>\n",
       "    .dataframe tbody tr th:only-of-type {\n",
       "        vertical-align: middle;\n",
       "    }\n",
       "\n",
       "    .dataframe tbody tr th {\n",
       "        vertical-align: top;\n",
       "    }\n",
       "\n",
       "    .dataframe thead th {\n",
       "        text-align: right;\n",
       "    }\n",
       "</style>\n",
       "<table border=\"1\" class=\"dataframe\">\n",
       "  <thead>\n",
       "    <tr style=\"text-align: right;\">\n",
       "      <th></th>\n",
       "      <th>variant_name</th>\n",
       "      <th>gene_symbol</th>\n",
       "      <th>variant_count</th>\n",
       "      <th>gene_count</th>\n",
       "      <th>number_obs</th>\n",
       "      <th>VAF</th>\n",
       "      <th>seq_ID</th>\n",
       "      <th>mutation_cdna</th>\n",
       "      <th>nucleotide_positions</th>\n",
       "      <th>actual_variant</th>\n",
       "      <th>start_variant_position</th>\n",
       "      <th>end_variant_position</th>\n",
       "      <th>gene_id</th>\n",
       "      <th>variant_name_with_gene_id</th>\n",
       "      <th>variant_name_with_gene_name</th>\n",
       "    </tr>\n",
       "  </thead>\n",
       "  <tbody>\n",
       "    <tr>\n",
       "      <th>0</th>\n",
       "      <td>ENST00000396153:c.1592C&gt;T</td>\n",
       "      <td>FAF1</td>\n",
       "      <td>3.0</td>\n",
       "      <td>49</td>\n",
       "      <td>1</td>\n",
       "      <td>0.000279</td>\n",
       "      <td>ENST00000396153</td>\n",
       "      <td>c.1592C&gt;T</td>\n",
       "      <td>1592</td>\n",
       "      <td>C&gt;T</td>\n",
       "      <td>1592.0</td>\n",
       "      <td>1592.0</td>\n",
       "      <td>ENSG00000185104</td>\n",
       "      <td>ENSG00000185104(ENST00000396153):c.1592C&gt;T</td>\n",
       "      <td>FAF1(ENST00000396153):c.1592C&gt;T</td>\n",
       "    </tr>\n",
       "    <tr>\n",
       "      <th>1</th>\n",
       "      <td>ENST00000396153:c.2261A&gt;G</td>\n",
       "      <td>FAF1</td>\n",
       "      <td>5.0</td>\n",
       "      <td>49</td>\n",
       "      <td>2</td>\n",
       "      <td>0.000557</td>\n",
       "      <td>ENST00000396153</td>\n",
       "      <td>c.2261A&gt;G</td>\n",
       "      <td>2261</td>\n",
       "      <td>A&gt;G</td>\n",
       "      <td>2261.0</td>\n",
       "      <td>2261.0</td>\n",
       "      <td>ENSG00000185104</td>\n",
       "      <td>ENSG00000185104(ENST00000396153):c.2261A&gt;G</td>\n",
       "      <td>FAF1(ENST00000396153):c.2261A&gt;G</td>\n",
       "    </tr>\n",
       "    <tr>\n",
       "      <th>2</th>\n",
       "      <td>ENST00000396153:c.1823G&gt;A</td>\n",
       "      <td>FAF1</td>\n",
       "      <td>5.0</td>\n",
       "      <td>49</td>\n",
       "      <td>1</td>\n",
       "      <td>0.000279</td>\n",
       "      <td>ENST00000396153</td>\n",
       "      <td>c.1823G&gt;A</td>\n",
       "      <td>1823</td>\n",
       "      <td>G&gt;A</td>\n",
       "      <td>1823.0</td>\n",
       "      <td>1823.0</td>\n",
       "      <td>ENSG00000185104</td>\n",
       "      <td>ENSG00000185104(ENST00000396153):c.1823G&gt;A</td>\n",
       "      <td>FAF1(ENST00000396153):c.1823G&gt;A</td>\n",
       "    </tr>\n",
       "    <tr>\n",
       "      <th>3</th>\n",
       "      <td>ENST00000396153:c.1391G&gt;T</td>\n",
       "      <td>FAF1</td>\n",
       "      <td>2.0</td>\n",
       "      <td>49</td>\n",
       "      <td>1</td>\n",
       "      <td>0.000279</td>\n",
       "      <td>ENST00000396153</td>\n",
       "      <td>c.1391G&gt;T</td>\n",
       "      <td>1391</td>\n",
       "      <td>G&gt;T</td>\n",
       "      <td>1391.0</td>\n",
       "      <td>1391.0</td>\n",
       "      <td>ENSG00000185104</td>\n",
       "      <td>ENSG00000185104(ENST00000396153):c.1391G&gt;T</td>\n",
       "      <td>FAF1(ENST00000396153):c.1391G&gt;T</td>\n",
       "    </tr>\n",
       "    <tr>\n",
       "      <th>4</th>\n",
       "      <td>ENST00000396153:c.1325C&gt;T</td>\n",
       "      <td>FAF1</td>\n",
       "      <td>3.0</td>\n",
       "      <td>49</td>\n",
       "      <td>1</td>\n",
       "      <td>0.000279</td>\n",
       "      <td>ENST00000396153</td>\n",
       "      <td>c.1325C&gt;T</td>\n",
       "      <td>1325</td>\n",
       "      <td>C&gt;T</td>\n",
       "      <td>1325.0</td>\n",
       "      <td>1325.0</td>\n",
       "      <td>ENSG00000185104</td>\n",
       "      <td>ENSG00000185104(ENST00000396153):c.1325C&gt;T</td>\n",
       "      <td>FAF1(ENST00000396153):c.1325C&gt;T</td>\n",
       "    </tr>\n",
       "  </tbody>\n",
       "</table>\n",
       "</div>"
      ],
      "text/plain": [
       "                variant_name gene_symbol  variant_count gene_count  \\\n",
       "0  ENST00000396153:c.1592C>T        FAF1            3.0         49   \n",
       "1  ENST00000396153:c.2261A>G        FAF1            5.0         49   \n",
       "2  ENST00000396153:c.1823G>A        FAF1            5.0         49   \n",
       "3  ENST00000396153:c.1391G>T        FAF1            2.0         49   \n",
       "4  ENST00000396153:c.1325C>T        FAF1            3.0         49   \n",
       "\n",
       "   number_obs       VAF           seq_ID mutation_cdna nucleotide_positions  \\\n",
       "0           1  0.000279  ENST00000396153     c.1592C>T                 1592   \n",
       "1           2  0.000557  ENST00000396153     c.2261A>G                 2261   \n",
       "2           1  0.000279  ENST00000396153     c.1823G>A                 1823   \n",
       "3           1  0.000279  ENST00000396153     c.1391G>T                 1391   \n",
       "4           1  0.000279  ENST00000396153     c.1325C>T                 1325   \n",
       "\n",
       "  actual_variant start_variant_position end_variant_position          gene_id  \\\n",
       "0            C>T                 1592.0               1592.0  ENSG00000185104   \n",
       "1            A>G                 2261.0               2261.0  ENSG00000185104   \n",
       "2            G>A                 1823.0               1823.0  ENSG00000185104   \n",
       "3            G>T                 1391.0               1391.0  ENSG00000185104   \n",
       "4            C>T                 1325.0               1325.0  ENSG00000185104   \n",
       "\n",
       "                    variant_name_with_gene_id      variant_name_with_gene_name  \n",
       "0  ENSG00000185104(ENST00000396153):c.1592C>T  FAF1(ENST00000396153):c.1592C>T  \n",
       "1  ENSG00000185104(ENST00000396153):c.2261A>G  FAF1(ENST00000396153):c.2261A>G  \n",
       "2  ENSG00000185104(ENST00000396153):c.1823G>A  FAF1(ENST00000396153):c.1823G>A  \n",
       "3  ENSG00000185104(ENST00000396153):c.1391G>T  FAF1(ENST00000396153):c.1391G>T  \n",
       "4  ENSG00000185104(ENST00000396153):c.1325C>T  FAF1(ENST00000396153):c.1325C>T  "
      ]
     },
     "execution_count": 41,
     "metadata": {},
     "output_type": "execute_result"
    }
   ],
   "source": [
    "adata.var.head()"
   ]
  },
  {
   "cell_type": "code",
   "execution_count": 42,
   "metadata": {},
   "outputs": [
    {
     "data": {
      "application/vnd.microsoft.datawrangler.viewer.v0+json": {
       "columns": [
        {
         "name": "index",
         "rawType": "int64",
         "type": "integer"
        },
        {
         "name": "Gene",
         "rawType": "object",
         "type": "string"
        },
        {
         "name": "MutSig(Q-value)",
         "rawType": "float64",
         "type": "float"
        },
        {
         "name": "# Mut",
         "rawType": "int64",
         "type": "integer"
        },
        {
         "name": "#",
         "rawType": "int64",
         "type": "integer"
        },
        {
         "name": "Profiled Samples",
         "rawType": "int64",
         "type": "integer"
        },
        {
         "name": "Freq",
         "rawType": "object",
         "type": "string"
        },
        {
         "name": "Is Cancer Gene (source: OncoKB)",
         "rawType": "object",
         "type": "string"
        }
       ],
       "conversionMethod": "pd.DataFrame",
       "ref": "ebeb3718-10bb-41b8-857f-4991a43d57d3",
       "rows": [
        [
         "0",
         "HTR4",
         null,
         "4",
         "3",
         "397",
         "0.8%",
         "No"
        ],
        [
         "1",
         "HTR7",
         null,
         "5",
         "5",
         "397",
         "1.3%",
         "No"
        ],
        [
         "2",
         "LURAP1L",
         null,
         "1",
         "1",
         "397",
         "0.3%",
         "No"
        ],
        [
         "3",
         "BBX",
         null,
         "3",
         "3",
         "397",
         "0.8%",
         "No"
        ],
        [
         "4",
         "SPATA31G1",
         null,
         "11",
         "7",
         "397",
         "1.8%",
         "No"
        ]
       ],
       "shape": {
        "columns": 7,
        "rows": 5
       }
      },
      "text/html": [
       "<div>\n",
       "<style scoped>\n",
       "    .dataframe tbody tr th:only-of-type {\n",
       "        vertical-align: middle;\n",
       "    }\n",
       "\n",
       "    .dataframe tbody tr th {\n",
       "        vertical-align: top;\n",
       "    }\n",
       "\n",
       "    .dataframe thead th {\n",
       "        text-align: right;\n",
       "    }\n",
       "</style>\n",
       "<table border=\"1\" class=\"dataframe\">\n",
       "  <thead>\n",
       "    <tr style=\"text-align: right;\">\n",
       "      <th></th>\n",
       "      <th>Gene</th>\n",
       "      <th>MutSig(Q-value)</th>\n",
       "      <th># Mut</th>\n",
       "      <th>#</th>\n",
       "      <th>Profiled Samples</th>\n",
       "      <th>Freq</th>\n",
       "      <th>Is Cancer Gene (source: OncoKB)</th>\n",
       "    </tr>\n",
       "  </thead>\n",
       "  <tbody>\n",
       "    <tr>\n",
       "      <th>0</th>\n",
       "      <td>HTR4</td>\n",
       "      <td>NaN</td>\n",
       "      <td>4</td>\n",
       "      <td>3</td>\n",
       "      <td>397</td>\n",
       "      <td>0.8%</td>\n",
       "      <td>No</td>\n",
       "    </tr>\n",
       "    <tr>\n",
       "      <th>1</th>\n",
       "      <td>HTR7</td>\n",
       "      <td>NaN</td>\n",
       "      <td>5</td>\n",
       "      <td>5</td>\n",
       "      <td>397</td>\n",
       "      <td>1.3%</td>\n",
       "      <td>No</td>\n",
       "    </tr>\n",
       "    <tr>\n",
       "      <th>2</th>\n",
       "      <td>LURAP1L</td>\n",
       "      <td>NaN</td>\n",
       "      <td>1</td>\n",
       "      <td>1</td>\n",
       "      <td>397</td>\n",
       "      <td>0.3%</td>\n",
       "      <td>No</td>\n",
       "    </tr>\n",
       "    <tr>\n",
       "      <th>3</th>\n",
       "      <td>BBX</td>\n",
       "      <td>NaN</td>\n",
       "      <td>3</td>\n",
       "      <td>3</td>\n",
       "      <td>397</td>\n",
       "      <td>0.8%</td>\n",
       "      <td>No</td>\n",
       "    </tr>\n",
       "    <tr>\n",
       "      <th>4</th>\n",
       "      <td>SPATA31G1</td>\n",
       "      <td>NaN</td>\n",
       "      <td>11</td>\n",
       "      <td>7</td>\n",
       "      <td>397</td>\n",
       "      <td>1.8%</td>\n",
       "      <td>No</td>\n",
       "    </tr>\n",
       "  </tbody>\n",
       "</table>\n",
       "</div>"
      ],
      "text/plain": [
       "        Gene  MutSig(Q-value)  # Mut  #  Profiled Samples  Freq  \\\n",
       "0       HTR4              NaN      4  3               397  0.8%   \n",
       "1       HTR7              NaN      5  5               397  1.3%   \n",
       "2    LURAP1L              NaN      1  1               397  0.3%   \n",
       "3        BBX              NaN      3  3               397  0.8%   \n",
       "4  SPATA31G1              NaN     11  7               397  1.8%   \n",
       "\n",
       "  Is Cancer Gene (source: OncoKB)  \n",
       "0                              No  \n",
       "1                              No  \n",
       "2                              No  \n",
       "3                              No  \n",
       "4                              No  "
      ]
     },
     "execution_count": 42,
     "metadata": {},
     "output_type": "execute_result"
    }
   ],
   "source": [
    "cbioportal_mutated_genes_df.head()"
   ]
  },
  {
   "cell_type": "markdown",
   "metadata": {},
   "source": [
    "## From their paper, Fig2a"
   ]
  },
  {
   "cell_type": "code",
   "execution_count": 48,
   "metadata": {},
   "outputs": [
    {
     "data": {
      "application/vnd.microsoft.datawrangler.viewer.v0+json": {
       "columns": [
        {
         "name": "index",
         "rawType": "object",
         "type": "string"
        },
        {
         "name": "Cluster_2d",
         "rawType": "int64",
         "type": "integer"
        },
        {
         "name": "Cluster_2d_color",
         "rawType": "object",
         "type": "string"
        }
       ],
       "conversionMethod": "pd.DataFrame",
       "ref": "3044edf9-acb5-4549-99e6-eb27fcf804d1",
       "rows": [
        [
         "1001000175.F12",
         "1",
         "#1F77B4"
        ],
        [
         "1001000173.D4",
         "2",
         "#AEC7E8"
        ],
        [
         "1001000175.B6",
         "3",
         "#FF7F0E"
        ],
        [
         "1001000258.F11",
         "4",
         "#FFBB78"
        ],
        [
         "1001000175.H9",
         "5",
         "#2CA02C"
        ],
        [
         "1001000031.C5",
         "6",
         "#98DF8A"
        ],
        [
         "1001000173.D11",
         "7",
         "#D62728"
        ],
        [
         "1001000173.B6",
         "8",
         "#FF9896"
        ],
        [
         "1001000173.D6",
         "9",
         "#9467BD"
        ],
        [
         "1001000180.G9",
         "10",
         "#C5B0D5"
        ],
        [
         "1001000173.G8",
         "11",
         "#8C564B"
        ],
        [
         "1001000031.E10",
         "12",
         "#C49C94"
        ]
       ],
       "shape": {
        "columns": 2,
        "rows": 12
       }
      },
      "text/html": [
       "<div>\n",
       "<style scoped>\n",
       "    .dataframe tbody tr th:only-of-type {\n",
       "        vertical-align: middle;\n",
       "    }\n",
       "\n",
       "    .dataframe tbody tr th {\n",
       "        vertical-align: top;\n",
       "    }\n",
       "\n",
       "    .dataframe thead th {\n",
       "        text-align: right;\n",
       "    }\n",
       "</style>\n",
       "<table border=\"1\" class=\"dataframe\">\n",
       "  <thead>\n",
       "    <tr style=\"text-align: right;\">\n",
       "      <th></th>\n",
       "      <th>Cluster_2d</th>\n",
       "      <th>Cluster_2d_color</th>\n",
       "    </tr>\n",
       "  </thead>\n",
       "  <tbody>\n",
       "    <tr>\n",
       "      <th>1001000175.F12</th>\n",
       "      <td>1</td>\n",
       "      <td>#1F77B4</td>\n",
       "    </tr>\n",
       "    <tr>\n",
       "      <th>1001000173.D4</th>\n",
       "      <td>2</td>\n",
       "      <td>#AEC7E8</td>\n",
       "    </tr>\n",
       "    <tr>\n",
       "      <th>1001000175.B6</th>\n",
       "      <td>3</td>\n",
       "      <td>#FF7F0E</td>\n",
       "    </tr>\n",
       "    <tr>\n",
       "      <th>1001000258.F11</th>\n",
       "      <td>4</td>\n",
       "      <td>#FFBB78</td>\n",
       "    </tr>\n",
       "    <tr>\n",
       "      <th>1001000175.H9</th>\n",
       "      <td>5</td>\n",
       "      <td>#2CA02C</td>\n",
       "    </tr>\n",
       "    <tr>\n",
       "      <th>1001000031.C5</th>\n",
       "      <td>6</td>\n",
       "      <td>#98DF8A</td>\n",
       "    </tr>\n",
       "    <tr>\n",
       "      <th>1001000173.D11</th>\n",
       "      <td>7</td>\n",
       "      <td>#D62728</td>\n",
       "    </tr>\n",
       "    <tr>\n",
       "      <th>1001000173.B6</th>\n",
       "      <td>8</td>\n",
       "      <td>#FF9896</td>\n",
       "    </tr>\n",
       "    <tr>\n",
       "      <th>1001000173.D6</th>\n",
       "      <td>9</td>\n",
       "      <td>#9467BD</td>\n",
       "    </tr>\n",
       "    <tr>\n",
       "      <th>1001000180.G9</th>\n",
       "      <td>10</td>\n",
       "      <td>#C5B0D5</td>\n",
       "    </tr>\n",
       "    <tr>\n",
       "      <th>1001000173.G8</th>\n",
       "      <td>11</td>\n",
       "      <td>#8C564B</td>\n",
       "    </tr>\n",
       "    <tr>\n",
       "      <th>1001000031.E10</th>\n",
       "      <td>12</td>\n",
       "      <td>#C49C94</td>\n",
       "    </tr>\n",
       "  </tbody>\n",
       "</table>\n",
       "</div>"
      ],
      "text/plain": [
       "                Cluster_2d Cluster_2d_color\n",
       "1001000175.F12           1          #1F77B4\n",
       "1001000173.D4            2          #AEC7E8\n",
       "1001000175.B6            3          #FF7F0E\n",
       "1001000258.F11           4          #FFBB78\n",
       "1001000175.H9            5          #2CA02C\n",
       "1001000031.C5            6          #98DF8A\n",
       "1001000173.D11           7          #D62728\n",
       "1001000173.B6            8          #FF9896\n",
       "1001000173.D6            9          #9467BD\n",
       "1001000180.G9           10          #C5B0D5\n",
       "1001000173.G8           11          #8C564B\n",
       "1001000031.E10          12          #C49C94"
      ]
     },
     "execution_count": 48,
     "metadata": {},
     "output_type": "execute_result"
    }
   ],
   "source": [
    "cluster_color_to_identity_dict = {\n",
    "    \"1\": \"Neoplastic cells 1\",  # cluster 1 from picture (counting from top left, going down and the across)\n",
    "    \"2\": \"Oligodendrocytes\",  # cluster 10 from picture\n",
    "    \"3\": \"Vascular cells 1\",  # cluster 4\n",
    "    \"4\": \"Neoplastic cells 2\",  # cluster 2\n",
    "    \"5\": \"Neurons\",  # cluster 9\n",
    "    \"6\": \"Vascular cells 2\",  # cluster 5\n",
    "    \"7\": \"Myeloid cell 1\",  # cluster 7\n",
    "    \"8\": \"Myeloid cell 2\",  # cluster 8\n",
    "    \"9\": \"OPCs\",  # cluster 11\n",
    "    \"10\": \"Astrocytes\",  # cluster 12\n",
    "    \"11\": \"Neoplastic cells 3\",  # cluster 3\n",
    "    \"12\": \"Vascular cells 3\",  # cluster 6\n",
    "}\n",
    "\n",
    "metadata_df[['Cluster_2d', 'Cluster_2d_color']].drop_duplicates().sort_values('Cluster_2d')"
   ]
  },
  {
   "cell_type": "markdown",
   "metadata": {},
   "source": [
    "# Histograms"
   ]
  },
  {
   "cell_type": "code",
   "execution_count": 19,
   "metadata": {},
   "outputs": [
    {
     "data": {
      "image/png": "[encoded data removed]",
      "text/plain": [
       "<Figure size 1200x500 with 1 Axes>"
      ]
     },
     "metadata": {},
     "output_type": "display_data"
    }
   ],
   "source": [
    "import matplotlib.pyplot as plt\n",
    "import numpy as np\n",
    "\n",
    "# Sum across rows (per cell)\n",
    "row_sums = adata.X.sum(axis=1).A1 if hasattr(adata.X, \"A1\") else np.ravel(adata.X.sum(axis=1))\n",
    "\n",
    "# Sum across columns (per gene)\n",
    "col_sums = adata.X.sum(axis=0).A1 if hasattr(adata.X, \"A1\") else np.ravel(adata.X.sum(axis=0))\n",
    "\n",
    "# Plot histograms\n",
    "plt.figure(figsize=(12, 5))\n",
    "\n",
    "plt.subplot(1, 2, 1)\n",
    "plt.hist(row_sums, bins=50, color='skyblue')\n",
    "plt.title('Sum per Cell')\n",
    "plt.xlabel('Sum')\n",
    "plt.ylabel('Count')\n",
    "\n",
    "# plt.subplot(1, 2, 2)\n",
    "# plt.hist(col_sums, bins=50, color='salmon')\n",
    "# plt.title('Sum per Gene')\n",
    "# plt.xlabel('Sum')\n",
    "# plt.ylabel('Count')\n",
    "\n",
    "plt.tight_layout()\n",
    "plt.show()\n"
   ]
  },
  {
   "cell_type": "code",
   "execution_count": 20,
   "metadata": {},
   "outputs": [
    {
     "data": {
      "image/png": "[encoded data removed]",
      "text/plain": [
       "<Figure size 800x500 with 1 Axes>"
      ]
     },
     "metadata": {},
     "output_type": "display_data"
    }
   ],
   "source": [
    "import matplotlib.pyplot as plt\n",
    "import numpy as np\n",
    "\n",
    "# Compute sum per cell (rows)\n",
    "row_sums = adata.X.sum(axis=1).A1 if hasattr(adata.X, \"A1\") else np.ravel(adata.X.sum(axis=1))\n",
    "\n",
    "# Sort descending\n",
    "sorted_sums = np.sort(row_sums)[::-1]\n",
    "\n",
    "# Plot\n",
    "plt.figure(figsize=(8, 5))\n",
    "plt.plot(sorted_sums, color='black')\n",
    "plt.title(\"Total Counts per Cell (Descending)\")\n",
    "plt.xlabel(\"Cell Rank\")\n",
    "plt.ylabel(\"Total Counts\")\n",
    "plt.grid(True)\n",
    "plt.tight_layout()\n",
    "plt.show()\n"
   ]
  },
  {
   "cell_type": "markdown",
   "metadata": {},
   "source": [
    "# sort descending by # Mut, and keep only those with at least 20 value"
   ]
  },
  {
   "cell_type": "code",
   "execution_count": null,
   "metadata": {},
   "outputs": [],
   "source": [
    "# cbioportal_mutated_genes_df_filtered = "
   ]
  },
  {
   "cell_type": "markdown",
   "metadata": {},
   "source": [
    "# Convert ENSG to gene symbols"
   ]
  },
  {
   "cell_type": "code",
   "execution_count": null,
   "metadata": {},
   "outputs": [],
   "source": [
    "# adata.var['gene_symbol']  # adata.var['gene_name']"
   ]
  },
  {
   "cell_type": "markdown",
   "metadata": {},
   "source": []
  },
  {
   "cell_type": "code",
   "execution_count": null,
   "metadata": {},
   "outputs": [],
   "source": [
    "sc.pp.calculate_qc_metrics(\n",
    "    adata, qc_vars=[\"mt\", \"ribo\", \"hb\"], inplace=True, log1p=True\n",
    ")"
   ]
  },
  {
   "cell_type": "markdown",
   "metadata": {},
   "source": [
    "## assign oncogene vs tumor suppressor gene - I expect oncogenes to be more prevelant in mutation data"
   ]
  },
  {
   "cell_type": "markdown",
   "metadata": {},
   "source": [
    "## Calculate VAF in the cancer cells as a way to try to understand which mutations may be most interesting"
   ]
  }
 ],
 "metadata": {
  "kernelspec": {
   "display_name": "varseek2",
   "language": "python",
   "name": "python3"
  },
  "language_info": {
   "codemirror_mode": {
    "name": "ipython",
    "version": 3
   },
   "file_extension": ".py",
   "mimetype": "text/x-python",
   "name": "python",
   "nbconvert_exporter": "python",
   "pygments_lexer": "ipython3",
   "version": "3.10.16"
  },
  "nbdime-conflicts": {
   "local_diff": [
    {
     "diff": [
      {
       "diff": [
        {
         "key": 0,
         "length": 1,
         "op": "removerange"
        }
       ],
       "key": "version",
       "op": "patch"
      }
     ],
     "key": "language_info",
     "op": "patch"
    }
   ],
   "remote_diff": [
    {
     "diff": [
      {
       "diff": [
        {
         "diff": [
          {
           "key": 6,
           "op": "addrange",
           "valuelist": "2"
          },
          {
           "key": 6,
           "length": 1,
           "op": "removerange"
          }
         ],
         "key": 0,
         "op": "patch"
        }
       ],
       "key": "version",
       "op": "patch"
      }
     ],
     "key": "language_info",
     "op": "patch"
    }
   ]
  }
 },
 "nbformat": 4,
 "nbformat_minor": 4
}
