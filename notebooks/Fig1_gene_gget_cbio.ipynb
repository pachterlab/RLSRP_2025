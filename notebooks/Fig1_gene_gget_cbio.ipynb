{
 "cells": [
  {
   "cell_type": "markdown",
   "metadata": {},
   "source": [
    "# Gene Analysis, heatmaps - gget cbio"
   ]
  },
  {
   "cell_type": "code",
   "execution_count": 1,
   "metadata": {},
   "outputs": [],
   "source": [
    "# try:\n",
    "#     import varseek as vk\n",
    "# except ImportError:\n",
    "#     print(\"varseek not found, installing...\")\n",
    "#     !pip install -U -q varseek\n",
    "# try:\n",
    "#     import RLSRWP_2025\n",
    "# except ImportError:\n",
    "#     print(\"RLSRWP_2025 not found, installing...\")\n",
    "#     !pip install -q git+https://github.com/pachterlab/RLSRWP_2025.git\n",
    "# try:\n",
    "#     import gget\n",
    "# except ImportError:\n",
    "#     print(\"gget not found, installing...\")\n",
    "#     !pip install -U -q gget"
   ]
  },
  {
   "cell_type": "code",
   "execution_count": 2,
   "metadata": {},
   "outputs": [],
   "source": [
    "import os\n",
    "import anndata as ad\n",
    "import pandas as pd\n",
    "import gget\n",
    "import subprocess\n",
    "import ast\n",
    "\n",
    "from varseek.utils import convert_mutation_cds_locations_to_cdna, get_ensembl_gene_id_bulk\n",
    "\n",
    "RLSRWP_2025_dir = os.path.dirname(os.path.abspath(\"\"))  # if this notebook resides in RLSRWP_2025/notebooks/0_data_download.ipynb, then this retrieves RLSRWP_2025"
   ]
  },
  {
   "cell_type": "code",
   "execution_count": 3,
   "metadata": {},
   "outputs": [],
   "source": [
    "n = 3\n",
    "sorting_column = \"vcrs_count\"  # \"vcrs_count\" (sort by variant), \"gene_count\" (sort by gene), etc\n",
    "\n",
    "vk_count_out_dir = os.path.join(RLSRWP_2025_dir, \"data\", \"vk_count_out\")\n",
    "adata_path = os.path.join(vk_count_out_dir, \"adata_cleaned.h5ad\")\n",
    "\n",
    "out_dir = os.path.join(vk_count_out_dir, \"analysis\", \"gget_cbio\")\n",
    "\n",
    "reference_dir = os.path.join(RLSRWP_2025_dir, \"data\", \"reference\")\n",
    "cbio_data_dir = os.path.join(reference_dir, \"cbio_data\")\n",
    "cosmic_csv = os.path.join(reference_dir, \"cosmic\", \"CancerMutationCensus_AllData_Tsv_v101_GRCh37\", \"CancerMutationCensus_AllData_v101_GRCh37_mutation_workflow.csv\")\n",
    "sequences_cds = os.path.join(reference_dir, \"ensembl_grch37_release93\", \"Homo_sapiens.GRCh37.cds.all.fa\")\n",
    "sequences_cdna = os.path.join(reference_dir, \"ensembl_grch37_release93\", \"Homo_sapiens.GRCh37.cdna.all.fa\")"
   ]
  },
  {
   "cell_type": "code",
   "execution_count": null,
   "metadata": {},
   "outputs": [],
   "source": [
    "#!!! DOWNLOAD"
   ]
  },
  {
   "cell_type": "code",
   "execution_count": 4,
   "metadata": {},
   "outputs": [
    {
     "data": {
      "application/vnd.microsoft.datawrangler.viewer.v0+json": {
       "columns": [
        {
         "name": "index",
         "rawType": "object",
         "type": "string"
        },
        {
         "name": "vcrs_header",
         "rawType": "object",
         "type": "string"
        },
        {
         "name": "vcrs_count",
         "rawType": "float64",
         "type": "float"
        },
        {
         "name": "gene_name",
         "rawType": "category",
         "type": "unknown"
        }
       ],
       "conversionMethod": "pd.DataFrame",
       "ref": "214b8df4-fb4e-4b02-a045-5c29e65ba14b",
       "rows": [
        [
         "0",
         "ENST00000391429:c.194C>T",
         "0.0",
         "BHLHA9"
        ],
        [
         "1",
         "ENST00000391429:c.128C>A",
         "0.0",
         "BHLHA9"
        ],
        [
         "2",
         "ENST00000391429:c.257C>A",
         "0.0",
         "BHLHA9"
        ],
        [
         "3",
         "ENST00000391429:c.100G>A",
         "0.0",
         "BHLHA9"
        ],
        [
         "4",
         "ENST00000391429:c.99G>A",
         "0.0",
         "BHLHA9"
        ]
       ],
       "shape": {
        "columns": 3,
        "rows": 5
       }
      },
      "text/html": [
       "<div>\n",
       "<style scoped>\n",
       "    .dataframe tbody tr th:only-of-type {\n",
       "        vertical-align: middle;\n",
       "    }\n",
       "\n",
       "    .dataframe tbody tr th {\n",
       "        vertical-align: top;\n",
       "    }\n",
       "\n",
       "    .dataframe thead th {\n",
       "        text-align: right;\n",
       "    }\n",
       "</style>\n",
       "<table border=\"1\" class=\"dataframe\">\n",
       "  <thead>\n",
       "    <tr style=\"text-align: right;\">\n",
       "      <th></th>\n",
       "      <th>vcrs_header</th>\n",
       "      <th>vcrs_count</th>\n",
       "      <th>gene_name</th>\n",
       "    </tr>\n",
       "  </thead>\n",
       "  <tbody>\n",
       "    <tr>\n",
       "      <th>0</th>\n",
       "      <td>ENST00000391429:c.194C&gt;T</td>\n",
       "      <td>0.0</td>\n",
       "      <td>BHLHA9</td>\n",
       "    </tr>\n",
       "    <tr>\n",
       "      <th>1</th>\n",
       "      <td>ENST00000391429:c.128C&gt;A</td>\n",
       "      <td>0.0</td>\n",
       "      <td>BHLHA9</td>\n",
       "    </tr>\n",
       "    <tr>\n",
       "      <th>2</th>\n",
       "      <td>ENST00000391429:c.257C&gt;A</td>\n",
       "      <td>0.0</td>\n",
       "      <td>BHLHA9</td>\n",
       "    </tr>\n",
       "    <tr>\n",
       "      <th>3</th>\n",
       "      <td>ENST00000391429:c.100G&gt;A</td>\n",
       "      <td>0.0</td>\n",
       "      <td>BHLHA9</td>\n",
       "    </tr>\n",
       "    <tr>\n",
       "      <th>4</th>\n",
       "      <td>ENST00000391429:c.99G&gt;A</td>\n",
       "      <td>0.0</td>\n",
       "      <td>BHLHA9</td>\n",
       "    </tr>\n",
       "  </tbody>\n",
       "</table>\n",
       "</div>"
      ],
      "text/plain": [
       "                vcrs_header  vcrs_count gene_name\n",
       "0  ENST00000391429:c.194C>T         0.0    BHLHA9\n",
       "1  ENST00000391429:c.128C>A         0.0    BHLHA9\n",
       "2  ENST00000391429:c.257C>A         0.0    BHLHA9\n",
       "3  ENST00000391429:c.100G>A         0.0    BHLHA9\n",
       "4   ENST00000391429:c.99G>A         0.0    BHLHA9"
      ]
     },
     "execution_count": 4,
     "metadata": {},
     "output_type": "execute_result"
    }
   ],
   "source": [
    "os.makedirs(out_dir, exist_ok=True)\n",
    "adata = ad.read_h5ad(adata_path)\n",
    "\n",
    "# For simplicity, filter out all mutants with ambiguous identity\n",
    "adata = adata[:, adata.var[~adata.var['vcrs_header'].str.contains(';', na=False)].index].copy()\n",
    "\n",
    "adata.var.head()"
   ]
  },
  {
   "cell_type": "code",
   "execution_count": null,
   "metadata": {},
   "outputs": [],
   "source": [
    "adata_var_columns = adata.var.columns\n",
    "\n",
    "# download cosmic and cdna\n",
    "if not os.path.exists(sequences_cdna):\n",
    "    print(\"Downloading cDNA\")\n",
    "    reference_cdna_dir = os.path.dirname(sequences_cdna) if os.path.dirname(sequences_cdna) else \".\"\n",
    "    gget_ref_command = [\"gget\", \"ref\", \"-w\", \"cdna\", \"-r\", \"93\", \"--out_dir\", reference_cdna_dir, \"-d\", \"human_grch37\"]\n",
    "    subprocess.run(gget_ref_command, check=True)\n",
    "    subprocess.run([\"gunzip\", f\"{sequences_cdna}.gz\"], check=True)\n",
    "if not os.path.exists(sequences_cds):\n",
    "    print(\"Downloading CDS\")\n",
    "    reference_cds_dir = os.path.dirname(sequences_cds) if os.path.dirname(sequences_cds) else \".\"\n",
    "    gget_ref_command = [\"gget\", \"ref\", \"-w\", \"cds\", \"-r\", \"93\", \"--out_dir\", reference_cds_dir, \"-d\", \"human_grch37\"]\n",
    "    subprocess.run(gget_ref_command, check=True)\n",
    "    subprocess.run([\"gunzip\", f\"{sequences_cds}.gz\"], check=True)\n",
    "\n",
    "if not os.path.exists(cosmic_csv):\n",
    "    print(\"Downloading COSMIC\")\n",
    "    reference_out_dir_cosmic = os.path.dirname(os.path.dirname(cosmic_csv))\n",
    "    gget.cosmic(\n",
    "        None,\n",
    "        grch_version=37,\n",
    "        cosmic_version=101,\n",
    "        out=reference_out_dir_cosmic,\n",
    "        mutation_class=\"cancer\",\n",
    "        download_cosmic=True,\n",
    "        gget_mutate=True,\n",
    "    )\n",
    "\n",
    "cosmic_df = pd.read_csv(cosmic_csv, nrows=2)\n",
    "\n",
    "if \"mutation_cdna\" not in cosmic_df.columns:\n",
    "    print(\"Converting CDS to cDNA in COSMIC\")\n",
    "    _, _ = convert_mutation_cds_locations_to_cdna(input_csv_path=cosmic_csv, output_csv_path=cosmic_csv, cds_fasta_path=sequences_cds, cdna_fasta_path=sequences_cdna, verbose=True, strip_leading_Ns_cds=True)\n",
    "\n",
    "cosmic_df = pd.read_csv(cosmic_csv, usecols=[\"seq_ID\", \"mutation_cdna\", \"gene_name\"])\n",
    "cosmic_df[\"vcrs_header\"] = cosmic_df[\"seq_ID\"] + \":\" + cosmic_df[\"mutation_cdna\"]\n",
    "\n",
    "if \"gene_name\" not in adata.var.columns:\n",
    "    adata.var = adata.var.merge(cosmic_df[[\"vcrs_header\", \"gene_name\"]], on=\"vcrs_header\", how=\"left\")\n",
    "\n",
    "if sorting_column == \"gene_count\" and \"gene_count\" not in adata.var.columns:\n",
    "    filtered_var = adata.var[adata.var[\"vcrs_count\"] > 0]\n",
    "    gene_counts = filtered_var[\"gene_name\"].value_counts()\n",
    "    adata.var[\"gene_count\"] = adata.var[\"gene_name\"].map(gene_counts).fillna(0).astype(int)\n",
    "    del filtered_var\n",
    "\n",
    "if set(adata_var_columns) != set(adata.var.columns):\n",
    "    adata.write_h5ad(adata_path)"
   ]
  },
  {
   "cell_type": "code",
   "execution_count": 6,
   "metadata": {},
   "outputs": [
    {
     "data": {
      "application/vnd.microsoft.datawrangler.viewer.v0+json": {
       "columns": [
        {
         "name": "index",
         "rawType": "object",
         "type": "string"
        },
        {
         "name": "vcrs_header",
         "rawType": "object",
         "type": "string"
        },
        {
         "name": "vcrs_count",
         "rawType": "float64",
         "type": "float"
        },
        {
         "name": "gene_name",
         "rawType": "category",
         "type": "unknown"
        }
       ],
       "conversionMethod": "pd.DataFrame",
       "ref": "0ee3054d-72c1-441c-bdcb-362565a2679c",
       "rows": [
        [
         "691684",
         "ENST00000362079:c.760G>A",
         "10166.0",
         "MT-CO3"
        ],
        [
         "2675243",
         "ENST00000393099:c.583G>A",
         "7259.0",
         "RPL13"
        ],
        [
         "2021384",
         "ENST00000251453:c.455C>T",
         "5370.0",
         "RPS16"
        ],
        [
         "4543187",
         "ENST00000423316:c.2076C>T",
         "4317.0",
         "EEF1D"
        ],
        [
         "2685771",
         "ENST00000593646:c.53G>A",
         "2736.0",
         "AC040977.1"
        ]
       ],
       "shape": {
        "columns": 3,
        "rows": 5
       }
      },
      "text/html": [
       "<div>\n",
       "<style scoped>\n",
       "    .dataframe tbody tr th:only-of-type {\n",
       "        vertical-align: middle;\n",
       "    }\n",
       "\n",
       "    .dataframe tbody tr th {\n",
       "        vertical-align: top;\n",
       "    }\n",
       "\n",
       "    .dataframe thead th {\n",
       "        text-align: right;\n",
       "    }\n",
       "</style>\n",
       "<table border=\"1\" class=\"dataframe\">\n",
       "  <thead>\n",
       "    <tr style=\"text-align: right;\">\n",
       "      <th></th>\n",
       "      <th>vcrs_header</th>\n",
       "      <th>vcrs_count</th>\n",
       "      <th>gene_name</th>\n",
       "    </tr>\n",
       "  </thead>\n",
       "  <tbody>\n",
       "    <tr>\n",
       "      <th>691684</th>\n",
       "      <td>ENST00000362079:c.760G&gt;A</td>\n",
       "      <td>10166.0</td>\n",
       "      <td>MT-CO3</td>\n",
       "    </tr>\n",
       "    <tr>\n",
       "      <th>2675243</th>\n",
       "      <td>ENST00000393099:c.583G&gt;A</td>\n",
       "      <td>7259.0</td>\n",
       "      <td>RPL13</td>\n",
       "    </tr>\n",
       "    <tr>\n",
       "      <th>2021384</th>\n",
       "      <td>ENST00000251453:c.455C&gt;T</td>\n",
       "      <td>5370.0</td>\n",
       "      <td>RPS16</td>\n",
       "    </tr>\n",
       "    <tr>\n",
       "      <th>4543187</th>\n",
       "      <td>ENST00000423316:c.2076C&gt;T</td>\n",
       "      <td>4317.0</td>\n",
       "      <td>EEF1D</td>\n",
       "    </tr>\n",
       "    <tr>\n",
       "      <th>2685771</th>\n",
       "      <td>ENST00000593646:c.53G&gt;A</td>\n",
       "      <td>2736.0</td>\n",
       "      <td>AC040977.1</td>\n",
       "    </tr>\n",
       "  </tbody>\n",
       "</table>\n",
       "</div>"
      ],
      "text/plain": [
       "                       vcrs_header  vcrs_count   gene_name\n",
       "691684    ENST00000362079:c.760G>A     10166.0      MT-CO3\n",
       "2675243   ENST00000393099:c.583G>A      7259.0       RPL13\n",
       "2021384   ENST00000251453:c.455C>T      5370.0       RPS16\n",
       "4543187  ENST00000423316:c.2076C>T      4317.0       EEF1D\n",
       "2685771    ENST00000593646:c.53G>A      2736.0  AC040977.1"
      ]
     },
     "execution_count": 6,
     "metadata": {},
     "output_type": "execute_result"
    }
   ],
   "source": [
    "adata.var = adata.var.sort_values(by=sorting_column, ascending=False)\n",
    "adata.var.head()"
   ]
  },
  {
   "cell_type": "code",
   "execution_count": 7,
   "metadata": {},
   "outputs": [
    {
     "name": "stdout",
     "output_type": "stream",
     "text": [
      "['ENST00000362079', 'ENST00000393099', 'ENST00000251453']\n"
     ]
    }
   ],
   "source": [
    "top_variants = adata.var[\"vcrs_header\"][:n].tolist()\n",
    "top_transcripts = [header.split(\":\")[0] for header in top_variants]\n",
    "top_transcripts = list(dict.fromkeys(top_transcripts))  # remove duplicates while preserving order\n",
    "print(top_transcripts)"
   ]
  },
  {
   "cell_type": "markdown",
   "metadata": {},
   "source": [
    "### While I could simply get the gene names from adata.var, it is more reliable to get them from Ensembl transcript IDs"
   ]
  },
  {
   "cell_type": "code",
   "execution_count": 8,
   "metadata": {},
   "outputs": [
    {
     "name": "stdout",
     "output_type": "stream",
     "text": [
      "['ENSG00000198938', 'ENSG00000167526', 'ENSG00000105193']\n"
     ]
    }
   ],
   "source": [
    "transcript_to_gene_mapping = get_ensembl_gene_id_bulk(top_transcripts)\n",
    "top_genes = [transcript_to_gene_mapping[transcript] for transcript in top_transcripts]\n",
    "print(top_genes)"
   ]
  },
  {
   "cell_type": "markdown",
   "metadata": {},
   "source": [
    "### Find studies in the cBioPortal database that focus on the organ of interest - in this case, the skin"
   ]
  },
  {
   "cell_type": "code",
   "execution_count": 9,
   "metadata": {},
   "outputs": [
    {
     "data": {
      "text/plain": [
       "['mel_mskimpact_2020',\n",
       " 'normal_skin_fibroblast_2024',\n",
       " 'normal_skin_keratinocytes_2024',\n",
       " 'normal_skin_melanocytes_2024',\n",
       " 'skcm_broad',\n",
       " 'skcm_broad_brafresist_2012',\n",
       " 'skcm_broad_dfarber',\n",
       " 'skcm_dfci_2015',\n",
       " 'skcm_mskcc_2014',\n",
       " 'skcm_tcga',\n",
       " 'skcm_tcga_gdc',\n",
       " 'skcm_tcga_pan_can_atlas_2018',\n",
       " 'skcm_tcga_pub_2015',\n",
       " 'skcm_vanderbilt_mskcc_2015',\n",
       " 'skcm_yale']"
      ]
     },
     "execution_count": 9,
     "metadata": {},
     "output_type": "execute_result"
    }
   ],
   "source": [
    "skin_studies = !gget cbio search skin\n",
    "skin_studies = ast.literal_eval(\"\".join(skin_studies))  # list-like string --> list\n",
    "skin_studies"
   ]
  },
  {
   "cell_type": "code",
   "execution_count": 10,
   "metadata": {},
   "outputs": [],
   "source": [
    "# list --> space-separated string\n",
    "top_genes = \" \".join(top_genes)\n",
    "skin_studies = \" \".join(skin_studies)"
   ]
  },
  {
   "cell_type": "code",
   "execution_count": null,
   "metadata": {},
   "outputs": [],
   "source": [
    "stratification = \"cancer_type_detailed\"\n",
    "counts = \"mutation_occurrences\"\n",
    "file_name = f\"top_{n}_{sorting_column}_{stratification}_{counts}.png\"\n",
    "!gget cbio plot -s {skin_studies} -g {top_genes} -st {stratification} -vt {counts} -nc -dd {cbio_data_dir} -fd {out_dir} -fn {file_name}"
   ]
  },
  {
   "cell_type": "code",
   "execution_count": null,
   "metadata": {},
   "outputs": [],
   "source": [
    "stratification = \"study_id\"\n",
    "counts = \"mutation_occurrences\"\n",
    "file_name = f\"top_{n}_{sorting_column}_{stratification}_{counts}.png\"\n",
    "!gget cbio plot -s {skin_studies} -g {top_genes} -st {stratification} -vt {counts} -sh -nc -dd {cbio_data_dir} -fd {out_dir} -fn {file_name}"
   ]
  },
  {
   "cell_type": "code",
   "execution_count": null,
   "metadata": {},
   "outputs": [],
   "source": [
    "stratification = \"sample\"\n",
    "counts = \"mutation_occurrences\"\n",
    "file_name = f\"top_{n}_{sorting_column}_{stratification}_{counts}.png\"\n",
    "!gget cbio plot -s {skin_studies} -g {top_genes} -st {stratification} -vt {counts} -sh -nc -dd {cbio_data_dir} -fd {out_dir} -fn {file_name}"
   ]
  }
 ],
 "metadata": {
  "kernelspec": {
   "display_name": "RLSRWP_2025",
   "language": "python",
   "name": "python3"
  },
  "language_info": {
   "codemirror_mode": {
    "name": "ipython",
    "version": 3
   },
   "file_extension": ".py",
   "mimetype": "text/x-python",
   "name": "python",
   "nbconvert_exporter": "python",
   "pygments_lexer": "ipython3",
   "version": "3.10.9"
  },
  "nbdime-conflicts": {
   "local_diff": [
    {
     "diff": [
      {
       "diff": [
        {
         "key": 0,
         "length": 1,
         "op": "removerange"
        }
       ],
       "key": "version",
       "op": "patch"
      }
     ],
     "key": "language_info",
     "op": "patch"
    }
   ],
   "remote_diff": [
    {
     "diff": [
      {
       "diff": [
        {
         "diff": [
          {
           "key": 6,
           "op": "addrange",
           "valuelist": "2"
          },
          {
           "key": 6,
           "length": 1,
           "op": "removerange"
          }
         ],
         "key": 0,
         "op": "patch"
        }
       ],
       "key": "version",
       "op": "patch"
      }
     ],
     "key": "language_info",
     "op": "patch"
    }
   ]
  }
 },
 "nbformat": 4,
 "nbformat_minor": 4
}
