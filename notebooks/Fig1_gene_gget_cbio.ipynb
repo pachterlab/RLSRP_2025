{
 "cells": [
  {
   "cell_type": "markdown",
   "metadata": {},
   "source": [
    "# Gene Analysis, heatmaps - gget cbio"
   ]
  },
  {
   "cell_type": "code",
   "execution_count": 1,
   "metadata": {},
   "outputs": [],
   "source": [
    "# try:\n",
    "#     import varseek as vk\n",
    "# except ImportError:\n",
    "#     print(\"varseek not found, installing...\")\n",
    "#     !pip install -U -q varseek\n",
    "# try:\n",
    "#     import RLSRWP_2025\n",
    "# except ImportError:\n",
    "#     print(\"RLSRWP_2025 not found, installing...\")\n",
    "#     !pip install -q git+https://github.com/pachterlab/RLSRWP_2025.git\n",
    "# try:\n",
    "#     import gget\n",
    "# except ImportError:\n",
    "#     print(\"gget not found, installing...\")\n",
    "#     !pip install -U -q gget"
   ]
  },
  {
   "cell_type": "code",
   "execution_count": 2,
   "metadata": {},
   "outputs": [],
   "source": [
    "import os\n",
    "import anndata as ad\n",
    "import pandas as pd\n",
    "import gget\n",
    "import subprocess\n",
    "import ast\n",
    "\n",
    "from varseek.utils import convert_mutation_cds_locations_to_cdna, get_ensembl_gene_id_bulk\n",
    "\n",
    "RLSRWP_2025_dir = os.path.dirname(os.path.abspath(\"\"))  # if this notebook resides in RLSRWP_2025/notebooks/0_data_download.ipynb, then this retrieves RLSRWP_2025"
   ]
  },
  {
   "cell_type": "code",
   "execution_count": 3,
   "metadata": {},
   "outputs": [],
   "source": [
    "n = 3\n",
    "sorting_column = \"vcrs_count\"  # \"vcrs_count\" (sort by variant), \"gene_count\" (sort by gene), etc\n",
    "\n",
    "vk_count_out_dir = os.path.join(RLSRWP_2025_dir, \"data\", \"vk_count_out\")\n",
    "adata_path = os.path.join(vk_count_out_dir, \"adata_cleaned.h5ad\")\n",
    "\n",
    "out_dir = os.path.join(vk_count_out_dir, \"analysis\", \"gget_cbio\")\n",
    "\n",
    "reference_dir = os.path.join(RLSRWP_2025_dir, \"data\", \"reference\")\n",
    "cbio_data_dir = os.path.join(reference_dir, \"cbio_data\")\n",
    "cosmic_csv = os.path.join(reference_dir, \"cosmic\", \"CancerMutationCensus_AllData_Tsv_v101_GRCh37\", \"CancerMutationCensus_AllData_v101_GRCh37_mutation_workflow.csv\")\n",
    "sequences_cds = os.path.join(reference_dir, \"ensembl_grch37_release93\", \"Homo_sapiens.GRCh37.cds.all.fa\")\n",
    "sequences_cdna = os.path.join(reference_dir, \"ensembl_grch37_release93\", \"Homo_sapiens.GRCh37.cdna.all.fa\")"
   ]
  },
  {
   "cell_type": "code",
   "execution_count": null,
   "metadata": {},
   "outputs": [],
   "source": [
    "#!!! DOWNLOAD"
   ]
  },
  {
   "cell_type": "code",
   "execution_count": 4,
   "metadata": {},
   "outputs": [
    {
     "data": {
      "application/vnd.microsoft.datawrangler.viewer.v0+json": {
       "columns": [
        {
         "name": "index",
         "rawType": "object",
         "type": "string"
        },
        {
         "name": "vcrs_header",
         "rawType": "object",
         "type": "string"
        },
        {
         "name": "vcrs_count",
         "rawType": "float64",
         "type": "float"
        },
        {
         "name": "gene_name",
         "rawType": "category",
         "type": "unknown"
        }
       ],
       "conversionMethod": "pd.DataFrame",
       "ref": "214b8df4-fb4e-4b02-a045-5c29e65ba14b",
       "rows": [
        [
         "0",
         "ENST00000391429:c.194C>T",
         "0.0",
         "BHLHA9"
        ],
        [
         "1",
         "ENST00000391429:c.128C>A",
         "0.0",
         "BHLHA9"
        ],
        [
         "2",
         "ENST00000391429:c.257C>A",
         "0.0",
         "BHLHA9"
        ],
        [
         "3",
         "ENST00000391429:c.100G>A",
         "0.0",
         "BHLHA9"
        ],
        [
         "4",
         "ENST00000391429:c.99G>A",
         "0.0",
         "BHLHA9"
        ]
       ],
       "shape": {
        "columns": 3,
        "rows": 5
       }
      },
      "text/html": [
       "<div>\n",
       "<style scoped>\n",
       "    .dataframe tbody tr th:only-of-type {\n",
       "        vertical-align: middle;\n",
       "    }\n",
       "\n",
       "    .dataframe tbody tr th {\n",
       "        vertical-align: top;\n",
       "    }\n",
       "\n",
       "    .dataframe thead th {\n",
       "        text-align: right;\n",
       "    }\n",
       "</style>\n",
       "<table border=\"1\" class=\"dataframe\">\n",
       "  <thead>\n",
       "    <tr style=\"text-align: right;\">\n",
       "      <th></th>\n",
       "      <th>vcrs_header</th>\n",
       "      <th>vcrs_count</th>\n",
       "      <th>gene_name</th>\n",
       "    </tr>\n",
       "  </thead>\n",
       "  <tbody>\n",
       "    <tr>\n",
       "      <th>0</th>\n",
       "      <td>ENST00000391429:c.194C&gt;T</td>\n",
       "      <td>0.0</td>\n",
       "      <td>BHLHA9</td>\n",
       "    </tr>\n",
       "    <tr>\n",
       "      <th>1</th>\n",
       "      <td>ENST00000391429:c.128C&gt;A</td>\n",
       "      <td>0.0</td>\n",
       "      <td>BHLHA9</td>\n",
       "    </tr>\n",
       "    <tr>\n",
       "      <th>2</th>\n",
       "      <td>ENST00000391429:c.257C&gt;A</td>\n",
       "      <td>0.0</td>\n",
       "      <td>BHLHA9</td>\n",
       "    </tr>\n",
       "    <tr>\n",
       "      <th>3</th>\n",
       "      <td>ENST00000391429:c.100G&gt;A</td>\n",
       "      <td>0.0</td>\n",
       "      <td>BHLHA9</td>\n",
       "    </tr>\n",
       "    <tr>\n",
       "      <th>4</th>\n",
       "      <td>ENST00000391429:c.99G&gt;A</td>\n",
       "      <td>0.0</td>\n",
       "      <td>BHLHA9</td>\n",
       "    </tr>\n",
       "  </tbody>\n",
       "</table>\n",
       "</div>"
      ],
      "text/plain": [
       "                vcrs_header  vcrs_count gene_name\n",
       "0  ENST00000391429:c.194C>T         0.0    BHLHA9\n",
       "1  ENST00000391429:c.128C>A         0.0    BHLHA9\n",
       "2  ENST00000391429:c.257C>A         0.0    BHLHA9\n",
       "3  ENST00000391429:c.100G>A         0.0    BHLHA9\n",
       "4   ENST00000391429:c.99G>A         0.0    BHLHA9"
      ]
     },
     "execution_count": 4,
     "metadata": {},
     "output_type": "execute_result"
    }
   ],
   "source": [
    "os.makedirs(out_dir, exist_ok=True)\n",
    "adata = ad.read_h5ad(adata_path)\n",
    "\n",
    "# For simplicity, filter out all mutants with ambiguous identity\n",
    "adata = adata[:, adata.var[~adata.var['vcrs_header'].str.contains(';', na=False)].index].copy()\n",
    "\n",
    "adata.var.head()"
   ]
  },
  {
   "cell_type": "code",
   "execution_count": 5,
   "metadata": {},
   "outputs": [],
   "source": [
    "adata_var_columns = adata.var.columns\n",
    "\n",
    "# download cosmic and cdna\n",
    "if not os.path.exists(sequences_cdna):\n",
    "    print(\"Downloading cDNA\")\n",
    "    reference_cdna_dir = os.path.dirname(sequences_cdna) if os.path.dirname(sequences_cdna) else \".\"\n",
    "    gget_ref_command = [\"gget\", \"ref\", \"-w\", \"cdna\", \"-r\", \"93\", \"--out_dir\", reference_cdna_dir, \"-d\", \"human_grch37\"]\n",
    "    subprocess.run(gget_ref_command, check=True)\n",
    "    subprocess.run([\"gunzip\", f\"{sequences_cdna}.gz\"], check=True)\n",
    "if not os.path.exists(sequences_cds):\n",
    "    print(\"Downloading CDS\")\n",
    "    reference_cds_dir = os.path.dirname(sequences_cds) if os.path.dirname(sequences_cds) else \".\"\n",
    "    gget_ref_command = [\"gget\", \"ref\", \"-w\", \"cds\", \"-r\", \"93\", \"--out_dir\", reference_cds_dir, \"-d\", \"human_grch37\"]\n",
    "    subprocess.run(gget_ref_command, check=True)\n",
    "    subprocess.run([\"gunzip\", f\"{sequences_cds}.gz\"], check=True)\n",
    "\n",
    "if not os.path.exists(cosmic_csv):\n",
    "    print(\"Downloading COSMIC\")\n",
    "    reference_out_dir_cosmic = os.path.dirname(os.path.dirname(cosmic_csv))\n",
    "    gget.cosmic(\n",
    "        None,\n",
    "        grch_version=37,\n",
    "        cosmic_version=101,\n",
    "        out=reference_out_dir_cosmic,\n",
    "        mutation_class=\"cancer\",\n",
    "        download_cosmic=True,\n",
    "    )\n",
    "\n",
    "cosmic_df = pd.read_csv(cosmic_csv, nrows=2)\n",
    "\n",
    "if \"mutation_cdna\" not in cosmic_df.columns:\n",
    "    print(\"Converting CDS to cDNA in COSMIC\")\n",
    "    _, _ = convert_mutation_cds_locations_to_cdna(input_csv_path=cosmic_csv, output_csv_path=cosmic_csv, cds_fasta_path=sequences_cds, cdna_fasta_path=sequences_cdna, verbose=True)\n",
    "\n",
    "cosmic_df = pd.read_csv(cosmic_csv, usecols=[\"seq_ID\", \"mutation_cdna\", \"gene_name\"])\n",
    "cosmic_df[\"vcrs_header\"] = cosmic_df[\"seq_ID\"] + \":\" + cosmic_df[\"mutation_cdna\"]\n",
    "\n",
    "if \"gene_name\" not in adata.var.columns:\n",
    "    adata.var = adata.var.merge(cosmic_df[[\"vcrs_header\", \"gene_name\"]], on=\"vcrs_header\", how=\"left\")\n",
    "\n",
    "if sorting_column == \"gene_count\" and \"gene_count\" not in adata.var.columns:\n",
    "    filtered_var = adata.var[adata.var[\"vcrs_count\"] > 0]\n",
    "    gene_counts = filtered_var[\"gene_name\"].value_counts()\n",
    "    adata.var[\"gene_count\"] = adata.var[\"gene_name\"].map(gene_counts).fillna(0).astype(int)\n",
    "    del filtered_var\n",
    "\n",
    "if set(adata_var_columns) != set(adata.var.columns):\n",
    "    adata.write_h5ad(adata_path)"
   ]
  },
  {
   "cell_type": "code",
   "execution_count": 6,
   "metadata": {},
   "outputs": [
    {
     "data": {
      "application/vnd.microsoft.datawrangler.viewer.v0+json": {
       "columns": [
        {
         "name": "index",
         "rawType": "object",
         "type": "string"
        },
        {
         "name": "vcrs_header",
         "rawType": "object",
         "type": "string"
        },
        {
         "name": "vcrs_count",
         "rawType": "float64",
         "type": "float"
        },
        {
         "name": "gene_name",
         "rawType": "category",
         "type": "unknown"
        }
       ],
       "conversionMethod": "pd.DataFrame",
       "ref": "0ee3054d-72c1-441c-bdcb-362565a2679c",
       "rows": [
        [
         "691684",
         "ENST00000362079:c.760G>A",
         "10166.0",
         "MT-CO3"
        ],
        [
         "2675243",
         "ENST00000393099:c.583G>A",
         "7259.0",
         "RPL13"
        ],
        [
         "2021384",
         "ENST00000251453:c.455C>T",
         "5370.0",
         "RPS16"
        ],
        [
         "4543187",
         "ENST00000423316:c.2076C>T",
         "4317.0",
         "EEF1D"
        ],
        [
         "2685771",
         "ENST00000593646:c.53G>A",
         "2736.0",
         "AC040977.1"
        ]
       ],
       "shape": {
        "columns": 3,
        "rows": 5
       }
      },
      "text/html": [
       "<div>\n",
       "<style scoped>\n",
       "    .dataframe tbody tr th:only-of-type {\n",
       "        vertical-align: middle;\n",
       "    }\n",
       "\n",
       "    .dataframe tbody tr th {\n",
       "        vertical-align: top;\n",
       "    }\n",
       "\n",
       "    .dataframe thead th {\n",
       "        text-align: right;\n",
       "    }\n",
       "</style>\n",
       "<table border=\"1\" class=\"dataframe\">\n",
       "  <thead>\n",
       "    <tr style=\"text-align: right;\">\n",
       "      <th></th>\n",
       "      <th>vcrs_header</th>\n",
       "      <th>vcrs_count</th>\n",
       "      <th>gene_name</th>\n",
       "    </tr>\n",
       "  </thead>\n",
       "  <tbody>\n",
       "    <tr>\n",
       "      <th>691684</th>\n",
       "      <td>ENST00000362079:c.760G&gt;A</td>\n",
       "      <td>10166.0</td>\n",
       "      <td>MT-CO3</td>\n",
       "    </tr>\n",
       "    <tr>\n",
       "      <th>2675243</th>\n",
       "      <td>ENST00000393099:c.583G&gt;A</td>\n",
       "      <td>7259.0</td>\n",
       "      <td>RPL13</td>\n",
       "    </tr>\n",
       "    <tr>\n",
       "      <th>2021384</th>\n",
       "      <td>ENST00000251453:c.455C&gt;T</td>\n",
       "      <td>5370.0</td>\n",
       "      <td>RPS16</td>\n",
       "    </tr>\n",
       "    <tr>\n",
       "      <th>4543187</th>\n",
       "      <td>ENST00000423316:c.2076C&gt;T</td>\n",
       "      <td>4317.0</td>\n",
       "      <td>EEF1D</td>\n",
       "    </tr>\n",
       "    <tr>\n",
       "      <th>2685771</th>\n",
       "      <td>ENST00000593646:c.53G&gt;A</td>\n",
       "      <td>2736.0</td>\n",
       "      <td>AC040977.1</td>\n",
       "    </tr>\n",
       "  </tbody>\n",
       "</table>\n",
       "</div>"
      ],
      "text/plain": [
       "                       vcrs_header  vcrs_count   gene_name\n",
       "691684    ENST00000362079:c.760G>A     10166.0      MT-CO3\n",
       "2675243   ENST00000393099:c.583G>A      7259.0       RPL13\n",
       "2021384   ENST00000251453:c.455C>T      5370.0       RPS16\n",
       "4543187  ENST00000423316:c.2076C>T      4317.0       EEF1D\n",
       "2685771    ENST00000593646:c.53G>A      2736.0  AC040977.1"
      ]
     },
     "execution_count": 6,
     "metadata": {},
     "output_type": "execute_result"
    }
   ],
   "source": [
    "adata.var = adata.var.sort_values(by=sorting_column, ascending=False)\n",
    "adata.var.head()"
   ]
  },
  {
   "cell_type": "code",
   "execution_count": 7,
   "metadata": {},
   "outputs": [
    {
     "name": "stdout",
     "output_type": "stream",
     "text": [
      "['ENST00000362079', 'ENST00000393099', 'ENST00000251453']\n"
     ]
    }
   ],
   "source": [
    "top_variants = adata.var[\"vcrs_header\"][:n].tolist()\n",
    "top_transcripts = [header.split(\":\")[0] for header in top_variants]\n",
    "top_transcripts = list(dict.fromkeys(top_transcripts))  # remove duplicates while preserving order\n",
    "print(top_transcripts)"
   ]
  },
  {
   "cell_type": "markdown",
   "metadata": {},
   "source": [
    "### While I could simply get the gene names from adata.var, it is more reliable to get them from Ensembl transcript IDs"
   ]
  },
  {
   "cell_type": "code",
   "execution_count": 8,
   "metadata": {},
   "outputs": [
    {
     "name": "stdout",
     "output_type": "stream",
     "text": [
      "['ENSG00000198938', 'ENSG00000167526', 'ENSG00000105193']\n"
     ]
    }
   ],
   "source": [
    "transcript_to_gene_mapping = get_ensembl_gene_id_bulk(top_transcripts)\n",
    "top_genes = [transcript_to_gene_mapping[transcript] for transcript in top_transcripts]\n",
    "print(top_genes)"
   ]
  },
  {
   "cell_type": "markdown",
   "metadata": {},
   "source": [
    "### Find studies in the cBioPortal database that focus on the organ of interest - in this case, the skin"
   ]
  },
  {
   "cell_type": "code",
   "execution_count": 9,
   "metadata": {},
   "outputs": [
    {
     "data": {
      "text/plain": [
       "['mel_mskimpact_2020',\n",
       " 'normal_skin_fibroblast_2024',\n",
       " 'normal_skin_keratinocytes_2024',\n",
       " 'normal_skin_melanocytes_2024',\n",
       " 'skcm_broad',\n",
       " 'skcm_broad_brafresist_2012',\n",
       " 'skcm_broad_dfarber',\n",
       " 'skcm_dfci_2015',\n",
       " 'skcm_mskcc_2014',\n",
       " 'skcm_tcga',\n",
       " 'skcm_tcga_gdc',\n",
       " 'skcm_tcga_pan_can_atlas_2018',\n",
       " 'skcm_tcga_pub_2015',\n",
       " 'skcm_vanderbilt_mskcc_2015',\n",
       " 'skcm_yale']"
      ]
     },
     "execution_count": 9,
     "metadata": {},
     "output_type": "execute_result"
    }
   ],
   "source": [
    "skin_studies = !gget cbio search skin\n",
    "skin_studies = ast.literal_eval(\"\".join(skin_studies))  # list-like string --> list\n",
    "skin_studies"
   ]
  },
  {
   "cell_type": "code",
   "execution_count": 10,
   "metadata": {},
   "outputs": [],
   "source": [
    "# list --> space-separated string\n",
    "top_genes = \" \".join(top_genes)\n",
    "skin_studies = \" \".join(skin_studies)"
   ]
  },
  {
   "cell_type": "code",
   "execution_count": null,
   "metadata": {},
   "outputs": [
    {
     "name": "stdout",
     "output_type": "stream",
     "text": [
      "01:09:51 - INFO - Downloading data\n",
      "01:09:51 - INFO - File /Users/joeyrich/Desktop/local/RLSRWP_2025/data/reference/cbio_data/mel_mskimpact_2020/mutations.txt already exists, skipping.\n",
      "01:09:51 - INFO - File /Users/joeyrich/Desktop/local/RLSRWP_2025/data/reference/cbio_data/mel_mskimpact_2020/cna.txt already exists, skipping.\n",
      "01:09:51 - INFO - File /Users/joeyrich/Desktop/local/RLSRWP_2025/data/reference/cbio_data/mel_mskimpact_2020/sv.txt already exists, skipping.\n",
      "01:09:51 - INFO - File /Users/joeyrich/Desktop/local/RLSRWP_2025/data/reference/cbio_data/mel_mskimpact_2020/clinical_patient.txt already exists, skipping.\n",
      "01:09:51 - INFO - File /Users/joeyrich/Desktop/local/RLSRWP_2025/data/reference/cbio_data/mel_mskimpact_2020/clinical_sample.txt already exists, skipping.\n",
      "01:09:51 - INFO - Downloaded all data for study mel_mskimpact_2020\n",
      "01:09:51 - ERROR - Failed to download mutations data for study normal_skin_fibroblast_2024\n",
      "01:09:51 - ERROR - Failed to download cna data for study normal_skin_fibroblast_2024\n",
      "01:09:52 - ERROR - Failed to download sv data for study normal_skin_fibroblast_2024\n",
      "01:09:52 - ERROR - Failed to download clinical_patient data for study normal_skin_fibroblast_2024\n",
      "01:09:52 - ERROR - Failed to download clinical_sample data for study normal_skin_fibroblast_2024\n",
      "01:09:52 - INFO - Downloaded all data for study normal_skin_fibroblast_2024\n",
      "01:09:52 - ERROR - Failed to download mutations data for study normal_skin_keratinocytes_2024\n",
      "01:09:53 - ERROR - Failed to download cna data for study normal_skin_keratinocytes_2024\n",
      "01:09:53 - ERROR - Failed to download sv data for study normal_skin_keratinocytes_2024\n",
      "01:09:53 - ERROR - Failed to download clinical_patient data for study normal_skin_keratinocytes_2024\n",
      "01:09:54 - ERROR - Failed to download clinical_sample data for study normal_skin_keratinocytes_2024\n",
      "01:09:54 - INFO - Downloaded all data for study normal_skin_keratinocytes_2024\n",
      "01:09:54 - ERROR - Failed to download mutations data for study normal_skin_melanocytes_2024\n",
      "01:09:54 - ERROR - Failed to download cna data for study normal_skin_melanocytes_2024\n",
      "01:09:54 - ERROR - Failed to download sv data for study normal_skin_melanocytes_2024\n",
      "01:09:55 - ERROR - Failed to download clinical_patient data for study normal_skin_melanocytes_2024\n",
      "01:09:55 - ERROR - Failed to download clinical_sample data for study normal_skin_melanocytes_2024\n",
      "01:09:55 - INFO - Downloaded all data for study normal_skin_melanocytes_2024\n",
      "01:10:00 - INFO - Downloaded object 2be64f22b2e9f06f6d37d639e498e0638329366f4e503cd41de9aec822b9f8d3 to /Users/joeyrich/Desktop/local/RLSRWP_2025/data/reference/cbio_data/skcm_broad/mutations.txt\n",
      "01:10:00 - ERROR - Failed to download cna data for study skcm_broad\n",
      "01:10:00 - ERROR - Failed to download sv data for study skcm_broad\n",
      "01:10:01 - INFO - Downloaded object 44023184f9c2a25b5b651cf904721f7a9b82930cac3400df6f66ef55c0d5b76d to /Users/joeyrich/Desktop/local/RLSRWP_2025/data/reference/cbio_data/skcm_broad/clinical_patient.txt\n",
      "01:10:02 - INFO - Downloaded object 3033a36b5bad017cb9f46bdf3baf8e51c693e2104ae9538a6b5519f69be8bbf0 to /Users/joeyrich/Desktop/local/RLSRWP_2025/data/reference/cbio_data/skcm_broad/clinical_sample.txt\n",
      "01:10:02 - INFO - Downloaded all data for study skcm_broad\n",
      "01:10:03 - INFO - Downloaded object 1baa21a6bac12e8c96f5a9b6e0ef138efc0e0e5b288cf59c0a4eea1ffbb9f72b to /Users/joeyrich/Desktop/local/RLSRWP_2025/data/reference/cbio_data/skcm_broad_brafresist_2012/mutations.txt\n",
      "01:10:04 - ERROR - Failed to download cna data for study skcm_broad_brafresist_2012\n",
      "01:10:05 - ERROR - Failed to download sv data for study skcm_broad_brafresist_2012\n",
      "01:10:06 - INFO - Downloaded object 25abf26c3bdde09f404fe334eaf50290a4e97cd316383379065f9a8db5dc3394 to /Users/joeyrich/Desktop/local/RLSRWP_2025/data/reference/cbio_data/skcm_broad_brafresist_2012/clinical_patient.txt\n",
      "01:10:07 - INFO - Downloaded object 9d355f3b404495fddc9b8a1af854af89183e6bf6343f36d19409cbdc3822b5dd to /Users/joeyrich/Desktop/local/RLSRWP_2025/data/reference/cbio_data/skcm_broad_brafresist_2012/clinical_sample.txt\n",
      "01:10:07 - INFO - Downloaded all data for study skcm_broad_brafresist_2012\n",
      "01:10:09 - INFO - Downloaded object 1348213bc14adb1fbd033aba38ce363cf02dc848b04c6df0a886a642c4180627 to /Users/joeyrich/Desktop/local/RLSRWP_2025/data/reference/cbio_data/skcm_broad_dfarber/mutations.txt\n",
      "01:10:10 - ERROR - Failed to download cna data for study skcm_broad_dfarber\n",
      "01:10:10 - ERROR - Failed to download sv data for study skcm_broad_dfarber\n",
      "01:10:11 - INFO - Downloaded object 5a6647c23d9961c248831710c711f7d6ae82a288619c1413b605fc2d29fcb397 to /Users/joeyrich/Desktop/local/RLSRWP_2025/data/reference/cbio_data/skcm_broad_dfarber/clinical_patient.txt\n",
      "01:10:13 - INFO - Downloaded object b0b2e01de2af2856ecb91f35f7934a53f3d2f0a2738efcc4bf19ca2b0e2af4a7 to /Users/joeyrich/Desktop/local/RLSRWP_2025/data/reference/cbio_data/skcm_broad_dfarber/clinical_sample.txt\n",
      "01:10:13 - INFO - Downloaded all data for study skcm_broad_dfarber\n",
      "01:10:17 - INFO - Downloaded object 48e2a8101b47bf4a061b8fef3443783a3c84aa2e8cdd8b2aa995b9dfa002c878 to /Users/joeyrich/Desktop/local/RLSRWP_2025/data/reference/cbio_data/skcm_dfci_2015/mutations.txt\n",
      "01:10:18 - INFO - Downloaded object 22fb2fd8d13a2d48eddb7efe45f1cfcbcbfca3f24551d4361fcf9c1c52b1a299 to /Users/joeyrich/Desktop/local/RLSRWP_2025/data/reference/cbio_data/skcm_dfci_2015/cna.txt\n",
      "01:10:19 - ERROR - Failed to download sv data for study skcm_dfci_2015\n",
      "01:10:20 - INFO - Downloaded object c684b93833c3e1983fa94beb77eb6b9c033571c8c560ed83801806ae3e278ce0 to /Users/joeyrich/Desktop/local/RLSRWP_2025/data/reference/cbio_data/skcm_dfci_2015/clinical_patient.txt\n",
      "01:10:21 - INFO - Downloaded object 2c37d96c0daf6c9660aaea928ae7a129072e80fec048b90a6ac2aefd50399f9d to /Users/joeyrich/Desktop/local/RLSRWP_2025/data/reference/cbio_data/skcm_dfci_2015/clinical_sample.txt\n",
      "01:10:21 - INFO - Downloaded all data for study skcm_dfci_2015\n",
      "01:10:22 - INFO - Downloaded object 4f6c4ffd3e6adcf51ab033ceb415381082108083a60b4bb4ae13e54e9837d900 to /Users/joeyrich/Desktop/local/RLSRWP_2025/data/reference/cbio_data/skcm_mskcc_2014/mutations.txt\n",
      "01:10:23 - INFO - Downloaded object e8a4528ae4ec000b6e3fdd4f4eb78f44f17504d4dff453aa5d155cbee4ff1460 to /Users/joeyrich/Desktop/local/RLSRWP_2025/data/reference/cbio_data/skcm_mskcc_2014/cna.txt\n",
      "01:10:24 - ERROR - Failed to download sv data for study skcm_mskcc_2014\n",
      "01:10:25 - INFO - Downloaded object 66cde7306cb1b9bea3e3249c170c7beaaadf798a82fa72d34cc7442c7eaec6c0 to /Users/joeyrich/Desktop/local/RLSRWP_2025/data/reference/cbio_data/skcm_mskcc_2014/clinical_patient.txt\n",
      "01:10:25 - INFO - Downloaded object fae4f196a381023b2db1c14f097a6ebf87906f95c650465676b2089d0035be98 to /Users/joeyrich/Desktop/local/RLSRWP_2025/data/reference/cbio_data/skcm_mskcc_2014/clinical_sample.txt\n",
      "01:10:25 - INFO - Downloaded all data for study skcm_mskcc_2014\n",
      "01:10:33 - INFO - Downloaded object 3f8ffbaab37a80a397f191dfe291be57cd12efb83a3b2041a43d2b5f48a2b964 to /Users/joeyrich/Desktop/local/RLSRWP_2025/data/reference/cbio_data/skcm_tcga/mutations.txt\n",
      "01:10:34 - INFO - Downloaded object 7158d79dd87b7c5d060ef61aa244dac6cb1c60bdfdabf11a85cc0cfea653b3f9 to /Users/joeyrich/Desktop/local/RLSRWP_2025/data/reference/cbio_data/skcm_tcga/cna.txt\n",
      "01:10:35 - ERROR - Failed to download sv data for study skcm_tcga\n",
      "01:10:36 - INFO - Downloaded object f13af06019ffa3dade5752af9e40753d961c2f44e66929b7622977be3942d574 to /Users/joeyrich/Desktop/local/RLSRWP_2025/data/reference/cbio_data/skcm_tcga/clinical_patient.txt\n",
      "01:10:37 - INFO - Downloaded object f3f23b02afb2aee83036e33aaa8dfa7b310a21411c208216af67b9e3fc8eea33 to /Users/joeyrich/Desktop/local/RLSRWP_2025/data/reference/cbio_data/skcm_tcga/clinical_sample.txt\n",
      "01:10:37 - INFO - Downloaded all data for study skcm_tcga\n",
      "01:10:37 - ERROR - Failed to download mutations data for study skcm_tcga_gdc\n",
      "01:10:38 - ERROR - Failed to download cna data for study skcm_tcga_gdc\n",
      "01:10:38 - ERROR - Failed to download sv data for study skcm_tcga_gdc\n",
      "01:10:38 - ERROR - Failed to download clinical_patient data for study skcm_tcga_gdc\n",
      "01:10:38 - ERROR - Failed to download clinical_sample data for study skcm_tcga_gdc\n",
      "01:10:38 - INFO - Downloaded all data for study skcm_tcga_gdc\n",
      "01:10:50 - INFO - Downloaded object 0b73fbd79b57aa387f64c78e8f20660bdcb72dd2e105689bd549839274349eb4 to /Users/joeyrich/Desktop/local/RLSRWP_2025/data/reference/cbio_data/skcm_tcga_pan_can_atlas_2018/mutations.txt\n",
      "01:10:52 - INFO - Downloaded object c4fa32fe60e1b4c2017d5165feadaa6dba6e35cfb69e90a1d41f969a13987942 to /Users/joeyrich/Desktop/local/RLSRWP_2025/data/reference/cbio_data/skcm_tcga_pan_can_atlas_2018/cna.txt\n",
      "01:10:52 - INFO - Downloaded object 651dafc440d69a6e71b5b24b345f9d465a85c7206de2f581cd3b2bfed796fc25 to /Users/joeyrich/Desktop/local/RLSRWP_2025/data/reference/cbio_data/skcm_tcga_pan_can_atlas_2018/sv.txt\n",
      "01:10:53 - INFO - Downloaded object f512d71fb1347ae228c57ceed1de44a1c063fc00ce060172b34668b2a4235cdc to /Users/joeyrich/Desktop/local/RLSRWP_2025/data/reference/cbio_data/skcm_tcga_pan_can_atlas_2018/clinical_patient.txt\n",
      "01:10:54 - INFO - Downloaded object 1da0e866ba04db38a3efc98da78bff1ffb6204558859c7546683f791995fc90d to /Users/joeyrich/Desktop/local/RLSRWP_2025/data/reference/cbio_data/skcm_tcga_pan_can_atlas_2018/clinical_sample.txt\n",
      "01:10:54 - INFO - Downloaded all data for study skcm_tcga_pan_can_atlas_2018\n",
      "01:11:00 - INFO - Downloaded object 7a11d571c14e12882cd3a9a1e9a7a149dadd243e033cce2a5ce7f72f30cb3e7e to /Users/joeyrich/Desktop/local/RLSRWP_2025/data/reference/cbio_data/skcm_tcga_pub_2015/mutations.txt\n",
      "01:11:01 - ERROR - Failed to download cna data for study skcm_tcga_pub_2015\n",
      "01:11:01 - ERROR - Failed to download sv data for study skcm_tcga_pub_2015\n",
      "01:11:02 - INFO - Downloaded object 2d98aa085f183a6aefc21573ace7bd9f88b899eb3709c7c5c1c5a894534ef955 to /Users/joeyrich/Desktop/local/RLSRWP_2025/data/reference/cbio_data/skcm_tcga_pub_2015/clinical_patient.txt\n",
      "01:11:02 - INFO - Downloaded object 475bc369672bef951c85198e57a540fd2a6ff6e9ec004ba958e881a96a51b825 to /Users/joeyrich/Desktop/local/RLSRWP_2025/data/reference/cbio_data/skcm_tcga_pub_2015/clinical_sample.txt\n",
      "01:11:02 - INFO - Downloaded all data for study skcm_tcga_pub_2015\n",
      "01:11:03 - INFO - Downloaded object 0c960a620df9a757be3096fc73e1a443155e60cbfcb0b951d68aeeea7369f97a to /Users/joeyrich/Desktop/local/RLSRWP_2025/data/reference/cbio_data/skcm_vanderbilt_mskcc_2015/mutations.txt\n",
      "01:11:04 - INFO - Downloaded object 66f69102fc8b47abe10160488f7392d192302d7a679f5c98c640c0954b382d6f to /Users/joeyrich/Desktop/local/RLSRWP_2025/data/reference/cbio_data/skcm_vanderbilt_mskcc_2015/cna.txt\n",
      "01:11:04 - ERROR - Failed to download sv data for study skcm_vanderbilt_mskcc_2015\n",
      "01:11:05 - INFO - Downloaded object c611d3d38d71c33d367cc50444709800a5742b544ebacff92b20b7c44723e23e to /Users/joeyrich/Desktop/local/RLSRWP_2025/data/reference/cbio_data/skcm_vanderbilt_mskcc_2015/clinical_patient.txt\n",
      "01:11:06 - INFO - Downloaded object f7eba84d2532983405acd8e0b57d8178908a4f33e8aea37b759e8861d4ba9701 to /Users/joeyrich/Desktop/local/RLSRWP_2025/data/reference/cbio_data/skcm_vanderbilt_mskcc_2015/clinical_sample.txt\n",
      "01:11:06 - INFO - Downloaded all data for study skcm_vanderbilt_mskcc_2015\n",
      "01:11:09 - INFO - Downloaded object 84a90e93158e6d6d4d3f5da491d6257e854b5f24af269e6daaddc566e444dd3b to /Users/joeyrich/Desktop/local/RLSRWP_2025/data/reference/cbio_data/skcm_yale/mutations.txt\n",
      "01:11:09 - ERROR - Failed to download cna data for study skcm_yale\n",
      "01:11:09 - ERROR - Failed to download sv data for study skcm_yale\n",
      "01:11:10 - INFO - Downloaded object 36f640b8556c6e2f933e07b00522267aac14f15677dd4441a7643fa4880485d7 to /Users/joeyrich/Desktop/local/RLSRWP_2025/data/reference/cbio_data/skcm_yale/clinical_patient.txt\n",
      "01:11:11 - INFO - Downloaded object 2c7cd93f1f7c42b8515683ad626dd02555f8467153aca84693380788c2eea306 to /Users/joeyrich/Desktop/local/RLSRWP_2025/data/reference/cbio_data/skcm_yale/clinical_sample.txt\n",
      "01:11:11 - INFO - Downloaded all data for study skcm_yale\n",
      "01:11:11 - INFO - Downloaded all data for all studies\n",
      "01:11:11 - ERROR - Failed to download data. Continuing with available studies\n",
      "01:11:11 - INFO - Loading data\n",
      "/Users/joeyrich/miniconda3/envs/RLSRWP_2025/lib/python3.10/site-packages/gget/gget_cbio.py:530: DtypeWarning: Columns (48,87) have mixed types. Specify dtype option on import or set low_memory=False.\n",
      "  mutation_df = pd.read_csv(os.path.join(data_folder, \"mutations.txt\"), sep=\"\\t\")\n",
      "01:11:13 - ERROR - Error processing study normal_skin_fibroblast_2024: [Errno 2] No such file or directory: '/Users/joeyrich/Desktop/local/RLSRWP_2025/data/reference/cbio_data/normal_skin_fibroblast_2024/mutations.txt'\n",
      "01:11:13 - ERROR - Error processing study normal_skin_keratinocytes_2024: [Errno 2] No such file or directory: '/Users/joeyrich/Desktop/local/RLSRWP_2025/data/reference/cbio_data/normal_skin_keratinocytes_2024/mutations.txt'\n",
      "01:11:13 - ERROR - Error processing study normal_skin_melanocytes_2024: [Errno 2] No such file or directory: '/Users/joeyrich/Desktop/local/RLSRWP_2025/data/reference/cbio_data/normal_skin_melanocytes_2024/mutations.txt'\n",
      "01:11:13 - INFO - Stripped comments from /Users/joeyrich/Desktop/local/RLSRWP_2025/data/reference/cbio_data/skcm_broad/mutations.txt\n",
      "/Users/joeyrich/miniconda3/envs/RLSRWP_2025/lib/python3.10/site-packages/gget/gget_cbio.py:530: DtypeWarning: Columns (4,53,64,90,113) have mixed types. Specify dtype option on import or set low_memory=False.\n",
      "  mutation_df = pd.read_csv(os.path.join(data_folder, \"mutations.txt\"), sep=\"\\t\")\n",
      "01:11:32 - ERROR - Error processing study skcm_broad: argument of type 'float' is not iterable\n",
      "01:11:37 - ERROR - Error processing study skcm_broad_brafresist_2012: argument of type 'float' is not iterable\n",
      "01:11:42 - ERROR - Error processing study skcm_dfci_2015: argument of type 'float' is not iterable\n",
      "01:11:45 - ERROR - Error processing study skcm_mskcc_2014: argument of type 'float' is not iterable\n",
      "/Users/joeyrich/miniconda3/envs/RLSRWP_2025/lib/python3.10/site-packages/gget/gget_cbio.py:530: DtypeWarning: Columns (46,67,89) have mixed types. Specify dtype option on import or set low_memory=False.\n",
      "  mutation_df = pd.read_csv(os.path.join(data_folder, \"mutations.txt\"), sep=\"\\t\")\n",
      "01:12:11 - ERROR - Error processing study skcm_tcga: argument of type 'float' is not iterable\n",
      "01:12:11 - ERROR - Error processing study skcm_tcga_gdc: [Errno 2] No such file or directory: '/Users/joeyrich/Desktop/local/RLSRWP_2025/data/reference/cbio_data/skcm_tcga_gdc/mutations.txt'\n",
      "/Users/joeyrich/miniconda3/envs/RLSRWP_2025/lib/python3.10/site-packages/gget/gget_cbio.py:530: DtypeWarning: Columns (4,38,39,43,84) have mixed types. Specify dtype option on import or set low_memory=False.\n",
      "  mutation_df = pd.read_csv(os.path.join(data_folder, \"mutations.txt\"), sep=\"\\t\")\n",
      "/Users/joeyrich/miniconda3/envs/RLSRWP_2025/lib/python3.10/site-packages/gget/gget_cbio.py:530: DtypeWarning: Columns (25,51,79,86,96) have mixed types. Specify dtype option on import or set low_memory=False.\n",
      "  mutation_df = pd.read_csv(os.path.join(data_folder, \"mutations.txt\"), sep=\"\\t\")\n",
      "01:13:35 - ERROR - Error processing study skcm_tcga_pub_2015: argument of type 'float' is not iterable\n",
      "01:13:35 - ERROR - Error processing study skcm_vanderbilt_mskcc_2015: \"['Cancer Type Detailed'] not in index\"\n",
      "/Users/joeyrich/miniconda3/envs/RLSRWP_2025/lib/python3.10/site-packages/gget/gget_cbio.py:530: DtypeWarning: Columns (4,47) have mixed types. Specify dtype option on import or set low_memory=False.\n",
      "  mutation_df = pd.read_csv(os.path.join(data_folder, \"mutations.txt\"), sep=\"\\t\")\n",
      "01:13:38 - INFO - Data loaded\n",
      "01:13:38 - INFO - Plotting data\n",
      "Figure(1800x400)\n"
     ]
    }
   ],
   "source": [
    "stratification = \"cancer_type_detailed\"\n",
    "counts = \"mutation_occurrences\"\n",
    "file_name = f\"top_{n}_{sorting_column}_{stratification}_{counts}.png\"\n",
    "!gget cbio plot -s {skin_studies} -g {top_genes} -st {stratification} -vt {counts} -nc -dd {cbio_data_dir} -fd {out_dir} -fn {file_name}"
   ]
  },
  {
   "cell_type": "code",
   "execution_count": 12,
   "metadata": {},
   "outputs": [
    {
     "name": "stdout",
     "output_type": "stream",
     "text": [
      "01:15:42 - INFO - Downloading data\n",
      "01:15:42 - INFO - File /Users/joeyrich/Desktop/local/RLSRWP_2025/data/reference/cbio_data/mel_mskimpact_2020/mutations.txt already exists, skipping.\n",
      "01:15:42 - INFO - File /Users/joeyrich/Desktop/local/RLSRWP_2025/data/reference/cbio_data/mel_mskimpact_2020/cna.txt already exists, skipping.\n",
      "01:15:42 - INFO - File /Users/joeyrich/Desktop/local/RLSRWP_2025/data/reference/cbio_data/mel_mskimpact_2020/sv.txt already exists, skipping.\n",
      "01:15:42 - INFO - File /Users/joeyrich/Desktop/local/RLSRWP_2025/data/reference/cbio_data/mel_mskimpact_2020/clinical_patient.txt already exists, skipping.\n",
      "01:15:42 - INFO - File /Users/joeyrich/Desktop/local/RLSRWP_2025/data/reference/cbio_data/mel_mskimpact_2020/clinical_sample.txt already exists, skipping.\n",
      "01:15:42 - INFO - Downloaded all data for study mel_mskimpact_2020\n",
      "01:15:42 - ERROR - Failed to download mutations data for study normal_skin_fibroblast_2024\n",
      "01:15:43 - ERROR - Failed to download cna data for study normal_skin_fibroblast_2024\n",
      "01:15:43 - ERROR - Failed to download sv data for study normal_skin_fibroblast_2024\n",
      "01:15:44 - ERROR - Failed to download clinical_patient data for study normal_skin_fibroblast_2024\n",
      "01:15:44 - ERROR - Failed to download clinical_sample data for study normal_skin_fibroblast_2024\n",
      "01:15:44 - INFO - Downloaded all data for study normal_skin_fibroblast_2024\n",
      "01:15:44 - ERROR - Failed to download mutations data for study normal_skin_keratinocytes_2024\n",
      "01:15:45 - ERROR - Failed to download cna data for study normal_skin_keratinocytes_2024\n",
      "01:15:45 - ERROR - Failed to download sv data for study normal_skin_keratinocytes_2024\n",
      "01:15:46 - ERROR - Failed to download clinical_patient data for study normal_skin_keratinocytes_2024\n",
      "01:15:46 - ERROR - Failed to download clinical_sample data for study normal_skin_keratinocytes_2024\n",
      "01:15:46 - INFO - Downloaded all data for study normal_skin_keratinocytes_2024\n",
      "01:15:47 - ERROR - Failed to download mutations data for study normal_skin_melanocytes_2024\n",
      "01:15:47 - ERROR - Failed to download cna data for study normal_skin_melanocytes_2024\n",
      "01:15:47 - ERROR - Failed to download sv data for study normal_skin_melanocytes_2024\n",
      "01:15:48 - ERROR - Failed to download clinical_patient data for study normal_skin_melanocytes_2024\n",
      "01:15:48 - ERROR - Failed to download clinical_sample data for study normal_skin_melanocytes_2024\n",
      "01:15:48 - INFO - Downloaded all data for study normal_skin_melanocytes_2024\n",
      "01:15:48 - INFO - File /Users/joeyrich/Desktop/local/RLSRWP_2025/data/reference/cbio_data/skcm_broad/mutations.txt already exists, skipping.\n",
      "01:15:49 - ERROR - Failed to download cna data for study skcm_broad\n",
      "01:15:49 - ERROR - Failed to download sv data for study skcm_broad\n",
      "01:15:49 - INFO - File /Users/joeyrich/Desktop/local/RLSRWP_2025/data/reference/cbio_data/skcm_broad/clinical_patient.txt already exists, skipping.\n",
      "01:15:49 - INFO - File /Users/joeyrich/Desktop/local/RLSRWP_2025/data/reference/cbio_data/skcm_broad/clinical_sample.txt already exists, skipping.\n",
      "01:15:49 - INFO - Downloaded all data for study skcm_broad\n",
      "01:15:49 - INFO - File /Users/joeyrich/Desktop/local/RLSRWP_2025/data/reference/cbio_data/skcm_broad_brafresist_2012/mutations.txt already exists, skipping.\n",
      "01:15:49 - ERROR - Failed to download cna data for study skcm_broad_brafresist_2012\n",
      "01:15:50 - ERROR - Failed to download sv data for study skcm_broad_brafresist_2012\n",
      "01:15:50 - INFO - File /Users/joeyrich/Desktop/local/RLSRWP_2025/data/reference/cbio_data/skcm_broad_brafresist_2012/clinical_patient.txt already exists, skipping.\n",
      "01:15:50 - INFO - File /Users/joeyrich/Desktop/local/RLSRWP_2025/data/reference/cbio_data/skcm_broad_brafresist_2012/clinical_sample.txt already exists, skipping.\n",
      "01:15:50 - INFO - Downloaded all data for study skcm_broad_brafresist_2012\n",
      "01:15:50 - INFO - File /Users/joeyrich/Desktop/local/RLSRWP_2025/data/reference/cbio_data/skcm_broad_dfarber/mutations.txt already exists, skipping.\n",
      "01:15:50 - ERROR - Failed to download cna data for study skcm_broad_dfarber\n",
      "01:15:50 - ERROR - Failed to download sv data for study skcm_broad_dfarber\n",
      "01:15:50 - INFO - File /Users/joeyrich/Desktop/local/RLSRWP_2025/data/reference/cbio_data/skcm_broad_dfarber/clinical_patient.txt already exists, skipping.\n",
      "01:15:50 - INFO - File /Users/joeyrich/Desktop/local/RLSRWP_2025/data/reference/cbio_data/skcm_broad_dfarber/clinical_sample.txt already exists, skipping.\n",
      "01:15:50 - INFO - Downloaded all data for study skcm_broad_dfarber\n",
      "01:15:50 - INFO - File /Users/joeyrich/Desktop/local/RLSRWP_2025/data/reference/cbio_data/skcm_dfci_2015/mutations.txt already exists, skipping.\n",
      "01:15:50 - INFO - File /Users/joeyrich/Desktop/local/RLSRWP_2025/data/reference/cbio_data/skcm_dfci_2015/cna.txt already exists, skipping.\n",
      "01:15:51 - ERROR - Failed to download sv data for study skcm_dfci_2015\n",
      "01:15:51 - INFO - File /Users/joeyrich/Desktop/local/RLSRWP_2025/data/reference/cbio_data/skcm_dfci_2015/clinical_patient.txt already exists, skipping.\n",
      "01:15:51 - INFO - File /Users/joeyrich/Desktop/local/RLSRWP_2025/data/reference/cbio_data/skcm_dfci_2015/clinical_sample.txt already exists, skipping.\n",
      "01:15:51 - INFO - Downloaded all data for study skcm_dfci_2015\n",
      "01:15:51 - INFO - File /Users/joeyrich/Desktop/local/RLSRWP_2025/data/reference/cbio_data/skcm_mskcc_2014/mutations.txt already exists, skipping.\n",
      "01:15:51 - INFO - File /Users/joeyrich/Desktop/local/RLSRWP_2025/data/reference/cbio_data/skcm_mskcc_2014/cna.txt already exists, skipping.\n",
      "01:15:51 - ERROR - Failed to download sv data for study skcm_mskcc_2014\n",
      "01:15:51 - INFO - File /Users/joeyrich/Desktop/local/RLSRWP_2025/data/reference/cbio_data/skcm_mskcc_2014/clinical_patient.txt already exists, skipping.\n",
      "01:15:51 - INFO - File /Users/joeyrich/Desktop/local/RLSRWP_2025/data/reference/cbio_data/skcm_mskcc_2014/clinical_sample.txt already exists, skipping.\n",
      "01:15:51 - INFO - Downloaded all data for study skcm_mskcc_2014\n",
      "01:15:51 - INFO - File /Users/joeyrich/Desktop/local/RLSRWP_2025/data/reference/cbio_data/skcm_tcga/mutations.txt already exists, skipping.\n",
      "01:15:51 - INFO - File /Users/joeyrich/Desktop/local/RLSRWP_2025/data/reference/cbio_data/skcm_tcga/cna.txt already exists, skipping.\n",
      "01:15:51 - ERROR - Failed to download sv data for study skcm_tcga\n",
      "01:15:51 - INFO - File /Users/joeyrich/Desktop/local/RLSRWP_2025/data/reference/cbio_data/skcm_tcga/clinical_patient.txt already exists, skipping.\n",
      "01:15:51 - INFO - File /Users/joeyrich/Desktop/local/RLSRWP_2025/data/reference/cbio_data/skcm_tcga/clinical_sample.txt already exists, skipping.\n",
      "01:15:51 - INFO - Downloaded all data for study skcm_tcga\n",
      "01:15:52 - ERROR - Failed to download mutations data for study skcm_tcga_gdc\n",
      "01:15:52 - ERROR - Failed to download cna data for study skcm_tcga_gdc\n",
      "01:15:52 - ERROR - Failed to download sv data for study skcm_tcga_gdc\n",
      "01:15:52 - ERROR - Failed to download clinical_patient data for study skcm_tcga_gdc\n",
      "01:15:53 - ERROR - Failed to download clinical_sample data for study skcm_tcga_gdc\n",
      "01:15:53 - INFO - Downloaded all data for study skcm_tcga_gdc\n",
      "01:15:53 - INFO - File /Users/joeyrich/Desktop/local/RLSRWP_2025/data/reference/cbio_data/skcm_tcga_pan_can_atlas_2018/mutations.txt already exists, skipping.\n",
      "01:15:53 - INFO - File /Users/joeyrich/Desktop/local/RLSRWP_2025/data/reference/cbio_data/skcm_tcga_pan_can_atlas_2018/cna.txt already exists, skipping.\n",
      "01:15:53 - INFO - File /Users/joeyrich/Desktop/local/RLSRWP_2025/data/reference/cbio_data/skcm_tcga_pan_can_atlas_2018/sv.txt already exists, skipping.\n",
      "01:15:53 - INFO - File /Users/joeyrich/Desktop/local/RLSRWP_2025/data/reference/cbio_data/skcm_tcga_pan_can_atlas_2018/clinical_patient.txt already exists, skipping.\n",
      "01:15:53 - INFO - File /Users/joeyrich/Desktop/local/RLSRWP_2025/data/reference/cbio_data/skcm_tcga_pan_can_atlas_2018/clinical_sample.txt already exists, skipping.\n",
      "01:15:53 - INFO - Downloaded all data for study skcm_tcga_pan_can_atlas_2018\n",
      "01:15:53 - INFO - File /Users/joeyrich/Desktop/local/RLSRWP_2025/data/reference/cbio_data/skcm_tcga_pub_2015/mutations.txt already exists, skipping.\n",
      "01:15:53 - ERROR - Failed to download cna data for study skcm_tcga_pub_2015\n",
      "01:15:53 - ERROR - Failed to download sv data for study skcm_tcga_pub_2015\n",
      "01:15:53 - INFO - File /Users/joeyrich/Desktop/local/RLSRWP_2025/data/reference/cbio_data/skcm_tcga_pub_2015/clinical_patient.txt already exists, skipping.\n",
      "01:15:53 - INFO - File /Users/joeyrich/Desktop/local/RLSRWP_2025/data/reference/cbio_data/skcm_tcga_pub_2015/clinical_sample.txt already exists, skipping.\n",
      "01:15:53 - INFO - Downloaded all data for study skcm_tcga_pub_2015\n",
      "01:15:53 - INFO - File /Users/joeyrich/Desktop/local/RLSRWP_2025/data/reference/cbio_data/skcm_vanderbilt_mskcc_2015/mutations.txt already exists, skipping.\n",
      "01:15:53 - INFO - File /Users/joeyrich/Desktop/local/RLSRWP_2025/data/reference/cbio_data/skcm_vanderbilt_mskcc_2015/cna.txt already exists, skipping.\n",
      "01:15:53 - ERROR - Failed to download sv data for study skcm_vanderbilt_mskcc_2015\n",
      "01:15:53 - INFO - File /Users/joeyrich/Desktop/local/RLSRWP_2025/data/reference/cbio_data/skcm_vanderbilt_mskcc_2015/clinical_patient.txt already exists, skipping.\n",
      "01:15:53 - INFO - File /Users/joeyrich/Desktop/local/RLSRWP_2025/data/reference/cbio_data/skcm_vanderbilt_mskcc_2015/clinical_sample.txt already exists, skipping.\n",
      "01:15:53 - INFO - Downloaded all data for study skcm_vanderbilt_mskcc_2015\n",
      "01:15:53 - INFO - File /Users/joeyrich/Desktop/local/RLSRWP_2025/data/reference/cbio_data/skcm_yale/mutations.txt already exists, skipping.\n",
      "01:15:54 - ERROR - Failed to download cna data for study skcm_yale\n",
      "01:15:54 - ERROR - Failed to download sv data for study skcm_yale\n",
      "01:15:54 - INFO - File /Users/joeyrich/Desktop/local/RLSRWP_2025/data/reference/cbio_data/skcm_yale/clinical_patient.txt already exists, skipping.\n",
      "01:15:54 - INFO - File /Users/joeyrich/Desktop/local/RLSRWP_2025/data/reference/cbio_data/skcm_yale/clinical_sample.txt already exists, skipping.\n",
      "01:15:54 - INFO - Downloaded all data for study skcm_yale\n",
      "01:15:54 - INFO - Downloaded all data for all studies\n",
      "01:15:54 - ERROR - Failed to download data. Continuing with available studies\n",
      "01:15:54 - INFO - Loading data\n",
      "/Users/joeyrich/miniconda3/envs/RLSRWP_2025/lib/python3.10/site-packages/gget/gget_cbio.py:530: DtypeWarning: Columns (48,87) have mixed types. Specify dtype option on import or set low_memory=False.\n",
      "  mutation_df = pd.read_csv(os.path.join(data_folder, \"mutations.txt\"), sep=\"\\t\")\n",
      "01:15:57 - ERROR - Error processing study normal_skin_fibroblast_2024: [Errno 2] No such file or directory: '/Users/joeyrich/Desktop/local/RLSRWP_2025/data/reference/cbio_data/normal_skin_fibroblast_2024/mutations.txt'\n",
      "01:15:57 - ERROR - Error processing study normal_skin_keratinocytes_2024: [Errno 2] No such file or directory: '/Users/joeyrich/Desktop/local/RLSRWP_2025/data/reference/cbio_data/normal_skin_keratinocytes_2024/mutations.txt'\n",
      "01:15:57 - ERROR - Error processing study normal_skin_melanocytes_2024: [Errno 2] No such file or directory: '/Users/joeyrich/Desktop/local/RLSRWP_2025/data/reference/cbio_data/normal_skin_melanocytes_2024/mutations.txt'\n",
      "/Users/joeyrich/miniconda3/envs/RLSRWP_2025/lib/python3.10/site-packages/gget/gget_cbio.py:530: DtypeWarning: Columns (4,53,64,90,113) have mixed types. Specify dtype option on import or set low_memory=False.\n",
      "  mutation_df = pd.read_csv(os.path.join(data_folder, \"mutations.txt\"), sep=\"\\t\")\n",
      "01:16:15 - ERROR - Error processing study skcm_broad: argument of type 'float' is not iterable\n",
      "01:16:19 - ERROR - Error processing study skcm_broad_brafresist_2012: argument of type 'float' is not iterable\n",
      "01:16:24 - ERROR - Error processing study skcm_dfci_2015: argument of type 'float' is not iterable\n",
      "01:16:27 - ERROR - Error processing study skcm_mskcc_2014: argument of type 'float' is not iterable\n",
      "/Users/joeyrich/miniconda3/envs/RLSRWP_2025/lib/python3.10/site-packages/gget/gget_cbio.py:530: DtypeWarning: Columns (46,67,89) have mixed types. Specify dtype option on import or set low_memory=False.\n",
      "  mutation_df = pd.read_csv(os.path.join(data_folder, \"mutations.txt\"), sep=\"\\t\")\n",
      "01:16:50 - ERROR - Error processing study skcm_tcga: argument of type 'float' is not iterable\n",
      "01:16:50 - ERROR - Error processing study skcm_tcga_gdc: [Errno 2] No such file or directory: '/Users/joeyrich/Desktop/local/RLSRWP_2025/data/reference/cbio_data/skcm_tcga_gdc/mutations.txt'\n",
      "/Users/joeyrich/miniconda3/envs/RLSRWP_2025/lib/python3.10/site-packages/gget/gget_cbio.py:530: DtypeWarning: Columns (4,38,39,43,84) have mixed types. Specify dtype option on import or set low_memory=False.\n",
      "  mutation_df = pd.read_csv(os.path.join(data_folder, \"mutations.txt\"), sep=\"\\t\")\n",
      "/Users/joeyrich/miniconda3/envs/RLSRWP_2025/lib/python3.10/site-packages/gget/gget_cbio.py:530: DtypeWarning: Columns (25,51,79,86,96) have mixed types. Specify dtype option on import or set low_memory=False.\n",
      "  mutation_df = pd.read_csv(os.path.join(data_folder, \"mutations.txt\"), sep=\"\\t\")\n",
      "01:18:06 - ERROR - Error processing study skcm_tcga_pub_2015: argument of type 'float' is not iterable\n",
      "01:18:07 - ERROR - Error processing study skcm_vanderbilt_mskcc_2015: \"['Cancer Type Detailed'] not in index\"\n",
      "/Users/joeyrich/miniconda3/envs/RLSRWP_2025/lib/python3.10/site-packages/gget/gget_cbio.py:530: DtypeWarning: Columns (4,47) have mixed types. Specify dtype option on import or set low_memory=False.\n",
      "  mutation_df = pd.read_csv(os.path.join(data_folder, \"mutations.txt\"), sep=\"\\t\")\n",
      "01:18:09 - INFO - Data loaded\n",
      "01:18:09 - INFO - Plotting data\n",
      "Figure(1800x400)\n"
     ]
    }
   ],
   "source": [
    "stratification = \"study_id\"\n",
    "counts = \"mutation_occurrences\"\n",
    "file_name = f\"top_{n}_{sorting_column}_{stratification}_{counts}.png\"\n",
    "!gget cbio plot -s {skin_studies} -g {top_genes} -st {stratification} -vt {counts} -sh -nc -dd {cbio_data_dir} -fd {out_dir} -fn {file_name}"
   ]
  },
  {
   "cell_type": "code",
   "execution_count": 13,
   "metadata": {},
   "outputs": [
    {
     "name": "stdout",
     "output_type": "stream",
     "text": [
      "01:18:16 - INFO - Downloading data\n",
      "01:18:16 - INFO - File /Users/joeyrich/Desktop/local/RLSRWP_2025/data/reference/cbio_data/mel_mskimpact_2020/mutations.txt already exists, skipping.\n",
      "01:18:16 - INFO - File /Users/joeyrich/Desktop/local/RLSRWP_2025/data/reference/cbio_data/mel_mskimpact_2020/cna.txt already exists, skipping.\n",
      "01:18:16 - INFO - File /Users/joeyrich/Desktop/local/RLSRWP_2025/data/reference/cbio_data/mel_mskimpact_2020/sv.txt already exists, skipping.\n",
      "01:18:16 - INFO - File /Users/joeyrich/Desktop/local/RLSRWP_2025/data/reference/cbio_data/mel_mskimpact_2020/clinical_patient.txt already exists, skipping.\n",
      "01:18:16 - INFO - File /Users/joeyrich/Desktop/local/RLSRWP_2025/data/reference/cbio_data/mel_mskimpact_2020/clinical_sample.txt already exists, skipping.\n",
      "01:18:16 - INFO - Downloaded all data for study mel_mskimpact_2020\n",
      "01:18:16 - ERROR - Failed to download mutations data for study normal_skin_fibroblast_2024\n",
      "01:18:17 - ERROR - Failed to download cna data for study normal_skin_fibroblast_2024\n",
      "01:18:17 - ERROR - Failed to download sv data for study normal_skin_fibroblast_2024\n",
      "01:18:17 - ERROR - Failed to download clinical_patient data for study normal_skin_fibroblast_2024\n",
      "01:18:18 - ERROR - Failed to download clinical_sample data for study normal_skin_fibroblast_2024\n",
      "01:18:18 - INFO - Downloaded all data for study normal_skin_fibroblast_2024\n",
      "01:18:18 - ERROR - Failed to download mutations data for study normal_skin_keratinocytes_2024\n",
      "01:18:19 - ERROR - Failed to download cna data for study normal_skin_keratinocytes_2024\n",
      "01:18:19 - ERROR - Failed to download sv data for study normal_skin_keratinocytes_2024\n",
      "01:18:20 - ERROR - Failed to download clinical_patient data for study normal_skin_keratinocytes_2024\n",
      "01:18:20 - ERROR - Failed to download clinical_sample data for study normal_skin_keratinocytes_2024\n",
      "01:18:20 - INFO - Downloaded all data for study normal_skin_keratinocytes_2024\n",
      "01:18:20 - ERROR - Failed to download mutations data for study normal_skin_melanocytes_2024\n",
      "01:18:21 - ERROR - Failed to download cna data for study normal_skin_melanocytes_2024\n",
      "01:18:21 - ERROR - Failed to download sv data for study normal_skin_melanocytes_2024\n",
      "01:18:22 - ERROR - Failed to download clinical_patient data for study normal_skin_melanocytes_2024\n",
      "01:18:22 - ERROR - Failed to download clinical_sample data for study normal_skin_melanocytes_2024\n",
      "01:18:22 - INFO - Downloaded all data for study normal_skin_melanocytes_2024\n",
      "01:18:22 - INFO - File /Users/joeyrich/Desktop/local/RLSRWP_2025/data/reference/cbio_data/skcm_broad/mutations.txt already exists, skipping.\n",
      "01:18:22 - ERROR - Failed to download cna data for study skcm_broad\n",
      "01:18:23 - ERROR - Failed to download sv data for study skcm_broad\n",
      "01:18:23 - INFO - File /Users/joeyrich/Desktop/local/RLSRWP_2025/data/reference/cbio_data/skcm_broad/clinical_patient.txt already exists, skipping.\n",
      "01:18:23 - INFO - File /Users/joeyrich/Desktop/local/RLSRWP_2025/data/reference/cbio_data/skcm_broad/clinical_sample.txt already exists, skipping.\n",
      "01:18:23 - INFO - Downloaded all data for study skcm_broad\n",
      "01:18:23 - INFO - File /Users/joeyrich/Desktop/local/RLSRWP_2025/data/reference/cbio_data/skcm_broad_brafresist_2012/mutations.txt already exists, skipping.\n",
      "01:18:23 - ERROR - Failed to download cna data for study skcm_broad_brafresist_2012\n",
      "01:18:23 - ERROR - Failed to download sv data for study skcm_broad_brafresist_2012\n",
      "01:18:23 - INFO - File /Users/joeyrich/Desktop/local/RLSRWP_2025/data/reference/cbio_data/skcm_broad_brafresist_2012/clinical_patient.txt already exists, skipping.\n",
      "01:18:23 - INFO - File /Users/joeyrich/Desktop/local/RLSRWP_2025/data/reference/cbio_data/skcm_broad_brafresist_2012/clinical_sample.txt already exists, skipping.\n",
      "01:18:23 - INFO - Downloaded all data for study skcm_broad_brafresist_2012\n",
      "01:18:23 - INFO - File /Users/joeyrich/Desktop/local/RLSRWP_2025/data/reference/cbio_data/skcm_broad_dfarber/mutations.txt already exists, skipping.\n",
      "01:18:24 - ERROR - Failed to download cna data for study skcm_broad_dfarber\n",
      "01:18:24 - ERROR - Failed to download sv data for study skcm_broad_dfarber\n",
      "01:18:24 - INFO - File /Users/joeyrich/Desktop/local/RLSRWP_2025/data/reference/cbio_data/skcm_broad_dfarber/clinical_patient.txt already exists, skipping.\n",
      "01:18:24 - INFO - File /Users/joeyrich/Desktop/local/RLSRWP_2025/data/reference/cbio_data/skcm_broad_dfarber/clinical_sample.txt already exists, skipping.\n",
      "01:18:24 - INFO - Downloaded all data for study skcm_broad_dfarber\n",
      "01:18:24 - INFO - File /Users/joeyrich/Desktop/local/RLSRWP_2025/data/reference/cbio_data/skcm_dfci_2015/mutations.txt already exists, skipping.\n",
      "01:18:24 - INFO - File /Users/joeyrich/Desktop/local/RLSRWP_2025/data/reference/cbio_data/skcm_dfci_2015/cna.txt already exists, skipping.\n",
      "01:18:25 - ERROR - Failed to download sv data for study skcm_dfci_2015\n",
      "01:18:25 - INFO - File /Users/joeyrich/Desktop/local/RLSRWP_2025/data/reference/cbio_data/skcm_dfci_2015/clinical_patient.txt already exists, skipping.\n",
      "01:18:25 - INFO - File /Users/joeyrich/Desktop/local/RLSRWP_2025/data/reference/cbio_data/skcm_dfci_2015/clinical_sample.txt already exists, skipping.\n",
      "01:18:25 - INFO - Downloaded all data for study skcm_dfci_2015\n",
      "01:18:25 - INFO - File /Users/joeyrich/Desktop/local/RLSRWP_2025/data/reference/cbio_data/skcm_mskcc_2014/mutations.txt already exists, skipping.\n",
      "01:18:25 - INFO - File /Users/joeyrich/Desktop/local/RLSRWP_2025/data/reference/cbio_data/skcm_mskcc_2014/cna.txt already exists, skipping.\n",
      "01:18:25 - ERROR - Failed to download sv data for study skcm_mskcc_2014\n",
      "01:18:25 - INFO - File /Users/joeyrich/Desktop/local/RLSRWP_2025/data/reference/cbio_data/skcm_mskcc_2014/clinical_patient.txt already exists, skipping.\n",
      "01:18:25 - INFO - File /Users/joeyrich/Desktop/local/RLSRWP_2025/data/reference/cbio_data/skcm_mskcc_2014/clinical_sample.txt already exists, skipping.\n",
      "01:18:25 - INFO - Downloaded all data for study skcm_mskcc_2014\n",
      "01:18:25 - INFO - File /Users/joeyrich/Desktop/local/RLSRWP_2025/data/reference/cbio_data/skcm_tcga/mutations.txt already exists, skipping.\n",
      "01:18:25 - INFO - File /Users/joeyrich/Desktop/local/RLSRWP_2025/data/reference/cbio_data/skcm_tcga/cna.txt already exists, skipping.\n",
      "01:18:25 - ERROR - Failed to download sv data for study skcm_tcga\n",
      "01:18:25 - INFO - File /Users/joeyrich/Desktop/local/RLSRWP_2025/data/reference/cbio_data/skcm_tcga/clinical_patient.txt already exists, skipping.\n",
      "01:18:25 - INFO - File /Users/joeyrich/Desktop/local/RLSRWP_2025/data/reference/cbio_data/skcm_tcga/clinical_sample.txt already exists, skipping.\n",
      "01:18:25 - INFO - Downloaded all data for study skcm_tcga\n",
      "01:18:26 - ERROR - Failed to download mutations data for study skcm_tcga_gdc\n",
      "01:18:26 - ERROR - Failed to download cna data for study skcm_tcga_gdc\n",
      "01:18:27 - ERROR - Failed to download sv data for study skcm_tcga_gdc\n",
      "01:18:27 - ERROR - Failed to download clinical_patient data for study skcm_tcga_gdc\n",
      "01:18:27 - ERROR - Failed to download clinical_sample data for study skcm_tcga_gdc\n",
      "01:18:27 - INFO - Downloaded all data for study skcm_tcga_gdc\n",
      "01:18:27 - INFO - File /Users/joeyrich/Desktop/local/RLSRWP_2025/data/reference/cbio_data/skcm_tcga_pan_can_atlas_2018/mutations.txt already exists, skipping.\n",
      "01:18:27 - INFO - File /Users/joeyrich/Desktop/local/RLSRWP_2025/data/reference/cbio_data/skcm_tcga_pan_can_atlas_2018/cna.txt already exists, skipping.\n",
      "01:18:27 - INFO - File /Users/joeyrich/Desktop/local/RLSRWP_2025/data/reference/cbio_data/skcm_tcga_pan_can_atlas_2018/sv.txt already exists, skipping.\n",
      "01:18:27 - INFO - File /Users/joeyrich/Desktop/local/RLSRWP_2025/data/reference/cbio_data/skcm_tcga_pan_can_atlas_2018/clinical_patient.txt already exists, skipping.\n",
      "01:18:27 - INFO - File /Users/joeyrich/Desktop/local/RLSRWP_2025/data/reference/cbio_data/skcm_tcga_pan_can_atlas_2018/clinical_sample.txt already exists, skipping.\n",
      "01:18:27 - INFO - Downloaded all data for study skcm_tcga_pan_can_atlas_2018\n",
      "01:18:27 - INFO - File /Users/joeyrich/Desktop/local/RLSRWP_2025/data/reference/cbio_data/skcm_tcga_pub_2015/mutations.txt already exists, skipping.\n",
      "01:18:28 - ERROR - Failed to download cna data for study skcm_tcga_pub_2015\n",
      "01:18:28 - ERROR - Failed to download sv data for study skcm_tcga_pub_2015\n",
      "01:18:28 - INFO - File /Users/joeyrich/Desktop/local/RLSRWP_2025/data/reference/cbio_data/skcm_tcga_pub_2015/clinical_patient.txt already exists, skipping.\n",
      "01:18:28 - INFO - File /Users/joeyrich/Desktop/local/RLSRWP_2025/data/reference/cbio_data/skcm_tcga_pub_2015/clinical_sample.txt already exists, skipping.\n",
      "01:18:28 - INFO - Downloaded all data for study skcm_tcga_pub_2015\n",
      "01:18:28 - INFO - File /Users/joeyrich/Desktop/local/RLSRWP_2025/data/reference/cbio_data/skcm_vanderbilt_mskcc_2015/mutations.txt already exists, skipping.\n",
      "01:18:28 - INFO - File /Users/joeyrich/Desktop/local/RLSRWP_2025/data/reference/cbio_data/skcm_vanderbilt_mskcc_2015/cna.txt already exists, skipping.\n",
      "01:18:29 - ERROR - Failed to download sv data for study skcm_vanderbilt_mskcc_2015\n",
      "01:18:29 - INFO - File /Users/joeyrich/Desktop/local/RLSRWP_2025/data/reference/cbio_data/skcm_vanderbilt_mskcc_2015/clinical_patient.txt already exists, skipping.\n",
      "01:18:29 - INFO - File /Users/joeyrich/Desktop/local/RLSRWP_2025/data/reference/cbio_data/skcm_vanderbilt_mskcc_2015/clinical_sample.txt already exists, skipping.\n",
      "01:18:29 - INFO - Downloaded all data for study skcm_vanderbilt_mskcc_2015\n",
      "01:18:29 - INFO - File /Users/joeyrich/Desktop/local/RLSRWP_2025/data/reference/cbio_data/skcm_yale/mutations.txt already exists, skipping.\n",
      "01:18:29 - ERROR - Failed to download cna data for study skcm_yale\n",
      "01:18:30 - ERROR - Failed to download sv data for study skcm_yale\n",
      "01:18:30 - INFO - File /Users/joeyrich/Desktop/local/RLSRWP_2025/data/reference/cbio_data/skcm_yale/clinical_patient.txt already exists, skipping.\n",
      "01:18:30 - INFO - File /Users/joeyrich/Desktop/local/RLSRWP_2025/data/reference/cbio_data/skcm_yale/clinical_sample.txt already exists, skipping.\n",
      "01:18:30 - INFO - Downloaded all data for study skcm_yale\n",
      "01:18:30 - INFO - Downloaded all data for all studies\n",
      "01:18:30 - ERROR - Failed to download data. Continuing with available studies\n",
      "01:18:30 - INFO - Loading data\n",
      "/Users/joeyrich/miniconda3/envs/RLSRWP_2025/lib/python3.10/site-packages/gget/gget_cbio.py:530: DtypeWarning: Columns (48,87) have mixed types. Specify dtype option on import or set low_memory=False.\n",
      "  mutation_df = pd.read_csv(os.path.join(data_folder, \"mutations.txt\"), sep=\"\\t\")\n",
      "01:18:32 - ERROR - Error processing study normal_skin_fibroblast_2024: [Errno 2] No such file or directory: '/Users/joeyrich/Desktop/local/RLSRWP_2025/data/reference/cbio_data/normal_skin_fibroblast_2024/mutations.txt'\n",
      "01:18:32 - ERROR - Error processing study normal_skin_keratinocytes_2024: [Errno 2] No such file or directory: '/Users/joeyrich/Desktop/local/RLSRWP_2025/data/reference/cbio_data/normal_skin_keratinocytes_2024/mutations.txt'\n",
      "01:18:32 - ERROR - Error processing study normal_skin_melanocytes_2024: [Errno 2] No such file or directory: '/Users/joeyrich/Desktop/local/RLSRWP_2025/data/reference/cbio_data/normal_skin_melanocytes_2024/mutations.txt'\n",
      "/Users/joeyrich/miniconda3/envs/RLSRWP_2025/lib/python3.10/site-packages/gget/gget_cbio.py:530: DtypeWarning: Columns (4,53,64,90,113) have mixed types. Specify dtype option on import or set low_memory=False.\n",
      "  mutation_df = pd.read_csv(os.path.join(data_folder, \"mutations.txt\"), sep=\"\\t\")\n",
      "01:18:51 - ERROR - Error processing study skcm_broad: argument of type 'float' is not iterable\n",
      "01:18:56 - ERROR - Error processing study skcm_broad_brafresist_2012: argument of type 'float' is not iterable\n",
      "01:19:01 - ERROR - Error processing study skcm_dfci_2015: argument of type 'float' is not iterable\n",
      "01:19:04 - ERROR - Error processing study skcm_mskcc_2014: argument of type 'float' is not iterable\n",
      "/Users/joeyrich/miniconda3/envs/RLSRWP_2025/lib/python3.10/site-packages/gget/gget_cbio.py:530: DtypeWarning: Columns (46,67,89) have mixed types. Specify dtype option on import or set low_memory=False.\n",
      "  mutation_df = pd.read_csv(os.path.join(data_folder, \"mutations.txt\"), sep=\"\\t\")\n",
      "01:19:27 - ERROR - Error processing study skcm_tcga: argument of type 'float' is not iterable\n",
      "01:19:27 - ERROR - Error processing study skcm_tcga_gdc: [Errno 2] No such file or directory: '/Users/joeyrich/Desktop/local/RLSRWP_2025/data/reference/cbio_data/skcm_tcga_gdc/mutations.txt'\n",
      "/Users/joeyrich/miniconda3/envs/RLSRWP_2025/lib/python3.10/site-packages/gget/gget_cbio.py:530: DtypeWarning: Columns (4,38,39,43,84) have mixed types. Specify dtype option on import or set low_memory=False.\n",
      "  mutation_df = pd.read_csv(os.path.join(data_folder, \"mutations.txt\"), sep=\"\\t\")\n",
      "/Users/joeyrich/miniconda3/envs/RLSRWP_2025/lib/python3.10/site-packages/gget/gget_cbio.py:530: DtypeWarning: Columns (25,51,79,86,96) have mixed types. Specify dtype option on import or set low_memory=False.\n",
      "  mutation_df = pd.read_csv(os.path.join(data_folder, \"mutations.txt\"), sep=\"\\t\")\n",
      "01:20:47 - ERROR - Error processing study skcm_tcga_pub_2015: argument of type 'float' is not iterable\n",
      "01:20:48 - ERROR - Error processing study skcm_vanderbilt_mskcc_2015: \"['Cancer Type Detailed'] not in index\"\n",
      "/Users/joeyrich/miniconda3/envs/RLSRWP_2025/lib/python3.10/site-packages/gget/gget_cbio.py:530: DtypeWarning: Columns (4,47) have mixed types. Specify dtype option on import or set low_memory=False.\n",
      "  mutation_df = pd.read_csv(os.path.join(data_folder, \"mutations.txt\"), sep=\"\\t\")\n",
      "01:20:51 - INFO - Data loaded\n",
      "01:20:51 - INFO - Plotting data\n",
      "Warning: Too many columns to plot. Limiting to first 372 columns\n",
      "Traceback (most recent call last):\n",
      "  File \"/Users/joeyrich/miniconda3/envs/RLSRWP_2025/bin/gget\", line 8, in <module>\n",
      "    sys.exit(main())\n",
      "  File \"/Users/joeyrich/miniconda3/envs/RLSRWP_2025/lib/python3.10/site-packages/gget/main.py\", line 3325, in main\n",
      "    cbio_plot(\n",
      "  File \"/Users/joeyrich/miniconda3/envs/RLSRWP_2025/lib/python3.10/site-packages/gget/gget_cbio.py\", line 1229, in cbio_plot\n",
      "    gene_analyzer.plot_heatmap(\n",
      "  File \"/Users/joeyrich/miniconda3/envs/RLSRWP_2025/lib/python3.10/site-packages/gget/gget_cbio.py\", line 1058, in plot_heatmap\n",
      "    min_value = int(pivot_df1.min().min())\n",
      "ValueError: cannot convert float NaN to integer\n"
     ]
    }
   ],
   "source": [
    "stratification = \"sample\"\n",
    "counts = \"mutation_occurrences\"\n",
    "file_name = f\"top_{n}_{sorting_column}_{stratification}_{counts}.png\"\n",
    "!gget cbio plot -s {skin_studies} -g {top_genes} -st {stratification} -vt {counts} -sh -nc -dd {cbio_data_dir} -fd {out_dir} -fn {file_name}"
   ]
  }
 ],
 "metadata": {
  "kernelspec": {
   "display_name": "RLSRWP_2025",
   "language": "python",
   "name": "python3"
  },
  "language_info": {
   "codemirror_mode": {
    "name": "ipython",
    "version": 3
   },
   "file_extension": ".py",
   "mimetype": "text/x-python",
   "name": "python",
   "nbconvert_exporter": "python",
   "pygments_lexer": "ipython3",
   "version": "3.10.9"
  },
  "nbdime-conflicts": {
   "local_diff": [
    {
     "diff": [
      {
       "diff": [
        {
         "key": 0,
         "length": 1,
         "op": "removerange"
        }
       ],
       "key": "version",
       "op": "patch"
      }
     ],
     "key": "language_info",
     "op": "patch"
    }
   ],
   "remote_diff": [
    {
     "diff": [
      {
       "diff": [
        {
         "diff": [
          {
           "key": 6,
           "op": "addrange",
           "valuelist": "2"
          },
          {
           "key": 6,
           "length": 1,
           "op": "removerange"
          }
         ],
         "key": 0,
         "op": "patch"
        }
       ],
       "key": "version",
       "op": "patch"
      }
     ],
     "key": "language_info",
     "op": "patch"
    }
   ]
  }
 },
 "nbformat": 4,
 "nbformat_minor": 4
}
