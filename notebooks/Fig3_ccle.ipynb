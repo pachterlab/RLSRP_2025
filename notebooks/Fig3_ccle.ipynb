{
 "cells": [
  {
   "cell_type": "markdown",
   "metadata": {},
   "source": [
    "## Prep to run this notebook:\n",
    "- python scripts/run_vk_ref_geuvadis.py\n",
    "- python scripts/run_vk_count_ccle.py"
   ]
  },
  {
   "cell_type": "code",
   "execution_count": 1,
   "metadata": {},
   "outputs": [],
   "source": [
    "# try:\n",
    "#     import varseek as vk\n",
    "# except ImportError:\n",
    "#     print(\"varseek not found, installing...\")\n",
    "#     !pip install -U -q varseek\n",
    "# try:\n",
    "#     import RLSRWP_2025\n",
    "# except ImportError:\n",
    "#     print(\"RLSRWP_2025 not found, installing...\")\n",
    "#     !pip install -q git+https://github.com/pachterlab/RLSRWP_2025.git"
   ]
  },
  {
   "cell_type": "code",
   "execution_count": null,
   "metadata": {},
   "outputs": [],
   "source": [
    "from matplotlib_venn import venn2\n",
    "import matplotlib.pyplot as plt\n",
    "import os\n",
    "import pandas as pd\n",
    "import numpy as np\n",
    "import shutil\n",
    "import seaborn as sns\n",
    "import gget\n",
    "import re\n",
    "from collections import Counter\n",
    "import anndata as ad\n",
    "from scipy import sparse\n",
    "import scanpy as sc\n",
    "from sklearn.metrics import silhouette_score\n",
    "from upsetplot import UpSet, from_contents\n",
    "\n",
    "import varseek as vk\n",
    "from RLSRWP_2025.constants import box_links_dict\n",
    "\n",
    "RLSRWP_2025_dir = os.path.dirname(os.path.abspath(\"\"))  # if this notebook resides in RLSRWP_2025/notebooks/0_data_download.ipynb, then this retrieves RLSRWP_2025\n",
    "data_dir = os.path.join(RLSRWP_2025_dir, \"data\")"
   ]
  },
  {
   "cell_type": "code",
   "execution_count": null,
   "metadata": {},
   "outputs": [],
   "source": [
    "sequencing_data_out_base = os.path.join(data_dir, \"ccle_data_base\")\n",
    "adata_combined_path_variants = os.path.join(sequencing_data_out_base, \"adata_vcrs_glioblastoma.h5ad\")\n",
    "# adata_combined_path_reference_genome = os.path.join(sequencing_data_out_base, \"adata_vcrs_combined_w37_k41.h5ad\")\n",
    "\n",
    "reference_dir = os.path.join(RLSRWP_2025_dir, \"data\", \"reference\")\n",
    "t2g_file = os.path.join(reference_dir, \"ensembl_grch37_release113\", \"t2g.txt\")\n",
    "\n",
    "cosmic_csv = os.path.join(reference_dir, \"cosmic\", \"CancerMutationCensus_AllData_Tsv_v101_GRCh37\", \"CancerMutationCensus_AllData_v101_GRCh37_mutation_workflow.csv\")\n",
    "\n",
    "out_dir = os.path.join(data_dir, \"ccle_analysis\")\n",
    "cbioportal_mutated_genes_path = os.path.join(out_dir, \"Mutated_Genes.txt\")\n",
    "single_cell_gbm_variants_path = os.path.join(data_dir, 'vk_count_out_fig1', 'analysis', 'single_cell_analysis', 'genes_grouped_df_astrocytes.csv')\n",
    "single_cell_gbm_genes_path = os.path.join(data_dir, 'vk_count_out_fig1', 'analysis', 'single_cell_analysis', 'genes_grouped_df_astrocytes.csv')\n",
    "\n",
    "min_counts = 2\n",
    "min_samples_per_variant = 3\n",
    "n_top_variants = 2000\n",
    "\n",
    "# for all of these, do None to get everything\n",
    "fcv_threshold_ccle = 0.1\n",
    "# fcv_threshold_sc = 0.1\n",
    "FCV_neoplastic_astrocyte_to_FCV_healthy_astrocyte_ratio_1p_threshold_sc = 2\n",
    "max_FCV_neoplastic_astrocyte_to_FCV_healthy_astrocyte_ratio_1p_threshold_sc = 2\n",
    "number_cbio_samples = 10\n",
    "\n",
    "out_dir = os.path.join(data_dir, \"ccle_analysis_total\")"
   ]
  },
  {
   "cell_type": "code",
   "execution_count": null,
   "metadata": {},
   "outputs": [],
   "source": [
    "if not os.path.isfile(adata_combined_path_variants):\n",
    "    vk.utils.download_box_url(box_links_dict[\"ccle_glioblastoma_adata_vcrs\"], output_file_name=adata_combined_path_variants)\n",
    "if not os.path.isfile(cosmic_csv):\n",
    "    gget.cosmic(None, grch_version=37, cosmic_version=101, out=os.path.dirname(cosmic_csv), cosmic_project=\"cancer\", download_cosmic=True, gget_mutate=True, keep_genome_info=True, remove_duplicates=True)\n",
    "if not os.path.isfile(cbioportal_mutated_genes_path):\n",
    "    raise FileExistsError(f\"{cbioportal_mutated_genes_path} does not exist. Download by visiting https://www.cbioportal.org/study/summary?id=gbm_tcga_pan_can_atlas_2018 → click 'mutated genes'\")\n",
    "if not os.path.isfile(single_cell_gbm_variants_path):\n",
    "    raise FileExistsError(f\"{single_cell_gbm_variants_path} does not exist. Please run Fig1_single_cell_analysis.ipynb to generate this file.\")\n",
    "if not os.path.isfile(single_cell_gbm_genes_path):\n",
    "    raise FileExistsError(f\"{single_cell_gbm_genes_path} does not exist. Please run Fig1_single_cell_analysis.ipynb to generate this file.\")\n",
    "\n",
    "adata = ad.read_h5ad(adata_combined_path_variants)\n",
    "cosmic_df = pd.read_csv(cosmic_csv)\n",
    "cbioportal_mutated_genes_df = pd.read_csv(cbioportal_mutated_genes_path, sep=\"\\t\")\n",
    "cbioportal_mutated_genes_df = cbioportal_mutated_genes_df.sort_values(by=\"#\", ascending=False)\n",
    "single_cell_gbm_variants_df = pd.read_csv(single_cell_gbm_variants_path)\n",
    "single_cell_gbm_genes_df = pd.read_csv(single_cell_gbm_genes_path)\n",
    "\n",
    "\n",
    "os.makedirs(out_dir, exist_ok=True)"
   ]
  },
  {
   "cell_type": "code",
   "execution_count": null,
   "metadata": {},
   "outputs": [],
   "source": [
    "# Filter to keep only rows where \"#\" is >= number_cbio_samples\n",
    "cbioportal_mutated_genes_df_top = cbioportal_mutated_genes_df[cbioportal_mutated_genes_df[\"#\"] >= number_cbio_samples] if number_cbio_samples is not None else cbioportal_mutated_genes_df.copy()\n",
    "\n",
    "# only keep columns of adata where adata.var['gene_symbol'] is in cbioportal_mutated_genes_df['Gene'].unique()\n",
    "cbio_gbm_genes = set(cbioportal_mutated_genes_df_top['Gene'].unique())"
   ]
  },
  {
   "cell_type": "code",
   "execution_count": 32,
   "metadata": {},
   "outputs": [],
   "source": [
    "# adata = ad.read_h5ad(\"/home/jmrich/Desktop/RLSRWP_2025/data/ccle_data_base/adata_vcrs_50.h5ad\")  #!!! erase"
   ]
  },
  {
   "cell_type": "code",
   "execution_count": null,
   "metadata": {},
   "outputs": [],
   "source": [
    "adata = adata[:, np.array((adata.X != 0).sum(axis=0)).flatten() > 0]  # Identify columns (variants) with non-zero counts across samples\n",
    "adata = adata[:, ~adata.var_names.str.contains(\";\")]  # Identify columns (variants) with semicolon in name\n",
    "adata.var.index.name = \"variant_name\"\n",
    "adata.var = adata.var.reset_index(drop=False)\n",
    "adata.var[[\"seq_ID\", \"mutation_cdna\"]] = adata.var[\"variant_name\"].str.split(\":\", expand=True)\n",
    "adata.var = adata.var.merge(cosmic_df[[\"seq_ID\", \"gene_name\"]].drop_duplicates(\"seq_ID\"), on=\"seq_ID\", how=\"left\").rename(columns={\"gene_name\": \"gene_symbol\"})\n",
    "\n",
    "if min_counts is not None:\n",
    "    adata.X = adata.X.multiply(adata.X >= min_counts)\n",
    "\n",
    "adata.var[\"number_obs\"] = np.array((adata.X != 0).sum(axis=0)).flatten()\n",
    "\n",
    "adata.var[\"FCV\"] = adata.var[\"number_obs\"] / adata.shape[0]  # fraction of samples with variant - Fraction of cSamples with Variant (FCV)\n",
    "\n",
    "adata.var['variant_name_with_gene_name'] = (\n",
    "    adata.var[\"gene_symbol\"] + \"(\" +\n",
    "    adata.var[\"seq_ID\"] + \"):\" +\n",
    "    adata.var[\"mutation_cdna\"]\n",
    ")\n",
    "\n",
    "adata.obs.index = adata.obs.index.astype(str)  # avoid Don’t call _normalize_index with non-categorical/string names\n",
    "adata.var.index = adata.var.index.astype(str)  # avoid Don’t call _normalize_index with non-categorical/string names"
   ]
  },
  {
   "cell_type": "code",
   "execution_count": 35,
   "metadata": {},
   "outputs": [
    {
     "data": {
      "application/vnd.microsoft.datawrangler.viewer.v0+json": {
       "columns": [
        {
         "name": "index",
         "rawType": "object",
         "type": "string"
        },
        {
         "name": "variant_id",
         "rawType": "object",
         "type": "string"
        },
        {
         "name": "seq_ID",
         "rawType": "object",
         "type": "string"
        },
        {
         "name": "mutation_cdna",
         "rawType": "object",
         "type": "string"
        },
        {
         "name": "gene_symbol",
         "rawType": "object",
         "type": "string"
        },
        {
         "name": "number_obs",
         "rawType": "int64",
         "type": "integer"
        },
        {
         "name": "FCV",
         "rawType": "float64",
         "type": "float"
        },
        {
         "name": "variant_name_with_gene_name",
         "rawType": "object",
         "type": "string"
        }
       ],
       "ref": "f9ed1988-de64-4953-8a70-0c97017de609",
       "rows": [
        [
         "0",
         "ENST00000396153:c.1622C>T",
         "ENST00000396153",
         "c.1622C>T",
         "FAF1",
         "1",
         "0.02",
         "FAF1(ENST00000396153):c.1622C>T"
        ],
        [
         "1",
         "ENST00000396153:c.1592C>T",
         "ENST00000396153",
         "c.1592C>T",
         "FAF1",
         "0",
         "0.0",
         "FAF1(ENST00000396153):c.1592C>T"
        ],
        [
         "2",
         "ENST00000396153:c.2261A>G",
         "ENST00000396153",
         "c.2261A>G",
         "FAF1",
         "2",
         "0.04",
         "FAF1(ENST00000396153):c.2261A>G"
        ],
        [
         "3",
         "ENST00000396153:c.1586C>T",
         "ENST00000396153",
         "c.1586C>T",
         "FAF1",
         "0",
         "0.0",
         "FAF1(ENST00000396153):c.1586C>T"
        ],
        [
         "4",
         "ENST00000396153:c.1959G>A",
         "ENST00000396153",
         "c.1959G>A",
         "FAF1",
         "2",
         "0.04",
         "FAF1(ENST00000396153):c.1959G>A"
        ]
       ],
       "shape": {
        "columns": 7,
        "rows": 5
       }
      },
      "text/html": [
       "<div>\n",
       "<style scoped>\n",
       "    .dataframe tbody tr th:only-of-type {\n",
       "        vertical-align: middle;\n",
       "    }\n",
       "\n",
       "    .dataframe tbody tr th {\n",
       "        vertical-align: top;\n",
       "    }\n",
       "\n",
       "    .dataframe thead th {\n",
       "        text-align: right;\n",
       "    }\n",
       "</style>\n",
       "<table border=\"1\" class=\"dataframe\">\n",
       "  <thead>\n",
       "    <tr style=\"text-align: right;\">\n",
       "      <th></th>\n",
       "      <th>variant_id</th>\n",
       "      <th>seq_ID</th>\n",
       "      <th>mutation_cdna</th>\n",
       "      <th>gene_symbol</th>\n",
       "      <th>number_obs</th>\n",
       "      <th>FCV</th>\n",
       "      <th>variant_name_with_gene_name</th>\n",
       "    </tr>\n",
       "  </thead>\n",
       "  <tbody>\n",
       "    <tr>\n",
       "      <th>0</th>\n",
       "      <td>ENST00000396153:c.1622C&gt;T</td>\n",
       "      <td>ENST00000396153</td>\n",
       "      <td>c.1622C&gt;T</td>\n",
       "      <td>FAF1</td>\n",
       "      <td>1</td>\n",
       "      <td>0.02</td>\n",
       "      <td>FAF1(ENST00000396153):c.1622C&gt;T</td>\n",
       "    </tr>\n",
       "    <tr>\n",
       "      <th>1</th>\n",
       "      <td>ENST00000396153:c.1592C&gt;T</td>\n",
       "      <td>ENST00000396153</td>\n",
       "      <td>c.1592C&gt;T</td>\n",
       "      <td>FAF1</td>\n",
       "      <td>0</td>\n",
       "      <td>0.00</td>\n",
       "      <td>FAF1(ENST00000396153):c.1592C&gt;T</td>\n",
       "    </tr>\n",
       "    <tr>\n",
       "      <th>2</th>\n",
       "      <td>ENST00000396153:c.2261A&gt;G</td>\n",
       "      <td>ENST00000396153</td>\n",
       "      <td>c.2261A&gt;G</td>\n",
       "      <td>FAF1</td>\n",
       "      <td>2</td>\n",
       "      <td>0.04</td>\n",
       "      <td>FAF1(ENST00000396153):c.2261A&gt;G</td>\n",
       "    </tr>\n",
       "    <tr>\n",
       "      <th>3</th>\n",
       "      <td>ENST00000396153:c.1586C&gt;T</td>\n",
       "      <td>ENST00000396153</td>\n",
       "      <td>c.1586C&gt;T</td>\n",
       "      <td>FAF1</td>\n",
       "      <td>0</td>\n",
       "      <td>0.00</td>\n",
       "      <td>FAF1(ENST00000396153):c.1586C&gt;T</td>\n",
       "    </tr>\n",
       "    <tr>\n",
       "      <th>4</th>\n",
       "      <td>ENST00000396153:c.1959G&gt;A</td>\n",
       "      <td>ENST00000396153</td>\n",
       "      <td>c.1959G&gt;A</td>\n",
       "      <td>FAF1</td>\n",
       "      <td>2</td>\n",
       "      <td>0.04</td>\n",
       "      <td>FAF1(ENST00000396153):c.1959G&gt;A</td>\n",
       "    </tr>\n",
       "  </tbody>\n",
       "</table>\n",
       "</div>"
      ],
      "text/plain": [
       "                  variant_id           seq_ID mutation_cdna gene_symbol  \\\n",
       "0  ENST00000396153:c.1622C>T  ENST00000396153     c.1622C>T        FAF1   \n",
       "1  ENST00000396153:c.1592C>T  ENST00000396153     c.1592C>T        FAF1   \n",
       "2  ENST00000396153:c.2261A>G  ENST00000396153     c.2261A>G        FAF1   \n",
       "3  ENST00000396153:c.1586C>T  ENST00000396153     c.1586C>T        FAF1   \n",
       "4  ENST00000396153:c.1959G>A  ENST00000396153     c.1959G>A        FAF1   \n",
       "\n",
       "   number_obs   FCV      variant_name_with_gene_name  \n",
       "0           1  0.02  FAF1(ENST00000396153):c.1622C>T  \n",
       "1           0  0.00  FAF1(ENST00000396153):c.1592C>T  \n",
       "2           2  0.04  FAF1(ENST00000396153):c.2261A>G  \n",
       "3           0  0.00  FAF1(ENST00000396153):c.1586C>T  \n",
       "4           2  0.04  FAF1(ENST00000396153):c.1959G>A  "
      ]
     },
     "execution_count": 35,
     "metadata": {},
     "output_type": "execute_result"
    }
   ],
   "source": [
    "adata.var.head()"
   ]
  },
  {
   "cell_type": "code",
   "execution_count": null,
   "metadata": {},
   "outputs": [],
   "source": [
    "ccle_gbm_variants = set(adata.var.loc[adata.var[\"FCV\"] >= fcv_threshold_ccle, \"variant_name\"]) if fcv_threshold_ccle is not None else set(adata.var[\"variant_name\"])\n",
    "ccle_gbm_genes = set(adata.var.loc[adata.var[\"FCV\"] >= fcv_threshold_ccle, \"gene_symbol\"]) if fcv_threshold_ccle is not None else set(adata.var[\"gene_symbol\"])\n",
    "\n",
    "sc_gbm_variants = set(single_cell_gbm_variants_df.loc[single_cell_gbm_variants_df[\"FCV_neoplastic_astrocyte_to_FCV_healthy_astrocyte_ratio_1p\"] >= FCV_neoplastic_astrocyte_to_FCV_healthy_astrocyte_ratio_1p_threshold_sc, \"variant_name\"]) if FCV_neoplastic_astrocyte_to_FCV_healthy_astrocyte_ratio_1p_threshold_sc is not None else set(single_cell_gbm_variants_df[\"variant_name\"])\n",
    "sc_gbm_genes = set(single_cell_gbm_variants_df.loc[single_cell_gbm_variants_df[\"max_FCV_neoplastic_astrocyte_to_FCV_healthy_astrocyte_ratio_1p\"] >= max_FCV_neoplastic_astrocyte_to_FCV_healthy_astrocyte_ratio_1p_threshold_sc, \"gene_symbol\"]) if max_FCV_neoplastic_astrocyte_to_FCV_healthy_astrocyte_ratio_1p_threshold_sc is not None else set(single_cell_gbm_variants_df[\"gene_symbol\"])"
   ]
  },
  {
   "cell_type": "code",
   "execution_count": null,
   "metadata": {},
   "outputs": [],
   "source": [
    "# variants present in both ccle (in a certain fraction of samples) and sc (with certain neoplastic astrocyte to healthy astrocyte ratio)\n",
    "upset_dict = {\n",
    "    \"ccle_variants\": ccle_gbm_variants,\n",
    "    \"sc_variants\": sc_gbm_variants,\n",
    "}\n",
    "\n",
    "upset_out_path = os.path.join(out_dir, \"upset_variants_detected.pdf\")\n",
    "variants_detected_data_for_upset = from_contents(upset_dict)\n",
    "ax_dict = UpSet(variants_detected_data_for_upset, subset_size='count', show_counts=True).plot()\n",
    "plt.savefig(upset_out_path)\n",
    "plt.close()"
   ]
  },
  {
   "cell_type": "code",
   "execution_count": null,
   "metadata": {},
   "outputs": [],
   "source": [
    "# variants present in ccle (in a certain fraction of samples), sc (with certain max neoplastic astrocyte to healthy astrocyte ratio), and cbio (in a certain number of samples)\n",
    "upset_dict = {\n",
    "    \"ccle_genes\": ccle_gbm_variants,\n",
    "    \"sc_genes\": sc_gbm_variants,\n",
    "    \"cbio_genes\": cbio_gbm_genes,\n",
    "}\n",
    "\n",
    "upset_out_path = os.path.join(out_dir, \"upset_genes_detected.pdf\")\n",
    "variants_detected_data_for_upset = from_contents(upset_dict)\n",
    "ax_dict = UpSet(variants_detected_data_for_upset, subset_size='count', show_counts=True).plot()\n",
    "plt.savefig(upset_out_path)\n",
    "plt.close()"
   ]
  }
 ],
 "metadata": {
  "kernelspec": {
   "display_name": "varseek2",
   "language": "python",
   "name": "python3"
  },
  "language_info": {
   "codemirror_mode": {
    "name": "ipython",
    "version": 3
   },
   "file_extension": ".py",
   "mimetype": "text/x-python",
   "name": "python",
   "nbconvert_exporter": "python",
   "pygments_lexer": "ipython3",
   "version": "3.10.16"
  }
 },
 "nbformat": 4,
 "nbformat_minor": 2
}
