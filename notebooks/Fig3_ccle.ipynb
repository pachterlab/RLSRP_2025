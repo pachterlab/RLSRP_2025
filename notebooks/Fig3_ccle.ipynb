{
 "cells": [
  {
   "cell_type": "markdown",
   "metadata": {},
   "source": [
    "## Prep to run this notebook:\n",
    "- python scripts/run_vk_ref_geuvadis.py\n",
    "- python scripts/run_vk_count_ccle.py\n",
    "- *run notebooks/Fig1_single_cell_analysis.ipynb*"
   ]
  },
  {
   "cell_type": "code",
   "execution_count": 1,
   "metadata": {},
   "outputs": [],
   "source": [
    "# try:\n",
    "#     import varseek as vk\n",
    "# except ImportError:\n",
    "#     print(\"varseek not found, installing...\")\n",
    "#     !pip install -U -q varseek\n",
    "# try:\n",
    "#     import RLSRWP_2025\n",
    "# except ImportError:\n",
    "#     print(\"RLSRWP_2025 not found, installing...\")\n",
    "#     !pip install -q git+https://github.com/pachterlab/RLSRWP_2025.git"
   ]
  },
  {
   "cell_type": "code",
   "execution_count": null,
   "metadata": {},
   "outputs": [],
   "source": [
    "from matplotlib_venn import venn2\n",
    "import matplotlib.pyplot as plt\n",
    "import os\n",
    "import pandas as pd\n",
    "import sys\n",
    "import numpy as np\n",
    "import shutil\n",
    "import seaborn as sns\n",
    "import gget\n",
    "import re\n",
    "from collections import Counter\n",
    "import anndata as ad\n",
    "from scipy import sparse\n",
    "import scanpy as sc\n",
    "from sklearn.metrics import silhouette_score\n",
    "from upsetplot import UpSet, from_contents\n",
    "from scipy.stats import hypergeom\n",
    "\n",
    "import varseek as vk\n",
    "from RLSRWP_2025.constants import box_links_dict\n",
    "\n",
    "RLSRWP_2025_dir = os.path.dirname(os.path.abspath(\"\"))  # if this notebook resides in RLSRWP_2025/notebooks/0_data_download.ipynb, then this retrieves RLSRWP_2025\n",
    "data_dir = os.path.join(RLSRWP_2025_dir, \"data\")"
   ]
  },
  {
   "cell_type": "code",
   "execution_count": null,
   "metadata": {},
   "outputs": [],
   "source": [
    "sequencing_data_out_base = os.path.join(data_dir, \"ccle_data_base\")\n",
    "adata_combined_path_variants = os.path.join(sequencing_data_out_base, \"adata_vcrs_glioblastoma.h5ad\")\n",
    "# adata_combined_path_reference_genome = os.path.join(sequencing_data_out_base, \"adata_vcrs_combined_w37_k41.h5ad\")\n",
    "\n",
    "reference_dir = os.path.join(RLSRWP_2025_dir, \"data\", \"reference\")\n",
    "t2g_file = os.path.join(reference_dir, \"ensembl_grch37_release113\", \"t2g.txt\")\n",
    "\n",
    "cosmic_csv = os.path.join(reference_dir, \"cosmic\", \"CancerMutationCensus_AllData_Tsv_v101_GRCh37\", \"CancerMutationCensus_AllData_v101_GRCh37_mutation_workflow.csv\")\n",
    "\n",
    "out_dir = os.path.join(data_dir, \"ccle_analysis\")\n",
    "cbioportal_mutated_genes_path = os.path.join(data_dir, 'vk_count_out_fig1', 'analysis', 'single_cell_analysis', \"Mutated_Genes.txt\")  # os.path.join(out_dir, \"Mutated_Genes.txt\")\n",
    "single_cell_gbm_variants_path = os.path.join(data_dir, 'vk_count_out_fig1', 'analysis', 'single_cell_analysis', 'variants_df_astrocytes.csv')\n",
    "single_cell_gbm_genes_path = os.path.join(data_dir, 'vk_count_out_fig1', 'analysis', 'single_cell_analysis', 'genes_grouped_df_astrocytes.csv')\n",
    "\n",
    "min_counts = 2\n",
    "min_samples_per_variant = 2  # somewhat redundant with fcv_threshold_ccle\n",
    "\n",
    "# for all of these, do None to get everything\n",
    "fcv_threshold_ccle = 0.1  # keep in mind there are 38 samples\n",
    "# fcv_threshold_sc = 0.1\n",
    "FCV_neoplastic_astrocyte_to_FCV_healthy_astrocyte_ratio_1p_threshold_sc = 2\n",
    "max_FCV_neoplastic_astrocyte_to_FCV_healthy_astrocyte_ratio_1p_threshold_sc = 2\n",
    "number_cbio_samples = 10\n",
    "\n",
    "out_dir = os.path.join(data_dir, \"ccle_analysis_total\")"
   ]
  },
  {
   "cell_type": "code",
   "execution_count": 34,
   "metadata": {},
   "outputs": [],
   "source": [
    "if not os.path.isfile(adata_combined_path_variants):\n",
    "    vk.utils.download_box_url(box_links_dict[\"ccle_glioblastoma_adata_vcrs\"], output_file_name=adata_combined_path_variants)\n",
    "if not os.path.isfile(cosmic_csv):\n",
    "    gget.cosmic(None, grch_version=37, cosmic_version=101, out=os.path.dirname(cosmic_csv), cosmic_project=\"cancer\", download_cosmic=True, gget_mutate=True, keep_genome_info=True, remove_duplicates=True)\n",
    "if not os.path.isfile(cbioportal_mutated_genes_path):\n",
    "    raise FileExistsError(f\"{cbioportal_mutated_genes_path} does not exist. Download by visiting https://www.cbioportal.org/study/summary?id=gbm_tcga_pan_can_atlas_2018 → click 'mutated genes'\")\n",
    "if not os.path.isfile(single_cell_gbm_variants_path):\n",
    "    raise FileExistsError(f\"{single_cell_gbm_variants_path} does not exist. Please run Fig1_single_cell_analysis.ipynb to generate this file.\")\n",
    "if not os.path.isfile(single_cell_gbm_genes_path):\n",
    "    raise FileExistsError(f\"{single_cell_gbm_genes_path} does not exist. Please run Fig1_single_cell_analysis.ipynb to generate this file.\")\n",
    "\n",
    "# adata = ad.read_h5ad(\"/home/jmrich/Desktop/RLSRWP_2025/data/ccle_data_base/adata_vcrs_50.h5ad\")  #!!! erase\n",
    "adata = ad.read_h5ad(adata_combined_path_variants)\n",
    "cosmic_df = pd.read_csv(cosmic_csv)\n",
    "cbioportal_mutated_genes_df = pd.read_csv(cbioportal_mutated_genes_path, sep=\"\\t\")\n",
    "cbioportal_mutated_genes_df = cbioportal_mutated_genes_df.sort_values(by=\"#\", ascending=False)\n",
    "single_cell_gbm_variants_df = pd.read_csv(single_cell_gbm_variants_path)\n",
    "single_cell_gbm_genes_df = pd.read_csv(single_cell_gbm_genes_path)\n",
    "\n",
    "\n",
    "os.makedirs(out_dir, exist_ok=True)"
   ]
  },
  {
   "cell_type": "code",
   "execution_count": 35,
   "metadata": {},
   "outputs": [],
   "source": [
    "# Filter to keep only rows where \"#\" is >= number_cbio_samples\n",
    "cbioportal_mutated_genes_df_top = cbioportal_mutated_genes_df[cbioportal_mutated_genes_df[\"#\"] >= number_cbio_samples] if number_cbio_samples is not None else cbioportal_mutated_genes_df.copy()\n",
    "\n",
    "# only keep columns of adata where adata.var['gene_symbol'] is in cbioportal_mutated_genes_df['Gene'].unique()\n",
    "cbio_gbm_genes = set(cbioportal_mutated_genes_df_top['Gene'].unique())"
   ]
  },
  {
   "cell_type": "code",
   "execution_count": 39,
   "metadata": {},
   "outputs": [],
   "source": [
    "adata = ad.read_h5ad(adata_combined_path_variants)"
   ]
  },
  {
   "cell_type": "code",
   "execution_count": 40,
   "metadata": {},
   "outputs": [],
   "source": [
    "adata = adata[:, ~adata.var_names.str.contains(\";\")]  # Identify columns (variants) with semicolon in name\n",
    "adata.var.index.name = \"variant_name\"\n",
    "adata.var = adata.var.reset_index(drop=False)\n",
    "adata.var[[\"seq_ID\", \"mutation_cdna\"]] = adata.var[\"variant_name\"].str.split(\":\", expand=True)\n",
    "adata.var = adata.var.merge(cosmic_df[[\"seq_ID\", \"gene_name\"]].drop_duplicates(\"seq_ID\"), on=\"seq_ID\", how=\"left\").rename(columns={\"gene_name\": \"gene_symbol\"})\n",
    "\n",
    "if min_counts is not None:\n",
    "    adata.X = adata.X.multiply(adata.X >= min_counts)\n",
    "\n",
    "adata = adata[:, np.array((adata.X != 0).sum(axis=0)).flatten() > min_samples_per_variant]  # Identify columns (variants) with non-zero counts across samples\n",
    "\n",
    "adata.var[\"number_obs\"] = np.array((adata.X != 0).sum(axis=0)).flatten()\n",
    "\n",
    "adata.var[\"FCV\"] = adata.var[\"number_obs\"] / adata.shape[0]  # fraction of samples with variant - Fraction of cSamples with Variant (FCV)\n",
    "\n",
    "adata.var['variant_name_with_gene_name'] = (\n",
    "    adata.var[\"gene_symbol\"] + \"(\" +\n",
    "    adata.var[\"seq_ID\"] + \"):\" +\n",
    "    adata.var[\"mutation_cdna\"]\n",
    ")\n",
    "\n",
    "adata.obs.index = adata.obs.index.astype(str)  # avoid Don’t call _normalize_index with non-categorical/string names\n",
    "adata.var.index = adata.var.index.astype(str)  # avoid Don’t call _normalize_index with non-categorical/string names"
   ]
  },
  {
   "cell_type": "code",
   "execution_count": 127,
   "metadata": {},
   "outputs": [
    {
     "data": {
      "text/plain": [
       "Text(0.5, 1.0, 'Histogram of FCV for variants in CCLE')"
      ]
     },
     "execution_count": 127,
     "metadata": {},
     "output_type": "execute_result"
    },
    {
     "data": {
      "image/png": "[encoded data removed]",
      "text/plain": [
       "<Figure size 640x480 with 1 Axes>"
      ]
     },
     "metadata": {},
     "output_type": "display_data"
    }
   ],
   "source": [
    "# quick histogram of number_obs\n",
    "adata.var[\"FCV\"].plot.hist(bins=50).set_title(\"Histogram of FCV for variants in CCLE\")"
   ]
  },
  {
   "cell_type": "code",
   "execution_count": 46,
   "metadata": {},
   "outputs": [
    {
     "data": {
      "text/plain": [
       "AnnData object with n_obs × n_vars = 38 × 188083\n",
       "    obs: 'experiment_alias_underscores_only', 'experiment_accession', 'library_strategy', 'primary_disease', 'subtype_disease', 'sex', 'age', 'lineage_subtype', 'Cellosaurus_NCIt_disease', 'lineage'\n",
       "    var: 'variant_name', 'seq_ID', 'mutation_cdna', 'gene_symbol', 'number_obs', 'FCV', 'variant_name_with_gene_name'"
      ]
     },
     "execution_count": 46,
     "metadata": {},
     "output_type": "execute_result"
    }
   ],
   "source": [
    "adata"
   ]
  },
  {
   "cell_type": "code",
   "execution_count": 42,
   "metadata": {},
   "outputs": [
    {
     "data": {
      "application/vnd.microsoft.datawrangler.viewer.v0+json": {
       "columns": [
        {
         "name": "index",
         "rawType": "object",
         "type": "string"
        },
        {
         "name": "variant_name",
         "rawType": "object",
         "type": "string"
        },
        {
         "name": "seq_ID",
         "rawType": "object",
         "type": "string"
        },
        {
         "name": "mutation_cdna",
         "rawType": "object",
         "type": "string"
        },
        {
         "name": "gene_symbol",
         "rawType": "object",
         "type": "string"
        },
        {
         "name": "number_obs",
         "rawType": "int64",
         "type": "integer"
        },
        {
         "name": "FCV",
         "rawType": "float64",
         "type": "float"
        },
        {
         "name": "variant_name_with_gene_name",
         "rawType": "object",
         "type": "string"
        }
       ],
       "ref": "39356ad8-7c88-40d6-9045-a21e1686e082",
       "rows": [
        [
         "96",
         "ENST00000396153:c.1977A>G",
         "ENST00000396153",
         "c.1977A>G",
         "FAF1",
         "5",
         "0.13157894736842105",
         "FAF1(ENST00000396153):c.1977A>G"
        ],
        [
         "98",
         "ENST00000396153:c.1363T>G",
         "ENST00000396153",
         "c.1363T>G",
         "FAF1",
         "14",
         "0.3684210526315789",
         "FAF1(ENST00000396153):c.1363T>G"
        ],
        [
         "324",
         "ENST00000312553:c.102G>A",
         "ENST00000312553",
         "c.102G>A",
         "PODN",
         "8",
         "0.21052631578947367",
         "PODN(ENST00000312553):c.102G>A"
        ],
        [
         "447",
         "ENST00000312553:c.523G>A",
         "ENST00000312553",
         "c.523G>A",
         "PODN",
         "9",
         "0.23684210526315788",
         "PODN(ENST00000312553):c.523G>A"
        ],
        [
         "492",
         "ENST00000312553:c.1566T>C",
         "ENST00000312553",
         "c.1566T>C",
         "PODN",
         "4",
         "0.10526315789473684",
         "PODN(ENST00000312553):c.1566T>C"
        ]
       ],
       "shape": {
        "columns": 7,
        "rows": 5
       }
      },
      "text/html": [
       "<div>\n",
       "<style scoped>\n",
       "    .dataframe tbody tr th:only-of-type {\n",
       "        vertical-align: middle;\n",
       "    }\n",
       "\n",
       "    .dataframe tbody tr th {\n",
       "        vertical-align: top;\n",
       "    }\n",
       "\n",
       "    .dataframe thead th {\n",
       "        text-align: right;\n",
       "    }\n",
       "</style>\n",
       "<table border=\"1\" class=\"dataframe\">\n",
       "  <thead>\n",
       "    <tr style=\"text-align: right;\">\n",
       "      <th></th>\n",
       "      <th>variant_name</th>\n",
       "      <th>seq_ID</th>\n",
       "      <th>mutation_cdna</th>\n",
       "      <th>gene_symbol</th>\n",
       "      <th>number_obs</th>\n",
       "      <th>FCV</th>\n",
       "      <th>variant_name_with_gene_name</th>\n",
       "    </tr>\n",
       "  </thead>\n",
       "  <tbody>\n",
       "    <tr>\n",
       "      <th>96</th>\n",
       "      <td>ENST00000396153:c.1977A&gt;G</td>\n",
       "      <td>ENST00000396153</td>\n",
       "      <td>c.1977A&gt;G</td>\n",
       "      <td>FAF1</td>\n",
       "      <td>5</td>\n",
       "      <td>0.131579</td>\n",
       "      <td>FAF1(ENST00000396153):c.1977A&gt;G</td>\n",
       "    </tr>\n",
       "    <tr>\n",
       "      <th>98</th>\n",
       "      <td>ENST00000396153:c.1363T&gt;G</td>\n",
       "      <td>ENST00000396153</td>\n",
       "      <td>c.1363T&gt;G</td>\n",
       "      <td>FAF1</td>\n",
       "      <td>14</td>\n",
       "      <td>0.368421</td>\n",
       "      <td>FAF1(ENST00000396153):c.1363T&gt;G</td>\n",
       "    </tr>\n",
       "    <tr>\n",
       "      <th>324</th>\n",
       "      <td>ENST00000312553:c.102G&gt;A</td>\n",
       "      <td>ENST00000312553</td>\n",
       "      <td>c.102G&gt;A</td>\n",
       "      <td>PODN</td>\n",
       "      <td>8</td>\n",
       "      <td>0.210526</td>\n",
       "      <td>PODN(ENST00000312553):c.102G&gt;A</td>\n",
       "    </tr>\n",
       "    <tr>\n",
       "      <th>447</th>\n",
       "      <td>ENST00000312553:c.523G&gt;A</td>\n",
       "      <td>ENST00000312553</td>\n",
       "      <td>c.523G&gt;A</td>\n",
       "      <td>PODN</td>\n",
       "      <td>9</td>\n",
       "      <td>0.236842</td>\n",
       "      <td>PODN(ENST00000312553):c.523G&gt;A</td>\n",
       "    </tr>\n",
       "    <tr>\n",
       "      <th>492</th>\n",
       "      <td>ENST00000312553:c.1566T&gt;C</td>\n",
       "      <td>ENST00000312553</td>\n",
       "      <td>c.1566T&gt;C</td>\n",
       "      <td>PODN</td>\n",
       "      <td>4</td>\n",
       "      <td>0.105263</td>\n",
       "      <td>PODN(ENST00000312553):c.1566T&gt;C</td>\n",
       "    </tr>\n",
       "  </tbody>\n",
       "</table>\n",
       "</div>"
      ],
      "text/plain": [
       "                  variant_name           seq_ID mutation_cdna gene_symbol  \\\n",
       "96   ENST00000396153:c.1977A>G  ENST00000396153     c.1977A>G        FAF1   \n",
       "98   ENST00000396153:c.1363T>G  ENST00000396153     c.1363T>G        FAF1   \n",
       "324   ENST00000312553:c.102G>A  ENST00000312553      c.102G>A        PODN   \n",
       "447   ENST00000312553:c.523G>A  ENST00000312553      c.523G>A        PODN   \n",
       "492  ENST00000312553:c.1566T>C  ENST00000312553     c.1566T>C        PODN   \n",
       "\n",
       "     number_obs       FCV      variant_name_with_gene_name  \n",
       "96            5  0.131579  FAF1(ENST00000396153):c.1977A>G  \n",
       "98           14  0.368421  FAF1(ENST00000396153):c.1363T>G  \n",
       "324           8  0.210526   PODN(ENST00000312553):c.102G>A  \n",
       "447           9  0.236842   PODN(ENST00000312553):c.523G>A  \n",
       "492           4  0.105263  PODN(ENST00000312553):c.1566T>C  "
      ]
     },
     "execution_count": 42,
     "metadata": {},
     "output_type": "execute_result"
    }
   ],
   "source": [
    "adata.var.head()"
   ]
  },
  {
   "cell_type": "code",
   "execution_count": 21,
   "metadata": {},
   "outputs": [
    {
     "data": {
      "application/vnd.microsoft.datawrangler.viewer.v0+json": {
       "columns": [
        {
         "name": "index",
         "rawType": "int64",
         "type": "integer"
        },
        {
         "name": "variant_name",
         "rawType": "object",
         "type": "string"
        },
        {
         "name": "gene_symbol",
         "rawType": "object",
         "type": "string"
        },
        {
         "name": "variant_count",
         "rawType": "float64",
         "type": "float"
        },
        {
         "name": "gene_count",
         "rawType": "int64",
         "type": "integer"
        },
        {
         "name": "number_obs",
         "rawType": "int64",
         "type": "integer"
        },
        {
         "name": "FCV",
         "rawType": "float64",
         "type": "float"
        },
        {
         "name": "ROLE_IN_CANCER",
         "rawType": "object",
         "type": "unknown"
        },
        {
         "name": "TUMOUR_TYPES_SOMATIC",
         "rawType": "object",
         "type": "unknown"
        },
        {
         "name": "TUMOUR_TYPES_GERMLINE",
         "rawType": "object",
         "type": "unknown"
        },
        {
         "name": "seq_ID",
         "rawType": "object",
         "type": "string"
        },
        {
         "name": "mutation_cdna",
         "rawType": "object",
         "type": "string"
        },
        {
         "name": "nucleotide_positions",
         "rawType": "object",
         "type": "string"
        },
        {
         "name": "actual_variant",
         "rawType": "object",
         "type": "string"
        },
        {
         "name": "start_variant_position",
         "rawType": "float64",
         "type": "float"
        },
        {
         "name": "end_variant_position",
         "rawType": "float64",
         "type": "float"
        },
        {
         "name": "gene_id",
         "rawType": "object",
         "type": "string"
        },
        {
         "name": "variant_name_with_gene_id",
         "rawType": "object",
         "type": "string"
        },
        {
         "name": "variant_name_with_gene_name",
         "rawType": "object",
         "type": "string"
        },
        {
         "name": "FCV_neoplastic_astrocyte_to_FCV_healthy_astrocyte_ratio_1p",
         "rawType": "float64",
         "type": "float"
        },
        {
         "name": "simplified_role",
         "rawType": "object",
         "type": "unknown"
        }
       ],
       "ref": "0e50082c-4340-40c6-bd6e-d0267d53f77b",
       "rows": [
        [
         "0",
         "ENST00000396153:c.1592C>T",
         "FAF1",
         "3.0",
         "49",
         "1",
         "0.0002786291446085",
         null,
         null,
         null,
         "ENST00000396153",
         "c.1592C>T",
         "1592",
         "C>T",
         "1592.0",
         "1592.0",
         "ENSG00000185104",
         "ENSG00000185104(ENST00000396153):c.1592C>T",
         "FAF1(ENST00000396153):c.1592C>T",
         "0.0403299725022914",
         null
        ],
        [
         "1",
         "ENST00000396153:c.2261A>G",
         "FAF1",
         "5.0",
         "49",
         "2",
         "0.000557258289217",
         null,
         null,
         null,
         "ENST00000396153",
         "c.2261A>G",
         "2261",
         "A>G",
         "2261.0",
         "2261.0",
         "ENSG00000185104",
         "ENSG00000185104(ENST00000396153):c.2261A>G",
         "FAF1(ENST00000396153):c.2261A>G",
         "0.1613198900091659",
         null
        ],
        [
         "2",
         "ENST00000396153:c.1823G>A",
         "FAF1",
         "5.0",
         "49",
         "1",
         "0.0002786291446085",
         null,
         null,
         null,
         "ENST00000396153",
         "c.1823G>A",
         "1823",
         "G>A",
         "1823.0",
         "1823.0",
         "ENSG00000185104",
         "ENSG00000185104(ENST00000396153):c.1823G>A",
         "FAF1(ENST00000396153):c.1823G>A",
         "0.0806599450045829",
         null
        ],
        [
         "3",
         "ENST00000396153:c.1391G>T",
         "FAF1",
         "2.0",
         "49",
         "1",
         "0.0002786291446085",
         null,
         null,
         null,
         "ENST00000396153",
         "c.1391G>T",
         "1391",
         "G>T",
         "1391.0",
         "1391.0",
         "ENSG00000185104",
         "ENSG00000185104(ENST00000396153):c.1391G>T",
         "FAF1(ENST00000396153):c.1391G>T",
         "0.0806599450045829",
         null
        ],
        [
         "4",
         "ENST00000396153:c.1325C>T",
         "FAF1",
         "3.0",
         "49",
         "1",
         "0.0002786291446085",
         null,
         null,
         null,
         "ENST00000396153",
         "c.1325C>T",
         "1325",
         "C>T",
         "1325.0",
         "1325.0",
         "ENSG00000185104",
         "ENSG00000185104(ENST00000396153):c.1325C>T",
         "FAF1(ENST00000396153):c.1325C>T",
         "0.1613198900091659",
         null
        ]
       ],
       "shape": {
        "columns": 20,
        "rows": 5
       }
      },
      "text/html": [
       "<div>\n",
       "<style scoped>\n",
       "    .dataframe tbody tr th:only-of-type {\n",
       "        vertical-align: middle;\n",
       "    }\n",
       "\n",
       "    .dataframe tbody tr th {\n",
       "        vertical-align: top;\n",
       "    }\n",
       "\n",
       "    .dataframe thead th {\n",
       "        text-align: right;\n",
       "    }\n",
       "</style>\n",
       "<table border=\"1\" class=\"dataframe\">\n",
       "  <thead>\n",
       "    <tr style=\"text-align: right;\">\n",
       "      <th></th>\n",
       "      <th>variant_name</th>\n",
       "      <th>gene_symbol</th>\n",
       "      <th>variant_count</th>\n",
       "      <th>gene_count</th>\n",
       "      <th>number_obs</th>\n",
       "      <th>FCV</th>\n",
       "      <th>ROLE_IN_CANCER</th>\n",
       "      <th>TUMOUR_TYPES_SOMATIC</th>\n",
       "      <th>TUMOUR_TYPES_GERMLINE</th>\n",
       "      <th>seq_ID</th>\n",
       "      <th>mutation_cdna</th>\n",
       "      <th>nucleotide_positions</th>\n",
       "      <th>actual_variant</th>\n",
       "      <th>start_variant_position</th>\n",
       "      <th>end_variant_position</th>\n",
       "      <th>gene_id</th>\n",
       "      <th>variant_name_with_gene_id</th>\n",
       "      <th>variant_name_with_gene_name</th>\n",
       "      <th>FCV_neoplastic_astrocyte_to_FCV_healthy_astrocyte_ratio_1p</th>\n",
       "      <th>simplified_role</th>\n",
       "    </tr>\n",
       "  </thead>\n",
       "  <tbody>\n",
       "    <tr>\n",
       "      <th>0</th>\n",
       "      <td>ENST00000396153:c.1592C&gt;T</td>\n",
       "      <td>FAF1</td>\n",
       "      <td>3.0</td>\n",
       "      <td>49</td>\n",
       "      <td>1</td>\n",
       "      <td>0.000279</td>\n",
       "      <td>NaN</td>\n",
       "      <td>NaN</td>\n",
       "      <td>NaN</td>\n",
       "      <td>ENST00000396153</td>\n",
       "      <td>c.1592C&gt;T</td>\n",
       "      <td>1592</td>\n",
       "      <td>C&gt;T</td>\n",
       "      <td>1592.0</td>\n",
       "      <td>1592.0</td>\n",
       "      <td>ENSG00000185104</td>\n",
       "      <td>ENSG00000185104(ENST00000396153):c.1592C&gt;T</td>\n",
       "      <td>FAF1(ENST00000396153):c.1592C&gt;T</td>\n",
       "      <td>0.04033</td>\n",
       "      <td>NaN</td>\n",
       "    </tr>\n",
       "    <tr>\n",
       "      <th>1</th>\n",
       "      <td>ENST00000396153:c.2261A&gt;G</td>\n",
       "      <td>FAF1</td>\n",
       "      <td>5.0</td>\n",
       "      <td>49</td>\n",
       "      <td>2</td>\n",
       "      <td>0.000557</td>\n",
       "      <td>NaN</td>\n",
       "      <td>NaN</td>\n",
       "      <td>NaN</td>\n",
       "      <td>ENST00000396153</td>\n",
       "      <td>c.2261A&gt;G</td>\n",
       "      <td>2261</td>\n",
       "      <td>A&gt;G</td>\n",
       "      <td>2261.0</td>\n",
       "      <td>2261.0</td>\n",
       "      <td>ENSG00000185104</td>\n",
       "      <td>ENSG00000185104(ENST00000396153):c.2261A&gt;G</td>\n",
       "      <td>FAF1(ENST00000396153):c.2261A&gt;G</td>\n",
       "      <td>0.16132</td>\n",
       "      <td>NaN</td>\n",
       "    </tr>\n",
       "    <tr>\n",
       "      <th>2</th>\n",
       "      <td>ENST00000396153:c.1823G&gt;A</td>\n",
       "      <td>FAF1</td>\n",
       "      <td>5.0</td>\n",
       "      <td>49</td>\n",
       "      <td>1</td>\n",
       "      <td>0.000279</td>\n",
       "      <td>NaN</td>\n",
       "      <td>NaN</td>\n",
       "      <td>NaN</td>\n",
       "      <td>ENST00000396153</td>\n",
       "      <td>c.1823G&gt;A</td>\n",
       "      <td>1823</td>\n",
       "      <td>G&gt;A</td>\n",
       "      <td>1823.0</td>\n",
       "      <td>1823.0</td>\n",
       "      <td>ENSG00000185104</td>\n",
       "      <td>ENSG00000185104(ENST00000396153):c.1823G&gt;A</td>\n",
       "      <td>FAF1(ENST00000396153):c.1823G&gt;A</td>\n",
       "      <td>0.08066</td>\n",
       "      <td>NaN</td>\n",
       "    </tr>\n",
       "    <tr>\n",
       "      <th>3</th>\n",
       "      <td>ENST00000396153:c.1391G&gt;T</td>\n",
       "      <td>FAF1</td>\n",
       "      <td>2.0</td>\n",
       "      <td>49</td>\n",
       "      <td>1</td>\n",
       "      <td>0.000279</td>\n",
       "      <td>NaN</td>\n",
       "      <td>NaN</td>\n",
       "      <td>NaN</td>\n",
       "      <td>ENST00000396153</td>\n",
       "      <td>c.1391G&gt;T</td>\n",
       "      <td>1391</td>\n",
       "      <td>G&gt;T</td>\n",
       "      <td>1391.0</td>\n",
       "      <td>1391.0</td>\n",
       "      <td>ENSG00000185104</td>\n",
       "      <td>ENSG00000185104(ENST00000396153):c.1391G&gt;T</td>\n",
       "      <td>FAF1(ENST00000396153):c.1391G&gt;T</td>\n",
       "      <td>0.08066</td>\n",
       "      <td>NaN</td>\n",
       "    </tr>\n",
       "    <tr>\n",
       "      <th>4</th>\n",
       "      <td>ENST00000396153:c.1325C&gt;T</td>\n",
       "      <td>FAF1</td>\n",
       "      <td>3.0</td>\n",
       "      <td>49</td>\n",
       "      <td>1</td>\n",
       "      <td>0.000279</td>\n",
       "      <td>NaN</td>\n",
       "      <td>NaN</td>\n",
       "      <td>NaN</td>\n",
       "      <td>ENST00000396153</td>\n",
       "      <td>c.1325C&gt;T</td>\n",
       "      <td>1325</td>\n",
       "      <td>C&gt;T</td>\n",
       "      <td>1325.0</td>\n",
       "      <td>1325.0</td>\n",
       "      <td>ENSG00000185104</td>\n",
       "      <td>ENSG00000185104(ENST00000396153):c.1325C&gt;T</td>\n",
       "      <td>FAF1(ENST00000396153):c.1325C&gt;T</td>\n",
       "      <td>0.16132</td>\n",
       "      <td>NaN</td>\n",
       "    </tr>\n",
       "  </tbody>\n",
       "</table>\n",
       "</div>"
      ],
      "text/plain": [
       "                variant_name gene_symbol  variant_count  gene_count  \\\n",
       "0  ENST00000396153:c.1592C>T        FAF1            3.0          49   \n",
       "1  ENST00000396153:c.2261A>G        FAF1            5.0          49   \n",
       "2  ENST00000396153:c.1823G>A        FAF1            5.0          49   \n",
       "3  ENST00000396153:c.1391G>T        FAF1            2.0          49   \n",
       "4  ENST00000396153:c.1325C>T        FAF1            3.0          49   \n",
       "\n",
       "   number_obs       FCV ROLE_IN_CANCER TUMOUR_TYPES_SOMATIC  \\\n",
       "0           1  0.000279            NaN                  NaN   \n",
       "1           2  0.000557            NaN                  NaN   \n",
       "2           1  0.000279            NaN                  NaN   \n",
       "3           1  0.000279            NaN                  NaN   \n",
       "4           1  0.000279            NaN                  NaN   \n",
       "\n",
       "  TUMOUR_TYPES_GERMLINE           seq_ID mutation_cdna nucleotide_positions  \\\n",
       "0                   NaN  ENST00000396153     c.1592C>T                 1592   \n",
       "1                   NaN  ENST00000396153     c.2261A>G                 2261   \n",
       "2                   NaN  ENST00000396153     c.1823G>A                 1823   \n",
       "3                   NaN  ENST00000396153     c.1391G>T                 1391   \n",
       "4                   NaN  ENST00000396153     c.1325C>T                 1325   \n",
       "\n",
       "  actual_variant  start_variant_position  end_variant_position  \\\n",
       "0            C>T                  1592.0                1592.0   \n",
       "1            A>G                  2261.0                2261.0   \n",
       "2            G>A                  1823.0                1823.0   \n",
       "3            G>T                  1391.0                1391.0   \n",
       "4            C>T                  1325.0                1325.0   \n",
       "\n",
       "           gene_id                   variant_name_with_gene_id  \\\n",
       "0  ENSG00000185104  ENSG00000185104(ENST00000396153):c.1592C>T   \n",
       "1  ENSG00000185104  ENSG00000185104(ENST00000396153):c.2261A>G   \n",
       "2  ENSG00000185104  ENSG00000185104(ENST00000396153):c.1823G>A   \n",
       "3  ENSG00000185104  ENSG00000185104(ENST00000396153):c.1391G>T   \n",
       "4  ENSG00000185104  ENSG00000185104(ENST00000396153):c.1325C>T   \n",
       "\n",
       "       variant_name_with_gene_name  \\\n",
       "0  FAF1(ENST00000396153):c.1592C>T   \n",
       "1  FAF1(ENST00000396153):c.2261A>G   \n",
       "2  FAF1(ENST00000396153):c.1823G>A   \n",
       "3  FAF1(ENST00000396153):c.1391G>T   \n",
       "4  FAF1(ENST00000396153):c.1325C>T   \n",
       "\n",
       "   FCV_neoplastic_astrocyte_to_FCV_healthy_astrocyte_ratio_1p simplified_role  \n",
       "0                                            0.04033                      NaN  \n",
       "1                                            0.16132                      NaN  \n",
       "2                                            0.08066                      NaN  \n",
       "3                                            0.08066                      NaN  \n",
       "4                                            0.16132                      NaN  "
      ]
     },
     "execution_count": 21,
     "metadata": {},
     "output_type": "execute_result"
    }
   ],
   "source": [
    "single_cell_gbm_variants_df.head()"
   ]
  },
  {
   "cell_type": "code",
   "execution_count": 14,
   "metadata": {},
   "outputs": [
    {
     "data": {
      "application/vnd.microsoft.datawrangler.viewer.v0+json": {
       "columns": [
        {
         "name": "index",
         "rawType": "int64",
         "type": "integer"
        },
        {
         "name": "gene_id",
         "rawType": "object",
         "type": "string"
        },
        {
         "name": "gene_symbol",
         "rawType": "object",
         "type": "string"
        },
        {
         "name": "number_variants_neoplastic_astrocyte",
         "rawType": "int64",
         "type": "integer"
        },
        {
         "name": "number_variants_healthy_astrocyte",
         "rawType": "int64",
         "type": "integer"
        },
        {
         "name": "number_variants_total_astrocyte",
         "rawType": "int64",
         "type": "integer"
        },
        {
         "name": "max_FCV_neoplastic_astrocyte_to_FCV_healthy_astrocyte_ratio_1p",
         "rawType": "float64",
         "type": "float"
        },
        {
         "name": "logfc_neoplastic_to_astrocytes",
         "rawType": "float64",
         "type": "float"
        },
        {
         "name": "pvaladj_neoplastic_to_astrocytes",
         "rawType": "float64",
         "type": "float"
        }
       ],
       "ref": "ee6cb2d3-87df-4fbf-a00e-35a02b3fef2f",
       "rows": [
        [
         "0",
         "ENSG00000000003",
         "TSPAN6",
         "16",
         "2",
         "17",
         "0.7259395050412465",
         "0.021156346",
         "1.0"
        ],
        [
         "1",
         "ENSG00000000419",
         "DPM1",
         "10",
         "2",
         "11",
         "0.2419798350137488",
         "0.8650956",
         "1.0"
        ],
        [
         "2",
         "ENSG00000000457",
         "SCYL3",
         "8",
         "2",
         "10",
         "1.9358386801099907",
         "-0.002514995",
         "1.0"
        ],
        [
         "3",
         "ENSG00000000460",
         "C1orf112",
         "4",
         "0",
         "4",
         "0.1613198900091659",
         "0.9216148",
         "1.0"
        ],
        [
         "4",
         "ENSG00000000938",
         "FGR",
         "0",
         "0",
         "0",
         "0.0806599450045829",
         "-1.665242",
         "1.0"
        ]
       ],
       "shape": {
        "columns": 8,
        "rows": 5
       }
      },
      "text/html": [
       "<div>\n",
       "<style scoped>\n",
       "    .dataframe tbody tr th:only-of-type {\n",
       "        vertical-align: middle;\n",
       "    }\n",
       "\n",
       "    .dataframe tbody tr th {\n",
       "        vertical-align: top;\n",
       "    }\n",
       "\n",
       "    .dataframe thead th {\n",
       "        text-align: right;\n",
       "    }\n",
       "</style>\n",
       "<table border=\"1\" class=\"dataframe\">\n",
       "  <thead>\n",
       "    <tr style=\"text-align: right;\">\n",
       "      <th></th>\n",
       "      <th>gene_id</th>\n",
       "      <th>gene_symbol</th>\n",
       "      <th>number_variants_neoplastic_astrocyte</th>\n",
       "      <th>number_variants_healthy_astrocyte</th>\n",
       "      <th>number_variants_total_astrocyte</th>\n",
       "      <th>max_FCV_neoplastic_astrocyte_to_FCV_healthy_astrocyte_ratio_1p</th>\n",
       "      <th>logfc_neoplastic_to_astrocytes</th>\n",
       "      <th>pvaladj_neoplastic_to_astrocytes</th>\n",
       "    </tr>\n",
       "  </thead>\n",
       "  <tbody>\n",
       "    <tr>\n",
       "      <th>0</th>\n",
       "      <td>ENSG00000000003</td>\n",
       "      <td>TSPAN6</td>\n",
       "      <td>16</td>\n",
       "      <td>2</td>\n",
       "      <td>17</td>\n",
       "      <td>0.725940</td>\n",
       "      <td>0.021156</td>\n",
       "      <td>1.0</td>\n",
       "    </tr>\n",
       "    <tr>\n",
       "      <th>1</th>\n",
       "      <td>ENSG00000000419</td>\n",
       "      <td>DPM1</td>\n",
       "      <td>10</td>\n",
       "      <td>2</td>\n",
       "      <td>11</td>\n",
       "      <td>0.241980</td>\n",
       "      <td>0.865096</td>\n",
       "      <td>1.0</td>\n",
       "    </tr>\n",
       "    <tr>\n",
       "      <th>2</th>\n",
       "      <td>ENSG00000000457</td>\n",
       "      <td>SCYL3</td>\n",
       "      <td>8</td>\n",
       "      <td>2</td>\n",
       "      <td>10</td>\n",
       "      <td>1.935839</td>\n",
       "      <td>-0.002515</td>\n",
       "      <td>1.0</td>\n",
       "    </tr>\n",
       "    <tr>\n",
       "      <th>3</th>\n",
       "      <td>ENSG00000000460</td>\n",
       "      <td>C1orf112</td>\n",
       "      <td>4</td>\n",
       "      <td>0</td>\n",
       "      <td>4</td>\n",
       "      <td>0.161320</td>\n",
       "      <td>0.921615</td>\n",
       "      <td>1.0</td>\n",
       "    </tr>\n",
       "    <tr>\n",
       "      <th>4</th>\n",
       "      <td>ENSG00000000938</td>\n",
       "      <td>FGR</td>\n",
       "      <td>0</td>\n",
       "      <td>0</td>\n",
       "      <td>0</td>\n",
       "      <td>0.080660</td>\n",
       "      <td>-1.665242</td>\n",
       "      <td>1.0</td>\n",
       "    </tr>\n",
       "  </tbody>\n",
       "</table>\n",
       "</div>"
      ],
      "text/plain": [
       "           gene_id gene_symbol  number_variants_neoplastic_astrocyte  \\\n",
       "0  ENSG00000000003      TSPAN6                                    16   \n",
       "1  ENSG00000000419        DPM1                                    10   \n",
       "2  ENSG00000000457       SCYL3                                     8   \n",
       "3  ENSG00000000460    C1orf112                                     4   \n",
       "4  ENSG00000000938         FGR                                     0   \n",
       "\n",
       "   number_variants_healthy_astrocyte  number_variants_total_astrocyte  \\\n",
       "0                                  2                               17   \n",
       "1                                  2                               11   \n",
       "2                                  2                               10   \n",
       "3                                  0                                4   \n",
       "4                                  0                                0   \n",
       "\n",
       "   max_FCV_neoplastic_astrocyte_to_FCV_healthy_astrocyte_ratio_1p  \\\n",
       "0                                           0.725940                \n",
       "1                                           0.241980                \n",
       "2                                           1.935839                \n",
       "3                                           0.161320                \n",
       "4                                           0.080660                \n",
       "\n",
       "   logfc_neoplastic_to_astrocytes  pvaladj_neoplastic_to_astrocytes  \n",
       "0                        0.021156                               1.0  \n",
       "1                        0.865096                               1.0  \n",
       "2                       -0.002515                               1.0  \n",
       "3                        0.921615                               1.0  \n",
       "4                       -1.665242                               1.0  "
      ]
     },
     "execution_count": 14,
     "metadata": {},
     "output_type": "execute_result"
    }
   ],
   "source": [
    "single_cell_gbm_genes_df.head()"
   ]
  },
  {
   "cell_type": "code",
   "execution_count": 55,
   "metadata": {},
   "outputs": [],
   "source": [
    "ccle_gbm_variants = set(adata.var.loc[adata.var[\"FCV\"] >= fcv_threshold_ccle, \"variant_name\"]) if fcv_threshold_ccle is not None else set(adata.var[\"variant_name\"])\n",
    "ccle_gbm_genes = set(adata.var.loc[adata.var[\"FCV\"] >= fcv_threshold_ccle, \"gene_symbol\"]) if fcv_threshold_ccle is not None else set(adata.var[\"gene_symbol\"])\n",
    "\n",
    "sc_gbm_variants = set(single_cell_gbm_variants_df.loc[single_cell_gbm_variants_df[\"FCV_neoplastic_astrocyte_to_FCV_healthy_astrocyte_ratio_1p\"] >= FCV_neoplastic_astrocyte_to_FCV_healthy_astrocyte_ratio_1p_threshold_sc, \"variant_name\"]) if FCV_neoplastic_astrocyte_to_FCV_healthy_astrocyte_ratio_1p_threshold_sc is not None else set(single_cell_gbm_variants_df[\"variant_name\"])\n",
    "sc_gbm_genes = set(single_cell_gbm_genes_df.loc[single_cell_gbm_genes_df[\"max_FCV_neoplastic_astrocyte_to_FCV_healthy_astrocyte_ratio_1p\"] >= max_FCV_neoplastic_astrocyte_to_FCV_healthy_astrocyte_ratio_1p_threshold_sc, \"gene_symbol\"]) if max_FCV_neoplastic_astrocyte_to_FCV_healthy_astrocyte_ratio_1p_threshold_sc is not None else set(single_cell_gbm_genes_df[\"gene_symbol\"])"
   ]
  },
  {
   "cell_type": "code",
   "execution_count": 56,
   "metadata": {},
   "outputs": [
    {
     "data": {
      "image/png": "[encoded data removed]",
      "text/plain": [
       "<Figure size 400x355.556 with 4 Axes>"
      ]
     },
     "metadata": {},
     "output_type": "display_data"
    }
   ],
   "source": [
    "# variants present in both ccle (in a certain fraction of samples) and sc (with certain neoplastic astrocyte to healthy astrocyte ratio)\n",
    "upset_dict = {\n",
    "    \"ccle_variants\": ccle_gbm_variants,\n",
    "    \"sc_variants\": sc_gbm_variants,\n",
    "}\n",
    "\n",
    "upset_out_path = os.path.join(out_dir, f\"upset_variants_detected_{fcv_threshold_ccle}_fcv_threshold_ccle.pdf\")\n",
    "variants_detected_data_for_upset = from_contents(upset_dict)\n",
    "ax_dict = UpSet(variants_detected_data_for_upset, subset_size='count', show_counts=True).plot()\n",
    "plt.savefig(upset_out_path)"
   ]
  },
  {
   "cell_type": "code",
   "execution_count": 57,
   "metadata": {},
   "outputs": [
    {
     "data": {
      "image/png": "[encoded data removed]",
      "text/plain": [
       "<Figure size 488.889x400 with 4 Axes>"
      ]
     },
     "metadata": {},
     "output_type": "display_data"
    }
   ],
   "source": [
    "# variants present in ccle (in a certain fraction of samples), sc (with certain max neoplastic astrocyte to healthy astrocyte ratio), and cbio (in a certain number of samples)\n",
    "upset_dict = {\n",
    "    \"ccle_genes\": ccle_gbm_genes,\n",
    "    \"sc_genes\": sc_gbm_genes,\n",
    "    \"cbio_genes\": cbio_gbm_genes,\n",
    "}\n",
    "\n",
    "upset_out_path = os.path.join(out_dir, f\"upset_genes_detected_{fcv_threshold_ccle}_fcv_threshold_ccle.pdf\")\n",
    "variants_detected_data_for_upset = from_contents(upset_dict)\n",
    "ax_dict = UpSet(variants_detected_data_for_upset, subset_size='count', show_counts=True).plot()\n",
    "plt.savefig(upset_out_path)"
   ]
  },
  {
   "cell_type": "markdown",
   "metadata": {},
   "source": [
    "## set fcv_threshold_ccle higher and try again"
   ]
  },
  {
   "cell_type": "code",
   "execution_count": null,
   "metadata": {},
   "outputs": [],
   "source": [
    "# fcv_threshold_ccle2 = 0.2\n",
    "\n",
    "# ccle_gbm_variants2 = set(adata.var.loc[adata.var[\"FCV\"] >= fcv_threshold_ccle2, \"variant_name\"]) if fcv_threshold_ccle2 is not None else set(adata.var[\"variant_name\"])\n",
    "# ccle_gbm_genes2 = set(adata.var.loc[adata.var[\"FCV\"] >= fcv_threshold_ccle2, \"gene_symbol\"]) if fcv_threshold_ccle2 is not None else set(adata.var[\"gene_symbol\"])\n",
    "\n",
    "# sc_gbm_variants2 = set(single_cell_gbm_variants_df.loc[single_cell_gbm_variants_df[\"FCV_neoplastic_astrocyte_to_FCV_healthy_astrocyte_ratio_1p\"] >= FCV_neoplastic_astrocyte_to_FCV_healthy_astrocyte_ratio_1p_threshold_sc, \"variant_name\"]) if FCV_neoplastic_astrocyte_to_FCV_healthy_astrocyte_ratio_1p_threshold_sc is not None else set(single_cell_gbm_variants_df[\"variant_name\"])\n",
    "# sc_gbm_genes2 = set(single_cell_gbm_genes_df.loc[single_cell_gbm_genes_df[\"max_FCV_neoplastic_astrocyte_to_FCV_healthy_astrocyte_ratio_1p\"] >= max_FCV_neoplastic_astrocyte_to_FCV_healthy_astrocyte_ratio_1p_threshold_sc, \"gene_symbol\"]) if max_FCV_neoplastic_astrocyte_to_FCV_healthy_astrocyte_ratio_1p_threshold_sc is not None else set(single_cell_gbm_genes_df[\"gene_symbol\"])\n",
    "\n",
    "# # variants present in both ccle (in a certain fraction of samples) and sc (with certain neoplastic astrocyte to healthy astrocyte ratio)\n",
    "# upset_dict = {\n",
    "#     \"ccle_variants\": ccle_gbm_variants2,\n",
    "#     \"sc_variants\": sc_gbm_variants2,\n",
    "# }\n",
    "\n",
    "# upset_out_path = os.path.join(out_dir, f\"upset_variants_detected_{fcv_threshold_ccle2}_fcv_threshold_ccle.pdf\")\n",
    "# variants_detected_data_for_upset = from_contents(upset_dict)\n",
    "# ax_dict = UpSet(variants_detected_data_for_upset, subset_size='count', show_counts=True).plot()\n",
    "# plt.savefig(upset_out_path)\n",
    "\n",
    "# # variants present in ccle (in a certain fraction of samples), sc (with certain max neoplastic astrocyte to healthy astrocyte ratio), and cbio (in a certain number of samples)\n",
    "# upset_dict = {\n",
    "#     \"ccle_genes\": ccle_gbm_genes2,\n",
    "#     \"sc_genes\": sc_gbm_genes2,\n",
    "#     \"cbio_genes\": cbio_gbm_genes,\n",
    "# }\n",
    "\n",
    "# upset_out_path = os.path.join(out_dir, f\"upset_genes_detected_{fcv_threshold_ccle2}_fcv_threshold_ccle.pdf\")\n",
    "# variants_detected_data_for_upset = from_contents(upset_dict)\n",
    "# ax_dict = UpSet(variants_detected_data_for_upset, subset_size='count', show_counts=True).plot()\n",
    "# plt.savefig(upset_out_path)"
   ]
  },
  {
   "cell_type": "markdown",
   "metadata": {},
   "source": [
    "## How much of this is by chance?"
   ]
  },
  {
   "cell_type": "code",
   "execution_count": 61,
   "metadata": {},
   "outputs": [],
   "source": [
    "total_variants_cosmic_cmc = len(cosmic_df)\n",
    "total_genes_cosmic_cmc = len(cosmic_df['gene_name'].unique())\n",
    "\n",
    "total_variants_ccle_gbm = len(ccle_gbm_variants)\n",
    "total_genes_ccle_gbm = len(ccle_gbm_genes)\n",
    "\n",
    "total_variants_sc = len(sc_gbm_variants)\n",
    "total_genes_sc = len(sc_gbm_genes)\n",
    "\n",
    "variant_overlap_between_ccle_and_sc = len(ccle_gbm_variants.intersection(sc_gbm_variants))\n",
    "gene_overlap_between_ccle_and_sc = len(ccle_gbm_genes.intersection(sc_gbm_genes))"
   ]
  },
  {
   "cell_type": "code",
   "execution_count": 83,
   "metadata": {},
   "outputs": [
    {
     "name": "stdout",
     "output_type": "stream",
     "text": [
      "element name: variant\n",
      "N (population size): 5419494\n",
      "n1 (sample size 1): 188083\n",
      "n2 (sample size 2): 3231\n",
      "\n",
      "Expected variant overlap: 112.13153349740769\n",
      "Observed variant overlap: 2888\n",
      "Right-tail p-value for observed variant overlap 2888: <1e-308\n",
      "--------------------------\n",
      "element name: gene\n",
      "N (population size): 19993\n",
      "n1 (sample size 1): 12846\n",
      "n2 (sample size 2): 1596\n",
      "\n",
      "Expected gene overlap: 1025.46971440004\n",
      "Observed gene overlap: 1577\n",
      "Right-tail p-value for observed gene overlap 1577: 7.046e-284\n"
     ]
    },
    {
     "data": {
      "text/plain": [
       "7.046147198928731e-284"
      ]
     },
     "execution_count": 83,
     "metadata": {},
     "output_type": "execute_result"
    }
   ],
   "source": [
    "def compute_overlap_p_value(N, n1, n2, observed_overlap, element_name = \"element\"):\n",
    "    \"\"\"\n",
    "    N: population size (e.g., total number of variants/genes in cosmic_cmc)\n",
    "    n1: sample size 1 (e.g., number of variants/genes in ccle)\n",
    "    n2: sample size 2 (e.g., number of variants/genes in sc)\n",
    "    \"\"\"\n",
    "    print(f\"\"\"element name: {element_name}\n",
    "N (population size): {N}\n",
    "n1 (sample size 1): {n1}\n",
    "n2 (sample size 2): {n2}\n",
    "\"\"\")\n",
    "\n",
    "    expected_overlap = (n1 * n2) / N\n",
    "    print(f\"Expected {element_name} overlap: {expected_overlap}\")\n",
    "    print(f\"Observed {element_name} overlap: {observed_overlap}\")\n",
    "\n",
    "    # Hypergeometric distribution\n",
    "    rv = hypergeom(N, n1, n2)\n",
    "\n",
    "    # Compute p-value (right-tail)\n",
    "    p_value = rv.sf(observed_overlap - 1)\n",
    "\n",
    "    if p_value == 0:\n",
    "        print(f\"Right-tail p-value for observed {element_name} overlap {observed_overlap}: <1e-308\")\n",
    "    else:\n",
    "        print(f\"Right-tail p-value for observed {element_name} overlap {observed_overlap}: {p_value:.4g}\")\n",
    "\n",
    "    return p_value\n",
    "\n",
    "\n",
    "compute_overlap_p_value(\n",
    "    N=total_variants_cosmic_cmc,\n",
    "    n1=total_variants_ccle_gbm,\n",
    "    n2=total_variants_sc,\n",
    "    observed_overlap=variant_overlap_between_ccle_and_sc,\n",
    "    element_name = \"variant\"\n",
    ")\n",
    "\n",
    "print(\"--------------------------\")\n",
    "\n",
    "compute_overlap_p_value(\n",
    "    N=total_genes_cosmic_cmc,\n",
    "    n1=total_genes_ccle_gbm,\n",
    "    n2=total_genes_sc,\n",
    "    observed_overlap=gene_overlap_between_ccle_and_sc,\n",
    "    element_name = \"gene\"\n",
    ")"
   ]
  },
  {
   "cell_type": "markdown",
   "metadata": {},
   "source": [
    "Safe to say it's not by chance..."
   ]
  },
  {
   "cell_type": "markdown",
   "metadata": {},
   "source": [
    "## Let's look at those intersecting genes"
   ]
  },
  {
   "cell_type": "code",
   "execution_count": 119,
   "metadata": {},
   "outputs": [
    {
     "name": "stdout",
     "output_type": "stream",
     "text": [
      "['AHNAK2', 'C3', 'COL1A2', 'EGFR', 'KANK1', 'KMT2C', 'LAMA5', 'NAV2', 'PDGFRA', 'PTPRZ1', 'SAMD9', 'SYNE2', 'THBS1', 'TP53']\n"
     ]
    }
   ],
   "source": [
    "gene_intersection = sorted(ccle_gbm_genes & sc_gbm_genes & cbio_gbm_genes)\n",
    "print(gene_intersection)"
   ]
  },
  {
   "cell_type": "markdown",
   "metadata": {},
   "source": [
    "## How about the variants?"
   ]
  },
  {
   "cell_type": "code",
   "execution_count": 128,
   "metadata": {},
   "outputs": [],
   "source": [
    "variant_intersection = sorted(ccle_gbm_variants & sc_gbm_variants)\n",
    "filtered_df = adata.var[adata.var[\"variant_name\"].isin(variant_intersection)].copy()"
   ]
  },
  {
   "cell_type": "markdown",
   "metadata": {},
   "source": [
    "### Look at the variants that intersect sc and CCLE, and sort by the fraction of samples in which each variant is present in CCLE"
   ]
  },
  {
   "cell_type": "code",
   "execution_count": 130,
   "metadata": {},
   "outputs": [
    {
     "data": {
      "application/vnd.microsoft.datawrangler.viewer.v0+json": {
       "columns": [
        {
         "name": "index",
         "rawType": "object",
         "type": "string"
        },
        {
         "name": "variant_name",
         "rawType": "object",
         "type": "string"
        },
        {
         "name": "seq_ID",
         "rawType": "object",
         "type": "string"
        },
        {
         "name": "mutation_cdna",
         "rawType": "object",
         "type": "string"
        },
        {
         "name": "gene_symbol",
         "rawType": "object",
         "type": "string"
        },
        {
         "name": "number_obs",
         "rawType": "int64",
         "type": "integer"
        },
        {
         "name": "FCV",
         "rawType": "float64",
         "type": "float"
        },
        {
         "name": "variant_name_with_gene_name",
         "rawType": "object",
         "type": "string"
        }
       ],
       "ref": "9c343e71-c56d-4766-aab1-16467e641327",
       "rows": [
        [
         "1773",
         "ENST00000371218:c.313T>G",
         "ENST00000371218",
         "c.313T>G",
         "FGGY",
         "26",
         "0.6842105263157895",
         "FGGY(ENST00000371218):c.313T>G"
        ],
        [
         "2132",
         "ENST00000371083:c.1083C>T",
         "ENST00000371083",
         "c.1083C>T",
         "PGM1",
         "20",
         "0.5263157894736842",
         "PGM1(ENST00000371083):c.1083C>T"
        ],
        [
         "3782",
         "ENST00000370751:c.397A>G",
         "ENST00000370751",
         "c.397A>G",
         "IFI44L",
         "20",
         "0.5263157894736842",
         "IFI44L(ENST00000370751):c.397A>G"
        ],
        [
         "4876",
         "ENST00000370192:c.186C>T",
         "ENST00000370192",
         "c.186C>T",
         "DPYD",
         "36",
         "0.9473684210526315",
         "DPYD(ENST00000370192):c.186C>T"
        ],
        [
         "15487",
         "ENST00000376957:c.183A>G",
         "ENST00000376957",
         "c.183A>G",
         "SRM",
         "38",
         "1.0",
         "SRM(ENST00000376957):c.183A>G"
        ]
       ],
       "shape": {
        "columns": 7,
        "rows": 5
       }
      },
      "text/html": [
       "<div>\n",
       "<style scoped>\n",
       "    .dataframe tbody tr th:only-of-type {\n",
       "        vertical-align: middle;\n",
       "    }\n",
       "\n",
       "    .dataframe tbody tr th {\n",
       "        vertical-align: top;\n",
       "    }\n",
       "\n",
       "    .dataframe thead th {\n",
       "        text-align: right;\n",
       "    }\n",
       "</style>\n",
       "<table border=\"1\" class=\"dataframe\">\n",
       "  <thead>\n",
       "    <tr style=\"text-align: right;\">\n",
       "      <th></th>\n",
       "      <th>variant_name</th>\n",
       "      <th>seq_ID</th>\n",
       "      <th>mutation_cdna</th>\n",
       "      <th>gene_symbol</th>\n",
       "      <th>number_obs</th>\n",
       "      <th>FCV</th>\n",
       "      <th>variant_name_with_gene_name</th>\n",
       "    </tr>\n",
       "  </thead>\n",
       "  <tbody>\n",
       "    <tr>\n",
       "      <th>1773</th>\n",
       "      <td>ENST00000371218:c.313T&gt;G</td>\n",
       "      <td>ENST00000371218</td>\n",
       "      <td>c.313T&gt;G</td>\n",
       "      <td>FGGY</td>\n",
       "      <td>26</td>\n",
       "      <td>0.684211</td>\n",
       "      <td>FGGY(ENST00000371218):c.313T&gt;G</td>\n",
       "    </tr>\n",
       "    <tr>\n",
       "      <th>2132</th>\n",
       "      <td>ENST00000371083:c.1083C&gt;T</td>\n",
       "      <td>ENST00000371083</td>\n",
       "      <td>c.1083C&gt;T</td>\n",
       "      <td>PGM1</td>\n",
       "      <td>20</td>\n",
       "      <td>0.526316</td>\n",
       "      <td>PGM1(ENST00000371083):c.1083C&gt;T</td>\n",
       "    </tr>\n",
       "    <tr>\n",
       "      <th>3782</th>\n",
       "      <td>ENST00000370751:c.397A&gt;G</td>\n",
       "      <td>ENST00000370751</td>\n",
       "      <td>c.397A&gt;G</td>\n",
       "      <td>IFI44L</td>\n",
       "      <td>20</td>\n",
       "      <td>0.526316</td>\n",
       "      <td>IFI44L(ENST00000370751):c.397A&gt;G</td>\n",
       "    </tr>\n",
       "    <tr>\n",
       "      <th>4876</th>\n",
       "      <td>ENST00000370192:c.186C&gt;T</td>\n",
       "      <td>ENST00000370192</td>\n",
       "      <td>c.186C&gt;T</td>\n",
       "      <td>DPYD</td>\n",
       "      <td>36</td>\n",
       "      <td>0.947368</td>\n",
       "      <td>DPYD(ENST00000370192):c.186C&gt;T</td>\n",
       "    </tr>\n",
       "    <tr>\n",
       "      <th>15487</th>\n",
       "      <td>ENST00000376957:c.183A&gt;G</td>\n",
       "      <td>ENST00000376957</td>\n",
       "      <td>c.183A&gt;G</td>\n",
       "      <td>SRM</td>\n",
       "      <td>38</td>\n",
       "      <td>1.000000</td>\n",
       "      <td>SRM(ENST00000376957):c.183A&gt;G</td>\n",
       "    </tr>\n",
       "  </tbody>\n",
       "</table>\n",
       "</div>"
      ],
      "text/plain": [
       "                    variant_name           seq_ID mutation_cdna gene_symbol  \\\n",
       "1773    ENST00000371218:c.313T>G  ENST00000371218      c.313T>G        FGGY   \n",
       "2132   ENST00000371083:c.1083C>T  ENST00000371083     c.1083C>T        PGM1   \n",
       "3782    ENST00000370751:c.397A>G  ENST00000370751      c.397A>G      IFI44L   \n",
       "4876    ENST00000370192:c.186C>T  ENST00000370192      c.186C>T        DPYD   \n",
       "15487   ENST00000376957:c.183A>G  ENST00000376957      c.183A>G         SRM   \n",
       "\n",
       "       number_obs       FCV       variant_name_with_gene_name  \n",
       "1773           26  0.684211    FGGY(ENST00000371218):c.313T>G  \n",
       "2132           20  0.526316   PGM1(ENST00000371083):c.1083C>T  \n",
       "3782           20  0.526316  IFI44L(ENST00000370751):c.397A>G  \n",
       "4876           36  0.947368    DPYD(ENST00000370192):c.186C>T  \n",
       "15487          38  1.000000     SRM(ENST00000376957):c.183A>G  "
      ]
     },
     "execution_count": 130,
     "metadata": {},
     "output_type": "execute_result"
    }
   ],
   "source": [
    "filtered_df.head()"
   ]
  },
  {
   "cell_type": "code",
   "execution_count": 129,
   "metadata": {},
   "outputs": [
    {
     "data": {
      "image/png": "[encoded data removed]",
      "text/plain": [
       "<Figure size 800x500 with 1 Axes>"
      ]
     },
     "metadata": {},
     "output_type": "display_data"
    }
   ],
   "source": [
    "plt.figure(figsize=(8,5))\n",
    "plt.hist(filtered_df[\"FCV\"].dropna(), bins=50, edgecolor='black')\n",
    "plt.xlabel(\"FCV per Variant\")\n",
    "plt.yscale('log')\n",
    "plt.ylabel(\"Number of Variants\")\n",
    "plt.title(\"Histogram of FCV (in CCLE data) per Variant\")\n",
    "plt.tight_layout()\n",
    "plt.show()"
   ]
  },
  {
   "cell_type": "code",
   "execution_count": 137,
   "metadata": {},
   "outputs": [
    {
     "name": "stdout",
     "output_type": "stream",
     "text": [
      "Number of variants both with tumor specificity in single cell data AND with CCLE FCV >= 0.9: 1040\n",
      "Number of genes both with tumor specificity in single cell data AND with CCLE FCV >= 0.9: 480\n",
      "Number of genes with tumor specificity in single cell data AND CCLE FCV >= 0.9 AND also in cBioPortal: 4\n",
      "{'NAV2', 'LAMA5', 'COL1A2', 'PDGFRA'}\n"
     ]
    }
   ],
   "source": [
    "FCV_threshold_tmp = 0.9\n",
    "\n",
    "high_fcv_df = filtered_df[filtered_df[\"FCV\"] >= FCV_threshold_tmp]\n",
    "high_fcv_genes = set(high_fcv_df[\"gene_symbol\"])\n",
    "\n",
    "print(f\"Number of variants both with tumor specificity in single cell data AND with CCLE FCV >= {FCV_threshold_tmp}: {len(high_fcv_df)}\")\n",
    "print(f\"Number of genes both with tumor specificity in single cell data AND with CCLE FCV >= {FCV_threshold_tmp}: {len(high_fcv_genes)}\")\n",
    "# print(high_fcv_genes)\n",
    "\n",
    "high_fcv_genes_also_in_cbio = high_fcv_genes & cbio_gbm_genes\n",
    "print(f\"Number of genes with tumor specificity in single cell data AND CCLE FCV >= {FCV_threshold_tmp} AND also in cBioPortal: {len(high_fcv_genes_also_in_cbio)}\")\n",
    "print(high_fcv_genes_also_in_cbio)"
   ]
  },
  {
   "cell_type": "markdown",
   "metadata": {},
   "source": [
    "### Look at the variants that intersect sc and CCLE, and sort by number of variants in each gene"
   ]
  },
  {
   "cell_type": "code",
   "execution_count": 122,
   "metadata": {},
   "outputs": [],
   "source": [
    "gene_counts = filtered_df[\"gene_symbol\"].value_counts()"
   ]
  },
  {
   "cell_type": "code",
   "execution_count": 123,
   "metadata": {},
   "outputs": [
    {
     "data": {
      "image/png": "[encoded data removed]",
      "text/plain": [
       "<Figure size 800x500 with 1 Axes>"
      ]
     },
     "metadata": {},
     "output_type": "display_data"
    }
   ],
   "source": [
    "plt.figure(figsize=(8, 5))\n",
    "plt.hist(gene_counts, bins=range(1, gene_counts.max() + 2), edgecolor='black', align='left')\n",
    "plt.xlabel(\"Number of Variants per Gene\")\n",
    "plt.yscale('log')\n",
    "plt.ylabel(\"Number of Genes\")\n",
    "plt.title(\"Histogram of Variant Counts per Gene\")\n",
    "# plt.xticks(range(1, gene_counts.max() + 1))\n",
    "plt.tight_layout()\n",
    "plt.show()"
   ]
  },
  {
   "cell_type": "code",
   "execution_count": 124,
   "metadata": {},
   "outputs": [
    {
     "data": {
      "image/png": "[encoded data removed]",
      "text/plain": [
       "<Figure size 1000x600 with 1 Axes>"
      ]
     },
     "metadata": {},
     "output_type": "display_data"
    }
   ],
   "source": [
    "number_to_plot = 20\n",
    "\n",
    "plt.figure(figsize=(10, 6))\n",
    "gene_counts.sort_values(ascending=False).head(number_to_plot).plot.bar()\n",
    "plt.xlabel(\"Gene Symbol\")\n",
    "plt.ylabel(\"Count of Variants\")\n",
    "plt.title(\"Variant Counts per Gene\")\n",
    "plt.tight_layout()\n",
    "plt.show()"
   ]
  },
  {
   "cell_type": "markdown",
   "metadata": {},
   "source": [
    "## Only the cbio ones"
   ]
  },
  {
   "cell_type": "code",
   "execution_count": 125,
   "metadata": {},
   "outputs": [
    {
     "data": {
      "image/png": "[encoded data removed]",
      "text/plain": [
       "<Figure size 1200x600 with 1 Axes>"
      ]
     },
     "metadata": {},
     "output_type": "display_data"
    }
   ],
   "source": [
    "number_to_plot = 20\n",
    "\n",
    "gene_counts_df = gene_counts.rename(\"count\").reset_index()\n",
    "gene_counts_df.rename(columns={\"index\": \"gene_symbol\"}, inplace=True)\n",
    "gene_counts_df[\"in_cbio\"] = gene_counts_df[\"gene_symbol\"].isin(cbio_gbm_genes)\n",
    "cbio_genes_df = gene_counts_df[gene_counts_df[\"in_cbio\"]]\n",
    "\n",
    "top_cbio_genes_df = cbio_genes_df.sort_values(\"count\", ascending=False).head(number_to_plot)\n",
    "plt.figure(figsize=(12, 6))\n",
    "plt.bar(top_cbio_genes_df[\"gene_symbol\"], top_cbio_genes_df[\"count\"])\n",
    "plt.xlabel(\"Gene Symbol\")\n",
    "plt.ylabel(\"Count of Variants\")\n",
    "plt.title(\"Variant Counts per Gene (cBio genes only)\")\n",
    "plt.xticks(rotation=45, ha=\"right\")\n",
    "plt.tight_layout()\n",
    "plt.show()"
   ]
  }
 ],
 "metadata": {
  "kernelspec": {
   "display_name": "varseek2",
   "language": "python",
   "name": "python3"
  },
  "language_info": {
   "codemirror_mode": {
    "name": "ipython",
    "version": 3
   },
   "file_extension": ".py",
   "mimetype": "text/x-python",
   "name": "python",
   "nbconvert_exporter": "python",
   "pygments_lexer": "ipython3",
   "version": "3.10.16"
  }
 },
 "nbformat": 4,
 "nbformat_minor": 2
}
