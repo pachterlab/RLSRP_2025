{
 "cells": [
  {
   "cell_type": "markdown",
   "metadata": {},
   "source": [
    "## Prep to run this notebook:\n",
    "- python scripts/run_vk_ref_geuvadis.py\n",
    "- python scripts/run_vk_count_ccle.py"
   ]
  },
  {
   "cell_type": "code",
   "execution_count": 1,
   "metadata": {},
   "outputs": [],
   "source": [
    "# try:\n",
    "#     import varseek as vk\n",
    "# except ImportError:\n",
    "#     print(\"varseek not found, installing...\")\n",
    "#     !pip install -U -q varseek\n",
    "# try:\n",
    "#     import RLSRWP_2025\n",
    "# except ImportError:\n",
    "#     print(\"RLSRWP_2025 not found, installing...\")\n",
    "#     !pip install -q git+https://github.com/pachterlab/RLSRWP_2025.git"
   ]
  },
  {
   "cell_type": "code",
   "execution_count": 2,
   "metadata": {},
   "outputs": [],
   "source": [
    "from matplotlib_venn import venn2\n",
    "import matplotlib.pyplot as plt\n",
    "import os\n",
    "import pandas as pd\n",
    "import numpy as np\n",
    "import shutil\n",
    "import seaborn as sns\n",
    "import re\n",
    "from collections import Counter\n",
    "import anndata as ad\n",
    "from scipy import sparse\n",
    "import scanpy as sc\n",
    "from sklearn.metrics import silhouette_score\n",
    "\n",
    "import varseek as vk\n",
    "from RLSRWP_2025.constants import box_links_dict\n",
    "\n",
    "RLSRWP_2025_dir = os.path.dirname(os.path.abspath(\"\"))  # if this notebook resides in RLSRWP_2025/notebooks/0_data_download.ipynb, then this retrieves RLSRWP_2025\n",
    "data_dir = os.path.join(RLSRWP_2025_dir, \"data\")"
   ]
  },
  {
   "cell_type": "code",
   "execution_count": 1,
   "metadata": {},
   "outputs": [],
   "source": [
    "import anndata as ad\n",
    "adata = ad.read_h5ad(\"/home/jmrich/Desktop/RLSRWP_2025/data/ccle_data_base/adata_vcrs_glioblastoma.h5ad\")"
   ]
  },
  {
   "cell_type": "code",
   "execution_count": 2,
   "metadata": {},
   "outputs": [
    {
     "data": {
      "text/plain": [
       "AnnData object with n_obs × n_vars = 50 × 5345528\n",
       "    obs: 'experiment_alias_underscores_only', 'experiment_accession', 'library_strategy', 'primary_disease', 'subtype_disease', 'sex', 'age', 'lineage_subtype', 'Cellosaurus_NCIt_disease', 'lineage'"
      ]
     },
     "execution_count": 2,
     "metadata": {},
     "output_type": "execute_result"
    }
   ],
   "source": [
    "adata"
   ]
  },
  {
   "cell_type": "code",
   "execution_count": null,
   "metadata": {},
   "outputs": [],
   "source": [
    "sequencing_data_out_base = os.path.join(data_dir, \"geuvadis_data_base\")\n",
    "geuvadis_reference_files_dir = os.path.join(data_dir, \"reference\", \"geuvadis\")\n",
    "variants_transcriptome_df_path = os.path.join(geuvadis_reference_files_dir, \"variants_transcriptome.parquet\")\n",
    "reference_genome_t2g = os.path.join(data_dir, \"reference\", \"ensembl_grch37_release113\", \"t2g.txt\")\n",
    "\n",
    "geuvadis_genotype_true_adata = os.path.join(geuvadis_reference_files_dir, \"genotypes_adata_true.h5ad\")\n",
    "adata_combined_path_reference_genome = os.path.join(sequencing_data_out_base, \"adata_reference_genome_combined.h5ad\")\n",
    "adata_combined_path_vcrs_final = os.path.join(sequencing_data_out_base, f\"adata_vcrs_combined_w37_k41.h5ad\")\n",
    "\n",
    "reference_dir = os.path.join(RLSRWP_2025_dir, \"data\", \"reference\")\n",
    "t2g_file = os.path.join(reference_dir, \"ensembl_grch37_release113\", \"t2g.txt\")\n",
    "\n",
    "downsampled_fractions = [0.0001, 0.001, 0.01, 0.02, 0.04, 0.08, 0.16, 0.32, 0.64, 1.0]  # [0.01, 0.02, 0.04, 0.08, 0.16, 0.32, 0.64, 1.0]\n",
    "min_counts = 2\n",
    "min_samples_per_variant = 3\n",
    "n_top_variants = 2000\n",
    "gene_set_to_exclude = {'ENSG00000111640', 'ENSG00000242580', 'ENSG00000243466', 'ENST00000603632', 'ENST00000605760'}  # None, or a set of gene names to exclude from the analysis (in ENSGs)\n",
    "\n",
    "out_dir = os.path.join(data_dir, \"geuvadis_analysis_total\")"
   ]
  },
  {
   "cell_type": "code",
   "execution_count": 4,
   "metadata": {},
   "outputs": [],
   "source": [
    "if not os.path.isfile(adata_combined_path_reference_genome):\n",
    "    vk.utils.download_box_url(box_links_dict[\"geuvadis_adata_reference_genome\"], output_file_name=adata_combined_path_reference_genome)\n",
    "if not os.path.isfile(geuvadis_genotype_true_adata):\n",
    "    vk.utils.download_box_url(box_links_dict[\"geuvadis_adata_genotype\"], output_file_name=geuvadis_genotype_true_adata)\n",
    "if not os.path.isfile(adata_combined_path_vcrs_final):\n",
    "    vk.utils.download_box_url(box_links_dict[f\"geuvadis_adata_vcrs_w37_k41\"], output_file_name=adata_combined_path_vcrs_final)\n",
    "\n",
    "adata_reference = ad.read_h5ad(adata_combined_path_reference_genome)\n",
    "adata_genotype = ad.read_h5ad(geuvadis_genotype_true_adata)\n",
    "adata_vcrs = ad.read_h5ad(adata_combined_path_vcrs_final)\n",
    "\n",
    "os.makedirs(out_dir, exist_ok=True)"
   ]
  }
 ],
 "metadata": {
  "kernelspec": {
   "display_name": "varseek2",
   "language": "python",
   "name": "python3"
  },
  "language_info": {
   "codemirror_mode": {
    "name": "ipython",
    "version": 3
   },
   "file_extension": ".py",
   "mimetype": "text/x-python",
   "name": "python",
   "nbconvert_exporter": "python",
   "pygments_lexer": "ipython3",
   "version": "3.10.16"
  }
 },
 "nbformat": 4,
 "nbformat_minor": 2
}
