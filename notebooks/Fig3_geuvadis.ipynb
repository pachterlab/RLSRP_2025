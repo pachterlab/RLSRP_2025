{
 "cells": [
  {
   "cell_type": "code",
   "execution_count": 1,
   "metadata": {},
   "outputs": [],
   "source": [
    "# try:\n",
    "#     import varseek as vk\n",
    "# except ImportError:\n",
    "#     print(\"varseek not found, installing...\")\n",
    "#     !pip install -U -q varseek\n",
    "# try:\n",
    "#     import RLSRWP_2025\n",
    "# except ImportError:\n",
    "#     print(\"RLSRWP_2025 not found, installing...\")\n",
    "#     !pip install -q git+https://github.com/pachterlab/RLSRWP_2025.git"
   ]
  },
  {
   "cell_type": "code",
   "execution_count": 2,
   "metadata": {},
   "outputs": [],
   "source": [
    "from matplotlib_venn import venn2\n",
    "import matplotlib.pyplot as plt\n",
    "import os\n",
    "import pandas as pd\n",
    "import numpy as np\n",
    "import seaborn as sns\n",
    "import re\n",
    "import anndata as ad\n",
    "\n",
    "import varseek as vk\n",
    "from RLSRWP_2025.constants import box_links_dict\n",
    "\n",
    "RLSRWP_2025_dir = os.path.dirname(os.path.abspath(\"\"))  # if this notebook resides in RLSRWP_2025/notebooks/0_data_download.ipynb, then this retrieves RLSRWP_2025\n",
    "data_dir = os.path.join(RLSRWP_2025_dir, \"data\")"
   ]
  },
  {
   "cell_type": "code",
   "execution_count": 3,
   "metadata": {},
   "outputs": [],
   "source": [
    "# #!!! dummy data to be erased\n",
    "\n",
    "# # Define shared dimensions\n",
    "# n_obs = 5\n",
    "# n_vars = 50\n",
    "\n",
    "# # Create shared obs and var\n",
    "# obs = pd.DataFrame(index=[f\"cell{i}\" for i in range(n_obs)])\n",
    "# variant_var = pd.DataFrame(index=[f\"vcrs{j}\" for j in range(n_vars)])\n",
    "# variant_var[\"variant_header\"] = variant_var.index\n",
    "# gene_var = pd.DataFrame(index=[f\"gene{j}\" for j in range(n_vars)])\n",
    "\n",
    "# # Generate random matrices\n",
    "# X_vcrs = np.random.randint(0, 101, size=(n_obs, n_vars))\n",
    "# X_reference = np.random.randint(0, 101, size=(n_obs, n_vars))\n",
    "# X_genotype = np.random.choice([0, 1, 2], size=(n_obs, n_vars))\n",
    "\n",
    "# # Create the AnnData objects\n",
    "# adata_vcrs = ad.AnnData(X=X_vcrs, obs=obs.copy(), var=variant_var.copy())\n",
    "# adata_reference = ad.AnnData(X=X_reference, obs=obs.copy(), var=gene_var.copy())\n",
    "# adata_genotype = ad.AnnData(X=X_genotype, obs=obs.copy(), var=variant_var.copy())"
   ]
  },
  {
   "cell_type": "code",
   "execution_count": 4,
   "metadata": {},
   "outputs": [],
   "source": [
    "sequencing_data_out_base = os.path.join(data_dir, \"geuvadis_data_base\")\n",
    "geuvadis_reference_files_dir = os.path.join(data_dir, \"reference\", \"geuvadis\")\n",
    "geuvadis_genotype_true_adata = os.path.join(geuvadis_reference_files_dir, \"genotypes_adata_true.h5ad\")\n",
    "reference_genome_t2g = os.path.join(data_dir, \"reference\", \"ensembl_grch37_release113\", \"t2g.txt\")\n",
    "\n",
    "adata_combined_path_reference_genome = os.path.join(sequencing_data_out_base, \"adata_reference_genome_combined.h5ad\")\n",
    "\n",
    "w_and_k_list_of_dicts = [\n",
    "    {\"w\": 27, \"k\": 31},\n",
    "    {\"w\": 37, \"k\": 41},\n",
    "    {\"w\": 47, \"k\": 51},\n",
    "]\n",
    "\n",
    "sample_index = 0  # sample to focus on - lowest is 0 (index in adata)\n",
    "min_counts = 2\n",
    "\n",
    "out_dir = os.path.join(data_dir, \"geuvadis_analysis\")"
   ]
  },
  {
   "cell_type": "code",
   "execution_count": 5,
   "metadata": {},
   "outputs": [],
   "source": [
    "if not os.path.isfile(adata_combined_path_reference_genome):\n",
    "    vk.utils.download_box_url(box_links_dict[\"geuvadis_adata_reference_genome\"], output_file_name=adata_combined_path_reference_genome)\n",
    "if not os.path.isfile(geuvadis_genotype_true_adata):\n",
    "    vk.utils.download_box_url(box_links_dict[\"geuvadis_adata_genotype\"], output_file_name=geuvadis_genotype_true_adata)\n",
    "\n",
    "adata_reference = ad.read_h5ad(adata_combined_path_reference_genome)\n",
    "adata_genotype = ad.read_h5ad(geuvadis_genotype_true_adata)\n",
    "\n",
    "os.makedirs(out_dir, exist_ok=True)"
   ]
  },
  {
   "cell_type": "code",
   "execution_count": 6,
   "metadata": {},
   "outputs": [],
   "source": [
    "#!!! ensure that this file is downloadable etc\n",
    "variants_transcriptome_df = pd.read_parquet(\"/home/jmrich/Desktop/RLSRWP_2025/data/reference/geuvadis/variants_transcriptome.parquet\")\n",
    "variants_transcriptome_df['variant_header_cdna'] = variants_transcriptome_df['transcript_ID'] + \":\" + variants_transcriptome_df['variant_cdna']\n",
    "adata_genotype.var = adata_genotype.var.merge(variants_transcriptome_df[[\"variant_header\", \"variant_header_cdna\"]], how=\"left\", on=\"variant_header\")\n",
    "adata_genotype.var.rename(columns={\"variant_header\": \"variant_header_cds\", \"variant_header_cdna\": \"variant_header\"}, inplace=True)\n",
    "adata_genotype.var.index = adata_genotype.var.index.astype(str)  # otherwise I get AssertionError: Don’t call _normalize_index with non-categorical/string names\n",
    "adata_genotype.obs.index = adata_genotype.obs.index.astype(str)\n",
    "adata_genotype.obs['sample_title'] = adata_genotype.obs.index.astype(str).str.slice(2)\n",
    "\n",
    "adata_reference.var['gene'] = adata_reference.var.index.str.split(\".\").str[0]"
   ]
  },
  {
   "cell_type": "code",
   "execution_count": 7,
   "metadata": {},
   "outputs": [
    {
     "data": {
      "application/vnd.microsoft.datawrangler.viewer.v0+json": {
       "columns": [
        {
         "name": "index",
         "rawType": "object",
         "type": "string"
        },
        {
         "name": "has_id",
         "rawType": "bool",
         "type": "boolean"
        },
        {
         "name": "ID",
         "rawType": "object",
         "type": "string"
        },
        {
         "name": "variant_header_cds",
         "rawType": "object",
         "type": "string"
        },
        {
         "name": "variant_header",
         "rawType": "object",
         "type": "string"
        }
       ],
       "conversionMethod": "pd.DataFrame",
       "ref": "0b1cc6fd-d72a-4942-8e79-751e6cdd0d46",
       "rows": [
        [
         "0",
         "True",
         "rs200036735",
         "ENST00000327044.6:c.106C>T",
         "ENST00000327044:c.156C>T"
        ],
        [
         "1",
         "True",
         "rs201791495",
         "ENST00000327044.6:c.57C>T",
         "ENST00000327044:c.107C>T"
        ],
        [
         "2",
         "True",
         "rs192245893",
         "ENST00000338591.3:c.90A>C",
         "ENST00000338591:c.197A>C"
        ],
        [
         "3",
         "True",
         "rs200516692",
         "ENST00000338591.3:c.163G>A",
         "ENST00000338591:c.270G>A"
        ],
        [
         "4",
         "True",
         "rs199679371",
         "ENST00000338591.3:c.189G>A",
         "ENST00000338591:c.296G>A"
        ]
       ],
       "shape": {
        "columns": 4,
        "rows": 5
       }
      },
      "text/html": [
       "<div>\n",
       "<style scoped>\n",
       "    .dataframe tbody tr th:only-of-type {\n",
       "        vertical-align: middle;\n",
       "    }\n",
       "\n",
       "    .dataframe tbody tr th {\n",
       "        vertical-align: top;\n",
       "    }\n",
       "\n",
       "    .dataframe thead th {\n",
       "        text-align: right;\n",
       "    }\n",
       "</style>\n",
       "<table border=\"1\" class=\"dataframe\">\n",
       "  <thead>\n",
       "    <tr style=\"text-align: right;\">\n",
       "      <th></th>\n",
       "      <th>has_id</th>\n",
       "      <th>ID</th>\n",
       "      <th>variant_header_cds</th>\n",
       "      <th>variant_header</th>\n",
       "    </tr>\n",
       "  </thead>\n",
       "  <tbody>\n",
       "    <tr>\n",
       "      <th>0</th>\n",
       "      <td>True</td>\n",
       "      <td>rs200036735</td>\n",
       "      <td>ENST00000327044.6:c.106C&gt;T</td>\n",
       "      <td>ENST00000327044:c.156C&gt;T</td>\n",
       "    </tr>\n",
       "    <tr>\n",
       "      <th>1</th>\n",
       "      <td>True</td>\n",
       "      <td>rs201791495</td>\n",
       "      <td>ENST00000327044.6:c.57C&gt;T</td>\n",
       "      <td>ENST00000327044:c.107C&gt;T</td>\n",
       "    </tr>\n",
       "    <tr>\n",
       "      <th>2</th>\n",
       "      <td>True</td>\n",
       "      <td>rs192245893</td>\n",
       "      <td>ENST00000338591.3:c.90A&gt;C</td>\n",
       "      <td>ENST00000338591:c.197A&gt;C</td>\n",
       "    </tr>\n",
       "    <tr>\n",
       "      <th>3</th>\n",
       "      <td>True</td>\n",
       "      <td>rs200516692</td>\n",
       "      <td>ENST00000338591.3:c.163G&gt;A</td>\n",
       "      <td>ENST00000338591:c.270G&gt;A</td>\n",
       "    </tr>\n",
       "    <tr>\n",
       "      <th>4</th>\n",
       "      <td>True</td>\n",
       "      <td>rs199679371</td>\n",
       "      <td>ENST00000338591.3:c.189G&gt;A</td>\n",
       "      <td>ENST00000338591:c.296G&gt;A</td>\n",
       "    </tr>\n",
       "  </tbody>\n",
       "</table>\n",
       "</div>"
      ],
      "text/plain": [
       "   has_id           ID          variant_header_cds            variant_header\n",
       "0    True  rs200036735  ENST00000327044.6:c.106C>T  ENST00000327044:c.156C>T\n",
       "1    True  rs201791495   ENST00000327044.6:c.57C>T  ENST00000327044:c.107C>T\n",
       "2    True  rs192245893   ENST00000338591.3:c.90A>C  ENST00000338591:c.197A>C\n",
       "3    True  rs200516692  ENST00000338591.3:c.163G>A  ENST00000338591:c.270G>A\n",
       "4    True  rs199679371  ENST00000338591.3:c.189G>A  ENST00000338591:c.296G>A"
      ]
     },
     "execution_count": 7,
     "metadata": {},
     "output_type": "execute_result"
    }
   ],
   "source": [
    "adata_genotype.var.head()"
   ]
  },
  {
   "cell_type": "code",
   "execution_count": 8,
   "metadata": {},
   "outputs": [],
   "source": [
    "# vcf = pd.read_parquet(\"/home/jmrich/Desktop/RLSRWP_2025/data/reference/geuvadis/1kg_phase1_all_preliminary_vcf_exons.parquet\")\n",
    "# vcf.head()"
   ]
  },
  {
   "cell_type": "markdown",
   "metadata": {},
   "source": [
    "## Plot Venn diagrams for my k-series to determine the best variant matrix to use"
   ]
  },
  {
   "cell_type": "code",
   "execution_count": 9,
   "metadata": {},
   "outputs": [],
   "source": [
    "# import pysam\n",
    "# import pandas as pd\n",
    "\n",
    "# vcf_path_preliminary = \"/home/jmrich/Desktop/RLSRWP_2025/data/reference/geuvadis/1kg_phase1_all_preliminary_exons.vcf.gz\"\n",
    "# vcf_path_true = \"/home/jmrich/Desktop/RLSRWP_2025/data/reference/geuvadis/1kg_phase1_all_true.vcf.gz\"\n",
    "# sample = \"0_HG00377\"\n",
    "\n",
    "# vcf_preliminary = pysam.VariantFile(vcf_path_preliminary)\n",
    "# vcf_true = pysam.VariantFile(vcf_path_true)\n",
    "\n",
    "# # Check sample names\n",
    "# if sample not in vcf_preliminary.header.samples:\n",
    "#     raise ValueError(\"Sample sample not found in VCF\")\n",
    "\n",
    "# variants_possessed_by_this_sample = set()\n",
    "# for rec_preliminary, rec_true in zip(vcf_preliminary, vcf_true):\n",
    "#     if rec_preliminary.ref == rec_true.ref:\n",
    "#         sample_homozygous_ref = rec_preliminary.samples[sample].get(\"GT\") == (0, 0)\n",
    "#     else:\n",
    "#         sample_homozygous_ref = rec_preliminary.samples[sample].get(\"GT\") == (1, 1)\n",
    "#     if not sample_homozygous_ref:\n",
    "#         variants_possessed_by_this_sample.add(rec_preliminary.id)\n"
   ]
  },
  {
   "cell_type": "code",
   "execution_count": 10,
   "metadata": {},
   "outputs": [
    {
     "name": "stdout",
     "output_type": "stream",
     "text": [
      "k=31\n",
      "Sample HG00377\n",
      "Number of variants_predicted: 1935\n",
      "Number of variants_true: 5191\n",
      "Number of variants_all: 179854\n",
      "Number of TP: 347\n",
      "Number of FP: 1588\n",
      "Number of FN: 4844\n",
      "Number of TN: 176788\n",
      "Accuracy: 0.965\n",
      "Sensitivity: 0.067\n",
      "Specificity: 0.991\n"
     ]
    },
    {
     "data": {
      "image/png": "[encoded data removed]",
      "text/plain": [
       "<Figure size 400x400 with 1 Axes>"
      ]
     },
     "metadata": {},
     "output_type": "display_data"
    },
    {
     "name": "stdout",
     "output_type": "stream",
     "text": [
      "------------------------\n",
      "k=41\n",
      "Sample HG00377\n",
      "Number of variants_predicted: 1775\n",
      "Number of variants_true: 5191\n",
      "Number of variants_all: 178549\n",
      "Number of TP: 328\n",
      "Number of FP: 1447\n",
      "Number of FN: 4863\n",
      "Number of TN: 175653\n",
      "Accuracy: 0.965\n",
      "Sensitivity: 0.063\n",
      "Specificity: 0.992\n"
     ]
    },
    {
     "data": {
      "image/png": "[encoded data removed]",
      "text/plain": [
       "<Figure size 400x400 with 1 Axes>"
      ]
     },
     "metadata": {},
     "output_type": "display_data"
    },
    {
     "name": "stdout",
     "output_type": "stream",
     "text": [
      "------------------------\n",
      "k=51\n",
      "Sample HG00377\n",
      "Number of variants_predicted: 29\n",
      "Number of variants_true: 5191\n",
      "Number of variants_all: 1656\n",
      "Number of TP: 2\n",
      "Number of FP: 27\n",
      "Number of FN: 5189\n",
      "Number of TN: 1572\n",
      "Accuracy: 0.232\n",
      "Sensitivity: 0.000\n",
      "Specificity: 0.983\n"
     ]
    },
    {
     "data": {
      "image/png": "[encoded data removed]",
      "text/plain": [
       "<Figure size 400x400 with 1 Axes>"
      ]
     },
     "metadata": {},
     "output_type": "display_data"
    },
    {
     "name": "stdout",
     "output_type": "stream",
     "text": [
      "------------------------\n"
     ]
    }
   ],
   "source": [
    "# TODO: I currently ran vk ref with merge_identical=False, but in the future, I would like to do this with True, resolve merged headers with reference genome alignment, and then filter out whichever merged headers remain\n",
    "def plot_variant_overlap(adata_vcrs_path, adata_genotype_path, sample_index=1, min_counts=None, out_path=None):\n",
    "    if isinstance(adata_vcrs_path, str):\n",
    "        adata_vcrs = ad.read_h5ad(adata_vcrs_path)\n",
    "    elif isinstance(adata_vcrs_path, ad.AnnData):\n",
    "        adata_vcrs = adata_vcrs_path.copy()\n",
    "    else:\n",
    "        raise ValueError(\"adata_vcrs_path must be a string or an AnnData object.\")\n",
    "    if \"vcrs_header\" in adata_vcrs.var.columns:\n",
    "        adata_vcrs.var[\"variant_header\"] = adata_vcrs.var[\"vcrs_header\"].copy()\n",
    "    if \"variant_header\" not in adata_vcrs.var.columns:\n",
    "        adata_vcrs.var[\"variant_header\"] = adata_vcrs.var.index.copy()\n",
    "\n",
    "    if isinstance(adata_genotype_path, str):\n",
    "        adata_genotype = ad.read_h5ad(adata_genotype_path)\n",
    "    elif isinstance(adata_genotype_path, ad.AnnData):\n",
    "        adata_genotype = adata_genotype_path.copy()\n",
    "    else:\n",
    "        raise ValueError(\"adata_genotype_path must be a string or an AnnData object.\")\n",
    "    \n",
    "    # Select only the sample_index'th sample\n",
    "    sample_title = adata_vcrs.obs.iloc[sample_index]['sample_title']\n",
    "    print(f\"Sample {sample_title}\")\n",
    "    adata_genotype.obs.index = adata_genotype.obs.index.astype(str)\n",
    "    adata_genotype.obs['sample_title'] = adata_genotype.obs.index.copy().str.slice(2)\n",
    "    if sample_title not in set(adata_genotype.obs['sample_title']):\n",
    "        raise ValueError(f\"Sample title {sample_title} not found in adata_genotype.\")\n",
    "    \n",
    "    adata_vcrs = adata_vcrs[sample_index, :]\n",
    "    adata_genotype = adata_genotype[adata_genotype.obs['sample_title'] == sample_title].copy()\n",
    "\n",
    "    if min_counts is not None:\n",
    "        adata_vcrs.X = adata_vcrs.X.multiply(adata_vcrs.X >= min_counts)\n",
    "    \n",
    "    variants_all = set(adata_vcrs.var[\"variant_header\"])\n",
    "\n",
    "    # Filter adata_vcrs: keep only columns where the value in the first row is not 0\n",
    "    nonzero_vcrs_cols = adata_vcrs.X[0] > 0\n",
    "    adata_vcrs = adata_vcrs[:, nonzero_vcrs_cols]\n",
    "    variants_predicted = set(adata_vcrs.var[\"variant_header\"])\n",
    "\n",
    "    # Filter adata_genotype: keep only columns where the value in the first row is not 0\n",
    "    nonzero_genotype_cols = adata_genotype.X[0] > 0\n",
    "    adata_genotype = adata_genotype[:, nonzero_genotype_cols]\n",
    "    variants_true = set(adata_genotype.var[\"variant_header\"])\n",
    "\n",
    "    # ensure no version numbers on Ensembl transcript IDs\n",
    "    variants_predicted = {re.sub(r'(ENST\\d+)\\.\\d+', r'\\1', v) for v in variants_predicted}\n",
    "    variants_true = {re.sub(r'(ENST\\d+)\\.\\d+', r'\\1', v) for v in variants_true}\n",
    "\n",
    "    # print(f\"First 100 variants_true: {sorted(list(variants_true))[:100]}\")\n",
    "    # print(f\"First 100 variants_predicted: {sorted(list(variants_predicted))[:100]}\")\n",
    "\n",
    "    TP = len(variants_predicted & variants_true)\n",
    "    FP = len(variants_predicted - variants_true)\n",
    "    FN = len(variants_true - variants_predicted)\n",
    "    TN = len(variants_all - variants_true - variants_predicted)\n",
    "\n",
    "    global dict_of_fp_and_fn\n",
    "    dict_of_fp_and_fn[f\"w{w}_k{k}\"] = {}\n",
    "    dict_of_fp_and_fn[f\"w{w}_k{k}\"][\"FP\"] = variants_predicted - variants_true\n",
    "    dict_of_fp_and_fn[f\"w{w}_k{k}\"][\"FN\"] = variants_true - variants_predicted\n",
    "    # print(f\"First 100 FP: {sorted(list(variants_predicted - variants_true))[:100]}\")\n",
    "    # print(f\"First 100 FN: {sorted(list(variants_true - variants_predicted))[:100]}\")\n",
    "\n",
    "    accuracy = (TP + TN) / (TP + TN + FP + FN)\n",
    "    sensitivity = TP / (TP + FN) if (TP + FN) else 0\n",
    "    specificity = TN / (TN + FP) if (TN + FP) else 0\n",
    "\n",
    "    print(f\"Number of variants_predicted: {len(variants_predicted)}\")\n",
    "    print(f\"Number of variants_true: {len(variants_true)}\")\n",
    "    print(f\"Number of variants_all: {len(variants_all)}\")\n",
    "    print(f\"Number of TP: {TP}\")\n",
    "    print(f\"Number of FP: {FP}\")\n",
    "    print(f\"Number of FN: {FN}\")\n",
    "    print(f\"Number of TN: {TN}\")\n",
    "    print(f\"Accuracy: {accuracy:.3f}\")\n",
    "    print(f\"Sensitivity: {sensitivity:.3f}\")\n",
    "    print(f\"Specificity: {specificity:.3f}\")\n",
    "\n",
    "    plt.figure(figsize=(4, 4))\n",
    "    venn2([variants_predicted, variants_true], set_labels=('Predicted', 'True'))\n",
    "    plt.title(\"Variant Overlap\")\n",
    "    if out_path:\n",
    "        plt.savefig(out_path, dpi=300)\n",
    "    plt.show()\n",
    "\n",
    "dict_of_fp_and_fn = {}\n",
    "for w_and_k_dict in w_and_k_list_of_dicts:\n",
    "    w, k = w_and_k_dict[\"w\"], w_and_k_dict[\"k\"]\n",
    "    adata_combined_path_vcrs = os.path.join(sequencing_data_out_base, f\"adata_vcrs_combined_w{w}_k{k}.h5ad\")\n",
    "    if not os.path.isfile(adata_combined_path_vcrs):\n",
    "        vk.utils.download_box_url(box_links_dict[f\"geuvadis_adata_vcrs_w{w}_k{k}\"], output_file_name=adata_combined_path_vcrs)\n",
    "    \n",
    "    print(f\"k={k}\")\n",
    "    venn_out_path = os.path.join(out_dir, f\"variant_overlap_sample_{sample_index}_w{w}_k{k}.png\")\n",
    "    plot_variant_overlap(adata_combined_path_vcrs, adata_genotype, out_path=venn_out_path, sample_index=sample_index, min_counts=min_counts)\n",
    "    print(\"------------------------\")\n",
    "\n",
    "    # break  #!!! erase"
   ]
  },
  {
   "cell_type": "markdown",
   "metadata": {},
   "source": [
    "## Based on this, I will choose k=41"
   ]
  },
  {
   "cell_type": "code",
   "execution_count": 11,
   "metadata": {},
   "outputs": [
    {
     "name": "stderr",
     "output_type": "stream",
     "text": [
      "/home/jmrich/Desktop/varseek/varseek/utils/varseek_clean_utils.py:2229: DtypeWarning: Columns (4) have mixed types. Specify dtype option on import or set low_memory=False.\n",
      "  t2g_df = pd.read_csv(t2g_file, sep=\"\\t\", header=None)\n"
     ]
    }
   ],
   "source": [
    "w, k = 37, 41\n",
    "adata_combined_path_vcrs_final = os.path.join(sequencing_data_out_base, f\"adata_vcrs_combined_w{w}_k{k}.h5ad\")\n",
    "if not os.path.isfile(adata_combined_path_vcrs_final):\n",
    "    vk.utils.download_box_url(box_links_dict[f\"geuvadis_adata_vcrs_w{w}_k{k}\"], output_file_name=adata_combined_path_vcrs_final)\n",
    "\n",
    "adata_vcrs = ad.read_h5ad(adata_combined_path_vcrs_final)\n",
    "if min_counts is not None:\n",
    "    adata_vcrs.X = adata_vcrs.X.multiply(adata_vcrs.X >= min_counts)\n",
    "\n",
    "if \"vcrs_count\" not in adata_vcrs.var.columns:\n",
    "    adata_vcrs.var[\"vcrs_count\"] = adata_vcrs.X.sum(axis=0).A1 if hasattr(adata_vcrs.X, \"A1\") else np.asarray(adata_vcrs.X.sum(axis=0)).flatten()\n",
    "\n",
    "adata_vcrs.var = adata_vcrs.var.merge(variants_transcriptome_df[['variant_header', 'variant_header_cdna', 'transcript_ID']], how=\"left\", left_index=True, right_on=\"variant_header_cdna\").reset_index(drop=True)\n",
    "adata_vcrs.var.rename(columns={\"variant_header\": \"variant_header_cds\", \"variant_header_cdna\": \"variant_header\", \"vcrs_count\": \"variant_count\"}, inplace=True)\n",
    "\n",
    "t2g_dict = vk.utils.make_t2g_dict(reference_genome_t2g)\n",
    "t2g_dict = {key.split(\".\")[0]: val.split(\".\")[0] for key, val in t2g_dict.items()}  # strip off the version number\n",
    "adata_vcrs.var[\"gene\"] = adata_vcrs.var[\"transcript_ID\"].map(t2g_dict)"
   ]
  },
  {
   "cell_type": "code",
   "execution_count": 12,
   "metadata": {},
   "outputs": [],
   "source": [
    "#!!!! TEMP - DELETE\n",
    "adata_reference.obs['experiment_alias_underscores_only'] = (\n",
    "    adata_reference.obs['experiment_alias_underscores_only']\n",
    "    .str.replace(r'[.:]', '_', regex=True)\n",
    ")"
   ]
  },
  {
   "cell_type": "code",
   "execution_count": 13,
   "metadata": {},
   "outputs": [
    {
     "data": {
      "application/vnd.microsoft.datawrangler.viewer.v0+json": {
       "columns": [
        {
         "name": "index",
         "rawType": "object",
         "type": "string"
        },
        {
         "name": "variant_count",
         "rawType": "float64",
         "type": "float"
        },
        {
         "name": "variant_header_cds",
         "rawType": "object",
         "type": "string"
        },
        {
         "name": "variant_header",
         "rawType": "object",
         "type": "string"
        },
        {
         "name": "transcript_ID",
         "rawType": "object",
         "type": "string"
        },
        {
         "name": "gene",
         "rawType": "object",
         "type": "string"
        },
        {
         "name": "vcrs_count",
         "rawType": "float64",
         "type": "float"
        },
        {
         "name": "gene_count",
         "rawType": "float64",
         "type": "float"
        },
        {
         "name": "genotype",
         "rawType": "float64",
         "type": "float"
        }
       ],
       "conversionMethod": "pd.DataFrame",
       "ref": "6d68cbab-8cde-4d8e-bb63-dd47731a67d7",
       "rows": [
        [
         "175115",
         "1848.0",
         "ENST00000390312.2:c.177G>A",
         "ENST00000390312:c.218G>A",
         "ENST00000390312",
         "ENSG00000211666",
         "1848.0",
         "5781.0",
         "0.0"
        ],
        [
         "112040",
         "1493.0",
         "ENST00000336023.5:c.519A>G",
         "ENST00000336023:c.614A>G",
         "ENST00000336023",
         "ENSG00000123416",
         "1493.0",
         "11255.0",
         "0.0"
        ],
        [
         "58633",
         "1464.0",
         "ENST00000579721.1:c.870G>C",
         "ENST00000579721:c.870G>C",
         "ENST00000579721",
         null,
         "1464.0",
         null,
         "0.0"
        ],
        [
         "23451",
         "1382.0",
         "ENST00000496168.1:c.201G>A",
         "ENST00000496168:c.382G>A",
         "ENST00000496168",
         "ENSG00000243466",
         "1382.0",
         "3425.0",
         "0.0"
        ],
        [
         "58578",
         "1346.0",
         "ENST00000579721.1:c.41C>T",
         "ENST00000579721:c.41C>T",
         "ENST00000579721",
         null,
         "1346.0",
         null,
         "0.0"
        ]
       ],
       "shape": {
        "columns": 8,
        "rows": 5
       }
      },
      "text/html": [
       "<div>\n",
       "<style scoped>\n",
       "    .dataframe tbody tr th:only-of-type {\n",
       "        vertical-align: middle;\n",
       "    }\n",
       "\n",
       "    .dataframe tbody tr th {\n",
       "        vertical-align: top;\n",
       "    }\n",
       "\n",
       "    .dataframe thead th {\n",
       "        text-align: right;\n",
       "    }\n",
       "</style>\n",
       "<table border=\"1\" class=\"dataframe\">\n",
       "  <thead>\n",
       "    <tr style=\"text-align: right;\">\n",
       "      <th></th>\n",
       "      <th>variant_count</th>\n",
       "      <th>variant_header_cds</th>\n",
       "      <th>variant_header</th>\n",
       "      <th>transcript_ID</th>\n",
       "      <th>gene</th>\n",
       "      <th>vcrs_count</th>\n",
       "      <th>gene_count</th>\n",
       "      <th>genotype</th>\n",
       "    </tr>\n",
       "  </thead>\n",
       "  <tbody>\n",
       "    <tr>\n",
       "      <th>175115</th>\n",
       "      <td>1848.0</td>\n",
       "      <td>ENST00000390312.2:c.177G&gt;A</td>\n",
       "      <td>ENST00000390312:c.218G&gt;A</td>\n",
       "      <td>ENST00000390312</td>\n",
       "      <td>ENSG00000211666</td>\n",
       "      <td>1848.0</td>\n",
       "      <td>5781.0</td>\n",
       "      <td>0.0</td>\n",
       "    </tr>\n",
       "    <tr>\n",
       "      <th>112040</th>\n",
       "      <td>1493.0</td>\n",
       "      <td>ENST00000336023.5:c.519A&gt;G</td>\n",
       "      <td>ENST00000336023:c.614A&gt;G</td>\n",
       "      <td>ENST00000336023</td>\n",
       "      <td>ENSG00000123416</td>\n",
       "      <td>1493.0</td>\n",
       "      <td>11255.0</td>\n",
       "      <td>0.0</td>\n",
       "    </tr>\n",
       "    <tr>\n",
       "      <th>58633</th>\n",
       "      <td>1464.0</td>\n",
       "      <td>ENST00000579721.1:c.870G&gt;C</td>\n",
       "      <td>ENST00000579721:c.870G&gt;C</td>\n",
       "      <td>ENST00000579721</td>\n",
       "      <td>NaN</td>\n",
       "      <td>1464.0</td>\n",
       "      <td>NaN</td>\n",
       "      <td>0.0</td>\n",
       "    </tr>\n",
       "    <tr>\n",
       "      <th>23451</th>\n",
       "      <td>1382.0</td>\n",
       "      <td>ENST00000496168.1:c.201G&gt;A</td>\n",
       "      <td>ENST00000496168:c.382G&gt;A</td>\n",
       "      <td>ENST00000496168</td>\n",
       "      <td>ENSG00000243466</td>\n",
       "      <td>1382.0</td>\n",
       "      <td>3425.0</td>\n",
       "      <td>0.0</td>\n",
       "    </tr>\n",
       "    <tr>\n",
       "      <th>58578</th>\n",
       "      <td>1346.0</td>\n",
       "      <td>ENST00000579721.1:c.41C&gt;T</td>\n",
       "      <td>ENST00000579721:c.41C&gt;T</td>\n",
       "      <td>ENST00000579721</td>\n",
       "      <td>NaN</td>\n",
       "      <td>1346.0</td>\n",
       "      <td>NaN</td>\n",
       "      <td>0.0</td>\n",
       "    </tr>\n",
       "  </tbody>\n",
       "</table>\n",
       "</div>"
      ],
      "text/plain": [
       "        variant_count          variant_header_cds            variant_header  \\\n",
       "175115         1848.0  ENST00000390312.2:c.177G>A  ENST00000390312:c.218G>A   \n",
       "112040         1493.0  ENST00000336023.5:c.519A>G  ENST00000336023:c.614A>G   \n",
       "58633          1464.0  ENST00000579721.1:c.870G>C  ENST00000579721:c.870G>C   \n",
       "23451          1382.0  ENST00000496168.1:c.201G>A  ENST00000496168:c.382G>A   \n",
       "58578          1346.0   ENST00000579721.1:c.41C>T   ENST00000579721:c.41C>T   \n",
       "\n",
       "          transcript_ID             gene  vcrs_count  gene_count  genotype  \n",
       "175115  ENST00000390312  ENSG00000211666      1848.0      5781.0       0.0  \n",
       "112040  ENST00000336023  ENSG00000123416      1493.0     11255.0       0.0  \n",
       "58633   ENST00000579721              NaN      1464.0         NaN       0.0  \n",
       "23451   ENST00000496168  ENSG00000243466      1382.0      3425.0       0.0  \n",
       "58578   ENST00000579721              NaN      1346.0         NaN       0.0  "
      ]
     },
     "execution_count": 13,
     "metadata": {},
     "output_type": "execute_result"
    }
   ],
   "source": [
    "# print(adata_vcrs.var.sort_values('vcrs_count', ascending=False))\n",
    "sample_title, experiment_alias_underscores_only = adata_vcrs.obs.iloc[sample_index]['sample_title'], adata_vcrs.obs.iloc[sample_index]['experiment_alias_underscores_only']\n",
    "adata_vcrs_single_sample = adata_vcrs[adata_vcrs.obs['experiment_alias_underscores_only'].isin({experiment_alias_underscores_only})].copy()\n",
    "adata_vcrs_single_sample.var[\"vcrs_count\"] = adata_vcrs_single_sample.X.sum(axis=0).A1 if hasattr(adata_vcrs_single_sample.X, \"A1\") else np.asarray(adata_vcrs_single_sample.X.sum(axis=0)).flatten()\n",
    "\n",
    "adata_reference_single_sample = adata_reference[adata_reference.obs['experiment_alias_underscores_only'].isin({experiment_alias_underscores_only})].copy()\n",
    "adata_reference_single_sample.var['gene_count'] = adata_reference_single_sample.X.toarray().flatten()\n",
    "\n",
    "adata_genotype_single_sample = adata_genotype[adata_genotype.obs['sample_title'].isin({sample_title})].copy()\n",
    "adata_genotype_single_sample.var['genotype'] = adata_genotype_single_sample.X.toarray().flatten()\n",
    "\n",
    "adata_vcrs_single_sample.var = adata_vcrs_single_sample.var.merge(adata_reference_single_sample.var[[\"gene\", \"gene_count\"]], how=\"left\", on=\"gene\")\n",
    "adata_vcrs_single_sample.var = adata_vcrs_single_sample.var.merge(adata_genotype_single_sample.var[[\"variant_header\", \"genotype\"]], how=\"left\", on=\"variant_header\")\n",
    "adata_vcrs_single_sample.var.index = adata_vcrs_single_sample.var.index.astype(str)\n",
    "\n",
    "# Save to file\n",
    "fns_txt_path = os.path.join(out_dir, \"fns.txt\")\n",
    "if not os.path.isfile(fns_txt_path):\n",
    "    with open(fns_txt_path, \"w\") as f:\n",
    "        for item in dict_of_fp_and_fn[f\"w{w}_k{k}\"][\"FN\"]:\n",
    "            f.write(f\"{item}\\n\")\n",
    "\n",
    "fp_df = (\n",
    "    adata_vcrs_single_sample.var.loc[\n",
    "    adata_vcrs_single_sample.var['variant_header'].isin(dict_of_fp_and_fn[f\"w{w}_k{k}\"][\"FP\"])]\n",
    "    .sort_values('vcrs_count', ascending=False)\n",
    ")\n",
    "\n",
    "fp_df_output_path = os.path.join(out_dir, \"fp_df.parquet\")\n",
    "if not os.path.isfile(fns_txt_path):\n",
    "    fp_df.to_parquet(fp_df_output_path)\n",
    "fp_df.head()"
   ]
  },
  {
   "cell_type": "code",
   "execution_count": 14,
   "metadata": {},
   "outputs": [
    {
     "data": {
      "application/vnd.microsoft.datawrangler.viewer.v0+json": {
       "columns": [
        {
         "name": "index",
         "rawType": "object",
         "type": "string"
        },
        {
         "name": "has_id",
         "rawType": "bool",
         "type": "boolean"
        },
        {
         "name": "ID",
         "rawType": "object",
         "type": "string"
        },
        {
         "name": "variant_header_cds",
         "rawType": "object",
         "type": "string"
        },
        {
         "name": "variant_header",
         "rawType": "object",
         "type": "string"
        },
        {
         "name": "genotype",
         "rawType": "float64",
         "type": "float"
        }
       ],
       "conversionMethod": "pd.DataFrame",
       "ref": "d99b8f12-9a2e-4b13-816e-4e6e5d5f78c9",
       "rows": [
        [
         "0",
         "True",
         "rs200036735",
         "ENST00000327044.6:c.106C>T",
         "ENST00000327044:c.156C>T",
         "0.0"
        ],
        [
         "1",
         "True",
         "rs201791495",
         "ENST00000327044.6:c.57C>T",
         "ENST00000327044:c.107C>T",
         "0.0"
        ],
        [
         "2",
         "True",
         "rs192245893",
         "ENST00000338591.3:c.90A>C",
         "ENST00000338591:c.197A>C",
         "0.0"
        ],
        [
         "3",
         "True",
         "rs200516692",
         "ENST00000338591.3:c.163G>A",
         "ENST00000338591:c.270G>A",
         "0.0"
        ],
        [
         "4",
         "True",
         "rs199679371",
         "ENST00000338591.3:c.189G>A",
         "ENST00000338591:c.296G>A",
         "0.0"
        ]
       ],
       "shape": {
        "columns": 5,
        "rows": 5
       }
      },
      "text/html": [
       "<div>\n",
       "<style scoped>\n",
       "    .dataframe tbody tr th:only-of-type {\n",
       "        vertical-align: middle;\n",
       "    }\n",
       "\n",
       "    .dataframe tbody tr th {\n",
       "        vertical-align: top;\n",
       "    }\n",
       "\n",
       "    .dataframe thead th {\n",
       "        text-align: right;\n",
       "    }\n",
       "</style>\n",
       "<table border=\"1\" class=\"dataframe\">\n",
       "  <thead>\n",
       "    <tr style=\"text-align: right;\">\n",
       "      <th></th>\n",
       "      <th>has_id</th>\n",
       "      <th>ID</th>\n",
       "      <th>variant_header_cds</th>\n",
       "      <th>variant_header</th>\n",
       "      <th>genotype</th>\n",
       "    </tr>\n",
       "  </thead>\n",
       "  <tbody>\n",
       "    <tr>\n",
       "      <th>0</th>\n",
       "      <td>True</td>\n",
       "      <td>rs200036735</td>\n",
       "      <td>ENST00000327044.6:c.106C&gt;T</td>\n",
       "      <td>ENST00000327044:c.156C&gt;T</td>\n",
       "      <td>0.0</td>\n",
       "    </tr>\n",
       "    <tr>\n",
       "      <th>1</th>\n",
       "      <td>True</td>\n",
       "      <td>rs201791495</td>\n",
       "      <td>ENST00000327044.6:c.57C&gt;T</td>\n",
       "      <td>ENST00000327044:c.107C&gt;T</td>\n",
       "      <td>0.0</td>\n",
       "    </tr>\n",
       "    <tr>\n",
       "      <th>2</th>\n",
       "      <td>True</td>\n",
       "      <td>rs192245893</td>\n",
       "      <td>ENST00000338591.3:c.90A&gt;C</td>\n",
       "      <td>ENST00000338591:c.197A&gt;C</td>\n",
       "      <td>0.0</td>\n",
       "    </tr>\n",
       "    <tr>\n",
       "      <th>3</th>\n",
       "      <td>True</td>\n",
       "      <td>rs200516692</td>\n",
       "      <td>ENST00000338591.3:c.163G&gt;A</td>\n",
       "      <td>ENST00000338591:c.270G&gt;A</td>\n",
       "      <td>0.0</td>\n",
       "    </tr>\n",
       "    <tr>\n",
       "      <th>4</th>\n",
       "      <td>True</td>\n",
       "      <td>rs199679371</td>\n",
       "      <td>ENST00000338591.3:c.189G&gt;A</td>\n",
       "      <td>ENST00000338591:c.296G&gt;A</td>\n",
       "      <td>0.0</td>\n",
       "    </tr>\n",
       "  </tbody>\n",
       "</table>\n",
       "</div>"
      ],
      "text/plain": [
       "   has_id           ID          variant_header_cds            variant_header  \\\n",
       "0    True  rs200036735  ENST00000327044.6:c.106C>T  ENST00000327044:c.156C>T   \n",
       "1    True  rs201791495   ENST00000327044.6:c.57C>T  ENST00000327044:c.107C>T   \n",
       "2    True  rs192245893   ENST00000338591.3:c.90A>C  ENST00000338591:c.197A>C   \n",
       "3    True  rs200516692  ENST00000338591.3:c.163G>A  ENST00000338591:c.270G>A   \n",
       "4    True  rs199679371  ENST00000338591.3:c.189G>A  ENST00000338591:c.296G>A   \n",
       "\n",
       "   genotype  \n",
       "0       0.0  \n",
       "1       0.0  \n",
       "2       0.0  \n",
       "3       0.0  \n",
       "4       0.0  "
      ]
     },
     "execution_count": 14,
     "metadata": {},
     "output_type": "execute_result"
    }
   ],
   "source": [
    "adata_genotype_single_sample.var.head()"
   ]
  },
  {
   "cell_type": "code",
   "execution_count": null,
   "metadata": {},
   "outputs": [
    {
     "name": "stdout",
     "output_type": "stream",
     "text": [
      "Number of variants in sample HG00377 with genotype homozygous_ref: 198681\n",
      "Number of variants in sample HG00377 with genotype heterozygous: 0\n",
      "Number of variants in sample HG00377 with genotype homozygous_alt: 5191\n"
     ]
    }
   ],
   "source": [
    "genotype_value_to_string_mapping = {0: \"homozygous_ref\", 1: \"heterozygous\", 2: \"homozygous_alt\"}\n",
    "for genotype_value, genotype_string in genotype_value_to_string_mapping.items():\n",
    "    number_of_variants_with_this_genotype = len(adata_genotype_single_sample.var.loc[adata_genotype_single_sample.var['genotype'] == genotype_value])\n",
    "    print(f\"Number of variants in sample {sample_title} with genotype {genotype_string}: {number_of_variants_with_this_genotype}\")"
   ]
  },
  {
   "cell_type": "code",
   "execution_count": 16,
   "metadata": {},
   "outputs": [
    {
     "data": {
      "text/plain": [
       "AnnData object with n_obs × n_vars = 1 × 294\n",
       "    obs: 'experiment_alias_underscores_only', 'experiment_accession', 'library_strategy', 'sample_title', 'Sex', 'Biosample ID', 'Population name', 'Superpopulation name'\n",
       "    var: 'variant_count', 'variant_header_cds', 'variant_header', 'transcript_ID', 'gene', 'vcrs_count', 'gene_count', 'genotype'"
      ]
     },
     "execution_count": 16,
     "metadata": {},
     "output_type": "execute_result"
    }
   ],
   "source": [
    "adata_vcrs_single_sample = adata_vcrs_single_sample[:, (adata_vcrs_single_sample.var['genotype'] > 0) & (adata_vcrs_single_sample.var['vcrs_count'] > 0) & (~adata_vcrs_single_sample.var['gene'].isna())].copy()\n",
    "adata_vcrs_single_sample"
   ]
  },
  {
   "cell_type": "code",
   "execution_count": 17,
   "metadata": {},
   "outputs": [
    {
     "data": {
      "application/vnd.microsoft.datawrangler.viewer.v0+json": {
       "columns": [
        {
         "name": "index",
         "rawType": "object",
         "type": "string"
        },
        {
         "name": "variant_count",
         "rawType": "float64",
         "type": "float"
        },
        {
         "name": "variant_header_cds",
         "rawType": "object",
         "type": "string"
        },
        {
         "name": "variant_header",
         "rawType": "object",
         "type": "string"
        },
        {
         "name": "transcript_ID",
         "rawType": "object",
         "type": "string"
        },
        {
         "name": "gene",
         "rawType": "object",
         "type": "string"
        },
        {
         "name": "vcrs_count",
         "rawType": "float64",
         "type": "float"
        },
        {
         "name": "gene_count",
         "rawType": "float64",
         "type": "float"
        },
        {
         "name": "genotype",
         "rawType": "float64",
         "type": "float"
        }
       ],
       "conversionMethod": "pd.DataFrame",
       "ref": "2838dea8-7b24-4221-a235-02a95c89b345",
       "rows": [
        [
         "441",
         "6.0",
         "ENST00000355826.5:c.214T>C",
         "ENST00000355826:c.253T>C",
         "ENST00000355826",
         "ENSG00000197530",
         "6.0",
         "169.0",
         "2.0"
        ],
        [
         "590",
         "41.0",
         "ENST00000355716.4:c.50A>G",
         "ENST00000355716:c.349A>G",
         "ENST00000355716",
         "ENSG00000157873",
         "41.0",
         "782.0",
         "2.0"
        ],
        [
         "3189",
         "4.0",
         "ENST00000374651.4:c.1448A>G",
         "ENST00000374651:c.1543A>G",
         "ENST00000374651",
         "ENSG00000184677",
         "4.0",
         "383.0",
         "2.0"
        ],
        [
         "3511",
         "4.0",
         "ENST00000374338.4:c.654A>G",
         "ENST00000374338:c.773A>G",
         "ENST00000374338",
         "ENSG00000157978",
         "4.0",
         "475.0",
         "2.0"
        ],
        [
         "3618",
         "45.0",
         "ENST00000270812.5:c.177T>C",
         "ENST00000270812:c.219T>C",
         "ENST00000270812",
         "ENSG00000142684",
         "45.0",
         "236.0",
         "2.0"
        ]
       ],
       "shape": {
        "columns": 8,
        "rows": 5
       }
      },
      "text/html": [
       "<div>\n",
       "<style scoped>\n",
       "    .dataframe tbody tr th:only-of-type {\n",
       "        vertical-align: middle;\n",
       "    }\n",
       "\n",
       "    .dataframe tbody tr th {\n",
       "        vertical-align: top;\n",
       "    }\n",
       "\n",
       "    .dataframe thead th {\n",
       "        text-align: right;\n",
       "    }\n",
       "</style>\n",
       "<table border=\"1\" class=\"dataframe\">\n",
       "  <thead>\n",
       "    <tr style=\"text-align: right;\">\n",
       "      <th></th>\n",
       "      <th>variant_count</th>\n",
       "      <th>variant_header_cds</th>\n",
       "      <th>variant_header</th>\n",
       "      <th>transcript_ID</th>\n",
       "      <th>gene</th>\n",
       "      <th>vcrs_count</th>\n",
       "      <th>gene_count</th>\n",
       "      <th>genotype</th>\n",
       "    </tr>\n",
       "  </thead>\n",
       "  <tbody>\n",
       "    <tr>\n",
       "      <th>441</th>\n",
       "      <td>6.0</td>\n",
       "      <td>ENST00000355826.5:c.214T&gt;C</td>\n",
       "      <td>ENST00000355826:c.253T&gt;C</td>\n",
       "      <td>ENST00000355826</td>\n",
       "      <td>ENSG00000197530</td>\n",
       "      <td>6.0</td>\n",
       "      <td>169.0</td>\n",
       "      <td>2.0</td>\n",
       "    </tr>\n",
       "    <tr>\n",
       "      <th>590</th>\n",
       "      <td>41.0</td>\n",
       "      <td>ENST00000355716.4:c.50A&gt;G</td>\n",
       "      <td>ENST00000355716:c.349A&gt;G</td>\n",
       "      <td>ENST00000355716</td>\n",
       "      <td>ENSG00000157873</td>\n",
       "      <td>41.0</td>\n",
       "      <td>782.0</td>\n",
       "      <td>2.0</td>\n",
       "    </tr>\n",
       "    <tr>\n",
       "      <th>3189</th>\n",
       "      <td>4.0</td>\n",
       "      <td>ENST00000374651.4:c.1448A&gt;G</td>\n",
       "      <td>ENST00000374651:c.1543A&gt;G</td>\n",
       "      <td>ENST00000374651</td>\n",
       "      <td>ENSG00000184677</td>\n",
       "      <td>4.0</td>\n",
       "      <td>383.0</td>\n",
       "      <td>2.0</td>\n",
       "    </tr>\n",
       "    <tr>\n",
       "      <th>3511</th>\n",
       "      <td>4.0</td>\n",
       "      <td>ENST00000374338.4:c.654A&gt;G</td>\n",
       "      <td>ENST00000374338:c.773A&gt;G</td>\n",
       "      <td>ENST00000374338</td>\n",
       "      <td>ENSG00000157978</td>\n",
       "      <td>4.0</td>\n",
       "      <td>475.0</td>\n",
       "      <td>2.0</td>\n",
       "    </tr>\n",
       "    <tr>\n",
       "      <th>3618</th>\n",
       "      <td>45.0</td>\n",
       "      <td>ENST00000270812.5:c.177T&gt;C</td>\n",
       "      <td>ENST00000270812:c.219T&gt;C</td>\n",
       "      <td>ENST00000270812</td>\n",
       "      <td>ENSG00000142684</td>\n",
       "      <td>45.0</td>\n",
       "      <td>236.0</td>\n",
       "      <td>2.0</td>\n",
       "    </tr>\n",
       "  </tbody>\n",
       "</table>\n",
       "</div>"
      ],
      "text/plain": [
       "      variant_count           variant_header_cds             variant_header  \\\n",
       "441             6.0   ENST00000355826.5:c.214T>C   ENST00000355826:c.253T>C   \n",
       "590            41.0    ENST00000355716.4:c.50A>G   ENST00000355716:c.349A>G   \n",
       "3189            4.0  ENST00000374651.4:c.1448A>G  ENST00000374651:c.1543A>G   \n",
       "3511            4.0   ENST00000374338.4:c.654A>G   ENST00000374338:c.773A>G   \n",
       "3618           45.0   ENST00000270812.5:c.177T>C   ENST00000270812:c.219T>C   \n",
       "\n",
       "        transcript_ID             gene  vcrs_count  gene_count  genotype  \n",
       "441   ENST00000355826  ENSG00000197530         6.0       169.0       2.0  \n",
       "590   ENST00000355716  ENSG00000157873        41.0       782.0       2.0  \n",
       "3189  ENST00000374651  ENSG00000184677         4.0       383.0       2.0  \n",
       "3511  ENST00000374338  ENSG00000157978         4.0       475.0       2.0  \n",
       "3618  ENST00000270812  ENSG00000142684        45.0       236.0       2.0  "
      ]
     },
     "execution_count": 17,
     "metadata": {},
     "output_type": "execute_result"
    }
   ],
   "source": [
    "adata_vcrs_single_sample.var.head()"
   ]
  },
  {
   "cell_type": "markdown",
   "metadata": {},
   "source": [
    "## Scatterplot time"
   ]
  },
  {
   "cell_type": "code",
   "execution_count": 18,
   "metadata": {},
   "outputs": [
    {
     "data": {
      "image/png": "[encoded data removed]",
      "text/plain": [
       "<Figure size 600x500 with 1 Axes>"
      ]
     },
     "metadata": {},
     "output_type": "display_data"
    }
   ],
   "source": [
    "from scipy.stats import linregress\n",
    "\n",
    "scatterplot_df = adata_vcrs_single_sample.var[[\"variant_count\", \"gene_count\", \"genotype\"]].copy()\n",
    "scatterplot_df[\"genotype\"] = scatterplot_df[\"genotype\"].astype(\"category\")\n",
    "scatterplot_df[\"genotype\"] = scatterplot_df[\"genotype\"].cat.rename_categories({0: \"homozygous_ref\", 1: \"heterozygous\", 2: \"homozygous_alt\"})\n",
    "\n",
    "scatterplot_df = scatterplot_df[(scatterplot_df[\"variant_count\"] > 0) & (scatterplot_df[\"gene_count\"] > 0)].copy()\n",
    "\n",
    "# Log-transform for regression\n",
    "x_log = np.log10(scatterplot_df[\"gene_count\"])\n",
    "y_log = np.log10(scatterplot_df[\"variant_count\"])\n",
    "\n",
    "# Fit line in log-log space\n",
    "slope, intercept, r_value, p_value, std_err = linregress(x_log, y_log)\n",
    "\n",
    "# Predicted line (in log space)\n",
    "x_vals = np.linspace(x_log.min(), x_log.max(), 100)\n",
    "y_vals = slope * x_vals + intercept\n",
    "\n",
    "plt.figure(figsize=(6, 5))\n",
    "sns.scatterplot(\n",
    "    data=scatterplot_df,\n",
    "    y=\"variant_count\",\n",
    "    x=\"gene_count\",\n",
    "    hue=\"genotype\",\n",
    "    palette=\"Set2\",\n",
    "    s=80  # adjust marker size\n",
    ")\n",
    "\n",
    "# Plot best-fit line\n",
    "plt.plot(10**x_vals, 10**y_vals, color=\"black\", linestyle=\"--\", label=\"Best-fit line\")\n",
    "\n",
    "# Annotate equation and R²\n",
    "eq_text = f\"$\\log(y) = {slope:.2f} \\log(x) + {intercept:.2f}$\\n$R^2 = {r_value**2:.2f}$\"\n",
    "plt.text(0.05, 0.95, eq_text, transform=plt.gca().transAxes,\n",
    "         verticalalignment='top', fontsize=10, bbox=dict(boxstyle=\"round\", fc=\"white\", ec=\"gray\"))\n",
    "\n",
    "plt.title(\"Variant vs Gene Counts by Genotype\")\n",
    "plt.xscale(\"log\")\n",
    "plt.yscale(\"log\")\n",
    "plt.ylabel(\"Variant Counts\")\n",
    "plt.xlabel(\"Gene Counts\")\n",
    "plt.legend(title=\"Genotype\")\n",
    "plt.tight_layout()\n",
    "out_file = os.path.join(out_dir, f\"variant_vs_gene_counts_scatterplot_sample_{sample_index}_w{w}_k{k}.png\")\n",
    "plt.savefig(out_file, dpi=300)\n",
    "plt.show()"
   ]
  }
 ],
 "metadata": {
  "kernelspec": {
   "display_name": "varseek2",
   "language": "python",
   "name": "python3"
  },
  "language_info": {
   "codemirror_mode": {
    "name": "ipython",
    "version": 3
   },
   "file_extension": ".py",
   "mimetype": "text/x-python",
   "name": "python",
   "nbconvert_exporter": "python",
   "pygments_lexer": "ipython3",
   "version": "3.10.16"
  }
 },
 "nbformat": 4,
 "nbformat_minor": 2
}
