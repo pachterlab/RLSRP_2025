{
 "cells": [
  {
   "cell_type": "markdown",
   "metadata": {},
   "source": [
    "## Prep to run this notebook:\n",
    "- scripts/run_vk_ref_geuvadis.py\n",
    "- scripts/run_vk_count_geuvadis.py\n",
    "- scripts/run_vk_count_geuvadis_wxs.py"
   ]
  },
  {
   "cell_type": "code",
   "execution_count": null,
   "metadata": {},
   "outputs": [],
   "source": [
    "# try:\n",
    "#     import varseek as vk\n",
    "# except ImportError:\n",
    "#     print(\"varseek not found, installing...\")\n",
    "#     !pip install -U -q varseek\n",
    "# try:\n",
    "#     import RLSRWP_2025\n",
    "# except ImportError:\n",
    "#     print(\"RLSRWP_2025 not found, installing...\")\n",
    "#     !pip install -q git+https://github.com/pachterlab/RLSRWP_2025.git"
   ]
  },
  {
   "cell_type": "code",
   "execution_count": null,
   "metadata": {},
   "outputs": [],
   "source": [
    "from matplotlib_venn import venn2\n",
    "import matplotlib.pyplot as plt\n",
    "import os\n",
    "import pandas as pd\n",
    "import numpy as np\n",
    "import seaborn as sns\n",
    "import re\n",
    "import anndata as ad\n",
    "import scanpy as sc\n",
    "\n",
    "import varseek as vk\n",
    "from RLSRWP_2025.constants import box_links_dict\n",
    "\n",
    "RLSRWP_2025_dir = os.path.dirname(os.path.abspath(\"\"))  # if this notebook resides in RLSRWP_2025/notebooks/0_data_download.ipynb, then this retrieves RLSRWP_2025\n",
    "data_dir = os.path.join(RLSRWP_2025_dir, \"data\")"
   ]
  },
  {
   "cell_type": "code",
   "execution_count": null,
   "metadata": {},
   "outputs": [],
   "source": [
    "sequencing_data_out_base = os.path.join(data_dir, \"geuvadis_data_base\")\n",
    "geuvadis_reference_files_dir = os.path.join(data_dir, \"reference\", \"geuvadis\")\n",
    "variants_transcriptome_df_path = os.path.join(geuvadis_reference_files_dir, \"variants_transcriptome.parquet\")\n",
    "reference_genome_t2g = os.path.join(data_dir, \"reference\", \"ensembl_grch37_release113\", \"t2g.txt\")\n",
    "\n",
    "geuvadis_genotype_true_adata = os.path.join(geuvadis_reference_files_dir, \"genotypes_adata_true.h5ad\")\n",
    "adata_combined_path_reference_genome = os.path.join(sequencing_data_out_base, \"adata_reference_genome_combined.h5ad\")\n",
    "adata_combined_path_vcrs_final = os.path.join(sequencing_data_out_base, f\"adata_vcrs_combined_w37_k41.h5ad\")\n",
    "\n",
    "w_and_k_list_of_dicts = [\n",
    "    {\"w\": 27, \"k\": 31},\n",
    "    {\"w\": 37, \"k\": 41},\n",
    "    {\"w\": 47, \"k\": 51},\n",
    "]\n",
    "\n",
    "min_counts = 2\n",
    "min_samples_per_variant = 3\n",
    "n_top_variants = 2000\n",
    "gene_set_to_exclude = {'ENSG00000111640', 'ENSG00000242580', 'ENSG00000243466', 'ENST00000603632', 'ENST00000605760'}  # None, or a set of gene names to exclude from the analysis (in ENSGs)\n",
    "\n",
    "out_dir = os.path.join(data_dir, f\"geuvadis_analysis_total\")"
   ]
  },
  {
   "cell_type": "code",
   "execution_count": null,
   "metadata": {},
   "outputs": [],
   "source": [
    "if not os.path.isfile(adata_combined_path_reference_genome):\n",
    "    vk.utils.download_box_url(box_links_dict[\"geuvadis_adata_reference_genome\"], output_file_name=adata_combined_path_reference_genome)\n",
    "if not os.path.isfile(geuvadis_genotype_true_adata):\n",
    "    vk.utils.download_box_url(box_links_dict[\"geuvadis_adata_genotype\"], output_file_name=geuvadis_genotype_true_adata)\n",
    "if not os.path.isfile(adata_combined_path_vcrs_final):\n",
    "    vk.utils.download_box_url(box_links_dict[f\"geuvadis_adata_vcrs_w37_k41\"], output_file_name=adata_combined_path_vcrs_final)\n",
    "\n",
    "adata_reference = ad.read_h5ad(adata_combined_path_reference_genome)\n",
    "adata_genotype = ad.read_h5ad(geuvadis_genotype_true_adata)\n",
    "adata_vcrs = ad.read_h5ad(adata_combined_path_vcrs_final)\n",
    "\n",
    "os.makedirs(out_dir, exist_ok=True)"
   ]
  },
  {
   "cell_type": "code",
   "execution_count": null,
   "metadata": {},
   "outputs": [],
   "source": [
    "if gene_set_to_exclude is not None:\n",
    "    adata_vcrs = adata_vcrs[:, ~adata_vcrs.var['transcript_ID'].isin(gene_set_to_exclude).values]\n",
    "    adata_vcrs = adata_vcrs[:, ~adata_vcrs.var['gene'].isin(gene_set_to_exclude).values]\n",
    "    adata_genotype = adata_genotype[:, ~adata_genotype.var['transcript_ID'].isin(gene_set_to_exclude).values]\n",
    "    adata_genotype = adata_genotype[:, ~adata_genotype.var['gene'].isin(gene_set_to_exclude).values]"
   ]
  },
  {
   "cell_type": "markdown",
   "metadata": {},
   "source": [
    "## Each sample is a \"cell\", and each variant is a \"gene\""
   ]
  },
  {
   "cell_type": "code",
   "execution_count": null,
   "metadata": {},
   "outputs": [],
   "source": [
    "sc.pp.filter_genes(adata_vcrs, min_cells=min_samples_per_variant)"
   ]
  },
  {
   "cell_type": "code",
   "execution_count": null,
   "metadata": {},
   "outputs": [],
   "source": [
    "sc.pp.highly_variable_genes(adata_vcrs, n_top_genes=n_top_variants, batch_key=\"Population name\")"
   ]
  },
  {
   "cell_type": "code",
   "execution_count": null,
   "metadata": {},
   "outputs": [],
   "source": [
    "sc.tl.pca(adata_vcrs)"
   ]
  },
  {
   "cell_type": "code",
   "execution_count": null,
   "metadata": {},
   "outputs": [],
   "source": [
    "sc.pp.scale(adata_vcrs, max_value=None)"
   ]
  },
  {
   "cell_type": "markdown",
   "metadata": {},
   "source": [
    "## Let's hope for some juicy clusters!"
   ]
  },
  {
   "cell_type": "code",
   "execution_count": null,
   "metadata": {},
   "outputs": [],
   "source": [
    "sc.pl.pca_variance_ratio(adata_vcrs, n_pcs=50, log=True)\n",
    "\n",
    "sc.pl.pca(\n",
    "    adata_vcrs,\n",
    "    color=[\"Superpopulation name\"],\n",
    "    dimensions=[(0, 1)],\n",
    "    ncols=2,\n",
    "    size=2,\n",
    ")"
   ]
  }
 ],
 "metadata": {
  "kernelspec": {
   "display_name": "varseek2",
   "language": "python",
   "name": "python3"
  },
  "language_info": {
   "name": "python",
   "version": "3.10.16"
  }
 },
 "nbformat": 4,
 "nbformat_minor": 2
}
