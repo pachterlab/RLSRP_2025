{
 "cells": [
  {
   "cell_type": "code",
   "execution_count": null,
   "metadata": {},
   "outputs": [],
   "source": [
    "# try:\n",
    "#     import varseek as vk\n",
    "# except ImportError:\n",
    "#     print(\"varseek not found, installing...\")\n",
    "#     !pip install -U -q varseek\n",
    "# try:\n",
    "#     import RLSRWP_2025\n",
    "# except ImportError:\n",
    "#     print(\"RLSRWP_2025 not found, installing...\")\n",
    "#     !pip install -q git+https://github.com/pachterlab/RLSRWP_2025.git"
   ]
  },
  {
   "cell_type": "code",
   "execution_count": null,
   "metadata": {},
   "outputs": [],
   "source": [
    "from matplotlib_venn import venn2\n",
    "import matplotlib.pyplot as plt\n",
    "import os\n",
    "import pandas as pd\n",
    "import numpy as np\n",
    "import seaborn as sns\n",
    "import anndata as ad\n",
    "\n",
    "import varseek as vk\n",
    "from RLSRWP_2025.constants import box_links_dict\n",
    "\n",
    "RLSRWP_2025_dir = os.path.dirname(os.path.abspath(\"\"))  # if this notebook resides in RLSRWP_2025/notebooks/0_data_download.ipynb, then this retrieves RLSRWP_2025\n",
    "data_dir = os.path.join(RLSRWP_2025_dir, \"data\")"
   ]
  },
  {
   "cell_type": "code",
   "execution_count": null,
   "metadata": {},
   "outputs": [],
   "source": [
    "# #!!! dummy data to be erased\n",
    "\n",
    "# # Define shared dimensions\n",
    "# n_obs = 5\n",
    "# n_vars = 50\n",
    "\n",
    "# # Create shared obs and var\n",
    "# obs = pd.DataFrame(index=[f\"cell{i}\" for i in range(n_obs)])\n",
    "# variant_var = pd.DataFrame(index=[f\"vcrs{j}\" for j in range(n_vars)])\n",
    "# variant_var[\"variant_header\"] = variant_var.index\n",
    "# gene_var = pd.DataFrame(index=[f\"gene{j}\" for j in range(n_vars)])\n",
    "\n",
    "# # Generate random matrices\n",
    "# X_vcrs = np.random.randint(0, 101, size=(n_obs, n_vars))\n",
    "# X_reference = np.random.randint(0, 101, size=(n_obs, n_vars))\n",
    "# X_genotype = np.random.choice([0, 1, 2], size=(n_obs, n_vars))\n",
    "\n",
    "# # Create the AnnData objects\n",
    "# adata_vcrs = ad.AnnData(X=X_vcrs, obs=obs.copy(), var=variant_var.copy())\n",
    "# adata_reference = ad.AnnData(X=X_reference, obs=obs.copy(), var=gene_var.copy())\n",
    "# adata_genotype = ad.AnnData(X=X_genotype, obs=obs.copy(), var=variant_var.copy())"
   ]
  },
  {
   "cell_type": "code",
   "execution_count": null,
   "metadata": {},
   "outputs": [],
   "source": [
    "sequencing_data_out_base = os.path.join(data_dir, \"geuvadis_data_base\")\n",
    "geuvadis_reference_files_dir = os.path.join(data_dir, \"reference\", \"geuvadis\")\n",
    "geuvadis_genotype_true_adata = os.path.join(geuvadis_reference_files_dir, \"genotypes_adata_true.h5ad\")\n",
    "reference_genome_t2g = os.path.join(data_dir, \"reference\", \"ensembl_grch37_release113\", \"t2g.txt\")\n",
    "\n",
    "adata_combined_path_reference_genome = os.path.join(sequencing_data_out_base, \"adata_reference_genome_combined.h5ad\")\n",
    "\n",
    "w_and_k_list_of_dicts = [\n",
    "    {\"w\": 27, \"k\": 31},\n",
    "    {\"w\": 37, \"k\": 41},\n",
    "    {\"w\": 47, \"k\": 51},\n",
    "]\n",
    "\n",
    "sample_index = 1  # sample to focus on - lowest is 1 (index in adata)\n",
    "min_counts = 2\n",
    "\n",
    "out_dir = os.path.join(data_dir, \"geuvadis_analysis\")"
   ]
  },
  {
   "cell_type": "code",
   "execution_count": null,
   "metadata": {},
   "outputs": [],
   "source": [
    "if not os.path.isfile(adata_combined_path_reference_genome):\n",
    "    vk.utils.download_box_url(box_links_dict[\"geuvadis_adata_reference_genome\"], output_file_name=adata_combined_path_reference_genome)\n",
    "if not os.path.isfile(geuvadis_genotype_true_adata):\n",
    "    vk.utils.download_box_url(box_links_dict[\"geuvadis_adata_genotype\"], output_file_name=geuvadis_genotype_true_adata)\n",
    "\n",
    "adata_reference = ad.read_h5ad(adata_combined_path_reference_genome)\n",
    "adata_genotype = ad.read_h5ad(geuvadis_genotype_true_adata)\n",
    "\n",
    "os.makedirs(out_dir, exist_ok=True)"
   ]
  },
  {
   "cell_type": "markdown",
   "metadata": {},
   "source": [
    "## Plot Venn diagrams for my k-series to determine the best variant matrix to use"
   ]
  },
  {
   "cell_type": "code",
   "execution_count": null,
   "metadata": {},
   "outputs": [],
   "source": [
    "# TODO: I currently ran vk ref with merge_identical=False, but in the future, I would like to do this with True, resolve merged headers with reference genome alignment, and then filter out whichever merged headers remain\n",
    "def plot_variant_overlap(adata_vcrs_path, adata_genotype_path, sample_index=1, min_counts=None, out_path=None):\n",
    "    if isinstance(adata_vcrs_path, str):\n",
    "        adata_vcrs = ad.read_h5ad(adata_vcrs_path)\n",
    "    elif isinstance(adata_vcrs_path, ad.AnnData):\n",
    "        adata_vcrs = adata_vcrs_path.copy()\n",
    "    else:\n",
    "        raise ValueError(\"adata_vcrs_path must be a string or an AnnData object.\")\n",
    "    if \"vcrs_header\" in adata_vcrs.var.columns:\n",
    "        adata_vcrs.var[\"variant_header\"] = adata_vcrs.var[\"vcrs_header\"].copy()\n",
    "\n",
    "    if isinstance(adata_genotype_path, str):\n",
    "        adata_genotype = ad.read_h5ad(adata_genotype_path)\n",
    "    elif isinstance(adata_genotype_path, ad.AnnData):\n",
    "        adata_genotype = adata_genotype_path.copy()\n",
    "    else:\n",
    "        raise ValueError(\"adata_genotype_path must be a string or an AnnData object.\")\n",
    "    \n",
    "    # Select only the sample_index'th sample\n",
    "    adata_vcrs = adata_vcrs[:sample_index, :]\n",
    "    adata_genotype = adata_genotype[:sample_index, :]\n",
    "\n",
    "    if min_counts is not None:\n",
    "        adata_vcrs.X = adata_vcrs.X.multiply(adata_vcrs.X >= min_counts)\n",
    "\n",
    "    # Filter adata_vcrs: keep only columns where the value in the first row is not 0\n",
    "    nonzero_vcrs_cols = adata_vcrs.X[0] != 0\n",
    "    adata_vcrs = adata_vcrs[:, nonzero_vcrs_cols]\n",
    "    variants_predicted = set(adata_vcrs.var[\"variant_header\"])\n",
    "\n",
    "    # Filter adata_genotype: keep only columns where the value in the first row is not 0\n",
    "    nonzero_genotype_cols = adata_genotype.X[0] != 0\n",
    "    adata_genotype = adata_genotype[:, nonzero_genotype_cols]\n",
    "    variants_true = set(adata_genotype.var[\"variant_header\"])\n",
    "\n",
    "    plt.figure(figsize=(4, 4))\n",
    "    venn2([variants_predicted, variants_true], set_labels=('Predicted', 'True'))\n",
    "    plt.title(\"Variant Overlap\")\n",
    "    if out_path:\n",
    "        plt.savefig(out_path, dpi=300)\n",
    "    plt.show()"
   ]
  },
  {
   "cell_type": "code",
   "execution_count": null,
   "metadata": {},
   "outputs": [],
   "source": [
    "for w_and_k_dict in w_and_k_list_of_dicts:\n",
    "    w, k = w_and_k_dict[\"w\"], w_and_k_dict[\"k\"]\n",
    "    adata_combined_path_vcrs = os.path.join(sequencing_data_out_base, f\"adata_vcrs_combined_w{w}_k{k}.h5ad\")\n",
    "    if not os.path.isfile(adata_combined_path_vcrs):\n",
    "        vk.utils.download_box_url(box_links_dict[f\"geuvadis_adata_vcrs_w{w}_k{k}\"], output_file_name=adata_combined_path_vcrs)\n",
    "    \n",
    "    venn_out_path = os.path.join(out_dir, f\"variant_overlap_sample_{sample_index}_w{w}_k{k}.png\")\n",
    "    plot_variant_overlap(adata_combined_path_vcrs, adata_genotype, sample_index=1, out_path=venn_out_path)"
   ]
  },
  {
   "cell_type": "markdown",
   "metadata": {},
   "source": [
    "## Based on this, I will choose k=51"
   ]
  },
  {
   "cell_type": "code",
   "execution_count": null,
   "metadata": {},
   "outputs": [],
   "source": [
    "w, k = 47, 51\n",
    "adata_combined_path_vcrs_final = os.path.join(sequencing_data_out_base, f\"adata_vcrs_combined_final_w{w}_k{k}.h5ad\")\n",
    "if not os.path.isfile(adata_combined_path_vcrs_final):\n",
    "    vk.utils.download_box_url(box_links_dict[f\"geuvadis_adata_vcrs_w{w}_k{k}\"], output_file_name=adata_combined_path_vcrs_final)\n",
    "\n",
    "adata_vcrs = ad.read_h5ad(adata_combined_path_vcrs_final)\n",
    "if min_counts is not None:\n",
    "    adata_vcrs.X = adata_vcrs.X.multiply(adata_vcrs.X >= min_counts)\n",
    "\n",
    "adata_vcrs.var.rename(columns={\"vcrs_header\": \"variant_header\"}, inplace=True)\n",
    "adata_vcrs.var[[\"transcript_ID\", \"variant\"]] = adata_vcrs.var[\"variant_header\"].str.split(\":\", expand=True)\n",
    "t2g_dict = vk.utils.make_t2g_dict(reference_genome_t2g)\n",
    "t2g_dict = {key.split(\".\")[0]: val.split(\".\")[0] for key, val in t2g_dict.items()}  # strip off the version number\n",
    "adata_vcrs.var[\"gene\"] = adata_vcrs.var[\"transcript_ID\"].map(t2g_dict)"
   ]
  },
  {
   "cell_type": "code",
   "execution_count": null,
   "metadata": {},
   "outputs": [],
   "source": [
    "# Select only the sample_index'th sample\n",
    "adata_vcrs = adata_vcrs[:sample_index, :]\n",
    "adata_reference = adata_reference[:sample_index, :]\n",
    "adata_genotype = adata_genotype[:sample_index, :]\n",
    "\n",
    "# Filter adata_vcrs: keep only columns where the value in the sample_index'th row is not 0\n",
    "nonzero_genotype_cols = adata_genotype.X[0] != 0\n",
    "adata_genotype = adata_genotype[:, nonzero_genotype_cols]\n",
    "variants_true = set(adata_genotype.var[\"variant_header\"])\n",
    "\n",
    "# filter adata_vcrs to only keep those present in variants_true\n",
    "adata_vcrs = adata_vcrs[:, adata_vcrs.var['variant_header'].isin(variants_true)]\n",
    "\n",
    "# add 1D count \"matrix\" as a column to adata.var\n",
    "adata_vcrs.var[\"variant_counts\"] = adata_vcrs.X[0]\n",
    "adata_reference.var[\"gene_counts\"] = adata_reference.X[0]\n",
    "adata_genotype.var[\"genotype\"] = adata_genotype.X[0]\n",
    "\n",
    "# Merge adata_reference.var into adata_vcrs by gene\n",
    "adata_vcrs.var = adata_vcrs.var.merge(\n",
    "    adata_reference.var[[\"gene_counts\"]],\n",
    "    left_on=\"gene\",\n",
    "    right_index=True,\n",
    "    how=\"left\",\n",
    ")\n",
    "\n",
    "# Merge genotype into var by variant header\n",
    "adata_vcrs.var = adata_vcrs.var.merge(\n",
    "    adata_genotype.var[[\"variant_header\", \"genotype\"]],\n",
    "    on=\"variant_header\",\n",
    "    how=\"left\",\n",
    ")"
   ]
  },
  {
   "cell_type": "markdown",
   "metadata": {},
   "source": [
    "## Scatterplot time"
   ]
  },
  {
   "cell_type": "code",
   "execution_count": null,
   "metadata": {},
   "outputs": [],
   "source": [
    "scatterplot_df = adata_vcrs.var[[\"variant_counts\", \"gene_counts\", \"genotype\"]].copy()\n",
    "scatterplot_df[\"genotype\"] = scatterplot_df[\"genotype\"].astype(\"category\")\n",
    "scatterplot_df[\"genotype\"] = scatterplot_df[\"genotype\"].cat.rename_categories({0: \"homozygous_ref\", 1: \"heterozygous\", 2: \"homozygous_alt\"})\n",
    "\n",
    "plt.figure(figsize=(6, 5))\n",
    "sns.scatterplot(\n",
    "    data=scatterplot_df,\n",
    "    x=\"variant_counts\",\n",
    "    y=\"gene_counts\",\n",
    "    hue=\"genotype\",\n",
    "    palette=\"Set2\",\n",
    "    s=80  # adjust marker size\n",
    ")\n",
    "\n",
    "plt.title(\"Variant vs Gene Counts by Genotype\")\n",
    "plt.xlabel(\"Variant Counts\")\n",
    "plt.ylabel(\"Gene Counts\")\n",
    "plt.legend(title=\"Genotype\")\n",
    "plt.tight_layout()\n",
    "out_file = os.path.join(out_dir, f\"variant_vs_gene_counts_scatterplot_sample_{sample_index}_w{w}_k{k}.png\")\n",
    "plt.savefig(out_file, dpi=300)\n",
    "plt.show()"
   ]
  }
 ],
 "metadata": {
  "kernelspec": {
   "display_name": "RLSRWP_2025",
   "language": "python",
   "name": "python3"
  },
  "language_info": {
   "codemirror_mode": {
    "name": "ipython",
    "version": 3
   },
   "file_extension": ".py",
   "mimetype": "text/x-python",
   "name": "python",
   "nbconvert_exporter": "python",
   "pygments_lexer": "ipython3",
   "version": "3.10.9"
  }
 },
 "nbformat": 4,
 "nbformat_minor": 2
}
