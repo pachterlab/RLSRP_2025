{
 "cells": [
  {
   "cell_type": "markdown",
   "metadata": {},
   "source": [
    "# Mutation analysis, Protein Mutation - gget elm"
   ]
  },
  {
   "cell_type": "code",
   "execution_count": 8,
   "metadata": {},
   "outputs": [],
   "source": [
    "# try:\n",
    "#     import varseek as vk\n",
    "# except ImportError:\n",
    "#     print(\"varseek not found, installing...\")\n",
    "#     !pip install -U -q varseek\n",
    "# try:\n",
    "#     import RLSRWP_2025\n",
    "# except ImportError:\n",
    "#     print(\"RLSRWP_2025 not found, installing...\")\n",
    "#     !pip install -q git+https://github.com/pachterlab/RLSRWP_2025.git\n",
    "# try:\n",
    "#     import gget\n",
    "# except ImportError:\n",
    "#     print(\"gget not found, installing...\")\n",
    "#     !pip install -U -q gget"
   ]
  },
  {
   "cell_type": "code",
   "execution_count": null,
   "metadata": {},
   "outputs": [],
   "source": [
    "import os\n",
    "import subprocess\n",
    "import shutil\n",
    "import anndata as ad\n",
    "import pandas as pd\n",
    "import gget\n",
    "import varseek as vk\n",
    "from varseek.utils import convert_mutation_cds_locations_to_cdna\n",
    "\n",
    "RLSRWP_2025_dir = os.path.dirname(os.path.abspath(\"\"))  # if this notebook resides in RLSRWP_2025/notebooks/0_data_download.ipynb, then this retrieves RLSRWP_2025"
   ]
  },
  {
   "cell_type": "markdown",
   "metadata": {},
   "source": [
    "### File path definitions and imports"
   ]
  },
  {
   "cell_type": "code",
   "execution_count": 10,
   "metadata": {},
   "outputs": [],
   "source": [
    "n = 3\n",
    "\n",
    "vk_count_out_dir = os.path.join(RLSRWP_2025_dir, \"data\", \"vk_count_out\")\n",
    "adata_path = os.path.join(vk_count_out_dir, \"adata_cleaned.h5ad\")\n",
    "\n",
    "out_dir = os.path.join(vk_count_out_dir, \"analysis\", \"gget_elm\")\n",
    "\n",
    "reference_dir = os.path.join(RLSRWP_2025_dir, \"data\", \"reference\")\n",
    "cosmic_csv = os.path.join(reference_dir, \"cosmic\", \"CancerMutationCensus_AllData_Tsv_v101_GRCh37\", \"CancerMutationCensus_AllData_v101_GRCh37_mutation_workflow.csv\")\n",
    "sequences_cds = os.path.join(reference_dir, \"ensembl_grch37_release93\", \"Homo_sapiens.GRCh37.cds.all.fa\")\n",
    "sequences_cdna = os.path.join(reference_dir, \"ensembl_grch37_release93\", \"Homo_sapiens.GRCh37.cdna.all.fa\")"
   ]
  },
  {
   "cell_type": "markdown",
   "metadata": {},
   "source": [
    "### Reference file downloads"
   ]
  },
  {
   "cell_type": "code",
   "execution_count": 37,
   "metadata": {},
   "outputs": [],
   "source": [
    "# download cosmic and cdna\n",
    "if not os.path.exists(sequences_cdna):\n",
    "    print(\"Downloading cDNA\")\n",
    "    reference_cdna_dir = os.path.dirname(sequences_cdna) if os.path.dirname(sequences_cdna) else \".\"\n",
    "    gget_ref_command = [\"gget\", \"ref\", \"-w\", \"cdna\", \"-r\", \"93\", \"--out_dir\", reference_cdna_dir, \"-d\", \"human_grch37\"]\n",
    "    subprocess.run(gget_ref_command, check=True)\n",
    "    subprocess.run([\"gunzip\", f\"{sequences_cdna}.gz\"], check=True)\n",
    "if not os.path.exists(sequences_cds):\n",
    "    print(\"Downloading CDS\")\n",
    "    reference_cds_dir = os.path.dirname(sequences_cds) if os.path.dirname(sequences_cds) else \".\"\n",
    "    gget_ref_command = [\"gget\", \"ref\", \"-w\", \"cds\", \"-r\", \"93\", \"--out_dir\", reference_cds_dir, \"-d\", \"human_grch37\"]\n",
    "    subprocess.run(gget_ref_command, check=True)\n",
    "    subprocess.run([\"gunzip\", f\"{sequences_cds}.gz\"], check=True)\n",
    "\n",
    "if not os.path.exists(cosmic_csv):\n",
    "    print(\"Downloading COSMIC\")\n",
    "    reference_out_dir_cosmic = os.path.dirname(os.path.dirname(cosmic_csv))\n",
    "    gget.cosmic(\n",
    "        None,\n",
    "        grch_version=37,\n",
    "        cosmic_version=101,\n",
    "        out=reference_out_dir_cosmic,\n",
    "        mutation_class=\"cancer\",\n",
    "        download_cosmic=True,\n",
    "    )\n",
    "\n",
    "cosmic_df = pd.read_csv(cosmic_csv, nrows=2)\n",
    "\n",
    "if \"mutation_cdna\" not in cosmic_df.columns:\n",
    "    print(\"Converting CDS to cDNA in COSMIC\")\n",
    "    _, _ = convert_mutation_cds_locations_to_cdna(input_csv_path=cosmic_csv, output_csv_path=cosmic_csv, cds_fasta_path=sequences_cds, cdna_fasta_path=sequences_cdna, verbose=True)\n",
    "\n",
    "cosmic_df_cols = [\"mutation_aa\", \"mutation\", \"mutation_cdna\", \"seq_ID\"]\n",
    "if \"vcrs_header_cdna\" in cosmic_df.columns:\n",
    "    cosmic_df_cols.append(\"vcrs_header_cdna\")\n",
    "if \"vcrs_header_cds\" in cosmic_df.columns:\n",
    "    cosmic_df_cols.append(\"vcrs_header_cds\")\n",
    "\n",
    "cosmic_df = pd.read_csv(cosmic_csv, usecols=cosmic_df_cols)\n",
    "\n",
    "if \"vcrs_header_cdna\" not in cosmic_df.columns:\n",
    "    cosmic_df[\"vcrs_header_cdna\"] = cosmic_df[\"seq_ID\"] + \":\" + cosmic_df[\"mutation_cdna\"]\n",
    "if \"vcrs_header_cds\" not in cosmic_df.columns:\n",
    "    cosmic_df[\"vcrs_header_cds\"] = cosmic_df[\"seq_ID\"] + \":\" + cosmic_df[\"mutation\"]\n",
    "    # cosmic_df.to_csv(cosmic_csv, index=False)"
   ]
  },
  {
   "cell_type": "markdown",
   "metadata": {},
   "source": [
    "### Load in adata.var and merge in cosmic data"
   ]
  },
  {
   "cell_type": "code",
   "execution_count": 38,
   "metadata": {},
   "outputs": [
    {
     "data": {
      "application/vnd.microsoft.datawrangler.viewer.v0+json": {
       "columns": [
        {
         "name": "index",
         "rawType": "int64",
         "type": "integer"
        },
        {
         "name": "vcrs_header_cdna",
         "rawType": "object",
         "type": "string"
        },
        {
         "name": "vcrs_count",
         "rawType": "float64",
         "type": "float"
        },
        {
         "name": "mutation_aa",
         "rawType": "object",
         "type": "string"
        },
        {
         "name": "mutation",
         "rawType": "object",
         "type": "string"
        },
        {
         "name": "seq_ID",
         "rawType": "object",
         "type": "string"
        },
        {
         "name": "vcrs_header_cds",
         "rawType": "object",
         "type": "string"
        }
       ],
       "conversionMethod": "pd.DataFrame",
       "ref": "96838625-fa2c-4ed4-a0ca-5863a7e5a0b4",
       "rows": [
        [
         "0",
         "ENST00000362079:c.760G>A",
         "10166.0",
         "p.V254I",
         "c.760G>A",
         "ENST00000362079",
         "ENST00000362079:c.760G>A"
        ],
        [
         "1",
         "ENST00000393099:c.583G>A",
         "7259.0",
         "p.A112T",
         "c.334G>A",
         "ENST00000393099",
         "ENST00000393099:c.334G>A"
        ],
        [
         "2",
         "ENST00000251453:c.455C>T",
         "5370.0",
         "p.G134=",
         "c.402C>T",
         "ENST00000251453",
         "ENST00000251453:c.402C>T"
        ]
       ],
       "shape": {
        "columns": 6,
        "rows": 3
       }
      },
      "text/html": [
       "<div>\n",
       "<style scoped>\n",
       "    .dataframe tbody tr th:only-of-type {\n",
       "        vertical-align: middle;\n",
       "    }\n",
       "\n",
       "    .dataframe tbody tr th {\n",
       "        vertical-align: top;\n",
       "    }\n",
       "\n",
       "    .dataframe thead th {\n",
       "        text-align: right;\n",
       "    }\n",
       "</style>\n",
       "<table border=\"1\" class=\"dataframe\">\n",
       "  <thead>\n",
       "    <tr style=\"text-align: right;\">\n",
       "      <th></th>\n",
       "      <th>vcrs_header_cdna</th>\n",
       "      <th>vcrs_count</th>\n",
       "      <th>mutation_aa</th>\n",
       "      <th>mutation</th>\n",
       "      <th>seq_ID</th>\n",
       "      <th>vcrs_header_cds</th>\n",
       "    </tr>\n",
       "  </thead>\n",
       "  <tbody>\n",
       "    <tr>\n",
       "      <th>0</th>\n",
       "      <td>ENST00000362079:c.760G&gt;A</td>\n",
       "      <td>10166.0</td>\n",
       "      <td>p.V254I</td>\n",
       "      <td>c.760G&gt;A</td>\n",
       "      <td>ENST00000362079</td>\n",
       "      <td>ENST00000362079:c.760G&gt;A</td>\n",
       "    </tr>\n",
       "    <tr>\n",
       "      <th>1</th>\n",
       "      <td>ENST00000393099:c.583G&gt;A</td>\n",
       "      <td>7259.0</td>\n",
       "      <td>p.A112T</td>\n",
       "      <td>c.334G&gt;A</td>\n",
       "      <td>ENST00000393099</td>\n",
       "      <td>ENST00000393099:c.334G&gt;A</td>\n",
       "    </tr>\n",
       "    <tr>\n",
       "      <th>2</th>\n",
       "      <td>ENST00000251453:c.455C&gt;T</td>\n",
       "      <td>5370.0</td>\n",
       "      <td>p.G134=</td>\n",
       "      <td>c.402C&gt;T</td>\n",
       "      <td>ENST00000251453</td>\n",
       "      <td>ENST00000251453:c.402C&gt;T</td>\n",
       "    </tr>\n",
       "  </tbody>\n",
       "</table>\n",
       "</div>"
      ],
      "text/plain": [
       "           vcrs_header_cdna  vcrs_count mutation_aa  mutation  \\\n",
       "0  ENST00000362079:c.760G>A     10166.0     p.V254I  c.760G>A   \n",
       "1  ENST00000393099:c.583G>A      7259.0     p.A112T  c.334G>A   \n",
       "2  ENST00000251453:c.455C>T      5370.0     p.G134=  c.402C>T   \n",
       "\n",
       "            seq_ID           vcrs_header_cds  \n",
       "0  ENST00000362079  ENST00000362079:c.760G>A  \n",
       "1  ENST00000393099  ENST00000393099:c.334G>A  \n",
       "2  ENST00000251453  ENST00000251453:c.402C>T  "
      ]
     },
     "execution_count": 38,
     "metadata": {},
     "output_type": "execute_result"
    }
   ],
   "source": [
    "adata = ad.read_h5ad(adata_path)\n",
    "\n",
    "# For simplicity, filter out all mutants with ambiguous identity\n",
    "adata.var.rename(columns={\"vcrs_header\": \"vcrs_header_cdna\"}, inplace=True)\n",
    "adata = adata[:, adata.var[~adata.var['vcrs_header_cdna'].str.contains(';', na=False)].index].copy()\n",
    "\n",
    "# keep only the top n variants\n",
    "top_vcrs = adata.var[\"vcrs_count\"].nlargest(n).index\n",
    "adata = adata[:, top_vcrs].copy()\n",
    "\n",
    "columns_to_merge = []\n",
    "for column in [\"mutation_aa\", \"mutation\", \"seq_ID\"]:\n",
    "    if column not in adata.var.columns:\n",
    "        columns_to_merge.append(column)\n",
    "\n",
    "if columns_to_merge:\n",
    "    columns_to_merge.extend([\"vcrs_header_cdna\", \"vcrs_header_cds\"])\n",
    "    adata.var = adata.var.merge(cosmic_df[columns_to_merge], on=\"vcrs_header_cdna\", how=\"left\", suffixes=(\"_original\", \"\"))\n",
    "\n",
    "adata.var.head()"
   ]
  },
  {
   "cell_type": "markdown",
   "metadata": {},
   "source": [
    "### If adata.var doesn't have the full sequences with the variants added, then make them with vk build"
   ]
  },
  {
   "cell_type": "code",
   "execution_count": null,
   "metadata": {},
   "outputs": [],
   "source": [
    "if \"vcrs_sequence_full\" not in adata.var:\n",
    "    out_dir_vk_build = os.path.join(vk_count_out_dir, \"vk_build_for_gget_elm\")\n",
    "    variants_updated_csv = os.path.join(out_dir_vk_build, \"variants_updated.csv\")\n",
    "\n",
    "    if not os.path.exists(variants_updated_csv):\n",
    "        vk.build(\n",
    "            variants = adata.var[[\"seq_ID\", \"mutation\"]],\n",
    "            sequences=sequences_cds,\n",
    "            seq_id_column=\"seq_ID\",\n",
    "            var_column=\"mutation\",\n",
    "            out=out_dir_vk_build,\n",
    "            save_variants_updated_csv=True,\n",
    "            store_full_sequences=True,\n",
    "            translate=True,\n",
    "            merge_identical=False,\n",
    "            use_IDs=False,\n",
    "            remove_seqs_with_wt_kmers=False,\n",
    "            optimize_flanking_regions=False,\n",
    "            min_seq_len=None,\n",
    "            overwrite=True\n",
    "        )\n",
    "\n",
    "    variants_updated_df = pd.read_csv(variants_updated_csv, usecols=[\"vcrs_header\", \"wt_sequence_aa_full\", \"vcrs_sequence_aa_full\"])\n",
    "    variants_updated_df.rename(columns={\"vcrs_header\": \"vcrs_header_cds\", \"vcrs_sequence_aa_full\": \"variant_sequence_aa_full\"}, inplace=True)\n",
    "\n",
    "    # keep sequence up until first stop codon (stop codon not recognized by ELM)\n",
    "    variants_updated_df[\"wt_sequence_aa_until_first_stop_codon\"] = variants_updated_df[\"wt_sequence_aa_full\"].str.split(\"*\").str[0]\n",
    "    variants_updated_df[\"variant_sequence_aa_until_first_stop_codon\"] = variants_updated_df[\"variant_sequence_aa_full\"].str.split(\"*\").str[0]\n",
    "\n",
    "    adata.var = adata.var.merge(variants_updated_df, on=\"vcrs_header_cds\", how=\"left\")"
   ]
  },
  {
   "cell_type": "code",
   "execution_count": 41,
   "metadata": {},
   "outputs": [
    {
     "data": {
      "application/vnd.microsoft.datawrangler.viewer.v0+json": {
       "columns": [
        {
         "name": "index",
         "rawType": "int64",
         "type": "integer"
        },
        {
         "name": "vcrs_header_cdna",
         "rawType": "object",
         "type": "string"
        },
        {
         "name": "vcrs_count",
         "rawType": "float64",
         "type": "float"
        },
        {
         "name": "mutation_aa",
         "rawType": "object",
         "type": "string"
        },
        {
         "name": "mutation",
         "rawType": "object",
         "type": "string"
        },
        {
         "name": "seq_ID",
         "rawType": "object",
         "type": "string"
        },
        {
         "name": "vcrs_header_cds",
         "rawType": "object",
         "type": "string"
        },
        {
         "name": "wt_sequence_aa_full",
         "rawType": "object",
         "type": "string"
        },
        {
         "name": "variant_sequence_aa_full",
         "rawType": "object",
         "type": "string"
        },
        {
         "name": "wt_sequence_aa_until_first_stop_codon",
         "rawType": "object",
         "type": "string"
        },
        {
         "name": "variant_sequence_aa_until_first_stop_codon",
         "rawType": "object",
         "type": "string"
        }
       ],
       "conversionMethod": "pd.DataFrame",
       "ref": "0f7e18f1-7410-4b4c-a7e9-aa0b67b5aade",
       "rows": [
        [
         "0",
         "ENST00000362079:c.760G>A",
         "10166.0",
         "p.V254I",
         "c.760G>A",
         "ENST00000362079",
         "ENST00000362079:c.760G>A",
         "MTHQSHAYHIVKPSP*PLTGALSALLMTSGLAM*FHFHSITLLILGLLTNTLTIYQ*WRDVTRESTYQGHHTPPVQKGLRYGIILFITSEVFFFAGFF*AFYHSSLAPTPQLGGHWPPTGITPLNPLEVPLLNTSVLLASGVSIT*AHHSLIENNRNQIIQALLITILLGLYFTLLQASEYFESPFTISDGIYGSTFFVATGFHGLHVIIGSTFLTICFIRQLIFHFTSKHHFGFEAAA*YWHFVDVV*LFLYVSIY**GS",
         "MTHQSHAYHIVKPSP*PLTGALSALLMTSGLAM*FHFHSITLLILGLLTNTLTIYQ*WRDVTRESTYQGHHTPPVQKGLRYGIILFITSEVFFFAGFF*AFYHSSLAPTPQLGGHWPPTGITPLNPLEVPLLNTSVLLASGVSIT*AHHSLIENNRNQIIQALLITILLGLYFTLLQASEYFESPFTISDGIYGSTFFVATGFHGLHVIIGSTFLTICFIRQLIFHFTSKHHFGFEAAA*YWHFVDVV*LFLYISIY**GS",
         "MTHQSHAYHIVKPSP",
         "MTHQSHAYHIVKPSP"
        ],
        [
         "1",
         "ENST00000393099:c.583G>A",
         "7259.0",
         "p.A112T",
         "c.334G>A",
         "ENST00000393099",
         "ENST00000393099:c.334G>A",
         "MAPSRNGMVLKPHFHKDWQRRVATWFNQPARKIRRRKARQAKARRIAPRPASGPIRPIVRCPTVRYHTKVRAGRGFSLEELRVAGIHKKVARTIGISVDPRRRNKSTESLQANVQRLKEYRSKLILFPRKPSAPKKGDSSAEELKLATQLTGPVMPVRNVYKKEKARVITEEEKNFKAFASLRMARANARLFGIRAKRAKEAAEQDVEKKK*",
         "MAPSRNGMVLKPHFHKDWQRRVATWFNQPARKIRRRKARQAKARRIAPRPASGPIRPIVRCPTVRYHTKVRAGRGFSLEELRVAGIHKKVARTIGISVDPRRRNKSTESLQTNVQRLKEYRSKLILFPRKPSAPKKGDSSAEELKLATQLTGPVMPVRNVYKKEKARVITEEEKNFKAFASLRMARANARLFGIRAKRAKEAAEQDVEKKK*",
         "MAPSRNGMVLKPHFHKDWQRRVATWFNQPARKIRRRKARQAKARRIAPRPASGPIRPIVRCPTVRYHTKVRAGRGFSLEELRVAGIHKKVARTIGISVDPRRRNKSTESLQANVQRLKEYRSKLILFPRKPSAPKKGDSSAEELKLATQLTGPVMPVRNVYKKEKARVITEEEKNFKAFASLRMARANARLFGIRAKRAKEAAEQDVEKKK",
         "MAPSRNGMVLKPHFHKDWQRRVATWFNQPARKIRRRKARQAKARRIAPRPASGPIRPIVRCPTVRYHTKVRAGRGFSLEELRVAGIHKKVARTIGISVDPRRRNKSTESLQTNVQRLKEYRSKLILFPRKPSAPKKGDSSAEELKLATQLTGPVMPVRNVYKKEKARVITEEEKNFKAFASLRMARANARLFGIRAKRAKEAAEQDVEKKK"
        ],
        [
         "2",
         "ENST00000251453:c.455C>T",
         "5370.0",
         "p.G134=",
         "c.402C>T",
         "ENST00000251453",
         "ENST00000251453:c.402C>T",
         "MPSKGPLQSVQVFGRKKTATAVAHCKRGNGLIKVNGRPLEMIEPRTLQYKLLEPVLLLGKERFAGVDIRVRVKGGGHVAQIYAIRQSISKALVAYYQKYVDEASKKEIKDILIQYDRTLLVADPRRCESKKFGGPGARARYQKSYR*",
         "MPSKGPLQSVQVFGRKKTATAVAHCKRGNGLIKVNGRPLEMIEPRTLQYKLLEPVLLLGKERFAGVDIRVRVKGGGHVAQIYAIRQSISKALVAYYQKYVDEASKKEIKDILIQYDRTLLVADPRRCESKKFGGPGARARYQKSYR*",
         "MPSKGPLQSVQVFGRKKTATAVAHCKRGNGLIKVNGRPLEMIEPRTLQYKLLEPVLLLGKERFAGVDIRVRVKGGGHVAQIYAIRQSISKALVAYYQKYVDEASKKEIKDILIQYDRTLLVADPRRCESKKFGGPGARARYQKSYR",
         "MPSKGPLQSVQVFGRKKTATAVAHCKRGNGLIKVNGRPLEMIEPRTLQYKLLEPVLLLGKERFAGVDIRVRVKGGGHVAQIYAIRQSISKALVAYYQKYVDEASKKEIKDILIQYDRTLLVADPRRCESKKFGGPGARARYQKSYR"
        ]
       ],
       "shape": {
        "columns": 10,
        "rows": 3
       }
      },
      "text/html": [
       "<div>\n",
       "<style scoped>\n",
       "    .dataframe tbody tr th:only-of-type {\n",
       "        vertical-align: middle;\n",
       "    }\n",
       "\n",
       "    .dataframe tbody tr th {\n",
       "        vertical-align: top;\n",
       "    }\n",
       "\n",
       "    .dataframe thead th {\n",
       "        text-align: right;\n",
       "    }\n",
       "</style>\n",
       "<table border=\"1\" class=\"dataframe\">\n",
       "  <thead>\n",
       "    <tr style=\"text-align: right;\">\n",
       "      <th></th>\n",
       "      <th>vcrs_header_cdna</th>\n",
       "      <th>vcrs_count</th>\n",
       "      <th>mutation_aa</th>\n",
       "      <th>mutation</th>\n",
       "      <th>seq_ID</th>\n",
       "      <th>vcrs_header_cds</th>\n",
       "      <th>wt_sequence_aa_full</th>\n",
       "      <th>variant_sequence_aa_full</th>\n",
       "      <th>wt_sequence_aa_until_first_stop_codon</th>\n",
       "      <th>variant_sequence_aa_until_first_stop_codon</th>\n",
       "    </tr>\n",
       "  </thead>\n",
       "  <tbody>\n",
       "    <tr>\n",
       "      <th>0</th>\n",
       "      <td>ENST00000362079:c.760G&gt;A</td>\n",
       "      <td>10166.0</td>\n",
       "      <td>p.V254I</td>\n",
       "      <td>c.760G&gt;A</td>\n",
       "      <td>ENST00000362079</td>\n",
       "      <td>ENST00000362079:c.760G&gt;A</td>\n",
       "      <td>MTHQSHAYHIVKPSP*PLTGALSALLMTSGLAM*FHFHSITLLILG...</td>\n",
       "      <td>MTHQSHAYHIVKPSP*PLTGALSALLMTSGLAM*FHFHSITLLILG...</td>\n",
       "      <td>MTHQSHAYHIVKPSP</td>\n",
       "      <td>MTHQSHAYHIVKPSP</td>\n",
       "    </tr>\n",
       "    <tr>\n",
       "      <th>1</th>\n",
       "      <td>ENST00000393099:c.583G&gt;A</td>\n",
       "      <td>7259.0</td>\n",
       "      <td>p.A112T</td>\n",
       "      <td>c.334G&gt;A</td>\n",
       "      <td>ENST00000393099</td>\n",
       "      <td>ENST00000393099:c.334G&gt;A</td>\n",
       "      <td>MAPSRNGMVLKPHFHKDWQRRVATWFNQPARKIRRRKARQAKARRI...</td>\n",
       "      <td>MAPSRNGMVLKPHFHKDWQRRVATWFNQPARKIRRRKARQAKARRI...</td>\n",
       "      <td>MAPSRNGMVLKPHFHKDWQRRVATWFNQPARKIRRRKARQAKARRI...</td>\n",
       "      <td>MAPSRNGMVLKPHFHKDWQRRVATWFNQPARKIRRRKARQAKARRI...</td>\n",
       "    </tr>\n",
       "    <tr>\n",
       "      <th>2</th>\n",
       "      <td>ENST00000251453:c.455C&gt;T</td>\n",
       "      <td>5370.0</td>\n",
       "      <td>p.G134=</td>\n",
       "      <td>c.402C&gt;T</td>\n",
       "      <td>ENST00000251453</td>\n",
       "      <td>ENST00000251453:c.402C&gt;T</td>\n",
       "      <td>MPSKGPLQSVQVFGRKKTATAVAHCKRGNGLIKVNGRPLEMIEPRT...</td>\n",
       "      <td>MPSKGPLQSVQVFGRKKTATAVAHCKRGNGLIKVNGRPLEMIEPRT...</td>\n",
       "      <td>MPSKGPLQSVQVFGRKKTATAVAHCKRGNGLIKVNGRPLEMIEPRT...</td>\n",
       "      <td>MPSKGPLQSVQVFGRKKTATAVAHCKRGNGLIKVNGRPLEMIEPRT...</td>\n",
       "    </tr>\n",
       "  </tbody>\n",
       "</table>\n",
       "</div>"
      ],
      "text/plain": [
       "           vcrs_header_cdna  vcrs_count mutation_aa  mutation  \\\n",
       "0  ENST00000362079:c.760G>A     10166.0     p.V254I  c.760G>A   \n",
       "1  ENST00000393099:c.583G>A      7259.0     p.A112T  c.334G>A   \n",
       "2  ENST00000251453:c.455C>T      5370.0     p.G134=  c.402C>T   \n",
       "\n",
       "            seq_ID           vcrs_header_cds  \\\n",
       "0  ENST00000362079  ENST00000362079:c.760G>A   \n",
       "1  ENST00000393099  ENST00000393099:c.334G>A   \n",
       "2  ENST00000251453  ENST00000251453:c.402C>T   \n",
       "\n",
       "                                 wt_sequence_aa_full  \\\n",
       "0  MTHQSHAYHIVKPSP*PLTGALSALLMTSGLAM*FHFHSITLLILG...   \n",
       "1  MAPSRNGMVLKPHFHKDWQRRVATWFNQPARKIRRRKARQAKARRI...   \n",
       "2  MPSKGPLQSVQVFGRKKTATAVAHCKRGNGLIKVNGRPLEMIEPRT...   \n",
       "\n",
       "                            variant_sequence_aa_full  \\\n",
       "0  MTHQSHAYHIVKPSP*PLTGALSALLMTSGLAM*FHFHSITLLILG...   \n",
       "1  MAPSRNGMVLKPHFHKDWQRRVATWFNQPARKIRRRKARQAKARRI...   \n",
       "2  MPSKGPLQSVQVFGRKKTATAVAHCKRGNGLIKVNGRPLEMIEPRT...   \n",
       "\n",
       "               wt_sequence_aa_until_first_stop_codon  \\\n",
       "0                                    MTHQSHAYHIVKPSP   \n",
       "1  MAPSRNGMVLKPHFHKDWQRRVATWFNQPARKIRRRKARQAKARRI...   \n",
       "2  MPSKGPLQSVQVFGRKKTATAVAHCKRGNGLIKVNGRPLEMIEPRT...   \n",
       "\n",
       "          variant_sequence_aa_until_first_stop_codon  \n",
       "0                                    MTHQSHAYHIVKPSP  \n",
       "1  MAPSRNGMVLKPHFHKDWQRRVATWFNQPARKIRRRKARQAKARRI...  \n",
       "2  MPSKGPLQSVQVFGRKKTATAVAHCKRGNGLIKVNGRPLEMIEPRT...  "
      ]
     },
     "execution_count": 41,
     "metadata": {},
     "output_type": "execute_result"
    }
   ],
   "source": [
    "adata.var.head()"
   ]
  },
  {
   "cell_type": "code",
   "execution_count": 43,
   "metadata": {},
   "outputs": [
    {
     "name": "stderr",
     "output_type": "stream",
     "text": [
      "11:13:53 - INFO - ELM_Classes_Download_Version: 1.4, ELM_Classes_Download_Date: 2025-03-29 00:57:33.973942\n",
      "11:13:53 - INFO - ELM_Instance_Download_Version: 1.4, ELM_Instance_Download_Date: 2025-03-29 02:55:38.424686\n",
      "11:13:53 - INFO - ORTHO Compiling ortholog information...\n",
      "11:13:53 - INFO - ORTHO Performing pairwise sequence alignment against ELM database using DIAMOND for 1 sequence(s)...\n",
      "11:13:53 - INFO - Creating DIAMOND database and initiating alignment...\n"
     ]
    },
    {
     "name": "stdout",
     "output_type": "stream",
     "text": [
      "diamond version 2.1.8\n"
     ]
    },
    {
     "name": "stderr",
     "output_type": "stream",
     "text": [
      "11:13:54 - INFO - DIAMOND alignment complete.\n",
      "11:13:54 - WARNING - ORTHO Sequence 1/1: No orthologous proteins found in ELM database.\n",
      "11:13:54 - WARNING - ORTHO No ELM database orthologs found for input sequence or UniProt Acc.\n",
      "11:13:54 - INFO - REGEX Finding regex motif matches...\n",
      "11:13:54 - WARNING - REGEX No regex matches found for input sequence or UniProt Acc.\n"
     ]
    }
   ],
   "source": [
    "try:\n",
    "    gget.elm(\"TEST\")\n",
    "except FileNotFoundError:\n",
    "    gget.setup('elm')"
   ]
  },
  {
   "cell_type": "code",
   "execution_count": 45,
   "metadata": {},
   "outputs": [
    {
     "name": "stderr",
     "output_type": "stream",
     "text": [
      "11:14:14 - INFO - ELM_Classes_Download_Version: 1.4, ELM_Classes_Download_Date: 2025-03-29 00:57:33.973942\n",
      "11:14:14 - INFO - ELM_Instance_Download_Version: 1.4, ELM_Instance_Download_Date: 2025-03-29 02:55:38.424686\n",
      "11:14:14 - INFO - ORTHO Compiling ortholog information...\n",
      "11:14:14 - INFO - ORTHO Performing pairwise sequence alignment against ELM database using DIAMOND for 1 sequence(s)...\n",
      "11:14:14 - INFO - Creating DIAMOND database and initiating alignment...\n"
     ]
    },
    {
     "name": "stdout",
     "output_type": "stream",
     "text": [
      "diamond version 2.1.8\n"
     ]
    },
    {
     "name": "stderr",
     "output_type": "stream",
     "text": [
      "11:14:15 - INFO - DIAMOND alignment complete.\n",
      "11:14:15 - WARNING - ORTHO Sequence 1/1: No orthologous proteins found in ELM database.\n",
      "11:14:15 - WARNING - ORTHO No ELM database orthologs found for input sequence or UniProt Acc.\n",
      "11:14:15 - INFO - REGEX Finding regex motif matches...\n",
      "11:14:15 - INFO - ELM_Classes_Download_Version: 1.4, ELM_Classes_Download_Date: 2025-03-29 00:57:33.973942\n",
      "11:14:15 - INFO - ELM_Instance_Download_Version: 1.4, ELM_Instance_Download_Date: 2025-03-29 02:55:38.424686\n",
      "11:14:15 - INFO - ORTHO Compiling ortholog information...\n",
      "11:14:15 - INFO - ORTHO Performing pairwise sequence alignment against ELM database using DIAMOND for 1 sequence(s)...\n",
      "11:14:15 - INFO - Creating DIAMOND database and initiating alignment...\n"
     ]
    },
    {
     "name": "stdout",
     "output_type": "stream",
     "text": [
      "diamond version 2.1.8\n"
     ]
    },
    {
     "name": "stderr",
     "output_type": "stream",
     "text": [
      "11:14:16 - INFO - DIAMOND alignment complete.\n",
      "11:14:16 - WARNING - ORTHO Sequence 1/1: No orthologous proteins found in ELM database.\n",
      "11:14:16 - WARNING - ORTHO No ELM database orthologs found for input sequence or UniProt Acc.\n",
      "11:14:16 - INFO - REGEX Finding regex motif matches...\n",
      "11:14:16 - INFO - ELM_Classes_Download_Version: 1.4, ELM_Classes_Download_Date: 2025-03-29 00:57:33.973942\n",
      "11:14:16 - INFO - ELM_Instance_Download_Version: 1.4, ELM_Instance_Download_Date: 2025-03-29 02:55:38.424686\n",
      "11:14:16 - INFO - ORTHO Compiling ortholog information...\n",
      "11:14:16 - INFO - ORTHO Performing pairwise sequence alignment against ELM database using DIAMOND for 1 sequence(s)...\n",
      "11:14:16 - INFO - Creating DIAMOND database and initiating alignment...\n"
     ]
    },
    {
     "name": "stdout",
     "output_type": "stream",
     "text": [
      "Saved ENST00000362079:c.760G>A to /Users/joeyrich/Desktop/local/RLSRWP_2025/data/vk_count_out/analysis/gget_elm\n",
      "diamond version 2.1.8\n"
     ]
    },
    {
     "name": "stderr",
     "output_type": "stream",
     "text": [
      "11:14:17 - INFO - DIAMOND alignment complete.\n",
      "11:14:17 - WARNING - ORTHO Sequence 1/1: No orthologous proteins found in ELM database.\n",
      "11:14:17 - WARNING - ORTHO No ELM database orthologs found for input sequence or UniProt Acc.\n",
      "11:14:17 - INFO - REGEX Finding regex motif matches...\n",
      "11:14:17 - INFO - ELM_Classes_Download_Version: 1.4, ELM_Classes_Download_Date: 2025-03-29 00:57:33.973942\n",
      "11:14:17 - INFO - ELM_Instance_Download_Version: 1.4, ELM_Instance_Download_Date: 2025-03-29 02:55:38.424686\n",
      "11:14:17 - INFO - ORTHO Compiling ortholog information...\n",
      "11:14:17 - INFO - ORTHO Performing pairwise sequence alignment against ELM database using DIAMOND for 1 sequence(s)...\n",
      "11:14:17 - INFO - Creating DIAMOND database and initiating alignment...\n"
     ]
    },
    {
     "name": "stdout",
     "output_type": "stream",
     "text": [
      "diamond version 2.1.8\n"
     ]
    },
    {
     "name": "stderr",
     "output_type": "stream",
     "text": [
      "11:14:18 - INFO - DIAMOND alignment complete.\n",
      "11:14:18 - WARNING - ORTHO Sequence 1/1: No orthologous proteins found in ELM database.\n",
      "11:14:18 - WARNING - ORTHO No ELM database orthologs found for input sequence or UniProt Acc.\n",
      "11:14:18 - INFO - REGEX Finding regex motif matches...\n",
      "11:14:18 - INFO - ELM_Classes_Download_Version: 1.4, ELM_Classes_Download_Date: 2025-03-29 00:57:33.973942\n",
      "11:14:18 - INFO - ELM_Instance_Download_Version: 1.4, ELM_Instance_Download_Date: 2025-03-29 02:55:38.424686\n",
      "11:14:18 - INFO - ORTHO Compiling ortholog information...\n",
      "11:14:18 - INFO - ORTHO Performing pairwise sequence alignment against ELM database using DIAMOND for 1 sequence(s)...\n",
      "11:14:18 - INFO - Creating DIAMOND database and initiating alignment...\n"
     ]
    },
    {
     "name": "stdout",
     "output_type": "stream",
     "text": [
      "Saved ENST00000393099:c.583G>A to /Users/joeyrich/Desktop/local/RLSRWP_2025/data/vk_count_out/analysis/gget_elm\n",
      "diamond version 2.1.8\n"
     ]
    },
    {
     "name": "stderr",
     "output_type": "stream",
     "text": [
      "11:14:19 - INFO - DIAMOND alignment complete.\n",
      "11:14:19 - WARNING - ORTHO Sequence 1/1: No orthologous proteins found in ELM database.\n",
      "11:14:19 - WARNING - ORTHO No ELM database orthologs found for input sequence or UniProt Acc.\n",
      "11:14:19 - INFO - REGEX Finding regex motif matches...\n",
      "11:14:20 - INFO - ELM_Classes_Download_Version: 1.4, ELM_Classes_Download_Date: 2025-03-29 00:57:33.973942\n",
      "11:14:20 - INFO - ELM_Instance_Download_Version: 1.4, ELM_Instance_Download_Date: 2025-03-29 02:55:38.424686\n",
      "11:14:20 - INFO - ORTHO Compiling ortholog information...\n",
      "11:14:20 - INFO - ORTHO Performing pairwise sequence alignment against ELM database using DIAMOND for 1 sequence(s)...\n",
      "11:14:20 - INFO - Creating DIAMOND database and initiating alignment...\n"
     ]
    },
    {
     "name": "stdout",
     "output_type": "stream",
     "text": [
      "diamond version 2.1.8\n"
     ]
    },
    {
     "name": "stderr",
     "output_type": "stream",
     "text": [
      "11:14:20 - INFO - DIAMOND alignment complete.\n",
      "11:14:20 - WARNING - ORTHO Sequence 1/1: No orthologous proteins found in ELM database.\n",
      "11:14:20 - WARNING - ORTHO No ELM database orthologs found for input sequence or UniProt Acc.\n",
      "11:14:20 - INFO - REGEX Finding regex motif matches...\n"
     ]
    },
    {
     "name": "stdout",
     "output_type": "stream",
     "text": [
      "Saved ENST00000251453:c.455C>T to /Users/joeyrich/Desktop/local/RLSRWP_2025/data/vk_count_out/analysis/gget_elm\n"
     ]
    }
   ],
   "source": [
    "for index, row in adata.var.iterrows():\n",
    "    header = row['vcrs_header_cdna']\n",
    "    aa_sequence_wt = row['wt_sequence_aa_until_first_stop_codon']\n",
    "    aa_sequence_mutant = row['variant_sequence_aa_until_first_stop_codon']\n",
    "    # !gget elm {aa_sequence} --out {output_data_dir}/{index}_{header}_elm.txt\n",
    "    gget.elm(aa_sequence_wt, out = os.path.join(out_dir, f'{index}_{header}_wt_elm'))\n",
    "    gget.elm(aa_sequence_mutant, out = os.path.join(out_dir, f'{index}_{header}_mutant_elm'))\n",
    "    print(f\"Saved {header} to {out_dir}\")"
   ]
  }
 ],
 "metadata": {
  "kernelspec": {
   "display_name": "RLSRWP_2025",
   "language": "python",
   "name": "python3"
  },
  "language_info": {
   "codemirror_mode": {
    "name": "ipython",
    "version": 3
   },
   "file_extension": ".py",
   "mimetype": "text/x-python",
   "name": "python",
   "nbconvert_exporter": "python",
   "pygments_lexer": "ipython3",
   "version": "3.10.9"
  }
 },
 "nbformat": 4,
 "nbformat_minor": 2
}
