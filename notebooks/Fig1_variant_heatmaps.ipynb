{
 "cells": [
  {
   "cell_type": "markdown",
   "metadata": {},
   "source": [
    "# Variant Analysis, Heatmaps"
   ]
  },
  {
   "cell_type": "code",
   "execution_count": null,
   "metadata": {},
   "outputs": [],
   "source": [
    "import os\n",
    "import seaborn as sns\n",
    "import anndata as ad\n",
    "import matplotlib.pyplot as plt\n",
    "import numpy as np\n",
    "\n",
    "RLSRWP_2025_dir = os.path.dirname(os.path.abspath(\"\"))  # if this notebook resides in RLSRWP_2025/notebooks/0_data_download.ipynb, then this retrieves RLSRWP_2025"
   ]
  },
  {
   "cell_type": "code",
   "execution_count": null,
   "metadata": {},
   "outputs": [],
   "source": [
    "n_obs = 5  # or \"all\"\n",
    "n_var = 10  # or \"all\"\n",
    "\n",
    "vk_count_out_dir = os.path.join(RLSRWP_2025_dir, \"data\", \"vk_count_out\")\n",
    "adata_path = os.path.join(vk_count_out_dir, \"adata_cleaned.h5ad\")\n",
    "out_path = os.path.join(vk_count_out_dir, \"analysis\", \"adata_matrix.png\")"
   ]
  },
  {
   "cell_type": "code",
   "execution_count": null,
   "metadata": {},
   "outputs": [],
   "source": [
    "adata = ad.read_h5ad(adata_path)\n",
    "\n",
    "sorted_variant_order = adata.var.sort_values(by=\"vcrs_count\", ascending=False).index\n",
    "adata = adata[:, sorted_variant_order]  # Apply this order to both adata.var and adata.X\n",
    "\n",
    "# filter anndata here if large to avoid RAM issues\n",
    "if n_obs == \"all\" and n_var == \"all\":\n",
    "    pass\n",
    "elif n_obs == \"all\":\n",
    "    adata = adata[:, :n_var]\n",
    "elif n_var == \"all\":\n",
    "    adata = adata[:n_obs, :]\n",
    "else:\n",
    "    adata = adata[:n_obs, :n_var]"
   ]
  },
  {
   "cell_type": "markdown",
   "metadata": {},
   "source": [
    "### Make heatmap of cells/samples (x), mutations (y), and counts (z)"
   ]
  },
  {
   "cell_type": "code",
   "execution_count": null,
   "metadata": {},
   "outputs": [],
   "source": [
    "# # Convert sparse matrix to dense if needed\n",
    "# matrix = np.random.randint(0, 101, size=(5, 10))  # for testing\n",
    "matrix = adata.X.toarray() if hasattr(adata.X, \"toarray\") else adata.X\n",
    "\n",
    "# Plot heatmap\n",
    "plt.figure(figsize=(10, 6))\n",
    "sns.heatmap(matrix, cmap=\"viridis\", xticklabels=False, yticklabels=False)\n",
    "plt.xlabel(\"Genes\")\n",
    "plt.ylabel(\"Cells\")\n",
    "plt.title(\"AnnData Heatmap\")\n",
    "plt.show()"
   ]
  }
 ],
 "metadata": {
  "kernelspec": {
   "display_name": "varseek2",
   "language": "python",
   "name": "python3"
  },
  "language_info": {
   "codemirror_mode": {
    "name": "ipython",
    "version": 3
   },
   "file_extension": ".py",
   "mimetype": "text/x-python",
   "name": "python",
   "nbconvert_exporter": "python",
   "pygments_lexer": "ipython3",
   "version": "3.10.16"
  }
 },
 "nbformat": 4,
 "nbformat_minor": 2
}
