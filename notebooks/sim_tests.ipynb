{
 "cells": [
  {
   "cell_type": "code",
   "execution_count": 1,
   "metadata": {},
   "outputs": [],
   "source": [
    "import random\n",
    "import varseek as vk\n",
    "import os\n",
    "# from tqdm import tqdm\n",
    "# tqdm.pandas()\n",
    "\n",
    "varseek_directory = os.path.dirname(os.path.abspath(\"\"))"
   ]
  },
  {
   "cell_type": "code",
   "execution_count": 2,
   "metadata": {},
   "outputs": [],
   "source": [
    "mutant_sequencing_depth = 256\n",
    "wt_sequencing_depth = 0\n",
    "condition = ['variant_type:equal=substitution']\n",
    "\n",
    "number_of_variants_to_sample_per_condition = 10_000\n",
    "read_length = 150\n",
    "strand = None  # None for strand-agnostic (randomly-selected), \"f\" for forward, \"r\" for reverse, \"both\" for both - make sure this matches the reference genome (vk build command) - strand = True -> \"f\" or \"r\" here; strand = False -> None or \"both\" here - note that the strand is randomly selected per *transcript*, such that all drawn reads will come from the same strand no matter what\n",
    "add_noise_sequencing_error=True\n",
    "add_noise_base_quality=False\n",
    "error_rate=0.0001  # only if add_noise_sequencing_error=True\n",
    "error_distribution=(0.85, 0.1, 0.05)  # sub, del, ins  # only if add_noise_sequencing_error=True\n",
    "max_errors=float(\"inf\")  # only if add_noise_sequencing_error=True\n",
    "seq_id_column=\"seq_ID\"\n",
    "var_column=\"mutation_cdna\"\n",
    "threads = 16\n",
    "\n",
    "k = 51\n",
    "w = 47\n",
    "\n",
    "# Paths\n",
    "vk_ref_out_dir = os.path.join(varseek_directory, \"data\", \"vk_ref_out\")\n",
    "reference_out_dir = os.path.join(varseek_directory, \"data\", \"reference\")\n",
    "sequences = os.path.join(reference_out_dir, \"ensembl_grch37_release93\", \"Homo_sapiens.GRCh37.cdna.all.fa\")\n",
    "reference_genome_fasta = os.path.join(reference_out_dir, \"ensembl_grch37_release93\", \"Homo_sapiens.GRCh37.dna.primary_assembly.fa\")\n",
    "out_dir_notebook = os.path.join(varseek_directory, \"data\", \"synthetic_reads_test_easy\")  #!!! change for each run\n",
    "read_fq_path = os.path.join(out_dir_notebook, \"synthetic_reads.fq\")\n",
    "\n",
    "mutation_metadata_df = os.path.join(vk_ref_out_dir, \"variants_updated_exploded_filtered.csv\")\n",
    "read_df_out = f\"{out_dir_notebook}/synthetic_reads.csv\"\n",
    "mutation_metadata_df_out = f\"{out_dir_notebook}/mutation_metadata_df_updated_vk_info_exploded_with_synthetic_read_info.csv\""
   ]
  },
  {
   "cell_type": "code",
   "execution_count": null,
   "metadata": {},
   "outputs": [
    {
     "name": "stderr",
     "output_type": "stream",
     "text": [
      "/home/jmrich/Desktop/varseek/varseek/varseek_sim.py:305: DtypeWarning: Columns (12,13) have mixed types. Specify dtype option on import or set low_memory=False.\n",
      "  variants = pd.read_csv(variants)\n",
      "12:15:06 - INFO - cannot find mutant sequence read parent\n",
      "12:15:06 - INFO - running varseek build\n",
      "12:15:06 - WARNING - If running a workflow with vk ref or kb ref, k should be an odd number between 1 and 63. Got k=147.\n",
      "12:15:06 - INFO - Using COSMIC email from COSMIC_EMAIL environment variable: jmrich@caltech.edu\n",
      "12:15:06 - INFO - Using COSMIC password from COSMIC_PASSWORD environment variable\n",
      "12:15:54 - INFO - Using var_id_column 'header' as the variant header column.\n",
      "12:20:56 - INFO - Removed 204 variant-containing reference sequences with length less than 150...\n",
      "12:20:56 - WARNING - \n",
      "        5372870 variants correctly recorded (100.00%)\n",
      "        204 variants removed (0.00%)\n",
      "          0 variants missing seq_id or var_column (0.000%)\n",
      "          0 entries removed due to having a duplicate entry (0.000%)\n",
      "          0 variants with seq_ID not found in sequences (0.000%)\n",
      "          0 intronic variants found (0.000%)\n",
      "          0 posttranslational region variants found (0.000%)\n",
      "          0 unknown variants found (0.000%)\n",
      "          0 variants with uncertain mutation found (0.000%)\n",
      "          0 variants with ambiguous position found (0.000%)\n",
      "          0 variants with incorrect wildtype base found (0.000%)\n",
      "          0 variants with indices outside of the sequence length found (0.000%)\n",
      "          204 variants with fragment length < min_seq_len removed (0.004%)\n",
      "        \n",
      "12:21:53 - INFO - Saving dataframe with updated variant info...\n",
      "12:21:53 - WARNING - File size can be very large if the number of variants is large.\n"
     ]
    }
   ],
   "source": [
    "if not os.path.exists(read_fq_path):\n",
    "    simulated_df_dict = vk.sim(\n",
    "        variants=mutation_metadata_df,\n",
    "        number_of_variants_to_sample=number_of_variants_to_sample_per_condition,\n",
    "        strand=strand,\n",
    "        number_of_reads_per_variant_alt=mutant_sequencing_depth,\n",
    "        number_of_reads_per_variant_ref=wt_sequencing_depth,\n",
    "        k=k,\n",
    "        w=w,\n",
    "        read_length=read_length,\n",
    "        seed=None,  # no need to pass in since it's set globally\n",
    "        add_noise_sequencing_error=add_noise_sequencing_error,\n",
    "        error_rate=error_rate,\n",
    "        error_distribution=error_distribution,\n",
    "        max_errors=max_errors,\n",
    "        with_replacement=False,  # set to True if wanting to have some reads that might be identical\n",
    "        sequences=sequences,\n",
    "        seq_id_column=seq_id_column,\n",
    "        var_column=var_column,\n",
    "        var_id_column=\"header\",\n",
    "        variant_type_column=\"vcrs_variant_type\",\n",
    "        reference_out_dir=reference_out_dir,\n",
    "        filters=condition,\n",
    "        out=out_dir_notebook,\n",
    "        reads_fastq_out=read_fq_path,\n",
    "        reads_csv_out=read_df_out,\n",
    "        variants_updated_csv_out=mutation_metadata_df_out,\n",
    "    )"
   ]
  },
  {
   "cell_type": "markdown",
   "metadata": {},
   "source": [
    "**number_variants = 10_000**\n",
    "\n",
    "number_variants x mutant_sequencing_depth = number_of_reads\n",
    "10_000 x 256 = 2_560_000\n",
    "\n",
    "number_of_reads + 1 (header row) = total_df_lines\n",
    "2_560_000 + 1 = 2_560_001\n",
    "\n",
    "number_of_reads x 4 (4 lines per read) = total_fastq_lines\n",
    "2_560_000 x 4 = 10_240_000"
   ]
  },
  {
   "cell_type": "code",
   "execution_count": 4,
   "metadata": {},
   "outputs": [
    {
     "name": "stdout",
     "output_type": "stream",
     "text": [
      "2560001 /home/jmrich/Desktop/RLSRWP_2025/data/synthetic_reads_test_easy/synthetic_reads.csv\n",
      "10240000 /home/jmrich/Desktop/RLSRWP_2025/data/synthetic_reads_test_easy/synthetic_reads.fq\n"
     ]
    }
   ],
   "source": [
    "!wc -l {read_df_out}\n",
    "!wc -l {read_fq_path}"
   ]
  },
  {
   "cell_type": "code",
   "execution_count": 19,
   "metadata": {},
   "outputs": [
    {
     "name": "stdout",
     "output_type": "stream",
     "text": [
      "Haplotypecaller, same strand\n",
      "Number of reads in STAR BAM (out of 2560000)\n",
      "2590420\n",
      "Number of variants in unfiltered VCF (out of 10000)\n",
      "109\n",
      "Number of variants in filtered VCF (out of 10000)\n",
      "114\n"
     ]
    }
   ],
   "source": [
    "print(\"Haplotypecaller, same strand\")\n",
    "# !python scripts/run_gatk_haplotypecaller_for_benchmarking.py --synthetic_read_fastq /home/jmrich/Desktop/RLSRWP_2025/data/synthetic_reads_test_easy/synthetic_reads.fq --skip_accuracy_analysis --out /home/jmrich/Desktop/RLSRWP_2025/data/synthetic_reads_test_easy/GATK/haplotypecaller --reference_genome_fasta /data/reference/ensembl_grch37_release93/Homo_sapiens.GRCh37.dna.primary_assembly.fa --reference_genome_gtf /data/reference/ensembl_grch37_release93/Homo_sapiens.GRCh37.87.gtf --star_genome_dir data/reference/ensembl_grch37_release93/star_reference --java /home/jmrich/opt/jdk-17.0.12+7/bin/java --picard_jar /home/jmrich/opt/picard.jar --threads 16 --genomes1000_vcf /data/reference/ensembl_grch37_release93/1000GENOMES-phase_3.vcf --disable_tool_default_read_filters --tmp_dir /data/tmp2\n",
    "\n",
    "print(f\"Number of reads in STAR BAM (out of {number_of_variants_to_sample_per_condition * mutant_sequencing_depth})\")\n",
    "!samtools view -c -F 4 /home/jmrich/Desktop/RLSRWP_2025/data/synthetic_reads_test_easy/GATK/haplotypecaller/alignment/sample_Aligned.sortedByCoord.out.bam\n",
    "\n",
    "print(f\"Number of variants in unfiltered VCF (out of {number_of_variants_to_sample_per_condition})\")\n",
    "!zcat /home/jmrich/Desktop/RLSRWP_2025/data/synthetic_reads_test_easy/GATK/haplotypecaller/vcfs/haplotypecaller/haplotypecaller_output_unfiltered.g.vcf.gz | wc -l\n",
    "\n",
    "print(f\"Number of variants in filtered VCF (out of {number_of_variants_to_sample_per_condition})\")\n",
    "!zcat /home/jmrich/Desktop/RLSRWP_2025/data/synthetic_reads_test_easy/GATK/haplotypecaller/vcfs/haplotypecaller/haplotypecaller_output_filtered_applied.vcf.gz | wc -l"
   ]
  },
  {
   "cell_type": "code",
   "execution_count": 23,
   "metadata": {},
   "outputs": [
    {
     "name": "stdout",
     "output_type": "stream",
     "text": [
      "Mutect2, same strand\n",
      "Number of reads in STAR BAM (out of 2560000)\n",
      "2590420\n",
      "Number of variants in unfiltered VCF (out of 10000)\n",
      "129\n",
      "Number of variants in filtered VCF (out of 10000)\n",
      "157\n"
     ]
    }
   ],
   "source": [
    "print(\"Mutect2, same strand\")\n",
    "# !python scripts/run_gatk_mutect2_for_benchmarking.py --synthetic_read_fastq /home/jmrich/Desktop/RLSRWP_2025/data/synthetic_reads_test_easy/synthetic_reads.fq --skip_accuracy_analysis --out /home/jmrich/Desktop/RLSRWP_2025/data/synthetic_reads_test_easy/GATK/mutect2 --reference_genome_fasta /data/reference/ensembl_grch37_release93/Homo_sapiens.GRCh37.dna.primary_assembly.fa --reference_genome_gtf /data/reference/ensembl_grch37_release93/Homo_sapiens.GRCh37.87.gtf --star_genome_dir data/reference/ensembl_grch37_release93/star_reference --java /home/jmrich/opt/jdk-17.0.12+7/bin/java --picard_jar /home/jmrich/opt/picard.jar --threads 16 --genomes1000_vcf /data/reference/ensembl_grch37_release93/1000GENOMES-phase_3.vcf --disable_tool_default_read_filters --tmp_dir /data/tmp3\n",
    "\n",
    "print(f\"Number of reads in STAR BAM (out of {number_of_variants_to_sample_per_condition * mutant_sequencing_depth})\")\n",
    "!samtools view -c -F 4 /home/jmrich/Desktop/RLSRWP_2025/data/synthetic_reads_test_easy/GATK/mutect2/alignment/sample_Aligned.sortedByCoord.out.bam\n",
    "\n",
    "print(f\"Number of variants in unfiltered VCF (out of {number_of_variants_to_sample_per_condition})\")\n",
    "!zcat /home/jmrich/Desktop/RLSRWP_2025/data/synthetic_reads_test_easy/GATK/mutect2/vcfs/mutect2/mutect2_output_unfiltered.g.vcf.gz | wc -l\n",
    "\n",
    "print(f\"Number of variants in filtered VCF (out of {number_of_variants_to_sample_per_condition})\")\n",
    "!zcat /home/jmrich/Desktop/RLSRWP_2025/data/synthetic_reads_test_easy/GATK/mutect2/vcfs/mutect2/mutect2_output_filtered_applied.vcf.gz | wc -l"
   ]
  },
  {
   "cell_type": "code",
   "execution_count": 7,
   "metadata": {},
   "outputs": [
    {
     "name": "stderr",
     "output_type": "stream",
     "text": [
      "/home/jmrich/Desktop/varseek/varseek/varseek_sim.py:305: DtypeWarning: Columns (12,13) have mixed types. Specify dtype option on import or set low_memory=False.\n",
      "  variants = pd.read_csv(variants)\n",
      "13:36:44 - INFO - cannot find mutant sequence read parent\n",
      "/home/jmrich/Desktop/varseek/varseek/varseek_sim.py:361: DtypeWarning: Columns (13,14) have mixed types. Specify dtype option on import or set low_memory=False.\n",
      "  sim_data_df = pd.read_csv(update_df_out)\n",
      "13:40:06 - INFO - Initial variant report\n",
      "13:40:06 - INFO - Number of total variants: 5373074; VCRSs: 5373074; unique variants: 5373074; merged variants: 0\n",
      "\n",
      "13:40:06 - INFO - variant_type equal substitution\n",
      "13:40:10 - INFO - Number of total variants: 5143917 (229157 filtered); VCRSs: 5143917 (229157 filtered); unique variants: 5143917 (229157 filtered); merged variants: 0 (0 filtered)\n",
      "\n",
      "13:40:10 - INFO - mutant_sequence_read_parent is_not_null None\n",
      "13:40:16 - INFO - Number of total variants: 5143740 (177 filtered); VCRSs: 5143740 (177 filtered); unique variants: 5143740 (177 filtered); merged variants: 0 (0 filtered)\n",
      "\n",
      "13:40:16 - INFO - wt_sequence_read_parent is_not_null None\n",
      "13:40:23 - INFO - Number of total variants: 5143740 (0 filtered); VCRSs: 5143740 (0 filtered); unique variants: 5143740 (0 filtered); merged variants: 0 (0 filtered)\n",
      "\n",
      "13:40:23 - INFO - mutant_sequence_read_parent_length greater_or_equal 150.0\n",
      "13:40:28 - INFO - Number of total variants: 5143740 (0 filtered); VCRSs: 5143740 (0 filtered); unique variants: 5143740 (0 filtered); merged variants: 0 (0 filtered)\n",
      "\n",
      "13:40:28 - INFO - Total variants filtered: 229334; total VCRSs filtered: 229334; unique variants filtered: 229334; merged variants filtered: 0\n",
      "13:40:28 - INFO - Total runtime for vk filter: 0m, 25.21s\n",
      "13:40:29 - WARNING - variant_type_column vcrs_variant_type not in dataframe\n",
      "13:40:29 - INFO - Simulating 2560000 reads - 10000 variants, with 0 ref reads per variant and 256 alt reads per variant\n",
      "Looping through variants to simulate reads: 100%|██████████| 10000/10000 [01:14<00:00, 134.43variants/s]\n",
      "13:41:47 - INFO - Wrote 2560000 variants to /home/jmrich/Desktop/RLSRWP_2025/data/synthetic_reads_test_easy/synthetic_reads_mixed_strands.fq\n",
      "13:46:42 - INFO - Total runtime for vk sim: 11m, 28.00s\n"
     ]
    }
   ],
   "source": [
    "strand = \"random\"\n",
    "read_fq_path_mixed_strands = os.path.join(out_dir_notebook, \"synthetic_reads_mixed_strands.fq\")\n",
    "read_df_out = os.path.join(out_dir_notebook, \"synthetic_reads_mixed_strands.csv\")\n",
    "mutation_metadata_df_out = os.path.join(out_dir_notebook, \"mutation_metadata_df_updated_vk_info_exploded_with_synthetic_read_info_mixed_strands.csv\")\n",
    "\n",
    "if not os.path.exists(read_fq_path_mixed_strands):\n",
    "    simulated_df_dict = vk.sim(\n",
    "        variants=mutation_metadata_df,\n",
    "        number_of_variants_to_sample=number_of_variants_to_sample_per_condition,\n",
    "        strand=strand,\n",
    "        number_of_reads_per_variant_alt=mutant_sequencing_depth,\n",
    "        number_of_reads_per_variant_ref=wt_sequencing_depth,\n",
    "        k=k,\n",
    "        w=w,\n",
    "        read_length=read_length,\n",
    "        seed=None,  # no need to pass in since it's set globally\n",
    "        add_noise_sequencing_error=add_noise_sequencing_error,\n",
    "        error_rate=error_rate,\n",
    "        error_distribution=error_distribution,\n",
    "        max_errors=max_errors,\n",
    "        with_replacement=False,  # set to True if wanting to have some reads that might be identical\n",
    "        sequences=sequences,\n",
    "        seq_id_column=seq_id_column,\n",
    "        var_column=var_column,\n",
    "        var_id_column=\"header\",\n",
    "        variant_type_column=\"vcrs_variant_type\",\n",
    "        reference_out_dir=reference_out_dir,\n",
    "        filters=condition,\n",
    "        out=out_dir_notebook,\n",
    "        reads_fastq_out=read_fq_path_mixed_strands,\n",
    "        reads_csv_out=read_df_out,\n",
    "        variants_updated_csv_out=mutation_metadata_df_out,\n",
    "    )"
   ]
  },
  {
   "cell_type": "code",
   "execution_count": 21,
   "metadata": {},
   "outputs": [
    {
     "name": "stdout",
     "output_type": "stream",
     "text": [
      "Haplotypecaller, mixed strands\n",
      "Number of reads in STAR BAM (out of 2560000)\n",
      "2589084\n",
      "Number of variants in unfiltered VCF (out of 10000)\n",
      "9961\n",
      "Number of variants in filtered VCF (out of 10000)\n",
      "9936\n"
     ]
    }
   ],
   "source": [
    "print(\"Haplotypecaller, mixed strands\")\n",
    "# !python scripts/run_gatk_haplotypecaller_for_benchmarking.py --synthetic_read_fastq /home/jmrich/Desktop/RLSRWP_2025/data/synthetic_reads_test_easy/synthetic_reads_mixed_strands.fq --skip_accuracy_analysis --out /home/jmrich/Desktop/RLSRWP_2025/data/synthetic_reads_test_easy/GATK_mixed_strands/haplotypecaller --reference_genome_fasta /data/reference/ensembl_grch37_release93/Homo_sapiens.GRCh37.dna.primary_assembly.fa --reference_genome_gtf /data/reference/ensembl_grch37_release93/Homo_sapiens.GRCh37.87.gtf --star_genome_dir data/reference/ensembl_grch37_release93/star_reference --java /home/jmrich/opt/jdk-17.0.12+7/bin/java --picard_jar /home/jmrich/opt/picard.jar --threads 16 --genomes1000_vcf /data/reference/ensembl_grch37_release93/1000GENOMES-phase_3.vcf --disable_tool_default_read_filters --tmp_dir /data/tmp2\n",
    "\n",
    "print(f\"Number of reads in STAR BAM (out of {number_of_variants_to_sample_per_condition * mutant_sequencing_depth})\")\n",
    "!samtools view -c -F 4 /home/jmrich/Desktop/RLSRWP_2025/data/synthetic_reads_test_easy/GATK_mixed_strands/haplotypecaller/alignment/sample_Aligned.sortedByCoord.out.bam\n",
    "\n",
    "print(f\"Number of variants in unfiltered VCF (out of {number_of_variants_to_sample_per_condition})\")\n",
    "!zcat /home/jmrich/Desktop/RLSRWP_2025/data/synthetic_reads_test_easy/GATK_mixed_strands/haplotypecaller/vcfs/haplotypecaller/haplotypecaller_output_unfiltered.g.vcf.gz | wc -l\n",
    "\n",
    "print(f\"Number of variants in filtered VCF (out of {number_of_variants_to_sample_per_condition})\")\n",
    "!zcat /home/jmrich/Desktop/RLSRWP_2025/data/synthetic_reads_test_easy/GATK_mixed_strands/haplotypecaller/vcfs/haplotypecaller/haplotypecaller_output_filtered_applied.vcf.gz | wc -l"
   ]
  },
  {
   "cell_type": "code",
   "execution_count": 26,
   "metadata": {},
   "outputs": [
    {
     "name": "stdout",
     "output_type": "stream",
     "text": [
      "Mutect2, mixed strands\n",
      "Number of reads in STAR BAM (out of 2560000)\n",
      "2589084\n",
      "Number of variants in unfiltered VCF (out of 10000)\n",
      "9986\n",
      "Number of variants in filtered VCF (out of 10000)\n",
      "7791\n"
     ]
    }
   ],
   "source": [
    "print(\"Mutect2, mixed strands\")\n",
    "# !python scripts/run_gatk_mutect2_for_benchmarking.py --synthetic_read_fastq /home/jmrich/Desktop/RLSRWP_2025/data/synthetic_reads_test_easy/synthetic_reads_mixed_strands.fq --skip_accuracy_analysis --out /home/jmrich/Desktop/RLSRWP_2025/data/synthetic_reads_test_easy/GATK_mixed_strands/mutect2 --reference_genome_fasta /data/reference/ensembl_grch37_release93/Homo_sapiens.GRCh37.dna.primary_assembly.fa --reference_genome_gtf /data/reference/ensembl_grch37_release93/Homo_sapiens.GRCh37.87.gtf --star_genome_dir data/reference/ensembl_grch37_release93/star_reference --java /home/jmrich/opt/jdk-17.0.12+7/bin/java --picard_jar /home/jmrich/opt/picard.jar --threads 16 --genomes1000_vcf /data/reference/ensembl_grch37_release93/1000GENOMES-phase_3.vcf --disable_tool_default_read_filters --tmp_dir /data/tmp3\n",
    "\n",
    "print(f\"Number of reads in STAR BAM (out of {number_of_variants_to_sample_per_condition * mutant_sequencing_depth})\")\n",
    "!samtools view -c -F 4 /home/jmrich/Desktop/RLSRWP_2025/data/synthetic_reads_test_easy/GATK_mixed_strands/mutect2/alignment/sample_Aligned.sortedByCoord.out.bam\n",
    "\n",
    "print(f\"Number of variants in unfiltered VCF (out of {number_of_variants_to_sample_per_condition})\")\n",
    "!zcat /home/jmrich/Desktop/RLSRWP_2025/data/synthetic_reads_test_easy/GATK_mixed_strands/mutect2/vcfs/mutect2/mutect2_output_unfiltered.g.vcf.gz | wc -l\n",
    "\n",
    "print(f\"Number of variants in filtered VCF (out of {number_of_variants_to_sample_per_condition})\")\n",
    "!zcat /home/jmrich/Desktop/RLSRWP_2025/data/synthetic_reads_test_easy/GATK_mixed_strands/mutect2/vcfs/mutect2/mutect2_output_filtered_applied.vcf.gz | wc -l"
   ]
  },
  {
   "cell_type": "code",
   "execution_count": null,
   "metadata": {},
   "outputs": [
    {
     "name": "stdout",
     "output_type": "stream",
     "text": [
      "155780\n",
      "127822\n"
     ]
    }
   ],
   "source": [
    "!zcat /home/jmrich/Desktop/RLSRWP_2025/data/variant_simulation_alternative_tools/vcfs/haplotypecaller/haplotypecaller_output_unfiltered.g.vcf.gz | wc -l\n",
    "!zcat /home/jmrich/Desktop/RLSRWP_2025/data/variant_simulation_alternative_tools/vcfs/haplotypecaller/haplotypecaller_output_filtered_applied.vcf.gz | wc -l"
   ]
  },
  {
   "cell_type": "markdown",
   "metadata": {},
   "source": [
    "# Unrelated stuff"
   ]
  },
  {
   "cell_type": "code",
   "execution_count": 6,
   "metadata": {},
   "outputs": [
    {
     "name": "stdout",
     "output_type": "stream",
     "text": [
      "Dry run is true. Run the following command in the terminal, or set dry_run = False:\n",
      "sudo docker run --rm -it -v /data/simulated_data_output:/data/simulated_data_output -v /data/variant_simulation_alternative_tools3/vcfs/haplotypecaller:/data/variant_simulation_alternative_tools3/vcfs/haplotypecaller -v /data/reference/ensembl_grch37_release93:/data/reference/ensembl_grch37_release93 -v /home/jmrich/Desktop/RLSRWP_2025/happy_new:/home/jmrich/Desktop/RLSRWP_2025/happy_new mgibio/hap.py:v0.3.12 /opt/hap.py/bin/hap.py -r /data/reference/ensembl_grch37_release93/Homo_sapiens.GRCh37.dna.primary_assembly.fa --engine=scmp-somatic -o /home/jmrich/Desktop/RLSRWP_2025/happy_new/happy /data/simulated_data_output/synthetic_cosmic_simulated_reads.vcf.gz /data/variant_simulation_alternative_tools3/vcfs/haplotypecaller/haplotypecaller_output_unfiltered.g.vcf.gz\n"
     ]
    }
   ],
   "source": [
    "import importlib\n",
    "import RLSRWP_2025.seq_utils\n",
    "importlib.reload(RLSRWP_2025.seq_utils)\n",
    "from RLSRWP_2025.seq_utils import compare_two_vcfs_with_hap_py\n",
    "\n",
    "#!!! this one-liner should do everything below\n",
    "# from RLSRWP_2025 import compare_two_vcfs_with_hap_py\n",
    "\n",
    "ground_truth_vcf = \"/data/simulated_data_output/synthetic_cosmic_simulated_reads.vcf.gz\"\n",
    "test_vcf = \"/data/variant_simulation_alternative_tools3/vcfs/haplotypecaller/haplotypecaller_output_unfiltered.g.vcf.gz\"  # \"/data/variant_simulation_alternative_tools/vcfs/haplotypecaller/haplotypecaller_output_unfiltered.g.vcf.gz\"\n",
    "reference_fasta = \"/data/reference/ensembl_grch37_release93/Homo_sapiens.GRCh37.dna.primary_assembly.fa\"\n",
    "unique_mcrs_df_path = \"/data/simulated_data_output/unique_mcrs_df.csv\"\n",
    "output_dir = \"/home/jmrich/Desktop/RLSRWP_2025/happy_new\"\n",
    "package_name = \"gatk_haplotypecaller\"\n",
    "\n",
    "dry_run = True\n",
    "compare_two_vcfs_with_hap_py(ground_truth_vcf = ground_truth_vcf, test_vcf = test_vcf, reference_fasta = reference_fasta, output_dir = output_dir, unique_mcrs_df = unique_mcrs_df_path, package_name = package_name, dry_run = dry_run)"
   ]
  },
  {
   "cell_type": "code",
   "execution_count": 1,
   "metadata": {},
   "outputs": [
    {
     "name": "stderr",
     "output_type": "stream",
     "text": [
      "/tmp/ipykernel_247813/731798.py:14: DtypeWarning: Columns (0) have mixed types. Specify dtype option on import or set low_memory=False.\n",
      "  cosmic_df_with_vcf_info_df = pd.read_csv(cosmic_df_with_vcf_info_path)\n"
     ]
    }
   ],
   "source": [
    "import os\n",
    "import shutil\n",
    "import pandas as pd\n",
    "import gzip\n",
    "import pysam\n",
    "from tqdm import tqdm\n",
    "import varseek as vk\n",
    "\n",
    "unique_mcrs_df_path = \"/home/jmrich/Desktop/RLSRWP_2025/data/simulated_data_output/unique_mcrs_df.csv\"\n",
    "unique_mcrs_df_original_path = \"/home/jmrich/Desktop/RLSRWP_2025/data/simulated_data_output/unique_mcrs_df_original.csv\"\n",
    "cosmic_df_with_vcf_info_path = \"/home/jmrich/Desktop/RLSRWP_2025/data/reference/cosmic/CancerMutationCensus_AllData_Tsv_v101_GRCh37/CancerMutationCensus_AllData_v101_GRCh37_vcf_info_for_fig2.csv\"\n",
    "\n",
    "unique_mcrs_df = pd.read_csv(unique_mcrs_df_path, usecols=[\"vcrs_header\"])\n",
    "cosmic_df_with_vcf_info_df = pd.read_csv(cosmic_df_with_vcf_info_path)"
   ]
  },
  {
   "cell_type": "markdown",
   "metadata": {},
   "source": [
    "- explode unique_mcrs_df['vcrs_header'] by semicolon\n",
    "- left merge in cosmic_df_with_vcf_info_df into unique_mcrs_df by ID for cosmic_df_with_vcf_info_df and vcrs_header for unique_mcrs_df\n",
    "- groupby unique_mcrs_df with column vcrs_id, putting values in a list for CHROM, POS, REF, ALT and taking the first value for vcrs_header_original\n",
    "- take the set of each of CHROM, POS, REF, ALT\n",
    "- filter out rows with length of any of these sets larger than 1\n",
    "- take the first element of each set as the new entry"
   ]
  },
  {
   "cell_type": "code",
   "execution_count": null,
   "metadata": {},
   "outputs": [],
   "source": [
    "# give each row in unique_mcrs_df a unique ID\n",
    "unique_mcrs_df['vcrs_id'] = ['vcrs_' + str(i) for i in range(1, len(unique_mcrs_df) + 1)]\n",
    "unique_mcrs_df[['vcrs_id', 'vcrs_header']].to_csv(\"/home/jmrich/Desktop/RLSRWP_2025/data/simulated_data_output/unique_mcrs_id_to_header_dict_for_vcf.csv\", index=False)\n",
    "\n",
    "# Step 1: Explode `vcrs_header` by semicolon\n",
    "unique_mcrs_df['vcrs_header_original'] = unique_mcrs_df['vcrs_header']\n",
    "unique_mcrs_df = unique_mcrs_df.assign(\n",
    "    vcrs_header=unique_mcrs_df['vcrs_header'].str.split(';')\n",
    ").explode('vcrs_header')\n",
    "\n",
    "# Step 2: Left merge with cosmic_df_with_vcf_info_df on vcrs_header ↔ ID\n",
    "merged_df = unique_mcrs_df.merge(\n",
    "    cosmic_df_with_vcf_info_df,\n",
    "    how='left',\n",
    "    left_on='vcrs_header',\n",
    "    right_on='ID'\n",
    ")\n",
    "\n",
    "# Step 3: Group by vcrs_id, aggregate lists and take first original header\n",
    "grouped = merged_df.groupby('vcrs_id').agg({\n",
    "    'CHROM': lambda x: list(x.dropna()),\n",
    "    'POS': lambda x: list(x.dropna()),\n",
    "    'REF': lambda x: list(x.dropna()),\n",
    "    'ALT': lambda x: list(x.dropna()),\n",
    "    'vcrs_header_original': 'first'\n",
    "}).reset_index()\n",
    "\n",
    "# Step 4: Convert each to a set\n",
    "grouped['CHROM_set'] = grouped['CHROM'].apply(set)\n",
    "grouped['POS_set'] = grouped['POS'].apply(set)\n",
    "grouped['REF_set'] = grouped['REF'].apply(set)\n",
    "grouped['ALT_set'] = grouped['ALT'].apply(set)\n",
    "\n",
    "# Step 5: Filter rows where any set has length > 1\n",
    "filtered = grouped[\n",
    "    (grouped['CHROM_set'].apply(len) == 1) &\n",
    "    (grouped['POS_set'].apply(len) == 1) &\n",
    "    (grouped['REF_set'].apply(len) == 1) &\n",
    "    (grouped['ALT_set'].apply(len) == 1)\n",
    "].copy()\n",
    "\n",
    "# Step 6: Take first (only) element of each set\n",
    "filtered['CHROM'] = filtered['CHROM_set'].apply(lambda s: next(iter(s)))\n",
    "filtered['POS']   = filtered['POS_set'].apply(lambda s: next(iter(s)))\n",
    "filtered['REF']   = filtered['REF_set'].apply(lambda s: next(iter(s)))\n",
    "filtered['ALT']   = filtered['ALT_set'].apply(lambda s: next(iter(s)))\n",
    "\n",
    "filtered['POS'] = filtered['POS'].astype(int)\n",
    "\n",
    "# Optional: Drop the intermediate set columns\n",
    "filtered = filtered.drop(columns=['CHROM_set', 'POS_set', 'REF_set', 'ALT_set'])\n",
    "# filtered = filtered.rename(columns={'vcrs_header_original': 'ID'})\n",
    "filtered = filtered.rename(columns={'vcrs_id': 'ID'})"
   ]
  },
  {
   "cell_type": "code",
   "execution_count": 3,
   "metadata": {},
   "outputs": [
    {
     "name": "stdout",
     "output_type": "stream",
     "text": [
      "81108\n",
      "25807\n"
     ]
    }
   ],
   "source": [
    "print((unique_mcrs_df['vcrs_header_original'].str.contains(';')).sum())  # number with semicolon\n",
    "print(len(grouped) - len(filtered))  # number with different VCF info"
   ]
  },
  {
   "cell_type": "code",
   "execution_count": 9,
   "metadata": {},
   "outputs": [],
   "source": [
    "cosmic_simulated_vcf_file_name = \"synthetic_cosmic_simulated_reads.vcf.gz\"\n",
    "cosmic_simulated_vcf = os.path.join(\"/data\", \"simulated_data_output\", cosmic_simulated_vcf_file_name)\n",
    "reference_genome_fasta = \"/data/reference/ensembl_grch37_release93/Homo_sapiens.GRCh37.dna.primary_assembly.fa\"\n",
    "reference_genome_fasta_index = reference_genome_fasta.replace(\".fa\", \".fa.fai\")\n",
    "\n",
    "if not os.path.isfile(cosmic_simulated_vcf):\n",
    "    unsorted_vcf = cosmic_simulated_vcf.replace(\".vcf.gz\", \"_unsorted_without_sample.vcf\")\n",
    "    vk.utils.write_to_vcf(filtered, output_file = unsorted_vcf)\n",
    "\n",
    "    # add FORMAT/SAMPLE\n",
    "    output_vcf_path = cosmic_simulated_vcf.replace(\".vcf\", \"_unsorted.vcf\")\n",
    "\n",
    "    # Open original VCF\n",
    "    in_vcf = pysam.VariantFile(unsorted_vcf, \"r\")\n",
    "\n",
    "    # Clone header and add FORMAT and sample\n",
    "    new_header = in_vcf.header.copy()\n",
    "\n",
    "    # Add missing contigs to new_header\n",
    "    for rec in in_vcf.fetch():\n",
    "        contig = rec.contig\n",
    "        if contig not in new_header.contigs:\n",
    "            new_header.contigs.add(contig, length=1_000_000)  # Dummy length\n",
    "\n",
    "    # Reset the iterator\n",
    "    in_vcf.close()\n",
    "    in_vcf = pysam.VariantFile(unsorted_vcf, \"r\")\n",
    "\n",
    "    new_header.formats.add(\"GT\", 1, \"String\", \"Genotype\")\n",
    "    new_header.add_sample(\"synthetic\")\n",
    "\n",
    "    # Open output VCF\n",
    "    out_vcf = pysam.VariantFile(output_vcf_path, \"w\", header=new_header)\n",
    "\n",
    "    # Write each record with dummy genotype\n",
    "    for rec in in_vcf:\n",
    "        # Create a new record to match the new header\n",
    "        new_rec = out_vcf.new_record(contig=rec.contig,\n",
    "                                    start=rec.start,\n",
    "                                    stop=rec.stop,\n",
    "                                    id=rec.id,\n",
    "                                    qual=rec.qual,\n",
    "                                    filter=rec.filter.keys(),\n",
    "                                    alleles=rec.alleles,\n",
    "                                    info=dict(rec.info))\n",
    "\n",
    "        new_rec.samples[\"synthetic\"][\"GT\"] = (0, 1)  # Set genotype\n",
    "        out_vcf.write(new_rec)\n",
    "\n",
    "    # Close files\n",
    "    in_vcf.close()\n",
    "    out_vcf.close()\n",
    "\n",
    "    !bcftools sort -O z -o {cosmic_simulated_vcf} {output_vcf_path}\n",
    "\n",
    "if not os.path.isfile(f\"{cosmic_simulated_vcf}.tbi\"):\n",
    "    !bcftools index -t {cosmic_simulated_vcf}"
   ]
  },
  {
   "cell_type": "code",
   "execution_count": 13,
   "metadata": {},
   "outputs": [],
   "source": [
    "happy_base_dir = \"/home/jmrich/Desktop/RLSRWP_2025\"\n",
    "happy_output_dir_name = \"happy\"\n",
    "\n",
    "os.makedirs(os.path.join(happy_base_dir, happy_output_dir_name), exist_ok=True)\n",
    "cosmic_simulated_vcf_in_happy_base_dir = os.path.join(happy_base_dir, happy_output_dir_name, cosmic_simulated_vcf_file_name)\n",
    "reference_genome_fasta_in_happy_base_dir = os.path.join(happy_base_dir, happy_output_dir_name, \"Homo_sapiens.GRCh37.dna.primary_assembly.fa\")\n",
    "reference_genome_fasta_index_in_happy_base_dir = reference_genome_fasta_in_happy_base_dir.replace(\".fa\", \".fa.fai\")\n",
    "if not os.path.exists(cosmic_simulated_vcf_in_happy_base_dir):\n",
    "    shutil.copyfile(cosmic_simulated_vcf, cosmic_simulated_vcf_in_happy_base_dir)\n",
    "if not os.path.exists(reference_genome_fasta_in_happy_base_dir):\n",
    "    shutil.copyfile(reference_genome_fasta, reference_genome_fasta_in_happy_base_dir)\n",
    "    shutil.copyfile(reference_genome_fasta_index, reference_genome_fasta_index_in_happy_base_dir)"
   ]
  },
  {
   "cell_type": "code",
   "execution_count": 30,
   "metadata": {},
   "outputs": [
    {
     "name": "stdout",
     "output_type": "stream",
     "text": [
      "sudo docker run --rm -it -v /home/jmrich/Desktop/RLSRWP_2025:/data mgibio/hap.py:v0.3.12 /opt/hap.py/bin/hap.py -r /data/happy/Homo_sapiens.GRCh37.dna.primary_assembly.fa --engine=scmp-somatic -o /data/happy/gatk_haplotypecaller6/happy /data/happy/synthetic_cosmic_simulated_reads.vcf.gz /data/happy/haplotypecaller_output_unfiltered.g.vcf.gz\n"
     ]
    }
   ],
   "source": [
    "alternative_tool = \"gatk_haplotypecaller6\"\n",
    "alternative_tool_vcf_file_name = \"haplotypecaller_output_unfiltered.g.vcf.gz\"\n",
    "alternative_tool_vcf = f\"/home/jmrich/Desktop/RLSRWP_2025/data/variant_simulation_alternative_tools/vcfs/haplotypecaller/{alternative_tool_vcf_file_name}\"\n",
    "alternative_tool_vcf_in_happy_base_dir = os.path.join(happy_base_dir, happy_output_dir_name, alternative_tool_vcf_file_name)\n",
    "\n",
    "if not os.path.exists(alternative_tool_vcf_in_happy_base_dir):\n",
    "    shutil.copyfile(alternative_tool_vcf, alternative_tool_vcf_in_happy_base_dir)\n",
    "\n",
    "happy_out_dir = os.path.join(happy_base_dir, happy_output_dir_name, alternative_tool)\n",
    "os.makedirs(happy_out_dir, exist_ok=True)\n",
    "if not os.listdir(happy_out_dir):\n",
    "    print(f\"sudo docker run --rm -it -v {happy_base_dir}:/data mgibio/hap.py:v0.3.12 /opt/hap.py/bin/hap.py -r /data/{happy_output_dir_name}/Homo_sapiens.GRCh37.dna.primary_assembly.fa --engine=scmp-somatic -o /data/{happy_output_dir_name}/{alternative_tool}/happy /data/{happy_output_dir_name}/{cosmic_simulated_vcf_file_name} /data/{happy_output_dir_name}/{alternative_tool_vcf_file_name}\")\n",
    "    # !sudo docker run --rm -it -v {happy_base_dir}:/data mgibio/hap.py:v0.3.12 /opt/hap.py/bin/hap.py -r /data/{happy_output_dir_name}/{Homo_sapiens.GRCh37.dna.primary_assembly.fa} --engine=scmp-somatic -o /data/{happy_output_dir_name}/{alternative_tool}/happy /data/{happy_output_dir_name}/{cosmic_simulated_vcf_file_name} /data/{happy_output_dir_name}/{alternative_tool_vcf_file_name}"
   ]
  },
  {
   "cell_type": "code",
   "execution_count": null,
   "metadata": {},
   "outputs": [],
   "source": [
    "print(f\"sudo docker run --rm -it -v {happy_base_dir}:/data mgibio/hap.py:v0.3.12 /opt/hap.py/bin/hap.py -r /data/{happy_output_dir_name}/Homo_sapiens.GRCh37.dna.primary_assembly.fa --engine=scmp-somatic -o /data/{happy_output_dir_name}/{alternative_tool}/happy /data/{happy_output_dir_name}/{cosmic_simulated_vcf_file_name} /data/{happy_output_dir_name}/{alternative_tool_vcf_file_name}\")"
   ]
  },
  {
   "cell_type": "code",
   "execution_count": 15,
   "metadata": {},
   "outputs": [
    {
     "name": "stdout",
     "output_type": "stream",
     "text": [
      "{'TP': 339, 'FP': 3, 'FN': 5303345}\n"
     ]
    }
   ],
   "source": [
    "summary_csv_path = os.path.join(happy_out_dir, \"happy.summary.csv\")\n",
    "summary_df = pd.read_csv(summary_csv_path)\n",
    "summary_df = summary_df.loc[summary_df[\"Filter\"] == \"ALL\"]\n",
    "\n",
    "# Sum total TP, FP, FN across all rows\n",
    "total_tp = summary_df[\"TRUTH.TP\"].sum()\n",
    "total_fp = summary_df[\"QUERY.FP\"].sum()\n",
    "total_fn = summary_df[\"TRUTH.FN\"].sum()\n",
    "\n",
    "# Store in dictionary\n",
    "results = {\n",
    "    \"TP\": int(total_tp),\n",
    "    \"FP\": int(total_fp),\n",
    "    \"FN\": int(total_fn),\n",
    "}\n",
    "\n",
    "# # Save to file\n",
    "# with open(\"happy_counts.txt\", \"w\") as f:\n",
    "#     for k, v in results.items():\n",
    "#         f.write(f\"{k}: {v}\\n\")\n",
    "\n",
    "# Also print if desired\n",
    "print(results)"
   ]
  },
  {
   "cell_type": "code",
   "execution_count": 40,
   "metadata": {},
   "outputs": [
    {
     "name": "stdout",
     "output_type": "stream",
     "text": [
      "127002\n",
      "254835\n",
      "2722\n",
      "4944932\n"
     ]
    }
   ],
   "source": [
    "unique_mcrs_df = pd.read_csv(unique_mcrs_df_original_path)\n",
    "\n",
    "# Step 1: Load happy.vcf.gz (annotated VCF)\n",
    "happy_vcf = pysam.VariantFile(os.path.join(happy_out_dir, \"happy.vcf.gz\"))\n",
    "\n",
    "# Step 2: Load original VCF (with IDs)\n",
    "orig_vcf = pysam.VariantFile(cosmic_simulated_vcf)\n",
    "\n",
    "# Step 3: Build a lookup dictionary from original VCF\n",
    "orig_lookup = {}\n",
    "for rec in orig_vcf.fetch():\n",
    "    key = (rec.contig, rec.pos, rec.ref, tuple(rec.alts))\n",
    "    orig_lookup[key] = rec.id\n",
    "\n",
    "# Step 4: Collect IDs based on TP and FN\n",
    "detected_ids_to_query_dp = {}\n",
    "undetected_ids = set()\n",
    "\n",
    "for rec in happy_vcf.fetch():\n",
    "    for sample in rec.samples.values():\n",
    "        bd = sample.get(\"BD\")\n",
    "        key = (rec.contig, rec.pos, rec.ref, tuple(rec.alts))\n",
    "        match_id = orig_lookup.get(key)\n",
    "        if match_id and bd in {\"TP\", \"FP\"}:\n",
    "            query_dp = rec.info.get(\"QUERY_DP\")\n",
    "            detected_ids_to_query_dp[match_id] = query_dp\n",
    "        elif match_id and bd == \"FN\":\n",
    "            undetected_ids.add(match_id)\n",
    "\n",
    "\n",
    "# TP: in detected and in synthetic\n",
    "unique_mcrs_df['TP_gatk_haplotypecaller'] = (\n",
    "    unique_mcrs_df['vcrs_id'].isin(detected_ids_to_query_dp) &\n",
    "    unique_mcrs_df['included_in_synthetic_reads_mutant']\n",
    ")\n",
    "\n",
    "# FN: not in detected but in synthetic\n",
    "unique_mcrs_df['FN_gatk_haplotypecaller'] = (\n",
    "    ~unique_mcrs_df['vcrs_id'].isin(detected_ids_to_query_dp) &\n",
    "    unique_mcrs_df['included_in_synthetic_reads_mutant']\n",
    ")\n",
    "\n",
    "# FP: in detected but NOT in synthetic\n",
    "unique_mcrs_df['FP_gatk_haplotypecaller'] = (\n",
    "    unique_mcrs_df['vcrs_id'].isin(detected_ids_to_query_dp) &\n",
    "    ~unique_mcrs_df['included_in_synthetic_reads_mutant']\n",
    ")\n",
    "\n",
    "# TN: not in undetected and NOT in synthetic\n",
    "unique_mcrs_df['TN_gatk_haplotypecaller'] = (\n",
    "    ~unique_mcrs_df['vcrs_id'].isin(detected_ids_to_query_dp) &\n",
    "    ~unique_mcrs_df['included_in_synthetic_reads_mutant']\n",
    ")\n",
    "\n",
    "print(unique_mcrs_df['TP_gatk_haplotypecaller'].sum())\n",
    "print(unique_mcrs_df['FN_gatk_haplotypecaller'].sum())\n",
    "print(unique_mcrs_df['FP_gatk_haplotypecaller'].sum())\n",
    "print(unique_mcrs_df['TN_gatk_haplotypecaller'].sum())"
   ]
  },
  {
   "cell_type": "markdown",
   "metadata": {},
   "source": [
    "### STOP HERE - the code below was just for testing"
   ]
  },
  {
   "cell_type": "code",
   "execution_count": 10,
   "metadata": {},
   "outputs": [
    {
     "name": "stderr",
     "output_type": "stream",
     "text": [
      "Scanning VCF for FPs: 5303862it [00:22, 234898.21it/s]                             \n"
     ]
    }
   ],
   "source": [
    "# get FP lines\n",
    "fp_lines = []\n",
    "with gzip.open(os.path.join(happy_out_dir, \"happy.vcf.gz\"), \"rt\") as f:\n",
    "    total_lines = sum(1 for line in f if not line.startswith(\"#\"))\n",
    "\n",
    "with gzip.open(os.path.join(happy_out_dir, \"happy.vcf.gz\"), \"rt\") as f:  # \"rt\" = read text mode\n",
    "    for line in tqdm(f, total=total_lines, desc=\"Scanning VCF for FPs\"):\n",
    "        if line.startswith(\"#\"):\n",
    "            continue\n",
    "        fields = line.strip().split(\"\\t\")\n",
    "        format_fields = fields[8].split(\":\")\n",
    "        sample_fields = fields[9:]  # assume >=1 samples\n",
    "        for sample in sample_fields:\n",
    "            sample_values = sample.split(\":\")\n",
    "            sample_dict = dict(zip(format_fields, sample_values))\n",
    "            if sample_dict.get(\"BD\") == \"FP\":\n",
    "                fp_lines.append(line.strip())\n",
    "                break  # no need to check more samples\n",
    "\n",
    "# Now fp_lines is a list of VCF lines marked as FP"
   ]
  },
  {
   "cell_type": "code",
   "execution_count": 13,
   "metadata": {},
   "outputs": [
    {
     "data": {
      "text/plain": [
       "['1\\t1564591\\t.\\tG\\tA\\t4858.06\\t.\\tBS=1564522\\tGT:BD:BK:BI:BVT:BLT:QQ\\t0/1:FN:am:ti:SNP:het:.\\t1/1:FP:am:ti:SNP:homalt:4858.06',\n",
       " '1\\t2433568\\t.\\tC\\tT\\t1812.06\\t.\\tBS=2433568\\tGT:BD:BK:BI:BVT:BLT:QQ\\t0/1:FN:am:ti:SNP:het:.\\t1/1:FP:am:ti:SNP:homalt:1812.06',\n",
       " '1\\t3160684\\t.\\tG\\tA\\t2021.06\\t.\\tBS=3160661\\tGT:BD:BK:BI:BVT:BLT:QQ\\t0/1:FN:am:ti:SNP:het:.\\t1/1:FP:am:ti:SNP:homalt:2021.06',\n",
       " '1\\t3547556\\t.\\tG\\tA\\t6116.06\\t.\\tBS=3547542\\tGT:BD:BK:BI:BVT:BLT:QQ\\t0/1:FN:am:ti:SNP:het:.\\t1/1:FP:am:ti:SNP:homalt:6116.06',\n",
       " '1\\t6445578\\t.\\tG\\tA\\t2083.06\\t.\\tBS=6445565\\tGT:BD:BK:BI:BVT:BLT:QQ\\t0/1:FN:am:ti:SNP:het:.\\t1/1:FP:am:ti:SNP:homalt:2083.06',\n",
       " '1\\t10529339\\t.\\tC\\tG\\t6168.06\\t.\\tBS=10529244\\tGT:BD:BK:BI:BVT:BLT:QQ\\t0/1:FN:am:tv:SNP:het:.\\t1/1:FP:am:tv:SNP:homalt:6168.06',\n",
       " '1\\t11015082\\t.\\tC\\tA\\t2615.06\\t.\\tBS=11015049\\tGT:BD:BK:BI:BVT:BLT:QQ\\t0/1:FN:am:tv:SNP:het:.\\t1/1:FP:am:tv:SNP:homalt:2615.06',\n",
       " '1\\t36755199\\t.\\tA\\tG\\t6782.06\\t.\\tBS=36754933\\tGT:BD:BK:BI:BVT:BLT:QQ\\t0/1:FN:am:ti:SNP:het:.\\t1/1:FP:am:ti:SNP:homalt:6782.06',\n",
       " '1\\t40131807\\t.\\tG\\tA\\t4036.06\\t.\\tBS=40131763\\tGT:BD:BK:BI:BVT:BLT:QQ\\t0/1:FN:am:ti:SNP:het:.\\t1/1:FP:am:ti:SNP:homalt:4036.06',\n",
       " '1\\t41296821\\t.\\tA\\tC\\t4351.06\\t.\\tBS=41296756\\tGT:BD:BK:BI:BVT:BLT:QQ\\t0/1:FN:am:tv:SNP:het:.\\t1/1:FP:am:tv:SNP:homalt:4351.06',\n",
       " '1\\t64605890\\t.\\tG\\tA\\t4469.06\\t.\\tBS=64605799\\tGT:BD:BK:BI:BVT:BLT:QQ\\t0/1:FN:am:ti:SNP:het:.\\t1/1:FP:am:ti:SNP:homalt:4469.06',\n",
       " '1\\t68659767\\t.\\tC\\tA\\t5789.06\\t.\\tBS=68659664\\tGT:BD:BK:BI:BVT:BLT:QQ\\t0/1:FN:am:tv:SNP:het:.\\t1/1:FP:am:tv:SNP:homalt:5789.06',\n",
       " '1\\t85598628\\t.\\tA\\tG\\t5149.06\\t.\\tBS=85598547\\tGT:BD:BK:BI:BVT:BLT:QQ\\t0/1:FN:am:ti:SNP:het:.\\t1/1:FP:am:ti:SNP:homalt:5149.06',\n",
       " '1\\t118568008\\t.\\tC\\tT\\t6072.06\\t.\\tBS=118567863\\tGT:BD:BK:BI:BVT:BLT:QQ\\t0/1:FN:am:ti:SNP:het:.\\t1/1:FP:am:ti:SNP:homalt:6072.06',\n",
       " '1\\t145578300\\t.\\tG\\tA\\t5937.06\\t.\\tBS=145578079\\tGT:BD:BK:BI:BVT:BLT:QQ\\t0/1:FN:am:ti:SNP:het:.\\t1/1:FP:am:ti:SNP:homalt:5937.06',\n",
       " '1\\t150779205\\t.\\tC\\tA\\t2218.06\\t.\\tBS=150779180\\tGT:BD:BK:BI:BVT:BLT:QQ\\t0/1:FN:am:tv:SNP:het:.\\t1/1:FP:am:tv:SNP:homalt:2218.06',\n",
       " '1\\t152785149\\t.\\tG\\tT\\t5221.06\\t.\\tBS=152784926\\tGT:BD:BK:BI:BVT:BLT:QQ\\t0/1:FN:am:tv:SNP:het:.\\t1/1:FP:am:tv:SNP:homalt:5221.06',\n",
       " '1\\t154437778\\t.\\tG\\tT\\t6170.06\\t.\\tBS=154437621\\tGT:BD:BK:BI:BVT:BLT:QQ\\t0/1:FN:am:tv:SNP:het:.\\t1/1:FP:am:tv:SNP:homalt:6170.06',\n",
       " '1\\t154794647\\t.\\tG\\tA\\t4063.06\\t.\\tBS=154794565\\tGT:BD:BK:BI:BVT:BLT:QQ\\t0/1:FN:am:ti:SNP:het:.\\t1/1:FP:am:ti:SNP:homalt:4063.06',\n",
       " '1\\t155030515\\t.\\tG\\tA\\t6036.06\\t.\\tBS=155030333\\tGT:BD:BK:BI:BVT:BLT:QQ\\t0/1:FN:am:ti:SNP:het:.\\t1/1:FP:am:ti:SNP:homalt:6036.06',\n",
       " '1\\t155223718\\t.\\tG\\tA\\t3232.06\\t.\\tBS=155223660\\tGT:BD:BK:BI:BVT:BLT:QQ\\t0/1:FN:am:ti:SNP:het:.\\t1/1:FP:am:ti:SNP:homalt:3232.06',\n",
       " '1\\t156182958\\t.\\tC\\tT\\t6104.06\\t.\\tBS=156182813\\tGT:BD:BK:BI:BVT:BLT:QQ\\t0/1:FN:am:ti:SNP:het:.\\t1/1:FP:am:ti:SNP:homalt:6104.06',\n",
       " '1\\t156714836\\t.\\tG\\tC\\t3081.06\\t.\\tBS=156714804\\tGT:BD:BK:BI:BVT:BLT:QQ\\t0/1:FN:am:tv:SNP:het:.\\t1/1:FP:am:tv:SNP:homalt:3081.06',\n",
       " '1\\t156927597\\t.\\tC\\tG\\t1792.06\\t.\\tBS=156927594\\tGT:BD:BK:BI:BVT:BLT:QQ\\t0/1:FN:am:tv:SNP:het:.\\t1/1:FP:am:tv:SNP:homalt:1792.06',\n",
       " '1\\t160012206\\t.\\tC\\tG\\t6839.06\\t.\\tBS=160011189\\tGT:BD:BK:BI:BVT:BLT:QQ\\t0/1:FN:am:tv:SNP:het:.\\t1/1:FP:am:tv:SNP:homalt:6839.06',\n",
       " '1\\t161519569\\t.\\tC\\tG\\t5029.06\\t.\\tBS=161519507\\tGT:BD:BK:BI:BVT:BLT:QQ\\t0/1:FN:am:tv:SNP:het:.\\t1/1:FP:am:tv:SNP:homalt:5029.06',\n",
       " '1\\t167095843\\t.\\tC\\tT\\t4931.06\\t.\\tBS=167095025\\tGT:BD:BK:BI:BVT:BLT:QQ\\t0/1:FN:am:ti:SNP:het:.\\t1/1:FP:am:ti:SNP:homalt:4931.06',\n",
       " '1\\t169512037\\t.\\tA\\tT\\t5811.06\\t.\\tBS=169509538\\tGT:BD:BK:BI:BVT:BLT:QQ\\t0/1:FN:am:tv:SNP:het:.\\t1/1:FP:am:tv:SNP:homalt:5811.06',\n",
       " '1\\t172635152\\t.\\tT\\tA\\t6179.06\\t.\\tBS=172634772\\tGT:BD:BK:BI:BVT:BLT:QQ\\t0/1:FN:am:tv:SNP:het:.\\t1/1:FP:am:tv:SNP:homalt:6179.06',\n",
       " '1\\t179312000\\t.\\tC\\tA\\t1179.06\\t.\\tBS=179311997\\tGT:BD:BK:BI:BVT:BLT:QQ\\t0/1:FN:am:tv:SNP:het:.\\t1/1:FP:am:tv:SNP:homalt:1179.06',\n",
       " '1\\t179526277\\t.\\tG\\tA\\t6268.06\\t.\\tBS=179526170\\tGT:BD:BK:BI:BVT:BLT:QQ\\t0/1:FN:am:ti:SNP:het:.\\t1/1:FP:am:ti:SNP:homalt:6268.06',\n",
       " '1\\t186082069\\t.\\tT\\tC\\t7043.06\\t.\\tBS=186081944\\tGT:BD:BK:BI:BVT:BLT:QQ\\t0/1:FN:am:ti:SNP:het:.\\t1/1:FP:am:ti:SNP:homalt:7043.06',\n",
       " '1\\t202533634\\t.\\tG\\tA\\t3194.06\\t.\\tBS=202533577\\tGT:BD:BK:BI:BVT:BLT:QQ\\t0/1:FN:am:ti:SNP:het:.\\t1/1:FP:am:ti:SNP:homalt:3194.06',\n",
       " '1\\t203150294\\t.\\tT\\tC\\t1953.06\\t.\\tBS=203150294\\tGT:BD:BK:BI:BVT:BLT:QQ\\t0/1:FN:am:ti:SNP:het:.\\t1/1:FP:am:ti:SNP:homalt:1953.06',\n",
       " '1\\t216380643\\t.\\tG\\tC\\t2657.06\\t.\\tBS=216380616\\tGT:BD:BK:BI:BVT:BLT:QQ\\t0/1:FN:am:tv:SNP:het:.\\t1/1:FP:am:tv:SNP:homalt:2657.06',\n",
       " '1\\t228482539\\t.\\tG\\tA\\t3554.06\\t.\\tBS=228482481\\tGT:BD:BK:BI:BVT:BLT:QQ\\t0/1:FN:am:ti:SNP:het:.\\t1/1:FP:am:ti:SNP:homalt:3554.06',\n",
       " '1\\t230371818\\t.\\tC\\tG\\t3895.06\\t.\\tBS=230371767\\tGT:BD:BK:BI:BVT:BLT:QQ\\t0/1:FN:am:tv:SNP:het:.\\t1/1:FP:am:tv:SNP:homalt:3895.06',\n",
       " '1\\t235955367\\t.\\tG\\tT\\t4815.06\\t.\\tBS=235955020\\tGT:BD:BK:BI:BVT:BLT:QQ\\t0/1:FN:am:tv:SNP:het:.\\t1/1:FP:am:tv:SNP:homalt:4815.06',\n",
       " '1\\t241675407\\t.\\tC\\tT\\t6182.06\\t.\\tBS=241675284\\tGT:BD:BK:BI:BVT:BLT:QQ\\t0/1:FN:am:ti:SNP:het:.\\t1/1:FP:am:ti:SNP:homalt:6182.06',\n",
       " '1\\t245848889\\t.\\tC\\tT\\t4984.06\\t.\\tBS=245848712\\tGT:BD:BK:BI:BVT:BLT:QQ\\t0/1:FN:am:ti:SNP:het:.\\t1/1:FP:am:ti:SNP:homalt:4984.06',\n",
       " '1\\t245850771\\t.\\tG\\tT\\t5937.06\\t.\\tBS=245848712\\tGT:BD:BK:BI:BVT:BLT:QQ\\t0/1:FN:am:tv:SNP:het:.\\t1/1:FP:am:tv:SNP:homalt:5937.06',\n",
       " '1\\t248262984\\t.\\tT\\tC\\t7473.06\\t.\\tBS=248262681\\tGT:BD:BK:BI:BVT:BLT:QQ\\t0/1:FN:am:ti:SNP:het:.\\t1/1:FP:am:ti:SNP:homalt:7473.06',\n",
       " '10\\t12221106\\t.\\tT\\tC\\t3319.06\\t.\\tBS=12221083\\tGT:BD:BK:BI:BVT:BLT:QQ\\t0/1:FN:am:ti:SNP:het:.\\t1/1:FP:am:ti:SNP:homalt:3319.06',\n",
       " '10\\t17195547\\t.\\tG\\tA\\t2981.06\\t.\\tBS=17195515\\tGT:BD:BK:BI:BVT:BLT:QQ\\t0/1:FN:am:ti:SNP:het:.\\t1/1:FP:am:ti:SNP:homalt:2981.06',\n",
       " '10\\t27703004\\t.\\tG\\tA\\t6024.06\\t.\\tBS=27702095\\tGT:BD:BK:BI:BVT:BLT:QQ\\t0/1:FN:am:ti:SNP:het:.\\t1/1:FP:am:ti:SNP:homalt:6024.06',\n",
       " '10\\t51465353\\t.\\tG\\tT\\t6205.06\\t.\\tBS=51464581\\tGT:BD:BK:BI:BVT:BLT:QQ\\t0/1:FN:am:tv:SNP:het:.\\t1/1:FP:am:tv:SNP:homalt:6205.06',\n",
       " '10\\t82298145\\t.\\tA\\tG\\t6844.06\\t.\\tBS=82298095\\tGT:BD:BK:BI:BVT:BLT:QQ\\t0/1:FN:am:ti:SNP:het:.\\t1/1:FP:am:ti:SNP:homalt:6844.06',\n",
       " '10\\t106139928\\t.\\tG\\tA\\t5042.06\\t.\\tBS=106139794\\tGT:BD:BK:BI:BVT:BLT:QQ\\t0/1:FN:am:ti:SNP:het:.\\t1/1:FP:am:ti:SNP:homalt:5042.06',\n",
       " '10\\t118434679\\t.\\tC\\tA\\t6098.06\\t.\\tBS=118434309\\tGT:BD:BK:BI:BVT:BLT:QQ\\t0/1:FN:am:tv:SNP:het:.\\t1/1:FP:am:tv:SNP:homalt:6098.06',\n",
       " '10\\t123256231\\t.\\tG\\tA\\t5255.06\\t.\\tBS=123256051\\tGT:BD:BK:BI:BVT:BLT:QQ\\t0/1:FN:am:ti:SNP:het:.\\t1/1:FP:am:ti:SNP:homalt:5255.06',\n",
       " '11\\t4976252\\t.\\tG\\tA\\t5227.06\\t.\\tBS=4976005\\tGT:BD:BK:BI:BVT:BLT:QQ\\t0/1:FN:am:ti:SNP:het:.\\t1/1:FP:am:ti:SNP:homalt:5227.06',\n",
       " '11\\t6789406\\t.\\tC\\tA\\t5463.06\\t.\\tBS=6789238\\tGT:BD:BK:BI:BVT:BLT:QQ\\t0/1:FN:am:tv:SNP:het:.\\t1/1:FP:am:tv:SNP:homalt:5463.06',\n",
       " '11\\t7981305\\t.\\tA\\tT\\t6137.06\\t.\\tBS=7981208\\tGT:BD:BK:BI:BVT:BLT:QQ\\t0/1:FN:am:tv:SNP:het:.\\t1/1:FP:am:tv:SNP:homalt:6137.06',\n",
       " '11\\t34477608\\t.\\tC\\tT\\t3146.06\\t.\\tBS=34477563\\tGT:BD:BK:BI:BVT:BLT:QQ\\t0/1:FN:am:ti:SNP:het:.\\t1/1:FP:am:ti:SNP:homalt:3146.06',\n",
       " '11\\t36595396\\t.\\tG\\tA\\t6322.06\\t.\\tBS=36594863\\tGT:BD:BK:BI:BVT:BLT:QQ\\t0/1:FN:am:ti:SNP:het:.\\t1/1:FP:am:ti:SNP:homalt:6322.06',\n",
       " '11\\t44129668\\t.\\tG\\tT\\t6200.06\\t.\\tBS=44129239\\tGT:BD:BK:BI:BVT:BLT:QQ\\t0/1:FN:am:tv:SNP:het:.\\t1/1:FP:am:tv:SNP:homalt:6200.06',\n",
       " '11\\t45947819\\t.\\tG\\tA\\t2959.06\\t.\\tBS=45947784\\tGT:BD:BK:BI:BVT:BLT:QQ\\t0/1:FN:am:ti:SNP:het:.\\t1/1:FP:am:ti:SNP:homalt:2959.06',\n",
       " '11\\t57798591\\t.\\tG\\tA\\t5438.06\\t.\\tBS=57798428\\tGT:BD:BK:BI:BVT:BLT:QQ\\t0/1:FN:am:ti:SNP:het:.\\t1/1:FP:am:ti:SNP:homalt:5438.06',\n",
       " '11\\t62362466\\t.\\tG\\tA\\t1577.06\\t.\\tBS=62362455\\tGT:BD:BK:BI:BVT:BLT:QQ\\t0/1:FN:am:ti:SNP:het:.\\t1/1:FP:am:ti:SNP:homalt:1577.06',\n",
       " '11\\t66335531\\t.\\tG\\tA\\t3553.06\\t.\\tBS=66335457\\tGT:BD:BK:BI:BVT:BLT:QQ\\t0/1:FN:am:ti:SNP:het:.\\t1/1:FP:am:ti:SNP:homalt:3553.06',\n",
       " '11\\t82643760\\t.\\tG\\tT\\t6014.06\\t.\\tBS=82643483\\tGT:BD:BK:BI:BVT:BLT:QQ\\t0/1:FN:am:tv:SNP:het:.\\t1/1:FP:am:tv:SNP:homalt:6014.06',\n",
       " '11\\t93494775\\t.\\tA\\tT\\t4507.06\\t.\\tBS=93494684\\tGT:BD:BK:BI:BVT:BLT:QQ\\t0/1:FN:am:tv:SNP:het:.\\t1/1:FP:am:tv:SNP:homalt:4507.06',\n",
       " '11\\t93911708\\t.\\tG\\tT\\t4639.06\\t.\\tBS=93911535\\tGT:BD:BK:BI:BVT:BLT:QQ\\t0/1:FN:am:tv:SNP:het:.\\t1/1:FP:am:tv:SNP:homalt:4639.06',\n",
       " '11\\t108225578\\t.\\tG\\tT\\t2801.06\\t.\\tBS=108225543\\tGT:BD:BK:BI:BVT:BLT:QQ\\t0/1:FN:am:tv:SNP:het:.\\t1/1:FP:am:tv:SNP:homalt:2801.06',\n",
       " '11\\t112064657\\t.\\tC\\tT\\t3101.06\\t.\\tBS=112064603\\tGT:BD:BK:BI:BVT:BLT:QQ\\t0/1:FN:am:ti:SNP:het:.\\t1/1:FP:am:ti:SNP:homalt:3101.06',\n",
       " '11\\t113935069\\t.\\tG\\tA\\t6214.06\\t.\\tBS=113934023\\tGT:BD:BK:BI:BVT:BLT:QQ\\t0/1:FN:am:ti:SNP:het:.\\t1/1:FP:am:ti:SNP:homalt:6214.06',\n",
       " '11\\t118764889\\t.\\tG\\tA\\t6042.06\\t.\\tBS=118764307\\tGT:BD:BK:BI:BVT:BLT:QQ\\t0/1:FN:am:ti:SNP:het:.\\t1/1:FP:am:ti:SNP:homalt:6042.06',\n",
       " '11\\t123900516\\t.\\tA\\tG\\t6471.06\\t.\\tBS=123900337\\tGT:BD:BK:BI:BVT:BLT:QQ\\t0/1:FN:am:ti:SNP:het:.\\t1/1:FP:am:ti:SNP:homalt:6471.06',\n",
       " '11\\t134048540\\t.\\tA\\tC\\t2120.06\\t.\\tBS=134048534\\tGT:BD:BK:BI:BVT:BLT:QQ\\t0/1:FN:am:tv:SNP:het:.\\t1/1:FP:am:tv:SNP:homalt:2120.06',\n",
       " '11\\t134132438\\t.\\tC\\tT\\t1936.06\\t.\\tBS=134132414\\tGT:BD:BK:BI:BVT:BLT:QQ\\t0/1:FN:am:ti:SNP:het:.\\t1/1:FP:am:ti:SNP:homalt:1936.06',\n",
       " '12\\t7966960\\t.\\tC\\tT\\t5839.06\\t.\\tBS=7966932\\tGT:BD:BK:BI:BVT:BLT:QQ\\t0/1:FN:am:ti:SNP:het:.\\t1/1:FP:am:ti:SNP:homalt:5839.06',\n",
       " '12\\t7972173\\t.\\tG\\tT\\t4788.06\\t.\\tBS=7972083\\tGT:BD:BK:BI:BVT:BLT:QQ\\t0/1:FN:am:tv:SNP:het:.\\t1/1:FP:am:tv:SNP:homalt:4788.06',\n",
       " '12\\t21033899\\t.\\tA\\tT\\t5026.06\\t.\\tBS=21033899\\tGT:BD:BK:BI:BVT:BLT:QQ\\t./.:.:.:.:NOCALL:nocall:.\\t1/1:FP:.:tv:SNP:homalt:5026.06',\n",
       " '12\\t41422874\\t.\\tA\\tC\\t1731.06\\t.\\tBS=41422866\\tGT:BD:BK:BI:BVT:BLT:QQ\\t0/1:FN:am:tv:SNP:het:.\\t1/1:FP:am:tv:SNP:homalt:1731.06',\n",
       " '12\\t46243544\\t.\\tG\\tT\\t5144.06\\t.\\tBS=46243365\\tGT:BD:BK:BI:BVT:BLT:QQ\\t0/1:FN:am:tv:SNP:het:.\\t1/1:FP:am:tv:SNP:homalt:5144.06',\n",
       " '12\\t47629324\\t.\\tC\\tT\\t6393.06\\t.\\tBS=47628852\\tGT:BD:BK:BI:BVT:BLT:QQ\\t0/1:FN:am:ti:SNP:het:.\\t1/1:FP:am:ti:SNP:homalt:6393.06',\n",
       " '12\\t51384679\\t.\\tT\\tA\\t4596.06\\t.\\tBS=51384582\\tGT:BD:BK:BI:BVT:BLT:QQ\\t0/1:FN:am:tv:SNP:het:.\\t1/1:FP:am:tv:SNP:homalt:4596.06',\n",
       " '12\\t53452943\\t.\\tG\\tA\\t5507.06\\t.\\tBS=53452833\\tGT:BD:BK:BI:BVT:BLT:QQ\\t0/1:FN:am:ti:SNP:het:.\\t1/1:FP:am:ti:SNP:homalt:5507.06',\n",
       " '12\\t53700773\\t.\\tG\\tT\\t2302.06\\t.\\tBS=53700773\\tGT:BD:BK:BI:BVT:BLT:QQ\\t0/1:FN:am:tv:SNP:het:.\\t1/1:FP:am:tv:SNP:homalt:2302.06',\n",
       " '12\\t54793713\\t.\\tG\\tA\\t4300.06\\t.\\tBS=54793651\\tGT:BD:BK:BI:BVT:BLT:QQ\\t0/1:FN:am:ti:SNP:het:.\\t1/1:FP:am:ti:SNP:homalt:4300.06',\n",
       " '12\\t88442056\\t.\\tT\\tC\\t3510.06\\t.\\tBS=88442014\\tGT:BD:BK:BI:BVT:BLT:QQ\\t0/1:FN:am:ti:SNP:het:.\\t1/1:FP:am:ti:SNP:homalt:3510.06',\n",
       " '12\\t99100356\\t.\\tT\\tC\\t5951.06\\t.\\tBS=99100264\\tGT:BD:BK:BI:BVT:BLT:QQ\\t0/1:FN:am:ti:SNP:het:.\\t1/1:FP:am:ti:SNP:homalt:5951.06',\n",
       " '12\\t108686069\\t.\\tC\\tT\\t5947.06\\t.\\tBS=108685621\\tGT:BD:BK:BI:BVT:BLT:QQ\\t0/1:FN:am:ti:SNP:het:.\\t1/1:FP:am:ti:SNP:homalt:5947.06',\n",
       " '12\\t123102921\\t.\\tT\\tG\\t3058.06\\t.\\tBS=123102893\\tGT:BD:BK:BI:BVT:BLT:QQ\\t0/1:FN:am:tv:SNP:het:.\\t1/1:FP:am:tv:SNP:homalt:3058.06',\n",
       " '12\\t130184667\\t.\\tG\\tA\\t6238.06\\t.\\tBS=130184361\\tGT:BD:BK:BI:BVT:BLT:QQ\\t0/1:FN:am:ti:SNP:het:.\\t1/1:FP:am:ti:SNP:homalt:6238.06',\n",
       " '12\\t133237618\\t.\\tC\\tA\\t3530.06\\t.\\tBS=133237558\\tGT:BD:BK:BI:BVT:BLT:QQ\\t0/1:FN:am:tv:SNP:het:.\\t1/1:FP:am:tv:SNP:homalt:3530.06',\n",
       " '12\\t133384688\\t.\\tC\\tT\\t5847.06\\t.\\tBS=133384495\\tGT:BD:BK:BI:BVT:BLT:QQ\\t0/1:FN:am:ti:SNP:het:.\\t1/1:FP:am:ti:SNP:homalt:5847.06',\n",
       " '13\\t20763086\\t.\\tT\\tC\\t6975.06\\t.\\tBS=20763048\\tGT:BD:BK:BI:BVT:BLT:QQ\\t0/1:FN:am:ti:SNP:het:.\\t1/1:FP:am:ti:SNP:homalt:6975.06',\n",
       " '13\\t28636185\\t.\\tG\\tT\\t6182.06\\t.\\tBS=28636006\\tGT:BD:BK:BI:BVT:BLT:QQ\\t0/1:FN:am:tv:SNP:het:.\\t1/1:FP:am:tv:SNP:homalt:6182.06',\n",
       " '13\\t37453570\\t.\\tC\\tA\\t5939.06\\t.\\tBS=37453416\\tGT:BD:BK:BI:BVT:BLT:QQ\\t0/1:FN:am:tv:SNP:het:.\\t1/1:FP:am:tv:SNP:homalt:5939.06',\n",
       " '13\\t47466664\\t.\\tG\\tA\\t5220.06\\t.\\tBS=47466530\\tGT:BD:BK:BI:BVT:BLT:QQ\\t0/1:FN:am:ti:SNP:het:.\\t1/1:FP:am:ti:SNP:homalt:5220.06',\n",
       " '13\\t61987482\\t.\\tC\\tA\\t5178.06\\t.\\tBS=61985377\\tGT:BD:BK:BI:BVT:BLT:QQ\\t0/1:FN:am:tv:SNP:het:.\\t1/1:FP:am:tv:SNP:homalt:5178.06',\n",
       " '13\\t78493632\\t.\\tG\\tA\\t5548.06\\t.\\tBS=78493537\\tGT:BD:BK:BI:BVT:BLT:QQ\\t0/1:FN:am:ti:SNP:het:.\\t1/1:FP:am:ti:SNP:homalt:5548.06',\n",
       " '13\\t88329568\\t.\\tG\\tC\\t6770.06\\t.\\tBS=88327654\\tGT:BD:BK:BI:BVT:BLT:QQ\\t0/1:FN:am:tv:SNP:het:.\\t1/1:FP:am:tv:SNP:homalt:6770.06',\n",
       " '13\\t94680041\\t.\\tG\\tC\\t4337.06\\t.\\tBS=94679985\\tGT:BD:BK:BI:BVT:BLT:QQ\\t0/1:FN:am:tv:SNP:het:.\\t1/1:FP:am:tv:SNP:homalt:4337.06',\n",
       " '13\\t101707702\\t.\\tG\\tA\\t6280.06\\t.\\tBS=101707669\\tGT:BD:BK:BI:BVT:BLT:QQ\\t0/1:FN:am:ti:SNP:het:.\\t1/1:FP:am:ti:SNP:homalt:6280.06',\n",
       " '13\\t102345033\\t.\\tG\\tA\\t5067.06\\t.\\tBS=102344935\\tGT:BD:BK:BI:BVT:BLT:QQ\\t0/1:FN:am:ti:SNP:het:.\\t1/1:FP:am:ti:SNP:homalt:5067.06',\n",
       " '14\\t23847617\\t.\\tG\\tA\\t3879.06\\t.\\tBS=23847562\\tGT:BD:BK:BI:BVT:BLT:QQ\\t0/1:FN:am:ti:SNP:het:.\\t1/1:FP:am:ti:SNP:homalt:3879.06',\n",
       " '14\\t24040295\\t.\\tC\\tT\\t5110.06\\t.\\tBS=24040144\\tGT:BD:BK:BI:BVT:BLT:QQ\\t0/1:FN:am:ti:SNP:het:.\\t1/1:FP:am:ti:SNP:homalt:5110.06',\n",
       " '14\\t31355442\\t.\\tG\\tA\\t5249.06\\t.\\tBS=31355007\\tGT:BD:BK:BI:BVT:BLT:QQ\\t0/1:FN:am:ti:SNP:het:.\\t1/1:FP:am:ti:SNP:homalt:5249.06',\n",
       " '14\\t50304891\\t.\\tA\\tG\\t2546.06\\t.\\tBS=50304857\\tGT:BD:BK:BI:BVT:BLT:QQ\\t0/1:FN:am:ti:SNP:het:.\\t1/1:FP:am:ti:SNP:homalt:2546.06',\n",
       " '14\\t55647468\\t.\\tC\\tG\\t5596.06\\t.\\tBS=55647396\\tGT:BD:BK:BI:BVT:BLT:QQ\\t0/1:FN:am:tv:SNP:het:.\\t1/1:FP:am:tv:SNP:homalt:5596.06',\n",
       " '14\\t62194232\\t.\\tG\\tT\\t3732.06\\t.\\tBS=62194181\\tGT:BD:BK:BI:BVT:BLT:QQ\\t0/1:FN:am:tv:SNP:het:.\\t1/1:FP:am:tv:SNP:homalt:3732.06',\n",
       " '14\\t76330161\\t.\\tC\\tA\\t6334.06\\t.\\tBS=76330014\\tGT:BD:BK:BI:BVT:BLT:QQ\\t0/1:FN:am:tv:SNP:het:.\\t1/1:FP:am:tv:SNP:homalt:6334.06',\n",
       " '14\\t77708694\\t.\\tC\\tT\\t1863.06\\t.\\tBS=77708694\\tGT:BD:BK:BI:BVT:BLT:QQ\\t0/1:FN:am:ti:SNP:het:.\\t1/1:FP:am:ti:SNP:homalt:1863.06',\n",
       " '14\\t93119093\\t.\\tG\\tA\\t6171.06\\t.\\tBS=93117942\\tGT:BD:BK:BI:BVT:BLT:QQ\\t0/1:FN:am:ti:SNP:het:.\\t1/1:FP:am:ti:SNP:homalt:6171.06',\n",
       " '14\\t93290957\\t.\\tC\\tT\\t3533.06\\t.\\tBS=93290893\\tGT:BD:BK:BI:BVT:BLT:QQ\\t0/1:FN:am:ti:SNP:het:.\\t1/1:FP:am:ti:SNP:homalt:3533.06',\n",
       " '14\\t100317292\\t.\\tC\\tG\\t6090.06\\t.\\tBS=100317197\\tGT:BD:BK:BI:BVT:BLT:QQ\\t0/1:FN:am:tv:SNP:het:.\\t1/1:FP:am:tv:SNP:homalt:6090.06',\n",
       " '14\\t102499761\\t.\\tC\\tT\\t6139.06\\t.\\tBS=102499609\\tGT:BD:BK:BI:BVT:BLT:QQ\\t0/1:FN:am:ti:SNP:het:.\\t1/1:FP:am:ti:SNP:homalt:6139.06',\n",
       " '15\\t27778016\\t.\\tC\\tT\\t6215.06\\t.\\tBS=27777753\\tGT:BD:BK:BI:BVT:BLT:QQ\\t0/1:FN:am:ti:SNP:het:.\\t1/1:FP:am:ti:SNP:homalt:6215.06',\n",
       " '15\\t41822140\\t.\\tC\\tT\\t3786.06\\t.\\tBS=41822071\\tGT:BD:BK:BI:BVT:BLT:QQ\\t0/1:FN:am:ti:SNP:het:.\\t1/1:FP:am:ti:SNP:homalt:3786.06',\n",
       " '15\\t44959325\\t.\\tG\\tA\\t1946.06\\t.\\tBS=44959325\\tGT:BD:BK:BI:BVT:BLT:QQ\\t0/1:FN:am:ti:SNP:het:.\\t1/1:FP:am:ti:SNP:homalt:1946.06',\n",
       " '15\\t54916039\\t.\\tC\\tT\\t3267.06\\t.\\tBS=54915994\\tGT:BD:BK:BI:BVT:BLT:QQ\\t0/1:FN:am:ti:SNP:het:.\\t1/1:FP:am:ti:SNP:homalt:3267.06',\n",
       " '15\\t75498964\\t.\\tG\\tA\\t6305.06\\t.\\tBS=75498393\\tGT:BD:BK:BI:BVT:BLT:QQ\\t0/1:FN:am:ti:SNP:het:.\\t1/1:FP:am:ti:SNP:homalt:6305.06',\n",
       " '15\\t75983124\\t.\\tC\\tT\\t5121.06\\t.\\tBS=75979625\\tGT:BD:BK:BI:BVT:BLT:QQ\\t0/1:FN:am:ti:SNP:het:.\\t1/1:FP:am:ti:SNP:homalt:5121.06',\n",
       " '15\\t79382618\\t.\\tG\\tA\\t3427.06\\t.\\tBS=79382568\\tGT:BD:BK:BI:BVT:BLT:QQ\\t0/1:FN:am:ti:SNP:het:.\\t1/1:FP:am:ti:SNP:homalt:3427.06',\n",
       " '15\\t87217605\\t.\\tC\\tT\\t4825.06\\t.\\tBS=87217511\\tGT:BD:BK:BI:BVT:BLT:QQ\\t0/1:FN:am:ti:SNP:het:.\\t1/1:FP:am:ti:SNP:homalt:4825.06',\n",
       " '15\\t93536218\\t.\\tT\\tC\\t6454.06\\t.\\tBS=93536102\\tGT:BD:BK:BI:BVT:BLT:QQ\\t0/1:FN:am:ti:SNP:het:.\\t1/1:FP:am:ti:SNP:homalt:6454.06',\n",
       " '16\\t279332\\t.\\tC\\tT\\t2435.06\\t.\\tBS=279306\\tGT:BD:BK:BI:BVT:BLT:QQ\\t0/1:FN:am:ti:SNP:het:.\\t1/1:FP:am:ti:SNP:homalt:2435.06',\n",
       " '16\\t2014496\\t.\\tC\\tA\\t3022.06\\t.\\tBS=2014461\\tGT:BD:BK:BI:BVT:BLT:QQ\\t0/1:FN:am:tv:SNP:het:.\\t1/1:FP:am:tv:SNP:homalt:3022.06',\n",
       " '16\\t10995954\\t.\\tA\\tC\\t4324.06\\t.\\tBS=10995900\\tGT:BD:BK:BI:BVT:BLT:QQ\\t0/1:FN:am:tv:SNP:het:.\\t1/1:FP:am:tv:SNP:homalt:4324.06',\n",
       " '16\\t28137103\\t.\\tC\\tT\\t5103.06\\t.\\tBS=28137017\\tGT:BD:BK:BI:BVT:BLT:QQ\\t0/1:FN:am:ti:SNP:het:.\\t1/1:FP:am:ti:SNP:homalt:5103.06',\n",
       " '16\\t56920318\\t.\\tG\\tT\\t3276.06\\t.\\tBS=56920279\\tGT:BD:BK:BI:BVT:BLT:QQ\\t0/1:FN:am:tv:SNP:het:.\\t1/1:FP:am:tv:SNP:homalt:3276.06',\n",
       " '16\\t58555102\\t.\\tG\\tA\\t1764.06\\t.\\tBS=58555091\\tGT:BD:BK:BI:BVT:BLT:QQ\\t0/1:FN:am:ti:SNP:het:.\\t1/1:FP:am:ti:SNP:homalt:1764.06',\n",
       " '16\\t70929925\\t.\\tG\\tT\\t2243.06\\t.\\tBS=70929884\\tGT:BD:BK:BI:BVT:BLT:QQ\\t0/1:FN:am:tv:SNP:het:.\\t1/1:FP:am:tv:SNP:homalt:2243.06',\n",
       " '16\\t87866602\\t.\\tT\\tC\\t6353.06\\t.\\tBS=87866576\\tGT:BD:BK:BI:BVT:BLT:QQ\\t0/1:FN:am:ti:SNP:het:.\\t1/1:FP:am:ti:SNP:homalt:6353.06',\n",
       " '17\\t7643790\\t.\\tT\\tC\\t3673.06\\t.\\tBS=7643738\\tGT:BD:BK:BI:BVT:BLT:QQ\\t0/1:FN:am:ti:SNP:het:.\\t1/1:FP:am:ti:SNP:homalt:3673.06',\n",
       " '17\\t11845742\\t.\\tG\\tC\\t7492.06\\t.\\tBS=11845635\\tGT:BD:BK:BI:BVT:BLT:QQ\\t0/1:FN:am:tv:SNP:het:.\\t1/1:FP:am:tv:SNP:homalt:7492.06',\n",
       " '17\\t18205249\\t.\\tG\\tA\\t2626.06\\t.\\tBS=18205211\\tGT:BD:BK:BI:BVT:BLT:QQ\\t0/1:FN:am:ti:SNP:het:.\\t1/1:FP:am:ti:SNP:homalt:2626.06',\n",
       " '17\\t27182070\\t.\\tG\\tC\\t7565.06\\t.\\tBS=27182056\\tGT:BD:BK:BI:BVT:BLT:QQ\\t0/1:FN:am:tv:SNP:het:.\\t1/1:FP:am:tv:SNP:homalt:7565.06',\n",
       " '17\\t30687620\\t.\\tG\\tA\\t1664.06\\t.\\tBS=30687620\\tGT:BD:BK:BI:BVT:BLT:QQ\\t0/1:FN:am:ti:SNP:het:.\\t1/1:FP:am:ti:SNP:homalt:1664.06',\n",
       " '17\\t34854382\\t.\\tC\\tG\\t7394.06\\t.\\tBS=34854112\\tGT:BD:BK:BI:BVT:BLT:QQ\\t0/1:FN:am:tv:SNP:het:.\\t1/1:FP:am:tv:SNP:homalt:7394.06',\n",
       " '17\\t38187838\\t.\\tG\\tA\\t2675.06\\t.\\tBS=38187792\\tGT:BD:BK:BI:BVT:BLT:QQ\\t0/1:FN:am:ti:SNP:het:.\\t1/1:FP:am:ti:SNP:homalt:2675.06',\n",
       " '17\\t40761319\\t.\\tG\\tA\\t5969.06\\t.\\tBS=40761176\\tGT:BD:BK:BI:BVT:BLT:QQ\\t0/1:FN:am:ti:SNP:het:.\\t1/1:FP:am:ti:SNP:homalt:5969.06',\n",
       " '17\\t42274712\\t.\\tC\\tG\\t6809.06\\t.\\tBS=42274596\\tGT:BD:BK:BI:BVT:BLT:QQ\\t0/1:FN:am:tv:SNP:het:.\\t1/1:FP:am:tv:SNP:homalt:6809.06',\n",
       " '17\\t56388244\\t.\\tC\\tG\\t3328.06\\t.\\tBS=56388212\\tGT:BD:BK:BI:BVT:BLT:QQ\\t0/1:FN:am:tv:SNP:het:.\\t1/1:FP:am:tv:SNP:homalt:3328.06',\n",
       " '17\\t72233484\\t.\\tC\\tA\\t3118.06\\t.\\tBS=72233433\\tGT:BD:BK:BI:BVT:BLT:QQ\\t0/1:FN:am:tv:SNP:het:.\\t1/1:FP:am:tv:SNP:homalt:3118.06',\n",
       " '17\\t73564865\\t.\\tG\\tC\\t1670.06\\t.\\tBS=73564865\\tGT:BD:BK:BI:BVT:BLT:QQ\\t0/1:FN:am:tv:SNP:het:.\\t1/1:FP:am:tv:SNP:homalt:1670.06',\n",
       " '17\\t79514019\\t.\\tG\\tA\\t4648.06\\t.\\tBS=79513939\\tGT:BD:BK:BI:BVT:BLT:QQ\\t0/1:FN:am:ti:SNP:het:.\\t1/1:FP:am:ti:SNP:homalt:4648.06',\n",
       " '17\\t79534462\\t.\\tT\\tC\\t2185.06\\t.\\tBS=79534443\\tGT:BD:BK:BI:BVT:BLT:QQ\\t0/1:FN:am:ti:SNP:het:.\\t1/1:FP:am:ti:SNP:homalt:2185.06',\n",
       " '18\\t6964747\\t.\\tG\\tT\\t5140.06\\t.\\tBS=6964665\\tGT:BD:BK:BI:BVT:BLT:QQ\\t0/1:FN:am:tv:SNP:het:.\\t1/1:FP:am:tv:SNP:homalt:5140.06',\n",
       " '18\\t14851847\\t.\\tG\\tA\\t5115.06\\t.\\tBS=14851512\\tGT:BD:BK:BI:BVT:BLT:QQ\\t0/1:FN:am:ti:SNP:het:.\\t1/1:FP:am:ti:SNP:homalt:5115.06',\n",
       " '18\\t21422578\\t.\\tC\\tT\\t1498.06\\t.\\tBS=21422576\\tGT:BD:BK:BI:BVT:BLT:QQ\\t0/1:FN:am:ti:SNP:het:.\\t1/1:FP:am:ti:SNP:homalt:1498.06',\n",
       " '18\\t28991204\\t.\\tC\\tG\\t6607.06\\t.\\tBS=28991079\\tGT:BD:BK:BI:BVT:BLT:QQ\\t0/1:FN:am:tv:SNP:het:.\\t1/1:FP:am:tv:SNP:homalt:6607.06',\n",
       " '18\\t42530953\\t.\\tA\\tC\\t7643.06\\t.\\tBS=42529847\\tGT:BD:BK:BI:BVT:BLT:QQ\\t0/1:FN:am:tv:SNP:het:.\\t1/1:FP:am:tv:SNP:homalt:7643.06',\n",
       " '19\\t1124003\\t.\\tG\\tA\\t3704.06\\t.\\tBS=1123943\\tGT:BD:BK:BI:BVT:BLT:QQ\\t0/1:FN:am:ti:SNP:het:.\\t1/1:FP:am:ti:SNP:homalt:3704.06',\n",
       " '19\\t6848051\\t.\\tG\\tT\\t2348.06\\t.\\tBS=6848009\\tGT:BD:BK:BI:BVT:BLT:QQ\\t0/1:FN:am:tv:SNP:het:.\\t1/1:FP:am:tv:SNP:homalt:2348.06',\n",
       " '19\\t7505139\\t.\\tC\\tT\\t5889.06\\t.\\tBS=7504866\\tGT:BD:BK:BI:BVT:BLT:QQ\\t0/1:FN:am:ti:SNP:het:.\\t1/1:FP:am:ti:SNP:homalt:5889.06',\n",
       " '19\\t8203323\\t.\\tG\\tA\\t2219.06\\t.\\tBS=8203305\\tGT:BD:BK:BI:BVT:BLT:QQ\\t0/1:FN:am:ti:SNP:het:.\\t1/1:FP:am:ti:SNP:homalt:2219.06',\n",
       " '19\\t8563661\\t.\\tT\\tG\\t6402.06\\t.\\tBS=8563261\\tGT:BD:BK:BI:BVT:BLT:QQ\\t0/1:FN:am:tv:SNP:het:.\\t1/1:FP:am:tv:SNP:homalt:6402.06',\n",
       " '19\\t9077348\\t.\\tG\\tA\\t5984.06\\t.\\tBS=9056177\\tGT:BD:BK:BI:BVT:BLT:QQ\\t0/1:FN:am:ti:SNP:het:.\\t1/1:FP:am:ti:SNP:homalt:5984.06',\n",
       " '19\\t10246485\\t.\\tC\\tT\\t4233.06\\t.\\tBS=10246414\\tGT:BD:BK:BI:BVT:BLT:QQ\\t0/1:FN:am:ti:SNP:het:.\\t1/1:FP:am:ti:SNP:homalt:4233.06',\n",
       " '19\\t10262103\\t.\\tG\\tA\\t1883.06\\t.\\tBS=10262078\\tGT:BD:BK:BI:BVT:BLT:QQ\\t0/1:FN:am:ti:SNP:het:.\\t1/1:FP:am:ti:SNP:homalt:1883.06',\n",
       " '19\\t10397703\\t.\\tC\\tT\\t5005.06\\t.\\tBS=10397692\\tGT:BD:BK:BI:BVT:BLT:QQ\\t0/1:FN:am:ti:SNP:het:.\\t1/1:FP:am:ti:SNP:homalt:5005.06',\n",
       " '19\\t11169530\\t.\\tC\\tA\\t2949.06\\t.\\tBS=11169464\\tGT:BD:BK:BI:BVT:BLT:QQ\\t0/1:FN:am:tv:SNP:het:.\\t1/1:FP:am:tv:SNP:homalt:2949.06',\n",
       " '19\\t17317957\\t.\\tC\\tT\\t2800.06\\t.\\tBS=17317926\\tGT:BD:BK:BI:BVT:BLT:QQ\\t0/1:FN:am:ti:SNP:het:.\\t1/1:FP:am:ti:SNP:homalt:2800.06',\n",
       " '19\\t17691993\\t.\\tT\\tG\\t1658.06\\t.\\tBS=17691990\\tGT:BD:BK:BI:BVT:BLT:QQ\\t0/1:FN:am:tv:SNP:het:.\\t1/1:FP:am:tv:SNP:homalt:1658.06',\n",
       " '19\\t17945769\\t.\\tC\\tT\\t5872.06\\t.\\tBS=17945666\\tGT:BD:BK:BI:BVT:BLT:QQ\\t0/1:FN:am:ti:SNP:het:.\\t1/1:FP:am:ti:SNP:homalt:5872.06',\n",
       " '19\\t18343765\\t.\\tG\\tA\\t1255.06\\t.\\tBS=18343764\\tGT:BD:BK:BI:BVT:BLT:QQ\\t0/1:FN:am:ti:SNP:het:.\\t1/1:FP:am:ti:SNP:homalt:1255.06',\n",
       " '19\\t18583688\\t.\\tG\\tA\\t2353.06\\t.\\tBS=18583651\\tGT:BD:BK:BI:BVT:BLT:QQ\\t0/1:FN:am:ti:SNP:het:.\\t1/1:FP:am:ti:SNP:homalt:2353.06',\n",
       " '19\\t22156931\\t.\\tG\\tT\\t5025.06\\t.\\tBS=22156272\\tGT:BD:BK:BI:BVT:BLT:QQ\\t0/1:FN:am:tv:SNP:het:.\\t1/1:FP:am:tv:SNP:homalt:5025.06',\n",
       " '19\\t30935471\\t.\\tC\\tA\\t5314.06\\t.\\tBS=30934480\\tGT:BD:BK:BI:BVT:BLT:QQ\\t0/1:FN:am:tv:SNP:het:.\\t1/1:FP:am:tv:SNP:homalt:5314.06',\n",
       " '19\\t33096785\\t.\\tC\\tT\\t2926.06\\t.\\tBS=33096764\\tGT:BD:BK:BI:BVT:BLT:QQ\\t0/1:FN:am:ti:SNP:het:.\\t1/1:FP:am:ti:SNP:homalt:2926.06',\n",
       " '19\\t39336517\\t.\\tC\\tT\\t1941.06\\t.\\tBS=39336494\\tGT:BD:BK:BI:BVT:BLT:QQ\\t0/1:FN:am:ti:SNP:het:.\\t1/1:FP:am:ti:SNP:homalt:1941.06',\n",
       " '19\\t39694850\\t.\\tG\\tT\\t6030.06\\t.\\tBS=39694506\\tGT:BD:BK:BI:BVT:BLT:QQ\\t0/1:FN:am:tv:SNP:het:.\\t1/1:FP:am:tv:SNP:homalt:6030.06',\n",
       " '19\\t41289713\\t.\\tG\\tT\\t2400.06\\t.\\tBS=41289693\\tGT:BD:BK:BI:BVT:BLT:QQ\\t0/1:FN:am:tv:SNP:het:.\\t1/1:FP:am:tv:SNP:homalt:2400.06',\n",
       " '19\\t43771971\\t.\\tC\\tT\\t2103.06\\t.\\tBS=43771942\\tGT:BD:BK:BI:BVT:BLT:QQ\\t0/1:FN:am:ti:SNP:het:.\\t1/1:FP:am:ti:SNP:homalt:2103.06',\n",
       " '19\\t50905891\\t.\\tC\\tT\\t2011.06\\t.\\tBS=50905873\\tGT:BD:BK:BI:BVT:BLT:QQ\\t0/1:FN:am:ti:SNP:het:.\\t1/1:FP:am:ti:SNP:homalt:2011.06',\n",
       " '19\\t51875767\\t.\\tG\\tC\\t7640.06\\t.\\tBS=51875635\\tGT:BD:BK:BI:BVT:BLT:QQ\\t0/1:FN:am:tv:SNP:het:.\\t1/1:FP:am:tv:SNP:homalt:7640.06',\n",
       " '19\\t55253695\\t.\\tC\\tT\\t903.06\\t.\\tBS=55253428\\tGT:BD:BK:BI:BVT:BLT:QQ\\t0/1:FN:am:ti:SNP:het:.\\t1/1:FP:am:ti:SNP:homalt:903.06',\n",
       " '19\\t58084133\\t.\\tT\\tC\\t7454.06\\t.\\tBS=58083495\\tGT:BD:BK:BI:BVT:BLT:QQ\\t0/1:FN:am:ti:SNP:het:.\\t1/1:FP:am:ti:SNP:homalt:7454.06',\n",
       " '19\\t58213742\\t.\\tC\\tG\\t7168.06\\t.\\tBS=58213008\\tGT:BD:BK:BI:BVT:BLT:QQ\\t0/1:FN:am:tv:SNP:het:.\\t1/1:FP:am:tv:SNP:homalt:7168.06',\n",
       " '2\\t1499873\\t.\\tG\\tA\\t4880.06\\t.\\tBS=1499765\\tGT:BD:BK:BI:BVT:BLT:QQ\\t0/1:FN:am:ti:SNP:het:.\\t1/1:FP:am:ti:SNP:homalt:4880.06',\n",
       " '2\\t1843011\\t.\\tC\\tA\\t4334.06\\t.\\tBS=1842924\\tGT:BD:BK:BI:BVT:BLT:QQ\\t0/1:FN:am:tv:SNP:het:.\\t1/1:FP:am:tv:SNP:homalt:4334.06',\n",
       " '2\\t20527112\\t.\\tC\\tA\\t980.06\\t.\\tBS=20527071\\tGT:BD:BK:BI:BVT:BLT:QQ\\t0/1:FN:am:tv:SNP:het:.\\t1/1:FP:am:tv:SNP:homalt:980.06',\n",
       " '2\\t32824860\\t.\\tG\\tA\\t2784.06\\t.\\tBS=32824809\\tGT:BD:BK:BI:BVT:BLT:QQ\\t0/1:FN:am:ti:SNP:het:.\\t1/1:FP:am:ti:SNP:homalt:2784.06',\n",
       " '2\\t42990501\\t.\\tC\\tG\\t6714.06\\t.\\tBS=42990053\\tGT:BD:BK:BI:BVT:BLT:QQ\\t0/1:FN:am:tv:SNP:het:.\\t1/1:FP:am:tv:SNP:homalt:6714.06',\n",
       " '2\\t61308619\\t.\\tT\\tA\\t2350.06\\t.\\tBS=61308605\\tGT:BD:BK:BI:BVT:BLT:QQ\\t0/1:FN:am:tv:SNP:het:.\\t1/1:FP:am:tv:SNP:homalt:2350.06',\n",
       " '2\\t61447507\\t.\\tT\\tC\\t4055.06\\t.\\tBS=61447453\\tGT:BD:BK:BI:BVT:BLT:QQ\\t0/1:FN:am:ti:SNP:het:.\\t1/1:FP:am:ti:SNP:homalt:4055.06',\n",
       " '2\\t61607449\\t.\\tC\\tT\\t6339.06\\t.\\tBS=61607309\\tGT:BD:BK:BI:BVT:BLT:QQ\\t0/1:FN:am:ti:SNP:het:.\\t1/1:FP:am:ti:SNP:homalt:6339.06',\n",
       " '2\\t80782867\\t.\\tG\\tA\\t3221.06\\t.\\tBS=80782821\\tGT:BD:BK:BI:BVT:BLT:QQ\\t0/1:FN:am:ti:SNP:het:.\\t1/1:FP:am:ti:SNP:homalt:3221.06',\n",
       " '2\\t85554280\\t.\\tC\\tT\\t6025.06\\t.\\tBS=85553635\\tGT:BD:BK:BI:BVT:BLT:QQ\\t0/1:FN:am:ti:SNP:het:.\\t1/1:FP:am:ti:SNP:homalt:6025.06',\n",
       " '2\\t96944315\\t.\\tC\\tT\\t2132.06\\t.\\tBS=96944297\\tGT:BD:BK:BI:BVT:BLT:QQ\\t0/1:FN:am:ti:SNP:het:.\\t1/1:FP:am:ti:SNP:homalt:2132.06',\n",
       " '2\\t98435112\\t.\\tT\\tA\\t2437.06\\t.\\tBS=98435082\\tGT:BD:BK:BI:BVT:BLT:QQ\\t0/1:FN:am:tv:SNP:het:.\\t1/1:FP:am:tv:SNP:homalt:2437.06',\n",
       " '2\\t99860587\\t.\\tG\\tA\\t6057.06\\t.\\tBS=99860470\\tGT:BD:BK:BI:BVT:BLT:QQ\\t0/1:FN:am:ti:SNP:het:.\\t1/1:FP:am:ti:SNP:homalt:6057.06',\n",
       " '2\\t128464081\\t.\\tC\\tG\\t7807.06\\t.\\tBS=128463917\\tGT:BD:BK:BI:BVT:BLT:QQ\\t0/1:FN:am:tv:SNP:het:.\\t1/1:FP:am:tv:SNP:homalt:7807.06',\n",
       " '2\\t131798944\\t.\\tC\\tA\\t6302.06\\t.\\tBS=131798809\\tGT:BD:BK:BI:BVT:BLT:QQ\\t0/1:FN:am:tv:SNP:het:.\\t1/1:FP:am:tv:SNP:homalt:6302.06',\n",
       " '2\\t133175256\\t.\\tC\\tG\\t7520.06\\t.\\tBS=133174626\\tGT:BD:BK:BI:BVT:BLT:QQ\\t0/1:FN:am:tv:SNP:het:.\\t1/1:FP:am:tv:SNP:homalt:7520.06',\n",
       " '2\\t160885440\\t.\\tC\\tA\\t3495.06\\t.\\tBS=160885361\\tGT:BD:BK:BI:BVT:BLT:QQ\\t0/1:FN:am:tv:SNP:het:.\\t1/1:FP:am:tv:SNP:homalt:3495.06',\n",
       " '2\\t166747142\\t.\\tC\\tA\\t5702.06\\t.\\tBS=166747003\\tGT:BD:BK:BI:BVT:BLT:QQ\\t0/1:FN:am:tv:SNP:het:.\\t1/1:FP:am:tv:SNP:homalt:5702.06',\n",
       " '2\\t171239674\\t.\\tA\\tT\\t5137.06\\t.\\tBS=171239583\\tGT:BD:BK:BI:BVT:BLT:QQ\\t0/1:FN:am:tv:SNP:het:.\\t1/1:FP:am:tv:SNP:homalt:5137.06',\n",
       " '2\\t179635026\\t.\\tG\\tT\\t5219.06\\t.\\tBS=179634791\\tGT:BD:BK:BI:BVT:BLT:QQ\\t0/1:FN:am:tv:SNP:het:.\\t1/1:FP:am:tv:SNP:homalt:5219.06',\n",
       " '2\\t179649069\\t.\\tC\\tT\\t6347.06\\t.\\tBS=179648797\\tGT:BD:BK:BI:BVT:BLT:QQ\\t0/1:FN:am:ti:SNP:het:.\\t1/1:FP:am:ti:SNP:homalt:6347.06',\n",
       " '2\\t201438624\\t.\\tA\\tT\\t6094.06\\t.\\tBS=201436176\\tGT:BD:BK:BI:BVT:BLT:QQ\\t0/1:FN:am:tv:SNP:het:.\\t1/1:FP:am:tv:SNP:homalt:6094.06',\n",
       " '2\\t202139656\\t.\\tG\\tA\\t2491.06\\t.\\tBS=202139614\\tGT:BD:BK:BI:BVT:BLT:QQ\\t0/1:FN:am:ti:SNP:het:.\\t1/1:FP:am:ti:SNP:homalt:2491.06',\n",
       " '2\\t204078257\\t.\\tA\\tT\\t1643.06\\t.\\tBS=204078252\\tGT:BD:BK:BI:BVT:BLT:QQ\\t0/1:FN:am:tv:SNP:het:.\\t1/1:FP:am:tv:SNP:homalt:1643.06',\n",
       " '2\\t223574531\\t.\\tG\\tA\\t3215.06\\t.\\tBS=223574459\\tGT:BD:BK:BI:BVT:BLT:QQ\\t0/1:FN:am:ti:SNP:het:.\\t1/1:FP:am:ti:SNP:homalt:3215.06',\n",
       " '2\\t225370747\\t.\\tG\\tA\\t3465.06\\t.\\tBS=225370675\\tGT:BD:BK:BI:BVT:BLT:QQ\\t0/1:FN:am:ti:SNP:het:.\\t1/1:FP:am:ti:SNP:homalt:3465.06',\n",
       " '2\\t225662655\\t.\\tG\\tA\\t4942.06\\t.\\tBS=225662565\\tGT:BD:BK:BI:BVT:BLT:QQ\\t0/1:FN:am:ti:SNP:het:.\\t1/1:FP:am:ti:SNP:homalt:4942.06',\n",
       " '2\\t228882978\\t.\\tC\\tT\\t6140.06\\t.\\tBS=228881122\\tGT:BD:BK:BI:BVT:BLT:QQ\\t0/1:FN:am:ti:SNP:het:.\\t1/1:FP:am:ti:SNP:homalt:6140.06',\n",
       " '2\\t233245367\\t.\\tC\\tT\\t1800.06\\t.\\tBS=233245354\\tGT:BD:BK:BI:BVT:BLT:QQ\\t0/1:FN:am:ti:SNP:het:.\\t1/1:FP:am:ti:SNP:homalt:1800.06',\n",
       " '2\\t239180013\\t.\\tC\\tT\\t3558.06\\t.\\tBS=239179955\\tGT:BD:BK:BI:BVT:BLT:QQ\\t0/1:FN:am:ti:SNP:het:.\\t1/1:FP:am:ti:SNP:homalt:3558.06',\n",
       " '2\\t239306279\\t.\\tC\\tT\\t5926.06\\t.\\tBS=239306100\\tGT:BD:BK:BI:BVT:BLT:QQ\\t0/1:FN:am:ti:SNP:het:.\\t1/1:FP:am:ti:SNP:homalt:5926.06',\n",
       " '2\\t242275479\\t.\\tC\\tA\\t4867.06\\t.\\tBS=242275395\\tGT:BD:BK:BI:BVT:BLT:QQ\\t0/1:FN:am:tv:SNP:het:.\\t1/1:FP:am:tv:SNP:homalt:4867.06',\n",
       " '20\\t3017890\\t.\\tT\\tA\\t5283.06\\t.\\tBS=3017800\\tGT:BD:BK:BI:BVT:BLT:QQ\\t0/1:FN:am:tv:SNP:het:.\\t1/1:FP:am:tv:SNP:homalt:5283.06',\n",
       " '20\\t8719956\\t.\\tG\\tA\\t3546.06\\t.\\tBS=8719917\\tGT:BD:BK:BI:BVT:BLT:QQ\\t0/1:FN:am:ti:SNP:het:.\\t1/1:FP:am:ti:SNP:homalt:3546.06',\n",
       " '20\\t20493161\\t.\\tT\\tA\\t2021.06\\t.\\tBS=20493161\\tGT:BD:BK:BI:BVT:BLT:QQ\\t0/1:FN:am:tv:SNP:het:.\\t1/1:FP:am:tv:SNP:homalt:2021.06',\n",
       " '20\\t30497607\\t.\\tG\\tA\\t3606.06\\t.\\tBS=30497542\\tGT:BD:BK:BI:BVT:BLT:QQ\\t0/1:FN:am:ti:SNP:het:.\\t1/1:FP:am:ti:SNP:homalt:3606.06',\n",
       " '20\\t31380463\\t.\\tC\\tT\\t2494.06\\t.\\tBS=31380435\\tGT:BD:BK:BI:BVT:BLT:QQ\\t0/1:FN:am:ti:SNP:het:.\\t1/1:FP:am:ti:SNP:homalt:2494.06',\n",
       " '20\\t31625393\\t.\\tA\\tC\\t2235.06\\t.\\tBS=31625373\\tGT:BD:BK:BI:BVT:BLT:QQ\\t0/1:FN:am:tv:SNP:het:.\\t1/1:FP:am:tv:SNP:homalt:2235.06',\n",
       " '20\\t31680338\\t.\\tG\\tT\\t4012.06\\t.\\tBS=31680265\\tGT:BD:BK:BI:BVT:BLT:QQ\\t0/1:FN:am:tv:SNP:het:.\\t1/1:FP:am:tv:SNP:homalt:4012.06',\n",
       " '20\\t35467652\\t.\\tC\\tT\\t2290.06\\t.\\tBS=35467621\\tGT:BD:BK:BI:BVT:BLT:QQ\\t0/1:FN:am:ti:SNP:het:.\\t1/1:FP:am:ti:SNP:homalt:2290.06',\n",
       " '20\\t35651061\\t.\\tT\\tA\\t1809.06\\t.\\tBS=35651053\\tGT:BD:BK:BI:BVT:BLT:QQ\\t0/1:FN:am:tv:SNP:het:.\\t1/1:FP:am:tv:SNP:homalt:1809.06',\n",
       " '20\\t42089486\\t.\\tG\\tA\\t4934.06\\t.\\tBS=42089349\\tGT:BD:BK:BI:BVT:BLT:QQ\\t0/1:FN:am:ti:SNP:het:.\\t1/1:FP:am:ti:SNP:homalt:4934.06',\n",
       " '20\\t43113119\\t.\\tA\\tG\\t7577.06\\t.\\tBS=43112983\\tGT:BD:BK:BI:BVT:BLT:QQ\\t0/1:FN:am:ti:SNP:het:.\\t1/1:FP:am:ti:SNP:homalt:7577.06',\n",
       " '20\\t48253933\\t.\\tC\\tA\\t3968.06\\t.\\tBS=48253897\\tGT:BD:BK:BI:BVT:BLT:QQ\\t0/1:FN:am:tv:SNP:het:.\\t1/1:FP:am:tv:SNP:homalt:3968.06',\n",
       " '20\\t49620754\\t.\\tG\\tC\\t6514.06\\t.\\tBS=49620589\\tGT:BD:BK:BI:BVT:BLT:QQ\\t0/1:FN:am:tv:SNP:het:.\\t1/1:FP:am:tv:SNP:homalt:6514.06',\n",
       " '20\\t55748334\\t.\\tG\\tT\\t4637.06\\t.\\tBS=55748260\\tGT:BD:BK:BI:BVT:BLT:QQ\\t0/1:FN:am:tv:SNP:het:.\\t1/1:FP:am:tv:SNP:homalt:4637.06',\n",
       " '20\\t60838684\\t.\\tG\\tA\\t1549.06\\t.\\tBS=60838672\\tGT:BD:BK:BI:BVT:BLT:QQ\\t0/1:FN:am:ti:SNP:het:.\\t1/1:FP:am:ti:SNP:homalt:1549.06',\n",
       " '20\\t61525254\\t.\\tG\\tT\\t6294.06\\t.\\tBS=61525035\\tGT:BD:BK:BI:BVT:BLT:QQ\\t0/1:FN:am:tv:SNP:het:.\\t1/1:FP:am:tv:SNP:homalt:6294.06',\n",
       " '22\\t19960485\\t.\\tG\\tC\\t2912.06\\t.\\tBS=19960455\\tGT:BD:BK:BI:BVT:BLT:QQ\\t0/1:FN:am:tv:SNP:het:.\\t1/1:FP:am:tv:SNP:homalt:2912.06',\n",
       " '22\\t22893261\\t.\\tT\\tC\\t4629.06\\t.\\tBS=22893189\\tGT:BD:BK:BI:BVT:BLT:QQ\\t0/1:FN:am:ti:SNP:het:.\\t1/1:FP:am:ti:SNP:homalt:4629.06',\n",
       " '22\\t25597401\\t.\\tC\\tG\\t4906.06\\t.\\tBS=25597368\\tGT:BD:BK:BI:BVT:BLT:QQ\\t0/1:FN:am:tv:SNP:het:.\\t1/1:FP:am:tv:SNP:homalt:4906.06',\n",
       " '22\\t31741262\\t.\\tG\\tA\\t5101.06\\t.\\tBS=31740318\\tGT:BD:BK:BI:BVT:BLT:QQ\\t0/1:FN:am:ti:SNP:het:.\\t1/1:FP:am:ti:SNP:homalt:5101.06',\n",
       " '22\\t41547861\\t.\\tG\\tA\\t1775.06\\t.\\tBS=41547839\\tGT:BD:BK:BI:BVT:BLT:QQ\\t0/1:FN:am:ti:SNP:het:.\\t1/1:FP:am:ti:SNP:homalt:1775.06',\n",
       " '22\\t42423125\\t.\\tC\\tT\\t6162.06\\t.\\tBS=42422775\\tGT:BD:BK:BI:BVT:BLT:QQ\\t0/1:FN:am:ti:SNP:het:.\\t1/1:FP:am:ti:SNP:homalt:6162.06',\n",
       " '22\\t46654120\\t.\\tC\\tT\\t5545.06\\t.\\tBS=46652462\\tGT:BD:BK:BI:BVT:BLT:QQ\\t0/1:FN:am:ti:SNP:het:.\\t1/1:FP:am:ti:SNP:homalt:5545.06',\n",
       " '22\\t46929819\\t.\\tG\\tA\\t5993.06\\t.\\tBS=46929529\\tGT:BD:BK:BI:BVT:BLT:QQ\\t0/1:FN:am:ti:SNP:het:.\\t1/1:FP:am:ti:SNP:homalt:5993.06',\n",
       " '3\\t33648232\\t.\\tT\\tG\\t7307.06\\t.\\tBS=33648087\\tGT:BD:BK:BI:BVT:BLT:QQ\\t0/1:FN:am:tv:SNP:het:.\\t1/1:FP:am:tv:SNP:homalt:7307.06',\n",
       " '3\\t44841874\\t.\\tA\\tT\\t3963.06\\t.\\tBS=44841807\\tGT:BD:BK:BI:BVT:BLT:QQ\\t0/1:FN:am:tv:SNP:het:.\\t1/1:FP:am:tv:SNP:homalt:3963.06',\n",
       " '3\\t48309548\\t.\\tC\\tG\\t7041.06\\t.\\tBS=48309407\\tGT:BD:BK:BI:BVT:BLT:QQ\\t0/1:FN:am:tv:SNP:het:.\\t1/1:FP:am:tv:SNP:homalt:7041.06',\n",
       " '3\\t50513572\\t.\\tC\\tA\\t1645.06\\t.\\tBS=50513549\\tGT:BD:BK:BI:BVT:BLT:QQ\\t0/1:FN:am:tv:SNP:het:.\\t1/1:FP:am:tv:SNP:homalt:1645.06',\n",
       " '3\\t55984542\\t.\\tG\\tC\\t5438.06\\t.\\tBS=55984462\\tGT:BD:BK:BI:BVT:BLT:QQ\\t0/1:FN:am:tv:SNP:het:.\\t1/1:FP:am:tv:SNP:homalt:5438.06',\n",
       " '3\\t58133989\\t.\\tG\\tT\\t3428.06\\t.\\tBS=58133937\\tGT:BD:BK:BI:BVT:BLT:QQ\\t0/1:FN:am:tv:SNP:het:.\\t1/1:FP:am:tv:SNP:homalt:3428.06',\n",
       " '3\\t62739256\\t.\\tC\\tT\\t5201.06\\t.\\tBS=62739116\\tGT:BD:BK:BI:BVT:BLT:QQ\\t0/1:FN:am:ti:SNP:het:.\\t1/1:FP:am:ti:SNP:homalt:5201.06',\n",
       " '3\\t69244512\\t.\\tG\\tT\\t5828.06\\t.\\tBS=69244389\\tGT:BD:BK:BI:BVT:BLT:QQ\\t0/1:FN:am:tv:SNP:het:.\\t1/1:FP:am:tv:SNP:homalt:5828.06',\n",
       " '3\\t88189025\\t.\\tG\\tC\\t6888.06\\t.\\tBS=88188466\\tGT:BD:BK:BI:BVT:BLT:QQ\\t0/1:FN:am:tv:SNP:het:.\\t1/1:FP:am:tv:SNP:homalt:6888.06',\n",
       " '3\\t100605115\\t.\\tG\\tA\\t4950.06\\t.\\tBS=100604988\\tGT:BD:BK:BI:BVT:BLT:QQ\\t0/1:FN:am:ti:SNP:het:.\\t1/1:FP:am:ti:SNP:homalt:4950.06',\n",
       " '3\\t101477064\\t.\\tC\\tG\\t6364.06\\t.\\tBS=101476480\\tGT:BD:BK:BI:BVT:BLT:QQ\\t0/1:FN:am:tv:SNP:het:.\\t1/1:FP:am:tv:SNP:homalt:6364.06',\n",
       " '3\\t108124287\\t.\\tC\\tT\\t5460.06\\t.\\tBS=108124188\\tGT:BD:BK:BI:BVT:BLT:QQ\\t0/1:FN:am:ti:SNP:het:.\\t1/1:FP:am:ti:SNP:homalt:5460.06',\n",
       " '3\\t119536020\\t.\\tG\\tA\\t5281.06\\t.\\tBS=119535922\\tGT:BD:BK:BI:BVT:BLT:QQ\\t0/1:FN:am:ti:SNP:het:.\\t1/1:FP:am:ti:SNP:homalt:5281.06',\n",
       " '3\\t124567323\\t.\\tC\\tG\\t6930.06\\t.\\tBS=124567159\\tGT:BD:BK:BI:BVT:BLT:QQ\\t0/1:FN:am:tv:SNP:het:.\\t1/1:FP:am:tv:SNP:homalt:6930.06',\n",
       " '3\\t130129353\\t.\\tT\\tA\\t2674.06\\t.\\tBS=130129322\\tGT:BD:BK:BI:BVT:BLT:QQ\\t0/1:FN:am:tv:SNP:het:.\\t1/1:FP:am:tv:SNP:homalt:2674.06',\n",
       " '3\\t154898244\\t.\\tG\\tT\\t4218.06\\t.\\tBS=154898149\\tGT:BD:BK:BI:BVT:BLT:QQ\\t0/1:FN:am:tv:SNP:het:.\\t1/1:FP:am:tv:SNP:homalt:4218.06',\n",
       " '3\\t185198233\\t.\\tG\\tT\\t6092.06\\t.\\tBS=185198023\\tGT:BD:BK:BI:BVT:BLT:QQ\\t0/1:FN:am:tv:SNP:het:.\\t1/1:FP:am:tv:SNP:homalt:6092.06',\n",
       " '3\\t196650385\\t.\\tA\\tG\\t6260.06\\t.\\tBS=196650285\\tGT:BD:BK:BI:BVT:BLT:QQ\\t0/1:FN:am:ti:SNP:het:.\\t1/1:FP:am:ti:SNP:homalt:6260.06',\n",
       " '4\\t366902\\t.\\tC\\tT\\t6143.06\\t.\\tBS=366460\\tGT:BD:BK:BI:BVT:BLT:QQ\\t0/1:FN:am:ti:SNP:het:.\\t1/1:FP:am:ti:SNP:homalt:6143.06',\n",
       " '4\\t42448650\\t.\\tC\\tA\\t2503.06\\t.\\tBS=42448610\\tGT:BD:BK:BI:BVT:BLT:QQ\\t0/1:FN:am:tv:SNP:het:.\\t1/1:FP:am:tv:SNP:homalt:2503.06',\n",
       " '4\\t56475338\\t.\\tG\\tA\\t3305.06\\t.\\tBS=56475297\\tGT:BD:BK:BI:BVT:BLT:QQ\\t0/1:FN:am:ti:SNP:het:.\\t1/1:FP:am:ti:SNP:homalt:3305.06',\n",
       " '4\\t74014608\\t.\\tT\\tA\\t4332.06\\t.\\tBS=74014530\\tGT:BD:BK:BI:BVT:BLT:QQ\\t0/1:FN:am:tv:SNP:het:.\\t1/1:FP:am:tv:SNP:homalt:4332.06',\n",
       " '4\\t88537443\\t.\\tG\\tT\\t6079.06\\t.\\tBS=88536645\\tGT:BD:BK:BI:BVT:BLT:QQ\\t0/1:FN:am:tv:SNP:het:.\\t1/1:FP:am:tv:SNP:homalt:6079.06',\n",
       " '4\\t155156851\\t.\\tT\\tG\\t7357.06\\t.\\tBS=155155691\\tGT:BD:BK:BI:BVT:BLT:QQ\\t0/1:FN:am:tv:SNP:het:.\\t1/1:FP:am:tv:SNP:homalt:7357.06',\n",
       " '4\\t162841722\\t.\\tC\\tA\\t6047.06\\t.\\tBS=162841556\\tGT:BD:BK:BI:BVT:BLT:QQ\\t0/1:FN:am:tv:SNP:het:.\\t1/1:FP:am:tv:SNP:homalt:6047.06',\n",
       " '4\\t165961778\\t.\\tC\\tT\\t5414.06\\t.\\tBS=165961228\\tGT:BD:BK:BI:BVT:BLT:QQ\\t0/1:FN:am:ti:SNP:het:.\\t1/1:FP:am:ti:SNP:homalt:5414.06',\n",
       " '4\\t170618717\\t.\\tC\\tT\\t6182.06\\t.\\tBS=170618686\\tGT:BD:BK:BI:BVT:BLT:QQ\\t0/1:FN:am:ti:SNP:het:.\\t1/1:FP:am:ti:SNP:homalt:6182.06',\n",
       " '5\\t484737\\t.\\tC\\tA\\t5246.06\\t.\\tBS=484636\\tGT:BD:BK:BI:BVT:BLT:QQ\\t0/1:FN:am:tv:SNP:het:.\\t1/1:FP:am:tv:SNP:homalt:5246.06',\n",
       " '5\\t3596412\\t.\\tG\\tA\\t5944.06\\t.\\tBS=3596411\\tGT:BD:BK:BI:BVT:BLT:QQ\\t0/1:FN:am:ti:SNP:het:.\\t1/1:FP:am:ti:SNP:homalt:5944.06',\n",
       " '5\\t13830176\\t.\\tT\\tC\\t3094.06\\t.\\tBS=13830143\\tGT:BD:BK:BI:BVT:BLT:QQ\\t0/1:FN:am:ti:SNP:het:.\\t1/1:FP:am:ti:SNP:homalt:3094.06',\n",
       " '5\\t39311303\\t.\\tA\\tG\\t3896.06\\t.\\tBS=39311243\\tGT:BD:BK:BI:BVT:BLT:QQ\\t0/1:FN:am:ti:SNP:het:.\\t1/1:FP:am:ti:SNP:homalt:3896.06',\n",
       " '5\\t71616224\\t.\\tT\\tA\\t5560.06\\t.\\tBS=71616215\\tGT:BD:BK:BI:BVT:BLT:QQ\\t0/1:FN:am:tv:SNP:het:.\\t1/1:FP:am:tv:SNP:homalt:5560.06',\n",
       " '5\\t82834788\\t.\\tC\\tA\\t5981.06\\t.\\tBS=82832828\\tGT:BD:BK:BI:BVT:BLT:QQ\\t0/1:FN:am:tv:SNP:het:.\\t1/1:FP:am:tv:SNP:homalt:5981.06',\n",
       " '5\\t101593707\\t.\\tA\\tT\\t3526.06\\t.\\tBS=101593650\\tGT:BD:BK:BI:BVT:BLT:QQ\\t0/1:FN:am:tv:SNP:het:.\\t1/1:FP:am:tv:SNP:homalt:3526.06',\n",
       " '5\\t131554286\\t.\\tA\\tT\\t3026.06\\t.\\tBS=131554245\\tGT:BD:BK:BI:BVT:BLT:QQ\\t0/1:FN:am:tv:SNP:het:.\\t1/1:FP:am:tv:SNP:homalt:3026.06',\n",
       " '5\\t134345142\\t.\\tC\\tA\\t5109.06\\t.\\tBS=134345063\\tGT:BD:BK:BI:BVT:BLT:QQ\\t0/1:FN:am:tv:SNP:het:.\\t1/1:FP:am:tv:SNP:homalt:5109.06',\n",
       " '5\\t138266584\\t.\\tG\\tT\\t3718.06\\t.\\tBS=138266520\\tGT:BD:BK:BI:BVT:BLT:QQ\\t0/1:FN:am:tv:SNP:het:.\\t1/1:FP:am:tv:SNP:homalt:3718.06',\n",
       " '5\\t141993682\\t.\\tC\\tA\\t6211.06\\t.\\tBS=141993533\\tGT:BD:BK:BI:BVT:BLT:QQ\\t0/1:FN:am:tv:SNP:het:.\\t1/1:FP:am:tv:SNP:homalt:6211.06',\n",
       " '5\\t142513664\\t.\\tG\\tA\\t5132.06\\t.\\tBS=142513541\\tGT:BD:BK:BI:BVT:BLT:QQ\\t0/1:FN:am:ti:SNP:het:.\\t1/1:FP:am:ti:SNP:homalt:5132.06',\n",
       " '5\\t151784003\\t.\\tG\\tC\\t3981.06\\t.\\tBS=151783950\\tGT:BD:BK:BI:BVT:BLT:QQ\\t0/1:FN:am:tv:SNP:het:.\\t1/1:FP:am:tv:SNP:homalt:3981.06',\n",
       " '5\\t176022595\\t.\\tA\\tC\\t4337.06\\t.\\tBS=176022542\\tGT:BD:BK:BI:BVT:BLT:QQ\\t0/1:FN:am:tv:SNP:het:.\\t1/1:FP:am:tv:SNP:homalt:4337.06',\n",
       " '6\\t3155153\\t.\\tC\\tG\\t6330.06\\t.\\tBS=3154693\\tGT:BD:BK:BI:BVT:BLT:QQ\\t0/1:FN:am:tv:SNP:het:.\\t1/1:FP:am:tv:SNP:homalt:6330.06',\n",
       " '6\\t30680376\\t.\\tG\\tA\\t6166.06\\t.\\tBS=30679696\\tGT:BD:BK:BI:BVT:BLT:QQ\\t0/1:FN:am:ti:SNP:het:.\\t1/1:FP:am:ti:SNP:homalt:6166.06',\n",
       " '6\\t31474043\\t.\\tC\\tT\\t5443.06\\t.\\tBS=31473928\\tGT:BD:BK:BI:BVT:BLT:QQ\\t0/1:FN:am:ti:SNP:het:.\\t1/1:FP:am:ti:SNP:homalt:5443.06',\n",
       " '6\\t31778371\\t.\\tC\\tT\\t6280.06\\t.\\tBS=31777824\\tGT:BD:BK:BI:BVT:BLT:QQ\\t0/1:FN:am:ti:SNP:het:.\\t1/1:FP:am:ti:SNP:homalt:6280.06',\n",
       " '6\\t33631581\\t.\\tC\\tT\\t3842.06\\t.\\tBS=33631519\\tGT:BD:BK:BI:BVT:BLT:QQ\\t0/1:FN:am:ti:SNP:het:.\\t1/1:FP:am:ti:SNP:homalt:3842.06',\n",
       " '6\\t41001747\\t.\\tG\\tT\\t5172.06\\t.\\tBS=41001620\\tGT:BD:BK:BI:BVT:BLT:QQ\\t0/1:FN:am:tv:SNP:het:.\\t1/1:FP:am:tv:SNP:homalt:5172.06',\n",
       " '6\\t42976864\\t.\\tC\\tA\\t3979.06\\t.\\tBS=42976804\\tGT:BD:BK:BI:BVT:BLT:QQ\\t0/1:FN:am:tv:SNP:het:.\\t1/1:FP:am:tv:SNP:homalt:3979.06',\n",
       " '6\\t44413493\\t.\\tC\\tT\\t4567.06\\t.\\tBS=44413412\\tGT:BD:BK:BI:BVT:BLT:QQ\\t0/1:FN:am:ti:SNP:het:.\\t1/1:FP:am:ti:SNP:homalt:4567.06',\n",
       " '6\\t46846093\\t.\\tC\\tT\\t5333.06\\t.\\tBS=46845942\\tGT:BD:BK:BI:BVT:BLT:QQ\\t0/1:FN:am:ti:SNP:het:.\\t1/1:FP:am:ti:SNP:homalt:5333.06',\n",
       " '6\\t47676006\\t.\\tG\\tT\\t3196.06\\t.\\tBS=47675961\\tGT:BD:BK:BI:BVT:BLT:QQ\\t0/1:FN:am:tv:SNP:het:.\\t1/1:FP:am:tv:SNP:homalt:3196.06',\n",
       " '6\\t49701439\\t.\\tC\\tA\\t2101.06\\t.\\tBS=49701416\\tGT:BD:BK:BI:BVT:BLT:QQ\\t0/1:FN:am:tv:SNP:het:.\\t1/1:FP:am:tv:SNP:homalt:2101.06',\n",
       " '6\\t56358833\\t.\\tA\\tT\\t2030.06\\t.\\tBS=56358823\\tGT:BD:BK:BI:BVT:BLT:QQ\\t0/1:FN:am:tv:SNP:het:.\\t1/1:FP:am:tv:SNP:homalt:2030.06',\n",
       " '6\\t84108148\\t.\\tA\\tT\\t3348.06\\t.\\tBS=84108091\\tGT:BD:BK:BI:BVT:BLT:QQ\\t0/1:FN:am:tv:SNP:het:.\\t1/1:FP:am:tv:SNP:homalt:3348.06',\n",
       " '6\\t97679472\\t.\\tC\\tT\\t6335.06\\t.\\tBS=97679322\\tGT:BD:BK:BI:BVT:BLT:QQ\\t0/1:FN:am:ti:SNP:het:.\\t1/1:FP:am:ti:SNP:homalt:6335.06',\n",
       " '6\\t101086495\\t.\\tG\\tT\\t1827.06\\t.\\tBS=101086481\\tGT:BD:BK:BI:BVT:BLT:QQ\\t0/1:FN:am:tv:SNP:het:.\\t1/1:FP:am:tv:SNP:homalt:1827.06',\n",
       " '6\\t116910017\\t.\\tC\\tG\\t2136.06\\t.\\tBS=116910006\\tGT:BD:BK:BI:BVT:BLT:QQ\\t0/1:FN:am:tv:SNP:het:.\\t1/1:FP:am:tv:SNP:homalt:2136.06',\n",
       " '6\\t127469936\\t.\\tC\\tT\\t5369.06\\t.\\tBS=127469798\\tGT:BD:BK:BI:BVT:BLT:QQ\\t0/1:FN:am:ti:SNP:het:.\\t1/1:FP:am:ti:SNP:homalt:5369.06',\n",
       " '6\\t139609614\\t.\\tT\\tC\\t2195.06\\t.\\tBS=139609614\\tGT:BD:BK:BI:BVT:BLT:QQ\\t0/1:FN:am:ti:SNP:het:.\\t1/1:FP:am:ti:SNP:homalt:2195.06',\n",
       " '6\\t168711032\\t.\\tC\\tA\\t5238.06\\t.\\tBS=168710859\\tGT:BD:BK:BI:BVT:BLT:QQ\\t0/1:FN:am:tv:SNP:het:.\\t1/1:FP:am:tv:SNP:homalt:5238.06',\n",
       " '7\\t1528988\\t.\\tC\\tT\\t1052.06\\t.\\tBS=1528980\\tGT:BD:BK:BI:BVT:BLT:QQ\\t0/1:FN:am:ti:SNP:het:.\\t1/1:FP:am:ti:SNP:homalt:1052.06',\n",
       " '7\\t4874582\\t.\\tG\\tT\\t5966.06\\t.\\tBS=4874238\\tGT:BD:BK:BI:BVT:BLT:QQ\\t0/1:FN:am:tv:SNP:het:.\\t1/1:FP:am:tv:SNP:homalt:5966.06',\n",
       " '7\\t31855640\\t.\\tC\\tT\\t4949.06\\t.\\tBS=31855544\\tGT:BD:BK:BI:BVT:BLT:QQ\\t0/1:FN:am:ti:SNP:het:.\\t1/1:FP:am:ti:SNP:homalt:4949.06',\n",
       " '7\\t73770780\\t.\\tA\\tG\\t3212.06\\t.\\tBS=73770747\\tGT:BD:BK:BI:BVT:BLT:QQ\\t0/1:FN:am:ti:SNP:het:.\\t1/1:FP:am:ti:SNP:homalt:3212.06',\n",
       " '7\\t92762267\\t.\\tC\\tT\\t5857.06\\t.\\tBS=92760534\\tGT:BD:BK:BI:BVT:BLT:QQ\\t0/1:FN:am:ti:SNP:het:.\\t1/1:FP:am:ti:SNP:homalt:5857.06',\n",
       " '7\\t104717599\\t.\\tG\\tA\\t5340.06\\t.\\tBS=104717426\\tGT:BD:BK:BI:BVT:BLT:QQ\\t0/1:FN:am:ti:SNP:het:.\\t1/1:FP:am:ti:SNP:homalt:5340.06',\n",
       " '7\\t107431581\\t.\\tT\\tG\\t5437.06\\t.\\tBS=107431495\\tGT:BD:BK:BI:BVT:BLT:QQ\\t0/1:FN:am:tv:SNP:het:.\\t1/1:FP:am:tv:SNP:homalt:5437.06',\n",
       " '7\\t107704289\\t.\\tC\\tT\\t3707.06\\t.\\tBS=107704215\\tGT:BD:BK:BI:BVT:BLT:QQ\\t0/1:FN:am:ti:SNP:het:.\\t1/1:FP:am:ti:SNP:homalt:3707.06',\n",
       " '7\\t128356926\\t.\\tG\\tC\\t3834.06\\t.\\tBS=128356868\\tGT:BD:BK:BI:BVT:BLT:QQ\\t0/1:FN:am:tv:SNP:het:.\\t1/1:FP:am:tv:SNP:homalt:3834.06',\n",
       " '7\\t133984339\\t.\\tT\\tA\\t3788.06\\t.\\tBS=133984277\\tGT:BD:BK:BI:BVT:BLT:QQ\\t0/1:FN:am:tv:SNP:het:.\\t1/1:FP:am:tv:SNP:homalt:3788.06',\n",
       " '7\\t138447085\\t.\\tC\\tT\\t1855.06\\t.\\tBS=138447085\\tGT:BD:BK:BI:BVT:BLT:QQ\\t0/1:FN:am:ti:SNP:het:.\\t1/1:FP:am:ti:SNP:homalt:1855.06',\n",
       " '7\\t138552844\\t.\\tG\\tA\\t6185.06\\t.\\tBS=138552724\\tGT:BD:BK:BI:BVT:BLT:QQ\\t0/1:FN:am:ti:SNP:het:.\\t1/1:FP:am:ti:SNP:homalt:6185.06',\n",
       " '7\\t143175300\\t.\\tC\\tA\\t6217.06\\t.\\tBS=143174981\\tGT:BD:BK:BI:BVT:BLT:QQ\\t0/1:FN:am:tv:SNP:het:.\\t1/1:FP:am:tv:SNP:homalt:6217.06',\n",
       " '7\\t147869422\\t.\\tG\\tT\\t4768.06\\t.\\tBS=147869340\\tGT:BD:BK:BI:BVT:BLT:QQ\\t0/1:FN:am:tv:SNP:het:.\\t1/1:FP:am:tv:SNP:homalt:4768.06',\n",
       " '7\\t151874956\\t.\\tT\\tA\\t4989.06\\t.\\tBS=151873279\\tGT:BD:BK:BI:BVT:BLT:QQ\\t0/1:FN:am:tv:SNP:het:.\\t1/1:FP:am:tv:SNP:homalt:4989.06',\n",
       " '8\\t1497004\\t.\\tC\\tT\\t6304.06\\t.\\tBS=1496869\\tGT:BD:BK:BI:BVT:BLT:QQ\\t0/1:FN:am:ti:SNP:het:.\\t1/1:FP:am:ti:SNP:homalt:6304.06',\n",
       " '8\\t25290916\\t.\\tA\\tC\\t4358.06\\t.\\tBS=25290862\\tGT:BD:BK:BI:BVT:BLT:QQ\\t0/1:FN:am:tv:SNP:het:.\\t1/1:FP:am:tv:SNP:homalt:4358.06',\n",
       " '8\\t39467034\\t.\\tG\\tA\\t2387.06\\t.\\tBS=39467015\\tGT:BD:BK:BI:BVT:BLT:QQ\\t0/1:FN:am:ti:SNP:het:.\\t1/1:FP:am:ti:SNP:homalt:2387.06',\n",
       " '8\\t48811083\\t.\\tG\\tA\\t2950.06\\t.\\tBS=48811031\\tGT:BD:BK:BI:BVT:BLT:QQ\\t0/1:FN:am:ti:SNP:het:.\\t1/1:FP:am:ti:SNP:homalt:2950.06',\n",
       " '8\\t54684584\\t.\\tA\\tG\\t3041.06\\t.\\tBS=54684564\\tGT:BD:BK:BI:BVT:BLT:QQ\\t0/1:FN:am:ti:SNP:het:.\\t1/1:FP:am:ti:SNP:homalt:3041.06',\n",
       " '8\\t54866838\\t.\\tG\\tA\\t4990.06\\t.\\tBS=54866655\\tGT:BD:BK:BI:BVT:BLT:QQ\\t0/1:FN:am:ti:SNP:het:.\\t1/1:FP:am:ti:SNP:homalt:4990.06',\n",
       " '8\\t87464902\\t.\\tA\\tT\\t6010.06\\t.\\tBS=87464804\\tGT:BD:BK:BI:BVT:BLT:QQ\\t0/1:FN:am:tv:SNP:het:.\\t1/1:FP:am:tv:SNP:homalt:6010.06',\n",
       " '8\\t89058904\\t.\\tT\\tA\\t1554.06\\t.\\tBS=89058897\\tGT:BD:BK:BI:BVT:BLT:QQ\\t0/1:FN:am:tv:SNP:het:.\\t1/1:FP:am:tv:SNP:homalt:1554.06',\n",
       " '8\\t97274309\\t.\\tA\\tG\\t7207.06\\t.\\tBS=97274276\\tGT:BD:BK:BI:BVT:BLT:QQ\\t0/1:FN:am:ti:SNP:het:.\\t1/1:FP:am:ti:SNP:homalt:7207.06',\n",
       " '8\\t110509453\\t.\\tG\\tT\\t3555.06\\t.\\tBS=110509393\\tGT:BD:BK:BI:BVT:BLT:QQ\\t0/1:FN:am:tv:SNP:het:.\\t1/1:FP:am:tv:SNP:homalt:3555.06',\n",
       " '8\\t120859270\\t.\\tT\\tC\\t3384.06\\t.\\tBS=120859235\\tGT:BD:BK:BI:BVT:BLT:QQ\\t0/1:FN:am:ti:SNP:het:.\\t1/1:FP:am:ti:SNP:homalt:3384.06',\n",
       " '8\\t140631134\\t.\\tG\\tT\\t6102.06\\t.\\tBS=140630506\\tGT:BD:BK:BI:BVT:BLT:QQ\\t0/1:FN:am:tv:SNP:het:.\\t1/1:FP:am:tv:SNP:homalt:6102.06',\n",
       " '8\\t141285886\\t.\\tC\\tT\\t5162.06\\t.\\tBS=141285767\\tGT:BD:BK:BI:BVT:BLT:QQ\\t0/1:FN:am:ti:SNP:het:.\\t1/1:FP:am:ti:SNP:homalt:5162.06',\n",
       " '8\\t145154313\\t.\\tG\\tT\\t5956.06\\t.\\tBS=145154188\\tGT:BD:BK:BI:BVT:BLT:QQ\\t0/1:FN:am:tv:SNP:het:.\\t1/1:FP:am:tv:SNP:homalt:5956.06',\n",
       " '8\\t145235411\\t.\\tG\\tA\\t4604.06\\t.\\tBS=145235329\\tGT:BD:BK:BI:BVT:BLT:QQ\\t0/1:FN:am:ti:SNP:het:.\\t1/1:FP:am:ti:SNP:homalt:4604.06',\n",
       " '9\\t74360081\\t.\\tC\\tT\\t6045.06\\t.\\tBS=74359940\\tGT:BD:BK:BI:BVT:BLT:QQ\\t0/1:FN:am:ti:SNP:het:.\\t1/1:FP:am:ti:SNP:homalt:6045.06',\n",
       " '9\\t86903015\\t.\\tC\\tG\\t3502.06\\t.\\tBS=86902964\\tGT:BD:BK:BI:BVT:BLT:QQ\\t0/1:FN:am:tv:SNP:het:.\\t1/1:FP:am:tv:SNP:homalt:3502.06',\n",
       " '9\\t88959987\\t.\\tT\\tC\\t6063.06\\t.\\tBS=88959907\\tGT:BD:BK:BI:BVT:BLT:QQ\\t0/1:FN:am:ti:SNP:het:.\\t1/1:FP:am:ti:SNP:homalt:6063.06',\n",
       " '9\\t100693040\\t.\\tC\\tT\\t5400.06\\t.\\tBS=100692322\\tGT:BD:BK:BI:BVT:BLT:QQ\\t0/1:FN:am:ti:SNP:het:.\\t1/1:FP:am:ti:SNP:homalt:5400.06',\n",
       " '9\\t103261118\\t.\\tG\\tA\\t4161.06\\t.\\tBS=103261052\\tGT:BD:BK:BI:BVT:BLT:QQ\\t./.:.:.:.:NOCALL:nocall:.\\t1/1:FP:.:ti:SNP:homalt:4161.06',\n",
       " '9\\t104432815\\t.\\tT\\tC\\t6593.06\\t.\\tBS=104432343\\tGT:BD:BK:BI:BVT:BLT:QQ\\t0/1:FN:am:ti:SNP:het:.\\t1/1:FP:am:ti:SNP:homalt:6593.06',\n",
       " '9\\t111903647\\t.\\tA\\tG\\t2690.06\\t.\\tBS=111903626\\tGT:BD:BK:BI:BVT:BLT:QQ\\t0/1:FN:am:ti:SNP:het:.\\t1/1:FP:am:ti:SNP:homalt:2690.06',\n",
       " '9\\t114393784\\t.\\tG\\tA\\t6155.06\\t.\\tBS=114393784\\tGT:BD:BK:BI:BVT:BLT:QQ\\t./.:.:.:.:NOCALL:nocall:.\\t1/1:FP:.:ti:SNP:homalt:6155.06',\n",
       " '9\\t125377562\\t.\\tC\\tT\\t5946.06\\t.\\tBS=125377031\\tGT:BD:BK:BI:BVT:BLT:QQ\\t0/1:FN:am:ti:SNP:het:.\\t1/1:FP:am:ti:SNP:homalt:5946.06',\n",
       " '9\\t133942520\\t.\\tG\\tA\\t5036.06\\t.\\tBS=133942350\\tGT:BD:BK:BI:BVT:BLT:QQ\\t0/1:FN:am:ti:SNP:het:.\\t1/1:FP:am:ti:SNP:homalt:5036.06',\n",
       " '9\\t139229081\\t.\\tC\\tT\\t6381.06\\t.\\tBS=139228910\\tGT:BD:BK:BI:BVT:BLT:QQ\\t0/1:FN:am:ti:SNP:het:.\\t1/1:FP:am:ti:SNP:homalt:6381.06',\n",
       " 'X\\t7811759\\t.\\tC\\tA\\t3988.06\\t.\\tBS=7811553\\tGT:BD:BK:BI:BVT:BLT:QQ\\t0/1:FN:am:tv:SNP:het:.\\t1/1:FP:am:tv:SNP:homalt:3988.06',\n",
       " 'X\\t9728813\\t.\\tC\\tT\\t3572.06\\t.\\tBS=9728757\\tGT:BD:BK:BI:BVT:BLT:QQ\\t0/1:FN:am:ti:SNP:het:.\\t1/1:FP:am:ti:SNP:homalt:3572.06',\n",
       " 'X\\t24735418\\t.\\tC\\tG\\t2052.06\\t.\\tBS=24735407\\tGT:BD:BK:BI:BVT:BLT:QQ\\t0/1:FN:am:tv:SNP:het:.\\t1/1:FP:am:tv:SNP:homalt:2052.06',\n",
       " 'X\\t34962792\\t.\\tG\\tA\\t5106.06\\t.\\tBS=34960954\\tGT:BD:BK:BI:BVT:BLT:QQ\\t0/1:FN:am:ti:SNP:het:.\\t1/1:FP:am:ti:SNP:homalt:5106.06',\n",
       " 'X\\t65427107\\t.\\tG\\tA\\t3212.06\\t.\\tBS=65427038\\tGT:BD:BK:BI:BVT:BLT:QQ\\t0/1:FN:am:ti:SNP:het:.\\t1/1:FP:am:ti:SNP:homalt:3212.06',\n",
       " 'X\\t100656658\\t.\\tT\\tC\\t3241.06\\t.\\tBS=100656623\\tGT:BD:BK:BI:BVT:BLT:QQ\\t0/1:FN:am:ti:SNP:het:.\\t1/1:FP:am:ti:SNP:homalt:3241.06',\n",
       " 'X\\t107863609\\t.\\tC\\tT\\t5902.06\\t.\\tBS=107863497\\tGT:BD:BK:BI:BVT:BLT:QQ\\t0/1:FN:am:ti:SNP:het:.\\t1/1:FP:am:ti:SNP:homalt:5902.06',\n",
       " 'X\\t108867841\\t.\\tG\\tT\\t5228.06\\t.\\tBS=108867824\\tGT:BD:BK:BI:BVT:BLT:QQ\\t0/1:FN:am:tv:SNP:het:.\\t1/1:FP:am:tv:SNP:homalt:5228.06',\n",
       " 'X\\t110495659\\t.\\tG\\tT\\t5403.06\\t.\\tBS=110495535\\tGT:BD:BK:BI:BVT:BLT:QQ\\t0/1:FN:am:tv:SNP:het:.\\t1/1:FP:am:tv:SNP:homalt:5403.06',\n",
       " 'X\\t119500546\\t.\\tC\\tA\\t5179.06\\t.\\tBS=119500380\\tGT:BD:BK:BI:BVT:BLT:QQ\\t0/1:FN:am:tv:SNP:het:.\\t1/1:FP:am:tv:SNP:homalt:5179.06',\n",
       " 'X\\t151303797\\t.\\tG\\tA\\t5164.06\\t.\\tBS=151302988\\tGT:BD:BK:BI:BVT:BLT:QQ\\t0/1:FN:am:ti:SNP:het:.\\t1/1:FP:am:ti:SNP:homalt:5164.06',\n",
       " 'X\\t153589721\\t.\\tG\\tT\\t2536.06\\t.\\tBS=153589684\\tGT:BD:BK:BI:BVT:BLT:QQ\\t0/1:FN:am:tv:SNP:het:.\\t1/1:FP:am:tv:SNP:homalt:2536.06']"
      ]
     },
     "execution_count": 13,
     "metadata": {},
     "output_type": "execute_result"
    }
   ],
   "source": [
    "fp_lines"
   ]
  },
  {
   "cell_type": "code",
   "execution_count": 20,
   "metadata": {},
   "outputs": [
    {
     "name": "stdout",
     "output_type": "stream",
     "text": [
      "1\t1564591\tvcrs_4897191\tG\tA\t.\tPASS\t.\tGT\t0/1\n"
     ]
    }
   ],
   "source": [
    "!zgrep -P '^\\S+\\t1564591\\t' {cosmic_simulated_vcf_in_happy_base_dir}"
   ]
  },
  {
   "cell_type": "code",
   "execution_count": 25,
   "metadata": {},
   "outputs": [
    {
     "name": "stdout",
     "output_type": "stream",
     "text": [
      "{'TP': 339, 'FP': 3, 'FN': 5303345}\n"
     ]
    }
   ],
   "source": [
    "summary_csv_path = '/home/jmrich/Desktop/RLSRWP_2025/happy/gatk_haplotypecaller3/happy.summary.csv'\n",
    "summary_df = pd.read_csv(summary_csv_path)\n",
    "summary_df = summary_df.loc[summary_df[\"Filter\"] == \"ALL\"]\n",
    "\n",
    "# Sum total TP, FP, FN across all rows\n",
    "total_tp = summary_df[\"TRUTH.TP\"].sum()\n",
    "total_fp = summary_df[\"QUERY.FP\"].sum()\n",
    "total_fn = summary_df[\"TRUTH.FN\"].sum()\n",
    "\n",
    "# Store in dictionary\n",
    "results = {\n",
    "    \"TP\": int(total_tp),\n",
    "    \"FP\": int(total_fp),\n",
    "    \"FN\": int(total_fn),\n",
    "}\n",
    "\n",
    "# # Save to file\n",
    "# with open(\"happy_counts.txt\", \"w\") as f:\n",
    "#     for k, v in results.items():\n",
    "#         f.write(f\"{k}: {v}\\n\")\n",
    "\n",
    "# Also print if desired\n",
    "print(results)"
   ]
  },
  {
   "cell_type": "code",
   "execution_count": 26,
   "metadata": {},
   "outputs": [
    {
     "data": {
      "text/plain": [
       "'/home/jmrich/Desktop/RLSRWP_2025/happy/gatk_haplotypecaller'"
      ]
     },
     "execution_count": 26,
     "metadata": {},
     "output_type": "execute_result"
    }
   ],
   "source": [
    "happy_out_dir"
   ]
  },
  {
   "cell_type": "code",
   "execution_count": 28,
   "metadata": {},
   "outputs": [
    {
     "name": "stderr",
     "output_type": "stream",
     "text": [
      "Scanning VCF for FPs: 5303820it [00:22, 230671.79it/s]                             \n"
     ]
    }
   ],
   "source": [
    "# get FP lines\n",
    "fp_lines2 = []\n",
    "with gzip.open(\"/home/jmrich/Desktop/RLSRWP_2025/happy/gatk_haplotypecaller3/happy.vcf.gz\", \"rt\") as f:\n",
    "    total_lines = sum(1 for line in f if not line.startswith(\"#\"))\n",
    "\n",
    "with gzip.open(\"/home/jmrich/Desktop/RLSRWP_2025/happy/gatk_haplotypecaller3/happy.vcf.gz\", \"rt\") as f:  # \"rt\" = read text mode\n",
    "    for line in tqdm(f, total=total_lines, desc=\"Scanning VCF for FPs\"):\n",
    "        if line.startswith(\"#\"):\n",
    "            continue\n",
    "        fields = line.strip().split(\"\\t\")\n",
    "        format_fields = fields[8].split(\":\")\n",
    "        sample_fields = fields[9:]  # assume >=1 samples\n",
    "        for sample in sample_fields:\n",
    "            sample_values = sample.split(\":\")\n",
    "            sample_dict = dict(zip(format_fields, sample_values))\n",
    "            if sample_dict.get(\"BD\") == \"FP\":\n",
    "                fp_lines2.append(line.strip())\n",
    "                break  # no need to check more samples\n",
    "\n",
    "# Now fp_lines2 is a list of VCF lines marked as FP"
   ]
  },
  {
   "cell_type": "code",
   "execution_count": 29,
   "metadata": {},
   "outputs": [
    {
     "data": {
      "text/plain": [
       "['12\\t21033899\\t.\\tA\\tT\\t5026.06\\t.\\tExcessHet=0;FS=0;MQ=59.88;QD=20.94;SOR=0.71;QUERY_DP=240;QUERY_GQ=99;QUERY_GT=4,4;DP=241;AF=1;MLEAC=2;MLEAF=1;QUERY_AD=0,240;QUERY_PL=5040,697,0;AN=1;AC=1\\tGT:QQ:BD:BI:BVT:BLT\\t./.:.:.:.:NOCALL:nocall\\t./1:5026.06:FP:tv:SNP:halfcall',\n",
       " '9\\t103261118\\t.\\tG\\tA\\t4161.06\\t.\\tExcessHet=0;FS=0;MQ=60;QD=21.45;SOR=0.823;QUERY_DP=194;QUERY_GQ=99;QUERY_GT=4,4;DP=194;AF=1;MLEAC=2;MLEAF=1;QUERY_AD=0,194;QUERY_PL=4175,565,0;AN=1;AC=1\\tGT:QQ:BD:BI:BVT:BLT\\t./.:.:.:.:NOCALL:nocall\\t./1:4161.06:FP:ti:SNP:halfcall',\n",
       " '9\\t114393784\\t.\\tG\\tA\\t6155.06\\t.\\tExcessHet=0;FS=0;MQ=60;QD=24.82;SOR=0.759;QUERY_DP=248;QUERY_GQ=99;QUERY_GT=4,4;DP=248;AF=1;MLEAC=2;MLEAF=1;QUERY_AD=0,248;QUERY_PL=6169,743,0;AN=1;AC=1\\tGT:QQ:BD:BI:BVT:BLT\\t./.:.:.:.:NOCALL:nocall\\t./1:6155.06:FP:ti:SNP:halfcall']"
      ]
     },
     "execution_count": 29,
     "metadata": {},
     "output_type": "execute_result"
    }
   ],
   "source": [
    "fp_lines2"
   ]
  }
 ],
 "metadata": {
  "kernelspec": {
   "display_name": "varseek2",
   "language": "python",
   "name": "python3"
  },
  "language_info": {
   "codemirror_mode": {
    "name": "ipython",
    "version": 3
   },
   "file_extension": ".py",
   "mimetype": "text/x-python",
   "name": "python",
   "nbconvert_exporter": "python",
   "pygments_lexer": "ipython3",
   "version": "3.10.16"
  }
 },
 "nbformat": 4,
 "nbformat_minor": 2
}
