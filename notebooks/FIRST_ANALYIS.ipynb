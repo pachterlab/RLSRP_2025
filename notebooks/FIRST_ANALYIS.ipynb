{
 "cells": [
  {
   "cell_type": "code",
   "execution_count": null,
   "metadata": {},
   "outputs": [],
   "source": [
    "try:\n",
    "    import varseek as vk\n",
    "except ImportError:\n",
    "    print(\"varseek not found, installing...\")\n",
    "    !pip install -U -q varseek\n",
    "try:\n",
    "    import RLSRWP_2025\n",
    "except ImportError:\n",
    "    print(\"RLSRWP_2025 not found, installing...\")\n",
    "    !pip install -q git+https://github.com/pachterlab/RLSRWP_2025.git"
   ]
  },
  {
   "cell_type": "code",
   "execution_count": null,
   "metadata": {},
   "outputs": [],
   "source": [
    "import os\n",
    "# from varseek.utils import ...  # for functions used in both varseek and here\n",
    "# from RLSRWP_2025 import ...  # for functions only used here"
   ]
  },
  {
   "cell_type": "code",
   "execution_count": null,
   "metadata": {},
   "outputs": [],
   "source": [
    "RLSRWP_2025_dir = os.path.dirname(os.path.abspath(\"\"))  # if this notebook resides in RLSRWP_2025/notebooks/0_data_download.ipynb, then this retrieves RLSRWP_2025\n",
    "vk_count_fig1_dir = \"\""
   ]
  },
  {
   "cell_type": "code",
   "execution_count": null,
   "metadata": {},
   "outputs": [],
   "source": [
    "if not os.path.exists(vk_count_fig1_dir):\n",
    "    #!!! replace with adata download\n",
    "    import subprocess\n",
    "    subprocess.run([os.path.join(RLSRWP_2025_dir, \"scripts\", \"run_vk_count_fig1.py\")], check=True)"
   ]
  }
 ],
 "metadata": {
  "kernelspec": {
   "display_name": "RLSRWP_2025",
   "language": "python",
   "name": "python3"
  },
  "language_info": {
   "codemirror_mode": {
    "name": "ipython",
    "version": 3
   },
   "file_extension": ".py",
   "mimetype": "text/x-python",
   "name": "python",
   "nbconvert_exporter": "python",
   "pygments_lexer": "ipython3",
   "version": "3.10.16"
  }
 },
 "nbformat": 4,
 "nbformat_minor": 2
}
