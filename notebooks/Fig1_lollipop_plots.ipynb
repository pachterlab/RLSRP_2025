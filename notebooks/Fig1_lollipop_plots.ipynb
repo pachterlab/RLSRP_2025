{
 "cells": [
  {
   "cell_type": "code",
   "execution_count": 1,
   "metadata": {},
   "outputs": [],
   "source": [
    "%load_ext rpy2.ipython"
   ]
  },
  {
   "cell_type": "code",
   "execution_count": null,
   "metadata": {},
   "outputs": [],
   "source": [
    "%%R\n",
    "library(maftools)"
   ]
  },
  {
   "cell_type": "code",
   "execution_count": 4,
   "metadata": {},
   "outputs": [
    {
     "name": "stdout",
     "output_type": "stream",
     "text": [
      "  pos count\n",
      "1 262    24\n",
      "2 119    24\n",
      "3 820    27\n",
      "4 165    26\n",
      "5 710     6\n",
      "6 810    17\n"
     ]
    }
   ],
   "source": [
    "%%R\n",
    "my_data = data.frame(pos = sample.int(912, 15, replace = TRUE), count = sample.int(30, 15, replace = TRUE))\n",
    "head(my_data)"
   ]
  },
  {
   "cell_type": "code",
   "execution_count": null,
   "metadata": {},
   "outputs": [
    {
     "name": "stdout",
     "output_type": "stream",
     "text": [
      "     HGNC refseq.ID protein.ID aa.length\n",
      "1: DNMT3A NM_022552  NP_072046       912\n",
      "2: DNMT3A NM_153759  NP_715640       723\n",
      "3: DNMT3A NM_175629  NP_783328       912\n",
      "quartz_off_screen \n",
      "                2 \n"
     ]
    },
    {
     "data": {
      "text/plain": [
       "3 transcripts available. Use arguments refSeqID or proteinID to manually specify tx name.\n",
       "Using longer transcript NM_022552 for now.\n"
      ]
     },
     "metadata": {},
     "output_type": "display_data"
    }
   ],
   "source": [
    "%%R\n",
    "pdf(\"lollipop_plot.pdf\")\n",
    "lollipopPlot(data = my_data, gene = \"DNMT3A\")\n",
    "dev.off()"
   ]
  }
 ],
 "metadata": {
  "kernelspec": {
   "display_name": "RLSRWP_2025",
   "language": "python",
   "name": "python3"
  },
  "language_info": {
   "codemirror_mode": {
    "name": "ipython",
    "version": 3
   },
   "file_extension": ".py",
   "mimetype": "text/x-python",
   "name": "python",
   "nbconvert_exporter": "python",
   "pygments_lexer": "ipython3",
   "version": "3.10.16"
  }
 },
 "nbformat": 4,
 "nbformat_minor": 2
}
