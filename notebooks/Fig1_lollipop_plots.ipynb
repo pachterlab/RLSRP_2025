{
 "cells": [
  {
   "cell_type": "code",
   "execution_count": null,
   "metadata": {},
   "outputs": [
    {
     "name": "stdout",
     "output_type": "stream",
     "text": [
      "WARNING: ignoring environment value of R_HOME\n",
      "Error in updating CCLE metadata: Command '['Rscript', '/Users/joeyrich/Desktop/local/RLSRWP_2025/scripts/improve_ccle_metadata.R', 'ccle_json_test.json', 'ccle_json_test_updated_tmp.json']' returned non-zero exit status 1.\n"
     ]
    },
    {
     "name": "stderr",
     "output_type": "stream",
     "text": [
      "Error in contrib.url(repos, type) : \n",
      "  trying to use CRAN without setting a mirror\n",
      "Calls: install_if_missing -> install.packages -> startsWith -> contrib.url\n",
      "Execution halted\n"
     ]
    }
   ],
   "source": [
    "import os\n",
    "import subprocess\n",
    "json_path = \"ccle_json_test.json\"\n",
    "json_updated_path_tmp = \"ccle_json_test_updated_tmp.json\"\n",
    "\n",
    "if not os.path.exists(json_path):\n",
    "    ccle_metadata_download_command = [\"wget\", \"-q\", \"-O\", json_path, \"https://www.ebi.ac.uk/ena/portal/api/filereport?accession=PRJNA523380&result=read_run&fields=study_accession,sample_accession,experiment_accession,run_accession,scientific_name,library_strategy,experiment_title,experiment_alias,fastq_bytes,fastq_ftp,sra_ftp,sample_title&format=json&download=true&limit=0\"]\n",
    "    subprocess.run(ccle_metadata_download_command, check=True)\n",
    "\n",
    "    try:\n",
    "        subprocess.run([\"Rscript\", \"/Users/joeyrich/Desktop/local/RLSRWP_2025/scripts/improve_ccle_metadata.R\", json_path, json_updated_path_tmp], check=True)\n",
    "        os.rename(json_updated_path_tmp, json_path)\n",
    "    except Exception as e:\n",
    "        print(\"Error in updating CCLE metadata:\", e)"
   ]
  },
  {
   "cell_type": "code",
   "execution_count": 1,
   "metadata": {},
   "outputs": [],
   "source": [
    "%load_ext rpy2.ipython"
   ]
  },
  {
   "cell_type": "code",
   "execution_count": null,
   "metadata": {},
   "outputs": [],
   "source": [
    "%%R\n",
    "library(maftools)"
   ]
  },
  {
   "cell_type": "code",
   "execution_count": 4,
   "metadata": {},
   "outputs": [
    {
     "name": "stdout",
     "output_type": "stream",
     "text": [
      "  pos count\n",
      "1 262    24\n",
      "2 119    24\n",
      "3 820    27\n",
      "4 165    26\n",
      "5 710     6\n",
      "6 810    17\n"
     ]
    }
   ],
   "source": [
    "%%R\n",
    "my_data = data.frame(pos = sample.int(912, 15, replace = TRUE), count = sample.int(30, 15, replace = TRUE))\n",
    "head(my_data)"
   ]
  },
  {
   "cell_type": "code",
   "execution_count": null,
   "metadata": {},
   "outputs": [
    {
     "name": "stdout",
     "output_type": "stream",
     "text": [
      "     HGNC refseq.ID protein.ID aa.length\n",
      "1: DNMT3A NM_022552  NP_072046       912\n",
      "2: DNMT3A NM_153759  NP_715640       723\n",
      "3: DNMT3A NM_175629  NP_783328       912\n",
      "quartz_off_screen \n",
      "                2 \n"
     ]
    },
    {
     "data": {
      "text/plain": [
       "3 transcripts available. Use arguments refSeqID or proteinID to manually specify tx name.\n",
       "Using longer transcript NM_022552 for now.\n"
      ]
     },
     "metadata": {},
     "output_type": "display_data"
    }
   ],
   "source": [
    "%%R\n",
    "pdf(\"lollipop_plot.pdf\")\n",
    "lollipopPlot(data = my_data, gene = \"DNMT3A\")\n",
    "dev.off()"
   ]
  }
 ],
 "metadata": {
  "kernelspec": {
   "display_name": "RLSRWP_2025",
   "language": "python",
   "name": "python3"
  },
  "language_info": {
   "codemirror_mode": {
    "name": "ipython",
    "version": 3
   },
   "file_extension": ".py",
   "mimetype": "text/x-python",
   "name": "python",
   "nbconvert_exporter": "python",
   "pygments_lexer": "ipython3",
   "version": "3.10.16"
  }
 },
 "nbformat": 4,
 "nbformat_minor": 2
}
