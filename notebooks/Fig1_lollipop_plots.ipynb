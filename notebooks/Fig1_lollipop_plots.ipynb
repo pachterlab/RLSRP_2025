{
 "cells": [
  {
   "cell_type": "markdown",
   "metadata": {},
   "source": [
    "# Lollipop plot analysis"
   ]
  },
  {
   "cell_type": "markdown",
   "metadata": {},
   "source": [
    "## Requires having run vcf2maf on the output of vk clean with a command like this:\n",
    "- perl vcf2maf.pl --input-vcf variants.vcf --output-maf variants.maf --ref-fasta /path/to/reference/ensembl_grch37_release93/Homo_sapiens.GRCh37.dna.primary_assembly.fa --cache-version 93 --species homo_sapiens --ncbi-build GRCh37 --retain-info DP,NS"
   ]
  },
  {
   "cell_type": "code",
   "execution_count": 1,
   "metadata": {},
   "outputs": [],
   "source": [
    "# try:\n",
    "#     import varseek as vk\n",
    "# except ImportError:\n",
    "#     print(\"varseek not found, installing...\")\n",
    "#     !pip install -U -q varseek\n",
    "# try:\n",
    "#     import RLSRWP_2025\n",
    "# except ImportError:\n",
    "#     print(\"RLSRWP_2025 not found, installing...\")\n",
    "#     !pip install -q git+https://github.com/pachterlab/RLSRWP_2025.git"
   ]
  },
  {
   "cell_type": "code",
   "execution_count": 1,
   "metadata": {},
   "outputs": [],
   "source": [
    "import os\n",
    "from rpy2.robjects import pandas2ri, r, globalenv\n",
    "import pandas as pd\n",
    "import sys\n",
    "from varseek.utils import download_box_url  # for functions used in both varseek and here\n",
    "# from RLSRWP_2025 import ...  # for functions only used here\n",
    "\n",
    "RLSRWP_2025_dir = os.path.dirname(os.path.abspath(\"\"))  # if this notebook resides in RLSRWP_2025/notebooks/0_data_download.ipynb, then this retrieves RLSRWP_2025"
   ]
  },
  {
   "cell_type": "markdown",
   "metadata": {},
   "source": [
    "### File path definitions and imports"
   ]
  },
  {
   "cell_type": "code",
   "execution_count": null,
   "metadata": {},
   "outputs": [],
   "source": [
    "sorting_method = \"number_of_distinct_variants\"  # \"total_counts\" or \"number_of_distinct_variants\" or \"total_samples\"\n",
    "number_of_genes = 5  # int or True (for all)\n",
    "show_mutations = 3  # int or True (for all) or None (for none)\n",
    "displayed_counts = \"DP\"  # \"NS\" (number of samples, default maftools) or \"DP\" (counts across all samples)\n",
    "\n",
    "vk_count_out_dir = os.path.join(RLSRWP_2025_dir, \"data\", \"vk_count_out_fig1\")\n",
    "# maf_path = os.path.join(vk_count_out_dir, \"variants.maf\")  #!!! uncomment\n",
    "maf_path = \"/Users/joeyrich/Desktop/local/varseek/variants4.maf\"  #!!! erase\n",
    "\n",
    "out_dir = os.path.join(vk_count_out_dir, \"analysis\", \"lollipop_plots4\")"
   ]
  },
  {
   "cell_type": "markdown",
   "metadata": {},
   "source": [
    "### Download the MAF file"
   ]
  },
  {
   "cell_type": "code",
   "execution_count": 4,
   "metadata": {},
   "outputs": [],
   "source": [
    "if not os.path.exists(maf_path):\n",
    "    maf_url = \"\"  #!!!\n",
    "    download_box_url(maf_url, output_file_name=maf_path)"
   ]
  },
  {
   "cell_type": "markdown",
   "metadata": {},
   "source": [
    "### Load in rpy2"
   ]
  },
  {
   "cell_type": "code",
   "execution_count": 26,
   "metadata": {},
   "outputs": [
    {
     "name": "stdout",
     "output_type": "stream",
     "text": [
      "The rpy2.ipython extension is already loaded. To reload it, use:\n",
      "  %reload_ext rpy2.ipython\n"
     ]
    }
   ],
   "source": [
    "%load_ext rpy2.ipython"
   ]
  },
  {
   "cell_type": "code",
   "execution_count": 27,
   "metadata": {},
   "outputs": [],
   "source": [
    "# Activate the automatic conversion between pandas and R objects\n",
    "pandas2ri.activate()"
   ]
  },
  {
   "cell_type": "markdown",
   "metadata": {},
   "source": [
    "### Load in maftools"
   ]
  },
  {
   "cell_type": "code",
   "execution_count": 28,
   "metadata": {},
   "outputs": [],
   "source": [
    "%%R\n",
    "library(maftools)"
   ]
  },
  {
   "cell_type": "markdown",
   "metadata": {},
   "source": [
    "### Customize the lollipopPlot function from maftools to ensure counts display correctly\n",
    "Maftools normally displays counts based on the number of samples containing a mutation, where the occurrence of a mutation gets a separate row for each sample in which it occurs, and maftools adds up the number of rows. But if displayed_counts == \"DP\", then I must use the DP column from the VCF for counts."
   ]
  },
  {
   "cell_type": "code",
   "execution_count": null,
   "metadata": {},
   "outputs": [],
   "source": [
    "%%R -i displayed_counts\n",
    "lollipopPlot_custom <- function (maf, data = NULL, gene = NULL, AACol = NULL, labelPos = NULL, \n",
    "    labPosSize = 0.9, showMutationRate = TRUE, showDomainLabel = TRUE, \n",
    "    cBioPortal = FALSE, refSeqID = NULL, proteinID = NULL, roundedRect = TRUE, \n",
    "    repel = FALSE, collapsePosLabel = TRUE, showLegend = TRUE, \n",
    "    legendTxtSize = 0.8, labPosAngle = 0, domainLabelSize = 0.8, \n",
    "    axisTextSize = c(1, 1), printCount = FALSE, colors = NULL, \n",
    "    domainAlpha = 1, domainBorderCol = \"black\", bgBorderCol = \"black\", \n",
    "    labelOnlyUniqueDoamins = TRUE, defaultYaxis = FALSE, titleSize = c(1.2, \n",
    "        1), pointSize = 1.5, displayed_counts=\"NS\") \n",
    "{\n",
    "    if (is.null(gene)) {\n",
    "        stop(\"Please provide a gene name.\")\n",
    "    }\n",
    "    prot = maftools:::.getdomains(geneID = gene, refSeqID = refSeqID, proteinID = proteinID)\n",
    "    len = as.numeric(max(prot$aa.length, na.rm = TRUE))\n",
    "    prot = prot[, `:=`(domain_lenght, End - Start)][order(domain_lenght, \n",
    "        decreasing = TRUE)][, `:=`(domain_lenght, NULL)]\n",
    "    cbioSubTitle = gene\n",
    "    if (is.null(data)) {\n",
    "        mut = subsetMaf(maf = maf, includeSyn = FALSE, genes = gene,\n",
    "            query = \"Variant_Type != 'CNV'\", mafObj = FALSE)\n",
    "        if (is.null(AACol)) {\n",
    "            pchange = c(\"HGVSp_Short\", \"Protein_Change\", \"AAChange\")\n",
    "            if (length(pchange[pchange %in% colnames(mut)]) > \n",
    "                0) {\n",
    "                pchange = suppressWarnings(pchange[pchange %in% \n",
    "                    colnames(mut)][1])\n",
    "                message(paste0(\"Assuming protein change information are stored under column \", \n",
    "                    pchange, \". Use argument AACol to override if necessary.\"))\n",
    "                colnames(mut)[which(colnames(mut) == pchange)] = \"AAChange_\"\n",
    "            }\n",
    "            else {\n",
    "                message(\"Available fields:\")\n",
    "                print(colnames(mut))\n",
    "                stop(\"AAChange field not found in MAF. Use argument AACol to manually specifiy field name containing protein changes.\")\n",
    "            }\n",
    "        }\n",
    "        else {\n",
    "            if (length(which(colnames(mut) == AACol)) == 0) {\n",
    "                message(\"Available fields:\")\n",
    "                print(colnames(mut))\n",
    "                stop(paste0(\"Column \", AACol, \" not found.\"))\n",
    "            }\n",
    "            else {\n",
    "                colnames(mut)[which(colnames(mut) == AACol)] = \"AAChange_\"\n",
    "            }\n",
    "        }\n",
    "        prot.dat = mut[Hugo_Symbol %in% gene, .(Variant_Type, \n",
    "            Variant_Classification, AAChange_)]\n",
    "        if (nrow(prot.dat) == 0) {\n",
    "            stop(paste(gene, \"does not seem to have any mutations!\", \n",
    "                sep = \" \"))\n",
    "        }\n",
    "        sampleSize = as.numeric(maf@summary[ID %in% \"Samples\", \n",
    "            summary])\n",
    "        mutRate = round(getGeneSummary(x = maf)[Hugo_Symbol %in% \n",
    "            gene, MutatedSamples]/sampleSize * 100, digits = 2)\n",
    "        if (showMutationRate) {\n",
    "            cbioSubTitle = substitute(paste(italic(cbioSubTitle), \n",
    "                \" : [Somatic Mutation Rate: \", mutRate, \"%]\"))\n",
    "        }\n",
    "        prot.spl = strsplit(x = as.character(prot.dat$AAChange_), \n",
    "            split = \".\", fixed = TRUE)\n",
    "        prot.conv = sapply(sapply(prot.spl, function(x) x[length(x)]), \n",
    "            \"[\", 1)\n",
    "        prot.dat[, `:=`(conv, prot.conv)]\n",
    "        pos = gsub(pattern = \"Ter.*\", replacement = \"\", x = prot.dat$conv)\n",
    "        pos = gsub(pattern = \"[[:alpha:]]\", replacement = \"\", \n",
    "            x = pos)\n",
    "        pos = gsub(pattern = \"\\\\*$\", replacement = \"\", x = pos)\n",
    "        pos = gsub(pattern = \"^\\\\*\", replacement = \"\", x = pos)\n",
    "        pos = gsub(pattern = \"\\\\*.*\", replacement = \"\", x = pos)\n",
    "        pos = as.numeric(sapply(X = strsplit(x = pos, split = \"_\", \n",
    "            fixed = TRUE), FUN = function(x) x[1]))\n",
    "        prot.dat[, `:=`(pos, abs(pos))]\n",
    "        if (nrow(prot.dat[is.na(pos)]) > 0) {\n",
    "            message(paste(\"Removed\", nrow(prot.dat[is.na(prot.dat$pos), \n",
    "                ]), \"mutations for which AA position was not available\", \n",
    "                sep = \" \"))\n",
    "            prot.dat = prot.dat[!is.na(pos)]\n",
    "        }\n",
    "        prot.snp.sumamry = prot.dat[, .N, .(Variant_Classification, \n",
    "            conv, pos)]\n",
    "        colnames(prot.snp.sumamry)[ncol(prot.snp.sumamry)] = \"count\"\n",
    "        #!!! JMR\n",
    "        if (displayed_counts == \"DP\") {\n",
    "            mut$AAChange_trimmed <- substr(mut$AAChange_, 3, nchar(mut$AAChange_))  # trim off the 'p.' in front of each mutation in AAChange\n",
    "            prot.snp.sumamry <- merge(\n",
    "                prot.snp.sumamry, \n",
    "                mut[, .(AAChange_trimmed, DP)],  # Select only needed columns\n",
    "                by.x = \"conv\", \n",
    "                by.y = \"AAChange_trimmed\", \n",
    "                all.x = TRUE  # Keep all rows from prot.snp.sumamry\n",
    "            )  # merge by mutation ID\n",
    "            prot.snp.sumamry$count <- ifelse(is.na(prot.snp.sumamry$DP), 0, prot.snp.sumamry$DP)  # assign DP to count column\n",
    "            prot.snp.sumamry[, DP := NULL]  # drop DP column\n",
    "            prot.snp.sumamry <- unique(prot.snp.sumamry)  # drop duplicate rows - important if multiple mutations have the same position\n",
    "        } else if (displayed_counts == \"NS\") {\n",
    "            mut$AAChange_trimmed <- substr(mut$AAChange_, 3, nchar(mut$AAChange_))  # trim off the 'p.' in front of each mutation in AAChange\n",
    "            prot.snp.sumamry <- merge(\n",
    "                prot.snp.sumamry, \n",
    "                mut[, .(AAChange_trimmed, NS)],  # Select only needed columns\n",
    "                by.x = \"conv\", \n",
    "                by.y = \"AAChange_trimmed\", \n",
    "                all.x = TRUE  # Keep all rows from prot.snp.sumamry\n",
    "            )  # merge by mutation ID\n",
    "            prot.snp.sumamry$count <- ifelse(is.na(prot.snp.sumamry$NS), 0, prot.snp.sumamry$NS)  # assign NS to count column\n",
    "            prot.snp.sumamry[, NS := NULL]  # drop NS column\n",
    "            prot.snp.sumamry <- unique(prot.snp.sumamry)  # drop duplicate rows - important if multiple mutations have the same position\n",
    "        }\n",
    "        #!!! JMR\n",
    "    }\n",
    "    else {\n",
    "        prot.snp.sumamry = data.table::as.data.table(x = data)\n",
    "        colnames(prot.snp.sumamry)[1:2] = c(\"pos\", \"count\")\n",
    "        if (!\"Variant_Classification\" %in% colnames(prot.snp.sumamry)) {\n",
    "            prot.snp.sumamry$Variant_Classification = \"variant\"\n",
    "        }\n",
    "        if (!\"conv\" %in% colnames(prot.snp.sumamry)) {\n",
    "            prot.snp.sumamry$conv = prot.snp.sumamry$pos\n",
    "        }\n",
    "    }\n",
    "    if (cBioPortal) {\n",
    "        vc = c(\"Nonstop_Mutation\", \"Frame_Shift_Del\", \"Missense_Mutation\", \n",
    "            \"Nonsense_Mutation\", \"Splice_Site\", \"Frame_Shift_Ins\", \n",
    "            \"In_Frame_Del\", \"In_Frame_Ins\")\n",
    "        vc.cbio = c(\"Truncating\", \"Truncating\", \"Missense\", \n",
    "            \"Truncating\", \"Truncating\", \"Truncating\", \"In-frame\", \n",
    "            \"In-frame\")\n",
    "        names(vc.cbio) = vc\n",
    "        col = grDevices::adjustcolor(col = c(\"black\", \"#33A02C\", \n",
    "            \"brown\"), alpha.f = 0.7)\n",
    "        col = c(Truncating = col[1], Missense = col[2], `In-frame` = col[3])\n",
    "    }\n",
    "    else {\n",
    "        if (is.null(colors)) {\n",
    "            col = maftools:::get_vcColors(alpha = 0.7, named = TRUE)\n",
    "            col[\"variant\"] = \"#535C68B3\"\n",
    "        }\n",
    "        else {\n",
    "            col = colors\n",
    "        }\n",
    "    }\n",
    "    maxCount = max(prot.snp.sumamry$count, na.rm = TRUE)\n",
    "    prot.snp.sumamry = prot.snp.sumamry[order(pos), ]\n",
    "    if (cBioPortal) {\n",
    "        prot.snp.sumamry$Variant_Classification = vc.cbio[as.character(prot.snp.sumamry$Variant_Classification)]\n",
    "    }\n",
    "    if (maxCount <= 5) {\n",
    "        prot.snp.sumamry$count2 = 1 + prot.snp.sumamry$count\n",
    "        lim.pos = 2:6\n",
    "        lim.lab = 1:5\n",
    "    }\n",
    "    else {\n",
    "        prot.snp.sumamry$count2 = 1 + (prot.snp.sumamry$count * \n",
    "            (5/max(prot.snp.sumamry$count)))\n",
    "        lim.pos = prot.snp.sumamry[!duplicated(count2), count2]\n",
    "        lim.lab = prot.snp.sumamry[!duplicated(count2), count]\n",
    "    }\n",
    "    if (length(lim.pos) > 6) {\n",
    "        lim.dat = data.table::data.table(pos = lim.pos, lab = lim.lab)\n",
    "        lim.dat[, `:=`(posRounded, round(pos))]\n",
    "        lim.dat = lim.dat[!duplicated(posRounded)]\n",
    "        lim.pos = lim.dat[, pos]\n",
    "        lim.lab = lim.dat[, lab]\n",
    "    }\n",
    "    if (!defaultYaxis) {\n",
    "        lim.pos = c(min(lim.pos), max(lim.pos))\n",
    "        lim.lab = c(min(lim.lab), max(lim.lab))\n",
    "    }\n",
    "    clusterSize = 10\n",
    "    if (repel) {\n",
    "        prot.snp.sumamry = repelPoints(dat = prot.snp.sumamry, \n",
    "            protLen = len, clustSize = clusterSize)\n",
    "    }\n",
    "    else {\n",
    "        prot.snp.sumamry$pos2 = prot.snp.sumamry$pos\n",
    "    }\n",
    "    xlimPos = pretty(0:max(prot$aa.length, na.rm = TRUE))\n",
    "    xlimPos[length(xlimPos)] = max(prot$aa.length)\n",
    "    if (!is.null(labelPos)) {\n",
    "        prot.snp.sumamry = data.table::data.table(prot.snp.sumamry)\n",
    "        if (length(labelPos) == 1) {\n",
    "            if (labelPos != \"all\") {\n",
    "                prot.snp.sumamry$labThis = ifelse(test = prot.snp.sumamry$pos %in% \n",
    "                    labelPos, yes = \"yes\", no = \"no\")\n",
    "                labDat = prot.snp.sumamry[labThis %in% \"yes\"]\n",
    "            }\n",
    "            else {\n",
    "                labDat = prot.snp.sumamry\n",
    "            }\n",
    "        }\n",
    "        else {\n",
    "            prot.snp.sumamry$labThis = ifelse(test = prot.snp.sumamry$pos %in% \n",
    "                labelPos, yes = \"yes\", no = \"no\")\n",
    "            labDat = prot.snp.sumamry[labThis %in% \"yes\"]\n",
    "        }\n",
    "        if (nrow(labDat) == 0) {\n",
    "            message(paste0(\"Position \", labelPos, \" doesn't seem to be mutated. Here are the mutated foci.\"))\n",
    "            print(prot.snp.sumamry[, .(pos, conv, count, Variant_Classification)][order(pos)])\n",
    "            stop()\n",
    "        }\n",
    "        if (collapsePosLabel) {\n",
    "            uniquePos = unique(labDat[, pos2])\n",
    "            labDatCollapsed = data.table::data.table()\n",
    "            for (i in 1:length(uniquePos)) {\n",
    "                uniqueDat = labDat[pos2 %in% uniquePos[i]]\n",
    "                if (nrow(uniqueDat) > 1) {\n",
    "                    maxDat = max(uniqueDat[, count2])\n",
    "                    maxPos = unique(uniqueDat[, pos2])\n",
    "                    toLabel = uniqueDat[, conv]\n",
    "                    toLabel = paste(toLabel[1], paste(gsub(pattern = \"^[A-z]*[[:digit:]]*\", \n",
    "                        replacement = \"\", x = toLabel[2:length(toLabel)]), \n",
    "                        collapse = \"/\"), sep = \"/\")\n",
    "                    labDatCollapsed = rbind(labDatCollapsed, data.table::data.table(pos2 = maxPos, \n",
    "                        count2 = maxDat, conv = toLabel))\n",
    "                }\n",
    "                else {\n",
    "                    labDatCollapsed = rbind(labDatCollapsed, data.table::data.table(pos2 = uniqueDat[, \n",
    "                        pos2], count2 = uniqueDat[, count2], conv = uniqueDat[, \n",
    "                        conv]))\n",
    "                }\n",
    "            }\n",
    "            labDat = labDatCollapsed\n",
    "        }\n",
    "    }\n",
    "    domains = unique(prot[, Label])\n",
    "    domain_cols = maftools:::get_domain_cols()\n",
    "    if (length(domains) > length(domain_cols)) {\n",
    "        domain_cols = sample(colours(), size = length(domains), \n",
    "            replace = FALSE)\n",
    "    }\n",
    "    domain_cols = domain_cols[1:length(domains)]\n",
    "    domain_cols = grDevices::adjustcolor(col = domain_cols, \n",
    "        alpha.f = domainAlpha)\n",
    "    names(domain_cols) = domains\n",
    "    col = col[unique(as.character(prot.snp.sumamry[, Variant_Classification]))]\n",
    "    if (showLegend) {\n",
    "        lo = matrix(data = c(1, 1, 2, 2), nrow = 2, byrow = TRUE)\n",
    "        graphics::layout(mat = lo, heights = c(4, 1.25))\n",
    "        par(mar = c(1, 2.5, 2, 1))\n",
    "    }\n",
    "    else {\n",
    "        par(mar = c(2.5, 2.5, 2, 1))\n",
    "    }\n",
    "    plot(0, 0, pch = NA, ylim = c(0, 6.5), xlim = c(0, len), \n",
    "        axes = FALSE, xlab = NA, ylab = NA)\n",
    "    rect(xleft = 0, ybottom = 0.2, xright = len, ytop = 0.8, \n",
    "        col = \"#95a5a6\", border = bgBorderCol)\n",
    "    axis(side = 1, at = xlimPos, labels = xlimPos, lwd = 1.2, \n",
    "        font = 1, cex.axis = axisTextSize[1], line = -0.4)\n",
    "    axis(side = 2, at = lim.pos, labels = lim.lab, lwd = 1.2, \n",
    "        font = 1, las = 2, cex.axis = axisTextSize[2])\n",
    "    segments(x0 = prot.snp.sumamry[, pos2], y0 = 0.8, x1 = prot.snp.sumamry[, \n",
    "        pos2], y1 = prot.snp.sumamry[, count2 - 0.03], lwd = 1.2, \n",
    "        col = \"gray70\")\n",
    "    point_cols = col[as.character(prot.snp.sumamry$Variant_Classification)]\n",
    "    points(x = prot.snp.sumamry[, pos2], y = prot.snp.sumamry[, \n",
    "        count2], col = point_cols, pch = 16, cex = pointSize)\n",
    "    prot[, `:=`(domainCol, domain_cols[prot[, Label]])]\n",
    "    if (roundedRect) {\n",
    "        if (requireNamespace(\"berryFunctions\", quietly = TRUE)) {\n",
    "            for (i in 1:nrow(prot)) {\n",
    "                berryFunctions::roundedRect(xleft = prot[i, \n",
    "                    Start], ybottom = 0.1, xright = prot[i, End], \n",
    "                    ytop = 0.9, col = prot[i, domainCol], border = domainBorderCol, \n",
    "                    rounding = 0.08)\n",
    "            }\n",
    "        }\n",
    "        else {\n",
    "            rect(xleft = prot[, Start], ybottom = 0.1, xright = prot[, \n",
    "                End], ytop = 0.9, col = prot[, domainCol], border = domainBorderCol)\n",
    "        }\n",
    "    }\n",
    "    else {\n",
    "        rect(xleft = prot[, Start], ybottom = 0.1, xright = prot[, \n",
    "            End], ytop = 0.9, col = prot[, domainCol], border = domainBorderCol)\n",
    "    }\n",
    "    title(main = cbioSubTitle, adj = 0, font.main = 2, cex.main = titleSize[1], \n",
    "        line = 0.8)\n",
    "    title(main = unique(prot[, refseq.ID]), adj = 0, font.main = 1, \n",
    "        line = -0.5, cex.main = titleSize[2])\n",
    "    if (showDomainLabel) {\n",
    "        if (labelOnlyUniqueDoamins) {\n",
    "            prot = prot[!duplicated(Label)]\n",
    "        }\n",
    "        prot$pos = rowMeans(x = prot[, .(Start, End)], na.rm = FALSE)\n",
    "        text(y = 0.5, x = prot$pos, labels = prot$Label, font = 3, \n",
    "            cex = domainLabelSize)\n",
    "    }\n",
    "    if (!is.null(labelPos)) {\n",
    "        text(x = labDat[, pos2], y = labDat[, count2 + 0.45], \n",
    "            labels = labDat[, conv], font = 1, srt = labPosAngle, \n",
    "            cex = labPosSize, adj = 0.1)\n",
    "    }\n",
    "    if (showLegend) {\n",
    "        par(mar = c(0, 0.5, 1, 0), xpd = TRUE)\n",
    "        plot(NULL, ylab = \"\", xlab = \"\", xlim = 0:1, ylim = 0:1, \n",
    "            axes = FALSE)\n",
    "        lep = legend(\"topleft\", legend = names(col), col = col, \n",
    "            bty = \"n\", border = NA, xpd = TRUE, text.font = 1, \n",
    "            pch = 16, xjust = 0, yjust = 0, cex = legendTxtSize, \n",
    "            y.intersp = 1.5, x.intersp = 1, pt.cex = 1.2 * legendTxtSize, \n",
    "            ncol = ceiling(length(col)/4))\n",
    "        x_axp = 0 + lep$rect$w\n",
    "        if (!showDomainLabel) {\n",
    "            if (length(domain_cols) <= 4) {\n",
    "                n_col = 1\n",
    "            }\n",
    "            else {\n",
    "                n_col = (length(domain_cols)%/%4) + 1\n",
    "            }\n",
    "            lep = legend(x = x_axp, y = 1, legend = names(domain_cols), \n",
    "                col = domain_cols, border = NA, ncol = n_col, \n",
    "                pch = 15, xpd = TRUE, xjust = 0, bty = \"n\", \n",
    "                cex = legendTxtSize, title = \"Domains\", title.adj = 0, \n",
    "                pt.cex = 1.2 * legendTxtSize)\n",
    "        }\n",
    "    }\n",
    "    if (printCount) {\n",
    "        print(prot.snp.sumamry[, .(pos, conv, count, Variant_Classification)][order(pos)])\n",
    "    }\n",
    "}"
   ]
  },
  {
   "cell_type": "code",
   "execution_count": 9,
   "metadata": {},
   "outputs": [],
   "source": [
    "# %%R -i maf_path\n",
    "# cosmic_maf = read.maf(maf = maf_path)\n",
    "\n",
    "# lollipopPlot(\n",
    "#   maf = cosmic_maf,\n",
    "#   gene = 'MT-CO1',\n",
    "#   AACol = \"HGVSp_Short\",\n",
    "#   showMutationRate = TRUE,\n",
    "#   # labelPos = c(687, 678),\n",
    "# )"
   ]
  },
  {
   "cell_type": "markdown",
   "metadata": {},
   "source": [
    "### Load in data"
   ]
  },
  {
   "cell_type": "code",
   "execution_count": null,
   "metadata": {},
   "outputs": [
    {
     "name": "stdout",
     "output_type": "stream",
     "text": [
      "-Reading\n",
      "-Validating\n",
      "-Silent variants: 13 \n",
      "-Summarizing\n",
      "-Processing clinical data\n",
      "--Missing clinical data\n",
      "-Finished in 0.041s elapsed (0.022s cpu) \n"
     ]
    }
   ],
   "source": [
    "%%R -i maf_path\n",
    "cosmic_maf = read.maf(maf = maf_path)  # removeDuplicatedVariants=FALSE if needed, but I don't think it is"
   ]
  },
  {
   "cell_type": "code",
   "execution_count": 39,
   "metadata": {},
   "outputs": [
    {
     "data": {
      "application/vnd.microsoft.datawrangler.viewer.v0+json": {
       "columns": [
        {
         "name": "index",
         "rawType": "int64",
         "type": "integer"
        },
        {
         "name": "Hugo_Symbol",
         "rawType": "object",
         "type": "string"
        },
        {
         "name": "vcf_id",
         "rawType": "object",
         "type": "string"
        },
        {
         "name": "Tumor_Sample_Barcode",
         "rawType": "object",
         "type": "string"
        },
        {
         "name": "pos",
         "rawType": "int64",
         "type": "integer"
        },
        {
         "name": "HGVSp_Short",
         "rawType": "object",
         "type": "string"
        },
        {
         "name": "Variant_Classification",
         "rawType": "object",
         "type": "string"
        },
        {
         "name": "count",
         "rawType": "int64",
         "type": "integer"
        },
        {
         "name": "NS",
         "rawType": "int64",
         "type": "integer"
        }
       ],
       "conversionMethod": "pd.DataFrame",
       "ref": "b2c291d7-d4e3-4beb-9679-3e42ee13c990",
       "rows": [
        [
         "0",
         "WASH4P",
         "ENST00000326592:c.1235C>T",
         "TUMOR",
         "192",
         "p.T192=",
         "Silent",
         "2",
         "1"
        ],
        [
         "1",
         "MT-CO1",
         "ENST00000361624:c.924T>C",
         "TUMOR",
         "308",
         "p.A308=",
         "Silent",
         "2",
         "1"
        ],
        [
         "2",
         "MT-CO1",
         "ENST00000361624:c.1439G>A",
         "TUMOR",
         "480",
         "p.R480Q",
         "Missense_Mutation",
         "2",
         "1"
        ],
        [
         "3",
         "MT-CO1",
         "ENST00000361624:c.922G>A",
         "TUMOR",
         "308",
         "p.A308T",
         "Missense_Mutation",
         "8",
         "1"
        ],
        [
         "4",
         "MT-CO1",
         "ENST00000361624:c.1477G>A",
         "TUMOR",
         "493",
         "p.E493K",
         "Missense_Mutation",
         "3",
         "1"
        ]
       ],
       "shape": {
        "columns": 8,
        "rows": 5
       }
      },
      "text/html": [
       "<div>\n",
       "<style scoped>\n",
       "    .dataframe tbody tr th:only-of-type {\n",
       "        vertical-align: middle;\n",
       "    }\n",
       "\n",
       "    .dataframe tbody tr th {\n",
       "        vertical-align: top;\n",
       "    }\n",
       "\n",
       "    .dataframe thead th {\n",
       "        text-align: right;\n",
       "    }\n",
       "</style>\n",
       "<table border=\"1\" class=\"dataframe\">\n",
       "  <thead>\n",
       "    <tr style=\"text-align: right;\">\n",
       "      <th></th>\n",
       "      <th>Hugo_Symbol</th>\n",
       "      <th>vcf_id</th>\n",
       "      <th>Tumor_Sample_Barcode</th>\n",
       "      <th>pos</th>\n",
       "      <th>HGVSp_Short</th>\n",
       "      <th>Variant_Classification</th>\n",
       "      <th>count</th>\n",
       "      <th>NS</th>\n",
       "    </tr>\n",
       "  </thead>\n",
       "  <tbody>\n",
       "    <tr>\n",
       "      <th>0</th>\n",
       "      <td>WASH4P</td>\n",
       "      <td>ENST00000326592:c.1235C&gt;T</td>\n",
       "      <td>TUMOR</td>\n",
       "      <td>192</td>\n",
       "      <td>p.T192=</td>\n",
       "      <td>Silent</td>\n",
       "      <td>2</td>\n",
       "      <td>1</td>\n",
       "    </tr>\n",
       "    <tr>\n",
       "      <th>1</th>\n",
       "      <td>MT-CO1</td>\n",
       "      <td>ENST00000361624:c.924T&gt;C</td>\n",
       "      <td>TUMOR</td>\n",
       "      <td>308</td>\n",
       "      <td>p.A308=</td>\n",
       "      <td>Silent</td>\n",
       "      <td>2</td>\n",
       "      <td>1</td>\n",
       "    </tr>\n",
       "    <tr>\n",
       "      <th>2</th>\n",
       "      <td>MT-CO1</td>\n",
       "      <td>ENST00000361624:c.1439G&gt;A</td>\n",
       "      <td>TUMOR</td>\n",
       "      <td>480</td>\n",
       "      <td>p.R480Q</td>\n",
       "      <td>Missense_Mutation</td>\n",
       "      <td>2</td>\n",
       "      <td>1</td>\n",
       "    </tr>\n",
       "    <tr>\n",
       "      <th>3</th>\n",
       "      <td>MT-CO1</td>\n",
       "      <td>ENST00000361624:c.922G&gt;A</td>\n",
       "      <td>TUMOR</td>\n",
       "      <td>308</td>\n",
       "      <td>p.A308T</td>\n",
       "      <td>Missense_Mutation</td>\n",
       "      <td>8</td>\n",
       "      <td>1</td>\n",
       "    </tr>\n",
       "    <tr>\n",
       "      <th>4</th>\n",
       "      <td>MT-CO1</td>\n",
       "      <td>ENST00000361624:c.1477G&gt;A</td>\n",
       "      <td>TUMOR</td>\n",
       "      <td>493</td>\n",
       "      <td>p.E493K</td>\n",
       "      <td>Missense_Mutation</td>\n",
       "      <td>3</td>\n",
       "      <td>1</td>\n",
       "    </tr>\n",
       "  </tbody>\n",
       "</table>\n",
       "</div>"
      ],
      "text/plain": [
       "  Hugo_Symbol                     vcf_id Tumor_Sample_Barcode  pos  \\\n",
       "0      WASH4P  ENST00000326592:c.1235C>T                TUMOR  192   \n",
       "1      MT-CO1   ENST00000361624:c.924T>C                TUMOR  308   \n",
       "2      MT-CO1  ENST00000361624:c.1439G>A                TUMOR  480   \n",
       "3      MT-CO1   ENST00000361624:c.922G>A                TUMOR  308   \n",
       "4      MT-CO1  ENST00000361624:c.1477G>A                TUMOR  493   \n",
       "\n",
       "  HGVSp_Short Variant_Classification  count  NS  \n",
       "0     p.T192=                 Silent      2   1  \n",
       "1     p.A308=                 Silent      2   1  \n",
       "2     p.R480Q      Missense_Mutation      2   1  \n",
       "3     p.A308T      Missense_Mutation      8   1  \n",
       "4     p.E493K      Missense_Mutation      3   1  "
      ]
     },
     "execution_count": 39,
     "metadata": {},
     "output_type": "execute_result"
    }
   ],
   "source": [
    "# Load the MAF file as a DataFrame\n",
    "df = pd.read_csv(maf_path, sep='\\t', comment='#', low_memory=False)\n",
    "\n",
    "# Select the desired columns\n",
    "selected_columns = [\"Hugo_Symbol\", \"vcf_id\", \"Tumor_Sample_Barcode\", \"Protein_position\", \"HGVSp_Short\", \"Variant_Classification\", \"DP\", \"NS\"]\n",
    "df = df[selected_columns]\n",
    "df['Protein_position'] = df['Protein_position'].str.split('/').str[0].str.split('-').str[-1].astype(int)  # take the 2nd number in the dash\n",
    "df['DP'] = df['DP'].astype(int)\n",
    "df.rename(columns={\"DP\": \"count\", \"Protein_position\": \"pos\"}, inplace=True)\n",
    "\n",
    "# Display the first few rows\n",
    "df.head()"
   ]
  },
  {
   "cell_type": "markdown",
   "metadata": {},
   "source": [
    "### Sort genes"
   ]
  },
  {
   "cell_type": "code",
   "execution_count": 40,
   "metadata": {},
   "outputs": [
    {
     "name": "stdout",
     "output_type": "stream",
     "text": [
      "Gene: Number of Distinct Variants\n"
     ]
    },
    {
     "data": {
      "text/plain": [
       "{'MT-CO1': 21,\n",
       " 'MT-ATP6': 16,\n",
       " 'MT-ND2': 10,\n",
       " 'NOC2L': 2,\n",
       " 'WASH4P': 1,\n",
       " 'MT-ND1': 1,\n",
       " 'MT-ND6': 1}"
      ]
     },
     "execution_count": 40,
     "metadata": {},
     "output_type": "execute_result"
    }
   ],
   "source": [
    "# Sort genes in descending order\n",
    "if sorting_method == \"total_counts\":\n",
    "    # sort based on total counts\n",
    "    sorted_genes = df.groupby(\"Hugo_Symbol\")[\"count\"].sum().sort_values(ascending=False)\n",
    "    print(\"Gene: Counts\")\n",
    "elif sorting_method == \"number_of_distinct_variants\":\n",
    "    # sort based on number of distinct variants\n",
    "    sorted_genes = df[\"Hugo_Symbol\"].value_counts()\n",
    "    print(\"Gene: Number of Distinct Variants\")\n",
    "elif sorting_method == \"total_samples\":\n",
    "    # sort based on number of distinct samples\n",
    "    sorted_genes = df.groupby(\"Hugo_Symbol\")[\"NS\"].nunique().sort_values(ascending=False)\n",
    "    print(\"Gene: Number of Distinct Samples\")\n",
    "\n",
    "sorted_genes_dict = sorted_genes.to_dict()\n",
    "sorted_genes_dict"
   ]
  },
  {
   "cell_type": "markdown",
   "metadata": {},
   "source": [
    "### Loop through genes and create plots"
   ]
  },
  {
   "cell_type": "code",
   "execution_count": 41,
   "metadata": {},
   "outputs": [
    {
     "name": "stdout",
     "output_type": "stream",
     "text": [
      "Plot saved for MT-CO1 at /Users/joeyrich/Desktop/local/RLSRWP_2025/data/vk_count_out_fig1/analysis/lollipop_plots4/lollipop_plot_1_MT-CO1.pdf\n",
      "Plot saved for MT-ATP6 at /Users/joeyrich/Desktop/local/RLSRWP_2025/data/vk_count_out_fig1/analysis/lollipop_plots4/lollipop_plot_2_MT-ATP6.pdf\n",
      "Plot saved for MT-ND2 at /Users/joeyrich/Desktop/local/RLSRWP_2025/data/vk_count_out_fig1/analysis/lollipop_plots4/lollipop_plot_3_MT-ND2.pdf\n",
      "Plot saved for NOC2L at /Users/joeyrich/Desktop/local/RLSRWP_2025/data/vk_count_out_fig1/analysis/lollipop_plots4/lollipop_plot_4_NOC2L.pdf\n"
     ]
    },
    {
     "name": "stderr",
     "output_type": "stream",
     "text": [
      "R[write to console]: Error in maftools:::.getdomains(geneID = gene, refSeqID = refSeqID, proteinID = proteinID) : \n",
      "  Structure for protein WASH4P not found.\n",
      "\n"
     ]
    },
    {
     "name": "stdout",
     "output_type": "stream",
     "text": [
      "Error generating plot for WASH4P: Error in maftools:::.getdomains(geneID = gene, refSeqID = refSeqID, proteinID = proteinID) : \n",
      "  Structure for protein WASH4P not found.\n",
      "\n"
     ]
    }
   ],
   "source": [
    "os.makedirs(out_dir, exist_ok=True)\n",
    "\n",
    "number_of_genes = sys.maxsize if number_of_genes is True else number_of_genes\n",
    "show_mutations = sys.maxsize if show_mutations is True else show_mutations\n",
    "\n",
    "# Loop through each gene in sorted order\n",
    "for i, gene in enumerate(sorted_genes.index[:number_of_genes]):\n",
    "    # Create a temporary DataFrame for the current gene\n",
    "    temp_df = df[df['Hugo_Symbol'] == gene].copy()\n",
    "    temp_df = temp_df[temp_df['Variant_Classification'] != \"Silent\"]  # these aren't included in the plot anyways, and this way they won't get in the way of position selection\n",
    "    temp_df = temp_df.sort_values(by=\"count\", ascending=False)\n",
    "    \n",
    "    positions = temp_df['pos'].tolist()[:show_mutations] if show_mutations else None\n",
    "\n",
    "    plot_path = os.path.join(out_dir, f\"lollipop_plot_{i+1}_{gene}.pdf\")\n",
    "    \n",
    "    # Pass the data and gene to the R global environment\n",
    "    globalenv['gene'] = gene\n",
    "    globalenv['plot_path'] = plot_path\n",
    "    globalenv['positions'] = positions\n",
    "\n",
    "    # my_data = temp_df[['pos', 'count']]  # only if using non-MAF\n",
    "    # globalenv['my_data'] = my_data\n",
    "\n",
    "    # Execute the multi-line R code: open a PDF, plot, and close the PDF device\n",
    "    r_code = '''\n",
    "    pdf(plot_path)\n",
    "    lollipopPlot_custom(\n",
    "        maf = cosmic_maf,\n",
    "        gene = gene,\n",
    "        AACol = \"HGVSp_Short\",\n",
    "        showMutationRate = FALSE,\n",
    "        labelPos = positions,\n",
    "        displayed_counts = displayed_counts\n",
    "    )\n",
    "    dev.off()\n",
    "    '''\n",
    "    # r_code = '''\n",
    "    # pdf(plot_path)\n",
    "    # lollipopPlot(data = my_data, gene = gene)\n",
    "    # dev.off()\n",
    "    # '''\n",
    "    try:\n",
    "        r(r_code)\n",
    "        print(f\"Plot saved for {gene} at {plot_path}\")\n",
    "    except Exception as e:\n",
    "        print(f\"Error generating plot for {gene}: {e}\")\n",
    "        continue\n"
   ]
  },
  {
   "cell_type": "code",
   "execution_count": 15,
   "metadata": {},
   "outputs": [],
   "source": [
    "# %%R\n",
    "# my_data = data.frame(pos = sample.int(912, 15, replace = TRUE), count = sample.int(30, 15, replace = TRUE))\n",
    "# head(my_data)\n",
    "# # pdf(\"lollipop_plot.pdf\")\n",
    "# lollipopPlot(data = my_data, gene = \"DNMT3A\")\n",
    "# # dev.off()"
   ]
  }
 ],
 "metadata": {
  "kernelspec": {
   "display_name": "RLSRWP_2025",
   "language": "python",
   "name": "python3"
  },
  "language_info": {
   "codemirror_mode": {
    "name": "ipython",
    "version": 3
   },
   "file_extension": ".py",
   "mimetype": "text/x-python",
   "name": "python",
   "nbconvert_exporter": "python",
   "pygments_lexer": "ipython3",
   "version": "3.10.9"
  }
 },
 "nbformat": 4,
 "nbformat_minor": 2
}
