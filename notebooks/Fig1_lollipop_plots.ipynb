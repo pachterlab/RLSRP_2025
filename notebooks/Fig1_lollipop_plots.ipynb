{
 "cells": [
  {
   "cell_type": "markdown",
   "metadata": {},
   "source": [
    "# Lollipop plot analysis"
   ]
  },
  {
   "cell_type": "markdown",
   "metadata": {},
   "source": [
    "## Requires having run vcf2maf on the output of vk clean with a command like this:\n",
    "- perl vcf2maf.pl --input-vcf variants.vcf --output-maf variants.maf --ref-fasta /path/to/reference/ensembl_grch37_release93/Homo_sapiens.GRCh37.dna.primary_assembly.fa --cache-version 93 --species homo_sapiens --ncbi-build GRCh37 --retain-info DP,NS"
   ]
  },
  {
   "cell_type": "code",
   "execution_count": null,
   "metadata": {},
   "outputs": [],
   "source": [
    "# try:\n",
    "#     import varseek as vk\n",
    "# except ImportError:\n",
    "#     print(\"varseek not found, installing...\")\n",
    "#     !pip install -U -q varseek\n",
    "# try:\n",
    "#     import RLSRWP_2025\n",
    "# except ImportError:\n",
    "#     print(\"RLSRWP_2025 not found, installing...\")\n",
    "#     !pip install -q git+https://github.com/pachterlab/RLSRWP_2025.git"
   ]
  },
  {
   "cell_type": "code",
   "execution_count": null,
   "metadata": {},
   "outputs": [],
   "source": [
    "import os\n",
    "from rpy2.robjects import pandas2ri, r, globalenv\n",
    "import pandas as pd\n",
    "from varseek.utils import download_box_url  # for functions used in both varseek and here\n",
    "# from RLSRWP_2025 import ...  # for functions only used here\n",
    "\n",
    "RLSRWP_2025_dir = os.path.dirname(os.path.abspath(\"\"))  # if this notebook resides in RLSRWP_2025/notebooks/0_data_download.ipynb, then this retrieves RLSRWP_2025"
   ]
  },
  {
   "cell_type": "markdown",
   "metadata": {},
   "source": [
    "### File path definitions and imports"
   ]
  },
  {
   "cell_type": "code",
   "execution_count": null,
   "metadata": {},
   "outputs": [],
   "source": [
    "number_of_genes = 5\n",
    "sorting_method = \"number_of_distinct_variants\"  # \"total_counts\" or \"number_of_distinct_variants\"\n",
    "\n",
    "vk_count_out_dir = os.path.join(RLSRWP_2025_dir, \"data\", \"vk_count_out_fig1\")\n",
    "# maf_path = os.path.join(vk_count_out_dir, \"variants.maf\")  #!!! uncomment\n",
    "maf_path = \"/Users/joeyrich/Desktop/local/varseek/variants.maf\"  #!!! erase\n",
    "\n",
    "out_dir = os.path.join(vk_count_out_dir, \"analysis\", \"lollipop_plots\")"
   ]
  },
  {
   "cell_type": "code",
   "execution_count": null,
   "metadata": {},
   "outputs": [],
   "source": [
    "if not os.path.exists(maf_path):\n",
    "    maf_url = \"\"  #!!!\n",
    "    download_box_url(maf_url, output_file_name=maf_path)"
   ]
  },
  {
   "cell_type": "code",
   "execution_count": 7,
   "metadata": {},
   "outputs": [],
   "source": [
    "%load_ext rpy2.ipython"
   ]
  },
  {
   "cell_type": "code",
   "execution_count": 8,
   "metadata": {},
   "outputs": [],
   "source": [
    "# Activate the automatic conversion between pandas and R objects\n",
    "pandas2ri.activate()"
   ]
  },
  {
   "cell_type": "code",
   "execution_count": 9,
   "metadata": {},
   "outputs": [],
   "source": [
    "%%R\n",
    "library(maftools)"
   ]
  },
  {
   "cell_type": "code",
   "execution_count": 10,
   "metadata": {},
   "outputs": [],
   "source": [
    "# %%R -i maf_path\n",
    "# cosmic_maf = read.maf(maf = maf_path)\n",
    "\n",
    "# lollipopPlot(\n",
    "#   maf = cosmic_maf,\n",
    "#   gene = 'MT-CO1',\n",
    "#   AACol = \"HGVSp_Short\",\n",
    "#   showMutationRate = TRUE,\n",
    "#   # labelPos = c(687, 678),\n",
    "# )"
   ]
  },
  {
   "cell_type": "markdown",
   "metadata": {},
   "source": [
    "### Load in data"
   ]
  },
  {
   "cell_type": "code",
   "execution_count": 13,
   "metadata": {},
   "outputs": [
    {
     "data": {
      "application/vnd.microsoft.datawrangler.viewer.v0+json": {
       "columns": [
        {
         "name": "index",
         "rawType": "int64",
         "type": "integer"
        },
        {
         "name": "Hugo_Symbol",
         "rawType": "object",
         "type": "string"
        },
        {
         "name": "vcf_id",
         "rawType": "object",
         "type": "string"
        },
        {
         "name": "pos",
         "rawType": "int64",
         "type": "integer"
        },
        {
         "name": "Variant_Classification",
         "rawType": "object",
         "type": "string"
        },
        {
         "name": "count",
         "rawType": "int64",
         "type": "integer"
        },
        {
         "name": "NS",
         "rawType": "int64",
         "type": "integer"
        }
       ],
       "conversionMethod": "pd.DataFrame",
       "ref": "ae82e8a1-afb9-48f0-9914-3a89fb9c5111",
       "rows": [
        [
         "0",
         "WASH4P",
         "ENST00000326592:c.1235C>T",
         "192",
         "Silent",
         "2",
         "1"
        ],
        [
         "1",
         "MT-CO1",
         "ENST00000361624:c.924T>C",
         "308",
         "Silent",
         "2",
         "1"
        ],
        [
         "2",
         "MT-CO1",
         "ENST00000361624:c.1439G>A",
         "480",
         "Missense_Mutation",
         "2",
         "1"
        ],
        [
         "3",
         "MT-CO1",
         "ENST00000361624:c.922G>A",
         "308",
         "Missense_Mutation",
         "8",
         "1"
        ],
        [
         "4",
         "MT-CO1",
         "ENST00000361624:c.1477G>A",
         "493",
         "Missense_Mutation",
         "3",
         "1"
        ]
       ],
       "shape": {
        "columns": 6,
        "rows": 5
       }
      },
      "text/html": [
       "<div>\n",
       "<style scoped>\n",
       "    .dataframe tbody tr th:only-of-type {\n",
       "        vertical-align: middle;\n",
       "    }\n",
       "\n",
       "    .dataframe tbody tr th {\n",
       "        vertical-align: top;\n",
       "    }\n",
       "\n",
       "    .dataframe thead th {\n",
       "        text-align: right;\n",
       "    }\n",
       "</style>\n",
       "<table border=\"1\" class=\"dataframe\">\n",
       "  <thead>\n",
       "    <tr style=\"text-align: right;\">\n",
       "      <th></th>\n",
       "      <th>Hugo_Symbol</th>\n",
       "      <th>vcf_id</th>\n",
       "      <th>pos</th>\n",
       "      <th>Variant_Classification</th>\n",
       "      <th>count</th>\n",
       "      <th>NS</th>\n",
       "    </tr>\n",
       "  </thead>\n",
       "  <tbody>\n",
       "    <tr>\n",
       "      <th>0</th>\n",
       "      <td>WASH4P</td>\n",
       "      <td>ENST00000326592:c.1235C&gt;T</td>\n",
       "      <td>192</td>\n",
       "      <td>Silent</td>\n",
       "      <td>2</td>\n",
       "      <td>1</td>\n",
       "    </tr>\n",
       "    <tr>\n",
       "      <th>1</th>\n",
       "      <td>MT-CO1</td>\n",
       "      <td>ENST00000361624:c.924T&gt;C</td>\n",
       "      <td>308</td>\n",
       "      <td>Silent</td>\n",
       "      <td>2</td>\n",
       "      <td>1</td>\n",
       "    </tr>\n",
       "    <tr>\n",
       "      <th>2</th>\n",
       "      <td>MT-CO1</td>\n",
       "      <td>ENST00000361624:c.1439G&gt;A</td>\n",
       "      <td>480</td>\n",
       "      <td>Missense_Mutation</td>\n",
       "      <td>2</td>\n",
       "      <td>1</td>\n",
       "    </tr>\n",
       "    <tr>\n",
       "      <th>3</th>\n",
       "      <td>MT-CO1</td>\n",
       "      <td>ENST00000361624:c.922G&gt;A</td>\n",
       "      <td>308</td>\n",
       "      <td>Missense_Mutation</td>\n",
       "      <td>8</td>\n",
       "      <td>1</td>\n",
       "    </tr>\n",
       "    <tr>\n",
       "      <th>4</th>\n",
       "      <td>MT-CO1</td>\n",
       "      <td>ENST00000361624:c.1477G&gt;A</td>\n",
       "      <td>493</td>\n",
       "      <td>Missense_Mutation</td>\n",
       "      <td>3</td>\n",
       "      <td>1</td>\n",
       "    </tr>\n",
       "  </tbody>\n",
       "</table>\n",
       "</div>"
      ],
      "text/plain": [
       "  Hugo_Symbol                     vcf_id  pos Variant_Classification  count  \\\n",
       "0      WASH4P  ENST00000326592:c.1235C>T  192                 Silent      2   \n",
       "1      MT-CO1   ENST00000361624:c.924T>C  308                 Silent      2   \n",
       "2      MT-CO1  ENST00000361624:c.1439G>A  480      Missense_Mutation      2   \n",
       "3      MT-CO1   ENST00000361624:c.922G>A  308      Missense_Mutation      8   \n",
       "4      MT-CO1  ENST00000361624:c.1477G>A  493      Missense_Mutation      3   \n",
       "\n",
       "   NS  \n",
       "0   1  \n",
       "1   1  \n",
       "2   1  \n",
       "3   1  \n",
       "4   1  "
      ]
     },
     "execution_count": 13,
     "metadata": {},
     "output_type": "execute_result"
    }
   ],
   "source": [
    "# Load the MAF file as a DataFrame\n",
    "df = pd.read_csv(maf_path, sep='\\t', comment='#', low_memory=False)\n",
    "\n",
    "# Select the desired columns\n",
    "selected_columns = [\"Hugo_Symbol\", \"vcf_id\", \"Protein_position\", \"Variant_Classification\", \"DP\", \"NS\"]\n",
    "df = df[selected_columns]\n",
    "df['Protein_position'] = df['Protein_position'].str.split('/').str[0].str.split('-').str[0].astype(int)\n",
    "df['DP'] = df['DP'].astype(int)\n",
    "df.rename(columns={\"DP\": \"count\", \"Protein_position\": \"pos\"}, inplace=True)\n",
    "\n",
    "# Display the first few rows\n",
    "df.head()"
   ]
  },
  {
   "cell_type": "code",
   "execution_count": 30,
   "metadata": {},
   "outputs": [
    {
     "name": "stdout",
     "output_type": "stream",
     "text": [
      "Gene: Number of Distinct Variants\n"
     ]
    },
    {
     "data": {
      "text/plain": [
       "{'MT-CO1': 19,\n",
       " 'MT-ATP6': 16,\n",
       " 'MT-ND2': 10,\n",
       " 'NOC2L': 2,\n",
       " 'WASH4P': 1,\n",
       " 'MT-ND1': 1,\n",
       " 'MT-ND6': 1}"
      ]
     },
     "execution_count": 30,
     "metadata": {},
     "output_type": "execute_result"
    }
   ],
   "source": [
    "# Sort genes in descending order\n",
    "if sorting_method == \"total_counts\":\n",
    "    # sort based on total counts\n",
    "    sorted_genes = df.groupby(\"Hugo_Symbol\")[\"count\"].sum().sort_values(ascending=False)\n",
    "    print(\"Gene: Counts\")\n",
    "elif sorting_method == \"number_of_distinct_variants\":\n",
    "    # sort based on number of distinct variants\n",
    "    sorted_genes = df[\"Hugo_Symbol\"].value_counts()\n",
    "    print(\"Gene: Number of Distinct Variants\")\n",
    "\n",
    "sorted_genes_dict = sorted_genes.to_dict()\n",
    "sorted_genes_dict"
   ]
  },
  {
   "cell_type": "code",
   "execution_count": null,
   "metadata": {},
   "outputs": [],
   "source": [
    "os.makedirs(out_dir, exist_ok=True)\n",
    "\n",
    "# Loop through each gene in sorted order\n",
    "for i, gene in enumerate(sorted_genes.index[:number_of_genes]):\n",
    "    # Create a temporary DataFrame for the current gene\n",
    "    temp = df[df['Hugo_Symbol'] == gene].copy()\n",
    "    \n",
    "    # Select only pos and count columns\n",
    "    my_data = temp[['pos', 'count']]\n",
    "\n",
    "    plot_path = os.path.join(out_dir, f\"lollipop_plot_{i+1}_{gene}.pdf\")\n",
    "    \n",
    "    # Pass the data and gene to the R global environment\n",
    "    globalenv['my_data'] = my_data\n",
    "    globalenv['gene'] = gene\n",
    "    globalenv['plot_path'] = plot_path\n",
    "\n",
    "    # Execute the multi-line R code: open a PDF, plot, and close the PDF device\n",
    "    r_code = '''\n",
    "    pdf(plot_path)\n",
    "    lollipopPlot(data = my_data, gene = gene)\n",
    "    dev.off()\n",
    "    '''\n",
    "    try:\n",
    "        r(r_code)\n",
    "    except Exception as e:\n",
    "        print(f\"Error generating plot for {gene}: {e}\")\n",
    "        continue\n",
    "    print(f\"Plot saved for {gene} at {plot_path}\")\n"
   ]
  },
  {
   "cell_type": "code",
   "execution_count": null,
   "metadata": {},
   "outputs": [
    {
     "name": "stdout",
     "output_type": "stream",
     "text": [
      "     HGNC refseq.ID protein.ID aa.length\n",
      "1: DNMT3A NM_022552  NP_072046       912\n",
      "2: DNMT3A NM_153759  NP_715640       723\n",
      "3: DNMT3A NM_175629  NP_783328       912\n"
     ]
    },
    {
     "data": {
      "text/plain": [
       "3 transcripts available. Use arguments refSeqID or proteinID to manually specify tx name.\n",
       "Using longer transcript NM_022552 for now.\n"
      ]
     },
     "metadata": {},
     "output_type": "display_data"
    },
    {
     "data": {
      "image/png": "[encoded data removed]",
      "text/plain": [
       "<IPython.core.display.Image object>"
      ]
     },
     "metadata": {},
     "output_type": "display_data"
    }
   ],
   "source": [
    "# %%R\n",
    "# my_data = data.frame(pos = sample.int(912, 15, replace = TRUE), count = sample.int(30, 15, replace = TRUE))\n",
    "# head(my_data)\n",
    "# # pdf(\"lollipop_plot.pdf\")\n",
    "# lollipopPlot(data = my_data, gene = \"DNMT3A\")\n",
    "# # dev.off()"
   ]
  }
 ],
 "metadata": {
  "kernelspec": {
   "display_name": "RLSRWP_2025",
   "language": "python",
   "name": "python3"
  },
  "language_info": {
   "codemirror_mode": {
    "name": "ipython",
    "version": 3
   },
   "file_extension": ".py",
   "mimetype": "text/x-python",
   "name": "python",
   "nbconvert_exporter": "python",
   "pygments_lexer": "ipython3",
   "version": "3.10.9"
  }
 },
 "nbformat": 4,
 "nbformat_minor": 2
}
